{
 "metadata": {
  "name": "",
  "signature": "sha256:40994f27859501dcdf1ef278833f4ffa6562830f542b3b31b928f234b9137d6c"
 },
 "nbformat": 3,
 "nbformat_minor": 0,
 "worksheets": [
  {
   "cells": [
    {
     "cell_type": "code",
     "collapsed": false,
     "input": [
      "import pandas as pd\n",
      "import sklearn\n",
      "from sklearn.cross_validation import train_test_split\n",
      "from sklearn.linear_model import LogisticRegression\n",
      "from sklearn import feature_extraction\n",
      "import numpy as np\n",
      "from matplotlib import pyplot\n",
      "from sklearn.metrics import roc_curve, precision_recall_curve, precision_recall_fscore_support, mean_squared_error\n",
      "from sklearn.ensemble import ExtraTreesClassifier\n",
      "%matplotlib inline\n",
      "from matplotlib import rcParams\n",
      "rcParams['figure.figsize'] = (10, 6)\n",
      "rcParams['figure.dpi'] = 150"
     ],
     "language": "python",
     "metadata": {},
     "outputs": [],
     "prompt_number": 66
    },
    {
     "cell_type": "code",
     "collapsed": false,
     "input": [
      "'''\n",
      "Load all the CSV files into data frames\n",
      "'''\n",
      "next_records = pd.read_csv('next_records.csv')\n",
      "# print next_records.columns\n",
      "matched = pd.read_csv('matched.csv')\n",
      "# print matched.columns\n",
      "yelp = pd.read_csv('yelp.csv')\n",
      "# print yelp.head(5)\n",
      "categories = pd.read_csv('categories.csv')"
     ],
     "language": "python",
     "metadata": {},
     "outputs": [],
     "prompt_number": 67
    },
    {
     "cell_type": "code",
     "collapsed": false,
     "input": [
      "'''\n",
      "Working on the next_records dataframe: use the matched dataframe to convert four square ids to yelp ids\n",
      "'''\n",
      "#first, create lookup_four_square_id dictionary to convert four square ids to yelp ids\n",
      "lookup_four_square_id = {}\n",
      "for index, row in matched.iterrows():\n",
      "    yelp_id, four_square_id = row['id'], row['four_square_id']\n",
      "    lookup_four_square_id[four_square_id] = yelp_id\n",
      "\n",
      "def do_lookup_four_square_id(four_square_id):\n",
      "    return lookup_four_square_id.get(four_square_id, np.NaN)"
     ],
     "language": "python",
     "metadata": {},
     "outputs": [],
     "prompt_number": 68
    },
    {
     "cell_type": "code",
     "collapsed": false,
     "input": [
      "next_records['from_yelp_id'] = next_records.from_id.apply(do_lookup_four_square_id)\n",
      "next_records['to_yelp_id'] = next_records.to_id.apply(do_lookup_four_square_id)\n",
      "#only keep columns we need\n",
      "next_records_yelp = next_records[['from_yelp_id','to_yelp_id']]"
     ],
     "language": "python",
     "metadata": {},
     "outputs": [],
     "prompt_number": 69
    },
    {
     "cell_type": "code",
     "collapsed": false,
     "input": [
      "#dropping missing values, dups\n",
      "next_records_yelp = next_records_yelp.dropna()\n",
      "next_records_yelp = next_records_yelp.drop_duplicates()"
     ],
     "language": "python",
     "metadata": {},
     "outputs": [],
     "prompt_number": 70
    },
    {
     "cell_type": "code",
     "collapsed": false,
     "input": [
      "next_records_yelp['match'] = 1"
     ],
     "language": "python",
     "metadata": {},
     "outputs": [],
     "prompt_number": 71
    },
    {
     "cell_type": "code",
     "collapsed": false,
     "input": [
      "#create unmatched dataframe by randomly sampling among places that were not matched\n",
      "min_dist = 0.036\n",
      "\n",
      "unmatched_entries = []\n",
      "for i,from_yelp_id in enumerate(next_records_yelp.from_yelp_id):\n",
      "    matched = next_records_yelp[next_records_yelp.from_yelp_id == from_yelp_id].to_yelp_id \n",
      "    unmatched = yelp[~yelp.id.isin(matched)]\n",
      "    origin_record = yelp[yelp.id==from_yelp_id]\n",
      "    origin_lat,origin_long = float(origin_record.latitude), float(origin_record.longitude)\n",
      "    distance = np.sqrt((unmatched.latitude - origin_lat)**2 + (unmatched.longitude - origin_long)**2)\n",
      "    unmatched = unmatched[distance < min_dist]\n",
      "    unmatched_choice = np.random.choice(unmatched.id)\n",
      "    unmatched_entries.append((from_yelp_id, unmatched_choice, 0))\n",
      "    if i % 250 == 0:\n",
      "        print i\n",
      "print len(unmatched_entries)"
     ],
     "language": "python",
     "metadata": {},
     "outputs": [
      {
       "output_type": "stream",
       "stream": "stdout",
       "text": [
        "0\n",
        "250"
       ]
      },
      {
       "output_type": "stream",
       "stream": "stdout",
       "text": [
        "\n",
        "500"
       ]
      },
      {
       "output_type": "stream",
       "stream": "stdout",
       "text": [
        "\n",
        "750"
       ]
      },
      {
       "output_type": "stream",
       "stream": "stdout",
       "text": [
        "\n",
        "1000"
       ]
      },
      {
       "output_type": "stream",
       "stream": "stdout",
       "text": [
        "\n",
        "1250"
       ]
      },
      {
       "output_type": "stream",
       "stream": "stdout",
       "text": [
        "\n",
        "1500"
       ]
      },
      {
       "output_type": "stream",
       "stream": "stdout",
       "text": [
        "\n",
        "1750"
       ]
      },
      {
       "output_type": "stream",
       "stream": "stdout",
       "text": [
        "\n",
        "2000"
       ]
      },
      {
       "output_type": "stream",
       "stream": "stdout",
       "text": [
        "\n",
        "2250"
       ]
      },
      {
       "output_type": "stream",
       "stream": "stdout",
       "text": [
        "\n",
        "2500"
       ]
      },
      {
       "output_type": "stream",
       "stream": "stdout",
       "text": [
        "\n",
        "2750"
       ]
      },
      {
       "output_type": "stream",
       "stream": "stdout",
       "text": [
        "\n",
        "3000"
       ]
      },
      {
       "output_type": "stream",
       "stream": "stdout",
       "text": [
        "\n",
        "3250"
       ]
      },
      {
       "output_type": "stream",
       "stream": "stdout",
       "text": [
        "\n",
        "3500"
       ]
      },
      {
       "output_type": "stream",
       "stream": "stdout",
       "text": [
        "\n",
        "3750"
       ]
      },
      {
       "output_type": "stream",
       "stream": "stdout",
       "text": [
        "\n",
        "4000"
       ]
      },
      {
       "output_type": "stream",
       "stream": "stdout",
       "text": [
        "\n",
        "4250"
       ]
      },
      {
       "output_type": "stream",
       "stream": "stdout",
       "text": [
        "\n",
        "4500"
       ]
      },
      {
       "output_type": "stream",
       "stream": "stdout",
       "text": [
        "\n",
        "4750"
       ]
      },
      {
       "output_type": "stream",
       "stream": "stdout",
       "text": [
        "\n",
        "5000"
       ]
      },
      {
       "output_type": "stream",
       "stream": "stdout",
       "text": [
        "\n",
        "5250"
       ]
      },
      {
       "output_type": "stream",
       "stream": "stdout",
       "text": [
        "\n",
        "5500"
       ]
      },
      {
       "output_type": "stream",
       "stream": "stdout",
       "text": [
        "\n",
        "5750"
       ]
      },
      {
       "output_type": "stream",
       "stream": "stdout",
       "text": [
        "\n",
        "6000"
       ]
      },
      {
       "output_type": "stream",
       "stream": "stdout",
       "text": [
        "\n",
        "6250"
       ]
      },
      {
       "output_type": "stream",
       "stream": "stdout",
       "text": [
        "\n",
        "6500"
       ]
      },
      {
       "output_type": "stream",
       "stream": "stdout",
       "text": [
        "\n",
        "6750"
       ]
      },
      {
       "output_type": "stream",
       "stream": "stdout",
       "text": [
        "\n",
        "7000"
       ]
      },
      {
       "output_type": "stream",
       "stream": "stdout",
       "text": [
        "\n",
        "7250"
       ]
      },
      {
       "output_type": "stream",
       "stream": "stdout",
       "text": [
        "\n",
        "7500"
       ]
      },
      {
       "output_type": "stream",
       "stream": "stdout",
       "text": [
        "\n",
        "7750"
       ]
      },
      {
       "output_type": "stream",
       "stream": "stdout",
       "text": [
        "\n",
        "8000"
       ]
      },
      {
       "output_type": "stream",
       "stream": "stdout",
       "text": [
        "\n",
        "8250"
       ]
      },
      {
       "output_type": "stream",
       "stream": "stdout",
       "text": [
        "\n",
        "8500"
       ]
      },
      {
       "output_type": "stream",
       "stream": "stdout",
       "text": [
        "\n",
        "8750"
       ]
      },
      {
       "output_type": "stream",
       "stream": "stdout",
       "text": [
        "\n",
        "9000"
       ]
      },
      {
       "output_type": "stream",
       "stream": "stdout",
       "text": [
        "\n",
        "9250"
       ]
      },
      {
       "output_type": "stream",
       "stream": "stdout",
       "text": [
        "\n",
        "9500"
       ]
      },
      {
       "output_type": "stream",
       "stream": "stdout",
       "text": [
        "\n",
        "9750"
       ]
      },
      {
       "output_type": "stream",
       "stream": "stdout",
       "text": [
        "\n",
        "10000"
       ]
      },
      {
       "output_type": "stream",
       "stream": "stdout",
       "text": [
        "\n",
        "10250"
       ]
      },
      {
       "output_type": "stream",
       "stream": "stdout",
       "text": [
        "\n",
        "10500"
       ]
      },
      {
       "output_type": "stream",
       "stream": "stdout",
       "text": [
        "\n",
        "10750"
       ]
      },
      {
       "output_type": "stream",
       "stream": "stdout",
       "text": [
        "\n",
        "11000"
       ]
      },
      {
       "output_type": "stream",
       "stream": "stdout",
       "text": [
        "\n",
        "11250"
       ]
      },
      {
       "output_type": "stream",
       "stream": "stdout",
       "text": [
        "\n",
        "11500"
       ]
      },
      {
       "output_type": "stream",
       "stream": "stdout",
       "text": [
        "\n",
        "11750"
       ]
      },
      {
       "output_type": "stream",
       "stream": "stdout",
       "text": [
        "\n",
        "12000"
       ]
      },
      {
       "output_type": "stream",
       "stream": "stdout",
       "text": [
        "\n",
        "12250"
       ]
      },
      {
       "output_type": "stream",
       "stream": "stdout",
       "text": [
        "\n",
        "12500"
       ]
      },
      {
       "output_type": "stream",
       "stream": "stdout",
       "text": [
        "\n",
        "12750"
       ]
      },
      {
       "output_type": "stream",
       "stream": "stdout",
       "text": [
        "\n",
        "13000"
       ]
      },
      {
       "output_type": "stream",
       "stream": "stdout",
       "text": [
        "\n",
        "13250"
       ]
      },
      {
       "output_type": "stream",
       "stream": "stdout",
       "text": [
        "\n",
        "13500"
       ]
      },
      {
       "output_type": "stream",
       "stream": "stdout",
       "text": [
        "\n",
        "13750"
       ]
      },
      {
       "output_type": "stream",
       "stream": "stdout",
       "text": [
        "\n",
        "14000"
       ]
      },
      {
       "output_type": "stream",
       "stream": "stdout",
       "text": [
        "\n",
        "14250"
       ]
      },
      {
       "output_type": "stream",
       "stream": "stdout",
       "text": [
        "\n",
        "14500"
       ]
      },
      {
       "output_type": "stream",
       "stream": "stdout",
       "text": [
        "\n",
        "14750"
       ]
      },
      {
       "output_type": "stream",
       "stream": "stdout",
       "text": [
        "\n",
        "15000"
       ]
      },
      {
       "output_type": "stream",
       "stream": "stdout",
       "text": [
        "\n",
        "15250"
       ]
      },
      {
       "output_type": "stream",
       "stream": "stdout",
       "text": [
        "\n",
        "15500"
       ]
      },
      {
       "output_type": "stream",
       "stream": "stdout",
       "text": [
        "\n",
        "15750"
       ]
      },
      {
       "output_type": "stream",
       "stream": "stdout",
       "text": [
        "\n",
        "16000"
       ]
      },
      {
       "output_type": "stream",
       "stream": "stdout",
       "text": [
        "\n",
        "16250"
       ]
      },
      {
       "output_type": "stream",
       "stream": "stdout",
       "text": [
        "\n",
        "16500"
       ]
      },
      {
       "output_type": "stream",
       "stream": "stdout",
       "text": [
        "\n",
        "16750"
       ]
      },
      {
       "output_type": "stream",
       "stream": "stdout",
       "text": [
        "\n",
        "17000"
       ]
      },
      {
       "output_type": "stream",
       "stream": "stdout",
       "text": [
        "\n",
        "17250"
       ]
      },
      {
       "output_type": "stream",
       "stream": "stdout",
       "text": [
        "\n",
        "17500"
       ]
      },
      {
       "output_type": "stream",
       "stream": "stdout",
       "text": [
        "\n",
        "17750"
       ]
      },
      {
       "output_type": "stream",
       "stream": "stdout",
       "text": [
        "\n",
        "18000"
       ]
      },
      {
       "output_type": "stream",
       "stream": "stdout",
       "text": [
        "\n",
        "18250"
       ]
      },
      {
       "output_type": "stream",
       "stream": "stdout",
       "text": [
        "\n",
        "18500"
       ]
      },
      {
       "output_type": "stream",
       "stream": "stdout",
       "text": [
        "\n",
        "18750"
       ]
      },
      {
       "output_type": "stream",
       "stream": "stdout",
       "text": [
        "\n",
        "19000"
       ]
      },
      {
       "output_type": "stream",
       "stream": "stdout",
       "text": [
        "\n",
        "19250"
       ]
      },
      {
       "output_type": "stream",
       "stream": "stdout",
       "text": [
        "\n",
        "19500"
       ]
      },
      {
       "output_type": "stream",
       "stream": "stdout",
       "text": [
        "\n",
        "19750"
       ]
      },
      {
       "output_type": "stream",
       "stream": "stdout",
       "text": [
        "\n",
        "20000"
       ]
      },
      {
       "output_type": "stream",
       "stream": "stdout",
       "text": [
        "\n",
        "20250"
       ]
      },
      {
       "output_type": "stream",
       "stream": "stdout",
       "text": [
        "\n",
        "20500"
       ]
      },
      {
       "output_type": "stream",
       "stream": "stdout",
       "text": [
        "\n",
        "20750"
       ]
      },
      {
       "output_type": "stream",
       "stream": "stdout",
       "text": [
        "\n",
        "21000"
       ]
      },
      {
       "output_type": "stream",
       "stream": "stdout",
       "text": [
        "\n",
        "21250"
       ]
      },
      {
       "output_type": "stream",
       "stream": "stdout",
       "text": [
        "\n",
        "21500"
       ]
      },
      {
       "output_type": "stream",
       "stream": "stdout",
       "text": [
        "\n",
        "21750"
       ]
      },
      {
       "output_type": "stream",
       "stream": "stdout",
       "text": [
        "\n",
        "22000"
       ]
      },
      {
       "output_type": "stream",
       "stream": "stdout",
       "text": [
        "\n",
        "22250"
       ]
      },
      {
       "output_type": "stream",
       "stream": "stdout",
       "text": [
        "\n",
        "22500"
       ]
      },
      {
       "output_type": "stream",
       "stream": "stdout",
       "text": [
        "\n",
        "22750"
       ]
      },
      {
       "output_type": "stream",
       "stream": "stdout",
       "text": [
        "\n",
        "23000"
       ]
      },
      {
       "output_type": "stream",
       "stream": "stdout",
       "text": [
        "\n",
        "23250"
       ]
      },
      {
       "output_type": "stream",
       "stream": "stdout",
       "text": [
        "\n",
        "23415"
       ]
      },
      {
       "output_type": "stream",
       "stream": "stdout",
       "text": [
        "\n"
       ]
      }
     ],
     "prompt_number": 7
    },
    {
     "cell_type": "code",
     "collapsed": false,
     "input": [
      "df_unmatched = pd.DataFrame.from_records(unmatched_entries, columns =['from_yelp_id','to_yelp_id','match'])"
     ],
     "language": "python",
     "metadata": {},
     "outputs": [],
     "prompt_number": 8
    },
    {
     "cell_type": "code",
     "collapsed": false,
     "input": [
      "next_records_yelp = next_records_yelp.append(df_unmatched, ignore_index = True)\n",
      "print next_records_yelp.shape"
     ],
     "language": "python",
     "metadata": {},
     "outputs": [
      {
       "output_type": "stream",
       "stream": "stdout",
       "text": [
        "(46830, 3)\n"
       ]
      }
     ],
     "prompt_number": 9
    },
    {
     "cell_type": "code",
     "collapsed": false,
     "input": [
      "#merging with yelp table to look up 'from' information\n",
      "next_records_yelp = next_records_yelp.merge(yelp[['id','rating','review_count','latitude','longitude']], left_on='from_yelp_id', right_on = 'id')\n",
      "next_records_yelp.rename(columns={'rating': 'from_rating', 'review_count': 'from_review_count', 'latitude': 'from_latitude', 'longitude': 'from_longitude'}, inplace=True)\n",
      "next_records_yelp = next_records_yelp.drop('id',1)"
     ],
     "language": "python",
     "metadata": {},
     "outputs": [],
     "prompt_number": 72
    },
    {
     "cell_type": "code",
     "collapsed": false,
     "input": [
      "#merging with yelp table to look up 'to' information\n",
      "next_records_yelp = next_records_yelp.merge(yelp[['id','rating','review_count','latitude','longitude']], left_on='to_yelp_id', right_on = 'id')\n",
      "next_records_yelp.rename(columns={'rating': 'to_rating', 'review_count': 'to_review_count', 'latitude': 'to_latitude', 'longitude': 'to_longitude'}, inplace=True)\n",
      "next_records_yelp = next_records_yelp.drop('id',1)"
     ],
     "language": "python",
     "metadata": {},
     "outputs": [],
     "prompt_number": 73
    },
    {
     "cell_type": "code",
     "collapsed": false,
     "input": [
      "next_records_yelp.to_pickle('for_visualization.pickle')"
     ],
     "language": "python",
     "metadata": {},
     "outputs": [],
     "prompt_number": 75
    },
    {
     "cell_type": "code",
     "collapsed": false,
     "input": [
      "#compute distance and drop latitude / longitude\n",
      "df = next_records_yelp\n",
      "df['distance'] = np.sqrt((df.from_latitude - df.to_latitude)**2 + (df.from_longitude - df.to_longitude)**2)\n",
      "df = df.drop(['from_latitude','to_latitude','from_longitude','to_longitude'],1)"
     ],
     "language": "python",
     "metadata": {},
     "outputs": [],
     "prompt_number": 12
    },
    {
     "cell_type": "code",
     "collapsed": false,
     "input": [
      "'''Trying log transform'''\n",
      "distances = df[df.match == 1].distance\n",
      "stuff = pyplot.hist(np.log10(distances+1e-8), bins = 200)\n",
      "other_distances = np.array(df[df.match == 0].distance)\n",
      "stuff = pyplot.hist(np.log10(other_distances+1e-8), bins = 200, color='r')"
     ],
     "language": "python",
     "metadata": {},
     "outputs": [
      {
       "metadata": {},
       "output_type": "display_data",
       "png": "[encoded data removed]",
       "text": [
        "<matplotlib.figure.Figure at 0x11f442d50>"
       ]
      }
     ],
     "prompt_number": 428
    },
    {
     "cell_type": "code",
     "collapsed": false,
     "input": [
      "df.head(5)"
     ],
     "language": "python",
     "metadata": {},
     "outputs": [
      {
       "html": [
        "<div style=\"max-height:1000px;max-width:1500px;overflow:auto;\">\n",
        "<table border=\"1\" class=\"dataframe\">\n",
        "  <thead>\n",
        "    <tr style=\"text-align: right;\">\n",
        "      <th></th>\n",
        "      <th>from_yelp_id</th>\n",
        "      <th>to_yelp_id</th>\n",
        "      <th>match</th>\n",
        "      <th>from_rating</th>\n",
        "      <th>from_review_count</th>\n",
        "      <th>to_rating</th>\n",
        "      <th>to_review_count</th>\n",
        "      <th>distance</th>\n",
        "    </tr>\n",
        "  </thead>\n",
        "  <tbody>\n",
        "    <tr>\n",
        "      <th>0</th>\n",
        "      <td>  starbucks-menlo-park-8</td>\n",
        "      <td> walgreens-menlo-park-2</td>\n",
        "      <td> 1</td>\n",
        "      <td> 3.0</td>\n",
        "      <td> 21</td>\n",
        "      <td> 2.5</td>\n",
        "      <td> 31</td>\n",
        "      <td> 0.003528</td>\n",
        "    </tr>\n",
        "    <tr>\n",
        "      <th>1</th>\n",
        "      <td>      una-mas-menlo-park</td>\n",
        "      <td> walgreens-menlo-park-2</td>\n",
        "      <td> 1</td>\n",
        "      <td> 2.5</td>\n",
        "      <td> 42</td>\n",
        "      <td> 2.5</td>\n",
        "      <td> 31</td>\n",
        "      <td> 0.000089</td>\n",
        "    </tr>\n",
        "    <tr>\n",
        "      <th>2</th>\n",
        "      <td> le-boulanger-menlo-park</td>\n",
        "      <td> walgreens-menlo-park-2</td>\n",
        "      <td> 1</td>\n",
        "      <td> 3.0</td>\n",
        "      <td> 81</td>\n",
        "      <td> 2.5</td>\n",
        "      <td> 31</td>\n",
        "      <td> 0.001220</td>\n",
        "    </tr>\n",
        "    <tr>\n",
        "      <th>3</th>\n",
        "      <td> tokyo-subway-menlo-park</td>\n",
        "      <td> walgreens-menlo-park-2</td>\n",
        "      <td> 1</td>\n",
        "      <td> 3.0</td>\n",
        "      <td> 86</td>\n",
        "      <td> 2.5</td>\n",
        "      <td> 31</td>\n",
        "      <td> 0.001114</td>\n",
        "    </tr>\n",
        "    <tr>\n",
        "      <th>4</th>\n",
        "      <td>  trader-joes-menlo-park</td>\n",
        "      <td> walgreens-menlo-park-2</td>\n",
        "      <td> 1</td>\n",
        "      <td> 4.0</td>\n",
        "      <td> 92</td>\n",
        "      <td> 2.5</td>\n",
        "      <td> 31</td>\n",
        "      <td> 0.001358</td>\n",
        "    </tr>\n",
        "  </tbody>\n",
        "</table>\n",
        "<p>5 rows \u00d7 8 columns</p>\n",
        "</div>"
       ],
       "metadata": {},
       "output_type": "pyout",
       "prompt_number": 302,
       "text": [
        "              from_yelp_id              to_yelp_id  match  from_rating  \\\n",
        "0   starbucks-menlo-park-8  walgreens-menlo-park-2      1          3.0   \n",
        "1       una-mas-menlo-park  walgreens-menlo-park-2      1          2.5   \n",
        "2  le-boulanger-menlo-park  walgreens-menlo-park-2      1          3.0   \n",
        "3  tokyo-subway-menlo-park  walgreens-menlo-park-2      1          3.0   \n",
        "4   trader-joes-menlo-park  walgreens-menlo-park-2      1          4.0   \n",
        "\n",
        "   from_review_count  to_rating  to_review_count  distance  \n",
        "0                 21        2.5               31  0.003528  \n",
        "1                 42        2.5               31  0.000089  \n",
        "2                 81        2.5               31  0.001220  \n",
        "3                 86        2.5               31  0.001114  \n",
        "4                 92        2.5               31  0.001358  \n",
        "\n",
        "[5 rows x 8 columns]"
       ]
      }
     ],
     "prompt_number": 302
    },
    {
     "cell_type": "code",
     "collapsed": false,
     "input": [
      "ax = pyplot.hist(np.array(df[df.match == 1].to_rating - df[df.match == 1].from_rating), bins = 100)\n",
      "ax = pyplot.hist(np.array(df[df.match == 0].to_rating - df[df.match == 0].from_rating), bins = 100, color = 'red')"
     ],
     "language": "python",
     "metadata": {},
     "outputs": [
      {
       "metadata": {},
       "output_type": "display_data",
       "png": "[encoded data removed]",
       "text": [
        "<matplotlib.figure.Figure at 0x113f30550>"
       ]
      }
     ],
     "prompt_number": 303
    },
    {
     "cell_type": "code",
     "collapsed": false,
     "input": [
      "ax = pyplot.hist(np.array(df[df.match==1].to_review_count), bins = 100)\n",
      "ax = pyplot.hist(np.array(df[df.match==0].to_review_count), bins = 100, color = 'red')"
     ],
     "language": "python",
     "metadata": {},
     "outputs": [
      {
       "metadata": {},
       "output_type": "display_data",
       "png": "[encoded data removed]",
       "text": [
        "<matplotlib.figure.Figure at 0x119c558d0>"
       ]
      }
     ],
     "prompt_number": 304
    },
    {
     "cell_type": "code",
     "collapsed": false,
     "input": [
      "#find top categories\n",
      "cats = categories.groupby('short_category').id.count()\n",
      "cats.sort(ascending=False)\n",
      "top_cats = cats.head(20)\n",
      "print top_cats"
     ],
     "language": "python",
     "metadata": {},
     "outputs": [
      {
       "output_type": "stream",
       "stream": "stdout",
       "text": [
        "short_category\n",
        "hair                  2856\n",
        "contractors           2162\n",
        "coffee                1831\n",
        "realestateagents      1675\n",
        "othersalons           1548\n",
        "grocery               1546\n",
        "massage               1528\n",
        "drycleaninglaundry    1427\n",
        "skincare              1326\n",
        "sandwiches            1316\n",
        "mexican               1306\n",
        "womenscloth           1294\n",
        "apartments            1147\n",
        "banks                 1075\n",
        "chinese               1060\n",
        "jewelry               1032\n",
        "realestatesvcs         971\n",
        "pizza                  880\n",
        "bakeries               854\n",
        "beer_and_wine          833\n",
        "dtype: int64\n"
       ]
      }
     ],
     "prompt_number": 305
    },
    {
     "cell_type": "code",
     "collapsed": false,
     "input": [
      "#creating dummy variables with multiple features\n",
      "#http://stackoverflow.com/questions/18889588/create-dummies-from-column-with-multiple-values-in-pandas\n",
      "grouped = categories.groupby('id').short_category.apply(lambda lst: tuple((k, 1) for k in lst))\n",
      "category_dicts = [dict(tuples) for tuples in grouped]\n",
      "v = feature_extraction.DictVectorizer(sparse=False)\n",
      "v.fit(category_dicts)\n",
      "#restrict to only top categories\n",
      "support = [f in top_cats for f in v.get_feature_names()]\n",
      "v.restrict(support)\n",
      "X = v.transform(category_dicts)\n",
      "merged_cats = pd.DataFrame(X, columns=v.get_feature_names(), index=grouped.index)"
     ],
     "language": "python",
     "metadata": {},
     "outputs": [],
     "prompt_number": 306
    },
    {
     "cell_type": "code",
     "collapsed": false,
     "input": [
      "print merged_cats.columns"
     ],
     "language": "python",
     "metadata": {},
     "outputs": [
      {
       "output_type": "stream",
       "stream": "stdout",
       "text": [
        "Index([u'apartments', u'bakeries', u'banks', u'beer_and_wine', u'chinese', u'coffee', u'contractors', u'drycleaninglaundry', u'grocery', u'hair', u'jewelry', u'massage', u'mexican', u'othersalons', u'pizza', u'realestateagents', u'realestatesvcs', u'sandwiches', u'skincare', u'womenscloth'], dtype='object')\n"
       ]
      }
     ],
     "prompt_number": 307
    },
    {
     "cell_type": "code",
     "collapsed": false,
     "input": [
      "#merging with categories index\n",
      "df = df.merge(merged_cats, left_on = 'from_yelp_id', right_index = True)\n",
      "df = df.merge(merged_cats, left_on = 'to_yelp_id', right_index = True, suffixes=('_from', '_to'))"
     ],
     "language": "python",
     "metadata": {},
     "outputs": [],
     "prompt_number": 308
    },
    {
     "cell_type": "code",
     "collapsed": false,
     "input": [
      "print df.columns"
     ],
     "language": "python",
     "metadata": {},
     "outputs": [
      {
       "output_type": "stream",
       "stream": "stdout",
       "text": [
        "Index([u'from_yelp_id', u'to_yelp_id', u'match', u'from_rating', u'from_review_count', u'to_rating', u'to_review_count', u'distance', u'apartments_from', u'bakeries_from', u'banks_from', u'beer_and_wine_from', u'chinese_from', u'coffee_from', u'contractors_from', u'drycleaninglaundry_from', u'grocery_from', u'hair_from', u'jewelry_from', u'massage_from', u'mexican_from', u'othersalons_from', u'pizza_from', u'realestateagents_from', u'realestatesvcs_from', u'sandwiches_from', u'skincare_from', u'womenscloth_from', u'apartments_to', u'bakeries_to', u'banks_to', u'beer_and_wine_to', u'chinese_to', u'coffee_to', u'contractors_to', u'drycleaninglaundry_to', u'grocery_to', u'hair_to', u'jewelry_to', u'massage_to', u'mexican_to', u'othersalons_to', u'pizza_to', u'realestateagents_to', u'realestatesvcs_to', u'sandwiches_to', u'skincare_to', u'womenscloth_to'], dtype='object')\n"
       ]
      }
     ],
     "prompt_number": 309
    },
    {
     "cell_type": "code",
     "collapsed": false,
     "input": [
      "'''\n",
      "Final cleaning step before learning\n",
      "'''\n",
      "def normalize(column):\n",
      "    mean = df[column].mean()\n",
      "    std = df[column].std()\n",
      "    df[column] = (df[column] - mean) / std\n",
      "    return mean,std\n",
      "\n",
      "from_rating_mean, from_rating_std = normalize('from_rating')"
     ],
     "language": "python",
     "metadata": {},
     "outputs": [],
     "prompt_number": 310
    },
    {
     "cell_type": "code",
     "collapsed": false,
     "input": [
      "to_rating_mean, to_rating_std = normalize('to_rating')\n",
      "print to_rating_mean, to_rating_std"
     ],
     "language": "python",
     "metadata": {},
     "outputs": [
      {
       "output_type": "stream",
       "stream": "stdout",
       "text": [
        "3.73555413197 0.84975061906\n"
       ]
      }
     ],
     "prompt_number": 311
    },
    {
     "cell_type": "code",
     "collapsed": false,
     "input": [
      "#normalize from_review_count\n",
      "from_count_mean,from_count_std = normalize('from_review_count')"
     ],
     "language": "python",
     "metadata": {},
     "outputs": [],
     "prompt_number": 312
    },
    {
     "cell_type": "code",
     "collapsed": false,
     "input": [
      "#normalize to_review_count\n",
      "to_count_mean, to_count_std = normalize('to_review_count')"
     ],
     "language": "python",
     "metadata": {},
     "outputs": [],
     "prompt_number": 313
    },
    {
     "cell_type": "code",
     "collapsed": false,
     "input": [
      "#normalize distance\n",
      "distance_mean, disance_std = normalize('distance')"
     ],
     "language": "python",
     "metadata": {},
     "outputs": [],
     "prompt_number": 314
    },
    {
     "cell_type": "code",
     "collapsed": false,
     "input": [
      "#drop ids, no longer need them\n",
      "df = df.drop(['from_yelp_id','to_yelp_id'], 1)"
     ],
     "language": "python",
     "metadata": {},
     "outputs": [],
     "prompt_number": 315
    },
    {
     "cell_type": "code",
     "collapsed": false,
     "input": [
      "y = df.match"
     ],
     "language": "python",
     "metadata": {},
     "outputs": [],
     "prompt_number": 316
    },
    {
     "cell_type": "code",
     "collapsed": false,
     "input": [
      "df_X = df.drop('match', 1)"
     ],
     "language": "python",
     "metadata": {},
     "outputs": [],
     "prompt_number": 317
    },
    {
     "cell_type": "code",
     "collapsed": false,
     "input": [
      "records = df_X.to_records(index = False)"
     ],
     "language": "python",
     "metadata": {},
     "outputs": [],
     "prompt_number": 318
    },
    {
     "cell_type": "code",
     "collapsed": false,
     "input": [
      "X = [list(record) for record in records]"
     ],
     "language": "python",
     "metadata": {},
     "outputs": [],
     "prompt_number": 319
    },
    {
     "cell_type": "code",
     "collapsed": false,
     "input": [
      "logreg = LogisticRegression(class_weight = 'auto')"
     ],
     "language": "python",
     "metadata": {},
     "outputs": [],
     "prompt_number": 324
    },
    {
     "cell_type": "code",
     "collapsed": false,
     "input": [
      "X_train, X_test, y_train, y_test = train_test_split(X, y, test_size=0.1)"
     ],
     "language": "python",
     "metadata": {},
     "outputs": [],
     "prompt_number": 325
    },
    {
     "cell_type": "code",
     "collapsed": false,
     "input": [
      "print X_train.shape, X_test.shape\n",
      "print y_train.shape, y_test.shape"
     ],
     "language": "python",
     "metadata": {},
     "outputs": [
      {
       "output_type": "stream",
       "stream": "stdout",
       "text": [
        "(42147, 45) (4683, 45)\n",
        "(42147,) (4683,)\n"
       ]
      }
     ],
     "prompt_number": 326
    },
    {
     "cell_type": "code",
     "collapsed": false,
     "input": [
      "logreg.fit(X_train, y_train)"
     ],
     "language": "python",
     "metadata": {},
     "outputs": [
      {
       "metadata": {},
       "output_type": "pyout",
       "prompt_number": 327,
       "text": [
        "LogisticRegression(C=1.0, class_weight='auto', dual=False, fit_intercept=True,\n",
        "          intercept_scaling=1, penalty='l2', random_state=None, tol=0.0001)"
       ]
      }
     ],
     "prompt_number": 327
    },
    {
     "cell_type": "code",
     "collapsed": false,
     "input": [
      "print logreg.score(X_test,y_test)\n",
      "probs = logreg.predict_proba(X_test)\n",
      "probs = probs[:,1]\n",
      "champlogreg = logreg"
     ],
     "language": "python",
     "metadata": {},
     "outputs": [
      {
       "output_type": "stream",
       "stream": "stdout",
       "text": [
        "0.916720051249\n"
       ]
      }
     ],
     "prompt_number": 328
    },
    {
     "cell_type": "code",
     "collapsed": false,
     "input": [
      "y_pred = logreg.predict(X_test)\n",
      "y_pred_train = logreg.predict(X_train)\n",
      "precision, recall, fbeta_score, support = precision_recall_fscore_support(y_test, y_pred, average='micro')\n",
      "print 'Precision {}, Recall {}'.format(precision, recall)\n",
      "mse_test = mean_squared_error(y_test, y_pred)\n",
      "mse_train = mean_squared_error(y_train, y_pred_train)\n",
      "print 'MSE Training set {}'.format(mse_train)\n",
      "print 'MSE Test set {}'.format(mse_test)"
     ],
     "language": "python",
     "metadata": {},
     "outputs": [
      {
       "output_type": "stream",
       "stream": "stdout",
       "text": [
        "Precision 0.899593495935, Recall 0.939303904924\n",
        "MSE Training set 0.0845137257693\n",
        "MSE Test set 0.0832799487508\n"
       ]
      }
     ],
     "prompt_number": 335
    },
    {
     "cell_type": "code",
     "collapsed": false,
     "input": [
      "'''plot precision and recall curves'''\n",
      "precision, recall, thresholds = precision_recall_curve(y_test, probs)\n",
      "#downsampling both precision and recall\n",
      "sample_factor = 100# sample every 100 data points\n",
      "length = precision.size\n",
      "precision = precision[:length - length % sample_factor]\n",
      "recall = recall[:length - length % sample_factor]\n",
      "precision = precision.reshape(-1, sample_factor).mean(axis=1)\n",
      "recall = recall.reshape(-1, sample_factor).mean(axis=1)\n",
      "thresholds = thresholds[:length - length % sample_factor]\n",
      "thresholds = thresholds.reshape(-1, sample_factor).mean(axis=1)\n",
      "pyplot.plot(recall, precision, '*--', label='Precision-Recall curve')\n",
      "pyplot.xlabel('Recall')\n",
      "pyplot.ylabel('Precision')\n",
      "pyplot.legend(loc=\"lower left\")\n",
      "pyplot.xlim(-.1,1.1)\n",
      "pyplot.ylim(-.1,1.1)\n",
      "# pyplot.plot(recall, thresholds, '*r', label =\"threshold\")"
     ],
     "language": "python",
     "metadata": {},
     "outputs": [
      {
       "metadata": {},
       "output_type": "pyout",
       "prompt_number": 268,
       "text": [
        "(-0.1, 1.1)"
       ]
      },
      {
       "metadata": {},
       "output_type": "display_data",
       "png": "[encoded data removed]",
       "text": [
        "<matplotlib.figure.Figure at 0x119e42810>"
       ]
      }
     ],
     "prompt_number": 268
    },
    {
     "cell_type": "code",
     "collapsed": false,
     "input": [
      "import pickle\n",
      "with open('logreg.pickle','w') as f:\n",
      "    pickle.dump(champlogreg, f)"
     ],
     "language": "python",
     "metadata": {},
     "outputs": [],
     "prompt_number": 140
    },
    {
     "cell_type": "code",
     "collapsed": false,
     "input": [
      "print X_test[0][4]\n",
      "print logreg.predict_proba(X_test[0]), y_test[0]\n",
      "print X_test[1][4]\n",
      "print logreg.predict_proba(X_test[1]), y_test[1]\n",
      "print X_test[2][4]\n",
      "print logreg.predict_proba(X_test[2]), y_test[2]"
     ],
     "language": "python",
     "metadata": {},
     "outputs": [
      {
       "output_type": "stream",
       "stream": "stdout",
       "text": [
        "-0.829143276759\n",
        "[[ 0.09657281  0.90342719]] 1\n",
        "-0.834795497785\n",
        "[[ 0.33812389  0.66187611]] 1\n",
        "-0.823360227499\n",
        "[[ 0.01838904  0.98161096]] 1\n"
       ]
      }
     ],
     "prompt_number": 269
    },
    {
     "cell_type": "code",
     "collapsed": false,
     "input": [
      "y_test.sum() / float(y_test.size)"
     ],
     "language": "python",
     "metadata": {},
     "outputs": [
      {
       "metadata": {},
       "output_type": "pyout",
       "prompt_number": 270,
       "text": [
        "0.50992953235105698"
       ]
      }
     ],
     "prompt_number": 270
    },
    {
     "cell_type": "code",
     "collapsed": false,
     "input": [
      "feature_number = len(X_test[0])\n",
      "print feature_number"
     ],
     "language": "python",
     "metadata": {},
     "outputs": [
      {
       "output_type": "stream",
       "stream": "stdout",
       "text": [
        "45\n"
       ]
      }
     ],
     "prompt_number": 271
    },
    {
     "cell_type": "code",
     "collapsed": false,
     "input": [
      "df_X.columns"
     ],
     "language": "python",
     "metadata": {},
     "outputs": [
      {
       "metadata": {},
       "output_type": "pyout",
       "prompt_number": 90,
       "text": [
        "Index([u'from_rating', u'from_review_count', u'to_rating', u'to_review_count', u'distance'], dtype='object')"
       ]
      }
     ],
     "prompt_number": 90
    },
    {
     "cell_type": "code",
     "collapsed": false,
     "input": [
      "'''\n",
      "What are the important features?\n",
      "'''\n",
      "all_scores = []\n",
      "for i in range(feature_number):\n",
      "    logreg = LogisticRegression(class_weight = 'auto')\n",
      "    Xs = [[x[i]] for x in X]\n",
      "    feature = df_X.columns[i]\n",
      "    Xs_train, Xs_test, y_train, y_test = train_test_split(Xs, y, test_size=0.1)\n",
      "    logreg.fit(Xs_train, y_train)\n",
      "    score = logreg.score(Xs_test,y_test)\n",
      "    all_scores.append((score, feature, i))"
     ],
     "language": "python",
     "metadata": {},
     "outputs": [],
     "prompt_number": 216
    },
    {
     "cell_type": "code",
     "collapsed": false,
     "input": [
      "print sorted(all_scores, key = lambda x: x[0])"
     ],
     "language": "python",
     "metadata": {},
     "outputs": [
      {
       "output_type": "stream",
       "stream": "stdout",
       "text": [
        "[(0.48494554772581677, 'banks_from', 7), (0.48537262438607731, 'hair_from', 14), (0.4857997010463378, 'skincare_from', 23), (0.48686739269698909, 'from_review_count', 1), (0.48921631432842194, 'chinese_from', 9), (0.48964339098868248, 'womenscloth_to', 44), (0.49028400597907323, 'beer_and_wine_from', 8), (0.49028400597907323, 'realestateagents_from', 20), (0.49241938928037582, 'sandwiches_from', 22), (0.49348708093102711, 'jewelry_from', 15), (0.49391415759128765, 'coffee_from', 10), (0.49519538757206921, 'mexican_from', 17), (0.4962630792227205, 'massage_from', 16), (0.4962630792227205, 'pizza_to', 39), (0.49839846252402309, 'drycleaninglaundry_from', 12), (0.4986120008541533, 'sandwiches_to', 42), (0.49903907751441384, 'pizza_from', 19), (0.49925261584454411, 'mexican_to', 37), (0.49946615417467438, 'contractors_from', 11), (0.50010676916506513, 'skincare_to', 43), (0.50181507580610718, 'apartments_from', 5), (0.50352338244714923, 'chinese_to', 29), (0.50416399743754003, 'realestatesvcs_to', 41), (0.50459107409780057, 'bakeries_from', 6), (0.50480461242793084, 'contractors_to', 31), (0.50480461242793084, 'othersalons_to', 38), (0.50565876574845181, 'realestatesvcs_from', 21), (0.50565876574845181, 'bakeries_to', 26), (0.50587230407858208, 'hair_to', 34), (0.50608584240871235, 'grocery_from', 13), (0.50672645739910316, 'womenscloth_from', 24), (0.5077941490497544, 'othersalons_from', 18), (0.50886184070040574, 'massage_to', 36), (0.50950245569079655, 'banks_to', 27), (0.51035660901131752, 'from_rating', 0), (0.51334614563314118, 'realestateagents_to', 40), (0.51398676062353188, 'beer_and_wine_to', 28), (0.51420029895366215, 'apartments_to', 25), (0.5152679906043135, 'drycleaninglaundry_to', 32), (0.51590860559470419, 'jewelry_to', 35), (0.54815289344437323, 'grocery_to', 33), (0.56865257313687811, 'to_rating', 2), (0.57441810805039506, 'coffee_to', 30), (0.76083707025411063, 'to_review_count', 3), (0.86632500533845824, 'distance', 4)]\n"
       ]
      }
     ],
     "prompt_number": 217
    },
    {
     "cell_type": "code",
     "collapsed": false,
     "input": [
      "#checking categories\n",
      "all_results = []\n",
      "for i in range(5,25):\n",
      "    print i\n",
      "    for j in range(25,45):\n",
      "        logreg = LogisticRegression(class_weight = 'auto')\n",
      "        Xs = [[x[i],x[j]] for x in X]\n",
      "        Xs_train, Xs_test, y_train, y_test = train_test_split(Xs, y, test_size=0.1)\n",
      "        # print Xs_train.shape, y_train.shape\n",
      "        logreg.fit(Xs_train, y_train)\n",
      "        score = logreg.score(Xs_test,y_test)\n",
      "        all_results.append((score, df_X.columns[i],df_X.columns[j]))\n",
      "print len(all_results)"
     ],
     "language": "python",
     "metadata": {},
     "outputs": [
      {
       "output_type": "stream",
       "stream": "stdout",
       "text": [
        "5\n",
        "6"
       ]
      },
      {
       "output_type": "stream",
       "stream": "stdout",
       "text": [
        "\n",
        "7"
       ]
      },
      {
       "output_type": "stream",
       "stream": "stdout",
       "text": [
        "\n",
        "8"
       ]
      },
      {
       "output_type": "stream",
       "stream": "stdout",
       "text": [
        "\n",
        "9"
       ]
      },
      {
       "output_type": "stream",
       "stream": "stdout",
       "text": [
        "\n",
        "10"
       ]
      },
      {
       "output_type": "stream",
       "stream": "stdout",
       "text": [
        "\n",
        "11"
       ]
      },
      {
       "output_type": "stream",
       "stream": "stdout",
       "text": [
        "\n",
        "12"
       ]
      },
      {
       "output_type": "stream",
       "stream": "stdout",
       "text": [
        "\n",
        "13"
       ]
      },
      {
       "output_type": "stream",
       "stream": "stdout",
       "text": [
        "\n",
        "14"
       ]
      },
      {
       "output_type": "stream",
       "stream": "stdout",
       "text": [
        "\n",
        "15"
       ]
      },
      {
       "output_type": "stream",
       "stream": "stdout",
       "text": [
        "\n",
        "16"
       ]
      },
      {
       "output_type": "stream",
       "stream": "stdout",
       "text": [
        "\n",
        "17"
       ]
      },
      {
       "output_type": "stream",
       "stream": "stdout",
       "text": [
        "\n",
        "18"
       ]
      },
      {
       "output_type": "stream",
       "stream": "stdout",
       "text": [
        "\n",
        "19"
       ]
      },
      {
       "output_type": "stream",
       "stream": "stdout",
       "text": [
        "\n",
        "20"
       ]
      },
      {
       "output_type": "stream",
       "stream": "stdout",
       "text": [
        "\n",
        "21"
       ]
      },
      {
       "output_type": "stream",
       "stream": "stdout",
       "text": [
        "\n",
        "22"
       ]
      },
      {
       "output_type": "stream",
       "stream": "stdout",
       "text": [
        "\n",
        "23"
       ]
      },
      {
       "output_type": "stream",
       "stream": "stdout",
       "text": [
        "\n",
        "24"
       ]
      },
      {
       "output_type": "stream",
       "stream": "stdout",
       "text": [
        "\n",
        "400"
       ]
      },
      {
       "output_type": "stream",
       "stream": "stdout",
       "text": [
        "\n"
       ]
      }
     ],
     "prompt_number": 218
    },
    {
     "cell_type": "code",
     "collapsed": false,
     "input": [
      "print sorted(all_results, key = lambda x: x[0])"
     ],
     "language": "python",
     "metadata": {},
     "outputs": [
      {
       "output_type": "stream",
       "stream": "stdout",
       "text": [
        "[(0.48216954943412343, 'coffee_from', 'mexican_to'), (0.48494554772581677, 'drycleaninglaundry_from', 'mexican_to'), (0.48537262438607731, 'realestatesvcs_from', 'mexican_to'), (0.48814862267777065, 'sandwiches_from', 'mexican_to'), (0.48878923766816146, 'womenscloth_from', 'chinese_to'), (0.48985692931881275, 'mexican_from', 'pizza_to'), (0.48985692931881275, 'skincare_from', 'sandwiches_to'), (0.49007046764894296, 'pizza_from', 'jewelry_to'), (0.49092462096946404, 'jewelry_from', 'mexican_to'), (0.49113815929959426, 'massage_from', 'sandwiches_to'), (0.49135169762972453, 'mexican_from', 'mexican_to'), (0.49220585095024555, 'mexican_from', 'realestatesvcs_to'), (0.49241938928037582, 'chinese_from', 'pizza_to'), (0.49263292761050609, 'skincare_from', 'realestatesvcs_to'), (0.49284646594063636, 'bakeries_from', 'jewelry_to'), (0.49284646594063636, 'grocery_from', 'massage_to'), (0.49391415759128765, 'bakeries_from', 'womenscloth_to'), (0.49434123425154813, 'hair_from', 'womenscloth_to'), (0.49434123425154813, 'mexican_from', 'womenscloth_to'), (0.49498184924193894, 'skincare_from', 'womenscloth_to'), (0.49519538757206921, 'beer_and_wine_from', 'mexican_to'), (0.49519538757206921, 'mexican_from', 'jewelry_to'), (0.49519538757206921, 'realestatesvcs_from', 'sandwiches_to'), (0.49519538757206921, 'skincare_from', 'mexican_to'), (0.49540892590219943, 'banks_from', 'pizza_to'), (0.49540892590219943, 'jewelry_from', 'sandwiches_to'), (0.49540892590219943, 'sandwiches_from', 'pizza_to'), (0.4956224642323297, 'chinese_from', 'womenscloth_to'), (0.4956224642323297, 'grocery_from', 'mexican_to'), (0.49583600256245997, 'grocery_from', 'sandwiches_to'), (0.4962630792227205, 'coffee_from', 'realestatesvcs_to'), (0.49647661755285072, 'womenscloth_from', 'realestatesvcs_to'), (0.49690369421311126, 'massage_from', 'chinese_to'), (0.49711723254324153, 'banks_from', 'realestatesvcs_to'), (0.49711723254324153, 'massage_from', 'realestatesvcs_to'), (0.49754430920350201, 'chinese_from', 'jewelry_to'), (0.49754430920350201, 'realestateagents_from', 'sandwiches_to'), (0.49754430920350201, 'skincare_from', 'pizza_to'), (0.49775784753363228, 'beer_and_wine_from', 'womenscloth_to'), (0.49775784753363228, 'mexican_from', 'drycleaninglaundry_to'), (0.49797138586376255, 'apartments_from', 'sandwiches_to'), (0.49797138586376255, 'hair_from', 'banks_to'), (0.49797138586376255, 'massage_from', 'mexican_to'), (0.49818492419389282, 'realestateagents_from', 'mexican_to'), (0.49818492419389282, 'skincare_from', 'jewelry_to'), (0.49839846252402309, 'coffee_from', 'sandwiches_to'), (0.49839846252402309, 'hair_from', 'pizza_to'), (0.49839846252402309, 'pizza_from', 'sandwiches_to'), (0.49882553918428357, 'grocery_from', 'womenscloth_to'), (0.49925261584454411, 'hair_from', 'mexican_to'), (0.49946615417467438, 'beer_and_wine_from', 'jewelry_to'), (0.49989323083493487, 'pizza_from', 'chinese_to'), (0.50010676916506513, 'banks_from', 'chinese_to'), (0.50010676916506513, 'contractors_from', 'pizza_to'), (0.50010676916506513, 'massage_from', 'pizza_to'), (0.50010676916506513, 'womenscloth_from', 'drycleaninglaundry_to'), (0.50010676916506513, 'womenscloth_from', 'mexican_to'), (0.5003203074951954, 'bakeries_from', 'pizza_to'), (0.50053384582532567, 'chinese_from', 'realestatesvcs_to'), (0.50053384582532567, 'drycleaninglaundry_from', 'pizza_to'), (0.50074738415545594, 'chinese_from', 'massage_to'), (0.50074738415545594, 'massage_from', 'banks_to'), (0.50074738415545594, 'womenscloth_from', 'sandwiches_to'), (0.50096092248558621, 'contractors_from', 'mexican_to'), (0.50096092248558621, 'hair_from', 'chinese_to'), (0.50096092248558621, 'othersalons_from', 'realestatesvcs_to'), (0.50117446081571637, 'apartments_from', 'mexican_to'), (0.50117446081571637, 'chinese_from', 'beer_and_wine_to'), (0.50138799914584664, 'coffee_from', 'chinese_to'), (0.50138799914584664, 'drycleaninglaundry_from', 'chinese_to'), (0.50138799914584664, 'drycleaninglaundry_from', 'womenscloth_to'), (0.50138799914584664, 'realestateagents_from', 'pizza_to'), (0.50160153747597691, 'beer_and_wine_from', 'beer_and_wine_to'), (0.50160153747597691, 'chinese_from', 'skincare_to'), (0.50160153747597691, 'contractors_from', 'beer_and_wine_to'), (0.50181507580610718, 'jewelry_from', 'apartments_to'), (0.50181507580610718, 'realestateagents_from', 'jewelry_to'), (0.50202861413623745, 'apartments_from', 'banks_to'), (0.50202861413623745, 'othersalons_from', 'beer_and_wine_to'), (0.50202861413623745, 'womenscloth_from', 'jewelry_to'), (0.50224215246636772, 'apartments_from', 'massage_to'), (0.50224215246636772, 'banks_from', 'mexican_to'), (0.50224215246636772, 'beer_and_wine_from', 'realestatesvcs_to'), (0.50288276745675853, 'skincare_from', 'chinese_to'), (0.5030963057868888, 'pizza_from', 'massage_to'), (0.50330984411701896, 'drycleaninglaundry_from', 'contractors_to'), (0.50330984411701896, 'massage_from', 'realestateagents_to'), (0.50352338244714923, 'bakeries_from', 'beer_and_wine_to'), (0.50352338244714923, 'bakeries_from', 'realestatesvcs_to'), (0.50352338244714923, 'bakeries_from', 'skincare_to'), (0.50352338244714923, 'pizza_from', 'contractors_to'), (0.50352338244714923, 'skincare_from', 'beer_and_wine_to'), (0.5037369207772795, 'chinese_from', 'apartments_to'), (0.5037369207772795, 'chinese_from', 'banks_to'), (0.5037369207772795, 'coffee_from', 'beer_and_wine_to'), (0.5037369207772795, 'massage_from', 'bakeries_to'), (0.5037369207772795, 'pizza_from', 'skincare_to'), (0.50395045910740977, 'grocery_from', 'realestateagents_to'), (0.50395045910740977, 'hair_from', 'bakeries_to'), (0.50395045910740977, 'jewelry_from', 'pizza_to'), (0.50416399743754003, 'sandwiches_from', 'bakeries_to'), (0.5043775357676703, 'beer_and_wine_from', 'skincare_to'), (0.5043775357676703, 'mexican_from', 'sandwiches_to'), (0.5043775357676703, 'sandwiches_from', 'massage_to'), (0.50459107409780057, 'banks_from', 'womenscloth_to'), (0.50459107409780057, 'grocery_from', 'chinese_to'), (0.50459107409780057, 'pizza_from', 'womenscloth_to'), (0.50459107409780057, 'sandwiches_from', 'beer_and_wine_to'), (0.50480461242793084, 'pizza_from', 'mexican_to'), (0.50480461242793084, 'realestatesvcs_from', 'realestateagents_to'), (0.50501815075806111, 'coffee_from', 'apartments_to'), (0.50501815075806111, 'grocery_from', 'othersalons_to'), (0.50501815075806111, 'mexican_from', 'chinese_to'), (0.50523168908819138, 'beer_and_wine_from', 'chinese_to'), (0.50523168908819138, 'chinese_from', 'bakeries_to'), (0.50523168908819138, 'chinese_from', 'mexican_to'), (0.50523168908819138, 'othersalons_from', 'jewelry_to'), (0.50544522741832154, 'banks_from', 'skincare_to'), (0.50544522741832154, 'othersalons_from', 'sandwiches_to'), (0.50565876574845181, 'jewelry_from', 'jewelry_to'), (0.50565876574845181, 'realestatesvcs_from', 'othersalons_to'), (0.50587230407858208, 'apartments_from', 'contractors_to'), (0.50587230407858208, 'contractors_from', 'banks_to'), (0.50587230407858208, 'contractors_from', 'othersalons_to'), (0.50608584240871235, 'apartments_from', 'beer_and_wine_to'), (0.50608584240871235, 'realestateagents_from', 'drycleaninglaundry_to'), (0.50629938073884262, 'beer_and_wine_from', 'sandwiches_to'), (0.50629938073884262, 'coffee_from', 'pizza_to'), (0.50629938073884262, 'drycleaninglaundry_from', 'othersalons_to'), (0.50651291906897289, 'hair_from', 'sandwiches_to'), (0.50651291906897289, 'othersalons_from', 'realestateagents_to'), (0.50651291906897289, 'realestatesvcs_from', 'banks_to'), (0.50672645739910316, 'bakeries_from', 'sandwiches_to'), (0.50672645739910316, 'realestatesvcs_from', 'chinese_to'), (0.50693999572923343, 'chinese_from', 'chinese_to'), (0.50693999572923343, 'jewelry_from', 'banks_to'), (0.5071535340593637, 'apartments_from', 'apartments_to'), (0.5071535340593637, 'banks_from', 'sandwiches_to'), (0.5071535340593637, 'mexican_from', 'skincare_to'), (0.5071535340593637, 'sandwiches_from', 'apartments_to'), (0.50736707238949397, 'apartments_from', 'bakeries_to'), (0.50736707238949397, 'coffee_from', 'jewelry_to'), (0.50736707238949397, 'othersalons_from', 'womenscloth_to'), (0.50758061071962413, 'bakeries_from', 'mexican_to'), (0.50758061071962413, 'banks_from', 'jewelry_to'), (0.50758061071962413, 'contractors_from', 'chinese_to'), (0.50758061071962413, 'grocery_from', 'pizza_to'), (0.50758061071962413, 'jewelry_from', 'drycleaninglaundry_to'), (0.5077941490497544, 'sandwiches_from', 'sandwiches_to'), (0.5077941490497544, 'skincare_from', 'apartments_to'), (0.50800768737988466, 'contractors_from', 'sandwiches_to'), (0.50800768737988466, 'contractors_from', 'womenscloth_to'), (0.50800768737988466, 'massage_from', 'womenscloth_to'), (0.50800768737988466, 'mexican_from', 'realestateagents_to'), (0.50800768737988466, 'othersalons_from', 'apartments_to'), (0.50800768737988466, 'realestatesvcs_from', 'bakeries_to'), (0.50822122571001493, 'drycleaninglaundry_from', 'beer_and_wine_to'), (0.50822122571001493, 'womenscloth_from', 'banks_to'), (0.5084347640401452, 'beer_and_wine_from', 'apartments_to'), (0.5084347640401452, 'coffee_from', 'drycleaninglaundry_to'), (0.5084347640401452, 'realestatesvcs_from', 'apartments_to'), (0.5084347640401452, 'skincare_from', 'massage_to'), (0.50864830237027547, 'chinese_from', 'drycleaninglaundry_to'), (0.50864830237027547, 'hair_from', 'beer_and_wine_to'), (0.50864830237027547, 'hair_from', 'othersalons_to'), (0.50864830237027547, 'jewelry_from', 'beer_and_wine_to'), (0.50864830237027547, 'sandwiches_from', 'drycleaninglaundry_to'), (0.50886184070040574, 'drycleaninglaundry_from', 'realestatesvcs_to'), (0.50886184070040574, 'grocery_from', 'banks_to'), (0.50907537903053601, 'contractors_from', 'apartments_to'), (0.50907537903053601, 'drycleaninglaundry_from', 'massage_to'), (0.50907537903053601, 'realestateagents_from', 'realestatesvcs_to'), (0.50907537903053601, 'sandwiches_from', 'womenscloth_to'), (0.50907537903053601, 'womenscloth_from', 'womenscloth_to'), (0.50928891736066628, 'beer_and_wine_from', 'massage_to'), (0.50928891736066628, 'massage_from', 'massage_to'), (0.50928891736066628, 'sandwiches_from', 'banks_to'), (0.50928891736066628, 'skincare_from', 'banks_to'), (0.50950245569079655, 'bakeries_from', 'massage_to'), (0.50950245569079655, 'drycleaninglaundry_from', 'sandwiches_to'), (0.50950245569079655, 'jewelry_from', 'womenscloth_to'), (0.50950245569079655, 'massage_from', 'apartments_to'), (0.50950245569079655, 'massage_from', 'contractors_to'), (0.50950245569079655, 'realestatesvcs_from', 'massage_to'), (0.50950245569079655, 'womenscloth_from', 'contractors_to'), (0.50971599402092671, 'contractors_from', 'massage_to'), (0.50971599402092671, 'realestatesvcs_from', 'womenscloth_to'), (0.50971599402092671, 'sandwiches_from', 'othersalons_to'), (0.50992953235105698, 'chinese_from', 'sandwiches_to'), (0.50992953235105698, 'grocery_from', 'skincare_to'), (0.50992953235105698, 'hair_from', 'realestateagents_to'), (0.50992953235105698, 'jewelry_from', 'chinese_to'), (0.51014307068118725, 'apartments_from', 'womenscloth_to'), (0.51014307068118725, 'bakeries_from', 'apartments_to'), (0.51014307068118725, 'jewelry_from', 'realestatesvcs_to'), (0.51057014734144779, 'mexican_from', 'apartments_to'), (0.51057014734144779, 'othersalons_from', 'drycleaninglaundry_to'), (0.51057014734144779, 'sandwiches_from', 'realestatesvcs_to'), (0.51057014734144779, 'skincare_from', 'realestateagents_to'), (0.51078368567157806, 'banks_from', 'drycleaninglaundry_to'), (0.51078368567157806, 'beer_and_wine_from', 'pizza_to'), (0.51078368567157806, 'jewelry_from', 'realestateagents_to'), (0.51078368567157806, 'othersalons_from', 'mexican_to'), (0.51078368567157806, 'realestateagents_from', 'banks_to'), (0.51099722400170833, 'bakeries_from', 'othersalons_to'), (0.51099722400170833, 'beer_and_wine_from', 'drycleaninglaundry_to'), (0.51099722400170833, 'hair_from', 'realestatesvcs_to'), (0.51099722400170833, 'womenscloth_from', 'apartments_to'), (0.5112107623318386, 'coffee_from', 'realestateagents_to'), (0.5112107623318386, 'drycleaninglaundry_from', 'skincare_to'), (0.5112107623318386, 'jewelry_from', 'massage_to'), (0.5112107623318386, 'realestateagents_from', 'womenscloth_to'), (0.5112107623318386, 'skincare_from', 'skincare_to'), (0.51142430066196887, 'othersalons_from', 'skincare_to'), (0.51142430066196887, 'skincare_from', 'othersalons_to'), (0.51163783899209914, 'apartments_from', 'chinese_to'), (0.51163783899209914, 'contractors_from', 'jewelry_to'), (0.51163783899209914, 'womenscloth_from', 'beer_and_wine_to'), (0.51163783899209914, 'womenscloth_from', 'realestateagents_to'), (0.5118513773222293, 'grocery_from', 'bakeries_to'), (0.51206491565235956, 'apartments_from', 'pizza_to'), (0.51206491565235956, 'coffee_from', 'massage_to'), (0.51227845398248983, 'bakeries_from', 'drycleaninglaundry_to'), (0.51227845398248983, 'realestateagents_from', 'beer_and_wine_to'), (0.51227845398248983, 'skincare_from', 'bakeries_to'), (0.5124919923126201, 'apartments_from', 'realestatesvcs_to'), (0.5124919923126201, 'contractors_from', 'bakeries_to'), (0.5124919923126201, 'contractors_from', 'drycleaninglaundry_to'), (0.5124919923126201, 'drycleaninglaundry_from', 'apartments_to'), (0.5124919923126201, 'realestatesvcs_from', 'pizza_to'), (0.51270553064275037, 'apartments_from', 'jewelry_to'), (0.51270553064275037, 'pizza_from', 'realestatesvcs_to'), (0.51291906897288064, 'massage_from', 'beer_and_wine_to'), (0.51291906897288064, 'sandwiches_from', 'contractors_to'), (0.51313260730301091, 'hair_from', 'hair_to'), (0.51313260730301091, 'othersalons_from', 'pizza_to'), (0.51313260730301091, 'sandwiches_from', 'chinese_to'), (0.51334614563314118, 'drycleaninglaundry_from', 'banks_to'), (0.51334614563314118, 'mexican_from', 'beer_and_wine_to'), (0.51334614563314118, 'mexican_from', 'massage_to'), (0.51334614563314118, 'realestatesvcs_from', 'drycleaninglaundry_to'), (0.51355968396327145, 'drycleaninglaundry_from', 'bakeries_to'), (0.51355968396327145, 'drycleaninglaundry_from', 'jewelry_to'), (0.51355968396327145, 'drycleaninglaundry_from', 'realestateagents_to'), (0.51355968396327145, 'massage_from', 'drycleaninglaundry_to'), (0.51355968396327145, 'massage_from', 'jewelry_to'), (0.51377322229340161, 'pizza_from', 'othersalons_to'), (0.51398676062353188, 'coffee_from', 'womenscloth_to'), (0.51398676062353188, 'womenscloth_from', 'pizza_to'), (0.51420029895366215, 'coffee_from', 'banks_to'), (0.51420029895366215, 'mexican_from', 'banks_to'), (0.51420029895366215, 'othersalons_from', 'contractors_to'), (0.51420029895366215, 'pizza_from', 'apartments_to'), (0.51420029895366215, 'realestateagents_from', 'chinese_to'), (0.51420029895366215, 'realestateagents_from', 'othersalons_to'), (0.51441383728379242, 'pizza_from', 'banks_to'), (0.51462737561392269, 'beer_and_wine_from', 'othersalons_to'), (0.51462737561392269, 'realestatesvcs_from', 'skincare_to'), (0.51484091394405296, 'hair_from', 'drycleaninglaundry_to'), (0.51505445227418323, 'bakeries_from', 'chinese_to'), (0.51505445227418323, 'coffee_from', 'othersalons_to'), (0.51505445227418323, 'realestatesvcs_from', 'jewelry_to'), (0.5152679906043135, 'jewelry_from', 'skincare_to'), (0.51548152893444377, 'pizza_from', 'bakeries_to'), (0.51569506726457404, 'chinese_from', 'contractors_to'), (0.51569506726457404, 'grocery_from', 'apartments_to'), (0.51569506726457404, 'womenscloth_from', 'massage_to'), (0.51590860559470419, 'realestateagents_from', 'realestateagents_to'), (0.51612214392483446, 'realestateagents_from', 'massage_to'), (0.51633568225496473, 'banks_from', 'massage_to'), (0.51633568225496473, 'massage_from', 'othersalons_to'), (0.51633568225496473, 'mexican_from', 'othersalons_to'), (0.51633568225496473, 'realestatesvcs_from', 'realestatesvcs_to'), (0.516549220585095, 'womenscloth_from', 'bakeries_to'), (0.51676275891522527, 'bakeries_from', 'contractors_to'), (0.51676275891522527, 'pizza_from', 'beer_and_wine_to'), (0.51676275891522527, 'pizza_from', 'pizza_to'), (0.51718983557548581, 'banks_from', 'bakeries_to'), (0.51740337390561608, 'coffee_from', 'contractors_to'), (0.51740337390561608, 'mexican_from', 'bakeries_to'), (0.51761691223574635, 'banks_from', 'beer_and_wine_to'), (0.51761691223574635, 'jewelry_from', 'bakeries_to'), (0.51783045056587662, 'bakeries_from', 'banks_to'), (0.51783045056587662, 'jewelry_from', 'othersalons_to'), (0.51804398889600678, 'chinese_from', 'realestateagents_to'), (0.51804398889600678, 'hair_from', 'contractors_to'), (0.51804398889600678, 'hair_from', 'skincare_to'), (0.51825752722613705, 'bakeries_from', 'realestateagents_to'), (0.51825752722613705, 'beer_and_wine_from', 'bakeries_to'), (0.51825752722613705, 'contractors_from', 'contractors_to'), (0.51825752722613705, 'othersalons_from', 'bakeries_to'), (0.51847106555626732, 'banks_from', 'contractors_to'), (0.51847106555626732, 'realestateagents_from', 'contractors_to'), (0.51847106555626732, 'realestatesvcs_from', 'hair_to'), (0.51889814221652786, 'banks_from', 'othersalons_to'), (0.51889814221652786, 'beer_and_wine_from', 'contractors_to'), (0.51889814221652786, 'othersalons_from', 'banks_to'), (0.51889814221652786, 'realestateagents_from', 'hair_to'), (0.51911168054665813, 'contractors_from', 'realestateagents_to'), (0.51911168054665813, 'realestateagents_from', 'skincare_to'), (0.5193252188767884, 'banks_from', 'banks_to'), (0.5193252188767884, 'hair_from', 'massage_to'), (0.51953875720691867, 'banks_from', 'apartments_to'), (0.51953875720691867, 'othersalons_from', 'chinese_to'), (0.51975229553704894, 'contractors_from', 'skincare_to'), (0.51975229553704894, 'realestatesvcs_from', 'contractors_to'), (0.51996583386717921, 'beer_and_wine_from', 'realestateagents_to'), (0.51996583386717921, 'drycleaninglaundry_from', 'hair_to'), (0.51996583386717921, 'realestatesvcs_from', 'beer_and_wine_to'), (0.52039291052743963, 'chinese_from', 'othersalons_to'), (0.52039291052743963, 'hair_from', 'apartments_to'), (0.52039291052743963, 'massage_from', 'skincare_to'), (0.52039291052743963, 'sandwiches_from', 'skincare_to'), (0.5206064488575699, 'realestateagents_from', 'apartments_to'), (0.5206064488575699, 'skincare_from', 'hair_to'), (0.52081998718770017, 'sandwiches_from', 'hair_to'), (0.52081998718770017, 'sandwiches_from', 'realestateagents_to'), (0.52124706384796071, 'apartments_from', 'drycleaninglaundry_to'), (0.52146060217809098, 'apartments_from', 'skincare_to'), (0.52167414050822125, 'coffee_from', 'bakeries_to'), (0.52167414050822125, 'womenscloth_from', 'othersalons_to'), (0.52188767883835152, 'apartments_from', 'realestateagents_to'), (0.52188767883835152, 'bakeries_from', 'bakeries_to'), (0.52188767883835152, 'banks_from', 'hair_to'), (0.52210121716848179, 'banks_from', 'realestateagents_to'), (0.52231475549861195, 'othersalons_from', 'othersalons_to'), (0.52252829382874222, 'apartments_from', 'othersalons_to'), (0.52252829382874222, 'hair_from', 'jewelry_to'), (0.52274183215887249, 'drycleaninglaundry_from', 'drycleaninglaundry_to'), (0.52295537048900276, 'womenscloth_from', 'skincare_to'), (0.52316890881913303, 'realestateagents_from', 'bakeries_to'), (0.5233824471492633, 'coffee_from', 'skincare_to'), (0.52359598547939357, 'skincare_from', 'contractors_to'), (0.52402306213965411, 'chinese_from', 'hair_to'), (0.52402306213965411, 'contractors_from', 'realestatesvcs_to'), (0.52402306213965411, 'grocery_from', 'beer_and_wine_to'), (0.52402306213965411, 'grocery_from', 'drycleaninglaundry_to'), (0.52402306213965411, 'mexican_from', 'contractors_to'), (0.5246636771300448, 'massage_from', 'hair_to'), (0.5246636771300448, 'skincare_from', 'drycleaninglaundry_to'), (0.52487721546017507, 'pizza_from', 'hair_to'), (0.52509075379030534, 'beer_and_wine_from', 'banks_to'), (0.52509075379030534, 'sandwiches_from', 'jewelry_to'), (0.52573136878069615, 'othersalons_from', 'massage_to'), (0.52594490711082642, 'mexican_from', 'hair_to'), (0.52594490711082642, 'othersalons_from', 'hair_to'), (0.52658552210121712, 'pizza_from', 'realestateagents_to'), (0.52679906043134739, 'grocery_from', 'jewelry_to'), (0.52765321375186847, 'grocery_from', 'realestatesvcs_to'), (0.52786675208199874, 'grocery_from', 'hair_to'), (0.5287209054025197, 'pizza_from', 'drycleaninglaundry_to'), (0.53106982703395256, 'beer_and_wine_from', 'hair_to'), (0.53128336536408283, 'contractors_from', 'hair_to'), (0.53320521033525514, 'apartments_from', 'hair_to'), (0.53341874866538541, 'jewelry_from', 'contractors_to'), (0.53384582532564595, 'bakeries_from', 'hair_to'), (0.53427290198590649, 'jewelry_from', 'hair_to'), (0.535554131966688, 'womenscloth_from', 'hair_to'), (0.5361947469570788, 'coffee_from', 'hair_to'), (0.5361947469570788, 'grocery_from', 'contractors_to'), (0.54559043348281011, 'beer_and_wine_from', 'coffee_to'), (0.54559043348281011, 'realestatesvcs_from', 'grocery_to'), (0.54601751014307065, 'womenscloth_from', 'grocery_to'), (0.55028827674567582, 'drycleaninglaundry_from', 'grocery_to'), (0.55028827674567582, 'grocery_from', 'grocery_to'), (0.55092889173606663, 'realestateagents_from', 'coffee_to'), (0.55135596839632717, 'bakeries_from', 'grocery_to'), (0.55156950672645744, 'realestateagents_from', 'grocery_to'), (0.55263719837710867, 'chinese_from', 'grocery_to'), (0.55263719837710867, 'mexican_from', 'grocery_to'), (0.55263719837710867, 'othersalons_from', 'grocery_to'), (0.55285073670723894, 'coffee_from', 'grocery_to'), (0.55477258167841126, 'jewelry_from', 'coffee_to'), (0.55477258167841126, 'skincare_from', 'grocery_to'), (0.5551996583386718, 'apartments_from', 'grocery_to'), (0.5551996583386718, 'chinese_from', 'coffee_to'), (0.5551996583386718, 'sandwiches_from', 'grocery_to'), (0.55584027332906261, 'banks_from', 'grocery_to'), (0.55584027332906261, 'pizza_from', 'grocery_to'), (0.55669442664958357, 'contractors_from', 'coffee_to'), (0.55733504163997438, 'beer_and_wine_from', 'grocery_to'), (0.55797565663036519, 'coffee_from', 'coffee_to'), (0.55818919496049546, 'apartments_from', 'coffee_to'), (0.55818919496049546, 'skincare_from', 'coffee_to'), (0.55861627162075589, 'contractors_from', 'grocery_to'), (0.56011103993166778, 'banks_from', 'coffee_to'), (0.56032457826179805, 'othersalons_from', 'coffee_to'), (0.5605381165919282, 'hair_from', 'grocery_to'), (0.56267349989323079, 'massage_from', 'coffee_to'), (0.56267349989323079, 'massage_from', 'grocery_to'), (0.56310057655349133, 'sandwiches_from', 'coffee_to'), (0.5633141148836216, 'pizza_from', 'coffee_to'), (0.56907964979713854, 'mexican_from', 'coffee_to'), (0.56993380311765962, 'jewelry_from', 'grocery_to'), (0.57014734144778989, 'hair_from', 'coffee_to'), (0.57100149476831086, 'bakeries_from', 'coffee_to'), (0.57206918641896221, 'grocery_from', 'coffee_to'), (0.57270980140935301, 'drycleaninglaundry_from', 'coffee_to'), (0.57292333973948328, 'realestatesvcs_from', 'coffee_to'), (0.57804825966260942, 'womenscloth_from', 'coffee_to')]\n"
       ]
      }
     ],
     "prompt_number": 147
    },
    {
     "cell_type": "code",
     "collapsed": false,
     "input": [
      "'''Using Tree classifier to find important features'''\n",
      "clf = ExtraTreesClassifier()\n",
      "X_new = clf.fit(X, y).transform(X)\n",
      "df_X.columns[clf.feature_importances_.argsort()]"
     ],
     "language": "python",
     "metadata": {},
     "outputs": [
      {
       "metadata": {},
       "output_type": "pyout",
       "prompt_number": 279,
       "text": [
        "Index([u'realestatesvcs_from', u'contractors_from', u'realestateagents_from', u'apartments_from', u'skincare_from', u'drycleaninglaundry_from', u'hair_from', u'massage_from', u'othersalons_from', u'jewelry_from', u'banks_from', u'beer_and_wine_from', u'pizza_to', u'bakeries_from', u'chinese_from', u'pizza_from', u'mexican_to', u'sandwiches_from', u'beer_and_wine_to', u'womenscloth_from', u'mexican_from', u'realestatesvcs_to', u'womenscloth_to', u'grocery_from', u'sandwiches_to', u'chinese_to', u'bakeries_to', u'coffee_from', u'jewelry_to', u'skincare_to', u'banks_to', u'apartments_to', u'othersalons_to', u'realestateagents_to', u'massage_to', u'contractors_to', u'drycleaninglaundry_to', u'from_rating', u'hair_to', u'grocery_to', u'from_review_count', u'coffee_to', u'to_rating', u'to_review_count', u'distance'], dtype='object')"
       ]
      }
     ],
     "prompt_number": 279
    },
    {
     "cell_type": "code",
     "collapsed": false,
     "input": [
      "'''\n",
      "Finding the most likely next place for every entry\n",
      "'''\n",
      "yelp_filling = pd.read_csv('yelp.csv')[['id','rating','review_count','latitude','longitude']]"
     ],
     "language": "python",
     "metadata": {},
     "outputs": [],
     "prompt_number": 307
    },
    {
     "cell_type": "code",
     "collapsed": false,
     "input": [
      "yelp_filling = yelp_filling.merge(merged_cats, left_on = 'id', right_index = True)"
     ],
     "language": "python",
     "metadata": {},
     "outputs": [],
     "prompt_number": 308
    },
    {
     "cell_type": "code",
     "collapsed": false,
     "input": [
      "print yelp_filling.shape"
     ],
     "language": "python",
     "metadata": {},
     "outputs": [
      {
       "output_type": "stream",
       "stream": "stdout",
       "text": [
        "(59311, 25)\n"
       ]
      }
     ],
     "prompt_number": 309
    },
    {
     "cell_type": "code",
     "collapsed": false,
     "input": [
      "#normalzing the arrays\n",
      "df_from = yelp_filling.copy()\n",
      "df_to = yelp_filling.copy()\n",
      "\n",
      "df_from.rating = (df_from.rating - from_rating_mean) / from_rating_std\n",
      "df_from.review_count = (df_from.review_count - from_count_mean) / from_count_std\n",
      "df_to.rating = (df_to.rating - to_rating_mean) / to_rating_std\n",
      "df_to.review_count = (df_to.review_count - to_count_mean) / to_count_std"
     ],
     "language": "python",
     "metadata": {},
     "outputs": [],
     "prompt_number": 310
    },
    {
     "cell_type": "code",
     "collapsed": false,
     "input": [
      "#http://stackoverflow.com/questions/12329853/how-to-rearrange-pandas-column-sequence\n",
      "def set_column_sequence(dataframe, seq):\n",
      "    '''Takes a dataframe and a subsequence of its columns, returns dataframe with seq as first columns'''\n",
      "    cols = seq[:] # copy so we don't mutate seq\n",
      "    for x in dataframe.columns:\n",
      "        if x not in cols:\n",
      "            cols.append(x)\n",
      "    return dataframe[cols]\n",
      "\n",
      "def score_prob(row_number, row1):\n",
      "    left = pd.DataFrame([row1], index = df_to.index)\n",
      "    merged = pd.merge(left, df_to, left_index = True, right_index=True, suffixes=('_from','_to'))\n",
      "    merged['distance'] = np.sqrt((merged.latitude_from - merged.latitude_to)**2 + (merged.longitude_from - merged.longitude_to)**2)\n",
      "    merged['distance'] = (merged['distance'] - distance_mean) / disance_std\n",
      "    merged = merged.drop(['id_from','id_to', 'latitude_from','latitude_to', 'longitude_from','longitude_to'], axis = 1)\n",
      "    #matching columns to the train set\n",
      "    merged.rename(columns={'rating_from': 'from_rating', 'rating_to': 'to_rating','review_count_from':'from_review_count',\n",
      "                           'review_count_to':'to_review_count'}, inplace=True)\n",
      "    merged = set_column_sequence(merged, df_X.columns)\n",
      "    X = merged.values\n",
      "    #hacky way to exclude crazy outlier values\n",
      "    X = np.clip(X, -2, 2)\n",
      "    prob_match = champlogreg.predict_proba(X)[:,1]\n",
      "    #exclude the 'from' place from the list\n",
      "    prob_match[row_number] = 0\n",
      "    best_match, prob = df_to.id.ix[prob_match.argmax()], prob_match[prob_match.argmax()]\n",
      "    return (row1.id, best_match, prob)\n",
      "    \n",
      "all_generated_matches = []\n",
      "for i,row in df_from.iterrows():\n",
      "    from_id, to_id, prob = score_prob(i, row)\n",
      "    all_generated_matches.append((from_id, to_id, prob))\n",
      "    if i % 100 == 0:\n",
      "        print i,from_id, to_id, prob"
     ],
     "language": "python",
     "metadata": {},
     "outputs": [
      {
       "output_type": "stream",
       "stream": "stdout",
       "text": [
        "0 sf-fire-credit-union-san-francisco spruce-san-francisco 0.999525607562\n",
        "100"
       ]
      },
      {
       "output_type": "stream",
       "stream": "stdout",
       "text": [
        " 1st-united-services-credit-union-oakland-5 berkeley-bowl-berkeley 0.999414356168\n",
        "200"
       ]
      },
      {
       "output_type": "stream",
       "stream": "stdout",
       "text": [
        " chase-san-francisco-92 magnolia-pub-and-brewery-san-francisco 0.99989123348\n",
        "300"
       ]
      },
      {
       "output_type": "stream",
       "stream": "stdout",
       "text": [
        " wells-fargo-bank-south-san-francisco-2 little-lucca-sandwich-shop-and-deli-south-san-francisco 0.999668996378\n",
        "400"
       ]
      },
      {
       "output_type": "stream",
       "stream": "stdout",
       "text": [
        " citibank-west-f-s-b-daly-city-2 kome-japanese-seafood-and-grill-buffet-daly-city 0.999794881429\n",
        "500"
       ]
      },
      {
       "output_type": "stream",
       "stream": "stdout",
       "text": [
        " first-republic-bank-redwood-city-2 old-port-lobster-shack-redwood-city 0.999631322139\n",
        "600"
       ]
      },
      {
       "output_type": "stream",
       "stream": "stdout",
       "text": [
        " bank-of-the-west-oakland-3 mua-oakland-2 0.999893280147\n",
        "700"
       ]
      },
      {
       "output_type": "stream",
       "stream": "stdout",
       "text": [
        " 1st-united-services-san-leandro zocalo-coffeehouse-san-leandro-2 0.991492450214\n",
        "800"
       ]
      },
      {
       "output_type": "stream",
       "stream": "stdout",
       "text": [
        " wells-fargo-bank-palo-alto-6 sprinkles-cupcakes-palo-alto 0.999838824482\n",
        "900"
       ]
      },
      {
       "output_type": "stream",
       "stream": "stdout",
       "text": [
        " us-bank-sunnyvale-2 dishdash-sunnyvale 0.999701743346\n",
        "1000"
       ]
      },
      {
       "output_type": "stream",
       "stream": "stdout",
       "text": [
        " union-bank-of-california-san-jose smoking-pig-bbq-san-jose 0.999564844847\n",
        "1100"
       ]
      },
      {
       "output_type": "stream",
       "stream": "stdout",
       "text": [
        " nautilus-of-marin-san-rafael sol-food-puerto-rican-cuisine-san-rafael-2 0.999790303873\n",
        "1200"
       ]
      },
      {
       "output_type": "stream",
       "stream": "stdout",
       "text": [
        " michelle-hair-studio-san-francisco boboquivaris-san-francisco 0.999194030322\n",
        "1300"
       ]
      },
      {
       "output_type": "stream",
       "stream": "stdout",
       "text": [
        " the-pampered-girl-san-francisco-2 blue-bottle-coffee-san-francisco-8 0.999928221983\n",
        "1400"
       ]
      },
      {
       "output_type": "stream",
       "stream": "stdout",
       "text": [
        " yuki-lashes-san-francisco-2 boboquivaris-san-francisco 0.999733718081\n",
        "1500"
       ]
      },
      {
       "output_type": "stream",
       "stream": "stdout",
       "text": [
        " claires-san-bruno bjs-restaurant-and-brewhouse-san-bruno 0.99924197337\n",
        "1600"
       ]
      },
      {
       "output_type": "stream",
       "stream": "stdout",
       "text": [
        " currents-san-francisco ritual-coffee-roasters-san-francisco 0.999935435643\n",
        "1700"
       ]
      },
      {
       "output_type": "stream",
       "stream": "stdout",
       "text": [
        " blancas-art-of-hair-san-francisco ritual-coffee-roasters-san-francisco 0.999685924599\n",
        "1800"
       ]
      },
      {
       "output_type": "stream",
       "stream": "stdout",
       "text": [
        " new-look-salon-san-francisco ritual-coffee-roasters-san-francisco 0.999505475633\n",
        "1900"
       ]
      },
      {
       "output_type": "stream",
       "stream": "stdout",
       "text": [
        " ysa-barbershop-san-francisco-2 blue-bottle-coffee-san-francisco-8 0.999858822672\n",
        "2000"
       ]
      },
      {
       "output_type": "stream",
       "stream": "stdout",
       "text": [
        " walgreens-san-francisco-92 four-barrel-coffee-san-francisco 0.999852428709\n",
        "2100"
       ]
      },
      {
       "output_type": "stream",
       "stream": "stdout",
       "text": [
        " star-city-salon-brisbane little-lucca-sandwich-shop-and-deli-south-san-francisco 0.944981021624\n",
        "2200"
       ]
      },
      {
       "output_type": "stream",
       "stream": "stdout",
       "text": [
        " robert-james-color-san-francisco blue-bottle-coffee-co-san-francisco-7 0.999706435383\n",
        "2300"
       ]
      },
      {
       "output_type": "stream",
       "stream": "stdout",
       "text": [
        " josephalex-salon-san-francisco-2 blue-bottle-coffee-co-san-francisco-7 0.999880106319\n",
        "2400"
       ]
      },
      {
       "output_type": "stream",
       "stream": "stdout",
       "text": [
        " s-and-p-fashion-design-hair-studio-san-francisco blue-bottle-coffee-co-san-francisco-7 0.999712679334\n",
        "2500"
       ]
      },
      {
       "output_type": "stream",
       "stream": "stdout",
       "text": [
        " verna-beauty-salon-san-francisco blue-bottle-coffee-co-san-francisco-7 0.999489382446\n",
        "2600"
       ]
      },
      {
       "output_type": "stream",
       "stream": "stdout",
       "text": [
        " barber-barber-san-bruno millbrae-pancake-house-millbrae 0.997484844098\n",
        "2700"
       ]
      },
      {
       "output_type": "stream",
       "stream": "stdout",
       "text": [
        " st-moritz-beauty-barber-and-spa-salon-hyatt-hotel-san-francisco-2 blue-bottle-coffee-co-san-francisco-7 0.999939892148\n",
        "2800"
       ]
      },
      {
       "output_type": "stream",
       "stream": "stdout",
       "text": [
        " touchy-nerd-massage-san-francisco blue-bottle-coffee-co-san-francisco-7 0.999863157272\n",
        "2900"
       ]
      },
      {
       "output_type": "stream",
       "stream": "stdout",
       "text": [
        " house-of-rejuvenate-san-francisco-2 blue-bottle-coffee-co-san-francisco-7 0.999823052962\n",
        "3000"
       ]
      },
      {
       "output_type": "stream",
       "stream": "stdout",
       "text": [
        " spa-vitale-san-francisco ozumo-san-francisco 0.999832286142\n",
        "3100"
       ]
      },
      {
       "output_type": "stream",
       "stream": "stdout",
       "text": [
        " visage-studio-san-francisco hard-knox-cafe-san-francisco 0.999668319627\n",
        "3200"
       ]
      },
      {
       "output_type": "stream",
       "stream": "stdout",
       "text": [
        " dermasolutions-burlingame tpumps-san-mateo 0.99959632785\n",
        "3300"
       ]
      },
      {
       "output_type": "stream",
       "stream": "stdout",
       "text": [
        " hair-by-rachel-corte-madera sol-food-puerto-rican-cuisine-san-rafael-2 0.980011276164\n",
        "3400"
       ]
      },
      {
       "output_type": "stream",
       "stream": "stdout",
       "text": [
        " at-one-ten-salon-san-mateo tpumps-san-mateo 0.999857703943\n",
        "3500"
       ]
      },
      {
       "output_type": "stream",
       "stream": "stdout",
       "text": [
        " lumora-luxe-nail-bar-san-mateo tpumps-san-mateo 0.999941641995\n",
        "3600"
       ]
      },
      {
       "output_type": "stream",
       "stream": "stdout",
       "text": [
        " a-jeunesse-skin-care-clinic-belmont santa-ramen-san-mateo-2 0.999633281331\n",
        "3700"
       ]
      },
      {
       "output_type": "stream",
       "stream": "stdout",
       "text": [
        " albany-sauna-albany t-rex-barbeque-restaurant-and-bar-berkeley 0.999106395312\n",
        "3800"
       ]
      },
      {
       "output_type": "stream",
       "stream": "stdout",
       "text": [
        " great-clips-belmont jacks-prime-burgers-and-shakes-san-mateo-3 0.993695519587\n",
        "3900"
       ]
      },
      {
       "output_type": "stream",
       "stream": "stdout",
       "text": [
        " ashira-salon-albany chez-panisse-berkeley 0.994853099986\n",
        "4000"
       ]
      },
      {
       "output_type": "stream",
       "stream": "stdout",
       "text": [
        " house-nails-spa-belmont town-san-carlos 0.997457168699\n",
        "4100"
       ]
      },
      {
       "output_type": "stream",
       "stream": "stdout",
       "text": [
        " salon-q-foster-city jacks-prime-burgers-and-shakes-san-mateo-3 0.998202254708\n",
        "4200"
       ]
      },
      {
       "output_type": "stream",
       "stream": "stdout",
       "text": [
        " dawsons-stress-reduction-oakland mua-oakland-2 0.99960477295\n",
        "4300"
       ]
      },
      {
       "output_type": "stream",
       "stream": "stdout",
       "text": [
        " t-nails-oakland berkeley-bowl-berkeley 0.99982532012\n",
        "4400"
       ]
      },
      {
       "output_type": "stream",
       "stream": "stdout",
       "text": [
        " great-clips-for-hair-foster-city tpumps-san-mateo 0.997896846234\n",
        "4500"
       ]
      },
      {
       "output_type": "stream",
       "stream": "stdout",
       "text": [
        " 17-jewels-salon-spa-oakland bakesale-betty-oakland 0.998771342739\n",
        "4600"
       ]
      },
      {
       "output_type": "stream",
       "stream": "stdout",
       "text": [
        " kinukos-beauty-creation-alameda sushi-house-alameda 0.998844765915\n",
        "4700"
       ]
      },
      {
       "output_type": "stream",
       "stream": "stdout",
       "text": [
        " givae-salon-oakland-2 mua-oakland-2 0.997782981565\n",
        "4800"
       ]
      },
      {
       "output_type": "stream",
       "stream": "stdout",
       "text": [
        " nail-care-by-amy-oakland-2 lake-chalet-seafood-bar-and-grill-oakland 0.999429048398\n",
        "4900"
       ]
      },
      {
       "output_type": "stream",
       "stream": "stdout",
       "text": [
        " smooth-and-sassy-berkeley ici-ice-cream-berkeley 0.999669353221\n",
        "5000"
       ]
      },
      {
       "output_type": "stream",
       "stream": "stdout",
       "text": [
        " kristen-at-millies-alameda la-penca-azul-alameda-4 0.998492286302\n",
        "5100"
       ]
      },
      {
       "output_type": "stream",
       "stream": "stdout",
       "text": [
        " additional-touch-spalon-pacifica gorilla-barbeque-pacifica 0.97970489104\n",
        "5200"
       ]
      },
      {
       "output_type": "stream",
       "stream": "stdout",
       "text": [
        " clarifying-waters-redwood-city old-port-lobster-shack-redwood-city 0.999616032833\n",
        "5300"
       ]
      },
      {
       "output_type": "stream",
       "stream": "stdout",
       "text": [
        " k-and-nancys-nails-oakland champa-garden-oakland 0.993496395425\n",
        "5400"
       ]
      },
      {
       "output_type": "stream",
       "stream": "stdout",
       "text": [
        " annie-beauty-salon-oakland world-ground-cafe-oakland-2 0.953509617237\n",
        "5500"
       ]
      },
      {
       "output_type": "stream",
       "stream": "stdout",
       "text": [
        " foreviva-medical-clinique-menlo-park cafe-borrone-menlo-park 0.999689920451\n",
        "5600"
       ]
      },
      {
       "output_type": "stream",
       "stream": "stdout",
       "text": [
        " just-say-yes-massage-and-ergonomics-orinda royal-ground-coffee-orinda 0.972628898768\n",
        "5700"
       ]
      },
      {
       "output_type": "stream",
       "stream": "stdout",
       "text": [
        " black-magic-san-leandro safeway-san-leandro 0.936097476142\n",
        "5800"
       ]
      },
      {
       "output_type": "stream",
       "stream": "stdout",
       "text": [
        " cheries-salon-san-leandro economy-market-san-leandro 0.948440816623\n",
        "5900"
       ]
      },
      {
       "output_type": "stream",
       "stream": "stdout",
       "text": [
        " cest-si-bon-pacifica koi-palace-daly-city 0.986653187666\n",
        "6000"
       ]
      },
      {
       "output_type": "stream",
       "stream": "stdout",
       "text": [
        " far-east-health-care-center-san-lorenzo lucky-supermarkets-san-lorenzo 0.986779220433\n",
        "6100"
       ]
      },
      {
       "output_type": "stream",
       "stream": "stdout",
       "text": [
        " lemor-permanent-cosmetics-lafayette chow-lafayette-2 0.995290478865\n",
        "6200"
       ]
      },
      {
       "output_type": "stream",
       "stream": "stdout",
       "text": [
        " mark-orrock-los-altos los-altos-grill-los-altos 0.996237926946\n",
        "6300"
       ]
      },
      {
       "output_type": "stream",
       "stream": "stdout",
       "text": [
        " positive-massage-therapy-los-altos cascal-mountain-view 0.995742813631\n",
        "6400"
       ]
      },
      {
       "output_type": "stream",
       "stream": "stdout",
       "text": [
        " nancys-hair-design-castro-valley-2 vals-burgers-hayward 0.997697518378\n",
        "6500"
       ]
      },
      {
       "output_type": "stream",
       "stream": "stdout",
       "text": [
        " hayward-department-hayward buffalo-bills-brew-pub-hayward 0.996908714146\n",
        "6600"
       ]
      },
      {
       "output_type": "stream",
       "stream": "stdout",
       "text": [
        " howard-l-rosenberg-md-facs-mountain-view-3 cascal-mountain-view 0.999372345998\n",
        "6700"
       ]
      },
      {
       "output_type": "stream",
       "stream": "stdout",
       "text": [
        " hair-express-union-city texas-roadhouse-union-city 0.998332120069\n",
        "6800"
       ]
      },
      {
       "output_type": "stream",
       "stream": "stdout",
       "text": [
        " hair-by-maritza-johnson-mountain-view cascal-mountain-view 0.998319479328\n",
        "6900"
       ]
      },
      {
       "output_type": "stream",
       "stream": "stdout",
       "text": [
        " bella-salon-castro-valley vals-burgers-hayward 0.994023382897\n",
        "7000"
       ]
      },
      {
       "output_type": "stream",
       "stream": "stdout",
       "text": [
        " tj-salon-and-nail-spa-pleasant-hill jacks-restaurant-and-bar-pleasant-hill 0.987130675906\n",
        "7100"
       ]
      },
      {
       "output_type": "stream",
       "stream": "stdout",
       "text": [
        " beautiful-eyebrow-walnut-creek va-de-vi-bistro-and-wine-bar-walnut-creek 0.999412070966\n",
        "7200"
       ]
      },
      {
       "output_type": "stream",
       "stream": "stdout",
       "text": [
        " european-wax-center-pleasant-hill jacks-restaurant-and-bar-pleasant-hill 0.993295056034\n",
        "7300"
       ]
      },
      {
       "output_type": "stream",
       "stream": "stdout",
       "text": [
        " kim-p-beauty-care-newark carter-station-market-newark 0.969930325686\n",
        "7400"
       ]
      },
      {
       "output_type": "stream",
       "stream": "stdout",
       "text": [
        " cheries-hair-design-san-francisco-2 purple-kow-san-francisco-2 0.999546182139\n",
        "7500"
       ]
      },
      {
       "output_type": "stream",
       "stream": "stdout",
       "text": [
        " lakeshore-nails-san-francisco purple-kow-san-francisco-2 0.99921732385\n",
        "7600"
       ]
      },
      {
       "output_type": "stream",
       "stream": "stdout",
       "text": [
        " newark-excellent-massage-newark satomi-sushi-fremont 0.992621267942\n",
        "7700"
       ]
      },
      {
       "output_type": "stream",
       "stream": "stdout",
       "text": [
        " great-clips-concord starbucks-coffee-concord-3 0.989184562889\n",
        "7800"
       ]
      },
      {
       "output_type": "stream",
       "stream": "stdout",
       "text": [
        " christines-a-complete-you-danville the-peasant-and-the-pear-danville 0.971948832032\n",
        "7900"
       ]
      },
      {
       "output_type": "stream",
       "stream": "stdout",
       "text": [
        " khoobsurat-threading-salon-sunnyvale palace-bbq-buffet-sunnyvale 0.999313261715\n",
        "8000"
       ]
      },
      {
       "output_type": "stream",
       "stream": "stdout",
       "text": [
        " nail-nook-day-spa-newark country-way-fremont-2 0.99870779677\n",
        "8100"
       ]
      },
      {
       "output_type": "stream",
       "stream": "stdout",
       "text": [
        " amazing-foot-spa-santa-clara 99-chicken-santa-clara 0.999716114848\n",
        "8200"
       ]
      },
      {
       "output_type": "stream",
       "stream": "stdout",
       "text": [
        " suzan-petersen-esthetician-san-ramon-2 safeway-san-ramon-2 0.973467740073\n",
        "8300"
       ]
      },
      {
       "output_type": "stream",
       "stream": "stdout",
       "text": [
        " seans-barber-shop-santa-clara 99-chicken-santa-clara 0.999509139269\n",
        "8400"
       ]
      },
      {
       "output_type": "stream",
       "stream": "stdout",
       "text": [
        " shelly-spa-santa-clara 99-chicken-santa-clara 0.999115358685\n",
        "8500"
       ]
      },
      {
       "output_type": "stream",
       "stream": "stdout",
       "text": [
        " the-hair-shop-san-francisco kome-japanese-seafood-and-grill-buffet-daly-city 0.995439457572\n",
        "8600"
       ]
      },
      {
       "output_type": "stream",
       "stream": "stdout",
       "text": [
        " picture-machine-tattoo-san-francisco-2 purple-kow-san-francisco-2 0.99971060161\n",
        "8700"
       ]
      },
      {
       "output_type": "stream",
       "stream": "stdout",
       "text": [
        " eyebrow-plus-pleasanton the-cheesecake-factory-pleasanton 0.996035434326\n",
        "8800"
       ]
      },
      {
       "output_type": "stream",
       "stream": "stdout",
       "text": [
        " christina-morain-permanent-makeup-dublin-2 denicas-real-food-kitchen-dublin 0.989040862573\n",
        "8900"
       ]
      },
      {
       "output_type": "stream",
       "stream": "stdout",
       "text": [
        " courtney-killingsworth-pleasanton denicas-real-food-kitchen-dublin 0.981288599738\n",
        "9000"
       ]
      },
      {
       "output_type": "stream",
       "stream": "stdout",
       "text": [
        " susans-salon-san-francisco q-restaurant-and-wine-bar-san-francisco 0.999465084576\n",
        "9100"
       ]
      },
      {
       "output_type": "stream",
       "stream": "stdout",
       "text": [
        " lakeshore-salon-daly-city kome-japanese-seafood-and-grill-buffet-daly-city 0.999424489387\n",
        "9200"
       ]
      },
      {
       "output_type": "stream",
       "stream": "stdout",
       "text": [
        " hi-color-san-francisco spruce-san-francisco 0.999609889577\n",
        "9300"
       ]
      },
      {
       "output_type": "stream",
       "stream": "stdout",
       "text": [
        " chris-spa-san-francisco q-restaurant-and-wine-bar-san-francisco 0.999647923982\n",
        "9400"
       ]
      },
      {
       "output_type": "stream",
       "stream": "stdout",
       "text": [
        " trimmers-san-francisco magnolia-pub-and-brewery-san-francisco 0.999579541193\n",
        "9500"
       ]
      },
      {
       "output_type": "stream",
       "stream": "stdout",
       "text": [
        " terese-taylor-san-francisco ritual-coffee-roasters-san-francisco 0.999766451233\n",
        "9600"
       ]
      },
      {
       "output_type": "stream",
       "stream": "stdout",
       "text": [
        " nice-cuts-san-francisco-4 isa-san-francisco 0.999404567569\n",
        "9700"
       ]
      },
      {
       "output_type": "stream",
       "stream": "stdout",
       "text": [
        " morello-family-chiropractic-south-san-francisco little-lucca-sandwich-shop-and-deli-south-san-francisco 0.998272582183\n",
        "9800"
       ]
      },
      {
       "output_type": "stream",
       "stream": "stdout",
       "text": [
        " brothers-barber-shop-san-francisco broken-record-san-francisco 0.999191879988\n",
        "9900"
       ]
      },
      {
       "output_type": "stream",
       "stream": "stdout",
       "text": [
        " cvs-el-cerrito t-rex-barbeque-restaurant-and-bar-berkeley 0.997895134588\n",
        "10000"
       ]
      },
      {
       "output_type": "stream",
       "stream": "stdout",
       "text": [
        " civic-center-pharmacy-richmond heng-fath-supermarket-richmond 0.952305427946\n",
        "10100"
       ]
      },
      {
       "output_type": "stream",
       "stream": "stdout",
       "text": [
        " moms-pharmacy-san-francisco ritual-coffee-roasters-san-francisco 0.999876197539\n",
        "10200"
       ]
      },
      {
       "output_type": "stream",
       "stream": "stdout",
       "text": [
        " eggettes-south-san-francisco little-lucca-sandwich-shop-and-deli-south-san-francisco 0.999353796625\n",
        "10300"
       ]
      },
      {
       "output_type": "stream",
       "stream": "stdout",
       "text": [
        " juice-shop-truck-san-francisco blue-bottle-coffee-san-francisco-8 0.999923108813\n",
        "10400"
       ]
      },
      {
       "output_type": "stream",
       "stream": "stdout",
       "text": [
        " la-boulange-de-hayes-san-francisco-2 blue-bottle-coffee-san-francisco-8 0.999913088542\n",
        "10500"
       ]
      },
      {
       "output_type": "stream",
       "stream": "stdout",
       "text": [
        " victoria-liquors-and-groceries-san-francisco blue-bottle-coffee-san-francisco-8 0.999927734207\n",
        "10600"
       ]
      },
      {
       "output_type": "stream",
       "stream": "stdout",
       "text": [
        " freed-teller-and-freed-south-san-francisco little-lucca-sandwich-shop-and-deli-south-san-francisco 0.998044705134\n",
        "10700"
       ]
      },
      {
       "output_type": "stream",
       "stream": "stdout",
       "text": [
        " craftsman-and-wolves-san-francisco ritual-coffee-roasters-san-francisco 0.999926296331\n",
        "10800"
       ]
      },
      {
       "output_type": "stream",
       "stream": "stdout",
       "text": [
        " leos-hot-dogs-san-francisco ritual-coffee-roasters-san-francisco 0.999931900305\n",
        "10900"
       ]
      },
      {
       "output_type": "stream",
       "stream": "stdout",
       "text": [
        " valencia-whole-foods-san-francisco-2 ritual-coffee-roasters-san-francisco 0.999976401462\n",
        "11000"
       ]
      },
      {
       "output_type": "stream",
       "stream": "stdout",
       "text": [
        " real-food-company-san-francisco house-of-prime-rib-san-francisco 0.999872944116\n",
        "11100"
       ]
      },
      {
       "output_type": "stream",
       "stream": "stdout",
       "text": [
        " happy-donuts-san-francisco-16 dynamo-donuts-and-coffee-san-francisco 0.998057833974\n",
        "11200"
       ]
      },
      {
       "output_type": "stream",
       "stream": "stdout",
       "text": [
        " wise-sons-jewish-delicatessen-san-francisco-2 blue-bottle-coffee-co-san-francisco-7 0.999924848439\n",
        "11300"
       ]
      },
      {
       "output_type": "stream",
       "stream": "stdout",
       "text": [
        " l-and-l-liquors-san-francisco dynamo-donuts-and-coffee-san-francisco 0.999929545651\n",
        "11400"
       ]
      },
      {
       "output_type": "stream",
       "stream": "stdout",
       "text": [
        " jamba-juice-san-francisco-12 blue-bottle-coffee-co-san-francisco-7 0.999919042566\n",
        "11500"
       ]
      },
      {
       "output_type": "stream",
       "stream": "stdout",
       "text": [
        " lotus-bakeries-north-america-san-francisco hillstone-san-francisco 0.999796405523\n",
        "11600"
       ]
      },
      {
       "output_type": "stream",
       "stream": "stdout",
       "text": [
        " columbia-7-market-san-francisco the-stinking-rose-a-garlic-restaurant-san-francisco 0.999906134692\n",
        "11700"
       ]
      },
      {
       "output_type": "stream",
       "stream": "stdout",
       "text": [
        " golden-gate-meat-company-wholesale-san-francisco blue-bottle-coffee-co-san-francisco-7 0.999858936767\n",
        "11800"
       ]
      },
      {
       "output_type": "stream",
       "stream": "stdout",
       "text": [
        " coffee-choice-san-francisco blue-bottle-coffee-co-san-francisco-7 0.999890860286\n",
        "11900"
       ]
      },
      {
       "output_type": "stream",
       "stream": "stdout",
       "text": [
        " curry-up-now-truck-san-francisco blue-bottle-coffee-co-san-francisco-7 0.999888312334\n",
        "12000"
       ]
      },
      {
       "output_type": "stream",
       "stream": "stdout",
       "text": [
        " news-spot-san-francisco blue-bottle-coffee-co-san-francisco-7 0.999935439103\n",
        "12100"
       ]
      },
      {
       "output_type": "stream",
       "stream": "stdout",
       "text": [
        " specialtys-cafe-and-bakery-san-francisco-3 blue-bottle-coffee-co-san-francisco-7 0.999834834805\n",
        "12200"
       ]
      },
      {
       "output_type": "stream",
       "stream": "stdout",
       "text": [
        " nothing-bundt-cakes-millbrae millbrae-pancake-house-millbrae 0.998523776899\n",
        "12300"
       ]
      },
      {
       "output_type": "stream",
       "stream": "stdout",
       "text": [
        " j-and-s-mkt-richmond s-and-s-market-richmond 0.994145662742\n",
        "12400"
       ]
      },
      {
       "output_type": "stream",
       "stream": "stdout",
       "text": [
        " san-mateo-farmers-market-san-mateo-2 tpumps-san-mateo 0.999402763009\n",
        "12500"
       ]
      },
      {
       "output_type": "stream",
       "stream": "stdout",
       "text": [
        " franklin-market-san-mateo tpumps-san-mateo 0.999948885905\n",
        "12600"
       ]
      },
      {
       "output_type": "stream",
       "stream": "stdout",
       "text": [
        " delights-by-lisa-bakery-san-mateo santa-ramen-san-mateo-2 0.999786204122\n",
        "12700"
       ]
      },
      {
       "output_type": "stream",
       "stream": "stdout",
       "text": [
        " lucky-chevron-berkeley t-rex-barbeque-restaurant-and-bar-berkeley 0.999487043168\n",
        "12800"
       ]
      },
      {
       "output_type": "stream",
       "stream": "stdout",
       "text": [
        " bombay-spice-house-berkeley viks-chaat-berkeley 0.999523485013\n",
        "12900"
       ]
      },
      {
       "output_type": "stream",
       "stream": "stdout",
       "text": [
        " peets-coffee-and-tea-san-mateo-2 santa-ramen-san-mateo-2 0.99929729571\n",
        "13000"
       ]
      },
      {
       "output_type": "stream",
       "stream": "stdout",
       "text": [
        " freedom-farmers-market-oakland brown-sugar-kitchen-oakland 0.999445703079\n",
        "13100"
       ]
      },
      {
       "output_type": "stream",
       "stream": "stdout",
       "text": [
        " arlington-wine-and-spirits-kensington zacharys-chicago-pizza-berkeley 0.998092926728\n",
        "13200"
       ]
      },
      {
       "output_type": "stream",
       "stream": "stdout",
       "text": [
        " bee-healthy-honey-shop-oakland mua-oakland-2 0.999641917085\n",
        "13300"
       ]
      },
      {
       "output_type": "stream",
       "stream": "stdout",
       "text": [
        " ks-internet-cafe-berkeley berkeley-bowl-berkeley 0.999866137752\n",
        "13400"
       ]
      },
      {
       "output_type": "stream",
       "stream": "stdout",
       "text": [
        " hiens-market-oakland lake-chalet-seafood-bar-and-grill-oakland 0.999874172901\n",
        "13500"
       ]
      },
      {
       "output_type": "stream",
       "stream": "stdout",
       "text": [
        " temescal-produce-market-oakland bakesale-betty-oakland 0.999759236663\n",
        "13600"
       ]
      },
      {
       "output_type": "stream",
       "stream": "stdout",
       "text": [
        " grande-pizza-delivery-berkeley cream-berkeley-5 0.999799176383\n",
        "13700"
       ]
      },
      {
       "output_type": "stream",
       "stream": "stdout",
       "text": [
        " javis-cooking-oakland lake-chalet-seafood-bar-and-grill-oakland 0.999529450998\n",
        "13800"
       ]
      },
      {
       "output_type": "stream",
       "stream": "stdout",
       "text": [
        " ngoc-mi-cafe-oakland lake-chalet-seafood-bar-and-grill-oakland 0.999588117549\n",
        "13900"
       ]
      },
      {
       "output_type": "stream",
       "stream": "stdout",
       "text": [
        " colonial-donuts-oakland-3 lake-chalet-seafood-bar-and-grill-oakland 0.999035121042\n",
        "14000"
       ]
      },
      {
       "output_type": "stream",
       "stream": "stdout",
       "text": [
        " java-beach-at-the-zoo-san-francisco purple-kow-san-francisco-2 0.998840693858\n",
        "14100"
       ]
      },
      {
       "output_type": "stream",
       "stream": "stdout",
       "text": [
        " bonfare-market-3-alameda sushi-house-alameda 0.99960008348\n",
        "14200"
       ]
      },
      {
       "output_type": "stream",
       "stream": "stdout",
       "text": [
        " bevmo-redwood-city old-port-lobster-shack-redwood-city 0.999583878678\n",
        "14300"
       ]
      },
      {
       "output_type": "stream",
       "stream": "stdout",
       "text": [
        " caffino-redwood-city-3 old-port-lobster-shack-redwood-city 0.998652824354\n",
        "14400"
       ]
      },
      {
       "output_type": "stream",
       "stream": "stdout",
       "text": [
        " cake-couture-by-mel-oakland-2 world-ground-cafe-oakland-2 0.972065274453\n",
        "14500"
       ]
      },
      {
       "output_type": "stream",
       "stream": "stdout",
       "text": [
        " baskin-robbins-menlo-park-3 sprinkles-cupcakes-palo-alto 0.999704938212\n",
        "14600"
       ]
      },
      {
       "output_type": "stream",
       "stream": "stdout",
       "text": [
        " starbucks-coffee-palo-alto-9 nola-restaurant-and-bar-palo-alto 0.999865913807\n",
        "14700"
       ]
      },
      {
       "output_type": "stream",
       "stream": "stdout",
       "text": [
        " quik-stop-san-leandro-2 englander-sports-pub-and-restaurant-san-leandro 0.989375985508\n",
        "14800"
       ]
      },
      {
       "output_type": "stream",
       "stream": "stdout",
       "text": [
        " the-art-bistro-san-francisco purple-kow-san-francisco-2 0.999943939329\n",
        "14900"
       ]
      },
      {
       "output_type": "stream",
       "stream": "stdout",
       "text": [
        " garden-super-market-palo-alto ikea-east-palo-alto 0.998115461868\n",
        "15000"
       ]
      },
      {
       "output_type": "stream",
       "stream": "stdout",
       "text": [
        " century-liquors-palo-alto nola-restaurant-and-bar-palo-alto 0.998370505574\n",
        "15100"
       ]
      },
      {
       "output_type": "stream",
       "stream": "stdout",
       "text": [
        " 7-eleven-hayward-3 texas-roadhouse-union-city 0.986101689184\n",
        "15200"
       ]
      },
      {
       "output_type": "stream",
       "stream": "stdout",
       "text": [
        " united-paleteria-y-neveria-hayward vals-burgers-hayward 0.997279443647\n",
        "15300"
       ]
      },
      {
       "output_type": "stream",
       "stream": "stdout",
       "text": [
        " starbucks-castro-valley vals-burgers-hayward 0.998439361166\n",
        "15400"
       ]
      },
      {
       "output_type": "stream",
       "stream": "stdout",
       "text": [
        " baskin-robbins-castro-valley-2 vals-burgers-hayward 0.99813315734\n",
        "15500"
       ]
      },
      {
       "output_type": "stream",
       "stream": "stdout",
       "text": [
        " j-town-express-concord claim-jumper-concord-2 0.986880610452\n",
        "15600"
       ]
      },
      {
       "output_type": "stream",
       "stream": "stdout",
       "text": [
        " pinkberry-walnut-creek va-de-vi-bistro-and-wine-bar-walnut-creek 0.999088170515\n",
        "15700"
       ]
      },
      {
       "output_type": "stream",
       "stream": "stdout",
       "text": [
        " chit-chat-desserts-walnut-creek va-de-vi-bistro-and-wine-bar-walnut-creek 0.998235440114\n",
        "15800"
       ]
      },
      {
       "output_type": "stream",
       "stream": "stdout",
       "text": [
        " fresh-donuts-and-bagels-fremont texas-roadhouse-union-city 0.994340087098\n",
        "15900"
       ]
      },
      {
       "output_type": "stream",
       "stream": "stdout",
       "text": [
        " bacon-bacon-sf-food-truck-san-francisco-2 kome-japanese-seafood-and-grill-buffet-daly-city 0.999391448184\n",
        "16000"
       ]
      },
      {
       "output_type": "stream",
       "stream": "stdout",
       "text": [
        " rachel-dunn-chocolates-concord foodmaxx-concord-2 0.959942121173\n",
        "16100"
       ]
      },
      {
       "output_type": "stream",
       "stream": "stdout",
       "text": [
        " zee-kitchen-sunnyvale dishdash-sunnyvale 0.999680097587\n",
        "16200"
       ]
      },
      {
       "output_type": "stream",
       "stream": "stdout",
       "text": [
        " taqueria-margaritas-truck-sunnyvale palace-bbq-buffet-sunnyvale 0.999650356736\n",
        "16300"
       ]
      },
      {
       "output_type": "stream",
       "stream": "stdout",
       "text": [
        " honeybaked-ham-co-fremont country-way-fremont-2 0.99916485393\n",
        "16400"
       ]
      },
      {
       "output_type": "stream",
       "stream": "stdout",
       "text": [
        " big-mug-coffee-roaster-santa-clara 99-chicken-santa-clara 0.999777265691\n",
        "16500"
       ]
      },
      {
       "output_type": "stream",
       "stream": "stdout",
       "text": [
        " its-a-grind-fremont snowflake-teahouse-fremont 0.999788081249\n",
        "16600"
       ]
      },
      {
       "output_type": "stream",
       "stream": "stdout",
       "text": [
        " yogurt-mantra-fremont lucky-supermarket-fremont-4 0.986806984619\n",
        "16700"
       ]
      },
      {
       "output_type": "stream",
       "stream": "stdout",
       "text": [
        " le-petit-croissant-san-jose pepper-lunch-usa-milpitas 0.998852544189\n",
        "16800"
       ]
      },
      {
       "output_type": "stream",
       "stream": "stdout",
       "text": [
        " wah-lian-supermarket-san-francisco purple-kow-san-francisco-2 0.999907163743\n",
        "16900"
       ]
      },
      {
       "output_type": "stream",
       "stream": "stdout",
       "text": [
        " godiva-chocolatier-pleasanton the-cheesecake-factory-pleasanton 0.993589590463\n",
        "17000"
       ]
      },
      {
       "output_type": "stream",
       "stream": "stdout",
       "text": [
        " starbucks-fremont-14 tea-papa-fremont 0.996681221303\n",
        "17100"
       ]
      },
      {
       "output_type": "stream",
       "stream": "stdout",
       "text": [
        " peacock-indian-cuisine-dublin denicas-real-food-kitchen-dublin 0.997117547315\n",
        "17200"
       ]
      },
      {
       "output_type": "stream",
       "stream": "stdout",
       "text": [
        " skylark-wine-company-san-francisco kome-japanese-seafood-and-grill-buffet-daly-city 0.999084345261\n",
        "17300"
       ]
      },
      {
       "output_type": "stream",
       "stream": "stdout",
       "text": [
        " west-portal-health-and-nutrition-center-san-francisco park-chow-san-francisco 0.998212131718\n",
        "17400"
       ]
      },
      {
       "output_type": "stream",
       "stream": "stdout",
       "text": [
        " do-uc-us-truck-san-francisco park-chow-san-francisco 0.999822401019\n",
        "17500"
       ]
      },
      {
       "output_type": "stream",
       "stream": "stdout",
       "text": [
        " urbanfresh-com-san-francisco magnolia-pub-and-brewery-san-francisco 0.999922487121\n",
        "17600"
       ]
      },
      {
       "output_type": "stream",
       "stream": "stdout",
       "text": [
        " bi-rite-market-san-francisco-3 nopa-san-francisco 0.99985265768\n",
        "17700"
       ]
      },
      {
       "output_type": "stream",
       "stream": "stdout",
       "text": [
        " les-croissants-cafe-san-francisco blue-bottle-coffee-san-francisco-8 0.999898630945\n",
        "17800"
       ]
      },
      {
       "output_type": "stream",
       "stream": "stdout",
       "text": [
        " max-muscle-san-francisco four-barrel-coffee-san-francisco 0.999825552634\n",
        "17900"
       ]
      },
      {
       "output_type": "stream",
       "stream": "stdout",
       "text": [
        " valley-plumbing-co-walnut-creek safeway-walnut-creek-2 0.974510756827\n",
        "18000"
       ]
      },
      {
       "output_type": "stream",
       "stream": "stdout",
       "text": [
        " mister-sparky-concord-2 foodmaxx-concord-2 0.982222351139\n",
        "18100"
       ]
      },
      {
       "output_type": "stream",
       "stream": "stdout",
       "text": [
        " apricot-pit-apartments-sunnyvale bon-chon-chicken-sunnyvale-2 0.998944452526\n",
        "18200"
       ]
      },
      {
       "output_type": "stream",
       "stream": "stdout",
       "text": [
        " verandas-union-city satomi-sushi-fremont 0.997891169622\n",
        "18300"
       ]
      },
      {
       "output_type": "stream",
       "stream": "stdout",
       "text": [
        " aaa-appliance-and-air-conditioning-repair-service-union-city satomi-sushi-fremont 0.995915452502\n",
        "18400"
       ]
      },
      {
       "output_type": "stream",
       "stream": "stdout",
       "text": [
        " sharen-and-ed-metz-j-rockcliff-realtors-danville the-peasant-and-the-pear-danville 0.990384238143\n",
        "18500"
       ]
      },
      {
       "output_type": "stream",
       "stream": "stdout",
       "text": [
        " orchard-supply-hardware-santa-clara paris-baguette-santa-clara 0.999773135682\n",
        "18600"
       ]
      },
      {
       "output_type": "stream",
       "stream": "stdout",
       "text": [
        " buffalo-landscape-company-danville the-peasant-and-the-pear-danville 0.990978108494\n",
        "18700"
       ]
      },
      {
       "output_type": "stream",
       "stream": "stdout",
       "text": [
        " quality-fence-fremont satomi-sushi-fremont 0.997761516585\n",
        "18800"
       ]
      },
      {
       "output_type": "stream",
       "stream": "stdout",
       "text": [
        " air-on-demand-concord-3 safeway-concord 0.956381955731\n",
        "18900"
       ]
      },
      {
       "output_type": "stream",
       "stream": "stdout",
       "text": [
        " short-sale-specialists-san-ramon safeway-san-ramon-2 0.974281289\n",
        "19000"
       ]
      },
      {
       "output_type": "stream",
       "stream": "stdout",
       "text": [
        " goulart-masonry-and-concrete-san-ramon costco-danville 0.981514669102\n",
        "19100"
       ]
      },
      {
       "output_type": "stream",
       "stream": "stdout",
       "text": [
        " guardian-gutters-fremont snowflake-teahouse-fremont 0.998064945374\n",
        "19200"
       ]
      },
      {
       "output_type": "stream",
       "stream": "stdout",
       "text": [
        " clear-waters-swimming-pool-and-spa-service-clayton safeway-clayton 0.982659781658\n",
        "19300"
       ]
      },
      {
       "output_type": "stream",
       "stream": "stdout",
       "text": [
        " tri-county-insulation-santa-clara athena-grill-santa-clara 0.996406767324\n",
        "19400"
       ]
      },
      {
       "output_type": "stream",
       "stream": "stdout",
       "text": [
        " justo-blanket-wrap-delivery-service-santa-clara athena-grill-santa-clara 0.996717971582\n",
        "19500"
       ]
      },
      {
       "output_type": "stream",
       "stream": "stdout",
       "text": [
        " amarante-properties-santa-clara 99-chicken-santa-clara 0.996679307954\n",
        "19600"
       ]
      },
      {
       "output_type": "stream",
       "stream": "stdout",
       "text": [
        " verizon-wireless-san-francisco-31 kome-japanese-seafood-and-grill-buffet-daly-city 0.999308087931\n",
        "19700"
       ]
      },
      {
       "output_type": "stream",
       "stream": "stdout",
       "text": [
        " custom-fireplace-patio-and-bbq-dublin amakara-dublin 0.996301883029\n",
        "19800"
       ]
      },
      {
       "output_type": "stream",
       "stream": "stdout",
       "text": [
        " annette-khaliq-bmc-real-estate-blackhawk draegers-market-danville 0.979355204752\n",
        "19900"
       ]
      },
      {
       "output_type": "stream",
       "stream": "stdout",
       "text": [
        " custom-cabinets-and-doors-san-jose smoking-pig-bbq-san-jose 0.995636931674\n",
        "20000"
       ]
      },
      {
       "output_type": "stream",
       "stream": "stdout",
       "text": [
        " panetta-concrete-dublin denicas-real-food-kitchen-dublin 0.979360743349\n",
        "20100"
       ]
      },
      {
       "output_type": "stream",
       "stream": "stdout",
       "text": [
        " the-marble-master-san-jose mogo-bbq-san-jose-3 0.999450153277\n",
        "20200"
       ]
      },
      {
       "output_type": "stream",
       "stream": "stdout",
       "text": [
        " apex-apartment-community-milpitas pepper-lunch-usa-milpitas 0.999668054954\n",
        "20300"
       ]
      },
      {
       "output_type": "stream",
       "stream": "stdout",
       "text": [
        " park-west-apartments-san-francisco park-chow-san-francisco 0.999759674304\n",
        "20400"
       ]
      },
      {
       "output_type": "stream",
       "stream": "stdout",
       "text": [
        " john-c-fitzgerald-san-francisco isa-san-francisco 0.999326873271\n",
        "20500"
       ]
      },
      {
       "output_type": "stream",
       "stream": "stdout",
       "text": [
        " shoen-real-estate-tiburon sams-anchor-cafe-tiburon 0.994241627395\n",
        "20600"
       ]
      },
      {
       "output_type": "stream",
       "stream": "stdout",
       "text": [
        " walker-property-evaluation-services-san-bruno little-lucca-sandwich-shop-and-deli-south-san-francisco 0.990220558705\n",
        "20700"
       ]
      },
      {
       "output_type": "stream",
       "stream": "stdout",
       "text": [
        " california-home-improvement-solutions-san-francisco-2 ritual-coffee-roasters-san-francisco 0.999221143054\n",
        "20800"
       ]
      },
      {
       "output_type": "stream",
       "stream": "stdout",
       "text": [
        " relisto-san-francisco-2 nopa-san-francisco 0.99973058556\n",
        "20900"
       ]
      },
      {
       "output_type": "stream",
       "stream": "stdout",
       "text": [
        " nancy-corsaut-zephyr-real-estate-san-francisco-2 fresca-san-francisco-4 0.999710462858\n",
        "21000"
       ]
      },
      {
       "output_type": "stream",
       "stream": "stdout",
       "text": [
        " nicholas-rose-vanguard-properties-san-francisco-2 ritual-coffee-roasters-san-francisco 0.999804285158\n",
        "21100"
       ]
      },
      {
       "output_type": "stream",
       "stream": "stdout",
       "text": [
        " caroline-scott-zephyr-real-estate-san-francisco ritual-coffee-roasters-san-francisco 0.99982977373\n",
        "21200"
       ]
      },
      {
       "output_type": "stream",
       "stream": "stdout",
       "text": [
        " j-d-mathew-construction-inc-mill-valley whole-foods-market-blithedale-mill-valley 0.982327430298\n",
        "21300"
       ]
      },
      {
       "output_type": "stream",
       "stream": "stdout",
       "text": [
        " garden-apothecary-half-moon-bay pasta-moon-half-moon-bay 0.99159222365\n",
        "21400"
       ]
      },
      {
       "output_type": "stream",
       "stream": "stdout",
       "text": [
        " twin-manor-apartments-south-san-francisco little-lucca-sandwich-shop-and-deli-south-san-francisco 0.998701964836\n",
        "21500"
       ]
      },
      {
       "output_type": "stream",
       "stream": "stdout",
       "text": [
        " mary-lace-san-francisco-2 ruths-chris-steak-house-san-francisco 0.999751344003\n",
        "21600"
       ]
      },
      {
       "output_type": "stream",
       "stream": "stdout",
       "text": [
        " quality-kitchen-cabinets-of-san-francisco-san-francisco rainbow-grocery-san-francisco 0.999926027855\n",
        "21700"
       ]
      },
      {
       "output_type": "stream",
       "stream": "stdout",
       "text": [
        " vanguard-properties-san-francisco ritual-coffee-roasters-san-francisco 0.999962718255\n",
        "21800"
       ]
      },
      {
       "output_type": "stream",
       "stream": "stdout",
       "text": [
        " jeannie-m-anderson-real-estate-agent-san-francisco blue-bottle-coffee-san-francisco-8 0.99991040061\n",
        "21900"
       ]
      },
      {
       "output_type": "stream",
       "stream": "stdout",
       "text": [
        " swift-restoration-san-francisco blue-bottle-coffee-co-san-francisco-7 0.999823590852\n",
        "22000"
       ]
      },
      {
       "output_type": "stream",
       "stream": "stdout",
       "text": [
        " the-circuit-doctor-san-francisco rainbow-grocery-san-francisco 0.999908115839\n",
        "22100"
       ]
      },
      {
       "output_type": "stream",
       "stream": "stdout",
       "text": [
        " kevin-stephens-design-group-san-francisco rainbow-grocery-san-francisco 0.999888837317\n",
        "22200"
       ]
      },
      {
       "output_type": "stream",
       "stream": "stdout",
       "text": [
        " vital-restoration-south-san-francisco-2 little-lucca-sandwich-shop-and-deli-south-san-francisco 0.996875792698\n",
        "22300"
       ]
      },
      {
       "output_type": "stream",
       "stream": "stdout",
       "text": [
        " spherepad-san-francisco the-stinking-rose-a-garlic-restaurant-san-francisco 0.999782041564\n",
        "22400"
       ]
      },
      {
       "output_type": "stream",
       "stream": "stdout",
       "text": [
        " mark-t-voelker-san-francisco dynamo-donuts-and-coffee-san-francisco 0.998269428107\n",
        "22500"
       ]
      },
      {
       "output_type": "stream",
       "stream": "stdout",
       "text": [
        " landmark-realty-san-francisco-5 rainbow-grocery-san-francisco 0.999929520693\n",
        "22600"
       ]
      },
      {
       "output_type": "stream",
       "stream": "stdout",
       "text": [
        " mike-broermann-san-francisco blue-bottle-coffee-co-san-francisco-7 0.999909704619\n",
        "22700"
       ]
      },
      {
       "output_type": "stream",
       "stream": "stdout",
       "text": [
        " austin-andruss-opes-advisors-san-francisco blue-bottle-coffee-co-san-francisco-7 0.999758944779\n",
        "22800"
       ]
      },
      {
       "output_type": "stream",
       "stream": "stdout",
       "text": [
        " tomcat-moving-and-hauling-san-francisco blue-bottle-coffee-co-san-francisco-7 0.999948636077\n",
        "22900"
       ]
      },
      {
       "output_type": "stream",
       "stream": "stdout",
       "text": [
        " doyle-electric-san-francisco dynamo-donuts-and-coffee-san-francisco 0.999883327371\n",
        "23000"
       ]
      },
      {
       "output_type": "stream",
       "stream": "stdout",
       "text": [
        " budget-flooring-san-francisco dynamo-donuts-and-coffee-san-francisco 0.999936310003\n",
        "23100"
       ]
      },
      {
       "output_type": "stream",
       "stream": "stdout",
       "text": [
        " guidry-concrete-construction-san-francisco dynamo-donuts-and-coffee-san-francisco 0.999800923724\n",
        "23200"
       ]
      },
      {
       "output_type": "stream",
       "stream": "stdout",
       "text": [
        " verns-lock-shop-millbrae millbrae-pancake-house-millbrae 0.998983246566\n",
        "23300"
       ]
      },
      {
       "output_type": "stream",
       "stream": "stdout",
       "text": [
        " excelsior-roofing-company-san-francisco dynamo-donuts-and-coffee-san-francisco 0.999084409704\n",
        "23400"
       ]
      },
      {
       "output_type": "stream",
       "stream": "stdout",
       "text": [
        " steven-oliphant-san-rafael sol-food-puerto-rican-cuisine-san-rafael-2 0.99957075586\n",
        "23500"
       ]
      },
      {
       "output_type": "stream",
       "stream": "stdout",
       "text": [
        " bear-bottom-farms-richmond luang-nampha-market-san-pablo 0.943010593023\n",
        "23600"
       ]
      },
      {
       "output_type": "stream",
       "stream": "stdout",
       "text": [
        " ridgeway-electric-burlingame-2 tpumps-san-mateo 0.999337507019\n",
        "23700"
       ]
      },
      {
       "output_type": "stream",
       "stream": "stdout",
       "text": [
        " jacobson-transfer-piano-movers-burlingame tpumps-san-mateo 0.999557453654\n",
        "23800"
       ]
      },
      {
       "output_type": "stream",
       "stream": "stdout",
       "text": [
        " armens-door-company-san-mateo tpumps-san-mateo 0.99977171402\n",
        "23900"
       ]
      },
      {
       "output_type": "stream",
       "stream": "stdout",
       "text": [
        " a-1-overhead-door-company-san-mateo tpumps-san-mateo 0.999855736147\n",
        "24000"
       ]
      },
      {
       "output_type": "stream",
       "stream": "stdout",
       "text": [
        " custom-glass-tinting-richmond catahoula-coffee-company-richmond 0.989415271848\n",
        "24100"
       ]
      },
      {
       "output_type": "stream",
       "stream": "stdout",
       "text": [
        " nathan-nunes-san-mateo tpumps-san-mateo 0.999870325347\n",
        "24200"
       ]
      },
      {
       "output_type": "stream",
       "stream": "stdout",
       "text": [
        " hillside-gardens-apartments-el-cerrito t-rex-barbeque-restaurant-and-bar-berkeley 0.99176985319\n",
        "24300"
       ]
      },
      {
       "output_type": "stream",
       "stream": "stdout",
       "text": [
        " eileen-horan-mortgage-california-san-mateo-2 tpumps-san-mateo 0.999575987578\n",
        "24400"
       ]
      },
      {
       "output_type": "stream",
       "stream": "stdout",
       "text": [
        " jim-bustos-plumbing-alameda home-of-chicken-and-waffles-oakland 0.998427848077\n",
        "24500"
       ]
      },
      {
       "output_type": "stream",
       "stream": "stdout",
       "text": [
        " ascend-financial-mortgage-san-mateo-2 jacks-prime-burgers-and-shakes-san-mateo-3 0.99903760329\n",
        "24600"
       ]
      },
      {
       "output_type": "stream",
       "stream": "stdout",
       "text": [
        " berkeley-mills-berkeley 900-grayson-berkeley-2 0.999630385605\n",
        "24700"
       ]
      },
      {
       "output_type": "stream",
       "stream": "stdout",
       "text": [
        " sullivan-counter-tops-oakland berkeley-bowl-berkeley 0.999315571585\n",
        "24800"
       ]
      },
      {
       "output_type": "stream",
       "stream": "stdout",
       "text": [
        " inspector-ian-oakland rudys-cant-fail-caf\u00e9-emeryville-2 0.999636904624\n",
        "24900"
       ]
      },
      {
       "output_type": "stream",
       "stream": "stdout",
       "text": [
        " green-plum-design-kensington-2 zacharys-chicago-pizza-berkeley 0.997650009374\n",
        "25000"
       ]
      },
      {
       "output_type": "stream",
       "stream": "stdout",
       "text": [
        " hyer-architecture-kensington zacharys-chicago-pizza-berkeley 0.997604740598\n",
        "25100"
       ]
      },
      {
       "output_type": "stream",
       "stream": "stdout",
       "text": [
        " santilli-and-forster-construction-oakland berkeley-bowl-berkeley 0.999825918495\n",
        "25200"
       ]
      },
      {
       "output_type": "stream",
       "stream": "stdout",
       "text": [
        " cheryl-berger-berkeley chez-panisse-berkeley 0.99967422275\n",
        "25300"
       ]
      },
      {
       "output_type": "stream",
       "stream": "stdout",
       "text": [
        " mccannon-design-oakland berkeley-bowl-berkeley 0.999819690378\n",
        "25400"
       ]
      },
      {
       "output_type": "stream",
       "stream": "stdout",
       "text": [
        " evans-pest-management-and-tree-care-redwood-city town-san-carlos 0.994291414793\n",
        "25500"
       ]
      },
      {
       "output_type": "stream",
       "stream": "stdout",
       "text": [
        " renee-daskalakis-re-max-san-carlos town-san-carlos 0.999594052481\n",
        "25600"
       ]
      },
      {
       "output_type": "stream",
       "stream": "stdout",
       "text": [
        " magic-construction-foster-city tpumps-san-mateo 0.991993231786\n",
        "25700"
       ]
      },
      {
       "output_type": "stream",
       "stream": "stdout",
       "text": [
        " pacific-landscaping-designs-lawn-aeration-and-maintenance-san-carlos town-san-carlos 0.99973999853\n",
        "25800"
       ]
      },
      {
       "output_type": "stream",
       "stream": "stdout",
       "text": [
        " big-family-movers-oakland lake-chalet-seafood-bar-and-grill-oakland 0.999489573616\n",
        "25900"
       ]
      },
      {
       "output_type": "stream",
       "stream": "stdout",
       "text": [
        " wilson-associates-oakland berkeley-bowl-berkeley 0.999340510567\n",
        "26000"
       ]
      },
      {
       "output_type": "stream",
       "stream": "stdout",
       "text": [
        " aba-hearth-and-home-san-carlos town-san-carlos 0.99903618775\n",
        "26100"
       ]
      },
      {
       "output_type": "stream",
       "stream": "stdout",
       "text": [
        " bodnar-heating-and-air-conditioning-inc-redwood-city old-port-lobster-shack-redwood-city 0.998337296587\n",
        "26200"
       ]
      },
      {
       "output_type": "stream",
       "stream": "stdout",
       "text": [
        " chuck-and-nancy-bianchi-harbor-bay-realty-alameda-2 sushi-house-alameda 0.998934549158\n",
        "26300"
       ]
      },
      {
       "output_type": "stream",
       "stream": "stdout",
       "text": [
        " expert-plumbing-solutions-san-francisco purple-kow-san-francisco-2 0.999838537861\n",
        "26400"
       ]
      },
      {
       "output_type": "stream",
       "stream": "stdout",
       "text": [
        " perri-marble-and-tile-inc-alameda sushi-house-alameda 0.99916438193\n",
        "26500"
       ]
      },
      {
       "output_type": "stream",
       "stream": "stdout",
       "text": [
        " susan-hershman-studio-one-design-oakland champa-garden-oakland 0.996659709107\n",
        "26600"
       ]
      },
      {
       "output_type": "stream",
       "stream": "stdout",
       "text": [
        " white-brothers-mill-oakland sushi-house-alameda 0.996980646707\n",
        "26700"
       ]
      },
      {
       "output_type": "stream",
       "stream": "stdout",
       "text": [
        " diane-earl-mccan-redwood-heights-realtor-oakland lucky-supermarket-oakland-2 0.989404072299\n",
        "26800"
       ]
      },
      {
       "output_type": "stream",
       "stream": "stdout",
       "text": [
        " oakland-hills-brush-clearing-oakland safeway-oakland-5 0.983780450167\n",
        "26900"
       ]
      },
      {
       "output_type": "stream",
       "stream": "stdout",
       "text": [
        " melissa-milton-lasalle-financial-oakland safeway-oakland-5 0.983892962262\n",
        "27000"
       ]
      },
      {
       "output_type": "stream",
       "stream": "stdout",
       "text": [
        " coitcom-satellite-tv-redwood-city old-port-lobster-shack-redwood-city 0.997522589955\n",
        "27100"
       ]
      },
      {
       "output_type": "stream",
       "stream": "stdout",
       "text": [
        " judy-citron-alain-pinel-realtors-menlo-park cafe-borrone-menlo-park 0.998937478081\n",
        "27200"
       ]
      },
      {
       "output_type": "stream",
       "stream": "stdout",
       "text": [
        " marshall-and-co-property-management-san-rafael sol-food-puerto-rican-cuisine-san-rafael-2 0.997661963555\n",
        "27300"
       ]
      },
      {
       "output_type": "stream",
       "stream": "stdout",
       "text": [
        " r-and-a-dynasty-carpet-care-orinda royal-ground-coffee-orinda 0.984239935719\n",
        "27400"
       ]
      },
      {
       "output_type": "stream",
       "stream": "stdout",
       "text": [
        " hartsog-corporation-american-refrigeration-and-air-conditioning-co-san-leandro new-sang-chong-market-san-leandro 0.969601784877\n",
        "27500"
       ]
      },
      {
       "output_type": "stream",
       "stream": "stdout",
       "text": [
        " kone-elevators-san-leandro la-pinata-restaurant-san-leandro 0.982254910293\n",
        "27600"
       ]
      },
      {
       "output_type": "stream",
       "stream": "stdout",
       "text": [
        " carlson-pressure-washing-menlo-park nola-restaurant-and-bar-palo-alto 0.999372545405\n",
        "27700"
       ]
      },
      {
       "output_type": "stream",
       "stream": "stdout",
       "text": [
        " frontier-mortgage-corporation-san-leandro englander-sports-pub-and-restaurant-san-leandro 0.992740683912\n",
        "27800"
       ]
      },
      {
       "output_type": "stream",
       "stream": "stdout",
       "text": [
        " central-locksmith-san-francisco purple-kow-san-francisco-2 0.9998614333\n",
        "27900"
       ]
      },
      {
       "output_type": "stream",
       "stream": "stdout",
       "text": [
        " marcus-and-millichap-palo-alto-2 nola-restaurant-and-bar-palo-alto 0.999171904344\n",
        "28000"
       ]
      },
      {
       "output_type": "stream",
       "stream": "stdout",
       "text": [
        " paramount-pool-plaster-hayward tomodachi-sushi-bistro-hayward 0.966938517506\n",
        "28100"
       ]
      },
      {
       "output_type": "stream",
       "stream": "stdout",
       "text": [
        " stephano-homes-palo-alto the-milk-pail-market-mountain-view 0.994212997361\n",
        "28200"
       ]
      },
      {
       "output_type": "stream",
       "stream": "stdout",
       "text": [
        " aapex-property-management-hayward vals-burgers-hayward 0.998133042034\n",
        "28300"
       ]
      },
      {
       "output_type": "stream",
       "stream": "stdout",
       "text": [
        " a-payless-water-heaters-and-tankless-water-heater-palo-alto xanh-restaurant-mountain-view-2 0.991835094499\n",
        "28400"
       ]
      },
      {
       "output_type": "stream",
       "stream": "stdout",
       "text": [
        " diamond-home-builders-pleasant-hill safeway-martinez 0.967881829889\n",
        "28500"
       ]
      },
      {
       "output_type": "stream",
       "stream": "stdout",
       "text": [
        " summit-fireplace-and-grills-castro-valley vals-burgers-hayward 0.99535089133\n",
        "28600"
       ]
      },
      {
       "output_type": "stream",
       "stream": "stdout",
       "text": [
        " kiwi-plumbing-sausalito fish-sausalito 0.99893405604\n",
        "28700"
       ]
      },
      {
       "output_type": "stream",
       "stream": "stdout",
       "text": [
        " the-finishing-touch-walnut-creek lunardis-markets-walnut-creek 0.993568206937\n",
        "28800"
       ]
      },
      {
       "output_type": "stream",
       "stream": "stdout",
       "text": [
        " stierlin-square-arms-apartments-mountain-view xanh-restaurant-mountain-view-2 0.999851114421\n",
        "28900"
       ]
      },
      {
       "output_type": "stream",
       "stream": "stdout",
       "text": [
        " yoko-oda-interior-design-walnut-creek va-de-vi-bistro-and-wine-bar-walnut-creek 0.991135353079\n",
        "29000"
       ]
      },
      {
       "output_type": "stream",
       "stream": "stdout",
       "text": [
        " home-owners-electric-castro-valley vals-burgers-hayward 0.99889160826\n",
        "29100"
       ]
      },
      {
       "output_type": "stream",
       "stream": "stdout",
       "text": [
        " alpine-park-apartments-walnut-creek va-de-vi-bistro-and-wine-bar-walnut-creek 0.998860191825\n",
        "29200"
       ]
      },
      {
       "output_type": "stream",
       "stream": "stdout",
       "text": [
        " general-plumbing-supply-co-walnut-creek va-de-vi-bistro-and-wine-bar-walnut-creek 0.996249127295\n",
        "29300"
       ]
      },
      {
       "output_type": "stream",
       "stream": "stdout",
       "text": [
        " close-building-materials-inc-hayward-2 texas-roadhouse-union-city 0.997942263694\n",
        "29400"
       ]
      },
      {
       "output_type": "stream",
       "stream": "stdout",
       "text": [
        " james-walker-company-walnut-creek jacks-restaurant-and-bar-pleasant-hill 0.978791892517\n",
        "29500"
       ]
      },
      {
       "output_type": "stream",
       "stream": "stdout",
       "text": [
        " espinoza-pool-and-spa-service-newark-2 carter-station-market-newark 0.985869571863\n",
        "29600"
       ]
      },
      {
       "output_type": "stream",
       "stream": "stdout",
       "text": [
        " felixs-painting-hs-concord 7-eleven-concord-6 0.977756814867\n",
        "29700"
       ]
      },
      {
       "output_type": "stream",
       "stream": "stdout",
       "text": [
        " mr-rescue-plumbing-and-drain-cleaning-sausalito-2 sushi-ran-sausalito 0.999008792365\n",
        "29800"
       ]
      },
      {
       "output_type": "stream",
       "stream": "stdout",
       "text": [
        " montecito-cleaners-san-rafael sol-food-puerto-rican-cuisine-san-rafael-2 0.999501956677\n",
        "29900"
       ]
      },
      {
       "output_type": "stream",
       "stream": "stdout",
       "text": [
        " customs-broker-access-supply-chain-service-san-mateo tpumps-san-mateo 0.999916083799\n",
        "30000"
       ]
      },
      {
       "output_type": "stream",
       "stream": "stdout",
       "text": [
        " sunrise-tailors-and-cleaners-el-cerrito t-rex-barbeque-restaurant-and-bar-berkeley 0.991441262008\n",
        "30100"
       ]
      },
      {
       "output_type": "stream",
       "stream": "stdout",
       "text": [
        " hoffman-hal-notary-public-albany t-rex-barbeque-restaurant-and-bar-berkeley 0.997892837233\n",
        "30200"
       ]
      },
      {
       "output_type": "stream",
       "stream": "stdout",
       "text": [
        " sons-of-odin-hauling-and-demolition-oakland berkeley-bowl-berkeley 0.999576159936\n",
        "30300"
       ]
      },
      {
       "output_type": "stream",
       "stream": "stdout",
       "text": [
        " studio-romo-oakland brown-sugar-kitchen-oakland 0.999702581221\n",
        "30400"
       ]
      },
      {
       "output_type": "stream",
       "stream": "stdout",
       "text": [
        " copy-central-berkeley-13 zacharys-chicago-pizza-berkeley 0.99848010669\n",
        "30500"
       ]
      },
      {
       "output_type": "stream",
       "stream": "stdout",
       "text": [
        " university-copy-service-berkeley berkeley-bowl-berkeley 0.999783042013\n",
        "30600"
       ]
      },
      {
       "output_type": "stream",
       "stream": "stdout",
       "text": [
        " perkins-cleaners-oakland lake-chalet-seafood-bar-and-grill-oakland 0.999696637829\n",
        "30700"
       ]
      },
      {
       "output_type": "stream",
       "stream": "stdout",
       "text": [
        " elite-copy-center-and-passport-photos-berkeley berkeley-bowl-berkeley 0.999783943792\n",
        "30800"
       ]
      },
      {
       "output_type": "stream",
       "stream": "stdout",
       "text": [
        " copy-central-berkeley cream-berkeley-5 0.999873787438\n",
        "30900"
       ]
      },
      {
       "output_type": "stream",
       "stream": "stdout",
       "text": [
        " arlenes-cleaners-berkeley ici-ice-cream-berkeley 0.999554588701\n",
        "31000"
       ]
      },
      {
       "output_type": "stream",
       "stream": "stdout",
       "text": [
        " the-signworks-san-carlos town-san-carlos 0.999336300139\n",
        "31100"
       ]
      },
      {
       "output_type": "stream",
       "stream": "stdout",
       "text": [
        " east-bay-cash-register-systems-oakland mua-oakland-2 0.999471602305\n",
        "31200"
       ]
      },
      {
       "output_type": "stream",
       "stream": "stdout",
       "text": [
        " 1-800-dryclean-redwood-city old-port-lobster-shack-redwood-city 0.999638405245\n",
        "31300"
       ]
      },
      {
       "output_type": "stream",
       "stream": "stdout",
       "text": [
        " green-clean-alterations2go-redwood-city old-port-lobster-shack-redwood-city 0.99940542111\n",
        "31400"
       ]
      },
      {
       "output_type": "stream",
       "stream": "stdout",
       "text": [
        " blueskies-for-children-oakland champa-garden-oakland 0.992626361688\n",
        "31500"
       ]
      },
      {
       "output_type": "stream",
       "stream": "stdout",
       "text": [
        " orinda-cleaners-orinda royal-ground-coffee-orinda 0.983330543998\n",
        "31600"
       ]
      },
      {
       "output_type": "stream",
       "stream": "stdout",
       "text": [
        " ez-pay-payment-center-oakland gazzalis-supermarket-oakland 0.956162573309\n",
        "31700"
       ]
      },
      {
       "output_type": "stream",
       "stream": "stdout",
       "text": [
        " smartstop-self-storage-san-lorenzo foodnet-supermarket-san-leandro-2 0.985200031272\n",
        "31800"
       ]
      },
      {
       "output_type": "stream",
       "stream": "stdout",
       "text": [
        " leons-shoe-repair-san-leandro guadalajara-liquors-san-leandro 0.985274887043\n",
        "31900"
       ]
      },
      {
       "output_type": "stream",
       "stream": "stdout",
       "text": [
        " amybelles-wash-and-dry-san-francisco-2 purple-kow-san-francisco-2 0.999936019967\n",
        "32000"
       ]
      },
      {
       "output_type": "stream",
       "stream": "stdout",
       "text": [
        " kamps-propane-hayward-2 tomodachi-sushi-bistro-hayward 0.967917358486\n",
        "32100"
       ]
      },
      {
       "output_type": "stream",
       "stream": "stdout",
       "text": [
        " smiths-shoe-repair-lafayette chow-lafayette-2 0.995022007139\n",
        "32200"
       ]
      },
      {
       "output_type": "stream",
       "stream": "stdout",
       "text": [
        " los-altos-dry-cleaners-los-altos los-altos-grill-los-altos 0.997105797433\n",
        "32300"
       ]
      },
      {
       "output_type": "stream",
       "stream": "stdout",
       "text": [
        " mobile-pc-services-hayward vals-burgers-hayward 0.998175717342\n",
        "32400"
       ]
      },
      {
       "output_type": "stream",
       "stream": "stdout",
       "text": [
        " mcnally-carpet-cleaning-castro-valley vals-burgers-hayward 0.990753957345\n",
        "32500"
       ]
      },
      {
       "output_type": "stream",
       "stream": "stdout",
       "text": [
        " arandas-pure-water-castro-valley vals-burgers-hayward 0.998735552175\n",
        "32600"
       ]
      },
      {
       "output_type": "stream",
       "stream": "stdout",
       "text": [
        " vogue-cleaners-walnut-creek-4 va-de-vi-bistro-and-wine-bar-walnut-creek 0.99717347338\n",
        "32700"
       ]
      },
      {
       "output_type": "stream",
       "stream": "stdout",
       "text": [
        " main-street-postal-and-business-center-walnut-creek va-de-vi-bistro-and-wine-bar-walnut-creek 0.998496376665\n",
        "32800"
       ]
      },
      {
       "output_type": "stream",
       "stream": "stdout",
       "text": [
        " elance-mountain-view-3 xanh-restaurant-mountain-view-2 0.999051440794\n",
        "32900"
       ]
      },
      {
       "output_type": "stream",
       "stream": "stdout",
       "text": [
        " inviting-ways-walnut-creek va-de-vi-bistro-and-wine-bar-walnut-creek 0.997171161601\n",
        "33000"
       ]
      },
      {
       "output_type": "stream",
       "stream": "stdout",
       "text": [
        " concordia-school-concord msa-produce-concord 0.967306883663\n",
        "33100"
       ]
      },
      {
       "output_type": "stream",
       "stream": "stdout",
       "text": [
        " kidango-hillview-crest-center-hayward-3 texas-roadhouse-union-city 0.993519633329\n",
        "33200"
       ]
      },
      {
       "output_type": "stream",
       "stream": "stdout",
       "text": [
        " a-better-self-storage-sunnyvale dishdash-sunnyvale 0.999576023563\n",
        "33300"
       ]
      },
      {
       "output_type": "stream",
       "stream": "stdout",
       "text": [
        " triple-ring-technologies-newark snowflake-teahouse-fremont 0.996102670617\n",
        "33400"
       ]
      },
      {
       "output_type": "stream",
       "stream": "stdout",
       "text": [
        " baycourier-concord safeway-concord 0.992323058364\n",
        "33500"
       ]
      },
      {
       "output_type": "stream",
       "stream": "stdout",
       "text": [
        " cel-television-and-satellite-repair-concord-2 lucky-supermarket-concord 0.966328946625\n",
        "33600"
       ]
      },
      {
       "output_type": "stream",
       "stream": "stdout",
       "text": [
        " arleens-precious-lambs-daycare-fremont snowflake-teahouse-fremont 0.997822361394\n",
        "33700"
       ]
      },
      {
       "output_type": "stream",
       "stream": "stdout",
       "text": [
        " cartridge-express-santa-clara pepper-lunch-usa-milpitas 0.992676124446\n",
        "33800"
       ]
      },
      {
       "output_type": "stream",
       "stream": "stdout",
       "text": [
        " peralta-cleaning-fremont snowflake-teahouse-fremont 0.997375921687\n",
        "33900"
       ]
      },
      {
       "output_type": "stream",
       "stream": "stdout",
       "text": [
        " pauls-shoe-repair-san-francisco purple-kow-san-francisco-2 0.999217910187\n",
        "34000"
       ]
      },
      {
       "output_type": "stream",
       "stream": "stdout",
       "text": [
        " richmond-district-ymca-san-francisco-3 purple-kow-san-francisco-2 0.999824612851\n",
        "34100"
       ]
      },
      {
       "output_type": "stream",
       "stream": "stdout",
       "text": [
        " data-recovery-experts-san-jose-2 mogo-bbq-san-jose-3 0.998040466475\n",
        "34200"
       ]
      },
      {
       "output_type": "stream",
       "stream": "stdout",
       "text": [
        " select-imaging-dublin denicas-real-food-kitchen-dublin 0.995291958322\n",
        "34300"
       ]
      },
      {
       "output_type": "stream",
       "stream": "stdout",
       "text": [
        " hart-asset-management-and-recycling-san-jose smoking-pig-bbq-san-jose 0.99537956167\n",
        "34400"
       ]
      },
      {
       "output_type": "stream",
       "stream": "stdout",
       "text": [
        " sunshine-cleaners-san-francisco-2 park-chow-san-francisco 0.999747261226\n",
        "34500"
       ]
      },
      {
       "output_type": "stream",
       "stream": "stdout",
       "text": [
        " tina-faherty-post-partum-doula-san-francisco-2 park-chow-san-francisco 0.999744917057\n",
        "34600"
       ]
      },
      {
       "output_type": "stream",
       "stream": "stdout",
       "text": [
        " gates-and-bridges-preschool-san-francisco park-chow-san-francisco 0.999653362644\n",
        "34700"
       ]
      },
      {
       "output_type": "stream",
       "stream": "stdout",
       "text": [
        " little-bear-school-san-francisco ritual-coffee-roasters-san-francisco 0.998739068784\n",
        "34800"
       ]
      },
      {
       "output_type": "stream",
       "stream": "stdout",
       "text": [
        " laundry-daze-san-francisco blue-bottle-coffee-san-francisco-8 0.999787451665\n",
        "34900"
       ]
      },
      {
       "output_type": "stream",
       "stream": "stdout",
       "text": [
        " martini-cleaners-san-francisco blue-bottle-coffee-san-francisco-8 0.999729128907\n",
        "35000"
       ]
      },
      {
       "output_type": "stream",
       "stream": "stdout",
       "text": [
        " unique-cleaners-san-francisco blue-bottle-coffee-co-san-francisco-7 0.99985868382\n",
        "35100"
       ]
      },
      {
       "output_type": "stream",
       "stream": "stdout",
       "text": [
        " drop-and-go-laundry-san-francisco blue-bottle-coffee-co-san-francisco-7 0.999820400448\n",
        "35200"
       ]
      },
      {
       "output_type": "stream",
       "stream": "stdout",
       "text": [
        " mings-dry-cleaner-san-francisco ritual-coffee-roasters-san-francisco 0.999926766079\n",
        "35300"
       ]
      },
      {
       "output_type": "stream",
       "stream": "stdout",
       "text": [
        " swapbox-san-francisco-3 ritual-coffee-roasters-san-francisco 0.999889587888\n",
        "35400"
       ]
      },
      {
       "output_type": "stream",
       "stream": "stdout",
       "text": [
        " sweeny-family-childcare-san-francisco dynamo-donuts-and-coffee-san-francisco 0.999703535591\n",
        "35500"
       ]
      },
      {
       "output_type": "stream",
       "stream": "stdout",
       "text": [
        " crown-cleaners-half-moon-bay flying-fish-bar-and-grill-half-moon-bay 0.994129257957\n",
        "35600"
       ]
      },
      {
       "output_type": "stream",
       "stream": "stdout",
       "text": [
        " paragon-cleaners-san-francisco blue-bottle-coffee-co-san-francisco-7 0.999849326371\n",
        "35700"
       ]
      },
      {
       "output_type": "stream",
       "stream": "stdout",
       "text": [
        " jacks-shoe-repair-san-francisco-4 blue-bottle-coffee-co-san-francisco-7 0.999868823358\n",
        "35800"
       ]
      },
      {
       "output_type": "stream",
       "stream": "stdout",
       "text": [
        " san-francisco-fire-department-station-28-san-francisco mamas-on-washington-square-san-francisco 0.999735978097\n",
        "35900"
       ]
      },
      {
       "output_type": "stream",
       "stream": "stdout",
       "text": [
        " boss-studios-san-francisco blue-bottle-coffee-co-san-francisco-7 0.999919403417\n",
        "36000"
       ]
      },
      {
       "output_type": "stream",
       "stream": "stdout",
       "text": [
        " san-francisco-chamber-of-commerce-san-francisco blue-bottle-coffee-co-san-francisco-7 0.99990441817\n",
        "36100"
       ]
      },
      {
       "output_type": "stream",
       "stream": "stdout",
       "text": [
        " document-services-unlimited-san-francisco blue-bottle-coffee-co-san-francisco-7 0.999828549658\n",
        "36200"
       ]
      },
      {
       "output_type": "stream",
       "stream": "stdout",
       "text": [
        " d-and-l-cleaners-san-francisco blue-bottle-coffee-co-san-francisco-7 0.999921103447\n",
        "36300"
       ]
      },
      {
       "output_type": "stream",
       "stream": "stdout",
       "text": [
        " fiber-seal-fabric-and-carpet-protection-system-san-francisco rainbow-grocery-san-francisco 0.999925634812\n",
        "36400"
       ]
      },
      {
       "output_type": "stream",
       "stream": "stdout",
       "text": [
        " business-services-network-san-francisco dynamo-donuts-and-coffee-san-francisco 0.999724830449\n",
        "36500"
       ]
      },
      {
       "output_type": "stream",
       "stream": "stdout",
       "text": [
        " shred-works-burlingame-2 tpumps-san-mateo 0.995660326476\n",
        "36600"
       ]
      },
      {
       "output_type": "stream",
       "stream": "stdout",
       "text": [
        " atelier-54-furniture-refinishing-san-mateo-2 tpumps-san-mateo 0.999842235599\n",
        "36700"
       ]
      },
      {
       "output_type": "stream",
       "stream": "stdout",
       "text": [
        " b-street-bar-hayward buffalo-bills-brew-pub-hayward 0.99817914368\n",
        "36800"
       ]
      },
      {
       "output_type": "stream",
       "stream": "stdout",
       "text": [
        " the-greenery-restaurant-walnut-creek va-de-vi-bistro-and-wine-bar-walnut-creek 0.99343622773\n",
        "36900"
       ]
      },
      {
       "output_type": "stream",
       "stream": "stdout",
       "text": [
        " kun-santa-clara-2 99-chicken-santa-clara 0.999670940146\n",
        "37000"
       ]
      },
      {
       "output_type": "stream",
       "stream": "stdout",
       "text": [
        " vals-steak-house-restaurant-and-lounge-daly-city kome-japanese-seafood-and-grill-buffet-daly-city 0.9996566266\n",
        "37100"
       ]
      },
      {
       "output_type": "stream",
       "stream": "stdout",
       "text": [
        " the-page-san-francisco blue-bottle-coffee-san-francisco-8 0.999788534281\n",
        "37200"
       ]
      },
      {
       "output_type": "stream",
       "stream": "stdout",
       "text": [
        " cockblock-san-francisco-3 blue-bottle-coffee-san-francisco-8 0.999929338741\n",
        "37300"
       ]
      },
      {
       "output_type": "stream",
       "stream": "stdout",
       "text": [
        " uva-enoteca-san-francisco blue-bottle-coffee-san-francisco-8 0.999773874469\n",
        "37400"
       ]
      },
      {
       "output_type": "stream",
       "stream": "stdout",
       "text": [
        " salle-pianos-and-events-san-francisco blue-bottle-coffee-san-francisco-8 0.999911311431\n",
        "37500"
       ]
      },
      {
       "output_type": "stream",
       "stream": "stdout",
       "text": [
        " tikal-billiards-bar-san-francisco ritual-coffee-roasters-san-francisco 0.999914253504\n",
        "37600"
       ]
      },
      {
       "output_type": "stream",
       "stream": "stdout",
       "text": [
        " trick-dog-san-francisco dynamo-donuts-and-coffee-san-francisco 0.999904953197\n",
        "37700"
       ]
      },
      {
       "output_type": "stream",
       "stream": "stdout",
       "text": [
        " the-saloon-san-francisco the-stinking-rose-a-garlic-restaurant-san-francisco 0.999822185173\n",
        "37800"
       ]
      },
      {
       "output_type": "stream",
       "stream": "stdout",
       "text": [
        " mabuhay-gardens-san-francisco the-stinking-rose-a-garlic-restaurant-san-francisco 0.999815466081\n",
        "37900"
       ]
      },
      {
       "output_type": "stream",
       "stream": "stdout",
       "text": [
        " the-luna-lounge-san-francisco blue-bottle-coffee-co-san-francisco-7 0.999948531957\n",
        "38000"
       ]
      },
      {
       "output_type": "stream",
       "stream": "stdout",
       "text": [
        " club-kamikaze-inside-embassy-suites-burlingame tpumps-san-mateo 0.99958190375\n",
        "38100"
       ]
      },
      {
       "output_type": "stream",
       "stream": "stdout",
       "text": [
        " george-kayes-oakland mua-oakland-2 0.999274828992\n",
        "38200"
       ]
      },
      {
       "output_type": "stream",
       "stream": "stdout",
       "text": [
        " mariners-point-bar-karaoke-foster-city tpumps-san-mateo 0.99862555741\n",
        "38300"
       ]
      },
      {
       "output_type": "stream",
       "stream": "stdout",
       "text": [
        " 2640-dwight-way-berkeley berkeley-bowl-berkeley 0.999651452696\n",
        "38400"
       ]
      },
      {
       "output_type": "stream",
       "stream": "stdout",
       "text": [
        " lb-steak-menlo-park sprinkles-cupcakes-palo-alto 0.999515415125\n",
        "38500"
       ]
      },
      {
       "output_type": "stream",
       "stream": "stdout",
       "text": [
        " us-post-office-station-e-oakland lucky-supermarket-oakland-2 0.991902319852\n",
        "38600"
       ]
      },
      {
       "output_type": "stream",
       "stream": "stdout",
       "text": [
        " mail-carrier-etc-san-francisco ritual-coffee-roasters-san-francisco 0.999972814661\n",
        "38700"
       ]
      },
      {
       "output_type": "stream",
       "stream": "stdout",
       "text": [
        " taqueria-los-gallos-no-2-hayward texas-roadhouse-union-city 0.992730211799\n",
        "38800"
       ]
      },
      {
       "output_type": "stream",
       "stream": "stdout",
       "text": [
        " scrumpys-sandwich-shoppe-concord foodmaxx-concord-2 0.982889478136\n",
        "38900"
       ]
      },
      {
       "output_type": "stream",
       "stream": "stdout",
       "text": [
        " pizza-hut-union-city-6 satomi-sushi-fremont 0.998282069909\n",
        "39000"
       ]
      },
      {
       "output_type": "stream",
       "stream": "stdout",
       "text": [
        " togos-sandwiches-sunnyvale-3 st-johns-bar-and-grill-sunnyvale-2 0.99740915315\n",
        "39100"
       ]
      },
      {
       "output_type": "stream",
       "stream": "stdout",
       "text": [
        " yannis-taverna-danville the-peasant-and-the-pear-danville 0.990813252695\n",
        "39200"
       ]
      },
      {
       "output_type": "stream",
       "stream": "stdout",
       "text": [
        " crepe-bar-newark country-way-fremont-2 0.999087627509\n",
        "39300"
       ]
      },
      {
       "output_type": "stream",
       "stream": "stdout",
       "text": [
        " thien-nga-sandwiches-sunnyvale st-johns-bar-and-grill-sunnyvale-2 0.999734453988\n",
        "39400"
       ]
      },
      {
       "output_type": "stream",
       "stream": "stdout",
       "text": [
        " turtle-tower-san-francisco-7 purple-kow-san-francisco-2 0.999851349025\n",
        "39500"
       ]
      },
      {
       "output_type": "stream",
       "stream": "stdout",
       "text": [
        " los-cabos-fremont sala-thai-fremont-2 0.997782774458\n",
        "39600"
       ]
      },
      {
       "output_type": "stream",
       "stream": "stdout",
       "text": [
        " togos-sandwiches-santa-clara-4 st-johns-bar-and-grill-sunnyvale-2 0.998929593751\n",
        "39700"
       ]
      },
      {
       "output_type": "stream",
       "stream": "stdout",
       "text": [
        " which-wich-fremont snowflake-teahouse-fremont 0.999586873361\n",
        "39800"
       ]
      },
      {
       "output_type": "stream",
       "stream": "stdout",
       "text": [
        " buon-appetito-cafe-san-ramon costco-danville 0.970533510602\n",
        "39900"
       ]
      },
      {
       "output_type": "stream",
       "stream": "stdout",
       "text": [
        " sushi-tango-fremont bob-sang-korean-bbq-and-tofu-fremont 0.997470233869\n",
        "40000"
       ]
      },
      {
       "output_type": "stream",
       "stream": "stdout",
       "text": [
        " blimpie-fremont-3 snowflake-teahouse-fremont 0.993584534082\n",
        "40100"
       ]
      },
      {
       "output_type": "stream",
       "stream": "stdout",
       "text": [
        " johnnys-international-deli-and-cafe-clayton cup-o-jo-clayton 0.978058508116\n",
        "40200"
       ]
      },
      {
       "output_type": "stream",
       "stream": "stdout",
       "text": [
        " ume-chinese-fast-food-san-jose pepper-lunch-usa-milpitas 0.997287591394\n",
        "40300"
       ]
      },
      {
       "output_type": "stream",
       "stream": "stdout",
       "text": [
        " subway-san-jose-33 pepper-lunch-usa-milpitas 0.999141152472\n",
        "40400"
       ]
      },
      {
       "output_type": "stream",
       "stream": "stdout",
       "text": [
        " new-hwong-kok-milpitas sen-dai-sushi-milpitas 0.998561487795\n",
        "40500"
       ]
      },
      {
       "output_type": "stream",
       "stream": "stdout",
       "text": [
        " pho-nam-restaurant-milpitas sen-dai-sushi-milpitas 0.999750933345\n",
        "40600"
       ]
      },
      {
       "output_type": "stream",
       "stream": "stdout",
       "text": [
        " hawaiian-king-bbq-daly-city koi-palace-daly-city 0.999829259688\n",
        "40700"
       ]
      },
      {
       "output_type": "stream",
       "stream": "stdout",
       "text": [
        " nopalito-san-francisco-3 park-chow-san-francisco 0.999742224732\n",
        "40800"
       ]
      },
      {
       "output_type": "stream",
       "stream": "stdout",
       "text": [
        " koi-palace-daly-city kome-japanese-seafood-and-grill-buffet-daly-city 0.994827463731\n",
        "40900"
       ]
      },
      {
       "output_type": "stream",
       "stream": "stdout",
       "text": [
        " yumi-deli-daly-city kome-japanese-seafood-and-grill-buffet-daly-city 0.999753898446\n",
        "41000"
       ]
      },
      {
       "output_type": "stream",
       "stream": "stdout",
       "text": [
        " the-pig-and-whistle-san-francisco magnolia-pub-and-brewery-san-francisco 0.999469720923\n",
        "41100"
       ]
      },
      {
       "output_type": "stream",
       "stream": "stdout",
       "text": [
        " elizas-san-francisco blue-bottle-coffee-san-francisco-8 0.999589339781\n",
        "41200"
       ]
      },
      {
       "output_type": "stream",
       "stream": "stdout",
       "text": [
        " taqueria-guadalajara-san-francisco broken-record-san-francisco 0.997563176518\n",
        "41300"
       ]
      },
      {
       "output_type": "stream",
       "stream": "stdout",
       "text": [
        " sweet-maple-san-francisco blue-bottle-coffee-san-francisco-8 0.999638102643\n",
        "41400"
       ]
      },
      {
       "output_type": "stream",
       "stream": "stdout",
       "text": [
        " the-grove-fillmore-san-francisco spqr-san-francisco 0.999593107647\n",
        "41500"
       ]
      },
      {
       "output_type": "stream",
       "stream": "stdout",
       "text": [
        " fish-n-frites-half-moon-bay-2 pasta-moon-half-moon-bay 0.993962694682\n",
        "41600"
       ]
      },
      {
       "output_type": "stream",
       "stream": "stdout",
       "text": [
        " squat-and-gobble-cafe-and-crepery-san-francisco blue-bottle-coffee-san-francisco-8 0.999888889622\n",
        "41700"
       ]
      },
      {
       "output_type": "stream",
       "stream": "stdout",
       "text": [
        " deja-vu-pizza-and-pasta-san-francisco four-barrel-coffee-san-francisco 0.999896148594\n",
        "41800"
       ]
      },
      {
       "output_type": "stream",
       "stream": "stdout",
       "text": [
        " in-n-out-burger-san-francisco boudin-sourdough-bakery-and-cafe-san-francisco-17 0.999617634037\n",
        "41900"
       ]
      },
      {
       "output_type": "stream",
       "stream": "stdout",
       "text": [
        " thai-idea-vegetarian-san-francisco-2 blue-bottle-coffee-san-francisco-8 0.999837165993\n",
        "42000"
       ]
      },
      {
       "output_type": "stream",
       "stream": "stdout",
       "text": [
        " kyoto-sushi-san-francisco blue-bottle-coffee-san-francisco-8 0.999875045511\n",
        "42100"
       ]
      },
      {
       "output_type": "stream",
       "stream": "stdout",
       "text": [
        " cable-car-pizza-san-francisco-6 four-barrel-coffee-san-francisco 0.99995523119\n",
        "42200"
       ]
      },
      {
       "output_type": "stream",
       "stream": "stdout",
       "text": [
        " my-corner-cafe-san-francisco ritual-coffee-roasters-san-francisco 0.999903045902\n",
        "42300"
       ]
      },
      {
       "output_type": "stream",
       "stream": "stdout",
       "text": [
        " pizza-hut-san-francisco-3 blue-bottle-coffee-co-san-francisco-7 0.999927346349\n",
        "42400"
       ]
      },
      {
       "output_type": "stream",
       "stream": "stdout",
       "text": [
        " la-trappe-san-francisco-2 mamas-on-washington-square-san-francisco 0.999616239684\n",
        "42500"
       ]
      },
      {
       "output_type": "stream",
       "stream": "stdout",
       "text": [
        " machine-coffee-and-deli-san-francisco blue-bottle-coffee-co-san-francisco-7 0.999934263818\n",
        "42600"
       ]
      },
      {
       "output_type": "stream",
       "stream": "stdout",
       "text": [
        " fujiyoshi-ramen-san-francisco blue-bottle-coffee-co-san-francisco-7 0.99992450652\n",
        "42700"
       ]
      },
      {
       "output_type": "stream",
       "stream": "stdout",
       "text": [
        " subway-san-francisco-8 blue-bottle-coffee-co-san-francisco-7 0.999928709381\n",
        "42800"
       ]
      },
      {
       "output_type": "stream",
       "stream": "stdout",
       "text": [
        " full-moon-seafood-restaurant-south-san-francisco little-lucca-sandwich-shop-and-deli-south-san-francisco 0.99846745163\n",
        "42900"
       ]
      },
      {
       "output_type": "stream",
       "stream": "stdout",
       "text": [
        " cafe-jacqueline-san-francisco the-stinking-rose-a-garlic-restaurant-san-francisco 0.999767442937\n",
        "43000"
       ]
      },
      {
       "output_type": "stream",
       "stream": "stdout",
       "text": [
        " chef-hungs-san-francisco blue-bottle-coffee-co-san-francisco-7 0.999875387731\n",
        "43100"
       ]
      },
      {
       "output_type": "stream",
       "stream": "stdout",
       "text": [
        " technique-restaurant-san-francisco dynamo-donuts-and-coffee-san-francisco 0.999903113295\n",
        "43200"
       ]
      },
      {
       "output_type": "stream",
       "stream": "stdout",
       "text": [
        " y-and-g-restaurant-san-francisco dynamo-donuts-and-coffee-san-francisco 0.999184479997\n",
        "43300"
       ]
      },
      {
       "output_type": "stream",
       "stream": "stdout",
       "text": [
        " vitrine-san-francisco blue-bottle-coffee-co-san-francisco-7 0.999907368569\n",
        "43400"
       ]
      },
      {
       "output_type": "stream",
       "stream": "stdout",
       "text": [
        " shiki-san-francisco blue-bottle-coffee-co-san-francisco-7 0.999945582767\n",
        "43500"
       ]
      },
      {
       "output_type": "stream",
       "stream": "stdout",
       "text": [
        " orale-orale-san-francisco blue-bottle-coffee-co-san-francisco-7 0.999737613008\n",
        "43600"
       ]
      },
      {
       "output_type": "stream",
       "stream": "stdout",
       "text": [
        " tender-greens-san-francisco blue-bottle-coffee-co-san-francisco-7 0.99986968129\n",
        "43700"
       ]
      },
      {
       "output_type": "stream",
       "stream": "stdout",
       "text": [
        " prospect-san-francisco palomino-san-francisco-3 0.999694597079\n",
        "43800"
       ]
      },
      {
       "output_type": "stream",
       "stream": "stdout",
       "text": [
        " piatti-ristorante-and-bar-mill-valley fish-sausalito 0.990169209442\n",
        "43900"
       ]
      },
      {
       "output_type": "stream",
       "stream": "stdout",
       "text": [
        " gabriel-and-daniels-mexican-grill-burlingame tpumps-san-mateo 0.998305897261\n",
        "44000"
       ]
      },
      {
       "output_type": "stream",
       "stream": "stdout",
       "text": [
        " the-villa-modern-chinese-cuisine-san-pablo mekong-market-san-pablo 0.984667357588\n",
        "44100"
       ]
      },
      {
       "output_type": "stream",
       "stream": "stdout",
       "text": [
        " china-bee-san-mateo tpumps-san-mateo 0.99994930421\n",
        "44200"
       ]
      },
      {
       "output_type": "stream",
       "stream": "stdout",
       "text": [
        " sozai-corner-san-mateo tpumps-san-mateo 0.999942193665\n",
        "44300"
       ]
      },
      {
       "output_type": "stream",
       "stream": "stdout",
       "text": [
        " lucky-dragon-san-mateo tpumps-san-mateo 0.999876957427\n",
        "44400"
       ]
      },
      {
       "output_type": "stream",
       "stream": "stdout",
       "text": [
        " wikiwiki-waikiki-hawaiian-bbq-el-cerrito t-rex-barbeque-restaurant-and-bar-berkeley 0.996752950833\n",
        "44500"
       ]
      },
      {
       "output_type": "stream",
       "stream": "stdout",
       "text": [
        " vivace-ristorante-belmont jacks-prime-burgers-and-shakes-san-mateo-3 0.996225775013\n",
        "44600"
       ]
      },
      {
       "output_type": "stream",
       "stream": "stdout",
       "text": [
        " montses-cafe-oakland home-of-chicken-and-waffles-oakland 0.999502410696\n",
        "44700"
       ]
      },
      {
       "output_type": "stream",
       "stream": "stdout",
       "text": [
        " mountain-mikes-pizza-belmont jacks-prime-burgers-and-shakes-san-mateo-3 0.99846233121\n",
        "44800"
       ]
      },
      {
       "output_type": "stream",
       "stream": "stdout",
       "text": [
        " cafe-jolie-alameda home-of-chicken-and-waffles-oakland 0.999105295942\n",
        "44900"
       ]
      },
      {
       "output_type": "stream",
       "stream": "stdout",
       "text": [
        " happy-burrito-2-oakland home-of-chicken-and-waffles-oakland 0.999577298191\n",
        "45000"
       ]
      },
      {
       "output_type": "stream",
       "stream": "stdout",
       "text": [
        " new-gold-medal-restaurant-oakland home-of-chicken-and-waffles-oakland 0.999712275901\n",
        "45100"
       ]
      },
      {
       "output_type": "stream",
       "stream": "stdout",
       "text": [
        " cafe-dareye-oakland-2 mua-oakland-2 0.999723534103\n",
        "45200"
       ]
      },
      {
       "output_type": "stream",
       "stream": "stdout",
       "text": [
        " pican-oakland-3 mua-oakland-2 0.999883475899\n",
        "45300"
       ]
      },
      {
       "output_type": "stream",
       "stream": "stdout",
       "text": [
        " koryo-bbq-oakland bakesale-betty-oakland 0.999654571848\n",
        "45400"
       ]
      },
      {
       "output_type": "stream",
       "stream": "stdout",
       "text": [
        " cafe-colucci-oakland berkeley-bowl-berkeley 0.999723770464\n",
        "45500"
       ]
      },
      {
       "output_type": "stream",
       "stream": "stdout",
       "text": [
        " i-b-s-hoagies-berkeley cream-berkeley-5 0.99967872896\n",
        "45600"
       ]
      },
      {
       "output_type": "stream",
       "stream": "stdout",
       "text": [
        " ricos-tacos-oakland lake-chalet-seafood-bar-and-grill-oakland 0.999451610575\n",
        "45700"
       ]
      },
      {
       "output_type": "stream",
       "stream": "stdout",
       "text": [
        " ikaros-greek-restaurant-oakland lake-chalet-seafood-bar-and-grill-oakland 0.999159592015\n",
        "45800"
       ]
      },
      {
       "output_type": "stream",
       "stream": "stdout",
       "text": [
        " lakeshore-cafe-oakland-3 lake-chalet-seafood-bar-and-grill-oakland 0.999132273807\n",
        "45900"
       ]
      },
      {
       "output_type": "stream",
       "stream": "stdout",
       "text": [
        " the-melting-pot-larkspur sol-food-puerto-rican-cuisine-san-rafael-2 0.995247425529\n",
        "46000"
       ]
      },
      {
       "output_type": "stream",
       "stream": "stdout",
       "text": [
        " la-victoria-taqueria-redwood-city old-port-lobster-shack-redwood-city 0.999532105418\n",
        "46100"
       ]
      },
      {
       "output_type": "stream",
       "stream": "stdout",
       "text": [
        " cancholas-restaurant-oakland la-penca-azul-alameda-4 0.996329204089\n",
        "46200"
       ]
      },
      {
       "output_type": "stream",
       "stream": "stdout",
       "text": [
        " cybelles-pizza-oakland-2 safeway-oakland-5 0.989087356521\n",
        "46300"
       ]
      },
      {
       "output_type": "stream",
       "stream": "stdout",
       "text": [
        " quadrus-conference-center-and-catering-menlo-park sprinkles-cupcakes-palo-alto 0.996134142815\n",
        "46400"
       ]
      },
      {
       "output_type": "stream",
       "stream": "stdout",
       "text": [
        " burger-king-oakland-3 walmart-oakland 0.995966600948\n",
        "46500"
       ]
      },
      {
       "output_type": "stream",
       "stream": "stdout",
       "text": [
        " su-hong-to-go-menlo-park cafe-borrone-menlo-park 0.999649707794\n",
        "46600"
       ]
      },
      {
       "output_type": "stream",
       "stream": "stdout",
       "text": [
        " el-taquero-oakland rockforth-pharmacy-and-discount-grocery-store-oakland 0.972923526931\n",
        "46700"
       ]
      },
      {
       "output_type": "stream",
       "stream": "stdout",
       "text": [
        " curry-up-now-indian-street-food-palo-alto nola-restaurant-and-bar-palo-alto 0.999805267238\n",
        "46800"
       ]
      },
      {
       "output_type": "stream",
       "stream": "stdout",
       "text": [
        " strizzis-restaurant-san-leandro safeway-san-leandro 0.994546828656\n",
        "46900"
       ]
      },
      {
       "output_type": "stream",
       "stream": "stdout",
       "text": [
        " red-apple-pizza-san-leandro quickly-san-leandro 0.972249794766\n",
        "47000"
       ]
      },
      {
       "output_type": "stream",
       "stream": "stdout",
       "text": [
        " biancas-deli-and-catering-moraga safeway-moraga 0.979589030566\n",
        "47100"
       ]
      },
      {
       "output_type": "stream",
       "stream": "stdout",
       "text": [
        " el-mexical-san-lorenzo lucky-supermarkets-san-lorenzo 0.981285658033\n",
        "47200"
       ]
      },
      {
       "output_type": "stream",
       "stream": "stdout",
       "text": [
        " ambience-los-altos los-altos-grill-los-altos 0.996449955839\n",
        "47300"
       ]
      },
      {
       "output_type": "stream",
       "stream": "stdout",
       "text": [
        " antojitos-mexicanos-mountain-view cascal-mountain-view 0.997930594955\n",
        "47400"
       ]
      },
      {
       "output_type": "stream",
       "stream": "stdout",
       "text": [
        " in-n-out-mountain-view xanh-restaurant-mountain-view-2 0.997695757687\n",
        "47500"
       ]
      },
      {
       "output_type": "stream",
       "stream": "stdout",
       "text": [
        " s-and-t-hong-kong-seafood-inc-san-francisco purple-kow-san-francisco-2 0.999861935384\n",
        "47600"
       ]
      },
      {
       "output_type": "stream",
       "stream": "stdout",
       "text": [
        " ginseng-korean-bbq-tofu-mountain-view-2 cascal-mountain-view 0.999867261922\n",
        "47700"
       ]
      },
      {
       "output_type": "stream",
       "stream": "stdout",
       "text": [
        " falafel-and-kebab-mountain-view xanh-restaurant-mountain-view-2 0.999150425265\n",
        "47800"
       ]
      },
      {
       "output_type": "stream",
       "stream": "stdout",
       "text": [
        " fuddruckers-union-city texas-roadhouse-union-city 0.999694419532\n",
        "47900"
       ]
      },
      {
       "output_type": "stream",
       "stream": "stdout",
       "text": [
        " fraedos-cafe-walnut-creek va-de-vi-bistro-and-wine-bar-walnut-creek 0.998093781078\n",
        "48000"
       ]
      },
      {
       "output_type": "stream",
       "stream": "stdout",
       "text": [
        " mcdonalds-pleasant-hill jacks-restaurant-and-bar-pleasant-hill 0.994228170624\n",
        "48100"
       ]
      },
      {
       "output_type": "stream",
       "stream": "stdout",
       "text": [
        " los-dos-hermanos-hayward texas-roadhouse-union-city 0.990498262594\n",
        "48200"
       ]
      },
      {
       "output_type": "stream",
       "stream": "stdout",
       "text": [
        " taco-bell-sunnyvale dishdash-sunnyvale 0.998970502354\n",
        "48300"
       ]
      },
      {
       "output_type": "stream",
       "stream": "stdout",
       "text": [
        " sushi-club-sunnyvale dishdash-sunnyvale 0.999058544084\n",
        "48400"
       ]
      },
      {
       "output_type": "stream",
       "stream": "stdout",
       "text": [
        " firehouse-pizzeria-san-francisco purple-kow-san-francisco-2 0.99983563654\n",
        "48500"
       ]
      },
      {
       "output_type": "stream",
       "stream": "stdout",
       "text": [
        " form-and-reform-oakland brown-sugar-kitchen-oakland 0.999667271205\n",
        "48600"
       ]
      },
      {
       "output_type": "stream",
       "stream": "stdout",
       "text": [
        " yee-studio-belmont town-san-carlos 0.997737139009\n",
        "48700"
       ]
      },
      {
       "output_type": "stream",
       "stream": "stdout",
       "text": [
        " forrests-music-berkeley berkeley-bowl-berkeley 0.999728593352\n",
        "48800"
       ]
      },
      {
       "output_type": "stream",
       "stream": "stdout",
       "text": [
        " dollar-quarters-foster-city santa-ramen-san-mateo-2 0.997171243084\n",
        "48900"
       ]
      },
      {
       "output_type": "stream",
       "stream": "stdout",
       "text": [
        " sears-optical-oakland-2 mua-oakland-2 0.999780428051\n",
        "49000"
       ]
      },
      {
       "output_type": "stream",
       "stream": "stdout",
       "text": [
        " lucky-florists-oakland mua-oakland-2 0.999409976269\n",
        "49100"
       ]
      },
      {
       "output_type": "stream",
       "stream": "stdout",
       "text": [
        " earthy-treasures-san-carlos town-san-carlos 0.99962519918\n",
        "49200"
       ]
      },
      {
       "output_type": "stream",
       "stream": "stdout",
       "text": [
        " shakespeare-and-company-books-berkeley berkeley-bowl-berkeley 0.999791266044\n",
        "49300"
       ]
      },
      {
       "output_type": "stream",
       "stream": "stdout",
       "text": [
        " elmwood-village-shoes-berkeley berkeley-bowl-berkeley 0.999695877725\n",
        "49400"
       ]
      },
      {
       "output_type": "stream",
       "stream": "stdout",
       "text": [
        " pegasus-books-oakland berkeley-bowl-berkeley 0.999421468163\n",
        "49500"
       ]
      },
      {
       "output_type": "stream",
       "stream": "stdout",
       "text": [
        " warm-things-oakland berkeley-bowl-berkeley 0.99971709882\n",
        "49600"
       ]
      },
      {
       "output_type": "stream",
       "stream": "stdout",
       "text": [
        " california-fly-shop-san-carlos town-san-carlos 0.999321066319\n",
        "49700"
       ]
      },
      {
       "output_type": "stream",
       "stream": "stdout",
       "text": [
        " beads-of-beauty-redwood-city old-port-lobster-shack-redwood-city 0.998969163297\n",
        "49800"
       ]
      },
      {
       "output_type": "stream",
       "stream": "stdout",
       "text": [
        " kiwi-kid-sausalito fish-sausalito 0.998456401256\n",
        "49900"
       ]
      },
      {
       "output_type": "stream",
       "stream": "stdout",
       "text": [
        " v\u00e9loro-bicycles-inc-redwood-city-2 old-port-lobster-shack-redwood-city 0.999585336952\n",
        "50000"
       ]
      },
      {
       "output_type": "stream",
       "stream": "stdout",
       "text": [
        " corners-redwood-city old-port-lobster-shack-redwood-city 0.999280610828\n",
        "50100"
       ]
      },
      {
       "output_type": "stream",
       "stream": "stdout",
       "text": [
        " a-great-good-place-for-books-oakland safeway-oakland-5 0.984837146349\n",
        "50200"
       ]
      },
      {
       "output_type": "stream",
       "stream": "stdout",
       "text": [
        " alys-grace-menlo-park sprinkles-cupcakes-palo-alto 0.999572389601\n",
        "50300"
       ]
      },
      {
       "output_type": "stream",
       "stream": "stdout",
       "text": [
        " sports-authority-san-leandro-2 walmart-san-leandro 0.996046422971\n",
        "50400"
       ]
      },
      {
       "output_type": "stream",
       "stream": "stdout",
       "text": [
        " fiores-music-co-oakland tonys-market-oakland-2 0.95743456526\n",
        "50500"
       ]
      },
      {
       "output_type": "stream",
       "stream": "stdout",
       "text": [
        " laurie-chestnutt-florals-palo-alto nola-restaurant-and-bar-palo-alto 0.999728441555\n",
        "50600"
       ]
      },
      {
       "output_type": "stream",
       "stream": "stdout",
       "text": [
        " scandia-home-palo-alto-2 nola-restaurant-and-bar-palo-alto 0.999845883196\n",
        "50700"
       ]
      },
      {
       "output_type": "stream",
       "stream": "stdout",
       "text": [
        " portrait-artist-elizabeth-zanzinger-oakland bottleneck-oakland 0.960268027863\n",
        "50800"
       ]
      },
      {
       "output_type": "stream",
       "stream": "stdout",
       "text": [
        " e-vape4u-palo-alto la-bodeguita-del-medio-palo-alto 0.996741454528\n",
        "50900"
       ]
      },
      {
       "output_type": "stream",
       "stream": "stdout",
       "text": [
        " britneys-flower-cottage-san-lorenzo frodo-joes-coffee-and-tea-san-lorenzo 0.988568133706\n",
        "51000"
       ]
      },
      {
       "output_type": "stream",
       "stream": "stdout",
       "text": [
        " pacific-apparel-san-leandro supermercado-la-raza-san-leandro-2 0.980520663182\n",
        "51100"
       ]
      },
      {
       "output_type": "stream",
       "stream": "stdout",
       "text": [
        " fastframe-of-lafayette-lafayette chow-lafayette-2 0.989747529638\n",
        "51200"
       ]
      },
      {
       "output_type": "stream",
       "stream": "stdout",
       "text": [
        " vip-luggage-and-leather-hayward tomodachi-sushi-bistro-hayward 0.985589274312\n",
        "51300"
       ]
      },
      {
       "output_type": "stream",
       "stream": "stdout",
       "text": [
        " quick-appliance-repair-mountain-view xanh-restaurant-mountain-view-2 0.999669496005\n",
        "51400"
       ]
      },
      {
       "output_type": "stream",
       "stream": "stdout",
       "text": [
        " fleur-de-lis-mountain-view cascal-mountain-view 0.999771583612\n",
        "51500"
       ]
      },
      {
       "output_type": "stream",
       "stream": "stdout",
       "text": [
        " second-avenue-consignment-castro-valley vals-burgers-hayward 0.998713479532\n",
        "51600"
       ]
      },
      {
       "output_type": "stream",
       "stream": "stdout",
       "text": [
        " elite-armory-castro-valley vals-burgers-hayward 0.998537344769\n",
        "51700"
       ]
      },
      {
       "output_type": "stream",
       "stream": "stdout",
       "text": [
        " stamp-gallery-the-walnut-creek va-de-vi-bistro-and-wine-bar-walnut-creek 0.995043279679\n",
        "51800"
       ]
      },
      {
       "output_type": "stream",
       "stream": "stdout",
       "text": [
        " mens-wearhouse-walnut-creek va-de-vi-bistro-and-wine-bar-walnut-creek 0.999373626325\n",
        "51900"
       ]
      },
      {
       "output_type": "stream",
       "stream": "stdout",
       "text": [
        " torrid-store-5044-concord claim-jumper-concord-2 0.988787393964\n",
        "52000"
       ]
      },
      {
       "output_type": "stream",
       "stream": "stdout",
       "text": [
        " dicks-sporting-goods-pleasant-hill jacks-restaurant-and-bar-pleasant-hill 0.995442806852\n",
        "52100"
       ]
      },
      {
       "output_type": "stream",
       "stream": "stdout",
       "text": [
        " past-perfect-walnut-creek va-de-vi-bistro-and-wine-bar-walnut-creek 0.99865672672\n",
        "52200"
       ]
      },
      {
       "output_type": "stream",
       "stream": "stdout",
       "text": [
        " kba-docusys-union-city-2 texas-roadhouse-union-city 0.998928538111\n",
        "52300"
       ]
      },
      {
       "output_type": "stream",
       "stream": "stdout",
       "text": [
        " yes-variety-san-francisco purple-kow-san-francisco-2 0.999918148523\n",
        "52400"
       ]
      },
      {
       "output_type": "stream",
       "stream": "stdout",
       "text": [
        " macys-sunnyvale dishdash-sunnyvale 0.999852567164\n",
        "52500"
       ]
      },
      {
       "output_type": "stream",
       "stream": "stdout",
       "text": [
        " impression-custom-screen-printing-newark satomi-sushi-fremont 0.996304627023\n",
        "52600"
       ]
      },
      {
       "output_type": "stream",
       "stream": "stdout",
       "text": [
        " berkshire-books-concord msa-produce-concord 0.986623161005\n",
        "52700"
       ]
      },
      {
       "output_type": "stream",
       "stream": "stdout",
       "text": [
        " payless-shoe-source-newark-3 country-way-fremont-2 0.999097864291\n",
        "52800"
       ]
      },
      {
       "output_type": "stream",
       "stream": "stdout",
       "text": [
        " danville-livery-and-mercantile-danville lucky-supermarkets-danville 0.98602802852\n",
        "52900"
       ]
      },
      {
       "output_type": "stream",
       "stream": "stdout",
       "text": [
        " krv-ride-culture-danville esin-restaurant-and-bar-danville 0.992301772675\n",
        "53000"
       ]
      },
      {
       "output_type": "stream",
       "stream": "stdout",
       "text": [
        " costco-fremont-4 snowflake-teahouse-fremont 0.999617337453\n",
        "53100"
       ]
      },
      {
       "output_type": "stream",
       "stream": "stdout",
       "text": [
        " corrie-glass-fremont satomi-sushi-fremont 0.992926892322\n",
        "53200"
       ]
      },
      {
       "output_type": "stream",
       "stream": "stdout",
       "text": [
        " leslies-swimming-pool-supplies-concord-2 lucky-supermarket-concord 0.987231312623\n",
        "53300"
       ]
      },
      {
       "output_type": "stream",
       "stream": "stdout",
       "text": [
        " smart-tone-communications-san-francisco purple-kow-san-francisco-2 0.998950806356\n",
        "53400"
       ]
      },
      {
       "output_type": "stream",
       "stream": "stdout",
       "text": [
        " mbs-business-systems-santa-clara st-johns-bar-and-grill-sunnyvale-2 0.993846678933\n",
        "53500"
       ]
      },
      {
       "output_type": "stream",
       "stream": "stdout",
       "text": [
        " pmi-pawnbrokers-appraisers-and-auctioneers-santa-clara pepper-lunch-usa-milpitas 0.992662457289\n",
        "53600"
       ]
      },
      {
       "output_type": "stream",
       "stream": "stdout",
       "text": [
        " ross-dublin amakara-dublin 0.998062759603\n",
        "53700"
       ]
      },
      {
       "output_type": "stream",
       "stream": "stdout",
       "text": [
        " the-lucky-garden-dublin-2 amakara-dublin 0.993996058283\n",
        "53800"
       ]
      },
      {
       "output_type": "stream",
       "stream": "stdout",
       "text": [
        " relectric-san-jose mogo-bbq-san-jose-3 0.996861594619\n",
        "53900"
       ]
      },
      {
       "output_type": "stream",
       "stream": "stdout",
       "text": [
        " trinowfitness-dublin-2 denicas-real-food-kitchen-dublin 0.993805600379\n",
        "54000"
       ]
      },
      {
       "output_type": "stream",
       "stream": "stdout",
       "text": [
        " onesource-pleasanton-2 eddie-papas-pleasanton-3 0.990786177672\n",
        "54100"
       ]
      },
      {
       "output_type": "stream",
       "stream": "stdout",
       "text": [
        " curiosities-san-francisco park-chow-san-francisco 0.999136844928\n",
        "54200"
       ]
      },
      {
       "output_type": "stream",
       "stream": "stdout",
       "text": [
        " the-music-room-of-san-francisco-san-francisco q-restaurant-and-wine-bar-san-francisco 0.999635487218\n",
        "54300"
       ]
      },
      {
       "output_type": "stream",
       "stream": "stdout",
       "text": [
        " satin-moon-fabrics-san-francisco q-restaurant-and-wine-bar-san-francisco 0.999765101061\n",
        "54400"
       ]
      },
      {
       "output_type": "stream",
       "stream": "stdout",
       "text": [
        " city-college-of-san-francisco-bookstore-annex-san-francisco-4 kome-japanese-seafood-and-grill-buffet-daly-city 0.998980451454\n",
        "54500"
       ]
      },
      {
       "output_type": "stream",
       "stream": "stdout",
       "text": [
        " california-surplus-san-francisco magnolia-pub-and-brewery-san-francisco 0.999819334613\n",
        "54600"
       ]
      },
      {
       "output_type": "stream",
       "stream": "stdout",
       "text": [
        " goodfellas-san-francisco magnolia-pub-and-brewery-san-francisco 0.999842253742\n",
        "54700"
       ]
      },
      {
       "output_type": "stream",
       "stream": "stdout",
       "text": [
        " your-scents-trading-san-francisco-2 blue-bottle-coffee-san-francisco-8 0.99976361754\n",
        "54800"
       ]
      },
      {
       "output_type": "stream",
       "stream": "stdout",
       "text": [
        " twenty-two-shoes-san-francisco umami-burger-san-francisco 0.999787500724\n",
        "54900"
       ]
      },
      {
       "output_type": "stream",
       "stream": "stdout",
       "text": [
        " my-own-bag-san-francisco ritual-coffee-roasters-san-francisco 0.999791422748\n",
        "55000"
       ]
      },
      {
       "output_type": "stream",
       "stream": "stdout",
       "text": [
        " romantasy-exquisite-corsetry-san-francisco ritual-coffee-roasters-san-francisco 0.999491970683\n",
        "55100"
       ]
      },
      {
       "output_type": "stream",
       "stream": "stdout",
       "text": [
        " sfgallery143-san-francisco four-barrel-coffee-san-francisco 0.9998449255\n",
        "55200"
       ]
      },
      {
       "output_type": "stream",
       "stream": "stdout",
       "text": [
        " tug-tug-san-francisco ritual-coffee-roasters-san-francisco 0.999864097235\n",
        "55300"
       ]
      },
      {
       "output_type": "stream",
       "stream": "stdout",
       "text": [
        " 4x5-gallery-san-francisco blue-bottle-coffee-san-francisco-8 0.999872288352\n",
        "55400"
       ]
      },
      {
       "output_type": "stream",
       "stream": "stdout",
       "text": [
        " box-dog-bikes-san-francisco four-barrel-coffee-san-francisco 0.999908409568\n",
        "55500"
       ]
      },
      {
       "output_type": "stream",
       "stream": "stdout",
       "text": [
        " the-natural-mattress-store-san-francisco blue-bottle-coffee-san-francisco-8 0.999821795015\n",
        "55600"
       ]
      },
      {
       "output_type": "stream",
       "stream": "stdout",
       "text": [
        " lost-weekend-video-san-francisco ritual-coffee-roasters-san-francisco 0.999951568312\n",
        "55700"
       ]
      },
      {
       "output_type": "stream",
       "stream": "stdout",
       "text": [
        " velvet-da-vinci-san-francisco house-of-prime-rib-san-francisco 0.999728361653\n",
        "55800"
       ]
      },
      {
       "output_type": "stream",
       "stream": "stdout",
       "text": [
        " utsuwa-floral-design-san-francisco blue-bottle-coffee-co-san-francisco-7 0.999777415326\n",
        "55900"
       ]
      },
      {
       "output_type": "stream",
       "stream": "stdout",
       "text": [
        " european-book-company-san-francisco-3 blue-bottle-coffee-co-san-francisco-7 0.99992642295\n",
        "56000"
       ]
      },
      {
       "output_type": "stream",
       "stream": "stdout",
       "text": [
        " super-flipbooks-and-photo-booth-san-francisco-2 ritual-coffee-roasters-san-francisco 0.999636464923\n",
        "56100"
       ]
      },
      {
       "output_type": "stream",
       "stream": "stdout",
       "text": [
        " asterisk-san-francisco-san-francisco-2 ritual-coffee-roasters-san-francisco 0.99989487675\n",
        "56200"
       ]
      },
      {
       "output_type": "stream",
       "stream": "stdout",
       "text": [
        " sy-rosewood-furniture-and-arts-san-francisco rainbow-grocery-san-francisco 0.999951375184\n",
        "56300"
       ]
      },
      {
       "output_type": "stream",
       "stream": "stdout",
       "text": [
        " aristo-san-francisco blue-bottle-coffee-co-san-francisco-7 0.999955898326\n",
        "56400"
       ]
      },
      {
       "output_type": "stream",
       "stream": "stdout",
       "text": [
        " the-clay-underground-san-francisco blue-bottle-coffee-co-san-francisco-7 0.999921671206\n",
        "56500"
       ]
      },
      {
       "output_type": "stream",
       "stream": "stdout",
       "text": [
        " good-view-trading-company-san-francisco-2 the-stinking-rose-a-garlic-restaurant-san-francisco 0.999865159252\n",
        "56600"
       ]
      },
      {
       "output_type": "stream",
       "stream": "stdout",
       "text": [
        " fashion-house-san-francisco blue-bottle-coffee-co-san-francisco-7 0.999928602516\n",
        "56700"
       ]
      },
      {
       "output_type": "stream",
       "stream": "stdout",
       "text": [
        " almac-camera-store-san-francisco blue-bottle-coffee-co-san-francisco-7 0.999883343526\n",
        "56800"
       ]
      },
      {
       "output_type": "stream",
       "stream": "stdout",
       "text": [
        " bulgari-san-francisco blue-bottle-coffee-co-san-francisco-7 0.999926102514\n",
        "56900"
       ]
      },
      {
       "output_type": "stream",
       "stream": "stdout",
       "text": [
        " lululemon-athletica-san-francisco-5 blue-bottle-coffee-co-san-francisco-7 0.999944888535\n",
        "57000"
       ]
      },
      {
       "output_type": "stream",
       "stream": "stdout",
       "text": [
        " tung-lee-jewelry-company-san-francisco blue-bottle-coffee-co-san-francisco-7 0.999896322097\n",
        "57100"
       ]
      },
      {
       "output_type": "stream",
       "stream": "stdout",
       "text": [
        " metis-makers-san-francisco the-stinking-rose-a-garlic-restaurant-san-francisco 0.999884352551\n",
        "57200"
       ]
      },
      {
       "output_type": "stream",
       "stream": "stdout",
       "text": [
        " regal-jewelry-company-san-francisco blue-bottle-coffee-co-san-francisco-7 0.999863571973\n",
        "57300"
       ]
      },
      {
       "output_type": "stream",
       "stream": "stdout",
       "text": [
        " black-peace-now-san-francisco blue-bottle-coffee-co-san-francisco-7 0.999893188618\n",
        "57400"
       ]
      },
      {
       "output_type": "stream",
       "stream": "stdout",
       "text": [
        " tat-jewelers-san-francisco blue-bottle-coffee-co-san-francisco-7 0.99987916158\n",
        "57500"
       ]
      },
      {
       "output_type": "stream",
       "stream": "stdout",
       "text": [
        " diamond-importers-san-francisco-2 blue-bottle-coffee-co-san-francisco-7 0.999881730264\n",
        "57600"
       ]
      },
      {
       "output_type": "stream",
       "stream": "stdout",
       "text": [
        " ceramics-and-crafts-supply-san-francisco blue-bottle-coffee-co-san-francisco-7 0.999882026646\n",
        "57700"
       ]
      },
      {
       "output_type": "stream",
       "stream": "stdout",
       "text": [
        " mark-wolfe-contemporary-art-san-francisco blue-bottle-coffee-co-san-francisco-7 0.9998606651\n",
        "57800"
       ]
      },
      {
       "output_type": "stream",
       "stream": "stdout",
       "text": [
        " lenscrafters-san-francisco-2 blue-bottle-coffee-co-san-francisco-7 0.999878938562\n",
        "57900"
       ]
      },
      {
       "output_type": "stream",
       "stream": "stdout",
       "text": [
        " l-v-optometry-millbrae millbrae-pancake-house-millbrae 0.999340558967\n",
        "58000"
       ]
      },
      {
       "output_type": "stream",
       "stream": "stdout",
       "text": [
        " sf-expressions-gifts-and-sundry-shop-san-francisco yank-sing-san-francisco-2 0.999919159326\n",
        "58100"
       ]
      },
      {
       "output_type": "stream",
       "stream": "stdout",
       "text": [
        " dewitt-gallery-and-framing-richmond santa-fe-market-richmond 0.97920535326\n",
        "58200"
       ]
      },
      {
       "output_type": "stream",
       "stream": "stdout",
       "text": [
        " dimitria-letsos-davidson-piano-teacher-burlingame tpumps-san-mateo 0.998500666512\n",
        "58300"
       ]
      },
      {
       "output_type": "stream",
       "stream": "stdout",
       "text": [
        " francescas-collections-burlingame-2 tpumps-san-mateo 0.999707351541\n",
        "58400"
       ]
      },
      {
       "output_type": "stream",
       "stream": "stdout",
       "text": [
        " manije-boutique-burlingame tpumps-san-mateo 0.999721405531\n",
        "58500"
       ]
      },
      {
       "output_type": "stream",
       "stream": "stdout",
       "text": [
        " third-avenue-news-san-mateo tpumps-san-mateo 0.999967013196\n",
        "58600"
       ]
      },
      {
       "output_type": "stream",
       "stream": "stdout",
       "text": [
        " patio-classics-san-mateo tpumps-san-mateo 0.999948927567\n",
        "58700"
       ]
      },
      {
       "output_type": "stream",
       "stream": "stdout",
       "text": [
        " chinaville-richmond t-rex-barbeque-restaurant-and-bar-berkeley 0.994487313194\n",
        "58800"
       ]
      },
      {
       "output_type": "stream",
       "stream": "stdout",
       "text": [
        " mod-lang-el-cerrito t-rex-barbeque-restaurant-and-bar-berkeley 0.994994053036\n",
        "58900"
       ]
      },
      {
       "output_type": "stream",
       "stream": "stdout",
       "text": [
        " sears-san-mateo santa-ramen-san-mateo-2 0.999738787508\n",
        "59000"
       ]
      },
      {
       "output_type": "stream",
       "stream": "stdout",
       "text": [
        " skyline-vape-berkeley viks-chaat-berkeley 0.999052191628\n",
        "59100"
       ]
      },
      {
       "output_type": "stream",
       "stream": "stdout",
       "text": [
        " bebe-emeryville rudys-cant-fail-caf\u00e9-emeryville-2 0.99984370009\n",
        "59200"
       ]
      },
      {
       "output_type": "stream",
       "stream": "stdout",
       "text": [
        " papy-boez-outlet-berkeley berkeley-bowl-berkeley 0.999641607301\n",
        "59300"
       ]
      },
      {
       "output_type": "stream",
       "stream": "stdout",
       "text": [
        " mancinis-sleepworld-san-rafael sol-food-puerto-rican-cuisine-san-rafael-2 0.998239212385\n"
       ]
      }
     ],
     "prompt_number": 311
    },
    {
     "cell_type": "code",
     "collapsed": false,
     "input": [
      "generated_matches = pd.DataFrame.from_records(all_generated_matches, columns = ['from_id','to_id','prob'])\n",
      "generated_matches.to_csv('generated_matches.csv')"
     ],
     "language": "python",
     "metadata": {},
     "outputs": [],
     "prompt_number": 312
    },
    {
     "cell_type": "code",
     "collapsed": false,
     "input": [
      "print generated_matches.shape"
     ],
     "language": "python",
     "metadata": {},
     "outputs": [
      {
       "output_type": "stream",
       "stream": "stdout",
       "text": [
        "(59311, 3)\n"
       ]
      }
     ],
     "prompt_number": 313
    },
    {
     "cell_type": "code",
     "collapsed": false,
     "input": [
      "test = pd.read_csv('generated_matches.csv', index_col=False)[['from_id','to_id','prob']]"
     ],
     "language": "python",
     "metadata": {},
     "outputs": [],
     "prompt_number": 325
    },
    {
     "cell_type": "code",
     "collapsed": false,
     "input": [
      "print test.to_id[test.from_id == 'citibank-san-carlos']"
     ],
     "language": "python",
     "metadata": {},
     "outputs": [
      {
       "output_type": "stream",
       "stream": "stdout",
       "text": [
        "169    town-san-carlos\n",
        "Name: to_id, dtype: object\n"
       ]
      }
     ],
     "prompt_number": 330
    },
    {
     "cell_type": "code",
     "collapsed": false,
     "input": [],
     "language": "python",
     "metadata": {},
     "outputs": []
    }
   ],
   "metadata": {}
  }
 ]
}