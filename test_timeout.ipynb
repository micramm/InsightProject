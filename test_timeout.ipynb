{
 "metadata": {
  "name": "",
  "signature": "sha256:04dd9675af9ab26afd6c5146dba57514e2deeabe3ed7a1f4195ea616d0fd3d41"
 },
 "nbformat": 3,
 "nbformat_minor": 0,
 "worksheets": [
  {
   "cells": [
    {
     "cell_type": "code",
     "collapsed": false,
     "input": [
      "import pymysql\n",
      "from access_keys import access_keys"
     ],
     "language": "python",
     "metadata": {},
     "outputs": [],
     "prompt_number": 52
    },
    {
     "cell_type": "code",
     "collapsed": false,
     "input": [
      "conn = pymysql.connect(host='localhost', user='root', passwd = access_keys.amazon_rds_password, db = 'Insight')\n",
      "cursor = conn.cursor()"
     ],
     "language": "python",
     "metadata": {},
     "outputs": [],
     "prompt_number": 54
    },
    {
     "cell_type": "code",
     "collapsed": false,
     "input": [
      "conn.ping(reconnect=True)"
     ],
     "language": "python",
     "metadata": {},
     "outputs": [
      {
       "metadata": {},
       "output_type": "pyout",
       "prompt_number": 58,
       "text": [
        "True"
       ]
      }
     ],
     "prompt_number": 58
    },
    {
     "cell_type": "code",
     "collapsed": false,
     "input": [
      "cursor.execute(\"SELECT * FROM yelp LIMIT 1;\")\n",
      "print cursor.fetchall()"
     ],
     "language": "python",
     "metadata": {},
     "outputs": [
      {
       "output_type": "stream",
       "stream": "stdout",
       "text": [
        "(('1-2-3-4-go-records-oakland', '1-2-3-4 Go! Records', '420 40th St, Ste 5, Temescal, Oakland, CA 94609', 'http://s3-media3.ak.yelpcdn.com/bphoto/qiF4ih75H6nhC66tgiEoqA/ms.jpg', 5109850325, Decimal('4.5'), 'http://s3-media4.ak.yelpcdn.com/assets/2/www/img/9f83790ff7f6/ico/stars/v1/stars_large_4_half.png', 'http://www.yelp.com/biz/1-2-3-4-go-records-oakland', Decimal('37.828612'), Decimal('-122.260712')),)\n"
       ]
      }
     ],
     "prompt_number": 59
    },
    {
     "cell_type": "code",
     "collapsed": false,
     "input": [
      "cursor.execute(\"SET session wait_timeout=10\")\n",
      "cursor.execute(\"SHOW SESSION VARIABLES LIKE 'wait_timeout'\")\n",
      "print cursor.fetchall()"
     ],
     "language": "python",
     "metadata": {},
     "outputs": [
      {
       "output_type": "stream",
       "stream": "stdout",
       "text": [
        "(('wait_timeout', '10'),)\n"
       ]
      }
     ],
     "prompt_number": 56
    },
    {
     "cell_type": "code",
     "collapsed": false,
     "input": [],
     "language": "python",
     "metadata": {},
     "outputs": []
    }
   ],
   "metadata": {}
  }
 ]
}