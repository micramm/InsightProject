{
 "metadata": {
  "name": "",
  "signature": "sha256:25b5409484d4d0e4611d3fdb8f8103bfd489a0a6833b93b9dee6a860e1959d67"
 },
 "nbformat": 3,
 "nbformat_minor": 0,
 "worksheets": [
  {
   "cells": [
    {
     "cell_type": "code",
     "collapsed": false,
     "input": [
      "import numpy as np\n",
      "from math import factorial\n",
      "import itertools\n",
      "import collections"
     ],
     "language": "python",
     "metadata": {},
     "outputs": [],
     "prompt_number": 91
    },
    {
     "cell_type": "code",
     "collapsed": false,
     "input": [
      "distance_matrix = np.random.random((25,25))"
     ],
     "language": "python",
     "metadata": {},
     "outputs": [],
     "prompt_number": 238
    },
    {
     "cell_type": "code",
     "collapsed": false,
     "input": [
      "'''Iterator flattening  function'''\n",
      "#adapted from:\n",
      "#http://stackoverflow.com/questions/11503065/python-function-to-flatten-generator-containing-another-generator\n",
      "def flatten(it):\n",
      "    for x in it:\n",
      "        if (isinstance(x, collections.Iterable) and\n",
      "            not isinstance(x, str) and not isinstance(x, tuple)):\n",
      "            for y in flatten(x):\n",
      "                yield y\n",
      "        else:\n",
      "            yield x\n",
      "\n",
      "'''Function for generating pairways entries within an iterator'''\n",
      "#from https://docs.python.org/2/library/itertools.html\n",
      "def pairwise(iterable):\n",
      "    \"s -> (s0,s1), (s1,s2), (s2, s3), ...\"\n",
      "    a, b = itertools.tee(iterable)\n",
      "    next(b, None)\n",
      "    return itertools.izip(a, b)"
     ],
     "language": "python",
     "metadata": {},
     "outputs": [],
     "prompt_number": 239
    },
    {
     "cell_type": "code",
     "collapsed": false,
     "input": [
      "def cost(distance_matrix, permutation, start, stop):\n",
      "    \"\"\"\n",
      "    computes the cost of a given permutaiton of placed i.e (0,1,2,3,4) -> 1.0\n",
      "    \"\"\"\n",
      "    pairs = pairwise(permutation)\n",
      "    total = sum(distance_matrix[pair] for pair in pairs)\n",
      "    #adding cost to get to the first point\n",
      "    total+= distance_matrix[(start, permutation[0])]\n",
      "    #adding cost to return from the last point\n",
      "    total+= distance_matrix[(start, permutation[-1])]\n",
      "    return total\n",
      "\n",
      "def get_fastest_path(distance_matrix, place_lists, start, stop):\n",
      "    \"\"\"\n",
      "    cycles over all possible combination of places, where each place is picked\n",
      "    from the correspodning group\n",
      "    \"\"\"\n",
      "    selected_places = (itertools.product(*place_lists))\n",
      "    #for each combination of places, consider all of the permutations of their order\n",
      "    permuations = (itertools.permutations(places) for places in selected_places)\n",
      "    #flatten generator of generators\n",
      "    permuations = flatten(permuations)\n",
      "    costs = (cost(distance_matrix, perm, start, stop) for perm in permuations)\n",
      "    return min(zip(costs,permuations))\n",
      "\n",
      "A = range(1, 6)\n",
      "B = range(6, 11)\n",
      "C = range(11, 16)\n",
      "D = range(16, 24)\n",
      "place_lists = [A, B, C, D]\n",
      "paths = get_fastest_path(distance_matrix, place_lists, start = 0, stop = 0)\n",
      "print paths"
     ],
     "language": "python",
     "metadata": {},
     "outputs": [
      {
       "output_type": "stream",
       "stream": "stdout",
       "text": [
        "(0.70581643863827281, (16, 3, 14, 10))\n"
       ]
      }
     ],
     "prompt_number": 276
    },
    {
     "cell_type": "code",
     "collapsed": false,
     "input": [],
     "language": "python",
     "metadata": {},
     "outputs": []
    }
   ],
   "metadata": {}
  }
 ]
}