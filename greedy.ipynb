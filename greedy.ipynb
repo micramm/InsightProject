{
 "metadata": {
  "name": "",
  "signature": "sha256:39fa6b0ba958b0032bc5e9b2a1add61a89d2c83418ba9515d937d3a0d098cc29"
 },
 "nbformat": 3,
 "nbformat_minor": 0,
 "worksheets": [
  {
   "cells": [
    {
     "cell_type": "code",
     "collapsed": false,
     "input": [
      "import numpy as np\n",
      "from math import factorial\n",
      "import itertools\n",
      "import collections"
     ],
     "language": "python",
     "metadata": {},
     "outputs": [],
     "prompt_number": 91
    },
    {
     "cell_type": "code",
     "collapsed": false,
     "input": [
      "distance_matrix = np.random.random((25,25))"
     ],
     "language": "python",
     "metadata": {},
     "outputs": [],
     "prompt_number": 238
    },
    {
     "cell_type": "code",
     "collapsed": false,
     "input": [
      "'''Iterator flattening  function'''\n",
      "#adapted from:\n",
      "#http://stackoverflow.com/questions/11503065/python-function-to-flatten-generator-containing-another-generator\n",
      "def flatten(it):\n",
      "    for x in it:\n",
      "        if (isinstance(x, collections.Iterable) and\n",
      "            not isinstance(x, str) and not isinstance(x, tuple)):\n",
      "            for y in flatten(x):\n",
      "                yield y\n",
      "        else:\n",
      "            yield x\n",
      "\n",
      "'''Function for generating pairways entries within an iterator'''\n",
      "#from https://docs.python.org/2/library/itertools.html\n",
      "def pairwise(iterable):\n",
      "    \"s -> (s0,s1), (s1,s2), (s2, s3), ...\"\n",
      "    a, b = itertools.tee(iterable)\n",
      "    next(b, None)\n",
      "    return itertools.izip(a, b)"
     ],
     "language": "python",
     "metadata": {},
     "outputs": [],
     "prompt_number": 239
    },
    {
     "cell_type": "code",
     "collapsed": false,
     "input": [
      "def cost(permutation):\n",
      "    \"\"\"\n",
      "    computes the cost of a given permutaiton of placed i.e (0,1,2,3,4) -> 1.0\n",
      "    \"\"\"\n",
      "    pairs = pairwise(permutation)\n",
      "    total = sum(distance_matrix[pair] for pair in pairs)\n",
      "    return total\n",
      "\n",
      "A = range(0, 5)\n",
      "B = range(5, 10)\n",
      "C = range(10, 15)\n",
      "D = range(15, 23)\n",
      "place_lists = [A, B, C, D]\n",
      "\"\"\"\n",
      "cycles over all possible combination of places, where each place is picked\n",
      "from the correspodning group\n",
      "\"\"\"\n",
      "selected_places = (itertools.product(*place_lists))\n",
      "\"\"\"\n",
      "for each combination of places, consider all of the permutations of their order\n",
      "\"\"\"\n",
      "permuations = (itertools.permutations(places) for places in selected_places)\n",
      "#flatten generator of generators\n",
      "permuations = flatten(permuations)\n",
      "costs = (cost(perm) for perm in permuations)\n",
      "print min(zip(costs,permuations))"
     ],
     "language": "python",
     "metadata": {},
     "outputs": [
      {
       "output_type": "stream",
       "stream": "stdout",
       "text": [
        "(0.091520611178203204, (3, 11, 19, 6))\n"
       ]
      }
     ],
     "prompt_number": 241
    },
    {
     "cell_type": "code",
     "collapsed": false,
     "input": [],
     "language": "python",
     "metadata": {},
     "outputs": []
    }
   ],
   "metadata": {}
  }
 ]
}