{
 "metadata": {
  "name": "",
  "signature": "sha256:acb3e9cdac5e7495db017651cf0ac1dfcbc60dbbc43e98c04b79717e91608124"
 },
 "nbformat": 3,
 "nbformat_minor": 0,
 "worksheets": [
  {
   "cells": [
    {
     "cell_type": "code",
     "collapsed": false,
     "input": [
      "import numpy as np\n",
      "%matplotlib inline\n",
      "from matplotlib import pyplot as plt\n",
      "import re"
     ],
     "language": "python",
     "metadata": {},
     "outputs": [],
     "prompt_number": 3
    },
    {
     "cell_type": "code",
     "collapsed": false,
     "input": [
      "import pandas as pd\n",
      "df = pd.DataFrame.from_csv('yelp_data/yelp_raw.csv', index_col = False)"
     ],
     "language": "python",
     "metadata": {},
     "outputs": [],
     "prompt_number": 4
    },
    {
     "cell_type": "code",
     "collapsed": false,
     "input": [
      "'''Drop repeated elements'''\n",
      "df = df.drop_duplicates('id')"
     ],
     "language": "python",
     "metadata": {},
     "outputs": [],
     "prompt_number": 5
    },
    {
     "cell_type": "code",
     "collapsed": false,
     "input": [
      "print df.columns"
     ],
     "language": "python",
     "metadata": {},
     "outputs": [
      {
       "output_type": "stream",
       "stream": "stdout",
       "text": [
        "Index([u'address', u'categories', u'city', u'country_code', u'cross_streets', u'deals', u'display_address', u'display_phone', u'gift_certificates', u'id', u'image_url', u'is_claimed', u'is_closed', u'menu_date_updated', u'menu_provider', u'mobile_url', u'name', u'neighborhoods', u'phone', u'postal_code', u'rating', u'rating_img_url', u'rating_img_url_large', u'rating_img_url_small', u'review_count', u'snippet_image_url', u'snippet_text', u'state_code', u'url'], dtype='object')\n"
       ]
      }
     ],
     "prompt_number": 6
    },
    {
     "cell_type": "code",
     "collapsed": false,
     "input": [
      "'''Remove non-US listings as these were picked because of incorrect latitude / longitude information'''\n",
      "#example: http://www.yelp.com/map/subaru-sushi-xpress-madrid\n",
      "#also gets rid of the column\n",
      "df = df[(df.country_code == 'US')]\n",
      "df = df.drop('country_code', 1)\n",
      "print df.columns"
     ],
     "language": "python",
     "metadata": {},
     "outputs": [
      {
       "output_type": "stream",
       "stream": "stdout",
       "text": [
        "Index([u'address', u'categories', u'city', u'cross_streets', u'deals', u'display_address', u'display_phone', u'gift_certificates', u'id', u'image_url', u'is_claimed', u'is_closed', u'menu_date_updated', u'menu_provider', u'mobile_url', u'name', u'neighborhoods', u'phone', u'postal_code', u'rating', u'rating_img_url', u'rating_img_url_large', u'rating_img_url_small', u'review_count', u'snippet_image_url', u'snippet_text', u'state_code', u'url'], dtype='object')\n"
       ]
      }
     ],
     "prompt_number": 7
    },
    {
     "cell_type": "code",
     "collapsed": false,
     "input": [
      "'''Removing non-CA listings, same issues as above'''\n",
      "#http://www.yelp.com/biz/kelley-premeaux-tattoo-austin-4\n",
      "#http://www.yelp.com/biz/shawntays-creative-nail-boutique-baltimore-2\n",
      "#http://www.yelp.com/biz/gourmet2yourdoor-baltimore-2\n",
      "#http://www.yelp.com/biz/precision-plus-plumbing-philadelphia\n",
      "#http://www.yelp.com/biz/boston-baby-nurse-boston-2\n",
      "#http://www.yelp.com/biz/cinderellas-cleaning-richmond\n",
      "#http://www.yelp.com/biz/ai-kah-garden-lake-milton\n",
      "#http://www.yelp.com/biz/sam-adatos-drums-eugene\n",
      "df = df[(df.state_code == 'CA')]\n",
      "df = df.drop('state_code', 1)\n",
      "print df.columns"
     ],
     "language": "python",
     "metadata": {},
     "outputs": [
      {
       "output_type": "stream",
       "stream": "stdout",
       "text": [
        "Index([u'address', u'categories', u'city', u'cross_streets', u'deals', u'display_address', u'display_phone', u'gift_certificates', u'id', u'image_url', u'is_claimed', u'is_closed', u'menu_date_updated', u'menu_provider', u'mobile_url', u'name', u'neighborhoods', u'phone', u'postal_code', u'rating', u'rating_img_url', u'rating_img_url_large', u'rating_img_url_small', u'review_count', u'snippet_image_url', u'snippet_text', u'url'], dtype='object')\n"
       ]
      }
     ],
     "prompt_number": 8
    },
    {
     "cell_type": "code",
     "collapsed": false,
     "input": [
      "'''Drop entries without a postal code, these have malformed addresses'''\n",
      "df = df[df.postal_code.notnull()]"
     ],
     "language": "python",
     "metadata": {},
     "outputs": [],
     "prompt_number": 9
    },
    {
     "cell_type": "code",
     "collapsed": false,
     "input": [
      "'''Removing obviously incorrect postal codes'''\n",
      "df = df[np.logical_and(df.postal_code >= 94000, df.postal_code <= 96000)]"
     ],
     "language": "python",
     "metadata": {},
     "outputs": [],
     "prompt_number": 10
    },
    {
     "cell_type": "code",
     "collapsed": false,
     "input": [
      "#drop is closed as they are all false\n",
      "#drop menu_date_updated' as it's not useful\n",
      "#drop menu provider as it's not useful\n",
      "#drop mobile url as we don't need it\n",
      "#don't need display phone, or is_claimed, or snipper information\n",
      "df = df.drop(['is_closed','menu_date_updated','menu_provider','mobile_url','display_phone', 'is_claimed', 'snippet_image_url','snippet_text'], 1)\n",
      "print df.columns"
     ],
     "language": "python",
     "metadata": {},
     "outputs": [
      {
       "output_type": "stream",
       "stream": "stdout",
       "text": [
        "Index([u'address', u'categories', u'city', u'cross_streets', u'deals', u'display_address', u'gift_certificates', u'id', u'image_url', u'name', u'neighborhoods', u'phone', u'postal_code', u'rating', u'rating_img_url', u'rating_img_url_large', u'rating_img_url_small', u'review_count', u'url'], dtype='object')\n"
       ]
      }
     ],
     "prompt_number": 11
    },
    {
     "cell_type": "code",
     "collapsed": false,
     "input": [
      "df.review_count.hist(bins = np.linspace(0,500, 20))\n",
      "plt.show()"
     ],
     "language": "python",
     "metadata": {},
     "outputs": [
      {
       "metadata": {},
       "output_type": "display_data",
       "png": "[encoded data removed]",
       "text": [
        "<matplotlib.figure.Figure at 0x110478dd0>"
       ]
      }
     ],
     "prompt_number": 12
    },
    {
     "cell_type": "code",
     "collapsed": false,
     "input": [
      "#only keeping the large image url, don't need neighborhoods\n",
      "df = df.drop(['rating_img_url','rating_img_url_small','neighborhoods','gift_certificates','cross_streets','deals'], 1)"
     ],
     "language": "python",
     "metadata": {},
     "outputs": [],
     "prompt_number": 13
    },
    {
     "cell_type": "code",
     "collapsed": false,
     "input": [
      "#drop entries with no address:\n",
      "df = df[df.address != '[]']"
     ],
     "language": "python",
     "metadata": {},
     "outputs": [],
     "prompt_number": 14
    },
    {
     "cell_type": "code",
     "collapsed": false,
     "input": [
      "_digits = re.compile('\\d')\n",
      "def contains_digits(d):\n",
      "    return bool(_digits.search(d))\n",
      "\n",
      "def lookupable_adddress(x):\n",
      "    '''\n",
      "    takes the 'address' entry and tries to format it so it can be looked up with mapquest API\n",
      "    '''\n",
      "    try:\n",
      "        l = eval(x)\n",
      "    except Exception as e:\n",
      "        print e\n",
      "        return np.nan\n",
      "    else:\n",
      "        if len(l) == 1:\n",
      "            return l[0]\n",
      "        #first entry left to right to contain digits is the street address\n",
      "        else:\n",
      "            for entry in l:\n",
      "                if contains_digits(entry):\n",
      "                    return entry\n",
      "        return np.nan\n",
      "    \n",
      "\n",
      "df['lookup_address'] = df.address.apply(lookupable_adddress)\n",
      "#drop bad lookup addresses\n",
      "df = df[df.lookup_address.notnull()]"
     ],
     "language": "python",
     "metadata": {},
     "outputs": [],
     "prompt_number": 15
    },
    {
     "cell_type": "code",
     "collapsed": false,
     "input": [
      "def add_postal(row):\n",
      "    try:\n",
      "        result = '{0}, {1:n}'.format(row.lookup_address, row.postal_code)\n",
      "    except UnicodeEncodeError as e:\n",
      "        #there are a few cases with accents in the name\n",
      "        return np.nan\n",
      "    else:\n",
      "        return result\n",
      "\n",
      "df['complete_lookup_address'] = df.apply(add_postal, axis = 1)\n",
      "df = df.drop('lookup_address', 1)"
     ],
     "language": "python",
     "metadata": {},
     "outputs": [],
     "prompt_number": 16
    },
    {
     "cell_type": "code",
     "collapsed": false,
     "input": [
      "df[df.name == 'California Pizza Kitchen'].complete_lookup_address"
     ],
     "language": "python",
     "metadata": {},
     "outputs": [
      {
       "metadata": {},
       "output_type": "pyout",
       "prompt_number": 17,
       "text": [
        "51937        1328 Stoneridge Mall Road, 94588\n",
        "56581                  53 Third Street, 94103\n",
        "57305     347 Corte Madera Town Center, 94925\n",
        "58115    100 Hillsdale Shopping Center, 94403\n",
        "58366                      5614 Bay St, 94608\n",
        "60737                     1 Airport Dr, 94621\n",
        "61231            136 Stanford Shopping, 94304\n",
        "61449                531 Cowper Street, 94301\n",
        "63172                1120 Broadway Plz, 94596\n",
        "Name: complete_lookup_address, dtype: object"
       ]
      }
     ],
     "prompt_number": 17
    },
    {
     "cell_type": "code",
     "collapsed": false,
     "input": [
      "all_categories = set()\n",
      "def list_categories(r):\n",
      "    try:\n",
      "        l = eval(r)\n",
      "    except Exception as e:\n",
      "        print r\n",
      "        print e\n",
      "    else:\n",
      "        for full_name,short_name in l:\n",
      "            all_categories.add(full_name)\n",
      "\n",
      "#drop where categories are nan\n",
      "df = df[df.categories.notnull()]\n",
      "df.categories.apply(list_categories)\n",
      "print all_categories"
     ],
     "language": "python",
     "metadata": {},
     "outputs": [
      {
       "output_type": "stream",
       "stream": "stdout",
       "text": [
        "set([u'Roofing', u'Truck Rental', u'Drugstores', u'Dry Cleaning & Laundry', u'Buffets', u'Boating', u'Child Care & Day Care', u'Creperies', u'Pretzels', u'Tapas Bars', u'Pool & Hot Tub Service', u'Comedy Clubs', u'Architects', u'Juice Bars & Smoothies', u'Pet Boarding/Pet Sitting', u'Grocery', u'Hair Removal', u'Dog Parks', u'Adult Education', u'Stadiums & Arenas', u'Community Service/Non-Profit', u'Bowling', u'Restaurants', u'DJs', u'Formal Wear', u'Hiking', u'Fabric Stores', u'Bankruptcy Law', u'Outdoor Gear', u'Delis', u'Bed & Breakfast', u'Tanning', u'Halal', u'Cantonese', u'Herbs & Spices', u'Telecommunications', u'Real Estate Law', u'Chicken Wings', u'Laser Eye Surgery/Lasik', u'Gold Buyers', u'Antiques', u'Food Stands', u'Shopping Centers', u'Mountain Biking', u'Nail Salons', u'Elementary Schools', u'Automotive', u'Interior Design', u'Cosmetic Surgeons', u'Travel Services', u'Lounges', u'Persian/Iranian', u'Shoe Repair', u'Animal Shelters', u'Cajun/Creole', u\"Men's Hair Salons\", u'Hobby Shops', u'Gyms', u'Scandinavian', u'Greek', u'Hardware Stores', u'Art Galleries', u'Watch Repair', u'Limos', u'Chinese', u'Burgers', u'Home Decor', u'Food Trucks', u'Health & Medical', u'Bikes', u'Yoga', u'Ophthalmologists', u'Hookah Bars', u'Middle Eastern', u'Paddleboarding', u'French', u'Brazilian', u'Building Supplies', u'Landscape Architects', u'Legal Services', u'Shanghainese', u'Nutritionists', u'Divorce & Family Law', u'Hungarian', u'Landmarks & Historical Buildings', u'Costumes', u'Vocational & Technical School', u'Diners', u'Sports Bars', u'Donuts', u'Russian', u'Auto Parts & Supplies', u'Seafood Markets', u'Firewood', u'Public Relations', u'Vegetarian', u'Piercing', u'Kosher', u'Flea Markets', u'Climbing', u'Libraries', u'Couriers & Delivery Services', u'German', u'Tobacco Shops', u'Taiwanese', u'Laotian', u'Appliances', u'Basque', u'Art Classes', u'Home Cleaning', u'Pilates', u'Hypnosis/Hypnotherapy', u'Vietnamese', u'Massage Schools', u'Smog Check Stations', u'Home Services', u'Venezuelan', u'Pizza', u'Eyewear & Opticians', u'Marketing', u'Electricians', u'Doulas', u'Movers', u'Office Cleaning', u'Blow Dry/Out Services', u'Falafel', u'Food Court', u'Furniture Reupholstery', u'Music Venues', u'Archery', u'Web Design', u'Seafood', u'British', u'Discount Store', u'Professional Sports Teams', u'Screen Printing', u'South African', u'Bail Bondsmen', u'Boat Charters', u'Japanese', u'Books, Mags, Music & Video', u'Badminton', u'Lice Services', u'Hot Dogs', u'Beer, Wine & Spirits', u'Festivals', u'Salvadoran', u'Drywall Installation & Repair', u'Sandwiches', u'Shaved Ice', u'Video/Film Production', u'Dance Studios', u'Chiropractors', u'Shades & Blinds', u'Dim Sum', u'Fitness & Instruction', u'Summer Camps', u'RV Dealers', u'Armenian', u\"Men's Clothing\", u'Music & DVDs', u'Basketball Courts', u'Nightlife', u'Cocktail Bars', u'Dive Bars', u'Playgrounds', u'Mortgage Brokers', u'Television Stations', u'Pressure Washers', u'Insulation Installation', u'Hats', u'Weight Loss Centers', u'Accessories', u'Watches', u'Active Life', u'Hospitals', u'Window Washing', u'Latin American', u'Beauty & Spas', u'Butcher', u'Acupuncture', u'Damage Restoration', u'Guest Houses', u'Distilleries', u'Hair Salons', u'Comic Books', u'Car Wash', u'Lawyers', u'Mass Media', u'Coffee & Tea', u'Optometrists', u'Cheesesteaks', u'Tattoo Removal', u'Estate Planning Law', u'Occupational Therapy', u'Life Coach', u'Szechuan', u'Contractors', u'Midwives', u'Hearing Aid Providers', u'Amateur Sports Teams', u'Body Shops', u'Cuban', u'Dog Walkers', u'Dance Schools', u'Auction Houses', u'CSA', u'Appliances & Repair', u'Museums', u'Senegalese', u'Orthopedists', u'Lingerie', u'Private Investigation', u'Solar Installation', u'Employment Agencies', u'Massage', u'General Litigation', u'Uniforms', u'Pool Halls', u'Tex-Mex', u'Rafting/Kayaking', u'Keys & Locksmiths', u'Real Estate', u'Hospice', u'Diving', u'Professional Services', u'Scuba Diving', u'Performing Arts', u'Cupcakes', u'Sports Medicine', u'Office Equipment', u'Swimwear', u'Trainers', u'Indian', u'Bubble Tea', u'Fireplace Services', u'Barbeque', u'Recreation Centers', u'Nurseries & Gardening', u'Transportation', u'Home Theatre Installation', u'Catalan', u'Fireworks', u'Retirement Homes', u'Tax Services', u'Afghan', u'Boot Camps', u'Adult', u'Caterers', u'Party & Event Planning', u'First Aid Classes', u'Waxing', u'Art Schools', u'Printing Services', u'Bookstores', u'Plumbing', u'Bartenders', u'Naturopathic/Holistic', u'Apartments', u'American (Traditional)', u'Home Inspectors', u'Rolfing', u'Vape Shops', u'Martial Arts', u'Television Service Providers', u'Knitting Supplies', u'Hot Tub & Pool', u'Soccer', u'Piano Bars', u'Religious Schools', u'Furniture Stores', u'Food', u'Heating & Air Conditioning/HVAC', u'Embroidery & Crochet', u'Photographers', u'Maternity Wear', u'Tree Services', u'Shared Office Spaces', u'Print Media', u'Moroccan', u'Venues & Event Spaces', u'Surfing', u'Ethnic Food', u'Jazz & Blues', u'Day Spas', u'Computers', u'Local Services', u'Tutoring Centers', u'Reflexology', u'Advertising', u'Criminal Defense Law', u'Convenience Stores', u'Comfort Food', u'Portuguese', u'Special Education', u'Colleges & Universities', u'Medical Spas', u'Bespoke Clothing', u'Art Supplies', u'Auto Detailing', u'Arcades', u'Fishing', u'Language Schools', u'Cafeteria', u'Health Retreats', u'Soul Food', u'IT Services & Computer Repair', u'Tanning Beds', u'Gluten-Free', u'Arts & Entertainment', u'Home Window Tinting', u'Musicians', u'Motorcycle Gear', u'Sushi Bars', u'Tea Rooms', u'Nanny Services', u'Newspapers & Magazines', u'Permanent Makeup', u'Cosmetics & Beauty Supply', u'Fondue', u'Hair Extensions', u'Session Photography', u'Educational Services', u'Gelato', u'Irish', u'Translation Services', u'Food Delivery Services', u'Garage Door Services', u'Videographers', u'Sporting Goods', u'Amusement Parks', u'Door Sales/Installation', u'Spray Tanning', u'Specialty Schools', u'Fertility', u'Italian', u'Personal Assistants', u'Metal Fabricators', u'Synagogues', u'Mediterranean', u'Department Stores', u'Motorcycle Dealers', u'Self Storage', u'Medical Centers', u'Austrian', u'Education', u'Recycling Center', u'Internet Cafes', u'Personal Chefs', u'Irish Pub', u'Caribbean', u'Dance Clubs', u'American (New)', u'Investing', u'Cosmetology Schools', u'Breakfast & Brunch', u'Radio Stations', u'Paintball', u'Do-It-Yourself Food', u\"Children's Clothing\", u'Junk Removal & Hauling', u'Gas & Service Stations', u'Indonesian', u'Shopping', u'Hawaiian', u'Utilities', u'Golf Equipment', u'Argentine', u'Handyman', u'Screen Printing/T-Shirt Printing', u'Thai', u'Fish & Chips', u'Skin Care', u'Burmese', u'Farmers Market', u'African', u'Middle Schools & High Schools', u'Outlet Stores', u'Singaporean', u'Vehicle Shipping', u'Cinema', u'Asian Fusion', u'Mattresses', u'Arts & Crafts', u'Gutter Services', u'Tours', u'Fences & Gates', u'Gun/Rifle Ranges', u'Pool Cleaners', u'Makeup Artists', u'Commercial Real Estate', u'Turkish', u'Laser Hair Removal', u'Live/Raw Food', u'Gay Bars', u'Preschools', u'Home Organization', u'Internet Service Providers', u'Guns & Ammo', u'Southern', u'Sewing & Alterations', u'Pediatricians', u'Yelp Events', u'Doctors', u'Cooking Schools', u'Used, Vintage & Consignment', u'Physical Therapy', u'University Housing', u'Leisure Centers', u'Mobile Phone Repair', u'Hot Pot', u'Post Offices', u'Casinos', u'Champagne Bars', u'Pawn Shops', u'Fire Departments', u'Cards & Stationery', u'Irrigation', u'Candy Stores', u'Vinyl Records', u'Karaoke', u'Tires', u'Property Management', u'Mongolian', u'Wine Bars', u'Hotels', u'Golf Equipment Shops', u'Shipping Centers', u'Ethiopian', u'Bagels', u'Tennis', u'Social Clubs', u'Painters', u'Buddhist Temples', u'Towing', u'Bridal', u'Vacation Rentals', u'Musical Instruments & Teachers', u'Salad', u'Structural Engineers', u'Massage Therapy', u'Himalayan/Nepalese', u'Accountants', u'Financial Advising', u'Career Counseling', u'Local Flavor', u'Home Health Care', u'Hotels & Travel', u'Lebanese', u'Swimming Lessons/Schools', u'Luggage', u'Flowers & Gifts', u'Soup', u'Car Rental', u'Hair Stylists', u'Wedding Planning', u'Counseling & Mental Health', u'Masonry/Concrete', u'Auto Repair', u'Peruvian', u'Talent Agencies', u'Mobile Phones', u'Motorcycle Repair', u'Rugs', u'Chimney Sweeps', u'Notaries', u'Street Vendors', u'Tapas/Small Plates', u'Jewelry Repair', u'Signmaking', u'Wholesale Stores', u'Arabian', u'Pets', u'Churches', u'Wigs', u'Belgian', u'Propane', u'Skating Rinks', u'Day Camps', u'Reiki', u'Baby Gear & Furniture', u'Party Supplies', u'Boat Repair', u'Filipino', u'Toy Stores', u'Shoe Stores', u'Brewing Supplies', u'Data Recovery', u'Dermatologists', u'Immigration Law', u'Driving Schools', u'Leather Goods', u'Steakhouses', u'Fashion', u'Thrift Stores', u'Recording & Rehearsal Studios', u'Public Services & Government', u'Desserts', u'Puerto Rican', u'Beaches', u'Oncologist', u'Meditation Centers', u'Polish', u'Event Planning & Services', u'Obstetricians & Gynecologists', u'Jewelry', u'Home & Garden', u'Fruits & Veggies', u'Sports Wear', u'Carpeting', u'Banks & Credit Unions', u'Auto Glass Services', u'Laboratory Testing', u'Dentists', u'Family Practice', u'Magicians', u'Carpet Installation', u'Bike Rentals', u'Cafes', u\"Women's Clothing\", u'Plus Size Fashion', u'Wineries', u'Lighting Fixtures & Equipment', u'Kitchen & Bath', u'Ice Cream & Frozen Yogurt', u'Eyelash Service', u'Bars', u'Cabinetry', u'Pop-up Shops', u'Veterinarians', u'Health Markets', u'Event Photography', u'Cosmetic Dentists', u'Tattoo', u'Electronics Repair', u'Adult Entertainment', u'Carpet Cleaning', u'Boat Dealers', u'Water Delivery', u'Real Estate Services', u'Pet Services', u'Korean', u'Pakistani', u'Personal Shopping', u'Trophy Shops', u'Pest Control', u'Pet Stores', u'Check Cashing/Pay-day Loans', u'Security Systems', u'Brasseries', u'Cultural Center', u'Vegan', u'Pubs', u'Landscaping', u'Mini Golf', u'Framing', u'Gastropubs', u'Car Stereo Installation', u'Bakeries', u'Cooking Classes', u'Religious Organizations', u'Surf Shop', u'Swimming Pools', u'Breweries', u'Malaysian', u'Funeral Services & Cemeteries', u'Graphic Design', u'Kiteboarding', u'Modern European', u'Photography Stores & Services', u'Private Tutors', u'Party Equipment Rentals', u'Psychics & Astrologers', u'Barbers', u'Golf', u'Czech', u'Ramen', u'Chocolatiers & Shops', u'Rehabilitation Center', u'Cannabis Clinics', u'Real Estate Agents', u'Horseback Riding', u'Parking', u'Videos & Video Game Rental', u'Windshield Installation & Repair', u'Insurance', u'Flooring', u'Cheese Shops', u'Surgeons', u'Parks', u'CPR Classes', u'Fast Food', u'Electronics', u'Lactation Services', u'Colombian', u'Bike Repair/Maintenance', u'Medical Supplies', u'Sports Clubs', u'Gardeners', u'Glass & Mirrors', u'Home Staging', u'Financial Services', u'Florists', u'Gift Shops', u'Windows Installation', u'Internal Medicine', u'Mexican', u'Car Dealers', u'Ticket Sales', u'Meat Shops', u'Traditional Chinese Medicine', u'Cambodian', u'Specialty Food', u'Spanish', u'Free Diving'])\n"
       ]
      }
     ],
     "prompt_number": 18
    },
    {
     "cell_type": "code",
     "collapsed": false,
     "input": [
      "len(all_categories)"
     ],
     "language": "python",
     "metadata": {},
     "outputs": [
      {
       "metadata": {},
       "output_type": "pyout",
       "prompt_number": 19,
       "text": [
        "615"
       ]
      }
     ],
     "prompt_number": 19
    },
    {
     "cell_type": "code",
     "collapsed": false,
     "input": [
      "df.complete_lookup_address"
     ],
     "language": "python",
     "metadata": {},
     "outputs": [
      {
       "metadata": {},
       "output_type": "pyout",
       "prompt_number": 20,
       "text": [
        "0        3201 California St, 94118\n",
        "1        565 Buckingham Way, 94132\n",
        "2       1860 El Camino Real, 94010\n",
        "3         209 Broadway Ave., 94030\n",
        "4         241 California St, 94111\n",
        "5         311 California St, 94104\n",
        "6               101 Pine St, 94111\n",
        "7             405 Howard St, 94105\n",
        "8     321 Gellert Boulevard, 94015\n",
        "9        701 Sacramento St., 94108\n",
        "10          4669 Mission St, 94112\n",
        "11            557 Castro St, 94114\n",
        "12       490 El Camino Real, 94002\n",
        "13            460 Sutter St, 94108\n",
        "14          1405 Noriega St, 94122\n",
        "...\n",
        "79260           900 Andersen Drive, 94901\n",
        "79261         75 Bellam Blvd Ste C, 94901\n",
        "79262               75 Bellam Blvd, 94901\n",
        "79263    2201 Larkspur Landing Cir, 94977\n",
        "79265              28 Bellam Blvd., 94901\n",
        "79266    2229 Larkspur Landing Cir, 94939\n",
        "79267      863 East Francisco Blvd, 94901\n",
        "79269               75 Bellam Blvd, 94901\n",
        "79270              4027 Noriega St, 94122\n",
        "79271               75 Bellam Blvd, 94901\n",
        "79272                 45 Vivian St, 94901\n",
        "79273               75 Bellam Blvd, 94901\n",
        "79274    2009 Larkspur Landing Cir, 94939\n",
        "79275    2413 Larkspur Landing Cir, 94939\n",
        "79276                  138 Gary Pl, 94901\n",
        "Name: complete_lookup_address, Length: 66328, dtype: object"
       ]
      }
     ],
     "prompt_number": 20
    },
    {
     "cell_type": "code",
     "collapsed": false,
     "input": [
      "'''Export df for location lookup'''\n",
      "# filename = 'location_frame_1.txt'\n",
      "# #create a reduced dataframe with only the needed fields\n",
      "# locationdf = df[['id','complete_lookup_address']]\n",
      "# #add columns we'll need:\n",
      "# locationdf['latitude'] = np.nan\n",
      "# locationdf['longitude'] = np.nan\n",
      "# locationdf['latlng_confidence'] = np.nan\n",
      "# pd.to_pickle(locationdf, filename)"
     ],
     "language": "python",
     "metadata": {},
     "outputs": [
      {
       "metadata": {},
       "output_type": "pyout",
       "prompt_number": 21,
       "text": [
        "'Export df for location lookup'"
       ]
      }
     ],
     "prompt_number": 21
    },
    {
     "cell_type": "code",
     "collapsed": false,
     "input": [
      "#load location data (which as been processed with clean_location_data notebook)\n",
      "location = pd.read_pickle('location_frame_0.txt')\n",
      "print location.head()"
     ],
     "language": "python",
     "metadata": {},
     "outputs": [
      {
       "output_type": "stream",
       "stream": "stdout",
       "text": [
        "                                        id     complete_lookup_address  \\\n",
        "0       sf-fire-credit-union-san-francisco   3201 California St, 94118   \n",
        "1     sf-fire-credit-union-san-francisco-2   565 Buckingham Way, 94132   \n",
        "2  united-health-credit-union-burlingame-2  1860 El Camino Real, 94010   \n",
        "3          provident-credit-union-millbrae    209 Broadway Ave., 94030   \n",
        "4     redwood-credit-union-san-francisco-2    241 California St, 94111   \n",
        "\n",
        "    latitude   longitude latlng_confidence  \n",
        "0  37.787171 -122.447225             P1AAA  \n",
        "1  37.730150 -122.476210             L1AAA  \n",
        "2  37.596147 -122.384672             P1AAA  \n",
        "3  37.599988 -122.390680             L1AAA  \n",
        "4  37.793305 -122.399275             L1AAA  \n",
        "\n",
        "[5 rows x 5 columns]\n"
       ]
      }
     ],
     "prompt_number": 22
    },
    {
     "cell_type": "code",
     "collapsed": false,
     "input": [
      "#merge the two datasets on matching ids\n",
      "final = pd.merge(df, location)"
     ],
     "language": "python",
     "metadata": {},
     "outputs": [],
     "prompt_number": 33
    },
    {
     "cell_type": "code",
     "collapsed": false,
     "input": [
      "#make a separate list of categories\n",
      "cat_listing  = []\n",
      "\n",
      "def process_categories(row):\n",
      "    ident, cats = row\n",
      "    try:\n",
      "        l = eval(cats)\n",
      "    except Exception as e:\n",
      "        print l\n",
      "        print e\n",
      "    else:\n",
      "        for full_name,short_name in l:\n",
      "            cat_listing.append((ident, short_name, full_name))\n",
      "    \n",
      "final[['id','categories']].apply(process_categories, axis = 1)\n",
      "categories = pd.DataFrame.from_records(cat_listing, columns = ['id', 'short_category','full_category'])\n",
      "print categories.head()"
     ],
     "language": "python",
     "metadata": {},
     "outputs": []
    },
    {
     "cell_type": "code",
     "collapsed": false,
     "input": [
      "'''Save everything'''\n",
      "df.to_csv('yelp.csv')\n",
      "categories.to_csv('categories.csv')"
     ],
     "language": "python",
     "metadata": {},
     "outputs": [],
     "prompt_number": 47
    }
   ],
   "metadata": {}
  }
 ]
}