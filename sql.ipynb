{
 "metadata": {
  "name": "",
  "signature": "sha256:76bdf18a1916f0664c60b2d67eb404f2efcb38517fa530b25f71aa128fe7df9f"
 },
 "nbformat": 3,
 "nbformat_minor": 0,
 "worksheets": [
  {
   "cells": [
    {
     "cell_type": "code",
     "collapsed": false,
     "input": [
      "import pymysql\n",
      "import pandas as pd"
     ],
     "language": "python",
     "metadata": {},
     "outputs": [],
     "prompt_number": 61
    },
    {
     "cell_type": "code",
     "collapsed": false,
     "input": [
      "conn = pymysql.connect(host='localhost', user='root')#, password='password', database='mydatabase')"
     ],
     "language": "python",
     "metadata": {},
     "outputs": [],
     "prompt_number": 62
    },
    {
     "cell_type": "code",
     "collapsed": true,
     "input": [
      "cursor = conn.cursor()\n",
      "cursor.execute(\"\"\"USE test;\"\"\")\n",
      "# resp = cursor.execute(\"\"\"SHOW tables;\"\"\")\n",
      "# cursor.execute(\"\"\"SELECT * FROM recipes ORDER BY recipe_id\"\"\")\n",
      "# print cursor.fetchall()"
     ],
     "language": "python",
     "metadata": {},
     "outputs": [
      {
       "metadata": {},
       "output_type": "pyout",
       "prompt_number": 63,
       "text": [
        "0"
       ]
      }
     ],
     "prompt_number": 63
    },
    {
     "cell_type": "code",
     "collapsed": false,
     "input": [
      "# cursor.execute(\"\"\"DESCRIBE recipes;\"\"\")\n",
      "# print cursor.fetchall()"
     ],
     "language": "python",
     "metadata": {},
     "outputs": [],
     "prompt_number": 64
    },
    {
     "cell_type": "code",
     "collapsed": false,
     "input": [
      "def is_among_tables(cursor, table_name):\n",
      "    \"\"\"returns if a given table already exists in the database\"\"\"\n",
      "    cursor.execute(\"\"\"SHOW TABLES;\"\"\")\n",
      "    in_table = False\n",
      "    for entry in cursor.fetchall():\n",
      "        if table_name in entry[0]:\n",
      "            in_table = True\n",
      "    return in_table\n",
      "\n",
      "print is_among_tables(cursor, 'recipes_test_table')"
     ],
     "language": "python",
     "metadata": {},
     "outputs": [
      {
       "output_type": "stream",
       "stream": "stdout",
       "text": [
        "False\n"
       ]
      }
     ],
     "prompt_number": 65
    },
    {
     "cell_type": "code",
     "collapsed": false,
     "input": [
      "yelp = pd.read_csv('yelp.csv')\n",
      "print yelp.columns\n",
      "cats = pd.read_csv('categories.csv')\n",
      "print cats.columns"
     ],
     "language": "python",
     "metadata": {},
     "outputs": [
      {
       "output_type": "stream",
       "stream": "stdout",
       "text": [
        "Index([u'Unnamed: 0', u'address', u'categories', u'city', u'display_address', u'id', u'image_url', u'name', u'phone', u'postal_code', u'rating', u'rating_img_url_large', u'review_count', u'url', u'complete_lookup_address', u'latitude', u'longitude', u'latlng_confidence'], dtype='object')\n",
        "Index([u'Unnamed: 0', u'id', u'short_category', u'full_category'], dtype='object')"
       ]
      },
      {
       "output_type": "stream",
       "stream": "stdout",
       "text": [
        "\n"
       ]
      }
     ],
     "prompt_number": 54
    },
    {
     "cell_type": "code",
     "collapsed": false,
     "input": [
      "def find_length(x):\n",
      "    try:\n",
      "        return len(x)\n",
      "    except Exception as e:\n",
      "        print x, e\n",
      "        return 0\n",
      "\n",
      "def list_category_length():\n",
      "    for name in ['id','short_category','full_category']:\n",
      "        print cats[name].apply(find_length).max()\n",
      "\n",
      "# list_category_length()\n",
      "# yelp.image_url.apply(find_length).max()\n",
      "# print yelp.url.apply(find_length).max()\n",
      "yelp.longitude\n",
      "\n"
     ],
     "language": "python",
     "metadata": {},
     "outputs": [
      {
       "metadata": {},
       "output_type": "pyout",
       "prompt_number": 58,
       "text": [
        "0    -122.447225\n",
        "1    -122.476210\n",
        "2    -122.384672\n",
        "3    -122.390680\n",
        "4    -122.399275\n",
        "5    -122.400302\n",
        "6    -122.398615\n",
        "7    -122.395578\n",
        "8    -122.404629\n",
        "9    -122.435625\n",
        "10   -122.434901\n",
        "11   -122.283204\n",
        "12   -122.407947\n",
        "13   -122.478655\n",
        "14   -122.438924\n",
        "...\n",
        "59296   -122.506855\n",
        "59297   -122.508121\n",
        "59298   -122.506704\n",
        "59299   -122.506704\n",
        "59300   -122.506688\n",
        "59301   -122.506677\n",
        "59302   -122.508326\n",
        "59303   -122.506704\n",
        "59304   -122.507002\n",
        "59305   -122.506704\n",
        "59306   -122.508630\n",
        "59307   -122.506704\n",
        "59308   -122.508028\n",
        "59309   -122.506858\n",
        "59310   -122.509126\n",
        "Name: longitude, Length: 59311, dtype: float64"
       ]
      }
     ],
     "prompt_number": 58
    },
    {
     "cell_type": "code",
     "collapsed": false,
     "input": [
      "table_name = 'yelp'\n",
      "\n",
      "if is_among_tables(cursor, table_name):\n",
      "    \"\"\"if already exists, delete it first\"\"\"\n",
      "    cursor.execute(\"\"\"DROP TABLE {}\"\"\".format(table_name))\n",
      "\n",
      "#create a new table\n",
      "cursor.execute(\"\"\"CREATE TABLE {} (\n",
      "                  `id` VARCHAR(255) NOT NULL,\n",
      "                  `display_address` TEXT,\n",
      "                  `image_url` TEXT,\n",
      "                  `phone` BIGINT,\n",
      "                  `rating` DECIMAL(2,1),\n",
      "                  `rating_image_url_large` TEXT,\n",
      "                  `url` TEXT,\n",
      "                  `latitude` DECIMAL(9,6),\n",
      "                  `longitude` DECIMAL(9,6),\n",
      "                  PRIMARY KEY (`id`))\"\"\".format(table_name))\n",
      "\n",
      "cursor.execute(\"\"\"INSERT INTO yelp(id, display_address, image_url, phone, rating, rating_image_url_large, url, latitude, longitude) \n",
      "                VALUES ('id1', 'hello', 'image url', 5555555555, '3.3', 'largeurl', 'url',-120.827231, 37.827231)\"\"\")"
     ],
     "language": "python",
     "metadata": {},
     "outputs": [
      {
       "metadata": {},
       "output_type": "pyout",
       "prompt_number": 161,
       "text": [
        "1"
       ]
      }
     ],
     "prompt_number": 161
    },
    {
     "cell_type": "code",
     "collapsed": true,
     "input": [
      "\"\"\"Fill the table\"\"\"\n",
      "# cursor.execute(\"\"\"SHOW TABLES\"\"\")\n",
      "cursor.execute(\"\"\"DESCRIBE yelp;\"\"\")\n",
      "cursor.execute(\"\"\"SELECT * FROM yelp;\"\"\")\n",
      "print cursor.fetchall()"
     ],
     "language": "python",
     "metadata": {},
     "outputs": [
      {
       "output_type": "stream",
       "stream": "stdout",
       "text": [
        "(('id1', 'hello', 'image url', 5555555555, Decimal('3.3'), 'largeurl', 'url', Decimal('-120.827231'), Decimal('37.827231')),)\n"
       ]
      }
     ],
     "prompt_number": 162
    },
    {
     "cell_type": "code",
     "collapsed": false,
     "input": [
      "\n"
     ],
     "language": "python",
     "metadata": {},
     "outputs": []
    }
   ],
   "metadata": {}
  }
 ]
}