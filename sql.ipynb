{
 "metadata": {
  "name": "",
  "signature": "sha256:e9e517a00027b33527048b5605890409ec00e0a165a03613454ac87160b271db"
 },
 "nbformat": 3,
 "nbformat_minor": 0,
 "worksheets": [
  {
   "cells": [
    {
     "cell_type": "code",
     "collapsed": false,
     "input": [
      "import pymysql"
     ],
     "language": "python",
     "metadata": {},
     "outputs": [],
     "prompt_number": 86
    },
    {
     "cell_type": "code",
     "collapsed": false,
     "input": [
      "conn = pymysql.connect(host='localhost', user='root')#, password='password', database='mydatabase')"
     ],
     "language": "python",
     "metadata": {},
     "outputs": [],
     "prompt_number": 87
    },
    {
     "cell_type": "code",
     "collapsed": true,
     "input": [
      "cursor = conn.cursor()\n",
      "cursor.execute(\"\"\"USE test;\"\"\")\n",
      "# resp = cursor.execute(\"\"\"SHOW tables;\"\"\")\n",
      "# cursor.execute(\"\"\"SELECT * FROM recipes ORDER BY recipe_id\"\"\")\n",
      "# print cursor.fetchall()"
     ],
     "language": "python",
     "metadata": {},
     "outputs": [
      {
       "metadata": {},
       "output_type": "pyout",
       "prompt_number": 88,
       "text": [
        "0"
       ]
      }
     ],
     "prompt_number": 88
    },
    {
     "cell_type": "code",
     "collapsed": false,
     "input": [
      "# cursor.execute(\"\"\"DESCRIBE recipes;\"\"\")\n",
      "# print cursor.fetchall()"
     ],
     "language": "python",
     "metadata": {},
     "outputs": [],
     "prompt_number": 89
    },
    {
     "cell_type": "code",
     "collapsed": false,
     "input": [
      "def is_among_tables(cursor, table_name):\n",
      "    \"\"\"returns if a given table already exists in the database\"\"\"\n",
      "    cursor.execute(\"\"\"SHOW TABLES;\"\"\")\n",
      "    in_table = False\n",
      "    for entry in cursor.fetchall():\n",
      "        if table_name in entry[0]:\n",
      "            in_table = True\n",
      "    return in_table\n",
      "\n",
      "print is_among_tables(cursor, 'recipes_test_table')"
     ],
     "language": "python",
     "metadata": {},
     "outputs": [
      {
       "output_type": "stream",
       "stream": "stdout",
       "text": [
        "False\n"
       ]
      }
     ],
     "prompt_number": 90
    },
    {
     "cell_type": "code",
     "collapsed": false,
     "input": [
      "table_name = 'test_ipython'\n",
      "\n",
      "if is_among_tables(cursor, table_name):\n",
      "    \"\"\"if already exists, delete it first\"\"\"\n",
      "    cursor.execute(\"\"\"DROP TABLE {}\"\"\".format(table_name))\n",
      "\n",
      "#create a new table\n",
      "cursor.execute(\"\"\"CREATE TABLE {} (\n",
      "                  `id` int(11) unsigned NOT NULL AUTO_INCREMENT,\n",
      "                  PRIMARY KEY (`id`))\"\"\".format(table_name))"
     ],
     "language": "python",
     "metadata": {},
     "outputs": [
      {
       "metadata": {},
       "output_type": "pyout",
       "prompt_number": 109,
       "text": [
        "0"
       ]
      }
     ],
     "prompt_number": 109
    },
    {
     "cell_type": "code",
     "collapsed": true,
     "input": [
      "cursor.close()"
     ],
     "language": "python",
     "metadata": {},
     "outputs": [],
     "prompt_number": 59
    },
    {
     "cell_type": "code",
     "collapsed": false,
     "input": [
      "\n"
     ],
     "language": "python",
     "metadata": {},
     "outputs": []
    }
   ],
   "metadata": {}
  }
 ]
}