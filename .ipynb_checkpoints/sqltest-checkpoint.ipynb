{
 "metadata": {
  "name": "",
  "signature": "sha256:b4910a61899d51175181e3dc5f6c067424061f6bba1ffc08283f2ff7e6858c97"
 },
 "nbformat": 3,
 "nbformat_minor": 0,
 "worksheets": [
  {
   "cells": [
    {
     "cell_type": "code",
     "collapsed": false,
     "input": [
      "import pymysql"
     ],
     "language": "python",
     "metadata": {},
     "outputs": [],
     "prompt_number": 57
    },
    {
     "cell_type": "code",
     "collapsed": false,
     "input": [
      "conn = pymysql.connect(host='localhost', user='root')#, password='password', database='mydatabase')"
     ],
     "language": "python",
     "metadata": {},
     "outputs": [],
     "prompt_number": 58
    },
    {
     "cell_type": "code",
     "collapsed": false,
     "input": [
      "cursor.execute(\"\"\"DESCRIBE recipes;\"\"\")\n",
      "print cursor.fetchall()"
     ],
     "language": "python",
     "metadata": {},
     "outputs": [
      {
       "output_type": "stream",
       "stream": "stdout",
       "text": [
        "(('recipe_id', 'int(11)', 'NO', 'PRI', None, ''), ('recipe_name', 'varchar(30)', 'NO', 'UNI', None, ''))\n"
       ]
      }
     ],
     "prompt_number": 59
    },
    {
     "cell_type": "code",
     "collapsed": true,
     "input": [
      "cursor = conn.cursor()\n",
      "cursor.execute(\"\"\"USE recipes_database;\"\"\")\n",
      "# resp = cursor.execute(\"\"\"SHOW tables;\"\"\")\n",
      "cursor.execute(\"\"\"SELECT * FROM recipes ORDER BY recipe_id\"\"\")\n",
      "print cursor.fetchall()"
     ],
     "language": "python",
     "metadata": {},
     "outputs": [
      {
       "output_type": "stream",
       "stream": "stdout",
       "text": [
        "((1, 'Tacos'), (2, 'Tomato Soup'), (3, 'Grilled Cheese'))\n"
       ]
      }
     ],
     "prompt_number": 60
    },
    {
     "cell_type": "code",
     "collapsed": false,
     "input": [],
     "language": "python",
     "metadata": {},
     "outputs": []
    }
   ],
   "metadata": {}
  }
 ]
}