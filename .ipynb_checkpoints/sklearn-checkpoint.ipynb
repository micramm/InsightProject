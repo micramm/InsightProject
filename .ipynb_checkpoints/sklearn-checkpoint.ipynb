{
 "metadata": {
  "name": "",
  "signature": "sha256:970fa217a386820f984759d17e473ca328d0bec3c87060475985fe099f312b75"
 },
 "nbformat": 3,
 "nbformat_minor": 0,
 "worksheets": [
  {
   "cells": [
    {
     "cell_type": "code",
     "collapsed": false,
     "input": [
      "import pandas as pd\n",
      "import sklearn\n",
      "from sklearn.cross_validation import train_test_split\n",
      "from sklearn.linear_model import LogisticRegression\n",
      "from sklearn import feature_extraction\n",
      "import numpy as np\n",
      "from matplotlib import pyplot\n",
      "%matplotlib inline"
     ],
     "language": "python",
     "metadata": {},
     "outputs": [],
     "prompt_number": 1
    },
    {
     "cell_type": "code",
     "collapsed": false,
     "input": [
      "'''\n",
      "Load all the CSV files into data frames\n",
      "'''\n",
      "next_records = pd.read_csv('next_records.csv')\n",
      "# print next_records.columns\n",
      "matched = pd.read_csv('matched.csv')\n",
      "# print matched.columns\n",
      "yelp = pd.read_csv('yelp.csv')\n",
      "# print yelp.head(5)\n",
      "categories = pd.read_csv('categories.csv')"
     ],
     "language": "python",
     "metadata": {},
     "outputs": [],
     "prompt_number": 2
    },
    {
     "cell_type": "code",
     "collapsed": false,
     "input": [
      "'''\n",
      "Working on the next_records dataframe: use the matched dataframe to convert four square ids to yelp ids\n",
      "'''\n",
      "#first, create lookup_four_square_id dictionary to convert four square ids to yelp ids\n",
      "lookup_four_square_id = {}\n",
      "for index, row in matched.iterrows():\n",
      "    yelp_id, four_square_id = row['id'], row['four_square_id']\n",
      "    lookup_four_square_id[four_square_id] = yelp_id\n",
      "\n",
      "def do_lookup_four_square_id(four_square_id):\n",
      "    return lookup_four_square_id.get(four_square_id, np.NaN)"
     ],
     "language": "python",
     "metadata": {},
     "outputs": [],
     "prompt_number": 3
    },
    {
     "cell_type": "code",
     "collapsed": false,
     "input": [
      "next_records['from_yelp_id'] = next_records.from_id.apply(do_lookup_four_square_id)\n",
      "next_records['to_yelp_id'] = next_records.to_id.apply(do_lookup_four_square_id)\n",
      "#only keep columns we need\n",
      "next_records_yelp = next_records[['from_yelp_id','to_yelp_id']]"
     ],
     "language": "python",
     "metadata": {},
     "outputs": [],
     "prompt_number": 4
    },
    {
     "cell_type": "code",
     "collapsed": false,
     "input": [
      "#dropping missing values, dups\n",
      "next_records_yelp = next_records_yelp.dropna()\n",
      "next_records_yelp = next_records_yelp.drop_duplicates()"
     ],
     "language": "python",
     "metadata": {},
     "outputs": [],
     "prompt_number": 5
    },
    {
     "cell_type": "code",
     "collapsed": false,
     "input": [
      "next_records_yelp['match'] = 1"
     ],
     "language": "python",
     "metadata": {},
     "outputs": [],
     "prompt_number": 6
    },
    {
     "cell_type": "code",
     "collapsed": false,
     "input": [
      "#create unmatched dataframe by randomly sampling among places that were not matched\n",
      "unmatched = []\n",
      "for i,from_yelp_id in enumerate(next_records_yelp.from_yelp_id):\n",
      "    matched = next_records_yelp[next_records_yelp.from_yelp_id == from_yelp_id].to_yelp_id \n",
      "    unmatched_choice = np.random.choice(yelp.id[~yelp.id.isin(matched)])\n",
      "    unmatched.append((from_yelp_id, unmatched_choice, 0))\n",
      "    if i % 250 == 0:\n",
      "        print i\n",
      "print len(unmatched)"
     ],
     "language": "python",
     "metadata": {},
     "outputs": [
      {
       "output_type": "stream",
       "stream": "stdout",
       "text": [
        "0\n",
        "250"
       ]
      },
      {
       "output_type": "stream",
       "stream": "stdout",
       "text": [
        "\n",
        "500"
       ]
      },
      {
       "output_type": "stream",
       "stream": "stdout",
       "text": [
        "\n",
        "750"
       ]
      },
      {
       "output_type": "stream",
       "stream": "stdout",
       "text": [
        "\n",
        "1000"
       ]
      },
      {
       "output_type": "stream",
       "stream": "stdout",
       "text": [
        "\n",
        "1250"
       ]
      },
      {
       "output_type": "stream",
       "stream": "stdout",
       "text": [
        "\n",
        "1500"
       ]
      },
      {
       "output_type": "stream",
       "stream": "stdout",
       "text": [
        "\n",
        "1750"
       ]
      },
      {
       "output_type": "stream",
       "stream": "stdout",
       "text": [
        "\n",
        "2000"
       ]
      },
      {
       "output_type": "stream",
       "stream": "stdout",
       "text": [
        "\n",
        "2250"
       ]
      },
      {
       "output_type": "stream",
       "stream": "stdout",
       "text": [
        "\n",
        "2500"
       ]
      },
      {
       "output_type": "stream",
       "stream": "stdout",
       "text": [
        "\n",
        "2750"
       ]
      },
      {
       "output_type": "stream",
       "stream": "stdout",
       "text": [
        "\n",
        "3000"
       ]
      },
      {
       "output_type": "stream",
       "stream": "stdout",
       "text": [
        "\n",
        "3250"
       ]
      },
      {
       "output_type": "stream",
       "stream": "stdout",
       "text": [
        "\n",
        "3500"
       ]
      },
      {
       "output_type": "stream",
       "stream": "stdout",
       "text": [
        "\n",
        "3750"
       ]
      },
      {
       "output_type": "stream",
       "stream": "stdout",
       "text": [
        "\n",
        "4000"
       ]
      },
      {
       "output_type": "stream",
       "stream": "stdout",
       "text": [
        "\n",
        "4250"
       ]
      },
      {
       "output_type": "stream",
       "stream": "stdout",
       "text": [
        "\n",
        "4500"
       ]
      },
      {
       "output_type": "stream",
       "stream": "stdout",
       "text": [
        "\n",
        "4750"
       ]
      },
      {
       "output_type": "stream",
       "stream": "stdout",
       "text": [
        "\n",
        "5000"
       ]
      },
      {
       "output_type": "stream",
       "stream": "stdout",
       "text": [
        "\n",
        "5250"
       ]
      },
      {
       "output_type": "stream",
       "stream": "stdout",
       "text": [
        "\n",
        "5500"
       ]
      },
      {
       "output_type": "stream",
       "stream": "stdout",
       "text": [
        "\n",
        "5750"
       ]
      },
      {
       "output_type": "stream",
       "stream": "stdout",
       "text": [
        "\n",
        "6000"
       ]
      },
      {
       "output_type": "stream",
       "stream": "stdout",
       "text": [
        "\n",
        "6250"
       ]
      },
      {
       "output_type": "stream",
       "stream": "stdout",
       "text": [
        "\n",
        "6500"
       ]
      },
      {
       "output_type": "stream",
       "stream": "stdout",
       "text": [
        "\n",
        "6750"
       ]
      },
      {
       "output_type": "stream",
       "stream": "stdout",
       "text": [
        "\n",
        "7000"
       ]
      },
      {
       "output_type": "stream",
       "stream": "stdout",
       "text": [
        "\n",
        "7250"
       ]
      },
      {
       "output_type": "stream",
       "stream": "stdout",
       "text": [
        "\n",
        "7500"
       ]
      },
      {
       "output_type": "stream",
       "stream": "stdout",
       "text": [
        "\n",
        "7750"
       ]
      },
      {
       "output_type": "stream",
       "stream": "stdout",
       "text": [
        "\n",
        "8000"
       ]
      },
      {
       "output_type": "stream",
       "stream": "stdout",
       "text": [
        "\n",
        "8250"
       ]
      },
      {
       "output_type": "stream",
       "stream": "stdout",
       "text": [
        "\n",
        "8500"
       ]
      },
      {
       "output_type": "stream",
       "stream": "stdout",
       "text": [
        "\n",
        "8750"
       ]
      },
      {
       "output_type": "stream",
       "stream": "stdout",
       "text": [
        "\n",
        "9000"
       ]
      },
      {
       "output_type": "stream",
       "stream": "stdout",
       "text": [
        "\n",
        "9250"
       ]
      },
      {
       "output_type": "stream",
       "stream": "stdout",
       "text": [
        "\n",
        "9500"
       ]
      },
      {
       "output_type": "stream",
       "stream": "stdout",
       "text": [
        "\n",
        "9750"
       ]
      },
      {
       "output_type": "stream",
       "stream": "stdout",
       "text": [
        "\n",
        "10000"
       ]
      },
      {
       "output_type": "stream",
       "stream": "stdout",
       "text": [
        "\n",
        "10250"
       ]
      },
      {
       "output_type": "stream",
       "stream": "stdout",
       "text": [
        "\n",
        "10500"
       ]
      },
      {
       "output_type": "stream",
       "stream": "stdout",
       "text": [
        "\n",
        "10750"
       ]
      },
      {
       "output_type": "stream",
       "stream": "stdout",
       "text": [
        "\n",
        "11000"
       ]
      },
      {
       "output_type": "stream",
       "stream": "stdout",
       "text": [
        "\n",
        "11250"
       ]
      },
      {
       "output_type": "stream",
       "stream": "stdout",
       "text": [
        "\n",
        "11500"
       ]
      },
      {
       "output_type": "stream",
       "stream": "stdout",
       "text": [
        "\n",
        "11750"
       ]
      },
      {
       "output_type": "stream",
       "stream": "stdout",
       "text": [
        "\n",
        "12000"
       ]
      },
      {
       "output_type": "stream",
       "stream": "stdout",
       "text": [
        "\n",
        "12250"
       ]
      },
      {
       "output_type": "stream",
       "stream": "stdout",
       "text": [
        "\n",
        "12500"
       ]
      },
      {
       "output_type": "stream",
       "stream": "stdout",
       "text": [
        "\n",
        "12750"
       ]
      },
      {
       "output_type": "stream",
       "stream": "stdout",
       "text": [
        "\n",
        "13000"
       ]
      },
      {
       "output_type": "stream",
       "stream": "stdout",
       "text": [
        "\n",
        "13250"
       ]
      },
      {
       "output_type": "stream",
       "stream": "stdout",
       "text": [
        "\n",
        "13500"
       ]
      },
      {
       "output_type": "stream",
       "stream": "stdout",
       "text": [
        "\n",
        "13750"
       ]
      },
      {
       "output_type": "stream",
       "stream": "stdout",
       "text": [
        "\n",
        "14000"
       ]
      },
      {
       "output_type": "stream",
       "stream": "stdout",
       "text": [
        "\n",
        "14250"
       ]
      },
      {
       "output_type": "stream",
       "stream": "stdout",
       "text": [
        "\n",
        "14500"
       ]
      },
      {
       "output_type": "stream",
       "stream": "stdout",
       "text": [
        "\n",
        "14750"
       ]
      },
      {
       "output_type": "stream",
       "stream": "stdout",
       "text": [
        "\n",
        "15000"
       ]
      },
      {
       "output_type": "stream",
       "stream": "stdout",
       "text": [
        "\n",
        "15250"
       ]
      },
      {
       "output_type": "stream",
       "stream": "stdout",
       "text": [
        "\n",
        "15500"
       ]
      },
      {
       "output_type": "stream",
       "stream": "stdout",
       "text": [
        "\n",
        "15750"
       ]
      },
      {
       "output_type": "stream",
       "stream": "stdout",
       "text": [
        "\n",
        "16000"
       ]
      },
      {
       "output_type": "stream",
       "stream": "stdout",
       "text": [
        "\n",
        "16250"
       ]
      },
      {
       "output_type": "stream",
       "stream": "stdout",
       "text": [
        "\n",
        "16500"
       ]
      },
      {
       "output_type": "stream",
       "stream": "stdout",
       "text": [
        "\n",
        "16750"
       ]
      },
      {
       "output_type": "stream",
       "stream": "stdout",
       "text": [
        "\n",
        "17000"
       ]
      },
      {
       "output_type": "stream",
       "stream": "stdout",
       "text": [
        "\n",
        "17250"
       ]
      },
      {
       "output_type": "stream",
       "stream": "stdout",
       "text": [
        "\n",
        "17500"
       ]
      },
      {
       "output_type": "stream",
       "stream": "stdout",
       "text": [
        "\n",
        "17750"
       ]
      },
      {
       "output_type": "stream",
       "stream": "stdout",
       "text": [
        "\n",
        "18000"
       ]
      },
      {
       "output_type": "stream",
       "stream": "stdout",
       "text": [
        "\n",
        "18250"
       ]
      },
      {
       "output_type": "stream",
       "stream": "stdout",
       "text": [
        "\n",
        "18500"
       ]
      },
      {
       "output_type": "stream",
       "stream": "stdout",
       "text": [
        "\n",
        "18750"
       ]
      },
      {
       "output_type": "stream",
       "stream": "stdout",
       "text": [
        "\n",
        "19000"
       ]
      },
      {
       "output_type": "stream",
       "stream": "stdout",
       "text": [
        "\n",
        "19250"
       ]
      },
      {
       "output_type": "stream",
       "stream": "stdout",
       "text": [
        "\n",
        "19500"
       ]
      },
      {
       "output_type": "stream",
       "stream": "stdout",
       "text": [
        "\n",
        "19750"
       ]
      },
      {
       "output_type": "stream",
       "stream": "stdout",
       "text": [
        "\n",
        "20000"
       ]
      },
      {
       "output_type": "stream",
       "stream": "stdout",
       "text": [
        "\n",
        "20250"
       ]
      },
      {
       "output_type": "stream",
       "stream": "stdout",
       "text": [
        "\n",
        "20500"
       ]
      },
      {
       "output_type": "stream",
       "stream": "stdout",
       "text": [
        "\n",
        "20750"
       ]
      },
      {
       "output_type": "stream",
       "stream": "stdout",
       "text": [
        "\n",
        "21000"
       ]
      },
      {
       "output_type": "stream",
       "stream": "stdout",
       "text": [
        "\n",
        "21250"
       ]
      },
      {
       "output_type": "stream",
       "stream": "stdout",
       "text": [
        "\n",
        "21500"
       ]
      },
      {
       "output_type": "stream",
       "stream": "stdout",
       "text": [
        "\n",
        "21750"
       ]
      },
      {
       "output_type": "stream",
       "stream": "stdout",
       "text": [
        "\n",
        "22000"
       ]
      },
      {
       "output_type": "stream",
       "stream": "stdout",
       "text": [
        "\n",
        "22250"
       ]
      },
      {
       "output_type": "stream",
       "stream": "stdout",
       "text": [
        "\n",
        "22500"
       ]
      },
      {
       "output_type": "stream",
       "stream": "stdout",
       "text": [
        "\n",
        "22750"
       ]
      },
      {
       "output_type": "stream",
       "stream": "stdout",
       "text": [
        "\n",
        "23000"
       ]
      },
      {
       "output_type": "stream",
       "stream": "stdout",
       "text": [
        "\n",
        "23250"
       ]
      },
      {
       "output_type": "stream",
       "stream": "stdout",
       "text": [
        "\n",
        "23415"
       ]
      },
      {
       "output_type": "stream",
       "stream": "stdout",
       "text": [
        "\n"
       ]
      }
     ],
     "prompt_number": 8
    },
    {
     "cell_type": "code",
     "collapsed": false,
     "input": [
      "df_unmatched = pd.DataFrame.from_records(unmatched, columns =['from_yelp_id','to_yelp_id','match'])"
     ],
     "language": "python",
     "metadata": {},
     "outputs": [],
     "prompt_number": 9
    },
    {
     "cell_type": "code",
     "collapsed": false,
     "input": [
      "next_records_yelp = next_records_yelp.append(df_unmatched, ignore_index = True)\n",
      "print next_records_yelp.shape"
     ],
     "language": "python",
     "metadata": {},
     "outputs": [
      {
       "output_type": "stream",
       "stream": "stdout",
       "text": [
        "(46830, 3)\n"
       ]
      }
     ],
     "prompt_number": 10
    },
    {
     "cell_type": "code",
     "collapsed": false,
     "input": [
      "#merging with yelp table to look up 'from' information\n",
      "next_records_yelp = next_records_yelp.merge(yelp[['id','rating','review_count','latitude','longitude']], left_on='from_yelp_id', right_on = 'id')\n",
      "next_records_yelp.rename(columns={'rating': 'from_rating', 'review_count': 'from_review_count', 'latitude': 'from_latitude', 'longitude': 'from_longitude'}, inplace=True)\n",
      "next_records_yelp = next_records_yelp.drop('id',1)"
     ],
     "language": "python",
     "metadata": {},
     "outputs": [],
     "prompt_number": 11
    },
    {
     "cell_type": "code",
     "collapsed": false,
     "input": [
      "#merging with yelp table to look up 'to' information\n",
      "next_records_yelp = next_records_yelp.merge(yelp[['id','rating','review_count','latitude','longitude']], left_on='to_yelp_id', right_on = 'id')\n",
      "next_records_yelp.rename(columns={'rating': 'to_rating', 'review_count': 'to_review_count', 'latitude': 'to_latitude', 'longitude': 'to_longitude'}, inplace=True)\n",
      "next_records_yelp = next_records_yelp.drop('id',1)"
     ],
     "language": "python",
     "metadata": {},
     "outputs": [],
     "prompt_number": 12
    },
    {
     "cell_type": "code",
     "collapsed": false,
     "input": [
      "#compute distance and drop latitude / longitude\n",
      "df = next_records_yelp\n",
      "df['distance'] = np.sqrt((df.from_latitude - df.to_latitude)**2 + (df.from_longitude - df.to_longitude)**2)\n",
      "df = df.drop(['from_latitude','to_latitude','from_longitude','to_longitude'],1)"
     ],
     "language": "python",
     "metadata": {},
     "outputs": [],
     "prompt_number": 281
    },
    {
     "cell_type": "code",
     "collapsed": false,
     "input": [
      "fig, ax = pyplot.subplots()\n",
      "# ax.set_yscale('log')\n",
      "df[df.match == 0].distance.hist(color = 'red', bins = np.linspace(0,0.1,100))\n",
      "fig, ax = pyplot.subplots()\n",
      "df[df.match == 1].distance.hist(color = 'blue', bins = np.linspace(0,0.1,100))"
     ],
     "language": "python",
     "metadata": {},
     "outputs": [
      {
       "metadata": {},
       "output_type": "pyout",
       "prompt_number": 282,
       "text": [
        "<matplotlib.axes.AxesSubplot at 0x10af1e210>"
       ]
      },
      {
       "metadata": {},
       "output_type": "display_data",
       "png": "[encoded data removed]",
       "text": [
        "<matplotlib.figure.Figure at 0x10c382190>"
       ]
      },
      {
       "metadata": {},
       "output_type": "display_data",
       "png": "[encoded data removed]",
       "text": [
        "<matplotlib.figure.Figure at 0x10c2bcb90>"
       ]
      }
     ],
     "prompt_number": 282
    },
    {
     "cell_type": "code",
     "collapsed": false,
     "input": [
      "df.head(5)"
     ],
     "language": "python",
     "metadata": {},
     "outputs": [
      {
       "html": [
        "<div style=\"max-height:1000px;max-width:1500px;overflow:auto;\">\n",
        "<table border=\"1\" class=\"dataframe\">\n",
        "  <thead>\n",
        "    <tr style=\"text-align: right;\">\n",
        "      <th></th>\n",
        "      <th>from_yelp_id</th>\n",
        "      <th>to_yelp_id</th>\n",
        "      <th>match</th>\n",
        "      <th>from_rating</th>\n",
        "      <th>from_review_count</th>\n",
        "      <th>to_rating</th>\n",
        "      <th>to_review_count</th>\n",
        "      <th>distance</th>\n",
        "    </tr>\n",
        "  </thead>\n",
        "  <tbody>\n",
        "    <tr>\n",
        "      <th>0</th>\n",
        "      <td>      starbucks-menlo-park-8</td>\n",
        "      <td> walgreens-menlo-park-2</td>\n",
        "      <td> 1</td>\n",
        "      <td> 3.0</td>\n",
        "      <td> 21</td>\n",
        "      <td> 2.5</td>\n",
        "      <td> 31</td>\n",
        "      <td> 0.003528</td>\n",
        "    </tr>\n",
        "    <tr>\n",
        "      <th>1</th>\n",
        "      <td> walgreens-san-francisco-159</td>\n",
        "      <td> walgreens-menlo-park-2</td>\n",
        "      <td> 0</td>\n",
        "      <td> 3.5</td>\n",
        "      <td> 34</td>\n",
        "      <td> 2.5</td>\n",
        "      <td> 31</td>\n",
        "      <td> 0.429410</td>\n",
        "    </tr>\n",
        "    <tr>\n",
        "      <th>2</th>\n",
        "      <td>          una-mas-menlo-park</td>\n",
        "      <td> walgreens-menlo-park-2</td>\n",
        "      <td> 1</td>\n",
        "      <td> 2.5</td>\n",
        "      <td> 42</td>\n",
        "      <td> 2.5</td>\n",
        "      <td> 31</td>\n",
        "      <td> 0.000089</td>\n",
        "    </tr>\n",
        "    <tr>\n",
        "      <th>3</th>\n",
        "      <td>     le-boulanger-menlo-park</td>\n",
        "      <td> walgreens-menlo-park-2</td>\n",
        "      <td> 1</td>\n",
        "      <td> 3.0</td>\n",
        "      <td> 81</td>\n",
        "      <td> 2.5</td>\n",
        "      <td> 31</td>\n",
        "      <td> 0.001220</td>\n",
        "    </tr>\n",
        "    <tr>\n",
        "      <th>4</th>\n",
        "      <td>     tokyo-subway-menlo-park</td>\n",
        "      <td> walgreens-menlo-park-2</td>\n",
        "      <td> 1</td>\n",
        "      <td> 3.0</td>\n",
        "      <td> 86</td>\n",
        "      <td> 2.5</td>\n",
        "      <td> 31</td>\n",
        "      <td> 0.001114</td>\n",
        "    </tr>\n",
        "  </tbody>\n",
        "</table>\n",
        "<p>5 rows \u00d7 8 columns</p>\n",
        "</div>"
       ],
       "metadata": {},
       "output_type": "pyout",
       "prompt_number": 205,
       "text": [
        "                  from_yelp_id              to_yelp_id  match  from_rating  \\\n",
        "0       starbucks-menlo-park-8  walgreens-menlo-park-2      1          3.0   \n",
        "1  walgreens-san-francisco-159  walgreens-menlo-park-2      0          3.5   \n",
        "2           una-mas-menlo-park  walgreens-menlo-park-2      1          2.5   \n",
        "3      le-boulanger-menlo-park  walgreens-menlo-park-2      1          3.0   \n",
        "4      tokyo-subway-menlo-park  walgreens-menlo-park-2      1          3.0   \n",
        "\n",
        "   from_review_count  to_rating  to_review_count  distance  \n",
        "0                 21        2.5               31  0.003528  \n",
        "1                 34        2.5               31  0.429410  \n",
        "2                 42        2.5               31  0.000089  \n",
        "3                 81        2.5               31  0.001220  \n",
        "4                 86        2.5               31  0.001114  \n",
        "\n",
        "[5 rows x 8 columns]"
       ]
      }
     ],
     "prompt_number": 205
    },
    {
     "cell_type": "code",
     "collapsed": false,
     "input": [
      "ax = pyplot.hist(np.array(df[df.match == 1].to_rating - df[df.match == 1].from_rating), bins = 100)\n",
      "ax = pyplot.hist(np.array(df[df.match == 0].to_rating - df[df.match == 0].from_rating), bins = 100, color = 'red')"
     ],
     "language": "python",
     "metadata": {},
     "outputs": [
      {
       "metadata": {},
       "output_type": "display_data",
       "png": "[encoded data removed]",
       "text": [
        "<matplotlib.figure.Figure at 0x10c3ab2d0>"
       ]
      }
     ],
     "prompt_number": 206
    },
    {
     "cell_type": "code",
     "collapsed": false,
     "input": [
      "ax = pyplot.hist(np.array(df[df.match==1].to_review_count), bins = 100)\n",
      "ax = pyplot.hist(np.array(df[df.match==0].to_review_count), bins = 100, color = 'red')"
     ],
     "language": "python",
     "metadata": {},
     "outputs": [
      {
       "metadata": {},
       "output_type": "display_data",
       "png": "[encoded data removed]",
       "text": [
        "<matplotlib.figure.Figure at 0x109e4c750>"
       ]
      }
     ],
     "prompt_number": 207
    },
    {
     "cell_type": "code",
     "collapsed": false,
     "input": [
      "#find top categories\n",
      "cats = categories.groupby('short_category').id.count()\n",
      "cats.sort(ascending=False)\n",
      "top_cats = cats.head(20)"
     ],
     "language": "python",
     "metadata": {},
     "outputs": [],
     "prompt_number": 278
    },
    {
     "cell_type": "code",
     "collapsed": false,
     "input": [
      "#creating dummy variables with multiple features\n",
      "#http://stackoverflow.com/questions/18889588/create-dummies-from-column-with-multiple-values-in-pandas\n",
      "grouped = categories.groupby('id').short_category.apply(lambda lst: tuple((k, 1) for k in lst))\n",
      "category_dicts = [dict(tuples) for tuples in grouped]\n",
      "v = feature_extraction.DictVectorizer(sparse=False)\n",
      "v.fit(category_dicts)\n",
      "#restrict to only top categories\n",
      "support = [f in top_cats for f in v.get_feature_names()]\n",
      "v.restrict(support)\n",
      "X = v.transform(category_dicts)\n",
      "merged_cats = pd.DataFrame(X, columns=v.get_feature_names(), index=grouped.index)"
     ],
     "language": "python",
     "metadata": {},
     "outputs": [],
     "prompt_number": 279
    },
    {
     "cell_type": "code",
     "collapsed": false,
     "input": [
      "print merged_cats.columns"
     ],
     "language": "python",
     "metadata": {},
     "outputs": [
      {
       "output_type": "stream",
       "stream": "stdout",
       "text": [
        "Index([u'apartments', u'bakeries', u'banks', u'beer_and_wine', u'chinese', u'coffee', u'contractors', u'drycleaninglaundry', u'grocery', u'hair', u'jewelry', u'massage', u'mexican', u'othersalons', u'pizza', u'realestateagents', u'realestatesvcs', u'sandwiches', u'skincare', u'womenscloth'], dtype='object')\n"
       ]
      }
     ],
     "prompt_number": 280
    },
    {
     "cell_type": "code",
     "collapsed": false,
     "input": [
      "#merging with categories index\n",
      "df = df.merge(merged_cats, left_on = 'from_yelp_id', right_index = True)\n",
      "df = df.merge(merged_cats, left_on = 'to_yelp_id', right_index = True, suffixes=('_from', '_to'))"
     ],
     "language": "python",
     "metadata": {},
     "outputs": [],
     "prompt_number": 283
    },
    {
     "cell_type": "code",
     "collapsed": false,
     "input": [
      "print df.columns"
     ],
     "language": "python",
     "metadata": {},
     "outputs": [
      {
       "output_type": "stream",
       "stream": "stdout",
       "text": [
        "Index([u'from_yelp_id', u'to_yelp_id', u'match', u'from_rating', u'from_review_count', u'to_rating', u'to_review_count', u'distance', u'apartments_from', u'bakeries_from', u'banks_from', u'beer_and_wine_from', u'chinese_from', u'coffee_from', u'contractors_from', u'drycleaninglaundry_from', u'grocery_from', u'hair_from', u'jewelry_from', u'massage_from', u'mexican_from', u'othersalons_from', u'pizza_from', u'realestateagents_from', u'realestatesvcs_from', u'sandwiches_from', u'skincare_from', u'womenscloth_from', u'apartments_to', u'bakeries_to', u'banks_to', u'beer_and_wine_to', u'chinese_to', u'coffee_to', u'contractors_to', u'drycleaninglaundry_to', u'grocery_to', u'hair_to', u'jewelry_to', u'massage_to', u'mexican_to', u'othersalons_to', u'pizza_to', u'realestateagents_to', u'realestatesvcs_to', u'sandwiches_to', u'skincare_to', u'womenscloth_to'], dtype='object')\n"
       ]
      }
     ],
     "prompt_number": 284
    },
    {
     "cell_type": "code",
     "collapsed": false,
     "input": [
      "'''\n",
      "Final cleaning step before learning\n",
      "'''\n",
      "def normalize(column):\n",
      "    mean = df[column].mean()\n",
      "    std = df[column].std()\n",
      "    df[column] = (df[column] - mean) / std\n",
      "    return mean,std\n",
      "\n",
      "from_rating_mean, from_rating_std = normalize('from_rating')"
     ],
     "language": "python",
     "metadata": {},
     "outputs": [],
     "prompt_number": 285
    },
    {
     "cell_type": "code",
     "collapsed": false,
     "input": [
      "to_rating_mean, to_rating_std = normalize('to_rating')\n",
      "print to_rating_mean, to_rating_std"
     ],
     "language": "python",
     "metadata": {},
     "outputs": [
      {
       "output_type": "stream",
       "stream": "stdout",
       "text": [
        "3.72016869528 0.863938696722\n"
       ]
      }
     ],
     "prompt_number": 286
    },
    {
     "cell_type": "code",
     "collapsed": false,
     "input": [
      "#normalize from_review_count\n",
      "from_count_mean,from_count_std = normalize('from_review_count')"
     ],
     "language": "python",
     "metadata": {},
     "outputs": [],
     "prompt_number": 287
    },
    {
     "cell_type": "code",
     "collapsed": false,
     "input": [
      "#normalize to_review_count\n",
      "to_count_mean, to_count_std = normalize('to_review_count')"
     ],
     "language": "python",
     "metadata": {},
     "outputs": [],
     "prompt_number": 288
    },
    {
     "cell_type": "code",
     "collapsed": false,
     "input": [
      "#normalize distance\n",
      "distance_mean, disance_std = normalize('distance')"
     ],
     "language": "python",
     "metadata": {},
     "outputs": [],
     "prompt_number": 289
    },
    {
     "cell_type": "code",
     "collapsed": false,
     "input": [
      "#drop ids, no longer need them\n",
      "df = df.drop(['from_yelp_id','to_yelp_id'], 1)"
     ],
     "language": "python",
     "metadata": {},
     "outputs": [],
     "prompt_number": 290
    },
    {
     "cell_type": "code",
     "collapsed": false,
     "input": [
      "y = df.match"
     ],
     "language": "python",
     "metadata": {},
     "outputs": [],
     "prompt_number": 291
    },
    {
     "cell_type": "code",
     "collapsed": false,
     "input": [
      "df_X = df.drop('match', 1)"
     ],
     "language": "python",
     "metadata": {},
     "outputs": [],
     "prompt_number": 292
    },
    {
     "cell_type": "code",
     "collapsed": false,
     "input": [
      "records = df_X.to_records(index = False)"
     ],
     "language": "python",
     "metadata": {},
     "outputs": [],
     "prompt_number": 293
    },
    {
     "cell_type": "code",
     "collapsed": false,
     "input": [
      "X = [list(record) for record in records]"
     ],
     "language": "python",
     "metadata": {},
     "outputs": [],
     "prompt_number": 294
    },
    {
     "cell_type": "code",
     "collapsed": false,
     "input": [
      "logreg = LogisticRegression(class_weight = 'auto')"
     ],
     "language": "python",
     "metadata": {},
     "outputs": [],
     "prompt_number": 295
    },
    {
     "cell_type": "code",
     "collapsed": false,
     "input": [
      "X_train, X_test, y_train, y_test = train_test_split(X, y, test_size=0.1)"
     ],
     "language": "python",
     "metadata": {},
     "outputs": [],
     "prompt_number": 296
    },
    {
     "cell_type": "code",
     "collapsed": false,
     "input": [
      "print X_train.shape, X_test.shape\n",
      "print y_train.shape, y_test.shape"
     ],
     "language": "python",
     "metadata": {},
     "outputs": [
      {
       "output_type": "stream",
       "stream": "stdout",
       "text": [
        "(42147, 45) (4683, 45)\n",
        "(42147,) (4683,)\n"
       ]
      }
     ],
     "prompt_number": 297
    },
    {
     "cell_type": "code",
     "collapsed": false,
     "input": [
      "logreg.fit(X_train, y_train)"
     ],
     "language": "python",
     "metadata": {},
     "outputs": [
      {
       "metadata": {},
       "output_type": "pyout",
       "prompt_number": 298,
       "text": [
        "LogisticRegression(C=1.0, class_weight='auto', dual=False, fit_intercept=True,\n",
        "          intercept_scaling=1, penalty='l2', random_state=None, tol=0.0001)"
       ]
      }
     ],
     "prompt_number": 298
    },
    {
     "cell_type": "code",
     "collapsed": false,
     "input": [
      "print logreg.score(X_test,y_test)\n",
      "champlogreg = logreg"
     ],
     "language": "python",
     "metadata": {},
     "outputs": [
      {
       "output_type": "stream",
       "stream": "stdout",
       "text": [
        "0.96690155883\n"
       ]
      }
     ],
     "prompt_number": 299
    },
    {
     "cell_type": "code",
     "collapsed": false,
     "input": [
      "import pickle\n",
      "with open('logreg.pickle','w') as f:\n",
      "    pickle.dump(champlogreg, f)"
     ],
     "language": "python",
     "metadata": {},
     "outputs": [],
     "prompt_number": 300
    },
    {
     "cell_type": "code",
     "collapsed": false,
     "input": [
      "print X_test[0][4]\n",
      "print logreg.predict_proba(X_test[0]), y_test[0]\n",
      "print X_test[1][4]\n",
      "print logreg.predict_proba(X_test[1]), y_test[1]\n",
      "print X_test[2][4]\n",
      "print logreg.predict_proba(X_test[2]), y_test[2]"
     ],
     "language": "python",
     "metadata": {},
     "outputs": [
      {
       "output_type": "stream",
       "stream": "stdout",
       "text": [
        "-0.748671740542\n",
        "[[ 0.05982555  0.94017445]] 1\n",
        "-0.760125542043\n",
        "[[ 0.04995344  0.95004656]] 1\n",
        "-0.56596835369\n",
        "[[ 0.80369411  0.19630589]] 0\n"
       ]
      }
     ],
     "prompt_number": 301
    },
    {
     "cell_type": "code",
     "collapsed": false,
     "input": [
      "y_test.sum() / float(y_test.size)"
     ],
     "language": "python",
     "metadata": {},
     "outputs": [
      {
       "metadata": {},
       "output_type": "pyout",
       "prompt_number": 302,
       "text": [
        "0.4962630792227205"
       ]
      }
     ],
     "prompt_number": 302
    },
    {
     "cell_type": "code",
     "collapsed": false,
     "input": [
      "feature_number = len(X_test[0])\n",
      "print feature_number"
     ],
     "language": "python",
     "metadata": {},
     "outputs": [
      {
       "output_type": "stream",
       "stream": "stdout",
       "text": [
        "45\n"
       ]
      }
     ],
     "prompt_number": 303
    },
    {
     "cell_type": "code",
     "collapsed": false,
     "input": [
      "df_X.columns"
     ],
     "language": "python",
     "metadata": {},
     "outputs": [
      {
       "metadata": {},
       "output_type": "pyout",
       "prompt_number": 304,
       "text": [
        "Index([u'from_rating', u'from_review_count', u'to_rating', u'to_review_count', u'distance', u'apartments_from', u'bakeries_from', u'banks_from', u'beer_and_wine_from', u'chinese_from', u'coffee_from', u'contractors_from', u'drycleaninglaundry_from', u'grocery_from', u'hair_from', u'jewelry_from', u'massage_from', u'mexican_from', u'othersalons_from', u'pizza_from', u'realestateagents_from', u'realestatesvcs_from', u'sandwiches_from', u'skincare_from', u'womenscloth_from', u'apartments_to', u'bakeries_to', u'banks_to', u'beer_and_wine_to', u'chinese_to', u'coffee_to', u'contractors_to', u'drycleaninglaundry_to', u'grocery_to', u'hair_to', u'jewelry_to', u'massage_to', u'mexican_to', u'othersalons_to', u'pizza_to', u'realestateagents_to', u'realestatesvcs_to', u'sandwiches_to', u'skincare_to', u'womenscloth_to'], dtype='object')"
       ]
      }
     ],
     "prompt_number": 304
    },
    {
     "cell_type": "code",
     "collapsed": false,
     "input": [
      "'''\n",
      "What are the important features?\n",
      "'''\n",
      "all_scores = []\n",
      "for i in range(feature_number):\n",
      "    logreg = LogisticRegression(class_weight = 'auto')\n",
      "    Xs = [[x[i]] for x in X]\n",
      "    feature = df_X.columns[i]\n",
      "    Xs_train, Xs_test, y_train, y_test = train_test_split(Xs, y, test_size=0.1)\n",
      "    logreg.fit(Xs_train, y_train)\n",
      "    score = logreg.score(Xs_test,y_test)\n",
      "    all_scores.append((score, feature, i))"
     ],
     "language": "python",
     "metadata": {},
     "outputs": [],
     "prompt_number": 305
    },
    {
     "cell_type": "code",
     "collapsed": false,
     "input": [
      "print sorted(all_scores, key = lambda x: x[0])"
     ],
     "language": "python",
     "metadata": {},
     "outputs": [
      {
       "output_type": "stream",
       "stream": "stdout",
       "text": [
        "[(0.48494554772581677, 'pizza_from', 19), (0.4864403160367286, 'coffee_from', 10), (0.48836216100790092, 'banks_from', 7), (0.49092462096946404, 'sandwiches_from', 22), (0.49199231262011534, 'realestatesvcs_from', 21), (0.49220585095024555, 'beer_and_wine_from', 8), (0.49241938928037582, 'from_rating', 0), (0.49263292761050609, 'grocery_from', 13), (0.49284646594063636, 'othersalons_from', 18), (0.49370061926115738, 'from_review_count', 1), (0.49476831091180867, 'hair_from', 14), (0.49498184924193894, 'jewelry_to', 35), (0.4973307708733718, 'mexican_from', 17), (0.49797138586376255, 'womenscloth_from', 24), (0.49882553918428357, 'skincare_from', 23), (0.49946615417467438, 'massage_from', 16), (0.49989323083493487, 'realestatesvcs_to', 41), (0.5003203074951954, 'chinese_to', 29), (0.50074738415545594, 'chinese_from', 9), (0.50074738415545594, 'sandwiches_to', 42), (0.50138799914584664, 'jewelry_from', 15), (0.50288276745675853, 'realestateagents_from', 20), (0.50330984411701896, 'drycleaninglaundry_from', 12), (0.5037369207772795, 'realestateagents_to', 40), (0.50395045910740977, 'pizza_to', 39), (0.50416399743754003, 'contractors_from', 11), (0.50459107409780057, 'bakeries_from', 6), (0.50459107409780057, 'womenscloth_to', 44), (0.50651291906897289, 'apartments_from', 5), (0.50886184070040574, 'massage_to', 36), (0.50907537903053601, 'apartments_to', 25), (0.50971599402092671, 'beer_and_wine_to', 28), (0.5112107623318386, 'mexican_to', 37), (0.51163783899209914, 'hair_to', 34), (0.51291906897288064, 'drycleaninglaundry_to', 32), (0.516549220585095, 'othersalons_to', 38), (0.51718983557548581, 'bakeries_to', 26), (0.51740337390561608, 'banks_to', 27), (0.52252829382874222, 'skincare_to', 43), (0.52445013879991453, 'contractors_to', 31), (0.55391842835789029, 'to_rating', 2), (0.55626734998932303, 'coffee_to', 30), (0.56181934657270982, 'grocery_to', 33), (0.77236814008114452, 'to_review_count', 3), (0.94469357249626307, 'distance', 4)]\n"
       ]
      }
     ],
     "prompt_number": 306
    },
    {
     "cell_type": "code",
     "collapsed": false,
     "input": [
      "#checking categories\n",
      "all_results = []\n",
      "for i in range(5,25):\n",
      "    print i\n",
      "    for j in range(25,45):\n",
      "        logreg = LogisticRegression(class_weight = 'auto')\n",
      "        Xs = [[x[i],x[j]] for x in X]\n",
      "        Xs_train, Xs_test, y_train, y_test = train_test_split(Xs, y, test_size=0.1)\n",
      "        # print Xs_train.shape, y_train.shape\n",
      "        logreg.fit(Xs_train, y_train)\n",
      "        score = logreg.score(Xs_test,y_test)\n",
      "        all_results.append((score, df_X.columns[i],df_X.columns[j]))\n",
      "print len(all_results)"
     ],
     "language": "python",
     "metadata": {},
     "outputs": [
      {
       "output_type": "stream",
       "stream": "stdout",
       "text": [
        "5\n",
        "6"
       ]
      },
      {
       "output_type": "stream",
       "stream": "stdout",
       "text": [
        "\n",
        "7"
       ]
      },
      {
       "output_type": "stream",
       "stream": "stdout",
       "text": [
        "\n",
        "8"
       ]
      },
      {
       "output_type": "stream",
       "stream": "stdout",
       "text": [
        "\n",
        "9"
       ]
      },
      {
       "output_type": "stream",
       "stream": "stdout",
       "text": [
        "\n",
        "10"
       ]
      },
      {
       "output_type": "stream",
       "stream": "stdout",
       "text": [
        "\n",
        "11"
       ]
      },
      {
       "output_type": "stream",
       "stream": "stdout",
       "text": [
        "\n",
        "12"
       ]
      },
      {
       "output_type": "stream",
       "stream": "stdout",
       "text": [
        "\n",
        "13"
       ]
      },
      {
       "output_type": "stream",
       "stream": "stdout",
       "text": [
        "\n",
        "14"
       ]
      },
      {
       "output_type": "stream",
       "stream": "stdout",
       "text": [
        "\n",
        "15"
       ]
      },
      {
       "output_type": "stream",
       "stream": "stdout",
       "text": [
        "\n",
        "16"
       ]
      },
      {
       "output_type": "stream",
       "stream": "stdout",
       "text": [
        "\n",
        "17"
       ]
      },
      {
       "output_type": "stream",
       "stream": "stdout",
       "text": [
        "\n",
        "18"
       ]
      },
      {
       "output_type": "stream",
       "stream": "stdout",
       "text": [
        "\n",
        "19"
       ]
      },
      {
       "output_type": "stream",
       "stream": "stdout",
       "text": [
        "\n",
        "20"
       ]
      },
      {
       "output_type": "stream",
       "stream": "stdout",
       "text": [
        "\n",
        "21"
       ]
      },
      {
       "output_type": "stream",
       "stream": "stdout",
       "text": [
        "\n",
        "22"
       ]
      },
      {
       "output_type": "stream",
       "stream": "stdout",
       "text": [
        "\n",
        "23"
       ]
      },
      {
       "output_type": "stream",
       "stream": "stdout",
       "text": [
        "\n",
        "24"
       ]
      },
      {
       "output_type": "stream",
       "stream": "stdout",
       "text": [
        "\n",
        "400"
       ]
      },
      {
       "output_type": "stream",
       "stream": "stdout",
       "text": [
        "\n"
       ]
      }
     ],
     "prompt_number": 832
    },
    {
     "cell_type": "code",
     "collapsed": false,
     "input": [
      "print sorted(all_results, key = lambda x: x[0])"
     ],
     "language": "python",
     "metadata": {},
     "outputs": [
      {
       "output_type": "stream",
       "stream": "stdout",
       "text": [
        "[(0.48836216100790092, 'mexican_from', 'sandwiches_to'), (0.49007046764894296, 'massage_from', 'sandwiches_to'), (0.49135169762972453, 'coffee_from', 'jewelry_to'), (0.49263292761050609, 'banks_from', 'mexican_to'), (0.49284646594063636, 'chinese_from', 'jewelry_to'), (0.49284646594063636, 'grocery_from', 'mexican_to'), (0.49327354260089684, 'sandwiches_from', 'chinese_to'), (0.49412769592141792, 'coffee_from', 'mexican_to'), (0.4945547725816784, 'beer_and_wine_from', 'pizza_to'), (0.49498184924193894, 'mexican_from', 'beer_and_wine_to'), (0.49498184924193894, 'othersalons_from', 'skincare_to'), (0.49498184924193894, 'womenscloth_from', 'womenscloth_to'), (0.49583600256245997, 'apartments_from', 'pizza_to'), (0.49583600256245997, 'skincare_from', 'womenscloth_to'), (0.4962630792227205, 'pizza_from', 'othersalons_to'), (0.49647661755285072, 'hair_from', 'jewelry_to'), (0.49647661755285072, 'hair_from', 'womenscloth_to'), (0.49690369421311126, 'realestatesvcs_from', 'pizza_to'), (0.4973307708733718, 'pizza_from', 'banks_to'), (0.4973307708733718, 'realestateagents_from', 'chinese_to'), (0.49775784753363228, 'bakeries_from', 'sandwiches_to'), (0.49797138586376255, 'hair_from', 'chinese_to'), (0.49797138586376255, 'realestatesvcs_from', 'realestateagents_to'), (0.49818492419389282, 'grocery_from', 'womenscloth_to'), (0.49839846252402309, 'contractors_from', 'sandwiches_to'), (0.49839846252402309, 'jewelry_from', 'apartments_to'), (0.49839846252402309, 'pizza_from', 'womenscloth_to'), (0.4986120008541533, 'apartments_from', 'chinese_to'), (0.4986120008541533, 'realestateagents_from', 'womenscloth_to'), (0.4986120008541533, 'womenscloth_from', 'sandwiches_to'), (0.49903907751441384, 'coffee_from', 'beer_and_wine_to'), (0.49903907751441384, 'massage_from', 'bakeries_to'), (0.49903907751441384, 'othersalons_from', 'womenscloth_to'), (0.49903907751441384, 'sandwiches_from', 'sandwiches_to'), (0.49903907751441384, 'skincare_from', 'mexican_to'), (0.49925261584454411, 'bakeries_from', 'pizza_to'), (0.49925261584454411, 'chinese_from', 'womenscloth_to'), (0.49925261584454411, 'coffee_from', 'pizza_to'), (0.49925261584454411, 'womenscloth_from', 'pizza_to'), (0.49946615417467438, 'banks_from', 'jewelry_to'), (0.4996796925048046, 'massage_from', 'womenscloth_to'), (0.4996796925048046, 'mexican_from', 'pizza_to'), (0.4996796925048046, 'skincare_from', 'chinese_to'), (0.49989323083493487, 'grocery_from', 'realestatesvcs_to'), (0.50010676916506513, 'drycleaninglaundry_from', 'pizza_to'), (0.50010676916506513, 'othersalons_from', 'mexican_to'), (0.50010676916506513, 'realestateagents_from', 'banks_to'), (0.5003203074951954, 'drycleaninglaundry_from', 'realestatesvcs_to'), (0.5003203074951954, 'womenscloth_from', 'mexican_to'), (0.50053384582532567, 'drycleaninglaundry_from', 'apartments_to'), (0.50053384582532567, 'mexican_from', 'jewelry_to'), (0.50053384582532567, 'mexican_from', 'realestatesvcs_to'), (0.50053384582532567, 'sandwiches_from', 'pizza_to'), (0.50074738415545594, 'apartments_from', 'sandwiches_to'), (0.50074738415545594, 'drycleaninglaundry_from', 'mexican_to'), (0.50074738415545594, 'drycleaninglaundry_from', 'womenscloth_to'), (0.50117446081571637, 'othersalons_from', 'jewelry_to'), (0.50138799914584664, 'apartments_from', 'womenscloth_to'), (0.50138799914584664, 'bakeries_from', 'mexican_to'), (0.50138799914584664, 'skincare_from', 'apartments_to'), (0.50160153747597691, 'coffee_from', 'apartments_to'), (0.50160153747597691, 'coffee_from', 'sandwiches_to'), (0.50160153747597691, 'othersalons_from', 'realestatesvcs_to'), (0.50181507580610718, 'bakeries_from', 'jewelry_to'), (0.50181507580610718, 'othersalons_from', 'drycleaninglaundry_to'), (0.50224215246636772, 'beer_and_wine_from', 'sandwiches_to'), (0.50224215246636772, 'jewelry_from', 'pizza_to'), (0.50224215246636772, 'othersalons_from', 'pizza_to'), (0.50245569079649799, 'bakeries_from', 'womenscloth_to'), (0.50245569079649799, 'hair_from', 'realestatesvcs_to'), (0.50245569079649799, 'mexican_from', 'mexican_to'), (0.50245569079649799, 'realestateagents_from', 'jewelry_to'), (0.50245569079649799, 'realestatesvcs_from', 'mexican_to'), (0.50245569079649799, 'skincare_from', 'drycleaninglaundry_to'), (0.50266922912662826, 'jewelry_from', 'massage_to'), (0.50288276745675853, 'apartments_from', 'mexican_to'), (0.50288276745675853, 'beer_and_wine_from', 'womenscloth_to'), (0.50288276745675853, 'contractors_from', 'womenscloth_to'), (0.50288276745675853, 'realestateagents_from', 'pizza_to'), (0.5030963057868888, 'chinese_from', 'pizza_to'), (0.5030963057868888, 'coffee_from', 'chinese_to'), (0.5030963057868888, 'contractors_from', 'chinese_to'), (0.5030963057868888, 'massage_from', 'mexican_to'), (0.50352338244714923, 'beer_and_wine_from', 'skincare_to'), (0.50352338244714923, 'coffee_from', 'massage_to'), (0.50352338244714923, 'pizza_from', 'realestatesvcs_to'), (0.50352338244714923, 'sandwiches_from', 'mexican_to'), (0.50352338244714923, 'skincare_from', 'pizza_to'), (0.5037369207772795, 'banks_from', 'sandwiches_to'), (0.5037369207772795, 'beer_and_wine_from', 'beer_and_wine_to'), (0.5037369207772795, 'contractors_from', 'bakeries_to'), (0.5037369207772795, 'mexican_from', 'womenscloth_to'), (0.5037369207772795, 'realestateagents_from', 'massage_to'), (0.50395045910740977, 'beer_and_wine_from', 'mexican_to'), (0.50395045910740977, 'pizza_from', 'sandwiches_to'), (0.50395045910740977, 'sandwiches_from', 'skincare_to'), (0.50416399743754003, 'apartments_from', 'apartments_to'), (0.5043775357676703, 'coffee_from', 'contractors_to'), (0.5043775357676703, 'contractors_from', 'skincare_to'), (0.5043775357676703, 'hair_from', 'drycleaninglaundry_to'), (0.5043775357676703, 'jewelry_from', 'sandwiches_to'), (0.5043775357676703, 'realestatesvcs_from', 'apartments_to'), (0.50459107409780057, 'contractors_from', 'mexican_to'), (0.50459107409780057, 'grocery_from', 'sandwiches_to'), (0.50459107409780057, 'jewelry_from', 'mexican_to'), (0.50480461242793084, 'massage_from', 'chinese_to'), (0.50480461242793084, 'pizza_from', 'beer_and_wine_to'), (0.50480461242793084, 'realestateagents_from', 'apartments_to'), (0.50501815075806111, 'bakeries_from', 'contractors_to'), (0.50501815075806111, 'jewelry_from', 'skincare_to'), (0.50501815075806111, 'sandwiches_from', 'beer_and_wine_to'), (0.50501815075806111, 'skincare_from', 'sandwiches_to'), (0.50501815075806111, 'womenscloth_from', 'banks_to'), (0.50523168908819138, 'pizza_from', 'pizza_to'), (0.50544522741832154, 'apartments_from', 'realestatesvcs_to'), (0.50544522741832154, 'pizza_from', 'bakeries_to'), (0.50544522741832154, 'skincare_from', 'realestatesvcs_to'), (0.50565876574845181, 'sandwiches_from', 'massage_to'), (0.50587230407858208, 'chinese_from', 'realestatesvcs_to'), (0.50587230407858208, 'grocery_from', 'jewelry_to'), (0.50587230407858208, 'othersalons_from', 'chinese_to'), (0.50608584240871235, 'grocery_from', 'apartments_to'), (0.50608584240871235, 'mexican_from', 'chinese_to'), (0.50629938073884262, 'banks_from', 'womenscloth_to'), (0.50629938073884262, 'grocery_from', 'pizza_to'), (0.50629938073884262, 'hair_from', 'mexican_to'), (0.50629938073884262, 'realestatesvcs_from', 'othersalons_to'), (0.50651291906897289, 'grocery_from', 'beer_and_wine_to'), (0.50651291906897289, 'jewelry_from', 'chinese_to'), (0.50672645739910316, 'apartments_from', 'jewelry_to'), (0.50672645739910316, 'mexican_from', 'massage_to'), (0.50693999572923343, 'realestatesvcs_from', 'womenscloth_to'), (0.5071535340593637, 'banks_from', 'bakeries_to'), (0.5071535340593637, 'grocery_from', 'banks_to'), (0.5071535340593637, 'jewelry_from', 'beer_and_wine_to'), (0.50736707238949397, 'grocery_from', 'massage_to'), (0.50736707238949397, 'realestateagents_from', 'mexican_to'), (0.50758061071962413, 'womenscloth_from', 'beer_and_wine_to'), (0.5077941490497544, 'contractors_from', 'realestateagents_to'), (0.5077941490497544, 'drycleaninglaundry_from', 'chinese_to'), (0.5077941490497544, 'jewelry_from', 'jewelry_to'), (0.5077941490497544, 'realestatesvcs_from', 'chinese_to'), (0.5077941490497544, 'sandwiches_from', 'jewelry_to'), (0.50800768737988466, 'beer_and_wine_from', 'realestateagents_to'), (0.50800768737988466, 'jewelry_from', 'drycleaninglaundry_to'), (0.50800768737988466, 'othersalons_from', 'apartments_to'), (0.50800768737988466, 'pizza_from', 'massage_to'), (0.50822122571001493, 'apartments_from', 'beer_and_wine_to'), (0.50822122571001493, 'grocery_from', 'skincare_to'), (0.5084347640401452, 'hair_from', 'pizza_to'), (0.5084347640401452, 'massage_from', 'pizza_to'), (0.5084347640401452, 'realestateagents_from', 'realestatesvcs_to'), (0.50864830237027547, 'banks_from', 'realestatesvcs_to'), (0.50864830237027547, 'beer_and_wine_from', 'othersalons_to'), (0.50864830237027547, 'chinese_from', 'banks_to'), (0.50864830237027547, 'realestatesvcs_from', 'drycleaninglaundry_to'), (0.50864830237027547, 'realestatesvcs_from', 'massage_to'), (0.50864830237027547, 'sandwiches_from', 'womenscloth_to'), (0.50886184070040574, 'apartments_from', 'massage_to'), (0.50886184070040574, 'chinese_from', 'sandwiches_to'), (0.50886184070040574, 'drycleaninglaundry_from', 'beer_and_wine_to'), (0.50907537903053601, 'bakeries_from', 'realestatesvcs_to'), (0.50907537903053601, 'coffee_from', 'realestatesvcs_to'), (0.50907537903053601, 'contractors_from', 'realestatesvcs_to'), (0.50907537903053601, 'drycleaninglaundry_from', 'sandwiches_to'), (0.50907537903053601, 'mexican_from', 'bakeries_to'), (0.50928891736066628, 'coffee_from', 'womenscloth_to'), (0.50928891736066628, 'hair_from', 'sandwiches_to'), (0.50928891736066628, 'mexican_from', 'banks_to'), (0.50928891736066628, 'pizza_from', 'mexican_to'), (0.50928891736066628, 'realestateagents_from', 'bakeries_to'), (0.50950245569079655, 'bakeries_from', 'massage_to'), (0.50950245569079655, 'chinese_from', 'massage_to'), (0.50950245569079655, 'contractors_from', 'beer_and_wine_to'), (0.50971599402092671, 'othersalons_from', 'realestateagents_to'), (0.50992953235105698, 'contractors_from', 'apartments_to'), (0.50992953235105698, 'jewelry_from', 'banks_to'), (0.50992953235105698, 'mexican_from', 'apartments_to'), (0.51014307068118725, 'hair_from', 'skincare_to'), (0.51014307068118725, 'realestatesvcs_from', 'beer_and_wine_to'), (0.51014307068118725, 'sandwiches_from', 'banks_to'), (0.51057014734144779, 'bakeries_from', 'chinese_to'), (0.51057014734144779, 'beer_and_wine_from', 'contractors_to'), (0.51057014734144779, 'chinese_from', 'beer_and_wine_to'), (0.51057014734144779, 'drycleaninglaundry_from', 'massage_to'), (0.51057014734144779, 'hair_from', 'apartments_to'), (0.51057014734144779, 'jewelry_from', 'othersalons_to'), (0.51057014734144779, 'massage_from', 'othersalons_to'), (0.51057014734144779, 'skincare_from', 'massage_to'), (0.51078368567157806, 'bakeries_from', 'skincare_to'), (0.51078368567157806, 'contractors_from', 'massage_to'), (0.51078368567157806, 'jewelry_from', 'womenscloth_to'), (0.51078368567157806, 'mexican_from', 'drycleaninglaundry_to'), (0.51078368567157806, 'realestateagents_from', 'beer_and_wine_to'), (0.51078368567157806, 'realestateagents_from', 'skincare_to'), (0.51099722400170833, 'chinese_from', 'drycleaninglaundry_to'), (0.51099722400170833, 'pizza_from', 'chinese_to'), (0.5112107623318386, 'beer_and_wine_from', 'jewelry_to'), (0.5112107623318386, 'chinese_from', 'othersalons_to'), (0.5112107623318386, 'realestatesvcs_from', 'contractors_to'), (0.51142430066196887, 'banks_from', 'chinese_to'), (0.51142430066196887, 'drycleaninglaundry_from', 'drycleaninglaundry_to'), (0.51142430066196887, 'womenscloth_from', 'skincare_to'), (0.51163783899209914, 'banks_from', 'massage_to'), (0.51163783899209914, 'chinese_from', 'contractors_to'), (0.51163783899209914, 'chinese_from', 'skincare_to'), (0.51163783899209914, 'pizza_from', 'skincare_to'), (0.5118513773222293, 'banks_from', 'apartments_to'), (0.5118513773222293, 'contractors_from', 'drycleaninglaundry_to'), (0.51206491565235956, 'massage_from', 'banks_to'), (0.51206491565235956, 'pizza_from', 'jewelry_to'), (0.51206491565235956, 'realestateagents_from', 'sandwiches_to'), (0.51227845398248983, 'apartments_from', 'skincare_to'), (0.51227845398248983, 'banks_from', 'banks_to'), (0.51227845398248983, 'chinese_from', 'mexican_to'), (0.51227845398248983, 'othersalons_from', 'beer_and_wine_to'), (0.5124919923126201, 'banks_from', 'skincare_to'), (0.5124919923126201, 'drycleaninglaundry_from', 'othersalons_to'), (0.5124919923126201, 'skincare_from', 'contractors_to'), (0.51270553064275037, 'apartments_from', 'banks_to'), (0.51270553064275037, 'sandwiches_from', 'bakeries_to'), (0.51291906897288064, 'beer_and_wine_from', 'drycleaninglaundry_to'), (0.51313260730301091, 'banks_from', 'beer_and_wine_to'), (0.51313260730301091, 'grocery_from', 'chinese_to'), (0.51313260730301091, 'massage_from', 'jewelry_to'), (0.51313260730301091, 'massage_from', 'skincare_to'), (0.51313260730301091, 'realestateagents_from', 'othersalons_to'), (0.51355968396327145, 'bakeries_from', 'realestateagents_to'), (0.51355968396327145, 'realestateagents_from', 'realestateagents_to'), (0.51355968396327145, 'realestatesvcs_from', 'realestatesvcs_to'), (0.51377322229340161, 'chinese_from', 'apartments_to'), (0.51377322229340161, 'grocery_from', 'hair_to'), (0.51377322229340161, 'jewelry_from', 'bakeries_to'), (0.51377322229340161, 'sandwiches_from', 'apartments_to'), (0.51398676062353188, 'coffee_from', 'realestateagents_to'), (0.51398676062353188, 'drycleaninglaundry_from', 'skincare_to'), (0.51398676062353188, 'hair_from', 'banks_to'), (0.51398676062353188, 'womenscloth_from', 'bakeries_to'), (0.51398676062353188, 'womenscloth_from', 'jewelry_to'), (0.51420029895366215, 'bakeries_from', 'beer_and_wine_to'), (0.51420029895366215, 'banks_from', 'drycleaninglaundry_to'), (0.51420029895366215, 'beer_and_wine_from', 'chinese_to'), (0.51420029895366215, 'coffee_from', 'othersalons_to'), (0.51420029895366215, 'hair_from', 'massage_to'), (0.51420029895366215, 'othersalons_from', 'massage_to'), (0.51420029895366215, 'sandwiches_from', 'drycleaninglaundry_to'), (0.51462737561392269, 'drycleaninglaundry_from', 'contractors_to'), (0.51462737561392269, 'othersalons_from', 'othersalons_to'), (0.51462737561392269, 'othersalons_from', 'sandwiches_to'), (0.51462737561392269, 'skincare_from', 'othersalons_to'), (0.51484091394405296, 'apartments_from', 'contractors_to'), (0.51484091394405296, 'drycleaninglaundry_from', 'jewelry_to'), (0.51484091394405296, 'massage_from', 'realestatesvcs_to'), (0.51484091394405296, 'skincare_from', 'jewelry_to'), (0.51505445227418323, 'contractors_from', 'pizza_to'), (0.51505445227418323, 'pizza_from', 'realestateagents_to'), (0.51505445227418323, 'realestatesvcs_from', 'skincare_to'), (0.51548152893444377, 'apartments_from', 'realestateagents_to'), (0.51548152893444377, 'coffee_from', 'bakeries_to'), (0.51548152893444377, 'womenscloth_from', 'apartments_to'), (0.51569506726457404, 'drycleaninglaundry_from', 'banks_to'), (0.51569506726457404, 'pizza_from', 'drycleaninglaundry_to'), (0.51590860559470419, 'mexican_from', 'contractors_to'), (0.51612214392483446, 'beer_and_wine_from', 'massage_to'), (0.51612214392483446, 'grocery_from', 'othersalons_to'), (0.51612214392483446, 'mexican_from', 'skincare_to'), (0.51612214392483446, 'skincare_from', 'banks_to'), (0.51612214392483446, 'skincare_from', 'realestateagents_to'), (0.51633568225496473, 'bakeries_from', 'apartments_to'), (0.51633568225496473, 'sandwiches_from', 'realestatesvcs_to'), (0.51633568225496473, 'skincare_from', 'bakeries_to'), (0.51633568225496473, 'womenscloth_from', 'drycleaninglaundry_to'), (0.516549220585095, 'chinese_from', 'bakeries_to'), (0.51676275891522527, 'contractors_from', 'jewelry_to'), (0.51697629724535554, 'banks_from', 'pizza_to'), (0.51697629724535554, 'hair_from', 'hair_to'), (0.51697629724535554, 'massage_from', 'massage_to'), (0.51718983557548581, 'chinese_from', 'chinese_to'), (0.51718983557548581, 'contractors_from', 'banks_to'), (0.51718983557548581, 'pizza_from', 'apartments_to'), (0.51740337390561608, 'contractors_from', 'contractors_to'), (0.51740337390561608, 'jewelry_from', 'realestatesvcs_to'), (0.51761691223574635, 'pizza_from', 'contractors_to'), (0.51783045056587662, 'bakeries_from', 'bakeries_to'), (0.51783045056587662, 'drycleaninglaundry_from', 'bakeries_to'), (0.51783045056587662, 'grocery_from', 'realestateagents_to'), (0.51783045056587662, 'massage_from', 'beer_and_wine_to'), (0.51783045056587662, 'othersalons_from', 'contractors_to'), (0.51804398889600678, 'grocery_from', 'bakeries_to'), (0.51804398889600678, 'sandwiches_from', 'contractors_to'), (0.51825752722613705, 'beer_and_wine_from', 'apartments_to'), (0.51825752722613705, 'realestatesvcs_from', 'jewelry_to'), (0.51847106555626732, 'bakeries_from', 'banks_to'), (0.51847106555626732, 'banks_from', 'contractors_to'), (0.51847106555626732, 'drycleaninglaundry_from', 'realestateagents_to'), (0.51868460388639759, 'bakeries_from', 'drycleaninglaundry_to'), (0.51889814221652786, 'realestatesvcs_from', 'hair_to'), (0.5193252188767884, 'apartments_from', 'bakeries_to'), (0.5193252188767884, 'banks_from', 'othersalons_to'), (0.5193252188767884, 'mexican_from', 'realestateagents_to'), (0.5193252188767884, 'othersalons_from', 'banks_to'), (0.51953875720691867, 'massage_from', 'drycleaninglaundry_to'), (0.51953875720691867, 'skincare_from', 'skincare_to'), (0.51975229553704894, 'beer_and_wine_from', 'banks_to'), (0.51975229553704894, 'beer_and_wine_from', 'realestatesvcs_to'), (0.51975229553704894, 'hair_from', 'beer_and_wine_to'), (0.51975229553704894, 'massage_from', 'apartments_to'), (0.51975229553704894, 'realestateagents_from', 'contractors_to'), (0.51975229553704894, 'womenscloth_from', 'chinese_to'), (0.52017937219730936, 'beer_and_wine_from', 'hair_to'), (0.52017937219730936, 'sandwiches_from', 'realestateagents_to'), (0.52039291052743963, 'beer_and_wine_from', 'bakeries_to'), (0.52039291052743963, 'skincare_from', 'beer_and_wine_to'), (0.52039291052743963, 'womenscloth_from', 'realestateagents_to'), (0.5206064488575699, 'realestatesvcs_from', 'sandwiches_to'), (0.52081998718770017, 'coffee_from', 'skincare_to'), (0.52103352551783044, 'massage_from', 'contractors_to'), (0.52124706384796071, 'bakeries_from', 'othersalons_to'), (0.52124706384796071, 'grocery_from', 'contractors_to'), (0.52167414050822125, 'apartments_from', 'othersalons_to'), (0.52188767883835152, 'hair_from', 'bakeries_to'), (0.52210121716848179, 'hair_from', 'realestateagents_to'), (0.52231475549861195, 'othersalons_from', 'bakeries_to'), (0.52231475549861195, 'pizza_from', 'hair_to'), (0.52231475549861195, 'womenscloth_from', 'othersalons_to'), (0.52252829382874222, 'hair_from', 'othersalons_to'), (0.52274183215887249, 'grocery_from', 'drycleaninglaundry_to'), (0.52274183215887249, 'massage_from', 'realestateagents_to'), (0.52295537048900276, 'jewelry_from', 'hair_to'), (0.52316890881913303, 'apartments_from', 'drycleaninglaundry_to'), (0.52316890881913303, 'massage_from', 'hair_to'), (0.5233824471492633, 'bakeries_from', 'hair_to'), (0.5233824471492633, 'jewelry_from', 'contractors_to'), (0.52359598547939357, 'sandwiches_from', 'hair_to'), (0.52380952380952384, 'realestatesvcs_from', 'bakeries_to'), (0.52445013879991453, 'mexican_from', 'hair_to'), (0.52445013879991453, 'realestatesvcs_from', 'banks_to'), (0.5246636771300448, 'banks_from', 'hair_to'), (0.52487721546017507, 'jewelry_from', 'realestateagents_to'), (0.52487721546017507, 'realestateagents_from', 'drycleaninglaundry_to'), (0.52530429212043561, 'coffee_from', 'drycleaninglaundry_to'), (0.52551783045056588, 'skincare_from', 'hair_to'), (0.52551783045056588, 'womenscloth_from', 'realestatesvcs_to'), (0.52573136878069615, 'chinese_from', 'realestateagents_to'), (0.52573136878069615, 'coffee_from', 'hair_to'), (0.52573136878069615, 'contractors_from', 'othersalons_to'), (0.52637198377108696, 'womenscloth_from', 'massage_to'), (0.52679906043134739, 'coffee_from', 'banks_to'), (0.5274396754217382, 'realestateagents_from', 'hair_to'), (0.52850736707238954, 'banks_from', 'realestateagents_to'), (0.52850736707238954, 'womenscloth_from', 'contractors_to'), (0.52893444373264997, 'othersalons_from', 'hair_to'), (0.52914798206278024, 'mexican_from', 'othersalons_to'), (0.53000213538330132, 'hair_from', 'contractors_to'), (0.53085628870382229, 'sandwiches_from', 'othersalons_to'), (0.5314969036942131, 'apartments_from', 'hair_to'), (0.53299167200512487, 'chinese_from', 'hair_to'), (0.53363228699551568, 'drycleaninglaundry_from', 'hair_to'), (0.53640828528720907, 'contractors_from', 'hair_to'), (0.53768951526799058, 'womenscloth_from', 'hair_to'), (0.54580397181294038, 'jewelry_from', 'grocery_to'), (0.54687166346359173, 'realestateagents_from', 'grocery_to'), (0.54751227845398254, 'womenscloth_from', 'grocery_to'), (0.5483664317745035, 'othersalons_from', 'grocery_to'), (0.54943412342515485, 'chinese_from', 'coffee_to'), (0.54943412342515485, 'skincare_from', 'grocery_to'), (0.55007473841554555, 'pizza_from', 'grocery_to'), (0.55092889173606663, 'grocery_from', 'coffee_to'), (0.5511424300661969, 'grocery_from', 'grocery_to'), (0.55156950672645744, 'beer_and_wine_from', 'grocery_to'), (0.55221012171684813, 'contractors_from', 'grocery_to'), (0.5524236600469784, 'chinese_from', 'grocery_to'), (0.5524236600469784, 'drycleaninglaundry_from', 'grocery_to'), (0.55498612000854153, 'hair_from', 'grocery_to'), (0.55626734998932303, 'jewelry_from', 'coffee_to'), (0.55669442664958357, 'coffee_from', 'coffee_to'), (0.55733504163997438, 'contractors_from', 'coffee_to'), (0.55754857997010465, 'drycleaninglaundry_from', 'coffee_to'), (0.55797565663036519, 'sandwiches_from', 'grocery_to'), (0.55861627162075589, 'apartments_from', 'grocery_to'), (0.56032457826179805, 'bakeries_from', 'grocery_to'), (0.56075165492205847, 'massage_from', 'grocery_to'), (0.56160580824257955, 'banks_from', 'coffee_to'), (0.56181934657270982, 'coffee_from', 'grocery_to'), (0.56224642323297036, 'mexican_from', 'grocery_to'), (0.56245996156310063, 'bakeries_from', 'coffee_to'), (0.56267349989323079, 'apartments_from', 'coffee_to'), (0.56352765321375187, 'banks_from', 'grocery_to'), (0.56459534486440321, 'sandwiches_from', 'coffee_to'), (0.56459534486440321, 'skincare_from', 'coffee_to'), (0.56480888319453337, 'realestatesvcs_from', 'grocery_to'), (0.56502242152466364, 'massage_from', 'coffee_to'), (0.56801195814648731, 'hair_from', 'coffee_to'), (0.56843903480674784, 'othersalons_from', 'coffee_to'), (0.56865257313687811, 'womenscloth_from', 'coffee_to'), (0.56907964979713854, 'pizza_from', 'coffee_to'), (0.56907964979713854, 'realestateagents_from', 'coffee_to'), (0.57313687806961344, 'realestatesvcs_from', 'coffee_to'), (0.57527226137091603, 'mexican_from', 'coffee_to'), (0.57569933803117657, 'beer_and_wine_from', 'coffee_to')]\n"
       ]
      }
     ],
     "prompt_number": 833
    },
    {
     "cell_type": "code",
     "collapsed": false,
     "input": [
      "'''\n",
      "Finding the most likely next place for every entry\n",
      "'''\n",
      "yelp_filling = pd.read_csv('yelp.csv')[['id','rating','review_count','latitude','longitude']]"
     ],
     "language": "python",
     "metadata": {},
     "outputs": [],
     "prompt_number": 307
    },
    {
     "cell_type": "code",
     "collapsed": false,
     "input": [
      "yelp_filling = yelp_filling.merge(merged_cats, left_on = 'id', right_index = True)"
     ],
     "language": "python",
     "metadata": {},
     "outputs": [],
     "prompt_number": 308
    },
    {
     "cell_type": "code",
     "collapsed": false,
     "input": [
      "print yelp_filling.shape"
     ],
     "language": "python",
     "metadata": {},
     "outputs": [
      {
       "output_type": "stream",
       "stream": "stdout",
       "text": [
        "(59311, 25)\n"
       ]
      }
     ],
     "prompt_number": 309
    },
    {
     "cell_type": "code",
     "collapsed": false,
     "input": [
      "#normalzing the arrays\n",
      "df_from = yelp_filling.copy()\n",
      "df_to = yelp_filling.copy()\n",
      "\n",
      "df_from.rating = (df_from.rating - from_rating_mean) / from_rating_std\n",
      "df_from.review_count = (df_from.review_count - from_count_mean) / from_count_std\n",
      "df_to.rating = (df_to.rating - to_rating_mean) / to_rating_std\n",
      "df_to.review_count = (df_to.review_count - to_count_mean) / to_count_std"
     ],
     "language": "python",
     "metadata": {},
     "outputs": [],
     "prompt_number": 310
    },
    {
     "cell_type": "code",
     "collapsed": false,
     "input": [
      "#http://stackoverflow.com/questions/12329853/how-to-rearrange-pandas-column-sequence\n",
      "def set_column_sequence(dataframe, seq):\n",
      "    '''Takes a dataframe and a subsequence of its columns, returns dataframe with seq as first columns'''\n",
      "    cols = seq[:] # copy so we don't mutate seq\n",
      "    for x in dataframe.columns:\n",
      "        if x not in cols:\n",
      "            cols.append(x)\n",
      "    return dataframe[cols]\n",
      "\n",
      "def score_prob(row_number, row1):\n",
      "    left = pd.DataFrame([row1], index = df_to.index)\n",
      "    merged = pd.merge(left, df_to, left_index = True, right_index=True, suffixes=('_from','_to'))\n",
      "    merged['distance'] = np.sqrt((merged.latitude_from - merged.latitude_to)**2 + (merged.longitude_from - merged.longitude_to)**2)\n",
      "    merged['distance'] = (merged['distance'] - distance_mean) / disance_std\n",
      "    merged = merged.drop(['id_from','id_to', 'latitude_from','latitude_to', 'longitude_from','longitude_to'], axis = 1)\n",
      "    #matching columns to the train set\n",
      "    merged.rename(columns={'rating_from': 'from_rating', 'rating_to': 'to_rating','review_count_from':'from_review_count',\n",
      "                           'review_count_to':'to_review_count'}, inplace=True)\n",
      "    merged = set_column_sequence(merged, df_X.columns)\n",
      "    X = merged.values\n",
      "    #hacky way to exclude crazy outlier values\n",
      "    X = np.clip(X, -2, 2)\n",
      "    prob_match = champlogreg.predict_proba(X)[:,1]\n",
      "    #exclude the 'from' place from the list\n",
      "    prob_match[row_number] = 0\n",
      "    best_match, prob = df_to.id.ix[prob_match.argmax()], prob_match[prob_match.argmax()]\n",
      "    return (row1.id, best_match, prob)\n",
      "    \n",
      "all_generated_matches = []\n",
      "for i,row in df_from.iterrows():\n",
      "    from_id, to_id, prob = score_prob(i, row)\n",
      "    all_generated_matches.append((from_id, to_id, prob))\n",
      "    if i % 100 == 0:\n",
      "        print i,from_id, to_id, prob"
     ],
     "language": "python",
     "metadata": {},
     "outputs": [
      {
       "output_type": "stream",
       "stream": "stdout",
       "text": [
        "0 sf-fire-credit-union-san-francisco spruce-san-francisco 0.999525607562\n",
        "100"
       ]
      },
      {
       "output_type": "stream",
       "stream": "stdout",
       "text": [
        " 1st-united-services-credit-union-oakland-5 berkeley-bowl-berkeley 0.999414356168\n",
        "200"
       ]
      },
      {
       "output_type": "stream",
       "stream": "stdout",
       "text": [
        " chase-san-francisco-92 magnolia-pub-and-brewery-san-francisco 0.99989123348\n",
        "300"
       ]
      },
      {
       "output_type": "stream",
       "stream": "stdout",
       "text": [
        " wells-fargo-bank-south-san-francisco-2 little-lucca-sandwich-shop-and-deli-south-san-francisco 0.999668996378\n",
        "400"
       ]
      },
      {
       "output_type": "stream",
       "stream": "stdout",
       "text": [
        " citibank-west-f-s-b-daly-city-2 kome-japanese-seafood-and-grill-buffet-daly-city 0.999794881429\n",
        "500"
       ]
      },
      {
       "output_type": "stream",
       "stream": "stdout",
       "text": [
        " first-republic-bank-redwood-city-2 old-port-lobster-shack-redwood-city 0.999631322139\n",
        "600"
       ]
      },
      {
       "output_type": "stream",
       "stream": "stdout",
       "text": [
        " bank-of-the-west-oakland-3 mua-oakland-2 0.999893280147\n",
        "700"
       ]
      },
      {
       "output_type": "stream",
       "stream": "stdout",
       "text": [
        " 1st-united-services-san-leandro zocalo-coffeehouse-san-leandro-2 0.991492450214\n",
        "800"
       ]
      },
      {
       "output_type": "stream",
       "stream": "stdout",
       "text": [
        " wells-fargo-bank-palo-alto-6 sprinkles-cupcakes-palo-alto 0.999838824482\n",
        "900"
       ]
      },
      {
       "output_type": "stream",
       "stream": "stdout",
       "text": [
        " us-bank-sunnyvale-2 dishdash-sunnyvale 0.999701743346\n",
        "1000"
       ]
      },
      {
       "output_type": "stream",
       "stream": "stdout",
       "text": [
        " union-bank-of-california-san-jose smoking-pig-bbq-san-jose 0.999564844847\n",
        "1100"
       ]
      }
     ]
    },
    {
     "cell_type": "code",
     "collapsed": false,
     "input": [
      "generated_matches = pd.DataFrame.from_records(all_generated_matches, columns = ['from_id','to_id','prob'])\n",
      "generated_matches.to_csv('generated_matches.csv')"
     ],
     "language": "python",
     "metadata": {},
     "outputs": []
    },
    {
     "cell_type": "code",
     "collapsed": false,
     "input": [],
     "language": "python",
     "metadata": {},
     "outputs": []
    }
   ],
   "metadata": {}
  }
 ]
}