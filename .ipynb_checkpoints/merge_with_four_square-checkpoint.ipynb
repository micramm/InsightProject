{
 "metadata": {
  "name": "",
  "signature": "sha256:793b2ba5e271c431f1a19b9bb963661228a22973783601f5297e5cd4f6fc9939"
 },
 "nbformat": 3,
 "nbformat_minor": 0,
 "worksheets": [
  {
   "cells": [
    {
     "cell_type": "code",
     "collapsed": false,
     "input": [
      "import pandas as pd\n",
      "import four_square_api\n",
      "import time\n",
      "four_square = four_square_api.four_square_api()"
     ],
     "language": "python",
     "metadata": {},
     "outputs": [],
     "prompt_number": 1
    },
    {
     "cell_type": "code",
     "collapsed": false,
     "input": [
      "yelp = pd.read_csv('yelp.csv')\n",
      "cats = pd.read_csv('categories.csv')\n",
      "print yelp.columns"
     ],
     "language": "python",
     "metadata": {},
     "outputs": [
      {
       "output_type": "stream",
       "stream": "stdout",
       "text": [
        "Index([u'Unnamed: 0', u'address', u'categories', u'city', u'display_address', u'id', u'image_url', u'name', u'phone', u'postal_code', u'rating', u'rating_img_url_large', u'review_count', u'url', u'complete_lookup_address', u'latitude', u'longitude', u'latlng_confidence'], dtype='object')\n"
       ]
      }
     ],
     "prompt_number": 2
    },
    {
     "cell_type": "code",
     "collapsed": false,
     "input": [
      "print four_square.find_matching_business('Town', 94070, 6505953003)"
     ],
     "language": "python",
     "metadata": {},
     "outputs": [
      {
       "output_type": "stream",
       "stream": "stdout",
       "text": [
        "49f78793f964a520b16c1fe3\n"
       ]
      }
     ],
     "prompt_number": 3
    },
    {
     "cell_type": "code",
     "collapsed": false,
     "input": [
      "#choosing businessed to match\n",
      "yelp_to_match = yelp.sort('review_count', ascending = True)[['name','id','postal_code','phone']]\n",
      "#must have name, postal code and phone\n",
      "for column in ['name','postal_code','phone']:\n",
      "    yelp_to_match = yelp_to_match[yelp_to_match[column].notnull()]"
     ],
     "language": "python",
     "metadata": {},
     "outputs": [],
     "prompt_number": 31
    },
    {
     "cell_type": "code",
     "collapsed": false,
     "input": [
      "#initializing the empty columns\n",
      "def empty_column():\n",
      "    if not 'four_square_id' in yelp_to_match.columns:\n",
      "        yelp_to_match['four_square_id'] = pd.np.NaN\n",
      "    print yelp_to_match.head(2)\n",
      "empty_column()"
     ],
     "language": "python",
     "metadata": {},
     "outputs": [
      {
       "output_type": "stream",
       "stream": "stdout",
       "text": [
        "                        name                              id  postal_code  \\\n",
        "19690  Dublin Lockout & Keys  dublin-lockout-and-keys-dublin        94568   \n",
        "33747     Consolidated Parts  consolidated-parts-santa-clara        95050   \n",
        "\n",
        "            phone  four_square_id  \n",
        "19690  9252351124             NaN  \n",
        "33747  4087640200             NaN  \n",
        "\n",
        "[2 rows x 5 columns]\n"
       ]
      }
     ],
     "prompt_number": 33
    },
    {
     "cell_type": "code",
     "collapsed": false,
     "input": [
      "done_rows = 0\n",
      "finished_rows = 54891\n",
      "for index, row in yelp_to_match.head(60000).iterrows():\n",
      "    done_rows += 1\n",
      "    if done_rows < finished_rows:\n",
      "        continue\n",
      "    try:\n",
      "#         rand_sleep = pd.np.random.random() / 5.\n",
      "#         time.sleep(rand_sleep)\n",
      "        name, zip_code, phone = row['name'], int(row.postal_code), int(row.phone)\n",
      "        matching_id = four_square.find_matching_business(name, int(zip_code), int(phone))\n",
      "        print done_rows, name, matching_id\n",
      "        if matching_id is not None:\n",
      "            yelp_to_match.loc[index, 'four_square_id'] = matching_id\n",
      "    except Exception as e:\n",
      "        print e\n",
      "        print row"
     ],
     "language": "python",
     "metadata": {},
     "outputs": [
      {
       "output_type": "stream",
       "stream": "stdout",
       "text": [
        "54891 Venticello Ristorante 4aaaf29ef964a520395820e3\n",
        "54892"
       ]
      },
      {
       "output_type": "stream",
       "stream": "stdout",
       "text": [
        " Cha Cha Cha Cuba 4c02c38c0d0e0f47779d019a\n",
        "54893"
       ]
      },
      {
       "output_type": "stream",
       "stream": "stdout",
       "text": [
        " Zip Zap Hair 4a205a8df964a5206f7c1fe3\n",
        "54894"
       ]
      },
      {
       "output_type": "stream",
       "stream": "stdout",
       "text": [
        " Sushi Tomo 45295094f964a520253b1fe3\n",
        "54895"
       ]
      },
      {
       "output_type": "stream",
       "stream": "stdout",
       "text": [
        " Molotov's 3fd66200f964a52056ed1ee3\n",
        "54896"
       ]
      },
      {
       "output_type": "stream",
       "stream": "stdout",
       "text": [
        " California Pizza Kitchen 49fe1937f964a5206a6f1fe3\n",
        "54897"
       ]
      },
      {
       "output_type": "stream",
       "stream": "stdout",
       "text": [
        " Naked Fish 4b19a06df964a520b6e023e3\n",
        "54898"
       ]
      },
      {
       "output_type": "stream",
       "stream": "stdout",
       "text": [
        " King of Thai Noodle 4b08c390f964a520001223e3\n",
        "54899"
       ]
      },
      {
       "output_type": "stream",
       "stream": "stdout",
       "text": [
        " Target 49f50f7af964a5208c6b1fe3\n",
        "54900"
       ]
      },
      {
       "output_type": "stream",
       "stream": "stdout",
       "text": [
        " Rosewood 3fd66200f964a5203bee1ee3\n",
        "54901"
       ]
      },
      {
       "output_type": "stream",
       "stream": "stdout",
       "text": [
        " Tava Indian Kitchen 4f3f2586e4b0bc95aee3bfa3\n",
        "54902"
       ]
      },
      {
       "output_type": "stream",
       "stream": "stdout",
       "text": [
        " Pl\u00e4j Scandinavian Restaurant & Bar 4fe942b1e4b0f69d225327ad\n",
        "54903"
       ]
      },
      {
       "output_type": "stream",
       "stream": "stdout",
       "text": [
        " Jang Su Jang 50d665f2e4b0feaa4be4394b\n",
        "54904"
       ]
      },
      {
       "output_type": "stream",
       "stream": "stdout",
       "text": [
        " Darby Dan's Sandwiches 4a64c3b9f964a520a3c61fe3\n",
        "54905"
       ]
      },
      {
       "output_type": "stream",
       "stream": "stdout",
       "text": [
        " Ted's Market and Delicatessen 4b54df8ff964a520c7d027e3\n",
        "54906"
       ]
      },
      {
       "output_type": "stream",
       "stream": "stdout",
       "text": [
        " Thai Stick On Fillmore 4abec9b6f964a520e28f20e3\n",
        "54907"
       ]
      },
      {
       "output_type": "stream",
       "stream": "stdout",
       "text": [
        " Pho Ha Tien 440d7b3ff964a5208f301fe3\n",
        "54908"
       ]
      },
      {
       "output_type": "stream",
       "stream": "stdout",
       "text": [
        " Sunrise Bistro & Catering 4b38e62ef964a520e65125e3\n",
        "54909"
       ]
      },
      {
       "output_type": "stream",
       "stream": "stdout",
       "text": [
        " Taverna Bistro 4a98c231f964a520312d20e3\n",
        "invalid literal for int() with base 10: 'TBD'"
       ]
      },
      {
       "output_type": "stream",
       "stream": "stdout",
       "text": [
        "\n",
        "name                              Safeway\n",
        "id                safeway-san-francisco-9\n",
        "postal_code                         94107\n",
        "phone                        4.156331e+09\n",
        "four_square_id                        NaN\n",
        "Name: 9862, dtype: object\n",
        "54911"
       ]
      },
      {
       "output_type": "stream",
       "stream": "stdout",
       "text": [
        " Pho King 4aaeb70ff964a520036320e3\n",
        "54912"
       ]
      },
      {
       "output_type": "stream",
       "stream": "stdout",
       "text": [
        " Moulin Rouge Restaurant 49df9b68f964a520ed601fe3\n",
        "54913"
       ]
      },
      {
       "output_type": "stream",
       "stream": "stdout",
       "text": [
        " Caf\u00e9 ALTO 537bc24f498eed2021c2196a\n",
        "54914"
       ]
      },
      {
       "output_type": "stream",
       "stream": "stdout",
       "text": [
        " Shakeel the iPhone Repair Guy None\n",
        "54915"
       ]
      },
      {
       "output_type": "stream",
       "stream": "stdout",
       "text": [
        " The Alley 4a2ef250f964a5208b981fe3\n",
        "54916"
       ]
      },
      {
       "output_type": "stream",
       "stream": "stdout",
       "text": [
        " The Fish Market 4ac2d6f7f964a520d89a20e3\n",
        "54917"
       ]
      },
      {
       "output_type": "stream",
       "stream": "stdout",
       "text": [
        " Jackson Fillmore Trattoria 3fd66200f964a520a3eb1ee3\n",
        "54918"
       ]
      },
      {
       "output_type": "stream",
       "stream": "stdout",
       "text": [
        " Vo's Restaurant 4adcbf16f964a5205c2f21e3\n",
        "54919"
       ]
      },
      {
       "output_type": "stream",
       "stream": "stdout",
       "text": [
        " Rouge Nightclub & Lounge 429ba900f964a5208e241fe3\n",
        "54920"
       ]
      },
      {
       "output_type": "stream",
       "stream": "stdout",
       "text": [
        " Club Mallard 4a8c8890f964a520640e20e3\n",
        "54921"
       ]
      },
      {
       "output_type": "stream",
       "stream": "stdout",
       "text": [
        " Acme Bread Company 4afeee53f964a520ce3122e3\n",
        "54922"
       ]
      },
      {
       "output_type": "stream",
       "stream": "stdout",
       "text": [
        " Simple Pleasures Cafe 3fd66200f964a520d3ec1ee3\n",
        "54923"
       ]
      },
      {
       "output_type": "stream",
       "stream": "stdout",
       "text": [
        " Bund Shanghai Restaurant 4ab83586f964a520907c20e3\n",
        "54924"
       ]
      },
      {
       "output_type": "stream",
       "stream": "stdout",
       "text": [
        " Yasukochi's Sweet Stop 4b50f37bf964a5203c3a27e3\n",
        "54925"
       ]
      },
      {
       "output_type": "stream",
       "stream": "stdout",
       "text": [
        " Porky's Pizza Palace 4b533bedf964a520699327e3\n",
        "54926"
       ]
      },
      {
       "output_type": "stream",
       "stream": "stdout",
       "text": [
        " Nickies 3fd66200f964a5204aed1ee3\n",
        "54927"
       ]
      },
      {
       "output_type": "stream",
       "stream": "stdout",
       "text": [
        " Yield Wine Bar 44d3809ef964a52046361fe3\n",
        "54928"
       ]
      },
      {
       "output_type": "stream",
       "stream": "stdout",
       "text": [
        " Lappert's Ice Cream 525ee3ff498ef57c55f003bc\n",
        "54929"
       ]
      },
      {
       "output_type": "stream",
       "stream": "stdout",
       "text": [
        " The Brick Yard Restaurant & Bar 4c040bf7f56c2d7f4db61d66\n",
        "54930"
       ]
      },
      {
       "output_type": "stream",
       "stream": "stdout",
       "text": [
        " Trader Joe's 4a8ae30ff964a520bc0a20e3\n",
        "54931"
       ]
      },
      {
       "output_type": "stream",
       "stream": "stdout",
       "text": [
        " Wasabi & Ginger 46a77f5ef964a52049491fe3\n",
        "54932"
       ]
      },
      {
       "output_type": "stream",
       "stream": "stdout",
       "text": [
        " Amami Sushi 50384030e4b0be420f1a9185\n",
        "54933"
       ]
      },
      {
       "output_type": "stream",
       "stream": "stdout",
       "text": [
        " I Sushi 4b4ea30cf964a5201cf326e3\n",
        "54934"
       ]
      },
      {
       "output_type": "stream",
       "stream": "stdout",
       "text": [
        " Cupertino iPhone Repair 4bd9efb82a3a0f479af9a8b6\n",
        "54935"
       ]
      },
      {
       "output_type": "stream",
       "stream": "stdout",
       "text": [
        " Biryani House 4ac7accbf964a52004b920e3\n",
        "54936"
       ]
      },
      {
       "output_type": "stream",
       "stream": "stdout",
       "text": [
        " Dohatsuten Japanese Ramen 4cc32b7e06c25481b1be8e47\n",
        "54937"
       ]
      },
      {
       "output_type": "stream",
       "stream": "stdout",
       "text": [
        " Mara's Italian Pastry 4a8f6f7ff964a520461520e3\n",
        "54938"
       ]
      },
      {
       "output_type": "stream",
       "stream": "stdout",
       "text": [
        " Tribu Grill None\n",
        "54939"
       ]
      },
      {
       "output_type": "stream",
       "stream": "stdout",
       "text": [
        " Actual Cafe 4b27c5d7f964a520aa8924e3\n",
        "54940"
       ]
      },
      {
       "output_type": "stream",
       "stream": "stdout",
       "text": [
        " Original Buffalo Wings 4a8755caf964a520f20320e3\n",
        "54941"
       ]
      },
      {
       "output_type": "stream",
       "stream": "stdout",
       "text": [
        " Tres Potrillos 4ab068f3f964a520536720e3\n",
        "54942"
       ]
      },
      {
       "output_type": "stream",
       "stream": "stdout",
       "text": [
        " Shangri-La Vegan 4d816dacc8bdb1f746c3cac2\n",
        "54943"
       ]
      },
      {
       "output_type": "stream",
       "stream": "stdout",
       "text": [
        " Taqueria La Cumbre 49f8cc1bf964a520236d1fe3\n",
        "54944"
       ]
      },
      {
       "output_type": "stream",
       "stream": "stdout",
       "text": [
        " The Oasis 40dcbc80f964a52087011fe3\n",
        "54945"
       ]
      },
      {
       "output_type": "stream",
       "stream": "stdout",
       "text": [
        " Il Fornaio 45e9666df964a5207c431fe3\n",
        "54946"
       ]
      },
      {
       "output_type": "stream",
       "stream": "stdout",
       "text": [
        " Heart of the City Farmers Market 48071b16f964a520024f1fe3\n",
        "54947"
       ]
      },
      {
       "output_type": "stream",
       "stream": "stdout",
       "text": [
        " Britex Fabrics None\n",
        "54948"
       ]
      },
      {
       "output_type": "stream",
       "stream": "stdout",
       "text": [
        " Beijing Restaurant 4a91a3faf964a520171b20e3\n",
        "54949"
       ]
      },
      {
       "output_type": "stream",
       "stream": "stdout",
       "text": [
        " Per Diem 4ee965055c5c0575fa5a3fe7\n",
        "54950"
       ]
      },
      {
       "output_type": "stream",
       "stream": "stdout",
       "text": [
        " Industrial Tattoo 4a6e267ef964a52009d41fe3\n",
        "54951"
       ]
      },
      {
       "output_type": "stream",
       "stream": "stdout",
       "text": [
        " I.B.'s Hoagies 4ba29210f964a5204f0538e3\n",
        "54952"
       ]
      },
      {
       "output_type": "stream",
       "stream": "stdout",
       "text": [
        " Pho Tan Hoa 49e1343df964a520a8611fe3\n",
        "54953"
       ]
      },
      {
       "output_type": "stream",
       "stream": "stdout",
       "text": [
        " Lori's Diner 4acfbb02f964a52092d520e3\n",
        "54954"
       ]
      },
      {
       "output_type": "stream",
       "stream": "stdout",
       "text": [
        " Dickey's Barbecue Pit 4a280bfcf964a520ef941fe3\n",
        "54955"
       ]
      },
      {
       "output_type": "stream",
       "stream": "stdout",
       "text": [
        " La Calaca Loca 463c03fff964a52029461fe3\n",
        "54956"
       ]
      },
      {
       "output_type": "stream",
       "stream": "stdout",
       "text": [
        " Doc's Clock 40a2ba80f964a52000f31ee3\n",
        "54957"
       ]
      },
      {
       "output_type": "stream",
       "stream": "stdout",
       "text": [
        " Pat Ryan Moving and Storage None\n",
        "54958"
       ]
      },
      {
       "output_type": "stream",
       "stream": "stdout",
       "text": [
        " Awaken Caf\u00e9 4e29ad41a809ec0663fae741\n",
        "54959"
       ]
      },
      {
       "output_type": "stream",
       "stream": "stdout",
       "text": [
        " Berkeley Thai House 4af73795f964a520400722e3\n",
        "54960"
       ]
      },
      {
       "output_type": "stream",
       "stream": "stdout",
       "text": [
        " Sheng Kee Bakery 4ac24af8f964a520989820e3\n",
        "54961"
       ]
      },
      {
       "output_type": "stream",
       "stream": "stdout",
       "text": [
        " Manor West 4b0e35f3f964a520f75523e3\n",
        "54962"
       ]
      },
      {
       "output_type": "stream",
       "stream": "stdout",
       "text": [
        " La Boulange de Union 49cf64aaf964a520a65a1fe3\n",
        "54963"
       ]
      },
      {
       "output_type": "stream",
       "stream": "stdout",
       "text": [
        " Bart Grocery & BBQ 4bb119baf964a520717a3ce3\n",
        "54964"
       ]
      },
      {
       "output_type": "stream",
       "stream": "stdout",
       "text": [
        " BAMBU Dessert & Drinks 50df5bb0e4b028f656e569cb\n",
        "54965"
       ]
      },
      {
       "output_type": "stream",
       "stream": "stdout",
       "text": [
        " Ginger Caf\u00e9 4a32b4e5f964a520809a1fe3\n",
        "54966"
       ]
      },
      {
       "output_type": "stream",
       "stream": "stdout",
       "text": [
        " Cafe Madeleine 49beb50df964a520c9541fe3\n",
        "54967"
       ]
      },
      {
       "output_type": "stream",
       "stream": "stdout",
       "text": [
        " Pedro's Cantina 4c4e544adb2c20a16db93a74\n",
        "54968"
       ]
      },
      {
       "output_type": "stream",
       "stream": "stdout",
       "text": [
        " Crepevine 50269a95e4b0727083f082b1\n",
        "54969"
       ]
      },
      {
       "output_type": "stream",
       "stream": "stdout",
       "text": [
        " VH Noodle House 4b0848d4f964a520210823e3\n",
        "54970"
       ]
      },
      {
       "output_type": "stream",
       "stream": "stdout",
       "text": [
        " Wing Lee Bakery 46ae72abf964a52085491fe3\n",
        "54971"
       ]
      },
      {
       "output_type": "stream",
       "stream": "stdout",
       "text": [
        " The Office None\n",
        "54972"
       ]
      },
      {
       "output_type": "stream",
       "stream": "stdout",
       "text": [
        " A Good Morning Cafe 4a4d190af964a5208bad1fe3\n",
        "54973"
       ]
      },
      {
       "output_type": "stream",
       "stream": "stdout",
       "text": [
        " The Pig & Whistle 428bd700f964a5209f231fe3\n",
        "54974"
       ]
      },
      {
       "output_type": "stream",
       "stream": "stdout",
       "text": [
        " Osaka Sushi 432a0b00f964a520e3271fe3\n",
        "54975"
       ]
      },
      {
       "output_type": "stream",
       "stream": "stdout",
       "text": [
        " Osakaya Restaurant 4a1bad15f964a520057b1fe3\n",
        "54976"
       ]
      },
      {
       "output_type": "stream",
       "stream": "stdout",
       "text": [
        " Blue Mermaid 4acb4dc4f964a52071c320e3\n",
        "54977"
       ]
      },
      {
       "output_type": "stream",
       "stream": "stdout",
       "text": [
        " Kappou Gomi 4a3585bef964a520199d1fe3\n",
        "54978"
       ]
      },
      {
       "output_type": "stream",
       "stream": "stdout",
       "text": [
        " Esther's German Bakery 4b7ae253f964a5209c432fe3\n",
        "54979"
       ]
      },
      {
       "output_type": "stream",
       "stream": "stdout",
       "text": [
        " Basil Canteen 4a44417af964a52062a71fe3\n",
        "54980"
       ]
      },
      {
       "output_type": "stream",
       "stream": "stdout",
       "text": [
        " The Wine Room 49bd2a1af964a5204f541fe3\n",
        "54981"
       ]
      },
      {
       "output_type": "stream",
       "stream": "stdout",
       "text": [
        " Sushi On North Beach - Katsu 49d30c1af964a520e95b1fe3\n",
        "54982"
       ]
      },
      {
       "output_type": "stream",
       "stream": "stdout",
       "text": [
        " Specialty's Cafe & Bakery 4a85a8f4f964a520d0fe1fe3\n",
        "54983"
       ]
      },
      {
       "output_type": "stream",
       "stream": "stdout",
       "text": [
        " Target 4a34225bf964a520c89b1fe3\n",
        "54984"
       ]
      },
      {
       "output_type": "stream",
       "stream": "stdout",
       "text": [
        " Lam Hoa Thuan Restaurant 4b04bb5ef964a520675622e3\n",
        "54985"
       ]
      },
      {
       "output_type": "stream",
       "stream": "stdout",
       "text": [
        " Lazy Dog Restaurant & Bar 5283152911d24a6f3c5cb21b\n",
        "54986"
       ]
      },
      {
       "output_type": "stream",
       "stream": "stdout",
       "text": [
        " Gumba's Italian Restaurant 4ba4201df964a520188438e3\n",
        "54987"
       ]
      },
      {
       "output_type": "stream",
       "stream": "stdout",
       "text": [
        " Quickly None\n",
        "54988"
       ]
      },
      {
       "output_type": "stream",
       "stream": "stdout",
       "text": [
        " Blackwood 4fd67aaee4b05b989e3a79a9\n",
        "54989"
       ]
      },
      {
       "output_type": "stream",
       "stream": "stdout",
       "text": [
        " Rice Thai Cuisine None\n",
        "54990"
       ]
      },
      {
       "output_type": "stream",
       "stream": "stdout",
       "text": [
        " Shabusen Restaurant 437e6b00f964a520c92a1fe3\n",
        "54991"
       ]
      },
      {
       "output_type": "stream",
       "stream": "stdout",
       "text": [
        " Taqueria el Buen Sabor 4a5a98c5f964a5209fba1fe3\n",
        "54992"
       ]
      },
      {
       "output_type": "stream",
       "stream": "stdout",
       "text": [
        " All Spice 4cf1eb4f899c6ea8ffbdf3c1\n",
        "54993"
       ]
      },
      {
       "output_type": "stream",
       "stream": "stdout",
       "text": [
        " Patxi's Pizza 4e9b118202d5df1b507dc9d0\n",
        "54994"
       ]
      },
      {
       "output_type": "stream",
       "stream": "stdout",
       "text": [
        " Nijo Castle 4ce1f68d7e2e236a405f931b\n",
        "54995"
       ]
      },
      {
       "output_type": "stream",
       "stream": "stdout",
       "text": [
        " Gyros Gyros 4a306a0ff964a52063991fe3\n",
        "54996"
       ]
      },
      {
       "output_type": "stream",
       "stream": "stdout",
       "text": [
        " Khyber Pass Kabob None\n",
        "54997"
       ]
      },
      {
       "output_type": "stream",
       "stream": "stdout",
       "text": [
        " Doobu 4a4dabd0f964a5200cae1fe3\n",
        "54998"
       ]
      },
      {
       "output_type": "stream",
       "stream": "stdout",
       "text": [
        " Joe iPhone Unlock & Repair Services 4f57a75f754aa29e5906f7aa\n",
        "54999"
       ]
      },
      {
       "output_type": "stream",
       "stream": "stdout",
       "text": [
        " Mars Bar & Restaurant 3fd66200f964a520adec1ee3\n",
        "55000"
       ]
      },
      {
       "output_type": "stream",
       "stream": "stdout",
       "text": [
        " Mythic Pizza 44c6a6f9f964a520df351fe3\n",
        "55001"
       ]
      },
      {
       "output_type": "stream",
       "stream": "stdout",
       "text": [
        " The Habit Burger Grill 4ce5a2fff1c6236a48b74ef0\n",
        "55002"
       ]
      },
      {
       "output_type": "stream",
       "stream": "stdout",
       "text": [
        " Squat and Gobble Cafe & Crepery 432a0b00f964a520dc271fe3\n",
        "55003"
       ]
      },
      {
       "output_type": "stream",
       "stream": "stdout",
       "text": [
        " CatHead's BBQ None\n",
        "55004"
       ]
      },
      {
       "output_type": "stream",
       "stream": "stdout",
       "text": [
        " Gaylord's Caffe Espresso 488fa522f964a5205c511fe3\n",
        "55005"
       ]
      },
      {
       "output_type": "stream",
       "stream": "stdout",
       "text": [
        " Cupola Pizzeria 4e011bf0aeb76b6109870da4\n",
        "55006"
       ]
      },
      {
       "output_type": "stream",
       "stream": "stdout",
       "text": [
        " Paradise Kabab House None\n",
        "55007"
       ]
      },
      {
       "output_type": "stream",
       "stream": "stdout",
       "text": [
        " Sai's Restaurant 46de0fe7f964a520944a1fe3\n",
        "55008"
       ]
      },
      {
       "output_type": "stream",
       "stream": "stdout",
       "text": [
        " Thai Idea Vegetarian 4e7d7aebf5b9644b441e28f3\n",
        "55009"
       ]
      },
      {
       "output_type": "stream",
       "stream": "stdout",
       "text": [
        " Fry's Electronics 49ee8972f964a5206b681fe3\n",
        "55010"
       ]
      },
      {
       "output_type": "stream",
       "stream": "stdout",
       "text": [
        " Jin Sho 4a5ce2f0f964a520c4bc1fe3\n",
        "55011"
       ]
      },
      {
       "output_type": "stream",
       "stream": "stdout",
       "text": [
        " Whispers Cafe & Creperie 4aedd8e4f964a5207dcf21e3\n",
        "55012"
       ]
      },
      {
       "output_type": "stream",
       "stream": "stdout",
       "text": [
        " Canyon Market 49fa99ddf964a520076e1fe3\n",
        "55013"
       ]
      },
      {
       "output_type": "stream",
       "stream": "stdout",
       "text": [
        " Khana Peena 4b09dee3f964a520fc1e23e3\n",
        "55014"
       ]
      },
      {
       "output_type": "stream",
       "stream": "stdout",
       "text": [
        " Gombei 4aea47d3f964a520baba21e3\n",
        "55015"
       ]
      },
      {
       "output_type": "stream",
       "stream": "stdout",
       "text": [
        " Coconut Bay 4a3d86f1f964a52067a21fe3\n",
        "55016"
       ]
      },
      {
       "output_type": "stream",
       "stream": "stdout",
       "text": [
        " Cafe Bakery & Restaurant 4ab81a99f964a520357c20e3\n",
        "55017"
       ]
      },
      {
       "output_type": "stream",
       "stream": "stdout",
       "text": [
        " BAMBOO Asia 4e1bb69d1f6e5708b22327ef\n",
        "55018"
       ]
      },
      {
       "output_type": "stream",
       "stream": "stdout",
       "text": [
        " Dana Street Roasting 450af486f964a5204b391fe3\n",
        "55019"
       ]
      },
      {
       "output_type": "stream",
       "stream": "stdout",
       "text": [
        " Little House Cafe 4b11594bf964a520b67a23e3\n",
        "55020"
       ]
      },
      {
       "output_type": "stream",
       "stream": "stdout",
       "text": [
        " Favorite Indian Restaurant 4c84140bd92ea093d01a5a72\n",
        "55021"
       ]
      },
      {
       "output_type": "stream",
       "stream": "stdout",
       "text": [
        " Golden Gate Pizza & Indian Cuisine 49bd4db7f964a52066541fe3\n",
        "55022"
       ]
      },
      {
       "output_type": "stream",
       "stream": "stdout",
       "text": [
        " Louis' 4a6bf605f964a52053d01fe3\n",
        "55023"
       ]
      },
      {
       "output_type": "stream",
       "stream": "stdout",
       "text": [
        " Bliss Spa 4b5a288df964a520f4b028e3\n",
        "55024"
       ]
      },
      {
       "output_type": "stream",
       "stream": "stdout",
       "text": [
        " Pho Saigon 4b6742e4f964a52080442be3\n",
        "55025"
       ]
      },
      {
       "output_type": "stream",
       "stream": "stdout",
       "text": [
        " We Be Sushi 4a95b7d1f964a520472420e3\n",
        "55026"
       ]
      },
      {
       "output_type": "stream",
       "stream": "stdout",
       "text": [
        " Simply Unique Nails 4a340d3ff964a520a39b1fe3\n",
        "55027"
       ]
      },
      {
       "output_type": "stream",
       "stream": "stdout",
       "text": [
        " Cafe Baklava Mediterranean Grill 4a5e47c4f964a5204bbe1fe3\n",
        "55028"
       ]
      },
      {
       "output_type": "stream",
       "stream": "stdout",
       "text": [
        " Venus Bakery Caf\u00e9 4aefd1dff964a52044da21e3\n",
        "55029"
       ]
      },
      {
       "output_type": "stream",
       "stream": "stdout",
       "text": [
        " Toast Deli 4cb9f498035d236a004bd74e\n",
        "55030"
       ]
      },
      {
       "output_type": "stream",
       "stream": "stdout",
       "text": [
        " Holy Grill 4a0c8de5f964a5203c751fe3\n",
        "55031"
       ]
      },
      {
       "output_type": "stream",
       "stream": "stdout",
       "text": [
        " Canela 4e6794a814952e0a12f248f8\n",
        "55032"
       ]
      },
      {
       "output_type": "stream",
       "stream": "stdout",
       "text": [
        " Spiazzo Ristorante 4be72d932457a593b8a6ad15\n",
        "55033"
       ]
      },
      {
       "output_type": "stream",
       "stream": "stdout",
       "text": [
        " Villa Romana 445150f0f964a520a2321fe3\n",
        "55034"
       ]
      },
      {
       "output_type": "stream",
       "stream": "stdout",
       "text": [
        " Fifth Wheel 4a43c01bf964a520c4a61fe3\n",
        "55035"
       ]
      },
      {
       "output_type": "stream",
       "stream": "stdout",
       "text": [
        " Kate O'Brien's Irish Bar & Grill 42a63500f964a52003251fe3\n",
        "55036"
       ]
      },
      {
       "output_type": "stream",
       "stream": "stdout",
       "text": [
        " John Campbell's Irish Bakery 49d8056ff964a520935d1fe3\n",
        "55037"
       ]
      },
      {
       "output_type": "stream",
       "stream": "stdout",
       "text": [
        " Southpaw BBQ 4eb8b2b8991165b763c47a9d\n",
        "55038"
       ]
      },
      {
       "output_type": "stream",
       "stream": "stdout",
       "text": [
        " Harvest & Rowe 43c79924f964a520852d1fe3\n",
        "55039"
       ]
      },
      {
       "output_type": "stream",
       "stream": "stdout",
       "text": [
        " Therapy 4ac7ecb8f964a5209bba20e3\n",
        "55040"
       ]
      },
      {
       "output_type": "stream",
       "stream": "stdout",
       "text": [
        " Auntie April's None\n",
        "55041"
       ]
      },
      {
       "output_type": "stream",
       "stream": "stdout",
       "text": [
        " Bullitt 4b1dea8cf964a5204e1624e3\n",
        "55042"
       ]
      },
      {
       "output_type": "stream",
       "stream": "stdout",
       "text": [
        " Addis Ethiopian Restaurant 4bdf9092e75c0f470bc3cb03\n",
        "55043"
       ]
      },
      {
       "output_type": "stream",
       "stream": "stdout",
       "text": [
        " Pho Queen Noodle House 4ace3dbff964a52055cf20e3\n",
        "55044"
       ]
      },
      {
       "output_type": "stream",
       "stream": "stdout",
       "text": [
        " Silk Road 4a51547ff964a520f4b01fe3\n",
        "55045"
       ]
      },
      {
       "output_type": "stream",
       "stream": "stdout",
       "text": [
        " Viva Taqueria 4b7b0720f964a520244d2fe3\n",
        "55046"
       ]
      },
      {
       "output_type": "stream",
       "stream": "stdout",
       "text": [
        " Piazza Pellegrini 4a595442f964a5203db91fe3\n",
        "55047"
       ]
      },
      {
       "output_type": "stream",
       "stream": "stdout",
       "text": [
        " Elmwood Cafe 4b8abbd5f964a520477d32e3\n",
        "55048"
       ]
      },
      {
       "output_type": "stream",
       "stream": "stdout",
       "text": [
        " Zut! 4c772728923ba143e97366e6\n",
        "55049"
       ]
      },
      {
       "output_type": "stream",
       "stream": "stdout",
       "text": [
        " Homemade Cafe 4a2b7ce1f964a520d2961fe3\n",
        "55050"
       ]
      },
      {
       "output_type": "stream",
       "stream": "stdout",
       "text": [
        " Code Salon None\n",
        "55051"
       ]
      },
      {
       "output_type": "stream",
       "stream": "stdout",
       "text": [
        " Cafe Ethiopia 43f0db4ff964a5207e2f1fe3\n",
        "55052"
       ]
      },
      {
       "output_type": "stream",
       "stream": "stdout",
       "text": [
        " Novela 51a00442498ef989edb82b7c\n",
        "55053"
       ]
      },
      {
       "output_type": "stream",
       "stream": "stdout",
       "text": [
        " Atelier Crenn 4d35122d8c42a1cd7c9e005e\n",
        "55054"
       ]
      },
      {
       "output_type": "stream",
       "stream": "stdout",
       "text": [
        " Public House 4bacd010f964a5204a0e3be3\n",
        "55055"
       ]
      },
      {
       "output_type": "stream",
       "stream": "stdout",
       "text": [
        " Kushi Tsuru 45342204f964a520943b1fe3\n",
        "55056"
       ]
      },
      {
       "output_type": "stream",
       "stream": "stdout",
       "text": [
        " Tempest 40919700f964a520e1f21ee3\n",
        "55057"
       ]
      },
      {
       "output_type": "stream",
       "stream": "stdout",
       "text": [
        " Paladar Cafe Cubano 4a1ee933f964a520e87b1fe3\n",
        "55058"
       ]
      },
      {
       "output_type": "stream",
       "stream": "stdout",
       "text": [
        " Axum Cafe 43cc335df964a520cc2d1fe3\n",
        "55059"
       ]
      },
      {
       "output_type": "stream",
       "stream": "stdout",
       "text": [
        " Make Westing 4dddc1781f6e03694735667c\n",
        "55060"
       ]
      },
      {
       "output_type": "stream",
       "stream": "stdout",
       "text": [
        " Good Bites Cafe 4ac10a5df964a520889520e3\n",
        "55061"
       ]
      },
      {
       "output_type": "stream",
       "stream": "stdout",
       "text": [
        " Capurro's 4a4e7309f964a5207aae1fe3\n",
        "55062"
       ]
      },
      {
       "output_type": "stream",
       "stream": "stdout",
       "text": [
        " Porridge King 4a874e19f964a520bc0320e3\n",
        "55063"
       ]
      },
      {
       "output_type": "stream",
       "stream": "stdout",
       "text": [
        " Sift Cupcake & Dessert Bar None\n",
        "55064"
       ]
      },
      {
       "output_type": "stream",
       "stream": "stdout",
       "text": [
        " People's Cafe 4089ae00f964a520bdf21ee3\n",
        "55065"
       ]
      },
      {
       "output_type": "stream",
       "stream": "stdout",
       "text": [
        " Napoletana Pizzeria 4d3282d8c6cba35dd062227a\n",
        "55066"
       ]
      },
      {
       "output_type": "stream",
       "stream": "stdout",
       "text": [
        " The Prolific Oven 4625d98ff964a520b8451fe3\n",
        "55067"
       ]
      },
      {
       "output_type": "stream",
       "stream": "stdout",
       "text": [
        " Little Shanghai Restaurant 49d057eaf964a5201e5b1fe3\n",
        "55068"
       ]
      },
      {
       "output_type": "stream",
       "stream": "stdout",
       "text": [
        " HS Lordships 4bef3ca85e4aa59324c758bb\n",
        "55069"
       ]
      },
      {
       "output_type": "stream",
       "stream": "stdout",
       "text": [
        " Kaka Udon Kitchen None\n",
        "55070"
       ]
      },
      {
       "output_type": "stream",
       "stream": "stdout",
       "text": [
        " Tomi Sushi & Seafood Buffet 4f7e4d9fe4b0cc5163615543\n",
        "55071"
       ]
      },
      {
       "output_type": "stream",
       "stream": "stdout",
       "text": [
        " Dell'Uva 49e8d913f964a5209c651fe3\n",
        "55072"
       ]
      },
      {
       "output_type": "stream",
       "stream": "stdout",
       "text": [
        " Cafe GoLo 4ac4e41df964a520759f20e3\n",
        "55073"
       ]
      },
      {
       "output_type": "stream",
       "stream": "stdout",
       "text": [
        " Eastern Bakery None\n",
        "55074"
       ]
      },
      {
       "output_type": "stream",
       "stream": "stdout",
       "text": [
        " Gombei Bento 4ae0c21df964a5202f8221e3\n",
        "55075"
       ]
      },
      {
       "output_type": "stream",
       "stream": "stdout",
       "text": [
        " La Petite Camille None\n",
        "55076"
       ]
      },
      {
       "output_type": "stream",
       "stream": "stdout",
       "text": [
        " The Counter 4b5967c8f964a5205d8728e3\n",
        "55077"
       ]
      },
      {
       "output_type": "stream",
       "stream": "stdout",
       "text": [
        " Le Cheval 4b09ed25f964a520d91f23e3\n",
        "55078"
       ]
      },
      {
       "output_type": "stream",
       "stream": "stdout",
       "text": [
        " Wingstop 4c5f6a13891bef3ba7f21c4b\n",
        "55079"
       ]
      },
      {
       "output_type": "stream",
       "stream": "stdout",
       "text": [
        " Alemany Farmers Market 49f61293f964a520fe6b1fe3\n",
        "55080"
       ]
      },
      {
       "output_type": "stream",
       "stream": "stdout",
       "text": [
        " Toppings Too Restaurant 4ba6ca4af964a520d66f39e3\n",
        "55081"
       ]
      },
      {
       "output_type": "stream",
       "stream": "stdout",
       "text": [
        " Pera 4b05bc2cf964a520f8e122e3\n",
        "55082"
       ]
      },
      {
       "output_type": "stream",
       "stream": "stdout",
       "text": [
        " Benihana 4a70fe58f964a520efd81fe3\n",
        "55083"
       ]
      },
      {
       "output_type": "stream",
       "stream": "stdout",
       "text": [
        " Mocca 4a513903f964a520cdb01fe3\n",
        "55084"
       ]
      },
      {
       "output_type": "stream",
       "stream": "stdout",
       "text": [
        " Sonoma Chicken Coop 49da7121f964a520885e1fe3\n",
        "55085"
       ]
      },
      {
       "output_type": "stream",
       "stream": "stdout",
       "text": [
        " Walnut Creek Yacht Club 4ae26723f964a5200b8e21e3\n",
        "55086"
       ]
      },
      {
       "output_type": "stream",
       "stream": "stdout",
       "text": [
        " Pho Hoa Noodle Soup 4a23425ef964a520c97d1fe3\n",
        "55087"
       ]
      },
      {
       "output_type": "stream",
       "stream": "stdout",
       "text": [
        " Monterey Market 4a664e06f964a52060c81fe3\n",
        "55088"
       ]
      },
      {
       "output_type": "stream",
       "stream": "stdout",
       "text": [
        " Lone Palm 439c07e9f964a520ec2b1fe3\n",
        "55089"
       ]
      },
      {
       "output_type": "stream",
       "stream": "stdout",
       "text": [
        " Sushirrito 5169c1b4498eb65b81bd735a\n",
        "55090"
       ]
      },
      {
       "output_type": "stream",
       "stream": "stdout",
       "text": [
        " Gombei Japanese Restaurant 4a6d2416f964a52099d21fe3\n",
        "55091"
       ]
      },
      {
       "output_type": "stream",
       "stream": "stdout",
       "text": [
        " Wild Pepper 4a7b8efaf964a52067eb1fe3\n",
        "55092"
       ]
      },
      {
       "output_type": "stream",
       "stream": "stdout",
       "text": [
        " Casa Azteca 4c01627c4f1ea5931f6e6b7d\n",
        "55093"
       ]
      },
      {
       "output_type": "stream",
       "stream": "stdout",
       "text": [
        " Loving Hut 4bdf25e0e75c0f47fa0dca03\n",
        "55094"
       ]
      },
      {
       "output_type": "stream",
       "stream": "stdout",
       "text": [
        " Banh Mi Ba Le Vietnamese Sandwich Deli 459450aef964a52061401fe3\n",
        "55095"
       ]
      },
      {
       "output_type": "stream",
       "stream": "stdout",
       "text": [
        " Mint Leaf 4a6d314af964a520aad21fe3\n",
        "55096"
       ]
      },
      {
       "output_type": "stream",
       "stream": "stdout",
       "text": [
        " Caffe Roma Coffee Roasting 42814b00f964a520ec211fe3\n",
        "55097"
       ]
      },
      {
       "output_type": "stream",
       "stream": "stdout",
       "text": [
        " 7 Mile House Sports Bar & Grill 4a158f62f964a5209a781fe3\n",
        "55098"
       ]
      },
      {
       "output_type": "stream",
       "stream": "stdout",
       "text": [
        " China Stix Restaurant 4a47e398f964a5203caa1fe3\n",
        "55099"
       ]
      },
      {
       "output_type": "stream",
       "stream": "stdout",
       "text": [
        " Rolling Pin Donuts 4b3fa6a4f964a52049ab25e3\n",
        "55100"
       ]
      },
      {
       "output_type": "stream",
       "stream": "stdout",
       "text": [
        " BUILD Pizzeria 51527747fe709a8d7362b498\n",
        "55101"
       ]
      },
      {
       "output_type": "stream",
       "stream": "stdout",
       "text": [
        " Judy's Homestyle Cafe 49d808f8f964a520995d1fe3\n",
        "55102"
       ]
      },
      {
       "output_type": "stream",
       "stream": "stdout",
       "text": [
        " Anchor Brewing Company 43a16022f964a5202c2c1fe3\n",
        "55103"
       ]
      },
      {
       "output_type": "stream",
       "stream": "stdout",
       "text": [
        " Rigolo Caf\u00e9 4a7852a8f964a52064e51fe3\n",
        "55104"
       ]
      },
      {
       "output_type": "stream",
       "stream": "stdout",
       "text": [
        " Pho 2000 4ae65f18f964a520bda621e3\n",
        "55105"
       ]
      },
      {
       "output_type": "stream",
       "stream": "stdout",
       "text": [
        " Love N Haight Deli 4460d56ef964a5200b331fe3\n",
        "55106"
       ]
      },
      {
       "output_type": "stream",
       "stream": "stdout",
       "text": [
        " Dada None\n",
        "55107"
       ]
      },
      {
       "output_type": "stream",
       "stream": "stdout",
       "text": [
        " Cha-Am Thai Restaurant 4b312db6f964a520e50125e3\n",
        "55108"
       ]
      },
      {
       "output_type": "stream",
       "stream": "stdout",
       "text": [
        " Sally's Restaurant 49caa2e3f964a520cd581fe3\n",
        "55109"
       ]
      },
      {
       "output_type": "stream",
       "stream": "stdout",
       "text": [
        " Rick's Ice Cream 4afddbf9f964a520872b22e3\n",
        "55110"
       ]
      },
      {
       "output_type": "stream",
       "stream": "stdout",
       "text": [
        " Pasta Pelican Restaurant 4afe5608f964a5202f2f22e3\n",
        "55111"
       ]
      },
      {
       "output_type": "stream",
       "stream": "stdout",
       "text": [
        " Colombo's Delicatessen None\n",
        "55112"
       ]
      },
      {
       "output_type": "stream",
       "stream": "stdout",
       "text": [
        " Regent Thai Restaurant 49cde3dcf964a520175a1fe3\n",
        "55113"
       ]
      },
      {
       "output_type": "stream",
       "stream": "stdout",
       "text": [
        " Bacheesos 4a50f59df964a52055b01fe3\n",
        "55114"
       ]
      },
      {
       "output_type": "stream",
       "stream": "stdout",
       "text": [
        " Ming's 4b09ed8af964a520e11f23e3\n",
        "55115"
       ]
      },
      {
       "output_type": "stream",
       "stream": "stdout",
       "text": [
        " La Corneta Taqueria 49f24a78f964a520186a1fe3\n",
        "55116"
       ]
      },
      {
       "output_type": "stream",
       "stream": "stdout",
       "text": [
        " Stacks 4a75bc8ff964a52020e11fe3\n",
        "55117"
       ]
      },
      {
       "output_type": "stream",
       "stream": "stdout",
       "text": [
        " Douce France 439abdf9f964a520d42b1fe3\n",
        "55118"
       ]
      },
      {
       "output_type": "stream",
       "stream": "stdout",
       "text": [
        " Sam's Chowdermobile None\n",
        "55119"
       ]
      },
      {
       "output_type": "stream",
       "stream": "stdout",
       "text": [
        " Chez Maman 50064523e4b0f7aff2050d6a\n",
        "55120"
       ]
      },
      {
       "output_type": "stream",
       "stream": "stdout",
       "text": [
        " Green Champa Garden 4fdbe899e4b0627bb5ab2374\n",
        "55121"
       ]
      },
      {
       "output_type": "stream",
       "stream": "stdout",
       "text": [
        " Rockit Swirl 4a52c6fff964a520ffb11fe3\n",
        "55122"
       ]
      },
      {
       "output_type": "stream",
       "stream": "stdout",
       "text": [
        " The Grind Cafe 43ccb847f964a520ce2d1fe3\n",
        "55123"
       ]
      },
      {
       "output_type": "stream",
       "stream": "stdout",
       "text": [
        " Flavors of India 4b4105b8f964a52092bf25e3\n",
        "55124"
       ]
      },
      {
       "output_type": "stream",
       "stream": "stdout",
       "text": [
        " Pho Little Saigon 4a6f4c4af964a520d1d51fe3\n",
        "55125"
       ]
      },
      {
       "output_type": "stream",
       "stream": "stdout",
       "text": [
        " Cafe Abir 4192ab80f964a520001e1fe3\n",
        "55126"
       ]
      },
      {
       "output_type": "stream",
       "stream": "stdout",
       "text": [
        " Morocco's Restaurant 4df02414d4c04d0392c4c0fe\n",
        "55127"
       ]
      },
      {
       "output_type": "stream",
       "stream": "stdout",
       "text": [
        " Bouche 4ea85c8f0cd6ac612e2adf4e\n",
        "55128"
       ]
      },
      {
       "output_type": "stream",
       "stream": "stdout",
       "text": [
        " Maven 4e87adb55c5c9a0ba0e01c10\n",
        "55129"
       ]
      },
      {
       "output_type": "stream",
       "stream": "stdout",
       "text": [
        " Doug's Place 4ae486acf964a5204c9b21e3\n",
        "55130"
       ]
      },
      {
       "output_type": "stream",
       "stream": "stdout",
       "text": [
        " Brandy Ho's 4a6fdd0cf964a52015d71fe3\n",
        "55131"
       ]
      },
      {
       "output_type": "stream",
       "stream": "stdout",
       "text": [
        " Fry's Electronics 451fa5eef964a520a83a1fe3\n",
        "55132"
       ]
      },
      {
       "output_type": "stream",
       "stream": "stdout",
       "text": [
        " Baldie's Caf\u00e9 4ba39aa8f964a520204b38e3\n",
        "55133"
       ]
      },
      {
       "output_type": "stream",
       "stream": "stdout",
       "text": [
        " New Korea House 47639e45f964a520e84c1fe3\n",
        "55134"
       ]
      },
      {
       "output_type": "stream",
       "stream": "stdout",
       "text": [
        " Digger's Diner None\n",
        "55135"
       ]
      },
      {
       "output_type": "stream",
       "stream": "stdout",
       "text": [
        " Higuma Japanese Restaurant 4a84dc9af964a520c0fd1fe3\n",
        "55136"
       ]
      },
      {
       "output_type": "stream",
       "stream": "stdout",
       "text": [
        " Greenburger's 4d7ff97670d18cfab6be9394\n",
        "55137"
       ]
      },
      {
       "output_type": "stream",
       "stream": "stdout",
       "text": [
        " Easy Lounge 49ef9cacf964a520d2681fe3\n",
        "55138"
       ]
      },
      {
       "output_type": "stream",
       "stream": "stdout",
       "text": [
        " The Ark Restaurant and Catering 4a8f7c9ef964a520621520e3\n",
        "55139"
       ]
      },
      {
       "output_type": "stream",
       "stream": "stdout",
       "text": [
        " Seoul Gomtang 4a6d6bcef964a520bad21fe3\n",
        "55140"
       ]
      },
      {
       "output_type": "stream",
       "stream": "stdout",
       "text": [
        " Glama-Rama! 4be75ea92468c9288b750243\n",
        "55141"
       ]
      },
      {
       "output_type": "stream",
       "stream": "stdout",
       "text": [
        " The Plant Cafe Organic 4c0dc7609cceef3b9e446ce2\n",
        "55142"
       ]
      },
      {
       "output_type": "stream",
       "stream": "stdout",
       "text": [
        " Crepes Ooh La La 4b174be6f964a5209ec423e3\n",
        "55143"
       ]
      },
      {
       "output_type": "stream",
       "stream": "stdout",
       "text": [
        " Grasshopper Hair Salon 4a46b2dff964a52052a91fe3\n",
        "55144"
       ]
      },
      {
       "output_type": "stream",
       "stream": "stdout",
       "text": [
        " Gordo Taqueria 4a776325f964a52055e41fe3\n",
        "55145"
       ]
      },
      {
       "output_type": "stream",
       "stream": "stdout",
       "text": [
        " R Bar 4192ab80f964a520021e1fe3\n",
        "55146"
       ]
      },
      {
       "output_type": "stream",
       "stream": "stdout",
       "text": [
        " Pi Bar 4a94231ef964a5207f2020e3\n",
        "55147"
       ]
      },
      {
       "output_type": "stream",
       "stream": "stdout",
       "text": [
        " Ken Ken Ramen 4ce5eec18ef78cfaef56899b\n",
        "55148"
       ]
      },
      {
       "output_type": "stream",
       "stream": "stdout",
       "text": [
        " Bender's Bar and Grill 40a2ba80f964a52006f31ee3\n",
        "55149"
       ]
      },
      {
       "output_type": "stream",
       "stream": "stdout",
       "text": [
        " Kacha Thai Bistro None\n",
        "55150"
       ]
      },
      {
       "output_type": "stream",
       "stream": "stdout",
       "text": [
        " Tokie's 4ae123f9f964a520758521e3\n",
        "55151"
       ]
      },
      {
       "output_type": "stream",
       "stream": "stdout",
       "text": [
        " Izzy's Steak & Chops 4ae65b6af964a5209ca621e3\n",
        "55152"
       ]
      },
      {
       "output_type": "stream",
       "stream": "stdout",
       "text": [
        " The Van's Restaurant 46c62612f964a5200c4a1fe3\n",
        "55153"
       ]
      },
      {
       "output_type": "stream",
       "stream": "stdout",
       "text": [
        " Burgermeister 4a885f3ff964a520110620e3\n",
        "55154"
       ]
      },
      {
       "output_type": "stream",
       "stream": "stdout",
       "text": [
        " Speederia Pizzeria 4a6766dff964a52059c91fe3\n",
        "55155"
       ]
      },
      {
       "output_type": "stream",
       "stream": "stdout",
       "text": [
        " Soluna Cafe and Lounge 411ff900f964a520280c1fe3\n",
        "55156"
       ]
      },
      {
       "output_type": "stream",
       "stream": "stdout",
       "text": [
        " La Traviata 49e0c8c0f964a5206f611fe3\n",
        "55157"
       ]
      },
      {
       "output_type": "stream",
       "stream": "stdout",
       "text": [
        " Bistro Boudin 4a3da675f964a52093a21fe3\n",
        "55158"
       ]
      },
      {
       "output_type": "stream",
       "stream": "stdout",
       "text": [
        " Buffalo Wild Wings 50958512e4b08c7bebbf706f\n",
        "55159"
       ]
      },
      {
       "output_type": "stream",
       "stream": "stdout",
       "text": [
        " The North Face Outlet 4ad22619f964a520a9df20e3\n",
        "55160"
       ]
      },
      {
       "output_type": "stream",
       "stream": "stdout",
       "text": [
        " Fry's Electronics 451fa54af964a520a73a1fe3\n",
        "55161"
       ]
      },
      {
       "output_type": "stream",
       "stream": "stdout",
       "text": [
        " Magic Flute Garden Ristorante 4a3e9f70f964a52027a31fe3\n",
        "55162"
       ]
      },
      {
       "output_type": "stream",
       "stream": "stdout",
       "text": [
        " Gyros House 4a7baa18f964a520a2eb1fe3\n",
        "55163"
       ]
      },
      {
       "output_type": "stream",
       "stream": "stdout",
       "text": [
        " Pacific Coast Brewing Company 49bd4668f964a5205d541fe3\n",
        "55164"
       ]
      },
      {
       "output_type": "stream",
       "stream": "stdout",
       "text": [
        " K & L Wine Merchants None\n",
        "55165"
       ]
      },
      {
       "output_type": "stream",
       "stream": "stdout",
       "text": [
        " Sobo Ramen 502c4d2fe4b083621416da87\n",
        "55166"
       ]
      },
      {
       "output_type": "stream",
       "stream": "stdout",
       "text": [
        " Steve's Bar-B-Que 4f322e9a19836c91c7be3598\n",
        "55167"
       ]
      },
      {
       "output_type": "stream",
       "stream": "stdout",
       "text": [
        " Falafel Bite 4ab061aff964a520476720e3\n",
        "55168"
       ]
      },
      {
       "output_type": "stream",
       "stream": "stdout",
       "text": [
        " YamaSho 4b0f4e14f964a5205a6123e3\n",
        "55169"
       ]
      },
      {
       "output_type": "stream",
       "stream": "stdout",
       "text": [
        " Trader Joe's 4afdc6eef964a520c22a22e3\n",
        "55170"
       ]
      },
      {
       "output_type": "stream",
       "stream": "stdout",
       "text": [
        " Tea Papa 4fd3f9eae4b0a8f571577f15\n",
        "55171"
       ]
      },
      {
       "output_type": "stream",
       "stream": "stdout",
       "text": [
        " Emmy's Restaurant None\n",
        "55172"
       ]
      },
      {
       "output_type": "stream",
       "stream": "stdout",
       "text": [
        " Caffe Riace 4a3ffce9f964a5202aa41fe3\n",
        "55173"
       ]
      },
      {
       "output_type": "stream",
       "stream": "stdout",
       "text": [
        " Hana Zen 43e2728ef964a520d02e1fe3\n",
        "55174"
       ]
      },
      {
       "output_type": "stream",
       "stream": "stdout",
       "text": [
        " Palmyra 4d40d13acb84b60c78c489ab\n",
        "55175"
       ]
      },
      {
       "output_type": "stream",
       "stream": "stdout",
       "text": [
        " Knudsen's Ice Creamery 4a85d584f964a52066ff1fe3\n",
        "55176"
       ]
      },
      {
       "output_type": "stream",
       "stream": "stdout",
       "text": [
        " Gyro King 44e36f32f964a52041371fe3\n",
        "55177"
       ]
      },
      {
       "output_type": "stream",
       "stream": "stdout",
       "text": [
        " The Prolific Oven 49d82367f964a520ae5d1fe3\n",
        "55178"
       ]
      },
      {
       "output_type": "stream",
       "stream": "stdout",
       "text": [
        " Bistro Maxine 49fb5ba6f964a5203a6e1fe3\n",
        "55179"
       ]
      },
      {
       "output_type": "stream",
       "stream": "stdout",
       "text": [
        " La Paloma 43d3d54bf964a520272e1fe3\n",
        "55180"
       ]
      },
      {
       "output_type": "stream",
       "stream": "stdout",
       "text": [
        " Sheba Piano Lounge 4a051992f964a52059721fe3\n",
        "55181"
       ]
      },
      {
       "output_type": "stream",
       "stream": "stdout",
       "text": [
        " Mayflower Seafood Restaurant 4b48d788f964a520895926e3\n",
        "55182"
       ]
      },
      {
       "output_type": "stream",
       "stream": "stdout",
       "text": [
        " Tonight Soju Bar 4ec4917a775b7dea8761c6ed\n",
        "55183"
       ]
      },
      {
       "output_type": "stream",
       "stream": "stdout",
       "text": [
        " The Ruby Room None\n",
        "55184"
       ]
      },
      {
       "output_type": "stream",
       "stream": "stdout",
       "text": [
        " Sancho's Taqueria 4a03a02ef964a520d5711fe3\n",
        "55185"
       ]
      },
      {
       "output_type": "stream",
       "stream": "stdout",
       "text": [
        " Taqueria Guadalajara 4b1f1b04f964a520032424e3\n",
        "55186"
       ]
      },
      {
       "output_type": "stream",
       "stream": "stdout",
       "text": [
        " Polished Lounge 49fa306ff964a520d56d1fe3\n",
        "55187"
       ]
      },
      {
       "output_type": "stream",
       "stream": "stdout",
       "text": [
        " Amarena 49f75320f964a520826c1fe3\n",
        "55188"
       ]
      },
      {
       "output_type": "stream",
       "stream": "stdout",
       "text": [
        " Dragon Well 4a370901f964a520269e1fe3\n",
        "55189"
       ]
      },
      {
       "output_type": "stream",
       "stream": "stdout",
       "text": [
        " Opaque - Dining in the Dark None\n",
        "55190"
       ]
      },
      {
       "output_type": "stream",
       "stream": "stdout",
       "text": [
        " Neiman Marcus 4356de00f964a520d4281fe3\n",
        "55191"
       ]
      },
      {
       "output_type": "stream",
       "stream": "stdout",
       "text": [
        " Asian Pearl Seafood Restaurant 4b78f564f964a52061e72ee3\n",
        "55192"
       ]
      },
      {
       "output_type": "stream",
       "stream": "stdout",
       "text": [
        " Thep Phanom 4451c73cf964a520a3321fe3\n",
        "55193"
       ]
      },
      {
       "output_type": "stream",
       "stream": "stdout",
       "text": [
        " One Big Man, One Big Truck None\n",
        "55194"
       ]
      },
      {
       "output_type": "stream",
       "stream": "stdout",
       "text": [
        " Dianda's Italian American Pastry 4b1053b9f964a520de6d23e3\n",
        "55195"
       ]
      },
      {
       "output_type": "stream",
       "stream": "stdout",
       "text": [
        " Food Talk Cafe 4af4e9d4f964a52066f721e3\n",
        "55196"
       ]
      },
      {
       "output_type": "stream",
       "stream": "stdout",
       "text": [
        " Wise Sons Jewish Delicatessen 4f38086ee4b017ad7bab79d7\n",
        "55197"
       ]
      },
      {
       "output_type": "stream",
       "stream": "stdout",
       "text": [
        " Piatti Ristorante & Bar 4d5a001bf8ff236a5390d14a\n",
        "55198"
       ]
      },
      {
       "output_type": "stream",
       "stream": "stdout",
       "text": [
        " La Viga Restaurant 4fa485dde4b0bcbb4660b20a\n",
        "55199"
       ]
      },
      {
       "output_type": "stream",
       "stream": "stdout",
       "text": [
        " Flea Street 4ac7f846f964a520ecba20e3\n",
        "55200"
       ]
      },
      {
       "output_type": "stream",
       "stream": "stdout",
       "text": [
        " Academy For Salon Professionals None\n",
        "55201"
       ]
      },
      {
       "output_type": "stream",
       "stream": "stdout",
       "text": [
        " Amici's East Coast Pizzeria 4a764118f964a520b6e21fe3\n",
        "55202"
       ]
      },
      {
       "output_type": "stream",
       "stream": "stdout",
       "text": [
        " Yo Yo's 4a53b54af964a520a4b21fe3\n",
        "55203"
       ]
      },
      {
       "output_type": "stream",
       "stream": "stdout",
       "text": [
        " Gong Cha 5219105911d2c3fe46c414e0\n",
        "55204"
       ]
      },
      {
       "output_type": "stream",
       "stream": "stdout",
       "text": [
        " Garden Fresh 4bad37bff964a520703a3be3\n",
        "55205"
       ]
      },
      {
       "output_type": "stream",
       "stream": "stdout",
       "text": [
        " Cheese Plus 4a222e61f964a520677d1fe3\n",
        "55206"
       ]
      },
      {
       "output_type": "stream",
       "stream": "stdout",
       "text": [
        " Katy's Korner 4a2abf9bf964a52047961fe3\n",
        "55207"
       ]
      },
      {
       "output_type": "stream",
       "stream": "stdout",
       "text": [
        " Jeffrey's Hamburgers 4a7b3bc0f964a5206cea1fe3\n",
        "55208"
       ]
      },
      {
       "output_type": "stream",
       "stream": "stdout",
       "text": [
        " Farley's East 4a5f41d5f964a52052bf1fe3\n",
        "55209"
       ]
      },
      {
       "output_type": "stream",
       "stream": "stdout",
       "text": [
        " Whiskey Thieves None\n",
        "55210"
       ]
      },
      {
       "output_type": "stream",
       "stream": "stdout",
       "text": [
        " The Old Clam House 4b22b38df964a520134c24e3\n",
        "55211"
       ]
      },
      {
       "output_type": "stream",
       "stream": "stdout",
       "text": [
        " Burgermeister 431cdc00f964a52074271fe3\n",
        "55212"
       ]
      },
      {
       "output_type": "stream",
       "stream": "stdout",
       "text": [
        " Yum Yum Hunan 4a7b2b14f964a5202eea1fe3\n",
        "55213"
       ]
      },
      {
       "output_type": "stream",
       "stream": "stdout",
       "text": [
        " Bridges Restaurant & Bar 4b0a2351f964a520fe2123e3\n",
        "55214"
       ]
      },
      {
       "output_type": "stream",
       "stream": "stdout",
       "text": [
        " Sorabol Korean Restaurant 4a314725f964a520aa991fe3\n",
        "55215"
       ]
      },
      {
       "output_type": "stream",
       "stream": "stdout",
       "text": [
        " Ter\u00fan 50ad712fe4b00a661b2e2c3b\n",
        "55216"
       ]
      },
      {
       "output_type": "stream",
       "stream": "stdout",
       "text": [
        " Panera Bread 49c1c6ebf964a520cb551fe3\n",
        "55217"
       ]
      },
      {
       "output_type": "stream",
       "stream": "stdout",
       "text": [
        " Sunrise Deli & Cafe 4ae4b1b2f964a520339d21e3\n",
        "55218"
       ]
      },
      {
       "output_type": "stream",
       "stream": "stdout",
       "text": [
        " The Big 4 Restaurant 44f72e06f964a5204b381fe3\n",
        "55219"
       ]
      },
      {
       "output_type": "stream",
       "stream": "stdout",
       "text": [
        " Uniqlo 50043438e4b0f448ea4f447f\n",
        "55220"
       ]
      },
      {
       "output_type": "stream",
       "stream": "stdout",
       "text": [
        " Sancho's Taqueria 4ace331cf964a52009cf20e3\n",
        "55221"
       ]
      },
      {
       "output_type": "stream",
       "stream": "stdout",
       "text": [
        " Il Fornaio 44e19caaf964a5201e371fe3\n",
        "55222"
       ]
      },
      {
       "output_type": "stream",
       "stream": "stdout",
       "text": [
        " Perry's 4a10a79bf964a520ed761fe3\n",
        "55223"
       ]
      },
      {
       "output_type": "stream",
       "stream": "stdout",
       "text": [
        " Whole Foods Market Los Altos 49f8a2e3f964a5200d6d1fe3\n",
        "55224"
       ]
      },
      {
       "output_type": "stream",
       "stream": "stdout",
       "text": [
        " Ten Ren Tea Co of Milpitas 4b2c14aaf964a52028c124e3\n",
        "55225"
       ]
      },
      {
       "output_type": "stream",
       "stream": "stdout",
       "text": [
        " Fuzio 4a90aa93f964a5200c1920e3\n",
        "55226"
       ]
      },
      {
       "output_type": "stream",
       "stream": "stdout",
       "text": [
        " Mio Vicino 4aada0bff964a520126120e3\n",
        "55227"
       ]
      },
      {
       "output_type": "stream",
       "stream": "stdout",
       "text": [
        " ANZU 49efdfa9f964a52015691fe3\n",
        "55228"
       ]
      },
      {
       "output_type": "stream",
       "stream": "stdout",
       "text": [
        " Tacos Mi Rancho 463c04e1f964a5202a461fe3\n",
        "55229"
       ]
      },
      {
       "output_type": "stream",
       "stream": "stdout",
       "text": [
        " 540 Club 40bd1880f964a520c3001fe3\n",
        "55230"
       ]
      },
      {
       "output_type": "stream",
       "stream": "stdout",
       "text": [
        " West of Pecos 4f711e81e4b0fb1e70a3d700\n",
        "55231"
       ]
      },
      {
       "output_type": "stream",
       "stream": "stdout",
       "text": [
        " The Pot's 4b07655af964a52018fd22e3\n",
        "55232"
       ]
      },
      {
       "output_type": "stream",
       "stream": "stdout",
       "text": [
        " Bongo Burger 4b67347df964a52052412be3\n",
        "55233"
       ]
      },
      {
       "output_type": "stream",
       "stream": "stdout",
       "text": [
        " New Kapadokia 4a9dd23af964a520883920e3\n",
        "55234"
       ]
      },
      {
       "output_type": "stream",
       "stream": "stdout",
       "text": [
        " Farmgirl Flowers None\n",
        "55235"
       ]
      },
      {
       "output_type": "stream",
       "stream": "stdout",
       "text": [
        " Chevys Fresh Mex 44d79472f964a5206f361fe3\n",
        "55236"
       ]
      },
      {
       "output_type": "stream",
       "stream": "stdout",
       "text": [
        " Eliza's 43d3e1b4f964a5202a2e1fe3\n",
        "55237"
       ]
      },
      {
       "output_type": "stream",
       "stream": "stdout",
       "text": [
        " The Melt Stanford 4ee8f4180039139143ca8d53\n",
        "55238"
       ]
      },
      {
       "output_type": "stream",
       "stream": "stdout",
       "text": [
        " ChaTime 4d7aaa6de8b7a1cd99119c1f\n",
        "55239"
       ]
      },
      {
       "output_type": "stream",
       "stream": "stdout",
       "text": [
        " Bombay Garden 4b4d2d44f964a52067cd26e3\n",
        "55240"
       ]
      },
      {
       "output_type": "stream",
       "stream": "stdout",
       "text": [
        " Kinokuniya Bookstore 4a1babcbf964a520047b1fe3\n",
        "55241"
       ]
      },
      {
       "output_type": "stream",
       "stream": "stdout",
       "text": [
        " Cafe Reverie 49f5e129f964a520ca6b1fe3\n",
        "55242"
       ]
      },
      {
       "output_type": "stream",
       "stream": "stdout",
       "text": [
        " PIQ Bakery 4c7703d8b4b4b60c287e260e\n",
        "55243"
       ]
      },
      {
       "output_type": "stream",
       "stream": "stdout",
       "text": [
        " Costco 46596603f964a52018471fe3\n",
        "55244"
       ]
      },
      {
       "output_type": "stream",
       "stream": "stdout",
       "text": [
        " The Milk Bar 40bbc700f964a520a8001fe3\n",
        "55245"
       ]
      },
      {
       "output_type": "stream",
       "stream": "stdout",
       "text": [
        " La Corneta Taqueria 49f2801ef964a520386a1fe3\n",
        "55246"
       ]
      },
      {
       "output_type": "stream",
       "stream": "stdout",
       "text": [
        " Local Mission Eatery 4b789664f964a5209fd82ee3\n",
        "55247"
       ]
      },
      {
       "output_type": "stream",
       "stream": "stdout",
       "text": [
        " Ottimista Enoteca-Cafe 49da282ff964a520565e1fe3\n",
        "55248"
       ]
      },
      {
       "output_type": "stream",
       "stream": "stdout",
       "text": [
        " CANA 4d57031cc6edf04df0fbd7a2\n",
        "55249"
       ]
      },
      {
       "output_type": "stream",
       "stream": "stdout",
       "text": [
        " Nothing Bundt Cakes 4d1e7448756e8cfa96e25954\n",
        "55250"
       ]
      },
      {
       "output_type": "stream",
       "stream": "stdout",
       "text": [
        " Thai Cafe 4a750506f964a5204be01fe3\n",
        "55251"
       ]
      },
      {
       "output_type": "stream",
       "stream": "stdout",
       "text": [
        " T2J 42b21280f964a52071251fe3\n",
        "55252"
       ]
      },
      {
       "output_type": "stream",
       "stream": "stdout",
       "text": [
        " Palio d'Asti 3fd66200f964a52045ee1ee3\n",
        "55253"
       ]
      },
      {
       "output_type": "stream",
       "stream": "stdout",
       "text": [
        " The Pub at Ghirardelli Square 4a63c21cf964a520bec51fe3\n",
        "55254"
       ]
      },
      {
       "output_type": "stream",
       "stream": "stdout",
       "text": [
        " Never Too Latte Cafe & Bakery 4b7f1422f964a520e41430e3\n",
        "55255"
       ]
      },
      {
       "output_type": "stream",
       "stream": "stdout",
       "text": [
        " Slow 4bf97efc8d30d13a41520218\n",
        "55256"
       ]
      },
      {
       "output_type": "stream",
       "stream": "stdout",
       "text": [
        " Cafe Dolci 49e61b0bf964a52006641fe3\n",
        "55257"
       ]
      },
      {
       "output_type": "stream",
       "stream": "stdout",
       "text": [
        " Patxi's Pizza 4cccf2a372106dcb93d79f99\n",
        "55258"
       ]
      },
      {
       "output_type": "stream",
       "stream": "stdout",
       "text": [
        " Pacific Puffs 4a74d174f964a520b0df1fe3\n",
        "55259"
       ]
      },
      {
       "output_type": "stream",
       "stream": "stdout",
       "text": [
        " Nothing Bundt Cakes 4c3ccae4b169c9b6a2324668\n",
        "55260"
       ]
      },
      {
       "output_type": "stream",
       "stream": "stdout",
       "text": [
        " Pyeongchang Tofu House 46ae6db6f964a52082491fe3\n",
        "55261"
       ]
      },
      {
       "output_type": "stream",
       "stream": "stdout",
       "text": [
        " Armadillo Willy's BBQ 4a73561ff964a52031dc1fe3\n",
        "55262"
       ]
      },
      {
       "output_type": "stream",
       "stream": "stdout",
       "text": [
        " McCovey's Restaurant 4a9c22fef964a5201e3620e3\n",
        "55263"
       ]
      },
      {
       "output_type": "stream",
       "stream": "stdout",
       "text": [
        " Jay's Cheesesteak 459bb177f964a52090401fe3\n",
        "55264"
       ]
      },
      {
       "output_type": "stream",
       "stream": "stdout",
       "text": [
        " Banh Thai Restaurant None\n",
        "55265"
       ]
      },
      {
       "output_type": "stream",
       "stream": "stdout",
       "text": [
        " Yuzu Sushi & Grill 4ab44345f964a520a27020e3\n",
        "55266"
       ]
      },
      {
       "output_type": "stream",
       "stream": "stdout",
       "text": [
        " Sushi Zen 4b78bc3ff964a520fddf2ee3\n",
        "55267"
       ]
      },
      {
       "output_type": "stream",
       "stream": "stdout",
       "text": [
        " Paramount Theatre-Oakland None\n",
        "55268"
       ]
      },
      {
       "output_type": "stream",
       "stream": "stdout",
       "text": [
        " Gordo Taqueria 4ab81a41f964a520327c20e3\n",
        "55269"
       ]
      },
      {
       "output_type": "stream",
       "stream": "stdout",
       "text": [
        " Chiaroscuro 45c8bf74f964a52072421fe3\n",
        "55270"
       ]
      },
      {
       "output_type": "stream",
       "stream": "stdout",
       "text": [
        " Morty's Delicatessen 49d66c4ef964a520c95c1fe3\n",
        "55271"
       ]
      },
      {
       "output_type": "stream",
       "stream": "stdout",
       "text": [
        " Thai Pepper Cuisine 4a296c94f964a5208e951fe3\n",
        "55272"
       ]
      },
      {
       "output_type": "stream",
       "stream": "stdout",
       "text": [
        " Mad Dog In The Fog 3fd66200f964a5204ded1ee3\n",
        "55273"
       ]
      },
      {
       "output_type": "stream",
       "stream": "stdout",
       "text": [
        " Heinold's First And Last Chance Saloon 49ea6e18f964a52063661fe3\n",
        "55274"
       ]
      },
      {
       "output_type": "stream",
       "stream": "stdout",
       "text": [
        " Paxton Gate 4a394777f964a5204e9f1fe3\n",
        "55275"
       ]
      },
      {
       "output_type": "stream",
       "stream": "stdout",
       "text": [
        " JoAnn's Cafe 4a785c83f964a52073e51fe3\n",
        "55276"
       ]
      },
      {
       "output_type": "stream",
       "stream": "stdout",
       "text": [
        " Latin American Club 40870b00f964a520b1f21ee3\n",
        "55277"
       ]
      },
      {
       "output_type": "stream",
       "stream": "stdout",
       "text": [
        " Taipan 4a90a4fbf964a520ec1820e3\n",
        "55278"
       ]
      },
      {
       "output_type": "stream",
       "stream": "stdout",
       "text": [
        " Tootsies At the Stanford Barn 4b16cd3ef964a520afbd23e3\n",
        "55279"
       ]
      },
      {
       "output_type": "stream",
       "stream": "stdout",
       "text": [
        " Binh Minh Quan 4a75022cf964a52043e01fe3\n",
        "55280"
       ]
      },
      {
       "output_type": "stream",
       "stream": "stdout",
       "text": [
        " House of Curries 4a68d691f964a5201bcb1fe3\n",
        "55281"
       ]
      },
      {
       "output_type": "stream",
       "stream": "stdout",
       "text": [
        " Buck's 4a1352d0f964a520d4771fe3\n",
        "55282"
       ]
      },
      {
       "output_type": "stream",
       "stream": "stdout",
       "text": [
        " Nan King Road Bistro 4a6a6616f964a52058cd1fe3\n",
        "55283"
       ]
      },
      {
       "output_type": "stream",
       "stream": "stdout",
       "text": [
        " Rockridge Cafe 463cf6b5f964a5203a461fe3\n",
        "55284"
       ]
      },
      {
       "output_type": "stream",
       "stream": "stdout",
       "text": [
        " Xolo Taqueria 4d8982c1b799a35d13059863\n",
        "55285"
       ]
      },
      {
       "output_type": "stream",
       "stream": "stdout",
       "text": [
        " Chilango 4abeac39f964a520418f20e3\n",
        "55286"
       ]
      },
      {
       "output_type": "stream",
       "stream": "stdout",
       "text": [
        " Cinderella Bakery & Cafe 3fd66200f964a520e5ec1ee3\n",
        "55287"
       ]
      },
      {
       "output_type": "stream",
       "stream": "stdout",
       "text": [
        " Khan Toke Thai House 43f0c8a9f964a5207d2f1fe3\n",
        "55288"
       ]
      },
      {
       "output_type": "stream",
       "stream": "stdout",
       "text": [
        " Hooters 4b37ef34f964a520eb4825e3\n",
        "55289"
       ]
      },
      {
       "output_type": "stream",
       "stream": "stdout",
       "text": [
        " Amici's East Coast Pizzeria 482f75ebf964a520dd4f1fe3\n",
        "55290"
       ]
      },
      {
       "output_type": "stream",
       "stream": "stdout",
       "text": [
        " Smashburger 520d8c1511d2d7300ffe6b38\n",
        "55291"
       ]
      },
      {
       "output_type": "stream",
       "stream": "stdout",
       "text": [
        " Godzila Sushi 4283ee00f964a520b6221fe3\n",
        "55292"
       ]
      },
      {
       "output_type": "stream",
       "stream": "stdout",
       "text": [
        " Pakwan Restaurant 4b6e3156f964a520c7b02ce3\n",
        "55293"
       ]
      },
      {
       "output_type": "stream",
       "stream": "stdout",
       "text": [
        " Revival Bar & Kitchen 4be629bbbcef2d7f72eb04e5\n",
        "55294"
       ]
      },
      {
       "output_type": "stream",
       "stream": "stdout",
       "text": [
        " Alana's Cafe None\n",
        "55295"
       ]
      },
      {
       "output_type": "stream",
       "stream": "stdout",
       "text": [
        " New Mongolian BBQ 4a07959bf964a52086731fe3\n",
        "55296"
       ]
      },
      {
       "output_type": "stream",
       "stream": "stdout",
       "text": [
        " Red Hot Chilli Pepper 4dcf6522183899ddfaec68b3\n",
        "55297"
       ]
      },
      {
       "output_type": "stream",
       "stream": "stdout",
       "text": [
        " Adesso None\n",
        "55298"
       ]
      },
      {
       "output_type": "stream",
       "stream": "stdout",
       "text": [
        " The Sandwich Spot 4b4e3a94f964a52016e626e3\n",
        "55299"
       ]
      },
      {
       "output_type": "stream",
       "stream": "stdout",
       "text": [
        " Homma's Brown Rice Sushi 4a73584cf964a5203bdc1fe3\n",
        "55300"
       ]
      },
      {
       "output_type": "stream",
       "stream": "stdout",
       "text": [
        " Tomate Caf\u00e9 4ae0b430f964a520c88121e3\n",
        "55301"
       ]
      },
      {
       "output_type": "stream",
       "stream": "stdout",
       "text": [
        " Ike's Lair of Redwood City 4e1df2eb887794dc2496dc84\n",
        "55302"
       ]
      },
      {
       "output_type": "stream",
       "stream": "stdout",
       "text": [
        " Cheung Hing 4abd79c6f964a5208e8a20e3\n",
        "55303"
       ]
      },
      {
       "output_type": "stream",
       "stream": "stdout",
       "text": [
        " Mangosteen 49f1e5c6f964a520c5691fe3\n",
        "55304"
       ]
      },
      {
       "output_type": "stream",
       "stream": "stdout",
       "text": [
        " Angkor Borei 3fd66200f964a520c1ec1ee3\n",
        "55305"
       ]
      },
      {
       "output_type": "stream",
       "stream": "stdout",
       "text": [
        " Flax Art & Design 440b26bff964a52070301fe3\n",
        "55306"
       ]
      },
      {
       "output_type": "stream",
       "stream": "stdout",
       "text": [
        " Anjappar Chettinad Indian Restaurant 4abd81adf964a520bb8a20e3\n",
        "55307"
       ]
      },
      {
       "output_type": "stream",
       "stream": "stdout",
       "text": [
        " Sushi Avenue 4a8f5f65f964a520171520e3\n",
        "55308"
       ]
      },
      {
       "output_type": "stream",
       "stream": "stdout",
       "text": [
        " Scott's Seafood Grill & Bar 4a8f689ef964a520321520e3\n",
        "55309"
       ]
      },
      {
       "output_type": "stream",
       "stream": "stdout",
       "text": [
        " Doyle Street Cafe 46918741f964a520b9481fe3\n",
        "55310"
       ]
      },
      {
       "output_type": "stream",
       "stream": "stdout",
       "text": [
        " Baker Street Bistro 42cc7080f964a520e8251fe3\n",
        "55311"
       ]
      },
      {
       "output_type": "stream",
       "stream": "stdout",
       "text": [
        " Sushi Boat Restaurant 4a3009fff964a5200a991fe3\n",
        "55312"
       ]
      },
      {
       "output_type": "stream",
       "stream": "stdout",
       "text": [
        " Kim Son Vietnamese Restaurant 4b070b96f964a52023f622e3\n",
        "55313"
       ]
      },
      {
       "output_type": "stream",
       "stream": "stdout",
       "text": [
        " Sakae Sushi 4ae64edff964a52056a621e3\n",
        "55314"
       ]
      },
      {
       "output_type": "stream",
       "stream": "stdout",
       "text": [
        " The Parlor Bar & Club 4ace9765f964a5205ad120e3\n",
        "55315"
       ]
      },
      {
       "output_type": "stream",
       "stream": "stdout",
       "text": [
        " Marc 49 4a6139f8f964a52020c21fe3\n",
        "55316"
       ]
      },
      {
       "output_type": "stream",
       "stream": "stdout",
       "text": [
        " Thai Stick 45033db4f964a520d8381fe3\n",
        "55317"
       ]
      },
      {
       "output_type": "stream",
       "stream": "stdout",
       "text": [
        " Back Forty Texas BBQ Roadhouse & Saloon 4a4019d4f964a5204ba41fe3\n",
        "55318"
       ]
      },
      {
       "output_type": "stream",
       "stream": "stdout",
       "text": [
        " Naked Lunch 4a8c5c11f964a520c40d20e3\n",
        "55319"
       ]
      },
      {
       "output_type": "stream",
       "stream": "stdout",
       "text": [
        " Philz Coffee 4dd1580eb3adb047f5024231\n",
        "55320"
       ]
      },
      {
       "output_type": "stream",
       "stream": "stdout",
       "text": [
        " Andronico's Community Markets 4a5bed61f964a52002bc1fe3\n",
        "55321"
       ]
      },
      {
       "output_type": "stream",
       "stream": "stdout",
       "text": [
        " Epicenter Cafe 49cfeb47f964a520e35a1fe3\n",
        "55322"
       ]
      },
      {
       "output_type": "stream",
       "stream": "stdout",
       "text": [
        " Sweetheart Candies 4aee1cf7f964a52032d221e3\n",
        "55323"
       ]
      },
      {
       "output_type": "stream",
       "stream": "stdout",
       "text": [
        " Suruki Supermarket 4a8c567ef964a520b30d20e3\n",
        "55324"
       ]
      },
      {
       "output_type": "stream",
       "stream": "stdout",
       "text": [
        " Trader Joe's 4a060428f964a520ad721fe3\n",
        "55325"
       ]
      },
      {
       "output_type": "stream",
       "stream": "stdout",
       "text": [
        " The Melt New Montgomery 4e4566b4d164155c0dd6e52e\n",
        "55326"
       ]
      },
      {
       "output_type": "stream",
       "stream": "stdout",
       "text": [
        " Top Thai 4b0077cef964a520913e22e3\n",
        "55327"
       ]
      },
      {
       "output_type": "stream",
       "stream": "stdout",
       "text": [
        " Breaking Bread 4a81c8edf964a5208ff71fe3\n",
        "55328"
       ]
      },
      {
       "output_type": "stream",
       "stream": "stdout",
       "text": [
        " Neecha Thai 4b37e1d9f964a520f34725e3\n",
        "55329"
       ]
      },
      {
       "output_type": "stream",
       "stream": "stdout",
       "text": [
        " The Bitter End 40f08300f964a5204e0a1fe3\n",
        "55330"
       ]
      },
      {
       "output_type": "stream",
       "stream": "stdout",
       "text": [
        " Baladie Gourmet Cafe 49eb82e8f964a520eb661fe3\n",
        "55331"
       ]
      },
      {
       "output_type": "stream",
       "stream": "stdout",
       "text": [
        " Ristorante Il Porcino 4adcdcc1f964a520056221e3\n",
        "55332"
       ]
      },
      {
       "output_type": "stream",
       "stream": "stdout",
       "text": [
        " Oakland Grill 4a067f2ff964a520fd721fe3\n",
        "55333"
       ]
      },
      {
       "output_type": "stream",
       "stream": "stdout",
       "text": [
        " Club Deluxe 3fd66200f964a52060ed1ee3\n",
        "55334"
       ]
      },
      {
       "output_type": "stream",
       "stream": "stdout",
       "text": [
        " The Sunny Side Caf\u00e9 4a8c3c06f964a520640d20e3\n",
        "55335"
       ]
      },
      {
       "output_type": "stream",
       "stream": "stdout",
       "text": [
        " Pinecrest Diner 4d24b237daa937040cc5c781\n",
        "55336"
       ]
      },
      {
       "output_type": "stream",
       "stream": "stdout",
       "text": [
        " Owl Tree None\n",
        "55337"
       ]
      },
      {
       "output_type": "stream",
       "stream": "stdout",
       "text": [
        " Tong Soon Garden Restaurant 4aecaa89f964a52018ca21e3\n",
        "55338"
       ]
      },
      {
       "output_type": "stream",
       "stream": "stdout",
       "text": [
        " Contraband Coffee Bar 4d13f2ed816af04d6afd37c2\n",
        "55339"
       ]
      },
      {
       "output_type": "stream",
       "stream": "stdout",
       "text": [
        " Club Waziema 4540d065f964a520423c1fe3\n",
        "55340"
       ]
      },
      {
       "output_type": "stream",
       "stream": "stdout",
       "text": [
        " Windy City Chicago Style Pizza & BBQ 4a221025f964a5205b7d1fe3\n",
        "55341"
       ]
      },
      {
       "output_type": "stream",
       "stream": "stdout",
       "text": [
        " Stonestown Galleria None\n",
        "55342"
       ]
      },
      {
       "output_type": "stream",
       "stream": "stdout",
       "text": [
        " King Pin Donuts 4af62c09f964a520e80122e3\n",
        "55343"
       ]
      },
      {
       "output_type": "stream",
       "stream": "stdout",
       "text": [
        " Garibaldi's 4a712f71f964a5202cd91fe3\n",
        "55344"
       ]
      },
      {
       "output_type": "stream",
       "stream": "stdout",
       "text": [
        " Anatolian Kitchen 4cba6a524352a1cd741093f5\n",
        "55345"
       ]
      },
      {
       "output_type": "stream",
       "stream": "stdout",
       "text": [
        " A Sweet Affair 4b3e80b9f964a520179e25e3\n",
        "55346"
       ]
      },
      {
       "output_type": "stream",
       "stream": "stdout",
       "text": [
        " Soup Freaks None\n",
        "55347"
       ]
      },
      {
       "output_type": "stream",
       "stream": "stdout",
       "text": [
        " Koreana Plaza None\n",
        "55348"
       ]
      },
      {
       "output_type": "stream",
       "stream": "stdout",
       "text": [
        " Jane on Fillmore 4d50a1433626a093c29b1cbd\n",
        "55349"
       ]
      },
      {
       "output_type": "stream",
       "stream": "stdout",
       "text": [
        " Miramar Beach Restaurant 4a74fa3af964a52030e01fe3\n",
        "55350"
       ]
      },
      {
       "output_type": "stream",
       "stream": "stdout",
       "text": [
        " Scoma's Of Sausalito 49cf0b37f964a5209d5a1fe3\n",
        "55351"
       ]
      },
      {
       "output_type": "stream",
       "stream": "stdout",
       "text": [
        " 100% Sweet Cafe 4ba5ae38f964a520901b39e3\n",
        "55352"
       ]
      },
      {
       "output_type": "stream",
       "stream": "stdout",
       "text": [
        " Allegro Romano 4a1f4d62f964a5201c7c1fe3\n",
        "55353"
       ]
      },
      {
       "output_type": "stream",
       "stream": "stdout",
       "text": [
        " Elephant Bar Restaurant 4a3c4543f964a5205ea11fe3\n",
        "55354"
       ]
      },
      {
       "output_type": "stream",
       "stream": "stdout",
       "text": [
        " Yanagi Sushi & Grill 4b495839f964a520ef6d26e3\n",
        "55355"
       ]
      },
      {
       "output_type": "stream",
       "stream": "stdout",
       "text": [
        " Hong Kong Bistro 4aaea898f964a520cd6220e3\n",
        "55356"
       ]
      },
      {
       "output_type": "stream",
       "stream": "stdout",
       "text": [
        " MaduSalon 4a1f1787f964a520057c1fe3\n",
        "55357"
       ]
      },
      {
       "output_type": "stream",
       "stream": "stdout",
       "text": [
        " Apple Store 49d11ffaf964a5205d5b1fe3\n",
        "55358"
       ]
      },
      {
       "output_type": "stream",
       "stream": "stdout",
       "text": [
        " Noriega Teriyaki House 4a56c167f964a520c1b51fe3\n",
        "55359"
       ]
      },
      {
       "output_type": "stream",
       "stream": "stdout",
       "text": [
        " P F Chang's China Bistro 48277a1cf964a520b74f1fe3\n",
        "55360"
       ]
      },
      {
       "output_type": "stream",
       "stream": "stdout",
       "text": [
        " Sushi Hunter 4283ee00f964a520b7221fe3\n",
        "55361"
       ]
      },
      {
       "output_type": "stream",
       "stream": "stdout",
       "text": [
        " Perilla 4a64f220f964a52008c71fe3\n",
        "55362"
       ]
      },
      {
       "output_type": "stream",
       "stream": "stdout",
       "text": [
        " Zen Restaurant 4a90a872f964a520fe1820e3\n",
        "55363"
       ]
      },
      {
       "output_type": "stream",
       "stream": "stdout",
       "text": [
        " La Oaxaque\u00f1a 4b2c4865f964a5202cc524e3\n",
        "55364"
       ]
      },
      {
       "output_type": "stream",
       "stream": "stdout",
       "text": [
        " Verde Tea Espresso Bar 4b08c70af964a520201223e3\n",
        "55365"
       ]
      },
      {
       "output_type": "stream",
       "stream": "stdout",
       "text": [
        " Gourmet Haus Staudt Gifts & Cafe 4a29ae24f964a520c0951fe3\n",
        "55366"
       ]
      },
      {
       "output_type": "stream",
       "stream": "stdout",
       "text": [
        " Romano's Macaroni Grill 4a57806ef964a52044b61fe3\n",
        "55367"
       ]
      },
      {
       "output_type": "stream",
       "stream": "stdout",
       "text": [
        " Blackhawk Grille 4b341da2f964a5202c2525e3\n",
        "55368"
       ]
      },
      {
       "output_type": "stream",
       "stream": "stdout",
       "text": [
        " Caffe Sport 4a10d76bf964a52003771fe3\n",
        "55369"
       ]
      },
      {
       "output_type": "stream",
       "stream": "stdout",
       "text": [
        " Urban Curry 4ae9f309f964a520e8b721e3\n",
        "55370"
       ]
      },
      {
       "output_type": "stream",
       "stream": "stdout",
       "text": [
        " Delicious Dim Sum 4aa1b2c8f964a5207a4120e3\n",
        "55371"
       ]
      },
      {
       "output_type": "stream",
       "stream": "stdout",
       "text": [
        " Mayes Oyster House None\n",
        "55372"
       ]
      },
      {
       "output_type": "stream",
       "stream": "stdout",
       "text": [
        " Sensi Luxury Nails & Spa 4a357853f964a520059d1fe3\n",
        "55373"
       ]
      },
      {
       "output_type": "stream",
       "stream": "stdout",
       "text": [
        " Bourbon Steak a Michael Mina Restaurant 4cae95f4c5e6a1cd7d63c6f6\n",
        "55374"
       ]
      },
      {
       "output_type": "stream",
       "stream": "stdout",
       "text": [
        " Little Vietnam Cafe 4a999200f964a520202f20e3\n",
        "55375"
       ]
      },
      {
       "output_type": "stream",
       "stream": "stdout",
       "text": [
        " Burma Cafe 4c880a3a7223b1f7465a28a8\n",
        "55376"
       ]
      },
      {
       "output_type": "stream",
       "stream": "stdout",
       "text": [
        " Tsunami Mission Bay 49cffa7ff964a520ec5a1fe3\n",
        "55377"
       ]
      },
      {
       "output_type": "stream",
       "stream": "stdout",
       "text": [
        " Darwin Cafe 4c4e30871b8e1b8dd9d3c426\n",
        "55378"
       ]
      },
      {
       "output_type": "stream",
       "stream": "stdout",
       "text": [
        " Hot Sauce and Panko 4e33561de4cdf7a42ca5fba5\n",
        "55379"
       ]
      },
      {
       "output_type": "stream",
       "stream": "stdout",
       "text": [
        " Cafe Algiers 4aca4944f964a5203dc120e3\n",
        "55380"
       ]
      },
      {
       "output_type": "stream",
       "stream": "stdout",
       "text": [
        " Rich Table 500088f7d63e64b62bc19e6e\n",
        "55381"
       ]
      },
      {
       "output_type": "stream",
       "stream": "stdout",
       "text": [
        " Alamo Square Seafood Grill 454b5351f964a520b43c1fe3\n",
        "55382"
       ]
      },
      {
       "output_type": "stream",
       "stream": "stdout",
       "text": [
        " Flavors of India 4596b516f964a5206f401fe3\n",
        "55383"
       ]
      },
      {
       "output_type": "stream",
       "stream": "stdout",
       "text": [
        " Kona Club 4a05c14ef964a5206e721fe3\n",
        "55384"
       ]
      },
      {
       "output_type": "stream",
       "stream": "stdout",
       "text": [
        " Forbes Mill Steakhouse 4a7b9334f964a52077eb1fe3\n",
        "55385"
       ]
      },
      {
       "output_type": "stream",
       "stream": "stdout",
       "text": [
        " Cinta Salon 49dd4222f964a520f85f1fe3\n",
        "55386"
       ]
      },
      {
       "output_type": "stream",
       "stream": "stdout",
       "text": [
        " Lucca Ravioli Co. 49e79a69f964a520d7641fe3\n",
        "55387"
       ]
      },
      {
       "output_type": "stream",
       "stream": "stdout",
       "text": [
        " Roger's Deli None\n",
        "55388"
       ]
      },
      {
       "output_type": "stream",
       "stream": "stdout",
       "text": [
        " Sabella & La Torre 4ab137d3f964a520916820e3\n",
        "55389"
       ]
      },
      {
       "output_type": "stream",
       "stream": "stdout",
       "text": [
        " China Village Restaurant 51d35be7498ed50ed1db6cd3\n",
        "55390"
       ]
      },
      {
       "output_type": "stream",
       "stream": "stdout",
       "text": [
        " YakiniQ Cafe 4cfae971d7206ea8caf23b69\n",
        "55391"
       ]
      },
      {
       "output_type": "stream",
       "stream": "stdout",
       "text": [
        " North Beach Pizza 51191d15526259bca1f6c982\n",
        "55392"
       ]
      },
      {
       "output_type": "stream",
       "stream": "stdout",
       "text": [
        " The Royal Exchange 3fd66200f964a52078ed1ee3\n",
        "55393"
       ]
      },
      {
       "output_type": "stream",
       "stream": "stdout",
       "text": [
        " Pizza Antica 4a9c5beff964a520eb3620e3\n",
        "55394"
       ]
      },
      {
       "output_type": "stream",
       "stream": "stdout",
       "text": [
        " Mission Minis 4b48f583f964a520785f26e3\n",
        "55395"
       ]
      },
      {
       "output_type": "stream",
       "stream": "stdout",
       "text": [
        " Caffe La Scala 43261680f964a520b5271fe3\n",
        "55396"
       ]
      },
      {
       "output_type": "stream",
       "stream": "stdout",
       "text": [
        " Moki's Sushi & Pacific Grill 4b8761faf964a520d4bd31e3\n",
        "55397"
       ]
      },
      {
       "output_type": "stream",
       "stream": "stdout",
       "text": [
        " Mexicali Grill 4a9c3d1df964a520883620e3\n",
        "55398"
       ]
      },
      {
       "output_type": "stream",
       "stream": "stdout",
       "text": [
        " Izakaya Restaurant 49ee7e58f964a52062681fe3\n",
        "55399"
       ]
      },
      {
       "output_type": "stream",
       "stream": "stdout",
       "text": [
        " Tapioca Express 4b2fe6f0f964a5203ff224e3\n",
        "55400"
       ]
      },
      {
       "output_type": "stream",
       "stream": "stdout",
       "text": [
        " Tomatina 4b1ac6c2f964a52089f123e3\n",
        "55401"
       ]
      },
      {
       "output_type": "stream",
       "stream": "stdout",
       "text": [
        " Local 123 4a74e12bf964a520d7df1fe3\n",
        "55402"
       ]
      },
      {
       "output_type": "stream",
       "stream": "stdout",
       "text": [
        " Ten Ren Tea 4b00d14af964a520394122e3\n",
        "55403"
       ]
      },
      {
       "output_type": "stream",
       "stream": "stdout",
       "text": [
        " The Blue Light 3fd66200f964a520a0ed1ee3\n",
        "55404"
       ]
      },
      {
       "output_type": "stream",
       "stream": "stdout",
       "text": [
        " Eggettes 4adbb79ff964a520302a21e3\n",
        "55405"
       ]
      },
      {
       "output_type": "stream",
       "stream": "stdout",
       "text": [
        " The Rose & Crown English Food & Ale House 429cfa80f964a520b2241fe3\n",
        "55406"
       ]
      },
      {
       "output_type": "stream",
       "stream": "stdout",
       "text": [
        " El Burrito Express 2 44678fa8f964a52046331fe3\n",
        "55407"
       ]
      },
      {
       "output_type": "stream",
       "stream": "stdout",
       "text": [
        " Marzano None\n",
        "55408"
       ]
      },
      {
       "output_type": "stream",
       "stream": "stdout",
       "text": [
        " Poc-Chuc 49c4813df964a520ca561fe3\n",
        "55409"
       ]
      },
      {
       "output_type": "stream",
       "stream": "stdout",
       "text": [
        " Tao Yuen Pastry 4b12ce7df964a520808e23e3\n",
        "55410"
       ]
      },
      {
       "output_type": "stream",
       "stream": "stdout",
       "text": [
        " Capital Restaurant 4a788bcdf964a520d9e51fe3\n",
        "55411"
       ]
      },
      {
       "output_type": "stream",
       "stream": "stdout",
       "text": [
        " Grindz 4fa4b5c9e4b0ddd4959de80c\n",
        "55412"
       ]
      },
      {
       "output_type": "stream",
       "stream": "stdout",
       "text": [
        " Spice Monkey 4b4d1938f964a520dfca26e3\n",
        "55413"
       ]
      },
      {
       "output_type": "stream",
       "stream": "stdout",
       "text": [
        " Piacere 4abedc49f964a520509020e3\n",
        "55414"
       ]
      },
      {
       "output_type": "stream",
       "stream": "stdout",
       "text": [
        " Restaurant Ducroix 4ae204d2f964a520da8921e3\n",
        "55415"
       ]
      },
      {
       "output_type": "stream",
       "stream": "stdout",
       "text": [
        " Skylark 3fd66200f964a520aeed1ee3\n",
        "55416"
       ]
      },
      {
       "output_type": "stream",
       "stream": "stdout",
       "text": [
        " Pasta Bene 4be32e77d27a20a16e75915b\n",
        "55417"
       ]
      },
      {
       "output_type": "stream",
       "stream": "stdout",
       "text": [
        " Fiesta Del Mar 478dffa7f964a520454d1fe3\n",
        "55418"
       ]
      },
      {
       "output_type": "stream",
       "stream": "stdout",
       "text": [
        " Laszlo None\n",
        "55419"
       ]
      },
      {
       "output_type": "stream",
       "stream": "stdout",
       "text": [
        " Bambino's Ristorante 4a077c92f964a52064731fe3\n",
        "55420"
       ]
      },
      {
       "output_type": "stream",
       "stream": "stdout",
       "text": [
        " Southie 4d3b439e81258cfac5b1af5f\n",
        "55421"
       ]
      },
      {
       "output_type": "stream",
       "stream": "stdout",
       "text": [
        " Cocobang 4a960947f964a520de2520e3\n",
        "55422"
       ]
      },
      {
       "output_type": "stream",
       "stream": "stdout",
       "text": [
        " Arinell Pizza 4a88b0dbf964a520650720e3\n",
        "55423"
       ]
      },
      {
       "output_type": "stream",
       "stream": "stdout",
       "text": [
        " PATRICK EVAN Hair Salon 4b54cbf6f964a520e2cc27e3\n",
        "55424"
       ]
      },
      {
       "output_type": "stream",
       "stream": "stdout",
       "text": [
        " Il Postale 4b1d63b9f964a520d90f24e3\n",
        "55425"
       ]
      },
      {
       "output_type": "stream",
       "stream": "stdout",
       "text": [
        " Yume Sushi 4b3feacaf964a52006b225e3\n",
        "55426"
       ]
      },
      {
       "output_type": "stream",
       "stream": "stdout",
       "text": [
        " Cafe La Tartine 4a57aa39f964a52090b61fe3\n",
        "55427"
       ]
      },
      {
       "output_type": "stream",
       "stream": "stdout",
       "text": [
        " Summer Summer Thai Eatery 4b21c593f964a520404124e3\n",
        "55428"
       ]
      },
      {
       "output_type": "stream",
       "stream": "stdout",
       "text": [
        " YOYO Sushi 4aa450f7f964a5205f4620e3\n",
        "55429"
       ]
      },
      {
       "output_type": "stream",
       "stream": "stdout",
       "text": [
        " Cliff's Variety 49f78dcff964a520b46c1fe3\n",
        "55430"
       ]
      },
      {
       "output_type": "stream",
       "stream": "stdout",
       "text": [
        " Buca di Beppo 4ab5a6fcf964a520c57520e3\n",
        "55431"
       ]
      },
      {
       "output_type": "stream",
       "stream": "stdout",
       "text": [
        " Stanford Shopping Center None\n",
        "55432"
       ]
      },
      {
       "output_type": "stream",
       "stream": "stdout",
       "text": [
        " Ichiro 4a9ed18df964a5204d3b20e3\n",
        "55433"
       ]
      },
      {
       "output_type": "stream",
       "stream": "stdout",
       "text": [
        " Enjoy Vegetarian Restaurant 49f916c7f964a520606d1fe3\n",
        "55434"
       ]
      },
      {
       "output_type": "stream",
       "stream": "stdout",
       "text": [
        " Lucca Delicatessen 4a620c4df964a520e7c21fe3\n",
        "55435"
       ]
      },
      {
       "output_type": "stream",
       "stream": "stdout",
       "text": [
        " Tako Sushi 4aff7c2df964a520013922e3\n",
        "55436"
       ]
      },
      {
       "output_type": "stream",
       "stream": "stdout",
       "text": [
        " Jim's Coffee Shop 3fd66200f964a52092f11ee3\n",
        "55437"
       ]
      },
      {
       "output_type": "stream",
       "stream": "stdout",
       "text": [
        " Bob's Steak and Chop House 43261680f964a520b4271fe3\n",
        "55438"
       ]
      },
      {
       "output_type": "stream",
       "stream": "stdout",
       "text": [
        " Lemongrass Thai Cuisine 45ef0adcf964a520b5431fe3\n",
        "55439"
       ]
      },
      {
       "output_type": "stream",
       "stream": "stdout",
       "text": [
        " Anh Hong Restaurant 4a29a647f964a520b8951fe3\n",
        "55440"
       ]
      },
      {
       "output_type": "stream",
       "stream": "stdout",
       "text": [
        " Spice Kit 4bb61ae2ef159c74856975f7\n",
        "55441"
       ]
      },
      {
       "output_type": "stream",
       "stream": "stdout",
       "text": [
        " Murray Circle 4a33f31df964a5207a9b1fe3\n",
        "55442"
       ]
      },
      {
       "output_type": "stream",
       "stream": "stdout",
       "text": [
        " Lakeshore Cafe None\n",
        "55443"
       ]
      },
      {
       "output_type": "stream",
       "stream": "stdout",
       "text": [
        " Dumpling Kitchen 4b78acfdf964a52063dd2ee3\n",
        "55444"
       ]
      },
      {
       "output_type": "stream",
       "stream": "stdout",
       "text": [
        " Il Fornaio 4b33d576f964a5202f2025e3\n",
        "55445"
       ]
      },
      {
       "output_type": "stream",
       "stream": "stdout",
       "text": [
        " Home Of Chicken & Waffles 4e2b2edfae605c533a354fd5\n",
        "55446"
       ]
      },
      {
       "output_type": "stream",
       "stream": "stdout",
       "text": [
        " Mymy 4cb202c2562d224be4702388\n",
        "55447"
       ]
      },
      {
       "output_type": "stream",
       "stream": "stdout",
       "text": [
        " Leland Tea Company 49e903d6f964a520ba651fe3\n",
        "55448"
       ]
      },
      {
       "output_type": "stream",
       "stream": "stdout",
       "text": [
        " House of Shields None\n",
        "55449"
       ]
      },
      {
       "output_type": "stream",
       "stream": "stdout",
       "text": [
        " Navio at The Ritz Carlton None\n",
        "55450"
       ]
      },
      {
       "output_type": "stream",
       "stream": "stdout",
       "text": [
        " Papito 4da89a38fa8c4175d0be1e75\n",
        "55451"
       ]
      },
      {
       "output_type": "stream",
       "stream": "stdout",
       "text": [
        " Sanraku 41d9dc80f964a520b71e1fe3\n",
        "55452"
       ]
      },
      {
       "output_type": "stream",
       "stream": "stdout",
       "text": [
        " The Sausage Factory 4b4f2a0ef964a520eafb26e3\n",
        "55453"
       ]
      },
      {
       "output_type": "stream",
       "stream": "stdout",
       "text": [
        " Super Duper Burgers 4ea85b365c5cc8e4992384b0\n",
        "55454"
       ]
      },
      {
       "output_type": "stream",
       "stream": "stdout",
       "text": [
        " Cafe Brioche 4a760954f964a52005e21fe3\n",
        "55455"
       ]
      },
      {
       "output_type": "stream",
       "stream": "stdout",
       "text": [
        " Bushido Izakaya Restaurant 4b789dbaf964a52054da2ee3\n",
        "55456"
       ]
      },
      {
       "output_type": "stream",
       "stream": "stdout",
       "text": [
        " The Iron Cactus 4adf610ff964a5200f7a21e3\n",
        "55457"
       ]
      },
      {
       "output_type": "stream",
       "stream": "stdout",
       "text": [
        " Kyoto Sushi 4283ee00f964a52092221fe3\n",
        "55458"
       ]
      },
      {
       "output_type": "stream",
       "stream": "stdout",
       "text": [
        " Antonio's Nut House 40a40c00f964a52014f31ee3\n",
        "55459"
       ]
      },
      {
       "output_type": "stream",
       "stream": "stdout",
       "text": [
        " Yumma's 4a0f9701f964a52078761fe3\n",
        "55460"
       ]
      },
      {
       "output_type": "stream",
       "stream": "stdout",
       "text": [
        " Five Guys Burgers and Fries 4c707082fa49a1cda03fa6e3\n",
        "55461"
       ]
      },
      {
       "output_type": "stream",
       "stream": "stdout",
       "text": [
        " Fat Maddie's Grille 4cdc4a506ad1a09307cff056\n",
        "55462"
       ]
      },
      {
       "output_type": "stream",
       "stream": "stdout",
       "text": [
        " Clarke's Charcoal Broiler 49ee3071f964a52032681fe3\n",
        "55463"
       ]
      },
      {
       "output_type": "stream",
       "stream": "stdout",
       "text": [
        " Lanesplitter Pizza & Pub 45b8bbb8f964a520d2411fe3\n",
        "55464"
       ]
      },
      {
       "output_type": "stream",
       "stream": "stdout",
       "text": [
        " Ephesus 4d41d5c85d01224b42fa5950\n",
        "55465"
       ]
      },
      {
       "output_type": "stream",
       "stream": "stdout",
       "text": [
        " House of Genji 4a42e598f964a5205ea61fe3\n",
        "55466"
       ]
      },
      {
       "output_type": "stream",
       "stream": "stdout",
       "text": [
        " Lupa Trattoria 4ab7e395f964a520597b20e3\n",
        "55467"
       ]
      },
      {
       "output_type": "stream",
       "stream": "stdout",
       "text": [
        " Lark Creek Walnut Creek 4a5ea7def964a520febe1fe3\n",
        "55468"
       ]
      },
      {
       "output_type": "stream",
       "stream": "stdout",
       "text": [
        " Tayyibaat Meat And Grill 4bccd730b6c49c74307e9491\n",
        "55469"
       ]
      },
      {
       "output_type": "stream",
       "stream": "stdout",
       "text": [
        " Jitlada Thai Cuisine 4a9ee86bf964a520b93b20e3\n",
        "55470"
       ]
      },
      {
       "output_type": "stream",
       "stream": "stdout",
       "text": [
        " Pho Dong Restaurant 4a0bb386f964a5200b751fe3\n",
        "55471"
       ]
      },
      {
       "output_type": "stream",
       "stream": "stdout",
       "text": [
        " Elephant & Castle 41ca0a80f964a520991e1fe3\n",
        "55472"
       ]
      },
      {
       "output_type": "stream",
       "stream": "stdout",
       "text": [
        " International Orange Spa None\n",
        "55473"
       ]
      },
      {
       "output_type": "stream",
       "stream": "stdout",
       "text": [
        " Original Pancake House 4abe891df964a5204c8e20e3\n",
        "55474"
       ]
      },
      {
       "output_type": "stream",
       "stream": "stdout",
       "text": [
        " Kilowatt 40870b00f964a5209ef21ee3\n",
        "55475"
       ]
      },
      {
       "output_type": "stream",
       "stream": "stdout",
       "text": [
        " Gum Kuo Restaurant 4b788e20f964a52074d62ee3\n",
        "55476"
       ]
      },
      {
       "output_type": "stream",
       "stream": "stdout",
       "text": [
        " Kang Nam Tofu House 4a6291f6f964a52058c41fe3\n",
        "55477"
       ]
      },
      {
       "output_type": "stream",
       "stream": "stdout",
       "text": [
        " La Palma Mexicatessen 4a63b622f964a520a0c51fe3\n",
        "55478"
       ]
      },
      {
       "output_type": "stream",
       "stream": "stdout",
       "text": [
        " La Milpa 4a467005f964a520d9a81fe3\n",
        "55479"
       ]
      },
      {
       "output_type": "stream",
       "stream": "stdout",
       "text": [
        " House of Sisig 4bee2761a40fc928f127830c\n",
        "55480"
       ]
      },
      {
       "output_type": "stream",
       "stream": "stdout",
       "text": [
        " Nopalito 4f8f447f7716cd1fbf769274\n",
        "55481"
       ]
      },
      {
       "output_type": "stream",
       "stream": "stdout",
       "text": [
        " Shanghai House 49fa3040f964a520d46d1fe3\n",
        "55482"
       ]
      },
      {
       "output_type": "stream",
       "stream": "stdout",
       "text": [
        " Make-Out Room 3fd66200f964a5201df11ee3\n",
        "55483"
       ]
      },
      {
       "output_type": "stream",
       "stream": "stdout",
       "text": [
        " Vietnam Restaurant 4a04a183f964a52013721fe3\n",
        "55484"
       ]
      },
      {
       "output_type": "stream",
       "stream": "stdout",
       "text": [
        " Pandora Karaoke & Bar 4c1dd031b306c928453266b7\n",
        "55485"
       ]
      },
      {
       "output_type": "stream",
       "stream": "stdout",
       "text": [
        " Hong Kong Clay Pot Restaurant 49e4d4fdf964a52058631fe3\n",
        "55486"
       ]
      },
      {
       "output_type": "stream",
       "stream": "stdout",
       "text": [
        " Tokyo Fish Market 4ab537d6f964a520537320e3\n",
        "55487"
       ]
      },
      {
       "output_type": "stream",
       "stream": "stdout",
       "text": [
        " Joy Restaurant 4b182101f964a52069cd23e3\n",
        "55488"
       ]
      },
      {
       "output_type": "stream",
       "stream": "stdout",
       "text": [
        " New Asia Chinese Restaurant 4a077c03f964a52061731fe3\n",
        "55489"
       ]
      },
      {
       "output_type": "stream",
       "stream": "stdout",
       "text": [
        " Mr Pollo None\n",
        "55490"
       ]
      },
      {
       "output_type": "stream",
       "stream": "stdout",
       "text": [
        " Southland Flavor Cafe 439d82ebf964a520032c1fe3\n",
        "55491"
       ]
      },
      {
       "output_type": "stream",
       "stream": "stdout",
       "text": [
        " Ryowa 4afdbb18f964a520502a22e3\n",
        "55492"
       ]
      },
      {
       "output_type": "stream",
       "stream": "stdout",
       "text": [
        " Left Bank Menlo Park Brasserie 43bcd0c7f964a520fd2c1fe3\n",
        "55493"
       ]
      },
      {
       "output_type": "stream",
       "stream": "stdout",
       "text": [
        " Quickly 4a614e49f964a52045c21fe3\n",
        "55494"
       ]
      },
      {
       "output_type": "stream",
       "stream": "stdout",
       "text": [
        " New Gold Medal Restaurant None\n",
        "55495"
       ]
      },
      {
       "output_type": "stream",
       "stream": "stdout",
       "text": [
        " Imperial Spa 4a77af9df964a520fee41fe3\n",
        "55496"
       ]
      },
      {
       "output_type": "stream",
       "stream": "stdout",
       "text": [
        " Modern China Cafe 4b35a96df964a520762e25e3\n",
        "55497"
       ]
      },
      {
       "output_type": "stream",
       "stream": "stdout",
       "text": [
        " Tonic 4283ee00f964a5207a221fe3\n",
        "55498"
       ]
      },
      {
       "output_type": "stream",
       "stream": "stdout",
       "text": [
        " El Mansour 3fd66200f964a520edec1ee3\n",
        "55499"
       ]
      },
      {
       "output_type": "stream",
       "stream": "stdout",
       "text": [
        " Spices! 49d03243f964a5200d5b1fe3\n",
        "55500"
       ]
      },
      {
       "output_type": "stream",
       "stream": "stdout",
       "text": [
        " Mediterranean Delite 4a439637f964a52096a61fe3\n",
        "55501"
       ]
      },
      {
       "output_type": "stream",
       "stream": "stdout",
       "text": [
        " Maykadeh Persian Cuisine 4ab5b7aaf964a520ec7520e3\n",
        "55502"
       ]
      },
      {
       "output_type": "stream",
       "stream": "stdout",
       "text": [
        " Homejoy None\n",
        "55503"
       ]
      },
      {
       "output_type": "stream",
       "stream": "stdout",
       "text": [
        " St Stephen's Green 462d478ff964a520e9451fe3\n",
        "55504"
       ]
      },
      {
       "output_type": "stream",
       "stream": "stdout",
       "text": [
        " Forge Pizza 505d1ec9e4b05434c0c6f4b1\n",
        "55505"
       ]
      },
      {
       "output_type": "stream",
       "stream": "stdout",
       "text": [
        " Dohatsuten 4a9dd312f964a5208e3920e3\n",
        "55506"
       ]
      },
      {
       "output_type": "stream",
       "stream": "stdout",
       "text": [
        " Toomie's Thai Cuisine 4a79d4aaf964a520bce71fe3\n",
        "55507"
       ]
      },
      {
       "output_type": "stream",
       "stream": "stdout",
       "text": [
        " Flavor 4d0aac2246bab60c7a772390\n",
        "55508"
       ]
      },
      {
       "output_type": "stream",
       "stream": "stdout",
       "text": [
        " Whole Foods Market San Mateo 49de836ef964a5205f601fe3\n",
        "55509"
       ]
      },
      {
       "output_type": "stream",
       "stream": "stdout",
       "text": [
        " Boudin Sourdough Bakery & Cafe 4a7b1f0bf964a52013ea1fe3\n",
        "55510"
       ]
      },
      {
       "output_type": "stream",
       "stream": "stdout",
       "text": [
        " TacoBar 4bc0eb692a89ef3b9b70f188\n",
        "55511"
       ]
      },
      {
       "output_type": "stream",
       "stream": "stdout",
       "text": [
        " Izumiya 4391b651f964a5205f2b1fe3\n",
        "55512"
       ]
      },
      {
       "output_type": "stream",
       "stream": "stdout",
       "text": [
        " Thai Spice Restaurant 4a76506af964a520d3e21fe3\n",
        "55513"
       ]
      },
      {
       "output_type": "stream",
       "stream": "stdout",
       "text": [
        " Tuba - Authentic Turkish Restaurant 4b4407a2f964a52074f025e3\n",
        "55514"
       ]
      },
      {
       "output_type": "stream",
       "stream": "stdout",
       "text": [
        " Mr. Green Bubble 4c008ba3ad15a59329288e73\n",
        "55515"
       ]
      },
      {
       "output_type": "stream",
       "stream": "stdout",
       "text": [
        " Alfred's Steakhouse 3fd66200f964a520baec1ee3\n",
        "55516"
       ]
      },
      {
       "output_type": "stream",
       "stream": "stdout",
       "text": [
        " Fiesta Del Mar Too 43027e00f964a5200f271fe3\n",
        "55517"
       ]
      },
      {
       "output_type": "stream",
       "stream": "stdout",
       "text": [
        " Frodo Joe's Petit Cafe 4a837ae6f964a52041fb1fe3\n",
        "55518"
       ]
      },
      {
       "output_type": "stream",
       "stream": "stdout",
       "text": [
        " Trattoria Corso 4ac9523cf964a520a4bf20e3\n",
        "55519"
       ]
      },
      {
       "output_type": "stream",
       "stream": "stdout",
       "text": [
        " Nova Bar & Restaurant 49c9ccddf964a52098581fe3\n",
        "55520"
       ]
      },
      {
       "output_type": "stream",
       "stream": "stdout",
       "text": [
        " Babalou's Mediterranean 4b2b159ef964a52051b424e3\n",
        "55521"
       ]
      },
      {
       "output_type": "stream",
       "stream": "stdout",
       "text": [
        " China Bee 4a9f2ad4f964a520c63c20e3\n",
        "55522"
       ]
      },
      {
       "output_type": "stream",
       "stream": "stdout",
       "text": [
        " North Beach Restaurant 4283ee00f964a5209b221fe3\n",
        "55523"
       ]
      },
      {
       "output_type": "stream",
       "stream": "stdout",
       "text": [
        " La Fusi\u00f3n 4e555696d4c0c50afda6168f\n",
        "55524"
       ]
      },
      {
       "output_type": "stream",
       "stream": "stdout",
       "text": [
        " Cowboys & Angels 4a8f40d3f964a5208d1420e3\n",
        "55525"
       ]
      },
      {
       "output_type": "stream",
       "stream": "stdout",
       "text": [
        " Sahn Maru Korean Bbq 4bd8d57c0115c9b6698b7580\n",
        "55526"
       ]
      },
      {
       "output_type": "stream",
       "stream": "stdout",
       "text": [
        " Trader Vic's Restaurant 4a24a1e2f964a5203c7e1fe3\n",
        "55527"
       ]
      },
      {
       "output_type": "stream",
       "stream": "stdout",
       "text": [
        " Orale Orale 4a68c5b0f964a520fbca1fe3\n",
        "55528"
       ]
      },
      {
       "output_type": "stream",
       "stream": "stdout",
       "text": [
        " Ali Baba's Cave 43d23e2ff964a5200e2e1fe3\n",
        "55529"
       ]
      },
      {
       "output_type": "stream",
       "stream": "stdout",
       "text": [
        " Garaje None\n",
        "55530"
       ]
      },
      {
       "output_type": "stream",
       "stream": "stdout",
       "text": [
        " Mozzarella Di Bufala 4a4d27d0f964a5209aad1fe3\n",
        "55531"
       ]
      },
      {
       "output_type": "stream",
       "stream": "stdout",
       "text": [
        " Coffee to the People 43519800f964a520be281fe3\n",
        "55532"
       ]
      },
      {
       "output_type": "stream",
       "stream": "stdout",
       "text": [
        " Chile Pies & Ice Cream 4baae1f9f964a520f18b3ae3\n",
        "55533"
       ]
      },
      {
       "output_type": "stream",
       "stream": "stdout",
       "text": [
        " Gregoire 4ac178c1f964a520459720e3\n",
        "55534"
       ]
      },
      {
       "output_type": "stream",
       "stream": "stdout",
       "text": [
        " Il Fornaio 4a7a3673f964a520e0e81fe3\n",
        "55535"
       ]
      },
      {
       "output_type": "stream",
       "stream": "stdout",
       "text": [
        " Amnesia None\n",
        "55536"
       ]
      },
      {
       "output_type": "stream",
       "stream": "stdout",
       "text": [
        " Bobby G's Pizzeria 4a4ed4daf964a52024af1fe3\n",
        "55537"
       ]
      },
      {
       "output_type": "stream",
       "stream": "stdout",
       "text": [
        " Sakana Sushi & Grill 4a03be74f964a520df711fe3\n",
        "55538"
       ]
      },
      {
       "output_type": "stream",
       "stream": "stdout",
       "text": [
        " The Page 43eb859cf964a5203a2f1fe3\n",
        "55539"
       ]
      },
      {
       "output_type": "stream",
       "stream": "stdout",
       "text": [
        " Arizmendi Bakery & Pizzeria 4a6ce0bcf964a520e8d11fe3\n",
        "55540"
       ]
      },
      {
       "output_type": "stream",
       "stream": "stdout",
       "text": [
        " Urban Outfitters 44abea42f964a5200a351fe3\n",
        "55541"
       ]
      },
      {
       "output_type": "stream",
       "stream": "stdout",
       "text": [
        " Eastside West Restaurant & Bar 3fd66200f964a520bdec1ee3\n",
        "55542"
       ]
      },
      {
       "output_type": "stream",
       "stream": "stdout",
       "text": [
        " Best of Thai Noodle 4396da6af964a520972b1fe3\n",
        "55543"
       ]
      },
      {
       "output_type": "stream",
       "stream": "stdout",
       "text": [
        " Fly Bar & Restaurant 49f89f56f964a5200b6d1fe3\n",
        "55544"
       ]
      },
      {
       "output_type": "stream",
       "stream": "stdout",
       "text": [
        " Nama Sushi 4ac176d5f964a520419720e3\n",
        "55545"
       ]
      },
      {
       "output_type": "stream",
       "stream": "stdout",
       "text": [
        " King of Thai Noodle Cafe 4b53f6f0f964a520a3af27e3\n",
        "55546"
       ]
      },
      {
       "output_type": "stream",
       "stream": "stdout",
       "text": [
        " Dan Sung Sa 4a98af0af964a520132d20e3\n",
        "55547"
       ]
      },
      {
       "output_type": "stream",
       "stream": "stdout",
       "text": [
        " Jasmine Fine Thai Cuisine 4b045381f964a520545322e3\n",
        "55548"
       ]
      },
      {
       "output_type": "stream",
       "stream": "stdout",
       "text": [
        " Therapy 49d85e70f964a520bd5d1fe3\n",
        "55549"
       ]
      },
      {
       "output_type": "stream",
       "stream": "stdout",
       "text": [
        " Draeger's Market 4a8b0cddf964a520480b20e3\n",
        "55550"
       ]
      },
      {
       "output_type": "stream",
       "stream": "stdout",
       "text": [
        " Ragazza 4c95857cf7cfa1cd0aaebe15\n",
        "55551"
       ]
      },
      {
       "output_type": "stream",
       "stream": "stdout",
       "text": [
        " Everett & Jones Barbeque 4b0d6962f964a520bc4723e3\n",
        "55552"
       ]
      },
      {
       "output_type": "stream",
       "stream": "stdout",
       "text": [
        " Hang Ten Boiler 5116d44de4b0a044871a4de6\n",
        "55553"
       ]
      },
      {
       "output_type": "stream",
       "stream": "stdout",
       "text": [
        " Satsuma Sushi 4a4990bff964a52073ab1fe3\n",
        "55554"
       ]
      },
      {
       "output_type": "stream",
       "stream": "stdout",
       "text": [
        " Mario's Bohemian Cigar Store Cafe 49f264f8f964a520286a1fe3\n",
        "55555"
       ]
      },
      {
       "output_type": "stream",
       "stream": "stdout",
       "text": [
        " Encore Karaoke Lounge 4390dc85f964a520532b1fe3\n",
        "55556"
       ]
      },
      {
       "output_type": "stream",
       "stream": "stdout",
       "text": [
        " Hopscotch None\n",
        "55557"
       ]
      },
      {
       "output_type": "stream",
       "stream": "stdout",
       "text": [
        " U-Lee Restaurant 4b637497f964a520267b2ae3\n",
        "55558"
       ]
      },
      {
       "output_type": "stream",
       "stream": "stdout",
       "text": [
        " John's Ice Cream 4a8a198ff964a520e00920e3\n",
        "55559"
       ]
      },
      {
       "output_type": "stream",
       "stream": "stdout",
       "text": [
        " Suju's Coffee & Tea 4b047f54f964a520a75422e3\n",
        "55560"
       ]
      },
      {
       "output_type": "stream",
       "stream": "stdout",
       "text": [
        " XOX Truffles 4a33fcb1f964a520859b1fe3\n",
        "55561"
       ]
      },
      {
       "output_type": "stream",
       "stream": "stdout",
       "text": [
        " Original Joe's 4f16eb51c2eea9e9912b089a\n",
        "55562"
       ]
      },
      {
       "output_type": "stream",
       "stream": "stdout",
       "text": [
        " Sweet Adeline Bakeshop 4ad0dab6f964a52071da20e3\n",
        "55563"
       ]
      },
      {
       "output_type": "stream",
       "stream": "stdout",
       "text": [
        " Irving Pizza 4a12fb2cf964a520a9771fe3\n",
        "55564"
       ]
      },
      {
       "output_type": "stream",
       "stream": "stdout",
       "text": [
        " Myung Dong Tofu Cabin 4b1eb59ef964a520421e24e3\n",
        "55565"
       ]
      },
      {
       "output_type": "stream",
       "stream": "stdout",
       "text": [
        " Xyclo 4ae4fa03f964a520db9f21e3\n",
        "55566"
       ]
      },
      {
       "output_type": "stream",
       "stream": "stdout",
       "text": [
        " Tai Chi Restaurant 4a04f4fcf964a52042721fe3\n",
        "55567"
       ]
      },
      {
       "output_type": "stream",
       "stream": "stdout",
       "text": [
        " Arabian Nights Restaurant 4eb4c2c7b634a0485fe0b97f\n",
        "55568"
       ]
      },
      {
       "output_type": "stream",
       "stream": "stdout",
       "text": [
        " Iberia Restaurant 4ba59153f964a520021339e3\n",
        "55569"
       ]
      },
      {
       "output_type": "stream",
       "stream": "stdout",
       "text": [
        " 1015 Folsom 3fd66200f964a52075ec1ee3\n",
        "55570"
       ]
      },
      {
       "output_type": "stream",
       "stream": "stdout",
       "text": [
        " Barber Lounge Salon & Spa 49e91cb5f964a520cc651fe3\n",
        "55571"
       ]
      },
      {
       "output_type": "stream",
       "stream": "stdout",
       "text": [
        " Andy's BBQ 4a425306f964a520bea51fe3\n",
        "55572"
       ]
      },
      {
       "output_type": "stream",
       "stream": "stdout",
       "text": [
        " Miyozen Sushi & Roll 45dd7c53f964a52007431fe3\n",
        "55573"
       ]
      },
      {
       "output_type": "stream",
       "stream": "stdout",
       "text": [
        " Jake's Steaks 49d0ed30f964a520425b1fe3\n",
        "55574"
       ]
      },
      {
       "output_type": "stream",
       "stream": "stdout",
       "text": [
        " Los Moles None\n",
        "55575"
       ]
      },
      {
       "output_type": "stream",
       "stream": "stdout",
       "text": [
        " Pho Nam Restaurant 4a88b360f964a5206d0720e3\n",
        "55576"
       ]
      },
      {
       "output_type": "stream",
       "stream": "stdout",
       "text": [
        " Coco Chicken None\n",
        "55577"
       ]
      },
      {
       "output_type": "stream",
       "stream": "stdout",
       "text": [
        " Vanilla Moon Bakery 4a11d6bdf964a5204c771fe3\n",
        "55578"
       ]
      },
      {
       "output_type": "stream",
       "stream": "stdout",
       "text": [
        " Mel's Drive-In None\n",
        "55579"
       ]
      },
      {
       "output_type": "stream",
       "stream": "stdout",
       "text": [
        " Pizza My Heart 45367f64f964a520ac3b1fe3\n",
        "55580"
       ]
      },
      {
       "output_type": "stream",
       "stream": "stdout",
       "text": [
        " Hair Play 51fad99f498e402dd7dffe03\n",
        "55581"
       ]
      },
      {
       "output_type": "stream",
       "stream": "stdout",
       "text": [
        " Wooden Charcoal Korean Village Barbecue House 4ab820faf964a5204d7c20e3\n",
        "55582"
       ]
      },
      {
       "output_type": "stream",
       "stream": "stdout",
       "text": [
        " Crepevine 4a41bca8f964a52090a51fe3\n",
        "55583"
       ]
      },
      {
       "output_type": "stream",
       "stream": "stdout",
       "text": [
        " Rick's Cafe 4a031ad1f964a5208b711fe3\n",
        "55584"
       ]
      },
      {
       "output_type": "stream",
       "stream": "stdout",
       "text": [
        " The Orbit Room 3fd66200f964a5205aed1ee3\n",
        "55585"
       ]
      },
      {
       "output_type": "stream",
       "stream": "stdout",
       "text": [
        " Spices II 471de72ef964a520bb4b1fe3\n",
        "55586"
       ]
      },
      {
       "output_type": "stream",
       "stream": "stdout",
       "text": [
        " Big Mouth Burger 4e8b5f3db8f79e3db90dc2d0\n",
        "55587"
       ]
      },
      {
       "output_type": "stream",
       "stream": "stdout",
       "text": [
        " Beast And The Hare 4cd8e0663ec4b1f728e8c03f\n",
        "55588"
       ]
      },
      {
       "output_type": "stream",
       "stream": "stdout",
       "text": [
        " Chevys Fresh Mex 4a998e16f964a5200b2f20e3\n",
        "55589"
       ]
      },
      {
       "output_type": "stream",
       "stream": "stdout",
       "text": [
        " Grand Tavern 4a4700e9f964a520bca91fe3\n",
        "55590"
       ]
      },
      {
       "output_type": "stream",
       "stream": "stdout",
       "text": [
        " Elephant Bar Restaurant 4a7680a6f964a5201ce31fe3\n",
        "55591"
       ]
      },
      {
       "output_type": "stream",
       "stream": "stdout",
       "text": [
        " Oceanic Restaurant 4b70acf7f964a5200c292de3\n",
        "55592"
       ]
      },
      {
       "output_type": "stream",
       "stream": "stdout",
       "text": [
        " La Mediterranee 42814b00f964a52006221fe3\n",
        "55593"
       ]
      },
      {
       "output_type": "stream",
       "stream": "stdout",
       "text": [
        " Chotto 4ce588922b4e721ecf48352b\n",
        "55594"
       ]
      },
      {
       "output_type": "stream",
       "stream": "stdout",
       "text": [
        " Grand Palace Restaurant 4b3e7d22f964a520e59d25e3\n",
        "55595"
       ]
      },
      {
       "output_type": "stream",
       "stream": "stdout",
       "text": [
        " Taste Buds Indian Food None\n",
        "55596"
       ]
      },
      {
       "output_type": "stream",
       "stream": "stdout",
       "text": [
        " P F Chang's China Bistro 465d736cf964a5203d471fe3\n",
        "55597"
       ]
      },
      {
       "output_type": "stream",
       "stream": "stdout",
       "text": [
        " SomaR Bar None\n",
        "55598"
       ]
      },
      {
       "output_type": "stream",
       "stream": "stdout",
       "text": [
        " South Park Caf\u00e9 4474333bf964a520ac331fe3\n",
        "55599"
       ]
      },
      {
       "output_type": "stream",
       "stream": "stdout",
       "text": [
        " Chipotle Mexican Grill 49cc2f6af964a52050591fe3\n",
        "55600"
       ]
      },
      {
       "output_type": "stream",
       "stream": "stdout",
       "text": [
        " Burritt Room None\n",
        "55601"
       ]
      },
      {
       "output_type": "stream",
       "stream": "stdout",
       "text": [
        " Out the Door 4ac80a3cf964a52051bb20e3\n",
        "55602"
       ]
      },
      {
       "output_type": "stream",
       "stream": "stdout",
       "text": [
        " Blue Line Pizza 502bfae7e4b07813acf9051a\n",
        "55603"
       ]
      },
      {
       "output_type": "stream",
       "stream": "stdout",
       "text": [
        " The Spot Lounge 4a90d20bf964a520911920e3\n",
        "55604"
       ]
      },
      {
       "output_type": "stream",
       "stream": "stdout",
       "text": [
        " New England Lobster Market & Eatery 5046531ee4b09100cac293b4\n",
        "55605"
       ]
      },
      {
       "output_type": "stream",
       "stream": "stdout",
       "text": [
        " The Revolution Cafe 4a75206cf964a5209de01fe3\n",
        "55606"
       ]
      },
      {
       "output_type": "stream",
       "stream": "stdout",
       "text": [
        " Sichuan Fortune House 4ae27529f964a5206c8e21e3\n",
        "55607"
       ]
      },
      {
       "output_type": "stream",
       "stream": "stdout",
       "text": [
        " Chantal Guillon Macarons & Teas 501ed583e4b0d7d70275e7c8\n",
        "55608"
       ]
      },
      {
       "output_type": "stream",
       "stream": "stdout",
       "text": [
        " Delessio Market & Bakery 45ad2ccdf964a52071411fe3\n",
        "55609"
       ]
      },
      {
       "output_type": "stream",
       "stream": "stdout",
       "text": [
        " Eddie's Cafe 446215e4f964a52017331fe3\n",
        "55610"
       ]
      },
      {
       "output_type": "stream",
       "stream": "stdout",
       "text": [
        " Nectar Wine Lounge 435c2400f964a52014291fe3\n",
        "55611"
       ]
      },
      {
       "output_type": "stream",
       "stream": "stdout",
       "text": [
        " B Patisserie None\n",
        "55612"
       ]
      },
      {
       "output_type": "stream",
       "stream": "stdout",
       "text": [
        " Sweetheart Cafe 4b693edaf964a520cd9c2be3\n",
        "55613"
       ]
      },
      {
       "output_type": "stream",
       "stream": "stdout",
       "text": [
        " Cato's Ale House 43c2bbdaf964a5204a2d1fe3\n",
        "55614"
       ]
      },
      {
       "output_type": "stream",
       "stream": "stdout",
       "text": [
        " Cafe Tiramisu 4ae289b9f964a520e78e21e3\n",
        "55615"
       ]
      },
      {
       "output_type": "stream",
       "stream": "stdout",
       "text": [
        " Caffe Trieste 4f32964a19836c91c7e65562\n",
        "55616"
       ]
      },
      {
       "output_type": "stream",
       "stream": "stdout",
       "text": [
        " El Farolito 4a0e123af964a520c2751fe3\n",
        "55617"
       ]
      },
      {
       "output_type": "stream",
       "stream": "stdout",
       "text": [
        " Sweet Tomatoes 4ac94a60f964a52090bf20e3\n",
        "55618"
       ]
      },
      {
       "output_type": "stream",
       "stream": "stdout",
       "text": [
        " La Strada Ristorante Italiano 4f4499a719836ed001952f19\n",
        "55619"
       ]
      },
      {
       "output_type": "stream",
       "stream": "stdout",
       "text": [
        " La Pi\u00f1ata 4b440440f964a5203ff025e3\n",
        "55620"
       ]
      },
      {
       "output_type": "stream",
       "stream": "stdout",
       "text": [
        " Christie's 4a7dcf49f964a520b2ef1fe3\n",
        "55621"
       ]
      },
      {
       "output_type": "stream",
       "stream": "stdout",
       "text": [
        " Kabul Afghan Cuisine 4a59553bf964a52040b91fe3\n",
        "55622"
       ]
      },
      {
       "output_type": "stream",
       "stream": "stdout",
       "text": [
        " Sons & Daughters 4c09b60c340720a11f5b8593\n",
        "55623"
       ]
      },
      {
       "output_type": "stream",
       "stream": "stdout",
       "text": [
        " Masu 4ac55ca9f964a520b6b120e3\n",
        "55624"
       ]
      },
      {
       "output_type": "stream",
       "stream": "stdout",
       "text": [
        " Zen Peninsula 4a8b0224f964a520290b20e3\n",
        "55625"
       ]
      },
      {
       "output_type": "stream",
       "stream": "stdout",
       "text": [
        " Bursa 4a692042f964a520a5cb1fe3\n",
        "55626"
       ]
      },
      {
       "output_type": "stream",
       "stream": "stdout",
       "text": [
        " Duke of Edinburgh 4085b980f964a52085f21ee3\n",
        "55627"
       ]
      },
      {
       "output_type": "stream",
       "stream": "stdout",
       "text": [
        " Vip Oriental 4ab3047af964a520506d20e3\n",
        "55628"
       ]
      },
      {
       "output_type": "stream",
       "stream": "stdout",
       "text": [
        " Bierhaus None\n",
        "55629"
       ]
      },
      {
       "output_type": "stream",
       "stream": "stdout",
       "text": [
        " Pizza Chicago None\n",
        "55630"
       ]
      },
      {
       "output_type": "stream",
       "stream": "stdout",
       "text": [
        " Marin Brewing Company 4a3d9649f964a5207da21fe3\n",
        "55631"
       ]
      },
      {
       "output_type": "stream",
       "stream": "stdout",
       "text": [
        " Stacks 43b85a95f964a520db2c1fe3\n",
        "55632"
       ]
      },
      {
       "output_type": "stream",
       "stream": "stdout",
       "text": [
        " Madera 4a71f2c0f964a520f2d91fe3\n",
        "55633"
       ]
      },
      {
       "output_type": "stream",
       "stream": "stdout",
       "text": [
        " Truong Thanh Restaurant 4bb3a5cc4019a5930d3e38b8\n",
        "55634"
       ]
      },
      {
       "output_type": "stream",
       "stream": "stdout",
       "text": [
        " Shimo 4101a680f964a520660b1fe3\n",
        "55635"
       ]
      },
      {
       "output_type": "stream",
       "stream": "stdout",
       "text": [
        " Roam Artisan Burgers 5036e1e4e4b0c173555542aa\n",
        "55636"
       ]
      },
      {
       "output_type": "stream",
       "stream": "stdout",
       "text": [
        " Serrano's Pizza 46db1a43f964a5207f4a1fe3\n",
        "55637"
       ]
      },
      {
       "output_type": "stream",
       "stream": "stdout",
       "text": [
        " Blondie's Pizza 4a4a60a6f964a520bbab1fe3\n",
        "55638"
       ]
      },
      {
       "output_type": "stream",
       "stream": "stdout",
       "text": [
        " Tender Greens 4db7722d4b223ed35f0fd67b\n",
        "55639"
       ]
      },
      {
       "output_type": "stream",
       "stream": "stdout",
       "text": [
        " Perry's 4a0499aaf964a5200d721fe3\n",
        "55640"
       ]
      },
      {
       "output_type": "stream",
       "stream": "stdout",
       "text": [
        " Sweet Tomatoes 4a3d86cdf964a52066a21fe3\n",
        "55641"
       ]
      },
      {
       "output_type": "stream",
       "stream": "stdout",
       "text": [
        " Moshi Moshi 40870b00f964a520b6f21ee3\n",
        "55642"
       ]
      },
      {
       "output_type": "stream",
       "stream": "stdout",
       "text": [
        " King of Noodles 4b36aa2ff964a5203e3a25e3\n",
        "55643"
       ]
      },
      {
       "output_type": "stream",
       "stream": "stdout",
       "text": [
        " Crouching Tiger Restaurant 4a61583ff964a5205ac21fe3\n",
        "55644"
       ]
      },
      {
       "output_type": "stream",
       "stream": "stdout",
       "text": [
        " Udupi Palace 4b46ba3cf964a520742726e3\n",
        "55645"
       ]
      },
      {
       "output_type": "stream",
       "stream": "stdout",
       "text": [
        " Maneki Sushi 4b5a09b9f964a52047a928e3\n",
        "55646"
       ]
      },
      {
       "output_type": "stream",
       "stream": "stdout",
       "text": [
        " Cafe Grillades 4b21a5ccf964a520833f24e3\n",
        "55647"
       ]
      },
      {
       "output_type": "stream",
       "stream": "stdout",
       "text": [
        " Pete's Tavern 49dd948cf964a5201c601fe3\n",
        "55648"
       ]
      },
      {
       "output_type": "stream",
       "stream": "stdout",
       "text": [
        " Bimbo's 365 Club 3fd66200f964a52053ed1ee3\n",
        "55649"
       ]
      },
      {
       "output_type": "stream",
       "stream": "stdout",
       "text": [
        " Zen Bistro 4a3b053ff964a52082a01fe3\n",
        "55650"
       ]
      },
      {
       "output_type": "stream",
       "stream": "stdout",
       "text": [
        " Majikku Ramen 4aafefeef964a5203f6520e3\n",
        "55651"
       ]
      },
      {
       "output_type": "stream",
       "stream": "stdout",
       "text": [
        " Jasmine Garden 49d183b8f964a5208d5b1fe3\n",
        "55652"
       ]
      },
      {
       "output_type": "stream",
       "stream": "stdout",
       "text": [
        " Cat Club None\n",
        "55653"
       ]
      },
      {
       "output_type": "stream",
       "stream": "stdout",
       "text": [
        " Edo Salon and Gallery 441c3d0ff964a52053311fe3\n",
        "55654"
       ]
      },
      {
       "output_type": "stream",
       "stream": "stdout",
       "text": [
        " Tad's Steakhouse 459ec615f964a520bd401fe3\n",
        "55655"
       ]
      },
      {
       "output_type": "stream",
       "stream": "stdout",
       "text": [
        " Taqueria Guadalajara 4b244110f964a520c76424e3\n",
        "55656"
       ]
      },
      {
       "output_type": "stream",
       "stream": "stdout",
       "text": [
        " Kuya's Asian Cuisine 4b060c3ff964a520f9e722e3\n",
        "55657"
       ]
      },
      {
       "output_type": "stream",
       "stream": "stdout",
       "text": [
        " Terzo 4a59485af964a5202cb91fe3\n",
        "55658"
       ]
      },
      {
       "output_type": "stream",
       "stream": "stdout",
       "text": [
        " The Brixton 4cc4a5f6dba3ef3bd29c0705\n",
        "55659"
       ]
      },
      {
       "output_type": "stream",
       "stream": "stdout",
       "text": [
        " Su's Mongolian BBQ 49fde6edf964a520406f1fe3\n",
        "55660"
       ]
      },
      {
       "output_type": "stream",
       "stream": "stdout",
       "text": [
        " Paragon Restaurant & Bar 4ad3636af964a52016e420e3\n",
        "55661"
       ]
      },
      {
       "output_type": "stream",
       "stream": "stdout",
       "text": [
        " Umi 4a025b81f964a52049711fe3\n",
        "55662"
       ]
      },
      {
       "output_type": "stream",
       "stream": "stdout",
       "text": [
        " Jasmine Tea House 49c2b926f964a5201f561fe3\n",
        "55663"
       ]
      },
      {
       "output_type": "stream",
       "stream": "stdout",
       "text": [
        " La Burrita 4b4bd098f964a52099a826e3\n",
        "55664"
       ]
      },
      {
       "output_type": "stream",
       "stream": "stdout",
       "text": [
        " Yumi Yogurt 4a9756bff964a520692920e3\n",
        "55665"
       ]
      },
      {
       "output_type": "stream",
       "stream": "stdout",
       "text": [
        " Campton Place Restaurant 4bb23718715eef3b89ec84bb\n",
        "55666"
       ]
      },
      {
       "output_type": "stream",
       "stream": "stdout",
       "text": [
        " Cups And Cakes Bakery 4b09a3bdf964a520d11a23e3\n",
        "55667"
       ]
      },
      {
       "output_type": "stream",
       "stream": "stdout",
       "text": [
        " Ajanta Restaurant 4a18f9eff964a520ff791fe3\n",
        "55668"
       ]
      },
      {
       "output_type": "stream",
       "stream": "stdout",
       "text": [
        " Arang Restaurant 4ae7c8f2f964a520a5ad21e3\n",
        "55669"
       ]
      },
      {
       "output_type": "stream",
       "stream": "stdout",
       "text": [
        " Manora's Thai Cuisine 44d0de34f964a52029361fe3\n",
        "55670"
       ]
      },
      {
       "output_type": "stream",
       "stream": "stdout",
       "text": [
        " Rhea's Deli & Market 4a888cbff964a520dc0620e3\n",
        "55671"
       ]
      },
      {
       "output_type": "stream",
       "stream": "stdout",
       "text": [
        " Tadamasa 4c3d2250a97bbe9acd8dfbdd\n",
        "55672"
       ]
      },
      {
       "output_type": "stream",
       "stream": "stdout",
       "text": [
        " House of Dumplings 4b897538f964a520183832e3\n",
        "55673"
       ]
      },
      {
       "output_type": "stream",
       "stream": "stdout",
       "text": [
        " Dino and Santino's Pizza 441135f6f964a520c7301fe3\n",
        "55674"
       ]
      },
      {
       "output_type": "stream",
       "stream": "stdout",
       "text": [
        " Naked Fish 454f46f7f964a520d73c1fe3\n",
        "55675"
       ]
      },
      {
       "output_type": "stream",
       "stream": "stdout",
       "text": [
        " Cinta Aveda Institute 4a57f5aaf964a52025b71fe3\n",
        "55676"
       ]
      },
      {
       "output_type": "stream",
       "stream": "stdout",
       "text": [
        " Samovar Tea Lounge 49c92c24f964a5203a581fe3\n",
        "55677"
       ]
      },
      {
       "output_type": "stream",
       "stream": "stdout",
       "text": [
        " The Habit Burger Grill 4f8c59efe4b0af04c33f309e\n",
        "55678"
       ]
      },
      {
       "output_type": "stream",
       "stream": "stdout",
       "text": [
        " L'Osteria Del Forno 442cff4cf964a520d2311fe3\n",
        "55679"
       ]
      },
      {
       "output_type": "stream",
       "stream": "stdout",
       "text": [
        " Mixt Greens 4a0312fff964a52086711fe3\n",
        "55680"
       ]
      },
      {
       "output_type": "stream",
       "stream": "stdout",
       "text": [
        " Rickshaw Stop None\n",
        "55681"
       ]
      },
      {
       "output_type": "stream",
       "stream": "stdout",
       "text": [
        " La Mission 4d3b8330457cb60cc045e7a4\n",
        "55682"
       ]
      },
      {
       "output_type": "stream",
       "stream": "stdout",
       "text": [
        " Thai House Express 46a24448f964a52029491fe3\n",
        "55683"
       ]
      },
      {
       "output_type": "stream",
       "stream": "stdout",
       "text": [
        " Sakana Bune Japanese Restaurant 4089ae00f964a520c0f21ee3\n",
        "55684"
       ]
      },
      {
       "output_type": "stream",
       "stream": "stdout",
       "text": [
        " Abc Bakery Cafe 4b404911f964a52065b725e3\n",
        "55685"
       ]
      },
      {
       "output_type": "stream",
       "stream": "stdout",
       "text": [
        " Le Zinc 463e0f59f964a52045461fe3\n",
        "55686"
       ]
      },
      {
       "output_type": "stream",
       "stream": "stdout",
       "text": [
        " Eureka Restaurant & Lounge 4a2768fff964a5207e911fe3\n",
        "55687"
       ]
      },
      {
       "output_type": "stream",
       "stream": "stdout",
       "text": [
        " Mings Chinese Cuisine & Bar 49d94471f964a520195e1fe3\n",
        "55688"
       ]
      },
      {
       "output_type": "stream",
       "stream": "stdout",
       "text": [
        " Vung Tau II Restaurant 4b57cdacf964a520df4128e3\n",
        "55689"
       ]
      },
      {
       "output_type": "stream",
       "stream": "stdout",
       "text": [
        " Warakubune Sushi 4a88b5b1f964a520720720e3\n",
        "55690"
       ]
      },
      {
       "output_type": "stream",
       "stream": "stdout",
       "text": [
        " Sloane None\n",
        "55691"
       ]
      },
      {
       "output_type": "stream",
       "stream": "stdout",
       "text": [
        " Home Plate 4a9ec745f964a520263b20e3\n",
        "55692"
       ]
      },
      {
       "output_type": "stream",
       "stream": "stdout",
       "text": [
        " Mojo Bicycle Caf\u00e9 49c29489f964a52004561fe3\n",
        "55693"
       ]
      },
      {
       "output_type": "stream",
       "stream": "stdout",
       "text": [
        " Kells Irish Restaurant & Pub 42829c80f964a5201f221fe3\n",
        "55694"
       ]
      },
      {
       "output_type": "stream",
       "stream": "stdout",
       "text": [
        " Los C\u00e1ntaros Restaurant And Taquer\u00eda 49c5b7a8f964a5201f571fe3\n",
        "55695"
       ]
      },
      {
       "output_type": "stream",
       "stream": "stdout",
       "text": [
        " Bangkok Garden Thai Cuisine None\n",
        "55696"
       ]
      },
      {
       "output_type": "stream",
       "stream": "stdout",
       "text": [
        " Chelokababi Restaurant 4b7e216bf964a520dbe32fe3\n",
        "55697"
       ]
      },
      {
       "output_type": "stream",
       "stream": "stdout",
       "text": [
        " The Dutch Goose 40eb3d00f964a520280a1fe3\n",
        "55698"
       ]
      },
      {
       "output_type": "stream",
       "stream": "stdout",
       "text": [
        " Il Borgo 4a7649b7f964a520c5e21fe3\n",
        "55699"
       ]
      },
      {
       "output_type": "stream",
       "stream": "stdout",
       "text": [
        " Ace Wasabi's Rock 'n' Roll Sushi 3fd66200f964a52054ed1ee3\n",
        "55700"
       ]
      },
      {
       "output_type": "stream",
       "stream": "stdout",
       "text": [
        " Sephora 4ab1481ef964a520e16820e3\n",
        "55701"
       ]
      },
      {
       "output_type": "stream",
       "stream": "stdout",
       "text": [
        " Thai Time Restaurant 43d69045f964a5204e2e1fe3\n",
        "55702"
       ]
      },
      {
       "output_type": "stream",
       "stream": "stdout",
       "text": [
        " Albona Ristorante Istriano 4a980c5af964a5203b2a20e3\n",
        "55703"
       ]
      },
      {
       "output_type": "stream",
       "stream": "stdout",
       "text": [
        " C U Sushi 4a5bea11f964a520febb1fe3\n",
        "55704"
       ]
      },
      {
       "output_type": "stream",
       "stream": "stdout",
       "text": [
        " Pho 84 4a04a257f964a52014721fe3\n",
        "55705"
       ]
      },
      {
       "output_type": "stream",
       "stream": "stdout",
       "text": [
        " Seven Hills 4ce72844678aa09348b8e0ea\n",
        "55706"
       ]
      },
      {
       "output_type": "stream",
       "stream": "stdout",
       "text": [
        " Golden Gate Fortune Cookies 4a9eedbcf964a520ce3b20e3\n",
        "55707"
       ]
      },
      {
       "output_type": "stream",
       "stream": "stdout",
       "text": [
        " The Spinnaker 4a760bf4f964a5200be21fe3\n",
        "55708"
       ]
      },
      {
       "output_type": "stream",
       "stream": "stdout",
       "text": [
        " Eggettes 4b6620b6f964a5203e152be3\n",
        "55709"
       ]
      },
      {
       "output_type": "stream",
       "stream": "stdout",
       "text": [
        " Sliver 50f4ce36e4b0b05d31f7128e\n",
        "55710"
       ]
      },
      {
       "output_type": "stream",
       "stream": "stdout",
       "text": [
        " Tee Off Bar 457c90e3f964a5200c3f1fe3\n",
        "55711"
       ]
      },
      {
       "output_type": "stream",
       "stream": "stdout",
       "text": [
        " Bo's Barbecue & Catering Restaurant 49d67699f964a520d55c1fe3\n",
        "55712"
       ]
      },
      {
       "output_type": "stream",
       "stream": "stdout",
       "text": [
        " Palo Alto Sol 4a7b3558f964a52052ea1fe3\n",
        "55713"
       ]
      },
      {
       "output_type": "stream",
       "stream": "stdout",
       "text": [
        " Darbar Indian Cuisine 45126099f964a5209f391fe3\n",
        "55714"
       ]
      },
      {
       "output_type": "stream",
       "stream": "stdout",
       "text": [
        " King Wah Restaurant 4b2d393bf964a5207bd124e3\n",
        "55715"
       ]
      },
      {
       "output_type": "stream",
       "stream": "stdout",
       "text": [
        " Hanamaru 4ab54969f964a520be7320e3\n",
        "55716"
       ]
      },
      {
       "output_type": "stream",
       "stream": "stdout",
       "text": [
        " Best Buy 49c9953af964a52084581fe3\n",
        "55717"
       ]
      },
      {
       "output_type": "stream",
       "stream": "stdout",
       "text": [
        " San Jalisco 48fdd3d8f964a52055521fe3\n",
        "55718"
       ]
      },
      {
       "output_type": "stream",
       "stream": "stdout",
       "text": [
        " Au Coquelet Cafe Restaurant 4aab5d62f964a520845920e3\n",
        "55719"
       ]
      },
      {
       "output_type": "stream",
       "stream": "stdout",
       "text": [
        " Cam Huong Restaurant 4a6e1523f964a520e0d31fe3\n",
        "55720"
       ]
      },
      {
       "output_type": "stream",
       "stream": "stdout",
       "text": [
        " 500 Club 4085b980f964a52089f21ee3\n",
        "55721"
       ]
      },
      {
       "output_type": "stream",
       "stream": "stdout",
       "text": [
        " Romolo's Cannoli 4ac3ce9bf964a520df9c20e3\n",
        "55722"
       ]
      },
      {
       "output_type": "stream",
       "stream": "stdout",
       "text": [
        " Sweet Orchid 4b413847f964a52089c325e3\n",
        "55723"
       ]
      },
      {
       "output_type": "stream",
       "stream": "stdout",
       "text": [
        " Mokutanya 4e9809689a52e26642f8f6aa\n",
        "55724"
       ]
      },
      {
       "output_type": "stream",
       "stream": "stdout",
       "text": [
        " Cafe Du Nord 3fd66200f964a5201bf11ee3\n",
        "55725"
       ]
      },
      {
       "output_type": "stream",
       "stream": "stdout",
       "text": [
        " Yakitori KOKKO 4b08ac73f964a520931023e3\n",
        "55726"
       ]
      },
      {
       "output_type": "stream",
       "stream": "stdout",
       "text": [
        " Farley's 40ccea80f964a52018011fe3\n",
        "55727"
       ]
      },
      {
       "output_type": "stream",
       "stream": "stdout",
       "text": [
        " Suchada Thai Massage 4a12f0faf964a5209d771fe3\n",
        "55728"
       ]
      },
      {
       "output_type": "stream",
       "stream": "stdout",
       "text": [
        " Corrib Moving & Storage None\n",
        "55729"
       ]
      },
      {
       "output_type": "stream",
       "stream": "stdout",
       "text": [
        " Guerilla Cafe 4a57eb0cf964a52011b71fe3\n",
        "55730"
       ]
      },
      {
       "output_type": "stream",
       "stream": "stdout",
       "text": [
        " Vault 164 4f07d541e4b0882d2280f16a\n",
        "55731"
       ]
      },
      {
       "output_type": "stream",
       "stream": "stdout",
       "text": [
        " Vanessa's Bistro 2 4b7208fff964a520506b2de3\n",
        "55732"
       ]
      },
      {
       "output_type": "stream",
       "stream": "stdout",
       "text": [
        " Deepa the Threading Queen None\n",
        "55733"
       ]
      },
      {
       "output_type": "stream",
       "stream": "stdout",
       "text": [
        " Sala Thai 2 4afe4015f964a520f22e22e3\n",
        "55734"
       ]
      },
      {
       "output_type": "stream",
       "stream": "stdout",
       "text": [
        " Little Star Pizza 4c523b9dd797e21e5e2d5a7d\n",
        "55735"
       ]
      },
      {
       "output_type": "stream",
       "stream": "stdout",
       "text": [
        " The Brazen Head 49cf2129f964a520a15a1fe3\n",
        "55736"
       ]
      },
      {
       "output_type": "stream",
       "stream": "stdout",
       "text": [
        " Bay Wolf 4a2591f1f964a520677e1fe3\n",
        "55737"
       ]
      },
      {
       "output_type": "stream",
       "stream": "stdout",
       "text": [
        " The Bell Tower 42accc80f964a52040251fe3\n",
        "55738"
       ]
      },
      {
       "output_type": "stream",
       "stream": "stdout",
       "text": [
        " Piqueo's 4a2debe9f964a52008981fe3\n",
        "55739"
       ]
      },
      {
       "output_type": "stream",
       "stream": "stdout",
       "text": [
        " Asha Tea House 4f08ebcae4b026656ec7176f\n",
        "55740"
       ]
      },
      {
       "output_type": "stream",
       "stream": "stdout",
       "text": [
        " The Richmond 43f4dde6f964a520a02f1fe3\n",
        "55741"
       ]
      },
      {
       "output_type": "stream",
       "stream": "stdout",
       "text": [
        " Fat Slice Pizza 4af62cbcf964a520ee0122e3\n",
        "55742"
       ]
      },
      {
       "output_type": "stream",
       "stream": "stdout",
       "text": [
        " The Crepe House 44f72fdcf964a5204d381fe3\n",
        "55743"
       ]
      },
      {
       "output_type": "stream",
       "stream": "stdout",
       "text": [
        " Otaez Mexican Restaurant 4b985f19f964a5208e3e35e3\n",
        "55744"
       ]
      },
      {
       "output_type": "stream",
       "stream": "stdout",
       "text": [
        " Mission Pizza 4a20a89df964a520b27c1fe3\n",
        "55745"
       ]
      },
      {
       "output_type": "stream",
       "stream": "stdout",
       "text": [
        " Caf\u00e9 Pro Bono None\n",
        "55746"
       ]
      },
      {
       "output_type": "stream",
       "stream": "stdout",
       "text": [
        " Schmidt's None\n",
        "55747"
       ]
      },
      {
       "output_type": "stream",
       "stream": "stdout",
       "text": [
        " Vertigo Bar 4197f180f964a520131e1fe3\n",
        "55748"
       ]
      },
      {
       "output_type": "stream",
       "stream": "stdout",
       "text": [
        " The Coffee Bean & Tea Leaf 49d929aef964a5200c5e1fe3\n",
        "55749"
       ]
      },
      {
       "output_type": "stream",
       "stream": "stdout",
       "text": [
        " Bangkok Bay Thai Cuisine 4a612853f964a52005c21fe3\n",
        "55750"
       ]
      },
      {
       "output_type": "stream",
       "stream": "stdout",
       "text": [
        " Myconos Restaurant 46002c84f964a52092441fe3\n",
        "55751"
       ]
      },
      {
       "output_type": "stream",
       "stream": "stdout",
       "text": [
        " SoMa StrEat Food Park None\n",
        "55752"
       ]
      },
      {
       "output_type": "stream",
       "stream": "stdout",
       "text": [
        " Ambiance 4b05eb91f964a520d2e522e3\n",
        "55753"
       ]
      },
      {
       "output_type": "stream",
       "stream": "stdout",
       "text": [
        " Lo Coco's Restaurant 4a5a86b7f964a52080ba1fe3\n",
        "55754"
       ]
      },
      {
       "output_type": "stream",
       "stream": "stdout",
       "text": [
        " El Toro Taqueria 49efc205f964a52004691fe3\n",
        "55755"
       ]
      },
      {
       "output_type": "stream",
       "stream": "stdout",
       "text": [
        " La Fiesta Restaurant 4596ba31f964a52070401fe3\n",
        "55756"
       ]
      },
      {
       "output_type": "stream",
       "stream": "stdout",
       "text": [
        " La Boulange de Fillmore 4b37da5ef964a520794725e3\n",
        "55757"
       ]
      },
      {
       "output_type": "stream",
       "stream": "stdout",
       "text": [
        " Blue Mango 4a540529f964a520f6b21fe3\n",
        "55758"
       ]
      },
      {
       "output_type": "stream",
       "stream": "stdout",
       "text": [
        " Ristorante Ideale 40bbc700f964a520a9001fe3\n",
        "55759"
       ]
      },
      {
       "output_type": "stream",
       "stream": "stdout",
       "text": [
        " Chouquet's 49d64d88f964a520b25c1fe3\n",
        "55760"
       ]
      },
      {
       "output_type": "stream",
       "stream": "stdout",
       "text": [
        " Chaat Bhavan 4acf972ff964a520c8d420e3\n",
        "55761"
       ]
      },
      {
       "output_type": "stream",
       "stream": "stdout",
       "text": [
        " Bistro Aix 45058f03f964a52009391fe3\n",
        "55762"
       ]
      },
      {
       "output_type": "stream",
       "stream": "stdout",
       "text": [
        " Shalimar 4b74e703f964a5206df72de3\n",
        "55763"
       ]
      },
      {
       "output_type": "stream",
       "stream": "stdout",
       "text": [
        " Taylor Street Coffee Shop 4a671dbaf964a520edc81fe3\n",
        "55764"
       ]
      },
      {
       "output_type": "stream",
       "stream": "stdout",
       "text": [
        " The Endup 3fd66200f964a520a5ec1ee3\n",
        "55765"
       ]
      },
      {
       "output_type": "stream",
       "stream": "stdout",
       "text": [
        " Gordo Taqueria 459f93a0f964a520c4401fe3\n",
        "55766"
       ]
      },
      {
       "output_type": "stream",
       "stream": "stdout",
       "text": [
        " Vientian Caf\u00e9 4a292a77f964a5205f951fe3\n",
        "55767"
       ]
      },
      {
       "output_type": "stream",
       "stream": "stdout",
       "text": [
        " Noc Noc 3fd66200f964a52058ed1ee3\n",
        "55768"
       ]
      },
      {
       "output_type": "stream",
       "stream": "stdout",
       "text": [
        " ABC Bakery Cafe 4ac3d218f964a520ec9c20e3\n",
        "55769"
       ]
      },
      {
       "output_type": "stream",
       "stream": "stdout",
       "text": [
        " Una Pizza Napoletana 4c8a74b755f9b713e4294add\n",
        "55770"
       ]
      },
      {
       "output_type": "stream",
       "stream": "stdout",
       "text": [
        " Attic 4bf75a57c07c9c7412a1bbef\n",
        "55771"
       ]
      },
      {
       "output_type": "stream",
       "stream": "stdout",
       "text": [
        " Lettuce Restaurant & Catering 4b086143f964a520870a23e3\n",
        "55772"
       ]
      },
      {
       "output_type": "stream",
       "stream": "stdout",
       "text": [
        " Trattoria Pinocchio 4b34248bf964a5207a2525e3\n",
        "55773"
       ]
      },
      {
       "output_type": "stream",
       "stream": "stdout",
       "text": [
        " Burgermeister 43d0a1bdf964a520ee2d1fe3\n",
        "55774"
       ]
      },
      {
       "output_type": "stream",
       "stream": "stdout",
       "text": [
        " Hankook Supermarket 4a5fed3df964a52088c01fe3\n",
        "55775"
       ]
      },
      {
       "output_type": "stream",
       "stream": "stdout",
       "text": [
        " Tia Margarita Mexican Restaurant 49eb6b29f964a520d6661fe3\n",
        "55776"
       ]
      },
      {
       "output_type": "stream",
       "stream": "stdout",
       "text": [
        " Legendary Palace 49c6a6a7f964a5206a571fe3\n",
        "55777"
       ]
      },
      {
       "output_type": "stream",
       "stream": "stdout",
       "text": [
        " Quinn's Lighthouse 429cfa80f964a520ae241fe3\n",
        "55778"
       ]
      },
      {
       "output_type": "stream",
       "stream": "stdout",
       "text": [
        " Lucky Strike 4d86573de83fa143000d8ea1\n",
        "55779"
       ]
      },
      {
       "output_type": "stream",
       "stream": "stdout",
       "text": [
        " En 4a62a855f964a5206dc41fe3\n",
        "55780"
       ]
      },
      {
       "output_type": "stream",
       "stream": "stdout",
       "text": [
        " The Sycamore 4c253819c11dc9b634d82624\n",
        "55781"
       ]
      },
      {
       "output_type": "stream",
       "stream": "stdout",
       "text": [
        " Kalesa Restaurant 4a7791d0f964a520d5e41fe3\n",
        "55782"
       ]
      },
      {
       "output_type": "stream",
       "stream": "stdout",
       "text": [
        " Oriental BBQ Chicken Town 4ac8b776f964a52058bc20e3\n",
        "55783"
       ]
      },
      {
       "output_type": "stream",
       "stream": "stdout",
       "text": [
        " QT Nails 4b203027f964a520752e24e3\n",
        "55784"
       ]
      },
      {
       "output_type": "stream",
       "stream": "stdout",
       "text": [
        " Bittersweet Chocolate Caf\u00e9 4a70a61af964a52013d81fe3\n",
        "55785"
       ]
      },
      {
       "output_type": "stream",
       "stream": "stdout",
       "text": [
        " Pizza And Curry 4b393adef964a520a65825e3\n",
        "55786"
       ]
      },
      {
       "output_type": "stream",
       "stream": "stdout",
       "text": [
        " Thai Noodle 46abf225f964a5206f491fe3\n",
        "55787"
       ]
      },
      {
       "output_type": "stream",
       "stream": "stdout",
       "text": [
        " Curry Village 4b6a4e04f964a5207fd12be3\n",
        "55788"
       ]
      },
      {
       "output_type": "stream",
       "stream": "stdout",
       "text": [
        " Scott's Seafood Grill & Bar 4b5677cef964a520c31128e3\n",
        "55789"
       ]
      },
      {
       "output_type": "stream",
       "stream": "stdout",
       "text": [
        " Ristorante Umbria 452b82caf964a5203b3b1fe3\n",
        "55790"
       ]
      },
      {
       "output_type": "stream",
       "stream": "stdout",
       "text": [
        " Crepes A Go Go 49d5ce61f964a520a45c1fe3\n",
        "55791"
       ]
      },
      {
       "output_type": "stream",
       "stream": "stdout",
       "text": [
        " Sushi Raw 49ea905ef964a52080661fe3\n",
        "55792"
       ]
      },
      {
       "output_type": "stream",
       "stream": "stdout",
       "text": [
        " Hotel Utah Saloon 3fd66200f964a52023f11ee3\n",
        "55793"
       ]
      },
      {
       "output_type": "stream",
       "stream": "stdout",
       "text": [
        " Rotten City Pizza 4a725663f964a520ebda1fe3\n",
        "55794"
       ]
      },
      {
       "output_type": "stream",
       "stream": "stdout",
       "text": [
        " Okoze Sushi 449b0faef964a520a1341fe3\n",
        "55795"
       ]
      },
      {
       "output_type": "stream",
       "stream": "stdout",
       "text": [
        " Comal 4f9f0e5f0039f866d55b6076\n",
        "55796"
       ]
      },
      {
       "output_type": "stream",
       "stream": "stdout",
       "text": [
        " Angel Fish Japanese Restaurant 4b8b5cf0f964a520889d32e3\n",
        "55797"
       ]
      },
      {
       "output_type": "stream",
       "stream": "stdout",
       "text": [
        " Target Masters 4ac11512f964a520bb9520e3\n",
        "55798"
       ]
      },
      {
       "output_type": "stream",
       "stream": "stdout",
       "text": [
        " The Annex at St. Michael's Alley 4bf5f3c094b2a59318bfacee\n",
        "55799"
       ]
      },
      {
       "output_type": "stream",
       "stream": "stdout",
       "text": [
        " Darbar Restaurant 45209ad3f964a520b83a1fe3\n",
        "55800"
       ]
      },
      {
       "output_type": "stream",
       "stream": "stdout",
       "text": [
        " Joshu-Ya Brasserie 4e777d4881dc463907ae9763\n",
        "55801"
       ]
      },
      {
       "output_type": "stream",
       "stream": "stdout",
       "text": [
        " Burmese Kitchen 4aab28ddf964a520275920e3\n",
        "55802"
       ]
      },
      {
       "output_type": "stream",
       "stream": "stdout",
       "text": [
        " Trader Joe's 459ac90cf964a52088401fe3\n",
        "55803"
       ]
      },
      {
       "output_type": "stream",
       "stream": "stdout",
       "text": [
        " Golden Island Cafe 4a7501d4f964a52042e01fe3\n",
        "55804"
       ]
      },
      {
       "output_type": "stream",
       "stream": "stdout",
       "text": [
        " Ramen Shop 50d675d1e4b047bb04184422\n",
        "55805"
       ]
      },
      {
       "output_type": "stream",
       "stream": "stdout",
       "text": [
        " Red Robin Gourmet Burgers 482768e5f964a520a94f1fe3\n",
        "55806"
       ]
      },
      {
       "output_type": "stream",
       "stream": "stdout",
       "text": [
        " La Pi\u00f1ata 4ae25c72f964a520a18d21e3\n",
        "55807"
       ]
      },
      {
       "output_type": "stream",
       "stream": "stdout",
       "text": [
        " Balboa Cafe 427d5680f964a520a6211fe3\n",
        "55808"
       ]
      },
      {
       "output_type": "stream",
       "stream": "stdout",
       "text": [
        " Blue Fin Sushi 4341c600f964a52061281fe3\n",
        "55809"
       ]
      },
      {
       "output_type": "stream",
       "stream": "stdout",
       "text": [
        " Chai Thai Noodles 4a63eb4af964a52002c61fe3\n",
        "55810"
       ]
      },
      {
       "output_type": "stream",
       "stream": "stdout",
       "text": [
        " House of Curries 464792f1f964a5209b461fe3\n",
        "55811"
       ]
      },
      {
       "output_type": "stream",
       "stream": "stdout",
       "text": [
        " Kiss Seafood 46b3377df964a520a3491fe3\n",
        "55812"
       ]
      },
      {
       "output_type": "stream",
       "stream": "stdout",
       "text": [
        " The Prolific Oven 4afcb0d4f964a5201e2522e3\n",
        "55813"
       ]
      },
      {
       "output_type": "stream",
       "stream": "stdout",
       "text": [
        " Sneha 47af148af964a5209a4d1fe3\n",
        "55814"
       ]
      },
      {
       "output_type": "stream",
       "stream": "stdout",
       "text": [
        " Credo None\n",
        "55815"
       ]
      },
      {
       "output_type": "stream",
       "stream": "stdout",
       "text": [
        " Cafe Jacqueline None\n",
        "55816"
       ]
      },
      {
       "output_type": "stream",
       "stream": "stdout",
       "text": [
        " Minako Organic Japanese Restaurant 43f91f9cf964a520ce2f1fe3\n",
        "55817"
       ]
      },
      {
       "output_type": "stream",
       "stream": "stdout",
       "text": [
        " Safeway 44610f81f964a52010331fe3\n",
        "55818"
       ]
      },
      {
       "output_type": "stream",
       "stream": "stdout",
       "text": [
        " Chez TJ 4b0c9f4ef964a520464023e3\n",
        "55819"
       ]
      },
      {
       "output_type": "stream",
       "stream": "stdout",
       "text": [
        " Semo Sushi None\n",
        "55820"
       ]
      },
      {
       "output_type": "stream",
       "stream": "stdout",
       "text": [
        " Velo Rouge Cafe 43c12ef9f964a520392d1fe3\n",
        "55821"
       ]
      },
      {
       "output_type": "stream",
       "stream": "stdout",
       "text": [
        " The Starlight Room 45362874f964a520a13b1fe3\n",
        "55822"
       ]
      },
      {
       "output_type": "stream",
       "stream": "stdout",
       "text": [
        " Yuet Lee 4a87bcf3f964a520e10420e3\n",
        "55823"
       ]
      },
      {
       "output_type": "stream",
       "stream": "stdout",
       "text": [
        " Kotetsu None\n",
        "55824"
       ]
      },
      {
       "output_type": "stream",
       "stream": "stdout",
       "text": [
        " House of Pho 4cdca68dd4ecb1f70de88048\n",
        "55825"
       ]
      },
      {
       "output_type": "stream",
       "stream": "stdout",
       "text": [
        " Focaccia Market & Bakery 4dac8f3c8154abafc2da5a46\n",
        "55826"
       ]
      },
      {
       "output_type": "stream",
       "stream": "stdout",
       "text": [
        " Kappo Nami Nami 4a78f1cdf964a520ace61fe3\n",
        "55827"
       ]
      },
      {
       "output_type": "stream",
       "stream": "stdout",
       "text": [
        " 1515 Restaurant Lounge 4ba0091bf964a5204b5437e3\n",
        "55828"
       ]
      },
      {
       "output_type": "stream",
       "stream": "stdout",
       "text": [
        " Manna 4e0a83f41495b12d82382c71\n",
        "55829"
       ]
      },
      {
       "output_type": "stream",
       "stream": "stdout",
       "text": [
        " Balompie Cafe 49f2b1fcf964a520606a1fe3\n",
        "55830"
       ]
      },
      {
       "output_type": "stream",
       "stream": "stdout",
       "text": [
        " Chenery Park 4d1ff420e56f6ea8e952711d\n",
        "55831"
       ]
      },
      {
       "output_type": "stream",
       "stream": "stdout",
       "text": [
        " Max's Opera Cafe 43e9f2f1f964a520252f1fe3\n",
        "55832"
       ]
      },
      {
       "output_type": "stream",
       "stream": "stdout",
       "text": [
        " Rudy's Can't Fail Cafe 4de842a3c65b72347a0c8e43\n",
        "55833"
       ]
      },
      {
       "output_type": "stream",
       "stream": "stdout",
       "text": [
        " Crepe Temptations 4a788af6f964a520d5e51fe3\n",
        "55834"
       ]
      },
      {
       "output_type": "stream",
       "stream": "stdout",
       "text": [
        " Misoya 4e65135862e13e3bcfc3f04f\n",
        "55835"
       ]
      },
      {
       "output_type": "stream",
       "stream": "stdout",
       "text": [
        " The Saddle Rack 42d1b680f964a52006261fe3\n",
        "55836"
       ]
      },
      {
       "output_type": "stream",
       "stream": "stdout",
       "text": [
        " Cafe des Amis 4c47de2a699476b0989fb321\n",
        "55837"
       ]
      },
      {
       "output_type": "stream",
       "stream": "stdout",
       "text": [
        " Tlaloc 4a028565f964a5205c711fe3\n",
        "55838"
       ]
      },
      {
       "output_type": "stream",
       "stream": "stdout",
       "text": [
        " La Boulange de Cole 49ce7a5ef964a520475a1fe3\n",
        "55839"
       ]
      },
      {
       "output_type": "stream",
       "stream": "stdout",
       "text": [
        " Wingstop 4ad01660f964a5208bd720e3\n",
        "55840"
       ]
      },
      {
       "output_type": "stream",
       "stream": "stdout",
       "text": [
        " Sapporo-Ya Japanese Restaurant 45326705f964a5207d3b1fe3\n",
        "55841"
       ]
      },
      {
       "output_type": "stream",
       "stream": "stdout",
       "text": [
        " Sapore Italiano Restaurant 4aaafb9bf964a520615820e3\n",
        "55842"
       ]
      },
      {
       "output_type": "stream",
       "stream": "stdout",
       "text": [
        " Grand Pu Bah 49c04863f964a5205c551fe3\n",
        "55843"
       ]
      },
      {
       "output_type": "stream",
       "stream": "stdout",
       "text": [
        " Bread And Cocoa 49e6c22df964a52069641fe3\n",
        "55844"
       ]
      },
      {
       "output_type": "stream",
       "stream": "stdout",
       "text": [
        " Stella Alpina Osteria 4aa9d75ff964a520665520e3\n",
        "55845"
       ]
      },
      {
       "output_type": "stream",
       "stream": "stdout",
       "text": [
        " Barney's Gourmet Hamburgers 4aa1830df964a520d14020e3\n",
        "55846"
       ]
      },
      {
       "output_type": "stream",
       "stream": "stdout",
       "text": [
        " Edinburgh Castle Pub 40a2ba80f964a520fcf21ee3\n",
        "55847"
       ]
      },
      {
       "output_type": "stream",
       "stream": "stdout",
       "text": [
        " Turmeric Restaurant 4ad637adf964a520d00521e3\n",
        "55848"
       ]
      },
      {
       "output_type": "stream",
       "stream": "stdout",
       "text": [
        " Buster's 49cc4c38f964a52067591fe3\n",
        "55849"
       ]
      },
      {
       "output_type": "stream",
       "stream": "stdout",
       "text": [
        " Public Market Emeryville None\n",
        "55850"
       ]
      },
      {
       "output_type": "stream",
       "stream": "stdout",
       "text": [
        " Frankie Johnnie & Luigi Too 4d97e847daec224b3d4b3d3e\n",
        "55851"
       ]
      },
      {
       "output_type": "stream",
       "stream": "stdout",
       "text": [
        " Birk's Restaurant 4a285f62f964a5201a951fe3\n",
        "55852"
       ]
      },
      {
       "output_type": "stream",
       "stream": "stdout",
       "text": [
        " ABC Seafood Restaurant 4cd02c816449a0930a03c9cf\n",
        "55853"
       ]
      },
      {
       "output_type": "stream",
       "stream": "stdout",
       "text": [
        " Mel's Drive-In None\n",
        "55854"
       ]
      },
      {
       "output_type": "stream",
       "stream": "stdout",
       "text": [
        " Gordo Taqueria 4a74dc88f964a520cadf1fe3\n",
        "55855"
       ]
      },
      {
       "output_type": "stream",
       "stream": "stdout",
       "text": [
        " Le P'tit Laurent 4a414f7af964a52013a51fe3\n",
        "55856"
       ]
      },
      {
       "output_type": "stream",
       "stream": "stdout",
       "text": [
        " Taqueria Los Coyotes 4a335debf964a520299b1fe3\n",
        "55857"
       ]
      },
      {
       "output_type": "stream",
       "stream": "stdout",
       "text": [
        " Hot Pot Garden 4ef93be5be7bb4784f31abe2\n",
        "'groups'"
       ]
      },
      {
       "output_type": "stream",
       "stream": "stdout",
       "text": [
        "\n",
        "name                         Kiji Japanese Restaurant and Sushi Bar\n",
        "id                kiji-japanese-restaurant-and-sushi-bar-san-fra...\n",
        "postal_code                                                   94110\n",
        "phone                                                   4.15282e+09\n",
        "four_square_id                                                  NaN\n",
        "Name: 41620, dtype: object\n",
        "55859"
       ]
      },
      {
       "output_type": "stream",
       "stream": "stdout",
       "text": [
        " Nubi Yogurt 4a60fa16f964a52098c11fe3\n",
        "55860"
       ]
      },
      {
       "output_type": "stream",
       "stream": "stdout",
       "text": [
        " Silk Nail Salon 4aee20adf964a5205cd221e3\n",
        "55861"
       ]
      },
      {
       "output_type": "stream",
       "stream": "stdout",
       "text": [
        " Thorough Bread & Pastry 49f13784f964a5209f691fe3\n",
        "55862"
       ]
      },
      {
       "output_type": "stream",
       "stream": "stdout",
       "text": [
        " India Clay Oven Restaurant & Bar None\n",
        "55863"
       ]
      },
      {
       "output_type": "stream",
       "stream": "stdout",
       "text": [
        " La Tapatia Mexicatessen 4a8881f5f964a520b00620e3\n",
        "55864"
       ]
      },
      {
       "output_type": "stream",
       "stream": "stdout",
       "text": [
        " Dittmer's Gourmet Meats & Wurst-Haus 4fe77992e4b04d88c6b978b3\n",
        "55865"
       ]
      },
      {
       "output_type": "stream",
       "stream": "stdout",
       "text": [
        " Ichiban Kan 4a774b84f964a52017e41fe3\n",
        "55866"
       ]
      },
      {
       "output_type": "stream",
       "stream": "stdout",
       "text": [
        " Trader Joe's 484a7920f964a5207c501fe3\n",
        "55867"
       ]
      },
      {
       "output_type": "stream",
       "stream": "stdout",
       "text": [
        " Sunflower Potrero Hill 4a8141daf964a520aef61fe3\n",
        "55868"
       ]
      },
      {
       "output_type": "stream",
       "stream": "stdout",
       "text": [
        " La Farine 46917eeef964a520a5481fe3\n",
        "55869"
       ]
      },
      {
       "output_type": "stream",
       "stream": "stdout",
       "text": [
        " New Eritrea Restaurant & Bar 443fddaff964a52039321fe3\n",
        "55870"
       ]
      },
      {
       "output_type": "stream",
       "stream": "stdout",
       "text": [
        " Romano's Macaroni Grill 4b12e069f964a520ea8f23e3\n",
        "55871"
       ]
      },
      {
       "output_type": "stream",
       "stream": "stdout",
       "text": [
        " Saigon City 4b6c84a9f964a52047402ce3\n",
        "55872"
       ]
      },
      {
       "output_type": "stream",
       "stream": "stdout",
       "text": [
        " Freshroll Vietnamese Rolls & Bowls 4fca77a2e4b05d86f26c5ac7\n",
        "55873"
       ]
      },
      {
       "output_type": "stream",
       "stream": "stdout",
       "text": [
        " Fred's Coffee Shop 4a785452f964a52068e51fe3\n",
        "55874"
       ]
      },
      {
       "output_type": "stream",
       "stream": "stdout",
       "text": [
        " Tomatina 4a5a3ec3f964a520fab91fe3\n",
        "55875"
       ]
      },
      {
       "output_type": "stream",
       "stream": "stdout",
       "text": [
        " Boxed Foods Company 4a72094df964a52030da1fe3\n",
        "55876"
       ]
      },
      {
       "output_type": "stream",
       "stream": "stdout",
       "text": [
        " Zaki Kabob House 4ab44834f964a520bc7020e3\n",
        "55877"
       ]
      },
      {
       "output_type": "stream",
       "stream": "stdout",
       "text": [
        " Sugar Lounge 44062411f964a52043301fe3\n",
        "55878"
       ]
      },
      {
       "output_type": "stream",
       "stream": "stdout",
       "text": [
        " Haven 4eb430af991165b761ddd966\n",
        "55879"
       ]
      },
      {
       "output_type": "stream",
       "stream": "stdout",
       "text": [
        " AQ Restaurant & Bar 4ea89f9529c2fa4821733d01\n",
        "55880"
       ]
      },
      {
       "output_type": "stream",
       "stream": "stdout",
       "text": [
        " Barracuda Japanese Restaurant None\n",
        "55881"
       ]
      },
      {
       "output_type": "stream",
       "stream": "stdout",
       "text": [
        " Unicorn 4af9d168f964a5207a1422e3\n",
        "55882"
       ]
      },
      {
       "output_type": "stream",
       "stream": "stdout",
       "text": [
        " Casa Orozco 4a1b47f6f964a520e57a1fe3\n",
        "55883"
       ]
      },
      {
       "output_type": "stream",
       "stream": "stdout",
       "text": [
        " House of Bagels 4a2be6f4f964a520eb961fe3\n",
        "55884"
       ]
      },
      {
       "output_type": "stream",
       "stream": "stdout",
       "text": [
        " Yum Yum Fish 4ae4feb3f964a520f29f21e3\n",
        "55885"
       ]
      },
      {
       "output_type": "stream",
       "stream": "stdout",
       "text": [
        " Sharetea 520eddb9498e6f7fcd113896\n",
        "55886"
       ]
      },
      {
       "output_type": "stream",
       "stream": "stdout",
       "text": [
        " Mazzetti's Bakery 4b637392f964a520d87a2ae3\n",
        "55887"
       ]
      },
      {
       "output_type": "stream",
       "stream": "stdout",
       "text": [
        " Shin Toe Bul Yi 4a0f4909f964a52047761fe3\n",
        "55888"
       ]
      },
      {
       "output_type": "stream",
       "stream": "stdout",
       "text": [
        " Buckhorn Grill 49d27606f964a520ac5b1fe3\n",
        "55889"
       ]
      },
      {
       "output_type": "stream",
       "stream": "stdout",
       "text": [
        " D & A Cafe None\n",
        "55890"
       ]
      },
      {
       "output_type": "stream",
       "stream": "stdout",
       "text": [
        " Buddy's Bites & Brews 4bd0e5f19854d13a96bbf84d\n",
        "55891"
       ]
      },
      {
       "output_type": "stream",
       "stream": "stdout",
       "text": [
        " Vesta 4fe0d427e4b059d64fab1305\n",
        "55892"
       ]
      },
      {
       "output_type": "stream",
       "stream": "stdout",
       "text": [
        " Lucky Penny 49e90442f964a520bb651fe3\n",
        "55893"
       ]
      },
      {
       "output_type": "stream",
       "stream": "stdout",
       "text": [
        " Chaat Paradise 43616a00f964a5203b291fe3\n",
        "55894"
       ]
      },
      {
       "output_type": "stream",
       "stream": "stdout",
       "text": [
        " Ike's Place 4c746508db52b1f7ac1076dc\n",
        "55895"
       ]
      },
      {
       "output_type": "stream",
       "stream": "stdout",
       "text": [
        " Canton Seafood & Dim Sum Restaurant 49ee94a7f964a5206f681fe3\n",
        "55896"
       ]
      },
      {
       "output_type": "stream",
       "stream": "stdout",
       "text": [
        " P F Chang's China Bistro 482777fff964a520b34f1fe3\n",
        "55897"
       ]
      },
      {
       "output_type": "stream",
       "stream": "stdout",
       "text": [
        " Stone Korean Kitchen 4b0b0022f964a5205c2b23e3\n",
        "55898"
       ]
      },
      {
       "output_type": "stream",
       "stream": "stdout",
       "text": [
        " Amici's East Coast Pizzeria 4a42bc48f964a5202ba61fe3\n",
        "55899"
       ]
      },
      {
       "output_type": "stream",
       "stream": "stdout",
       "text": [
        " Nick's Seashore Restaurant 436e9900f964a520e8291fe3\n",
        "55900"
       ]
      },
      {
       "output_type": "stream",
       "stream": "stdout",
       "text": [
        " Shalimar 43b2e0f9f964a520aa2c1fe3\n",
        "55901"
       ]
      },
      {
       "output_type": "stream",
       "stream": "stdout",
       "text": [
        " Derco Fine Jewelers 4a90486df964a520091720e3\n",
        "55902"
       ]
      },
      {
       "output_type": "stream",
       "stream": "stdout",
       "text": [
        " Dessert Republic 49e8ce58f964a52089651fe3\n",
        "55903"
       ]
      },
      {
       "output_type": "stream",
       "stream": "stdout",
       "text": [
        " Sushi Momoyama 4ad2a036f964a5205fe220e3\n",
        "55904"
       ]
      },
      {
       "output_type": "stream",
       "stream": "stdout",
       "text": [
        " Parcel 104 4a8af3b5f964a520fd0a20e3\n",
        "55905"
       ]
      },
      {
       "output_type": "stream",
       "stream": "stdout",
       "text": [
        " Nizario's Pizza 4ac37e19f964a5207e9b20e3\n",
        "55906"
       ]
      },
      {
       "output_type": "stream",
       "stream": "stdout",
       "text": [
        " Satura Cakes 4b415cd7f964a520d9c525e3\n",
        "55907"
       ]
      },
      {
       "output_type": "stream",
       "stream": "stdout",
       "text": [
        " The Claremont Hotel Club & Spa None\n",
        "55908"
       ]
      },
      {
       "output_type": "stream",
       "stream": "stdout",
       "text": [
        " La Sen None\n",
        "55909"
       ]
      },
      {
       "output_type": "stream",
       "stream": "stdout",
       "text": [
        " C\u00e9sar 44ed5170f964a520d6371fe3\n",
        "55910"
       ]
      },
      {
       "output_type": "stream",
       "stream": "stdout",
       "text": [
        " Chow 4aa073cff964a520b13f20e3\n",
        "55911"
       ]
      },
      {
       "output_type": "stream",
       "stream": "stdout",
       "text": [
        " Tselogs 4a0dd0f7f964a5209e751fe3\n",
        "55912"
       ]
      },
      {
       "output_type": "stream",
       "stream": "stdout",
       "text": [
        " Taqueria Vallarta 49cda4adf964a5200a5a1fe3\n",
        "55913"
       ]
      },
      {
       "output_type": "stream",
       "stream": "stdout",
       "text": [
        " Frozo's Frozen Yogurt None\n",
        "55914"
       ]
      },
      {
       "output_type": "stream",
       "stream": "stdout",
       "text": [
        " Dos Pi\u00f1as 40b52f80f964a52061001fe3\n",
        "55915"
       ]
      },
      {
       "output_type": "stream",
       "stream": "stdout",
       "text": [
        " Mo's Grill 4a76580bf964a520dfe21fe3\n",
        "55916"
       ]
      },
      {
       "output_type": "stream",
       "stream": "stdout",
       "text": [
        " Straits Restaurant 4a88f716f964a520c60720e3\n",
        "55917"
       ]
      },
      {
       "output_type": "stream",
       "stream": "stdout",
       "text": [
        " The Hobnob 4a5bd49ef964a520d5bb1fe3\n",
        "55918"
       ]
      },
      {
       "output_type": "stream",
       "stream": "stdout",
       "text": [
        " Fishermen's Grotto 4b5cf6b5f964a520d74c29e3\n",
        "55919"
       ]
      },
      {
       "output_type": "stream",
       "stream": "stdout",
       "text": [
        " Chabaa Thai Cuisine 4b2d347cf964a520f3d024e3\n",
        "55920"
       ]
      },
      {
       "output_type": "stream",
       "stream": "stdout",
       "text": [
        " Marcello's Pizza 432a0b00f964a520d7271fe3\n",
        "55921"
       ]
      },
      {
       "output_type": "stream",
       "stream": "stdout",
       "text": [
        " Mijori Japanese Restaurant 437e6b00f964a520bc2a1fe3\n",
        "55922"
       ]
      },
      {
       "output_type": "stream",
       "stream": "stdout",
       "text": [
        " Ayola 4a947cccf964a520c42120e3\n",
        "55923"
       ]
      },
      {
       "output_type": "stream",
       "stream": "stdout",
       "text": [
        " Chick-Fil-A 4f0a0f81e4b0e8ed3939cf01\n",
        "55924"
       ]
      },
      {
       "output_type": "stream",
       "stream": "stdout",
       "text": [
        " Claim Jumper 46db5c53f964a520824a1fe3\n",
        "55925"
       ]
      },
      {
       "output_type": "stream",
       "stream": "stdout",
       "text": [
        " Pho Wagon 4b2a93cef964a520bbab24e3\n",
        "55926"
       ]
      },
      {
       "output_type": "stream",
       "stream": "stdout",
       "text": [
        " The Creamery None\n",
        "55927"
       ]
      },
      {
       "output_type": "stream",
       "stream": "stdout",
       "text": [
        " Loi's Vietnamese Restaurant 4ade5a6cf964a520447521e3\n",
        "55928"
       ]
      },
      {
       "output_type": "stream",
       "stream": "stdout",
       "text": [
        " Sweet Tomatoes 4a036e4af964a520bc711fe3\n",
        "55929"
       ]
      },
      {
       "output_type": "stream",
       "stream": "stdout",
       "text": [
        " Toy Boat Dessert Caf\u00e9 473b4138f964a5205a4c1fe3\n",
        "55930"
       ]
      },
      {
       "output_type": "stream",
       "stream": "stdout",
       "text": [
        " Harvey's 413e4b80f964a520501c1fe3\n",
        "55931"
       ]
      },
      {
       "output_type": "stream",
       "stream": "stdout",
       "text": [
        " Chambers Eat + Drink None\n",
        "55932"
       ]
      },
      {
       "output_type": "stream",
       "stream": "stdout",
       "text": [
        " Dish N Dash None\n",
        "55933"
       ]
      },
      {
       "output_type": "stream",
       "stream": "stdout",
       "text": [
        " Esin Restaurant & Bar 4b787363f964a5203ccf2ee3\n",
        "55934"
       ]
      },
      {
       "output_type": "stream",
       "stream": "stdout",
       "text": [
        " O-Toro Sushi 4a45ae19f964a52073a81fe3\n",
        "55935"
       ]
      },
      {
       "output_type": "stream",
       "stream": "stdout",
       "text": [
        " Fino Restaurant 4a19721ef964a520197a1fe3\n",
        "55936"
       ]
      },
      {
       "output_type": "stream",
       "stream": "stdout",
       "text": [
        " Dolores Park Cafe 44ca68a6f964a52001361fe3\n",
        "55937"
       ]
      },
      {
       "output_type": "stream",
       "stream": "stdout",
       "text": [
        " La Boulange de Polk 49d915def964a520fc5d1fe3\n",
        "55938"
       ]
      },
      {
       "output_type": "stream",
       "stream": "stdout",
       "text": [
        " Yogurtouille 4a692e3bf964a520b9cb1fe3\n",
        "55939"
       ]
      },
      {
       "output_type": "stream",
       "stream": "stdout",
       "text": [
        " Cha-Ya 4b53a398f964a520c5a527e3\n",
        "55940"
       ]
      },
      {
       "output_type": "stream",
       "stream": "stdout",
       "text": [
        " Ploy II 4b89f389f964a520425832e3\n",
        "55941"
       ]
      },
      {
       "output_type": "stream",
       "stream": "stdout",
       "text": [
        " Fat Wong's Kitchen 4bc7d1f8af07a5936104802d\n",
        "55942"
       ]
      },
      {
       "output_type": "stream",
       "stream": "stdout",
       "text": [
        " Crepes On Cole 3fd66200f964a520f4f01ee3\n",
        "55943"
       ]
      },
      {
       "output_type": "stream",
       "stream": "stdout",
       "text": [
        " City Lights Bookstore 49bc2d06f964a5201d541fe3\n",
        "55944"
       ]
      },
      {
       "output_type": "stream",
       "stream": "stdout",
       "text": [
        " Scolari's 4c51f2fe9d642d7f4e8f6bde\n",
        "55945"
       ]
      },
      {
       "output_type": "stream",
       "stream": "stdout",
       "text": [
        " Public Barber Salon 49fe4d5ff964a520906f1fe3\n",
        "55946"
       ]
      },
      {
       "output_type": "stream",
       "stream": "stdout",
       "text": [
        " Craftsman & Wolves 4fab3157bb3d83ffee63d747\n",
        "55947"
       ]
      },
      {
       "output_type": "stream",
       "stream": "stdout",
       "text": [
        " Rocco's Caf\u00e9 49f7be91f964a520dd6c1fe3\n",
        "55948"
       ]
      },
      {
       "output_type": "stream",
       "stream": "stdout",
       "text": [
        " Paragon 3fd66200f964a5206df11ee3\n",
        "55949"
       ]
      },
      {
       "output_type": "stream",
       "stream": "stdout",
       "text": [
        " Steelhead Brewing Company 422ceb00f964a520e01f1fe3\n",
        "55950"
       ]
      },
      {
       "output_type": "stream",
       "stream": "stdout",
       "text": [
        " Vien Huong Restaurant 4b366b7ef964a520fb3425e3\n",
        "55951"
       ]
      },
      {
       "output_type": "stream",
       "stream": "stdout",
       "text": [
        " Juan's Place 40b52f80f964a52066001fe3\n",
        "55952"
       ]
      },
      {
       "output_type": "stream",
       "stream": "stdout",
       "text": [
        " Luce 4a34632ff964a5202c9c1fe3\n",
        "55953"
       ]
      },
      {
       "output_type": "stream",
       "stream": "stdout",
       "text": [
        " Wayo Sushi 49d6a648f964a520f35c1fe3\n",
        "55954"
       ]
      },
      {
       "output_type": "stream",
       "stream": "stdout",
       "text": [
        " Liverpool LiL's 3fd66200f964a5209dec1ee3\n",
        "55955"
       ]
      },
      {
       "output_type": "stream",
       "stream": "stdout",
       "text": [
        " Cafe Rouge 4a2c3e6df964a5203b971fe3\n",
        "55956"
       ]
      },
      {
       "output_type": "stream",
       "stream": "stdout",
       "text": [
        " Muguboka Restaurant 457c2ffff964a520003f1fe3\n",
        "55957"
       ]
      },
      {
       "output_type": "stream",
       "stream": "stdout",
       "text": [
        " Guaymas Restaurant 4161e400f964a520671d1fe3\n",
        "55958"
       ]
      },
      {
       "output_type": "stream",
       "stream": "stdout",
       "text": [
        " Little Baobab 40d8c800f964a52066011fe3\n",
        "55959"
       ]
      },
      {
       "output_type": "stream",
       "stream": "stdout",
       "text": [
        " Taqueria Las Vegas 4d716467a7fb6ea8772ff8ea\n",
        "55960"
       ]
      },
      {
       "output_type": "stream",
       "stream": "stdout",
       "text": [
        " Layang Layang 4a8eebf7f964a520291320e3\n",
        "55961"
       ]
      },
      {
       "output_type": "stream",
       "stream": "stdout",
       "text": [
        " T\u00edn Vietnamese Cuisine 4af09c87f964a520a1dd21e3\n",
        "55962"
       ]
      },
      {
       "output_type": "stream",
       "stream": "stdout",
       "text": [
        " Elephant Bar Restaurant 4a4ed3d9f964a5201faf1fe3\n",
        "55963"
       ]
      },
      {
       "output_type": "stream",
       "stream": "stdout",
       "text": [
        " Pasi\u00f3n 4c5320aff5f3d13a06e5fbf7\n",
        "55964"
       ]
      },
      {
       "output_type": "stream",
       "stream": "stdout",
       "text": [
        " Pyramid Alehouse 4b450174f964a520000126e3\n",
        "55965"
       ]
      },
      {
       "output_type": "stream",
       "stream": "stdout",
       "text": [
        " Jayakarta Restaurant 4aada8c5f964a5202e6120e3\n",
        "55966"
       ]
      },
      {
       "output_type": "stream",
       "stream": "stdout",
       "text": [
        " Hai Ky Mi Gia 4697a079f964a520e8481fe3\n",
        "55967"
       ]
      },
      {
       "output_type": "stream",
       "stream": "stdout",
       "text": [
        " Banh Mi Ba Le 4bc905dd0687ef3b3a3ad9cc\n",
        "55968"
       ]
      },
      {
       "output_type": "stream",
       "stream": "stdout",
       "text": [
        " Fattoush 4708cd8af964a520664b1fe3\n",
        "55969"
       ]
      },
      {
       "output_type": "stream",
       "stream": "stdout",
       "text": [
        " Falafel STOP 501dbd9be4b0b1c50a0bc3b8\n",
        "55970"
       ]
      },
      {
       "output_type": "stream",
       "stream": "stdout",
       "text": [
        " Star India 45fed293f964a5208e441fe3\n",
        "55971"
       ]
      },
      {
       "output_type": "stream",
       "stream": "stdout",
       "text": [
        " Red Jade 432a0b00f964a520e0271fe3\n",
        "55972"
       ]
      },
      {
       "output_type": "stream",
       "stream": "stdout",
       "text": [
        " The Kezar Pub 3fd66200f964a520a3ed1ee3\n",
        "55973"
       ]
      },
      {
       "output_type": "stream",
       "stream": "stdout",
       "text": [
        " Bocce Cafe 43695300f964a52091291fe3\n",
        "55974"
       ]
      },
      {
       "output_type": "stream",
       "stream": "stdout",
       "text": [
        " Waterfront Pizza 4a6feaadf964a52022d71fe3\n",
        "55975"
       ]
      },
      {
       "output_type": "stream",
       "stream": "stdout",
       "text": [
        " Ino Sushi 4a726692f964a52004db1fe3\n",
        "55976"
       ]
      },
      {
       "output_type": "stream",
       "stream": "stdout",
       "text": [
        " Rave Burger 49e8ce7af964a5208a651fe3\n",
        "55977"
       ]
      },
      {
       "output_type": "stream",
       "stream": "stdout",
       "text": [
        " Specialty's Cafe & Bakery 49cfb671f964a520be5a1fe3\n",
        "55978"
       ]
      },
      {
       "output_type": "stream",
       "stream": "stdout",
       "text": [
        " Phnom Penh House 4ab3eee4f964a5202b6f20e3\n",
        "55979"
       ]
      },
      {
       "output_type": "stream",
       "stream": "stdout",
       "text": [
        " Nama Sushi & Teriyaki 4aff3c1ff964a5203a3622e3\n",
        "55980"
       ]
      },
      {
       "output_type": "stream",
       "stream": "stdout",
       "text": [
        " Super Duper Burgers 5010936ce4b0abd8740f8fb7\n",
        "55981"
       ]
      },
      {
       "output_type": "stream",
       "stream": "stdout",
       "text": [
        " The Kitchen 4a98aab3f964a5200c2d20e3\n",
        "55982"
       ]
      },
      {
       "output_type": "stream",
       "stream": "stdout",
       "text": [
        " Barney's Gourmet Hamburgers 4a7a6839f964a5204ae91fe3\n",
        "55983"
       ]
      },
      {
       "output_type": "stream",
       "stream": "stdout",
       "text": [
        " Street Restaurant 4a58140ef964a52055b71fe3\n",
        "55984"
       ]
      },
      {
       "output_type": "stream",
       "stream": "stdout",
       "text": [
        " Roti Indian Bistro 49fa41c3f964a520e16d1fe3\n",
        "55985"
       ]
      },
      {
       "output_type": "stream",
       "stream": "stdout",
       "text": [
        " The Fish Market 4afe2d94f964a520872e22e3\n",
        "55986"
       ]
      },
      {
       "output_type": "stream",
       "stream": "stdout",
       "text": [
        " Delirium 4085b980f964a52088f21ee3\n",
        "55987"
       ]
      },
      {
       "output_type": "stream",
       "stream": "stdout",
       "text": [
        " Radish 4da9fea6fa8cc7649729bbf4\n",
        "55988"
       ]
      },
      {
       "output_type": "stream",
       "stream": "stdout",
       "text": [
        " Osha Thai 4b57db47f964a520064428e3\n",
        "55989"
       ]
      },
      {
       "output_type": "stream",
       "stream": "stdout",
       "text": [
        " Soi 4 Bangkok Eatery 4aa9b388f964a520f25420e3\n",
        "55990"
       ]
      },
      {
       "output_type": "stream",
       "stream": "stdout",
       "text": [
        " Arlequin Cafe & Food To Go 49eb8289f964a520ea661fe3\n",
        "55991"
       ]
      },
      {
       "output_type": "stream",
       "stream": "stdout",
       "text": [
        " Curbside Cafe 4a2d4a2af964a5209f971fe3\n",
        "55992"
       ]
      },
      {
       "output_type": "stream",
       "stream": "stdout",
       "text": [
        " Barney's Gourmet Hamburgers 45bcbd7bf964a52006421fe3\n",
        "55993"
       ]
      },
      {
       "output_type": "stream",
       "stream": "stdout",
       "text": [
        " Bowl'd Korean Rice Bar 4d63191bc56a6ea8eadf315f\n",
        "55994"
       ]
      },
      {
       "output_type": "stream",
       "stream": "stdout",
       "text": [
        " Dr Teeth & the Electric Mayhem 4e152e32aeb733245ecd6677\n",
        "55995"
       ]
      },
      {
       "output_type": "stream",
       "stream": "stdout",
       "text": [
        " Bottom of the Hill None\n",
        "55996"
       ]
      },
      {
       "output_type": "stream",
       "stream": "stdout",
       "text": [
        " Liguria Bakery 4a4bd09bf964a520c5ac1fe3\n",
        "55997"
       ]
      },
      {
       "output_type": "stream",
       "stream": "stdout",
       "text": [
        " Englander Sports Pub & Restaurant 4b5eb347f964a520509629e3\n",
        "55998"
       ]
      },
      {
       "output_type": "stream",
       "stream": "stdout",
       "text": [
        " A Slice of New York 4d1ce25f09546dcbc76bd638\n",
        "55999"
       ]
      },
      {
       "output_type": "stream",
       "stream": "stdout",
       "text": [
        " Yojimbo 4b230913f964a520785224e3\n",
        "56000"
       ]
      },
      {
       "output_type": "stream",
       "stream": "stdout",
       "text": [
        " Pacific Cafe 3fd66200f964a52001ed1ee3\n",
        "56001"
       ]
      },
      {
       "output_type": "stream",
       "stream": "stdout",
       "text": [
        " Patxi's Pizza 4ad12499f964a5200add20e3\n",
        "56002"
       ]
      },
      {
       "output_type": "stream",
       "stream": "stdout",
       "text": [
        " Old Mandarin Islamic Restaurant 4a59b889f964a52084b91fe3\n",
        "56003"
       ]
      },
      {
       "output_type": "stream",
       "stream": "stdout",
       "text": [
        " Cocoon Urban Day Spa 4ab14069f964a520bb6820e3\n",
        "56004"
       ]
      },
      {
       "output_type": "stream",
       "stream": "stdout",
       "text": [
        " Tart To Tart 4283ee00f964a520f2221fe3\n",
        "56005"
       ]
      },
      {
       "output_type": "stream",
       "stream": "stdout",
       "text": [
        " Show Dogs 4a982b88f964a520c62a20e3\n",
        "56006"
       ]
      },
      {
       "output_type": "stream",
       "stream": "stdout",
       "text": [
        " Modern Thai 4a28906bf964a52030951fe3\n",
        "56007"
       ]
      },
      {
       "output_type": "stream",
       "stream": "stdout",
       "text": [
        " Sumika 4a9603b2f964a520d22520e3\n",
        "56008"
       ]
      },
      {
       "output_type": "stream",
       "stream": "stdout",
       "text": [
        " Pauline's Pizza & Wine Bar 49f94956f964a520766d1fe3\n",
        "56009"
       ]
      },
      {
       "output_type": "stream",
       "stream": "stdout",
       "text": [
        " Blondie's Bar & No Grill 3fd66200f964a5202cf11ee3\n",
        "56010"
       ]
      },
      {
       "output_type": "stream",
       "stream": "stdout",
       "text": [
        " Vicoletto 4a7bbd14f964a520bceb1fe3\n",
        "56011"
       ]
      },
      {
       "output_type": "stream",
       "stream": "stdout",
       "text": [
        " Chang Puak - White Elephant Restaurant 49f623abf964a5200d6c1fe3\n",
        "56012"
       ]
      },
      {
       "output_type": "stream",
       "stream": "stdout",
       "text": [
        " Garden Fresh Vegetarian Restaurant 4aab0aa8f964a520b05820e3\n",
        "56013"
       ]
      },
      {
       "output_type": "stream",
       "stream": "stdout",
       "text": [
        " Bangkok Noodles 49bafc4ef964a520cd531fe3\n",
        "56014"
       ]
      },
      {
       "output_type": "stream",
       "stream": "stdout",
       "text": [
        " Blackbird 4a692f3df964a520bdcb1fe3\n",
        "56015"
       ]
      },
      {
       "output_type": "stream",
       "stream": "stdout",
       "text": [
        " Hot Pot City 4b1e13f3f964a520441724e3\n",
        "56016"
       ]
      },
      {
       "output_type": "stream",
       "stream": "stdout",
       "text": [
        " The Pizza Place On Noriega 4a0f5f06f964a52056761fe3\n",
        "56017"
       ]
      },
      {
       "output_type": "stream",
       "stream": "stdout",
       "text": [
        " Cafe Bastille 3fd66200f964a52079ed1ee3\n",
        "56018"
       ]
      },
      {
       "output_type": "stream",
       "stream": "stdout",
       "text": [
        " Cafe Mason None\n",
        "56019"
       ]
      },
      {
       "output_type": "stream",
       "stream": "stdout",
       "text": [
        " Black Bear Diner 4e236cd4c65b2b5e355b6ccc\n",
        "56020"
       ]
      },
      {
       "output_type": "stream",
       "stream": "stdout",
       "text": [
        " Jeffrey's Hamburgers 4a621866f964a52013c31fe3\n",
        "56021"
       ]
      },
      {
       "output_type": "stream",
       "stream": "stdout",
       "text": [
        " Blue Front Cafe 43f48222f964a5209d2f1fe3\n",
        "56022"
       ]
      },
      {
       "output_type": "stream",
       "stream": "stdout",
       "text": [
        " The Melting Pot 4a04d16ef964a52033721fe3\n",
        "56023"
       ]
      },
      {
       "output_type": "stream",
       "stream": "stdout",
       "text": [
        " Taste In Mediterranean Food 4b3a8c0ef964a520b16925e3\n",
        "56024"
       ]
      },
      {
       "output_type": "stream",
       "stream": "stdout",
       "text": [
        " Sociale 42fd3800f964a520f0261fe3\n",
        "56025"
       ]
      },
      {
       "output_type": "stream",
       "stream": "stdout",
       "text": [
        " University Coffee Cafe 40e35400f964a520e8091fe3\n",
        "56026"
       ]
      },
      {
       "output_type": "stream",
       "stream": "stdout",
       "text": [
        " Crixa Cakes 4aaaa6d0f964a520cc5620e3\n",
        "56027"
       ]
      },
      {
       "output_type": "stream",
       "stream": "stdout",
       "text": [
        " Buon Appetito Restaurant 4b888896f964a520d7fe31e3\n",
        "56028"
       ]
      },
      {
       "output_type": "stream",
       "stream": "stdout",
       "text": [
        " Hakkasan 50b57f55e4b09c0e1e84166a\n",
        "56029"
       ]
      },
      {
       "output_type": "stream",
       "stream": "stdout",
       "text": [
        " Indian Oven None\n",
        "56030"
       ]
      },
      {
       "output_type": "stream",
       "stream": "stdout",
       "text": [
        " Cock-A-Doodle Caf\u00e9 46751f16f964a520d6471fe3\n",
        "56031"
       ]
      },
      {
       "output_type": "stream",
       "stream": "stdout",
       "text": [
        " Platano 4a34504df964a5200f9c1fe3\n",
        "56032"
       ]
      },
      {
       "output_type": "stream",
       "stream": "stdout",
       "text": [
        " Paradiso Restaurant 4b8885bdf964a5200dfe31e3\n",
        "56033"
       ]
      },
      {
       "output_type": "stream",
       "stream": "stdout",
       "text": [
        " Southern Pacific Brewing None\n",
        "56034"
       ]
      },
      {
       "output_type": "stream",
       "stream": "stdout",
       "text": [
        " Rocco's Ristorante & Pizzeria 4a6a02eef964a5205dcc1fe3\n",
        "56035"
       ]
      },
      {
       "output_type": "stream",
       "stream": "stdout",
       "text": [
        " Mayflower Restaurant 42869100f964a5201c231fe3\n",
        "56036"
       ]
      },
      {
       "output_type": "stream",
       "stream": "stdout",
       "text": [
        " Barlata 4c3e7250ca012d7f2a982fbe\n",
        "56037"
       ]
      },
      {
       "output_type": "stream",
       "stream": "stdout",
       "text": [
        " Noe Valley Bakery & Bread Company 4a390f6cf964a520179f1fe3\n",
        "56038"
       ]
      },
      {
       "output_type": "stream",
       "stream": "stdout",
       "text": [
        " Crepevine 45bcbb04f964a52004421fe3\n",
        "56039"
       ]
      },
      {
       "output_type": "stream",
       "stream": "stdout",
       "text": [
        " Osteria Coppa 4c6e03bb4d24b60c43c5d7d8\n",
        "56040"
       ]
      },
      {
       "output_type": "stream",
       "stream": "stdout",
       "text": [
        " Katy's Kreek 4aad3203f964a520f25e20e3\n",
        "56041"
       ]
      },
      {
       "output_type": "stream",
       "stream": "stdout",
       "text": [
        " John's Grill 49c7dba5f964a520c8571fe3\n",
        "56042"
       ]
      },
      {
       "output_type": "stream",
       "stream": "stdout",
       "text": [
        " Poesia 49cbcc2bf964a5201c591fe3\n",
        "56043"
       ]
      },
      {
       "output_type": "stream",
       "stream": "stdout",
       "text": [
        " Daimo 4a76272ff964a52068e21fe3\n",
        "56044"
       ]
      },
      {
       "output_type": "stream",
       "stream": "stdout",
       "text": [
        " Slim's 40c3b000f964a520e6001fe3\n",
        "56045"
       ]
      },
      {
       "output_type": "stream",
       "stream": "stdout",
       "text": [
        " Sodini's Green Valley Restaurant 43a97e8ef964a5207c2c1fe3\n",
        "56046"
       ]
      },
      {
       "output_type": "stream",
       "stream": "stdout",
       "text": [
        " Toto's Pizzeria 4a8f74b3f964a520541520e3\n",
        "56047"
       ]
      },
      {
       "output_type": "stream",
       "stream": "stdout",
       "text": [
        " Nook 4469efecf964a52053331fe3\n",
        "56048"
       ]
      },
      {
       "output_type": "stream",
       "stream": "stdout",
       "text": [
        " Loving Hut 4a1f3e49f964a520147c1fe3\n",
        "56049"
       ]
      },
      {
       "output_type": "stream",
       "stream": "stdout",
       "text": [
        " Punch Line 49f168eef964a520aa691fe3\n",
        "56050"
       ]
      },
      {
       "output_type": "stream",
       "stream": "stdout",
       "text": [
        " The Old Siam 4b6128c3f964a520850b2ae3\n",
        "56051"
       ]
      },
      {
       "output_type": "stream",
       "stream": "stdout",
       "text": [
        " Beach Blanket Babylon 4abee430f964a520709020e3\n",
        "56052"
       ]
      },
      {
       "output_type": "stream",
       "stream": "stdout",
       "text": [
        " A La Turca Restaurant 4a6cc33df964a52091d11fe3\n",
        "56053"
       ]
      },
      {
       "output_type": "stream",
       "stream": "stdout",
       "text": [
        " Faultline Brewing Company 40958b80f964a520e8f21ee3\n",
        "56054"
       ]
      },
      {
       "output_type": "stream",
       "stream": "stdout",
       "text": [
        " Red Robin Gourmet Burgers 4827696af964a520aa4f1fe3\n",
        "56055"
       ]
      },
      {
       "output_type": "stream",
       "stream": "stdout",
       "text": [
        " Caffe Strada 464793ebf964a5209c461fe3\n",
        "56056"
       ]
      },
      {
       "output_type": "stream",
       "stream": "stdout",
       "text": [
        " The Grand None\n",
        "56057"
       ]
      },
      {
       "output_type": "stream",
       "stream": "stdout",
       "text": [
        " H\u00f4tel Biron 43fb0c0ef964a520df2f1fe3\n",
        "56058"
       ]
      },
      {
       "output_type": "stream",
       "stream": "stdout",
       "text": [
        " Donato Enoteca 4b174bf6f964a520a3c423e3\n",
        "56059"
       ]
      },
      {
       "output_type": "stream",
       "stream": "stdout",
       "text": [
        " Daiso Japan 45b4ea85f964a520b4411fe3\n",
        "56060"
       ]
      },
      {
       "output_type": "stream",
       "stream": "stdout",
       "text": [
        " Alice's Restaurant 4a5a6f55f964a52052ba1fe3\n",
        "56061"
       ]
      },
      {
       "output_type": "stream",
       "stream": "stdout",
       "text": [
        " Squat & Gobble Cafe & Crepery 442ebdeff964a520de311fe3\n",
        "56062"
       ]
      },
      {
       "output_type": "stream",
       "stream": "stdout",
       "text": [
        " So Gong Dong Tofu House 4b381724f964a5207a4b25e3\n",
        "56063"
       ]
      },
      {
       "output_type": "stream",
       "stream": "stdout",
       "text": [
        " La Pinata Restaurant 4b275140f964a520d98524e3\n",
        "56064"
       ]
      },
      {
       "output_type": "stream",
       "stream": "stdout",
       "text": [
        " Orphan Andy's 40870b00f964a520abf21ee3\n",
        "56065"
       ]
      },
      {
       "output_type": "stream",
       "stream": "stdout",
       "text": [
        " Coi 49daac09f964a520a25e1fe3\n",
        "56066"
       ]
      },
      {
       "output_type": "stream",
       "stream": "stdout",
       "text": [
        " YakiniQ BBQ 4c3bf1c77d00d13afc563850\n",
        "56067"
       ]
      },
      {
       "output_type": "stream",
       "stream": "stdout",
       "text": [
        " Bloodhound 49c42f96f964a520a6561fe3\n",
        "56068"
       ]
      },
      {
       "output_type": "stream",
       "stream": "stdout",
       "text": [
        " The Fish Market 4a821f2cf964a520adf81fe3\n",
        "56069"
       ]
      },
      {
       "output_type": "stream",
       "stream": "stdout",
       "text": [
        " Gordo Taqueria 4a062117f964a520bb721fe3\n",
        "56070"
       ]
      },
      {
       "output_type": "stream",
       "stream": "stdout",
       "text": [
        " Elixir 50ec77bb19a92ef6c74490a2\n",
        "56071"
       ]
      },
      {
       "output_type": "stream",
       "stream": "stdout",
       "text": [
        " Madras Cafe 4a96e6dcf964a520742720e3\n",
        "56072"
       ]
      },
      {
       "output_type": "stream",
       "stream": "stdout",
       "text": [
        " Bill's Place 3fd66200f964a520d5ec1ee3\n",
        "56073"
       ]
      },
      {
       "output_type": "stream",
       "stream": "stdout",
       "text": [
        " Regalito Rosticeria 4a0e30faf964a520d0751fe3\n",
        "56074"
       ]
      },
      {
       "output_type": "stream",
       "stream": "stdout",
       "text": [
        " SF Badlands 40ca4780f964a52008011fe3\n",
        "56075"
       ]
      },
      {
       "output_type": "stream",
       "stream": "stdout",
       "text": [
        " Pluto's 4293c000f964a5202f241fe3\n",
        "56076"
       ]
      },
      {
       "output_type": "stream",
       "stream": "stdout",
       "text": [
        " The Liberty Cafe 3fd66200f964a5209eec1ee3\n",
        "56077"
       ]
      },
      {
       "output_type": "stream",
       "stream": "stdout",
       "text": [
        " Taqueria Los Pericos 4b033f91f964a520ee4d22e3\n",
        "56078"
       ]
      },
      {
       "output_type": "stream",
       "stream": "stdout",
       "text": [
        " Townhouse Bar & Grill 4a6fd182f964a52007d71fe3\n",
        "56079"
       ]
      },
      {
       "output_type": "stream",
       "stream": "stdout",
       "text": [
        " CREDO Mobile None\n",
        "56080"
       ]
      },
      {
       "output_type": "stream",
       "stream": "stdout",
       "text": [
        " Cam Hung 4ae894f0f964a5209ab021e3\n",
        "56081"
       ]
      },
      {
       "output_type": "stream",
       "stream": "stdout",
       "text": [
        " Bombay Garden 4a48fa0ff964a520e0aa1fe3\n",
        "56082"
       ]
      },
      {
       "output_type": "stream",
       "stream": "stdout",
       "text": [
        " Shiva's Indian Restaurant 4c184c03838020a1b913e461\n",
        "56083"
       ]
      },
      {
       "output_type": "stream",
       "stream": "stdout",
       "text": [
        " Kukje Super Market 4a6df473f964a5206ad31fe3\n",
        "56084"
       ]
      },
      {
       "output_type": "stream",
       "stream": "stdout",
       "text": [
        " Firehouse Grill and Brewery 49e926d5f964a520d2651fe3\n",
        "56085"
       ]
      },
      {
       "output_type": "stream",
       "stream": "stdout",
       "text": [
        " Casanova Lounge 3fd66200f964a5201ef11ee3\n",
        "56086"
       ]
      },
      {
       "output_type": "stream",
       "stream": "stdout",
       "text": [
        " WISH 40a2ba80f964a52004f31ee3\n",
        "56087"
       ]
      },
      {
       "output_type": "stream",
       "stream": "stdout",
       "text": [
        " Nombe 4b21d125f964a520b04124e3\n",
        "56088"
       ]
      },
      {
       "output_type": "stream",
       "stream": "stdout",
       "text": [
        " Sushi Rock 3fd66200f964a520afed1ee3\n",
        "56089"
       ]
      },
      {
       "output_type": "stream",
       "stream": "stdout",
       "text": [
        " Barney's Gourmet Hamburgers 4a2b22ecf964a520a9961fe3\n",
        "56090"
       ]
      },
      {
       "output_type": "stream",
       "stream": "stdout",
       "text": [
        " Lynn & Lu's Escapade Cafe 4a465ab5f964a520bba81fe3\n",
        "56091"
       ]
      },
      {
       "output_type": "stream",
       "stream": "stdout",
       "text": [
        " Little Lucca Sandwich Shop 4a7b26a5f964a52022ea1fe3\n",
        "56092"
       ]
      },
      {
       "output_type": "stream",
       "stream": "stdout",
       "text": [
        " Dinosaurs 4c393e38dfb0e21e2a3ab0a8\n",
        "56093"
       ]
      },
      {
       "output_type": "stream",
       "stream": "stdout",
       "text": [
        " Rok 4aac5c17f964a5209e5d20e3\n",
        "56094"
       ]
      },
      {
       "output_type": "stream",
       "stream": "stdout",
       "text": [
        " Volcano 49f2b815f964a520626a1fe3\n",
        "56095"
       ]
      },
      {
       "output_type": "stream",
       "stream": "stdout",
       "text": [
        " Mama's Royal Cafe 49fca311f964a520c56e1fe3\n",
        "56096"
       ]
      },
      {
       "output_type": "stream",
       "stream": "stdout",
       "text": [
        " FIVE None\n",
        "56097"
       ]
      },
      {
       "output_type": "stream",
       "stream": "stdout",
       "text": [
        " The Chieftain Irish Pub & Restaurant 42717900f964a5206a211fe3\n",
        "56098"
       ]
      },
      {
       "output_type": "stream",
       "stream": "stdout",
       "text": [
        " Steins Beer Garden 51390182e4b0e19609597bb2\n",
        "56099"
       ]
      },
      {
       "output_type": "stream",
       "stream": "stdout",
       "text": [
        " La Boulange de Pine 4a579b5ef964a52074b61fe3\n",
        "56100"
       ]
      },
      {
       "output_type": "stream",
       "stream": "stdout",
       "text": [
        " Benu 4c5502e5f5f3d13a1a7f0afb\n",
        "56101"
       ]
      },
      {
       "output_type": "stream",
       "stream": "stdout",
       "text": [
        " Brick Pig's House 4a81bf72f964a52071f71fe3\n",
        "56102"
       ]
      },
      {
       "output_type": "stream",
       "stream": "stdout",
       "text": [
        " BJ's Restaurant & Brewhouse 4ae28e57f964a520fd8e21e3\n",
        "56103"
       ]
      },
      {
       "output_type": "stream",
       "stream": "stdout",
       "text": [
        " Shalala 4cffe9a0f7b38cfa9f19ccc3\n",
        "56104"
       ]
      },
      {
       "output_type": "stream",
       "stream": "stdout",
       "text": [
        " GS Riverside BBQ 49f358fdf964a5208f6a1fe3\n",
        "56105"
       ]
      },
      {
       "output_type": "stream",
       "stream": "stdout",
       "text": [
        " Beer Revolution 4b318256f964a520300825e3\n",
        "56106"
       ]
      },
      {
       "output_type": "stream",
       "stream": "stdout",
       "text": [
        " China Palace Restaurant 4a6ac2d0f964a520e2cd1fe3\n",
        "56107"
       ]
      },
      {
       "output_type": "stream",
       "stream": "stdout",
       "text": [
        " City Beer Store 45587735f964a520443d1fe3\n",
        "56108"
       ]
      },
      {
       "output_type": "stream",
       "stream": "stdout",
       "text": [
        " Daily Grill 44be789af964a520a4351fe3\n",
        "56109"
       ]
      },
      {
       "output_type": "stream",
       "stream": "stdout",
       "text": [
        " Salang Pass Restaurant 4aff747cf964a520bf3822e3\n",
        "56110"
       ]
      },
      {
       "output_type": "stream",
       "stream": "stdout",
       "text": [
        " Grub 4c63a04aeb82d13aaa6c08d6\n",
        "56111"
       ]
      },
      {
       "output_type": "stream",
       "stream": "stdout",
       "text": [
        " Yancy's Saloon 3fd66200f964a52020f11ee3\n",
        "56112"
       ]
      },
      {
       "output_type": "stream",
       "stream": "stdout",
       "text": [
        " Pasquale's Pizza 3fd66200f964a5202af11ee3\n",
        "56113"
       ]
      },
      {
       "output_type": "stream",
       "stream": "stdout",
       "text": [
        " Ajisen Ramen 4c1d3a5f63750f4746ebb767\n",
        "56114"
       ]
      },
      {
       "output_type": "stream",
       "stream": "stdout",
       "text": [
        " Kunjip Restaurant 4aeb99dbf964a520adc321e3\n",
        "56115"
       ]
      },
      {
       "output_type": "stream",
       "stream": "stdout",
       "text": [
        " Kincaid's 4a7b85e7f964a52049eb1fe3\n",
        "56116"
       ]
      },
      {
       "output_type": "stream",
       "stream": "stdout",
       "text": [
        " King of Thai Noodle House No 2 3fd66200f964a520f9ec1ee3\n",
        "56117"
       ]
      },
      {
       "output_type": "stream",
       "stream": "stdout",
       "text": [
        " Good Noodle Restaurant 49f3872cf964a520b16a1fe3\n",
        "56118"
       ]
      },
      {
       "output_type": "stream",
       "stream": "stdout",
       "text": [
        " Pamplemousse Patisserie Et Cafe 49edee30f964a52003681fe3\n",
        "56119"
       ]
      },
      {
       "output_type": "stream",
       "stream": "stdout",
       "text": [
        " Ajisen Ramen 4c228972fbe5c9b6ed0e9a21\n",
        "56120"
       ]
      },
      {
       "output_type": "stream",
       "stream": "stdout",
       "text": [
        " The Fat Lady 3fd66200f964a520bcec1ee3\n",
        "56121"
       ]
      },
      {
       "output_type": "stream",
       "stream": "stdout",
       "text": [
        " Assab Eritrean Restaurant 47a101e7f964a520764d1fe3\n",
        "56122"
       ]
      },
      {
       "output_type": "stream",
       "stream": "stdout",
       "text": [
        " Paris Baguette 4e7ac120ae60a0e3b07026f4\n",
        "56123"
       ]
      },
      {
       "output_type": "stream",
       "stream": "stdout",
       "text": [
        " Ristorante Milano 42b21280f964a5206f251fe3\n",
        "56124"
       ]
      },
      {
       "output_type": "stream",
       "stream": "stdout",
       "text": [
        " Eric's Restaurant 4ab46c28f964a5202c7120e3\n",
        "56125"
       ]
      },
      {
       "output_type": "stream",
       "stream": "stdout",
       "text": [
        " Taste of the Himalayas 4a725feaf964a520f7da1fe3\n",
        "56126"
       ]
      },
      {
       "output_type": "stream",
       "stream": "stdout",
       "text": [
        " Cafe Divine 44cc9c16f964a52011361fe3\n",
        "56127"
       ]
      },
      {
       "output_type": "stream",
       "stream": "stdout",
       "text": [
        " Jasper's Corner Tap 4e2b2cade4cd3bc166929328\n",
        "56128"
       ]
      },
      {
       "output_type": "stream",
       "stream": "stdout",
       "text": [
        " Fil-Am Cuisine 4adba6f4f964a520c72921e3\n",
        "56129"
       ]
      },
      {
       "output_type": "stream",
       "stream": "stdout",
       "text": [
        " Tomatina 4b15f25af964a520efb523e3\n",
        "56130"
       ]
      },
      {
       "output_type": "stream",
       "stream": "stdout",
       "text": [
        " Martins West Gastropub 4a31abd6f964a5200f9a1fe3\n",
        "56131"
       ]
      },
      {
       "output_type": "stream",
       "stream": "stdout",
       "text": [
        " Parada 22 4bc3a2f974a9a5931edad4f6\n",
        "56132"
       ]
      },
      {
       "output_type": "stream",
       "stream": "stdout",
       "text": [
        " Nara Sushi 44c51d02f964a520d1351fe3\n",
        "56133"
       ]
      },
      {
       "output_type": "stream",
       "stream": "stdout",
       "text": [
        " Hawker Fare 4dc4c080fa76d685cdcfe8fd\n",
        "56134"
       ]
      },
      {
       "output_type": "stream",
       "stream": "stdout",
       "text": [
        " Sushi Time 43d569acf964a520442e1fe3\n",
        "56135"
       ]
      },
      {
       "output_type": "stream",
       "stream": "stdout",
       "text": [
        " Bar Jules 49e4bb5cf964a52020631fe3\n",
        "56136"
       ]
      },
      {
       "output_type": "stream",
       "stream": "stdout",
       "text": [
        " Jillian's 4089ae00f964a520bef21ee3\n",
        "56137"
       ]
      },
      {
       "output_type": "stream",
       "stream": "stdout",
       "text": [
        " Barney's Gourmet Hamburgers 49f4c7e4f964a520526b1fe3\n",
        "56138"
       ]
      },
      {
       "output_type": "stream",
       "stream": "stdout",
       "text": [
        " Pomelo 42210d80f964a520a91f1fe3\n",
        "56139"
       ]
      },
      {
       "output_type": "stream",
       "stream": "stdout",
       "text": [
        " Kara's Cupcakes 4a072900f964a5202e731fe3\n",
        "56140"
       ]
      },
      {
       "output_type": "stream",
       "stream": "stdout",
       "text": [
        " Atlas Cafe 4085b980f964a5208bf21ee3\n",
        "56141"
       ]
      },
      {
       "output_type": "stream",
       "stream": "stdout",
       "text": [
        " The Vine 4ee5040b991194490196c4ae\n",
        "56142"
       ]
      },
      {
       "output_type": "stream",
       "stream": "stdout",
       "text": [
        " Uncle Vito's Pizza 43810e00f964a520e12a1fe3\n",
        "56143"
       ]
      },
      {
       "output_type": "stream",
       "stream": "stdout",
       "text": [
        " Tuk Tuk Thai Cafe 43334580f964a5200f281fe3\n",
        "56144"
       ]
      },
      {
       "output_type": "stream",
       "stream": "stdout",
       "text": [
        " Coriander Gourmet Thai 4a49859ff964a52068ab1fe3\n",
        "56145"
       ]
      },
      {
       "output_type": "stream",
       "stream": "stdout",
       "text": [
        " Brainwash Cafe & Laundromat None\n",
        "56146"
       ]
      },
      {
       "output_type": "stream",
       "stream": "stdout",
       "text": [
        " Helmand Palace 4a73b450f964a5203fdd1fe3\n",
        "56147"
       ]
      },
      {
       "output_type": "stream",
       "stream": "stdout",
       "text": [
        " Miss SaiGon 4a0665bbf964a520f3721fe3\n",
        "56148"
       ]
      },
      {
       "output_type": "stream",
       "stream": "stdout",
       "text": [
        " Pedros Restaurant & Cantina 466bfdecf964a520ae471fe3\n",
        "56149"
       ]
      },
      {
       "output_type": "stream",
       "stream": "stdout",
       "text": [
        " Tomodachi Sushi Bistro 4b32e233f964a5208b1525e3\n",
        "56150"
       ]
      },
      {
       "output_type": "stream",
       "stream": "stdout",
       "text": [
        " Gioia Pizzeria 4a75d345f964a5205de11fe3\n",
        "56151"
       ]
      },
      {
       "output_type": "stream",
       "stream": "stdout",
       "text": [
        " Rose International Market 4a0df9d2f964a520b5751fe3\n",
        "56152"
       ]
      },
      {
       "output_type": "stream",
       "stream": "stdout",
       "text": [
        " Jeremy's 49fc9f92f964a520c06e1fe3\n",
        "56153"
       ]
      },
      {
       "output_type": "stream",
       "stream": "stdout",
       "text": [
        " Dragon Rouge 4a876762f964a5203c0420e3\n",
        "56154"
       ]
      },
      {
       "output_type": "stream",
       "stream": "stdout",
       "text": [
        " Mi Lindo Per\u00fa 4a08e999f964a52025741fe3\n",
        "56155"
       ]
      },
      {
       "output_type": "stream",
       "stream": "stdout",
       "text": [
        " Queen House 4a611dc8f964a520eac11fe3\n",
        "56156"
       ]
      },
      {
       "output_type": "stream",
       "stream": "stdout",
       "text": [
        " Zanze's Cheesecake 4b6cbea9f964a5201d512ce3\n",
        "56157"
       ]
      },
      {
       "output_type": "stream",
       "stream": "stdout",
       "text": [
        " Nation's Giant Hamburgers 4b28b6a5f964a520c99424e3\n",
        "56158"
       ]
      },
      {
       "output_type": "stream",
       "stream": "stdout",
       "text": [
        " Market Broiler 4c5b60fd6147be9aaa9e8c09\n",
        "56159"
       ]
      },
      {
       "output_type": "stream",
       "stream": "stdout",
       "text": [
        " Alana's Cafe 4aa2a63af964a520034220e3\n",
        "56160"
       ]
      },
      {
       "output_type": "stream",
       "stream": "stdout",
       "text": [
        " Flemings Prime Steakhouse & Wine Bar 4b08bc25f964a5209c1123e3\n",
        "56161"
       ]
      },
      {
       "output_type": "stream",
       "stream": "stdout",
       "text": [
        " Squat & Gobble Cafe & Crepery 4a997ee9f964a520a42e20e3\n",
        "56162"
       ]
      },
      {
       "output_type": "stream",
       "stream": "stdout",
       "text": [
        " Sidebar 49f8bd03f964a5201b6d1fe3\n",
        "56163"
       ]
      },
      {
       "output_type": "stream",
       "stream": "stdout",
       "text": [
        " Lion Pub 42926e80f964a52025241fe3\n",
        "56164"
       ]
      },
      {
       "output_type": "stream",
       "stream": "stdout",
       "text": [
        " Joy Luck Palace None\n",
        "56165"
       ]
      },
      {
       "output_type": "stream",
       "stream": "stdout",
       "text": [
        " Rivoli Restaurant 46aa9130f964a52064491fe3\n",
        "56166"
       ]
      },
      {
       "output_type": "stream",
       "stream": "stdout",
       "text": [
        " The View None\n",
        "56167"
       ]
      },
      {
       "output_type": "stream",
       "stream": "stdout",
       "text": [
        " Comstock Saloon None\n",
        "56168"
       ]
      },
      {
       "output_type": "stream",
       "stream": "stdout",
       "text": [
        " Cooking Papa Restaurant 4e39fbf2aeb7ec6702883249\n",
        "56169"
       ]
      },
      {
       "output_type": "stream",
       "stream": "stdout",
       "text": [
        " Annabelle's Bar & Bistro 41c76780f964a520961e1fe3\n",
        "56170"
       ]
      },
      {
       "output_type": "stream",
       "stream": "stdout",
       "text": [
        " The Milk Pail Market 4a2c7b1af964a52069971fe3\n",
        "56171"
       ]
      },
      {
       "output_type": "stream",
       "stream": "stdout",
       "text": [
        " Falafel, Etc. 4af6181bf964a520180122e3\n",
        "56172"
       ]
      },
      {
       "output_type": "stream",
       "stream": "stdout",
       "text": [
        " Three Seasons 445a7fbff964a520e6321fe3\n",
        "56173"
       ]
      },
      {
       "output_type": "stream",
       "stream": "stdout",
       "text": [
        " El Farolito 4a206042f964a520757c1fe3\n",
        "56174"
       ]
      },
      {
       "output_type": "stream",
       "stream": "stdout",
       "text": [
        " Yogurt Park 46521c11f964a520e7461fe3\n",
        "56175"
       ]
      },
      {
       "output_type": "stream",
       "stream": "stdout",
       "text": [
        " Poggio 4a7f3527f964a52045f31fe3\n",
        "56176"
       ]
      },
      {
       "output_type": "stream",
       "stream": "stdout",
       "text": [
        " Z & Y Restaurant 4bf20c757077952137a63e7c\n",
        "56177"
       ]
      },
      {
       "output_type": "stream",
       "stream": "stdout",
       "text": [
        " Bullshead Restaurant 4ad808d5f964a520981021e3\n",
        "56178"
       ]
      },
      {
       "output_type": "stream",
       "stream": "stdout",
       "text": [
        " Zabu Zabu 4a5aab32f964a520bcba1fe3\n",
        "56179"
       ]
      },
      {
       "output_type": "stream",
       "stream": "stdout",
       "text": [
        " Alegrias 49baf390f964a520ca531fe3\n",
        "56180"
       ]
      },
      {
       "output_type": "stream",
       "stream": "stdout",
       "text": [
        " Saravanaa Bhavan 458e49d4f964a52011401fe3\n",
        "56181"
       ]
      },
      {
       "output_type": "stream",
       "stream": "stdout",
       "text": [
        " Hobson's Choice 3fd66200f964a52065ed1ee3\n",
        "56182"
       ]
      },
      {
       "output_type": "stream",
       "stream": "stdout",
       "text": [
        " The Cheese Board 46aa8f98f964a52062491fe3\n",
        "56183"
       ]
      },
      {
       "output_type": "stream",
       "stream": "stdout",
       "text": [
        " H&M None\n",
        "56184"
       ]
      },
      {
       "output_type": "stream",
       "stream": "stdout",
       "text": [
        " Shabu House 4b319ad0f964a5209e0925e3\n",
        "56185"
       ]
      },
      {
       "output_type": "stream",
       "stream": "stdout",
       "text": [
        " Social Kitchen & Brewery 4bcca8390687ef3bc0a6dfcc\n",
        "56186"
       ]
      },
      {
       "output_type": "stream",
       "stream": "stdout",
       "text": [
        " DNA Lounge 3fd66200f964a52029f11ee3\n",
        "56187"
       ]
      },
      {
       "output_type": "stream",
       "stream": "stdout",
       "text": [
        " The Cigar Bar & Grill None\n",
        "56188"
       ]
      },
      {
       "output_type": "stream",
       "stream": "stdout",
       "text": [
        " Radius - San Francisco 4b92905af964a520b30434e3\n",
        "56189"
       ]
      },
      {
       "output_type": "stream",
       "stream": "stdout",
       "text": [
        " Blue Danube Coffee House 43bda7ccf964a5200a2d1fe3\n",
        "56190"
       ]
      },
      {
       "output_type": "stream",
       "stream": "stdout",
       "text": [
        " El Burrito Express 4ab96dc7f964a520587f20e3\n",
        "56191"
       ]
      },
      {
       "output_type": "stream",
       "stream": "stdout",
       "text": [
        " Turtle Tower 49d27124f964a520ab5b1fe3\n",
        "56192"
       ]
      },
      {
       "output_type": "stream",
       "stream": "stdout",
       "text": [
        " Nordstrom Cafe Bistro 4ac907c6f964a52026be20e3\n",
        "56193"
       ]
      },
      {
       "output_type": "stream",
       "stream": "stdout",
       "text": [
        " Eddie Papa's 4ad62824f964a520690521e3\n",
        "56194"
       ]
      },
      {
       "output_type": "stream",
       "stream": "stdout",
       "text": [
        " Blue Barn Gourmet 4a0b8ce1f964a52000751fe3\n",
        "56195"
       ]
      },
      {
       "output_type": "stream",
       "stream": "stdout",
       "text": [
        " Halu 4a865e24f964a520fe0020e3\n",
        "56196"
       ]
      },
      {
       "output_type": "stream",
       "stream": "stdout",
       "text": [
        " Body Manipulations 47f64fadf964a520aa4e1fe3\n",
        "56197"
       ]
      },
      {
       "output_type": "stream",
       "stream": "stdout",
       "text": [
        " Ramen Parlor 4e8767ee2c5bafd664fc1e82\n",
        "56198"
       ]
      },
      {
       "output_type": "stream",
       "stream": "stdout",
       "text": [
        " La Boulange de Hayes 475ab983f964a520d24c1fe3\n",
        "56199"
       ]
      },
      {
       "output_type": "stream",
       "stream": "stdout",
       "text": [
        " Town's End Restaurant & Bakery 46b9027ef964a520ca491fe3\n",
        "56200"
       ]
      },
      {
       "output_type": "stream",
       "stream": "stdout",
       "text": [
        " The Village Pub 43b40d12f964a520b62c1fe3\n",
        "56201"
       ]
      },
      {
       "output_type": "stream",
       "stream": "stdout",
       "text": [
        " Locanda 4db22d538154f5a745d9c093\n",
        "56202"
       ]
      },
      {
       "output_type": "stream",
       "stream": "stdout",
       "text": [
        " Sasa Restaurant 4bca8e73b6c49c74dfdf9091\n",
        "56203"
       ]
      },
      {
       "output_type": "stream",
       "stream": "stdout",
       "text": [
        " B Restaurant & Bar 4b62377ff964a520c53c2ae3\n",
        "56204"
       ]
      },
      {
       "output_type": "stream",
       "stream": "stdout",
       "text": [
        " Pasta Moon 457352c2f964a520873e1fe3\n",
        "56205"
       ]
      },
      {
       "output_type": "stream",
       "stream": "stdout",
       "text": [
        " The Hidden Vine 42926e80f964a52021241fe3\n",
        "56206"
       ]
      },
      {
       "output_type": "stream",
       "stream": "stdout",
       "text": [
        " Cafe Venetia 4a067430f964a520f8721fe3\n",
        "56207"
       ]
      },
      {
       "output_type": "stream",
       "stream": "stdout",
       "text": [
        " Joanie's Caf\u00e9 4a2023f8f964a5204e7c1fe3\n",
        "56208"
       ]
      },
      {
       "output_type": "stream",
       "stream": "stdout",
       "text": [
        " Piperade 4411a710f964a520cc301fe3\n",
        "56209"
       ]
      },
      {
       "output_type": "stream",
       "stream": "stdout",
       "text": [
        " Commis 4a62552cf964a520cac31fe3\n",
        "56210"
       ]
      },
      {
       "output_type": "stream",
       "stream": "stdout",
       "text": [
        " MoMo's 3fd66200f964a520bbec1ee3\n",
        "56211"
       ]
      },
      {
       "output_type": "stream",
       "stream": "stdout",
       "text": [
        " Bar None 42a39200f964a520ec241fe3\n",
        "56212"
       ]
      },
      {
       "output_type": "stream",
       "stream": "stdout",
       "text": [
        " Don Pico's Mexican Bistro & Cevicheria 49f4c403f964a5204d6b1fe3\n",
        "56213"
       ]
      },
      {
       "output_type": "stream",
       "stream": "stdout",
       "text": [
        " Umami Burger 514121e2e4b05feaa46fbdd5\n",
        "56214"
       ]
      },
      {
       "output_type": "stream",
       "stream": "stdout",
       "text": [
        " Taraval Okazu Ya Restaurant 4a750e56f964a5206ae01fe3\n",
        "56215"
       ]
      },
      {
       "output_type": "stream",
       "stream": "stdout",
       "text": [
        " Trouble Coffee Company None\n",
        "56216"
       ]
      },
      {
       "output_type": "stream",
       "stream": "stdout",
       "text": [
        " Devil's Teeth Baking Company 4db0bc8e0437a93f7f7a23e7\n",
        "56217"
       ]
      },
      {
       "output_type": "stream",
       "stream": "stdout",
       "text": [
        " Saffron Indian Bistro 4ae3aeb0f964a5201b9821e3\n",
        "56218"
       ]
      },
      {
       "output_type": "stream",
       "stream": "stdout",
       "text": [
        " Nijiya Market 49c3dfb3f964a52082561fe3\n",
        "56219"
       ]
      },
      {
       "output_type": "stream",
       "stream": "stdout",
       "text": [
        " Ghirardelli Square None\n",
        "56220"
       ]
      },
      {
       "output_type": "stream",
       "stream": "stdout",
       "text": [
        " Aux Delices Vietnamese Restaurant 44d8d38df964a5207b361fe3\n",
        "56221"
       ]
      },
      {
       "output_type": "stream",
       "stream": "stdout",
       "text": [
        " The Phoenix Bar & Irish Gathering House 417ee500f964a520d51d1fe3\n",
        "56222"
       ]
      },
      {
       "output_type": "stream",
       "stream": "stdout",
       "text": [
        " KoJa Kitchen 4eb03861754a67f6629928a8\n",
        "56223"
       ]
      },
      {
       "output_type": "stream",
       "stream": "stdout",
       "text": [
        " Old Jerusalem Restaurant 4a721f10f964a52069da1fe3\n",
        "56224"
       ]
      },
      {
       "output_type": "stream",
       "stream": "stdout",
       "text": [
        " Gerry's Grill and Bar 4b39181af964a5200b5625e3\n",
        "56225"
       ]
      },
      {
       "output_type": "stream",
       "stream": "stdout",
       "text": [
        " Beauty Bar 40870b00f964a52098f21ee3\n",
        "56226"
       ]
      },
      {
       "output_type": "stream",
       "stream": "stdout",
       "text": [
        " St. George Spirits 480b6670f964a5201c4f1fe3\n",
        "56227"
       ]
      },
      {
       "output_type": "stream",
       "stream": "stdout",
       "text": [
        " The Cheesecake Factory 43f8f151f964a520cd2f1fe3\n",
        "56228"
       ]
      },
      {
       "output_type": "stream",
       "stream": "stdout",
       "text": [
        " Rangoon Ruby 4fea8b89e4b043a2b4badf3c\n",
        "56229"
       ]
      },
      {
       "output_type": "stream",
       "stream": "stdout",
       "text": [
        " Golden Lotus Vegetarian Restaurant 49cebb1bf964a520785a1fe3\n",
        "56230"
       ]
      },
      {
       "output_type": "stream",
       "stream": "stdout",
       "text": [
        " Wexler's 4a43b775f964a520b6a61fe3\n",
        "56231"
       ]
      },
      {
       "output_type": "stream",
       "stream": "stdout",
       "text": [
        " Mas Sake 45df6218f964a5201a431fe3\n",
        "56232"
       ]
      },
      {
       "output_type": "stream",
       "stream": "stdout",
       "text": [
        " Fuki Sushi 454b2533f964a520aa3c1fe3\n",
        "56233"
       ]
      },
      {
       "output_type": "stream",
       "stream": "stdout",
       "text": [
        " El Toreador None\n",
        "56234"
       ]
      },
      {
       "output_type": "stream",
       "stream": "stdout",
       "text": [
        " Perilla None\n",
        "56235"
       ]
      },
      {
       "output_type": "stream",
       "stream": "stdout",
       "text": [
        " Lanesplitter Pizza & Pubs 4646f19ef964a52094461fe3\n",
        "56236"
       ]
      },
      {
       "output_type": "stream",
       "stream": "stdout",
       "text": [
        " Habanas Cuban Cuisine 4b8b16b9f964a520569232e3\n",
        "56237"
       ]
      },
      {
       "output_type": "stream",
       "stream": "stdout",
       "text": [
        " Shalizaar 4a973fd5f964a520152920e3\n",
        "56238"
       ]
      },
      {
       "output_type": "stream",
       "stream": "stdout",
       "text": [
        " Whole Foods Market Franklin 46002d20f964a52093441fe3\n",
        "56239"
       ]
      },
      {
       "output_type": "stream",
       "stream": "stdout",
       "text": [
        " Oyaji Restaurant 4ace965df964a52053d120e3\n",
        "56240"
       ]
      },
      {
       "output_type": "stream",
       "stream": "stdout",
       "text": [
        " El Rio 40870b00f964a520a0f21ee3\n",
        "56241"
       ]
      },
      {
       "output_type": "stream",
       "stream": "stdout",
       "text": [
        " Fraiche 4ad7e9dff964a520051021e3\n",
        "56242"
       ]
      },
      {
       "output_type": "stream",
       "stream": "stdout",
       "text": [
        " Tied House Cafe & Brewery 46b8f26bf964a520c7491fe3\n",
        "56243"
       ]
      },
      {
       "output_type": "stream",
       "stream": "stdout",
       "text": [
        " Kowloon Tong Dessert Cafe 49fa6e19f964a520f96d1fe3\n",
        "56244"
       ]
      },
      {
       "output_type": "stream",
       "stream": "stdout",
       "text": [
        " Mediterranean Wraps 4a26dd28f964a520e77e1fe3\n",
        "56245"
       ]
      },
      {
       "output_type": "stream",
       "stream": "stdout",
       "text": [
        " Osteria 4bc76f5e0050b7135db1b83b\n",
        "56246"
       ]
      },
      {
       "output_type": "stream",
       "stream": "stdout",
       "text": [
        " Crossroads Cafe 40f86c00f964a520c30a1fe3\n",
        "56247"
       ]
      },
      {
       "output_type": "stream",
       "stream": "stdout",
       "text": [
        " Merritt Restaurant & Bakery None\n",
        "56248"
       ]
      },
      {
       "output_type": "stream",
       "stream": "stdout",
       "text": [
        " 83 Proof 47d7bd63f964a520254e1fe3\n",
        "56249"
       ]
      },
      {
       "output_type": "stream",
       "stream": "stdout",
       "text": [
        " Citizen's Band 4c3d1e3e933b0f47a414e521\n",
        "56250"
       ]
      },
      {
       "output_type": "stream",
       "stream": "stdout",
       "text": [
        " Domo 49ce86fff964a520515a1fe3\n",
        "56251"
       ]
      },
      {
       "output_type": "stream",
       "stream": "stdout",
       "text": [
        " Maria Maria 4b495255f964a520606d26e3\n",
        "56252"
       ]
      },
      {
       "output_type": "stream",
       "stream": "stdout",
       "text": [
        " Sens Restaurant None\n",
        "56253"
       ]
      },
      {
       "output_type": "stream",
       "stream": "stdout",
       "text": [
        " Dim Sum King 4bb254d2a32876b00f7500fe\n",
        "56254"
       ]
      },
      {
       "output_type": "stream",
       "stream": "stdout",
       "text": [
        " Belly Good Cafe & Crepes 444fa9e8f964a5209c321fe3\n",
        "56255"
       ]
      },
      {
       "output_type": "stream",
       "stream": "stdout",
       "text": [
        " Lush Lounge 4192ab80f964a520011e1fe3\n",
        "56256"
       ]
      },
      {
       "output_type": "stream",
       "stream": "stdout",
       "text": [
        " Rose Pistola 3fd66200f964a5201aed1ee3\n",
        "56257"
       ]
      },
      {
       "output_type": "stream",
       "stream": "stdout",
       "text": [
        " Hollywood Cafe None\n",
        "56258"
       ]
      },
      {
       "output_type": "stream",
       "stream": "stdout",
       "text": [
        " Cafe Chaat 42b21280f964a5206d251fe3\n",
        "56259"
       ]
      },
      {
       "output_type": "stream",
       "stream": "stdout",
       "text": [
        " Sports Basement 4551d7f6f964a520ec3c1fe3\n",
        "56260"
       ]
      },
      {
       "output_type": "stream",
       "stream": "stdout",
       "text": [
        " Big Lantern 44b95d22f964a52083351fe3\n",
        "56261"
       ]
      },
      {
       "output_type": "stream",
       "stream": "stdout",
       "text": [
        " Lee's Sandwiches 4a6f6f5cf964a52029d61fe3\n",
        "56262"
       ]
      },
      {
       "output_type": "stream",
       "stream": "stdout",
       "text": [
        " Sunny Bowl 4a5e4bebf964a52054be1fe3\n",
        "56263"
       ]
      },
      {
       "output_type": "stream",
       "stream": "stdout",
       "text": [
        " Kuletos 43d9e87ff964a520732e1fe3\n",
        "56264"
       ]
      },
      {
       "output_type": "stream",
       "stream": "stdout",
       "text": [
        " Cherry Sushi 4ab6deb5f964a5205b7920e3\n",
        "56265"
       ]
      },
      {
       "output_type": "stream",
       "stream": "stdout",
       "text": [
        " Tucker's Super Creamed Ice Cream 4645bd20f964a5207e461fe3\n",
        "56266"
       ]
      },
      {
       "output_type": "stream",
       "stream": "stdout",
       "text": [
        " Eats None\n",
        "56267"
       ]
      },
      {
       "output_type": "stream",
       "stream": "stdout",
       "text": [
        " Olive 435d7580f964a52016291fe3\n",
        "56268"
       ]
      },
      {
       "output_type": "stream",
       "stream": "stdout",
       "text": [
        " Sugar Butter Flour 49eddb9ff964a520fe671fe3\n",
        "56269"
       ]
      },
      {
       "output_type": "stream",
       "stream": "stdout",
       "text": [
        " Capannina 4a5c0897f964a5202abc1fe3\n",
        "56270"
       ]
      },
      {
       "output_type": "stream",
       "stream": "stdout",
       "text": [
        " Victor's Pizza 43e338dff964a520d92e1fe3\n",
        "56271"
       ]
      },
      {
       "output_type": "stream",
       "stream": "stdout",
       "text": [
        " Bistro Central Parc 4b63a759f964a520ee892ae3\n",
        "56272"
       ]
      },
      {
       "output_type": "stream",
       "stream": "stdout",
       "text": [
        " Wat Mongkolratanaram 4646efb9f964a52093461fe3\n",
        "56273"
       ]
      },
      {
       "output_type": "stream",
       "stream": "stdout",
       "text": [
        " Grand Cafe 4a1f6a4bf964a520297c1fe3\n",
        "56274"
       ]
      },
      {
       "output_type": "stream",
       "stream": "stdout",
       "text": [
        " Toast Eatery 454f45eef964a520d43c1fe3\n",
        "56275"
       ]
      },
      {
       "output_type": "stream",
       "stream": "stdout",
       "text": [
        " Miette 49d3cecef964a520195c1fe3\n",
        "56276"
       ]
      },
      {
       "output_type": "stream",
       "stream": "stdout",
       "text": [
        " Ruth's Chris Steak House 4b33d1fcf964a520db1f25e3\n",
        "56277"
       ]
      },
      {
       "output_type": "stream",
       "stream": "stdout",
       "text": [
        " Puccini & Pinetti 49d04b9cf964a5201b5b1fe3\n",
        "56278"
       ]
      },
      {
       "output_type": "stream",
       "stream": "stdout",
       "text": [
        " Hong Kong Flower Lounge 4b54bab3f964a5204cc927e3\n",
        "56279"
       ]
      },
      {
       "output_type": "stream",
       "stream": "stdout",
       "text": [
        " Bean Bag Cafe 43bc1889f964a520f72c1fe3\n",
        "56280"
       ]
      },
      {
       "output_type": "stream",
       "stream": "stdout",
       "text": [
        " Buckshot Bar and Gameroom 49bc416af964a52021541fe3\n",
        "56281"
       ]
      },
      {
       "output_type": "stream",
       "stream": "stdout",
       "text": [
        " Firenze by Night Ristorante 4ab1c8baf964a520906a20e3\n",
        "56282"
       ]
      },
      {
       "output_type": "stream",
       "stream": "stdout",
       "text": [
        " Bellanico Restaurant & Wine Bar 4a91da18f964a5201a1c20e3\n",
        "56283"
       ]
      },
      {
       "output_type": "stream",
       "stream": "stdout",
       "text": [
        " Shooting Star Cafe 4a723ab5f964a520a9da1fe3\n",
        "56284"
       ]
      },
      {
       "output_type": "stream",
       "stream": "stdout",
       "text": [
        " Craw Station None\n",
        "56285"
       ]
      },
      {
       "output_type": "stream",
       "stream": "stdout",
       "text": [
        " Creola 4bd793220b779c74be9305a0\n",
        "56286"
       ]
      },
      {
       "output_type": "stream",
       "stream": "stdout",
       "text": [
        " Burke Williams Day Spa None\n",
        "56287"
       ]
      },
      {
       "output_type": "stream",
       "stream": "stdout",
       "text": [
        " Cancun Taqueria 46c6f86bf964a520114a1fe3\n",
        "56288"
       ]
      },
      {
       "output_type": "stream",
       "stream": "stdout",
       "text": [
        " Panta Rei Restaurant 4a0e435df964a520dc751fe3\n",
        "56289"
       ]
      },
      {
       "output_type": "stream",
       "stream": "stdout",
       "text": [
        " Contigo 49c6bdfef964a52077571fe3\n",
        "56290"
       ]
      },
      {
       "output_type": "stream",
       "stream": "stdout",
       "text": [
        " Kincaid's 4b103574f964a5205c6b23e3\n",
        "56291"
       ]
      },
      {
       "output_type": "stream",
       "stream": "stdout",
       "text": [
        " Lucky 13 3fd66200f964a5203df11ee3\n",
        "56292"
       ]
      },
      {
       "output_type": "stream",
       "stream": "stdout",
       "text": [
        " Little Sheep Mongolian Hot Pot 4b36b58ff964a520163b25e3\n",
        "56293"
       ]
      },
      {
       "output_type": "stream",
       "stream": "stdout",
       "text": [
        " Flying Fish Bar & Grill 4a3069eaf964a52062991fe3\n",
        "56294"
       ]
      },
      {
       "output_type": "stream",
       "stream": "stdout",
       "text": [
        " Bar Cesar 4a7b71d8f964a5200eeb1fe3\n",
        "56295"
       ]
      },
      {
       "output_type": "stream",
       "stream": "stdout",
       "text": [
        " Ray's Crab Shack 4d8f6a26fa9437049ded19c6\n",
        "56296"
       ]
      },
      {
       "output_type": "stream",
       "stream": "stdout",
       "text": [
        " Benihana 4a7e4593f964a520a8f11fe3\n",
        "56297"
       ]
      },
      {
       "output_type": "stream",
       "stream": "stdout",
       "text": [
        " The Fly Trap 49d17c67f964a5208a5b1fe3\n",
        "56298"
       ]
      },
      {
       "output_type": "stream",
       "stream": "stdout",
       "text": [
        " Mona Lisa Restaurant 463df059f964a52040461fe3\n",
        "56299"
       ]
      },
      {
       "output_type": "stream",
       "stream": "stdout",
       "text": [
        " Tea Station 4aff948ef964a5209a3922e3\n",
        "56300"
       ]
      },
      {
       "output_type": "stream",
       "stream": "stdout",
       "text": [
        " Thaibodia 4b5bc891f964a520fc1529e3\n",
        "56301"
       ]
      },
      {
       "output_type": "stream",
       "stream": "stdout",
       "text": [
        " McCormick & Kuleto's 44d21e78f964a52039361fe3\n",
        "56302"
       ]
      },
      {
       "output_type": "stream",
       "stream": "stdout",
       "text": [
        " Kate's Kitchen 44e36c53f964a5203e371fe3\n",
        "56303"
       ]
      },
      {
       "output_type": "stream",
       "stream": "stdout",
       "text": [
        " Kitchen Story 50ab8755e4b0869279a80872\n",
        "56304"
       ]
      },
      {
       "output_type": "stream",
       "stream": "stdout",
       "text": [
        " Lolinda 50243fd229a61e4b21a26e16\n",
        "56305"
       ]
      },
      {
       "output_type": "stream",
       "stream": "stdout",
       "text": [
        " Dim Sum King 44070bdcf964a52048301fe3\n",
        "56306"
       ]
      },
      {
       "output_type": "stream",
       "stream": "stdout",
       "text": [
        " Pica Pica Maize Kitchen None\n",
        "56307"
       ]
      },
      {
       "output_type": "stream",
       "stream": "stdout",
       "text": [
        " Globe 45141974f964a520d4391fe3\n",
        "56308"
       ]
      },
      {
       "output_type": "stream",
       "stream": "stdout",
       "text": [
        " El Castillito 49c6c22bf964a5207a571fe3\n",
        "56309"
       ]
      },
      {
       "output_type": "stream",
       "stream": "stdout",
       "text": [
        " Icebee 49d7090df964a520195d1fe3\n",
        "56310"
       ]
      },
      {
       "output_type": "stream",
       "stream": "stdout",
       "text": [
        " Taqueria La Cumbre 4533c484f964a5208e3b1fe3\n",
        "56311"
       ]
      },
      {
       "output_type": "stream",
       "stream": "stdout",
       "text": [
        " Pazzia Restaurant & Pizzeria 435ec700f964a52021291fe3\n",
        "56312"
       ]
      },
      {
       "output_type": "stream",
       "stream": "stdout",
       "text": [
        " La Briciola 4a19b692f964a5203b7a1fe3\n",
        "56313"
       ]
      },
      {
       "output_type": "stream",
       "stream": "stdout",
       "text": [
        " Benkyodo Co. 4a22141ff964a5205c7d1fe3\n",
        "56314"
       ]
      },
      {
       "output_type": "stream",
       "stream": "stdout",
       "text": [
        " Olive Garden Italian Restaurant 46d715faf964a5206c4a1fe3\n",
        "56315"
       ]
      },
      {
       "output_type": "stream",
       "stream": "stdout",
       "text": [
        " Costco 43945018f964a5207f2b1fe3\n",
        "56316"
       ]
      },
      {
       "output_type": "stream",
       "stream": "stdout",
       "text": [
        " Rick & Ann's Restaurant 45bcbc2bf964a52005421fe3\n",
        "56317"
       ]
      },
      {
       "output_type": "stream",
       "stream": "stdout",
       "text": [
        " The Yellow Submarine 4a298355f964a5209f951fe3\n",
        "56318"
       ]
      },
      {
       "output_type": "stream",
       "stream": "stdout",
       "text": [
        " Sumiya Yakitori 4f44a63019836ed001958bd8\n",
        "56319"
       ]
      },
      {
       "output_type": "stream",
       "stream": "stdout",
       "text": [
        " Jack's Restaurant and Bar 4c279af7136d20a1733fe761\n",
        "56320"
       ]
      },
      {
       "output_type": "stream",
       "stream": "stdout",
       "text": [
        " Ironside West Coast BBQ 4ab146bff964a520d96820e3\n",
        "56321"
       ]
      },
      {
       "output_type": "stream",
       "stream": "stdout",
       "text": [
        " Garcon 44ca68e1f964a52002361fe3\n",
        "56322"
       ]
      },
      {
       "output_type": "stream",
       "stream": "stdout",
       "text": [
        " Aslam's Rasoi 44e799b6f964a52094371fe3\n",
        "56323"
       ]
      },
      {
       "output_type": "stream",
       "stream": "stdout",
       "text": [
        " Olea 49da2865f964a520575e1fe3\n",
        "56324"
       ]
      },
      {
       "output_type": "stream",
       "stream": "stdout",
       "text": [
        " Fish & Farm 49dba9a1f964a520e65e1fe3\n",
        "56325"
       ]
      },
      {
       "output_type": "stream",
       "stream": "stdout",
       "text": [
        " Vesuvio Cafe 3fd66200f964a52044ed1ee3\n",
        "56326"
       ]
      },
      {
       "output_type": "stream",
       "stream": "stdout",
       "text": [
        " Martuni's 3fd66200f964a5204eed1ee3\n",
        "56327"
       ]
      },
      {
       "output_type": "stream",
       "stream": "stdout",
       "text": [
        " Thai Basil Cuisine 4a876707f964a5203a0420e3\n",
        "56328"
       ]
      },
      {
       "output_type": "stream",
       "stream": "stdout",
       "text": [
        " Isobune Sushi 4b613fe4f964a520120e2ae3\n",
        "56329"
       ]
      },
      {
       "output_type": "stream",
       "stream": "stdout",
       "text": [
        " Rainforest Cafe 49f5e047f964a520c86b1fe3\n",
        "56330"
       ]
      },
      {
       "output_type": "stream",
       "stream": "stdout",
       "text": [
        " Sibby's Cupcakery 4a8b3baef964a520e00b20e3\n",
        "56331"
       ]
      },
      {
       "output_type": "stream",
       "stream": "stdout",
       "text": [
        " Smart Alec's Intelligent Food 4a591ed6f964a520b6b81fe3\n",
        "56332"
       ]
      },
      {
       "output_type": "stream",
       "stream": "stdout",
       "text": [
        " Mighty 40f71a80f964a520af0a1fe3\n",
        "56333"
       ]
      },
      {
       "output_type": "stream",
       "stream": "stdout",
       "text": [
        " Whole Foods Market Oakland 49c6e308f964a52087571fe3\n",
        "56334"
       ]
      },
      {
       "output_type": "stream",
       "stream": "stdout",
       "text": [
        " Hops & Hominy 4ed9a975be7be28336ddc111\n",
        "56335"
       ]
      },
      {
       "output_type": "stream",
       "stream": "stdout",
       "text": [
        " Phil's Sliders None\n",
        "56336"
       ]
      },
      {
       "output_type": "stream",
       "stream": "stdout",
       "text": [
        " Tacolicious 4ec598ffb634b2fd723d8c01\n",
        "56337"
       ]
      },
      {
       "output_type": "stream",
       "stream": "stdout",
       "text": [
        " Hyde Street Seafood House and Raw Bar 3fd66200f964a52090f11ee3\n",
        "56338"
       ]
      },
      {
       "output_type": "stream",
       "stream": "stdout",
       "text": [
        " Taqueria Sinaloa 4a2c1184f964a52018971fe3\n",
        "56339"
       ]
      },
      {
       "output_type": "stream",
       "stream": "stdout",
       "text": [
        " Warfield Theatre 414e1d80f964a520ed1c1fe3\n",
        "56340"
       ]
      },
      {
       "output_type": "stream",
       "stream": "stdout",
       "text": [
        " Asian Pearl Seafood Restaurant None\n",
        "56341"
       ]
      },
      {
       "output_type": "stream",
       "stream": "stdout",
       "text": [
        " The Mint 3fd66200f964a5204bed1ee3\n",
        "56342"
       ]
      },
      {
       "output_type": "stream",
       "stream": "stdout",
       "text": [
        " 54 Mint - Vineria Ristorante 4a41b07ff964a5208aa51fe3\n",
        "56343"
       ]
      },
      {
       "output_type": "stream",
       "stream": "stdout",
       "text": [
        " Korea House 4b53db1bf964a52053ad27e3\n",
        "56344"
       ]
      },
      {
       "output_type": "stream",
       "stream": "stdout",
       "text": [
        " Hemlock Tavern 4161e400f964a520711d1fe3\n",
        "56345"
       ]
      },
      {
       "output_type": "stream",
       "stream": "stdout",
       "text": [
        " Restaurante Do\u00f1a Tomas 4a7622c7f964a52059e21fe3\n",
        "56346"
       ]
      },
      {
       "output_type": "stream",
       "stream": "stdout",
       "text": [
        " Cafe Bunn Mi 4e233347ae6015b212b7dd6e\n",
        "56347"
       ]
      },
      {
       "output_type": "stream",
       "stream": "stdout",
       "text": [
        " Moss Beach Distillery 4a60fb46f964a5209bc11fe3\n",
        "56348"
       ]
      },
      {
       "output_type": "stream",
       "stream": "stdout",
       "text": [
        " Leopold's 4d0549672f96f04d94382254\n",
        "56349"
       ]
      },
      {
       "output_type": "stream",
       "stream": "stdout",
       "text": [
        " Cleo's Brazilian Steakhouse 4bf498abff90c9b6a0805528\n",
        "56350"
       ]
      },
      {
       "output_type": "stream",
       "stream": "stdout",
       "text": [
        " SusieCakes 4c27c151ed0ac9b6ee3a5faa\n",
        "56351"
       ]
      },
      {
       "output_type": "stream",
       "stream": "stdout",
       "text": [
        " Stanfords Walnut Creek 4a95ea20f964a520662520e3\n",
        "56352"
       ]
      },
      {
       "output_type": "stream",
       "stream": "stdout",
       "text": [
        " Sliderbar 4b649e2df964a520a1c22ae3\n",
        "56353"
       ]
      },
      {
       "output_type": "stream",
       "stream": "stdout",
       "text": [
        " Cioppino's 4a63aae2f964a5208bc51fe3\n",
        "56354"
       ]
      },
      {
       "output_type": "stream",
       "stream": "stdout",
       "text": [
        " Borobudur Restaurant 49e67ea9f964a52052641fe3\n",
        "56355"
       ]
      },
      {
       "output_type": "stream",
       "stream": "stdout",
       "text": [
        " Spenger's Fresh Fish Grotto 4bcbaf3a937ca593b423aa92\n",
        "56356"
       ]
      },
      {
       "output_type": "stream",
       "stream": "stdout",
       "text": [
        " Hong Kong East Ocean Seafood Restaurant 4b08710cf964a520f20b23e3\n",
        "56357"
       ]
      },
      {
       "output_type": "stream",
       "stream": "stdout",
       "text": [
        " Gaspare's Pizza House & Italian Restaurant 4a63e6e4f964a520fcc51fe3\n",
        "56358"
       ]
      },
      {
       "output_type": "stream",
       "stream": "stdout",
       "text": [
        " Michael Mina 4cae131abf70236aa86305f9\n",
        "56359"
       ]
      },
      {
       "output_type": "stream",
       "stream": "stdout",
       "text": [
        " Fly Bar 408da280f964a520d7f21ee3\n",
        "56360"
       ]
      },
      {
       "output_type": "stream",
       "stream": "stdout",
       "text": [
        " Caffe Greco 429f9d80f964a520c1241fe3\n",
        "56361"
       ]
      },
      {
       "output_type": "stream",
       "stream": "stdout",
       "text": [
        " Kamakura Japanese Restaurant 4645be7ef964a5207f461fe3\n",
        "56362"
       ]
      },
      {
       "output_type": "stream",
       "stream": "stdout",
       "text": [
        " Troya 49ed2342f964a520cb671fe3\n",
        "56363"
       ]
      },
      {
       "output_type": "stream",
       "stream": "stdout",
       "text": [
        " Le Garage 4a183c93f964a52091791fe3\n",
        "56364"
       ]
      },
      {
       "output_type": "stream",
       "stream": "stdout",
       "text": [
        " Aniki's Sushi 505d29a4e4b00e3799f3cb5f\n",
        "56365"
       ]
      },
      {
       "output_type": "stream",
       "stream": "stdout",
       "text": [
        " Mezzanine None\n",
        "56366"
       ]
      },
      {
       "output_type": "stream",
       "stream": "stdout",
       "text": [
        " The Peasant & The Pear 4a9197fff964a520d51a20e3\n",
        "56367"
       ]
      },
      {
       "output_type": "stream",
       "stream": "stdout",
       "text": [
        " Osha Thai 42683e80f964a52043211fe3\n",
        "56368"
       ]
      },
      {
       "output_type": "stream",
       "stream": "stdout",
       "text": [
        " Oliveto Cafe & Restaurant 469184c1f964a520b4481fe3\n",
        "56369"
       ]
      },
      {
       "output_type": "stream",
       "stream": "stdout",
       "text": [
        " El Camino Mongolian BBQ 4a734d78f964a5200ddc1fe3\n",
        "56370"
       ]
      },
      {
       "output_type": "stream",
       "stream": "stdout",
       "text": [
        " Madrone Art Bar 43598100f964a520f7281fe3\n",
        "56371"
       ]
      },
      {
       "output_type": "stream",
       "stream": "stdout",
       "text": [
        " Playground 45d5f376f964a520cf421fe3\n",
        "56372"
       ]
      },
      {
       "output_type": "stream",
       "stream": "stdout",
       "text": [
        " The Cheesecake Factory 4ac90686f964a5201bbe20e3\n",
        "56373"
       ]
      },
      {
       "output_type": "stream",
       "stream": "stdout",
       "text": [
        " Herbivore 4a2b2909f964a520af961fe3\n",
        "56374"
       ]
      },
      {
       "output_type": "stream",
       "stream": "stdout",
       "text": [
        " Giorgio's Pizzeria 4534010cf964a520923b1fe3\n",
        "56375"
       ]
      },
      {
       "output_type": "stream",
       "stream": "stdout",
       "text": [
        " Bruno's 41ad0980f964a5205c1e1fe3\n",
        "56376"
       ]
      },
      {
       "output_type": "stream",
       "stream": "stdout",
       "text": [
        " Pho Vi Hoa 4a74aa94f964a52019df1fe3\n",
        "56377"
       ]
      },
      {
       "output_type": "stream",
       "stream": "stdout",
       "text": [
        " Golden Star Vietnamese Restaurant 4a8b2acff964a520a00b20e3\n",
        "56378"
       ]
      },
      {
       "output_type": "stream",
       "stream": "stdout",
       "text": [
        " The Ice Cream Bar 4eac41a5dab40d132703fc44\n",
        "56379"
       ]
      },
      {
       "output_type": "stream",
       "stream": "stdout",
       "text": [
        " Saha 49f91406f964a5205b6d1fe3\n",
        "56380"
       ]
      },
      {
       "output_type": "stream",
       "stream": "stdout",
       "text": [
        " Joe's Ice Cream 4a039807f964a520d1711fe3\n",
        "56381"
       ]
      },
      {
       "output_type": "stream",
       "stream": "stdout",
       "text": [
        " The Cellar 43e20176f964a520cd2e1fe3\n",
        "56382"
       ]
      },
      {
       "output_type": "stream",
       "stream": "stdout",
       "text": [
        " Cactus Taqueria 45a163a4f964a520e2401fe3\n",
        "56383"
       ]
      },
      {
       "output_type": "stream",
       "stream": "stdout",
       "text": [
        " Morucci's Si Mangia Bene 4b5b694af964a520f3fb28e3\n",
        "56384"
       ]
      },
      {
       "output_type": "stream",
       "stream": "stdout",
       "text": [
        " Alioto's Restaurant 4ba1187df964a520499737e3\n",
        "56385"
       ]
      },
      {
       "output_type": "stream",
       "stream": "stdout",
       "text": [
        " Ippuku 4c32384409a99c7448850b2a\n",
        "56386"
       ]
      },
      {
       "output_type": "stream",
       "stream": "stdout",
       "text": [
        " Bun Mee 4d91323e033ba35dab886b0d\n",
        "56387"
       ]
      },
      {
       "output_type": "stream",
       "stream": "stdout",
       "text": [
        " Sudachi 4a6aab00f964a520d6cd1fe3\n",
        "56388"
       ]
      },
      {
       "output_type": "stream",
       "stream": "stdout",
       "text": [
        " Caffe Delucchi 4be5b8bf2468c92863700043\n",
        "56389"
       ]
      },
      {
       "output_type": "stream",
       "stream": "stdout",
       "text": [
        " Underdog 49d00adcf964a520f95a1fe3\n",
        "56390"
       ]
      },
      {
       "output_type": "stream",
       "stream": "stdout",
       "text": [
        " Catch 432a0b00f964a520d9271fe3\n",
        "56391"
       ]
      },
      {
       "output_type": "stream",
       "stream": "stdout",
       "text": [
        " Hotei Restaurant 3fd66200f964a52034f11ee3\n",
        "56392"
       ]
      },
      {
       "output_type": "stream",
       "stream": "stdout",
       "text": [
        " Pho Huynh Hiep 3 - Kevin's Noodle House 4a7ddc63f964a520f1ef1fe3\n",
        "56393"
       ]
      },
      {
       "output_type": "stream",
       "stream": "stdout",
       "text": [
        " Milagros 4a735b57f964a52042dc1fe3\n",
        "56394"
       ]
      },
      {
       "output_type": "stream",
       "stream": "stdout",
       "text": [
        " Nordstrom 4b1c59a2f964a5206b0624e3\n",
        "56395"
       ]
      },
      {
       "output_type": "stream",
       "stream": "stdout",
       "text": [
        " Boxing Room 4ce1cb6394c3b60c08a378ea\n",
        "56396"
       ]
      },
      {
       "output_type": "stream",
       "stream": "stdout",
       "text": [
        " Kansai 46662e4ef964a52082471fe3\n",
        "56397"
       ]
      },
      {
       "output_type": "stream",
       "stream": "stdout",
       "text": [
        " La Trappe 49cd10e7f964a520af591fe3\n",
        "56398"
       ]
      },
      {
       "output_type": "stream",
       "stream": "stdout",
       "text": [
        " Chez Panisse Cafe None\n",
        "56399"
       ]
      },
      {
       "output_type": "stream",
       "stream": "stdout",
       "text": [
        " Shabuway Japanese Style Hot Pot 4b2d9b10f964a52075d924e3\n",
        "56400"
       ]
      },
      {
       "output_type": "stream",
       "stream": "stdout",
       "text": [
        " Noodle Theory 46aa9828f964a52068491fe3\n",
        "56401"
       ]
      },
      {
       "output_type": "stream",
       "stream": "stdout",
       "text": [
        " Chloe's Cafe 454f85bff964a520de3c1fe3\n",
        "56402"
       ]
      },
      {
       "output_type": "stream",
       "stream": "stdout",
       "text": [
        " Tunnel Top None\n",
        "56403"
       ]
      },
      {
       "output_type": "stream",
       "stream": "stdout",
       "text": [
        " 85\u00b0C Bakery Cafe None\n",
        "56404"
       ]
      },
      {
       "output_type": "stream",
       "stream": "stdout",
       "text": [
        " Tara's Organic Ice Cream 49fe6217f964a5209d6f1fe3\n",
        "56405"
       ]
      },
      {
       "output_type": "stream",
       "stream": "stdout",
       "text": [
        " Franchino 4a7cd069f964a520bbed1fe3\n",
        "56406"
       ]
      },
      {
       "output_type": "stream",
       "stream": "stdout",
       "text": [
        " Uva Enoteca 48b5de88f964a520b7511fe3\n",
        "56407"
       ]
      },
      {
       "output_type": "stream",
       "stream": "stdout",
       "text": [
        " Rose's Cafe 44f03c85f964a520f2371fe3\n",
        "56408"
       ]
      },
      {
       "output_type": "stream",
       "stream": "stdout",
       "text": [
        " Whole Foods Market SoMa 4a424d0ef964a520b7a51fe3\n",
        "56409"
       ]
      },
      {
       "output_type": "stream",
       "stream": "stdout",
       "text": [
        " Mixt Greens 4a0312fff964a52086711fe3\n",
        "56410"
       ]
      },
      {
       "output_type": "stream",
       "stream": "stdout",
       "text": [
        " Jones 4c53307e4623be9a0a0db5f0\n",
        "56411"
       ]
      },
      {
       "output_type": "stream",
       "stream": "stdout",
       "text": [
        " Masse's Pastries 4ac109bef964a520869520e3\n",
        "56412"
       ]
      },
      {
       "output_type": "stream",
       "stream": "stdout",
       "text": [
        " Izzy's Steakhouse & Chops 3fd66200f964a5202aee1ee3\n",
        "56413"
       ]
      },
      {
       "output_type": "stream",
       "stream": "stdout",
       "text": [
        " Mom's Tofu House 4a774a2af964a52013e41fe3\n",
        "56414"
       ]
      },
      {
       "output_type": "stream",
       "stream": "stdout",
       "text": [
        " Mayfield Bakery & Cafe 49bd5717f964a52069541fe3\n",
        "56415"
       ]
      },
      {
       "output_type": "stream",
       "stream": "stdout",
       "text": [
        " Joe's Crab Shack 49ec9c1df964a5206b671fe3\n",
        "56416"
       ]
      },
      {
       "output_type": "stream",
       "stream": "stdout",
       "text": [
        " Blue Jay Cafe 483fd06bf964a52022501fe3\n",
        "56417"
       ]
      },
      {
       "output_type": "stream",
       "stream": "stdout",
       "text": [
        " Zachary's Chicago Pizza 4afc8320f964a520752322e3\n",
        "56418"
       ]
      },
      {
       "output_type": "stream",
       "stream": "stdout",
       "text": [
        " Tacubaya 49c3ef9ef964a52088561fe3\n",
        "56419"
       ]
      },
      {
       "output_type": "stream",
       "stream": "stdout",
       "text": [
        " The Cheesecake Factory 4abea642f964a520138f20e3\n",
        "56420"
       ]
      },
      {
       "output_type": "stream",
       "stream": "stdout",
       "text": [
        " Nob Hill Cafe 42ae1e00f964a52057251fe3\n",
        "56421"
       ]
      },
      {
       "output_type": "stream",
       "stream": "stdout",
       "text": [
        " Commonwealth 4c5b6860adfdef3b6db0517f\n",
        "56422"
       ]
      },
      {
       "output_type": "stream",
       "stream": "stdout",
       "text": [
        " The Plant Caf\u00e9 Organic 4aa8ad88f964a520b35120e3\n",
        "56423"
       ]
      },
      {
       "output_type": "stream",
       "stream": "stdout",
       "text": [
        " Fantasia Coffee & Tea 4a41acb6f964a52086a51fe3\n",
        "56424"
       ]
      },
      {
       "output_type": "stream",
       "stream": "stdout",
       "text": [
        " Saiwaii Ramen 4c683fdf607ad13a3013a82b\n",
        "56425"
       ]
      },
      {
       "output_type": "stream",
       "stream": "stdout",
       "text": [
        " The Independent 4249ec00f964a5208f201fe3\n",
        "56426"
       ]
      },
      {
       "output_type": "stream",
       "stream": "stdout",
       "text": [
        " Pagolac 44e08850f964a520fc361fe3\n",
        "56427"
       ]
      },
      {
       "output_type": "stream",
       "stream": "stdout",
       "text": [
        " Saturn Cafe 4c421d213735be9ad18319a4\n",
        "56428"
       ]
      },
      {
       "output_type": "stream",
       "stream": "stdout",
       "text": [
        " The Counter 4cb33d631463a1439117b3a9\n",
        "56429"
       ]
      },
      {
       "output_type": "stream",
       "stream": "stdout",
       "text": [
        " The Rockin' Crawfish 4be73379910020a17b2ad514\n",
        "56430"
       ]
      },
      {
       "output_type": "stream",
       "stream": "stdout",
       "text": [
        " Kiki Japanese Restaurant 4400c106f964a52019301fe3\n",
        "56431"
       ]
      },
      {
       "output_type": "stream",
       "stream": "stdout",
       "text": [
        " Redwood Room None\n",
        "56432"
       ]
      },
      {
       "output_type": "stream",
       "stream": "stdout",
       "text": [
        " The Buckeye Roadhouse 4a2b0fb9f964a52094961fe3\n",
        "56433"
       ]
      },
      {
       "output_type": "stream",
       "stream": "stdout",
       "text": [
        " Triple Rock Brewery & Ale House 49c2d976f964a52030561fe3\n",
        "56434"
       ]
      },
      {
       "output_type": "stream",
       "stream": "stdout",
       "text": [
        " Polkers Gourmet Burgers 470a3177f964a520714b1fe3\n",
        "56435"
       ]
      },
      {
       "output_type": "stream",
       "stream": "stdout",
       "text": [
        " Calafia Caf\u00e9 & Market A Go Go 4a984d7ff964a520642b20e3\n",
        "56436"
       ]
      },
      {
       "output_type": "stream",
       "stream": "stdout",
       "text": [
        " Double Dutch None\n",
        "56437"
       ]
      },
      {
       "output_type": "stream",
       "stream": "stdout",
       "text": [
        " Choi's Korean Restaurant 4a51577cf964a520f9b01fe3\n",
        "56438"
       ]
      },
      {
       "output_type": "stream",
       "stream": "stdout",
       "text": [
        " Le Moose Crepe Cafe 4a9f2b9bf964a520ca3c20e3\n",
        "56439"
       ]
      },
      {
       "output_type": "stream",
       "stream": "stdout",
       "text": [
        " Gelato Classico Italian Ice Cream 44fc846ff964a52089381fe3\n",
        "56440"
       ]
      },
      {
       "output_type": "stream",
       "stream": "stdout",
       "text": [
        " Cafe M 4a9ac750f964a520a43220e3\n",
        "56441"
       ]
      },
      {
       "output_type": "stream",
       "stream": "stdout",
       "text": [
        " Bloomingdale's 451c196df964a520813a1fe3\n",
        "56442"
       ]
      },
      {
       "output_type": "stream",
       "stream": "stdout",
       "text": [
        " Shoreline Amphitheatre 40c8f600f964a520fe001fe3\n",
        "56443"
       ]
      },
      {
       "output_type": "stream",
       "stream": "stdout",
       "text": [
        " Sakoon 4abd683bf964a5201d8a20e3\n",
        "56444"
       ]
      },
      {
       "output_type": "stream",
       "stream": "stdout",
       "text": [
        " Savor 42966300f964a52059241fe3\n",
        "56445"
       ]
      },
      {
       "output_type": "stream",
       "stream": "stdout",
       "text": [
        " Chabaa Thai Cuisine 4a653692f964a52072c71fe3\n",
        "56446"
       ]
      },
      {
       "output_type": "stream",
       "stream": "stdout",
       "text": [
        " Cordon Bleu Vietnamese Restaurant 44f9e6a7f964a52071381fe3\n",
        "56447"
       ]
      },
      {
       "output_type": "stream",
       "stream": "stdout",
       "text": [
        " Broadway Prime 4ab98c11f964a520d27f20e3\n",
        "56448"
       ]
      },
      {
       "output_type": "stream",
       "stream": "stdout",
       "text": [
        " Kabul Afghan Cuisine 4b4658d7f964a5203d1e26e3\n",
        "56449"
       ]
      },
      {
       "output_type": "stream",
       "stream": "stdout",
       "text": [
        " Cobb's Comedy Club 429ba900f964a52082241fe3\n",
        "56450"
       ]
      },
      {
       "output_type": "stream",
       "stream": "stdout",
       "text": [
        " Heidi's Pies Restaurant 49f9392af964a5206e6d1fe3\n",
        "56451"
       ]
      },
      {
       "output_type": "stream",
       "stream": "stdout",
       "text": [
        " Osha Thai Restaurant & Bar 46391fe7f964a52018461fe3\n",
        "56452"
       ]
      },
      {
       "output_type": "stream",
       "stream": "stdout",
       "text": [
        " The Olde San Francisco Creamery None\n",
        "56453"
       ]
      },
      {
       "output_type": "stream",
       "stream": "stdout",
       "text": [
        " De Afghanan Kabob House 4b57c5cef964a520554028e3\n",
        "56454"
       ]
      },
      {
       "output_type": "stream",
       "stream": "stdout",
       "text": [
        " John's Snack and Deli 4a68d505f964a52016cb1fe3\n",
        "56455"
       ]
      },
      {
       "output_type": "stream",
       "stream": "stdout",
       "text": [
        " Sports Basement 4a09ef9af964a52070741fe3\n",
        "56456"
       ]
      },
      {
       "output_type": "stream",
       "stream": "stdout",
       "text": [
        " Bristol Farms 4a3960b2f964a520619f1fe3\n",
        "56457"
       ]
      },
      {
       "output_type": "stream",
       "stream": "stdout",
       "text": [
        " Lefty O'Doul's 3fd66200f964a5207aed1ee3\n",
        "56458"
       ]
      },
      {
       "output_type": "stream",
       "stream": "stdout",
       "text": [
        " Tamarindo Antojeria 463ddecef964a5203d461fe3\n",
        "56459"
       ]
      },
      {
       "output_type": "stream",
       "stream": "stdout",
       "text": [
        " Molinari Delicatessen 4a01fbbdf964a5201c711fe3\n",
        "56460"
       ]
      },
      {
       "output_type": "stream",
       "stream": "stdout",
       "text": [
        " Little Madfish 4b340233f964a520d82325e3\n",
        "56461"
       ]
      },
      {
       "output_type": "stream",
       "stream": "stdout",
       "text": [
        " American Cupcake 4bafdcd7f964a52005273ce3\n",
        "56462"
       ]
      },
      {
       "output_type": "stream",
       "stream": "stdout",
       "text": [
        " Pizza Orgasmica 4a94b5b6f964a5205e2220e3\n",
        "56463"
       ]
      },
      {
       "output_type": "stream",
       "stream": "stdout",
       "text": [
        " Gamine 4a306c39f964a52067991fe3\n",
        "56464"
       ]
      },
      {
       "output_type": "stream",
       "stream": "stdout",
       "text": [
        " Bissap Baobab None\n",
        "56465"
       ]
      },
      {
       "output_type": "stream",
       "stream": "stdout",
       "text": [
        " Deli Board 4bb2595c42959c7430b7202c\n",
        "56466"
       ]
      },
      {
       "output_type": "stream",
       "stream": "stdout",
       "text": [
        " Fox Theater - Oakland None\n",
        "56467"
       ]
      },
      {
       "output_type": "stream",
       "stream": "stdout",
       "text": [
        " Loving Cup 4a667916f964a5209ec81fe3\n",
        "56468"
       ]
      },
      {
       "output_type": "stream",
       "stream": "stdout",
       "text": [
        " Japanese Tea Garden None\n",
        "56469"
       ]
      },
      {
       "output_type": "stream",
       "stream": "stdout",
       "text": [
        " Elephant Bar Restaurant 47d868cff964a5202e4e1fe3\n",
        "56470"
       ]
      },
      {
       "output_type": "stream",
       "stream": "stdout",
       "text": [
        " Jersey Joe's Hoagies & Cheesesteaks 49ecf399f964a520b5671fe3\n",
        "56471"
       ]
      },
      {
       "output_type": "stream",
       "stream": "stdout",
       "text": [
        " Ike's Lair 4f1b39b8e4b05c50e269b32c\n",
        "56472"
       ]
      },
      {
       "output_type": "stream",
       "stream": "stdout",
       "text": [
        " Acquerello 3fd66200f964a52013ed1ee3\n",
        "56473"
       ]
      },
      {
       "output_type": "stream",
       "stream": "stdout",
       "text": [
        " Ozumo 4a92eedcf964a520301e20e3\n",
        "56474"
       ]
      },
      {
       "output_type": "stream",
       "stream": "stdout",
       "text": [
        " Local Edition 4f7e77bfe4b0b58904177146\n",
        "56475"
       ]
      },
      {
       "output_type": "stream",
       "stream": "stdout",
       "text": [
        " Goood Frikin Chicken 43b29cc3f964a520a52c1fe3\n",
        "56476"
       ]
      },
      {
       "output_type": "stream",
       "stream": "stdout",
       "text": [
        " Java Beach Cafe 4383b100f964a520fb2a1fe3\n",
        "56477"
       ]
      },
      {
       "output_type": "stream",
       "stream": "stdout",
       "text": [
        " BIN 38 4a18af52f964a520d8791fe3\n",
        "56478"
       ]
      },
      {
       "output_type": "stream",
       "stream": "stdout",
       "text": [
        " The Ramp 44ecd649f964a520d5371fe3\n",
        "56479"
       ]
      },
      {
       "output_type": "stream",
       "stream": "stdout",
       "text": [
        " Swig 4c0203cda8e676b0ebe5c532\n",
        "56480"
       ]
      },
      {
       "output_type": "stream",
       "stream": "stdout",
       "text": [
        " Sundance The Steakhouse 42bdf000f964a520aa251fe3\n",
        "56481"
       ]
      },
      {
       "output_type": "stream",
       "stream": "stdout",
       "text": [
        " The Cheese Steak Shop 4500584ff964a520bd381fe3\n",
        "56482"
       ]
      },
      {
       "output_type": "stream",
       "stream": "stdout",
       "text": [
        " Crepevine 4bb3a32414cfd13a175516ab\n",
        "56483"
       ]
      },
      {
       "output_type": "stream",
       "stream": "stdout",
       "text": [
        " Sanraku 4a4acc3af964a52033ac1fe3\n",
        "56484"
       ]
      },
      {
       "output_type": "stream",
       "stream": "stdout",
       "text": [
        " Good Mong Kok Bakery 4ae332f8f964a520959121e3\n",
        "56485"
       ]
      },
      {
       "output_type": "stream",
       "stream": "stdout",
       "text": [
        " 111 Minna Gallery 3fd66200f964a5207bec1ee3\n",
        "56486"
       ]
      },
      {
       "output_type": "stream",
       "stream": "stdout",
       "text": [
        " Cotogna 4cd0a38e5b5ca35de6317df0\n",
        "56487"
       ]
      },
      {
       "output_type": "stream",
       "stream": "stdout",
       "text": [
        " Aunt Mary's Caf\u00e9 4a1b8fd3f964a520027b1fe3\n",
        "56488"
       ]
      },
      {
       "output_type": "stream",
       "stream": "stdout",
       "text": [
        " Nini's Coffee Shop 49eb83f1f964a520ed661fe3\n",
        "56489"
       ]
      },
      {
       "output_type": "stream",
       "stream": "stdout",
       "text": [
        " Thalassa 40bd1880f964a520b8001fe3\n",
        "56490"
       ]
      },
      {
       "output_type": "stream",
       "stream": "stdout",
       "text": [
        " Taqueria Los Charros 49ee3169f964a52036681fe3\n",
        "56491"
       ]
      },
      {
       "output_type": "stream",
       "stream": "stdout",
       "text": [
        " Le Charm French Bistro 45fda829f964a5207d441fe3\n",
        "56492"
       ]
      },
      {
       "output_type": "stream",
       "stream": "stdout",
       "text": [
        " Apple Store 42cc7080f964a520e9251fe3\n",
        "56493"
       ]
      },
      {
       "output_type": "stream",
       "stream": "stdout",
       "text": [
        " The Albatross Pub 40bd1880f964a520c2001fe3\n",
        "56494"
       ]
      },
      {
       "output_type": "stream",
       "stream": "stdout",
       "text": [
        " Shanghai Dumpling Shop 4a43df62f964a520e6a61fe3\n",
        "56495"
       ]
      },
      {
       "output_type": "stream",
       "stream": "stdout",
       "text": [
        " Chantal Guillon Macarons 49da61f2f964a520815e1fe3\n",
        "56496"
       ]
      },
      {
       "output_type": "stream",
       "stream": "stdout",
       "text": [
        " Swensen's Ice Cream 42b21280f964a5206e251fe3\n",
        "56497"
       ]
      },
      {
       "output_type": "stream",
       "stream": "stdout",
       "text": [
        " Holy Gelato! 49daaa1ff964a520a15e1fe3\n",
        "56498"
       ]
      },
      {
       "output_type": "stream",
       "stream": "stdout",
       "text": [
        " Ananda Fuara 4a0cb0fff964a52056751fe3\n",
        "56499"
       ]
      },
      {
       "output_type": "stream",
       "stream": "stdout",
       "text": [
        " Coffee Bar 47fde9f4f964a520df4e1fe3\n",
        "56500"
       ]
      },
      {
       "output_type": "stream",
       "stream": "stdout",
       "text": [
        " Scratch 4cf985ce20fe3704aa0547f8\n",
        "56501"
       ]
      },
      {
       "output_type": "stream",
       "stream": "stdout",
       "text": [
        " Avatar's Restaurant 44b7dce7f964a5207a351fe3\n",
        "56502"
       ]
      },
      {
       "output_type": "stream",
       "stream": "stdout",
       "text": [
        " La Ciccia 49bed272f964a520e3541fe3\n",
        "56503"
       ]
      },
      {
       "output_type": "stream",
       "stream": "stdout",
       "text": [
        " The Holy Cow 431a3900f964a52070271fe3\n",
        "56504"
       ]
      },
      {
       "output_type": "stream",
       "stream": "stdout",
       "text": [
        " Tsunami 43bc75f6f964a520f92c1fe3\n",
        "56505"
       ]
      },
      {
       "output_type": "stream",
       "stream": "stdout",
       "text": [
        " Favorite Indian Restaurant 4abec8f3f964a520e08f20e3\n",
        "56506"
       ]
      },
      {
       "output_type": "stream",
       "stream": "stdout",
       "text": [
        " Morton's The Steakhouse 42e03700f964a52063261fe3\n",
        "56507"
       ]
      },
      {
       "output_type": "stream",
       "stream": "stdout",
       "text": [
        " Fleming's Prime Steakhouse & Wine Bar 4a7b9270f964a52072eb1fe3\n",
        "56508"
       ]
      },
      {
       "output_type": "stream",
       "stream": "stdout",
       "text": [
        " Flipper's, A Gourmet Hamburger Place 43b6a897f964a520cc2c1fe3\n",
        "56509"
       ]
      },
      {
       "output_type": "stream",
       "stream": "stdout",
       "text": [
        " On the Bridge 49e25488f964a5200b621fe3\n",
        "56510"
       ]
      },
      {
       "output_type": "stream",
       "stream": "stdout",
       "text": [
        " Rogue Ales Public House 43c453c6f964a520582d1fe3\n",
        "56511"
       ]
      },
      {
       "output_type": "stream",
       "stream": "stdout",
       "text": [
        " Moonstar Restaurant 4ad10703f964a5200fdc20e3\n",
        "56512"
       ]
      },
      {
       "output_type": "stream",
       "stream": "stdout",
       "text": [
        " Baker & Banker None\n",
        "56513"
       ]
      },
      {
       "output_type": "stream",
       "stream": "stdout",
       "text": [
        " Shabuway Japanese Style Hot Pot None\n",
        "56514"
       ]
      },
      {
       "output_type": "stream",
       "stream": "stdout",
       "text": [
        " Comcast None\n",
        "56515"
       ]
      },
      {
       "output_type": "stream",
       "stream": "stdout",
       "text": [
        " Chow 4a411f02f964a520cea41fe3\n",
        "56516"
       ]
      },
      {
       "output_type": "stream",
       "stream": "stdout",
       "text": [
        " In-N-Out Burger 457c6a6df964a520093f1fe3\n",
        "56517"
       ]
      },
      {
       "output_type": "stream",
       "stream": "stdout",
       "text": [
        " Hog & Rocks 4c2c116b77cfe21ec298b5f1\n",
        "56518"
       ]
      },
      {
       "output_type": "stream",
       "stream": "stdout",
       "text": [
        " Rosamunde Sausage Grill 4b54afd9f964a52016c727e3\n",
        "56519"
       ]
      },
      {
       "output_type": "stream",
       "stream": "stdout",
       "text": [
        " Westfield San Francisco Centre None\n",
        "56520"
       ]
      },
      {
       "output_type": "stream",
       "stream": "stdout",
       "text": [
        " Fresca 4ad152fdf964a5200dde20e3\n",
        "56521"
       ]
      },
      {
       "output_type": "stream",
       "stream": "stdout",
       "text": [
        " Gelateria Naia 4a46af39f964a5204ba91fe3\n",
        "56522"
       ]
      },
      {
       "output_type": "stream",
       "stream": "stdout",
       "text": [
        " Kokyo Sushi Buffet 4cdefb74df986ea82f51df16\n",
        "56523"
       ]
      },
      {
       "output_type": "stream",
       "stream": "stdout",
       "text": [
        " Red Chili 4b2d6a87f964a52036d624e3\n",
        "56524"
       ]
      },
      {
       "output_type": "stream",
       "stream": "stdout",
       "text": [
        " Presidio Social Club 49e37998f964a52086621fe3\n",
        "56525"
       ]
      },
      {
       "output_type": "stream",
       "stream": "stdout",
       "text": [
        " BJ's Restaurant & Brewhouse 4a7f4769f964a52089f31fe3\n",
        "56526"
       ]
      },
      {
       "output_type": "stream",
       "stream": "stdout",
       "text": [
        " Sprout Cafe 49e6233bf964a5200f641fe3\n",
        "56527"
       ]
      },
      {
       "output_type": "stream",
       "stream": "stdout",
       "text": [
        " Curry Up Now-Indian Street Food None\n",
        "56528"
       ]
      },
      {
       "output_type": "stream",
       "stream": "stdout",
       "text": [
        " King of Thai Noodle House 3fd66200f964a520d7ec1ee3\n",
        "56529"
       ]
      },
      {
       "output_type": "stream",
       "stream": "stdout",
       "text": [
        " Restaurant Lulu 3fd66200f964a52019ed1ee3\n",
        "56530"
       ]
      },
      {
       "output_type": "stream",
       "stream": "stdout",
       "text": [
        " Roxie Food Center 49f796fff964a520c06c1fe3\n",
        "56531"
       ]
      },
      {
       "output_type": "stream",
       "stream": "stdout",
       "text": [
        " Pork Store Cafe Valencia 43a473cdf964a5204a2c1fe3\n",
        "56532"
       ]
      },
      {
       "output_type": "stream",
       "stream": "stdout",
       "text": [
        " Sam's Anchor Cafe 4a5ea15ef964a520edbe1fe3\n",
        "56533"
       ]
      },
      {
       "output_type": "stream",
       "stream": "stdout",
       "text": [
        " East Ocean Seafood Restaurant None\n",
        "56534"
       ]
      },
      {
       "output_type": "stream",
       "stream": "stdout",
       "text": [
        " Ramen Underground 4e498f31b61c6886484fe715\n",
        "56535"
       ]
      },
      {
       "output_type": "stream",
       "stream": "stdout",
       "text": [
        " Cafe Flore 3fd66200f964a5203dee1ee3\n",
        "56536"
       ]
      },
      {
       "output_type": "stream",
       "stream": "stdout",
       "text": [
        " Bella Trattoria 3fd66200f964a520dbec1ee3\n",
        "56537"
       ]
      },
      {
       "output_type": "stream",
       "stream": "stdout",
       "text": [
        " Stella Pastry & Cafe 4a7e1dc4f964a52006f11fe3\n",
        "56538"
       ]
      },
      {
       "output_type": "stream",
       "stream": "stdout",
       "text": [
        " Cantina None\n",
        "56539"
       ]
      },
      {
       "output_type": "stream",
       "stream": "stdout",
       "text": [
        " Fresca 4a5a59b5f964a52033ba1fe3\n",
        "56540"
       ]
      },
      {
       "output_type": "stream",
       "stream": "stdout",
       "text": [
        " Za Gourmet Pizza 42b21280f964a5206c251fe3\n",
        "56541"
       ]
      },
      {
       "output_type": "stream",
       "stream": "stdout",
       "text": [
        " Oasis Grill 4a6f5d0ef964a520fdd51fe3\n",
        "56542"
       ]
      },
      {
       "output_type": "stream",
       "stream": "stdout",
       "text": [
        " Bi-Rite Market 47f64f56f964a520a94e1fe3\n",
        "56543"
       ]
      },
      {
       "output_type": "stream",
       "stream": "stdout",
       "text": [
        " Speisekammer 463de5c9f964a5203f461fe3\n",
        "56544"
       ]
      },
      {
       "output_type": "stream",
       "stream": "stdout",
       "text": [
        " Enssaro 4b04d189f964a520b35622e3\n",
        "56545"
       ]
      },
      {
       "output_type": "stream",
       "stream": "stdout",
       "text": [
        " Zante Pizza & Indian Cuisine 4478eeeef964a520d2331fe3\n",
        "56546"
       ]
      },
      {
       "output_type": "stream",
       "stream": "stdout",
       "text": [
        " Ben Tre Vietnamese Homestyle Cuisine 4a56995df964a52081b51fe3\n",
        "56547"
       ]
      },
      {
       "output_type": "stream",
       "stream": "stdout",
       "text": [
        " Adamson's French Dip 4a70a13bf964a520fed71fe3\n",
        "56548"
       ]
      },
      {
       "output_type": "stream",
       "stream": "stdout",
       "text": [
        " Hunan Homes Restaurant None\n",
        "56549"
       ]
      },
      {
       "output_type": "stream",
       "stream": "stdout",
       "text": [
        " Harry's Bar 43c5a1e7f964a5206d2d1fe3\n",
        "56550"
       ]
      },
      {
       "output_type": "stream",
       "stream": "stdout",
       "text": [
        " Herbivore 43640d00f964a52058291fe3\n",
        "56551"
       ]
      },
      {
       "output_type": "stream",
       "stream": "stdout",
       "text": [
        " Fantasia Coffee & Tea 4acd5501f964a520dfcb20e3\n",
        "56552"
       ]
      },
      {
       "output_type": "stream",
       "stream": "stdout",
       "text": [
        " Vive Sol 4a31d3a9f964a5202d9a1fe3\n",
        "56553"
       ]
      },
      {
       "output_type": "stream",
       "stream": "stdout",
       "text": [
        " B44 4377d380f964a5205b2a1fe3\n",
        "56554"
       ]
      },
      {
       "output_type": "stream",
       "stream": "stdout",
       "text": [
        " Red Crawfish 4a6bb29ff964a520a5cf1fe3\n",
        "56555"
       ]
      },
      {
       "output_type": "stream",
       "stream": "stdout",
       "text": [
        " Stan's Donut Shop 4b0d6183f964a520354723e3\n",
        "56556"
       ]
      },
      {
       "output_type": "stream",
       "stream": "stdout",
       "text": [
        " Park Tavern None\n",
        "56557"
       ]
      },
      {
       "output_type": "stream",
       "stream": "stdout",
       "text": [
        " Primo Patio Cafe 4283ee00f964a520ab221fe3\n",
        "56558"
       ]
      },
      {
       "output_type": "stream",
       "stream": "stdout",
       "text": [
        " Bar Agricole 4b4a4e86f964a5203d8326e3\n",
        "56559"
       ]
      },
      {
       "output_type": "stream",
       "stream": "stdout",
       "text": [
        " Local Kitchen & Wine Merchant 4aa46a42f964a520bd4620e3\n",
        "56560"
       ]
      },
      {
       "output_type": "stream",
       "stream": "stdout",
       "text": [
        " Skool 4c1e9060eac020a10dec49c2\n",
        "56561"
       ]
      },
      {
       "output_type": "stream",
       "stream": "stdout",
       "text": [
        " CREAM 511ff176e4b045d03424e771\n",
        "56562"
       ]
      },
      {
       "output_type": "stream",
       "stream": "stdout",
       "text": [
        " Destino 42893400f964a5205a231fe3\n",
        "56563"
       ]
      },
      {
       "output_type": "stream",
       "stream": "stdout",
       "text": [
        " Honeyberry 4ae3cbc4f964a520fe9821e3\n",
        "56564"
       ]
      },
      {
       "output_type": "stream",
       "stream": "stdout",
       "text": [
        " Creations Dessert House 49e379f4f964a52087621fe3\n",
        "56565"
       ]
      },
      {
       "output_type": "stream",
       "stream": "stdout",
       "text": [
        " Pyramid Brewery & Alehouse 49cd18abf964a520b7591fe3\n",
        "56566"
       ]
      },
      {
       "output_type": "stream",
       "stream": "stdout",
       "text": [
        " Cafe Colucci 4aa030a2f964a520a63e20e3\n",
        "56567"
       ]
      },
      {
       "output_type": "stream",
       "stream": "stdout",
       "text": [
        " Ole's Waffle Shop 4a5a9e6af964a520a9ba1fe3\n",
        "56568"
       ]
      },
      {
       "output_type": "stream",
       "stream": "stdout",
       "text": [
        " 15 Romolo 3fd66200f964a5202bed1ee3\n",
        "56569"
       ]
      },
      {
       "output_type": "stream",
       "stream": "stdout",
       "text": [
        " Lillie Mae's House of Soul Food 4ce6de39b99754819fd1f244\n",
        "56570"
       ]
      },
      {
       "output_type": "stream",
       "stream": "stdout",
       "text": [
        " Cinnaholic 4c40b646d691c9b6c0a08b0a\n",
        "56571"
       ]
      },
      {
       "output_type": "stream",
       "stream": "stdout",
       "text": [
        " House of Thai 49e95478f964a520f1651fe3\n",
        "56572"
       ]
      },
      {
       "output_type": "stream",
       "stream": "stdout",
       "text": [
        " Mifune Restaurant 435c2400f964a52007291fe3\n",
        "56573"
       ]
      },
      {
       "output_type": "stream",
       "stream": "stdout",
       "text": [
        " Giordano Bros 49cc7443f964a5207e591fe3\n",
        "56574"
       ]
      },
      {
       "output_type": "stream",
       "stream": "stdout",
       "text": [
        " La Corneta Taqueria 45052b29f964a520e5381fe3\n",
        "56575"
       ]
      },
      {
       "output_type": "stream",
       "stream": "stdout",
       "text": [
        " MatrixFillmore 412bd680f964a5209f0c1fe3\n",
        "56576"
       ]
      },
      {
       "output_type": "stream",
       "stream": "stdout",
       "text": [
        " Patio Filipino 4b78b6d7f964a5200fdf2ee3\n",
        "56577"
       ]
      },
      {
       "output_type": "stream",
       "stream": "stdout",
       "text": [
        " Tanto Japanese Restaurant 4b32cc85f964a520241425e3\n",
        "56578"
       ]
      },
      {
       "output_type": "stream",
       "stream": "stdout",
       "text": [
        " SGD Tofu House 4b20778cf964a5207d3224e3\n",
        "56579"
       ]
      },
      {
       "output_type": "stream",
       "stream": "stdout",
       "text": [
        " Aperto Restaurant 4880eb2cf964a5202e511fe3\n",
        "56580"
       ]
      },
      {
       "output_type": "stream",
       "stream": "stdout",
       "text": [
        " Reposado 49f66210f964a520376c1fe3\n",
        "56581"
       ]
      },
      {
       "output_type": "stream",
       "stream": "stdout",
       "text": [
        " Brazil Fresh Squeeze Cafe 4a85bea4f964a52022ff1fe3\n",
        "56582"
       ]
      },
      {
       "output_type": "stream",
       "stream": "stdout",
       "text": [
        " Nob Hill Grille 4a203bdaf964a5205d7c1fe3\n",
        "56583"
       ]
      },
      {
       "output_type": "stream",
       "stream": "stdout",
       "text": [
        " Coco500 43dbc1d6f964a520972e1fe3\n",
        "56584"
       ]
      },
      {
       "output_type": "stream",
       "stream": "stdout",
       "text": [
        " Palo Alto Creamery 4a688daaf964a5208bca1fe3\n",
        "56585"
       ]
      },
      {
       "output_type": "stream",
       "stream": "stdout",
       "text": [
        " Dopo 49f4d0e5f964a520586b1fe3\n",
        "56586"
       ]
      },
      {
       "output_type": "stream",
       "stream": "stdout",
       "text": [
        " Super Duper Burgers 4bc38e68abf49521beedc393\n",
        "56587"
       ]
      },
      {
       "output_type": "stream",
       "stream": "stdout",
       "text": [
        " Plouf 3fd66200f964a520a6ed1ee3\n",
        "56588"
       ]
      },
      {
       "output_type": "stream",
       "stream": "stdout",
       "text": [
        " Stacks 49f9fc9df964a520a26d1fe3\n",
        "56589"
       ]
      },
      {
       "output_type": "stream",
       "stream": "stdout",
       "text": [
        " Barracuda Japanese Restaurant 4630f931f964a520f8451fe3\n",
        "56590"
       ]
      },
      {
       "output_type": "stream",
       "stream": "stdout",
       "text": [
        " Art's Cafe 3fd66200f964a52019f11ee3\n",
        "56591"
       ]
      },
      {
       "output_type": "stream",
       "stream": "stdout",
       "text": [
        " Eiji 45e98072f964a5207e431fe3\n",
        "56592"
       ]
      },
      {
       "output_type": "stream",
       "stream": "stdout",
       "text": [
        " Ohgane Korean Restaurant 4a1a4e57f964a520937a1fe3\n",
        "56593"
       ]
      },
      {
       "output_type": "stream",
       "stream": "stdout",
       "text": [
        " Escape From New York Pizza 44786832f964a520ca331fe3\n",
        "56594"
       ]
      },
      {
       "output_type": "stream",
       "stream": "stdout",
       "text": [
        " Copenhagen Bakery & Cafe 4a6caf4df964a52043d11fe3\n",
        "56595"
       ]
      },
      {
       "output_type": "stream",
       "stream": "stdout",
       "text": [
        " Live Sushi Bar 4a445686f964a52077a71fe3\n",
        "56596"
       ]
      },
      {
       "output_type": "stream",
       "stream": "stdout",
       "text": [
        " Chef Chu's 46d371d2f964a5205a4a1fe3\n",
        "56597"
       ]
      },
      {
       "output_type": "stream",
       "stream": "stdout",
       "text": [
        " Walzwerk 43470c00f964a52080281fe3\n",
        "56598"
       ]
      },
      {
       "output_type": "stream",
       "stream": "stdout",
       "text": [
        " Triptych 43b83103f964a520da2c1fe3\n",
        "56599"
       ]
      },
      {
       "output_type": "stream",
       "stream": "stdout",
       "text": [
        " Zarzuela 3fd66200f964a5209ef11ee3\n",
        "56600"
       ]
      },
      {
       "output_type": "stream",
       "stream": "stdout",
       "text": [
        " The Irish Bank Bar & Restaurant 3fd66200f964a52098ed1ee3\n",
        "56601"
       ]
      },
      {
       "output_type": "stream",
       "stream": "stdout",
       "text": [
        " Sugar Cafe None\n",
        "56602"
       ]
      },
      {
       "output_type": "stream",
       "stream": "stdout",
       "text": [
        " Curry Up Now-Indian Street Food None\n",
        "56603"
       ]
      },
      {
       "output_type": "stream",
       "stream": "stdout",
       "text": [
        " Oxenrose Salon 4a077cfdf964a52067731fe3\n",
        "56604"
       ]
      },
      {
       "output_type": "stream",
       "stream": "stdout",
       "text": [
        " Scala's Bistro 3fd66200f964a52091f11ee3\n",
        "56605"
       ]
      },
      {
       "output_type": "stream",
       "stream": "stdout",
       "text": [
        " Kabuki Springs & Spa 44dc7274f964a520aa361fe3\n",
        "56606"
       ]
      },
      {
       "output_type": "stream",
       "stream": "stdout",
       "text": [
        " Press Club 49d2c77af964a520d75b1fe3\n",
        "56607"
       ]
      },
      {
       "output_type": "stream",
       "stream": "stdout",
       "text": [
        " Pluto's 4a1eeee1f964a520eb7b1fe3\n",
        "56608"
       ]
      },
      {
       "output_type": "stream",
       "stream": "stdout",
       "text": [
        " LYFE Kitchen 4dfa3857fa7667368a6e2234\n",
        "56609"
       ]
      },
      {
       "output_type": "stream",
       "stream": "stdout",
       "text": [
        " Fang 4aa463e5f964a520ab4620e3\n",
        "56610"
       ]
      },
      {
       "output_type": "stream",
       "stream": "stdout",
       "text": [
        " Kabuto Restaurant 3fd66200f964a520d0ec1ee3\n",
        "56611"
       ]
      },
      {
       "output_type": "stream",
       "stream": "stdout",
       "text": [
        " City View Restaurant 4abfdac7f964a5209f9220e3\n",
        "56612"
       ]
      },
      {
       "output_type": "stream",
       "stream": "stdout",
       "text": [
        " Godfather's Burger Lounge None\n",
        "56613"
       ]
      },
      {
       "output_type": "stream",
       "stream": "stdout",
       "text": [
        " Forbidden Island Tiki Lounge 45e6b309f964a5204c431fe3\n",
        "56614"
       ]
      },
      {
       "output_type": "stream",
       "stream": "stdout",
       "text": [
        " Ame 43b7e41df964a520d42c1fe3\n",
        "56615"
       ]
      },
      {
       "output_type": "stream",
       "stream": "stdout",
       "text": [
        " Coach Sushi 4a29c05cf964a520cf951fe3\n",
        "56616"
       ]
      },
      {
       "output_type": "stream",
       "stream": "stdout",
       "text": [
        " Sightglass Coffee 4a4b8a43f964a5206fac1fe3\n",
        "56617"
       ]
      },
      {
       "output_type": "stream",
       "stream": "stdout",
       "text": [
        " Sparky's 24 Hour Diner 49bb4a52f964a520e1531fe3\n",
        "56618"
       ]
      },
      {
       "output_type": "stream",
       "stream": "stdout",
       "text": [
        " Boot & Shoe Service 4b1c4e34f964a520c90524e3\n",
        "56619"
       ]
      },
      {
       "output_type": "stream",
       "stream": "stdout",
       "text": [
        " So Gong Dong Tofu House 4a876fe9f964a5205b0420e3\n",
        "56620"
       ]
      },
      {
       "output_type": "stream",
       "stream": "stdout",
       "text": [
        " Baby Blues BBQ 49b5c272f964a520fe521fe3\n",
        "56621"
       ]
      },
      {
       "output_type": "stream",
       "stream": "stdout",
       "text": [
        " Tobang 4a9b3d51f964a520ce3420e3\n",
        "56622"
       ]
      },
      {
       "output_type": "stream",
       "stream": "stdout",
       "text": [
        " Half Moon Bay Brewing Company 43fed255f964a520ff2f1fe3\n",
        "56623"
       ]
      },
      {
       "output_type": "stream",
       "stream": "stdout",
       "text": [
        " Seniore's Pizza 4a88f509f964a520c40720e3\n",
        "56624"
       ]
      },
      {
       "output_type": "stream",
       "stream": "stdout",
       "text": [
        " Philz Coffee 43fb0c99f964a520e02f1fe3\n",
        "56625"
       ]
      },
      {
       "output_type": "stream",
       "stream": "stdout",
       "text": [
        " Trattoria Contadina 3fd66200f964a52026ee1ee3\n",
        "56626"
       ]
      },
      {
       "output_type": "stream",
       "stream": "stdout",
       "text": [
        " Sweet Basil Thai Cuisine 4aefb079f964a520e8d921e3\n",
        "56627"
       ]
      },
      {
       "output_type": "stream",
       "stream": "stdout",
       "text": [
        " Off the Grid: Fort Mason Center None\n",
        "56628"
       ]
      },
      {
       "output_type": "stream",
       "stream": "stdout",
       "text": [
        " Bijou Restaurant & Bar 4a246bdbf964a5201d7e1fe3\n",
        "56629"
       ]
      },
      {
       "output_type": "stream",
       "stream": "stdout",
       "text": [
        " Lovejoy's Tea Room 454f77e0f964a520db3c1fe3\n",
        "56630"
       ]
      },
      {
       "output_type": "stream",
       "stream": "stdout",
       "text": [
        " Maru Ichi 4aea52e0f964a52004bb21e3\n",
        "56631"
       ]
      },
      {
       "output_type": "stream",
       "stream": "stdout",
       "text": [
        " Amarin Thai Cuisine 462b9290f964a520e0451fe3\n",
        "56632"
       ]
      },
      {
       "output_type": "stream",
       "stream": "stdout",
       "text": [
        " Sutro's at The Cliff House 4b81adfbf964a5205cb730e3\n",
        "56633"
       ]
      },
      {
       "output_type": "stream",
       "stream": "stdout",
       "text": [
        " Delarosa 4b0d8fe5f964a5201e4b23e3\n",
        "56634"
       ]
      },
      {
       "output_type": "stream",
       "stream": "stdout",
       "text": [
        " Samovar Tea Lounge 4123ed80f964a520430c1fe3\n",
        "56635"
       ]
      },
      {
       "output_type": "stream",
       "stream": "stdout",
       "text": [
        " Ella's Restaurant 49ca9ac2f964a520c6581fe3\n",
        "56636"
       ]
      },
      {
       "output_type": "stream",
       "stream": "stdout",
       "text": [
        " Lou's Cafe 4bc767fd8b7c9c747d6536cf\n",
        "56637"
       ]
      },
      {
       "output_type": "stream",
       "stream": "stdout",
       "text": [
        " Anchor Oyster Bar 432a0b00f964a520de271fe3\n",
        "56638"
       ]
      },
      {
       "output_type": "stream",
       "stream": "stdout",
       "text": [
        " Izakaya Mai 4a2b43ddf964a520c0961fe3\n",
        "56639"
       ]
      },
      {
       "output_type": "stream",
       "stream": "stdout",
       "text": [
        " Truly Mediterranean 43da737ff964a5207d2e1fe3\n",
        "56640"
       ]
      },
      {
       "output_type": "stream",
       "stream": "stdout",
       "text": [
        " Top of the Mark 4a3ef906f964a5209ba31fe3\n",
        "56641"
       ]
      },
      {
       "output_type": "stream",
       "stream": "stdout",
       "text": [
        " Submarine Center 47bae8a8f964a520d14d1fe3\n",
        "56642"
       ]
      },
      {
       "output_type": "stream",
       "stream": "stdout",
       "text": [
        " Gypsy's Trattoria Italiano 4b01baf7f964a520ec4422e3\n",
        "56643"
       ]
      },
      {
       "output_type": "stream",
       "stream": "stdout",
       "text": [
        " El Metate 48484314f964a52074501fe3\n",
        "56644"
       ]
      },
      {
       "output_type": "stream",
       "stream": "stdout",
       "text": [
        " Bob Sang Korean BBQ & Tofu 4bce7d6729d4b713bcc2a8dc\n",
        "56645"
       ]
      },
      {
       "output_type": "stream",
       "stream": "stdout",
       "text": [
        " Jong Ga House 4acec4fef964a520d8d120e3\n",
        "56646"
       ]
      },
      {
       "output_type": "stream",
       "stream": "stdout",
       "text": [
        " The Counter 4a75f04ef964a520bde11fe3\n",
        "56647"
       ]
      },
      {
       "output_type": "stream",
       "stream": "stdout",
       "text": [
        " Havana 4a9b1fa4f964a5207c3420e3\n",
        "56648"
       ]
      },
      {
       "output_type": "stream",
       "stream": "stdout",
       "text": [
        " Red Rock Coffee Co 450af4f4f964a5204c391fe3\n",
        "56649"
       ]
      },
      {
       "output_type": "stream",
       "stream": "stdout",
       "text": [
        " Los Altos Grill 426d8480f964a5205f211fe3\n",
        "56650"
       ]
      },
      {
       "output_type": "stream",
       "stream": "stdout",
       "text": [
        " Love At First Bite 49ccfcc9f964a520a8591fe3\n",
        "56651"
       ]
      },
      {
       "output_type": "stream",
       "stream": "stdout",
       "text": [
        " State Bird Provisions 4ef52a378231b0d6238dd471\n",
        "56652"
       ]
      },
      {
       "output_type": "stream",
       "stream": "stdout",
       "text": [
        " Han Il Kwan 46c5f703f964a520094a1fe3\n",
        "56653"
       ]
      },
      {
       "output_type": "stream",
       "stream": "stdout",
       "text": [
        " Berkeley Bowl West 4a2c53e1f964a5204d971fe3\n",
        "56654"
       ]
      },
      {
       "output_type": "stream",
       "stream": "stdout",
       "text": [
        " First Crush Restaurant Wine Bar & Lounge 3fd66200f964a5207ced1ee3\n",
        "56655"
       ]
      },
      {
       "output_type": "stream",
       "stream": "stdout",
       "text": [
        " Chez Papa Bistrot None\n",
        "56656"
       ]
      },
      {
       "output_type": "stream",
       "stream": "stdout",
       "text": [
        " Trad'r Sam's 428e7a00f964a520cf231fe3\n",
        "56657"
       ]
      },
      {
       "output_type": "stream",
       "stream": "stdout",
       "text": [
        " Phat Philly 49bac905f964a520a7531fe3\n",
        "56658"
       ]
      },
      {
       "output_type": "stream",
       "stream": "stdout",
       "text": [
        " Hotaru Japanese Restaurant 4a2bd5d5f964a520e3961fe3\n",
        "56659"
       ]
      },
      {
       "output_type": "stream",
       "stream": "stdout",
       "text": [
        " Pizzetta 211 40df5f80f964a52096011fe3\n",
        "56660"
       ]
      },
      {
       "output_type": "stream",
       "stream": "stdout",
       "text": [
        " NightLife at the California Academy of Sciences 49cc413df964a5205a591fe3\n",
        "56661"
       ]
      },
      {
       "output_type": "stream",
       "stream": "stdout",
       "text": [
        " Tani's Kitchen 49fa211df964a520c76d1fe3\n",
        "56662"
       ]
      },
      {
       "output_type": "stream",
       "stream": "stdout",
       "text": [
        " Herbivore 45842eb8f964a520993f1fe3\n",
        "56663"
       ]
      },
      {
       "output_type": "stream",
       "stream": "stdout",
       "text": [
        " King of Thai Noodle House 4a695baaf964a520ebcb1fe3\n",
        "56664"
       ]
      },
      {
       "output_type": "stream",
       "stream": "stdout",
       "text": [
        " Mr Smith's 42926e80f964a52023241fe3\n",
        "56665"
       ]
      },
      {
       "output_type": "stream",
       "stream": "stdout",
       "text": [
        " 'wichcraft 4a5125dcf964a520acb01fe3\n",
        "56666"
       ]
      },
      {
       "output_type": "stream",
       "stream": "stdout",
       "text": [
        " Grubstake 3fd66200f964a5201af11ee3\n",
        "56667"
       ]
      },
      {
       "output_type": "stream",
       "stream": "stdout",
       "text": [
        " BorrowLenses 4c4dc440d667d13ad827619f\n",
        "56668"
       ]
      },
      {
       "output_type": "stream",
       "stream": "stdout",
       "text": [
        " Verde Tea Cafe 4a25980bf964a520707e1fe3\n",
        "56669"
       ]
      },
      {
       "output_type": "stream",
       "stream": "stdout",
       "text": [
        " Philz Coffee 4b9042e9f964a520aa7f33e3\n",
        "56670"
       ]
      },
      {
       "output_type": "stream",
       "stream": "stdout",
       "text": [
        " Frascati 4a0f8354f964a52070761fe3\n",
        "56671"
       ]
      },
      {
       "output_type": "stream",
       "stream": "stdout",
       "text": [
        " District 461604b8f964a52045451fe3\n",
        "56672"
       ]
      },
      {
       "output_type": "stream",
       "stream": "stdout",
       "text": [
        " The Rotunda None\n",
        "56673"
       ]
      },
      {
       "output_type": "stream",
       "stream": "stdout",
       "text": [
        " The Old Pro 4283ee00f964a520c7221fe3\n",
        "56674"
       ]
      },
      {
       "output_type": "stream",
       "stream": "stdout",
       "text": [
        " The Cliff House Bistro 4a05dcf9f964a5208d721fe3\n",
        "56675"
       ]
      },
      {
       "output_type": "stream",
       "stream": "stdout",
       "text": [
        " Cha-Ya 44ccee85f964a52016361fe3\n",
        "56676"
       ]
      },
      {
       "output_type": "stream",
       "stream": "stdout",
       "text": [
        " Fringale 3fd66200f964a5201bed1ee3\n",
        "56677"
       ]
      },
      {
       "output_type": "stream",
       "stream": "stdout",
       "text": [
        " Kennedy's Irish Pub & Curry House 40dcbc80f964a52084011fe3\n",
        "56678"
       ]
      },
      {
       "output_type": "stream",
       "stream": "stdout",
       "text": [
        " Piccino 4a6f9b3af964a52097d61fe3\n",
        "56679"
       ]
      },
      {
       "output_type": "stream",
       "stream": "stdout",
       "text": [
        " Bocadillos 457eebaff964a520443f1fe3\n",
        "56680"
       ]
      },
      {
       "output_type": "stream",
       "stream": "stdout",
       "text": [
        " Venus Restaurant 441692f2f964a52005311fe3\n",
        "56681"
       ]
      },
      {
       "output_type": "stream",
       "stream": "stdout",
       "text": [
        " L'ardoise Bistro 49d30c0ff964a520e85b1fe3\n",
        "56682"
       ]
      },
      {
       "output_type": "stream",
       "stream": "stdout",
       "text": [
        " Amakara 4b33d936f964a520812025e3\n",
        "56683"
       ]
      },
      {
       "output_type": "stream",
       "stream": "stdout",
       "text": [
        " Arinell Pizza 436e9900f964a520e9291fe3\n",
        "56684"
       ]
      },
      {
       "output_type": "stream",
       "stream": "stdout",
       "text": [
        " Arizmendi Bakery 46aa908cf964a52063491fe3\n",
        "56685"
       ]
      },
      {
       "output_type": "stream",
       "stream": "stdout",
       "text": [
        " Sports Basement 45df2c52f964a52016431fe3\n",
        "56686"
       ]
      },
      {
       "output_type": "stream",
       "stream": "stdout",
       "text": [
        " St. Francis Fountain 44733e3ef964a520a6331fe3\n",
        "56687"
       ]
      },
      {
       "output_type": "stream",
       "stream": "stdout",
       "text": [
        " Tataki 49bc5f17f964a52031541fe3\n",
        "56688"
       ]
      },
      {
       "output_type": "stream",
       "stream": "stdout",
       "text": [
        " Kitaro Japanese Restaurant 43a89f9df964a520752c1fe3\n",
        "56689"
       ]
      },
      {
       "output_type": "stream",
       "stream": "stdout",
       "text": [
        " Udupi Palace 49dad092f964a520b25e1fe3\n",
        "56690"
       ]
      },
      {
       "output_type": "stream",
       "stream": "stdout",
       "text": [
        " Vaso Azzurro Ristorante 49f92297f964a520646d1fe3\n",
        "56691"
       ]
      },
      {
       "output_type": "stream",
       "stream": "stdout",
       "text": [
        " The Grove Yerba Buena 4b7ef75cf964a520ee0c30e3\n",
        "56692"
       ]
      },
      {
       "output_type": "stream",
       "stream": "stdout",
       "text": [
        " Snowflake Teahouse None\n",
        "56693"
       ]
      },
      {
       "output_type": "stream",
       "stream": "stdout",
       "text": [
        " Fu Lam Mum 49f0dff6f964a52068691fe3\n",
        "56694"
       ]
      },
      {
       "output_type": "stream",
       "stream": "stdout",
       "text": [
        " Park Chalet Garden Restaurant 43d3ad1df964a520222e1fe3\n",
        "56695"
       ]
      },
      {
       "output_type": "stream",
       "stream": "stdout",
       "text": [
        " Lavash 49b3268cf964a520e1521fe3\n",
        "56696"
       ]
      },
      {
       "output_type": "stream",
       "stream": "stdout",
       "text": [
        " Mel's Drive-In 435ad280f964a52006291fe3\n",
        "56697"
       ]
      },
      {
       "output_type": "stream",
       "stream": "stdout",
       "text": [
        " Puerto Alegre 3fd66200f964a52059ed1ee3\n",
        "56698"
       ]
      },
      {
       "output_type": "stream",
       "stream": "stdout",
       "text": [
        " Alexander's Steakhouse 4beca4ec8bbcc928ca9d8cb1\n",
        "56699"
       ]
      },
      {
       "output_type": "stream",
       "stream": "stdout",
       "text": [
        " Yank Sing 49b5b56af964a520fd521fe3\n",
        "56700"
       ]
      },
      {
       "output_type": "stream",
       "stream": "stdout",
       "text": [
        " Gialina Pizzeria 4a415045f964a52015a51fe3\n",
        "56701"
       ]
      },
      {
       "output_type": "stream",
       "stream": "stdout",
       "text": [
        " Amber India Restaurant 42ab7b00f964a52027251fe3\n",
        "56702"
       ]
      },
      {
       "output_type": "stream",
       "stream": "stdout",
       "text": [
        " Watercourse Way Bathhouse Spa 446f1af3f964a5207c331fe3\n",
        "56703"
       ]
      },
      {
       "output_type": "stream",
       "stream": "stdout",
       "text": [
        " Athena Grill 4b8d7103f964a52010fc32e3\n",
        "56704"
       ]
      },
      {
       "output_type": "stream",
       "stream": "stdout",
       "text": [
        " Polly Ann Ice Cream 49f5fab6f964a520e26b1fe3\n",
        "56705"
       ]
      },
      {
       "output_type": "stream",
       "stream": "stdout",
       "text": [
        " IKEA None\n",
        "56706"
       ]
      },
      {
       "output_type": "stream",
       "stream": "stdout",
       "text": [
        " Banana Island 43c50166f964a5205f2d1fe3\n",
        "56707"
       ]
      },
      {
       "output_type": "stream",
       "stream": "stdout",
       "text": [
        " Boogaloos None\n",
        "56708"
       ]
      },
      {
       "output_type": "stream",
       "stream": "stdout",
       "text": [
        " Shana Thai Restaurant 49dbd89cf964a5201b5f1fe3\n",
        "56709"
       ]
      },
      {
       "output_type": "stream",
       "stream": "stdout",
       "text": [
        " Americano 45603082f964a520973d1fe3\n",
        "56710"
       ]
      },
      {
       "output_type": "stream",
       "stream": "stdout",
       "text": [
        " Yummy Yummy 443fde11f964a5203a321fe3\n",
        "56711"
       ]
      },
      {
       "output_type": "stream",
       "stream": "stdout",
       "text": [
        " Smuggler's Cove 4afe6db4f964a520682f22e3\n",
        "56712"
       ]
      },
      {
       "output_type": "stream",
       "stream": "stdout",
       "text": [
        " Marica Restaurant 4b51489cf964a520bc4927e3\n",
        "56713"
       ]
      },
      {
       "output_type": "stream",
       "stream": "stdout",
       "text": [
        " Brickhouse Cafe 440db456f964a52097301fe3\n",
        "56714"
       ]
      },
      {
       "output_type": "stream",
       "stream": "stdout",
       "text": [
        " Wonderful Dessert & Cafe None\n",
        "56715"
       ]
      },
      {
       "output_type": "stream",
       "stream": "stdout",
       "text": [
        " Beard Papa's None\n",
        "56716"
       ]
      },
      {
       "output_type": "stream",
       "stream": "stdout",
       "text": [
        " Vessel 460c5fe0f964a520fe441fe3\n",
        "56717"
       ]
      },
      {
       "output_type": "stream",
       "stream": "stdout",
       "text": [
        " John Colins None\n",
        "56718"
       ]
      },
      {
       "output_type": "stream",
       "stream": "stdout",
       "text": [
        " La Mediterranee 4647948bf964a5209d461fe3\n",
        "56719"
       ]
      },
      {
       "output_type": "stream",
       "stream": "stdout",
       "text": [
        " Genova Delicatessen 4646ebc8f964a52091461fe3\n",
        "56720"
       ]
      },
      {
       "output_type": "stream",
       "stream": "stdout",
       "text": [
        " Kabab and Curry's 4afdbecff964a520792a22e3\n",
        "56721"
       ]
      },
      {
       "output_type": "stream",
       "stream": "stdout",
       "text": [
        " Buffalo Bill's Brew Pub 4a7cc510f964a52093ed1fe3\n",
        "56722"
       ]
      },
      {
       "output_type": "stream",
       "stream": "stdout",
       "text": [
        " Pluto's 4293c000f964a52030241fe3\n",
        "56723"
       ]
      },
      {
       "output_type": "stream",
       "stream": "stdout",
       "text": [
        " Denica's Real Food Kitchen 4b93edf7f964a5208b5a34e3\n",
        "56724"
       ]
      },
      {
       "output_type": "stream",
       "stream": "stdout",
       "text": [
        " Marco Polo Italian Ice Cream 49ee35c8f964a5203b681fe3\n",
        "56725"
       ]
      },
      {
       "output_type": "stream",
       "stream": "stdout",
       "text": [
        " Twenty Five Lusk 4c72eddd0e23b1f784201fdc\n",
        "56726"
       ]
      },
      {
       "output_type": "stream",
       "stream": "stdout",
       "text": [
        " Barbara's Fish Trap 4a6c8c21f964a520cad01fe3\n",
        "56727"
       ]
      },
      {
       "output_type": "stream",
       "stream": "stdout",
       "text": [
        " Picaro 41e46880f964a520e01e1fe3\n",
        "56728"
       ]
      },
      {
       "output_type": "stream",
       "stream": "stdout",
       "text": [
        " Kara's Cupcakes 4b140da8f964a520829c23e3\n",
        "56729"
       ]
      },
      {
       "output_type": "stream",
       "stream": "stdout",
       "text": [
        " Kasa Indian Eatery 49ecf1def964a520b3671fe3\n",
        "56730"
       ]
      },
      {
       "output_type": "stream",
       "stream": "stdout",
       "text": [
        " The Elite Cafe None\n",
        "56731"
       ]
      },
      {
       "output_type": "stream",
       "stream": "stdout",
       "text": [
        " Pho Huynh Hiep 2 - Kevin's Noodle House 4b1c7936f964a520b70724e3\n",
        "56732"
       ]
      },
      {
       "output_type": "stream",
       "stream": "stdout",
       "text": [
        " Harlot None\n",
        "56733"
       ]
      },
      {
       "output_type": "stream",
       "stream": "stdout",
       "text": [
        " Bisou 4bd48dfd5631c9b62399a230\n",
        "56734"
       ]
      },
      {
       "output_type": "stream",
       "stream": "stdout",
       "text": [
        " Picante 45fa9688f964a52057441fe3\n",
        "56735"
       ]
      },
      {
       "output_type": "stream",
       "stream": "stdout",
       "text": [
        " Gussie's Chicken & Waffles 4a74afc5f964a52033df1fe3\n",
        "56736"
       ]
      },
      {
       "output_type": "stream",
       "stream": "stdout",
       "text": [
        " Saul's Restaurant & Delicatessen 40ff0380f964a520430b1fe3\n",
        "56737"
       ]
      },
      {
       "output_type": "stream",
       "stream": "stdout",
       "text": [
        " Calzone's Pizza Cucina 4f32486619836c91c7c85ff0\n",
        "56738"
       ]
      },
      {
       "output_type": "stream",
       "stream": "stdout",
       "text": [
        " Beard Papa's Cream Puffs 446dcedaf964a5206b331fe3\n",
        "56739"
       ]
      },
      {
       "output_type": "stream",
       "stream": "stdout",
       "text": [
        " Kingfish Restaurant 4ab5b543f964a520e07520e3\n",
        "56740"
       ]
      },
      {
       "output_type": "stream",
       "stream": "stdout",
       "text": [
        " Old Town Sushi 4acb9f6df964a520a9c420e3\n",
        "56741"
       ]
      },
      {
       "output_type": "stream",
       "stream": "stdout",
       "text": [
        " Blondie's Pizza 4a36f570f964a520109e1fe3\n",
        "56742"
       ]
      },
      {
       "output_type": "stream",
       "stream": "stdout",
       "text": [
        " Crustacean Restaurant 4aab1080f964a520c65820e3\n",
        "56743"
       ]
      },
      {
       "output_type": "stream",
       "stream": "stdout",
       "text": [
        " Koo 44a93c68f964a520f9341fe3\n",
        "56744"
       ]
      },
      {
       "output_type": "stream",
       "stream": "stdout",
       "text": [
        " Sushi Zone 4c1f9a12b306c92885ad68b7\n",
        "56745"
       ]
      },
      {
       "output_type": "stream",
       "stream": "stdout",
       "text": [
        " Sushi O Sushi 43768200f964a5204e2a1fe3\n",
        "56746"
       ]
      },
      {
       "output_type": "stream",
       "stream": "stdout",
       "text": [
        " Great China 52afcc5e498e0ad883a9f1bb\n",
        "56747"
       ]
      },
      {
       "output_type": "stream",
       "stream": "stdout",
       "text": [
        " Oren's Hummus Shop 4df7ce8315205e0e3f6b06a4\n",
        "56748"
       ]
      },
      {
       "output_type": "stream",
       "stream": "stdout",
       "text": [
        " Pizza Orgasmica & Brewing Company 437e6b00f964a520be2a1fe3\n",
        "56749"
       ]
      },
      {
       "output_type": "stream",
       "stream": "stdout",
       "text": [
        " Le Cheval 43388b80f964a52030281fe3\n",
        "56750"
       ]
      },
      {
       "output_type": "stream",
       "stream": "stdout",
       "text": [
        " Five Guys Burgers and Fries 4c113e89a9420f47de6b7c51\n",
        "56751"
       ]
      },
      {
       "output_type": "stream",
       "stream": "stdout",
       "text": [
        " Lol\u00f3 49dcd054f964a520a45f1fe3\n",
        "56752"
       ]
      },
      {
       "output_type": "stream",
       "stream": "stdout",
       "text": [
        " Cafe Borrone 44ef7327f964a520ed371fe3\n",
        "56753"
       ]
      },
      {
       "output_type": "stream",
       "stream": "stdout",
       "text": [
        " Mr. and Mrs. Miscellaneous 4bf313f7370e76b0c956bd4a\n",
        "56754"
       ]
      },
      {
       "output_type": "stream",
       "stream": "stdout",
       "text": [
        " Chutney 4ac44acdf964a520949e20e3\n",
        "56755"
       ]
      },
      {
       "output_type": "stream",
       "stream": "stdout",
       "text": [
        " Shalimar Restaurant 49e2a716f964a52048621fe3\n",
        "56756"
       ]
      },
      {
       "output_type": "stream",
       "stream": "stdout",
       "text": [
        " Crepevine 4538e8c4f964a520d33b1fe3\n",
        "56757"
       ]
      },
      {
       "output_type": "stream",
       "stream": "stdout",
       "text": [
        " Wally's Cafe 4a7e4c1df964a520b7f11fe3\n",
        "56758"
       ]
      },
      {
       "output_type": "stream",
       "stream": "stdout",
       "text": [
        " Sweet Maple 4cc0b6dced033704295da923\n",
        "56759"
       ]
      },
      {
       "output_type": "stream",
       "stream": "stdout",
       "text": [
        " Pho Phu Quoc PPQ Beef Noodle House Restaurant 43c8ff1df964a520932d1fe3\n",
        "56760"
       ]
      },
      {
       "output_type": "stream",
       "stream": "stdout",
       "text": [
        " Brothers Restaurant 3fd66200f964a520deec1ee3\n",
        "56761"
       ]
      },
      {
       "output_type": "stream",
       "stream": "stdout",
       "text": [
        " The Codmother Fish and Chips 4db745f6ec8ec02e306c3d40\n",
        "56762"
       ]
      },
      {
       "output_type": "stream",
       "stream": "stdout",
       "text": [
        " Sushi Ran 43c3ad7ef964a520542d1fe3\n",
        "56763"
       ]
      },
      {
       "output_type": "stream",
       "stream": "stdout",
       "text": [
        " Boulevard Cafe 49e9de32f964a52006661fe3\n",
        "56764"
       ]
      },
      {
       "output_type": "stream",
       "stream": "stdout",
       "text": [
        " Tommy's Restaurant 3fd66200f964a520a3ec1ee3\n",
        "56765"
       ]
      },
      {
       "output_type": "stream",
       "stream": "stdout",
       "text": [
        " Akiko's Restaurant 49e7e380f964a52027651fe3\n",
        "56766"
       ]
      },
      {
       "output_type": "stream",
       "stream": "stdout",
       "text": [
        " TrueBurger 4b6c87f5f964a52031412ce3\n",
        "56767"
       ]
      },
      {
       "output_type": "stream",
       "stream": "stdout",
       "text": [
        " Koh Samui & The Monkey 43ecd8f5f964a520472f1fe3\n",
        "56768"
       ]
      },
      {
       "output_type": "stream",
       "stream": "stdout",
       "text": [
        " Shalimar Restaurant 42b21280f964a5206b251fe3\n",
        "56769"
       ]
      },
      {
       "output_type": "stream",
       "stream": "stdout",
       "text": [
        " Farallon 3fd66200f964a52023ed1ee3\n",
        "56770"
       ]
      },
      {
       "output_type": "stream",
       "stream": "stdout",
       "text": [
        " Good Luck Dim Sum 3fd66200f964a520f0ec1ee3\n",
        "56771"
       ]
      },
      {
       "output_type": "stream",
       "stream": "stdout",
       "text": [
        " B Street & Vine 4a0cf910f964a52073751fe3\n",
        "56772"
       ]
      },
      {
       "output_type": "stream",
       "stream": "stdout",
       "text": [
        " Umami 4a0e428cf964a520da751fe3\n",
        "56773"
       ]
      },
      {
       "output_type": "stream",
       "stream": "stdout",
       "text": [
        " Velvet Cantina 43c148e5f964a5203f2d1fe3\n",
        "56774"
       ]
      },
      {
       "output_type": "stream",
       "stream": "stdout",
       "text": [
        " Flora Restaurant & Bar 49e8e0fff964a520a4651fe3\n",
        "56775"
       ]
      },
      {
       "output_type": "stream",
       "stream": "stdout",
       "text": [
        " Chouchou Bistro 40f9bd80f964a520d50a1fe3\n",
        "56776"
       ]
      },
      {
       "output_type": "stream",
       "stream": "stdout",
       "text": [
        " Goat Hill Pizza 413e4b80f964a520521c1fe3\n",
        "56777"
       ]
      },
      {
       "output_type": "stream",
       "stream": "stdout",
       "text": [
        " Manpuku 4a98906bf964a520b82c20e3\n",
        "56778"
       ]
      },
      {
       "output_type": "stream",
       "stream": "stdout",
       "text": [
        " Coupa Caf\u00e9 43616a00f964a52037291fe3\n",
        "56779"
       ]
      },
      {
       "output_type": "stream",
       "stream": "stdout",
       "text": [
        " Ocean Blue Sushi Club 4a2b3514f964a520b7961fe3\n",
        "56780"
       ]
      },
      {
       "output_type": "stream",
       "stream": "stdout",
       "text": [
        " Yoshi's Oakland 459e2e1df964a520b2401fe3\n",
        "56781"
       ]
      },
      {
       "output_type": "stream",
       "stream": "stdout",
       "text": [
        " Delancey Street Restaurant 49ec92dff964a5206a671fe3\n",
        "56782"
       ]
      },
      {
       "output_type": "stream",
       "stream": "stdout",
       "text": [
        " Tea Era 4a61202bf964a520f1c11fe3\n",
        "56783"
       ]
      },
      {
       "output_type": "stream",
       "stream": "stdout",
       "text": [
        " Barbacco 4b47a128f964a520203826e3\n",
        "56784"
       ]
      },
      {
       "output_type": "stream",
       "stream": "stdout",
       "text": [
        " Teacake Bake Shop 4a28526af964a5200e951fe3\n",
        "56785"
       ]
      },
      {
       "output_type": "stream",
       "stream": "stdout",
       "text": [
        " IKEA 445a2c5ff964a520e2321fe3\n",
        "56786"
       ]
      },
      {
       "output_type": "stream",
       "stream": "stdout",
       "text": [
        " Melting Pot 47124c9ff964a520a14b1fe3\n",
        "56787"
       ]
      },
      {
       "output_type": "stream",
       "stream": "stdout",
       "text": [
        " Sauce 42055e00f964a5206d1f1fe3\n",
        "56788"
       ]
      },
      {
       "output_type": "stream",
       "stream": "stdout",
       "text": [
        " Great Eastern Restaurant 4a824219f964a5200cf91fe3\n",
        "56789"
       ]
      },
      {
       "output_type": "stream",
       "stream": "stdout",
       "text": [
        " Slide 451af976f964a520773a1fe3\n",
        "56790"
       ]
      },
      {
       "output_type": "stream",
       "stream": "stdout",
       "text": [
        " Quince 4a3dd25bf964a520b1a21fe3\n",
        "56791"
       ]
      },
      {
       "output_type": "stream",
       "stream": "stdout",
       "text": [
        " Hot Cookie 43efd1ecf964a520712f1fe3\n",
        "56792"
       ]
      },
      {
       "output_type": "stream",
       "stream": "stdout",
       "text": [
        " Pancho Villa Taqueria 45bce3b8f964a5200c421fe3\n",
        "56793"
       ]
      },
      {
       "output_type": "stream",
       "stream": "stdout",
       "text": [
        " \u00c0 C\u00f4t\u00e9 44ec3e24f964a520cf371fe3\n",
        "56794"
       ]
      },
      {
       "output_type": "stream",
       "stream": "stdout",
       "text": [
        " Frances 4b00cb8ef964a520274122e3\n",
        "56795"
       ]
      },
      {
       "output_type": "stream",
       "stream": "stdout",
       "text": [
        " Universal Cafe 40e0b100f964a520e2091fe3\n",
        "56796"
       ]
      },
      {
       "output_type": "stream",
       "stream": "stdout",
       "text": [
        " Just For You Cafe 43dc10aef964a5209a2e1fe3\n",
        "56797"
       ]
      },
      {
       "output_type": "stream",
       "stream": "stdout",
       "text": [
        " Esperpento 49e240bdf964a520ff611fe3\n",
        "56798"
       ]
      },
      {
       "output_type": "stream",
       "stream": "stdout",
       "text": [
        " The Little Chihuahua 49daea87f964a520be5e1fe3\n",
        "56799"
       ]
      },
      {
       "output_type": "stream",
       "stream": "stdout",
       "text": [
        " Cooking Papa Restaurant 4bb415e59af3b713a4ff8b28\n",
        "56800"
       ]
      },
      {
       "output_type": "stream",
       "stream": "stdout",
       "text": [
        " The Fillmore None\n",
        "56801"
       ]
      },
      {
       "output_type": "stream",
       "stream": "stdout",
       "text": [
        " Suzu Noodle House 4a09a350f964a52041741fe3\n",
        "56802"
       ]
      },
      {
       "output_type": "stream",
       "stream": "stdout",
       "text": [
        " Source 4d7944e7ece5a1cd62b9a2a4\n",
        "56803"
       ]
      },
      {
       "output_type": "stream",
       "stream": "stdout",
       "text": [
        " Frjtz 4a5aaa99f964a520baba1fe3\n",
        "56804"
       ]
      },
      {
       "output_type": "stream",
       "stream": "stdout",
       "text": [
        " Butter 410c3280f964a520ba0b1fe3\n",
        "56805"
       ]
      },
      {
       "output_type": "stream",
       "stream": "stdout",
       "text": [
        " Elbo Room 43b6c65cf964a520cf2c1fe3\n",
        "56806"
       ]
      },
      {
       "output_type": "stream",
       "stream": "stdout",
       "text": [
        " Gorilla Barbeque 4a60da12f964a5204bc11fe3\n",
        "56807"
       ]
      },
      {
       "output_type": "stream",
       "stream": "stdout",
       "text": [
        " Amoeba Music 3fd66200f964a52057ed1ee3\n",
        "56808"
       ]
      },
      {
       "output_type": "stream",
       "stream": "stdout",
       "text": [
        " Miller's East Coast Deli 46865b76f964a5203e481fe3\n",
        "56809"
       ]
      },
      {
       "output_type": "stream",
       "stream": "stdout",
       "text": [
        " The Refuge 49f9114bf964a520586d1fe3\n",
        "56810"
       ]
      },
      {
       "output_type": "stream",
       "stream": "stdout",
       "text": [
        " Tacolicious 4b4bf0e8f964a520bdab26e3\n",
        "56811"
       ]
      },
      {
       "output_type": "stream",
       "stream": "stdout",
       "text": [
        " Don Pisto's 51a03e80498e3b4c54eea432\n",
        "56812"
       ]
      },
      {
       "output_type": "stream",
       "stream": "stdout",
       "text": [
        " Caf\u00e9 de la Presse 45f40797f964a520f4431fe3\n",
        "56813"
       ]
      },
      {
       "output_type": "stream",
       "stream": "stdout",
       "text": [
        " Basil Thai Restaurant & Bar 435c2400f964a5200e291fe3\n",
        "56814"
       ]
      },
      {
       "output_type": "stream",
       "stream": "stdout",
       "text": [
        " Honey Honey Cafe & Crepery 49dad117f964a520b65e1fe3\n",
        "56815"
       ]
      },
      {
       "output_type": "stream",
       "stream": "stdout",
       "text": [
        " Trattoria La Siciliana None\n",
        "56816"
       ]
      },
      {
       "output_type": "stream",
       "stream": "stdout",
       "text": [
        " Ton Kiang None\n",
        "56817"
       ]
      },
      {
       "output_type": "stream",
       "stream": "stdout",
       "text": [
        " T-Rex Barbeque Restaurant & Bar 4ad53f28f964a520830221e3\n",
        "56818"
       ]
      },
      {
       "output_type": "stream",
       "stream": "stdout",
       "text": [
        " Amelie 46aca347f964a52075491fe3\n",
        "56819"
       ]
      },
      {
       "output_type": "stream",
       "stream": "stdout",
       "text": [
        " Kaenyama Sushi and Teppanyaki Restaurant 4be60b41910020a1e1e7d314\n",
        "56820"
       ]
      },
      {
       "output_type": "stream",
       "stream": "stdout",
       "text": [
        " Hong Kong Lounge None\n",
        "56821"
       ]
      },
      {
       "output_type": "stream",
       "stream": "stdout",
       "text": [
        " The Tipsy Pig 49dba3b4f964a520e25e1fe3\n",
        "56822"
       ]
      },
      {
       "output_type": "stream",
       "stream": "stdout",
       "text": [
        " Gitane 49baa46af964a5208f531fe3\n",
        "56823"
       ]
      },
      {
       "output_type": "stream",
       "stream": "stdout",
       "text": [
        " Pork Store Cafe 3fd66200f964a52024ee1ee3\n",
        "56824"
       ]
      },
      {
       "output_type": "stream",
       "stream": "stdout",
       "text": [
        " Serpentine 47629427f964a520e54c1fe3\n",
        "56825"
       ]
      },
      {
       "output_type": "stream",
       "stream": "stdout",
       "text": [
        " Paris Baguette 4a62aa1af964a5206fc41fe3\n",
        "56826"
       ]
      },
      {
       "output_type": "stream",
       "stream": "stdout",
       "text": [
        " Coconuts Caribbean Restaurant & Bar None\n",
        "56827"
       ]
      },
      {
       "output_type": "stream",
       "stream": "stdout",
       "text": [
        " One Market Restaurant 44b2a62df964a52042351fe3\n",
        "56828"
       ]
      },
      {
       "output_type": "stream",
       "stream": "stdout",
       "text": [
        " Sala Thai 4b3d7945f964a520a99425e3\n",
        "56829"
       ]
      },
      {
       "output_type": "stream",
       "stream": "stdout",
       "text": [
        " Mamacita 437bc800f964a520792a1fe3\n",
        "56830"
       ]
      },
      {
       "output_type": "stream",
       "stream": "stdout",
       "text": [
        " Muracci's Japanese Curry & Grill 49ba1813f964a52059531fe3\n",
        "56831"
       ]
      },
      {
       "output_type": "stream",
       "stream": "stdout",
       "text": [
        " La M\u00e9diterran\u00e9e 43cc0e7df964a520c92d1fe3\n",
        "56832"
       ]
      },
      {
       "output_type": "stream",
       "stream": "stdout",
       "text": [
        " Lime Tree Southeast Asian Kitchen 471de6f7f964a520ba4b1fe3\n",
        "56833"
       ]
      },
      {
       "output_type": "stream",
       "stream": "stdout",
       "text": [
        " Plow 4c966048f244b1f7b0e6331d\n",
        "56834"
       ]
      },
      {
       "output_type": "stream",
       "stream": "stdout",
       "text": [
        " Toyose 4a73619af964a52050dc1fe3\n",
        "56835"
       ]
      },
      {
       "output_type": "stream",
       "stream": "stdout",
       "text": [
        " Burma Superstar 4b3fcf3cf964a52058af25e3\n",
        "56836"
       ]
      },
      {
       "output_type": "stream",
       "stream": "stdout",
       "text": [
        " Roam Artisan Burgers 4c2176b99390c9b61127c9cd\n",
        "56837"
       ]
      },
      {
       "output_type": "stream",
       "stream": "stdout",
       "text": [
        " Naan N Curry 43bbe413f964a520f22c1fe3\n",
        "56838"
       ]
      },
      {
       "output_type": "stream",
       "stream": "stdout",
       "text": [
        " Bocanova 4a98898cf964a520962c20e3\n",
        "56839"
       ]
      },
      {
       "output_type": "stream",
       "stream": "stdout",
       "text": [
        " The Trappist 4792385cf964a520524d1fe3\n",
        "56840"
       ]
      },
      {
       "output_type": "stream",
       "stream": "stdout",
       "text": [
        " Woodhouse Fish Company 44a4f50ef964a520e7341fe3\n",
        "56841"
       ]
      },
      {
       "output_type": "stream",
       "stream": "stdout",
       "text": [
        " Pizzaiolo 4a1b8f74f964a520ff7a1fe3\n",
        "56842"
       ]
      },
      {
       "output_type": "stream",
       "stream": "stdout",
       "text": [
        " Geta 4a04f6b4f964a52043721fe3\n",
        "56843"
       ]
      },
      {
       "output_type": "stream",
       "stream": "stdout",
       "text": [
        " Va de Vi Bistro & Wine Bar 4ad15593f964a52018de20e3\n",
        "56844"
       ]
      },
      {
       "output_type": "stream",
       "stream": "stdout",
       "text": [
        " Blue Plate 43601880f964a52023291fe3\n",
        "56845"
       ]
      },
      {
       "output_type": "stream",
       "stream": "stdout",
       "text": [
        " Outerlands 4a354111f964a520ad9c1fe3\n",
        "56846"
       ]
      },
      {
       "output_type": "stream",
       "stream": "stdout",
       "text": [
        " Mission Pie 463c010af964a52027461fe3\n",
        "56847"
       ]
      },
      {
       "output_type": "stream",
       "stream": "stdout",
       "text": [
        " Pizzeria Delfina 49fdbacbf964a520236f1fe3\n",
        "56848"
       ]
      },
      {
       "output_type": "stream",
       "stream": "stdout",
       "text": [
        " Sears Fine Food None\n",
        "56849"
       ]
      },
      {
       "output_type": "stream",
       "stream": "stdout",
       "text": [
        " Prospect 4c09054ca1b32d7fb1e296f0\n",
        "56850"
       ]
      },
      {
       "output_type": "stream",
       "stream": "stdout",
       "text": [
        " Little Delhi 4a189db1f964a520d2791fe3\n",
        "56851"
       ]
      },
      {
       "output_type": "stream",
       "stream": "stdout",
       "text": [
        " 1300 on Fillmore 49f2af6df964a5205b6a1fe3\n",
        "56852"
       ]
      },
      {
       "output_type": "stream",
       "stream": "stdout",
       "text": [
        " Sunflower Authentic Vietnamese Restaurant 48490adff964a52079501fe3\n",
        "56853"
       ]
      },
      {
       "output_type": "stream",
       "stream": "stdout",
       "text": [
        " Joy Sushi 4a68bb81f964a520e3ca1fe3\n",
        "56854"
       ]
      },
      {
       "output_type": "stream",
       "stream": "stdout",
       "text": [
        " The Sentinel 49defb9ff964a520b9601fe3\n",
        "56855"
       ]
      },
      {
       "output_type": "stream",
       "stream": "stdout",
       "text": [
        " Saigon Seafood Harbor Restaurant 49fdc149f964a520266f1fe3\n",
        "56856"
       ]
      },
      {
       "output_type": "stream",
       "stream": "stdout",
       "text": [
        " Straits Cafe 49e6cf47f964a52071641fe3\n",
        "56857"
       ]
      },
      {
       "output_type": "stream",
       "stream": "stdout",
       "text": [
        " Philz Coffee 4a844f01f964a5203bfc1fe3\n",
        "56858"
       ]
      },
      {
       "output_type": "stream",
       "stream": "stdout",
       "text": [
        " Buca di Beppo 4a6cbe6cf964a5207ed11fe3\n",
        "56859"
       ]
      },
      {
       "output_type": "stream",
       "stream": "stdout",
       "text": [
        " Fish. None\n",
        "56860"
       ]
      },
      {
       "output_type": "stream",
       "stream": "stdout",
       "text": [
        " BJ's Restaurant & Brewhouse 454f462ff964a520d53c1fe3\n",
        "56861"
       ]
      },
      {
       "output_type": "stream",
       "stream": "stdout",
       "text": [
        " The Grove Fillmore 425c6100f964a520fd201fe3\n",
        "56862"
       ]
      },
      {
       "output_type": "stream",
       "stream": "stdout",
       "text": [
        " Espetus Churrascaria None\n",
        "56863"
       ]
      },
      {
       "output_type": "stream",
       "stream": "stdout",
       "text": [
        " Chop Bar None\n",
        "56864"
       ]
      },
      {
       "output_type": "stream",
       "stream": "stdout",
       "text": [
        " Zushi Puzzle 43ee0337f964a5205b2f1fe3\n",
        "56865"
       ]
      },
      {
       "output_type": "stream",
       "stream": "stdout",
       "text": [
        " The Citrus Club 43695300f964a52084291fe3\n",
        "56866"
       ]
      },
      {
       "output_type": "stream",
       "stream": "stdout",
       "text": [
        " Smoking Pig Bbq 4e4d753ac65be7ec3abbee91\n",
        "56867"
       ]
      },
      {
       "output_type": "stream",
       "stream": "stdout",
       "text": [
        " Starbelly 4a789bbbf964a52004e61fe3\n",
        "56868"
       ]
      },
      {
       "output_type": "stream",
       "stream": "stdout",
       "text": [
        " In-N-Out Burger 43f08afdf964a520752f1fe3\n",
        "56869"
       ]
      },
      {
       "output_type": "stream",
       "stream": "stdout",
       "text": [
        " Everett & Jones Barbeque 4a067eb8f964a520fb721fe3\n",
        "56870"
       ]
      },
      {
       "output_type": "stream",
       "stream": "stdout",
       "text": [
        " Joya 4a3b2217f964a52093a01fe3\n",
        "56871"
       ]
      },
      {
       "output_type": "stream",
       "stream": "stdout",
       "text": [
        " La Folie 49e04b9af964a5204f611fe3\n",
        "56872"
       ]
      },
      {
       "output_type": "stream",
       "stream": "stdout",
       "text": [
        " E' Tutto Qua 4a46a5d9f964a5203da91fe3\n",
        "56873"
       ]
      },
      {
       "output_type": "stream",
       "stream": "stdout",
       "text": [
        " Farina Focaccia & Cucina Italiana 46c21a36f964a520f6491fe3\n",
        "56874"
       ]
      },
      {
       "output_type": "stream",
       "stream": "stdout",
       "text": [
        " La Bodeguita Del Medio 4a43cb01f964a520d2a61fe3\n",
        "56875"
       ]
      },
      {
       "output_type": "stream",
       "stream": "stdout",
       "text": [
        " Anchor & Hope 49d111f5f964a520575b1fe3\n",
        "56876"
       ]
      },
      {
       "output_type": "stream",
       "stream": "stdout",
       "text": [
        " The American Grilled Cheese Kitchen 4bd1e1f1a8b3a593bb9e665f\n",
        "56877"
       ]
      },
      {
       "output_type": "stream",
       "stream": "stdout",
       "text": [
        " Kara's Cupcakes 4ab57ffcf964a520007520e3\n",
        "56878"
       ]
      },
      {
       "output_type": "stream",
       "stream": "stdout",
       "text": [
        " Broken Record 47224f85f964a520cd4b1fe3\n",
        "56879"
       ]
      },
      {
       "output_type": "stream",
       "stream": "stdout",
       "text": [
        " RN74 4bbe7a6f30c99c7471e55311\n",
        "56880"
       ]
      },
      {
       "output_type": "stream",
       "stream": "stdout",
       "text": [
        " Pic\u00e1n 4a23f4edf964a520ed7d1fe3\n",
        "56881"
       ]
      },
      {
       "output_type": "stream",
       "stream": "stdout",
       "text": [
        " Sushirrito 4d361dbd068da090bd0cc782\n",
        "56882"
       ]
      },
      {
       "output_type": "stream",
       "stream": "stdout",
       "text": [
        " Bon Chon Chicken 4cc9cb24d338236adfbca47c\n",
        "56883"
       ]
      },
      {
       "output_type": "stream",
       "stream": "stdout",
       "text": [
        " Kirala Japanese Restaurant 3fd66200f964a52011ed1ee3\n",
        "56884"
       ]
      },
      {
       "output_type": "stream",
       "stream": "stdout",
       "text": [
        " Green Apple Books 42717900f964a52076211fe3\n",
        "56885"
       ]
      },
      {
       "output_type": "stream",
       "stream": "stdout",
       "text": [
        " Philz Coffee 4a622c74f964a52048c31fe3\n",
        "56886"
       ]
      },
      {
       "output_type": "stream",
       "stream": "stdout",
       "text": [
        " MoGo BBQ 4b5e0861f964a520237a29e3\n",
        "56887"
       ]
      },
      {
       "output_type": "stream",
       "stream": "stdout",
       "text": [
        " Schubert's Bakery 4ad6765ef964a5204c0721e3\n",
        "56888"
       ]
      },
      {
       "output_type": "stream",
       "stream": "stdout",
       "text": [
        " Jack's Prime Burgers & Shakes 4a18fcabf964a520017a1fe3\n",
        "56889"
       ]
      },
      {
       "output_type": "stream",
       "stream": "stdout",
       "text": [
        " Stacks 466299c2f964a5206b471fe3\n",
        "56890"
       ]
      },
      {
       "output_type": "stream",
       "stream": "stdout",
       "text": [
        " Farmerbrown's Little Skillet 4a0c561df964a52022751fe3\n",
        "56891"
       ]
      },
      {
       "output_type": "stream",
       "stream": "stdout",
       "text": [
        " Tamarine 4202bb00f964a520621f1fe3\n",
        "56892"
       ]
      },
      {
       "output_type": "stream",
       "stream": "stdout",
       "text": [
        " Papalote Mexican Grill 4426e666f964a520b3311fe3\n",
        "56893"
       ]
      },
      {
       "output_type": "stream",
       "stream": "stdout",
       "text": [
        " Nihon Whisky Lounge 44386771f964a52016321fe3\n",
        "56894"
       ]
      },
      {
       "output_type": "stream",
       "stream": "stdout",
       "text": [
        " Marnee Thai 49bb1b50f964a520d3531fe3\n",
        "56895"
       ]
      },
      {
       "output_type": "stream",
       "stream": "stdout",
       "text": [
        " Ebisu 3fd66200f964a52017ed1ee3\n",
        "56896"
       ]
      },
      {
       "output_type": "stream",
       "stream": "stdout",
       "text": [
        " Tommaso's Ristorante Italiano 49e05c38f964a52052611fe3\n",
        "56897"
       ]
      },
      {
       "output_type": "stream",
       "stream": "stdout",
       "text": [
        " Country Way 4ae34316f964a520859221e3\n",
        "56898"
       ]
      },
      {
       "output_type": "stream",
       "stream": "stdout",
       "text": [
        " Pacific Catch 49d050a3f964a5201c5b1fe3\n",
        "56899"
       ]
      },
      {
       "output_type": "stream",
       "stream": "stdout",
       "text": [
        " Emmy's Spaghetti Shack 42accc80f964a52039251fe3\n",
        "56900"
       ]
      },
      {
       "output_type": "stream",
       "stream": "stdout",
       "text": [
        " SO None\n",
        "56901"
       ]
      },
      {
       "output_type": "stream",
       "stream": "stdout",
       "text": [
        " Little Sheep Mongolian Hot Pot 491dda14f964a5207c521fe3\n",
        "56902"
       ]
      },
      {
       "output_type": "stream",
       "stream": "stdout",
       "text": [
        " Bette's Oceanview Diner 49dcd103f964a520a55f1fe3\n",
        "56903"
       ]
      },
      {
       "output_type": "stream",
       "stream": "stdout",
       "text": [
        " Burma Superstar 49f7e4d7f964a520e96c1fe3\n",
        "56904"
       ]
      },
      {
       "output_type": "stream",
       "stream": "stdout",
       "text": [
        " Marlowe 4b71ed7af964a520b3642de3\n",
        "56905"
       ]
      },
      {
       "output_type": "stream",
       "stream": "stdout",
       "text": [
        " Infusion Lounge 49efbb13f964a520fc681fe3\n",
        "56906"
       ]
      },
      {
       "output_type": "stream",
       "stream": "stdout",
       "text": [
        " Patxi's Pizza 42b9fb80f964a52097251fe3\n",
        "56907"
       ]
      },
      {
       "output_type": "stream",
       "stream": "stdout",
       "text": [
        " Tanpopo 49e8b000f964a5206a651fe3\n",
        "56908"
       ]
      },
      {
       "output_type": "stream",
       "stream": "stdout",
       "text": [
        " Fleur de Lys 4a64f6e0f964a52015c71fe3\n",
        "56909"
       ]
      },
      {
       "output_type": "stream",
       "stream": "stdout",
       "text": [
        " Genki Ramen 4607c995f964a520d6441fe3\n",
        "56910"
       ]
      },
      {
       "output_type": "stream",
       "stream": "stdout",
       "text": [
        " Amber India 4acab395f964a520d8c220e3\n",
        "56911"
       ]
      },
      {
       "output_type": "stream",
       "stream": "stdout",
       "text": [
        " Hard Knox Cafe 49eb6c30f964a520d7661fe3\n",
        "56912"
       ]
      },
      {
       "output_type": "stream",
       "stream": "stdout",
       "text": [
        " Slow Club 40ad4680f964a52037f31ee3\n",
        "56913"
       ]
      },
      {
       "output_type": "stream",
       "stream": "stdout",
       "text": [
        " Rye None\n",
        "56914"
       ]
      },
      {
       "output_type": "stream",
       "stream": "stdout",
       "text": [
        " Nopalito 49be8fe0f964a520b9541fe3\n",
        "56915"
       ]
      },
      {
       "output_type": "stream",
       "stream": "stdout",
       "text": [
        " The Taco Shop At Underdog's 4adb9f2df964a520762921e3\n",
        "56916"
       ]
      },
      {
       "output_type": "stream",
       "stream": "stdout",
       "text": [
        " Firefly 44bb7f29f964a52090351fe3\n",
        "56917"
       ]
      },
      {
       "output_type": "stream",
       "stream": "stdout",
       "text": [
        " Marnee Thai 3fd66200f964a52021ed1ee3\n",
        "56918"
       ]
      },
      {
       "output_type": "stream",
       "stream": "stdout",
       "text": [
        " Woodhouse Fish Co. 4a73b153f964a52035dd1fe3\n",
        "56919"
       ]
      },
      {
       "output_type": "stream",
       "stream": "stdout",
       "text": [
        " Wood Tavern 46aa8a59f964a5205f491fe3\n",
        "56920"
       ]
      },
      {
       "output_type": "stream",
       "stream": "stdout",
       "text": [
        " Jardini\u00e8re 49d3e017f964a5201e5c1fe3\n",
        "56921"
       ]
      },
      {
       "output_type": "stream",
       "stream": "stdout",
       "text": [
        " The Chairman Truck 4f47f890e4b0a69abba168d0\n",
        "56922"
       ]
      },
      {
       "output_type": "stream",
       "stream": "stdout",
       "text": [
        " Bar Tartine 464348def964a5206e461fe3\n",
        "56923"
       ]
      },
      {
       "output_type": "stream",
       "stream": "stdout",
       "text": [
        " Shan Dong Restaurant 4a22d464f964a520927d1fe3\n",
        "56924"
       ]
      },
      {
       "output_type": "stream",
       "stream": "stdout",
       "text": [
        " Champa Garden 49b0cff5f964a520d0521fe3\n",
        "56925"
       ]
      },
      {
       "output_type": "stream",
       "stream": "stdout",
       "text": [
        " Izakaya Sozai None\n",
        "56926"
       ]
      },
      {
       "output_type": "stream",
       "stream": "stdout",
       "text": [
        " Skates On The Bay 4a52b042f964a520eab11fe3\n",
        "56927"
       ]
      },
      {
       "output_type": "stream",
       "stream": "stdout",
       "text": [
        " Buena Vista Cafe 45487bc1f964a520833c1fe3\n",
        "56928"
       ]
      },
      {
       "output_type": "stream",
       "stream": "stdout",
       "text": [
        " Luka's Taproom 42926e80f964a52026241fe3\n",
        "56929"
       ]
      },
      {
       "output_type": "stream",
       "stream": "stdout",
       "text": [
        " Blowfish Sushi 40e0b100f964a520e1091fe3\n",
        "56930"
       ]
      },
      {
       "output_type": "stream",
       "stream": "stdout",
       "text": [
        " B Star Bar 4c0095c6379020a128d1467f\n",
        "56931"
       ]
      },
      {
       "output_type": "stream",
       "stream": "stdout",
       "text": [
        " Pacific Catch 49dd5b31f964a520fe5f1fe3\n",
        "56932"
       ]
      },
      {
       "output_type": "stream",
       "stream": "stdout",
       "text": [
        " Jang Su Jang 4a03953cf964a520cb711fe3\n",
        "56933"
       ]
      },
      {
       "output_type": "stream",
       "stream": "stdout",
       "text": [
        " Supperclub 4330a280f964a520fa271fe3\n",
        "56934"
       ]
      },
      {
       "output_type": "stream",
       "stream": "stdout",
       "text": [
        " Berkeley Bowl 43a47bc4f964a5204b2c1fe3\n",
        "56935"
       ]
      },
      {
       "output_type": "stream",
       "stream": "stdout",
       "text": [
        " Anthony's Cookies 49d81871f964a520a45d1fe3\n",
        "56936"
       ]
      },
      {
       "output_type": "stream",
       "stream": "stdout",
       "text": [
        " Candybar 4831558ff964a520df4f1fe3\n",
        "56937"
       ]
      },
      {
       "output_type": "stream",
       "stream": "stdout",
       "text": [
        " Lers Ros Thai 49dd8602f964a52018601fe3\n",
        "56938"
       ]
      },
      {
       "output_type": "stream",
       "stream": "stdout",
       "text": [
        " Millbrae Pancake House 4b3d1163f964a5203a8d25e3\n",
        "56939"
       ]
      },
      {
       "output_type": "stream",
       "stream": "stdout",
       "text": [
        " Tadich Grill 49f67c43f964a520486c1fe3\n",
        "56940"
       ]
      },
      {
       "output_type": "stream",
       "stream": "stdout",
       "text": [
        " Shabu House 47fbb4e5f964a520d34e1fe3\n",
        "56941"
       ]
      },
      {
       "output_type": "stream",
       "stream": "stdout",
       "text": [
        " Circa 4540820cf964a5203c3c1fe3\n",
        "56942"
       ]
      },
      {
       "output_type": "stream",
       "stream": "stdout",
       "text": [
        " Betelnut 513e805ae4b05b7b6b66ef40\n",
        "56943"
       ]
      },
      {
       "output_type": "stream",
       "stream": "stdout",
       "text": [
        " Val's Burgers 4ae7a233f964a520eeac21e3\n",
        "56944"
       ]
      },
      {
       "output_type": "stream",
       "stream": "stdout",
       "text": [
        " Epic Roasthouse 4884e11ff964a5203e511fe3\n",
        "56945"
       ]
      },
      {
       "output_type": "stream",
       "stream": "stdout",
       "text": [
        " 900 Grayson 49ee31e5f964a52038681fe3\n",
        "56946"
       ]
      },
      {
       "output_type": "stream",
       "stream": "stdout",
       "text": [
        " Memphis Minnie's 42fa9500f964a520e2261fe3\n",
        "56947"
       ]
      },
      {
       "output_type": "stream",
       "stream": "stdout",
       "text": [
        " Sushi Bistro 436d4780f964a520c9291fe3\n",
        "56948"
       ]
      },
      {
       "output_type": "stream",
       "stream": "stdout",
       "text": [
        " Fraiche Yogurt None\n",
        "56949"
       ]
      },
      {
       "output_type": "stream",
       "stream": "stdout",
       "text": [
        " Super Duper Burgers 4ddd32f9d4c082f960d7fe2b\n",
        "56950"
       ]
      },
      {
       "output_type": "stream",
       "stream": "stdout",
       "text": [
        " Satomi Sushi 4ac3c138f964a520ae9c20e3\n",
        "56951"
       ]
      },
      {
       "output_type": "stream",
       "stream": "stdout",
       "text": [
        " La Penca Azul 4c8c456e5e048cfa62aecbcd\n",
        "56952"
       ]
      },
      {
       "output_type": "stream",
       "stream": "stdout",
       "text": [
        " Rickhouse 4a4ac040f964a52026ac1fe3\n",
        "56953"
       ]
      },
      {
       "output_type": "stream",
       "stream": "stdout",
       "text": [
        " Le Colonial 40dcbc80f964a52085011fe3\n",
        "56954"
       ]
      },
      {
       "output_type": "stream",
       "stream": "stdout",
       "text": [
        " Mandalay None\n",
        "56955"
       ]
      },
      {
       "output_type": "stream",
       "stream": "stdout",
       "text": [
        " Mingalaba None\n",
        "56956"
       ]
      },
      {
       "output_type": "stream",
       "stream": "stdout",
       "text": [
        " Yoshi's San Francisco 476c1aa6f964a520fd4c1fe3\n",
        "56957"
       ]
      },
      {
       "output_type": "stream",
       "stream": "stdout",
       "text": [
        " Yamo 45bb98bcf964a520f4411fe3\n",
        "56958"
       ]
      },
      {
       "output_type": "stream",
       "stream": "stdout",
       "text": [
        " Back A Yard Caribbean American Grill 49ea8f19f964a5207d661fe3\n",
        "56959"
       ]
      },
      {
       "output_type": "stream",
       "stream": "stdout",
       "text": [
        " Texas Roadhouse 4a934b53f964a520791f20e3\n",
        "56960"
       ]
      },
      {
       "output_type": "stream",
       "stream": "stdout",
       "text": [
        " My Tofu House 4387a580f964a5200f2b1fe3\n",
        "56961"
       ]
      },
      {
       "output_type": "stream",
       "stream": "stdout",
       "text": [
        " The Bubble Lounge 4d71e84e4ab5224b7633b797\n",
        "56962"
       ]
      },
      {
       "output_type": "stream",
       "stream": "stdout",
       "text": [
        " Spruce 4a64a8f4f964a5206cc61fe3\n",
        "56963"
       ]
      },
      {
       "output_type": "stream",
       "stream": "stdout",
       "text": [
        " BIX 3fd66200f964a5205af11ee3\n",
        "56964"
       ]
      },
      {
       "output_type": "stream",
       "stream": "stdout",
       "text": [
        " 5A5 Steak Lounge 4a011045f964a520d5701fe3\n",
        "56965"
       ]
      },
      {
       "output_type": "stream",
       "stream": "stdout",
       "text": [
        " Philz Coffee 44ce9913f964a52018361fe3\n",
        "56966"
       ]
      },
      {
       "output_type": "stream",
       "stream": "stdout",
       "text": [
        " Rainbow Grocery 4827b8b1f964a520bb4f1fe3\n",
        "56967"
       ]
      },
      {
       "output_type": "stream",
       "stream": "stdout",
       "text": [
        " Souley Vegan None\n",
        "56968"
       ]
      },
      {
       "output_type": "stream",
       "stream": "stdout",
       "text": [
        " Lake Chalet Seafood Bar & Grill 4ae27f53f964a520af8e21e3\n",
        "56969"
       ]
      },
      {
       "output_type": "stream",
       "stream": "stdout",
       "text": [
        " Ramen House Ryowa 44734b40f964a520aa331fe3\n",
        "56970"
       ]
      },
      {
       "output_type": "stream",
       "stream": "stdout",
       "text": [
        " AsiaSF 412fcb00f964a520160d1fe3\n",
        "56971"
       ]
      },
      {
       "output_type": "stream",
       "stream": "stdout",
       "text": [
        " Harris' Restaurant 3fd66200f964a5202cee1ee3\n",
        "56972"
       ]
      },
      {
       "output_type": "stream",
       "stream": "stdout",
       "text": [
        " Town 49f78793f964a520b16c1fe3\n",
        "56973"
       ]
      },
      {
       "output_type": "stream",
       "stream": "stdout",
       "text": [
        " Osha Thai Noodle Cafe None\n",
        "56974"
       ]
      },
      {
       "output_type": "stream",
       "stream": "stdout",
       "text": [
        " Chez Maman 44fc6d0bf964a52085381fe3\n",
        "56975"
       ]
      },
      {
       "output_type": "stream",
       "stream": "stdout",
       "text": [
        " ThirstyBear Brewing Company 40f71a80f964a520ae0a1fe3\n",
        "56976"
       ]
      },
      {
       "output_type": "stream",
       "stream": "stdout",
       "text": [
        " Hillstone 41044980f964a520700b1fe3\n",
        "56977"
       ]
      },
      {
       "output_type": "stream",
       "stream": "stdout",
       "text": [
        " Four Barrel Coffee None\n",
        "56978"
       ]
      },
      {
       "output_type": "stream",
       "stream": "stdout",
       "text": [
        " Sophie's Crepes 444f9d23f964a5209b321fe3\n",
        "56979"
       ]
      },
      {
       "output_type": "stream",
       "stream": "stdout",
       "text": [
        " Tres Tequila Lounge & Mexican Kitchen 4e1bebb781306017a4cd4cb3\n",
        "56980"
       ]
      },
      {
       "output_type": "stream",
       "stream": "stdout",
       "text": [
        " Ruby Skye None\n",
        "56981"
       ]
      },
      {
       "output_type": "stream",
       "stream": "stdout",
       "text": [
        " Kingdom of Dumpling 4a39a40bf964a520a69f1fe3\n",
        "56982"
       ]
      },
      {
       "output_type": "stream",
       "stream": "stdout",
       "text": [
        " Mua 4a18358cf964a5208e791fe3\n",
        "56983"
       ]
      },
      {
       "output_type": "stream",
       "stream": "stdout",
       "text": [
        " Colibri Mexican Bistro 4550e681f964a520e43c1fe3\n",
        "56984"
       ]
      },
      {
       "output_type": "stream",
       "stream": "stdout",
       "text": [
        " Kome Japanese Seafood & Grill Buffet 4b2d94d3f964a52031d924e3\n",
        "56985"
       ]
      },
      {
       "output_type": "stream",
       "stream": "stdout",
       "text": [
        " Bar Crudo 44e37004f964a52042371fe3\n",
        "56986"
       ]
      },
      {
       "output_type": "stream",
       "stream": "stdout",
       "text": [
        " Blue Bottle Coffee Co None\n",
        "56987"
       ]
      },
      {
       "output_type": "stream",
       "stream": "stdout",
       "text": [
        " Q Restaurant and Wine Bar 3fd66200f964a520d1ec1ee3\n",
        "56988"
       ]
      },
      {
       "output_type": "stream",
       "stream": "stdout",
       "text": [
        " Chez Panisse 40de0e00f964a5208e011fe3\n",
        "56989"
       ]
      },
      {
       "output_type": "stream",
       "stream": "stdout",
       "text": [
        " Arizmendi Bakery None\n",
        "56990"
       ]
      },
      {
       "output_type": "stream",
       "stream": "stdout",
       "text": [
        " Sushi Sam's Edomata 4f44a10719836ed001956427\n",
        "56991"
       ]
      },
      {
       "output_type": "stream",
       "stream": "stdout",
       "text": [
        " SPQR 4744d11ff964a520854c1fe3\n",
        "56992"
       ]
      },
      {
       "output_type": "stream",
       "stream": "stdout",
       "text": [
        " Boboquivari's 476a5dc2f964a520fa4c1fe3\n",
        "56993"
       ]
      },
      {
       "output_type": "stream",
       "stream": "stdout",
       "text": [
        " Samovar Tea Lounge 45e86d76f964a5206a431fe3\n",
        "56994"
       ]
      },
      {
       "output_type": "stream",
       "stream": "stdout",
       "text": [
        " Magnolia Pub & Brewery 3fd66200f964a52066ed1ee3\n",
        "56995"
       ]
      },
      {
       "output_type": "stream",
       "stream": "stdout",
       "text": [
        " Oola Restaurant & Bar 417ee500f964a520d71d1fe3\n",
        "56996"
       ]
      },
      {
       "output_type": "stream",
       "stream": "stdout",
       "text": [
        " Tonga Room & Hurricane Bar 3fd66200f964a52031f11ee3\n",
        "56997"
       ]
      },
      {
       "output_type": "stream",
       "stream": "stdout",
       "text": [
        " Tpumps 4df82ec9ae608a367ce91b45\n",
        "56998"
       ]
      },
      {
       "output_type": "stream",
       "stream": "stdout",
       "text": [
        " Evvia Estiatorio 481f5aadf964a520854f1fe3\n",
        "56999"
       ]
      },
      {
       "output_type": "stream",
       "stream": "stdout",
       "text": [
        " Ruth's Chris Steak House 43655e80f964a52060291fe3\n",
        "57000"
       ]
      },
      {
       "output_type": "stream",
       "stream": "stdout",
       "text": [
        " Zachary's Chicago Pizza 4ac6c80ff964a5203db620e3\n",
        "57001"
       ]
      },
      {
       "output_type": "stream",
       "stream": "stdout",
       "text": [
        " Rosamunde Sausage Grill 435ec700f964a5201c291fe3\n",
        "57002"
       ]
      },
      {
       "output_type": "stream",
       "stream": "stdout",
       "text": [
        " Salt House 45602bddf964a520963d1fe3\n",
        "57003"
       ]
      },
      {
       "output_type": "stream",
       "stream": "stdout",
       "text": [
        " Gochi Japanese Fusion Tapas 4a24925df964a520317e1fe3\n",
        "57004"
       ]
      },
      {
       "output_type": "stream",
       "stream": "stdout",
       "text": [
        " The Alembic 452d6647f964a520483b1fe3\n",
        "57005"
       ]
      },
      {
       "output_type": "stream",
       "stream": "stdout",
       "text": [
        " Smitten Ice Cream 4d964291daec224b08b9123e\n",
        "57006"
       ]
      },
      {
       "output_type": "stream",
       "stream": "stdout",
       "text": [
        " Dynamo Donuts and Coffee 49ccf971f964a520a6591fe3\n",
        "57007"
       ]
      },
      {
       "output_type": "stream",
       "stream": "stdout",
       "text": [
        " Patxi's Pizza 43d7e5dff964a5205d2e1fe3\n",
        "57008"
       ]
      },
      {
       "output_type": "stream",
       "stream": "stdout",
       "text": [
        " Toronado 3fd66200f964a5205ded1ee3\n",
        "57009"
       ]
      },
      {
       "output_type": "stream",
       "stream": "stdout",
       "text": [
        " Boudin Sourdough Bakery & Cafe 4ba7f1b9f964a520b8c039e3\n",
        "57010"
       ]
      },
      {
       "output_type": "stream",
       "stream": "stdout",
       "text": [
        " Chaya Brasserie 3fd66200f964a5202fed1ee3\n",
        "57011"
       ]
      },
      {
       "output_type": "stream",
       "stream": "stdout",
       "text": [
        " Pancho Villa Taqueria 43917d6df964a5205c2b1fe3\n",
        "57012"
       ]
      },
      {
       "output_type": "stream",
       "stream": "stdout",
       "text": [
        " Top Dog 4a7414a6f964a520b8dd1fe3\n",
        "57013"
       ]
      },
      {
       "output_type": "stream",
       "stream": "stdout",
       "text": [
        " Vik's Chaat None\n",
        "57014"
       ]
      },
      {
       "output_type": "stream",
       "stream": "stdout",
       "text": [
        " Pepper Lunch USA 4a47e19bf964a5203baa1fe3\n",
        "57015"
       ]
      },
      {
       "output_type": "stream",
       "stream": "stdout",
       "text": [
        " Cafe Claude 40f47780f964a520960a1fe3\n",
        "57016"
       ]
      },
      {
       "output_type": "stream",
       "stream": "stdout",
       "text": [
        " Pampas 485ce823f964a520d2501fe3\n",
        "57017"
       ]
      },
      {
       "output_type": "stream",
       "stream": "stdout",
       "text": [
        " Perbacco 459b7818f964a52089401fe3\n",
        "57018"
       ]
      },
      {
       "output_type": "stream",
       "stream": "stdout",
       "text": [
        " A 16 4587a2b6f964a520c63f1fe3\n",
        "57019"
       ]
      },
      {
       "output_type": "stream",
       "stream": "stdout",
       "text": [
        " Ryoko's Japanese Restaurant & Bar 433c8000f964a52043281fe3\n",
        "57020"
       ]
      },
      {
       "output_type": "stream",
       "stream": "stdout",
       "text": [
        " Delfina 4af303e1f964a520cee921e3\n",
        "57021"
       ]
      },
      {
       "output_type": "stream",
       "stream": "stdout",
       "text": [
        " Blue Bottle Coffee 43d3901ef964a5201f2e1fe3\n",
        "57022"
       ]
      },
      {
       "output_type": "stream",
       "stream": "stdout",
       "text": [
        " Himawari 4a67ccd4f964a52012ca1fe3\n",
        "57023"
       ]
      },
      {
       "output_type": "stream",
       "stream": "stdout",
       "text": [
        " Fresca 42b21280f964a52076251fe3\n",
        "57024"
       ]
      },
      {
       "output_type": "stream",
       "stream": "stdout",
       "text": [
        " Pearl's Deluxe Burgers 49c6844cf964a52054571fe3\n",
        "57025"
       ]
      },
      {
       "output_type": "stream",
       "stream": "stdout",
       "text": [
        " Hard Knox Cafe 46840627f964a5202d481fe3\n",
        "57026"
       ]
      },
      {
       "output_type": "stream",
       "stream": "stdout",
       "text": [
        " Ritual Coffee Roasters None\n",
        "57027"
       ]
      },
      {
       "output_type": "stream",
       "stream": "stdout",
       "text": [
        " Mission Chinese Food 4c325dd83896e21e6d6ee890\n",
        "57028"
       ]
      },
      {
       "output_type": "stream",
       "stream": "stdout",
       "text": [
        " Millennium 453a2ab0f964a520e63b1fe3\n",
        "57029"
       ]
      },
      {
       "output_type": "stream",
       "stream": "stdout",
       "text": [
        " Purple Kow 4e7fd43ebe7b414d61ef63d8\n",
        "57030"
       ]
      },
      {
       "output_type": "stream",
       "stream": "stdout",
       "text": [
        " The Beach Chalet Brewery & Restaurant 43cc06a3f964a520c72d1fe3\n",
        "57031"
       ]
      },
      {
       "output_type": "stream",
       "stream": "stdout",
       "text": [
        " Swan Oyster Depot 44d1ef97f964a52031361fe3\n",
        "57032"
       ]
      },
      {
       "output_type": "stream",
       "stream": "stdout",
       "text": [
        " Umami Burger 4e80db1a49012726b72494ec\n",
        "57033"
       ]
      },
      {
       "output_type": "stream",
       "stream": "stdout",
       "text": [
        " Taqueria Canc\u00fan 43e879cbf964a5200f2f1fe3\n",
        "57034"
       ]
      },
      {
       "output_type": "stream",
       "stream": "stdout",
       "text": [
        " Flour + Water 4a8b6942f964a520660c20e3\n",
        "57035"
       ]
      },
      {
       "output_type": "stream",
       "stream": "stdout",
       "text": [
        " Home of Chicken and Waffles 439abb44f964a520d22b1fe3\n",
        "57036"
       ]
      },
      {
       "output_type": "stream",
       "stream": "stdout",
       "text": [
        " Range 44b7cc5ef964a52076351fe3\n",
        "57037"
       ]
      },
      {
       "output_type": "stream",
       "stream": "stdout",
       "text": [
        " Sotto Mare 4aebaaccf964a52042c421e3\n",
        "57038"
       ]
      },
      {
       "output_type": "stream",
       "stream": "stdout",
       "text": [
        " Cha Cha Cha None\n",
        "57039"
       ]
      },
      {
       "output_type": "stream",
       "stream": "stdout",
       "text": [
        " St. John's Bar & Grill 435ec700f964a52020291fe3\n",
        "57040"
       ]
      },
      {
       "output_type": "stream",
       "stream": "stdout",
       "text": [
        " Isa 437d1980f964a520ae2a1fe3\n",
        "57041"
       ]
      },
      {
       "output_type": "stream",
       "stream": "stdout",
       "text": [
        " Gracias Madre 4b4955ccf964a520b86d26e3\n",
        "57042"
       ]
      },
      {
       "output_type": "stream",
       "stream": "stdout",
       "text": [
        " Xanh Restaurant 4a693c9af964a520d1cb1fe3\n",
        "57043"
       ]
      },
      {
       "output_type": "stream",
       "stream": "stdout",
       "text": [
        " Chow 3fd66200f964a52025f11ee3\n",
        "57044"
       ]
      },
      {
       "output_type": "stream",
       "stream": "stdout",
       "text": [
        " Ozumo 4aebd409f964a520e9c421e3\n",
        "57045"
       ]
      },
      {
       "output_type": "stream",
       "stream": "stdout",
       "text": [
        " Gr\u00e9goire 43ebbf8bf964a5203b2f1fe3\n",
        "57046"
       ]
      },
      {
       "output_type": "stream",
       "stream": "stdout",
       "text": [
        " Bob's Donut & Pastry Shop 44cf44a2f964a52020361fe3\n",
        "57047"
       ]
      },
      {
       "output_type": "stream",
       "stream": "stdout",
       "text": [
        " Rudy's Can't Fail Caf\u00e9 4ada8cf0f964a520702321e3\n",
        "57048"
       ]
      },
      {
       "output_type": "stream",
       "stream": "stdout",
       "text": [
        " Thanh Long 4a90b5b7f964a520361920e3\n",
        "57049"
       ]
      },
      {
       "output_type": "stream",
       "stream": "stdout",
       "text": [
        " Town Hall 4a4d0faaf964a52080ad1fe3\n",
        "57050"
       ]
      },
      {
       "output_type": "stream",
       "stream": "stdout",
       "text": [
        " Little Star Pizza 4537f9daf964a520c73b1fe3\n",
        "57051"
       ]
      },
      {
       "output_type": "stream",
       "stream": "stdout",
       "text": [
        " Palace BBQ Buffet 4bd3923a77b29c74e8399182\n",
        "57052"
       ]
      },
      {
       "output_type": "stream",
       "stream": "stdout",
       "text": [
        " Shanghai Dumpling King 49da8f69f964a520945e1fe3\n",
        "57053"
       ]
      },
      {
       "output_type": "stream",
       "stream": "stdout",
       "text": [
        " Golden Boy Pizza 42814b00f964a520ef211fe3\n",
        "57054"
       ]
      },
      {
       "output_type": "stream",
       "stream": "stdout",
       "text": [
        " The Front Porch 4695204ef964a520dd481fe3\n",
        "57055"
       ]
      },
      {
       "output_type": "stream",
       "stream": "stdout",
       "text": [
        " Banana Leaf Restaurant 45748edaf964a520943e1fe3\n",
        "57056"
       ]
      },
      {
       "output_type": "stream",
       "stream": "stdout",
       "text": [
        " Yank Sing None\n",
        "57057"
       ]
      },
      {
       "output_type": "stream",
       "stream": "stdout",
       "text": [
        " The Monk's Kettle 47d7ba05f964a520234e1fe3\n",
        "57058"
       ]
      },
      {
       "output_type": "stream",
       "stream": "stdout",
       "text": [
        " Old Port Lobster Shack 49f8c8f2f964a5201f6d1fe3\n",
        "57059"
       ]
      },
      {
       "output_type": "stream",
       "stream": "stdout",
       "text": [
        " Aziza 49eac9cef964a52099661fe3\n",
        "57060"
       ]
      },
      {
       "output_type": "stream",
       "stream": "stdout",
       "text": [
        " Sen Dai Sushi 4a62800ef964a5202dc41fe3\n",
        "57061"
       ]
      },
      {
       "output_type": "stream",
       "stream": "stdout",
       "text": [
        " Roy's Restaurant 46c75d2cf964a520194a1fe3\n",
        "57062"
       ]
      },
      {
       "output_type": "stream",
       "stream": "stdout",
       "text": [
        " Little Lucca Sandwich Shop & Deli 4b3cff01f964a520738b25e3\n",
        "57063"
       ]
      },
      {
       "output_type": "stream",
       "stream": "stdout",
       "text": [
        " Burger Bar 4ad4eb13f964a520affc20e3\n",
        "57064"
       ]
      },
      {
       "output_type": "stream",
       "stream": "stdout",
       "text": [
        " Dosa on Valencia 439b6598f964a520e12b1fe3\n",
        "57065"
       ]
      },
      {
       "output_type": "stream",
       "stream": "stdout",
       "text": [
        " Mission Beach Cafe 49d3e0f0f964a520205c1fe3\n",
        "57066"
       ]
      },
      {
       "output_type": "stream",
       "stream": "stdout",
       "text": [
        " Lim\u00f3n Rotisserie 4adc91adf964a520572d21e3\n",
        "57067"
       ]
      },
      {
       "output_type": "stream",
       "stream": "stdout",
       "text": [
        " La Taqueria 455877bff964a520453d1fe3\n",
        "57068"
       ]
      },
      {
       "output_type": "stream",
       "stream": "stdout",
       "text": [
        " 21st Amendment 42af6f80f964a5205e251fe3\n",
        "57069"
       ]
      },
      {
       "output_type": "stream",
       "stream": "stdout",
       "text": [
        " Dosa On Fillmore 4aff8b4af964a520663922e3\n",
        "57070"
       ]
      },
      {
       "output_type": "stream",
       "stream": "stdout",
       "text": [
        " NOLA Restaurant & Bar 4a7688a0f964a52021e31fe3\n",
        "57071"
       ]
      },
      {
       "output_type": "stream",
       "stream": "stdout",
       "text": [
        " CREAM 4d0d9c6e3bbaa1430d373eda\n",
        "57072"
       ]
      },
      {
       "output_type": "stream",
       "stream": "stdout",
       "text": [
        " Papalote Mexican Grill 43b439b6f964a520bc2c1fe3\n",
        "57073"
       ]
      },
      {
       "output_type": "stream",
       "stream": "stdout",
       "text": [
        " Genki Crepes 42829c80f964a52020221fe3\n",
        "57074"
       ]
      },
      {
       "output_type": "stream",
       "stream": "stdout",
       "text": [
        " Pizzeria Delfina 44088735f964a52058301fe3\n",
        "57075"
       ]
      },
      {
       "output_type": "stream",
       "stream": "stdout",
       "text": [
        " The Cheesecake Factory 469019cbf964a5209f481fe3\n",
        "57076"
       ]
      },
      {
       "output_type": "stream",
       "stream": "stdout",
       "text": [
        " Palomino 3fd66200f964a52068f11ee3\n",
        "57077"
       ]
      },
      {
       "output_type": "stream",
       "stream": "stdout",
       "text": [
        " Brown Sugar Kitchen 47c52d5df964a520e94d1fe3\n",
        "57078"
       ]
      },
      {
       "output_type": "stream",
       "stream": "stdout",
       "text": [
        " Osha Thai 43a016cbf964a5201b2c1fe3\n",
        "57079"
       ]
      },
      {
       "output_type": "stream",
       "stream": "stdout",
       "text": [
        " 99 Chicken 4b3a6959f964a520b66625e3\n",
        "57080"
       ]
      },
      {
       "output_type": "stream",
       "stream": "stdout",
       "text": [
        " Sol Food Puerto Rican Cuisine None\n",
        "57081"
       ]
      },
      {
       "output_type": "stream",
       "stream": "stdout",
       "text": [
        " Sam's Chowder House 4a9ac62df964a5209c3220e3\n",
        "57082"
       ]
      },
      {
       "output_type": "stream",
       "stream": "stdout",
       "text": [
        " Santa Ramen 49d05879f964a5201f5b1fe3\n",
        "57083"
       ]
      },
      {
       "output_type": "stream",
       "stream": "stdout",
       "text": [
        " Tommy's Joynt 3fd66200f964a520b7ed1ee3\n",
        "57084"
       ]
      },
      {
       "output_type": "stream",
       "stream": "stdout",
       "text": [
        " Zuni Cafe 435d7580f964a5201a291fe3\n",
        "57085"
       ]
      },
      {
       "output_type": "stream",
       "stream": "stdout",
       "text": [
        " Boulevard 3fd66200f964a52052ed1ee3\n",
        "57086"
       ]
      },
      {
       "output_type": "stream",
       "stream": "stdout",
       "text": [
        " Zero Zero 4c44d4b9dcd61b8df9e67b56\n",
        "57087"
       ]
      },
      {
       "output_type": "stream",
       "stream": "stdout",
       "text": [
        " Koi Palace 45e96fc3f964a5207d431fe3\n",
        "57088"
       ]
      },
      {
       "output_type": "stream",
       "stream": "stdout",
       "text": [
        " Cascal 42d1b680f964a5200c261fe3\n",
        "57089"
       ]
      },
      {
       "output_type": "stream",
       "stream": "stdout",
       "text": [
        " Jupiter 4a6a86cdf964a520b0cd1fe3\n",
        "57090"
       ]
      },
      {
       "output_type": "stream",
       "stream": "stdout",
       "text": [
        " Chapeau! 3fd66200f964a520ccec1ee3\n",
        "57091"
       ]
      },
      {
       "output_type": "stream",
       "stream": "stdout",
       "text": [
        " PPQ Dungeness Island 42ec1480f964a520a1261fe3\n",
        "57092"
       ]
      },
      {
       "output_type": "stream",
       "stream": "stdout",
       "text": [
        " Sprinkles Cupcakes 49f7a66df964a520cc6c1fe3\n",
        "57093"
       ]
      },
      {
       "output_type": "stream",
       "stream": "stdout",
       "text": [
        " Lim\u00f3n Rotisserie 42d1b680f964a52007261fe3\n",
        "57094"
       ]
      },
      {
       "output_type": "stream",
       "stream": "stdout",
       "text": [
        " La Note 4a0f2588f964a5202f761fe3\n",
        "57095"
       ]
      },
      {
       "output_type": "stream",
       "stream": "stdout",
       "text": [
        " House of Nanking 3fd66200f964a520d2ed1ee3\n",
        "57096"
       ]
      },
      {
       "output_type": "stream",
       "stream": "stdout",
       "text": [
        " Tonys Pizza Napoletana 4a469839f964a52029a91fe3\n",
        "57097"
       ]
      },
      {
       "output_type": "stream",
       "stream": "stdout",
       "text": [
        " Luna Park 3fd66200f964a5201cf11ee3\n",
        "57098"
       ]
      },
      {
       "output_type": "stream",
       "stream": "stdout",
       "text": [
        " Golden Gate Bakery 4a2ac0fdf964a52049961fe3\n",
        "57099"
       ]
      },
      {
       "output_type": "stream",
       "stream": "stdout",
       "text": [
        " Tropisue\u00f1o 4a5f8994f964a520d5bf1fe3\n",
        "57100"
       ]
      },
      {
       "output_type": "stream",
       "stream": "stdout",
       "text": [
        " Espetus Churrascaria 43d820b6f964a520612e1fe3\n",
        "57101"
       ]
      },
      {
       "output_type": "stream",
       "stream": "stdout",
       "text": [
        " Park Chow 3fd66200f964a52026f11ee3\n",
        "57102"
       ]
      },
      {
       "output_type": "stream",
       "stream": "stdout",
       "text": [
        " Zeitgeist 3fd66200f964a52041ee1ee3\n",
        "57103"
       ]
      },
      {
       "output_type": "stream",
       "stream": "stdout",
       "text": [
        " Little Star Pizza 433dd180f964a52048281fe3\n",
        "57104"
       ]
      },
      {
       "output_type": "stream",
       "stream": "stdout",
       "text": [
        " Bourbon & Branch 4617e746f964a52051451fe3\n",
        "57105"
       ]
      },
      {
       "output_type": "stream",
       "stream": "stdout",
       "text": [
        " DishDash 4515408bf964a520f6391fe3\n",
        "57106"
       ]
      },
      {
       "output_type": "stream",
       "stream": "stdout",
       "text": [
        " Saigon Sandwich 43eb7d31f964a520392f1fe3\n",
        "57107"
       ]
      },
      {
       "output_type": "stream",
       "stream": "stdout",
       "text": [
        " The Stinking Rose: A Garlic Restaurant 3fd66200f964a520a9ed1ee3\n",
        "57108"
       ]
      },
      {
       "output_type": "stream",
       "stream": "stdout",
       "text": [
        " Ramen Dojo 4bbe2b79061fb713aed7edce\n",
        "57109"
       ]
      },
      {
       "output_type": "stream",
       "stream": "stdout",
       "text": [
        " Wayfare Tavern 4c05a764191f20a11473e314\n",
        "57110"
       ]
      },
      {
       "output_type": "stream",
       "stream": "stdout",
       "text": [
        " Beretta 49a2545cf964a52094521fe3\n",
        "57111"
       ]
      },
      {
       "output_type": "stream",
       "stream": "stdout",
       "text": [
        " Angeline's Louisiana Kitchen 4a6bce66f964a520f9cf1fe3\n",
        "57112"
       ]
      },
      {
       "output_type": "stream",
       "stream": "stdout",
       "text": [
        " Sushi House 4a34549df964a520139c1fe3\n",
        "57113"
       ]
      },
      {
       "output_type": "stream",
       "stream": "stdout",
       "text": [
        " Cha Cha Cha 417c4200f964a520c71d1fe3\n",
        "57114"
       ]
      },
      {
       "output_type": "stream",
       "stream": "stdout",
       "text": [
        " Dottie's True Blue Cafe 4a5a3157f964a520ddb91fe3\n",
        "57115"
       ]
      },
      {
       "output_type": "stream",
       "stream": "stdout",
       "text": [
        " Suppenk\u00fcche 42c5d900f964a520d5251fe3\n",
        "57116"
       ]
      },
      {
       "output_type": "stream",
       "stream": "stdout",
       "text": [
        " Farmerbrown 44f97a46f964a5205e381fe3\n",
        "57117"
       ]
      },
      {
       "output_type": "stream",
       "stream": "stdout",
       "text": [
        " Absinthe Brasserie & Bar 43dc103ef964a520992e1fe3\n",
        "57118"
       ]
      },
      {
       "output_type": "stream",
       "stream": "stdout",
       "text": [
        " Nick's Crispy Tacos 42814b00f964a520eb211fe3\n",
        "57119"
       ]
      },
      {
       "output_type": "stream",
       "stream": "stdout",
       "text": [
        " Zazie 49b094fdf964a520c8521fe3\n",
        "57120"
       ]
      },
      {
       "output_type": "stream",
       "stream": "stdout",
       "text": [
        " Zachary's Chicago Pizza 43917e6ef964a5205d2b1fe3\n",
        "57121"
       ]
      },
      {
       "output_type": "stream",
       "stream": "stdout",
       "text": [
        " Ici Ice Cream 4a357b76f964a5200a9d1fe3\n",
        "57122"
       ]
      },
      {
       "output_type": "stream",
       "stream": "stdout",
       "text": [
        " Mama's on Washington Square 3fd66200f964a520a9ec1ee3\n",
        "57123"
       ]
      },
      {
       "output_type": "stream",
       "stream": "stdout",
       "text": [
        " Humphry Slocombe Ice Cream 49972b39f964a52089521fe3\n",
        "57124"
       ]
      },
      {
       "output_type": "stream",
       "stream": "stdout",
       "text": [
        " R&G Lounge 49efa893f964a520e5681fe3\n",
        "57125"
       ]
      },
      {
       "output_type": "stream",
       "stream": "stdout",
       "text": [
        " Mitchell's Ice Cream 49e22ce6f964a520f9611fe3\n",
        "57126"
       ]
      },
      {
       "output_type": "stream",
       "stream": "stdout",
       "text": [
        " El Farolito 44ff5a91f964a520a5381fe3\n",
        "57127"
       ]
      },
      {
       "output_type": "stream",
       "stream": "stdout",
       "text": [
        " Kokkari Estiatorio 4570691ff964a5205c3e1fe3\n",
        "57128"
       ]
      },
      {
       "output_type": "stream",
       "stream": "stdout",
       "text": [
        " The House 4b0a2fe5f964a520492223e3\n",
        "57129"
       ]
      },
      {
       "output_type": "stream",
       "stream": "stdout",
       "text": [
        " Katana-Ya 44e1e15af964a52023371fe3\n",
        "57130"
       ]
      },
      {
       "output_type": "stream",
       "stream": "stdout",
       "text": [
        " Orenchi Ramen 4b5bd185f964a520f51729e3\n",
        "57131"
       ]
      },
      {
       "output_type": "stream",
       "stream": "stdout",
       "text": [
        " Foreign Cinema 3fd66200f964a520a0ec1ee3\n",
        "57132"
       ]
      },
      {
       "output_type": "stream",
       "stream": "stdout",
       "text": [
        " Cheese Board Pizza 46aa8f98f964a52062491fe3\n",
        "57133"
       ]
      },
      {
       "output_type": "stream",
       "stream": "stdout",
       "text": [
        " Bakesale Betty 46aa8d4df964a52061491fe3\n",
        "57134"
       ]
      },
      {
       "output_type": "stream",
       "stream": "stdout",
       "text": [
        " NOPA 44646408f964a52026331fe3\n",
        "57135"
       ]
      },
      {
       "output_type": "stream",
       "stream": "stdout",
       "text": [
        " Gary Danko 3fd66200f964a52025ee1ee3\n",
        "57136"
       ]
      },
      {
       "output_type": "stream",
       "stream": "stdout",
       "text": [
        " San Tung Chinese Restaurant 4ab0402ff964a520ad6620e3\n",
        "57137"
       ]
      },
      {
       "output_type": "stream",
       "stream": "stdout",
       "text": [
        " House of Prime Rib 42e03700f964a52065261fe3\n",
        "57138"
       ]
      },
      {
       "output_type": "stream",
       "stream": "stdout",
       "text": [
        " Burma Superstar 42cc7080f964a520e7251fe3\n",
        "57139"
       ]
      },
      {
       "output_type": "stream",
       "stream": "stdout",
       "text": [
        " Brenda's French Soul Food 49f356f8f964a5208a6a1fe3\n",
        "57140"
       ]
      },
      {
       "output_type": "stream",
       "stream": "stdout",
       "text": [
        " Tartine Bakery & Cafe 42814b00f964a52002221fe3\n",
        "57141"
       ]
      },
      {
       "output_type": "stream",
       "stream": "stdout",
       "text": [
        " Ike's Place 4da23ee19935a093c9b8b16f\n",
        "57142"
       ]
      },
      {
       "output_type": "stream",
       "stream": "stdout",
       "text": [
        " Bi-Rite Creamery 45eaff58f964a5208e431fe3\n"
       ]
      }
     ],
     "prompt_number": 90
    },
    {
     "cell_type": "code",
     "collapsed": false,
     "input": [
      "print yelp_to_match.head(60000).shape\n",
      "# print done[done.four_square_id.notnull()].shape"
     ],
     "language": "python",
     "metadata": {},
     "outputs": [
      {
       "output_type": "stream",
       "stream": "stdout",
       "text": [
        "(57142, 5)\n"
       ]
      }
     ],
     "prompt_number": 60
    },
    {
     "cell_type": "code",
     "collapsed": false,
     "input": [
      "# yelp_to_match.head(5000)\n",
      "print yelp.head(3)\n",
      "print yelp_to_match.head(3)"
     ],
     "language": "python",
     "metadata": {},
     "outputs": [
      {
       "output_type": "stream",
       "stream": "stdout",
       "text": [
        "   Unnamed: 0                               address  \\\n",
        "0           0               [u'3201 California St']   \n",
        "1           1               [u'565 Buckingham Way']   \n",
        "2           2  [u'1860 El Camino Real', u'Ste 100']   \n",
        "\n",
        "                                          categories           city  \\\n",
        "0  [[u'Banks & Credit Unions', u'banks'], [u'Inve...  San Francisco   \n",
        "1             [[u'Banks & Credit Unions', u'banks']]  San Francisco   \n",
        "2             [[u'Banks & Credit Unions', u'banks']]     Burlingame   \n",
        "\n",
        "                                     display_address  \\\n",
        "0  3201 California St, Laurel Heights, San Franci...   \n",
        "1  565 Buckingham Way, Stonestown, San Francisco,...   \n",
        "2  1860 El Camino Real, Ste 100, Burlingame, CA 9...   \n",
        "\n",
        "                                        id  \\\n",
        "0       sf-fire-credit-union-san-francisco   \n",
        "1     sf-fire-credit-union-san-francisco-2   \n",
        "2  united-health-credit-union-burlingame-2   \n",
        "\n",
        "                                           image_url  \\\n",
        "0  http://s3-media2.ak.yelpcdn.com/bphoto/t31F2Pk...   \n",
        "1  http://s3-media3.ak.yelpcdn.com/bphoto/pskjEfI...   \n",
        "2  http://s3-media2.ak.yelpcdn.com/bphoto/DMHNTcQ...   \n",
        "\n",
        "                         name       phone  postal_code  rating  \\\n",
        "0        SF Fire Credit Union  4156744800        94118     4.5   \n",
        "1        SF Fire Credit Union  4156744800        94132     4.5   \n",
        "2  United Health Credit Union  6502311300        94010     5.0   \n",
        "\n",
        "                                rating_img_url_large  review_count  \\\n",
        "0  http://s3-media4.ak.yelpcdn.com/assets/2/www/i...           184   \n",
        "1  http://s3-media4.ak.yelpcdn.com/assets/2/www/i...            31   \n",
        "2  http://s3-media3.ak.yelpcdn.com/assets/2/www/i...             8   \n",
        "\n",
        "                                                 url  \\\n",
        "0  http://www.yelp.com/biz/sf-fire-credit-union-s...   \n",
        "1  http://www.yelp.com/biz/sf-fire-credit-union-s...   \n",
        "2  http://www.yelp.com/biz/united-health-credit-u...   \n",
        "\n",
        "      complete_lookup_address   latitude   longitude latlng_confidence  \n",
        "0   3201 California St, 94118  37.787171 -122.447225             P1AAA  \n",
        "1   565 Buckingham Way, 94132  37.730150 -122.476210             L1AAA  \n",
        "2  1860 El Camino Real, 94010  37.596147 -122.384672             P1AAA  \n",
        "\n",
        "[3 rows x 18 columns]\n",
        "                        name                              id  postal_code  \\\n",
        "19690  Dublin Lockout & Keys  dublin-lockout-and-keys-dublin        94568   \n",
        "33747     Consolidated Parts  consolidated-parts-santa-clara        95050   \n",
        "51038           Boost Mobile          boost-mobile-hayward-5        94541   \n",
        "\n",
        "            phone            four_square_id  \n",
        "19690  9252351124                       NaN  \n",
        "33747  4087640200  4dd693a21fc7d8d8663d5523  \n",
        "51038  5102005181                       NaN  \n",
        "\n",
        "[3 rows x 5 columns]\n"
       ]
      }
     ],
     "prompt_number": 73
    },
    {
     "cell_type": "code",
     "collapsed": false,
     "input": [
      "# yelp_to_match.to_csv('yelp_to_match.csv')"
     ],
     "language": "python",
     "metadata": {},
     "outputs": [
      {
       "ename": "NameError",
       "evalue": "name 'yelp_to_match' is not defined",
       "output_type": "pyerr",
       "traceback": [
        "\u001b[0;31m---------------------------------------------------------------------------\u001b[0m\n\u001b[0;31mNameError\u001b[0m                                 Traceback (most recent call last)",
        "\u001b[0;32m<ipython-input-2-78989de3499e>\u001b[0m in \u001b[0;36m<module>\u001b[0;34m()\u001b[0m\n\u001b[0;32m----> 1\u001b[0;31m \u001b[0myelp_to_match\u001b[0m\u001b[0;34m.\u001b[0m\u001b[0mto_csv\u001b[0m\u001b[0;34m(\u001b[0m\u001b[0;34m'yelp_to_match.csv'\u001b[0m\u001b[0;34m)\u001b[0m\u001b[0;34m\u001b[0m\u001b[0m\n\u001b[0m",
        "\u001b[0;31mNameError\u001b[0m: name 'yelp_to_match' is not defined"
       ]
      }
     ],
     "prompt_number": 2
    },
    {
     "cell_type": "code",
     "collapsed": false,
     "input": [
      "# matched = yelp_to_match[yelp_to_match.four_square_id.notnull()]\n",
      "# matched.to_csv('matched.csv')\n",
      "matched = pd.read_csv('matched.csv')"
     ],
     "language": "python",
     "metadata": {},
     "outputs": [],
     "prompt_number": 3
    },
    {
     "cell_type": "code",
     "collapsed": false,
     "input": [
      "all_went_next = []\n",
      "already_finished = 0\n",
      "done_count = 0\n",
      "total_count = 0\n",
      "for four_square_from in matched.four_square_id:\n",
      "    done_count+=1\n",
      "    rand_duration = pd.np.random.random() * 1.45\n",
      "    time.sleep(rand_duration)\n",
      "    if done_count < already_finished:\n",
      "        continue\n",
      "    try:\n",
      "        went_next = four_square.find_next_venues(four_square_from)\n",
      "        all_went_next.extend(went_next)\n",
      "        if done_count % 10 == 0:\n",
      "            print done_count, total_count#, four_square_from, len(went_next)\n",
      "        total_count += len(went_next)\n",
      "    except Exception as e:\n",
      "        print e    "
     ],
     "language": "python",
     "metadata": {},
     "outputs": [
      {
       "output_type": "stream",
       "stream": "stdout",
       "text": [
        "10 5\n",
        "20"
       ]
      },
      {
       "output_type": "stream",
       "stream": "stdout",
       "text": [
        " 10\n",
        "30"
       ]
      },
      {
       "output_type": "stream",
       "stream": "stdout",
       "text": [
        " 13\n",
        "40"
       ]
      },
      {
       "output_type": "stream",
       "stream": "stdout",
       "text": [
        " 15\n",
        "50"
       ]
      },
      {
       "output_type": "stream",
       "stream": "stdout",
       "text": [
        " 16\n",
        "60"
       ]
      },
      {
       "output_type": "stream",
       "stream": "stdout",
       "text": [
        " 25\n",
        "70"
       ]
      },
      {
       "output_type": "stream",
       "stream": "stdout",
       "text": [
        " 34\n",
        "80"
       ]
      },
      {
       "output_type": "stream",
       "stream": "stdout",
       "text": [
        " 37\n",
        "90"
       ]
      },
      {
       "output_type": "stream",
       "stream": "stdout",
       "text": [
        " 37\n",
        "100"
       ]
      },
      {
       "output_type": "stream",
       "stream": "stdout",
       "text": [
        " 37\n",
        "110"
       ]
      },
      {
       "output_type": "stream",
       "stream": "stdout",
       "text": [
        " 37\n",
        "120"
       ]
      },
      {
       "output_type": "stream",
       "stream": "stdout",
       "text": [
        " 38\n",
        "130"
       ]
      },
      {
       "output_type": "stream",
       "stream": "stdout",
       "text": [
        " 44\n",
        "140"
       ]
      },
      {
       "output_type": "stream",
       "stream": "stdout",
       "text": [
        " 45\n",
        "150"
       ]
      },
      {
       "output_type": "stream",
       "stream": "stdout",
       "text": [
        " 45\n",
        "160"
       ]
      },
      {
       "output_type": "stream",
       "stream": "stdout",
       "text": [
        " 45\n",
        "170"
       ]
      },
      {
       "output_type": "stream",
       "stream": "stdout",
       "text": [
        " 45\n",
        "180"
       ]
      },
      {
       "output_type": "stream",
       "stream": "stdout",
       "text": [
        " 50\n",
        "190"
       ]
      },
      {
       "output_type": "stream",
       "stream": "stdout",
       "text": [
        " 55\n",
        "200"
       ]
      },
      {
       "output_type": "stream",
       "stream": "stdout",
       "text": [
        " 55\n",
        "210"
       ]
      },
      {
       "output_type": "stream",
       "stream": "stdout",
       "text": [
        " 55\n",
        "220"
       ]
      },
      {
       "output_type": "stream",
       "stream": "stdout",
       "text": [
        " 64\n",
        "230"
       ]
      },
      {
       "output_type": "stream",
       "stream": "stdout",
       "text": [
        " 70\n",
        "240"
       ]
      },
      {
       "output_type": "stream",
       "stream": "stdout",
       "text": [
        " 71\n",
        "250"
       ]
      },
      {
       "output_type": "stream",
       "stream": "stdout",
       "text": [
        " 74\n",
        "260"
       ]
      },
      {
       "output_type": "stream",
       "stream": "stdout",
       "text": [
        " 84\n",
        "270"
       ]
      },
      {
       "output_type": "stream",
       "stream": "stdout",
       "text": [
        " 84\n",
        "280"
       ]
      },
      {
       "output_type": "stream",
       "stream": "stdout",
       "text": [
        " 84\n",
        "290"
       ]
      },
      {
       "output_type": "stream",
       "stream": "stdout",
       "text": [
        " 90\n",
        "300"
       ]
      },
      {
       "output_type": "stream",
       "stream": "stdout",
       "text": [
        " 101\n",
        "310"
       ]
      },
      {
       "output_type": "stream",
       "stream": "stdout",
       "text": [
        " 103\n",
        "320"
       ]
      },
      {
       "output_type": "stream",
       "stream": "stdout",
       "text": [
        " 111\n",
        "330"
       ]
      },
      {
       "output_type": "stream",
       "stream": "stdout",
       "text": [
        " 113\n",
        "340"
       ]
      },
      {
       "output_type": "stream",
       "stream": "stdout",
       "text": [
        " 113\n",
        "350"
       ]
      },
      {
       "output_type": "stream",
       "stream": "stdout",
       "text": [
        " 117\n",
        "360"
       ]
      },
      {
       "output_type": "stream",
       "stream": "stdout",
       "text": [
        " 131\n",
        "370"
       ]
      },
      {
       "output_type": "stream",
       "stream": "stdout",
       "text": [
        " 136\n",
        "380"
       ]
      },
      {
       "output_type": "stream",
       "stream": "stdout",
       "text": [
        " 146\n",
        "390"
       ]
      },
      {
       "output_type": "stream",
       "stream": "stdout",
       "text": [
        " 158\n",
        "400"
       ]
      },
      {
       "output_type": "stream",
       "stream": "stdout",
       "text": [
        " 164\n",
        "410"
       ]
      },
      {
       "output_type": "stream",
       "stream": "stdout",
       "text": [
        " 175\n",
        "420"
       ]
      },
      {
       "output_type": "stream",
       "stream": "stdout",
       "text": [
        " 178\n",
        "430"
       ]
      },
      {
       "output_type": "stream",
       "stream": "stdout",
       "text": [
        " 187\n",
        "440"
       ]
      },
      {
       "output_type": "stream",
       "stream": "stdout",
       "text": [
        " 193\n",
        "450"
       ]
      },
      {
       "output_type": "stream",
       "stream": "stdout",
       "text": [
        " 193\n",
        "460"
       ]
      },
      {
       "output_type": "stream",
       "stream": "stdout",
       "text": [
        " 196\n",
        "470"
       ]
      },
      {
       "output_type": "stream",
       "stream": "stdout",
       "text": [
        " 196\n",
        "480"
       ]
      },
      {
       "output_type": "stream",
       "stream": "stdout",
       "text": [
        " 197\n",
        "490"
       ]
      },
      {
       "output_type": "stream",
       "stream": "stdout",
       "text": [
        " 208\n",
        "500"
       ]
      },
      {
       "output_type": "stream",
       "stream": "stdout",
       "text": [
        " 231\n",
        "510"
       ]
      },
      {
       "output_type": "stream",
       "stream": "stdout",
       "text": [
        " 241\n",
        "520"
       ]
      },
      {
       "output_type": "stream",
       "stream": "stdout",
       "text": [
        " 244\n",
        "530"
       ]
      },
      {
       "output_type": "stream",
       "stream": "stdout",
       "text": [
        " 244\n",
        "540"
       ]
      },
      {
       "output_type": "stream",
       "stream": "stdout",
       "text": [
        " 244\n",
        "550"
       ]
      },
      {
       "output_type": "stream",
       "stream": "stdout",
       "text": [
        " 249\n",
        "560"
       ]
      },
      {
       "output_type": "stream",
       "stream": "stdout",
       "text": [
        " 259\n",
        "570"
       ]
      },
      {
       "output_type": "stream",
       "stream": "stdout",
       "text": [
        " 274\n",
        "580"
       ]
      },
      {
       "output_type": "stream",
       "stream": "stdout",
       "text": [
        " 285\n",
        "590"
       ]
      },
      {
       "output_type": "stream",
       "stream": "stdout",
       "text": [
        " 289\n",
        "600"
       ]
      },
      {
       "output_type": "stream",
       "stream": "stdout",
       "text": [
        " 296\n",
        "610"
       ]
      },
      {
       "output_type": "stream",
       "stream": "stdout",
       "text": [
        " 301\n",
        "620"
       ]
      },
      {
       "output_type": "stream",
       "stream": "stdout",
       "text": [
        " 303\n",
        "630"
       ]
      },
      {
       "output_type": "stream",
       "stream": "stdout",
       "text": [
        " 303\n",
        "640"
       ]
      },
      {
       "output_type": "stream",
       "stream": "stdout",
       "text": [
        " 306\n",
        "650"
       ]
      },
      {
       "output_type": "stream",
       "stream": "stdout",
       "text": [
        " 306\n",
        "660"
       ]
      },
      {
       "output_type": "stream",
       "stream": "stdout",
       "text": [
        " 312\n",
        "670"
       ]
      },
      {
       "output_type": "stream",
       "stream": "stdout",
       "text": [
        " 312\n",
        "680"
       ]
      },
      {
       "output_type": "stream",
       "stream": "stdout",
       "text": [
        " 318\n",
        "690"
       ]
      },
      {
       "output_type": "stream",
       "stream": "stdout",
       "text": [
        " 321\n",
        "700"
       ]
      },
      {
       "output_type": "stream",
       "stream": "stdout",
       "text": [
        " 326\n",
        "710"
       ]
      },
      {
       "output_type": "stream",
       "stream": "stdout",
       "text": [
        " 326\n",
        "720"
       ]
      },
      {
       "output_type": "stream",
       "stream": "stdout",
       "text": [
        " 346\n",
        "730"
       ]
      },
      {
       "output_type": "stream",
       "stream": "stdout",
       "text": [
        " 351\n",
        "740"
       ]
      },
      {
       "output_type": "stream",
       "stream": "stdout",
       "text": [
        " 356\n",
        "750"
       ]
      },
      {
       "output_type": "stream",
       "stream": "stdout",
       "text": [
        " 358\n",
        "760"
       ]
      },
      {
       "output_type": "stream",
       "stream": "stdout",
       "text": [
        " 365\n",
        "770"
       ]
      },
      {
       "output_type": "stream",
       "stream": "stdout",
       "text": [
        " 370\n",
        "780"
       ]
      },
      {
       "output_type": "stream",
       "stream": "stdout",
       "text": [
        " 370\n",
        "790"
       ]
      },
      {
       "output_type": "stream",
       "stream": "stdout",
       "text": [
        " 371\n",
        "800"
       ]
      },
      {
       "output_type": "stream",
       "stream": "stdout",
       "text": [
        " 381\n",
        "810"
       ]
      },
      {
       "output_type": "stream",
       "stream": "stdout",
       "text": [
        " 386\n",
        "820"
       ]
      },
      {
       "output_type": "stream",
       "stream": "stdout",
       "text": [
        " 389\n",
        "830"
       ]
      },
      {
       "output_type": "stream",
       "stream": "stdout",
       "text": [
        " 389\n",
        "840"
       ]
      },
      {
       "output_type": "stream",
       "stream": "stdout",
       "text": [
        " 394\n",
        "850"
       ]
      },
      {
       "output_type": "stream",
       "stream": "stdout",
       "text": [
        " 394\n",
        "860"
       ]
      },
      {
       "output_type": "stream",
       "stream": "stdout",
       "text": [
        " 396\n",
        "870"
       ]
      },
      {
       "output_type": "stream",
       "stream": "stdout",
       "text": [
        " 396\n",
        "880"
       ]
      },
      {
       "output_type": "stream",
       "stream": "stdout",
       "text": [
        " 396\n",
        "890"
       ]
      },
      {
       "output_type": "stream",
       "stream": "stdout",
       "text": [
        " 396\n",
        "900"
       ]
      },
      {
       "output_type": "stream",
       "stream": "stdout",
       "text": [
        " 396\n",
        "910"
       ]
      },
      {
       "output_type": "stream",
       "stream": "stdout",
       "text": [
        " 401\n",
        "920"
       ]
      },
      {
       "output_type": "stream",
       "stream": "stdout",
       "text": [
        " 410\n",
        "930"
       ]
      },
      {
       "output_type": "stream",
       "stream": "stdout",
       "text": [
        " 410\n",
        "940"
       ]
      },
      {
       "output_type": "stream",
       "stream": "stdout",
       "text": [
        " 423\n",
        "950"
       ]
      },
      {
       "output_type": "stream",
       "stream": "stdout",
       "text": [
        " 431\n",
        "960"
       ]
      },
      {
       "output_type": "stream",
       "stream": "stdout",
       "text": [
        " 431\n",
        "970"
       ]
      },
      {
       "output_type": "stream",
       "stream": "stdout",
       "text": [
        " 435\n",
        "980"
       ]
      },
      {
       "output_type": "stream",
       "stream": "stdout",
       "text": [
        " 440\n",
        "990"
       ]
      },
      {
       "output_type": "stream",
       "stream": "stdout",
       "text": [
        " 441\n",
        "1000"
       ]
      },
      {
       "output_type": "stream",
       "stream": "stdout",
       "text": [
        " 442\n",
        "1010"
       ]
      },
      {
       "output_type": "stream",
       "stream": "stdout",
       "text": [
        " 447\n",
        "1020"
       ]
      },
      {
       "output_type": "stream",
       "stream": "stdout",
       "text": [
        " 447\n",
        "1030"
       ]
      },
      {
       "output_type": "stream",
       "stream": "stdout",
       "text": [
        " 447\n",
        "1040"
       ]
      },
      {
       "output_type": "stream",
       "stream": "stdout",
       "text": [
        " 454\n",
        "1050"
       ]
      },
      {
       "output_type": "stream",
       "stream": "stdout",
       "text": [
        " 464\n",
        "1060"
       ]
      },
      {
       "output_type": "stream",
       "stream": "stdout",
       "text": [
        " 464\n",
        "1070"
       ]
      },
      {
       "output_type": "stream",
       "stream": "stdout",
       "text": [
        " 469\n",
        "1080"
       ]
      },
      {
       "output_type": "stream",
       "stream": "stdout",
       "text": [
        " 477\n",
        "1090"
       ]
      },
      {
       "output_type": "stream",
       "stream": "stdout",
       "text": [
        " 483\n",
        "1100"
       ]
      },
      {
       "output_type": "stream",
       "stream": "stdout",
       "text": [
        " 488\n",
        "1110"
       ]
      },
      {
       "output_type": "stream",
       "stream": "stdout",
       "text": [
        " 489\n",
        "1120"
       ]
      },
      {
       "output_type": "stream",
       "stream": "stdout",
       "text": [
        " 489\n",
        "1130"
       ]
      },
      {
       "output_type": "stream",
       "stream": "stdout",
       "text": [
        " 493\n",
        "1140"
       ]
      },
      {
       "output_type": "stream",
       "stream": "stdout",
       "text": [
        " 496\n",
        "1150"
       ]
      },
      {
       "output_type": "stream",
       "stream": "stdout",
       "text": [
        " 496\n",
        "1160"
       ]
      },
      {
       "output_type": "stream",
       "stream": "stdout",
       "text": [
        " 496\n",
        "1170"
       ]
      },
      {
       "output_type": "stream",
       "stream": "stdout",
       "text": [
        " 496\n",
        "1180"
       ]
      },
      {
       "output_type": "stream",
       "stream": "stdout",
       "text": [
        " 496\n",
        "1190"
       ]
      },
      {
       "output_type": "stream",
       "stream": "stdout",
       "text": [
        " 501\n",
        "1200"
       ]
      },
      {
       "output_type": "stream",
       "stream": "stdout",
       "text": [
        " 508\n",
        "1210"
       ]
      },
      {
       "output_type": "stream",
       "stream": "stdout",
       "text": [
        " 509\n",
        "1220"
       ]
      },
      {
       "output_type": "stream",
       "stream": "stdout",
       "text": [
        " 509\n",
        "1230"
       ]
      },
      {
       "output_type": "stream",
       "stream": "stdout",
       "text": [
        " 514\n",
        "1240"
       ]
      },
      {
       "output_type": "stream",
       "stream": "stdout",
       "text": [
        " 514\n",
        "1250"
       ]
      },
      {
       "output_type": "stream",
       "stream": "stdout",
       "text": [
        " 514\n",
        "1260"
       ]
      },
      {
       "output_type": "stream",
       "stream": "stdout",
       "text": [
        " 514\n",
        "1270"
       ]
      },
      {
       "output_type": "stream",
       "stream": "stdout",
       "text": [
        " 514\n",
        "1280"
       ]
      },
      {
       "output_type": "stream",
       "stream": "stdout",
       "text": [
        " 514\n",
        "1290"
       ]
      },
      {
       "output_type": "stream",
       "stream": "stdout",
       "text": [
        " 520\n",
        "1300"
       ]
      },
      {
       "output_type": "stream",
       "stream": "stdout",
       "text": [
        " 533\n",
        "1310"
       ]
      },
      {
       "output_type": "stream",
       "stream": "stdout",
       "text": [
        " 533\n",
        "1320"
       ]
      },
      {
       "output_type": "stream",
       "stream": "stdout",
       "text": [
        " 552\n",
        "1330"
       ]
      },
      {
       "output_type": "stream",
       "stream": "stdout",
       "text": [
        " 552\n",
        "1340"
       ]
      },
      {
       "output_type": "stream",
       "stream": "stdout",
       "text": [
        " 552\n",
        "1350"
       ]
      },
      {
       "output_type": "stream",
       "stream": "stdout",
       "text": [
        " 552\n",
        "1360"
       ]
      },
      {
       "output_type": "stream",
       "stream": "stdout",
       "text": [
        " 552\n",
        "1370"
       ]
      },
      {
       "output_type": "stream",
       "stream": "stdout",
       "text": [
        " 552\n",
        "1380"
       ]
      },
      {
       "output_type": "stream",
       "stream": "stdout",
       "text": [
        " 555\n",
        "1390"
       ]
      },
      {
       "output_type": "stream",
       "stream": "stdout",
       "text": [
        " 565\n",
        "1400"
       ]
      },
      {
       "output_type": "stream",
       "stream": "stdout",
       "text": [
        " 570\n",
        "1410"
       ]
      },
      {
       "output_type": "stream",
       "stream": "stdout",
       "text": [
        " 574\n",
        "1420"
       ]
      },
      {
       "output_type": "stream",
       "stream": "stdout",
       "text": [
        " 580\n",
        "1430"
       ]
      },
      {
       "output_type": "stream",
       "stream": "stdout",
       "text": [
        " 585\n",
        "1440"
       ]
      },
      {
       "output_type": "stream",
       "stream": "stdout",
       "text": [
        " 585\n",
        "1450"
       ]
      },
      {
       "output_type": "stream",
       "stream": "stdout",
       "text": [
        " 590\n",
        "1460"
       ]
      },
      {
       "output_type": "stream",
       "stream": "stdout",
       "text": [
        " 590\n",
        "1470"
       ]
      },
      {
       "output_type": "stream",
       "stream": "stdout",
       "text": [
        " 596\n",
        "1480"
       ]
      },
      {
       "output_type": "stream",
       "stream": "stdout",
       "text": [
        " 596\n",
        "1490"
       ]
      },
      {
       "output_type": "stream",
       "stream": "stdout",
       "text": [
        " 602\n",
        "1500"
       ]
      },
      {
       "output_type": "stream",
       "stream": "stdout",
       "text": [
        " 610\n",
        "1510"
       ]
      },
      {
       "output_type": "stream",
       "stream": "stdout",
       "text": [
        " 615\n",
        "1520"
       ]
      },
      {
       "output_type": "stream",
       "stream": "stdout",
       "text": [
        " 620\n",
        "1530"
       ]
      },
      {
       "output_type": "stream",
       "stream": "stdout",
       "text": [
        " 625\n",
        "1540"
       ]
      },
      {
       "output_type": "stream",
       "stream": "stdout",
       "text": [
        " 635\n",
        "1550"
       ]
      },
      {
       "output_type": "stream",
       "stream": "stdout",
       "text": [
        " 637\n",
        "1560"
       ]
      },
      {
       "output_type": "stream",
       "stream": "stdout",
       "text": [
        " 638\n",
        "1570"
       ]
      },
      {
       "output_type": "stream",
       "stream": "stdout",
       "text": [
        " 640\n",
        "1580"
       ]
      },
      {
       "output_type": "stream",
       "stream": "stdout",
       "text": [
        " 640\n",
        "1590"
       ]
      },
      {
       "output_type": "stream",
       "stream": "stdout",
       "text": [
        " 646\n",
        "1600"
       ]
      },
      {
       "output_type": "stream",
       "stream": "stdout",
       "text": [
        " 648\n",
        "1610"
       ]
      },
      {
       "output_type": "stream",
       "stream": "stdout",
       "text": [
        " 653\n",
        "1620"
       ]
      },
      {
       "output_type": "stream",
       "stream": "stdout",
       "text": [
        " 653\n",
        "1630"
       ]
      },
      {
       "output_type": "stream",
       "stream": "stdout",
       "text": [
        " 656\n",
        "1640"
       ]
      },
      {
       "output_type": "stream",
       "stream": "stdout",
       "text": [
        " 656\n",
        "1650"
       ]
      },
      {
       "output_type": "stream",
       "stream": "stdout",
       "text": [
        " 656\n",
        "1660"
       ]
      },
      {
       "output_type": "stream",
       "stream": "stdout",
       "text": [
        " 664\n",
        "1670"
       ]
      },
      {
       "output_type": "stream",
       "stream": "stdout",
       "text": [
        " 665\n",
        "1680"
       ]
      },
      {
       "output_type": "stream",
       "stream": "stdout",
       "text": [
        " 665\n",
        "1690"
       ]
      },
      {
       "output_type": "stream",
       "stream": "stdout",
       "text": [
        " 670\n",
        "1700"
       ]
      },
      {
       "output_type": "stream",
       "stream": "stdout",
       "text": [
        " 670\n",
        "1710"
       ]
      },
      {
       "output_type": "stream",
       "stream": "stdout",
       "text": [
        " 678\n",
        "1720"
       ]
      },
      {
       "output_type": "stream",
       "stream": "stdout",
       "text": [
        " 688\n",
        "1730"
       ]
      },
      {
       "output_type": "stream",
       "stream": "stdout",
       "text": [
        " 688\n",
        "1740"
       ]
      },
      {
       "output_type": "stream",
       "stream": "stdout",
       "text": [
        " 688\n",
        "1750"
       ]
      },
      {
       "output_type": "stream",
       "stream": "stdout",
       "text": [
        " 688\n",
        "1760"
       ]
      },
      {
       "output_type": "stream",
       "stream": "stdout",
       "text": [
        " 689\n",
        "1770"
       ]
      },
      {
       "output_type": "stream",
       "stream": "stdout",
       "text": [
        " 694\n",
        "1780"
       ]
      },
      {
       "output_type": "stream",
       "stream": "stdout",
       "text": [
        " 694\n",
        "1790"
       ]
      },
      {
       "output_type": "stream",
       "stream": "stdout",
       "text": [
        " 694\n",
        "1800"
       ]
      },
      {
       "output_type": "stream",
       "stream": "stdout",
       "text": [
        " 699\n",
        "1810"
       ]
      },
      {
       "output_type": "stream",
       "stream": "stdout",
       "text": [
        " 713\n",
        "1820"
       ]
      },
      {
       "output_type": "stream",
       "stream": "stdout",
       "text": [
        " 714\n",
        "1830"
       ]
      },
      {
       "output_type": "stream",
       "stream": "stdout",
       "text": [
        " 717\n",
        "1840"
       ]
      },
      {
       "output_type": "stream",
       "stream": "stdout",
       "text": [
        " 731\n",
        "1850"
       ]
      },
      {
       "output_type": "stream",
       "stream": "stdout",
       "text": [
        " 734\n",
        "1860"
       ]
      },
      {
       "output_type": "stream",
       "stream": "stdout",
       "text": [
        " 738\n",
        "1870"
       ]
      },
      {
       "output_type": "stream",
       "stream": "stdout",
       "text": [
        " 740\n",
        "1880"
       ]
      },
      {
       "output_type": "stream",
       "stream": "stdout",
       "text": [
        " 740\n",
        "1890"
       ]
      },
      {
       "output_type": "stream",
       "stream": "stdout",
       "text": [
        " 742\n",
        "1900"
       ]
      },
      {
       "output_type": "stream",
       "stream": "stdout",
       "text": [
        " 744\n",
        "1910"
       ]
      },
      {
       "output_type": "stream",
       "stream": "stdout",
       "text": [
        " 750\n",
        "1920"
       ]
      },
      {
       "output_type": "stream",
       "stream": "stdout",
       "text": [
        " 751\n",
        "1930"
       ]
      },
      {
       "output_type": "stream",
       "stream": "stdout",
       "text": [
        " 757\n",
        "1940"
       ]
      },
      {
       "output_type": "stream",
       "stream": "stdout",
       "text": [
        " 757\n",
        "1950"
       ]
      },
      {
       "output_type": "stream",
       "stream": "stdout",
       "text": [
        " 757\n",
        "1960"
       ]
      },
      {
       "output_type": "stream",
       "stream": "stdout",
       "text": [
        " 763\n",
        "1970"
       ]
      },
      {
       "output_type": "stream",
       "stream": "stdout",
       "text": [
        " 763\n",
        "1980"
       ]
      },
      {
       "output_type": "stream",
       "stream": "stdout",
       "text": [
        " 768\n",
        "1990"
       ]
      },
      {
       "output_type": "stream",
       "stream": "stdout",
       "text": [
        " 768\n",
        "2000"
       ]
      },
      {
       "output_type": "stream",
       "stream": "stdout",
       "text": [
        " 768\n",
        "2010"
       ]
      },
      {
       "output_type": "stream",
       "stream": "stdout",
       "text": [
        " 768\n",
        "2020"
       ]
      },
      {
       "output_type": "stream",
       "stream": "stdout",
       "text": [
        " 768\n",
        "2030"
       ]
      },
      {
       "output_type": "stream",
       "stream": "stdout",
       "text": [
        " 770\n",
        "2040"
       ]
      },
      {
       "output_type": "stream",
       "stream": "stdout",
       "text": [
        " 770\n",
        "2050"
       ]
      },
      {
       "output_type": "stream",
       "stream": "stdout",
       "text": [
        " 770\n",
        "2060"
       ]
      },
      {
       "output_type": "stream",
       "stream": "stdout",
       "text": [
        " 773\n",
        "2070"
       ]
      },
      {
       "output_type": "stream",
       "stream": "stdout",
       "text": [
        " 773\n",
        "2080"
       ]
      },
      {
       "output_type": "stream",
       "stream": "stdout",
       "text": [
        " 778\n",
        "2090"
       ]
      },
      {
       "output_type": "stream",
       "stream": "stdout",
       "text": [
        " 778\n",
        "2100"
       ]
      },
      {
       "output_type": "stream",
       "stream": "stdout",
       "text": [
        " 778\n",
        "2110"
       ]
      },
      {
       "output_type": "stream",
       "stream": "stdout",
       "text": [
        " 778\n",
        "2120"
       ]
      },
      {
       "output_type": "stream",
       "stream": "stdout",
       "text": [
        " 778\n",
        "2130"
       ]
      },
      {
       "output_type": "stream",
       "stream": "stdout",
       "text": [
        " 783\n",
        "2140"
       ]
      },
      {
       "output_type": "stream",
       "stream": "stdout",
       "text": [
        " 783\n",
        "2150"
       ]
      },
      {
       "output_type": "stream",
       "stream": "stdout",
       "text": [
        " 785\n",
        "2160"
       ]
      },
      {
       "output_type": "stream",
       "stream": "stdout",
       "text": [
        " 790\n",
        "2170"
       ]
      },
      {
       "output_type": "stream",
       "stream": "stdout",
       "text": [
        " 794\n",
        "2180"
       ]
      },
      {
       "output_type": "stream",
       "stream": "stdout",
       "text": [
        " 794\n",
        "2190"
       ]
      },
      {
       "output_type": "stream",
       "stream": "stdout",
       "text": [
        " 799\n",
        "2200"
       ]
      },
      {
       "output_type": "stream",
       "stream": "stdout",
       "text": [
        " 801\n",
        "2210"
       ]
      },
      {
       "output_type": "stream",
       "stream": "stdout",
       "text": [
        " 810\n",
        "2220"
       ]
      },
      {
       "output_type": "stream",
       "stream": "stdout",
       "text": [
        " 812\n",
        "2230"
       ]
      },
      {
       "output_type": "stream",
       "stream": "stdout",
       "text": [
        " 815\n",
        "2240"
       ]
      },
      {
       "output_type": "stream",
       "stream": "stdout",
       "text": [
        " 816\n",
        "2250"
       ]
      },
      {
       "output_type": "stream",
       "stream": "stdout",
       "text": [
        " 823\n",
        "2260"
       ]
      },
      {
       "output_type": "stream",
       "stream": "stdout",
       "text": [
        " 825\n",
        "2270"
       ]
      },
      {
       "output_type": "stream",
       "stream": "stdout",
       "text": [
        " 837\n",
        "2280"
       ]
      },
      {
       "output_type": "stream",
       "stream": "stdout",
       "text": [
        " 844\n",
        "2290"
       ]
      },
      {
       "output_type": "stream",
       "stream": "stdout",
       "text": [
        " 844\n",
        "2300"
       ]
      },
      {
       "output_type": "stream",
       "stream": "stdout",
       "text": [
        " 847\n",
        "2310"
       ]
      },
      {
       "output_type": "stream",
       "stream": "stdout",
       "text": [
        " 852\n",
        "2320"
       ]
      },
      {
       "output_type": "stream",
       "stream": "stdout",
       "text": [
        " 859\n",
        "2330"
       ]
      },
      {
       "output_type": "stream",
       "stream": "stdout",
       "text": [
        " 864\n",
        "2340"
       ]
      },
      {
       "output_type": "stream",
       "stream": "stdout",
       "text": [
        " 869\n",
        "2350"
       ]
      },
      {
       "output_type": "stream",
       "stream": "stdout",
       "text": [
        " 878\n",
        "2360"
       ]
      },
      {
       "output_type": "stream",
       "stream": "stdout",
       "text": [
        " 878\n",
        "2370"
       ]
      },
      {
       "output_type": "stream",
       "stream": "stdout",
       "text": [
        " 879\n",
        "2380"
       ]
      },
      {
       "output_type": "stream",
       "stream": "stdout",
       "text": [
        " 884\n",
        "2390"
       ]
      },
      {
       "output_type": "stream",
       "stream": "stdout",
       "text": [
        " 884\n",
        "2400"
       ]
      },
      {
       "output_type": "stream",
       "stream": "stdout",
       "text": [
        " 888\n",
        "2410"
       ]
      },
      {
       "output_type": "stream",
       "stream": "stdout",
       "text": [
        " 898\n",
        "2420"
       ]
      },
      {
       "output_type": "stream",
       "stream": "stdout",
       "text": [
        " 904\n",
        "2430"
       ]
      },
      {
       "output_type": "stream",
       "stream": "stdout",
       "text": [
        " 904\n",
        "2440"
       ]
      },
      {
       "output_type": "stream",
       "stream": "stdout",
       "text": [
        " 909\n",
        "2450"
       ]
      },
      {
       "output_type": "stream",
       "stream": "stdout",
       "text": [
        " 915\n",
        "2460"
       ]
      },
      {
       "output_type": "stream",
       "stream": "stdout",
       "text": [
        " 927\n",
        "2470"
       ]
      },
      {
       "output_type": "stream",
       "stream": "stdout",
       "text": [
        " 927\n",
        "2480"
       ]
      },
      {
       "output_type": "stream",
       "stream": "stdout",
       "text": [
        " 927\n",
        "2490"
       ]
      },
      {
       "output_type": "stream",
       "stream": "stdout",
       "text": [
        " 937\n",
        "2500"
       ]
      },
      {
       "output_type": "stream",
       "stream": "stdout",
       "text": [
        " 938\n",
        "2510"
       ]
      },
      {
       "output_type": "stream",
       "stream": "stdout",
       "text": [
        " 940\n",
        "2520"
       ]
      },
      {
       "output_type": "stream",
       "stream": "stdout",
       "text": [
        " 948\n",
        "2530"
       ]
      },
      {
       "output_type": "stream",
       "stream": "stdout",
       "text": [
        " 957\n",
        "2540"
       ]
      },
      {
       "output_type": "stream",
       "stream": "stdout",
       "text": [
        " 963\n",
        "2550"
       ]
      },
      {
       "output_type": "stream",
       "stream": "stdout",
       "text": [
        " 969\n",
        "2560"
       ]
      },
      {
       "output_type": "stream",
       "stream": "stdout",
       "text": [
        " 972\n",
        "2570"
       ]
      },
      {
       "output_type": "stream",
       "stream": "stdout",
       "text": [
        " 972\n",
        "2580"
       ]
      },
      {
       "output_type": "stream",
       "stream": "stdout",
       "text": [
        " 991\n",
        "2590"
       ]
      },
      {
       "output_type": "stream",
       "stream": "stdout",
       "text": [
        " 993\n",
        "2600"
       ]
      },
      {
       "output_type": "stream",
       "stream": "stdout",
       "text": [
        " 995\n",
        "2610"
       ]
      },
      {
       "output_type": "stream",
       "stream": "stdout",
       "text": [
        " 1002\n",
        "2620"
       ]
      },
      {
       "output_type": "stream",
       "stream": "stdout",
       "text": [
        " 1007\n",
        "2630"
       ]
      },
      {
       "output_type": "stream",
       "stream": "stdout",
       "text": [
        " 1015\n",
        "2640"
       ]
      },
      {
       "output_type": "stream",
       "stream": "stdout",
       "text": [
        " 1020\n",
        "2650"
       ]
      },
      {
       "output_type": "stream",
       "stream": "stdout",
       "text": [
        " 1026\n",
        "2660"
       ]
      },
      {
       "output_type": "stream",
       "stream": "stdout",
       "text": [
        " 1028\n",
        "2670"
       ]
      },
      {
       "output_type": "stream",
       "stream": "stdout",
       "text": [
        " 1031\n",
        "2680"
       ]
      },
      {
       "output_type": "stream",
       "stream": "stdout",
       "text": [
        " 1039\n",
        "2690"
       ]
      },
      {
       "output_type": "stream",
       "stream": "stdout",
       "text": [
        " 1043\n",
        "2700"
       ]
      },
      {
       "output_type": "stream",
       "stream": "stdout",
       "text": [
        " 1043\n",
        "2710"
       ]
      },
      {
       "output_type": "stream",
       "stream": "stdout",
       "text": [
        " 1043\n",
        "2720"
       ]
      },
      {
       "output_type": "stream",
       "stream": "stdout",
       "text": [
        " 1052\n",
        "2730"
       ]
      },
      {
       "output_type": "stream",
       "stream": "stdout",
       "text": [
        " 1063\n",
        "2740"
       ]
      },
      {
       "output_type": "stream",
       "stream": "stdout",
       "text": [
        " 1063\n",
        "2750"
       ]
      },
      {
       "output_type": "stream",
       "stream": "stdout",
       "text": [
        " 1063\n",
        "2760"
       ]
      },
      {
       "output_type": "stream",
       "stream": "stdout",
       "text": [
        " 1064\n",
        "2770"
       ]
      },
      {
       "output_type": "stream",
       "stream": "stdout",
       "text": [
        " 1069\n",
        "2780"
       ]
      },
      {
       "output_type": "stream",
       "stream": "stdout",
       "text": [
        " 1075\n",
        "2790"
       ]
      },
      {
       "output_type": "stream",
       "stream": "stdout",
       "text": [
        " 1075\n",
        "2800"
       ]
      },
      {
       "output_type": "stream",
       "stream": "stdout",
       "text": [
        " 1084\n",
        "2810"
       ]
      },
      {
       "output_type": "stream",
       "stream": "stdout",
       "text": [
        " 1084\n",
        "2820"
       ]
      },
      {
       "output_type": "stream",
       "stream": "stdout",
       "text": [
        " 1084\n",
        "2830"
       ]
      },
      {
       "output_type": "stream",
       "stream": "stdout",
       "text": [
        " 1087\n",
        "2840"
       ]
      },
      {
       "output_type": "stream",
       "stream": "stdout",
       "text": [
        " 1087\n",
        "2850"
       ]
      },
      {
       "output_type": "stream",
       "stream": "stdout",
       "text": [
        " 1087\n",
        "2860"
       ]
      },
      {
       "output_type": "stream",
       "stream": "stdout",
       "text": [
        " 1087\n",
        "2870"
       ]
      },
      {
       "output_type": "stream",
       "stream": "stdout",
       "text": [
        " 1089\n",
        "2880"
       ]
      },
      {
       "output_type": "stream",
       "stream": "stdout",
       "text": [
        " 1090\n",
        "2890"
       ]
      },
      {
       "output_type": "stream",
       "stream": "stdout",
       "text": [
        " 1092\n",
        "2900"
       ]
      },
      {
       "output_type": "stream",
       "stream": "stdout",
       "text": [
        " 1092\n",
        "2910"
       ]
      },
      {
       "output_type": "stream",
       "stream": "stdout",
       "text": [
        " 1097\n",
        "2920"
       ]
      },
      {
       "output_type": "stream",
       "stream": "stdout",
       "text": [
        " 1097\n",
        "2930"
       ]
      },
      {
       "output_type": "stream",
       "stream": "stdout",
       "text": [
        " 1097\n",
        "2940"
       ]
      },
      {
       "output_type": "stream",
       "stream": "stdout",
       "text": [
        " 1097\n",
        "2950"
       ]
      },
      {
       "output_type": "stream",
       "stream": "stdout",
       "text": [
        " 1102\n",
        "2960"
       ]
      },
      {
       "output_type": "stream",
       "stream": "stdout",
       "text": [
        " 1112\n",
        "2970"
       ]
      },
      {
       "output_type": "stream",
       "stream": "stdout",
       "text": [
        " 1112\n",
        "2980"
       ]
      },
      {
       "output_type": "stream",
       "stream": "stdout",
       "text": [
        " 1112\n",
        "2990"
       ]
      },
      {
       "output_type": "stream",
       "stream": "stdout",
       "text": [
        " 1112\n",
        "3000"
       ]
      },
      {
       "output_type": "stream",
       "stream": "stdout",
       "text": [
        " 1112\n",
        "3010"
       ]
      },
      {
       "output_type": "stream",
       "stream": "stdout",
       "text": [
        " 1115\n",
        "3020"
       ]
      },
      {
       "output_type": "stream",
       "stream": "stdout",
       "text": [
        " 1120\n",
        "3030"
       ]
      },
      {
       "output_type": "stream",
       "stream": "stdout",
       "text": [
        " 1123\n",
        "3040"
       ]
      },
      {
       "output_type": "stream",
       "stream": "stdout",
       "text": [
        " 1132\n",
        "3050"
       ]
      },
      {
       "output_type": "stream",
       "stream": "stdout",
       "text": [
        " 1141\n",
        "3060"
       ]
      },
      {
       "output_type": "stream",
       "stream": "stdout",
       "text": [
        " 1146\n",
        "3070"
       ]
      },
      {
       "output_type": "stream",
       "stream": "stdout",
       "text": [
        " 1151\n",
        "3080"
       ]
      },
      {
       "output_type": "stream",
       "stream": "stdout",
       "text": [
        " 1151\n",
        "3090"
       ]
      },
      {
       "output_type": "stream",
       "stream": "stdout",
       "text": [
        " 1154\n",
        "3100"
       ]
      },
      {
       "output_type": "stream",
       "stream": "stdout",
       "text": [
        " 1155\n",
        "3110"
       ]
      },
      {
       "output_type": "stream",
       "stream": "stdout",
       "text": [
        " 1155\n",
        "3120"
       ]
      },
      {
       "output_type": "stream",
       "stream": "stdout",
       "text": [
        " 1162\n",
        "3130"
       ]
      },
      {
       "output_type": "stream",
       "stream": "stdout",
       "text": [
        " 1171\n",
        "3140"
       ]
      },
      {
       "output_type": "stream",
       "stream": "stdout",
       "text": [
        " 1171\n",
        "3150"
       ]
      },
      {
       "output_type": "stream",
       "stream": "stdout",
       "text": [
        " 1173\n",
        "3160"
       ]
      },
      {
       "output_type": "stream",
       "stream": "stdout",
       "text": [
        " 1176\n",
        "3170"
       ]
      },
      {
       "output_type": "stream",
       "stream": "stdout",
       "text": [
        " 1178\n",
        "3180"
       ]
      },
      {
       "output_type": "stream",
       "stream": "stdout",
       "text": [
        " 1189\n",
        "3190"
       ]
      },
      {
       "output_type": "stream",
       "stream": "stdout",
       "text": [
        " 1194\n",
        "3200"
       ]
      },
      {
       "output_type": "stream",
       "stream": "stdout",
       "text": [
        " 1199\n",
        "3210"
       ]
      },
      {
       "output_type": "stream",
       "stream": "stdout",
       "text": [
        " 1199\n",
        "3220"
       ]
      },
      {
       "output_type": "stream",
       "stream": "stdout",
       "text": [
        " 1202\n",
        "3230"
       ]
      },
      {
       "output_type": "stream",
       "stream": "stdout",
       "text": [
        " 1202\n",
        "3240"
       ]
      },
      {
       "output_type": "stream",
       "stream": "stdout",
       "text": [
        " 1202\n",
        "3250"
       ]
      },
      {
       "output_type": "stream",
       "stream": "stdout",
       "text": [
        " 1207\n",
        "3260"
       ]
      },
      {
       "output_type": "stream",
       "stream": "stdout",
       "text": [
        " 1215\n",
        "3270"
       ]
      },
      {
       "output_type": "stream",
       "stream": "stdout",
       "text": [
        " 1215\n",
        "3280"
       ]
      },
      {
       "output_type": "stream",
       "stream": "stdout",
       "text": [
        " 1217\n",
        "3290"
       ]
      },
      {
       "output_type": "stream",
       "stream": "stdout",
       "text": [
        " 1221\n",
        "3300"
       ]
      },
      {
       "output_type": "stream",
       "stream": "stdout",
       "text": [
        " 1222\n",
        "3310"
       ]
      },
      {
       "output_type": "stream",
       "stream": "stdout",
       "text": [
        " 1225\n",
        "3320"
       ]
      },
      {
       "output_type": "stream",
       "stream": "stdout",
       "text": [
        " 1230\n",
        "3330"
       ]
      },
      {
       "output_type": "stream",
       "stream": "stdout",
       "text": [
        " 1235\n",
        "3340"
       ]
      },
      {
       "output_type": "stream",
       "stream": "stdout",
       "text": [
        " 1235\n",
        "3350"
       ]
      },
      {
       "output_type": "stream",
       "stream": "stdout",
       "text": [
        " 1238\n",
        "3360"
       ]
      },
      {
       "output_type": "stream",
       "stream": "stdout",
       "text": [
        " 1243\n",
        "3370"
       ]
      },
      {
       "output_type": "stream",
       "stream": "stdout",
       "text": [
        " 1243\n",
        "3380"
       ]
      },
      {
       "output_type": "stream",
       "stream": "stdout",
       "text": [
        " 1245\n",
        "3390"
       ]
      },
      {
       "output_type": "stream",
       "stream": "stdout",
       "text": [
        " 1249\n",
        "3400"
       ]
      },
      {
       "output_type": "stream",
       "stream": "stdout",
       "text": [
        " 1258\n",
        "3410"
       ]
      },
      {
       "output_type": "stream",
       "stream": "stdout",
       "text": [
        " 1258\n",
        "3420"
       ]
      },
      {
       "output_type": "stream",
       "stream": "stdout",
       "text": [
        " 1258\n",
        "3430"
       ]
      },
      {
       "output_type": "stream",
       "stream": "stdout",
       "text": [
        " 1263\n",
        "3440"
       ]
      },
      {
       "output_type": "stream",
       "stream": "stdout",
       "text": [
        " 1263\n",
        "3450"
       ]
      },
      {
       "output_type": "stream",
       "stream": "stdout",
       "text": [
        " 1263\n",
        "3460"
       ]
      },
      {
       "output_type": "stream",
       "stream": "stdout",
       "text": [
        " 1267\n",
        "3470"
       ]
      },
      {
       "output_type": "stream",
       "stream": "stdout",
       "text": [
        " 1277\n",
        "3480"
       ]
      },
      {
       "output_type": "stream",
       "stream": "stdout",
       "text": [
        " 1282\n",
        "3490"
       ]
      },
      {
       "output_type": "stream",
       "stream": "stdout",
       "text": [
        " 1286\n",
        "3500"
       ]
      },
      {
       "output_type": "stream",
       "stream": "stdout",
       "text": [
        " 1294\n",
        "3510"
       ]
      },
      {
       "output_type": "stream",
       "stream": "stdout",
       "text": [
        " 1296\n",
        "3520"
       ]
      },
      {
       "output_type": "stream",
       "stream": "stdout",
       "text": [
        " 1297\n",
        "3530"
       ]
      },
      {
       "output_type": "stream",
       "stream": "stdout",
       "text": [
        " 1301\n",
        "3540"
       ]
      },
      {
       "output_type": "stream",
       "stream": "stdout",
       "text": [
        " 1301\n",
        "3550"
       ]
      },
      {
       "output_type": "stream",
       "stream": "stdout",
       "text": [
        " 1310\n",
        "3560"
       ]
      },
      {
       "output_type": "stream",
       "stream": "stdout",
       "text": [
        " 1315\n",
        "3570"
       ]
      },
      {
       "output_type": "stream",
       "stream": "stdout",
       "text": [
        " 1315\n",
        "3580"
       ]
      },
      {
       "output_type": "stream",
       "stream": "stdout",
       "text": [
        " 1320\n",
        "3590"
       ]
      },
      {
       "output_type": "stream",
       "stream": "stdout",
       "text": [
        " 1321\n",
        "3600"
       ]
      },
      {
       "output_type": "stream",
       "stream": "stdout",
       "text": [
        " 1321\n",
        "3610"
       ]
      },
      {
       "output_type": "stream",
       "stream": "stdout",
       "text": [
        " 1326\n",
        "3620"
       ]
      },
      {
       "output_type": "stream",
       "stream": "stdout",
       "text": [
        " 1332\n",
        "3630"
       ]
      },
      {
       "output_type": "stream",
       "stream": "stdout",
       "text": [
        " 1333\n",
        "3640"
       ]
      },
      {
       "output_type": "stream",
       "stream": "stdout",
       "text": [
        " 1333\n",
        "3650"
       ]
      },
      {
       "output_type": "stream",
       "stream": "stdout",
       "text": [
        " 1333\n",
        "3660"
       ]
      },
      {
       "output_type": "stream",
       "stream": "stdout",
       "text": [
        " 1334\n",
        "3670"
       ]
      },
      {
       "output_type": "stream",
       "stream": "stdout",
       "text": [
        " 1340\n",
        "3680"
       ]
      },
      {
       "output_type": "stream",
       "stream": "stdout",
       "text": [
        " 1341\n",
        "3690"
       ]
      },
      {
       "output_type": "stream",
       "stream": "stdout",
       "text": [
        " 1350\n",
        "3700"
       ]
      },
      {
       "output_type": "stream",
       "stream": "stdout",
       "text": [
        " 1354\n",
        "3710"
       ]
      },
      {
       "output_type": "stream",
       "stream": "stdout",
       "text": [
        " 1359\n",
        "3720"
       ]
      },
      {
       "output_type": "stream",
       "stream": "stdout",
       "text": [
        " 1360\n",
        "3730"
       ]
      },
      {
       "output_type": "stream",
       "stream": "stdout",
       "text": [
        " 1361\n",
        "3740"
       ]
      },
      {
       "output_type": "stream",
       "stream": "stdout",
       "text": [
        " 1362\n",
        "3750"
       ]
      },
      {
       "output_type": "stream",
       "stream": "stdout",
       "text": [
        " 1362\n",
        "3760"
       ]
      },
      {
       "output_type": "stream",
       "stream": "stdout",
       "text": [
        " 1364\n",
        "3770"
       ]
      },
      {
       "output_type": "stream",
       "stream": "stdout",
       "text": [
        " 1364\n",
        "3780"
       ]
      },
      {
       "output_type": "stream",
       "stream": "stdout",
       "text": [
        " 1369\n",
        "3790"
       ]
      },
      {
       "output_type": "stream",
       "stream": "stdout",
       "text": [
        " 1374\n",
        "3800"
       ]
      },
      {
       "output_type": "stream",
       "stream": "stdout",
       "text": [
        " 1384\n",
        "3810"
       ]
      },
      {
       "output_type": "stream",
       "stream": "stdout",
       "text": [
        " 1390\n",
        "3820"
       ]
      },
      {
       "output_type": "stream",
       "stream": "stdout",
       "text": [
        " 1390\n",
        "3830"
       ]
      },
      {
       "output_type": "stream",
       "stream": "stdout",
       "text": [
        " 1392\n",
        "3840"
       ]
      },
      {
       "output_type": "stream",
       "stream": "stdout",
       "text": [
        " 1399\n",
        "3850"
       ]
      },
      {
       "output_type": "stream",
       "stream": "stdout",
       "text": [
        " 1410\n",
        "3860"
       ]
      },
      {
       "output_type": "stream",
       "stream": "stdout",
       "text": [
        " 1412\n",
        "3870"
       ]
      },
      {
       "output_type": "stream",
       "stream": "stdout",
       "text": [
        " 1418\n",
        "3880"
       ]
      },
      {
       "output_type": "stream",
       "stream": "stdout",
       "text": [
        " 1419\n",
        "3890"
       ]
      },
      {
       "output_type": "stream",
       "stream": "stdout",
       "text": [
        " 1420\n",
        "3900"
       ]
      },
      {
       "output_type": "stream",
       "stream": "stdout",
       "text": [
        " 1422\n",
        "3910"
       ]
      },
      {
       "output_type": "stream",
       "stream": "stdout",
       "text": [
        " 1422\n",
        "3920"
       ]
      },
      {
       "output_type": "stream",
       "stream": "stdout",
       "text": [
        " 1426\n",
        "3930"
       ]
      },
      {
       "output_type": "stream",
       "stream": "stdout",
       "text": [
        " 1430\n",
        "3940"
       ]
      },
      {
       "output_type": "stream",
       "stream": "stdout",
       "text": [
        " 1433\n",
        "3950"
       ]
      },
      {
       "output_type": "stream",
       "stream": "stdout",
       "text": [
        " 1451\n",
        "3960"
       ]
      },
      {
       "output_type": "stream",
       "stream": "stdout",
       "text": [
        " 1461\n",
        "3970"
       ]
      },
      {
       "output_type": "stream",
       "stream": "stdout",
       "text": [
        " 1469\n",
        "3980"
       ]
      },
      {
       "output_type": "stream",
       "stream": "stdout",
       "text": [
        " 1472\n",
        "3990"
       ]
      },
      {
       "output_type": "stream",
       "stream": "stdout",
       "text": [
        " 1476\n",
        "4000"
       ]
      },
      {
       "output_type": "stream",
       "stream": "stdout",
       "text": [
        " 1481\n",
        "4010"
       ]
      },
      {
       "output_type": "stream",
       "stream": "stdout",
       "text": [
        " 1488\n",
        "4020"
       ]
      },
      {
       "output_type": "stream",
       "stream": "stdout",
       "text": [
        " 1489\n",
        "4030"
       ]
      },
      {
       "output_type": "stream",
       "stream": "stdout",
       "text": [
        " 1489\n",
        "4040"
       ]
      },
      {
       "output_type": "stream",
       "stream": "stdout",
       "text": [
        " 1491\n",
        "4050"
       ]
      },
      {
       "output_type": "stream",
       "stream": "stdout",
       "text": [
        " 1491\n",
        "4060"
       ]
      },
      {
       "output_type": "stream",
       "stream": "stdout",
       "text": [
        " 1498\n",
        "4070"
       ]
      },
      {
       "output_type": "stream",
       "stream": "stdout",
       "text": [
        " 1502\n",
        "4080"
       ]
      },
      {
       "output_type": "stream",
       "stream": "stdout",
       "text": [
        " 1504\n",
        "4090"
       ]
      },
      {
       "output_type": "stream",
       "stream": "stdout",
       "text": [
        " 1504\n",
        "4100"
       ]
      },
      {
       "output_type": "stream",
       "stream": "stdout",
       "text": [
        " 1505\n",
        "4110"
       ]
      },
      {
       "output_type": "stream",
       "stream": "stdout",
       "text": [
        " 1505\n",
        "4120"
       ]
      },
      {
       "output_type": "stream",
       "stream": "stdout",
       "text": [
        " 1506\n",
        "4130"
       ]
      },
      {
       "output_type": "stream",
       "stream": "stdout",
       "text": [
        " 1507\n",
        "4140"
       ]
      },
      {
       "output_type": "stream",
       "stream": "stdout",
       "text": [
        " 1512\n",
        "4150"
       ]
      },
      {
       "output_type": "stream",
       "stream": "stdout",
       "text": [
        " 1517\n",
        "4160"
       ]
      },
      {
       "output_type": "stream",
       "stream": "stdout",
       "text": [
        " 1531\n",
        "4170"
       ]
      },
      {
       "output_type": "stream",
       "stream": "stdout",
       "text": [
        " 1536\n",
        "4180"
       ]
      },
      {
       "output_type": "stream",
       "stream": "stdout",
       "text": [
        " 1541\n",
        "4190"
       ]
      },
      {
       "output_type": "stream",
       "stream": "stdout",
       "text": [
        " 1548\n",
        "4200"
       ]
      },
      {
       "output_type": "stream",
       "stream": "stdout",
       "text": [
        " 1549\n",
        "4210"
       ]
      },
      {
       "output_type": "stream",
       "stream": "stdout",
       "text": [
        " 1550\n",
        "4220"
       ]
      },
      {
       "output_type": "stream",
       "stream": "stdout",
       "text": [
        " 1555\n",
        "4230"
       ]
      },
      {
       "output_type": "stream",
       "stream": "stdout",
       "text": [
        " 1556\n",
        "4240"
       ]
      },
      {
       "output_type": "stream",
       "stream": "stdout",
       "text": [
        " 1560\n",
        "4250"
       ]
      },
      {
       "output_type": "stream",
       "stream": "stdout",
       "text": [
        " 1570\n",
        "4260"
       ]
      },
      {
       "output_type": "stream",
       "stream": "stdout",
       "text": [
        " 1572\n",
        "4270"
       ]
      },
      {
       "output_type": "stream",
       "stream": "stdout",
       "text": [
        " 1576\n",
        "4280"
       ]
      },
      {
       "output_type": "stream",
       "stream": "stdout",
       "text": [
        " 1577\n",
        "4290"
       ]
      },
      {
       "output_type": "stream",
       "stream": "stdout",
       "text": [
        " 1597\n",
        "4300"
       ]
      },
      {
       "output_type": "stream",
       "stream": "stdout",
       "text": [
        " 1607\n",
        "4310"
       ]
      },
      {
       "output_type": "stream",
       "stream": "stdout",
       "text": [
        " 1608\n",
        "4320"
       ]
      },
      {
       "output_type": "stream",
       "stream": "stdout",
       "text": [
        " 1610\n",
        "4330"
       ]
      },
      {
       "output_type": "stream",
       "stream": "stdout",
       "text": [
        " 1623\n",
        "4340"
       ]
      },
      {
       "output_type": "stream",
       "stream": "stdout",
       "text": [
        " 1625\n",
        "4350"
       ]
      },
      {
       "output_type": "stream",
       "stream": "stdout",
       "text": [
        " 1632\n",
        "4360"
       ]
      },
      {
       "output_type": "stream",
       "stream": "stdout",
       "text": [
        " 1635\n",
        "4370"
       ]
      },
      {
       "output_type": "stream",
       "stream": "stdout",
       "text": [
        " 1636\n",
        "4380"
       ]
      },
      {
       "output_type": "stream",
       "stream": "stdout",
       "text": [
        " 1639\n",
        "4390"
       ]
      },
      {
       "output_type": "stream",
       "stream": "stdout",
       "text": [
        " 1641\n",
        "4400"
       ]
      },
      {
       "output_type": "stream",
       "stream": "stdout",
       "text": [
        " 1641\n",
        "4410"
       ]
      },
      {
       "output_type": "stream",
       "stream": "stdout",
       "text": [
        " 1645\n",
        "4420"
       ]
      },
      {
       "output_type": "stream",
       "stream": "stdout",
       "text": [
        " 1650\n",
        "4430"
       ]
      },
      {
       "output_type": "stream",
       "stream": "stdout",
       "text": [
        " 1654\n",
        "4440"
       ]
      },
      {
       "output_type": "stream",
       "stream": "stdout",
       "text": [
        " 1669\n",
        "4450"
       ]
      },
      {
       "output_type": "stream",
       "stream": "stdout",
       "text": [
        " 1674\n",
        "4460"
       ]
      },
      {
       "output_type": "stream",
       "stream": "stdout",
       "text": [
        " 1678\n",
        "4470"
       ]
      },
      {
       "output_type": "stream",
       "stream": "stdout",
       "text": [
        " 1686\n",
        "4480"
       ]
      },
      {
       "output_type": "stream",
       "stream": "stdout",
       "text": [
        " 1697\n",
        "4490"
       ]
      },
      {
       "output_type": "stream",
       "stream": "stdout",
       "text": [
        " 1712\n",
        "4500"
       ]
      },
      {
       "output_type": "stream",
       "stream": "stdout",
       "text": [
        " 1715\n",
        "4510"
       ]
      },
      {
       "output_type": "stream",
       "stream": "stdout",
       "text": [
        " 1716\n",
        "4520"
       ]
      },
      {
       "output_type": "stream",
       "stream": "stdout",
       "text": [
        " 1723\n",
        "4530"
       ]
      },
      {
       "output_type": "stream",
       "stream": "stdout",
       "text": [
        " 1723\n",
        "4540"
       ]
      },
      {
       "output_type": "stream",
       "stream": "stdout",
       "text": [
        " 1725\n",
        "4550"
       ]
      },
      {
       "output_type": "stream",
       "stream": "stdout",
       "text": [
        " 1725\n",
        "4560"
       ]
      },
      {
       "output_type": "stream",
       "stream": "stdout",
       "text": [
        " 1725\n",
        "4570"
       ]
      },
      {
       "output_type": "stream",
       "stream": "stdout",
       "text": [
        " 1725\n",
        "4580"
       ]
      },
      {
       "output_type": "stream",
       "stream": "stdout",
       "text": [
        " 1729\n",
        "4590"
       ]
      },
      {
       "output_type": "stream",
       "stream": "stdout",
       "text": [
        " 1730\n",
        "4600"
       ]
      },
      {
       "output_type": "stream",
       "stream": "stdout",
       "text": [
        " 1738\n",
        "4610"
       ]
      },
      {
       "output_type": "stream",
       "stream": "stdout",
       "text": [
        " 1741\n",
        "4620"
       ]
      },
      {
       "output_type": "stream",
       "stream": "stdout",
       "text": [
        " 1744\n",
        "4630"
       ]
      },
      {
       "output_type": "stream",
       "stream": "stdout",
       "text": [
        " 1750\n",
        "4640"
       ]
      },
      {
       "output_type": "stream",
       "stream": "stdout",
       "text": [
        " 1756\n",
        "4650"
       ]
      },
      {
       "output_type": "stream",
       "stream": "stdout",
       "text": [
        " 1764\n",
        "4660"
       ]
      },
      {
       "output_type": "stream",
       "stream": "stdout",
       "text": [
        " 1772\n",
        "4670"
       ]
      },
      {
       "output_type": "stream",
       "stream": "stdout",
       "text": [
        " 1777\n",
        "4680"
       ]
      },
      {
       "output_type": "stream",
       "stream": "stdout",
       "text": [
        " 1787\n",
        "4690"
       ]
      },
      {
       "output_type": "stream",
       "stream": "stdout",
       "text": [
        " 1796\n",
        "4700"
       ]
      },
      {
       "output_type": "stream",
       "stream": "stdout",
       "text": [
        " 1798\n",
        "4710"
       ]
      },
      {
       "output_type": "stream",
       "stream": "stdout",
       "text": [
        " 1798\n",
        "4720"
       ]
      },
      {
       "output_type": "stream",
       "stream": "stdout",
       "text": [
        " 1808\n",
        "4730"
       ]
      },
      {
       "output_type": "stream",
       "stream": "stdout",
       "text": [
        " 1812\n",
        "4740"
       ]
      },
      {
       "output_type": "stream",
       "stream": "stdout",
       "text": [
        " 1817\n",
        "4750"
       ]
      },
      {
       "output_type": "stream",
       "stream": "stdout",
       "text": [
        " 1823\n",
        "4760"
       ]
      },
      {
       "output_type": "stream",
       "stream": "stdout",
       "text": [
        " 1845\n",
        "4770"
       ]
      },
      {
       "output_type": "stream",
       "stream": "stdout",
       "text": [
        " 1855\n",
        "4780"
       ]
      },
      {
       "output_type": "stream",
       "stream": "stdout",
       "text": [
        " 1864\n",
        "4790"
       ]
      },
      {
       "output_type": "stream",
       "stream": "stdout",
       "text": [
        " 1869\n",
        "4800"
       ]
      },
      {
       "output_type": "stream",
       "stream": "stdout",
       "text": [
        " 1878\n",
        "4810"
       ]
      },
      {
       "output_type": "stream",
       "stream": "stdout",
       "text": [
        " 1887\n",
        "4820"
       ]
      },
      {
       "output_type": "stream",
       "stream": "stdout",
       "text": [
        " 1887\n",
        "4830"
       ]
      },
      {
       "output_type": "stream",
       "stream": "stdout",
       "text": [
        " 1892\n",
        "4840"
       ]
      },
      {
       "output_type": "stream",
       "stream": "stdout",
       "text": [
        " 1896\n",
        "4850"
       ]
      },
      {
       "output_type": "stream",
       "stream": "stdout",
       "text": [
        " 1902\n",
        "4860"
       ]
      },
      {
       "output_type": "stream",
       "stream": "stdout",
       "text": [
        " 1905\n",
        "4870"
       ]
      },
      {
       "output_type": "stream",
       "stream": "stdout",
       "text": [
        " 1913\n",
        "4880"
       ]
      },
      {
       "output_type": "stream",
       "stream": "stdout",
       "text": [
        " 1914\n",
        "4890"
       ]
      },
      {
       "output_type": "stream",
       "stream": "stdout",
       "text": [
        " 1921\n",
        "4900"
       ]
      },
      {
       "output_type": "stream",
       "stream": "stdout",
       "text": [
        " 1921\n",
        "4910"
       ]
      },
      {
       "output_type": "stream",
       "stream": "stdout",
       "text": [
        " 1923\n",
        "4920"
       ]
      },
      {
       "output_type": "stream",
       "stream": "stdout",
       "text": [
        " 1925\n",
        "4930"
       ]
      },
      {
       "output_type": "stream",
       "stream": "stdout",
       "text": [
        " 1929\n",
        "4940"
       ]
      },
      {
       "output_type": "stream",
       "stream": "stdout",
       "text": [
        " 1937\n",
        "4950"
       ]
      },
      {
       "output_type": "stream",
       "stream": "stdout",
       "text": [
        " 1938\n",
        "4960"
       ]
      },
      {
       "output_type": "stream",
       "stream": "stdout",
       "text": [
        " 1939\n",
        "4970"
       ]
      },
      {
       "output_type": "stream",
       "stream": "stdout",
       "text": [
        " 1940\n",
        "4980"
       ]
      },
      {
       "output_type": "stream",
       "stream": "stdout",
       "text": [
        " 1948\n",
        "4990"
       ]
      },
      {
       "output_type": "stream",
       "stream": "stdout",
       "text": [
        " 1951\n",
        "5000"
       ]
      },
      {
       "output_type": "stream",
       "stream": "stdout",
       "text": [
        " 1964\n",
        "5010"
       ]
      },
      {
       "output_type": "stream",
       "stream": "stdout",
       "text": [
        " 1969\n",
        "5020"
       ]
      },
      {
       "output_type": "stream",
       "stream": "stdout",
       "text": [
        " 1969\n",
        "5030"
       ]
      },
      {
       "output_type": "stream",
       "stream": "stdout",
       "text": [
        " 1972\n",
        "5040"
       ]
      },
      {
       "output_type": "stream",
       "stream": "stdout",
       "text": [
        " 1983\n",
        "5050"
       ]
      },
      {
       "output_type": "stream",
       "stream": "stdout",
       "text": [
        " 1989\n",
        "5060"
       ]
      },
      {
       "output_type": "stream",
       "stream": "stdout",
       "text": [
        " 1994\n",
        "5070"
       ]
      },
      {
       "output_type": "stream",
       "stream": "stdout",
       "text": [
        " 1999\n",
        "5080"
       ]
      },
      {
       "output_type": "stream",
       "stream": "stdout",
       "text": [
        " 1999\n",
        "5090"
       ]
      },
      {
       "output_type": "stream",
       "stream": "stdout",
       "text": [
        " 2015\n",
        "5100"
       ]
      },
      {
       "output_type": "stream",
       "stream": "stdout",
       "text": [
        " 2020\n",
        "5110"
       ]
      },
      {
       "output_type": "stream",
       "stream": "stdout",
       "text": [
        " 2023\n",
        "5120"
       ]
      },
      {
       "output_type": "stream",
       "stream": "stdout",
       "text": [
        " 2032\n",
        "5130"
       ]
      },
      {
       "output_type": "stream",
       "stream": "stdout",
       "text": [
        " 2033\n",
        "5140"
       ]
      },
      {
       "output_type": "stream",
       "stream": "stdout",
       "text": [
        " 2038\n",
        "5150"
       ]
      },
      {
       "output_type": "stream",
       "stream": "stdout",
       "text": [
        " 2056\n",
        "5160"
       ]
      },
      {
       "output_type": "stream",
       "stream": "stdout",
       "text": [
        " 2064\n",
        "5170"
       ]
      },
      {
       "output_type": "stream",
       "stream": "stdout",
       "text": [
        " 2070\n",
        "5180"
       ]
      },
      {
       "output_type": "stream",
       "stream": "stdout",
       "text": [
        " 2073\n",
        "5190"
       ]
      },
      {
       "output_type": "stream",
       "stream": "stdout",
       "text": [
        " 2073\n",
        "5200"
       ]
      },
      {
       "output_type": "stream",
       "stream": "stdout",
       "text": [
        " 2081\n",
        "5210"
       ]
      },
      {
       "output_type": "stream",
       "stream": "stdout",
       "text": [
        " 2085\n",
        "5220"
       ]
      },
      {
       "output_type": "stream",
       "stream": "stdout",
       "text": [
        " 2085\n",
        "5230"
       ]
      },
      {
       "output_type": "stream",
       "stream": "stdout",
       "text": [
        " 2095\n",
        "5240"
       ]
      },
      {
       "output_type": "stream",
       "stream": "stdout",
       "text": [
        " 2096\n",
        "5250"
       ]
      },
      {
       "output_type": "stream",
       "stream": "stdout",
       "text": [
        " 2106\n",
        "5260"
       ]
      },
      {
       "output_type": "stream",
       "stream": "stdout",
       "text": [
        " 2117\n",
        "5270"
       ]
      },
      {
       "output_type": "stream",
       "stream": "stdout",
       "text": [
        " 2125\n",
        "5280"
       ]
      },
      {
       "output_type": "stream",
       "stream": "stdout",
       "text": [
        " 2126\n",
        "5290"
       ]
      },
      {
       "output_type": "stream",
       "stream": "stdout",
       "text": [
        " 2129\n",
        "5300"
       ]
      },
      {
       "output_type": "stream",
       "stream": "stdout",
       "text": [
        " 2133\n",
        "5310"
       ]
      },
      {
       "output_type": "stream",
       "stream": "stdout",
       "text": [
        " 2133\n",
        "5320"
       ]
      },
      {
       "output_type": "stream",
       "stream": "stdout",
       "text": [
        " 2133\n",
        "5330"
       ]
      },
      {
       "output_type": "stream",
       "stream": "stdout",
       "text": [
        " 2134\n",
        "5340"
       ]
      },
      {
       "output_type": "stream",
       "stream": "stdout",
       "text": [
        " 2134\n",
        "5350"
       ]
      },
      {
       "output_type": "stream",
       "stream": "stdout",
       "text": [
        " 2134\n",
        "5360"
       ]
      },
      {
       "output_type": "stream",
       "stream": "stdout",
       "text": [
        " 2139\n",
        "5370"
       ]
      },
      {
       "output_type": "stream",
       "stream": "stdout",
       "text": [
        " 2140\n",
        "5380"
       ]
      },
      {
       "output_type": "stream",
       "stream": "stdout",
       "text": [
        " 2140\n",
        "5390"
       ]
      },
      {
       "output_type": "stream",
       "stream": "stdout",
       "text": [
        " 2141\n",
        "5400"
       ]
      },
      {
       "output_type": "stream",
       "stream": "stdout",
       "text": [
        " 2146\n",
        "5410"
       ]
      },
      {
       "output_type": "stream",
       "stream": "stdout",
       "text": [
        " 2146\n",
        "5420"
       ]
      },
      {
       "output_type": "stream",
       "stream": "stdout",
       "text": [
        " 2154\n",
        "5430"
       ]
      },
      {
       "output_type": "stream",
       "stream": "stdout",
       "text": [
        " 2160\n",
        "5440"
       ]
      },
      {
       "output_type": "stream",
       "stream": "stdout",
       "text": [
        " 2160\n",
        "5450"
       ]
      },
      {
       "output_type": "stream",
       "stream": "stdout",
       "text": [
        " 2172\n",
        "5460"
       ]
      },
      {
       "output_type": "stream",
       "stream": "stdout",
       "text": [
        " 2178\n",
        "5470"
       ]
      },
      {
       "output_type": "stream",
       "stream": "stdout",
       "text": [
        " 2182\n",
        "5480"
       ]
      },
      {
       "output_type": "stream",
       "stream": "stdout",
       "text": [
        " 2191\n",
        "5490"
       ]
      },
      {
       "output_type": "stream",
       "stream": "stdout",
       "text": [
        " 2203\n",
        "5500"
       ]
      },
      {
       "output_type": "stream",
       "stream": "stdout",
       "text": [
        " 2208\n",
        "5510"
       ]
      },
      {
       "output_type": "stream",
       "stream": "stdout",
       "text": [
        " 2213\n",
        "5520"
       ]
      },
      {
       "output_type": "stream",
       "stream": "stdout",
       "text": [
        " 2218\n",
        "5530"
       ]
      },
      {
       "output_type": "stream",
       "stream": "stdout",
       "text": [
        " 2221\n",
        "5540"
       ]
      },
      {
       "output_type": "stream",
       "stream": "stdout",
       "text": [
        " 2233\n",
        "5550"
       ]
      },
      {
       "output_type": "stream",
       "stream": "stdout",
       "text": [
        " 2233\n",
        "5560"
       ]
      },
      {
       "output_type": "stream",
       "stream": "stdout",
       "text": [
        " 2242\n",
        "5570"
       ]
      },
      {
       "output_type": "stream",
       "stream": "stdout",
       "text": [
        " 2251\n",
        "5580"
       ]
      },
      {
       "output_type": "stream",
       "stream": "stdout",
       "text": [
        " 2257\n",
        "5590"
       ]
      },
      {
       "output_type": "stream",
       "stream": "stdout",
       "text": [
        " 2263\n",
        "5600"
       ]
      },
      {
       "output_type": "stream",
       "stream": "stdout",
       "text": [
        " 2271\n",
        "5610"
       ]
      },
      {
       "output_type": "stream",
       "stream": "stdout",
       "text": [
        " 2273\n",
        "5620"
       ]
      },
      {
       "output_type": "stream",
       "stream": "stdout",
       "text": [
        " 2273\n",
        "5630"
       ]
      },
      {
       "output_type": "stream",
       "stream": "stdout",
       "text": [
        " 2273\n",
        "5640"
       ]
      },
      {
       "output_type": "stream",
       "stream": "stdout",
       "text": [
        " 2273\n",
        "5650"
       ]
      },
      {
       "output_type": "stream",
       "stream": "stdout",
       "text": [
        " 2274\n",
        "5660"
       ]
      },
      {
       "output_type": "stream",
       "stream": "stdout",
       "text": [
        " 2281\n",
        "5670"
       ]
      },
      {
       "output_type": "stream",
       "stream": "stdout",
       "text": [
        " 2283\n",
        "5680"
       ]
      },
      {
       "output_type": "stream",
       "stream": "stdout",
       "text": [
        " 2289\n",
        "5690"
       ]
      },
      {
       "output_type": "stream",
       "stream": "stdout",
       "text": [
        " 2293\n",
        "5700"
       ]
      },
      {
       "output_type": "stream",
       "stream": "stdout",
       "text": [
        " 2298\n",
        "5710"
       ]
      },
      {
       "output_type": "stream",
       "stream": "stdout",
       "text": [
        " 2308\n",
        "5720"
       ]
      },
      {
       "output_type": "stream",
       "stream": "stdout",
       "text": [
        " 2310\n",
        "5730"
       ]
      },
      {
       "output_type": "stream",
       "stream": "stdout",
       "text": [
        " 2315\n",
        "5740"
       ]
      },
      {
       "output_type": "stream",
       "stream": "stdout",
       "text": [
        " 2322\n",
        "5750"
       ]
      },
      {
       "output_type": "stream",
       "stream": "stdout",
       "text": [
        " 2322\n",
        "5760"
       ]
      },
      {
       "output_type": "stream",
       "stream": "stdout",
       "text": [
        " 2329\n",
        "5770"
       ]
      },
      {
       "output_type": "stream",
       "stream": "stdout",
       "text": [
        " 2333\n",
        "5780"
       ]
      },
      {
       "output_type": "stream",
       "stream": "stdout",
       "text": [
        " 2337\n",
        "5790"
       ]
      },
      {
       "output_type": "stream",
       "stream": "stdout",
       "text": [
        " 2338\n",
        "5800"
       ]
      },
      {
       "output_type": "stream",
       "stream": "stdout",
       "text": [
        " 2342\n",
        "5810"
       ]
      },
      {
       "output_type": "stream",
       "stream": "stdout",
       "text": [
        " 2346\n",
        "5820"
       ]
      },
      {
       "output_type": "stream",
       "stream": "stdout",
       "text": [
        " 2349\n",
        "5830"
       ]
      },
      {
       "output_type": "stream",
       "stream": "stdout",
       "text": [
        " 2353\n",
        "5840"
       ]
      },
      {
       "output_type": "stream",
       "stream": "stdout",
       "text": [
        " 2353\n",
        "5850"
       ]
      },
      {
       "output_type": "stream",
       "stream": "stdout",
       "text": [
        " 2353\n",
        "5860"
       ]
      },
      {
       "output_type": "stream",
       "stream": "stdout",
       "text": [
        " 2355\n",
        "5870"
       ]
      },
      {
       "output_type": "stream",
       "stream": "stdout",
       "text": [
        " 2364\n",
        "5880"
       ]
      },
      {
       "output_type": "stream",
       "stream": "stdout",
       "text": [
        " 2368\n",
        "5890"
       ]
      },
      {
       "output_type": "stream",
       "stream": "stdout",
       "text": [
        " 2382\n",
        "5900"
       ]
      },
      {
       "output_type": "stream",
       "stream": "stdout",
       "text": [
        " 2388\n",
        "5910"
       ]
      },
      {
       "output_type": "stream",
       "stream": "stdout",
       "text": [
        " 2388\n",
        "5920"
       ]
      },
      {
       "output_type": "stream",
       "stream": "stdout",
       "text": [
        " 2406\n",
        "5930"
       ]
      },
      {
       "output_type": "stream",
       "stream": "stdout",
       "text": [
        " 2411\n",
        "5940"
       ]
      },
      {
       "output_type": "stream",
       "stream": "stdout",
       "text": [
        " 2416\n",
        "5950"
       ]
      },
      {
       "output_type": "stream",
       "stream": "stdout",
       "text": [
        " 2417\n",
        "5960"
       ]
      },
      {
       "output_type": "stream",
       "stream": "stdout",
       "text": [
        " 2427\n",
        "5970"
       ]
      },
      {
       "output_type": "stream",
       "stream": "stdout",
       "text": [
        " 2428\n",
        "5980"
       ]
      },
      {
       "output_type": "stream",
       "stream": "stdout",
       "text": [
        " 2436\n",
        "5990"
       ]
      },
      {
       "output_type": "stream",
       "stream": "stdout",
       "text": [
        " 2447\n",
        "6000"
       ]
      },
      {
       "output_type": "stream",
       "stream": "stdout",
       "text": [
        " 2453\n",
        "6010"
       ]
      },
      {
       "output_type": "stream",
       "stream": "stdout",
       "text": [
        " 2467\n",
        "6020"
       ]
      },
      {
       "output_type": "stream",
       "stream": "stdout",
       "text": [
        " 2467\n",
        "6030"
       ]
      },
      {
       "output_type": "stream",
       "stream": "stdout",
       "text": [
        " 2469\n",
        "6040"
       ]
      },
      {
       "output_type": "stream",
       "stream": "stdout",
       "text": [
        " 2471\n",
        "6050"
       ]
      },
      {
       "output_type": "stream",
       "stream": "stdout",
       "text": [
        " 2476\n",
        "6060"
       ]
      },
      {
       "output_type": "stream",
       "stream": "stdout",
       "text": [
        " 2478\n",
        "6070"
       ]
      },
      {
       "output_type": "stream",
       "stream": "stdout",
       "text": [
        " 2479\n",
        "6080"
       ]
      },
      {
       "output_type": "stream",
       "stream": "stdout",
       "text": [
        " 2479\n",
        "6090"
       ]
      },
      {
       "output_type": "stream",
       "stream": "stdout",
       "text": [
        " 2484\n",
        "6100"
       ]
      },
      {
       "output_type": "stream",
       "stream": "stdout",
       "text": [
        " 2490\n",
        "6110"
       ]
      },
      {
       "output_type": "stream",
       "stream": "stdout",
       "text": [
        " 2497\n",
        "6120"
       ]
      },
      {
       "output_type": "stream",
       "stream": "stdout",
       "text": [
        " 2500\n",
        "6130"
       ]
      },
      {
       "output_type": "stream",
       "stream": "stdout",
       "text": [
        " 2506\n",
        "6140"
       ]
      },
      {
       "output_type": "stream",
       "stream": "stdout",
       "text": [
        " 2516\n",
        "6150"
       ]
      },
      {
       "output_type": "stream",
       "stream": "stdout",
       "text": [
        " 2522\n",
        "6160"
       ]
      },
      {
       "output_type": "stream",
       "stream": "stdout",
       "text": [
        " 2524\n",
        "6170"
       ]
      },
      {
       "output_type": "stream",
       "stream": "stdout",
       "text": [
        " 2534\n",
        "6180"
       ]
      },
      {
       "output_type": "stream",
       "stream": "stdout",
       "text": [
        " 2535\n",
        "6190"
       ]
      },
      {
       "output_type": "stream",
       "stream": "stdout",
       "text": [
        " 2539\n",
        "6200"
       ]
      },
      {
       "output_type": "stream",
       "stream": "stdout",
       "text": [
        " 2540\n",
        "6210"
       ]
      },
      {
       "output_type": "stream",
       "stream": "stdout",
       "text": [
        " 2553\n",
        "6220"
       ]
      },
      {
       "output_type": "stream",
       "stream": "stdout",
       "text": [
        " 2557\n",
        "6230"
       ]
      },
      {
       "output_type": "stream",
       "stream": "stdout",
       "text": [
        " 2567\n",
        "6240"
       ]
      },
      {
       "output_type": "stream",
       "stream": "stdout",
       "text": [
        " 2577\n",
        "6250"
       ]
      },
      {
       "output_type": "stream",
       "stream": "stdout",
       "text": [
        " 2577\n",
        "6260"
       ]
      },
      {
       "output_type": "stream",
       "stream": "stdout",
       "text": [
        " 2594\n",
        "6270"
       ]
      },
      {
       "output_type": "stream",
       "stream": "stdout",
       "text": [
        " 2598\n",
        "6280"
       ]
      },
      {
       "output_type": "stream",
       "stream": "stdout",
       "text": [
        " 2598\n",
        "6290"
       ]
      },
      {
       "output_type": "stream",
       "stream": "stdout",
       "text": [
        " 2598\n",
        "6300"
       ]
      },
      {
       "output_type": "stream",
       "stream": "stdout",
       "text": [
        " 2610\n",
        "6310"
       ]
      },
      {
       "output_type": "stream",
       "stream": "stdout",
       "text": [
        " 2623\n",
        "6320"
       ]
      },
      {
       "output_type": "stream",
       "stream": "stdout",
       "text": [
        " 2629\n",
        "6330"
       ]
      },
      {
       "output_type": "stream",
       "stream": "stdout",
       "text": [
        " 2632\n",
        "6340"
       ]
      },
      {
       "output_type": "stream",
       "stream": "stdout",
       "text": [
        " 2638\n",
        "6350"
       ]
      },
      {
       "output_type": "stream",
       "stream": "stdout",
       "text": [
        " 2644\n",
        "6360"
       ]
      },
      {
       "output_type": "stream",
       "stream": "stdout",
       "text": [
        " 2649\n",
        "6370"
       ]
      },
      {
       "output_type": "stream",
       "stream": "stdout",
       "text": [
        " 2654\n",
        "6380"
       ]
      },
      {
       "output_type": "stream",
       "stream": "stdout",
       "text": [
        " 2667\n",
        "6390"
       ]
      },
      {
       "output_type": "stream",
       "stream": "stdout",
       "text": [
        " 2672\n",
        "6400"
       ]
      },
      {
       "output_type": "stream",
       "stream": "stdout",
       "text": [
        " 2673\n",
        "6410"
       ]
      },
      {
       "output_type": "stream",
       "stream": "stdout",
       "text": [
        " 2682\n",
        "6420"
       ]
      },
      {
       "output_type": "stream",
       "stream": "stdout",
       "text": [
        " 2692\n",
        "6430"
       ]
      },
      {
       "output_type": "stream",
       "stream": "stdout",
       "text": [
        " 2696\n",
        "6440"
       ]
      },
      {
       "output_type": "stream",
       "stream": "stdout",
       "text": [
        " 2697\n",
        "6450"
       ]
      },
      {
       "output_type": "stream",
       "stream": "stdout",
       "text": [
        " 2698\n",
        "6460"
       ]
      },
      {
       "output_type": "stream",
       "stream": "stdout",
       "text": [
        " 2706\n",
        "6470"
       ]
      },
      {
       "output_type": "stream",
       "stream": "stdout",
       "text": [
        " 2709\n",
        "6480"
       ]
      },
      {
       "output_type": "stream",
       "stream": "stdout",
       "text": [
        " 2710\n",
        "6490"
       ]
      },
      {
       "output_type": "stream",
       "stream": "stdout",
       "text": [
        " 2715\n",
        "6500"
       ]
      },
      {
       "output_type": "stream",
       "stream": "stdout",
       "text": [
        " 2717\n",
        "6510"
       ]
      },
      {
       "output_type": "stream",
       "stream": "stdout",
       "text": [
        " 2721\n",
        "6520"
       ]
      },
      {
       "output_type": "stream",
       "stream": "stdout",
       "text": [
        " 2736\n",
        "6530"
       ]
      },
      {
       "output_type": "stream",
       "stream": "stdout",
       "text": [
        " 2745\n",
        "6540"
       ]
      },
      {
       "output_type": "stream",
       "stream": "stdout",
       "text": [
        " 2750\n",
        "6550"
       ]
      },
      {
       "output_type": "stream",
       "stream": "stdout",
       "text": [
        " 2758\n",
        "6560"
       ]
      },
      {
       "output_type": "stream",
       "stream": "stdout",
       "text": [
        " 2764\n",
        "6570"
       ]
      },
      {
       "output_type": "stream",
       "stream": "stdout",
       "text": [
        " 2769\n",
        "6580"
       ]
      },
      {
       "output_type": "stream",
       "stream": "stdout",
       "text": [
        " 2772\n",
        "6590"
       ]
      },
      {
       "output_type": "stream",
       "stream": "stdout",
       "text": [
        " 2776\n",
        "6600"
       ]
      },
      {
       "output_type": "stream",
       "stream": "stdout",
       "text": [
        " 2785\n",
        "6610"
       ]
      },
      {
       "output_type": "stream",
       "stream": "stdout",
       "text": [
        " 2786\n",
        "6620"
       ]
      },
      {
       "output_type": "stream",
       "stream": "stdout",
       "text": [
        " 2794\n",
        "6630"
       ]
      },
      {
       "output_type": "stream",
       "stream": "stdout",
       "text": [
        " 2798\n",
        "6640"
       ]
      },
      {
       "output_type": "stream",
       "stream": "stdout",
       "text": [
        " 2804\n",
        "6650"
       ]
      },
      {
       "output_type": "stream",
       "stream": "stdout",
       "text": [
        " 2812\n",
        "6660"
       ]
      },
      {
       "output_type": "stream",
       "stream": "stdout",
       "text": [
        " 2824\n",
        "6670"
       ]
      },
      {
       "output_type": "stream",
       "stream": "stdout",
       "text": [
        " 2828\n",
        "6680"
       ]
      },
      {
       "output_type": "stream",
       "stream": "stdout",
       "text": [
        " 2842\n",
        "6690"
       ]
      },
      {
       "output_type": "stream",
       "stream": "stdout",
       "text": [
        " 2848\n",
        "6700"
       ]
      },
      {
       "output_type": "stream",
       "stream": "stdout",
       "text": [
        " 2854\n",
        "6710"
       ]
      },
      {
       "output_type": "stream",
       "stream": "stdout",
       "text": [
        " 2862\n",
        "6720"
       ]
      },
      {
       "output_type": "stream",
       "stream": "stdout",
       "text": [
        " 2869\n",
        "6730"
       ]
      },
      {
       "output_type": "stream",
       "stream": "stdout",
       "text": [
        " 2882\n",
        "6740"
       ]
      },
      {
       "output_type": "stream",
       "stream": "stdout",
       "text": [
        " 2884\n",
        "6750"
       ]
      },
      {
       "output_type": "stream",
       "stream": "stdout",
       "text": [
        " 2895\n",
        "6760"
       ]
      },
      {
       "output_type": "stream",
       "stream": "stdout",
       "text": [
        " 2902\n",
        "6770"
       ]
      },
      {
       "output_type": "stream",
       "stream": "stdout",
       "text": [
        " 2920\n",
        "6780"
       ]
      },
      {
       "output_type": "stream",
       "stream": "stdout",
       "text": [
        " 2927\n",
        "6790"
       ]
      },
      {
       "output_type": "stream",
       "stream": "stdout",
       "text": [
        " 2930\n",
        "6800"
       ]
      },
      {
       "output_type": "stream",
       "stream": "stdout",
       "text": [
        " 2946\n",
        "6810"
       ]
      },
      {
       "output_type": "stream",
       "stream": "stdout",
       "text": [
        " 2946\n",
        "6820"
       ]
      },
      {
       "output_type": "stream",
       "stream": "stdout",
       "text": [
        " 2960\n",
        "6830"
       ]
      },
      {
       "output_type": "stream",
       "stream": "stdout",
       "text": [
        " 2964\n",
        "6840"
       ]
      },
      {
       "output_type": "stream",
       "stream": "stdout",
       "text": [
        " 2972\n",
        "6850"
       ]
      },
      {
       "output_type": "stream",
       "stream": "stdout",
       "text": [
        " 2988\n",
        "6860"
       ]
      },
      {
       "output_type": "stream",
       "stream": "stdout",
       "text": [
        " 2989\n",
        "6870"
       ]
      },
      {
       "output_type": "stream",
       "stream": "stdout",
       "text": [
        " 2993\n",
        "6880"
       ]
      },
      {
       "output_type": "stream",
       "stream": "stdout",
       "text": [
        " 2993\n",
        "6890"
       ]
      },
      {
       "output_type": "stream",
       "stream": "stdout",
       "text": [
        " 2998\n",
        "6900"
       ]
      },
      {
       "output_type": "stream",
       "stream": "stdout",
       "text": [
        " 3006\n",
        "6910"
       ]
      },
      {
       "output_type": "stream",
       "stream": "stdout",
       "text": [
        " 3010\n",
        "6920"
       ]
      },
      {
       "output_type": "stream",
       "stream": "stdout",
       "text": [
        " 3014\n",
        "6930"
       ]
      },
      {
       "output_type": "stream",
       "stream": "stdout",
       "text": [
        " 3021\n",
        "6940"
       ]
      },
      {
       "output_type": "stream",
       "stream": "stdout",
       "text": [
        " 3021\n",
        "6950"
       ]
      },
      {
       "output_type": "stream",
       "stream": "stdout",
       "text": [
        " 3028\n",
        "6960"
       ]
      },
      {
       "output_type": "stream",
       "stream": "stdout",
       "text": [
        " 3032\n",
        "6970"
       ]
      },
      {
       "output_type": "stream",
       "stream": "stdout",
       "text": [
        " 3034\n",
        "6980"
       ]
      },
      {
       "output_type": "stream",
       "stream": "stdout",
       "text": [
        " 3034\n",
        "6990"
       ]
      },
      {
       "output_type": "stream",
       "stream": "stdout",
       "text": [
        " 3043\n",
        "7000"
       ]
      },
      {
       "output_type": "stream",
       "stream": "stdout",
       "text": [
        " 3046\n",
        "7010"
       ]
      },
      {
       "output_type": "stream",
       "stream": "stdout",
       "text": [
        " 3052\n",
        "7020"
       ]
      },
      {
       "output_type": "stream",
       "stream": "stdout",
       "text": [
        " 3062\n",
        "7030"
       ]
      },
      {
       "output_type": "stream",
       "stream": "stdout",
       "text": [
        " 3072\n",
        "7040"
       ]
      },
      {
       "output_type": "stream",
       "stream": "stdout",
       "text": [
        " 3082\n",
        "7050"
       ]
      },
      {
       "output_type": "stream",
       "stream": "stdout",
       "text": [
        " 3100\n",
        "7060"
       ]
      },
      {
       "output_type": "stream",
       "stream": "stdout",
       "text": [
        " 3100\n",
        "7070"
       ]
      },
      {
       "output_type": "stream",
       "stream": "stdout",
       "text": [
        " 3111\n",
        "7080"
       ]
      },
      {
       "output_type": "stream",
       "stream": "stdout",
       "text": [
        " 3117\n",
        "7090"
       ]
      },
      {
       "output_type": "stream",
       "stream": "stdout",
       "text": [
        " 3133\n",
        "7100"
       ]
      },
      {
       "output_type": "stream",
       "stream": "stdout",
       "text": [
        " 3142\n",
        "7110"
       ]
      },
      {
       "output_type": "stream",
       "stream": "stdout",
       "text": [
        " 3147\n",
        "7120"
       ]
      },
      {
       "output_type": "stream",
       "stream": "stdout",
       "text": [
        " 3171\n",
        "7130"
       ]
      },
      {
       "output_type": "stream",
       "stream": "stdout",
       "text": [
        " 3173\n",
        "7140"
       ]
      },
      {
       "output_type": "stream",
       "stream": "stdout",
       "text": [
        " 3182\n",
        "7150"
       ]
      },
      {
       "output_type": "stream",
       "stream": "stdout",
       "text": [
        " 3190\n",
        "7160"
       ]
      },
      {
       "output_type": "stream",
       "stream": "stdout",
       "text": [
        " 3197\n",
        "7170"
       ]
      },
      {
       "output_type": "stream",
       "stream": "stdout",
       "text": [
        " 3204\n",
        "7180"
       ]
      },
      {
       "output_type": "stream",
       "stream": "stdout",
       "text": [
        " 3216\n",
        "7190"
       ]
      },
      {
       "output_type": "stream",
       "stream": "stdout",
       "text": [
        " 3221\n",
        "7200"
       ]
      },
      {
       "output_type": "stream",
       "stream": "stdout",
       "text": [
        " 3222\n",
        "7210"
       ]
      },
      {
       "output_type": "stream",
       "stream": "stdout",
       "text": [
        " 3237\n",
        "7220"
       ]
      },
      {
       "output_type": "stream",
       "stream": "stdout",
       "text": [
        " 3245\n",
        "7230"
       ]
      },
      {
       "output_type": "stream",
       "stream": "stdout",
       "text": [
        " 3246\n",
        "7240"
       ]
      },
      {
       "output_type": "stream",
       "stream": "stdout",
       "text": [
        " 3260\n",
        "7250"
       ]
      },
      {
       "output_type": "stream",
       "stream": "stdout",
       "text": [
        " 3261\n",
        "7260"
       ]
      },
      {
       "output_type": "stream",
       "stream": "stdout",
       "text": [
        " 3272\n",
        "7270"
       ]
      },
      {
       "output_type": "stream",
       "stream": "stdout",
       "text": [
        " 3275\n",
        "7280"
       ]
      },
      {
       "output_type": "stream",
       "stream": "stdout",
       "text": [
        " 3281\n",
        "7290"
       ]
      },
      {
       "output_type": "stream",
       "stream": "stdout",
       "text": [
        " 3288\n",
        "7300"
       ]
      },
      {
       "output_type": "stream",
       "stream": "stdout",
       "text": [
        " 3297\n",
        "7310"
       ]
      },
      {
       "output_type": "stream",
       "stream": "stdout",
       "text": [
        " 3300\n",
        "7320"
       ]
      },
      {
       "output_type": "stream",
       "stream": "stdout",
       "text": [
        " 3300\n",
        "7330"
       ]
      },
      {
       "output_type": "stream",
       "stream": "stdout",
       "text": [
        " 3312\n",
        "7340"
       ]
      },
      {
       "output_type": "stream",
       "stream": "stdout",
       "text": [
        " 3319\n",
        "7350"
       ]
      },
      {
       "output_type": "stream",
       "stream": "stdout",
       "text": [
        " 3331\n",
        "7360"
       ]
      },
      {
       "output_type": "stream",
       "stream": "stdout",
       "text": [
        " 3335\n",
        "7370"
       ]
      },
      {
       "output_type": "stream",
       "stream": "stdout",
       "text": [
        " 3340\n",
        "7380"
       ]
      },
      {
       "output_type": "stream",
       "stream": "stdout",
       "text": [
        " 3350\n",
        "7390"
       ]
      },
      {
       "output_type": "stream",
       "stream": "stdout",
       "text": [
        " 3361\n",
        "7400"
       ]
      },
      {
       "output_type": "stream",
       "stream": "stdout",
       "text": [
        " 3377\n",
        "7410"
       ]
      },
      {
       "output_type": "stream",
       "stream": "stdout",
       "text": [
        " 3385\n",
        "7420"
       ]
      },
      {
       "output_type": "stream",
       "stream": "stdout",
       "text": [
        " 3394\n",
        "7430"
       ]
      },
      {
       "output_type": "stream",
       "stream": "stdout",
       "text": [
        " 3394\n",
        "7440"
       ]
      },
      {
       "output_type": "stream",
       "stream": "stdout",
       "text": [
        " 3400\n",
        "7450"
       ]
      },
      {
       "output_type": "stream",
       "stream": "stdout",
       "text": [
        " 3406\n",
        "7460"
       ]
      },
      {
       "output_type": "stream",
       "stream": "stdout",
       "text": [
        " 3407\n",
        "7470"
       ]
      },
      {
       "output_type": "stream",
       "stream": "stdout",
       "text": [
        " 3415\n",
        "7480"
       ]
      },
      {
       "output_type": "stream",
       "stream": "stdout",
       "text": [
        " 3428\n",
        "7490"
       ]
      },
      {
       "output_type": "stream",
       "stream": "stdout",
       "text": [
        " 3442\n",
        "7500"
       ]
      },
      {
       "output_type": "stream",
       "stream": "stdout",
       "text": [
        " 3450\n",
        "7510"
       ]
      },
      {
       "output_type": "stream",
       "stream": "stdout",
       "text": [
        " 3458\n",
        "7520"
       ]
      },
      {
       "output_type": "stream",
       "stream": "stdout",
       "text": [
        " 3463\n",
        "7530"
       ]
      },
      {
       "output_type": "stream",
       "stream": "stdout",
       "text": [
        " 3477\n",
        "7540"
       ]
      },
      {
       "output_type": "stream",
       "stream": "stdout",
       "text": [
        " 3484\n",
        "7550"
       ]
      },
      {
       "output_type": "stream",
       "stream": "stdout",
       "text": [
        " 3500\n",
        "7560"
       ]
      },
      {
       "output_type": "stream",
       "stream": "stdout",
       "text": [
        " 3506\n",
        "7570"
       ]
      },
      {
       "output_type": "stream",
       "stream": "stdout",
       "text": [
        " 3516\n",
        "7580"
       ]
      },
      {
       "output_type": "stream",
       "stream": "stdout",
       "text": [
        " 3520\n",
        "7590"
       ]
      },
      {
       "output_type": "stream",
       "stream": "stdout",
       "text": [
        " 3522\n",
        "7600"
       ]
      },
      {
       "output_type": "stream",
       "stream": "stdout",
       "text": [
        " 3543\n",
        "7610"
       ]
      },
      {
       "output_type": "stream",
       "stream": "stdout",
       "text": [
        " 3551\n",
        "7620"
       ]
      },
      {
       "output_type": "stream",
       "stream": "stdout",
       "text": [
        " 3563\n",
        "7630"
       ]
      },
      {
       "output_type": "stream",
       "stream": "stdout",
       "text": [
        " 3575\n",
        "7640"
       ]
      },
      {
       "output_type": "stream",
       "stream": "stdout",
       "text": [
        " 3585\n",
        "7650"
       ]
      },
      {
       "output_type": "stream",
       "stream": "stdout",
       "text": [
        " 3604\n",
        "7660"
       ]
      },
      {
       "output_type": "stream",
       "stream": "stdout",
       "text": [
        " 3606\n",
        "7670"
       ]
      },
      {
       "output_type": "stream",
       "stream": "stdout",
       "text": [
        " 3613\n",
        "7680"
       ]
      },
      {
       "output_type": "stream",
       "stream": "stdout",
       "text": [
        " 3622\n",
        "7690"
       ]
      },
      {
       "output_type": "stream",
       "stream": "stdout",
       "text": [
        " 3629\n",
        "7700"
       ]
      },
      {
       "output_type": "stream",
       "stream": "stdout",
       "text": [
        " 3635\n",
        "7710"
       ]
      },
      {
       "output_type": "stream",
       "stream": "stdout",
       "text": [
        " 3641\n",
        "7720"
       ]
      },
      {
       "output_type": "stream",
       "stream": "stdout",
       "text": [
        " 3649\n",
        "7730"
       ]
      },
      {
       "output_type": "stream",
       "stream": "stdout",
       "text": [
        " 3655\n",
        "7740"
       ]
      },
      {
       "output_type": "stream",
       "stream": "stdout",
       "text": [
        " 3666\n",
        "7750"
       ]
      },
      {
       "output_type": "stream",
       "stream": "stdout",
       "text": [
        " 3673\n",
        "7760"
       ]
      },
      {
       "output_type": "stream",
       "stream": "stdout",
       "text": [
        " 3678\n",
        "7770"
       ]
      },
      {
       "output_type": "stream",
       "stream": "stdout",
       "text": [
        " 3688\n",
        "7780"
       ]
      },
      {
       "output_type": "stream",
       "stream": "stdout",
       "text": [
        " 3694\n",
        "7790"
       ]
      },
      {
       "output_type": "stream",
       "stream": "stdout",
       "text": [
        " 3697\n",
        "7800"
       ]
      },
      {
       "output_type": "stream",
       "stream": "stdout",
       "text": [
        " 3708\n",
        "7810"
       ]
      },
      {
       "output_type": "stream",
       "stream": "stdout",
       "text": [
        " 3714\n",
        "7820"
       ]
      },
      {
       "output_type": "stream",
       "stream": "stdout",
       "text": [
        " 3714\n",
        "7830"
       ]
      },
      {
       "output_type": "stream",
       "stream": "stdout",
       "text": [
        " 3725\n",
        "7840"
       ]
      },
      {
       "output_type": "stream",
       "stream": "stdout",
       "text": [
        " 3727\n",
        "7850"
       ]
      },
      {
       "output_type": "stream",
       "stream": "stdout",
       "text": [
        " 3733\n",
        "7860"
       ]
      },
      {
       "output_type": "stream",
       "stream": "stdout",
       "text": [
        " 3745\n",
        "7870"
       ]
      },
      {
       "output_type": "stream",
       "stream": "stdout",
       "text": [
        " 3763\n",
        "7880"
       ]
      },
      {
       "output_type": "stream",
       "stream": "stdout",
       "text": [
        " 3768\n",
        "7890"
       ]
      },
      {
       "output_type": "stream",
       "stream": "stdout",
       "text": [
        " 3772\n",
        "7900"
       ]
      },
      {
       "output_type": "stream",
       "stream": "stdout",
       "text": [
        " 3787\n",
        "7910"
       ]
      },
      {
       "output_type": "stream",
       "stream": "stdout",
       "text": [
        " 3793\n",
        "7920"
       ]
      },
      {
       "output_type": "stream",
       "stream": "stdout",
       "text": [
        " 3802\n",
        "7930"
       ]
      },
      {
       "output_type": "stream",
       "stream": "stdout",
       "text": [
        " 3805\n",
        "7940"
       ]
      },
      {
       "output_type": "stream",
       "stream": "stdout",
       "text": [
        " 3810\n",
        "7950"
       ]
      },
      {
       "output_type": "stream",
       "stream": "stdout",
       "text": [
        " 3818\n",
        "7960"
       ]
      },
      {
       "output_type": "stream",
       "stream": "stdout",
       "text": [
        " 3818\n",
        "7970"
       ]
      },
      {
       "output_type": "stream",
       "stream": "stdout",
       "text": [
        " 3828\n",
        "7980"
       ]
      },
      {
       "output_type": "stream",
       "stream": "stdout",
       "text": [
        " 3836\n",
        "7990"
       ]
      },
      {
       "output_type": "stream",
       "stream": "stdout",
       "text": [
        " 3840\n",
        "8000"
       ]
      },
      {
       "output_type": "stream",
       "stream": "stdout",
       "text": [
        " 3843\n",
        "8010"
       ]
      },
      {
       "output_type": "stream",
       "stream": "stdout",
       "text": [
        " 3856\n",
        "8020"
       ]
      },
      {
       "output_type": "stream",
       "stream": "stdout",
       "text": [
        " 3869\n",
        "8030"
       ]
      },
      {
       "output_type": "stream",
       "stream": "stdout",
       "text": [
        " 3878\n",
        "8040"
       ]
      },
      {
       "output_type": "stream",
       "stream": "stdout",
       "text": [
        " 3884\n",
        "8050"
       ]
      },
      {
       "output_type": "stream",
       "stream": "stdout",
       "text": [
        " 3903\n",
        "8060"
       ]
      },
      {
       "output_type": "stream",
       "stream": "stdout",
       "text": [
        " 3906\n",
        "8070"
       ]
      },
      {
       "output_type": "stream",
       "stream": "stdout",
       "text": [
        " 3927\n",
        "8080"
       ]
      },
      {
       "output_type": "stream",
       "stream": "stdout",
       "text": [
        " 3930\n",
        "8090"
       ]
      },
      {
       "output_type": "stream",
       "stream": "stdout",
       "text": [
        " 3947\n",
        "8100"
       ]
      },
      {
       "output_type": "stream",
       "stream": "stdout",
       "text": [
        " 3947\n",
        "8110"
       ]
      },
      {
       "output_type": "stream",
       "stream": "stdout",
       "text": [
        " 3952\n",
        "8120"
       ]
      },
      {
       "output_type": "stream",
       "stream": "stdout",
       "text": [
        " 3956\n",
        "8130"
       ]
      },
      {
       "output_type": "stream",
       "stream": "stdout",
       "text": [
        " 3962\n",
        "8140"
       ]
      },
      {
       "output_type": "stream",
       "stream": "stdout",
       "text": [
        " 3968\n",
        "8150"
       ]
      },
      {
       "output_type": "stream",
       "stream": "stdout",
       "text": [
        " 3976\n",
        "8160"
       ]
      },
      {
       "output_type": "stream",
       "stream": "stdout",
       "text": [
        " 3991\n",
        "8170"
       ]
      },
      {
       "output_type": "stream",
       "stream": "stdout",
       "text": [
        " 3994\n",
        "8180"
       ]
      },
      {
       "output_type": "stream",
       "stream": "stdout",
       "text": [
        " 4005\n",
        "8190"
       ]
      },
      {
       "output_type": "stream",
       "stream": "stdout",
       "text": [
        " 4013\n",
        "8200"
       ]
      },
      {
       "output_type": "stream",
       "stream": "stdout",
       "text": [
        " 4022\n",
        "8210"
       ]
      },
      {
       "output_type": "stream",
       "stream": "stdout",
       "text": [
        " 4029\n",
        "8220"
       ]
      },
      {
       "output_type": "stream",
       "stream": "stdout",
       "text": [
        " 4039\n",
        "8230"
       ]
      },
      {
       "output_type": "stream",
       "stream": "stdout",
       "text": [
        " 4041\n",
        "8240"
       ]
      },
      {
       "output_type": "stream",
       "stream": "stdout",
       "text": [
        " 4056\n",
        "8250"
       ]
      },
      {
       "output_type": "stream",
       "stream": "stdout",
       "text": [
        " 4069\n",
        "8260"
       ]
      },
      {
       "output_type": "stream",
       "stream": "stdout",
       "text": [
        " 4075\n",
        "8270"
       ]
      },
      {
       "output_type": "stream",
       "stream": "stdout",
       "text": [
        " 4083\n",
        "8280"
       ]
      },
      {
       "output_type": "stream",
       "stream": "stdout",
       "text": [
        " 4088\n",
        "8290"
       ]
      },
      {
       "output_type": "stream",
       "stream": "stdout",
       "text": [
        " 4098\n",
        "8300"
       ]
      },
      {
       "output_type": "stream",
       "stream": "stdout",
       "text": [
        " 4101\n",
        "8310"
       ]
      },
      {
       "output_type": "stream",
       "stream": "stdout",
       "text": [
        " 4107\n",
        "8320"
       ]
      },
      {
       "output_type": "stream",
       "stream": "stdout",
       "text": [
        " 4116\n",
        "8330"
       ]
      },
      {
       "output_type": "stream",
       "stream": "stdout",
       "text": [
        " 4128\n",
        "8340"
       ]
      },
      {
       "output_type": "stream",
       "stream": "stdout",
       "text": [
        " 4143\n",
        "8350"
       ]
      },
      {
       "output_type": "stream",
       "stream": "stdout",
       "text": [
        " 4144\n",
        "8360"
       ]
      },
      {
       "output_type": "stream",
       "stream": "stdout",
       "text": [
        " 4152\n",
        "8370"
       ]
      },
      {
       "output_type": "stream",
       "stream": "stdout",
       "text": [
        " 4172\n",
        "8380"
       ]
      },
      {
       "output_type": "stream",
       "stream": "stdout",
       "text": [
        " 4177\n",
        "8390"
       ]
      },
      {
       "output_type": "stream",
       "stream": "stdout",
       "text": [
        " 4179\n",
        "8400"
       ]
      },
      {
       "output_type": "stream",
       "stream": "stdout",
       "text": [
        " 4190\n",
        "8410"
       ]
      },
      {
       "output_type": "stream",
       "stream": "stdout",
       "text": [
        " 4195\n",
        "8420"
       ]
      },
      {
       "output_type": "stream",
       "stream": "stdout",
       "text": [
        " 4206\n",
        "8430"
       ]
      },
      {
       "output_type": "stream",
       "stream": "stdout",
       "text": [
        " 4212\n",
        "8440"
       ]
      },
      {
       "output_type": "stream",
       "stream": "stdout",
       "text": [
        " 4220\n",
        "8450"
       ]
      },
      {
       "output_type": "stream",
       "stream": "stdout",
       "text": [
        " 4224\n",
        "8460"
       ]
      },
      {
       "output_type": "stream",
       "stream": "stdout",
       "text": [
        " 4243\n",
        "8470"
       ]
      },
      {
       "output_type": "stream",
       "stream": "stdout",
       "text": [
        " 4248\n",
        "8480"
       ]
      },
      {
       "output_type": "stream",
       "stream": "stdout",
       "text": [
        " 4265\n",
        "8490"
       ]
      },
      {
       "output_type": "stream",
       "stream": "stdout",
       "text": [
        " 4271\n",
        "8500"
       ]
      },
      {
       "output_type": "stream",
       "stream": "stdout",
       "text": [
        " 4285\n",
        "8510"
       ]
      },
      {
       "output_type": "stream",
       "stream": "stdout",
       "text": [
        " 4290\n",
        "8520"
       ]
      },
      {
       "output_type": "stream",
       "stream": "stdout",
       "text": [
        " 4290\n",
        "8530"
       ]
      },
      {
       "output_type": "stream",
       "stream": "stdout",
       "text": [
        " 4300\n",
        "8540"
       ]
      },
      {
       "output_type": "stream",
       "stream": "stdout",
       "text": [
        " 4306\n",
        "8550"
       ]
      },
      {
       "output_type": "stream",
       "stream": "stdout",
       "text": [
        " 4311\n",
        "8560"
       ]
      },
      {
       "output_type": "stream",
       "stream": "stdout",
       "text": [
        " 4319\n",
        "8570"
       ]
      },
      {
       "output_type": "stream",
       "stream": "stdout",
       "text": [
        " 4331\n",
        "8580"
       ]
      },
      {
       "output_type": "stream",
       "stream": "stdout",
       "text": [
        " 4337\n",
        "8590"
       ]
      },
      {
       "output_type": "stream",
       "stream": "stdout",
       "text": [
        " 4343\n",
        "8600"
       ]
      },
      {
       "output_type": "stream",
       "stream": "stdout",
       "text": [
        " 4353\n",
        "8610"
       ]
      },
      {
       "output_type": "stream",
       "stream": "stdout",
       "text": [
        " 4363\n",
        "8620"
       ]
      },
      {
       "output_type": "stream",
       "stream": "stdout",
       "text": [
        " 4370\n",
        "8630"
       ]
      },
      {
       "output_type": "stream",
       "stream": "stdout",
       "text": [
        " 4379\n",
        "8640"
       ]
      },
      {
       "output_type": "stream",
       "stream": "stdout",
       "text": [
        " 4392\n",
        "8650"
       ]
      },
      {
       "output_type": "stream",
       "stream": "stdout",
       "text": [
        " 4403\n",
        "8660"
       ]
      },
      {
       "output_type": "stream",
       "stream": "stdout",
       "text": [
        " 4412\n",
        "8670"
       ]
      },
      {
       "output_type": "stream",
       "stream": "stdout",
       "text": [
        " 4413\n",
        "8680"
       ]
      },
      {
       "output_type": "stream",
       "stream": "stdout",
       "text": [
        " 4415\n",
        "8690"
       ]
      },
      {
       "output_type": "stream",
       "stream": "stdout",
       "text": [
        " 4426\n",
        "8700"
       ]
      },
      {
       "output_type": "stream",
       "stream": "stdout",
       "text": [
        " 4436\n",
        "8710"
       ]
      },
      {
       "output_type": "stream",
       "stream": "stdout",
       "text": [
        " 4447\n",
        "8720"
       ]
      },
      {
       "output_type": "stream",
       "stream": "stdout",
       "text": [
        " 4453\n",
        "8730"
       ]
      },
      {
       "output_type": "stream",
       "stream": "stdout",
       "text": [
        " 4471\n",
        "8740"
       ]
      },
      {
       "output_type": "stream",
       "stream": "stdout",
       "text": [
        " 4484\n",
        "8750"
       ]
      },
      {
       "output_type": "stream",
       "stream": "stdout",
       "text": [
        " 4490\n",
        "8760"
       ]
      },
      {
       "output_type": "stream",
       "stream": "stdout",
       "text": [
        " 4498\n",
        "8770"
       ]
      },
      {
       "output_type": "stream",
       "stream": "stdout",
       "text": [
        " 4506\n",
        "8780"
       ]
      },
      {
       "output_type": "stream",
       "stream": "stdout",
       "text": [
        " 4523\n",
        "8790"
       ]
      },
      {
       "output_type": "stream",
       "stream": "stdout",
       "text": [
        " 4531\n",
        "8800"
       ]
      },
      {
       "output_type": "stream",
       "stream": "stdout",
       "text": [
        " 4548\n",
        "8810"
       ]
      },
      {
       "output_type": "stream",
       "stream": "stdout",
       "text": [
        " 4562\n",
        "8820"
       ]
      },
      {
       "output_type": "stream",
       "stream": "stdout",
       "text": [
        " 4569\n",
        "8830"
       ]
      },
      {
       "output_type": "stream",
       "stream": "stdout",
       "text": [
        " 4579\n",
        "8840"
       ]
      },
      {
       "output_type": "stream",
       "stream": "stdout",
       "text": [
        " 4587\n",
        "8850"
       ]
      },
      {
       "output_type": "stream",
       "stream": "stdout",
       "text": [
        " 4599\n",
        "8860"
       ]
      },
      {
       "output_type": "stream",
       "stream": "stdout",
       "text": [
        " 4616\n",
        "8870"
       ]
      },
      {
       "output_type": "stream",
       "stream": "stdout",
       "text": [
        " 4624\n",
        "8880"
       ]
      },
      {
       "output_type": "stream",
       "stream": "stdout",
       "text": [
        " 4637\n",
        "8890"
       ]
      },
      {
       "output_type": "stream",
       "stream": "stdout",
       "text": [
        " 4637\n",
        "8900"
       ]
      },
      {
       "output_type": "stream",
       "stream": "stdout",
       "text": [
        " 4651\n",
        "8910"
       ]
      },
      {
       "output_type": "stream",
       "stream": "stdout",
       "text": [
        " 4664\n",
        "8920"
       ]
      },
      {
       "output_type": "stream",
       "stream": "stdout",
       "text": [
        " 4678\n",
        "8930"
       ]
      },
      {
       "output_type": "stream",
       "stream": "stdout",
       "text": [
        " 4686\n",
        "8940"
       ]
      },
      {
       "output_type": "stream",
       "stream": "stdout",
       "text": [
        " 4698\n",
        "8950"
       ]
      },
      {
       "output_type": "stream",
       "stream": "stdout",
       "text": [
        " 4717\n",
        "8960"
       ]
      },
      {
       "output_type": "stream",
       "stream": "stdout",
       "text": [
        " 4719\n",
        "8970"
       ]
      },
      {
       "output_type": "stream",
       "stream": "stdout",
       "text": [
        " 4725\n",
        "8980"
       ]
      },
      {
       "output_type": "stream",
       "stream": "stdout",
       "text": [
        " 4739\n",
        "8990"
       ]
      },
      {
       "output_type": "stream",
       "stream": "stdout",
       "text": [
        " 4754\n",
        "9000"
       ]
      },
      {
       "output_type": "stream",
       "stream": "stdout",
       "text": [
        " 4755\n",
        "9010"
       ]
      },
      {
       "output_type": "stream",
       "stream": "stdout",
       "text": [
        " 4762\n",
        "9020"
       ]
      },
      {
       "output_type": "stream",
       "stream": "stdout",
       "text": [
        " 4767\n",
        "9030"
       ]
      },
      {
       "output_type": "stream",
       "stream": "stdout",
       "text": [
        " 4768\n",
        "9040"
       ]
      },
      {
       "output_type": "stream",
       "stream": "stdout",
       "text": [
        " 4789\n",
        "9050"
       ]
      },
      {
       "output_type": "stream",
       "stream": "stdout",
       "text": [
        " 4805\n",
        "9060"
       ]
      },
      {
       "output_type": "stream",
       "stream": "stdout",
       "text": [
        " 4824\n",
        "9070"
       ]
      },
      {
       "output_type": "stream",
       "stream": "stdout",
       "text": [
        " 4846\n",
        "9080"
       ]
      },
      {
       "output_type": "stream",
       "stream": "stdout",
       "text": [
        " 4858\n",
        "9090"
       ]
      },
      {
       "output_type": "stream",
       "stream": "stdout",
       "text": [
        " 4869\n",
        "9100"
       ]
      },
      {
       "output_type": "stream",
       "stream": "stdout",
       "text": [
        " 4876\n",
        "9110"
       ]
      },
      {
       "output_type": "stream",
       "stream": "stdout",
       "text": [
        " 4892\n",
        "9120"
       ]
      },
      {
       "output_type": "stream",
       "stream": "stdout",
       "text": [
        " 4900\n",
        "9130"
       ]
      },
      {
       "output_type": "stream",
       "stream": "stdout",
       "text": [
        " 4917\n",
        "9140"
       ]
      },
      {
       "output_type": "stream",
       "stream": "stdout",
       "text": [
        " 4929\n",
        "9150"
       ]
      },
      {
       "output_type": "stream",
       "stream": "stdout",
       "text": [
        " 4935\n",
        "9160"
       ]
      },
      {
       "output_type": "stream",
       "stream": "stdout",
       "text": [
        " 4942\n",
        "9170"
       ]
      },
      {
       "output_type": "stream",
       "stream": "stdout",
       "text": [
        " 4957\n",
        "9180"
       ]
      },
      {
       "output_type": "stream",
       "stream": "stdout",
       "text": [
        " 4964\n",
        "9190"
       ]
      },
      {
       "output_type": "stream",
       "stream": "stdout",
       "text": [
        " 4977\n",
        "9200"
       ]
      },
      {
       "output_type": "stream",
       "stream": "stdout",
       "text": [
        " 4986\n",
        "9210"
       ]
      },
      {
       "output_type": "stream",
       "stream": "stdout",
       "text": [
        " 5006\n",
        "9220"
       ]
      },
      {
       "output_type": "stream",
       "stream": "stdout",
       "text": [
        " 5023\n",
        "9230"
       ]
      },
      {
       "output_type": "stream",
       "stream": "stdout",
       "text": [
        " 5026\n",
        "9240"
       ]
      },
      {
       "output_type": "stream",
       "stream": "stdout",
       "text": [
        " 5034\n",
        "9250"
       ]
      },
      {
       "output_type": "stream",
       "stream": "stdout",
       "text": [
        " 5051\n",
        "9260"
       ]
      },
      {
       "output_type": "stream",
       "stream": "stdout",
       "text": [
        " 5060\n",
        "9270"
       ]
      },
      {
       "output_type": "stream",
       "stream": "stdout",
       "text": [
        " 5073\n",
        "9280"
       ]
      },
      {
       "output_type": "stream",
       "stream": "stdout",
       "text": [
        " 5078\n",
        "9290"
       ]
      },
      {
       "output_type": "stream",
       "stream": "stdout",
       "text": [
        " 5083\n",
        "9300"
       ]
      },
      {
       "output_type": "stream",
       "stream": "stdout",
       "text": [
        " 5092\n",
        "9310"
       ]
      },
      {
       "output_type": "stream",
       "stream": "stdout",
       "text": [
        " 5107\n",
        "9320"
       ]
      },
      {
       "output_type": "stream",
       "stream": "stdout",
       "text": [
        " 5122\n",
        "9330"
       ]
      },
      {
       "output_type": "stream",
       "stream": "stdout",
       "text": [
        " 5126\n",
        "9340"
       ]
      },
      {
       "output_type": "stream",
       "stream": "stdout",
       "text": [
        " 5135\n",
        "9350"
       ]
      },
      {
       "output_type": "stream",
       "stream": "stdout",
       "text": [
        " 5152\n",
        "9360"
       ]
      },
      {
       "output_type": "stream",
       "stream": "stdout",
       "text": [
        " 5158\n",
        "9370"
       ]
      },
      {
       "output_type": "stream",
       "stream": "stdout",
       "text": [
        " 5164\n",
        "9380"
       ]
      },
      {
       "output_type": "stream",
       "stream": "stdout",
       "text": [
        " 5176\n",
        "9390"
       ]
      },
      {
       "output_type": "stream",
       "stream": "stdout",
       "text": [
        " 5186\n",
        "9400"
       ]
      },
      {
       "output_type": "stream",
       "stream": "stdout",
       "text": [
        " 5187\n",
        "9410"
       ]
      },
      {
       "output_type": "stream",
       "stream": "stdout",
       "text": [
        " 5197\n",
        "9420"
       ]
      },
      {
       "output_type": "stream",
       "stream": "stdout",
       "text": [
        " 5213\n",
        "9430"
       ]
      },
      {
       "output_type": "stream",
       "stream": "stdout",
       "text": [
        " 5222\n",
        "9440"
       ]
      },
      {
       "output_type": "stream",
       "stream": "stdout",
       "text": [
        " 5232\n",
        "9450"
       ]
      },
      {
       "output_type": "stream",
       "stream": "stdout",
       "text": [
        " 5254\n",
        "9460"
       ]
      },
      {
       "output_type": "stream",
       "stream": "stdout",
       "text": [
        " 5259\n",
        "9470"
       ]
      },
      {
       "output_type": "stream",
       "stream": "stdout",
       "text": [
        " 5269\n",
        "9480"
       ]
      },
      {
       "output_type": "stream",
       "stream": "stdout",
       "text": [
        " 5280\n",
        "9490"
       ]
      },
      {
       "output_type": "stream",
       "stream": "stdout",
       "text": [
        " 5291\n",
        "9500"
       ]
      },
      {
       "output_type": "stream",
       "stream": "stdout",
       "text": [
        " 5299\n",
        "9510"
       ]
      },
      {
       "output_type": "stream",
       "stream": "stdout",
       "text": [
        " 5308\n",
        "9520"
       ]
      },
      {
       "output_type": "stream",
       "stream": "stdout",
       "text": [
        " 5327\n",
        "9530"
       ]
      },
      {
       "output_type": "stream",
       "stream": "stdout",
       "text": [
        " 5338\n",
        "9540"
       ]
      },
      {
       "output_type": "stream",
       "stream": "stdout",
       "text": [
        " 5345\n",
        "9550"
       ]
      },
      {
       "output_type": "stream",
       "stream": "stdout",
       "text": [
        " 5363\n",
        "'nextVenues'"
       ]
      },
      {
       "output_type": "stream",
       "stream": "stdout",
       "text": [
        "\n",
        "'nextVenues'"
       ]
      },
      {
       "output_type": "stream",
       "stream": "stdout",
       "text": [
        "\n",
        "9560"
       ]
      },
      {
       "output_type": "stream",
       "stream": "stdout",
       "text": [
        " 5371\n",
        "9570"
       ]
      },
      {
       "output_type": "stream",
       "stream": "stdout",
       "text": [
        " 5376\n",
        "9580"
       ]
      },
      {
       "output_type": "stream",
       "stream": "stdout",
       "text": [
        " 5384\n",
        "9590"
       ]
      },
      {
       "output_type": "stream",
       "stream": "stdout",
       "text": [
        " 5386\n",
        "9600"
       ]
      },
      {
       "output_type": "stream",
       "stream": "stdout",
       "text": [
        " 5414\n",
        "9610"
       ]
      },
      {
       "output_type": "stream",
       "stream": "stdout",
       "text": [
        " 5430\n",
        "9620"
       ]
      },
      {
       "output_type": "stream",
       "stream": "stdout",
       "text": [
        " 5441\n",
        "9630"
       ]
      },
      {
       "output_type": "stream",
       "stream": "stdout",
       "text": [
        " 5463\n",
        "9640"
       ]
      },
      {
       "output_type": "stream",
       "stream": "stdout",
       "text": [
        " 5478\n",
        "9650"
       ]
      },
      {
       "output_type": "stream",
       "stream": "stdout",
       "text": [
        " 5485\n",
        "9660"
       ]
      },
      {
       "output_type": "stream",
       "stream": "stdout",
       "text": [
        " 5489\n",
        "9670"
       ]
      },
      {
       "output_type": "stream",
       "stream": "stdout",
       "text": [
        " 5502\n",
        "9680"
       ]
      },
      {
       "output_type": "stream",
       "stream": "stdout",
       "text": [
        " 5518\n",
        "9690"
       ]
      },
      {
       "output_type": "stream",
       "stream": "stdout",
       "text": [
        " 5529\n",
        "9700"
       ]
      },
      {
       "output_type": "stream",
       "stream": "stdout",
       "text": [
        " 5550\n",
        "9710"
       ]
      },
      {
       "output_type": "stream",
       "stream": "stdout",
       "text": [
        " 5567\n",
        "9720"
       ]
      },
      {
       "output_type": "stream",
       "stream": "stdout",
       "text": [
        " 5581\n",
        "9730"
       ]
      },
      {
       "output_type": "stream",
       "stream": "stdout",
       "text": [
        " 5595\n",
        "9740"
       ]
      },
      {
       "output_type": "stream",
       "stream": "stdout",
       "text": [
        " 5607\n",
        "9750"
       ]
      },
      {
       "output_type": "stream",
       "stream": "stdout",
       "text": [
        " 5617\n",
        "9760"
       ]
      },
      {
       "output_type": "stream",
       "stream": "stdout",
       "text": [
        " 5638\n",
        "9770"
       ]
      },
      {
       "output_type": "stream",
       "stream": "stdout",
       "text": [
        " 5648\n",
        "9780"
       ]
      },
      {
       "output_type": "stream",
       "stream": "stdout",
       "text": [
        " 5669\n",
        "9790"
       ]
      },
      {
       "output_type": "stream",
       "stream": "stdout",
       "text": [
        " 5676\n",
        "9800"
       ]
      },
      {
       "output_type": "stream",
       "stream": "stdout",
       "text": [
        " 5686\n",
        "9810"
       ]
      },
      {
       "output_type": "stream",
       "stream": "stdout",
       "text": [
        " 5687\n",
        "9820"
       ]
      },
      {
       "output_type": "stream",
       "stream": "stdout",
       "text": [
        " 5695\n",
        "9830"
       ]
      },
      {
       "output_type": "stream",
       "stream": "stdout",
       "text": [
        " 5696\n",
        "9840"
       ]
      },
      {
       "output_type": "stream",
       "stream": "stdout",
       "text": [
        " 5707\n",
        "9850"
       ]
      },
      {
       "output_type": "stream",
       "stream": "stdout",
       "text": [
        " 5717\n",
        "9860"
       ]
      },
      {
       "output_type": "stream",
       "stream": "stdout",
       "text": [
        " 5729\n",
        "9870"
       ]
      },
      {
       "output_type": "stream",
       "stream": "stdout",
       "text": [
        " 5737\n",
        "9880"
       ]
      },
      {
       "output_type": "stream",
       "stream": "stdout",
       "text": [
        " 5755\n",
        "9890"
       ]
      },
      {
       "output_type": "stream",
       "stream": "stdout",
       "text": [
        " 5766\n",
        "9900"
       ]
      },
      {
       "output_type": "stream",
       "stream": "stdout",
       "text": [
        " 5782\n",
        "9910"
       ]
      },
      {
       "output_type": "stream",
       "stream": "stdout",
       "text": [
        " 5805\n",
        "9920"
       ]
      },
      {
       "output_type": "stream",
       "stream": "stdout",
       "text": [
        " 5818\n",
        "9930"
       ]
      },
      {
       "output_type": "stream",
       "stream": "stdout",
       "text": [
        " 5828\n",
        "9940"
       ]
      },
      {
       "output_type": "stream",
       "stream": "stdout",
       "text": [
        " 5838\n",
        "9950"
       ]
      },
      {
       "output_type": "stream",
       "stream": "stdout",
       "text": [
        " 5850\n",
        "9960"
       ]
      },
      {
       "output_type": "stream",
       "stream": "stdout",
       "text": [
        " 5864\n",
        "9970"
       ]
      },
      {
       "output_type": "stream",
       "stream": "stdout",
       "text": [
        " 5865\n",
        "9980"
       ]
      },
      {
       "output_type": "stream",
       "stream": "stdout",
       "text": [
        " 5874\n",
        "9990"
       ]
      },
      {
       "output_type": "stream",
       "stream": "stdout",
       "text": [
        " 5891\n",
        "10000"
       ]
      },
      {
       "output_type": "stream",
       "stream": "stdout",
       "text": [
        " 5914\n",
        "10010"
       ]
      },
      {
       "output_type": "stream",
       "stream": "stdout",
       "text": [
        " 5920\n",
        "10020"
       ]
      },
      {
       "output_type": "stream",
       "stream": "stdout",
       "text": [
        " 5930\n",
        "10030"
       ]
      },
      {
       "output_type": "stream",
       "stream": "stdout",
       "text": [
        " 5945\n",
        "10040"
       ]
      },
      {
       "output_type": "stream",
       "stream": "stdout",
       "text": [
        " 5970\n",
        "10050"
       ]
      },
      {
       "output_type": "stream",
       "stream": "stdout",
       "text": [
        " 5977\n",
        "10060"
       ]
      },
      {
       "output_type": "stream",
       "stream": "stdout",
       "text": [
        " 5989\n",
        "10070"
       ]
      },
      {
       "output_type": "stream",
       "stream": "stdout",
       "text": [
        " 5994\n",
        "10080"
       ]
      },
      {
       "output_type": "stream",
       "stream": "stdout",
       "text": [
        " 5998\n",
        "10090"
       ]
      },
      {
       "output_type": "stream",
       "stream": "stdout",
       "text": [
        " 6012\n",
        "10100"
       ]
      },
      {
       "output_type": "stream",
       "stream": "stdout",
       "text": [
        " 6019\n",
        "10110"
       ]
      },
      {
       "output_type": "stream",
       "stream": "stdout",
       "text": [
        " 6025\n",
        "10120"
       ]
      },
      {
       "output_type": "stream",
       "stream": "stdout",
       "text": [
        " 6040\n",
        "10130"
       ]
      },
      {
       "output_type": "stream",
       "stream": "stdout",
       "text": [
        " 6056\n",
        "10140"
       ]
      },
      {
       "output_type": "stream",
       "stream": "stdout",
       "text": [
        " 6080\n",
        "10150"
       ]
      },
      {
       "output_type": "stream",
       "stream": "stdout",
       "text": [
        " 6095\n",
        "10160"
       ]
      },
      {
       "output_type": "stream",
       "stream": "stdout",
       "text": [
        " 6097\n",
        "10170"
       ]
      },
      {
       "output_type": "stream",
       "stream": "stdout",
       "text": [
        " 6109\n",
        "10180"
       ]
      },
      {
       "output_type": "stream",
       "stream": "stdout",
       "text": [
        " 6113\n",
        "10190"
       ]
      },
      {
       "output_type": "stream",
       "stream": "stdout",
       "text": [
        " 6131\n",
        "10200"
       ]
      },
      {
       "output_type": "stream",
       "stream": "stdout",
       "text": [
        " 6153\n",
        "10210"
       ]
      },
      {
       "output_type": "stream",
       "stream": "stdout",
       "text": [
        " 6179\n",
        "10220"
       ]
      },
      {
       "output_type": "stream",
       "stream": "stdout",
       "text": [
        " 6192\n",
        "10230"
       ]
      },
      {
       "output_type": "stream",
       "stream": "stdout",
       "text": [
        " 6209\n",
        "10240"
       ]
      },
      {
       "output_type": "stream",
       "stream": "stdout",
       "text": [
        " 6215\n",
        "10250"
       ]
      },
      {
       "output_type": "stream",
       "stream": "stdout",
       "text": [
        " 6225\n",
        "10260"
       ]
      },
      {
       "output_type": "stream",
       "stream": "stdout",
       "text": [
        " 6242\n",
        "10270"
       ]
      },
      {
       "output_type": "stream",
       "stream": "stdout",
       "text": [
        " 6254\n",
        "10280"
       ]
      },
      {
       "output_type": "stream",
       "stream": "stdout",
       "text": [
        " 6261\n",
        "10290"
       ]
      },
      {
       "output_type": "stream",
       "stream": "stdout",
       "text": [
        " 6272\n",
        "10300"
       ]
      },
      {
       "output_type": "stream",
       "stream": "stdout",
       "text": [
        " 6287\n",
        "10310"
       ]
      },
      {
       "output_type": "stream",
       "stream": "stdout",
       "text": [
        " 6303\n",
        "10320"
       ]
      },
      {
       "output_type": "stream",
       "stream": "stdout",
       "text": [
        " 6324\n",
        "10330"
       ]
      },
      {
       "output_type": "stream",
       "stream": "stdout",
       "text": [
        " 6339\n",
        "10340"
       ]
      },
      {
       "output_type": "stream",
       "stream": "stdout",
       "text": [
        " 6355\n",
        "10350"
       ]
      },
      {
       "output_type": "stream",
       "stream": "stdout",
       "text": [
        " 6357\n",
        "10360"
       ]
      },
      {
       "output_type": "stream",
       "stream": "stdout",
       "text": [
        " 6366\n",
        "10370"
       ]
      },
      {
       "output_type": "stream",
       "stream": "stdout",
       "text": [
        " 6389\n",
        "10380"
       ]
      },
      {
       "output_type": "stream",
       "stream": "stdout",
       "text": [
        " 6406\n",
        "10390"
       ]
      },
      {
       "output_type": "stream",
       "stream": "stdout",
       "text": [
        " 6417\n",
        "10400"
       ]
      },
      {
       "output_type": "stream",
       "stream": "stdout",
       "text": [
        " 6436\n",
        "10410"
       ]
      },
      {
       "output_type": "stream",
       "stream": "stdout",
       "text": [
        " 6444\n",
        "10420"
       ]
      },
      {
       "output_type": "stream",
       "stream": "stdout",
       "text": [
        " 6458\n",
        "10430"
       ]
      },
      {
       "output_type": "stream",
       "stream": "stdout",
       "text": [
        " 6470\n",
        "10440"
       ]
      },
      {
       "output_type": "stream",
       "stream": "stdout",
       "text": [
        " 6484\n",
        "10450"
       ]
      },
      {
       "output_type": "stream",
       "stream": "stdout",
       "text": [
        " 6487\n",
        "10460"
       ]
      },
      {
       "output_type": "stream",
       "stream": "stdout",
       "text": [
        " 6504\n",
        "10470"
       ]
      },
      {
       "output_type": "stream",
       "stream": "stdout",
       "text": [
        " 6507\n",
        "10480"
       ]
      },
      {
       "output_type": "stream",
       "stream": "stdout",
       "text": [
        " 6519\n",
        "10490"
       ]
      },
      {
       "output_type": "stream",
       "stream": "stdout",
       "text": [
        " 6522\n",
        "10500"
       ]
      },
      {
       "output_type": "stream",
       "stream": "stdout",
       "text": [
        " 6528\n",
        "10510"
       ]
      },
      {
       "output_type": "stream",
       "stream": "stdout",
       "text": [
        " 6543\n",
        "10520"
       ]
      },
      {
       "output_type": "stream",
       "stream": "stdout",
       "text": [
        " 6558\n",
        "10530"
       ]
      },
      {
       "output_type": "stream",
       "stream": "stdout",
       "text": [
        " 6582\n",
        "10540"
       ]
      },
      {
       "output_type": "stream",
       "stream": "stdout",
       "text": [
        " 6603\n",
        "10550"
       ]
      },
      {
       "output_type": "stream",
       "stream": "stdout",
       "text": [
        " 6613\n",
        "10560"
       ]
      },
      {
       "output_type": "stream",
       "stream": "stdout",
       "text": [
        " 6631\n",
        "10570"
       ]
      },
      {
       "output_type": "stream",
       "stream": "stdout",
       "text": [
        " 6648\n",
        "10580"
       ]
      },
      {
       "output_type": "stream",
       "stream": "stdout",
       "text": [
        " 6659\n",
        "10590"
       ]
      },
      {
       "output_type": "stream",
       "stream": "stdout",
       "text": [
        " 6672\n",
        "10600"
       ]
      },
      {
       "output_type": "stream",
       "stream": "stdout",
       "text": [
        " 6684\n",
        "10610"
       ]
      },
      {
       "output_type": "stream",
       "stream": "stdout",
       "text": [
        " 6702\n",
        "10620"
       ]
      },
      {
       "output_type": "stream",
       "stream": "stdout",
       "text": [
        " 6720\n",
        "10630"
       ]
      },
      {
       "output_type": "stream",
       "stream": "stdout",
       "text": [
        " 6726\n",
        "10640"
       ]
      },
      {
       "output_type": "stream",
       "stream": "stdout",
       "text": [
        " 6745\n",
        "10650"
       ]
      },
      {
       "output_type": "stream",
       "stream": "stdout",
       "text": [
        " 6760\n",
        "10660"
       ]
      },
      {
       "output_type": "stream",
       "stream": "stdout",
       "text": [
        " 6776\n",
        "10670"
       ]
      },
      {
       "output_type": "stream",
       "stream": "stdout",
       "text": [
        " 6796\n",
        "10680"
       ]
      },
      {
       "output_type": "stream",
       "stream": "stdout",
       "text": [
        " 6808\n",
        "10690"
       ]
      },
      {
       "output_type": "stream",
       "stream": "stdout",
       "text": [
        " 6835\n",
        "10700"
       ]
      },
      {
       "output_type": "stream",
       "stream": "stdout",
       "text": [
        " 6841\n",
        "10710"
       ]
      },
      {
       "output_type": "stream",
       "stream": "stdout",
       "text": [
        " 6851\n",
        "10720"
       ]
      },
      {
       "output_type": "stream",
       "stream": "stdout",
       "text": [
        " 6864\n",
        "10730"
       ]
      },
      {
       "output_type": "stream",
       "stream": "stdout",
       "text": [
        " 6872\n",
        "10740"
       ]
      },
      {
       "output_type": "stream",
       "stream": "stdout",
       "text": [
        " 6894\n",
        "10750"
       ]
      },
      {
       "output_type": "stream",
       "stream": "stdout",
       "text": [
        " 6906\n",
        "10760"
       ]
      },
      {
       "output_type": "stream",
       "stream": "stdout",
       "text": [
        " 6921\n",
        "10770"
       ]
      },
      {
       "output_type": "stream",
       "stream": "stdout",
       "text": [
        " 6925\n",
        "10780"
       ]
      },
      {
       "output_type": "stream",
       "stream": "stdout",
       "text": [
        " 6945\n",
        "10790"
       ]
      },
      {
       "output_type": "stream",
       "stream": "stdout",
       "text": [
        " 6971\n",
        "10800"
       ]
      },
      {
       "output_type": "stream",
       "stream": "stdout",
       "text": [
        " 6992\n",
        "10810"
       ]
      },
      {
       "output_type": "stream",
       "stream": "stdout",
       "text": [
        " 7009\n",
        "10820"
       ]
      },
      {
       "output_type": "stream",
       "stream": "stdout",
       "text": [
        " 7021\n",
        "10830"
       ]
      },
      {
       "output_type": "stream",
       "stream": "stdout",
       "text": [
        " 7026\n",
        "10840"
       ]
      },
      {
       "output_type": "stream",
       "stream": "stdout",
       "text": [
        " 7037\n",
        "10850"
       ]
      },
      {
       "output_type": "stream",
       "stream": "stdout",
       "text": [
        " 7051\n",
        "10860"
       ]
      },
      {
       "output_type": "stream",
       "stream": "stdout",
       "text": [
        " 7060\n",
        "10870"
       ]
      },
      {
       "output_type": "stream",
       "stream": "stdout",
       "text": [
        " 7075\n",
        "10880"
       ]
      },
      {
       "output_type": "stream",
       "stream": "stdout",
       "text": [
        " 7084\n",
        "10890"
       ]
      },
      {
       "output_type": "stream",
       "stream": "stdout",
       "text": [
        " 7084\n",
        "10900"
       ]
      },
      {
       "output_type": "stream",
       "stream": "stdout",
       "text": [
        " 7113\n",
        "10910"
       ]
      },
      {
       "output_type": "stream",
       "stream": "stdout",
       "text": [
        " 7123\n",
        "10920"
       ]
      },
      {
       "output_type": "stream",
       "stream": "stdout",
       "text": [
        " 7156\n",
        "10930"
       ]
      },
      {
       "output_type": "stream",
       "stream": "stdout",
       "text": [
        " 7170\n",
        "10940"
       ]
      },
      {
       "output_type": "stream",
       "stream": "stdout",
       "text": [
        " 7191\n",
        "10950"
       ]
      },
      {
       "output_type": "stream",
       "stream": "stdout",
       "text": [
        " 7208\n",
        "10960"
       ]
      },
      {
       "output_type": "stream",
       "stream": "stdout",
       "text": [
        " 7216\n",
        "10970"
       ]
      },
      {
       "output_type": "stream",
       "stream": "stdout",
       "text": [
        " 7228\n",
        "10980"
       ]
      },
      {
       "output_type": "stream",
       "stream": "stdout",
       "text": [
        " 7242\n",
        "10990"
       ]
      },
      {
       "output_type": "stream",
       "stream": "stdout",
       "text": [
        " 7247\n",
        "11000"
       ]
      },
      {
       "output_type": "stream",
       "stream": "stdout",
       "text": [
        " 7253\n",
        "11010"
       ]
      },
      {
       "output_type": "stream",
       "stream": "stdout",
       "text": [
        " 7281\n",
        "11020"
       ]
      },
      {
       "output_type": "stream",
       "stream": "stdout",
       "text": [
        " 7294\n",
        "11030"
       ]
      },
      {
       "output_type": "stream",
       "stream": "stdout",
       "text": [
        " 7307\n",
        "11040"
       ]
      },
      {
       "output_type": "stream",
       "stream": "stdout",
       "text": [
        " 7322\n",
        "11050"
       ]
      },
      {
       "output_type": "stream",
       "stream": "stdout",
       "text": [
        " 7332\n",
        "11060"
       ]
      },
      {
       "output_type": "stream",
       "stream": "stdout",
       "text": [
        " 7339\n",
        "11070"
       ]
      },
      {
       "output_type": "stream",
       "stream": "stdout",
       "text": [
        " 7351\n",
        "11080"
       ]
      },
      {
       "output_type": "stream",
       "stream": "stdout",
       "text": [
        " 7358\n",
        "11090"
       ]
      },
      {
       "output_type": "stream",
       "stream": "stdout",
       "text": [
        " 7374\n",
        "11100"
       ]
      },
      {
       "output_type": "stream",
       "stream": "stdout",
       "text": [
        " 7379\n",
        "11110"
       ]
      },
      {
       "output_type": "stream",
       "stream": "stdout",
       "text": [
        " 7391\n",
        "11120"
       ]
      },
      {
       "output_type": "stream",
       "stream": "stdout",
       "text": [
        " 7396\n",
        "11130"
       ]
      },
      {
       "output_type": "stream",
       "stream": "stdout",
       "text": [
        " 7412\n",
        "11140"
       ]
      },
      {
       "output_type": "stream",
       "stream": "stdout",
       "text": [
        " 7422\n",
        "11150"
       ]
      },
      {
       "output_type": "stream",
       "stream": "stdout",
       "text": [
        " 7429\n",
        "11160"
       ]
      },
      {
       "output_type": "stream",
       "stream": "stdout",
       "text": [
        " 7438\n",
        "11170"
       ]
      },
      {
       "output_type": "stream",
       "stream": "stdout",
       "text": [
        " 7448\n",
        "11180"
       ]
      },
      {
       "output_type": "stream",
       "stream": "stdout",
       "text": [
        " 7453\n",
        "11190"
       ]
      },
      {
       "output_type": "stream",
       "stream": "stdout",
       "text": [
        " 7468\n",
        "11200"
       ]
      },
      {
       "output_type": "stream",
       "stream": "stdout",
       "text": [
        " 7483\n",
        "11210"
       ]
      },
      {
       "output_type": "stream",
       "stream": "stdout",
       "text": [
        " 7496\n",
        "11220"
       ]
      },
      {
       "output_type": "stream",
       "stream": "stdout",
       "text": [
        " 7520\n",
        "11230"
       ]
      },
      {
       "output_type": "stream",
       "stream": "stdout",
       "text": [
        " 7528\n",
        "11240"
       ]
      },
      {
       "output_type": "stream",
       "stream": "stdout",
       "text": [
        " 7544\n",
        "11250"
       ]
      },
      {
       "output_type": "stream",
       "stream": "stdout",
       "text": [
        " 7557\n",
        "11260"
       ]
      },
      {
       "output_type": "stream",
       "stream": "stdout",
       "text": [
        " 7586\n",
        "11270"
       ]
      },
      {
       "output_type": "stream",
       "stream": "stdout",
       "text": [
        " 7590\n",
        "11280"
       ]
      },
      {
       "output_type": "stream",
       "stream": "stdout",
       "text": [
        " 7596\n",
        "11290"
       ]
      },
      {
       "output_type": "stream",
       "stream": "stdout",
       "text": [
        " 7616\n",
        "11300"
       ]
      },
      {
       "output_type": "stream",
       "stream": "stdout",
       "text": [
        " 7628\n",
        "11310"
       ]
      },
      {
       "output_type": "stream",
       "stream": "stdout",
       "text": [
        " 7647\n",
        "11320"
       ]
      },
      {
       "output_type": "stream",
       "stream": "stdout",
       "text": [
        " 7656\n",
        "11330"
       ]
      },
      {
       "output_type": "stream",
       "stream": "stdout",
       "text": [
        " 7670\n",
        "11340"
       ]
      },
      {
       "output_type": "stream",
       "stream": "stdout",
       "text": [
        " 7686\n",
        "11350"
       ]
      },
      {
       "output_type": "stream",
       "stream": "stdout",
       "text": [
        " 7715\n",
        "11360"
       ]
      },
      {
       "output_type": "stream",
       "stream": "stdout",
       "text": [
        " 7724\n",
        "11370"
       ]
      },
      {
       "output_type": "stream",
       "stream": "stdout",
       "text": [
        " 7736\n",
        "11380"
       ]
      },
      {
       "output_type": "stream",
       "stream": "stdout",
       "text": [
        " 7756\n",
        "11390"
       ]
      },
      {
       "output_type": "stream",
       "stream": "stdout",
       "text": [
        " 7773\n",
        "11400"
       ]
      },
      {
       "output_type": "stream",
       "stream": "stdout",
       "text": [
        " 7792\n",
        "11410"
       ]
      },
      {
       "output_type": "stream",
       "stream": "stdout",
       "text": [
        " 7799\n",
        "11420"
       ]
      },
      {
       "output_type": "stream",
       "stream": "stdout",
       "text": [
        " 7812\n",
        "11430"
       ]
      },
      {
       "output_type": "stream",
       "stream": "stdout",
       "text": [
        " 7821\n",
        "11440"
       ]
      },
      {
       "output_type": "stream",
       "stream": "stdout",
       "text": [
        " 7832\n",
        "11450"
       ]
      },
      {
       "output_type": "stream",
       "stream": "stdout",
       "text": [
        " 7838\n",
        "11460"
       ]
      },
      {
       "output_type": "stream",
       "stream": "stdout",
       "text": [
        " 7860\n",
        "11470"
       ]
      },
      {
       "output_type": "stream",
       "stream": "stdout",
       "text": [
        " 7880\n",
        "11480"
       ]
      },
      {
       "output_type": "stream",
       "stream": "stdout",
       "text": [
        " 7899\n",
        "11490"
       ]
      },
      {
       "output_type": "stream",
       "stream": "stdout",
       "text": [
        " 7916\n",
        "11500"
       ]
      },
      {
       "output_type": "stream",
       "stream": "stdout",
       "text": [
        " 7928\n",
        "11510"
       ]
      },
      {
       "output_type": "stream",
       "stream": "stdout",
       "text": [
        " 7943\n",
        "11520"
       ]
      },
      {
       "output_type": "stream",
       "stream": "stdout",
       "text": [
        " 7956\n",
        "11530"
       ]
      },
      {
       "output_type": "stream",
       "stream": "stdout",
       "text": [
        " 7964\n",
        "11540"
       ]
      },
      {
       "output_type": "stream",
       "stream": "stdout",
       "text": [
        " 7974\n",
        "11550"
       ]
      },
      {
       "output_type": "stream",
       "stream": "stdout",
       "text": [
        " 7980\n",
        "11560"
       ]
      },
      {
       "output_type": "stream",
       "stream": "stdout",
       "text": [
        " 7988\n",
        "11570"
       ]
      },
      {
       "output_type": "stream",
       "stream": "stdout",
       "text": [
        " 8004\n",
        "11580"
       ]
      },
      {
       "output_type": "stream",
       "stream": "stdout",
       "text": [
        " 8015\n",
        "11590"
       ]
      },
      {
       "output_type": "stream",
       "stream": "stdout",
       "text": [
        " 8044\n",
        "11600"
       ]
      },
      {
       "output_type": "stream",
       "stream": "stdout",
       "text": [
        " 8058\n",
        "11610"
       ]
      },
      {
       "output_type": "stream",
       "stream": "stdout",
       "text": [
        " 8067\n",
        "11620"
       ]
      },
      {
       "output_type": "stream",
       "stream": "stdout",
       "text": [
        " 8080\n",
        "11630"
       ]
      },
      {
       "output_type": "stream",
       "stream": "stdout",
       "text": [
        " 8096\n",
        "11640"
       ]
      },
      {
       "output_type": "stream",
       "stream": "stdout",
       "text": [
        " 8099\n",
        "11650"
       ]
      },
      {
       "output_type": "stream",
       "stream": "stdout",
       "text": [
        " 8113\n",
        "11660"
       ]
      },
      {
       "output_type": "stream",
       "stream": "stdout",
       "text": [
        " 8136\n",
        "11670"
       ]
      },
      {
       "output_type": "stream",
       "stream": "stdout",
       "text": [
        " 8147\n",
        "11680"
       ]
      },
      {
       "output_type": "stream",
       "stream": "stdout",
       "text": [
        " 8173\n",
        "11690"
       ]
      },
      {
       "output_type": "stream",
       "stream": "stdout",
       "text": [
        " 8183\n",
        "11700"
       ]
      },
      {
       "output_type": "stream",
       "stream": "stdout",
       "text": [
        " 8201\n",
        "11710"
       ]
      },
      {
       "output_type": "stream",
       "stream": "stdout",
       "text": [
        " 8209\n",
        "11720"
       ]
      },
      {
       "output_type": "stream",
       "stream": "stdout",
       "text": [
        " 8222\n",
        "11730"
       ]
      },
      {
       "output_type": "stream",
       "stream": "stdout",
       "text": [
        " 8241\n",
        "11740"
       ]
      },
      {
       "output_type": "stream",
       "stream": "stdout",
       "text": [
        " 8258\n",
        "11750"
       ]
      },
      {
       "output_type": "stream",
       "stream": "stdout",
       "text": [
        " 8274\n",
        "11760"
       ]
      },
      {
       "output_type": "stream",
       "stream": "stdout",
       "text": [
        " 8289\n",
        "11770"
       ]
      },
      {
       "output_type": "stream",
       "stream": "stdout",
       "text": [
        " 8296\n",
        "11780"
       ]
      },
      {
       "output_type": "stream",
       "stream": "stdout",
       "text": [
        " 8310\n",
        "11790"
       ]
      },
      {
       "output_type": "stream",
       "stream": "stdout",
       "text": [
        " 8325\n",
        "11800"
       ]
      },
      {
       "output_type": "stream",
       "stream": "stdout",
       "text": [
        " 8331\n",
        "11810"
       ]
      },
      {
       "output_type": "stream",
       "stream": "stdout",
       "text": [
        " 8333\n",
        "11820"
       ]
      },
      {
       "output_type": "stream",
       "stream": "stdout",
       "text": [
        " 8340\n",
        "11830"
       ]
      },
      {
       "output_type": "stream",
       "stream": "stdout",
       "text": [
        " 8348\n",
        "11840"
       ]
      },
      {
       "output_type": "stream",
       "stream": "stdout",
       "text": [
        " 8375\n",
        "11850"
       ]
      },
      {
       "output_type": "stream",
       "stream": "stdout",
       "text": [
        " 8381\n",
        "11860"
       ]
      },
      {
       "output_type": "stream",
       "stream": "stdout",
       "text": [
        " 8404\n",
        "11870"
       ]
      },
      {
       "output_type": "stream",
       "stream": "stdout",
       "text": [
        " 8413\n",
        "11880"
       ]
      },
      {
       "output_type": "stream",
       "stream": "stdout",
       "text": [
        " 8418\n",
        "11890"
       ]
      },
      {
       "output_type": "stream",
       "stream": "stdout",
       "text": [
        " 8435\n",
        "11900"
       ]
      },
      {
       "output_type": "stream",
       "stream": "stdout",
       "text": [
        " 8438\n",
        "11910"
       ]
      },
      {
       "output_type": "stream",
       "stream": "stdout",
       "text": [
        " 8451\n",
        "11920"
       ]
      },
      {
       "output_type": "stream",
       "stream": "stdout",
       "text": [
        " 8466\n",
        "11930"
       ]
      },
      {
       "output_type": "stream",
       "stream": "stdout",
       "text": [
        " 8477\n",
        "11940"
       ]
      },
      {
       "output_type": "stream",
       "stream": "stdout",
       "text": [
        " 8495\n",
        "11950"
       ]
      },
      {
       "output_type": "stream",
       "stream": "stdout",
       "text": [
        " 8520\n",
        "11960"
       ]
      },
      {
       "output_type": "stream",
       "stream": "stdout",
       "text": [
        " 8529\n",
        "11970"
       ]
      },
      {
       "output_type": "stream",
       "stream": "stdout",
       "text": [
        " 8550\n",
        "11980"
       ]
      },
      {
       "output_type": "stream",
       "stream": "stdout",
       "text": [
        " 8562\n",
        "11990"
       ]
      },
      {
       "output_type": "stream",
       "stream": "stdout",
       "text": [
        " 8571\n",
        "12000"
       ]
      },
      {
       "output_type": "stream",
       "stream": "stdout",
       "text": [
        " 8582\n",
        "12010"
       ]
      },
      {
       "output_type": "stream",
       "stream": "stdout",
       "text": [
        " 8600\n",
        "12020"
       ]
      },
      {
       "output_type": "stream",
       "stream": "stdout",
       "text": [
        " 8616\n",
        "12030"
       ]
      },
      {
       "output_type": "stream",
       "stream": "stdout",
       "text": [
        " 8632\n",
        "12040"
       ]
      },
      {
       "output_type": "stream",
       "stream": "stdout",
       "text": [
        " 8639\n",
        "12050"
       ]
      },
      {
       "output_type": "stream",
       "stream": "stdout",
       "text": [
        " 8658\n",
        "12060"
       ]
      },
      {
       "output_type": "stream",
       "stream": "stdout",
       "text": [
        " 8667\n",
        "12070"
       ]
      },
      {
       "output_type": "stream",
       "stream": "stdout",
       "text": [
        " 8688\n",
        "12080"
       ]
      },
      {
       "output_type": "stream",
       "stream": "stdout",
       "text": [
        " 8695\n",
        "12090"
       ]
      },
      {
       "output_type": "stream",
       "stream": "stdout",
       "text": [
        " 8712\n",
        "12100"
       ]
      },
      {
       "output_type": "stream",
       "stream": "stdout",
       "text": [
        " 8733\n",
        "12110"
       ]
      },
      {
       "output_type": "stream",
       "stream": "stdout",
       "text": [
        " 8746\n",
        "12120"
       ]
      },
      {
       "output_type": "stream",
       "stream": "stdout",
       "text": [
        " 8771\n",
        "12130"
       ]
      },
      {
       "output_type": "stream",
       "stream": "stdout",
       "text": [
        " 8800\n",
        "12140"
       ]
      },
      {
       "output_type": "stream",
       "stream": "stdout",
       "text": [
        " 8810\n",
        "12150"
       ]
      },
      {
       "output_type": "stream",
       "stream": "stdout",
       "text": [
        " 8830\n",
        "12160"
       ]
      },
      {
       "output_type": "stream",
       "stream": "stdout",
       "text": [
        " 8847\n",
        "12170"
       ]
      },
      {
       "output_type": "stream",
       "stream": "stdout",
       "text": [
        " 8861\n",
        "12180"
       ]
      },
      {
       "output_type": "stream",
       "stream": "stdout",
       "text": [
        " 8887\n",
        "12190"
       ]
      },
      {
       "output_type": "stream",
       "stream": "stdout",
       "text": [
        " 8911\n",
        "12200"
       ]
      },
      {
       "output_type": "stream",
       "stream": "stdout",
       "text": [
        " 8936\n",
        "12210"
       ]
      },
      {
       "output_type": "stream",
       "stream": "stdout",
       "text": [
        " 8948\n",
        "12220"
       ]
      },
      {
       "output_type": "stream",
       "stream": "stdout",
       "text": [
        " 8961\n",
        "12230"
       ]
      },
      {
       "output_type": "stream",
       "stream": "stdout",
       "text": [
        " 8967\n",
        "12240"
       ]
      },
      {
       "output_type": "stream",
       "stream": "stdout",
       "text": [
        " 8979\n",
        "12250"
       ]
      },
      {
       "output_type": "stream",
       "stream": "stdout",
       "text": [
        " 8997\n",
        "12260"
       ]
      },
      {
       "output_type": "stream",
       "stream": "stdout",
       "text": [
        " 9009\n",
        "12270"
       ]
      },
      {
       "output_type": "stream",
       "stream": "stdout",
       "text": [
        " 9023\n",
        "12280"
       ]
      },
      {
       "output_type": "stream",
       "stream": "stdout",
       "text": [
        " 9031\n",
        "12290"
       ]
      },
      {
       "output_type": "stream",
       "stream": "stdout",
       "text": [
        " 9037\n",
        "12300"
       ]
      },
      {
       "output_type": "stream",
       "stream": "stdout",
       "text": [
        " 9053\n",
        "12310"
       ]
      },
      {
       "output_type": "stream",
       "stream": "stdout",
       "text": [
        " 9063\n",
        "12320"
       ]
      },
      {
       "output_type": "stream",
       "stream": "stdout",
       "text": [
        " 9081\n",
        "12330"
       ]
      },
      {
       "output_type": "stream",
       "stream": "stdout",
       "text": [
        " 9094\n",
        "12340"
       ]
      },
      {
       "output_type": "stream",
       "stream": "stdout",
       "text": [
        " 9107\n",
        "12350"
       ]
      },
      {
       "output_type": "stream",
       "stream": "stdout",
       "text": [
        " 9126\n",
        "12360"
       ]
      },
      {
       "output_type": "stream",
       "stream": "stdout",
       "text": [
        " 9145\n",
        "12370"
       ]
      },
      {
       "output_type": "stream",
       "stream": "stdout",
       "text": [
        " 9150\n",
        "12380"
       ]
      },
      {
       "output_type": "stream",
       "stream": "stdout",
       "text": [
        " 9165\n",
        "12390"
       ]
      },
      {
       "output_type": "stream",
       "stream": "stdout",
       "text": [
        " 9182\n",
        "12400"
       ]
      },
      {
       "output_type": "stream",
       "stream": "stdout",
       "text": [
        " 9186\n",
        "12410"
       ]
      },
      {
       "output_type": "stream",
       "stream": "stdout",
       "text": [
        " 9203\n",
        "12420"
       ]
      },
      {
       "output_type": "stream",
       "stream": "stdout",
       "text": [
        " 9221\n",
        "12430"
       ]
      },
      {
       "output_type": "stream",
       "stream": "stdout",
       "text": [
        " 9229\n",
        "12440"
       ]
      },
      {
       "output_type": "stream",
       "stream": "stdout",
       "text": [
        " 9245\n",
        "12450"
       ]
      },
      {
       "output_type": "stream",
       "stream": "stdout",
       "text": [
        " 9267\n",
        "12460"
       ]
      },
      {
       "output_type": "stream",
       "stream": "stdout",
       "text": [
        " 9288\n",
        "12470"
       ]
      },
      {
       "output_type": "stream",
       "stream": "stdout",
       "text": [
        " 9310\n",
        "12480"
       ]
      },
      {
       "output_type": "stream",
       "stream": "stdout",
       "text": [
        " 9317\n",
        "12490"
       ]
      },
      {
       "output_type": "stream",
       "stream": "stdout",
       "text": [
        " 9343\n",
        "12500"
       ]
      },
      {
       "output_type": "stream",
       "stream": "stdout",
       "text": [
        " 9358\n",
        "12510"
       ]
      },
      {
       "output_type": "stream",
       "stream": "stdout",
       "text": [
        " 9370\n",
        "12520"
       ]
      },
      {
       "output_type": "stream",
       "stream": "stdout",
       "text": [
        " 9387\n",
        "12530"
       ]
      },
      {
       "output_type": "stream",
       "stream": "stdout",
       "text": [
        " 9411\n",
        "12540"
       ]
      },
      {
       "output_type": "stream",
       "stream": "stdout",
       "text": [
        " 9425\n",
        "12550"
       ]
      },
      {
       "output_type": "stream",
       "stream": "stdout",
       "text": [
        " 9444\n",
        "12560"
       ]
      },
      {
       "output_type": "stream",
       "stream": "stdout",
       "text": [
        " 9455\n",
        "12570"
       ]
      },
      {
       "output_type": "stream",
       "stream": "stdout",
       "text": [
        " 9463\n",
        "12580"
       ]
      },
      {
       "output_type": "stream",
       "stream": "stdout",
       "text": [
        " 9481\n",
        "12590"
       ]
      },
      {
       "output_type": "stream",
       "stream": "stdout",
       "text": [
        " 9492\n",
        "12600"
       ]
      },
      {
       "output_type": "stream",
       "stream": "stdout",
       "text": [
        " 9504\n",
        "12610"
       ]
      },
      {
       "output_type": "stream",
       "stream": "stdout",
       "text": [
        " 9511\n",
        "12620"
       ]
      },
      {
       "output_type": "stream",
       "stream": "stdout",
       "text": [
        " 9517\n",
        "12630"
       ]
      },
      {
       "output_type": "stream",
       "stream": "stdout",
       "text": [
        " 9524\n",
        "12640"
       ]
      },
      {
       "output_type": "stream",
       "stream": "stdout",
       "text": [
        " 9537\n",
        "12650"
       ]
      },
      {
       "output_type": "stream",
       "stream": "stdout",
       "text": [
        " 9552\n",
        "12660"
       ]
      },
      {
       "output_type": "stream",
       "stream": "stdout",
       "text": [
        " 9558\n",
        "12670"
       ]
      },
      {
       "output_type": "stream",
       "stream": "stdout",
       "text": [
        " 9561\n",
        "12680"
       ]
      },
      {
       "output_type": "stream",
       "stream": "stdout",
       "text": [
        " 9577\n",
        "12690"
       ]
      },
      {
       "output_type": "stream",
       "stream": "stdout",
       "text": [
        " 9593\n",
        "12700"
       ]
      },
      {
       "output_type": "stream",
       "stream": "stdout",
       "text": [
        " 9599\n",
        "12710"
       ]
      },
      {
       "output_type": "stream",
       "stream": "stdout",
       "text": [
        " 9605\n",
        "12720"
       ]
      },
      {
       "output_type": "stream",
       "stream": "stdout",
       "text": [
        " 9619\n",
        "12730"
       ]
      },
      {
       "output_type": "stream",
       "stream": "stdout",
       "text": [
        " 9642\n",
        "12740"
       ]
      },
      {
       "output_type": "stream",
       "stream": "stdout",
       "text": [
        " 9652\n",
        "12750"
       ]
      },
      {
       "output_type": "stream",
       "stream": "stdout",
       "text": [
        " 9669\n",
        "12760"
       ]
      },
      {
       "output_type": "stream",
       "stream": "stdout",
       "text": [
        " 9695\n",
        "12770"
       ]
      },
      {
       "output_type": "stream",
       "stream": "stdout",
       "text": [
        " 9711\n",
        "12780"
       ]
      },
      {
       "output_type": "stream",
       "stream": "stdout",
       "text": [
        " 9731\n",
        "12790"
       ]
      },
      {
       "output_type": "stream",
       "stream": "stdout",
       "text": [
        " 9748\n",
        "12800"
       ]
      },
      {
       "output_type": "stream",
       "stream": "stdout",
       "text": [
        " 9768\n",
        "12810"
       ]
      },
      {
       "output_type": "stream",
       "stream": "stdout",
       "text": [
        " 9779\n",
        "12820"
       ]
      },
      {
       "output_type": "stream",
       "stream": "stdout",
       "text": [
        " 9786\n",
        "12830"
       ]
      },
      {
       "output_type": "stream",
       "stream": "stdout",
       "text": [
        " 9810\n",
        "12840"
       ]
      },
      {
       "output_type": "stream",
       "stream": "stdout",
       "text": [
        " 9838\n",
        "12850"
       ]
      },
      {
       "output_type": "stream",
       "stream": "stdout",
       "text": [
        " 9851\n",
        "12860"
       ]
      },
      {
       "output_type": "stream",
       "stream": "stdout",
       "text": [
        " 9872\n",
        "12870"
       ]
      },
      {
       "output_type": "stream",
       "stream": "stdout",
       "text": [
        " 9879\n",
        "12880"
       ]
      },
      {
       "output_type": "stream",
       "stream": "stdout",
       "text": [
        " 9892\n",
        "12890"
       ]
      },
      {
       "output_type": "stream",
       "stream": "stdout",
       "text": [
        " 9903\n",
        "12900"
       ]
      },
      {
       "output_type": "stream",
       "stream": "stdout",
       "text": [
        " 9930\n",
        "12910"
       ]
      },
      {
       "output_type": "stream",
       "stream": "stdout",
       "text": [
        " 9938\n",
        "12920"
       ]
      },
      {
       "output_type": "stream",
       "stream": "stdout",
       "text": [
        " 9958\n",
        "12930"
       ]
      },
      {
       "output_type": "stream",
       "stream": "stdout",
       "text": [
        " 9977\n",
        "12940"
       ]
      },
      {
       "output_type": "stream",
       "stream": "stdout",
       "text": [
        " 10004\n",
        "12950"
       ]
      },
      {
       "output_type": "stream",
       "stream": "stdout",
       "text": [
        " 10024\n",
        "12960"
       ]
      },
      {
       "output_type": "stream",
       "stream": "stdout",
       "text": [
        " 10034\n",
        "12970"
       ]
      },
      {
       "output_type": "stream",
       "stream": "stdout",
       "text": [
        " 10044\n",
        "12980"
       ]
      },
      {
       "output_type": "stream",
       "stream": "stdout",
       "text": [
        " 10052\n",
        "12990"
       ]
      },
      {
       "output_type": "stream",
       "stream": "stdout",
       "text": [
        " 10060\n",
        "13000"
       ]
      },
      {
       "output_type": "stream",
       "stream": "stdout",
       "text": [
        " 10086\n",
        "13010"
       ]
      },
      {
       "output_type": "stream",
       "stream": "stdout",
       "text": [
        " 10093\n",
        "13020"
       ]
      },
      {
       "output_type": "stream",
       "stream": "stdout",
       "text": [
        " 10112\n",
        "13030"
       ]
      },
      {
       "output_type": "stream",
       "stream": "stdout",
       "text": [
        " 10140\n",
        "13040"
       ]
      },
      {
       "output_type": "stream",
       "stream": "stdout",
       "text": [
        " 10165\n",
        "13050"
       ]
      },
      {
       "output_type": "stream",
       "stream": "stdout",
       "text": [
        " 10182\n",
        "13060"
       ]
      },
      {
       "output_type": "stream",
       "stream": "stdout",
       "text": [
        " 10192\n",
        "13070"
       ]
      },
      {
       "output_type": "stream",
       "stream": "stdout",
       "text": [
        " 10206\n",
        "13080"
       ]
      },
      {
       "output_type": "stream",
       "stream": "stdout",
       "text": [
        " 10219\n",
        "13090"
       ]
      },
      {
       "output_type": "stream",
       "stream": "stdout",
       "text": [
        " 10228\n",
        "13100"
       ]
      },
      {
       "output_type": "stream",
       "stream": "stdout",
       "text": [
        " 10238\n",
        "13110"
       ]
      },
      {
       "output_type": "stream",
       "stream": "stdout",
       "text": [
        " 10250\n",
        "13120"
       ]
      },
      {
       "output_type": "stream",
       "stream": "stdout",
       "text": [
        " 10265\n",
        "13130"
       ]
      },
      {
       "output_type": "stream",
       "stream": "stdout",
       "text": [
        " 10275\n",
        "13140"
       ]
      },
      {
       "output_type": "stream",
       "stream": "stdout",
       "text": [
        " 10297\n",
        "13150"
       ]
      },
      {
       "output_type": "stream",
       "stream": "stdout",
       "text": [
        " 10310\n",
        "13160"
       ]
      },
      {
       "output_type": "stream",
       "stream": "stdout",
       "text": [
        " 10316\n",
        "13170"
       ]
      },
      {
       "output_type": "stream",
       "stream": "stdout",
       "text": [
        " 10327\n",
        "13180"
       ]
      },
      {
       "output_type": "stream",
       "stream": "stdout",
       "text": [
        " 10343\n",
        "13190"
       ]
      },
      {
       "output_type": "stream",
       "stream": "stdout",
       "text": [
        " 10354\n",
        "13200"
       ]
      },
      {
       "output_type": "stream",
       "stream": "stdout",
       "text": [
        " 10378\n",
        "13210"
       ]
      },
      {
       "output_type": "stream",
       "stream": "stdout",
       "text": [
        " 10384\n",
        "13220"
       ]
      },
      {
       "output_type": "stream",
       "stream": "stdout",
       "text": [
        " 10401\n",
        "13230"
       ]
      },
      {
       "output_type": "stream",
       "stream": "stdout",
       "text": [
        " 10418\n",
        "13240"
       ]
      },
      {
       "output_type": "stream",
       "stream": "stdout",
       "text": [
        " 10429\n",
        "13250"
       ]
      },
      {
       "output_type": "stream",
       "stream": "stdout",
       "text": [
        " 10448\n",
        "13260"
       ]
      },
      {
       "output_type": "stream",
       "stream": "stdout",
       "text": [
        " 10477\n",
        "13270"
       ]
      },
      {
       "output_type": "stream",
       "stream": "stdout",
       "text": [
        " 10485\n",
        "13280"
       ]
      },
      {
       "output_type": "stream",
       "stream": "stdout",
       "text": [
        " 10491\n",
        "13290"
       ]
      },
      {
       "output_type": "stream",
       "stream": "stdout",
       "text": [
        " 10508\n",
        "13300"
       ]
      },
      {
       "output_type": "stream",
       "stream": "stdout",
       "text": [
        " 10519\n",
        "13310"
       ]
      },
      {
       "output_type": "stream",
       "stream": "stdout",
       "text": [
        " 10540\n",
        "13320"
       ]
      },
      {
       "output_type": "stream",
       "stream": "stdout",
       "text": [
        " 10560\n",
        "13330"
       ]
      },
      {
       "output_type": "stream",
       "stream": "stdout",
       "text": [
        " 10577\n",
        "13340"
       ]
      },
      {
       "output_type": "stream",
       "stream": "stdout",
       "text": [
        " 10596\n",
        "13350"
       ]
      },
      {
       "output_type": "stream",
       "stream": "stdout",
       "text": [
        " 10599\n",
        "13360"
       ]
      },
      {
       "output_type": "stream",
       "stream": "stdout",
       "text": [
        " 10608\n",
        "13370"
       ]
      },
      {
       "output_type": "stream",
       "stream": "stdout",
       "text": [
        " 10635\n",
        "13380"
       ]
      },
      {
       "output_type": "stream",
       "stream": "stdout",
       "text": [
        " 10650\n",
        "13390"
       ]
      },
      {
       "output_type": "stream",
       "stream": "stdout",
       "text": [
        " 10662\n",
        "13400"
       ]
      },
      {
       "output_type": "stream",
       "stream": "stdout",
       "text": [
        " 10670\n",
        "13410"
       ]
      },
      {
       "output_type": "stream",
       "stream": "stdout",
       "text": [
        " 10681\n",
        "13420"
       ]
      },
      {
       "output_type": "stream",
       "stream": "stdout",
       "text": [
        " 10693\n",
        "13430"
       ]
      },
      {
       "output_type": "stream",
       "stream": "stdout",
       "text": [
        " 10703\n",
        "13440"
       ]
      },
      {
       "output_type": "stream",
       "stream": "stdout",
       "text": [
        " 10717\n",
        "13450"
       ]
      },
      {
       "output_type": "stream",
       "stream": "stdout",
       "text": [
        " 10734\n",
        "13460"
       ]
      },
      {
       "output_type": "stream",
       "stream": "stdout",
       "text": [
        " 10757\n",
        "13470"
       ]
      },
      {
       "output_type": "stream",
       "stream": "stdout",
       "text": [
        " 10770\n",
        "13480"
       ]
      },
      {
       "output_type": "stream",
       "stream": "stdout",
       "text": [
        " 10790\n",
        "13490"
       ]
      },
      {
       "output_type": "stream",
       "stream": "stdout",
       "text": [
        " 10802\n",
        "13500"
       ]
      },
      {
       "output_type": "stream",
       "stream": "stdout",
       "text": [
        " 10820\n",
        "13510"
       ]
      },
      {
       "output_type": "stream",
       "stream": "stdout",
       "text": [
        " 10842\n",
        "13520"
       ]
      },
      {
       "output_type": "stream",
       "stream": "stdout",
       "text": [
        " 10855\n",
        "13530"
       ]
      },
      {
       "output_type": "stream",
       "stream": "stdout",
       "text": [
        " 10860\n",
        "13540"
       ]
      },
      {
       "output_type": "stream",
       "stream": "stdout",
       "text": [
        " 10865\n",
        "13550"
       ]
      },
      {
       "output_type": "stream",
       "stream": "stdout",
       "text": [
        " 10876\n",
        "13560"
       ]
      },
      {
       "output_type": "stream",
       "stream": "stdout",
       "text": [
        " 10893\n",
        "13570"
       ]
      },
      {
       "output_type": "stream",
       "stream": "stdout",
       "text": [
        " 10905\n",
        "13580"
       ]
      },
      {
       "output_type": "stream",
       "stream": "stdout",
       "text": [
        " 10931\n",
        "13590"
       ]
      },
      {
       "output_type": "stream",
       "stream": "stdout",
       "text": [
        " 10948\n",
        "13600"
       ]
      },
      {
       "output_type": "stream",
       "stream": "stdout",
       "text": [
        " 10981\n",
        "13610"
       ]
      },
      {
       "output_type": "stream",
       "stream": "stdout",
       "text": [
        " 11008\n",
        "13620"
       ]
      },
      {
       "output_type": "stream",
       "stream": "stdout",
       "text": [
        " 11032\n",
        "13630"
       ]
      },
      {
       "output_type": "stream",
       "stream": "stdout",
       "text": [
        " 11041\n",
        "13640"
       ]
      },
      {
       "output_type": "stream",
       "stream": "stdout",
       "text": [
        " 11066\n",
        "13650"
       ]
      },
      {
       "output_type": "stream",
       "stream": "stdout",
       "text": [
        " 11077\n",
        "13660"
       ]
      },
      {
       "output_type": "stream",
       "stream": "stdout",
       "text": [
        " 11102\n",
        "13670"
       ]
      },
      {
       "output_type": "stream",
       "stream": "stdout",
       "text": [
        " 11119\n",
        "13680"
       ]
      },
      {
       "output_type": "stream",
       "stream": "stdout",
       "text": [
        " 11136\n",
        "13690"
       ]
      },
      {
       "output_type": "stream",
       "stream": "stdout",
       "text": [
        " 11150\n",
        "13700"
       ]
      },
      {
       "output_type": "stream",
       "stream": "stdout",
       "text": [
        " 11171\n",
        "13710"
       ]
      },
      {
       "output_type": "stream",
       "stream": "stdout",
       "text": [
        " 11196\n",
        "13720"
       ]
      },
      {
       "output_type": "stream",
       "stream": "stdout",
       "text": [
        " 11206\n",
        "13730"
       ]
      },
      {
       "output_type": "stream",
       "stream": "stdout",
       "text": [
        " 11222\n",
        "13740"
       ]
      },
      {
       "output_type": "stream",
       "stream": "stdout",
       "text": [
        " 11229\n",
        "13750"
       ]
      },
      {
       "output_type": "stream",
       "stream": "stdout",
       "text": [
        " 11260\n",
        "13760"
       ]
      },
      {
       "output_type": "stream",
       "stream": "stdout",
       "text": [
        " 11274\n",
        "13770"
       ]
      },
      {
       "output_type": "stream",
       "stream": "stdout",
       "text": [
        " 11299\n",
        "13780"
       ]
      },
      {
       "output_type": "stream",
       "stream": "stdout",
       "text": [
        " 11314\n",
        "13790"
       ]
      },
      {
       "output_type": "stream",
       "stream": "stdout",
       "text": [
        " 11341\n",
        "13800"
       ]
      },
      {
       "output_type": "stream",
       "stream": "stdout",
       "text": [
        " 11355\n",
        "13810"
       ]
      },
      {
       "output_type": "stream",
       "stream": "stdout",
       "text": [
        " 11374\n",
        "13820"
       ]
      },
      {
       "output_type": "stream",
       "stream": "stdout",
       "text": [
        " 11390\n",
        "13830"
       ]
      },
      {
       "output_type": "stream",
       "stream": "stdout",
       "text": [
        " 11399\n",
        "13840"
       ]
      },
      {
       "output_type": "stream",
       "stream": "stdout",
       "text": [
        " 11426\n",
        "13850"
       ]
      },
      {
       "output_type": "stream",
       "stream": "stdout",
       "text": [
        " 11447\n",
        "13860"
       ]
      },
      {
       "output_type": "stream",
       "stream": "stdout",
       "text": [
        " 11461\n",
        "13870"
       ]
      },
      {
       "output_type": "stream",
       "stream": "stdout",
       "text": [
        " 11482\n",
        "13880"
       ]
      },
      {
       "output_type": "stream",
       "stream": "stdout",
       "text": [
        " 11495\n",
        "13890"
       ]
      },
      {
       "output_type": "stream",
       "stream": "stdout",
       "text": [
        " 11517\n",
        "13900"
       ]
      },
      {
       "output_type": "stream",
       "stream": "stdout",
       "text": [
        " 11539\n",
        "13910"
       ]
      },
      {
       "output_type": "stream",
       "stream": "stdout",
       "text": [
        " 11566\n",
        "13920"
       ]
      },
      {
       "output_type": "stream",
       "stream": "stdout",
       "text": [
        " 11581\n",
        "13930"
       ]
      },
      {
       "output_type": "stream",
       "stream": "stdout",
       "text": [
        " 11596\n",
        "13940"
       ]
      },
      {
       "output_type": "stream",
       "stream": "stdout",
       "text": [
        " 11599\n",
        "13950"
       ]
      },
      {
       "output_type": "stream",
       "stream": "stdout",
       "text": [
        " 11611\n",
        "13960"
       ]
      },
      {
       "output_type": "stream",
       "stream": "stdout",
       "text": [
        " 11629\n",
        "13970"
       ]
      },
      {
       "output_type": "stream",
       "stream": "stdout",
       "text": [
        " 11643\n",
        "13980"
       ]
      },
      {
       "output_type": "stream",
       "stream": "stdout",
       "text": [
        " 11660\n",
        "13990"
       ]
      },
      {
       "output_type": "stream",
       "stream": "stdout",
       "text": [
        " 11669\n",
        "14000"
       ]
      },
      {
       "output_type": "stream",
       "stream": "stdout",
       "text": [
        " 11679\n",
        "14010"
       ]
      },
      {
       "output_type": "stream",
       "stream": "stdout",
       "text": [
        " 11695\n",
        "14020"
       ]
      },
      {
       "output_type": "stream",
       "stream": "stdout",
       "text": [
        " 11700\n",
        "14030"
       ]
      },
      {
       "output_type": "stream",
       "stream": "stdout",
       "text": [
        " 11722\n",
        "14040"
       ]
      },
      {
       "output_type": "stream",
       "stream": "stdout",
       "text": [
        " 11733\n",
        "14050"
       ]
      },
      {
       "output_type": "stream",
       "stream": "stdout",
       "text": [
        " 11752\n",
        "14060"
       ]
      },
      {
       "output_type": "stream",
       "stream": "stdout",
       "text": [
        " 11770\n",
        "14070"
       ]
      },
      {
       "output_type": "stream",
       "stream": "stdout",
       "text": [
        " 11787\n",
        "14080"
       ]
      },
      {
       "output_type": "stream",
       "stream": "stdout",
       "text": [
        " 11818\n",
        "14090"
       ]
      },
      {
       "output_type": "stream",
       "stream": "stdout",
       "text": [
        " 11839\n",
        "14100"
       ]
      },
      {
       "output_type": "stream",
       "stream": "stdout",
       "text": [
        " 11856\n",
        "14110"
       ]
      },
      {
       "output_type": "stream",
       "stream": "stdout",
       "text": [
        " 11878\n",
        "14120"
       ]
      },
      {
       "output_type": "stream",
       "stream": "stdout",
       "text": [
        " 11907\n",
        "14130"
       ]
      },
      {
       "output_type": "stream",
       "stream": "stdout",
       "text": [
        " 11921\n",
        "14140"
       ]
      },
      {
       "output_type": "stream",
       "stream": "stdout",
       "text": [
        " 11942\n",
        "14150"
       ]
      },
      {
       "output_type": "stream",
       "stream": "stdout",
       "text": [
        " 11950\n",
        "14160"
       ]
      },
      {
       "output_type": "stream",
       "stream": "stdout",
       "text": [
        " 11959\n",
        "14170"
       ]
      },
      {
       "output_type": "stream",
       "stream": "stdout",
       "text": [
        " 11982\n",
        "14180"
       ]
      },
      {
       "output_type": "stream",
       "stream": "stdout",
       "text": [
        " 11998\n",
        "14190"
       ]
      },
      {
       "output_type": "stream",
       "stream": "stdout",
       "text": [
        " 12019\n",
        "14200"
       ]
      },
      {
       "output_type": "stream",
       "stream": "stdout",
       "text": [
        " 12031\n",
        "14210"
       ]
      },
      {
       "output_type": "stream",
       "stream": "stdout",
       "text": [
        " 12047\n",
        "14220"
       ]
      },
      {
       "output_type": "stream",
       "stream": "stdout",
       "text": [
        " 12066\n",
        "14230"
       ]
      },
      {
       "output_type": "stream",
       "stream": "stdout",
       "text": [
        " 12075\n",
        "14240"
       ]
      },
      {
       "output_type": "stream",
       "stream": "stdout",
       "text": [
        " 12102\n",
        "14250"
       ]
      },
      {
       "output_type": "stream",
       "stream": "stdout",
       "text": [
        " 12115\n",
        "14260"
       ]
      },
      {
       "output_type": "stream",
       "stream": "stdout",
       "text": [
        " 12134\n",
        "14270"
       ]
      },
      {
       "output_type": "stream",
       "stream": "stdout",
       "text": [
        " 12163\n",
        "14280"
       ]
      },
      {
       "output_type": "stream",
       "stream": "stdout",
       "text": [
        " 12183\n",
        "14290"
       ]
      },
      {
       "output_type": "stream",
       "stream": "stdout",
       "text": [
        " 12192\n",
        "14300"
       ]
      },
      {
       "output_type": "stream",
       "stream": "stdout",
       "text": [
        " 12201\n",
        "14310"
       ]
      },
      {
       "output_type": "stream",
       "stream": "stdout",
       "text": [
        " 12220\n",
        "14320"
       ]
      },
      {
       "output_type": "stream",
       "stream": "stdout",
       "text": [
        " 12241\n",
        "14330"
       ]
      },
      {
       "output_type": "stream",
       "stream": "stdout",
       "text": [
        " 12269\n",
        "14340"
       ]
      },
      {
       "output_type": "stream",
       "stream": "stdout",
       "text": [
        " 12282\n",
        "14350"
       ]
      },
      {
       "output_type": "stream",
       "stream": "stdout",
       "text": [
        " 12292\n",
        "14360"
       ]
      },
      {
       "output_type": "stream",
       "stream": "stdout",
       "text": [
        " 12317\n",
        "14370"
       ]
      },
      {
       "output_type": "stream",
       "stream": "stdout",
       "text": [
        " 12336\n",
        "14380"
       ]
      },
      {
       "output_type": "stream",
       "stream": "stdout",
       "text": [
        " 12357\n",
        "14390"
       ]
      },
      {
       "output_type": "stream",
       "stream": "stdout",
       "text": [
        " 12383\n",
        "14400"
       ]
      },
      {
       "output_type": "stream",
       "stream": "stdout",
       "text": [
        " 12404\n",
        "14410"
       ]
      },
      {
       "output_type": "stream",
       "stream": "stdout",
       "text": [
        " 12421\n",
        "14420"
       ]
      },
      {
       "output_type": "stream",
       "stream": "stdout",
       "text": [
        " 12429\n",
        "14430"
       ]
      },
      {
       "output_type": "stream",
       "stream": "stdout",
       "text": [
        " 12435\n",
        "14440"
       ]
      },
      {
       "output_type": "stream",
       "stream": "stdout",
       "text": [
        " 12452\n",
        "14450"
       ]
      },
      {
       "output_type": "stream",
       "stream": "stdout",
       "text": [
        " 12464\n",
        "14460"
       ]
      },
      {
       "output_type": "stream",
       "stream": "stdout",
       "text": [
        " 12492\n",
        "14470"
       ]
      },
      {
       "output_type": "stream",
       "stream": "stdout",
       "text": [
        " 12511\n",
        "14480"
       ]
      },
      {
       "output_type": "stream",
       "stream": "stdout",
       "text": [
        " 12532\n",
        "14490"
       ]
      },
      {
       "output_type": "stream",
       "stream": "stdout",
       "text": [
        " 12554\n",
        "14500"
       ]
      },
      {
       "output_type": "stream",
       "stream": "stdout",
       "text": [
        " 12572\n",
        "14510"
       ]
      },
      {
       "output_type": "stream",
       "stream": "stdout",
       "text": [
        " 12581\n",
        "14520"
       ]
      },
      {
       "output_type": "stream",
       "stream": "stdout",
       "text": [
        " 12593\n",
        "14530"
       ]
      },
      {
       "output_type": "stream",
       "stream": "stdout",
       "text": [
        " 12602\n",
        "14540"
       ]
      },
      {
       "output_type": "stream",
       "stream": "stdout",
       "text": [
        " 12621\n",
        "14550"
       ]
      },
      {
       "output_type": "stream",
       "stream": "stdout",
       "text": [
        " 12639\n",
        "14560"
       ]
      },
      {
       "output_type": "stream",
       "stream": "stdout",
       "text": [
        " 12666\n",
        "14570"
       ]
      },
      {
       "output_type": "stream",
       "stream": "stdout",
       "text": [
        " 12684\n",
        "14580"
       ]
      },
      {
       "output_type": "stream",
       "stream": "stdout",
       "text": [
        " 12704\n",
        "14590"
       ]
      },
      {
       "output_type": "stream",
       "stream": "stdout",
       "text": [
        " 12715\n",
        "14600"
       ]
      },
      {
       "output_type": "stream",
       "stream": "stdout",
       "text": [
        " 12738\n",
        "14610"
       ]
      },
      {
       "output_type": "stream",
       "stream": "stdout",
       "text": [
        " 12744\n",
        "14620"
       ]
      },
      {
       "output_type": "stream",
       "stream": "stdout",
       "text": [
        " 12759\n",
        "14630"
       ]
      },
      {
       "output_type": "stream",
       "stream": "stdout",
       "text": [
        " 12774\n",
        "14640"
       ]
      },
      {
       "output_type": "stream",
       "stream": "stdout",
       "text": [
        " 12802\n",
        "14650"
       ]
      },
      {
       "output_type": "stream",
       "stream": "stdout",
       "text": [
        " 12824\n",
        "14660"
       ]
      },
      {
       "output_type": "stream",
       "stream": "stdout",
       "text": [
        " 12843\n",
        "14670"
       ]
      },
      {
       "output_type": "stream",
       "stream": "stdout",
       "text": [
        " 12856\n",
        "14680"
       ]
      },
      {
       "output_type": "stream",
       "stream": "stdout",
       "text": [
        " 12871\n",
        "14690"
       ]
      },
      {
       "output_type": "stream",
       "stream": "stdout",
       "text": [
        " 12895\n",
        "14700"
       ]
      },
      {
       "output_type": "stream",
       "stream": "stdout",
       "text": [
        " 12920\n",
        "14710"
       ]
      },
      {
       "output_type": "stream",
       "stream": "stdout",
       "text": [
        " 12937\n",
        "14720"
       ]
      },
      {
       "output_type": "stream",
       "stream": "stdout",
       "text": [
        " 12953\n",
        "14730"
       ]
      },
      {
       "output_type": "stream",
       "stream": "stdout",
       "text": [
        " 12984\n",
        "14740"
       ]
      },
      {
       "output_type": "stream",
       "stream": "stdout",
       "text": [
        " 13002\n",
        "14750"
       ]
      },
      {
       "output_type": "stream",
       "stream": "stdout",
       "text": [
        " 13019\n",
        "14760"
       ]
      },
      {
       "output_type": "stream",
       "stream": "stdout",
       "text": [
        " 13048\n",
        "14770"
       ]
      },
      {
       "output_type": "stream",
       "stream": "stdout",
       "text": [
        " 13064\n",
        "14780"
       ]
      },
      {
       "output_type": "stream",
       "stream": "stdout",
       "text": [
        " 13088\n",
        "14790"
       ]
      },
      {
       "output_type": "stream",
       "stream": "stdout",
       "text": [
        " 13098\n",
        "14800"
       ]
      },
      {
       "output_type": "stream",
       "stream": "stdout",
       "text": [
        " 13119\n",
        "14810"
       ]
      },
      {
       "output_type": "stream",
       "stream": "stdout",
       "text": [
        " 13136\n",
        "14820"
       ]
      },
      {
       "output_type": "stream",
       "stream": "stdout",
       "text": [
        " 13152\n",
        "14830"
       ]
      },
      {
       "output_type": "stream",
       "stream": "stdout",
       "text": [
        " 13172\n",
        "14840"
       ]
      },
      {
       "output_type": "stream",
       "stream": "stdout",
       "text": [
        " 13189\n",
        "14850"
       ]
      },
      {
       "output_type": "stream",
       "stream": "stdout",
       "text": [
        " 13210\n",
        "14860"
       ]
      },
      {
       "output_type": "stream",
       "stream": "stdout",
       "text": [
        " 13212\n",
        "14870"
       ]
      },
      {
       "output_type": "stream",
       "stream": "stdout",
       "text": [
        " 13242\n",
        "14880"
       ]
      },
      {
       "output_type": "stream",
       "stream": "stdout",
       "text": [
        " 13247\n",
        "14890"
       ]
      },
      {
       "output_type": "stream",
       "stream": "stdout",
       "text": [
        " 13258\n",
        "14900"
       ]
      },
      {
       "output_type": "stream",
       "stream": "stdout",
       "text": [
        " 13281\n",
        "14910"
       ]
      },
      {
       "output_type": "stream",
       "stream": "stdout",
       "text": [
        " 13308\n",
        "14920"
       ]
      },
      {
       "output_type": "stream",
       "stream": "stdout",
       "text": [
        " 13326\n",
        "14930"
       ]
      },
      {
       "output_type": "stream",
       "stream": "stdout",
       "text": [
        " 13343\n",
        "14940"
       ]
      },
      {
       "output_type": "stream",
       "stream": "stdout",
       "text": [
        " 13366\n",
        "14950"
       ]
      },
      {
       "output_type": "stream",
       "stream": "stdout",
       "text": [
        " 13371\n",
        "14960"
       ]
      },
      {
       "output_type": "stream",
       "stream": "stdout",
       "text": [
        " 13383\n",
        "14970"
       ]
      },
      {
       "output_type": "stream",
       "stream": "stdout",
       "text": [
        " 13395\n",
        "14980"
       ]
      },
      {
       "output_type": "stream",
       "stream": "stdout",
       "text": [
        " 13411\n",
        "14990"
       ]
      },
      {
       "output_type": "stream",
       "stream": "stdout",
       "text": [
        " 13430\n",
        "15000"
       ]
      },
      {
       "output_type": "stream",
       "stream": "stdout",
       "text": [
        " 13446\n",
        "15010"
       ]
      },
      {
       "output_type": "stream",
       "stream": "stdout",
       "text": [
        " 13462\n",
        "15020"
       ]
      },
      {
       "output_type": "stream",
       "stream": "stdout",
       "text": [
        " 13481\n",
        "15030"
       ]
      },
      {
       "output_type": "stream",
       "stream": "stdout",
       "text": [
        " 13513\n",
        "15040"
       ]
      },
      {
       "output_type": "stream",
       "stream": "stdout",
       "text": [
        " 13528\n",
        "15050"
       ]
      },
      {
       "output_type": "stream",
       "stream": "stdout",
       "text": [
        " 13545\n",
        "15060"
       ]
      },
      {
       "output_type": "stream",
       "stream": "stdout",
       "text": [
        " 13572\n",
        "15070"
       ]
      },
      {
       "output_type": "stream",
       "stream": "stdout",
       "text": [
        " 13595\n",
        "15080"
       ]
      },
      {
       "output_type": "stream",
       "stream": "stdout",
       "text": [
        " 13602\n",
        "15090"
       ]
      },
      {
       "output_type": "stream",
       "stream": "stdout",
       "text": [
        " 13624\n",
        "15100"
       ]
      },
      {
       "output_type": "stream",
       "stream": "stdout",
       "text": [
        " 13654\n",
        "15110"
       ]
      },
      {
       "output_type": "stream",
       "stream": "stdout",
       "text": [
        " 13667\n",
        "15120"
       ]
      },
      {
       "output_type": "stream",
       "stream": "stdout",
       "text": [
        " 13682\n",
        "15130"
       ]
      },
      {
       "output_type": "stream",
       "stream": "stdout",
       "text": [
        " 13690\n",
        "15140"
       ]
      },
      {
       "output_type": "stream",
       "stream": "stdout",
       "text": [
        " 13701\n",
        "15150"
       ]
      },
      {
       "output_type": "stream",
       "stream": "stdout",
       "text": [
        " 13722\n",
        "15160"
       ]
      },
      {
       "output_type": "stream",
       "stream": "stdout",
       "text": [
        " 13741\n",
        "15170"
       ]
      },
      {
       "output_type": "stream",
       "stream": "stdout",
       "text": [
        " 13753\n",
        "15180"
       ]
      },
      {
       "output_type": "stream",
       "stream": "stdout",
       "text": [
        " 13770\n",
        "15190"
       ]
      },
      {
       "output_type": "stream",
       "stream": "stdout",
       "text": [
        " 13777\n",
        "15200"
       ]
      },
      {
       "output_type": "stream",
       "stream": "stdout",
       "text": [
        " 13795\n",
        "15210"
       ]
      },
      {
       "output_type": "stream",
       "stream": "stdout",
       "text": [
        " 13801\n",
        "15220"
       ]
      },
      {
       "output_type": "stream",
       "stream": "stdout",
       "text": [
        " 13810\n",
        "15230"
       ]
      },
      {
       "output_type": "stream",
       "stream": "stdout",
       "text": [
        " 13826\n",
        "15240"
       ]
      },
      {
       "output_type": "stream",
       "stream": "stdout",
       "text": [
        " 13844\n",
        "15250"
       ]
      },
      {
       "output_type": "stream",
       "stream": "stdout",
       "text": [
        " 13876\n",
        "15260"
       ]
      },
      {
       "output_type": "stream",
       "stream": "stdout",
       "text": [
        " 13893\n",
        "15270"
       ]
      },
      {
       "output_type": "stream",
       "stream": "stdout",
       "text": [
        " 13916\n",
        "15280"
       ]
      },
      {
       "output_type": "stream",
       "stream": "stdout",
       "text": [
        " 13926\n",
        "15290"
       ]
      },
      {
       "output_type": "stream",
       "stream": "stdout",
       "text": [
        " 13940\n",
        "15300"
       ]
      },
      {
       "output_type": "stream",
       "stream": "stdout",
       "text": [
        " 13961\n",
        "15310"
       ]
      },
      {
       "output_type": "stream",
       "stream": "stdout",
       "text": [
        " 13980\n",
        "15320"
       ]
      },
      {
       "output_type": "stream",
       "stream": "stdout",
       "text": [
        " 13994\n",
        "15330"
       ]
      },
      {
       "output_type": "stream",
       "stream": "stdout",
       "text": [
        " 14017\n",
        "15340"
       ]
      },
      {
       "output_type": "stream",
       "stream": "stdout",
       "text": [
        " 14031\n",
        "15350"
       ]
      },
      {
       "output_type": "stream",
       "stream": "stdout",
       "text": [
        " 14055\n",
        "15360"
       ]
      },
      {
       "output_type": "stream",
       "stream": "stdout",
       "text": [
        " 14081\n",
        "15370"
       ]
      },
      {
       "output_type": "stream",
       "stream": "stdout",
       "text": [
        " 14104\n",
        "15380"
       ]
      },
      {
       "output_type": "stream",
       "stream": "stdout",
       "text": [
        " 14121\n",
        "15390"
       ]
      },
      {
       "output_type": "stream",
       "stream": "stdout",
       "text": [
        " 14143\n",
        "15400"
       ]
      },
      {
       "output_type": "stream",
       "stream": "stdout",
       "text": [
        " 14170\n",
        "15410"
       ]
      },
      {
       "output_type": "stream",
       "stream": "stdout",
       "text": [
        " 14197\n",
        "15420"
       ]
      },
      {
       "output_type": "stream",
       "stream": "stdout",
       "text": [
        " 14212\n",
        "15430"
       ]
      },
      {
       "output_type": "stream",
       "stream": "stdout",
       "text": [
        " 14235\n",
        "15440"
       ]
      },
      {
       "output_type": "stream",
       "stream": "stdout",
       "text": [
        " 14256\n",
        "15450"
       ]
      },
      {
       "output_type": "stream",
       "stream": "stdout",
       "text": [
        " 14272\n",
        "15460"
       ]
      },
      {
       "output_type": "stream",
       "stream": "stdout",
       "text": [
        " 14294\n",
        "15470"
       ]
      },
      {
       "output_type": "stream",
       "stream": "stdout",
       "text": [
        " 14307\n",
        "15480"
       ]
      },
      {
       "output_type": "stream",
       "stream": "stdout",
       "text": [
        " 14326\n",
        "15490"
       ]
      },
      {
       "output_type": "stream",
       "stream": "stdout",
       "text": [
        " 14340\n",
        "15500"
       ]
      },
      {
       "output_type": "stream",
       "stream": "stdout",
       "text": [
        " 14358\n",
        "15510"
       ]
      },
      {
       "output_type": "stream",
       "stream": "stdout",
       "text": [
        " 14382\n",
        "15520"
       ]
      },
      {
       "output_type": "stream",
       "stream": "stdout",
       "text": [
        " 14399\n",
        "15530"
       ]
      },
      {
       "output_type": "stream",
       "stream": "stdout",
       "text": [
        " 14424\n",
        "15540"
       ]
      },
      {
       "output_type": "stream",
       "stream": "stdout",
       "text": [
        " 14450\n",
        "15550"
       ]
      },
      {
       "output_type": "stream",
       "stream": "stdout",
       "text": [
        " 14472\n",
        "15560"
       ]
      },
      {
       "output_type": "stream",
       "stream": "stdout",
       "text": [
        " 14497\n",
        "15570"
       ]
      },
      {
       "output_type": "stream",
       "stream": "stdout",
       "text": [
        " 14508\n",
        "15580"
       ]
      },
      {
       "output_type": "stream",
       "stream": "stdout",
       "text": [
        " 14527\n",
        "15590"
       ]
      },
      {
       "output_type": "stream",
       "stream": "stdout",
       "text": [
        " 14552\n",
        "15600"
       ]
      },
      {
       "output_type": "stream",
       "stream": "stdout",
       "text": [
        " 14578\n",
        "15610"
       ]
      },
      {
       "output_type": "stream",
       "stream": "stdout",
       "text": [
        " 14604\n",
        "15620"
       ]
      },
      {
       "output_type": "stream",
       "stream": "stdout",
       "text": [
        " 14625\n",
        "15630"
       ]
      },
      {
       "output_type": "stream",
       "stream": "stdout",
       "text": [
        " 14643\n",
        "15640"
       ]
      },
      {
       "output_type": "stream",
       "stream": "stdout",
       "text": [
        " 14671\n",
        "15650"
       ]
      },
      {
       "output_type": "stream",
       "stream": "stdout",
       "text": [
        " 14686\n",
        "15660"
       ]
      },
      {
       "output_type": "stream",
       "stream": "stdout",
       "text": [
        " 14701\n",
        "15670"
       ]
      },
      {
       "output_type": "stream",
       "stream": "stdout",
       "text": [
        " 14718\n",
        "15680"
       ]
      },
      {
       "output_type": "stream",
       "stream": "stdout",
       "text": [
        " 14728\n",
        "15690"
       ]
      },
      {
       "output_type": "stream",
       "stream": "stdout",
       "text": [
        " 14755\n",
        "15700"
       ]
      },
      {
       "output_type": "stream",
       "stream": "stdout",
       "text": [
        " 14772\n",
        "15710"
       ]
      },
      {
       "output_type": "stream",
       "stream": "stdout",
       "text": [
        " 14789\n",
        "15720"
       ]
      },
      {
       "output_type": "stream",
       "stream": "stdout",
       "text": [
        " 14817\n",
        "15730"
       ]
      },
      {
       "output_type": "stream",
       "stream": "stdout",
       "text": [
        " 14832\n",
        "15740"
       ]
      },
      {
       "output_type": "stream",
       "stream": "stdout",
       "text": [
        " 14858\n",
        "15750"
       ]
      },
      {
       "output_type": "stream",
       "stream": "stdout",
       "text": [
        " 14880\n",
        "15760"
       ]
      },
      {
       "output_type": "stream",
       "stream": "stdout",
       "text": [
        " 14896\n",
        "15770"
       ]
      },
      {
       "output_type": "stream",
       "stream": "stdout",
       "text": [
        " 14930\n",
        "15780"
       ]
      },
      {
       "output_type": "stream",
       "stream": "stdout",
       "text": [
        " 14948\n",
        "15790"
       ]
      },
      {
       "output_type": "stream",
       "stream": "stdout",
       "text": [
        " 14963\n",
        "15800"
       ]
      },
      {
       "output_type": "stream",
       "stream": "stdout",
       "text": [
        " 14984\n",
        "15810"
       ]
      },
      {
       "output_type": "stream",
       "stream": "stdout",
       "text": [
        " 14998\n",
        "15820"
       ]
      },
      {
       "output_type": "stream",
       "stream": "stdout",
       "text": [
        " 15022\n",
        "15830"
       ]
      },
      {
       "output_type": "stream",
       "stream": "stdout",
       "text": [
        " 15045\n",
        "15840"
       ]
      },
      {
       "output_type": "stream",
       "stream": "stdout",
       "text": [
        " 15057\n",
        "15850"
       ]
      },
      {
       "output_type": "stream",
       "stream": "stdout",
       "text": [
        " 15078\n",
        "15860"
       ]
      },
      {
       "output_type": "stream",
       "stream": "stdout",
       "text": [
        " 15096\n",
        "15870"
       ]
      },
      {
       "output_type": "stream",
       "stream": "stdout",
       "text": [
        " 15120\n",
        "15880"
       ]
      },
      {
       "output_type": "stream",
       "stream": "stdout",
       "text": [
        " 15144\n",
        "15890"
       ]
      },
      {
       "output_type": "stream",
       "stream": "stdout",
       "text": [
        " 15172\n",
        "15900"
       ]
      },
      {
       "output_type": "stream",
       "stream": "stdout",
       "text": [
        " 15192\n",
        "15910"
       ]
      },
      {
       "output_type": "stream",
       "stream": "stdout",
       "text": [
        " 15220\n",
        "15920"
       ]
      },
      {
       "output_type": "stream",
       "stream": "stdout",
       "text": [
        " 15242\n",
        "15930"
       ]
      },
      {
       "output_type": "stream",
       "stream": "stdout",
       "text": [
        " 15259\n",
        "15940"
       ]
      },
      {
       "output_type": "stream",
       "stream": "stdout",
       "text": [
        " 15285\n",
        "15950"
       ]
      },
      {
       "output_type": "stream",
       "stream": "stdout",
       "text": [
        " 15310\n",
        "15960"
       ]
      },
      {
       "output_type": "stream",
       "stream": "stdout",
       "text": [
        " 15338\n",
        "15970"
       ]
      },
      {
       "output_type": "stream",
       "stream": "stdout",
       "text": [
        " 15362\n",
        "15980"
       ]
      },
      {
       "output_type": "stream",
       "stream": "stdout",
       "text": [
        " 15388\n",
        "15990"
       ]
      },
      {
       "output_type": "stream",
       "stream": "stdout",
       "text": [
        " 15405\n",
        "16000"
       ]
      },
      {
       "output_type": "stream",
       "stream": "stdout",
       "text": [
        " 15429\n",
        "16010"
       ]
      },
      {
       "output_type": "stream",
       "stream": "stdout",
       "text": [
        " 15450\n",
        "16020"
       ]
      },
      {
       "output_type": "stream",
       "stream": "stdout",
       "text": [
        " 15481\n",
        "16030"
       ]
      },
      {
       "output_type": "stream",
       "stream": "stdout",
       "text": [
        " 15505\n",
        "16040"
       ]
      },
      {
       "output_type": "stream",
       "stream": "stdout",
       "text": [
        " 15521\n",
        "16050"
       ]
      },
      {
       "output_type": "stream",
       "stream": "stdout",
       "text": [
        " 15548\n",
        "16060"
       ]
      },
      {
       "output_type": "stream",
       "stream": "stdout",
       "text": [
        " 15577\n",
        "16070"
       ]
      },
      {
       "output_type": "stream",
       "stream": "stdout",
       "text": [
        " 15603\n",
        "16080"
       ]
      },
      {
       "output_type": "stream",
       "stream": "stdout",
       "text": [
        " 15629\n",
        "16090"
       ]
      },
      {
       "output_type": "stream",
       "stream": "stdout",
       "text": [
        " 15650\n",
        "16100"
       ]
      },
      {
       "output_type": "stream",
       "stream": "stdout",
       "text": [
        " 15656\n",
        "16110"
       ]
      },
      {
       "output_type": "stream",
       "stream": "stdout",
       "text": [
        " 15687\n",
        "16120"
       ]
      },
      {
       "output_type": "stream",
       "stream": "stdout",
       "text": [
        " 15709\n",
        "16130"
       ]
      },
      {
       "output_type": "stream",
       "stream": "stdout",
       "text": [
        " 15726\n",
        "16140"
       ]
      },
      {
       "output_type": "stream",
       "stream": "stdout",
       "text": [
        " 15746\n",
        "16150"
       ]
      },
      {
       "output_type": "stream",
       "stream": "stdout",
       "text": [
        " 15765\n",
        "16160"
       ]
      },
      {
       "output_type": "stream",
       "stream": "stdout",
       "text": [
        " 15784\n",
        "16170"
       ]
      },
      {
       "output_type": "stream",
       "stream": "stdout",
       "text": [
        " 15802\n",
        "16180"
       ]
      },
      {
       "output_type": "stream",
       "stream": "stdout",
       "text": [
        " 15829\n",
        "16190"
       ]
      },
      {
       "output_type": "stream",
       "stream": "stdout",
       "text": [
        " 15847\n",
        "16200"
       ]
      },
      {
       "output_type": "stream",
       "stream": "stdout",
       "text": [
        " 15876\n",
        "16210"
       ]
      },
      {
       "output_type": "stream",
       "stream": "stdout",
       "text": [
        " 15901\n",
        "16220"
       ]
      },
      {
       "output_type": "stream",
       "stream": "stdout",
       "text": [
        " 15926\n",
        "16230"
       ]
      },
      {
       "output_type": "stream",
       "stream": "stdout",
       "text": [
        " 15949\n",
        "16240"
       ]
      },
      {
       "output_type": "stream",
       "stream": "stdout",
       "text": [
        " 15962\n",
        "16250"
       ]
      },
      {
       "output_type": "stream",
       "stream": "stdout",
       "text": [
        " 15995\n",
        "16260"
       ]
      },
      {
       "output_type": "stream",
       "stream": "stdout",
       "text": [
        " 16019\n",
        "16270"
       ]
      },
      {
       "output_type": "stream",
       "stream": "stdout",
       "text": [
        " 16044\n",
        "16280"
       ]
      },
      {
       "output_type": "stream",
       "stream": "stdout",
       "text": [
        " 16072\n",
        "16290"
       ]
      },
      {
       "output_type": "stream",
       "stream": "stdout",
       "text": [
        " 16085\n",
        "16300"
       ]
      },
      {
       "output_type": "stream",
       "stream": "stdout",
       "text": [
        " 16111\n",
        "16310"
       ]
      },
      {
       "output_type": "stream",
       "stream": "stdout",
       "text": [
        " 16121\n",
        "16320"
       ]
      },
      {
       "output_type": "stream",
       "stream": "stdout",
       "text": [
        " 16157\n",
        "16330"
       ]
      },
      {
       "output_type": "stream",
       "stream": "stdout",
       "text": [
        " 16178\n",
        "16340"
       ]
      },
      {
       "output_type": "stream",
       "stream": "stdout",
       "text": [
        " 16202\n",
        "16350"
       ]
      },
      {
       "output_type": "stream",
       "stream": "stdout",
       "text": [
        " 16222\n",
        "16360"
       ]
      },
      {
       "output_type": "stream",
       "stream": "stdout",
       "text": [
        " 16241\n",
        "16370"
       ]
      },
      {
       "output_type": "stream",
       "stream": "stdout",
       "text": [
        " 16270\n",
        "16380"
       ]
      },
      {
       "output_type": "stream",
       "stream": "stdout",
       "text": [
        " 16285\n",
        "16390"
       ]
      },
      {
       "output_type": "stream",
       "stream": "stdout",
       "text": [
        " 16311\n",
        "16400"
       ]
      },
      {
       "output_type": "stream",
       "stream": "stdout",
       "text": [
        " 16336\n",
        "16410"
       ]
      },
      {
       "output_type": "stream",
       "stream": "stdout",
       "text": [
        " 16362\n",
        "16420"
       ]
      },
      {
       "output_type": "stream",
       "stream": "stdout",
       "text": [
        " 16379\n",
        "16430"
       ]
      },
      {
       "output_type": "stream",
       "stream": "stdout",
       "text": [
        " 16401\n",
        "16440"
       ]
      },
      {
       "output_type": "stream",
       "stream": "stdout",
       "text": [
        " 16413\n",
        "16450"
       ]
      },
      {
       "output_type": "stream",
       "stream": "stdout",
       "text": [
        " 16443\n",
        "16460"
       ]
      },
      {
       "output_type": "stream",
       "stream": "stdout",
       "text": [
        " 16458\n",
        "16470"
       ]
      },
      {
       "output_type": "stream",
       "stream": "stdout",
       "text": [
        " 16484\n",
        "16480"
       ]
      },
      {
       "output_type": "stream",
       "stream": "stdout",
       "text": [
        " 16503\n",
        "16490"
       ]
      },
      {
       "output_type": "stream",
       "stream": "stdout",
       "text": [
        " 16522\n",
        "16500"
       ]
      },
      {
       "output_type": "stream",
       "stream": "stdout",
       "text": [
        " 16543\n",
        "16510"
       ]
      },
      {
       "output_type": "stream",
       "stream": "stdout",
       "text": [
        " 16566\n",
        "16520"
       ]
      },
      {
       "output_type": "stream",
       "stream": "stdout",
       "text": [
        " 16592\n",
        "16530"
       ]
      },
      {
       "output_type": "stream",
       "stream": "stdout",
       "text": [
        " 16621\n",
        "16540"
       ]
      },
      {
       "output_type": "stream",
       "stream": "stdout",
       "text": [
        " 16636\n",
        "16550"
       ]
      },
      {
       "output_type": "stream",
       "stream": "stdout",
       "text": [
        " 16662\n",
        "16560"
       ]
      },
      {
       "output_type": "stream",
       "stream": "stdout",
       "text": [
        " 16678\n",
        "16570"
       ]
      },
      {
       "output_type": "stream",
       "stream": "stdout",
       "text": [
        " 16696\n",
        "16580"
       ]
      },
      {
       "output_type": "stream",
       "stream": "stdout",
       "text": [
        " 16716\n",
        "16590"
       ]
      },
      {
       "output_type": "stream",
       "stream": "stdout",
       "text": [
        " 16745\n",
        "16600"
       ]
      },
      {
       "output_type": "stream",
       "stream": "stdout",
       "text": [
        " 16762\n",
        "16610"
       ]
      },
      {
       "output_type": "stream",
       "stream": "stdout",
       "text": [
        " 16797\n",
        "16620"
       ]
      },
      {
       "output_type": "stream",
       "stream": "stdout",
       "text": [
        " 16817\n",
        "16630"
       ]
      },
      {
       "output_type": "stream",
       "stream": "stdout",
       "text": [
        " 16844\n",
        "16640"
       ]
      },
      {
       "output_type": "stream",
       "stream": "stdout",
       "text": [
        " 16865\n",
        "16650"
       ]
      },
      {
       "output_type": "stream",
       "stream": "stdout",
       "text": [
        " 16889\n",
        "16660"
       ]
      },
      {
       "output_type": "stream",
       "stream": "stdout",
       "text": [
        " 16906\n",
        "16670"
       ]
      },
      {
       "output_type": "stream",
       "stream": "stdout",
       "text": [
        " 16931\n",
        "16680"
       ]
      },
      {
       "output_type": "stream",
       "stream": "stdout",
       "text": [
        " 16955\n",
        "16690"
       ]
      },
      {
       "output_type": "stream",
       "stream": "stdout",
       "text": [
        " 16987\n",
        "16700"
       ]
      },
      {
       "output_type": "stream",
       "stream": "stdout",
       "text": [
        " 17009\n",
        "16710"
       ]
      },
      {
       "output_type": "stream",
       "stream": "stdout",
       "text": [
        " 17017\n",
        "16720"
       ]
      },
      {
       "output_type": "stream",
       "stream": "stdout",
       "text": [
        " 17038\n",
        "16730"
       ]
      },
      {
       "output_type": "stream",
       "stream": "stdout",
       "text": [
        " 17054\n",
        "16740"
       ]
      },
      {
       "output_type": "stream",
       "stream": "stdout",
       "text": [
        " 17079\n",
        "16750"
       ]
      },
      {
       "output_type": "stream",
       "stream": "stdout",
       "text": [
        " 17097\n",
        "16760"
       ]
      },
      {
       "output_type": "stream",
       "stream": "stdout",
       "text": [
        " 17124\n",
        "16770"
       ]
      },
      {
       "output_type": "stream",
       "stream": "stdout",
       "text": [
        " 17149\n",
        "16780"
       ]
      },
      {
       "output_type": "stream",
       "stream": "stdout",
       "text": [
        " 17186\n",
        "16790"
       ]
      },
      {
       "output_type": "stream",
       "stream": "stdout",
       "text": [
        " 17217\n",
        "16800"
       ]
      },
      {
       "output_type": "stream",
       "stream": "stdout",
       "text": [
        " 17236\n",
        "16810"
       ]
      },
      {
       "output_type": "stream",
       "stream": "stdout",
       "text": [
        " 17253\n",
        "16820"
       ]
      },
      {
       "output_type": "stream",
       "stream": "stdout",
       "text": [
        " 17279\n",
        "16830"
       ]
      },
      {
       "output_type": "stream",
       "stream": "stdout",
       "text": [
        " 17294\n",
        "16840"
       ]
      },
      {
       "output_type": "stream",
       "stream": "stdout",
       "text": [
        " 17336\n",
        "16850"
       ]
      },
      {
       "output_type": "stream",
       "stream": "stdout",
       "text": [
        " 17346\n",
        "16860"
       ]
      },
      {
       "output_type": "stream",
       "stream": "stdout",
       "text": [
        " 17370\n",
        "16870"
       ]
      },
      {
       "output_type": "stream",
       "stream": "stdout",
       "text": [
        " 17394\n",
        "16880"
       ]
      },
      {
       "output_type": "stream",
       "stream": "stdout",
       "text": [
        " 17413\n",
        "16890"
       ]
      },
      {
       "output_type": "stream",
       "stream": "stdout",
       "text": [
        " 17427\n",
        "16900"
       ]
      },
      {
       "output_type": "stream",
       "stream": "stdout",
       "text": [
        " 17460\n",
        "16910"
       ]
      },
      {
       "output_type": "stream",
       "stream": "stdout",
       "text": [
        " 17480\n",
        "16920"
       ]
      },
      {
       "output_type": "stream",
       "stream": "stdout",
       "text": [
        " 17506\n",
        "16930"
       ]
      },
      {
       "output_type": "stream",
       "stream": "stdout",
       "text": [
        " 17527\n",
        "16940"
       ]
      },
      {
       "output_type": "stream",
       "stream": "stdout",
       "text": [
        " 17549\n",
        "16950"
       ]
      },
      {
       "output_type": "stream",
       "stream": "stdout",
       "text": [
        " 17573\n",
        "16960"
       ]
      },
      {
       "output_type": "stream",
       "stream": "stdout",
       "text": [
        " 17598\n",
        "16970"
       ]
      },
      {
       "output_type": "stream",
       "stream": "stdout",
       "text": [
        " 17625\n",
        "16980"
       ]
      },
      {
       "output_type": "stream",
       "stream": "stdout",
       "text": [
        " 17655\n",
        "16990"
       ]
      },
      {
       "output_type": "stream",
       "stream": "stdout",
       "text": [
        " 17688\n",
        "'nextVenues'"
       ]
      },
      {
       "output_type": "stream",
       "stream": "stdout",
       "text": [
        "\n",
        "17000"
       ]
      },
      {
       "output_type": "stream",
       "stream": "stdout",
       "text": [
        " 17703\n",
        "17010"
       ]
      },
      {
       "output_type": "stream",
       "stream": "stdout",
       "text": [
        " 17725\n",
        "17020"
       ]
      },
      {
       "output_type": "stream",
       "stream": "stdout",
       "text": [
        " 17744\n",
        "17030"
       ]
      },
      {
       "output_type": "stream",
       "stream": "stdout",
       "text": [
        " 17775\n",
        "17040"
       ]
      },
      {
       "output_type": "stream",
       "stream": "stdout",
       "text": [
        " 17797\n",
        "17050"
       ]
      },
      {
       "output_type": "stream",
       "stream": "stdout",
       "text": [
        " 17821\n",
        "17060"
       ]
      },
      {
       "output_type": "stream",
       "stream": "stdout",
       "text": [
        " 17844\n",
        "17070"
       ]
      },
      {
       "output_type": "stream",
       "stream": "stdout",
       "text": [
        " 17863\n",
        "17080"
       ]
      },
      {
       "output_type": "stream",
       "stream": "stdout",
       "text": [
        " 17883\n",
        "17090"
       ]
      },
      {
       "output_type": "stream",
       "stream": "stdout",
       "text": [
        " 17917\n",
        "17100"
       ]
      },
      {
       "output_type": "stream",
       "stream": "stdout",
       "text": [
        " 17935\n",
        "17110"
       ]
      },
      {
       "output_type": "stream",
       "stream": "stdout",
       "text": [
        " 17963\n",
        "17120"
       ]
      },
      {
       "output_type": "stream",
       "stream": "stdout",
       "text": [
        " 17983\n",
        "17130"
       ]
      },
      {
       "output_type": "stream",
       "stream": "stdout",
       "text": [
        " 18005\n",
        "17140"
       ]
      },
      {
       "output_type": "stream",
       "stream": "stdout",
       "text": [
        " 18031\n",
        "17150"
       ]
      },
      {
       "output_type": "stream",
       "stream": "stdout",
       "text": [
        " 18056\n",
        "17160"
       ]
      },
      {
       "output_type": "stream",
       "stream": "stdout",
       "text": [
        " 18085\n",
        "17170"
       ]
      },
      {
       "output_type": "stream",
       "stream": "stdout",
       "text": [
        " 18123\n",
        "17180"
       ]
      },
      {
       "output_type": "stream",
       "stream": "stdout",
       "text": [
        " 18141\n",
        "17190"
       ]
      },
      {
       "output_type": "stream",
       "stream": "stdout",
       "text": [
        " 18167\n",
        "17200"
       ]
      },
      {
       "output_type": "stream",
       "stream": "stdout",
       "text": [
        " 18184\n",
        "17210"
       ]
      },
      {
       "output_type": "stream",
       "stream": "stdout",
       "text": [
        " 18210\n",
        "17220"
       ]
      },
      {
       "output_type": "stream",
       "stream": "stdout",
       "text": [
        " 18235\n",
        "17230"
       ]
      },
      {
       "output_type": "stream",
       "stream": "stdout",
       "text": [
        " 18262\n",
        "17240"
       ]
      },
      {
       "output_type": "stream",
       "stream": "stdout",
       "text": [
        " 18303\n",
        "17250"
       ]
      },
      {
       "output_type": "stream",
       "stream": "stdout",
       "text": [
        " 18335\n",
        "17260"
       ]
      },
      {
       "output_type": "stream",
       "stream": "stdout",
       "text": [
        " 18366\n",
        "17270"
       ]
      },
      {
       "output_type": "stream",
       "stream": "stdout",
       "text": [
        " 18385\n",
        "17280"
       ]
      },
      {
       "output_type": "stream",
       "stream": "stdout",
       "text": [
        " 18400\n",
        "17290"
       ]
      },
      {
       "output_type": "stream",
       "stream": "stdout",
       "text": [
        " 18429\n",
        "17300"
       ]
      },
      {
       "output_type": "stream",
       "stream": "stdout",
       "text": [
        " 18452\n",
        "17310"
       ]
      },
      {
       "output_type": "stream",
       "stream": "stdout",
       "text": [
        " 18491\n",
        "17320"
       ]
      },
      {
       "output_type": "stream",
       "stream": "stdout",
       "text": [
        " 18517\n",
        "17330"
       ]
      },
      {
       "output_type": "stream",
       "stream": "stdout",
       "text": [
        " 18543\n",
        "17340"
       ]
      },
      {
       "output_type": "stream",
       "stream": "stdout",
       "text": [
        " 18564\n",
        "17350"
       ]
      },
      {
       "output_type": "stream",
       "stream": "stdout",
       "text": [
        " 18594\n",
        "17360"
       ]
      },
      {
       "output_type": "stream",
       "stream": "stdout",
       "text": [
        " 18608\n",
        "17370"
       ]
      },
      {
       "output_type": "stream",
       "stream": "stdout",
       "text": [
        " 18632\n",
        "17380"
       ]
      },
      {
       "output_type": "stream",
       "stream": "stdout",
       "text": [
        " 18653\n",
        "17390"
       ]
      },
      {
       "output_type": "stream",
       "stream": "stdout",
       "text": [
        " 18682\n",
        "17400"
       ]
      },
      {
       "output_type": "stream",
       "stream": "stdout",
       "text": [
        " 18714\n",
        "17410"
       ]
      },
      {
       "output_type": "stream",
       "stream": "stdout",
       "text": [
        " 18753\n",
        "17420"
       ]
      },
      {
       "output_type": "stream",
       "stream": "stdout",
       "text": [
        " 18782\n",
        "17430"
       ]
      },
      {
       "output_type": "stream",
       "stream": "stdout",
       "text": [
        " 18796\n",
        "17440"
       ]
      },
      {
       "output_type": "stream",
       "stream": "stdout",
       "text": [
        " 18821\n",
        "17450"
       ]
      },
      {
       "output_type": "stream",
       "stream": "stdout",
       "text": [
        " 18833\n",
        "17460"
       ]
      },
      {
       "output_type": "stream",
       "stream": "stdout",
       "text": [
        " 18864\n",
        "17470"
       ]
      },
      {
       "output_type": "stream",
       "stream": "stdout",
       "text": [
        " 18885\n",
        "17480"
       ]
      },
      {
       "output_type": "stream",
       "stream": "stdout",
       "text": [
        " 18908\n",
        "17490"
       ]
      },
      {
       "output_type": "stream",
       "stream": "stdout",
       "text": [
        " 18936\n",
        "17500"
       ]
      },
      {
       "output_type": "stream",
       "stream": "stdout",
       "text": [
        " 18973\n",
        "17510"
       ]
      },
      {
       "output_type": "stream",
       "stream": "stdout",
       "text": [
        " 19006\n",
        "17520"
       ]
      },
      {
       "output_type": "stream",
       "stream": "stdout",
       "text": [
        " 19022\n",
        "17530"
       ]
      },
      {
       "output_type": "stream",
       "stream": "stdout",
       "text": [
        " 19043\n",
        "17540"
       ]
      },
      {
       "output_type": "stream",
       "stream": "stdout",
       "text": [
        " 19077\n",
        "17550"
       ]
      },
      {
       "output_type": "stream",
       "stream": "stdout",
       "text": [
        " 19109\n",
        "17560"
       ]
      },
      {
       "output_type": "stream",
       "stream": "stdout",
       "text": [
        " 19130\n",
        "17570"
       ]
      },
      {
       "output_type": "stream",
       "stream": "stdout",
       "text": [
        " 19163\n",
        "17580"
       ]
      },
      {
       "output_type": "stream",
       "stream": "stdout",
       "text": [
        " 19188\n",
        "17590"
       ]
      },
      {
       "output_type": "stream",
       "stream": "stdout",
       "text": [
        " 19228\n",
        "17600"
       ]
      },
      {
       "output_type": "stream",
       "stream": "stdout",
       "text": [
        " 19246\n",
        "17610"
       ]
      },
      {
       "output_type": "stream",
       "stream": "stdout",
       "text": [
        " 19265\n",
        "17620"
       ]
      },
      {
       "output_type": "stream",
       "stream": "stdout",
       "text": [
        " 19287\n",
        "17630"
       ]
      },
      {
       "output_type": "stream",
       "stream": "stdout",
       "text": [
        " 19313\n",
        "17640"
       ]
      },
      {
       "output_type": "stream",
       "stream": "stdout",
       "text": [
        " 19338\n",
        "17650"
       ]
      },
      {
       "output_type": "stream",
       "stream": "stdout",
       "text": [
        " 19359\n",
        "17660"
       ]
      },
      {
       "output_type": "stream",
       "stream": "stdout",
       "text": [
        " 19393\n",
        "17670"
       ]
      },
      {
       "output_type": "stream",
       "stream": "stdout",
       "text": [
        " 19424\n",
        "17680"
       ]
      },
      {
       "output_type": "stream",
       "stream": "stdout",
       "text": [
        " 19467\n",
        "17690"
       ]
      },
      {
       "output_type": "stream",
       "stream": "stdout",
       "text": [
        " 19501\n",
        "17700"
       ]
      },
      {
       "output_type": "stream",
       "stream": "stdout",
       "text": [
        " 19527\n",
        "17710"
       ]
      },
      {
       "output_type": "stream",
       "stream": "stdout",
       "text": [
        " 19557\n",
        "17720"
       ]
      },
      {
       "output_type": "stream",
       "stream": "stdout",
       "text": [
        " 19586\n",
        "17730"
       ]
      },
      {
       "output_type": "stream",
       "stream": "stdout",
       "text": [
        " 19617\n",
        "17740"
       ]
      },
      {
       "output_type": "stream",
       "stream": "stdout",
       "text": [
        " 19652\n",
        "17750"
       ]
      },
      {
       "output_type": "stream",
       "stream": "stdout",
       "text": [
        " 19690\n",
        "17760"
       ]
      },
      {
       "output_type": "stream",
       "stream": "stdout",
       "text": [
        " 19716\n",
        "17770"
       ]
      },
      {
       "output_type": "stream",
       "stream": "stdout",
       "text": [
        " 19739\n",
        "17780"
       ]
      },
      {
       "output_type": "stream",
       "stream": "stdout",
       "text": [
        " 19755\n",
        "17790"
       ]
      },
      {
       "output_type": "stream",
       "stream": "stdout",
       "text": [
        " 19787\n",
        "17800"
       ]
      },
      {
       "output_type": "stream",
       "stream": "stdout",
       "text": [
        " 19816\n",
        "17810"
       ]
      },
      {
       "output_type": "stream",
       "stream": "stdout",
       "text": [
        " 19860\n",
        "17820"
       ]
      },
      {
       "output_type": "stream",
       "stream": "stdout",
       "text": [
        " 19897\n",
        "17830"
       ]
      },
      {
       "output_type": "stream",
       "stream": "stdout",
       "text": [
        " 19911\n",
        "17840"
       ]
      },
      {
       "output_type": "stream",
       "stream": "stdout",
       "text": [
        " 19938\n",
        "17850"
       ]
      },
      {
       "output_type": "stream",
       "stream": "stdout",
       "text": [
        " 19966\n",
        "17860"
       ]
      },
      {
       "output_type": "stream",
       "stream": "stdout",
       "text": [
        " 20000\n",
        "17870"
       ]
      },
      {
       "output_type": "stream",
       "stream": "stdout",
       "text": [
        " 20026\n",
        "17880"
       ]
      },
      {
       "output_type": "stream",
       "stream": "stdout",
       "text": [
        " 20043\n",
        "17890"
       ]
      },
      {
       "output_type": "stream",
       "stream": "stdout",
       "text": [
        " 20081\n",
        "17900"
       ]
      },
      {
       "output_type": "stream",
       "stream": "stdout",
       "text": [
        " 20100\n",
        "17910"
       ]
      },
      {
       "output_type": "stream",
       "stream": "stdout",
       "text": [
        " 20120\n",
        "17920"
       ]
      },
      {
       "output_type": "stream",
       "stream": "stdout",
       "text": [
        " 20157\n",
        "17930"
       ]
      },
      {
       "output_type": "stream",
       "stream": "stdout",
       "text": [
        " 20195\n",
        "17940"
       ]
      },
      {
       "output_type": "stream",
       "stream": "stdout",
       "text": [
        " 20233\n",
        "17950"
       ]
      },
      {
       "output_type": "stream",
       "stream": "stdout",
       "text": [
        " 20262\n",
        "17960"
       ]
      },
      {
       "output_type": "stream",
       "stream": "stdout",
       "text": [
        " 20286\n",
        "17970"
       ]
      },
      {
       "output_type": "stream",
       "stream": "stdout",
       "text": [
        " 20316\n",
        "17980"
       ]
      },
      {
       "output_type": "stream",
       "stream": "stdout",
       "text": [
        " 20343\n",
        "17990"
       ]
      },
      {
       "output_type": "stream",
       "stream": "stdout",
       "text": [
        " 20372\n",
        "18000"
       ]
      },
      {
       "output_type": "stream",
       "stream": "stdout",
       "text": [
        " 20406\n",
        "18010"
       ]
      },
      {
       "output_type": "stream",
       "stream": "stdout",
       "text": [
        " 20428\n",
        "18020"
       ]
      },
      {
       "output_type": "stream",
       "stream": "stdout",
       "text": [
        " 20461\n",
        "18030"
       ]
      },
      {
       "output_type": "stream",
       "stream": "stdout",
       "text": [
        " 20505\n",
        "18040"
       ]
      },
      {
       "output_type": "stream",
       "stream": "stdout",
       "text": [
        " 20537\n",
        "18050"
       ]
      },
      {
       "output_type": "stream",
       "stream": "stdout",
       "text": [
        " 20562\n",
        "18060"
       ]
      },
      {
       "output_type": "stream",
       "stream": "stdout",
       "text": [
        " 20592\n",
        "18070"
       ]
      },
      {
       "output_type": "stream",
       "stream": "stdout",
       "text": [
        " 20618\n",
        "18080"
       ]
      },
      {
       "output_type": "stream",
       "stream": "stdout",
       "text": [
        " 20644\n",
        "18090"
       ]
      },
      {
       "output_type": "stream",
       "stream": "stdout",
       "text": [
        " 20675\n",
        "18100"
       ]
      },
      {
       "output_type": "stream",
       "stream": "stdout",
       "text": [
        " 20715\n",
        "18110"
       ]
      },
      {
       "output_type": "stream",
       "stream": "stdout",
       "text": [
        " 20740\n",
        "18120"
       ]
      },
      {
       "output_type": "stream",
       "stream": "stdout",
       "text": [
        " 20770\n",
        "18130"
       ]
      },
      {
       "output_type": "stream",
       "stream": "stdout",
       "text": [
        " 20786\n",
        "18140"
       ]
      },
      {
       "output_type": "stream",
       "stream": "stdout",
       "text": [
        " 20817\n",
        "18150"
       ]
      },
      {
       "output_type": "stream",
       "stream": "stdout",
       "text": [
        " 20834\n",
        "18160"
       ]
      },
      {
       "output_type": "stream",
       "stream": "stdout",
       "text": [
        " 20862\n",
        "18170"
       ]
      },
      {
       "output_type": "stream",
       "stream": "stdout",
       "text": [
        " 20897\n",
        "18180"
       ]
      },
      {
       "output_type": "stream",
       "stream": "stdout",
       "text": [
        " 20918\n",
        "18190"
       ]
      },
      {
       "output_type": "stream",
       "stream": "stdout",
       "text": [
        " 20945\n",
        "18200"
       ]
      },
      {
       "output_type": "stream",
       "stream": "stdout",
       "text": [
        " 20976\n",
        "18210"
       ]
      },
      {
       "output_type": "stream",
       "stream": "stdout",
       "text": [
        " 21005\n",
        "18220"
       ]
      },
      {
       "output_type": "stream",
       "stream": "stdout",
       "text": [
        " 21028\n",
        "18230"
       ]
      },
      {
       "output_type": "stream",
       "stream": "stdout",
       "text": [
        " 21067\n",
        "18240"
       ]
      },
      {
       "output_type": "stream",
       "stream": "stdout",
       "text": [
        " 21083\n",
        "18250"
       ]
      },
      {
       "output_type": "stream",
       "stream": "stdout",
       "text": [
        " 21102\n",
        "18260"
       ]
      },
      {
       "output_type": "stream",
       "stream": "stdout",
       "text": [
        " 21140\n",
        "18270"
       ]
      },
      {
       "output_type": "stream",
       "stream": "stdout",
       "text": [
        " 21168\n",
        "18280"
       ]
      },
      {
       "output_type": "stream",
       "stream": "stdout",
       "text": [
        " 21199\n",
        "18290"
       ]
      },
      {
       "output_type": "stream",
       "stream": "stdout",
       "text": [
        " 21232\n",
        "18300"
       ]
      },
      {
       "output_type": "stream",
       "stream": "stdout",
       "text": [
        " 21260\n",
        "18310"
       ]
      },
      {
       "output_type": "stream",
       "stream": "stdout",
       "text": [
        " 21295\n",
        "18320"
       ]
      },
      {
       "output_type": "stream",
       "stream": "stdout",
       "text": [
        " 21326\n",
        "18330"
       ]
      },
      {
       "output_type": "stream",
       "stream": "stdout",
       "text": [
        " 21353\n",
        "18340"
       ]
      },
      {
       "output_type": "stream",
       "stream": "stdout",
       "text": [
        " 21389\n",
        "18350"
       ]
      },
      {
       "output_type": "stream",
       "stream": "stdout",
       "text": [
        " 21420\n",
        "18360"
       ]
      },
      {
       "output_type": "stream",
       "stream": "stdout",
       "text": [
        " 21454\n",
        "18370"
       ]
      },
      {
       "output_type": "stream",
       "stream": "stdout",
       "text": [
        " 21483\n",
        "18380"
       ]
      },
      {
       "output_type": "stream",
       "stream": "stdout",
       "text": [
        " 21514\n",
        "18390"
       ]
      },
      {
       "output_type": "stream",
       "stream": "stdout",
       "text": [
        " 21539\n",
        "18400"
       ]
      },
      {
       "output_type": "stream",
       "stream": "stdout",
       "text": [
        " 21576\n",
        "18410"
       ]
      },
      {
       "output_type": "stream",
       "stream": "stdout",
       "text": [
        " 21607\n",
        "18420"
       ]
      },
      {
       "output_type": "stream",
       "stream": "stdout",
       "text": [
        " 21629\n",
        "18430"
       ]
      },
      {
       "output_type": "stream",
       "stream": "stdout",
       "text": [
        " 21665\n",
        "18440"
       ]
      },
      {
       "output_type": "stream",
       "stream": "stdout",
       "text": [
        " 21702\n",
        "18450"
       ]
      },
      {
       "output_type": "stream",
       "stream": "stdout",
       "text": [
        " 21732\n",
        "18460"
       ]
      },
      {
       "output_type": "stream",
       "stream": "stdout",
       "text": [
        " 21766\n",
        "18470"
       ]
      },
      {
       "output_type": "stream",
       "stream": "stdout",
       "text": [
        " 21802\n",
        "18480"
       ]
      },
      {
       "output_type": "stream",
       "stream": "stdout",
       "text": [
        " 21835\n",
        "18490"
       ]
      },
      {
       "output_type": "stream",
       "stream": "stdout",
       "text": [
        " 21876\n",
        "18500"
       ]
      },
      {
       "output_type": "stream",
       "stream": "stdout",
       "text": [
        " 21910\n",
        "18510"
       ]
      },
      {
       "output_type": "stream",
       "stream": "stdout",
       "text": [
        " 21941\n",
        "18520"
       ]
      },
      {
       "output_type": "stream",
       "stream": "stdout",
       "text": [
        " 21971\n",
        "18530"
       ]
      },
      {
       "output_type": "stream",
       "stream": "stdout",
       "text": [
        " 22008\n",
        "18540"
       ]
      },
      {
       "output_type": "stream",
       "stream": "stdout",
       "text": [
        " 22042\n",
        "18550"
       ]
      },
      {
       "output_type": "stream",
       "stream": "stdout",
       "text": [
        " 22066\n",
        "18560"
       ]
      },
      {
       "output_type": "stream",
       "stream": "stdout",
       "text": [
        " 22095\n",
        "18570"
       ]
      },
      {
       "output_type": "stream",
       "stream": "stdout",
       "text": [
        " 22120\n",
        "18580"
       ]
      },
      {
       "output_type": "stream",
       "stream": "stdout",
       "text": [
        " 22152\n",
        "18590"
       ]
      },
      {
       "output_type": "stream",
       "stream": "stdout",
       "text": [
        " 22189\n",
        "18600"
       ]
      },
      {
       "output_type": "stream",
       "stream": "stdout",
       "text": [
        " 22225\n",
        "18610"
       ]
      },
      {
       "output_type": "stream",
       "stream": "stdout",
       "text": [
        " 22254\n",
        "18620"
       ]
      },
      {
       "output_type": "stream",
       "stream": "stdout",
       "text": [
        " 22295\n",
        "18630"
       ]
      },
      {
       "output_type": "stream",
       "stream": "stdout",
       "text": [
        " 22329\n",
        "18640"
       ]
      },
      {
       "output_type": "stream",
       "stream": "stdout",
       "text": [
        " 22365\n",
        "18650"
       ]
      },
      {
       "output_type": "stream",
       "stream": "stdout",
       "text": [
        " 22407\n",
        "18660"
       ]
      },
      {
       "output_type": "stream",
       "stream": "stdout",
       "text": [
        " 22435\n",
        "18670"
       ]
      },
      {
       "output_type": "stream",
       "stream": "stdout",
       "text": [
        " 22465\n",
        "18680"
       ]
      },
      {
       "output_type": "stream",
       "stream": "stdout",
       "text": [
        " 22496\n",
        "18690"
       ]
      },
      {
       "output_type": "stream",
       "stream": "stdout",
       "text": [
        " 22533\n",
        "18700"
       ]
      },
      {
       "output_type": "stream",
       "stream": "stdout",
       "text": [
        " 22567\n",
        "18710"
       ]
      },
      {
       "output_type": "stream",
       "stream": "stdout",
       "text": [
        " 22600\n",
        "18720"
       ]
      },
      {
       "output_type": "stream",
       "stream": "stdout",
       "text": [
        " 22633\n",
        "18730"
       ]
      },
      {
       "output_type": "stream",
       "stream": "stdout",
       "text": [
        " 22662\n",
        "18740"
       ]
      },
      {
       "output_type": "stream",
       "stream": "stdout",
       "text": [
        " 22694\n",
        "18750"
       ]
      },
      {
       "output_type": "stream",
       "stream": "stdout",
       "text": [
        " 22726\n",
        "18760"
       ]
      },
      {
       "output_type": "stream",
       "stream": "stdout",
       "text": [
        " 22769\n",
        "18770"
       ]
      },
      {
       "output_type": "stream",
       "stream": "stdout",
       "text": [
        " 22803\n",
        "18780"
       ]
      },
      {
       "output_type": "stream",
       "stream": "stdout",
       "text": [
        " 22844\n",
        "18790"
       ]
      },
      {
       "output_type": "stream",
       "stream": "stdout",
       "text": [
        " 22884\n",
        "18800"
       ]
      },
      {
       "output_type": "stream",
       "stream": "stdout",
       "text": [
        " 22913\n",
        "18810"
       ]
      },
      {
       "output_type": "stream",
       "stream": "stdout",
       "text": [
        " 22959\n",
        "18820"
       ]
      },
      {
       "output_type": "stream",
       "stream": "stdout",
       "text": [
        " 22999\n",
        "18830"
       ]
      },
      {
       "output_type": "stream",
       "stream": "stdout",
       "text": [
        " 23028\n",
        "18840"
       ]
      },
      {
       "output_type": "stream",
       "stream": "stdout",
       "text": [
        " 23071\n",
        "18850"
       ]
      },
      {
       "output_type": "stream",
       "stream": "stdout",
       "text": [
        " 23109\n",
        "18860"
       ]
      },
      {
       "output_type": "stream",
       "stream": "stdout",
       "text": [
        " 23145\n",
        "18870"
       ]
      },
      {
       "output_type": "stream",
       "stream": "stdout",
       "text": [
        " 23183\n",
        "18880"
       ]
      },
      {
       "output_type": "stream",
       "stream": "stdout",
       "text": [
        " 23217\n",
        "18890"
       ]
      },
      {
       "output_type": "stream",
       "stream": "stdout",
       "text": [
        " 23246\n",
        "18900"
       ]
      },
      {
       "output_type": "stream",
       "stream": "stdout",
       "text": [
        " 23279\n",
        "18910"
       ]
      },
      {
       "output_type": "stream",
       "stream": "stdout",
       "text": [
        " 23318\n",
        "18920"
       ]
      },
      {
       "output_type": "stream",
       "stream": "stdout",
       "text": [
        " 23356\n",
        "18930"
       ]
      },
      {
       "output_type": "stream",
       "stream": "stdout",
       "text": [
        " 23384\n",
        "18940"
       ]
      },
      {
       "output_type": "stream",
       "stream": "stdout",
       "text": [
        " 23416\n",
        "18950"
       ]
      },
      {
       "output_type": "stream",
       "stream": "stdout",
       "text": [
        " 23461\n",
        "18960"
       ]
      },
      {
       "output_type": "stream",
       "stream": "stdout",
       "text": [
        " 23483\n",
        "18970"
       ]
      },
      {
       "output_type": "stream",
       "stream": "stdout",
       "text": [
        " 23521\n",
        "18980"
       ]
      },
      {
       "output_type": "stream",
       "stream": "stdout",
       "text": [
        " 23561\n",
        "18990"
       ]
      },
      {
       "output_type": "stream",
       "stream": "stdout",
       "text": [
        " 23604\n",
        "19000"
       ]
      },
      {
       "output_type": "stream",
       "stream": "stdout",
       "text": [
        " 23638\n",
        "19010"
       ]
      },
      {
       "output_type": "stream",
       "stream": "stdout",
       "text": [
        " 23669\n",
        "19020"
       ]
      },
      {
       "output_type": "stream",
       "stream": "stdout",
       "text": [
        " 23706\n",
        "19030"
       ]
      },
      {
       "output_type": "stream",
       "stream": "stdout",
       "text": [
        " 23740\n",
        "19040"
       ]
      },
      {
       "output_type": "stream",
       "stream": "stdout",
       "text": [
        " 23779\n",
        "19050"
       ]
      },
      {
       "output_type": "stream",
       "stream": "stdout",
       "text": [
        " 23819\n",
        "19060"
       ]
      },
      {
       "output_type": "stream",
       "stream": "stdout",
       "text": [
        " 23854\n",
        "19070"
       ]
      },
      {
       "output_type": "stream",
       "stream": "stdout",
       "text": [
        " 23886\n",
        "19080"
       ]
      },
      {
       "output_type": "stream",
       "stream": "stdout",
       "text": [
        " 23924\n",
        "19090"
       ]
      },
      {
       "output_type": "stream",
       "stream": "stdout",
       "text": [
        " 23962\n",
        "19100"
       ]
      },
      {
       "output_type": "stream",
       "stream": "stdout",
       "text": [
        " 24004\n",
        "19110"
       ]
      },
      {
       "output_type": "stream",
       "stream": "stdout",
       "text": [
        " 24046\n",
        "19120"
       ]
      },
      {
       "output_type": "stream",
       "stream": "stdout",
       "text": [
        " 24072\n",
        "19130"
       ]
      },
      {
       "output_type": "stream",
       "stream": "stdout",
       "text": [
        " 24103\n",
        "19140"
       ]
      },
      {
       "output_type": "stream",
       "stream": "stdout",
       "text": [
        " 24136\n",
        "19150"
       ]
      },
      {
       "output_type": "stream",
       "stream": "stdout",
       "text": [
        " 24168\n",
        "19160"
       ]
      },
      {
       "output_type": "stream",
       "stream": "stdout",
       "text": [
        " 24206\n",
        "19170"
       ]
      },
      {
       "output_type": "stream",
       "stream": "stdout",
       "text": [
        " 24241\n",
        "19180"
       ]
      },
      {
       "output_type": "stream",
       "stream": "stdout",
       "text": [
        " 24273\n",
        "19190"
       ]
      },
      {
       "output_type": "stream",
       "stream": "stdout",
       "text": [
        " 24308\n",
        "19200"
       ]
      },
      {
       "output_type": "stream",
       "stream": "stdout",
       "text": [
        " 24348\n",
        "19210"
       ]
      },
      {
       "output_type": "stream",
       "stream": "stdout",
       "text": [
        " 24383\n",
        "19220"
       ]
      },
      {
       "output_type": "stream",
       "stream": "stdout",
       "text": [
        " 24430\n",
        "19230"
       ]
      },
      {
       "output_type": "stream",
       "stream": "stdout",
       "text": [
        " 24465\n",
        "19240"
       ]
      },
      {
       "output_type": "stream",
       "stream": "stdout",
       "text": [
        " 24506\n",
        "19250"
       ]
      },
      {
       "output_type": "stream",
       "stream": "stdout",
       "text": [
        " 24543\n",
        "19260"
       ]
      },
      {
       "output_type": "stream",
       "stream": "stdout",
       "text": [
        " 24578\n",
        "19270"
       ]
      },
      {
       "output_type": "stream",
       "stream": "stdout",
       "text": [
        " 24614\n",
        "19280"
       ]
      },
      {
       "output_type": "stream",
       "stream": "stdout",
       "text": [
        " 24652\n",
        "19290"
       ]
      },
      {
       "output_type": "stream",
       "stream": "stdout",
       "text": [
        " 24695\n",
        "19300"
       ]
      },
      {
       "output_type": "stream",
       "stream": "stdout",
       "text": [
        " 24725\n",
        "19310"
       ]
      },
      {
       "output_type": "stream",
       "stream": "stdout",
       "text": [
        " 24764\n",
        "19320"
       ]
      },
      {
       "output_type": "stream",
       "stream": "stdout",
       "text": [
        " 24806\n",
        "19330"
       ]
      },
      {
       "output_type": "stream",
       "stream": "stdout",
       "text": [
        " 24842\n",
        "19340"
       ]
      },
      {
       "output_type": "stream",
       "stream": "stdout",
       "text": [
        " 24876\n",
        "19350"
       ]
      },
      {
       "output_type": "stream",
       "stream": "stdout",
       "text": [
        " 24912\n",
        "19360"
       ]
      },
      {
       "output_type": "stream",
       "stream": "stdout",
       "text": [
        " 24954\n",
        "19370"
       ]
      },
      {
       "output_type": "stream",
       "stream": "stdout",
       "text": [
        " 24990\n",
        "19380"
       ]
      },
      {
       "output_type": "stream",
       "stream": "stdout",
       "text": [
        " 25034\n",
        "19390"
       ]
      },
      {
       "output_type": "stream",
       "stream": "stdout",
       "text": [
        " 25073\n",
        "19400"
       ]
      },
      {
       "output_type": "stream",
       "stream": "stdout",
       "text": [
        " 25116\n",
        "19410"
       ]
      },
      {
       "output_type": "stream",
       "stream": "stdout",
       "text": [
        " 25154\n",
        "19420"
       ]
      },
      {
       "output_type": "stream",
       "stream": "stdout",
       "text": [
        " 25180\n",
        "19430"
       ]
      },
      {
       "output_type": "stream",
       "stream": "stdout",
       "text": [
        " 25218\n",
        "19440"
       ]
      },
      {
       "output_type": "stream",
       "stream": "stdout",
       "text": [
        " 25259\n",
        "19450"
       ]
      },
      {
       "output_type": "stream",
       "stream": "stdout",
       "text": [
        " 25296\n",
        "19460"
       ]
      },
      {
       "output_type": "stream",
       "stream": "stdout",
       "text": [
        " 25339\n",
        "19470"
       ]
      },
      {
       "output_type": "stream",
       "stream": "stdout",
       "text": [
        " 25373\n",
        "19480"
       ]
      },
      {
       "output_type": "stream",
       "stream": "stdout",
       "text": [
        " 25404\n",
        "19490"
       ]
      },
      {
       "output_type": "stream",
       "stream": "stdout",
       "text": [
        " 25448\n",
        "19500"
       ]
      },
      {
       "output_type": "stream",
       "stream": "stdout",
       "text": [
        " 25485\n",
        "19510"
       ]
      },
      {
       "output_type": "stream",
       "stream": "stdout",
       "text": [
        " 25533\n",
        "19520"
       ]
      },
      {
       "output_type": "stream",
       "stream": "stdout",
       "text": [
        " 25571\n",
        "19530"
       ]
      },
      {
       "output_type": "stream",
       "stream": "stdout",
       "text": [
        " 25616\n",
        "19540"
       ]
      },
      {
       "output_type": "stream",
       "stream": "stdout",
       "text": [
        " 25659\n",
        "19550"
       ]
      },
      {
       "output_type": "stream",
       "stream": "stdout",
       "text": [
        " 25695\n",
        "19560"
       ]
      },
      {
       "output_type": "stream",
       "stream": "stdout",
       "text": [
        " 25731\n",
        "19570"
       ]
      },
      {
       "output_type": "stream",
       "stream": "stdout",
       "text": [
        " 25766\n",
        "19580"
       ]
      },
      {
       "output_type": "stream",
       "stream": "stdout",
       "text": [
        " 25803\n",
        "19590"
       ]
      },
      {
       "output_type": "stream",
       "stream": "stdout",
       "text": [
        " 25846\n",
        "19600"
       ]
      },
      {
       "output_type": "stream",
       "stream": "stdout",
       "text": [
        " 25892\n",
        "19610"
       ]
      },
      {
       "output_type": "stream",
       "stream": "stdout",
       "text": [
        " 25927\n",
        "19620"
       ]
      },
      {
       "output_type": "stream",
       "stream": "stdout",
       "text": [
        " 25975\n",
        "19630"
       ]
      },
      {
       "output_type": "stream",
       "stream": "stdout",
       "text": [
        " 26010\n",
        "19640"
       ]
      },
      {
       "output_type": "stream",
       "stream": "stdout",
       "text": [
        " 26051\n",
        "19650"
       ]
      },
      {
       "output_type": "stream",
       "stream": "stdout",
       "text": [
        " 26093\n",
        "19660"
       ]
      },
      {
       "output_type": "stream",
       "stream": "stdout",
       "text": [
        " 26135\n",
        "19670"
       ]
      },
      {
       "output_type": "stream",
       "stream": "stdout",
       "text": [
        " 26169\n",
        "19680"
       ]
      },
      {
       "output_type": "stream",
       "stream": "stdout",
       "text": [
        " 26204\n",
        "19690"
       ]
      },
      {
       "output_type": "stream",
       "stream": "stdout",
       "text": [
        " 26248\n",
        "19700"
       ]
      },
      {
       "output_type": "stream",
       "stream": "stdout",
       "text": [
        " 26283\n",
        "19710"
       ]
      },
      {
       "output_type": "stream",
       "stream": "stdout",
       "text": [
        " 26318\n",
        "19720"
       ]
      },
      {
       "output_type": "stream",
       "stream": "stdout",
       "text": [
        " 26360\n",
        "19730"
       ]
      },
      {
       "output_type": "stream",
       "stream": "stdout",
       "text": [
        " 26404\n",
        "19740"
       ]
      },
      {
       "output_type": "stream",
       "stream": "stdout",
       "text": [
        " 26446\n",
        "19750"
       ]
      },
      {
       "output_type": "stream",
       "stream": "stdout",
       "text": [
        " 26491\n",
        "19760"
       ]
      },
      {
       "output_type": "stream",
       "stream": "stdout",
       "text": [
        " 26531\n",
        "19770"
       ]
      },
      {
       "output_type": "stream",
       "stream": "stdout",
       "text": [
        " 26569\n",
        "19780"
       ]
      },
      {
       "output_type": "stream",
       "stream": "stdout",
       "text": [
        " 26608\n",
        "19790"
       ]
      },
      {
       "output_type": "stream",
       "stream": "stdout",
       "text": [
        " 26652\n",
        "19800"
       ]
      },
      {
       "output_type": "stream",
       "stream": "stdout",
       "text": [
        " 26691\n",
        "19810"
       ]
      },
      {
       "output_type": "stream",
       "stream": "stdout",
       "text": [
        " 26729\n",
        "19820"
       ]
      },
      {
       "output_type": "stream",
       "stream": "stdout",
       "text": [
        " 26775\n",
        "19830"
       ]
      },
      {
       "output_type": "stream",
       "stream": "stdout",
       "text": [
        " 26810\n",
        "19840"
       ]
      },
      {
       "output_type": "stream",
       "stream": "stdout",
       "text": [
        " 26853\n",
        "19850"
       ]
      },
      {
       "output_type": "stream",
       "stream": "stdout",
       "text": [
        " 26895\n",
        "19860"
       ]
      },
      {
       "output_type": "stream",
       "stream": "stdout",
       "text": [
        " 26942\n",
        "19870"
       ]
      },
      {
       "output_type": "stream",
       "stream": "stdout",
       "text": [
        " 26988\n",
        "19880"
       ]
      },
      {
       "output_type": "stream",
       "stream": "stdout",
       "text": [
        " 27029\n",
        "19890"
       ]
      },
      {
       "output_type": "stream",
       "stream": "stdout",
       "text": [
        " 27064\n",
        "19900"
       ]
      },
      {
       "output_type": "stream",
       "stream": "stdout",
       "text": [
        " 27105\n",
        "19910"
       ]
      },
      {
       "output_type": "stream",
       "stream": "stdout",
       "text": [
        " 27149\n",
        "19920"
       ]
      },
      {
       "output_type": "stream",
       "stream": "stdout",
       "text": [
        " 27188\n",
        "19930"
       ]
      },
      {
       "output_type": "stream",
       "stream": "stdout",
       "text": [
        " 27232\n",
        "19940"
       ]
      },
      {
       "output_type": "stream",
       "stream": "stdout",
       "text": [
        " 27277\n",
        "19950"
       ]
      },
      {
       "output_type": "stream",
       "stream": "stdout",
       "text": [
        " 27324\n",
        "19960"
       ]
      },
      {
       "output_type": "stream",
       "stream": "stdout",
       "text": [
        " 27361\n",
        "19970"
       ]
      },
      {
       "output_type": "stream",
       "stream": "stdout",
       "text": [
        " 27409\n",
        "19980"
       ]
      },
      {
       "output_type": "stream",
       "stream": "stdout",
       "text": [
        " 27453\n",
        "19990"
       ]
      },
      {
       "output_type": "stream",
       "stream": "stdout",
       "text": [
        " 27490\n",
        "20000"
       ]
      },
      {
       "output_type": "stream",
       "stream": "stdout",
       "text": [
        " 27535\n",
        "20010"
       ]
      },
      {
       "output_type": "stream",
       "stream": "stdout",
       "text": [
        " 27570\n",
        "20020"
       ]
      },
      {
       "output_type": "stream",
       "stream": "stdout",
       "text": [
        " 27620\n",
        "20030"
       ]
      },
      {
       "output_type": "stream",
       "stream": "stdout",
       "text": [
        " 27667\n",
        "20040"
       ]
      },
      {
       "output_type": "stream",
       "stream": "stdout",
       "text": [
        " 27711\n",
        "20050"
       ]
      },
      {
       "output_type": "stream",
       "stream": "stdout",
       "text": [
        " 27750\n",
        "20060"
       ]
      },
      {
       "output_type": "stream",
       "stream": "stdout",
       "text": [
        " 27792\n",
        "20070"
       ]
      },
      {
       "output_type": "stream",
       "stream": "stdout",
       "text": [
        " 27836\n",
        "20080"
       ]
      },
      {
       "output_type": "stream",
       "stream": "stdout",
       "text": [
        " 27881\n",
        "20090"
       ]
      },
      {
       "output_type": "stream",
       "stream": "stdout",
       "text": [
        " 27920\n",
        "20100"
       ]
      },
      {
       "output_type": "stream",
       "stream": "stdout",
       "text": [
        " 27955\n",
        "20110"
       ]
      },
      {
       "output_type": "stream",
       "stream": "stdout",
       "text": [
        " 28003\n",
        "20120"
       ]
      },
      {
       "output_type": "stream",
       "stream": "stdout",
       "text": [
        " 28049\n",
        "20130"
       ]
      },
      {
       "output_type": "stream",
       "stream": "stdout",
       "text": [
        " 28089\n",
        "20140"
       ]
      },
      {
       "output_type": "stream",
       "stream": "stdout",
       "text": [
        " 28124\n",
        "20150"
       ]
      },
      {
       "output_type": "stream",
       "stream": "stdout",
       "text": [
        " 28171\n",
        "20160"
       ]
      },
      {
       "output_type": "stream",
       "stream": "stdout",
       "text": [
        " 28219\n",
        "20170"
       ]
      },
      {
       "output_type": "stream",
       "stream": "stdout",
       "text": [
        " 28259\n",
        "20180"
       ]
      },
      {
       "output_type": "stream",
       "stream": "stdout",
       "text": [
        " 28302\n",
        "20190"
       ]
      },
      {
       "output_type": "stream",
       "stream": "stdout",
       "text": [
        " 28344\n",
        "20200"
       ]
      },
      {
       "output_type": "stream",
       "stream": "stdout",
       "text": [
        " 28389\n",
        "20210"
       ]
      },
      {
       "output_type": "stream",
       "stream": "stdout",
       "text": [
        " 28426\n",
        "20220"
       ]
      },
      {
       "output_type": "stream",
       "stream": "stdout",
       "text": [
        " 28473\n",
        "20230"
       ]
      },
      {
       "output_type": "stream",
       "stream": "stdout",
       "text": [
        " 28514\n",
        "20240"
       ]
      },
      {
       "output_type": "stream",
       "stream": "stdout",
       "text": [
        " 28561\n",
        "20250"
       ]
      },
      {
       "output_type": "stream",
       "stream": "stdout",
       "text": [
        " 28596\n",
        "20260"
       ]
      },
      {
       "output_type": "stream",
       "stream": "stdout",
       "text": [
        " 28636\n",
        "20270"
       ]
      },
      {
       "output_type": "stream",
       "stream": "stdout",
       "text": [
        " 28680\n",
        "20280"
       ]
      },
      {
       "output_type": "stream",
       "stream": "stdout",
       "text": [
        " 28711\n",
        "20290"
       ]
      },
      {
       "output_type": "stream",
       "stream": "stdout",
       "text": [
        " 28759\n",
        "20300"
       ]
      },
      {
       "output_type": "stream",
       "stream": "stdout",
       "text": [
        " 28804\n",
        "20310"
       ]
      },
      {
       "output_type": "stream",
       "stream": "stdout",
       "text": [
        " 28841\n",
        "20320"
       ]
      },
      {
       "output_type": "stream",
       "stream": "stdout",
       "text": [
        " 28886\n",
        "20330"
       ]
      },
      {
       "output_type": "stream",
       "stream": "stdout",
       "text": [
        " 28931\n",
        "20340"
       ]
      },
      {
       "output_type": "stream",
       "stream": "stdout",
       "text": [
        " 28978\n",
        "20350"
       ]
      },
      {
       "output_type": "stream",
       "stream": "stdout",
       "text": [
        " 29023\n",
        "20360"
       ]
      },
      {
       "output_type": "stream",
       "stream": "stdout",
       "text": [
        " 29068\n",
        "20370"
       ]
      },
      {
       "output_type": "stream",
       "stream": "stdout",
       "text": [
        " 29118\n",
        "20380"
       ]
      },
      {
       "output_type": "stream",
       "stream": "stdout",
       "text": [
        " 29165\n",
        "20390"
       ]
      },
      {
       "output_type": "stream",
       "stream": "stdout",
       "text": [
        " 29211\n",
        "20400"
       ]
      },
      {
       "output_type": "stream",
       "stream": "stdout",
       "text": [
        " 29259\n",
        "20410"
       ]
      },
      {
       "output_type": "stream",
       "stream": "stdout",
       "text": [
        " 29305\n",
        "20420"
       ]
      },
      {
       "output_type": "stream",
       "stream": "stdout",
       "text": [
        " 29342\n",
        "20430"
       ]
      },
      {
       "output_type": "stream",
       "stream": "stdout",
       "text": [
        " 29385\n",
        "20440"
       ]
      },
      {
       "output_type": "stream",
       "stream": "stdout",
       "text": [
        " 29435\n",
        "20450"
       ]
      },
      {
       "output_type": "stream",
       "stream": "stdout",
       "text": [
        " 29481\n",
        "20460"
       ]
      },
      {
       "output_type": "stream",
       "stream": "stdout",
       "text": [
        " 29526\n",
        "20470"
       ]
      },
      {
       "output_type": "stream",
       "stream": "stdout",
       "text": [
        " 29562\n",
        "20480"
       ]
      },
      {
       "output_type": "stream",
       "stream": "stdout",
       "text": [
        " 29607\n",
        "20490"
       ]
      },
      {
       "output_type": "stream",
       "stream": "stdout",
       "text": [
        " 29653\n",
        "20500"
       ]
      },
      {
       "output_type": "stream",
       "stream": "stdout",
       "text": [
        " 29703\n",
        "20510"
       ]
      },
      {
       "output_type": "stream",
       "stream": "stdout",
       "text": [
        " 29749\n",
        "20520"
       ]
      },
      {
       "output_type": "stream",
       "stream": "stdout",
       "text": [
        " 29794\n",
        "20530"
       ]
      },
      {
       "output_type": "stream",
       "stream": "stdout",
       "text": [
        " 29844\n",
        "20540"
       ]
      },
      {
       "output_type": "stream",
       "stream": "stdout",
       "text": [
        " 29883\n",
        "20550"
       ]
      },
      {
       "output_type": "stream",
       "stream": "stdout",
       "text": [
        " 29926\n",
        "20560"
       ]
      },
      {
       "output_type": "stream",
       "stream": "stdout",
       "text": [
        " 29969\n",
        "20570"
       ]
      },
      {
       "output_type": "stream",
       "stream": "stdout",
       "text": [
        " 30013\n",
        "20580"
       ]
      },
      {
       "output_type": "stream",
       "stream": "stdout",
       "text": [
        " 30058\n",
        "20590"
       ]
      },
      {
       "output_type": "stream",
       "stream": "stdout",
       "text": [
        " 30101\n",
        "20600"
       ]
      },
      {
       "output_type": "stream",
       "stream": "stdout",
       "text": [
        " 30146\n",
        "20610"
       ]
      },
      {
       "output_type": "stream",
       "stream": "stdout",
       "text": [
        " 30189\n",
        "20620"
       ]
      },
      {
       "output_type": "stream",
       "stream": "stdout",
       "text": [
        " 30236\n",
        "20630"
       ]
      },
      {
       "output_type": "stream",
       "stream": "stdout",
       "text": [
        " 30279\n",
        "20640"
       ]
      },
      {
       "output_type": "stream",
       "stream": "stdout",
       "text": [
        " 30327\n",
        "20650"
       ]
      },
      {
       "output_type": "stream",
       "stream": "stdout",
       "text": [
        " 30363\n",
        "20660"
       ]
      },
      {
       "output_type": "stream",
       "stream": "stdout",
       "text": [
        " 30413\n",
        "20670"
       ]
      },
      {
       "output_type": "stream",
       "stream": "stdout",
       "text": [
        " 30458\n",
        "20680"
       ]
      },
      {
       "output_type": "stream",
       "stream": "stdout",
       "text": [
        " 30501\n",
        "20690"
       ]
      },
      {
       "output_type": "stream",
       "stream": "stdout",
       "text": [
        " 30551\n",
        "20700"
       ]
      },
      {
       "output_type": "stream",
       "stream": "stdout",
       "text": [
        " 30597\n",
        "20710"
       ]
      },
      {
       "output_type": "stream",
       "stream": "stdout",
       "text": [
        " 30634\n",
        "20720"
       ]
      },
      {
       "output_type": "stream",
       "stream": "stdout",
       "text": [
        " 30683\n",
        "20730"
       ]
      },
      {
       "output_type": "stream",
       "stream": "stdout",
       "text": [
        " 30730\n",
        "20740"
       ]
      },
      {
       "output_type": "stream",
       "stream": "stdout",
       "text": [
        " 30774\n",
        "20750"
       ]
      },
      {
       "output_type": "stream",
       "stream": "stdout",
       "text": [
        " 30824\n",
        "20760"
       ]
      },
      {
       "output_type": "stream",
       "stream": "stdout",
       "text": [
        " 30869\n",
        "20770"
       ]
      },
      {
       "output_type": "stream",
       "stream": "stdout",
       "text": [
        " 30912\n",
        "20780"
       ]
      },
      {
       "output_type": "stream",
       "stream": "stdout",
       "text": [
        " 30961\n",
        "20790"
       ]
      },
      {
       "output_type": "stream",
       "stream": "stdout",
       "text": [
        " 31006\n",
        "20800"
       ]
      },
      {
       "output_type": "stream",
       "stream": "stdout",
       "text": [
        " 31053\n",
        "20810"
       ]
      },
      {
       "output_type": "stream",
       "stream": "stdout",
       "text": [
        " 31103\n",
        "20820"
       ]
      },
      {
       "output_type": "stream",
       "stream": "stdout",
       "text": [
        " 31153\n",
        "20830"
       ]
      },
      {
       "output_type": "stream",
       "stream": "stdout",
       "text": [
        " 31203\n",
        "20840"
       ]
      },
      {
       "output_type": "stream",
       "stream": "stdout",
       "text": [
        " 31253\n",
        "20850"
       ]
      },
      {
       "output_type": "stream",
       "stream": "stdout",
       "text": [
        " 31299\n",
        "20860"
       ]
      },
      {
       "output_type": "stream",
       "stream": "stdout",
       "text": [
        " 31349\n",
        "20870"
       ]
      },
      {
       "output_type": "stream",
       "stream": "stdout",
       "text": [
        " 31392\n",
        "20880"
       ]
      },
      {
       "output_type": "stream",
       "stream": "stdout",
       "text": [
        " 31441\n",
        "20890"
       ]
      },
      {
       "output_type": "stream",
       "stream": "stdout",
       "text": [
        " 31486\n",
        "20900"
       ]
      },
      {
       "output_type": "stream",
       "stream": "stdout",
       "text": [
        " 31534\n",
        "20910"
       ]
      },
      {
       "output_type": "stream",
       "stream": "stdout",
       "text": [
        " 31580\n",
        "20920"
       ]
      },
      {
       "output_type": "stream",
       "stream": "stdout",
       "text": [
        " 31621\n",
        "20930"
       ]
      },
      {
       "output_type": "stream",
       "stream": "stdout",
       "text": [
        " 31670\n",
        "20940"
       ]
      },
      {
       "output_type": "stream",
       "stream": "stdout",
       "text": [
        " 31719\n",
        "20950"
       ]
      },
      {
       "output_type": "stream",
       "stream": "stdout",
       "text": [
        " 31767\n",
        "20960"
       ]
      },
      {
       "output_type": "stream",
       "stream": "stdout",
       "text": [
        " 31817\n",
        "20970"
       ]
      },
      {
       "output_type": "stream",
       "stream": "stdout",
       "text": [
        " 31867\n",
        "20980"
       ]
      },
      {
       "output_type": "stream",
       "stream": "stdout",
       "text": [
        " 31915\n",
        "20990"
       ]
      },
      {
       "output_type": "stream",
       "stream": "stdout",
       "text": [
        " 31965\n",
        "21000"
       ]
      },
      {
       "output_type": "stream",
       "stream": "stdout",
       "text": [
        " 32014\n",
        "21010"
       ]
      },
      {
       "output_type": "stream",
       "stream": "stdout",
       "text": [
        " 32062\n",
        "21020"
       ]
      },
      {
       "output_type": "stream",
       "stream": "stdout",
       "text": [
        " 32111\n",
        "21030"
       ]
      },
      {
       "output_type": "stream",
       "stream": "stdout",
       "text": [
        " 32159\n",
        "21040"
       ]
      },
      {
       "output_type": "stream",
       "stream": "stdout",
       "text": [
        " 32209\n",
        "21050"
       ]
      },
      {
       "output_type": "stream",
       "stream": "stdout",
       "text": [
        " 32259\n",
        "21060"
       ]
      },
      {
       "output_type": "stream",
       "stream": "stdout",
       "text": [
        " 32309\n",
        "21070"
       ]
      },
      {
       "output_type": "stream",
       "stream": "stdout",
       "text": [
        " 32359\n",
        "21080"
       ]
      },
      {
       "output_type": "stream",
       "stream": "stdout",
       "text": [
        " 32408\n",
        "21090"
       ]
      },
      {
       "output_type": "stream",
       "stream": "stdout",
       "text": [
        " 32458\n",
        "21100"
       ]
      },
      {
       "output_type": "stream",
       "stream": "stdout",
       "text": [
        " 32503\n",
        "21110"
       ]
      },
      {
       "output_type": "stream",
       "stream": "stdout",
       "text": [
        " 32548\n",
        "21120"
       ]
      },
      {
       "output_type": "stream",
       "stream": "stdout",
       "text": [
        " 32598\n",
        "21130"
       ]
      },
      {
       "output_type": "stream",
       "stream": "stdout",
       "text": [
        " 32645\n",
        "21140"
       ]
      },
      {
       "output_type": "stream",
       "stream": "stdout",
       "text": [
        " 32695\n",
        "21150"
       ]
      },
      {
       "output_type": "stream",
       "stream": "stdout",
       "text": [
        " 32745\n",
        "21160"
       ]
      },
      {
       "output_type": "stream",
       "stream": "stdout",
       "text": [
        " 32795\n",
        "21170"
       ]
      },
      {
       "output_type": "stream",
       "stream": "stdout",
       "text": [
        " 32840\n",
        "21180"
       ]
      },
      {
       "output_type": "stream",
       "stream": "stdout",
       "text": [
        " 32886\n",
        "21190"
       ]
      },
      {
       "output_type": "stream",
       "stream": "stdout",
       "text": [
        " 32936\n",
        "21200"
       ]
      },
      {
       "output_type": "stream",
       "stream": "stdout",
       "text": [
        " 32985\n",
        "21210"
       ]
      },
      {
       "output_type": "stream",
       "stream": "stdout",
       "text": [
        " 33035\n",
        "21220"
       ]
      },
      {
       "output_type": "stream",
       "stream": "stdout",
       "text": [
        " 33085\n",
        "21230"
       ]
      },
      {
       "output_type": "stream",
       "stream": "stdout",
       "text": [
        " 33135\n",
        "21240"
       ]
      },
      {
       "output_type": "stream",
       "stream": "stdout",
       "text": [
        " 33185\n",
        "21250"
       ]
      },
      {
       "output_type": "stream",
       "stream": "stdout",
       "text": [
        " 33235\n",
        "21260"
       ]
      },
      {
       "output_type": "stream",
       "stream": "stdout",
       "text": [
        " 33285\n",
        "21270"
       ]
      },
      {
       "output_type": "stream",
       "stream": "stdout",
       "text": [
        " 33335\n",
        "21280"
       ]
      },
      {
       "output_type": "stream",
       "stream": "stdout",
       "text": [
        " 33385\n",
        "21290"
       ]
      },
      {
       "output_type": "stream",
       "stream": "stdout",
       "text": [
        " 33433\n",
        "21300"
       ]
      },
      {
       "output_type": "stream",
       "stream": "stdout",
       "text": [
        " 33482\n",
        "21310"
       ]
      },
      {
       "output_type": "stream",
       "stream": "stdout",
       "text": [
        " 33532\n",
        "21320"
       ]
      },
      {
       "output_type": "stream",
       "stream": "stdout",
       "text": [
        " 33580\n",
        "21330"
       ]
      },
      {
       "output_type": "stream",
       "stream": "stdout",
       "text": [
        " 33627\n",
        "21340"
       ]
      },
      {
       "output_type": "stream",
       "stream": "stdout",
       "text": [
        " 33676\n",
        "21350"
       ]
      },
      {
       "output_type": "stream",
       "stream": "stdout",
       "text": [
        " 33726\n",
        "21360"
       ]
      },
      {
       "output_type": "stream",
       "stream": "stdout",
       "text": [
        " 33771\n",
        "21370"
       ]
      },
      {
       "output_type": "stream",
       "stream": "stdout",
       "text": [
        " 33819\n",
        "21380"
       ]
      },
      {
       "output_type": "stream",
       "stream": "stdout",
       "text": [
        " 33869\n",
        "21390"
       ]
      },
      {
       "output_type": "stream",
       "stream": "stdout",
       "text": [
        " 33919\n",
        "21400"
       ]
      },
      {
       "output_type": "stream",
       "stream": "stdout",
       "text": [
        " 33969\n",
        "21410"
       ]
      },
      {
       "output_type": "stream",
       "stream": "stdout",
       "text": [
        " 34019\n",
        "21420"
       ]
      },
      {
       "output_type": "stream",
       "stream": "stdout",
       "text": [
        " 34069\n",
        "21430"
       ]
      },
      {
       "output_type": "stream",
       "stream": "stdout",
       "text": [
        " 34116\n",
        "21440"
       ]
      },
      {
       "output_type": "stream",
       "stream": "stdout",
       "text": [
        " 34166\n",
        "21450"
       ]
      },
      {
       "output_type": "stream",
       "stream": "stdout",
       "text": [
        " 34216\n",
        "21460"
       ]
      },
      {
       "output_type": "stream",
       "stream": "stdout",
       "text": [
        " 34264\n",
        "21470"
       ]
      },
      {
       "output_type": "stream",
       "stream": "stdout",
       "text": [
        " 34314\n",
        "21480"
       ]
      },
      {
       "output_type": "stream",
       "stream": "stdout",
       "text": [
        " 34364\n",
        "21490"
       ]
      },
      {
       "output_type": "stream",
       "stream": "stdout",
       "text": [
        " 34414\n",
        "21500"
       ]
      },
      {
       "output_type": "stream",
       "stream": "stdout",
       "text": [
        " 34462\n"
       ]
      }
     ],
     "prompt_number": 39
    },
    {
     "cell_type": "code",
     "collapsed": false,
     "input": [
      "in_table = 0\n",
      "for form,to,count in all_went_next:\n",
      "    in_table += to in (matched.four_square_id).sum()\n",
      "    print in_table\n",
      "print in_table"
     ],
     "language": "python",
     "metadata": {},
     "outputs": [
      {
       "output_type": "stream",
       "stream": "stdout",
       "text": [
        "1\n",
        "2"
       ]
      },
      {
       "output_type": "stream",
       "stream": "stdout",
       "text": [
        "\n",
        "3"
       ]
      },
      {
       "output_type": "stream",
       "stream": "stdout",
       "text": [
        "\n",
        "4"
       ]
      },
      {
       "output_type": "stream",
       "stream": "stdout",
       "text": [
        "\n",
        "5"
       ]
      },
      {
       "output_type": "stream",
       "stream": "stdout",
       "text": [
        "\n",
        "6"
       ]
      },
      {
       "output_type": "stream",
       "stream": "stdout",
       "text": [
        "\n",
        "7"
       ]
      },
      {
       "output_type": "stream",
       "stream": "stdout",
       "text": [
        "\n",
        "8"
       ]
      },
      {
       "output_type": "stream",
       "stream": "stdout",
       "text": [
        "\n",
        "9"
       ]
      },
      {
       "output_type": "stream",
       "stream": "stdout",
       "text": [
        "\n",
        "9"
       ]
      },
      {
       "output_type": "stream",
       "stream": "stdout",
       "text": [
        "\n",
        "10"
       ]
      },
      {
       "output_type": "stream",
       "stream": "stdout",
       "text": [
        "\n",
        "11"
       ]
      },
      {
       "output_type": "stream",
       "stream": "stdout",
       "text": [
        "\n",
        "12"
       ]
      },
      {
       "output_type": "stream",
       "stream": "stdout",
       "text": [
        "\n",
        "12"
       ]
      },
      {
       "output_type": "stream",
       "stream": "stdout",
       "text": [
        "\n",
        "12"
       ]
      },
      {
       "output_type": "stream",
       "stream": "stdout",
       "text": [
        "\n",
        "13"
       ]
      },
      {
       "output_type": "stream",
       "stream": "stdout",
       "text": [
        "\n",
        "14"
       ]
      },
      {
       "output_type": "stream",
       "stream": "stdout",
       "text": [
        "\n",
        "14"
       ]
      },
      {
       "output_type": "stream",
       "stream": "stdout",
       "text": [
        "\n",
        "15"
       ]
      },
      {
       "output_type": "stream",
       "stream": "stdout",
       "text": [
        "\n"
       ]
      },
      {
       "ename": "KeyboardInterrupt",
       "evalue": "",
       "output_type": "pyerr",
       "traceback": [
        "\u001b[0;31m---------------------------------------------------------------------------\u001b[0m\n\u001b[0;31mKeyboardInterrupt\u001b[0m                         Traceback (most recent call last)",
        "\u001b[0;32m<ipython-input-38-476fe383cd37>\u001b[0m in \u001b[0;36m<module>\u001b[0;34m()\u001b[0m\n\u001b[1;32m      1\u001b[0m \u001b[0min_table\u001b[0m \u001b[0;34m=\u001b[0m \u001b[0;36m0\u001b[0m\u001b[0;34m\u001b[0m\u001b[0m\n\u001b[1;32m      2\u001b[0m \u001b[0;32mfor\u001b[0m \u001b[0mform\u001b[0m\u001b[0;34m,\u001b[0m\u001b[0mto\u001b[0m\u001b[0;34m,\u001b[0m\u001b[0mcount\u001b[0m \u001b[0;32min\u001b[0m \u001b[0mall_went_next\u001b[0m\u001b[0;34m:\u001b[0m\u001b[0;34m\u001b[0m\u001b[0m\n\u001b[0;32m----> 3\u001b[0;31m     \u001b[0min_table\u001b[0m \u001b[0;34m+=\u001b[0m \u001b[0mto\u001b[0m \u001b[0;32min\u001b[0m \u001b[0;34m(\u001b[0m\u001b[0mmatched\u001b[0m\u001b[0;34m.\u001b[0m\u001b[0mfour_square_id\u001b[0m\u001b[0;34m)\u001b[0m\u001b[0;34m.\u001b[0m\u001b[0msum\u001b[0m\u001b[0;34m(\u001b[0m\u001b[0;34m)\u001b[0m\u001b[0;34m\u001b[0m\u001b[0m\n\u001b[0m\u001b[1;32m      4\u001b[0m     \u001b[0;32mprint\u001b[0m \u001b[0min_table\u001b[0m\u001b[0;34m\u001b[0m\u001b[0m\n\u001b[1;32m      5\u001b[0m \u001b[0;32mprint\u001b[0m \u001b[0min_table\u001b[0m\u001b[0;34m\u001b[0m\u001b[0m\n",
        "\u001b[0;32m/opt/local/Library/Frameworks/Python.framework/Versions/2.7/lib/python2.7/site-packages/pandas/core/generic.pyc\u001b[0m in \u001b[0;36mstat_func\u001b[0;34m(self, axis, skipna, level, numeric_only, **kwargs)\u001b[0m\n\u001b[1;32m   3248\u001b[0m                                               skipna=skipna)\n\u001b[1;32m   3249\u001b[0m                 return self._reduce(f, axis=axis,\n\u001b[0;32m-> 3250\u001b[0;31m                                     skipna=skipna, numeric_only=numeric_only)\n\u001b[0m\u001b[1;32m   3251\u001b[0m             \u001b[0mstat_func\u001b[0m\u001b[0;34m.\u001b[0m\u001b[0m__name__\u001b[0m \u001b[0;34m=\u001b[0m \u001b[0mname\u001b[0m\u001b[0;34m\u001b[0m\u001b[0m\n\u001b[1;32m   3252\u001b[0m             \u001b[0;32mreturn\u001b[0m \u001b[0mstat_func\u001b[0m\u001b[0;34m\u001b[0m\u001b[0m\n",
        "\u001b[0;32m/opt/local/Library/Frameworks/Python.framework/Versions/2.7/lib/python2.7/site-packages/pandas/core/series.pyc\u001b[0m in \u001b[0;36m_reduce\u001b[0;34m(self, op, axis, skipna, numeric_only, filter_type, **kwds)\u001b[0m\n\u001b[1;32m   2032\u001b[0m                 filter_type=None, **kwds):\n\u001b[1;32m   2033\u001b[0m         \u001b[0;34m\"\"\" perform a reduction operation \"\"\"\u001b[0m\u001b[0;34m\u001b[0m\u001b[0m\n\u001b[0;32m-> 2034\u001b[0;31m         \u001b[0;32mreturn\u001b[0m \u001b[0mop\u001b[0m\u001b[0;34m(\u001b[0m\u001b[0m_values_from_object\u001b[0m\u001b[0;34m(\u001b[0m\u001b[0mself\u001b[0m\u001b[0;34m)\u001b[0m\u001b[0;34m,\u001b[0m \u001b[0mskipna\u001b[0m\u001b[0;34m=\u001b[0m\u001b[0mskipna\u001b[0m\u001b[0;34m,\u001b[0m \u001b[0;34m**\u001b[0m\u001b[0mkwds\u001b[0m\u001b[0;34m)\u001b[0m\u001b[0;34m\u001b[0m\u001b[0m\n\u001b[0m\u001b[1;32m   2035\u001b[0m \u001b[0;34m\u001b[0m\u001b[0m\n\u001b[1;32m   2036\u001b[0m     \u001b[0;32mdef\u001b[0m \u001b[0m_reindex_indexer\u001b[0m\u001b[0;34m(\u001b[0m\u001b[0mself\u001b[0m\u001b[0;34m,\u001b[0m \u001b[0mnew_index\u001b[0m\u001b[0;34m,\u001b[0m \u001b[0mindexer\u001b[0m\u001b[0;34m,\u001b[0m \u001b[0mcopy\u001b[0m\u001b[0;34m)\u001b[0m\u001b[0;34m:\u001b[0m\u001b[0;34m\u001b[0m\u001b[0m\n",
        "\u001b[0;32m/opt/local/Library/Frameworks/Python.framework/Versions/2.7/lib/python2.7/site-packages/pandas/core/nanops.pyc\u001b[0m in \u001b[0;36m_f\u001b[0;34m(*args, **kwargs)\u001b[0m\n\u001b[1;32m     41\u001b[0m                                 'this dtype'.format(f.__name__.replace('nan',\n\u001b[1;32m     42\u001b[0m                                                                        '')))\n\u001b[0;32m---> 43\u001b[0;31m             \u001b[0;32mreturn\u001b[0m \u001b[0mf\u001b[0m\u001b[0;34m(\u001b[0m\u001b[0;34m*\u001b[0m\u001b[0margs\u001b[0m\u001b[0;34m,\u001b[0m \u001b[0;34m**\u001b[0m\u001b[0mkwargs\u001b[0m\u001b[0;34m)\u001b[0m\u001b[0;34m\u001b[0m\u001b[0m\n\u001b[0m\u001b[1;32m     44\u001b[0m         \u001b[0;32mreturn\u001b[0m \u001b[0m_f\u001b[0m\u001b[0;34m\u001b[0m\u001b[0m\n\u001b[1;32m     45\u001b[0m \u001b[0;34m\u001b[0m\u001b[0m\n",
        "\u001b[0;32m/opt/local/Library/Frameworks/Python.framework/Versions/2.7/lib/python2.7/site-packages/pandas/core/nanops.pyc\u001b[0m in \u001b[0;36mf\u001b[0;34m(values, axis, skipna, **kwds)\u001b[0m\n\u001b[1;32m     84\u001b[0m                         \u001b[0mresult\u001b[0m \u001b[0;34m=\u001b[0m \u001b[0malt\u001b[0m\u001b[0;34m(\u001b[0m\u001b[0mvalues\u001b[0m\u001b[0;34m,\u001b[0m \u001b[0maxis\u001b[0m\u001b[0;34m=\u001b[0m\u001b[0maxis\u001b[0m\u001b[0;34m,\u001b[0m \u001b[0mskipna\u001b[0m\u001b[0;34m=\u001b[0m\u001b[0mskipna\u001b[0m\u001b[0;34m,\u001b[0m \u001b[0;34m**\u001b[0m\u001b[0mkwds\u001b[0m\u001b[0;34m)\u001b[0m\u001b[0;34m\u001b[0m\u001b[0m\n\u001b[1;32m     85\u001b[0m                 \u001b[0;32melse\u001b[0m\u001b[0;34m:\u001b[0m\u001b[0;34m\u001b[0m\u001b[0m\n\u001b[0;32m---> 86\u001b[0;31m                     \u001b[0mresult\u001b[0m \u001b[0;34m=\u001b[0m \u001b[0malt\u001b[0m\u001b[0;34m(\u001b[0m\u001b[0mvalues\u001b[0m\u001b[0;34m,\u001b[0m \u001b[0maxis\u001b[0m\u001b[0;34m=\u001b[0m\u001b[0maxis\u001b[0m\u001b[0;34m,\u001b[0m \u001b[0mskipna\u001b[0m\u001b[0;34m=\u001b[0m\u001b[0mskipna\u001b[0m\u001b[0;34m,\u001b[0m \u001b[0;34m**\u001b[0m\u001b[0mkwds\u001b[0m\u001b[0;34m)\u001b[0m\u001b[0;34m\u001b[0m\u001b[0m\n\u001b[0m\u001b[1;32m     87\u001b[0m             \u001b[0;32mexcept\u001b[0m \u001b[0mException\u001b[0m\u001b[0;34m:\u001b[0m\u001b[0;34m\u001b[0m\u001b[0m\n\u001b[1;32m     88\u001b[0m                 \u001b[0mresult\u001b[0m \u001b[0;34m=\u001b[0m \u001b[0malt\u001b[0m\u001b[0;34m(\u001b[0m\u001b[0mvalues\u001b[0m\u001b[0;34m,\u001b[0m \u001b[0maxis\u001b[0m\u001b[0;34m=\u001b[0m\u001b[0maxis\u001b[0m\u001b[0;34m,\u001b[0m \u001b[0mskipna\u001b[0m\u001b[0;34m=\u001b[0m\u001b[0mskipna\u001b[0m\u001b[0;34m,\u001b[0m \u001b[0;34m**\u001b[0m\u001b[0mkwds\u001b[0m\u001b[0;34m)\u001b[0m\u001b[0;34m\u001b[0m\u001b[0m\n",
        "\u001b[0;32m/opt/local/Library/Frameworks/Python.framework/Versions/2.7/lib/python2.7/site-packages/pandas/core/nanops.pyc\u001b[0m in \u001b[0;36mnansum\u001b[0;34m(values, axis, skipna)\u001b[0m\n\u001b[1;32m    227\u001b[0m \u001b[0;32mdef\u001b[0m \u001b[0mnansum\u001b[0m\u001b[0;34m(\u001b[0m\u001b[0mvalues\u001b[0m\u001b[0;34m,\u001b[0m \u001b[0maxis\u001b[0m\u001b[0;34m=\u001b[0m\u001b[0mNone\u001b[0m\u001b[0;34m,\u001b[0m \u001b[0mskipna\u001b[0m\u001b[0;34m=\u001b[0m\u001b[0mTrue\u001b[0m\u001b[0;34m)\u001b[0m\u001b[0;34m:\u001b[0m\u001b[0;34m\u001b[0m\u001b[0m\n\u001b[1;32m    228\u001b[0m     \u001b[0mvalues\u001b[0m\u001b[0;34m,\u001b[0m \u001b[0mmask\u001b[0m\u001b[0;34m,\u001b[0m \u001b[0mdtype\u001b[0m \u001b[0;34m=\u001b[0m \u001b[0m_get_values\u001b[0m\u001b[0;34m(\u001b[0m\u001b[0mvalues\u001b[0m\u001b[0;34m,\u001b[0m \u001b[0mskipna\u001b[0m\u001b[0;34m,\u001b[0m \u001b[0;36m0\u001b[0m\u001b[0;34m)\u001b[0m\u001b[0;34m\u001b[0m\u001b[0m\n\u001b[0;32m--> 229\u001b[0;31m     \u001b[0mthe_sum\u001b[0m \u001b[0;34m=\u001b[0m \u001b[0mvalues\u001b[0m\u001b[0;34m.\u001b[0m\u001b[0msum\u001b[0m\u001b[0;34m(\u001b[0m\u001b[0maxis\u001b[0m\u001b[0;34m)\u001b[0m\u001b[0;34m\u001b[0m\u001b[0m\n\u001b[0m\u001b[1;32m    230\u001b[0m     \u001b[0mthe_sum\u001b[0m \u001b[0;34m=\u001b[0m \u001b[0m_maybe_null_out\u001b[0m\u001b[0;34m(\u001b[0m\u001b[0mthe_sum\u001b[0m\u001b[0;34m,\u001b[0m \u001b[0maxis\u001b[0m\u001b[0;34m,\u001b[0m \u001b[0mmask\u001b[0m\u001b[0;34m)\u001b[0m\u001b[0;34m\u001b[0m\u001b[0m\n\u001b[1;32m    231\u001b[0m     \u001b[0;32mreturn\u001b[0m \u001b[0mthe_sum\u001b[0m\u001b[0;34m\u001b[0m\u001b[0m\n",
        "\u001b[0;32m/opt/local/Library/Frameworks/Python.framework/Versions/2.7/lib/python2.7/site-packages/numpy/core/_methods.pyc\u001b[0m in \u001b[0;36m_sum\u001b[0;34m(a, axis, dtype, out, keepdims)\u001b[0m\n\u001b[1;32m     23\u001b[0m \u001b[0;32mdef\u001b[0m \u001b[0m_sum\u001b[0m\u001b[0;34m(\u001b[0m\u001b[0ma\u001b[0m\u001b[0;34m,\u001b[0m \u001b[0maxis\u001b[0m\u001b[0;34m=\u001b[0m\u001b[0mNone\u001b[0m\u001b[0;34m,\u001b[0m \u001b[0mdtype\u001b[0m\u001b[0;34m=\u001b[0m\u001b[0mNone\u001b[0m\u001b[0;34m,\u001b[0m \u001b[0mout\u001b[0m\u001b[0;34m=\u001b[0m\u001b[0mNone\u001b[0m\u001b[0;34m,\u001b[0m \u001b[0mkeepdims\u001b[0m\u001b[0;34m=\u001b[0m\u001b[0mFalse\u001b[0m\u001b[0;34m)\u001b[0m\u001b[0;34m:\u001b[0m\u001b[0;34m\u001b[0m\u001b[0m\n\u001b[1;32m     24\u001b[0m     return um.add.reduce(a, axis=axis, dtype=dtype,\n\u001b[0;32m---> 25\u001b[0;31m                             out=out, keepdims=keepdims)\n\u001b[0m\u001b[1;32m     26\u001b[0m \u001b[0;34m\u001b[0m\u001b[0m\n\u001b[1;32m     27\u001b[0m \u001b[0;32mdef\u001b[0m \u001b[0m_prod\u001b[0m\u001b[0;34m(\u001b[0m\u001b[0ma\u001b[0m\u001b[0;34m,\u001b[0m \u001b[0maxis\u001b[0m\u001b[0;34m=\u001b[0m\u001b[0mNone\u001b[0m\u001b[0;34m,\u001b[0m \u001b[0mdtype\u001b[0m\u001b[0;34m=\u001b[0m\u001b[0mNone\u001b[0m\u001b[0;34m,\u001b[0m \u001b[0mout\u001b[0m\u001b[0;34m=\u001b[0m\u001b[0mNone\u001b[0m\u001b[0;34m,\u001b[0m \u001b[0mkeepdims\u001b[0m\u001b[0;34m=\u001b[0m\u001b[0mFalse\u001b[0m\u001b[0;34m)\u001b[0m\u001b[0;34m:\u001b[0m\u001b[0;34m\u001b[0m\u001b[0m\n",
        "\u001b[0;31mKeyboardInterrupt\u001b[0m: "
       ]
      }
     ],
     "prompt_number": 38
    },
    {
     "cell_type": "code",
     "collapsed": false,
     "input": [
      "(matched.four_square_id == '4af70aa2f964a5201d0522e3').sum()"
     ],
     "language": "python",
     "metadata": {},
     "outputs": [
      {
       "metadata": {},
       "output_type": "pyout",
       "prompt_number": 23,
       "text": [
        "1"
       ]
      }
     ],
     "prompt_number": 23
    },
    {
     "cell_type": "code",
     "collapsed": false,
     "input": [
      "print len(all_went_next)"
     ],
     "language": "python",
     "metadata": {},
     "outputs": [
      {
       "output_type": "stream",
       "stream": "stdout",
       "text": [
        "34477\n"
       ]
      }
     ],
     "prompt_number": 41
    },
    {
     "cell_type": "code",
     "collapsed": false,
     "input": [
      "next_records = pd.DataFrame.from_records(all_went_next, columns = ['from_id','to_id','total_checkins'])\n",
      "next_records.to_csv('next_records.csv')"
     ],
     "language": "python",
     "metadata": {},
     "outputs": [],
     "prompt_number": 49
    },
    {
     "cell_type": "code",
     "collapsed": false,
     "input": [
      "print next_records.head()"
     ],
     "language": "python",
     "metadata": {},
     "outputs": [
      {
       "output_type": "stream",
       "stream": "stdout",
       "text": [
        "                    from_id                     to_id  total_checkins\n",
        "0  4a57edf0f964a52018b71fe3  4a873d60f964a5206a0320e3            1317\n",
        "1  4a57edf0f964a52018b71fe3  4a11b8aaf964a52037771fe3            4107\n",
        "2  4a57edf0f964a52018b71fe3  4af1f21cf964a520a0e421e3            1445\n",
        "3  4a57edf0f964a52018b71fe3  44ef7327f964a520ed371fe3           10792\n",
        "4  4a57edf0f964a52018b71fe3  4af70aa2f964a5201d0522e3             771\n",
        "\n",
        "[5 rows x 3 columns]\n"
       ]
      }
     ],
     "prompt_number": 48
    },
    {
     "cell_type": "code",
     "collapsed": false,
     "input": [
      "print next_records.to_id.unique().shape"
     ],
     "language": "python",
     "metadata": {},
     "outputs": [
      {
       "output_type": "stream",
       "stream": "stdout",
       "text": [
        "(6895,)\n"
       ]
      }
     ],
     "prompt_number": 52
    },
    {
     "cell_type": "code",
     "collapsed": false,
     "input": [
      "all_went_next "
     ],
     "language": "python",
     "metadata": {},
     "outputs": [
      {
       "metadata": {},
       "output_type": "pyout",
       "prompt_number": 55,
       "text": [
        "[('4a57edf0f964a52018b71fe3', u'4a873d60f964a5206a0320e3', 1317),\n",
        " ('4a57edf0f964a52018b71fe3', u'4a11b8aaf964a52037771fe3', 4107),\n",
        " ('4a57edf0f964a52018b71fe3', u'4af1f21cf964a520a0e421e3', 1445),\n",
        " ('4a57edf0f964a52018b71fe3', u'44ef7327f964a520ed371fe3', 10792),\n",
        " ('4a57edf0f964a52018b71fe3', u'4af70aa2f964a5201d0522e3', 771),\n",
        " ('4af78597f964a520b10922e3', u'4b2084abf964a520dd3224e3', 957),\n",
        " ('4af78597f964a520b10922e3', u'4bba0152cf2fc9b65cffa002', 869),\n",
        " ('4af78597f964a520b10922e3', u'4b637392f964a520d87a2ae3', 1257),\n",
        " ('4af78597f964a520b10922e3', u'4af0e45af964a520f0df21e3', 618),\n",
        " ('4af78597f964a520b10922e3', u'4bf58b67493c2d7fced54785', 853),\n",
        " ('4a498253f964a52065ab1fe3', u'455ad6b4f964a520573d1fe3', 13386),\n",
        " ('4b886b28f964a5207df631e3', u'4a510702f964a52072b01fe3', 15327),\n",
        " ('4b886b28f964a5207df631e3', u'44e34b8bf964a5203b371fe3', 7572),\n",
        " ('4b410042f964a52023bf25e3', u'50abe3bce4b0de093ecafb5b', 318),\n",
        " ('4b410042f964a52023bf25e3', u'4b539920f964a5200ba427e3', 1535),\n",
        " ('4c634904edd320a1dc2faf29', u'45606719f964a5209b3d1fe3', 25891),\n",
        " ('4b42334bf964a520c7ce25e3', u'4b7c964bf964a5207c9c2fe3', 2092),\n",
        " ('4b42334bf964a520c7ce25e3', u'4af78bc4f964a520cb0922e3', 8245),\n",
        " ('4b42334bf964a520c7ce25e3', u'4ada3de7f964a5206e2021e3', 7648),\n",
        " ('4b42334bf964a520c7ce25e3', u'4b0ec6f8f964a520e35a23e3', 1994),\n",
        " ('4b42334bf964a520c7ce25e3', u'4788a5ddf964a520384d1fe3', 3963),\n",
        " ('4a998859f964a520ea2e20e3', u'4b1b1e5ef964a52058f823e3', 3417),\n",
        " ('4a998859f964a520ea2e20e3', u'49fca052f964a520c16e1fe3', 2389),\n",
        " ('4a998859f964a520ea2e20e3', u'4e7f455ed3e3b8285efe60fb', 2535),\n",
        " ('4a998859f964a520ea2e20e3', u'4aea628df964a52054bb21e3', 2346),\n",
        " ('4a43b1e5f964a520b1a61fe3', u'51507428e4b06e0e5323c594', 194),\n",
        " ('4b4a66dff964a520878626e3', u'43616a00f964a52037291fe3', 22056),\n",
        " ('4b4a66dff964a520878626e3', u'4dd1580eb3adb047f5024231', 16115),\n",
        " ('4b4a66dff964a520878626e3', u'49c24cc7f964a520e3551fe3', 11525),\n",
        " ('4b4a66dff964a520878626e3', u'49ff43f9f964a520fa6f1fe3', 11014),\n",
        " ('4aedfea9f964a52003d121e3', u'451540d2f964a520f7391fe3', 4345),\n",
        " ('4aedfea9f964a52003d121e3', u'4bb17a86f964a520f8953ce3', 803),\n",
        " ('4aedfea9f964a52003d121e3', u'4afa2320f964a520fe1622e3', 18019),\n",
        " ('4aedfea9f964a52003d121e3', u'49f00667f964a52028691fe3', 7996),\n",
        " ('4e0e0ecc62843e04afa78e0d', u'4a0cd28af964a5205f751fe3', 3095),\n",
        " ('4e0e0ecc62843e04afa78e0d', u'4a89ed8ef964a520600920e3', 5574),\n",
        " ('4e0e0ecc62843e04afa78e0d', u'4ab06600f964a5204c6720e3', 943),\n",
        " ('4b736cb0f964a520cfad2de3', u'49972b39f964a52089521fe3', 16004),\n",
        " ('4b723112f964a5204c732de3', u'4afcba2af964a5206a2522e3', 2292),\n",
        " ('4a84daacf964a520bcfd1fe3', u'4afcba2af964a5206a2522e3', 2292),\n",
        " ('4a84daacf964a520bcfd1fe3', u'4838dba9f964a520fd4f1fe3', 10383),\n",
        " ('4a84daacf964a520bcfd1fe3', u'4c02dfdb0d0e0f47c9cb019a', 354),\n",
        " ('4a84daacf964a520bcfd1fe3', u'4a6c8f6ef964a520d2d01fe3', 9261),\n",
        " ('4a84daacf964a520bcfd1fe3', u'4b4a0517f964a5201a7826e3', 561),\n",
        " ('4a4ae1aaf964a5203fac1fe3', u'4a7b6d2cf964a520f9ea1fe3', 1813),\n",
        " ('49db06cbf964a520c05e1fe3', u'40bbc700f964a520b1001fe3', 102978),\n",
        " ('49db06cbf964a520c05e1fe3', u'4b4e6509f964a5201bec26e3', 2153),\n",
        " ('49db06cbf964a520c05e1fe3', u'4a4ac040f964a52026ac1fe3', 21659),\n",
        " ('49db06cbf964a520c05e1fe3', u'4ac949f4f964a5208cbf20e3', 7710),\n",
        " ('49db06cbf964a520c05e1fe3', u'45214385f964a520c43a1fe3', 1720),\n",
        " ('4a79c77bf964a520a5e71fe3', u'4a283a2cf964a520fe941fe3', 1513),\n",
        " ('4a79c77bf964a520a5e71fe3', u'4a7a36a9f964a520e1e81fe3', 4857),\n",
        " ('4a79c77bf964a520a5e71fe3', u'4a5a7f27f964a52070ba1fe3', 2420),\n",
        " ('4a79c77bf964a520a5e71fe3', u'4fe0701a754a6e750336898c', 285),\n",
        " ('4a79c77bf964a520a5e71fe3', u'43067280f964a52023271fe3', 102489),\n",
        " ('4d0acea86c51a143b29ca635', u'4aa9ea24f964a520815520e3', 1519),\n",
        " ('4d0acea86c51a143b29ca635', u'49c5ae3ff964a5201c571fe3', 3830),\n",
        " ('4d0acea86c51a143b29ca635', u'4ac805cff964a5203cbb20e3', 2880),\n",
        " ('4d0acea86c51a143b29ca635', u'4df8111062847bdf4feb5d1d', 1409),\n",
        " ('4bb2b6ca42959c743241212c', u'4b305bf6f964a52029f924e3', 4509),\n",
        " ('4bb2b6ca42959c743241212c', u'4c1bce9cb4e62d7fee02da93', 1222),\n",
        " ('4bb2b6ca42959c743241212c', u'4bc8d41468f976b005105c83', 1106),\n",
        " ('4bb2b6ca42959c743241212c', u'4b2e9021f964a5208be224e3', 2331),\n",
        " ('4b5509bbf964a520d8d827e3', u'4bc1c5c4461576b0924e7c32', 1303),\n",
        " ('4b16cd91f964a520b7bd23e3', u'4e860fdfb803eed4242419cd', 171),\n",
        " ('4b16cd91f964a520b7bd23e3', u'4b639e0bf964a52057872ae3', 1036),\n",
        " ('4b5e6f56f964a520998e29e3', u'4a33bce5f964a5203a9b1fe3', 8415),\n",
        " ('4b5e6f56f964a520998e29e3', u'4c65c9357abde21e49c46168', 2947),\n",
        " ('4b5e6f56f964a520998e29e3', u'49dfad1ef964a520f9601fe3', 24586),\n",
        " ('4b5e6f56f964a520998e29e3', u'4afdc6eef964a520c22a22e3', 11862),\n",
        " ('4ccef4d22dc437049edad708', u'455ad6e0f964a520583d1fe3', 8593),\n",
        " ('4b737912f964a52041b02de3', u'4a34225bf964a520c89b1fe3', 21098),\n",
        " ('4d51defebd6ff04dc635f60c', u'4a5bed61f964a52002bc1fe3', 6839),\n",
        " ('4d51defebd6ff04dc635f60c', u'4ab0402ff964a520ad6620e3', 10980),\n",
        " ('4a23f4edf964a520ed7d1fe3', u'4abc421df964a520ef8620e3', 22625),\n",
        " ('4a23f4edf964a520ed7d1fe3', u'4a92eedcf964a520301e20e3', 3674),\n",
        " ('4a23f4edf964a520ed7d1fe3', u'42926e80f964a52026241fe3', 8315),\n",
        " ('4a23f4edf964a520ed7d1fe3', u'49f00938f964a52029691fe3', 4887),\n",
        " ('4a23f4edf964a520ed7d1fe3', u'49e03a9df964a52047611fe3', 52540),\n",
        " ('4aa68140f964a520024a20e3', u'4abd2857f964a520c98820e3', 12836),\n",
        " ('4aa68140f964a520024a20e3', u'40870b00f964a5209bf21ee3', 35805),\n",
        " ('4aa68140f964a520024a20e3', u'46ae7ba1f964a52086491fe3', 13453),\n",
        " ('4aa68140f964a520024a20e3', u'40c8f600f964a520fe001fe3', 20331),\n",
        " ('4aa68140f964a520024a20e3', u'4ac50c34f964a5202ca020e3', 1082),\n",
        " ('4b4e6701f964a52073ec26e3', u'4aa9b26cf964a520ed5420e3', 8003),\n",
        " ('4a45130cf964a520bca71fe3', u'435c2400f964a52008291fe3', 36154),\n",
        " ('4a45130cf964a520bca71fe3', u'4a22d2adf964a520907d1fe3', 10471),\n",
        " ('4a45130cf964a520bca71fe3', u'4a8ae30ff964a520bc0a20e3', 13379),\n",
        " ('4a45130cf964a520bca71fe3', u'4b037087f964a520684f22e3', 2287),\n",
        " ('4a45130cf964a520bca71fe3', u'4ad0ff2bf964a520d3db20e3', 5997),\n",
        " ('4b2a63ddf964a5202ea824e3', u'449d1646f964a520b5341fe3', 71633),\n",
        " ('4b2a63ddf964a5202ea824e3', u'4a05db88f964a5208c721fe3', 6205),\n",
        " ('4b2a63ddf964a5202ea824e3', u'4b3129f2f964a520890125e3', 1061),\n",
        " ('4b2a63ddf964a5202ea824e3', u'4283ee00f964a5209c221fe3', 52938),\n",
        " ('4b2a63ddf964a5202ea824e3', u'4a7483f6f964a52062de1fe3', 3921),\n",
        " ('5290dfe611d20e4e0350fbb6', u'42d1b680f964a5200c261fe3', 10110),\n",
        " ('4a6be09ff964a5202bd01fe3', u'49eb850cf964a520ef661fe3', 4310),\n",
        " ('4a6be09ff964a5202bd01fe3', u'4a6f66bff964a52013d61fe3', 1373),\n",
        " ('4a6be09ff964a5202bd01fe3', u'4a6f6779f964a52016d61fe3', 5673),\n",
        " ('4a6be09ff964a5202bd01fe3', u'449d1646f964a520b5341fe3', 71633),\n",
        " ('4a6be09ff964a5202bd01fe3', u'49dfad1ef964a520f9601fe3', 24586),\n",
        " ('4bbde6eb4e069c74c8439fe3', u'4bd9f7a93904a5937376449e', 1661),\n",
        " ('4bef8d195e4aa5931b3159bb', u'4b0f6683f964a520066223e3', 1454),\n",
        " ('527e907811d2f7f0f9f1f3b6', u'49e3d406f964a520e2621fe3', 6139),\n",
        " ('527e907811d2f7f0f9f1f3b6', u'442fe898f964a520e5311fe3', 39417),\n",
        " ('527e907811d2f7f0f9f1f3b6', u'4a8dc175f964a520ba1020e3', 3023),\n",
        " ('527e907811d2f7f0f9f1f3b6', u'49f7a66df964a520cc6c1fe3', 7371),\n",
        " ('4bc35a8cdce4eee10e90719d', u'4c44ac0cdd1f2d7fb72f80f9', 705),\n",
        " ('4bc35a8cdce4eee10e90719d', u'49e03a9df964a52047611fe3', 52540),\n",
        " ('4bc35a8cdce4eee10e90719d', u'430e5b80f964a52043271fe3', 68531),\n",
        " ('4a0f3b47f964a52041761fe3', u'4af70aa2f964a5201d0522e3', 771),\n",
        " ('4b1b383bf964a520c4f923e3', u'4a87356df964a5203e0320e3', 1582),\n",
        " ('4c0b225b009a0f4721beeabf', u'4c1164796e5dc9b6cb06b02d', 2399),\n",
        " ('4bce25bcc564ef3b01c1edf0', u'4be097e64f15c92842bfcb0b', 1340),\n",
        " ('4a444f47f964a52073a71fe3', u'4af626c2f964a520b90122e3', 1456),\n",
        " ('4a444f47f964a52073a71fe3', u'4390a026f964a5204d2b1fe3', 35782),\n",
        " ('4e8dcd8d7ee6bb6ad453d5a4', u'46002d20f964a52093441fe3', 23572),\n",
        " ('4a76580bf964a520dfe21fe3', u'4486b2d2f964a5202d341fe3', 18420),\n",
        " ('4a76580bf964a520dfe21fe3', u'43bfc471f964a520222d1fe3', 5445),\n",
        " ('4a76580bf964a520dfe21fe3', u'4aba7ea3f964a520988120e3', 5815),\n",
        " ('4a76580bf964a520dfe21fe3', u'4e7a4e1745dd963b8707b65c', 4087),\n",
        " ('4a76580bf964a520dfe21fe3', u'49de821ff964a5205c601fe3', 21033),\n",
        " ('4de99844ae60e98923431b83', u'49b71814f964a5201a531fe3', 30269),\n",
        " ('4de99844ae60e98923431b83', u'49f62829f964a520136c1fe3', 21698),\n",
        " ('49e40efbf964a520f9621fe3', u'4b7f436df964a520682330e3', 681),\n",
        " ('49e40efbf964a520f9621fe3', u'4b0dc708f964a520f44f23e3', 2490),\n",
        " ('49e40efbf964a520f9621fe3', u'4b331c02f964a520a81725e3', 1634),\n",
        " ('49e40efbf964a520f9621fe3', u'45606719f964a5209b3d1fe3', 25891),\n",
        " ('49e40efbf964a520f9621fe3', u'4ad4d633f964a52021fc20e3', 3475),\n",
        " ('4ab7d5e8f964a5200b7b20e3', u'4a8ac2bef964a5204f0a20e3', 5820),\n",
        " ('4ab7d5e8f964a5200b7b20e3', u'4ab12d81f964a520546820e3', 4010),\n",
        " ('43f618d1f964a520ad2f1fe3', u'4089ae00f964a520bff21ee3', 18997),\n",
        " ('43f618d1f964a520ad2f1fe3', u'4366b000f964a5206e291fe3', 17777),\n",
        " ('43f618d1f964a520ad2f1fe3', u'43efd1ecf964a520712f1fe3', 5960),\n",
        " ('43f618d1f964a520ad2f1fe3', u'40ca4780f964a52008011fe3', 25518),\n",
        " ('43f618d1f964a520ad2f1fe3', u'429f9d80f964a520c5241fe3', 16087),\n",
        " ('4a3c3b58f964a5204aa11fe3', u'4b625c62f964a52039442ae3', 2502),\n",
        " ('4a3c3b58f964a5204aa11fe3', u'4aff762bf964a520ce3822e3', 1547),\n",
        " ('4a3c3b58f964a5204aa11fe3', u'49eccd4af964a52092671fe3', 9926),\n",
        " ('4a3c3b58f964a5204aa11fe3', u'4af0fd68f964a5206ce021e3', 709),\n",
        " ('4a3c3b58f964a5204aa11fe3', u'4bcb71d73740b713aa886265', 8376),\n",
        " ('525ded0c11d25a209c704b01', u'50383cc1e4b0c1904e8952f6', 1267),\n",
        " ('525ded0c11d25a209c704b01', u'42b21280f964a5206e251fe3', 4505),\n",
        " ('525ded0c11d25a209c704b01', u'51771a75e4b08ed5614aa807', 214),\n",
        " ('42b21280f964a52071251fe3', u'49c3060af964a52051561fe3', 4235),\n",
        " ('42b21280f964a52071251fe3', u'40d23080f964a5203f011fe3', 3136),\n",
        " ('4492adcef964a52076341fe3', u'4ef18f09e3003ccf83ab084a', 4048),\n",
        " ('4492adcef964a52076341fe3', u'4390a026f964a5204d2b1fe3', 35782),\n",
        " ('4a595442f964a5203db91fe3', u'429ba900f964a52082241fe3', 8260),\n",
        " ('4a595442f964a5203db91fe3', u'43c453c6f964a520582d1fe3', 13183),\n",
        " ('4a595442f964a5203db91fe3', u'4486b2d2f964a5202d341fe3', 18420),\n",
        " ('4a595442f964a5203db91fe3', u'4c279d763703d13a5a4aa736', 42932),\n",
        " ('4a595442f964a5203db91fe3', u'4a7e1dc4f964a52006f11fe3', 2728),\n",
        " ('4283ee00f964a5209b221fe3', u'4abee430f964a520709020e3', 4433),\n",
        " ('4283ee00f964a5209b221fe3', u'4a46af39f964a5204ba91fe3', 3327),\n",
        " ('4283ee00f964a5209b221fe3', u'4bf5b259bfeac92873029336', 11034),\n",
        " ('4283ee00f964a5209b221fe3', u'49de821ff964a5205c601fe3', 21033),\n",
        " ('4283ee00f964a5209b221fe3', u'3fd66200f964a52030ed1ee3', 5896),\n",
        " ('49ff242af964a520df6f1fe3', u'4a1e071af964a520bb7b1fe3', 6233),\n",
        " ('4b7f60f1f964a520242b30e3', u'40bbc700f964a520b1001fe3', 102978),\n",
        " ('4b7f60f1f964a520242b30e3', u'408aff80f964a520c1f21ee3', 7519),\n",
        " ('4ab2ddeaf964a520bb6c20e3', u'40870b00f964a520a0f21ee3', 11821),\n",
        " ('4ab2ddeaf964a520bb6c20e3', u'4eb19c02f790aae216c49e6a', 2724),\n",
        " ('4bf9e7cf4a67c928cda827cf', u'4b2aef0ef964a5205cb224e3', 3828),\n",
        " ('4aa68140f964a520024a20e3', u'4abd2857f964a520c98820e3', 12836),\n",
        " ('4aa68140f964a520024a20e3', u'40870b00f964a5209bf21ee3', 35805),\n",
        " ('4aa68140f964a520024a20e3', u'46ae7ba1f964a52086491fe3', 13453),\n",
        " ('4aa68140f964a520024a20e3', u'40c8f600f964a520fe001fe3', 20331),\n",
        " ('4aa68140f964a520024a20e3', u'4ac50c34f964a5202ca020e3', 1082),\n",
        " ('4b2e9021f964a5208be224e3', u'4b305bf6f964a52029f924e3', 4509),\n",
        " ('4b2e9021f964a5208be224e3', u'4bb2b6ca42959c743241212c', 545),\n",
        " ('4b2e9021f964a5208be224e3', u'4b0dbe96f964a520264f23e3', 385),\n",
        " ('4b2e9021f964a5208be224e3', u'4c1bce9cb4e62d7fee02da93', 1222),\n",
        " ('4b2e9021f964a5208be224e3', u'4b99b4a1f964a520378d35e3', 355),\n",
        " ('4aae93fef964a5207b6220e3', u'4a075182f964a52046731fe3', 1993),\n",
        " ('4afb0fb8f964a520bf1a22e3', u'4ae07de4f964a5209a7f21e3', 5783),\n",
        " ('4afb0fb8f964a520bf1a22e3', u'4df82ec9ae608a367ce91b45', 11240),\n",
        " ('4b15fc70f964a5204bb623e3', u'4aa06b66f964a5208d3f20e3', 2847),\n",
        " ('4a970f2df964a520362820e3', u'4b710beaf964a52028382de3', 4667),\n",
        " ('4a970f2df964a520362820e3', u'4abc421df964a520ef8620e3', 22625),\n",
        " ('4a970f2df964a520362820e3', u'49e8e0fff964a520a4651fe3', 3783),\n",
        " ('4a970f2df964a520362820e3', u'49f00938f964a52029691fe3', 4887),\n",
        " ('4a970f2df964a520362820e3', u'4aed1389f964a5200bcd21e3', 4382),\n",
        " ('4b0ca112f964a520604023e3', u'4b318256f964a520300825e3', 11835),\n",
        " ('4b0ca112f964a520604023e3', u'4aa16a71f964a520814020e3', 7070),\n",
        " ('4b0ca112f964a520604023e3', u'475315f0f964a520bb4c1fe3', 13822),\n",
        " ('4b0ca112f964a520604023e3', u'49ea6e18f964a52063661fe3', 3874),\n",
        " ('4bc14cf7b492d13a99f6a560', u'4b7ddbaef964a52092d72fe3', 447),\n",
        " ('4596bae3f964a52072401fe3', u'4a843da0f964a520fefb1fe3', 5089),\n",
        " ('4596bae3f964a52072401fe3', u'47001da2f964a520334b1fe3', 2223),\n",
        " ('4596bae3f964a52072401fe3', u'49bdc287f964a52095541fe3', 4149),\n",
        " ('4596bae3f964a52072401fe3', u'4b849413f964a520a03c31e3', 1183),\n",
        " ('4596bae3f964a52072401fe3', u'4adff17ff964a520027e21e3', 3916),\n",
        " ('4fde3d0de4b082d076dfb08f', u'4aa41803f964a520424520e3', 975),\n",
        " ('4fde3d0de4b082d076dfb08f', u'49d034bff964a520105b1fe3', 9408),\n",
        " ('4fde3d0de4b082d076dfb08f', u'4aa3eb39f964a520564420e3', 996),\n",
        " ('4dd40c757d8b6704c7b33d69', u'4b11e2b0f964a520818623e3', 1567),\n",
        " ('4b2feb4cf964a52094f224e3', u'454a5280f964a520a23c1fe3', 3920),\n",
        " ('4b2feb4cf964a52094f224e3', u'4b26cc5af964a5201d8124e3', 3207),\n",
        " ('4b2feb4cf964a52094f224e3', u'4a6b65fff964a520a5ce1fe3', 3960),\n",
        " ('4b2feb4cf964a52094f224e3', u'4b38fb00f964a520865325e3', 1410),\n",
        " ('4b2feb4cf964a52094f224e3', u'4b2824e1f964a520ba8f24e3', 788),\n",
        " ('4ba18861f964a5209ebe37e3', u'4b9c49e7f964a520485c36e3', 779),\n",
        " ('4ba18861f964a5209ebe37e3', u'4b4a8361f964a520aa8926e3', 1566),\n",
        " ('4ba18861f964a5209ebe37e3', u'43a457b4f964a520482c1fe3', 28858),\n",
        " ('4ba18861f964a5209ebe37e3', u'4c30defb452620a1d6c51f0f', 786),\n",
        " ('4ba18861f964a5209ebe37e3', u'4ce97fb58ef78cfa8e45a19b', 143),\n",
        " ('4b677503f964a52017502be3', u'4af78597f964a520b10922e3', 3085),\n",
        " ('4a6dff82f964a5208ed31fe3', u'49d80897f964a520985d1fe3', 11889),\n",
        " ('4a6dff82f964a5208ed31fe3', u'4a9025b2f964a5203a1620e3', 2547),\n",
        " ('4a6dff82f964a5208ed31fe3', u'4c27c151ed0ac9b6ee3a5faa', 3400),\n",
        " ('4a6dff82f964a5208ed31fe3', u'40b7d280f964a52093001fe3', 22164),\n",
        " ('4a6dff82f964a5208ed31fe3', u'4468f484f964a5204f331fe3', 23690),\n",
        " ('4b5f4e5bf964a52011b329e3', u'455ad6e0f964a520583d1fe3', 8593),\n",
        " ('4b5f4e5bf964a52011b329e3', u'4a69ddcff964a52022cc1fe3', 8005),\n",
        " ('4b5f4e5bf964a52011b329e3', u'4b64eaebf964a520a9d92ae3', 1321),\n",
        " ('4b5f4e5bf964a52011b329e3', u'4f6d05ece4b07a4bc40be048', 734),\n",
        " ('4b5f4e5bf964a52011b329e3', u'4a84386ef964a520f3fb1fe3', 3849),\n",
        " ('4f60ed7ae4b0533a6f70bd79', u'4a9b21fef964a520853420e3', 1555),\n",
        " ('4f60ed7ae4b0533a6f70bd79', u'4af355c3f964a520b4ec21e3', 2368),\n",
        " ('4f60ed7ae4b0533a6f70bd79', u'4a998cb9f964a520022f20e3', 316),\n",
        " ('4a9da439f964a520c53820e3', u'4a5931a2f964a520f0b81fe3', 14470),\n",
        " ('4a9da439f964a520c53820e3', u'4bae72d5f964a520bdb33be3', 21169),\n",
        " ('4a9da439f964a520c53820e3', u'40b7d280f964a52093001fe3', 22164),\n",
        " ('4a9da439f964a520c53820e3', u'49dcfa66f964a520cf5f1fe3', 7633),\n",
        " ('4a9da439f964a520c53820e3', u'4c0bf50d7e3fc9281514f682', 3964),\n",
        " ('4feddd79d86cd6f22dc171a9', u'4460d38bf964a5200a331fe3', 24503),\n",
        " ('4feddd79d86cd6f22dc171a9', u'513924afe4b066811795768e', 6148),\n",
        " ('4feddd79d86cd6f22dc171a9', u'44646408f964a52026331fe3', 22812),\n",
        " ('4feddd79d86cd6f22dc171a9', u'4a92369ef964a520fa1c20e3', 2945),\n",
        " ('4feddd79d86cd6f22dc171a9', u'4adfc588f964a520587d21e3', 1646),\n",
        " ('452068d9f964a520b63a1fe3', u'4aa43685f964a520d54520e3', 1458),\n",
        " ('452068d9f964a520b63a1fe3', u'4a8f060af964a5209e1320e3', 243),\n",
        " ('452068d9f964a520b63a1fe3', u'4e501039a80997aa8a4271df', 105),\n",
        " ('452068d9f964a520b63a1fe3', u'4b00c4dff964a520094122e3', 6616),\n",
        " ('452068d9f964a520b63a1fe3', u'49bacd63f964a520b0531fe3', 8470),\n",
        " ('4c6f8080d7fab1f7e7c35bc9', u'49dba3b4f964a520e25e1fe3', 22567),\n",
        " ('4c6f8080d7fab1f7e7c35bc9', u'4a58d82ff964a52005b81fe3', 3668),\n",
        " ('4ae729fbf964a52006a921e3', u'46ab758cf964a5206d491fe3', 14287),\n",
        " ('4ae729fbf964a52006a921e3', u'4a2845e3f964a52005951fe3', 7447),\n",
        " ('4ae729fbf964a52006a921e3', u'4af5d89ef964a520b4fd21e3', 1403),\n",
        " ('4bdf7412ffdec9285a29eca1', u'4ac0da4bf964a520b49420e3', 3689),\n",
        " ('4b9561f8f964a520ac9f34e3', u'4aff948ef964a5209a3922e3', 4046),\n",
        " ('4b9561f8f964a520ac9f34e3', u'4b170019f964a520aec023e3', 758),\n",
        " ('4b6369dcf964a5200b782ae3', u'4ad2669df964a52067e120e3', 1098),\n",
        " ('4b6369dcf964a5200b782ae3', u'4b6f60b4f964a520eded2ce3', 308),\n",
        " ('4b6369dcf964a5200b782ae3', u'4dbb13251e72b351ca8fec4a', 910),\n",
        " ('4b6369dcf964a5200b782ae3', u'4b11a44ff964a520308123e3', 1566),\n",
        " ('4b6369dcf964a5200b782ae3', u'4b5c9406f964a520a93729e3', 519),\n",
        " ('4a8dffcaf964a520b41120e3', u'4ab576baf964a520c77420e3', 670),\n",
        " ('4a8dffcaf964a520b41120e3', u'4a876fe9f964a5205b0420e3', 3415),\n",
        " ('4a8dffcaf964a520b41120e3', u'451fa5eef964a520a83a1fe3', 7986),\n",
        " ('4a8dffcaf964a520b41120e3', u'454b2533f964a520aa3c1fe3', 2622),\n",
        " ('4a8dffcaf964a520b41120e3', u'4a9dd2e3f964a5208d3920e3', 1103),\n",
        " ('4a47a834f964a520e6a91fe3', u'46002d20f964a52093441fe3', 23572),\n",
        " ('4a47a834f964a520e6a91fe3', u'4390a026f964a5204d2b1fe3', 35783),\n",
        " ('4a47a834f964a520e6a91fe3', u'4a3a986bf964a520ff9f1fe3', 13507),\n",
        " ('4a47a834f964a520e6a91fe3', u'4a0f7d7df964a5206b761fe3', 4498),\n",
        " ('4a47a834f964a520e6a91fe3', u'4a397d62f964a520819f1fe3', 1954),\n",
        " ('4838dacff964a520fa4f1fe3', u'4a09b759f964a52049741fe3', 19951),\n",
        " ('4838dacff964a520fa4f1fe3', u'4ae9cc0ff964a52085b621e3', 7445),\n",
        " ('4838dacff964a520fa4f1fe3', u'4a9c0db7f964a520dd3520e3', 6456),\n",
        " ('4838dacff964a520fa4f1fe3', u'4ad13daef964a520a5dd20e3', 3458),\n",
        " ('4838dacff964a520fa4f1fe3', u'49de836ef964a5205f601fe3', 17881),\n",
        " ('4bc14514b492d13a32e9a560', u'4bd8c9d70115c9b6de517580', 186),\n",
        " ('4bc14514b492d13a32e9a560', u'4c57648ed12a20a142bc66bd', 1113),\n",
        " ('4bc14514b492d13a32e9a560', u'48506141f964a52096501fe3', 8849),\n",
        " ('4bc14514b492d13a32e9a560', u'4b4531f2f964a520a00726e3', 4238),\n",
        " ('4bc14514b492d13a32e9a560', u'4af639f9f964a5206d0222e3', 7938),\n",
        " ('4a2ac115f964a5204a961fe3', u'45846fdef964a5209c3f1fe3', 7428),\n",
        " ('4a2ac115f964a5204a961fe3', u'47f190f3f964a5208b4e1fe3', 1007),\n",
        " ('4a2ac115f964a5204a961fe3', u'4b9966dcf964a520ce7835e3', 1705),\n",
        " ('4a2ac115f964a5204a961fe3', u'455ad751f964a5205a3d1fe3', 34873),\n",
        " ('4a2ac115f964a5204a961fe3', u'4d3b4d48325ff04d61e62445', 2916),\n",
        " ('4bbde6eb4e069c74c8439fe3', u'4bd9f7a93904a5937376449e', 1661),\n",
        " ('4f401bc57b0c5e99ca3d64e4', u'4a7e1177f964a520d9f01fe3', 2441),\n",
        " ('4f401bc57b0c5e99ca3d64e4', u'4e167a66aeb7e76b4f1ed6fe', 5784),\n",
        " ('4f401bc57b0c5e99ca3d64e4', u'44c67279f964a520dc351fe3', 1918),\n",
        " ('4f401bc57b0c5e99ca3d64e4', u'49d85e70f964a520bd5d1fe3', 2466),\n",
        " ('4f401bc57b0c5e99ca3d64e4', u'4a61202bf964a520f1c11fe3', 6897),\n",
        " ('4b1f3286f964a520ca2424e3', u'4e7155bf45dd2c5c1a2b76d2', 2938),\n",
        " ('4b1f3286f964a520ca2424e3', u'4ba0091bf964a5204b5437e3', 2743),\n",
        " ('4b1f3286f964a520ca2424e3', u'4a751d71f964a52096e01fe3', 1682),\n",
        " ('4b1f3286f964a520ca2424e3', u'4b35a96df964a520762e25e3', 2374),\n",
        " ('4b1f3286f964a520ca2424e3', u'4afa70d2f964a520e21722e3', 2145),\n",
        " ('5286906a498e3289da676eae', u'51709fdde4b0be899e955543', 2534),\n",
        " ('5286906a498e3289da676eae', u'4667cf1af964a5208a471fe3', 6374),\n",
        " ('5286906a498e3289da676eae', u'49f8a2e3f964a5200d6d1fe3', 14791),\n",
        " ('5286906a498e3289da676eae', u'49e3a16af964a520a4621fe3', 8931),\n",
        " ('4ac2da01f964a520de9a20e3', u'4ff3a178e4b0f1abba23e6a2', 2318),\n",
        " ('4ac2da01f964a520de9a20e3', u'5206e26911d2072b35eace1f', 2731),\n",
        " ('49f621e3f964a520096c1fe3', u'4ab595e1f964a520877520e3', 94009),\n",
        " ('49f621e3f964a520096c1fe3', u'45eaff58f964a5208e431fe3', 32435),\n",
        " ('49f621e3f964a520096c1fe3', u'4c29567f9fb5d13aa2139b57', 23783),\n",
        " ('49f621e3f964a520096c1fe3', u'42814b00f964a52002221fe3', 25179),\n",
        " ('49f621e3f964a520096c1fe3', u'40b28c80f964a52001001fe3', 3872),\n",
        " ('4b2c027bf964a52083bf24e3', u'437e6b00f964a520b72a1fe3', 24795),\n",
        " ('4b2c027bf964a52083bf24e3', u'45487bc1f964a520833c1fe3', 16854),\n",
        " ('4b2c027bf964a52083bf24e3', u'4b819f25f964a5204ab330e3', 40092),\n",
        " ('4b2c027bf964a52083bf24e3', u'4a63c21cf964a520bec51fe3', 3990),\n",
        " ('4b2c027bf964a52083bf24e3', u'44d21e78f964a52039361fe3', 3629),\n",
        " ('4b1593bef964a52025af23e3', u'45e6b309f964a5204c431fe3', 5423),\n",
        " ('4b1593bef964a52025af23e3', u'4b5cdaf0f964a5208a4729e3', 765),\n",
        " ('4bb6c012ef159c744d8076f7', u'4b247284f964a520a46724e3', 166),\n",
        " ('4bb6c012ef159c744d8076f7', u'4b245deef964a520986624e3', 125),\n",
        " ('4bb6c012ef159c744d8076f7', u'4be4ccc1d4f7c9b6acbd2420', 2869),\n",
        " ('4b7b8660f964a52049662fe3', u'43fed5a9f964a52004301fe3', 9358),\n",
        " ('4b242120f964a520ca6124e3', u'4ab569def964a520797420e3', 4599),\n",
        " ('4b242120f964a520ca6124e3', u'48078ccff964a520054f1fe3', 1440),\n",
        " ('4b242120f964a520ca6124e3', u'4bca47c268f976b0a01e5f83', 6392),\n",
        " ('4b242120f964a520ca6124e3', u'4a8328fff964a5203efa1fe3', 1867),\n",
        " ('4b242120f964a520ca6124e3', u'4b52216df964a5204e6a27e3', 199),\n",
        " ('4b5c5689f964a5208d2b29e3', u'4b967daff964a5209acf34e3', 644),\n",
        " ('4b5c5689f964a5208d2b29e3', u'4b678de4f964a5200d552be3', 1415),\n",
        " ('4b5c5689f964a5208d2b29e3', u'4eef9c148231688f20d2877e', 366),\n",
        " ('4b5c5689f964a5208d2b29e3', u'4bf19145189f0f470e6ab762', 1116),\n",
        " ('4b5f5e14f964a52064b629e3', u'4b0858a2f964a520b10923e3', 46),\n",
        " ('4b5f5e14f964a52064b629e3', u'4c36418a0a71c9b6f8d03cc9', 88),\n",
        " ('4b5f5e14f964a52064b629e3', u'4b0858a2f964a520b10923e3', 46),\n",
        " ('4b5f5e14f964a52064b629e3', u'4c36418a0a71c9b6f8d03cc9', 88),\n",
        " ('4a2821d8f964a520f8941fe3', u'40b52f80f964a52061001fe3', 6462),\n",
        " ('4b1c59a2f964a5206b0624e3', u'451c196df964a520813a1fe3', 28071),\n",
        " ('4b1c59a2f964a5206b0624e3', u'452b81ddf964a520393b1fe3', 108162),\n",
        " ('4b1c59a2f964a5206b0624e3', u'4ac907c6f964a52026be20e3', 4165),\n",
        " ('4b1c59a2f964a5206b0624e3', u'40bbc700f964a520b1001fe3', 102978),\n",
        " ('4b1c59a2f964a5206b0624e3', u'43f8404cf964a520c22f1fe3', 35694),\n",
        " ('4356de00f964a520d4281fe3', u'4e4c7fdbbd413c4cc669d6d8', 2948),\n",
        " ('4356de00f964a520d4281fe3', u'4a2b1021f964a52096961fe3', 7202),\n",
        " ('4356de00f964a520d4281fe3', u'43f8404cf964a520c22f1fe3', 35694),\n",
        " ('4356de00f964a520d4281fe3', u'40bbc700f964a520b1001fe3', 102978),\n",
        " ('4356de00f964a520d4281fe3', u'452b81ddf964a520393b1fe3', 108162),\n",
        " ('4b1c59a2f964a5206b0624e3', u'451c196df964a520813a1fe3', 28071),\n",
        " ('4b1c59a2f964a5206b0624e3', u'452b81ddf964a520393b1fe3', 108162),\n",
        " ('4b1c59a2f964a5206b0624e3', u'4ac907c6f964a52026be20e3', 4165),\n",
        " ('4b1c59a2f964a5206b0624e3', u'40bbc700f964a520b1001fe3', 102978),\n",
        " ('4b1c59a2f964a5206b0624e3', u'43f8404cf964a520c22f1fe3', 35694),\n",
        " ('4c40b646ce54e21e2ff5091a', u'4a983cb8f964a520252b20e3', 3450),\n",
        " ('4c40b646ce54e21e2ff5091a', u'4a5e2cacf964a52017be1fe3', 3933),\n",
        " ('4c40b646ce54e21e2ff5091a', u'451c196df964a520813a1fe3', 28071),\n",
        " ('4c40b646ce54e21e2ff5091a', u'4b7603adf964a520a9362ee3', 474),\n",
        " ('4c40b646ce54e21e2ff5091a', u'4b00679af964a520cd3d22e3', 1784),\n",
        " ('4a4e4705f964a5203fae1fe3', u'4b0319cbf964a520a44c22e3', 2130),\n",
        " ('4a4e4705f964a5203fae1fe3', u'4a30bc2df964a52088991fe3', 1144),\n",
        " ('4a4e4705f964a5203fae1fe3', u'4a848a66f964a520ecfc1fe3', 25918),\n",
        " ('4a4e4705f964a5203fae1fe3', u'4b48f647f964a520a65f26e3', 3312),\n",
        " ('4a4e4705f964a5203fae1fe3', u'4afc41d8f964a520ea2022e3', 321),\n",
        " ('4b4bdd65f964a520fba926e3', u'4a622c74f964a52048c31fe3', 17067),\n",
        " ('4b4bdd65f964a520fba926e3', u'4390a026f964a5204d2b1fe3', 35783),\n",
        " ('4b4bdd65f964a520fba926e3', u'4b25b808f964a520a97524e3', 1488),\n",
        " ('4b4bdd65f964a520fba926e3', u'4aea54fcf964a52012bb21e3', 1006),\n",
        " ('4b4bdd65f964a520fba926e3', u'49ee7fe2f964a52064681fe3', 5381),\n",
        " ('4a2a999ef964a52028961fe3', u'4bfeeca1369476b088128d1f', 8047),\n",
        " ('4a2a999ef964a52028961fe3', u'4bafde99f964a52097273ce3', 724),\n",
        " ('4a2a999ef964a52028961fe3', u'4a2c53e1f964a5204d971fe3', 17923),\n",
        " ('4a2a999ef964a52028961fe3', u'43a47bc4f964a5204b2c1fe3', 10227),\n",
        " ('4a2a999ef964a52028961fe3', u'4a6a86cdf964a520b0cd1fe3', 15070),\n",
        " ('50806d84e4b0921f5ae7e209', u'3fd66200f964a52041ee1ee3', 38507),\n",
        " ('50806d84e4b0921f5ae7e209', u'480d1a5ef964a520284f1fe3', 38445),\n",
        " ('4b10545ff964a520ec6d23e3', u'4a5f967cf964a520e8bf1fe3', 1958),\n",
        " ('4c50bebb250dd13a69c20f7c', u'4aca779af964a5200cc220e3', 7194),\n",
        " ('4b5ba043f964a520ee0b29e3', u'4ae87fcbf964a520e0af21e3', 6102),\n",
        " ('4b5ba043f964a520ee0b29e3', u'49d148c2f964a520715b1fe3', 8988),\n",
        " ('4b5ba043f964a520ee0b29e3', u'4da5027193a003e248d175a6', 2145),\n",
        " ('4b5ba043f964a520ee0b29e3', u'4a81b3b0f964a5204af71fe3', 21232),\n",
        " ('4b5ba043f964a520ee0b29e3', u'4ae930baf964a5208db421e3', 3598),\n",
        " ('4b493648f964a520376a26e3', u'4a11d753f964a5204f771fe3', 6467),\n",
        " ('4b493648f964a520376a26e3', u'4b86e757f964a52000a531e3', 865),\n",
        " ('4b539cd4f964a52095a427e3', u'4b844c7af964a520432d31e3', 551),\n",
        " ('4b539cd4f964a52095a427e3', u'4b4fe1fef964a520911827e3', 759),\n",
        " ('4b539cd4f964a52095a427e3', u'4aff17aaf964a520143422e3', 511),\n",
        " ('4bc7747c2f94d13ac4f5117f', u'4ae9cc0ff964a52085b621e3', 7445),\n",
        " ('4b61c78ff964a5204a222ae3', u'4a90aa6ef964a5200a1920e3', 2422),\n",
        " ('4b61c78ff964a5204a222ae3', u'4aa06b66f964a5208d3f20e3', 2847),\n",
        " ('4b61c78ff964a5204a222ae3', u'4a90ae41f964a520211920e3', 1409),\n",
        " ('4ad2544ff964a520f3e020e3', u'4e722625b99345fbe85f0755', 6482),\n",
        " ('4ad2544ff964a520f3e020e3', u'4eb073289adf1abeff6282af', 1615),\n",
        " ('4a492c9bf964a52010ab1fe3', u'4cd5e48a2944b1f7f0fe5fec', 2277),\n",
        " ('4a492c9bf964a52010ab1fe3', u'4b0af2a4f964a520862a23e3', 3193),\n",
        " ('4a492c9bf964a52010ab1fe3', u'452b81ddf964a520393b1fe3', 108162),\n",
        " ('4bc0c8c474a9a5937faad0f6', u'4a8ae30ff964a520bc0a20e3', 13379),\n",
        " ('4bc0c8c474a9a5937faad0f6', u'435c2400f964a52008291fe3', 36156),\n",
        " ('4d727ee9d145a1cdc988b5f3', u'49b49a9af964a520f0521fe3', 2346),\n",
        " ('4d727ee9d145a1cdc988b5f3', u'463e030bf964a52043461fe3', 3002),\n",
        " ('4d727ee9d145a1cdc988b5f3', u'43e879cbf964a5200f2f1fe3', 16565),\n",
        " ('4d727ee9d145a1cdc988b5f3', u'415c9e00f964a520561d1fe3', 7825),\n",
        " ('4d727ee9d145a1cdc988b5f3', u'46db1a43f964a5207f4a1fe3', 2568),\n",
        " ('4ccb1abb97d0224bd13057b8', u'4a5e8596f964a520b0be1fe3', 8204),\n",
        " ('4b983b71f964a520ff3535e3', u'4e4e68ec45ddff0031b0782d', 4152),\n",
        " ('4b983b71f964a520ff3535e3', u'4aa46a42f964a520bd4620e3', 5350),\n",
        " ('4b258134f964a520007324e3', u'4667cf1af964a5208a471fe3', 6374),\n",
        " ('4b258134f964a520007324e3', u'49e3a16af964a520a4621fe3', 8931),\n",
        " ('4b258134f964a520007324e3', u'48508c41f964a5209f501fe3', 8379),\n",
        " ('4b258134f964a520007324e3', u'49f8a2e3f964a5200d6d1fe3', 14791),\n",
        " ('4b258134f964a520007324e3', u'4a2060fbf964a520787c1fe3', 3295),\n",
        " ('4bad090ff964a520e1263be3', u'455ad71cf964a520593d1fe3', 19920),\n",
        " ('4bad090ff964a520e1263be3', u'4f3d9affe4b03dd02358bb0a', 2916),\n",
        " ('4a751d71f964a52096e01fe3', u'4a859174f964a5207bfe1fe3', 1224),\n",
        " ('4a751d71f964a52096e01fe3', u'4b174be6f964a5209ec423e3', 1041),\n",
        " ('4a751d71f964a52096e01fe3', u'4b086143f964a520870a23e3', 1502),\n",
        " ('4a751d71f964a52096e01fe3', u'4a95ea20f964a520662520e3', 3534),\n",
        " ('4a751d71f964a52096e01fe3', u'4b450174f964a520000126e3', 6085),\n",
        " ('4a7b0d5cf964a520e0e91fe3', u'43067280f964a52023271fe3', 102490),\n",
        " ('4a7b0d5cf964a520e0e91fe3', u'40bbc700f964a520b1001fe3', 102978),\n",
        " ('4a7b0d5cf964a520e0e91fe3', u'4a70e62af964a520bad81fe3', 3020),\n",
        " ('4a7b0d5cf964a520e0e91fe3', u'4a49961cf964a52076ab1fe3', 41390),\n",
        " ('4ae36197f964a520489421e3', u'4a9ac62df964a5209c3220e3', 8390),\n",
        " ('4ae36197f964a520489421e3', u'43fed255f964a520ff2f1fe3', 7324),\n",
        " ('4ae36197f964a520489421e3', u'4ad23e2bf964a5205be020e3', 1697),\n",
        " ('4ae36197f964a520489421e3', u'4a6c8c21f964a520cad01fe3', 2668),\n",
        " ('4ae36197f964a520489421e3', u'49d034bff964a520105b1fe3', 9408),\n",
        " ('4c1959664ff90f47eed30f49', u'4ad6cdacf964a520470821e3', 3000),\n",
        " ('4ac52006f964a52077b020e3', u'43067280f964a52023271fe3', 102490),\n",
        " ('4ac52006f964a52077b020e3', u'4f39677ce4b00af17c0993cd', 831),\n",
        " ('4ac52006f964a52077b020e3', u'4dac8f3c8154abafc2da5a46', 5122),\n",
        " ('4ac52006f964a52077b020e3', u'4b3d0ce5f964a520d28c25e3', 2538),\n",
        " ('4ac52006f964a52077b020e3', u'4aca4944f964a5203dc120e3', 2915),\n",
        " ('4a7b0d5cf964a520e0e91fe3', u'43067280f964a52023271fe3', 102490),\n",
        " ('4a7b0d5cf964a520e0e91fe3', u'40bbc700f964a520b1001fe3', 102978),\n",
        " ('4a7b0d5cf964a520e0e91fe3', u'4a70e62af964a520bad81fe3', 3020),\n",
        " ('4a7b0d5cf964a520e0e91fe3', u'4a49961cf964a52076ab1fe3', 41390),\n",
        " ('4aa42686f964a520924520e3', u'49d034bff964a520105b1fe3', 9408),\n",
        " ('4aa42686f964a520924520e3', u'4bd36437a8b3a59377e3695f', 542),\n",
        " ('4aa42686f964a520924520e3', u'4f9d9bf7e4b008dde2a378c5', 166),\n",
        " ('4ac52006f964a52077b020e3', u'43067280f964a52023271fe3', 102490),\n",
        " ('4ac52006f964a52077b020e3', u'4f39677ce4b00af17c0993cd', 831),\n",
        " ('4ac52006f964a52077b020e3', u'4dac8f3c8154abafc2da5a46', 5122),\n",
        " ('4ac52006f964a52077b020e3', u'4b3d0ce5f964a520d28c25e3', 2538),\n",
        " ('4ac52006f964a52077b020e3', u'4aca4944f964a5203dc120e3', 2915),\n",
        " ('4c566ceb2308be9ae3f7566c', u'4bbf553c30c99c74dffa5411', 441),\n",
        " ('4c566ceb2308be9ae3f7566c', u'4bede30da40fc92815b0820c', 3116),\n",
        " ('4c566ceb2308be9ae3f7566c', u'4b537519f964a520e59d27e3', 1746),\n",
        " ('4c3157fb66e40f47c5f5c48b', u'455ad6e0f964a520583d1fe3', 8593),\n",
        " ('4c3157fb66e40f47c5f5c48b', u'4a69ddcff964a52022cc1fe3', 8005),\n",
        " ('4c3157fb66e40f47c5f5c48b', u'4f6d05ece4b07a4bc40be048', 734),\n",
        " ('4c3157fb66e40f47c5f5c48b', u'4a84386ef964a520f3fb1fe3', 3849),\n",
        " ('4a1cbb77f964a5205e7b1fe3', u'4a73f31af964a520a0dd1fe3', 46123),\n",
        " ('4a1cbb77f964a5205e7b1fe3', u'4838de4bf964a52003501fe3', 11953),\n",
        " ('4a1cbb77f964a5205e7b1fe3', u'4abc1490f964a5204a8620e3', 2533),\n",
        " ('4a1cbb77f964a5205e7b1fe3', u'449d1646f964a520b5341fe3', 71633),\n",
        " ('4a1cbb77f964a5205e7b1fe3', u'4b077508f964a520c4fd22e3', 4523),\n",
        " ('4b208e1cf964a5201e3324e3', u'4b3d6828f964a520b89325e3', 855),\n",
        " ('4b611075f964a52061082ae3', u'4a12f591f964a520a3771fe3', 1080),\n",
        " ('4366b000f964a5206e291fe3', u'40ca4780f964a52008011fe3', 25518),\n",
        " ('4366b000f964a5206e291fe3', u'42814b00f964a52017221fe3', 9360),\n",
        " ('4366b000f964a5206e291fe3', u'49c67f8ef964a5204f571fe3', 22796),\n",
        " ('4366b000f964a5206e291fe3', u'49ee0cfef964a52016681fe3', 15648),\n",
        " ('4366b000f964a5206e291fe3', u'429f9d80f964a520c5241fe3', 16087),\n",
        " ('45c4a1bff964a52045421fe3', u'451fa54af964a520a73a1fe3', 11051),\n",
        " ('45c4a1bff964a52045421fe3', u'44a54ffaf964a520ee341fe3', 676),\n",
        " ('452b81ddf964a520393b1fe3', u'451c196df964a520813a1fe3', 28071),\n",
        " ('452b81ddf964a520393b1fe3', u'4b1c59a2f964a5206b0624e3', 24871),\n",
        " ('452b81ddf964a520393b1fe3', u'454cf014f964a520c53c1fe3', 31416),\n",
        " ('452b81ddf964a520393b1fe3', u'40bbc700f964a520b1001fe3', 102978),\n",
        " ('452b81ddf964a520393b1fe3', u'42cc7080f964a520e9251fe3', 65174),\n",
        " ('4a4e946cf964a520bbae1fe3', u'452b81ddf964a520393b1fe3', 108163),\n",
        " ('4a4e946cf964a520bbae1fe3', u'42cc7080f964a520e9251fe3', 65174),\n",
        " ('4a4e946cf964a520bbae1fe3', u'4a5824e5f964a5206db71fe3', 74922),\n",
        " ('4a4e946cf964a520bbae1fe3', u'4a3324d6f964a520089b1fe3', 9692),\n",
        " ('4a4e946cf964a520bbae1fe3', u'4a0c6465f964a5202a751fe3', 5200),\n",
        " ('458403fdf964a5208e3f1fe3', u'42717900f964a52076211fe3', 6088),\n",
        " ('458403fdf964a5208e3f1fe3', u'4c644cbfd6a320a11abacf2a', 1039),\n",
        " ('458403fdf964a5208e3f1fe3', u'43bda7ccf964a5200a2d1fe3', 3685),\n",
        " ('458403fdf964a5208e3f1fe3', u'42829c80f964a52020221fe3', 6522),\n",
        " ('458403fdf964a5208e3f1fe3', u'42cc7080f964a520e7251fe3', 10689),\n",
        " ('4dd83f55d22d38ef42fdbfd6', u'4a1babcbf964a520047b1fe3', 6792),\n",
        " ('4dd83f55d22d38ef42fdbfd6', u'49c3dfb3f964a52082561fe3', 7626),\n",
        " ('4dd83f55d22d38ef42fdbfd6', u'4a7cdbaff964a520e1ed1fe3', 5202),\n",
        " ('4dd83f55d22d38ef42fdbfd6', u'444f9d23f964a5209b321fe3', 4784),\n",
        " ('4dd83f55d22d38ef42fdbfd6', u'4a09a350f964a52041741fe3', 5161),\n",
        " ('4ac1936bf964a5207f9720e3', u'4aca779af964a5200cc220e3', 7194),\n",
        " ('4ac1936bf964a5207f9720e3', u'4b15b3c8f964a520d6b223e3', 1270),\n",
        " ('4ac1936bf964a5207f9720e3', u'4add341df964a520996421e3', 1155),\n",
        " ('4ac1936bf964a5207f9720e3', u'4a3f04a2f964a520a3a31fe3', 20902),\n",
        " ('4ac1936bf964a5207f9720e3', u'4b2d5939f964a520d2d424e3', 1705),\n",
        " ('4a5a2d95f964a520d2b91fe3', u'40870b00f964a520b1f21ee3', 9890),\n",
        " ('4a5a2d95f964a520d2b91fe3', u'439c07e9f964a520ec2b1fe3', 6274),\n",
        " ('4a5a2d95f964a520d2b91fe3', u'42853f80f964a5200c231fe3', 27175),\n",
        " ('4b9c0e13f964a520504536e3', u'4a5931a2f964a520f0b81fe3', 14470),\n",
        " ('4b9c0e13f964a520504536e3', u'501450b8e4b080ff6b63c9d7', 342),\n",
        " ('4b9c0e13f964a520504536e3', u'4bae72d5f964a520bdb33be3', 21169),\n",
        " ('4be88fb0c5220f4794e7a9ca', u'45606719f964a5209b3d1fe3', 25891),\n",
        " ('4b7f29a6f964a520801b30e3', u'4b819f25f964a5204ab330e3', 40092),\n",
        " ('4c1959664ff90f47eed30f49', u'4ad6cdacf964a520470821e3', 3000),\n",
        " ('4aba53fcf964a520e88020e3', u'4dfb9864b61c6408772ff659', 2279),\n",
        " ('4aba53fcf964a520e88020e3', u'455ad751f964a5205a3d1fe3', 34873),\n",
        " ('4aba53fcf964a520e88020e3', u'4a9d827bf964a5205d3820e3', 556),\n",
        " ('4aba53fcf964a520e88020e3', u'4f19f792e4b085450570629a', 1069),\n",
        " ('4aba53fcf964a520e88020e3', u'4b7ef0a6f964a520f50a30e3', 498),\n",
        " ('4aa037faf964a520c43e20e3', u'4b367dd1f964a520aa3625e3', 1465),\n",
        " ('4cac9a5b2f08236a9c448d61', u'4a5b5579f964a52007bb1fe3', 2136),\n",
        " ('4cac9a5b2f08236a9c448d61', u'4b7ee851f964a5207a0830e3', 225),\n",
        " ('4cac9a5b2f08236a9c448d61', u'4b75bc4ef964a520c8202ee3', 273),\n",
        " ('4cac9a5b2f08236a9c448d61', u'4a81b3b0f964a5204af71fe3', 21232),\n",
        " ('4a1c1842f964a5200e7b1fe3', u'4b772d6ef964a5201f852ee3', 518),\n",
        " ('4a1c1842f964a5200e7b1fe3', u'40870b00f964a5209bf21ee3', 35805),\n",
        " ('4a1c1842f964a5200e7b1fe3', u'4aab17b5f964a520e05820e3', 628),\n",
        " ('4bbb686fb35776b027edcb01', u'4b0f6683f964a520066223e3', 1454),\n",
        " ('4bbb686fb35776b027edcb01', u'4b9bd0f6f964a520a62836e3', 11861),\n",
        " ('4bbb686fb35776b027edcb01', u'49f3ecb0f964a520eb6a1fe3', 5382),\n",
        " ('4bbb686fb35776b027edcb01', u'4a6df473f964a5206ad31fe3', 5044),\n",
        " ('4bbb686fb35776b027edcb01', u'49f50f7af964a5208c6b1fe3', 31139),\n",
        " ('4a89ed8ef964a520600920e3', u'4a0cd28af964a5205f751fe3', 3095),\n",
        " ('4a89ed8ef964a520600920e3', u'4ab06600f964a5204c6720e3', 943),\n",
        " ('4a89ed8ef964a520600920e3', u'4a71f2c0f964a520f2d91fe3', 6134),\n",
        " ('4a89ed8ef964a520600920e3', u'4aa01830f964a520433e20e3', 488),\n",
        " ('4a5e657bf964a5207ebe1fe3', u'40eb3d00f964a520280a1fe3', 6321),\n",
        " ('4a5e657bf964a5207ebe1fe3', u'4b7857d3f964a520fcc62ee3', 514),\n",
        " ('4a5e657bf964a5207ebe1fe3', u'442fe898f964a520e5311fe3', 39417),\n",
        " ('4ea5d2ab754afc1baa0d90d1', u'4a6c8f6ef964a520d2d01fe3', 9261),\n",
        " ('4b1ecd6cf964a520bb1f24e3', u'4b44a765f964a520abf825e3', 2644),\n",
        " ('4b1ecd6cf964a520bb1f24e3', u'4b185c26f964a52068d123e3', 3974),\n",
        " ('4b1ecd6cf964a520bb1f24e3', u'4a79c531f964a5209de71fe3', 3251),\n",
        " ('4b1ecd6cf964a520bb1f24e3', u'4c78021b81bca093e79bf814', 900),\n",
        " ('4b1ecd6cf964a520bb1f24e3', u'4db86c476e81c67f61cda4ea', 1378),\n",
        " ('4af5f7f3f964a52099ff21e3', u'4a5931a2f964a520f0b81fe3', 14470),\n",
        " ('4a6dff82f964a5208ed31fe3', u'49d80897f964a520985d1fe3', 11889),\n",
        " ('4a6dff82f964a5208ed31fe3', u'4a9025b2f964a5203a1620e3', 2547),\n",
        " ('4a6dff82f964a5208ed31fe3', u'4c27c151ed0ac9b6ee3a5faa', 3400),\n",
        " ('4a6dff82f964a5208ed31fe3', u'40b7d280f964a52093001fe3', 22164),\n",
        " ('4a6dff82f964a5208ed31fe3', u'4468f484f964a5204f331fe3', 23690),\n",
        " ('4bb03dd2f964a520fb3d3ce3', u'4b047f54f964a520a75422e3', 4275),\n",
        " ('4ade2121f964a5204d7321e3', u'4b131eaaf964a5205a9423e3', 3991),\n",
        " ('4ade2121f964a5204d7321e3', u'4b1ab1a1f964a5208fef23e3', 1527),\n",
        " ('4ade2121f964a5204d7321e3', u'4b132511f964a520b29423e3', 1847),\n",
        " ('4ade2121f964a5204d7321e3', u'4b3ec915f964a52011a225e3', 1137),\n",
        " ('4ade2121f964a5204d7321e3', u'4e00f1a362e12fb08938eec0', 1833),\n",
        " ('4b450174f964a520000126e3', u'4a6c535ff964a52073d01fe3', 3049),\n",
        " ('4b450174f964a520000126e3', u'4bc66a90d35d9c743cc7e23a', 3615),\n",
        " ('4b450174f964a520000126e3', u'4a4ea111f964a520d4ae1fe3', 7218),\n",
        " ('4b450174f964a520000126e3', u'4b40673bf964a5200ab825e3', 1473),\n",
        " ('4b450174f964a520000126e3', u'4ad7f54af964a5204a1021e3', 2565),\n",
        " ('4c92730ad2e1a143c085ca26', u'48506141f964a52096501fe3', 8849),\n",
        " ('4bf9e7cf4a67c928cda827cf', u'4b2aef0ef964a5205cb224e3', 3828),\n",
        " ('4ac90c72f964a5204bbe20e3', u'4aea6c7cf964a52080bb21e3', 1382),\n",
        " ('4ac90c72f964a5204bbe20e3', u'4ae0a907f964a520638121e3', 5399),\n",
        " ('4ac90c72f964a5204bbe20e3', u'4b60b0f3f964a52045f429e3', 713),\n",
        " ('4ac90c72f964a5204bbe20e3', u'3fd66200f964a52026f11ee3', 10739),\n",
        " ('4ac90c72f964a5204bbe20e3', u'4ab81a99f964a520357c20e3', 1808),\n",
        " ('4ae24349f964a520958c21e3', u'4ae65810f964a5208ca621e3', 2977),\n",
        " ('4ae24349f964a520958c21e3', u'4c32b94eed37a593b8586c03', 8253),\n",
        " ('4ae24349f964a520958c21e3', u'4c69f043c946e21eada2eb8e', 1263),\n",
        " ('4ae24349f964a520958c21e3', u'4c048025f56c2d7f20681e66', 575),\n",
        " ('4ae24349f964a520958c21e3', u'4ad9851ff964a5203d1a21e3', 755),\n",
        " ('4a886432f964a5202c0620e3', u'4af5f29ef964a5203fff21e3', 1096),\n",
        " ('4a886432f964a5202c0620e3', u'4a6f1b1df964a52052d51fe3', 1616),\n",
        " ('4a886432f964a5202c0620e3', u'4a821eb0f964a520acf81fe3', 19166),\n",
        " ('4a886432f964a5202c0620e3', u'4a86e1abf964a520770120e3', 4117),\n",
        " ('4b4aaa94f964a520878c26e3', u'4a7f8ed8f964a52055f41fe3', 1256),\n",
        " ('4b4aaa94f964a520878c26e3', u'4b4a6dcff964a5204d8726e3', 14072),\n",
        " ('4b4aaa94f964a520878c26e3', u'4b8d19b6f964a520f2e732e3', 723),\n",
        " ('4b4aaa94f964a520878c26e3', u'4ce0697d70bba1cd01346cc4', 124),\n",
        " ('4b4aaa94f964a520878c26e3', u'4aff948ef964a5209a3922e3', 4046),\n",
        " ('4efcb7d5e5faadaab3d2ab69', u'4b31341cf964a520860225e3', 1700),\n",
        " ('4dc6cdebc65b89d3ca9069fa', u'4bd2177d046076b055357371', 187636),\n",
        " ('4dc6cdebc65b89d3ca9069fa', u'4d915a879acaa143ba49e6f0', 4958),\n",
        " ('4e2a2beae4cd3bc16687b171', u'4ad4d633f964a52021fc20e3', 3475),\n",
        " ('4c072b022e80a593965475f9', u'4be17e378e2962b5cb579b0a', 4611),\n",
        " ('4a58d0a1f964a520f5b71fe3', u'4b09d58ff964a5206e1e23e3', 3282),\n",
        " ('4d0682d7e350b60c78d08d42', u'4ad0ff2bf964a520d3db20e3', 5997),\n",
        " ('4d0682d7e350b60c78d08d42', u'4a4574cbf964a52033a81fe3', 9254),\n",
        " ('4d0682d7e350b60c78d08d42', u'4dacde4e4b22ee6dec0f1770', 83),\n",
        " ('4d0682d7e350b60c78d08d42', u'4b23bb4af964a520b25824e3', 1336),\n",
        " ('4d0682d7e350b60c78d08d42', u'4a8ae30ff964a520bc0a20e3', 13379),\n",
        " ('4b8ddfd9f964a520a21133e3', u'4a4574cbf964a52033a81fe3', 9254),\n",
        " ('4b8ddfd9f964a520a21133e3', u'4ad0ff2bf964a520d3db20e3', 5997),\n",
        " ('4f99aba3be776dab0ccf954b', u'42829c80f964a5201f221fe3', 5755),\n",
        " ('4f99aba3be776dab0ccf954b', u'4d71e84e4ab5224b7633b797', 4499),\n",
        " ('4f99aba3be776dab0ccf954b', u'3fd66200f964a5202bed1ee3', 13810),\n",
        " ('4f99aba3be776dab0ccf954b', u'4bf5b259bfeac92873029336', 11034),\n",
        " ('4f99aba3be776dab0ccf954b', u'4aba7ea3f964a520988120e3', 5815),\n",
        " ('4ce0500569136dcb13c8e2e6', u'4486b2d2f964a5202d341fe3', 18421),\n",
        " ('4ce0500569136dcb13c8e2e6', u'429f9d80f964a520c1241fe3', 5578),\n",
        " ('4a566239f964a52012b51fe3', u'430e5b80f964a52042271fe3', 9030),\n",
        " ('4a566239f964a52012b51fe3', u'4e288f08aeb75df8caad7b98', 573),\n",
        " ('4a7ccbdbf964a520aaed1fe3', u'4a424d0ef964a520b7a51fe3', 32765),\n",
        " ('45602bddf964a520963d1fe3', u'47d7bd63f964a520254e1fe3', 8657),\n",
        " ('45602bddf964a520963d1fe3', u'4790de30f964a5204e4d1fe3', 6462),\n",
        " ('45602bddf964a520963d1fe3', u'49d111f5f964a520575b1fe3', 7178),\n",
        " ('45602bddf964a520963d1fe3', u'4bbe7a6f30c99c7471e55311', 9890),\n",
        " ('45602bddf964a520963d1fe3', u'4c65f87287759521d9c9dc4c', 10413),\n",
        " ('4ca2b280d5a2a14398604390', u'4abc421df964a520ef8620e3', 22625),\n",
        " ('4ca2b280d5a2a14398604390', u'4f45a695e4b00441a2b9efa6', 2057),\n",
        " ('4ca2b280d5a2a14398604390', u'49f00938f964a52029691fe3', 4887),\n",
        " ('4ca2b280d5a2a14398604390', u'4c6f3fad9c6d6dcba12fcf7a', 4161),\n",
        " ('4ca2b280d5a2a14398604390', u'4a23f4edf964a520ed7d1fe3', 7220),\n",
        " ('4c32706716adc9284d2bc29c', u'4ef9e5500e013b212830ba87', 6373),\n",
        " ('4c32706716adc9284d2bc29c', u'4f4a878ce4b030691b8c444b', 7845),\n",
        " ('4c32706716adc9284d2bc29c', u'4838db24f964a520fb4f1fe3', 11277),\n",
        " ('4c32706716adc9284d2bc29c', u'4e1b9d7852b1218fa015d7e2', 1787),\n",
        " ('4c32706716adc9284d2bc29c', u'4d6af99edc858cfa355e6c73', 2992),\n",
        " ('4a5815e2f964a5205cb71fe3', u'49e4c35df964a5203c631fe3', 1622),\n",
        " ('4a036da9f964a520bb711fe3', u'4b819f25f964a5204ab330e3', 40093),\n",
        " ('4a036da9f964a520bb711fe3', u'4c279d763703d13a5a4aa736', 42932),\n",
        " ('4a036da9f964a520bb711fe3', u'409d7480f964a520f2f21ee3', 71653),\n",
        " ('4a036da9f964a520bb711fe3', u'4ba3f1a1f964a5200a7038e3', 4602),\n",
        " ('4a036da9f964a520bb711fe3', u'4a8ee47af964a5200e1320e3', 7072),\n",
        " ('4af9cf4cf964a520681422e3', u'4b6b7c6bf964a520d50b2ce3', 3736),\n",
        " ('4cdc4a506ad1a09307cff056', u'4ac0da4bf964a520b49420e3', 3689),\n",
        " ('4cdc4a506ad1a09307cff056', u'4b7c8591f964a52098982fe3', 640),\n",
        " ('4cdc4a506ad1a09307cff056', u'4a5230d2f964a5205eb11fe3', 256),\n",
        " ('4cdc4a506ad1a09307cff056', u'4c7452fec219224be1939f28', 1894),\n",
        " ('4cdc4a506ad1a09307cff056', u'49e36ff6f964a52080621fe3', 5148),\n",
        " ('4eab8972a17cca1383c810ef', u'4bb12c2df964a5208c803ce3', 478),\n",
        " ('4eab8972a17cca1383c810ef', u'4b85e394f964a520147831e3', 1097),\n",
        " ('4eab8972a17cca1383c810ef', u'48790b1df964a5201b511fe3', 3371),\n",
        " ('4a63aae2f964a5208bc51fe3', u'4b819f25f964a5204ab330e3', 40093),\n",
        " ('4a63aae2f964a5208bc51fe3', u'437e6b00f964a520b72a1fe3', 24795),\n",
        " ('4a63aae2f964a5208bc51fe3', u'4c279d763703d13a5a4aa736', 42932),\n",
        " ('4a63aae2f964a5208bc51fe3', u'409d7480f964a520f2f21ee3', 71653),\n",
        " ('4a63aae2f964a5208bc51fe3', u'45487bc1f964a520833c1fe3', 16854),\n",
        " ('4a329abbf964a520669a1fe3', u'4ae39806f964a5200f9721e3', 5714),\n",
        " ('4a329abbf964a520669a1fe3', u'4d91323e033ba35dab886b0d', 5351),\n",
        " ('4a329abbf964a520669a1fe3', u'428fcb80f964a520e8231fe3', 27629),\n",
        " ('4a329abbf964a520669a1fe3', u'425c6100f964a520fd201fe3', 11920),\n",
        " ('4a329abbf964a520669a1fe3', u'42b21280f964a52076251fe3', 3835),\n",
        " ('3fd66200f964a520f9ec1ee3', u'42829c80f964a52020221fe3', 6522),\n",
        " ('3fd66200f964a520f9ec1ee3', u'473b4138f964a5205a4c1fe3', 3260),\n",
        " ('3fd66200f964a520f9ec1ee3', u'42717900f964a52076211fe3', 6089),\n",
        " ('3fd66200f964a520f9ec1ee3', u'4c6dc7c810faa1430102ef68', 1570),\n",
        " ('3fd66200f964a520f9ec1ee3', u'40f08300f964a5204e0a1fe3', 4923),\n",
        " ('4ad11e01f964a520d2dc20e3', u'45606719f964a5209b3d1fe3', 25892),\n",
        " ('4ad11e01f964a520d2dc20e3', u'4ad6cdacf964a520470821e3', 3000),\n",
        " ('4ad11e01f964a520d2dc20e3', u'4add27ecf964a520596421e3', 5655),\n",
        " ('4ad11e01f964a520d2dc20e3', u'4db3178c93a017099dbbe737', 12004),\n",
        " ('4ad11e01f964a520d2dc20e3', u'4dabbec9a86e771ea7405182', 1600),\n",
        " ('4b245deef964a520986624e3', u'4bb6c012ef159c744d8076f7', 121),\n",
        " ('4b245deef964a520986624e3', u'4a4e8e42f964a520abae1fe3', 221),\n",
        " ('4b245deef964a520986624e3', u'4b247284f964a520a46724e3', 166),\n",
        " ('4be2ff0efe2995217b83966c', u'4be1ddfd2fc7d13a9c4b083a', 340),\n",
        " ('4be2ff0efe2995217b83966c', u'4e3ca482d4c058f9dbfb4181', 289),\n",
        " ('4b5903d7f964a5208c7828e3', u'4aa9b26cf964a520ed5420e3', 8003),\n",
        " ('4b5903d7f964a5208c7828e3', u'4baff774f964a520ee2e3ce3', 433),\n",
        " ('4b5903d7f964a5208c7828e3', u'4b4d2e9cf964a5208acd26e3', 1530),\n",
        " ('4b5903d7f964a5208c7828e3', u'4b0ae1e7f964a5205f2923e3', 4194),\n",
        " ('4b5903d7f964a5208c7828e3', u'4d51c9debd6ff04d9836f50c', 137),\n",
        " ('4c44f2ccf05e9521a33ae4b3', u'4b037087f964a520684f22e3', 2287),\n",
        " ('4c44f2ccf05e9521a33ae4b3', u'4aecaa99f964a52019ca21e3', 2080),\n",
        " ('4b6232e2f964a520a73b2ae3', u'4b5bc8a3f964a520011629e3', 2114),\n",
        " ('4be70ef5cf200f472d36153c', u'4aecd5d2f964a520a5cb21e3', 1110),\n",
        " ('4be70ef5cf200f472d36153c', u'4a6c8f6ef964a520d2d01fe3', 9261),\n",
        " ('4c45059cf97fbe9ab213bc30', u'4a91ad39f964a5204d1b20e3', 6810),\n",
        " ('4a1dfd2df964a520b47b1fe3', u'4b74645ef964a520a4d92de3', 2428),\n",
        " ('4a1dfd2df964a520b47b1fe3', u'40870b00f964a5209bf21ee3', 35806),\n",
        " ('4a1dfd2df964a520b47b1fe3', u'4202bb00f964a520621f1fe3', 4374),\n",
        " ('4a1dfd2df964a520b47b1fe3', u'4c8b8e75770fb60cdfd2dcc3', 149),\n",
        " ('4a1dfd2df964a520b47b1fe3', u'4a68fe03f964a52069cb1fe3', 903),\n",
        " ('4b3ff5f4f964a52009b325e3', u'4bc4be82920eb71313341f2c', 2721),\n",
        " ('4b3ff5f4f964a52009b325e3', u'4afa0a78f964a520401622e3', 4576),\n",
        " ('46d36eb9f964a520584a1fe3', u'4a7bc44ff964a520c5eb1fe3', 2903),\n",
        " ('46d36eb9f964a520584a1fe3', u'49e3a1c4f964a520a5621fe3', 4024),\n",
        " ('46d36eb9f964a520584a1fe3', u'40c8f600f964a520fe001fe3', 20332),\n",
        " ('46d36eb9f964a520584a1fe3', u'4a3bd40ff964a520cfa01fe3', 4983),\n",
        " ('46d36eb9f964a520584a1fe3', u'40870b00f964a5209bf21ee3', 35806),\n",
        " ('4b1d6dd4f964a5206b1024e3', u'4a9592d9f964a520b92320e3', 723),\n",
        " ('4b1d6dd4f964a5206b1024e3', u'4a09b759f964a52049741fe3', 19952),\n",
        " ('4b1d6dd4f964a5206b1024e3', u'4a31a239f964a520099a1fe3', 4740),\n",
        " ('4bccaa83cc8cd13a3f59c1cf', u'4b9407e3f964a520a86234e3', 2309),\n",
        " ('4bccaa83cc8cd13a3f59c1cf', u'4af639f9f964a5206d0222e3', 7938),\n",
        " ('4bccaa83cc8cd13a3f59c1cf', u'4b53d0a5f964a52039ac27e3', 1297),\n",
        " ('4a2c584bf964a5204f971fe3', u'4b36926bf964a520373825e3', 3759),\n",
        " ('4a2c584bf964a5204f971fe3', u'4a2c53f7f964a5204e971fe3', 2307),\n",
        " ('4a2c584bf964a5204f971fe3', u'430d0a00f964a52041271fe3', 7204),\n",
        " ('4a2c584bf964a5204f971fe3', u'4ef241e76da16847cce9cff4', 1496),\n",
        " ('4a2c584bf964a5204f971fe3', u'4bfee6cfdaf9c9b68a6ff9ef', 573),\n",
        " ('509b229ae4b04e2b3d9b7390', u'511c234119a980d7108a70b9', 7206),\n",
        " ('4baa785ef964a520076d3ae3', u'4a7cdbaff964a520e1ed1fe3', 5202),\n",
        " ('4baa785ef964a520076d3ae3', u'428fcb80f964a520e8231fe3', 27629),\n",
        " ('4baa785ef964a520076d3ae3', u'4add3ff0f964a520c06421e3', 7704),\n",
        " ('4baa785ef964a520076d3ae3', u'4a1babcbf964a520047b1fe3', 6792),\n",
        " ('4baa785ef964a520076d3ae3', u'49c3dfb3f964a52082561fe3', 7626),\n",
        " ('4fb5337d7beb65c72e11d769', u'4ac8d992f964a520dcbc20e3', 1609),\n",
        " ('4fb5337d7beb65c72e11d769', u'4ad24ff0f964a520d8e020e3', 1470),\n",
        " ('4fb5337d7beb65c72e11d769', u'4b58c08bf964a5202d6928e3', 401),\n",
        " ('4a79c77bf964a520a5e71fe3', u'4a283a2cf964a520fe941fe3', 1513),\n",
        " ('4a79c77bf964a520a5e71fe3', u'4a7a36a9f964a520e1e81fe3', 4857),\n",
        " ('4a79c77bf964a520a5e71fe3', u'4a5a7f27f964a52070ba1fe3', 2420),\n",
        " ('4a79c77bf964a520a5e71fe3', u'4fe0701a754a6e750336898c', 285),\n",
        " ('4a79c77bf964a520a5e71fe3', u'43067280f964a52023271fe3', 102491),\n",
        " ('451c196df964a520813a1fe3', u'4b1c59a2f964a5206b0624e3', 24871),\n",
        " ('451c196df964a520813a1fe3', u'452b81ddf964a520393b1fe3', 108164),\n",
        " ('451c196df964a520813a1fe3', u'42cc7080f964a520e9251fe3', 65175),\n",
        " ('451c196df964a520813a1fe3', u'454cf014f964a520c53c1fe3', 31416),\n",
        " ('451c196df964a520813a1fe3', u'4a5824e5f964a5206db71fe3', 74924),\n",
        " ('4b241d5af964a520656124e3', u'4b1c59a2f964a5206b0624e3', 24871),\n",
        " ('4b241d5af964a520656124e3', u'452b81ddf964a520393b1fe3', 108164),\n",
        " ('4b241d5af964a520656124e3', u'44abea42f964a5200a351fe3', 12068),\n",
        " ('4b241d5af964a520656124e3', u'451c196df964a520813a1fe3', 28071),\n",
        " ('4b241d5af964a520656124e3', u'4c3c8ecb282203bb79a4fcda', 2556),\n",
        " ('4bb1356cf964a52095833ce3', u'4a382bb1f964a520c19e1fe3', 1964),\n",
        " ('4b5ba043f964a520ee0b29e3', u'4ae87fcbf964a520e0af21e3', 6102),\n",
        " ('4b5ba043f964a520ee0b29e3', u'49d148c2f964a520715b1fe3', 8989),\n",
        " ('4b5ba043f964a520ee0b29e3', u'4da5027193a003e248d175a6', 2145),\n",
        " ('4b5ba043f964a520ee0b29e3', u'4a81b3b0f964a5204af71fe3', 21232),\n",
        " ('4b5ba043f964a520ee0b29e3', u'4ae930baf964a5208db421e3', 3598),\n",
        " ('4ba434bef964a520eb8b38e3', u'4eb073289adf1abeff6282af', 1615),\n",
        " ('4d7596102140721eb80bc63d', u'4486b2d2f964a5202d341fe3', 18423),\n",
        " ('4d7596102140721eb80bc63d', u'4a469839f964a52029a91fe3', 14588),\n",
        " ('4b3d2bf0f964a520888f25e3', u'463c53f3f964a5202d461fe3', 15209),\n",
        " ('4b3d2bf0f964a520888f25e3', u'4c2027bfb4e62d7f62cbe093', 159),\n",
        " ('4d727ee9d145a1cdc988b5f3', u'49b49a9af964a520f0521fe3', 2346),\n",
        " ('4d727ee9d145a1cdc988b5f3', u'463e030bf964a52043461fe3', 3002),\n",
        " ('4d727ee9d145a1cdc988b5f3', u'43e879cbf964a5200f2f1fe3', 16565),\n",
        " ('4d727ee9d145a1cdc988b5f3', u'415c9e00f964a520561d1fe3', 7825),\n",
        " ('4d727ee9d145a1cdc988b5f3', u'46db1a43f964a5207f4a1fe3', 2568),\n",
        " ('4a26f671f964a520f67e1fe3', u'49f885fcf964a520fe6c1fe3', 3057),\n",
        " ('4a26f671f964a520f67e1fe3', u'4b415cd7f964a520d9c525e3', 1917),\n",
        " ('4a26f671f964a520f67e1fe3', u'4a11b54cf964a52031771fe3', 1417),\n",
        " ('4a26f671f964a520f67e1fe3', u'4a7eda4ef964a52034f21fe3', 3023),\n",
        " ('4a53c8e7f964a520b9b21fe3', u'4a6fd0b9f964a52006d71fe3', 2967),\n",
        " ('4a53c8e7f964a520b9b21fe3', u'49c68479f964a52056571fe3', 1089),\n",
        " ('4a53c8e7f964a520b9b21fe3', u'4c26686d5c5ca593a31f46fe', 6140),\n",
        " ('4a53c8e7f964a520b9b21fe3', u'49cd1ad3f964a520ba591fe3', 1620),\n",
        " ('4a53c8e7f964a520b9b21fe3', u'4827b8b1f964a520bb4f1fe3', 15463),\n",
        " ('4b9047c0f964a5201b8133e3', u'40bbc700f964a520b1001fe3', 102983),\n",
        " ('4abc3960f964a520d38620e3', u'4baba456f964a52010bc3ae3', 529),\n",
        " ('4b1b060cf964a5209ff623e3', u'49dcfdb3f964a520dd5f1fe3', 14869),\n",
        " ('4b1b060cf964a5209ff623e3', u'49ff7752f964a52029701fe3', 3540),\n",
        " ('451c196df964a520813a1fe3', u'4b1c59a2f964a5206b0624e3', 24871),\n",
        " ('451c196df964a520813a1fe3', u'452b81ddf964a520393b1fe3', 108165),\n",
        " ('451c196df964a520813a1fe3', u'42cc7080f964a520e9251fe3', 65175),\n",
        " ('451c196df964a520813a1fe3', u'454cf014f964a520c53c1fe3', 31416),\n",
        " ('451c196df964a520813a1fe3', u'4a5824e5f964a5206db71fe3', 74924),\n",
        " ('4b87007bf964a520cbaa31e3', u'43a457b4f964a520482c1fe3', 28858),\n",
        " ('4b87007bf964a520cbaa31e3', u'4bdc9a272a3a0f47e198b3b6', 1650),\n",
        " ('4b87007bf964a520cbaa31e3', u'4a34225bf964a520c89b1fe3', 21098),\n",
        " ('4b87007bf964a520cbaa31e3', u'45606719f964a5209b3d1fe3', 25892),\n",
        " ('4ae332f8f964a520959121e3', u'4486b2d2f964a5202d341fe3', 18423),\n",
        " ('4ae332f8f964a520959121e3', u'4a2ac0fdf964a52049961fe3', 4608),\n",
        " ('4ae332f8f964a520959121e3', u'49b71814f964a5201a531fe3', 30272),\n",
        " ('4ae332f8f964a520959121e3', u'440b2793f964a52071301fe3', 2144),\n",
        " ('4ae332f8f964a520959121e3', u'4a9eedbcf964a520ce3b20e3', 2672),\n",
        " ('4aa6a2aaf964a520744a20e3', u'43067280f964a52023271fe3', 102491),\n",
        " ('4aa6a2aaf964a520744a20e3', u'4ab12d81f964a520546820e3', 4010),\n",
        " ('4aa6a2aaf964a520744a20e3', u'430e5b80f964a52042271fe3', 9030),\n",
        " ('4c13b6c67f7f2d7f5783df68', u'4c3bd67c7d00d13aae343850', 2853),\n",
        " ('4b6b7cf6f964a520f90b2ce3', u'4b3d5a11f964a520f09225e3', 3294),\n",
        " ('4b6b7cf6f964a520f90b2ce3', u'4b3ffbe5f964a52098b325e3', 2310),\n",
        " ('4e727be9ae60854eea38b112', u'4b2a6671f964a52062a824e3', 3695),\n",
        " ('4f85f39fe4b0857634b0a0d5', u'49e1bb11f964a520e6611fe3', 8011),\n",
        " ('506368a9e4b0675ed5d4f46e', u'459ac90cf964a52088401fe3', 21379),\n",
        " ('4b719d4bf964a52041512de3', u'449d1646f964a520b5341fe3', 71633),\n",
        " ('4fb5337e7beb65c72e11d8f4', u'48508c41f964a5209f501fe3', 8379),\n",
        " ('4c17bc854ff90f47bf5b0d49', u'4ad4d633f964a52021fc20e3', 3475),\n",
        " ('4c17bc854ff90f47bf5b0d49', u'4a86e97ff964a5209b0120e3', 4713),\n",
        " ('4c5f29b6de6920a1e0289364', u'455ad751f964a5205a3d1fe3', 34873),\n",
        " ('4d1ba417fd7bb60c1b6997e1', u'4dacc94c04370a776f60be3f', 992),\n",
        " ('4d1ba417fd7bb60c1b6997e1', u'4abea642f964a520138f20e3', 7442),\n",
        " ('4d1ba417fd7bb60c1b6997e1', u'4a4ea111f964a520d4ae1fe3', 7219),\n",
        " ('4d1ba417fd7bb60c1b6997e1', u'4a2c584bf964a5204f971fe3', 6882),\n",
        " ('4d1ba417fd7bb60c1b6997e1', u'4a7843fbf964a52054e51fe3', 2672),\n",
        " ('4b803172f964a520155b30e3', u'4a4561f9f964a5201da81fe3', 9515),\n",
        " ('4aac2da3f964a520b25c20e3', u'4aa2d632f964a5204b4220e3', 1160),\n",
        " ('4aac2da3f964a520b25c20e3', u'4c4f3b8992ce2d7fce96782f', 1495),\n",
        " ('4aac2da3f964a520b25c20e3', u'4eb073289adf1abeff6282af', 1615),\n",
        " ('4aac2da3f964a520b25c20e3', u'4bbfcd582a89ef3be3a3ef88', 234),\n",
        " ('4aac2da3f964a520b25c20e3', u'4a50ed66f964a52043b01fe3', 4092),\n",
        " ('4b3ea862f964a5206ba025e3', u'4aa9b26cf964a520ed5420e3', 8004),\n",
        " ('4b4a66dff964a520878626e3', u'43616a00f964a52037291fe3', 22056),\n",
        " ('4b4a66dff964a520878626e3', u'4dd1580eb3adb047f5024231', 16116),\n",
        " ('4b4a66dff964a520878626e3', u'49c24cc7f964a520e3551fe3', 11525),\n",
        " ('4b4a66dff964a520878626e3', u'49ff43f9f964a520fa6f1fe3', 11015),\n",
        " ('4fb5337f7beb65c72e11d985', u'4a90a178f964a520db1820e3', 3869),\n",
        " ('4fb5337f7beb65c72e11d985', u'49f9c00bf964a520826d1fe3', 2907),\n",
        " ('50512990e4b06a94909fc54d', u'4c4e544adb2c20a16db93a74', 10168),\n",
        " ('50512990e4b06a94909fc54d', u'4e1bebb781306017a4cd4cb3', 8893),\n",
        " ('50512990e4b06a94909fc54d', u'49dd948cf964a5201c601fe3', 11898),\n",
        " ('4bba879b3db7b713e573239a', u'4b33a70ff964a520321c25e3', 1376),\n",
        " ('4bba879b3db7b713e573239a', u'4b2920a3f964a5204d9924e3', 2919),\n",
        " ('4d3ee758978476eb5f8d57fc', u'4a8da855f964a520711020e3', 3710),\n",
        " ('507478bee4b05243aa30afe8', u'49bee717f964a520f3541fe3', 7853),\n",
        " ('5192d1038bbd2867dd30ab41', u'4a7caac0f964a52027ed1fe3', 907),\n",
        " ('5192d1038bbd2867dd30ab41', u'4bf8482d5317a5936f8cff7e', 738),\n",
        " ('5192d1038bbd2867dd30ab41', u'49c9d126f964a5209b581fe3', 2806),\n",
        " ('4ca021637ada199cf017a5bc', u'4b4a8361f964a520aa8926e3', 1566),\n",
        " ('4ca021637ada199cf017a5bc', u'4b9c49e7f964a520485c36e3', 779),\n",
        " ('4ca021637ada199cf017a5bc', u'4ba18861f964a5209ebe37e3', 675),\n",
        " ('4ca021637ada199cf017a5bc', u'4c30defb452620a1d6c51f0f', 786),\n",
        " ('4ca021637ada199cf017a5bc', u'4e45d9ccc65bd6ffbe8a843b', 334),\n",
        " ('4ad0ff2bf964a520d3db20e3', u'435c2400f964a52008291fe3', 36158),\n",
        " ('4ad0ff2bf964a520d3db20e3', u'4a4574cbf964a52033a81fe3', 9254),\n",
        " ('4ad0ff2bf964a520d3db20e3', u'4a8ae30ff964a520bc0a20e3', 13379),\n",
        " ('4ad0ff2bf964a520d3db20e3', u'4a22d2adf964a520907d1fe3', 10471),\n",
        " ('4ad0ff2bf964a520d3db20e3', u'4b23bb4af964a520b25824e3', 1336),\n",
        " ('4b1724a4f964a520f2c223e3', u'4bbbdb98e4529521945055a4', 44),\n",
        " ('4b1724a4f964a520f2c223e3', u'4b0ecb2af964a5201e5b23e3', 68),\n",
        " ('4b99b565f964a520688d35e3', u'46d36f99f964a520594a1fe3', 13696),\n",
        " ('4b99b565f964a520688d35e3', u'48569af7f964a520ba501fe3', 12746),\n",
        " ('4b99b565f964a520688d35e3', u'42926e80f964a52023241fe3', 5185),\n",
        " ('4b99b565f964a520688d35e3', u'4b467d19f964a520742226e3', 928),\n",
        " ('4b99b565f964a520688d35e3', u'414e1d80f964a520ed1c1fe3', 15927),\n",
        " ('4dd48b8fc65be32e5f884212', u'4be9fb096295c9b61cf48508', 214),\n",
        " ('49e90442f964a520bb651fe3', u'484a7920f964a5207c501fe3', 14009),\n",
        " ('49e90442f964a520bb651fe3', u'5237327711d2cc03ee3e73b5', 4540),\n",
        " ('49e90442f964a520bb651fe3', u'4a4e63b7f964a52065ae1fe3', 5334),\n",
        " ('4b1bf3aff964a5208cff23e3', u'40bbc700f964a520b1001fe3', 102985),\n",
        " ('4b1bf3aff964a5208cff23e3', u'49b71814f964a5201a531fe3', 30273),\n",
        " ('4b1bf3aff964a5208cff23e3', u'4a88854ff964a520bf0620e3', 2162),\n",
        " ('4b1bf3aff964a5208cff23e3', u'4b11c17df964a520f68323e3', 2656),\n",
        " ('4b1bf3aff964a5208cff23e3', u'42cc7080f964a520e9251fe3', 65175),\n",
        " ('4c7c5bb43e90a1cd4c7242be', u'4bfc9b8d4cf820a16361ebf4', 619),\n",
        " ('4c7c5bb43e90a1cd4c7242be', u'4a20d67af964a520c57c1fe3', 13451),\n",
        " ('4bfaeb93d0382d7f57f8c80a', u'4b3a37f0f964a520706225e3', 652),\n",
        " ('4bfaeb93d0382d7f57f8c80a', u'47f002bbf964a520724e1fe3', 9171),\n",
        " ('4bfaeb93d0382d7f57f8c80a', u'4a3c3b58f964a5204aa11fe3', 4351),\n",
        " ('4bfaeb93d0382d7f57f8c80a', u'4c6f30e4fa49a1cd906da2e3', 1670),\n",
        " ('4bfaeb93d0382d7f57f8c80a', u'455ad6b4f964a520573d1fe3', 13386),\n",
        " ('4b551cb7f964a52080db27e3', u'45059d74f964a5200b391fe3', 17206),\n",
        " ('4b551cb7f964a52080db27e3', u'4f64fc17e4b08383b223f095', 1122),\n",
        " ('4b551cb7f964a52080db27e3', u'4b7075c6f964a520bd1b2de3', 750),\n",
        " ('4b551cb7f964a52080db27e3', u'49f50f7af964a5208c6b1fe3', 31140),\n",
        " ('49b83d2af964a5203a531fe3', u'4ab3996df964a520d66d20e3', 4917),\n",
        " ('49b83d2af964a5203a531fe3', u'44e9b873f964a520a6371fe3', 8463),\n",
        " ('4e5fdd1dfa7631dc40990d48', u'4abd2857f964a520c98820e3', 12836),\n",
        " ('4e619d63d164ddd5e56d3c94', u'4dfb9c2c1f6eeef806ab898c', 1641),\n",
        " ('4e619d63d164ddd5e56d3c94', u'4dddc1781f6e03694735667c', 6824),\n",
        " ('4d2b8147ebacb1f755820c50', u'4b819f25f964a5204ab330e3', 40094),\n",
        " ('4b7b601ef964a520a9602fe3', u'4bae4c59f964a5203f9f3be3', 1072),\n",
        " ('4b7b601ef964a520a9602fe3', u'45606719f964a5209b3d1fe3', 25892),\n",
        " ('4b7b601ef964a520a9602fe3', u'4aa8660ff964a5201e5120e3', 4192),\n",
        " ('4b7b601ef964a520a9602fe3', u'4b4396ebf964a520d5e325e3', 2019),\n",
        " ('4b7b601ef964a520a9602fe3', u'4b030ba9f964a520344c22e3', 829),\n",
        " ('4ca76404d971b1f7309509e1', u'4af4afb8f964a52015f521e3', 1884),\n",
        " ('4ca76404d971b1f7309509e1', u'4682f231f964a52023481fe3', 1311),\n",
        " ('4b16cd91f964a520b7bd23e3', u'4e860fdfb803eed4242419cd', 171),\n",
        " ('4b16cd91f964a520b7bd23e3', u'4b639e0bf964a52057872ae3', 1036),\n",
        " ('4ace3e43f964a52059cf20e3', u'4aa5bd0df964a520574920e3', 6765),\n",
        " ('4ace3e43f964a52059cf20e3', u'49dd3c62f964a520f45f1fe3', 4016),\n",
        " ('4ace3e43f964a52059cf20e3', u'4b4647b2f964a5205f1c26e3', 195),\n",
        " ('4ace3e43f964a52059cf20e3', u'4b0af700f964a520cb2a23e3', 361),\n",
        " ('4ace3e43f964a52059cf20e3', u'44007b25f964a52014301fe3', 2469),\n",
        " ('4fc94575d4f24895b446724e', u'4a510702f964a52072b01fe3', 15327),\n",
        " ('4fc94575d4f24895b446724e', u'4ae9f908f964a5201cb821e3', 2705),\n",
        " ('4fc94575d4f24895b446724e', u'4bec8a3db68520a1ca4b1287', 828),\n",
        " ('4fc94575d4f24895b446724e', u'4b5e503af964a520208929e3', 2615),\n",
        " ('4fc94575d4f24895b446724e', u'4827696af964a520aa4f1fe3', 8300),\n",
        " ('4b47f29cf964a520cf4426e3', u'4cff500d2ba98eec0ac854fd', 556),\n",
        " ('4bd38a06462cb71367bfde07', u'4ae65c37f964a520a4a621e3', 2593),\n",
        " ('4c795481566db60c7a85440e', u'4b1ee95ef964a520752124e3', 4367),\n",
        " ('4c795481566db60c7a85440e', u'4c3bd67c7d00d13aae343850', 2853),\n",
        " ('4a0e9e15f964a520e7751fe3', u'4b5e4acaf964a520108829e3', 1393),\n",
        " ('4a0e9e15f964a520e7751fe3', u'4a8af3b5f964a520fd0a20e3', 2608),\n",
        " ('4a0e9e15f964a520e7751fe3', u'43c51016f964a520632d1fe3', 9642),\n",
        " ('4a0e9e15f964a520e7751fe3', u'4a5c046af964a52024bc1fe3', 5082),\n",
        " ('4a0e9e15f964a520e7751fe3', u'4a285f62f964a5201a951fe3', 3250),\n",
        " ('4ba68c24f964a520255d39e3', u'4a6b4b07f964a5205cce1fe3', 4972),\n",
        " ('4ba68c24f964a520255d39e3', u'4a1e0eb7f964a520c17b1fe3', 4579),\n",
        " ('4ba68c24f964a520255d39e3', u'4f341171e4b005a8a09f288b', 3654),\n",
        " ('4aef68faf964a52038d821e3', u'4a34225bf964a520c89b1fe3', 21098),\n",
        " ('4aef68faf964a52038d821e3', u'4bd4c0426f649521760e6eec', 1737),\n",
        " ('4aef68faf964a52038d821e3', u'4c311432ed37a59308db6903', 5111),\n",
        " ('4aef68faf964a52038d821e3', u'4a809eeaf964a520b8f51fe3', 2487),\n",
        " ('4aef68faf964a52038d821e3', u'47d868cff964a5202e4e1fe3', 7657),\n",
        " ('4b14298ff964a520499e23e3', u'4a1cbb77f964a5205e7b1fe3', 9903),\n",
        " ('4b14298ff964a520499e23e3', u'4ba3e8a1f964a5209a6c38e3', 713),\n",
        " ('49ee3169f964a52036681fe3', u'450af4f4f964a5204c391fe3', 21438),\n",
        " ('49ee3169f964a52036681fe3', u'44fc846ff964a52089381fe3', 3417),\n",
        " ('49ee3169f964a52036681fe3', u'450af486f964a5204b391fe3', 5546),\n",
        " ('49ee3169f964a52036681fe3', u'4a61202bf964a520f1c11fe3', 6898),\n",
        " ('49ee3169f964a52036681fe3', u'4bef2c5bea570f4790058fd2', 12888),\n",
        " ('49f885fcf964a520fe6c1fe3', u'4a412cc5f964a520e2a41fe3', 988),\n",
        " ('49f885fcf964a520fe6c1fe3', u'4a11b54cf964a52031771fe3', 1417),\n",
        " ('49f885fcf964a520fe6c1fe3', u'4f4dbb23e4b0b2a2fe25151c', 2871),\n",
        " ('49f885fcf964a520fe6c1fe3', u'4a9603b2f964a520d22520e3', 2185),\n",
        " ('49f885fcf964a520fe6c1fe3', u'4a3fe1b4f964a52008a41fe3', 1884),\n",
        " ('4a874971f964a520a40320e3', u'4ab8e6d0f964a5204d7d20e3', 2932),\n",
        " ('4a874971f964a520a40320e3', u'4a11b8aaf964a52037771fe3', 4107),\n",
        " ('4a874971f964a520a40320e3', u'49e24747f964a52003621fe3', 8525),\n",
        " ('4a874971f964a520a40320e3', u'4a6a1387f964a5208ecc1fe3', 3236),\n",
        " ('4a874971f964a520a40320e3', u'442fe898f964a520e5311fe3', 39419),\n",
        " ('4ed675c84690ad261cecd806', u'440db456f964a52097301fe3', 11783),\n",
        " ('4ed675c84690ad261cecd806', u'511ab11fe4b078c672896eab', 6692),\n",
        " ('4ed675c84690ad261cecd806', u'4c4e30871b8e1b8dd9d3c426', 8275),\n",
        " ('4ed675c84690ad261cecd806', u'49b1697af964a520d6521fe3', 9535),\n",
        " ('4ed675c84690ad261cecd806', u'43ecd8f5f964a520472f1fe3', 6575),\n",
        " ('4b06fca3f964a520d0f422e3', u'43067280f964a52023271fe3', 102491),\n",
        " ('4b06fca3f964a520d0f422e3', u'430e5b80f964a52042271fe3', 9030),\n",
        " ('4b06fca3f964a520d0f422e3', u'4bd2177d046076b055357371', 187639),\n",
        " ('4ad5a381f964a520340321e3', u'4aedf498f964a5209dd021e3', 3995),\n",
        " ('4bbe2269061fb71384c8edce', u'4bbb7d45e452952127c054a4', 690),\n",
        " ('4a575d47f964a5200ab61fe3', u'4c9e6fa854c8a1cdfed38d4b', 8726),\n",
        " ('4a575d47f964a5200ab61fe3', u'4a1b2329f964a520d37a1fe3', 5695),\n",
        " ('4a575d47f964a5200ab61fe3', u'4ac1270bf964a5200b9620e3', 1580),\n",
        " ('4a575d47f964a5200ab61fe3', u'49d034bff964a520105b1fe3', 9408),\n",
        " ('4a575d47f964a5200ab61fe3', u'4bae6376f964a520c5ab3be3', 1050),\n",
        " ('4c8e66dcd2aea093d726ce69', u'4c8e988ca8de224b41bb2801', 193),\n",
        " ('4c8e66dcd2aea093d726ce69', u'4b4b8840f964a5205f9f26e3', 4601),\n",
        " ('4b7b0f75f964a520144f2fe3', u'4dc97f8c52b197468f000240', 148),\n",
        " ('4b7b0f75f964a520144f2fe3', u'4baf84d2f964a52093063ce3', 2414),\n",
        " ('4b6f26b4f964a5208de02ce3', u'4b305bf6f964a52029f924e3', 4509),\n",
        " ('4b6f26b4f964a5208de02ce3', u'4bc8d41468f976b005105c83', 1106),\n",
        " ('4b6f26b4f964a5208de02ce3', u'4c1bce9cb4e62d7fee02da93', 1222),\n",
        " ('4b6f26b4f964a5208de02ce3', u'4b2e9021f964a5208be224e3', 2331),\n",
        " ('49e24747f964a52003621fe3', u'4a710320f964a520f8d81fe3', 2050),\n",
        " ('49e24747f964a52003621fe3', u'442fe898f964a520e5311fe3', 39419),\n",
        " ('49e24747f964a52003621fe3', u'4ae476e9f964a520bc9a21e3', 1964),\n",
        " ('49e24747f964a52003621fe3', u'4a11b8aaf964a52037771fe3', 4107),\n",
        " ('49e24747f964a52003621fe3', u'4bdb2a8d63c5c9b6bea62668', 320),\n",
        " ('4ba53ecff964a52005f138e3', u'4bcbfb813740b713c06a6365', 2337),\n",
        " ('4ad781cef964a520930b21e3', u'452b81ddf964a520393b1fe3', 108168),\n",
        " ('49f1e295f964a520be691fe3', u'4a09b759f964a52049741fe3', 19952),\n",
        " ('49f1e295f964a520be691fe3', u'4ae37361f964a520439521e3', 2549),\n",
        " ('49f1e295f964a520be691fe3', u'4aba535ff964a520e58020e3', 3777),\n",
        " ('49f1e295f964a520be691fe3', u'4b3fd6fbf964a52030b025e3', 1382),\n",
        " ('49f1e295f964a520be691fe3', u'4ae7c307f964a52093ad21e3', 3498),\n",
        " ('4b9f2821f964a520ea1537e3', u'4b1742f3f964a52055c423e3', 2238),\n",
        " ('4b1593bef964a52025af23e3', u'45e6b309f964a5204c431fe3', 5424),\n",
        " ('4b1593bef964a52025af23e3', u'4b5cdaf0f964a5208a4729e3', 765),\n",
        " ('4b6f4575f964a52063e82ce3', u'45606719f964a5209b3d1fe3', 25892),\n",
        " ('4b6f4575f964a52063e82ce3', u'47f00cc0f964a5207b4e1fe3', 12775),\n",
        " ('4b9407e3f964a520a86234e3', u'4af639f9f964a5206d0222e3', 7938),\n",
        " ('4b9407e3f964a520a86234e3', u'4bccaa83cc8cd13a3f59c1cf', 913),\n",
        " ('4b9407e3f964a520a86234e3', u'4b50bb9ff964a520e32f27e3', 10132),\n",
        " ('4b9407e3f964a520a86234e3', u'48506141f964a52096501fe3', 8849),\n",
        " ('4b9407e3f964a520a86234e3', u'4b53d0a5f964a52039ac27e3', 1297),\n",
        " ('4b96ef15f964a520d6ee34e3', u'4ba30c92f964a520992938e3', 830),\n",
        " ('4b414531f964a5206bc425e3', u'4ab52ddff964a520087320e3', 2209),\n",
        " ('4b414531f964a5206bc425e3', u'4bdb44f9c79cc928a4eb81e9', 1187),\n",
        " ('4b414531f964a5206bc425e3', u'4c54539706901b8d349f9d4b', 921),\n",
        " ('4b414531f964a5206bc425e3', u'455ad6b4f964a520573d1fe3', 13387),\n",
        " ('4b414531f964a5206bc425e3', u'4c1e4f64b306c928d9d266b7', 15625),\n",
        " ('4c6f8080d7fab1f7e7c35bc9', u'49dba3b4f964a520e25e1fe3', 22568),\n",
        " ('4c6f8080d7fab1f7e7c35bc9', u'4a58d82ff964a52005b81fe3', 3668),\n",
        " ('4ae9cc0ff964a52085b621e3', u'4b1b1015f964a5206df723e3', 1783),\n",
        " ('4ae9cc0ff964a52085b621e3', u'4bc7747c2f94d13ac4f5117f', 1164),\n",
        " ('4ae9cc0ff964a52085b621e3', u'4a09b759f964a52049741fe3', 19952),\n",
        " ('4ae9cc0ff964a52085b621e3', u'4838dacff964a520fa4f1fe3', 11097),\n",
        " ('4ae9cc0ff964a52085b621e3', u'4a088d77f964a520e6731fe3', 2013),\n",
        " ('4c5f7aa613791b8da8ae4daf', u'4a65606bf964a52088c71fe3', 4615),\n",
        " ('4c5f7aa613791b8da8ae4daf', u'4a5798e3f964a52071b61fe3', 7480),\n",
        " ('4c5f7aa613791b8da8ae4daf', u'4abfc3d1f964a5200f9220e3', 9621),\n",
        " ('4c5f7aa613791b8da8ae4daf', u'4b9bd0f6f964a520a62836e3', 11861),\n",
        " ('4c5f7aa613791b8da8ae4daf', u'4ba53da7f964a5206df038e3', 1807),\n",
        " ('4a4e5dcaf964a5205dae1fe3', u'4a2c584bf964a5204f971fe3', 6882),\n",
        " ('4a4e5dcaf964a5205dae1fe3', u'4a2c4660f964a52046971fe3', 6723),\n",
        " ('4a4e5dcaf964a5205dae1fe3', u'4b2bff4df964a52044bf24e3', 1450),\n",
        " ('4a4e5dcaf964a5205dae1fe3', u'4aff687ff964a520483822e3', 1463),\n",
        " ('4a4e5dcaf964a5205dae1fe3', u'4a0f514ef964a5204b761fe3', 3635),\n",
        " ('4b4147e8f964a5208fc425e3', u'4b464b35f964a520c61c26e3', 197),\n",
        " ('4b4621a7f964a5207a1726e3', u'4c0533a8187ec9280a10b87b', 1901),\n",
        " ('4b671bb3f964a5201a3b2be3', u'4a43d42df964a520d9a61fe3', 4648),\n",
        " ('4b8ebd3cf964a520283433e3', u'4b2537ddf964a520366e24e3', 2584),\n",
        " ('4b8ebd3cf964a520283433e3', u'4ee424d5b634710b8ab3afa4', 183),\n",
        " ('4b4617e3f964a520201626e3', u'4b590db6f964a520507a28e3', 5777),\n",
        " ('4c79737b81bca093d57cfd14', u'43e73ce3f964a5200a2f1fe3', 5281),\n",
        " ('4c79737b81bca093d57cfd14', u'4c29567f9fb5d13aa2139b57', 23784),\n",
        " ('4c79737b81bca093d57cfd14', u'4b0d94b7f964a520824b23e3', 1042),\n",
        " ('4c79737b81bca093d57cfd14', u'4c547b97a724e21eed4979f6', 845),\n",
        " ('4c79737b81bca093d57cfd14', u'435c2400f964a52008291fe3', 36158),\n",
        " ('4bb25bf242959c748cba202c', u'49bc2d06f964a5201d541fe3', 8801),\n",
        " ('4bb25bf242959c748cba202c', u'4a9eedbcf964a520ce3b20e3', 2672),\n",
        " ('4bb25bf242959c748cba202c', u'49b71814f964a5201a531fe3', 30273),\n",
        " ('4bb25bf242959c748cba202c', u'4a8c50ddf964a520a30d20e3', 1389),\n",
        " ('4ad0f592f964a5207bdb20e3', u'4a79c77bf964a520a5e71fe3', 6744),\n",
        " ('4ad0f592f964a5207bdb20e3', u'4a283a2cf964a520fe941fe3', 1513),\n",
        " ('4ad0f592f964a5207bdb20e3', u'4b045053f964a520375322e3', 3990),\n",
        " ('4ad0f592f964a5207bdb20e3', u'4a6dcaaef964a520fed21fe3', 6798),\n",
        " ('4ad0f592f964a5207bdb20e3', u'4a7a36a9f964a520e1e81fe3', 4857),\n",
        " ('4bc3d2ec461576b052427f32', u'4a34225bf964a520c89b1fe3', 21098),\n",
        " ('4bc3d2ec461576b052427f32', u'4bd4c0426f649521760e6eec', 1737),\n",
        " ('4bc3d2ec461576b052427f32', u'4c311432ed37a59308db6903', 5111),\n",
        " ('4bc3d2ec461576b052427f32', u'4cc9b9320f7bef3bc7aa7fdd', 2540),\n",
        " ('4bc3d2ec461576b052427f32', u'43a457b4f964a520482c1fe3', 28858),\n",
        " ('4ae371ebf964a5202f9521e3', u'4c1f9a12b306c92885ad68b7', 2292),\n",
        " ('4b5e6f56f964a520998e29e3', u'4a33bce5f964a5203a9b1fe3', 8415),\n",
        " ('4b5e6f56f964a520998e29e3', u'4c65c9357abde21e49c46168', 2947),\n",
        " ('4b5e6f56f964a520998e29e3', u'49dfad1ef964a520f9601fe3', 24586),\n",
        " ('4b5e6f56f964a520998e29e3', u'4afdc6eef964a520c22a22e3', 11863),\n",
        " ('4d86751661676dcbcf9ba0e4', u'4a7f6580f964a520e4f31fe3', 2054),\n",
        " ('4d86751661676dcbcf9ba0e4', u'43d3901ef964a5201f2e1fe3', 18472),\n",
        " ('4a9709a0f964a5201b2820e3', u'43f703c9f964a520b52f1fe3', 9707),\n",
        " ('4a9709a0f964a5201b2820e3', u'49fa1dc1f964a520c16d1fe3', 17608),\n",
        " ('4a9709a0f964a5201b2820e3', u'42911d00f964a5200f241fe3', 8107),\n",
        " ('4b62645cf964a520a7452ae3', u'49f50f7af964a5208c6b1fe3', 31140),\n",
        " ('4b62645cf964a520a7452ae3', u'4bafcfc0f964a520bc223ce3', 637),\n",
        " ('4b62645cf964a520a7452ae3', u'45059d74f964a5200b391fe3', 17206),\n",
        " ('4b62645cf964a520a7452ae3', u'4d700dbcedca2c0fb7ff58ea', 7089),\n",
        " ('4b62645cf964a520a7452ae3', u'4a834e63f964a520b6fa1fe3', 4378),\n",
        " ('4a5f5853f964a5206bbf1fe3', u'4b29521cf964a520d99c24e3', 2347),\n",
        " ('4a5f5853f964a5206bbf1fe3', u'4a747b6af964a52044de1fe3', 1131),\n",
        " ('4a5f5853f964a5206bbf1fe3', u'4a7e134cf964a520dff01fe3', 386),\n",
        " ('4a5f5853f964a5206bbf1fe3', u'4b4fc498f964a520b11427e3', 400),\n",
        " ('4a5f5853f964a5206bbf1fe3', u'4e3b0e0fb0fb875af8421e80', 210),\n",
        " ('4b7332a7f964a52055a12de3', u'409d7480f964a520f2f21ee3', 71653),\n",
        " ('4b7332a7f964a52055a12de3', u'4c279d763703d13a5a4aa736', 42936),\n",
        " ('4b7332a7f964a52055a12de3', u'4ba7f1b9f964a520b8c039e3', 25231),\n",
        " ('4b7332a7f964a52055a12de3', u'49f5e047f964a520c86b1fe3', 4351),\n",
        " ('4b7332a7f964a52055a12de3', u'4bcbdc60511f95217b46b2c7', 1374),\n",
        " ('4bac73c6f964a520b9f53ae3', u'4bf0483a3a002d7fe5ed85a4', 2374),\n",
        " ('4bac73c6f964a520b9f53ae3', u'4b0ed506f964a520ae5b23e3', 4311),\n",
        " ('4bac73c6f964a520b9f53ae3', u'4a23661cf964a520d47d1fe3', 5444),\n",
        " ('4bac73c6f964a520b9f53ae3', u'468d6e84f964a52075481fe3', 7233),\n",
        " ('4fb5337d7beb65c72e11d762', u'4b85e394f964a520147831e3', 1097),\n",
        " ('4b91684cf964a520f6b933e3', u'4af78bc4f964a520cb0922e3', 8245),\n",
        " ('4bad090ff964a520e1263be3', u'455ad71cf964a520593d1fe3', 19921),\n",
        " ('4bad090ff964a520e1263be3', u'4f3d9affe4b03dd02358bb0a', 2916),\n",
        " ('4bb11513f964a520d8783ce3', u'4ecd6afa6da162f1bb1829b1', 1249),\n",
        " ('4bb11513f964a520d8783ce3', u'4a6ce9dbf964a5200cd21fe3', 2936),\n",
        " ('4bb11513f964a520d8783ce3', u'4b00e2c4f964a5206c4122e3', 3456),\n",
        " ('4bb11513f964a520d8783ce3', u'4a4f8b77f964a5206aaf1fe3', 5460),\n",
        " ('4c2130edaa8e9c74d72df4d4', u'442fe898f964a520e5311fe3', 39419),\n",
        " ...]"
       ]
      }
     ],
     "prompt_number": 55
    },
    {
     "cell_type": "code",
     "collapsed": false,
     "input": [],
     "language": "python",
     "metadata": {},
     "outputs": []
    }
   ],
   "metadata": {}
  }
 ]
}