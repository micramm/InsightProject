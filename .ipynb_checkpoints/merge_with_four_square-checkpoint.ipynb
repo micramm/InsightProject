{
 "metadata": {
  "name": "",
  "signature": "sha256:a6d5fc5264997a47e7f9d53bd84543ac342ffacb5f616fc9f76af8104c6f329a"
 },
 "nbformat": 3,
 "nbformat_minor": 0,
 "worksheets": [
  {
   "cells": [
    {
     "cell_type": "code",
     "collapsed": false,
     "input": [
      "import pandas as pd\n",
      "import four_square_api\n",
      "import time\n",
      "four_square = four_square_api.four_square_api()"
     ],
     "language": "python",
     "metadata": {},
     "outputs": [],
     "prompt_number": 1
    },
    {
     "cell_type": "code",
     "collapsed": false,
     "input": [
      "yelp = pd.read_csv('yelp.csv')\n",
      "cats = pd.read_csv('categories.csv')\n",
      "print yelp.columns"
     ],
     "language": "python",
     "metadata": {},
     "outputs": [
      {
       "output_type": "stream",
       "stream": "stdout",
       "text": [
        "Index([u'Unnamed: 0', u'address', u'categories', u'city', u'display_address', u'id', u'image_url', u'name', u'phone', u'postal_code', u'rating', u'rating_img_url_large', u'review_count', u'url', u'complete_lookup_address', u'latitude', u'longitude', u'latlng_confidence'], dtype='object')\n"
       ]
      }
     ],
     "prompt_number": 2
    },
    {
     "cell_type": "code",
     "collapsed": false,
     "input": [
      "print four_square.find_matching_business('Town', 94070, 6505953003)"
     ],
     "language": "python",
     "metadata": {},
     "outputs": [
      {
       "output_type": "stream",
       "stream": "stdout",
       "text": [
        "49f78793f964a520b16c1fe3\n"
       ]
      }
     ],
     "prompt_number": 3
    },
    {
     "cell_type": "code",
     "collapsed": false,
     "input": [
      "#choosing businessed to match\n",
      "yelp_to_match = yelp.sort('review_count', ascending = True)[['name','id','postal_code','phone']]\n",
      "#must have name, postal code and phone\n",
      "for column in ['name','postal_code','phone']:\n",
      "    yelp_to_match = yelp_to_match[yelp_to_match[column].notnull()]"
     ],
     "language": "python",
     "metadata": {},
     "outputs": [],
     "prompt_number": 31
    },
    {
     "cell_type": "code",
     "collapsed": false,
     "input": [
      "#initializing the empty columns\n",
      "def empty_column():\n",
      "    if not 'four_square_id' in yelp_to_match.columns:\n",
      "        yelp_to_match['four_square_id'] = pd.np.NaN\n",
      "    print yelp_to_match.head(2)\n",
      "empty_column()"
     ],
     "language": "python",
     "metadata": {},
     "outputs": [
      {
       "output_type": "stream",
       "stream": "stdout",
       "text": [
        "                        name                              id  postal_code  \\\n",
        "19690  Dublin Lockout & Keys  dublin-lockout-and-keys-dublin        94568   \n",
        "33747     Consolidated Parts  consolidated-parts-santa-clara        95050   \n",
        "\n",
        "            phone  four_square_id  \n",
        "19690  9252351124             NaN  \n",
        "33747  4087640200             NaN  \n",
        "\n",
        "[2 rows x 5 columns]\n"
       ]
      }
     ],
     "prompt_number": 33
    },
    {
     "cell_type": "code",
     "collapsed": false,
     "input": [
      "done_rows = 0\n",
      "finished_rows = 54891\n",
      "for index, row in yelp_to_match.head(60000).iterrows():\n",
      "    done_rows += 1\n",
      "    if done_rows < finished_rows:\n",
      "        continue\n",
      "    try:\n",
      "#         rand_sleep = pd.np.random.random() / 5.\n",
      "#         time.sleep(rand_sleep)\n",
      "        name, zip_code, phone = row['name'], int(row.postal_code), int(row.phone)\n",
      "        matching_id = four_square.find_matching_business(name, int(zip_code), int(phone))\n",
      "        print done_rows, name, matching_id\n",
      "        if matching_id is not None:\n",
      "            yelp_to_match.loc[index, 'four_square_id'] = matching_id\n",
      "    except Exception as e:\n",
      "        print e\n",
      "        print row"
     ],
     "language": "python",
     "metadata": {},
     "outputs": [
      {
       "output_type": "stream",
       "stream": "stdout",
       "text": [
        "54891 Venticello Ristorante 4aaaf29ef964a520395820e3\n",
        "54892"
       ]
      },
      {
       "output_type": "stream",
       "stream": "stdout",
       "text": [
        " Cha Cha Cha Cuba 4c02c38c0d0e0f47779d019a\n",
        "54893"
       ]
      },
      {
       "output_type": "stream",
       "stream": "stdout",
       "text": [
        " Zip Zap Hair 4a205a8df964a5206f7c1fe3\n",
        "54894"
       ]
      },
      {
       "output_type": "stream",
       "stream": "stdout",
       "text": [
        " Sushi Tomo 45295094f964a520253b1fe3\n",
        "54895"
       ]
      },
      {
       "output_type": "stream",
       "stream": "stdout",
       "text": [
        " Molotov's 3fd66200f964a52056ed1ee3\n",
        "54896"
       ]
      },
      {
       "output_type": "stream",
       "stream": "stdout",
       "text": [
        " California Pizza Kitchen 49fe1937f964a5206a6f1fe3\n",
        "54897"
       ]
      },
      {
       "output_type": "stream",
       "stream": "stdout",
       "text": [
        " Naked Fish 4b19a06df964a520b6e023e3\n",
        "54898"
       ]
      },
      {
       "output_type": "stream",
       "stream": "stdout",
       "text": [
        " King of Thai Noodle 4b08c390f964a520001223e3\n",
        "54899"
       ]
      },
      {
       "output_type": "stream",
       "stream": "stdout",
       "text": [
        " Target 49f50f7af964a5208c6b1fe3\n",
        "54900"
       ]
      },
      {
       "output_type": "stream",
       "stream": "stdout",
       "text": [
        " Rosewood 3fd66200f964a5203bee1ee3\n",
        "54901"
       ]
      },
      {
       "output_type": "stream",
       "stream": "stdout",
       "text": [
        " Tava Indian Kitchen 4f3f2586e4b0bc95aee3bfa3\n",
        "54902"
       ]
      },
      {
       "output_type": "stream",
       "stream": "stdout",
       "text": [
        " Pl\u00e4j Scandinavian Restaurant & Bar 4fe942b1e4b0f69d225327ad\n",
        "54903"
       ]
      },
      {
       "output_type": "stream",
       "stream": "stdout",
       "text": [
        " Jang Su Jang 50d665f2e4b0feaa4be4394b\n",
        "54904"
       ]
      },
      {
       "output_type": "stream",
       "stream": "stdout",
       "text": [
        " Darby Dan's Sandwiches 4a64c3b9f964a520a3c61fe3\n",
        "54905"
       ]
      },
      {
       "output_type": "stream",
       "stream": "stdout",
       "text": [
        " Ted's Market and Delicatessen 4b54df8ff964a520c7d027e3\n",
        "54906"
       ]
      },
      {
       "output_type": "stream",
       "stream": "stdout",
       "text": [
        " Thai Stick On Fillmore 4abec9b6f964a520e28f20e3\n",
        "54907"
       ]
      },
      {
       "output_type": "stream",
       "stream": "stdout",
       "text": [
        " Pho Ha Tien 440d7b3ff964a5208f301fe3\n",
        "54908"
       ]
      },
      {
       "output_type": "stream",
       "stream": "stdout",
       "text": [
        " Sunrise Bistro & Catering 4b38e62ef964a520e65125e3\n",
        "54909"
       ]
      },
      {
       "output_type": "stream",
       "stream": "stdout",
       "text": [
        " Taverna Bistro 4a98c231f964a520312d20e3\n",
        "invalid literal for int() with base 10: 'TBD'"
       ]
      },
      {
       "output_type": "stream",
       "stream": "stdout",
       "text": [
        "\n",
        "name                              Safeway\n",
        "id                safeway-san-francisco-9\n",
        "postal_code                         94107\n",
        "phone                        4.156331e+09\n",
        "four_square_id                        NaN\n",
        "Name: 9862, dtype: object\n",
        "54911"
       ]
      },
      {
       "output_type": "stream",
       "stream": "stdout",
       "text": [
        " Pho King 4aaeb70ff964a520036320e3\n",
        "54912"
       ]
      },
      {
       "output_type": "stream",
       "stream": "stdout",
       "text": [
        " Moulin Rouge Restaurant 49df9b68f964a520ed601fe3\n",
        "54913"
       ]
      },
      {
       "output_type": "stream",
       "stream": "stdout",
       "text": [
        " Caf\u00e9 ALTO 537bc24f498eed2021c2196a\n",
        "54914"
       ]
      },
      {
       "output_type": "stream",
       "stream": "stdout",
       "text": [
        " Shakeel the iPhone Repair Guy None\n",
        "54915"
       ]
      },
      {
       "output_type": "stream",
       "stream": "stdout",
       "text": [
        " The Alley 4a2ef250f964a5208b981fe3\n",
        "54916"
       ]
      },
      {
       "output_type": "stream",
       "stream": "stdout",
       "text": [
        " The Fish Market 4ac2d6f7f964a520d89a20e3\n",
        "54917"
       ]
      },
      {
       "output_type": "stream",
       "stream": "stdout",
       "text": [
        " Jackson Fillmore Trattoria 3fd66200f964a520a3eb1ee3\n",
        "54918"
       ]
      },
      {
       "output_type": "stream",
       "stream": "stdout",
       "text": [
        " Vo's Restaurant 4adcbf16f964a5205c2f21e3\n",
        "54919"
       ]
      },
      {
       "output_type": "stream",
       "stream": "stdout",
       "text": [
        " Rouge Nightclub & Lounge 429ba900f964a5208e241fe3\n",
        "54920"
       ]
      },
      {
       "output_type": "stream",
       "stream": "stdout",
       "text": [
        " Club Mallard 4a8c8890f964a520640e20e3\n",
        "54921"
       ]
      },
      {
       "output_type": "stream",
       "stream": "stdout",
       "text": [
        " Acme Bread Company 4afeee53f964a520ce3122e3\n",
        "54922"
       ]
      },
      {
       "output_type": "stream",
       "stream": "stdout",
       "text": [
        " Simple Pleasures Cafe 3fd66200f964a520d3ec1ee3\n",
        "54923"
       ]
      },
      {
       "output_type": "stream",
       "stream": "stdout",
       "text": [
        " Bund Shanghai Restaurant 4ab83586f964a520907c20e3\n",
        "54924"
       ]
      },
      {
       "output_type": "stream",
       "stream": "stdout",
       "text": [
        " Yasukochi's Sweet Stop 4b50f37bf964a5203c3a27e3\n",
        "54925"
       ]
      },
      {
       "output_type": "stream",
       "stream": "stdout",
       "text": [
        " Porky's Pizza Palace 4b533bedf964a520699327e3\n",
        "54926"
       ]
      },
      {
       "output_type": "stream",
       "stream": "stdout",
       "text": [
        " Nickies 3fd66200f964a5204aed1ee3\n",
        "54927"
       ]
      },
      {
       "output_type": "stream",
       "stream": "stdout",
       "text": [
        " Yield Wine Bar 44d3809ef964a52046361fe3\n",
        "54928"
       ]
      },
      {
       "output_type": "stream",
       "stream": "stdout",
       "text": [
        " Lappert's Ice Cream 525ee3ff498ef57c55f003bc\n",
        "54929"
       ]
      },
      {
       "output_type": "stream",
       "stream": "stdout",
       "text": [
        " The Brick Yard Restaurant & Bar 4c040bf7f56c2d7f4db61d66\n",
        "54930"
       ]
      },
      {
       "output_type": "stream",
       "stream": "stdout",
       "text": [
        " Trader Joe's 4a8ae30ff964a520bc0a20e3\n",
        "54931"
       ]
      },
      {
       "output_type": "stream",
       "stream": "stdout",
       "text": [
        " Wasabi & Ginger 46a77f5ef964a52049491fe3\n",
        "54932"
       ]
      },
      {
       "output_type": "stream",
       "stream": "stdout",
       "text": [
        " Amami Sushi 50384030e4b0be420f1a9185\n",
        "54933"
       ]
      },
      {
       "output_type": "stream",
       "stream": "stdout",
       "text": [
        " I Sushi 4b4ea30cf964a5201cf326e3\n",
        "54934"
       ]
      },
      {
       "output_type": "stream",
       "stream": "stdout",
       "text": [
        " Cupertino iPhone Repair 4bd9efb82a3a0f479af9a8b6\n",
        "54935"
       ]
      },
      {
       "output_type": "stream",
       "stream": "stdout",
       "text": [
        " Biryani House 4ac7accbf964a52004b920e3\n",
        "54936"
       ]
      },
      {
       "output_type": "stream",
       "stream": "stdout",
       "text": [
        " Dohatsuten Japanese Ramen 4cc32b7e06c25481b1be8e47\n",
        "54937"
       ]
      },
      {
       "output_type": "stream",
       "stream": "stdout",
       "text": [
        " Mara's Italian Pastry 4a8f6f7ff964a520461520e3\n",
        "54938"
       ]
      },
      {
       "output_type": "stream",
       "stream": "stdout",
       "text": [
        " Tribu Grill None\n",
        "54939"
       ]
      },
      {
       "output_type": "stream",
       "stream": "stdout",
       "text": [
        " Actual Cafe 4b27c5d7f964a520aa8924e3\n",
        "54940"
       ]
      },
      {
       "output_type": "stream",
       "stream": "stdout",
       "text": [
        " Original Buffalo Wings 4a8755caf964a520f20320e3\n",
        "54941"
       ]
      },
      {
       "output_type": "stream",
       "stream": "stdout",
       "text": [
        " Tres Potrillos 4ab068f3f964a520536720e3\n",
        "54942"
       ]
      },
      {
       "output_type": "stream",
       "stream": "stdout",
       "text": [
        " Shangri-La Vegan 4d816dacc8bdb1f746c3cac2\n",
        "54943"
       ]
      },
      {
       "output_type": "stream",
       "stream": "stdout",
       "text": [
        " Taqueria La Cumbre 49f8cc1bf964a520236d1fe3\n",
        "54944"
       ]
      },
      {
       "output_type": "stream",
       "stream": "stdout",
       "text": [
        " The Oasis 40dcbc80f964a52087011fe3\n",
        "54945"
       ]
      },
      {
       "output_type": "stream",
       "stream": "stdout",
       "text": [
        " Il Fornaio 45e9666df964a5207c431fe3\n",
        "54946"
       ]
      },
      {
       "output_type": "stream",
       "stream": "stdout",
       "text": [
        " Heart of the City Farmers Market 48071b16f964a520024f1fe3\n",
        "54947"
       ]
      },
      {
       "output_type": "stream",
       "stream": "stdout",
       "text": [
        " Britex Fabrics None\n",
        "54948"
       ]
      },
      {
       "output_type": "stream",
       "stream": "stdout",
       "text": [
        " Beijing Restaurant 4a91a3faf964a520171b20e3\n",
        "54949"
       ]
      },
      {
       "output_type": "stream",
       "stream": "stdout",
       "text": [
        " Per Diem 4ee965055c5c0575fa5a3fe7\n",
        "54950"
       ]
      },
      {
       "output_type": "stream",
       "stream": "stdout",
       "text": [
        " Industrial Tattoo 4a6e267ef964a52009d41fe3\n",
        "54951"
       ]
      },
      {
       "output_type": "stream",
       "stream": "stdout",
       "text": [
        " I.B.'s Hoagies 4ba29210f964a5204f0538e3\n",
        "54952"
       ]
      },
      {
       "output_type": "stream",
       "stream": "stdout",
       "text": [
        " Pho Tan Hoa 49e1343df964a520a8611fe3\n",
        "54953"
       ]
      },
      {
       "output_type": "stream",
       "stream": "stdout",
       "text": [
        " Lori's Diner 4acfbb02f964a52092d520e3\n",
        "54954"
       ]
      },
      {
       "output_type": "stream",
       "stream": "stdout",
       "text": [
        " Dickey's Barbecue Pit 4a280bfcf964a520ef941fe3\n",
        "54955"
       ]
      },
      {
       "output_type": "stream",
       "stream": "stdout",
       "text": [
        " La Calaca Loca 463c03fff964a52029461fe3\n",
        "54956"
       ]
      },
      {
       "output_type": "stream",
       "stream": "stdout",
       "text": [
        " Doc's Clock 40a2ba80f964a52000f31ee3\n",
        "54957"
       ]
      },
      {
       "output_type": "stream",
       "stream": "stdout",
       "text": [
        " Pat Ryan Moving and Storage None\n",
        "54958"
       ]
      },
      {
       "output_type": "stream",
       "stream": "stdout",
       "text": [
        " Awaken Caf\u00e9 4e29ad41a809ec0663fae741\n",
        "54959"
       ]
      },
      {
       "output_type": "stream",
       "stream": "stdout",
       "text": [
        " Berkeley Thai House 4af73795f964a520400722e3\n",
        "54960"
       ]
      },
      {
       "output_type": "stream",
       "stream": "stdout",
       "text": [
        " Sheng Kee Bakery 4ac24af8f964a520989820e3\n",
        "54961"
       ]
      },
      {
       "output_type": "stream",
       "stream": "stdout",
       "text": [
        " Manor West 4b0e35f3f964a520f75523e3\n",
        "54962"
       ]
      },
      {
       "output_type": "stream",
       "stream": "stdout",
       "text": [
        " La Boulange de Union 49cf64aaf964a520a65a1fe3\n",
        "54963"
       ]
      },
      {
       "output_type": "stream",
       "stream": "stdout",
       "text": [
        " Bart Grocery & BBQ 4bb119baf964a520717a3ce3\n",
        "54964"
       ]
      },
      {
       "output_type": "stream",
       "stream": "stdout",
       "text": [
        " BAMBU Dessert & Drinks 50df5bb0e4b028f656e569cb\n",
        "54965"
       ]
      },
      {
       "output_type": "stream",
       "stream": "stdout",
       "text": [
        " Ginger Caf\u00e9 4a32b4e5f964a520809a1fe3\n",
        "54966"
       ]
      },
      {
       "output_type": "stream",
       "stream": "stdout",
       "text": [
        " Cafe Madeleine 49beb50df964a520c9541fe3\n",
        "54967"
       ]
      },
      {
       "output_type": "stream",
       "stream": "stdout",
       "text": [
        " Pedro's Cantina 4c4e544adb2c20a16db93a74\n",
        "54968"
       ]
      },
      {
       "output_type": "stream",
       "stream": "stdout",
       "text": [
        " Crepevine 50269a95e4b0727083f082b1\n",
        "54969"
       ]
      },
      {
       "output_type": "stream",
       "stream": "stdout",
       "text": [
        " VH Noodle House 4b0848d4f964a520210823e3\n",
        "54970"
       ]
      },
      {
       "output_type": "stream",
       "stream": "stdout",
       "text": [
        " Wing Lee Bakery 46ae72abf964a52085491fe3\n",
        "54971"
       ]
      },
      {
       "output_type": "stream",
       "stream": "stdout",
       "text": [
        " The Office None\n",
        "54972"
       ]
      },
      {
       "output_type": "stream",
       "stream": "stdout",
       "text": [
        " A Good Morning Cafe 4a4d190af964a5208bad1fe3\n",
        "54973"
       ]
      },
      {
       "output_type": "stream",
       "stream": "stdout",
       "text": [
        " The Pig & Whistle 428bd700f964a5209f231fe3\n",
        "54974"
       ]
      },
      {
       "output_type": "stream",
       "stream": "stdout",
       "text": [
        " Osaka Sushi 432a0b00f964a520e3271fe3\n",
        "54975"
       ]
      },
      {
       "output_type": "stream",
       "stream": "stdout",
       "text": [
        " Osakaya Restaurant 4a1bad15f964a520057b1fe3\n",
        "54976"
       ]
      },
      {
       "output_type": "stream",
       "stream": "stdout",
       "text": [
        " Blue Mermaid 4acb4dc4f964a52071c320e3\n",
        "54977"
       ]
      },
      {
       "output_type": "stream",
       "stream": "stdout",
       "text": [
        " Kappou Gomi 4a3585bef964a520199d1fe3\n",
        "54978"
       ]
      },
      {
       "output_type": "stream",
       "stream": "stdout",
       "text": [
        " Esther's German Bakery 4b7ae253f964a5209c432fe3\n",
        "54979"
       ]
      },
      {
       "output_type": "stream",
       "stream": "stdout",
       "text": [
        " Basil Canteen 4a44417af964a52062a71fe3\n",
        "54980"
       ]
      },
      {
       "output_type": "stream",
       "stream": "stdout",
       "text": [
        " The Wine Room 49bd2a1af964a5204f541fe3\n",
        "54981"
       ]
      },
      {
       "output_type": "stream",
       "stream": "stdout",
       "text": [
        " Sushi On North Beach - Katsu 49d30c1af964a520e95b1fe3\n",
        "54982"
       ]
      },
      {
       "output_type": "stream",
       "stream": "stdout",
       "text": [
        " Specialty's Cafe & Bakery 4a85a8f4f964a520d0fe1fe3\n",
        "54983"
       ]
      },
      {
       "output_type": "stream",
       "stream": "stdout",
       "text": [
        " Target 4a34225bf964a520c89b1fe3\n",
        "54984"
       ]
      },
      {
       "output_type": "stream",
       "stream": "stdout",
       "text": [
        " Lam Hoa Thuan Restaurant 4b04bb5ef964a520675622e3\n",
        "54985"
       ]
      },
      {
       "output_type": "stream",
       "stream": "stdout",
       "text": [
        " Lazy Dog Restaurant & Bar 5283152911d24a6f3c5cb21b\n",
        "54986"
       ]
      },
      {
       "output_type": "stream",
       "stream": "stdout",
       "text": [
        " Gumba's Italian Restaurant 4ba4201df964a520188438e3\n",
        "54987"
       ]
      },
      {
       "output_type": "stream",
       "stream": "stdout",
       "text": [
        " Quickly None\n",
        "54988"
       ]
      },
      {
       "output_type": "stream",
       "stream": "stdout",
       "text": [
        " Blackwood 4fd67aaee4b05b989e3a79a9\n",
        "54989"
       ]
      },
      {
       "output_type": "stream",
       "stream": "stdout",
       "text": [
        " Rice Thai Cuisine None\n",
        "54990"
       ]
      },
      {
       "output_type": "stream",
       "stream": "stdout",
       "text": [
        " Shabusen Restaurant 437e6b00f964a520c92a1fe3\n",
        "54991"
       ]
      },
      {
       "output_type": "stream",
       "stream": "stdout",
       "text": [
        " Taqueria el Buen Sabor 4a5a98c5f964a5209fba1fe3\n",
        "54992"
       ]
      },
      {
       "output_type": "stream",
       "stream": "stdout",
       "text": [
        " All Spice 4cf1eb4f899c6ea8ffbdf3c1\n",
        "54993"
       ]
      },
      {
       "output_type": "stream",
       "stream": "stdout",
       "text": [
        " Patxi's Pizza 4e9b118202d5df1b507dc9d0\n",
        "54994"
       ]
      },
      {
       "output_type": "stream",
       "stream": "stdout",
       "text": [
        " Nijo Castle 4ce1f68d7e2e236a405f931b\n",
        "54995"
       ]
      },
      {
       "output_type": "stream",
       "stream": "stdout",
       "text": [
        " Gyros Gyros 4a306a0ff964a52063991fe3\n",
        "54996"
       ]
      },
      {
       "output_type": "stream",
       "stream": "stdout",
       "text": [
        " Khyber Pass Kabob None\n",
        "54997"
       ]
      },
      {
       "output_type": "stream",
       "stream": "stdout",
       "text": [
        " Doobu 4a4dabd0f964a5200cae1fe3\n",
        "54998"
       ]
      },
      {
       "output_type": "stream",
       "stream": "stdout",
       "text": [
        " Joe iPhone Unlock & Repair Services 4f57a75f754aa29e5906f7aa\n",
        "54999"
       ]
      },
      {
       "output_type": "stream",
       "stream": "stdout",
       "text": [
        " Mars Bar & Restaurant 3fd66200f964a520adec1ee3\n",
        "55000"
       ]
      },
      {
       "output_type": "stream",
       "stream": "stdout",
       "text": [
        " Mythic Pizza 44c6a6f9f964a520df351fe3\n",
        "55001"
       ]
      },
      {
       "output_type": "stream",
       "stream": "stdout",
       "text": [
        " The Habit Burger Grill 4ce5a2fff1c6236a48b74ef0\n",
        "55002"
       ]
      },
      {
       "output_type": "stream",
       "stream": "stdout",
       "text": [
        " Squat and Gobble Cafe & Crepery 432a0b00f964a520dc271fe3\n",
        "55003"
       ]
      },
      {
       "output_type": "stream",
       "stream": "stdout",
       "text": [
        " CatHead's BBQ None\n",
        "55004"
       ]
      },
      {
       "output_type": "stream",
       "stream": "stdout",
       "text": [
        " Gaylord's Caffe Espresso 488fa522f964a5205c511fe3\n",
        "55005"
       ]
      },
      {
       "output_type": "stream",
       "stream": "stdout",
       "text": [
        " Cupola Pizzeria 4e011bf0aeb76b6109870da4\n",
        "55006"
       ]
      },
      {
       "output_type": "stream",
       "stream": "stdout",
       "text": [
        " Paradise Kabab House None\n",
        "55007"
       ]
      },
      {
       "output_type": "stream",
       "stream": "stdout",
       "text": [
        " Sai's Restaurant 46de0fe7f964a520944a1fe3\n",
        "55008"
       ]
      },
      {
       "output_type": "stream",
       "stream": "stdout",
       "text": [
        " Thai Idea Vegetarian 4e7d7aebf5b9644b441e28f3\n",
        "55009"
       ]
      },
      {
       "output_type": "stream",
       "stream": "stdout",
       "text": [
        " Fry's Electronics 49ee8972f964a5206b681fe3\n",
        "55010"
       ]
      },
      {
       "output_type": "stream",
       "stream": "stdout",
       "text": [
        " Jin Sho 4a5ce2f0f964a520c4bc1fe3\n",
        "55011"
       ]
      },
      {
       "output_type": "stream",
       "stream": "stdout",
       "text": [
        " Whispers Cafe & Creperie 4aedd8e4f964a5207dcf21e3\n",
        "55012"
       ]
      },
      {
       "output_type": "stream",
       "stream": "stdout",
       "text": [
        " Canyon Market 49fa99ddf964a520076e1fe3\n",
        "55013"
       ]
      },
      {
       "output_type": "stream",
       "stream": "stdout",
       "text": [
        " Khana Peena 4b09dee3f964a520fc1e23e3\n",
        "55014"
       ]
      },
      {
       "output_type": "stream",
       "stream": "stdout",
       "text": [
        " Gombei 4aea47d3f964a520baba21e3\n",
        "55015"
       ]
      },
      {
       "output_type": "stream",
       "stream": "stdout",
       "text": [
        " Coconut Bay 4a3d86f1f964a52067a21fe3\n",
        "55016"
       ]
      },
      {
       "output_type": "stream",
       "stream": "stdout",
       "text": [
        " Cafe Bakery & Restaurant 4ab81a99f964a520357c20e3\n",
        "55017"
       ]
      },
      {
       "output_type": "stream",
       "stream": "stdout",
       "text": [
        " BAMBOO Asia 4e1bb69d1f6e5708b22327ef\n",
        "55018"
       ]
      },
      {
       "output_type": "stream",
       "stream": "stdout",
       "text": [
        " Dana Street Roasting 450af486f964a5204b391fe3\n",
        "55019"
       ]
      },
      {
       "output_type": "stream",
       "stream": "stdout",
       "text": [
        " Little House Cafe 4b11594bf964a520b67a23e3\n",
        "55020"
       ]
      },
      {
       "output_type": "stream",
       "stream": "stdout",
       "text": [
        " Favorite Indian Restaurant 4c84140bd92ea093d01a5a72\n",
        "55021"
       ]
      },
      {
       "output_type": "stream",
       "stream": "stdout",
       "text": [
        " Golden Gate Pizza & Indian Cuisine 49bd4db7f964a52066541fe3\n",
        "55022"
       ]
      },
      {
       "output_type": "stream",
       "stream": "stdout",
       "text": [
        " Louis' 4a6bf605f964a52053d01fe3\n",
        "55023"
       ]
      },
      {
       "output_type": "stream",
       "stream": "stdout",
       "text": [
        " Bliss Spa 4b5a288df964a520f4b028e3\n",
        "55024"
       ]
      },
      {
       "output_type": "stream",
       "stream": "stdout",
       "text": [
        " Pho Saigon 4b6742e4f964a52080442be3\n",
        "55025"
       ]
      },
      {
       "output_type": "stream",
       "stream": "stdout",
       "text": [
        " We Be Sushi 4a95b7d1f964a520472420e3\n",
        "55026"
       ]
      },
      {
       "output_type": "stream",
       "stream": "stdout",
       "text": [
        " Simply Unique Nails 4a340d3ff964a520a39b1fe3\n",
        "55027"
       ]
      },
      {
       "output_type": "stream",
       "stream": "stdout",
       "text": [
        " Cafe Baklava Mediterranean Grill 4a5e47c4f964a5204bbe1fe3\n",
        "55028"
       ]
      },
      {
       "output_type": "stream",
       "stream": "stdout",
       "text": [
        " Venus Bakery Caf\u00e9 4aefd1dff964a52044da21e3\n",
        "55029"
       ]
      },
      {
       "output_type": "stream",
       "stream": "stdout",
       "text": [
        " Toast Deli 4cb9f498035d236a004bd74e\n",
        "55030"
       ]
      },
      {
       "output_type": "stream",
       "stream": "stdout",
       "text": [
        " Holy Grill 4a0c8de5f964a5203c751fe3\n",
        "55031"
       ]
      },
      {
       "output_type": "stream",
       "stream": "stdout",
       "text": [
        " Canela 4e6794a814952e0a12f248f8\n",
        "55032"
       ]
      },
      {
       "output_type": "stream",
       "stream": "stdout",
       "text": [
        " Spiazzo Ristorante 4be72d932457a593b8a6ad15\n",
        "55033"
       ]
      },
      {
       "output_type": "stream",
       "stream": "stdout",
       "text": [
        " Villa Romana 445150f0f964a520a2321fe3\n",
        "55034"
       ]
      },
      {
       "output_type": "stream",
       "stream": "stdout",
       "text": [
        " Fifth Wheel 4a43c01bf964a520c4a61fe3\n",
        "55035"
       ]
      },
      {
       "output_type": "stream",
       "stream": "stdout",
       "text": [
        " Kate O'Brien's Irish Bar & Grill 42a63500f964a52003251fe3\n",
        "55036"
       ]
      },
      {
       "output_type": "stream",
       "stream": "stdout",
       "text": [
        " John Campbell's Irish Bakery 49d8056ff964a520935d1fe3\n",
        "55037"
       ]
      },
      {
       "output_type": "stream",
       "stream": "stdout",
       "text": [
        " Southpaw BBQ 4eb8b2b8991165b763c47a9d\n",
        "55038"
       ]
      },
      {
       "output_type": "stream",
       "stream": "stdout",
       "text": [
        " Harvest & Rowe 43c79924f964a520852d1fe3\n",
        "55039"
       ]
      },
      {
       "output_type": "stream",
       "stream": "stdout",
       "text": [
        " Therapy 4ac7ecb8f964a5209bba20e3\n",
        "55040"
       ]
      },
      {
       "output_type": "stream",
       "stream": "stdout",
       "text": [
        " Auntie April's None\n",
        "55041"
       ]
      },
      {
       "output_type": "stream",
       "stream": "stdout",
       "text": [
        " Bullitt 4b1dea8cf964a5204e1624e3\n",
        "55042"
       ]
      },
      {
       "output_type": "stream",
       "stream": "stdout",
       "text": [
        " Addis Ethiopian Restaurant 4bdf9092e75c0f470bc3cb03\n",
        "55043"
       ]
      },
      {
       "output_type": "stream",
       "stream": "stdout",
       "text": [
        " Pho Queen Noodle House 4ace3dbff964a52055cf20e3\n",
        "55044"
       ]
      },
      {
       "output_type": "stream",
       "stream": "stdout",
       "text": [
        " Silk Road 4a51547ff964a520f4b01fe3\n",
        "55045"
       ]
      },
      {
       "output_type": "stream",
       "stream": "stdout",
       "text": [
        " Viva Taqueria 4b7b0720f964a520244d2fe3\n",
        "55046"
       ]
      },
      {
       "output_type": "stream",
       "stream": "stdout",
       "text": [
        " Piazza Pellegrini 4a595442f964a5203db91fe3\n",
        "55047"
       ]
      },
      {
       "output_type": "stream",
       "stream": "stdout",
       "text": [
        " Elmwood Cafe 4b8abbd5f964a520477d32e3\n",
        "55048"
       ]
      },
      {
       "output_type": "stream",
       "stream": "stdout",
       "text": [
        " Zut! 4c772728923ba143e97366e6\n",
        "55049"
       ]
      },
      {
       "output_type": "stream",
       "stream": "stdout",
       "text": [
        " Homemade Cafe 4a2b7ce1f964a520d2961fe3\n",
        "55050"
       ]
      },
      {
       "output_type": "stream",
       "stream": "stdout",
       "text": [
        " Code Salon None\n",
        "55051"
       ]
      },
      {
       "output_type": "stream",
       "stream": "stdout",
       "text": [
        " Cafe Ethiopia 43f0db4ff964a5207e2f1fe3\n",
        "55052"
       ]
      },
      {
       "output_type": "stream",
       "stream": "stdout",
       "text": [
        " Novela 51a00442498ef989edb82b7c\n",
        "55053"
       ]
      },
      {
       "output_type": "stream",
       "stream": "stdout",
       "text": [
        " Atelier Crenn 4d35122d8c42a1cd7c9e005e\n",
        "55054"
       ]
      },
      {
       "output_type": "stream",
       "stream": "stdout",
       "text": [
        " Public House 4bacd010f964a5204a0e3be3\n",
        "55055"
       ]
      },
      {
       "output_type": "stream",
       "stream": "stdout",
       "text": [
        " Kushi Tsuru 45342204f964a520943b1fe3\n",
        "55056"
       ]
      },
      {
       "output_type": "stream",
       "stream": "stdout",
       "text": [
        " Tempest 40919700f964a520e1f21ee3\n",
        "55057"
       ]
      },
      {
       "output_type": "stream",
       "stream": "stdout",
       "text": [
        " Paladar Cafe Cubano 4a1ee933f964a520e87b1fe3\n",
        "55058"
       ]
      },
      {
       "output_type": "stream",
       "stream": "stdout",
       "text": [
        " Axum Cafe 43cc335df964a520cc2d1fe3\n",
        "55059"
       ]
      },
      {
       "output_type": "stream",
       "stream": "stdout",
       "text": [
        " Make Westing 4dddc1781f6e03694735667c\n",
        "55060"
       ]
      },
      {
       "output_type": "stream",
       "stream": "stdout",
       "text": [
        " Good Bites Cafe 4ac10a5df964a520889520e3\n",
        "55061"
       ]
      },
      {
       "output_type": "stream",
       "stream": "stdout",
       "text": [
        " Capurro's 4a4e7309f964a5207aae1fe3\n",
        "55062"
       ]
      },
      {
       "output_type": "stream",
       "stream": "stdout",
       "text": [
        " Porridge King 4a874e19f964a520bc0320e3\n",
        "55063"
       ]
      },
      {
       "output_type": "stream",
       "stream": "stdout",
       "text": [
        " Sift Cupcake & Dessert Bar None\n",
        "55064"
       ]
      },
      {
       "output_type": "stream",
       "stream": "stdout",
       "text": [
        " People's Cafe 4089ae00f964a520bdf21ee3\n",
        "55065"
       ]
      },
      {
       "output_type": "stream",
       "stream": "stdout",
       "text": [
        " Napoletana Pizzeria 4d3282d8c6cba35dd062227a\n",
        "55066"
       ]
      },
      {
       "output_type": "stream",
       "stream": "stdout",
       "text": [
        " The Prolific Oven 4625d98ff964a520b8451fe3\n",
        "55067"
       ]
      },
      {
       "output_type": "stream",
       "stream": "stdout",
       "text": [
        " Little Shanghai Restaurant 49d057eaf964a5201e5b1fe3\n",
        "55068"
       ]
      },
      {
       "output_type": "stream",
       "stream": "stdout",
       "text": [
        " HS Lordships 4bef3ca85e4aa59324c758bb\n",
        "55069"
       ]
      },
      {
       "output_type": "stream",
       "stream": "stdout",
       "text": [
        " Kaka Udon Kitchen None\n",
        "55070"
       ]
      },
      {
       "output_type": "stream",
       "stream": "stdout",
       "text": [
        " Tomi Sushi & Seafood Buffet 4f7e4d9fe4b0cc5163615543\n",
        "55071"
       ]
      },
      {
       "output_type": "stream",
       "stream": "stdout",
       "text": [
        " Dell'Uva 49e8d913f964a5209c651fe3\n",
        "55072"
       ]
      },
      {
       "output_type": "stream",
       "stream": "stdout",
       "text": [
        " Cafe GoLo 4ac4e41df964a520759f20e3\n",
        "55073"
       ]
      },
      {
       "output_type": "stream",
       "stream": "stdout",
       "text": [
        " Eastern Bakery None\n",
        "55074"
       ]
      },
      {
       "output_type": "stream",
       "stream": "stdout",
       "text": [
        " Gombei Bento 4ae0c21df964a5202f8221e3\n",
        "55075"
       ]
      },
      {
       "output_type": "stream",
       "stream": "stdout",
       "text": [
        " La Petite Camille None\n",
        "55076"
       ]
      },
      {
       "output_type": "stream",
       "stream": "stdout",
       "text": [
        " The Counter 4b5967c8f964a5205d8728e3\n",
        "55077"
       ]
      },
      {
       "output_type": "stream",
       "stream": "stdout",
       "text": [
        " Le Cheval 4b09ed25f964a520d91f23e3\n",
        "55078"
       ]
      },
      {
       "output_type": "stream",
       "stream": "stdout",
       "text": [
        " Wingstop 4c5f6a13891bef3ba7f21c4b\n",
        "55079"
       ]
      },
      {
       "output_type": "stream",
       "stream": "stdout",
       "text": [
        " Alemany Farmers Market 49f61293f964a520fe6b1fe3\n",
        "55080"
       ]
      },
      {
       "output_type": "stream",
       "stream": "stdout",
       "text": [
        " Toppings Too Restaurant 4ba6ca4af964a520d66f39e3\n",
        "55081"
       ]
      },
      {
       "output_type": "stream",
       "stream": "stdout",
       "text": [
        " Pera 4b05bc2cf964a520f8e122e3\n",
        "55082"
       ]
      },
      {
       "output_type": "stream",
       "stream": "stdout",
       "text": [
        " Benihana 4a70fe58f964a520efd81fe3\n",
        "55083"
       ]
      },
      {
       "output_type": "stream",
       "stream": "stdout",
       "text": [
        " Mocca 4a513903f964a520cdb01fe3\n",
        "55084"
       ]
      },
      {
       "output_type": "stream",
       "stream": "stdout",
       "text": [
        " Sonoma Chicken Coop 49da7121f964a520885e1fe3\n",
        "55085"
       ]
      },
      {
       "output_type": "stream",
       "stream": "stdout",
       "text": [
        " Walnut Creek Yacht Club 4ae26723f964a5200b8e21e3\n",
        "55086"
       ]
      },
      {
       "output_type": "stream",
       "stream": "stdout",
       "text": [
        " Pho Hoa Noodle Soup 4a23425ef964a520c97d1fe3\n",
        "55087"
       ]
      },
      {
       "output_type": "stream",
       "stream": "stdout",
       "text": [
        " Monterey Market 4a664e06f964a52060c81fe3\n",
        "55088"
       ]
      },
      {
       "output_type": "stream",
       "stream": "stdout",
       "text": [
        " Lone Palm 439c07e9f964a520ec2b1fe3\n",
        "55089"
       ]
      },
      {
       "output_type": "stream",
       "stream": "stdout",
       "text": [
        " Sushirrito 5169c1b4498eb65b81bd735a\n",
        "55090"
       ]
      },
      {
       "output_type": "stream",
       "stream": "stdout",
       "text": [
        " Gombei Japanese Restaurant 4a6d2416f964a52099d21fe3\n",
        "55091"
       ]
      },
      {
       "output_type": "stream",
       "stream": "stdout",
       "text": [
        " Wild Pepper 4a7b8efaf964a52067eb1fe3\n",
        "55092"
       ]
      },
      {
       "output_type": "stream",
       "stream": "stdout",
       "text": [
        " Casa Azteca 4c01627c4f1ea5931f6e6b7d\n",
        "55093"
       ]
      },
      {
       "output_type": "stream",
       "stream": "stdout",
       "text": [
        " Loving Hut 4bdf25e0e75c0f47fa0dca03\n",
        "55094"
       ]
      },
      {
       "output_type": "stream",
       "stream": "stdout",
       "text": [
        " Banh Mi Ba Le Vietnamese Sandwich Deli 459450aef964a52061401fe3\n",
        "55095"
       ]
      },
      {
       "output_type": "stream",
       "stream": "stdout",
       "text": [
        " Mint Leaf 4a6d314af964a520aad21fe3\n",
        "55096"
       ]
      },
      {
       "output_type": "stream",
       "stream": "stdout",
       "text": [
        " Caffe Roma Coffee Roasting 42814b00f964a520ec211fe3\n",
        "55097"
       ]
      },
      {
       "output_type": "stream",
       "stream": "stdout",
       "text": [
        " 7 Mile House Sports Bar & Grill 4a158f62f964a5209a781fe3\n",
        "55098"
       ]
      },
      {
       "output_type": "stream",
       "stream": "stdout",
       "text": [
        " China Stix Restaurant 4a47e398f964a5203caa1fe3\n",
        "55099"
       ]
      },
      {
       "output_type": "stream",
       "stream": "stdout",
       "text": [
        " Rolling Pin Donuts 4b3fa6a4f964a52049ab25e3\n",
        "55100"
       ]
      },
      {
       "output_type": "stream",
       "stream": "stdout",
       "text": [
        " BUILD Pizzeria 51527747fe709a8d7362b498\n",
        "55101"
       ]
      },
      {
       "output_type": "stream",
       "stream": "stdout",
       "text": [
        " Judy's Homestyle Cafe 49d808f8f964a520995d1fe3\n",
        "55102"
       ]
      },
      {
       "output_type": "stream",
       "stream": "stdout",
       "text": [
        " Anchor Brewing Company 43a16022f964a5202c2c1fe3\n",
        "55103"
       ]
      },
      {
       "output_type": "stream",
       "stream": "stdout",
       "text": [
        " Rigolo Caf\u00e9 4a7852a8f964a52064e51fe3\n",
        "55104"
       ]
      },
      {
       "output_type": "stream",
       "stream": "stdout",
       "text": [
        " Pho 2000 4ae65f18f964a520bda621e3\n",
        "55105"
       ]
      },
      {
       "output_type": "stream",
       "stream": "stdout",
       "text": [
        " Love N Haight Deli 4460d56ef964a5200b331fe3\n",
        "55106"
       ]
      },
      {
       "output_type": "stream",
       "stream": "stdout",
       "text": [
        " Dada None\n",
        "55107"
       ]
      },
      {
       "output_type": "stream",
       "stream": "stdout",
       "text": [
        " Cha-Am Thai Restaurant 4b312db6f964a520e50125e3\n",
        "55108"
       ]
      },
      {
       "output_type": "stream",
       "stream": "stdout",
       "text": [
        " Sally's Restaurant 49caa2e3f964a520cd581fe3\n",
        "55109"
       ]
      },
      {
       "output_type": "stream",
       "stream": "stdout",
       "text": [
        " Rick's Ice Cream 4afddbf9f964a520872b22e3\n",
        "55110"
       ]
      },
      {
       "output_type": "stream",
       "stream": "stdout",
       "text": [
        " Pasta Pelican Restaurant 4afe5608f964a5202f2f22e3\n",
        "55111"
       ]
      },
      {
       "output_type": "stream",
       "stream": "stdout",
       "text": [
        " Colombo's Delicatessen None\n",
        "55112"
       ]
      },
      {
       "output_type": "stream",
       "stream": "stdout",
       "text": [
        " Regent Thai Restaurant 49cde3dcf964a520175a1fe3\n",
        "55113"
       ]
      },
      {
       "output_type": "stream",
       "stream": "stdout",
       "text": [
        " Bacheesos 4a50f59df964a52055b01fe3\n",
        "55114"
       ]
      },
      {
       "output_type": "stream",
       "stream": "stdout",
       "text": [
        " Ming's 4b09ed8af964a520e11f23e3\n",
        "55115"
       ]
      },
      {
       "output_type": "stream",
       "stream": "stdout",
       "text": [
        " La Corneta Taqueria 49f24a78f964a520186a1fe3\n",
        "55116"
       ]
      },
      {
       "output_type": "stream",
       "stream": "stdout",
       "text": [
        " Stacks 4a75bc8ff964a52020e11fe3\n",
        "55117"
       ]
      },
      {
       "output_type": "stream",
       "stream": "stdout",
       "text": [
        " Douce France 439abdf9f964a520d42b1fe3\n",
        "55118"
       ]
      },
      {
       "output_type": "stream",
       "stream": "stdout",
       "text": [
        " Sam's Chowdermobile None\n",
        "55119"
       ]
      },
      {
       "output_type": "stream",
       "stream": "stdout",
       "text": [
        " Chez Maman 50064523e4b0f7aff2050d6a\n",
        "55120"
       ]
      },
      {
       "output_type": "stream",
       "stream": "stdout",
       "text": [
        " Green Champa Garden 4fdbe899e4b0627bb5ab2374\n",
        "55121"
       ]
      },
      {
       "output_type": "stream",
       "stream": "stdout",
       "text": [
        " Rockit Swirl 4a52c6fff964a520ffb11fe3\n",
        "55122"
       ]
      },
      {
       "output_type": "stream",
       "stream": "stdout",
       "text": [
        " The Grind Cafe 43ccb847f964a520ce2d1fe3\n",
        "55123"
       ]
      },
      {
       "output_type": "stream",
       "stream": "stdout",
       "text": [
        " Flavors of India 4b4105b8f964a52092bf25e3\n",
        "55124"
       ]
      },
      {
       "output_type": "stream",
       "stream": "stdout",
       "text": [
        " Pho Little Saigon 4a6f4c4af964a520d1d51fe3\n",
        "55125"
       ]
      },
      {
       "output_type": "stream",
       "stream": "stdout",
       "text": [
        " Cafe Abir 4192ab80f964a520001e1fe3\n",
        "55126"
       ]
      },
      {
       "output_type": "stream",
       "stream": "stdout",
       "text": [
        " Morocco's Restaurant 4df02414d4c04d0392c4c0fe\n",
        "55127"
       ]
      },
      {
       "output_type": "stream",
       "stream": "stdout",
       "text": [
        " Bouche 4ea85c8f0cd6ac612e2adf4e\n",
        "55128"
       ]
      },
      {
       "output_type": "stream",
       "stream": "stdout",
       "text": [
        " Maven 4e87adb55c5c9a0ba0e01c10\n",
        "55129"
       ]
      },
      {
       "output_type": "stream",
       "stream": "stdout",
       "text": [
        " Doug's Place 4ae486acf964a5204c9b21e3\n",
        "55130"
       ]
      },
      {
       "output_type": "stream",
       "stream": "stdout",
       "text": [
        " Brandy Ho's 4a6fdd0cf964a52015d71fe3\n",
        "55131"
       ]
      },
      {
       "output_type": "stream",
       "stream": "stdout",
       "text": [
        " Fry's Electronics 451fa5eef964a520a83a1fe3\n",
        "55132"
       ]
      },
      {
       "output_type": "stream",
       "stream": "stdout",
       "text": [
        " Baldie's Caf\u00e9 4ba39aa8f964a520204b38e3\n",
        "55133"
       ]
      },
      {
       "output_type": "stream",
       "stream": "stdout",
       "text": [
        " New Korea House 47639e45f964a520e84c1fe3\n",
        "55134"
       ]
      },
      {
       "output_type": "stream",
       "stream": "stdout",
       "text": [
        " Digger's Diner None\n",
        "55135"
       ]
      },
      {
       "output_type": "stream",
       "stream": "stdout",
       "text": [
        " Higuma Japanese Restaurant 4a84dc9af964a520c0fd1fe3\n",
        "55136"
       ]
      },
      {
       "output_type": "stream",
       "stream": "stdout",
       "text": [
        " Greenburger's 4d7ff97670d18cfab6be9394\n",
        "55137"
       ]
      },
      {
       "output_type": "stream",
       "stream": "stdout",
       "text": [
        " Easy Lounge 49ef9cacf964a520d2681fe3\n",
        "55138"
       ]
      },
      {
       "output_type": "stream",
       "stream": "stdout",
       "text": [
        " The Ark Restaurant and Catering 4a8f7c9ef964a520621520e3\n",
        "55139"
       ]
      },
      {
       "output_type": "stream",
       "stream": "stdout",
       "text": [
        " Seoul Gomtang 4a6d6bcef964a520bad21fe3\n",
        "55140"
       ]
      },
      {
       "output_type": "stream",
       "stream": "stdout",
       "text": [
        " Glama-Rama! 4be75ea92468c9288b750243\n",
        "55141"
       ]
      },
      {
       "output_type": "stream",
       "stream": "stdout",
       "text": [
        " The Plant Cafe Organic 4c0dc7609cceef3b9e446ce2\n",
        "55142"
       ]
      },
      {
       "output_type": "stream",
       "stream": "stdout",
       "text": [
        " Crepes Ooh La La 4b174be6f964a5209ec423e3\n",
        "55143"
       ]
      },
      {
       "output_type": "stream",
       "stream": "stdout",
       "text": [
        " Grasshopper Hair Salon 4a46b2dff964a52052a91fe3\n",
        "55144"
       ]
      },
      {
       "output_type": "stream",
       "stream": "stdout",
       "text": [
        " Gordo Taqueria 4a776325f964a52055e41fe3\n",
        "55145"
       ]
      },
      {
       "output_type": "stream",
       "stream": "stdout",
       "text": [
        " R Bar 4192ab80f964a520021e1fe3\n",
        "55146"
       ]
      },
      {
       "output_type": "stream",
       "stream": "stdout",
       "text": [
        " Pi Bar 4a94231ef964a5207f2020e3\n",
        "55147"
       ]
      },
      {
       "output_type": "stream",
       "stream": "stdout",
       "text": [
        " Ken Ken Ramen 4ce5eec18ef78cfaef56899b\n",
        "55148"
       ]
      },
      {
       "output_type": "stream",
       "stream": "stdout",
       "text": [
        " Bender's Bar and Grill 40a2ba80f964a52006f31ee3\n",
        "55149"
       ]
      },
      {
       "output_type": "stream",
       "stream": "stdout",
       "text": [
        " Kacha Thai Bistro None\n",
        "55150"
       ]
      },
      {
       "output_type": "stream",
       "stream": "stdout",
       "text": [
        " Tokie's 4ae123f9f964a520758521e3\n",
        "55151"
       ]
      },
      {
       "output_type": "stream",
       "stream": "stdout",
       "text": [
        " Izzy's Steak & Chops 4ae65b6af964a5209ca621e3\n",
        "55152"
       ]
      },
      {
       "output_type": "stream",
       "stream": "stdout",
       "text": [
        " The Van's Restaurant 46c62612f964a5200c4a1fe3\n",
        "55153"
       ]
      },
      {
       "output_type": "stream",
       "stream": "stdout",
       "text": [
        " Burgermeister 4a885f3ff964a520110620e3\n",
        "55154"
       ]
      },
      {
       "output_type": "stream",
       "stream": "stdout",
       "text": [
        " Speederia Pizzeria 4a6766dff964a52059c91fe3\n",
        "55155"
       ]
      },
      {
       "output_type": "stream",
       "stream": "stdout",
       "text": [
        " Soluna Cafe and Lounge 411ff900f964a520280c1fe3\n",
        "55156"
       ]
      },
      {
       "output_type": "stream",
       "stream": "stdout",
       "text": [
        " La Traviata 49e0c8c0f964a5206f611fe3\n",
        "55157"
       ]
      },
      {
       "output_type": "stream",
       "stream": "stdout",
       "text": [
        " Bistro Boudin 4a3da675f964a52093a21fe3\n",
        "55158"
       ]
      },
      {
       "output_type": "stream",
       "stream": "stdout",
       "text": [
        " Buffalo Wild Wings 50958512e4b08c7bebbf706f\n",
        "55159"
       ]
      },
      {
       "output_type": "stream",
       "stream": "stdout",
       "text": [
        " The North Face Outlet 4ad22619f964a520a9df20e3\n",
        "55160"
       ]
      },
      {
       "output_type": "stream",
       "stream": "stdout",
       "text": [
        " Fry's Electronics 451fa54af964a520a73a1fe3\n",
        "55161"
       ]
      },
      {
       "output_type": "stream",
       "stream": "stdout",
       "text": [
        " Magic Flute Garden Ristorante 4a3e9f70f964a52027a31fe3\n",
        "55162"
       ]
      },
      {
       "output_type": "stream",
       "stream": "stdout",
       "text": [
        " Gyros House 4a7baa18f964a520a2eb1fe3\n",
        "55163"
       ]
      },
      {
       "output_type": "stream",
       "stream": "stdout",
       "text": [
        " Pacific Coast Brewing Company 49bd4668f964a5205d541fe3\n",
        "55164"
       ]
      },
      {
       "output_type": "stream",
       "stream": "stdout",
       "text": [
        " K & L Wine Merchants None\n",
        "55165"
       ]
      },
      {
       "output_type": "stream",
       "stream": "stdout",
       "text": [
        " Sobo Ramen 502c4d2fe4b083621416da87\n",
        "55166"
       ]
      },
      {
       "output_type": "stream",
       "stream": "stdout",
       "text": [
        " Steve's Bar-B-Que 4f322e9a19836c91c7be3598\n",
        "55167"
       ]
      },
      {
       "output_type": "stream",
       "stream": "stdout",
       "text": [
        " Falafel Bite 4ab061aff964a520476720e3\n",
        "55168"
       ]
      },
      {
       "output_type": "stream",
       "stream": "stdout",
       "text": [
        " YamaSho 4b0f4e14f964a5205a6123e3\n",
        "55169"
       ]
      },
      {
       "output_type": "stream",
       "stream": "stdout",
       "text": [
        " Trader Joe's 4afdc6eef964a520c22a22e3\n",
        "55170"
       ]
      },
      {
       "output_type": "stream",
       "stream": "stdout",
       "text": [
        " Tea Papa 4fd3f9eae4b0a8f571577f15\n",
        "55171"
       ]
      },
      {
       "output_type": "stream",
       "stream": "stdout",
       "text": [
        " Emmy's Restaurant None\n",
        "55172"
       ]
      },
      {
       "output_type": "stream",
       "stream": "stdout",
       "text": [
        " Caffe Riace 4a3ffce9f964a5202aa41fe3\n",
        "55173"
       ]
      },
      {
       "output_type": "stream",
       "stream": "stdout",
       "text": [
        " Hana Zen 43e2728ef964a520d02e1fe3\n",
        "55174"
       ]
      },
      {
       "output_type": "stream",
       "stream": "stdout",
       "text": [
        " Palmyra 4d40d13acb84b60c78c489ab\n",
        "55175"
       ]
      },
      {
       "output_type": "stream",
       "stream": "stdout",
       "text": [
        " Knudsen's Ice Creamery 4a85d584f964a52066ff1fe3\n",
        "55176"
       ]
      },
      {
       "output_type": "stream",
       "stream": "stdout",
       "text": [
        " Gyro King 44e36f32f964a52041371fe3\n",
        "55177"
       ]
      },
      {
       "output_type": "stream",
       "stream": "stdout",
       "text": [
        " The Prolific Oven 49d82367f964a520ae5d1fe3\n",
        "55178"
       ]
      },
      {
       "output_type": "stream",
       "stream": "stdout",
       "text": [
        " Bistro Maxine 49fb5ba6f964a5203a6e1fe3\n",
        "55179"
       ]
      },
      {
       "output_type": "stream",
       "stream": "stdout",
       "text": [
        " La Paloma 43d3d54bf964a520272e1fe3\n",
        "55180"
       ]
      },
      {
       "output_type": "stream",
       "stream": "stdout",
       "text": [
        " Sheba Piano Lounge 4a051992f964a52059721fe3\n",
        "55181"
       ]
      },
      {
       "output_type": "stream",
       "stream": "stdout",
       "text": [
        " Mayflower Seafood Restaurant 4b48d788f964a520895926e3\n",
        "55182"
       ]
      },
      {
       "output_type": "stream",
       "stream": "stdout",
       "text": [
        " Tonight Soju Bar 4ec4917a775b7dea8761c6ed\n",
        "55183"
       ]
      },
      {
       "output_type": "stream",
       "stream": "stdout",
       "text": [
        " The Ruby Room None\n",
        "55184"
       ]
      },
      {
       "output_type": "stream",
       "stream": "stdout",
       "text": [
        " Sancho's Taqueria 4a03a02ef964a520d5711fe3\n",
        "55185"
       ]
      },
      {
       "output_type": "stream",
       "stream": "stdout",
       "text": [
        " Taqueria Guadalajara 4b1f1b04f964a520032424e3\n",
        "55186"
       ]
      },
      {
       "output_type": "stream",
       "stream": "stdout",
       "text": [
        " Polished Lounge 49fa306ff964a520d56d1fe3\n",
        "55187"
       ]
      },
      {
       "output_type": "stream",
       "stream": "stdout",
       "text": [
        " Amarena 49f75320f964a520826c1fe3\n",
        "55188"
       ]
      },
      {
       "output_type": "stream",
       "stream": "stdout",
       "text": [
        " Dragon Well 4a370901f964a520269e1fe3\n",
        "55189"
       ]
      },
      {
       "output_type": "stream",
       "stream": "stdout",
       "text": [
        " Opaque - Dining in the Dark None\n",
        "55190"
       ]
      },
      {
       "output_type": "stream",
       "stream": "stdout",
       "text": [
        " Neiman Marcus 4356de00f964a520d4281fe3\n",
        "55191"
       ]
      },
      {
       "output_type": "stream",
       "stream": "stdout",
       "text": [
        " Asian Pearl Seafood Restaurant 4b78f564f964a52061e72ee3\n",
        "55192"
       ]
      },
      {
       "output_type": "stream",
       "stream": "stdout",
       "text": [
        " Thep Phanom 4451c73cf964a520a3321fe3\n",
        "55193"
       ]
      },
      {
       "output_type": "stream",
       "stream": "stdout",
       "text": [
        " One Big Man, One Big Truck None\n",
        "55194"
       ]
      },
      {
       "output_type": "stream",
       "stream": "stdout",
       "text": [
        " Dianda's Italian American Pastry 4b1053b9f964a520de6d23e3\n",
        "55195"
       ]
      },
      {
       "output_type": "stream",
       "stream": "stdout",
       "text": [
        " Food Talk Cafe 4af4e9d4f964a52066f721e3\n",
        "55196"
       ]
      },
      {
       "output_type": "stream",
       "stream": "stdout",
       "text": [
        " Wise Sons Jewish Delicatessen 4f38086ee4b017ad7bab79d7\n",
        "55197"
       ]
      },
      {
       "output_type": "stream",
       "stream": "stdout",
       "text": [
        " Piatti Ristorante & Bar 4d5a001bf8ff236a5390d14a\n",
        "55198"
       ]
      },
      {
       "output_type": "stream",
       "stream": "stdout",
       "text": [
        " La Viga Restaurant 4fa485dde4b0bcbb4660b20a\n",
        "55199"
       ]
      },
      {
       "output_type": "stream",
       "stream": "stdout",
       "text": [
        " Flea Street 4ac7f846f964a520ecba20e3\n",
        "55200"
       ]
      },
      {
       "output_type": "stream",
       "stream": "stdout",
       "text": [
        " Academy For Salon Professionals None\n",
        "55201"
       ]
      },
      {
       "output_type": "stream",
       "stream": "stdout",
       "text": [
        " Amici's East Coast Pizzeria 4a764118f964a520b6e21fe3\n",
        "55202"
       ]
      },
      {
       "output_type": "stream",
       "stream": "stdout",
       "text": [
        " Yo Yo's 4a53b54af964a520a4b21fe3\n",
        "55203"
       ]
      },
      {
       "output_type": "stream",
       "stream": "stdout",
       "text": [
        " Gong Cha 5219105911d2c3fe46c414e0\n",
        "55204"
       ]
      },
      {
       "output_type": "stream",
       "stream": "stdout",
       "text": [
        " Garden Fresh 4bad37bff964a520703a3be3\n",
        "55205"
       ]
      },
      {
       "output_type": "stream",
       "stream": "stdout",
       "text": [
        " Cheese Plus 4a222e61f964a520677d1fe3\n",
        "55206"
       ]
      },
      {
       "output_type": "stream",
       "stream": "stdout",
       "text": [
        " Katy's Korner 4a2abf9bf964a52047961fe3\n",
        "55207"
       ]
      },
      {
       "output_type": "stream",
       "stream": "stdout",
       "text": [
        " Jeffrey's Hamburgers 4a7b3bc0f964a5206cea1fe3\n",
        "55208"
       ]
      },
      {
       "output_type": "stream",
       "stream": "stdout",
       "text": [
        " Farley's East 4a5f41d5f964a52052bf1fe3\n",
        "55209"
       ]
      },
      {
       "output_type": "stream",
       "stream": "stdout",
       "text": [
        " Whiskey Thieves None\n",
        "55210"
       ]
      },
      {
       "output_type": "stream",
       "stream": "stdout",
       "text": [
        " The Old Clam House 4b22b38df964a520134c24e3\n",
        "55211"
       ]
      },
      {
       "output_type": "stream",
       "stream": "stdout",
       "text": [
        " Burgermeister 431cdc00f964a52074271fe3\n",
        "55212"
       ]
      },
      {
       "output_type": "stream",
       "stream": "stdout",
       "text": [
        " Yum Yum Hunan 4a7b2b14f964a5202eea1fe3\n",
        "55213"
       ]
      },
      {
       "output_type": "stream",
       "stream": "stdout",
       "text": [
        " Bridges Restaurant & Bar 4b0a2351f964a520fe2123e3\n",
        "55214"
       ]
      },
      {
       "output_type": "stream",
       "stream": "stdout",
       "text": [
        " Sorabol Korean Restaurant 4a314725f964a520aa991fe3\n",
        "55215"
       ]
      },
      {
       "output_type": "stream",
       "stream": "stdout",
       "text": [
        " Ter\u00fan 50ad712fe4b00a661b2e2c3b\n",
        "55216"
       ]
      },
      {
       "output_type": "stream",
       "stream": "stdout",
       "text": [
        " Panera Bread 49c1c6ebf964a520cb551fe3\n",
        "55217"
       ]
      },
      {
       "output_type": "stream",
       "stream": "stdout",
       "text": [
        " Sunrise Deli & Cafe 4ae4b1b2f964a520339d21e3\n",
        "55218"
       ]
      },
      {
       "output_type": "stream",
       "stream": "stdout",
       "text": [
        " The Big 4 Restaurant 44f72e06f964a5204b381fe3\n",
        "55219"
       ]
      },
      {
       "output_type": "stream",
       "stream": "stdout",
       "text": [
        " Uniqlo 50043438e4b0f448ea4f447f\n",
        "55220"
       ]
      },
      {
       "output_type": "stream",
       "stream": "stdout",
       "text": [
        " Sancho's Taqueria 4ace331cf964a52009cf20e3\n",
        "55221"
       ]
      },
      {
       "output_type": "stream",
       "stream": "stdout",
       "text": [
        " Il Fornaio 44e19caaf964a5201e371fe3\n",
        "55222"
       ]
      },
      {
       "output_type": "stream",
       "stream": "stdout",
       "text": [
        " Perry's 4a10a79bf964a520ed761fe3\n",
        "55223"
       ]
      },
      {
       "output_type": "stream",
       "stream": "stdout",
       "text": [
        " Whole Foods Market Los Altos 49f8a2e3f964a5200d6d1fe3\n",
        "55224"
       ]
      },
      {
       "output_type": "stream",
       "stream": "stdout",
       "text": [
        " Ten Ren Tea Co of Milpitas 4b2c14aaf964a52028c124e3\n",
        "55225"
       ]
      },
      {
       "output_type": "stream",
       "stream": "stdout",
       "text": [
        " Fuzio 4a90aa93f964a5200c1920e3\n",
        "55226"
       ]
      },
      {
       "output_type": "stream",
       "stream": "stdout",
       "text": [
        " Mio Vicino 4aada0bff964a520126120e3\n",
        "55227"
       ]
      },
      {
       "output_type": "stream",
       "stream": "stdout",
       "text": [
        " ANZU 49efdfa9f964a52015691fe3\n",
        "55228"
       ]
      },
      {
       "output_type": "stream",
       "stream": "stdout",
       "text": [
        " Tacos Mi Rancho 463c04e1f964a5202a461fe3\n",
        "55229"
       ]
      },
      {
       "output_type": "stream",
       "stream": "stdout",
       "text": [
        " 540 Club 40bd1880f964a520c3001fe3\n",
        "55230"
       ]
      },
      {
       "output_type": "stream",
       "stream": "stdout",
       "text": [
        " West of Pecos 4f711e81e4b0fb1e70a3d700\n",
        "55231"
       ]
      },
      {
       "output_type": "stream",
       "stream": "stdout",
       "text": [
        " The Pot's 4b07655af964a52018fd22e3\n",
        "55232"
       ]
      },
      {
       "output_type": "stream",
       "stream": "stdout",
       "text": [
        " Bongo Burger 4b67347df964a52052412be3\n",
        "55233"
       ]
      },
      {
       "output_type": "stream",
       "stream": "stdout",
       "text": [
        " New Kapadokia 4a9dd23af964a520883920e3\n",
        "55234"
       ]
      },
      {
       "output_type": "stream",
       "stream": "stdout",
       "text": [
        " Farmgirl Flowers None\n",
        "55235"
       ]
      },
      {
       "output_type": "stream",
       "stream": "stdout",
       "text": [
        " Chevys Fresh Mex 44d79472f964a5206f361fe3\n",
        "55236"
       ]
      },
      {
       "output_type": "stream",
       "stream": "stdout",
       "text": [
        " Eliza's 43d3e1b4f964a5202a2e1fe3\n",
        "55237"
       ]
      },
      {
       "output_type": "stream",
       "stream": "stdout",
       "text": [
        " The Melt Stanford 4ee8f4180039139143ca8d53\n",
        "55238"
       ]
      },
      {
       "output_type": "stream",
       "stream": "stdout",
       "text": [
        " ChaTime 4d7aaa6de8b7a1cd99119c1f\n",
        "55239"
       ]
      },
      {
       "output_type": "stream",
       "stream": "stdout",
       "text": [
        " Bombay Garden 4b4d2d44f964a52067cd26e3\n",
        "55240"
       ]
      },
      {
       "output_type": "stream",
       "stream": "stdout",
       "text": [
        " Kinokuniya Bookstore 4a1babcbf964a520047b1fe3\n",
        "55241"
       ]
      },
      {
       "output_type": "stream",
       "stream": "stdout",
       "text": [
        " Cafe Reverie 49f5e129f964a520ca6b1fe3\n",
        "55242"
       ]
      },
      {
       "output_type": "stream",
       "stream": "stdout",
       "text": [
        " PIQ Bakery 4c7703d8b4b4b60c287e260e\n",
        "55243"
       ]
      },
      {
       "output_type": "stream",
       "stream": "stdout",
       "text": [
        " Costco 46596603f964a52018471fe3\n",
        "55244"
       ]
      },
      {
       "output_type": "stream",
       "stream": "stdout",
       "text": [
        " The Milk Bar 40bbc700f964a520a8001fe3\n",
        "55245"
       ]
      },
      {
       "output_type": "stream",
       "stream": "stdout",
       "text": [
        " La Corneta Taqueria 49f2801ef964a520386a1fe3\n",
        "55246"
       ]
      },
      {
       "output_type": "stream",
       "stream": "stdout",
       "text": [
        " Local Mission Eatery 4b789664f964a5209fd82ee3\n",
        "55247"
       ]
      },
      {
       "output_type": "stream",
       "stream": "stdout",
       "text": [
        " Ottimista Enoteca-Cafe 49da282ff964a520565e1fe3\n",
        "55248"
       ]
      },
      {
       "output_type": "stream",
       "stream": "stdout",
       "text": [
        " CANA 4d57031cc6edf04df0fbd7a2\n",
        "55249"
       ]
      },
      {
       "output_type": "stream",
       "stream": "stdout",
       "text": [
        " Nothing Bundt Cakes 4d1e7448756e8cfa96e25954\n",
        "55250"
       ]
      },
      {
       "output_type": "stream",
       "stream": "stdout",
       "text": [
        " Thai Cafe 4a750506f964a5204be01fe3\n",
        "55251"
       ]
      },
      {
       "output_type": "stream",
       "stream": "stdout",
       "text": [
        " T2J 42b21280f964a52071251fe3\n",
        "55252"
       ]
      },
      {
       "output_type": "stream",
       "stream": "stdout",
       "text": [
        " Palio d'Asti 3fd66200f964a52045ee1ee3\n",
        "55253"
       ]
      },
      {
       "output_type": "stream",
       "stream": "stdout",
       "text": [
        " The Pub at Ghirardelli Square 4a63c21cf964a520bec51fe3\n",
        "55254"
       ]
      },
      {
       "output_type": "stream",
       "stream": "stdout",
       "text": [
        " Never Too Latte Cafe & Bakery 4b7f1422f964a520e41430e3\n",
        "55255"
       ]
      },
      {
       "output_type": "stream",
       "stream": "stdout",
       "text": [
        " Slow 4bf97efc8d30d13a41520218\n",
        "55256"
       ]
      },
      {
       "output_type": "stream",
       "stream": "stdout",
       "text": [
        " Cafe Dolci 49e61b0bf964a52006641fe3\n",
        "55257"
       ]
      },
      {
       "output_type": "stream",
       "stream": "stdout",
       "text": [
        " Patxi's Pizza 4cccf2a372106dcb93d79f99\n",
        "55258"
       ]
      },
      {
       "output_type": "stream",
       "stream": "stdout",
       "text": [
        " Pacific Puffs 4a74d174f964a520b0df1fe3\n",
        "55259"
       ]
      },
      {
       "output_type": "stream",
       "stream": "stdout",
       "text": [
        " Nothing Bundt Cakes 4c3ccae4b169c9b6a2324668\n",
        "55260"
       ]
      },
      {
       "output_type": "stream",
       "stream": "stdout",
       "text": [
        " Pyeongchang Tofu House 46ae6db6f964a52082491fe3\n",
        "55261"
       ]
      },
      {
       "output_type": "stream",
       "stream": "stdout",
       "text": [
        " Armadillo Willy's BBQ 4a73561ff964a52031dc1fe3\n",
        "55262"
       ]
      },
      {
       "output_type": "stream",
       "stream": "stdout",
       "text": [
        " McCovey's Restaurant 4a9c22fef964a5201e3620e3\n",
        "55263"
       ]
      },
      {
       "output_type": "stream",
       "stream": "stdout",
       "text": [
        " Jay's Cheesesteak 459bb177f964a52090401fe3\n",
        "55264"
       ]
      },
      {
       "output_type": "stream",
       "stream": "stdout",
       "text": [
        " Banh Thai Restaurant None\n",
        "55265"
       ]
      },
      {
       "output_type": "stream",
       "stream": "stdout",
       "text": [
        " Yuzu Sushi & Grill 4ab44345f964a520a27020e3\n",
        "55266"
       ]
      },
      {
       "output_type": "stream",
       "stream": "stdout",
       "text": [
        " Sushi Zen 4b78bc3ff964a520fddf2ee3\n",
        "55267"
       ]
      },
      {
       "output_type": "stream",
       "stream": "stdout",
       "text": [
        " Paramount Theatre-Oakland None\n",
        "55268"
       ]
      },
      {
       "output_type": "stream",
       "stream": "stdout",
       "text": [
        " Gordo Taqueria 4ab81a41f964a520327c20e3\n",
        "55269"
       ]
      },
      {
       "output_type": "stream",
       "stream": "stdout",
       "text": [
        " Chiaroscuro 45c8bf74f964a52072421fe3\n",
        "55270"
       ]
      },
      {
       "output_type": "stream",
       "stream": "stdout",
       "text": [
        " Morty's Delicatessen 49d66c4ef964a520c95c1fe3\n",
        "55271"
       ]
      },
      {
       "output_type": "stream",
       "stream": "stdout",
       "text": [
        " Thai Pepper Cuisine 4a296c94f964a5208e951fe3\n",
        "55272"
       ]
      },
      {
       "output_type": "stream",
       "stream": "stdout",
       "text": [
        " Mad Dog In The Fog 3fd66200f964a5204ded1ee3\n",
        "55273"
       ]
      },
      {
       "output_type": "stream",
       "stream": "stdout",
       "text": [
        " Heinold's First And Last Chance Saloon 49ea6e18f964a52063661fe3\n",
        "55274"
       ]
      },
      {
       "output_type": "stream",
       "stream": "stdout",
       "text": [
        " Paxton Gate 4a394777f964a5204e9f1fe3\n",
        "55275"
       ]
      },
      {
       "output_type": "stream",
       "stream": "stdout",
       "text": [
        " JoAnn's Cafe 4a785c83f964a52073e51fe3\n",
        "55276"
       ]
      },
      {
       "output_type": "stream",
       "stream": "stdout",
       "text": [
        " Latin American Club 40870b00f964a520b1f21ee3\n",
        "55277"
       ]
      },
      {
       "output_type": "stream",
       "stream": "stdout",
       "text": [
        " Taipan 4a90a4fbf964a520ec1820e3\n",
        "55278"
       ]
      },
      {
       "output_type": "stream",
       "stream": "stdout",
       "text": [
        " Tootsies At the Stanford Barn 4b16cd3ef964a520afbd23e3\n",
        "55279"
       ]
      },
      {
       "output_type": "stream",
       "stream": "stdout",
       "text": [
        " Binh Minh Quan 4a75022cf964a52043e01fe3\n",
        "55280"
       ]
      },
      {
       "output_type": "stream",
       "stream": "stdout",
       "text": [
        " House of Curries 4a68d691f964a5201bcb1fe3\n",
        "55281"
       ]
      },
      {
       "output_type": "stream",
       "stream": "stdout",
       "text": [
        " Buck's 4a1352d0f964a520d4771fe3\n",
        "55282"
       ]
      },
      {
       "output_type": "stream",
       "stream": "stdout",
       "text": [
        " Nan King Road Bistro 4a6a6616f964a52058cd1fe3\n",
        "55283"
       ]
      },
      {
       "output_type": "stream",
       "stream": "stdout",
       "text": [
        " Rockridge Cafe 463cf6b5f964a5203a461fe3\n",
        "55284"
       ]
      },
      {
       "output_type": "stream",
       "stream": "stdout",
       "text": [
        " Xolo Taqueria 4d8982c1b799a35d13059863\n",
        "55285"
       ]
      },
      {
       "output_type": "stream",
       "stream": "stdout",
       "text": [
        " Chilango 4abeac39f964a520418f20e3\n",
        "55286"
       ]
      },
      {
       "output_type": "stream",
       "stream": "stdout",
       "text": [
        " Cinderella Bakery & Cafe 3fd66200f964a520e5ec1ee3\n",
        "55287"
       ]
      },
      {
       "output_type": "stream",
       "stream": "stdout",
       "text": [
        " Khan Toke Thai House 43f0c8a9f964a5207d2f1fe3\n",
        "55288"
       ]
      },
      {
       "output_type": "stream",
       "stream": "stdout",
       "text": [
        " Hooters 4b37ef34f964a520eb4825e3\n",
        "55289"
       ]
      },
      {
       "output_type": "stream",
       "stream": "stdout",
       "text": [
        " Amici's East Coast Pizzeria 482f75ebf964a520dd4f1fe3\n",
        "55290"
       ]
      },
      {
       "output_type": "stream",
       "stream": "stdout",
       "text": [
        " Smashburger 520d8c1511d2d7300ffe6b38\n",
        "55291"
       ]
      },
      {
       "output_type": "stream",
       "stream": "stdout",
       "text": [
        " Godzila Sushi 4283ee00f964a520b6221fe3\n",
        "55292"
       ]
      },
      {
       "output_type": "stream",
       "stream": "stdout",
       "text": [
        " Pakwan Restaurant 4b6e3156f964a520c7b02ce3\n",
        "55293"
       ]
      },
      {
       "output_type": "stream",
       "stream": "stdout",
       "text": [
        " Revival Bar & Kitchen 4be629bbbcef2d7f72eb04e5\n",
        "55294"
       ]
      },
      {
       "output_type": "stream",
       "stream": "stdout",
       "text": [
        " Alana's Cafe None\n",
        "55295"
       ]
      },
      {
       "output_type": "stream",
       "stream": "stdout",
       "text": [
        " New Mongolian BBQ 4a07959bf964a52086731fe3\n",
        "55296"
       ]
      },
      {
       "output_type": "stream",
       "stream": "stdout",
       "text": [
        " Red Hot Chilli Pepper 4dcf6522183899ddfaec68b3\n",
        "55297"
       ]
      },
      {
       "output_type": "stream",
       "stream": "stdout",
       "text": [
        " Adesso None\n",
        "55298"
       ]
      },
      {
       "output_type": "stream",
       "stream": "stdout",
       "text": [
        " The Sandwich Spot 4b4e3a94f964a52016e626e3\n",
        "55299"
       ]
      },
      {
       "output_type": "stream",
       "stream": "stdout",
       "text": [
        " Homma's Brown Rice Sushi 4a73584cf964a5203bdc1fe3\n",
        "55300"
       ]
      },
      {
       "output_type": "stream",
       "stream": "stdout",
       "text": [
        " Tomate Caf\u00e9 4ae0b430f964a520c88121e3\n",
        "55301"
       ]
      },
      {
       "output_type": "stream",
       "stream": "stdout",
       "text": [
        " Ike's Lair of Redwood City 4e1df2eb887794dc2496dc84\n",
        "55302"
       ]
      },
      {
       "output_type": "stream",
       "stream": "stdout",
       "text": [
        " Cheung Hing 4abd79c6f964a5208e8a20e3\n",
        "55303"
       ]
      },
      {
       "output_type": "stream",
       "stream": "stdout",
       "text": [
        " Mangosteen 49f1e5c6f964a520c5691fe3\n",
        "55304"
       ]
      },
      {
       "output_type": "stream",
       "stream": "stdout",
       "text": [
        " Angkor Borei 3fd66200f964a520c1ec1ee3\n",
        "55305"
       ]
      },
      {
       "output_type": "stream",
       "stream": "stdout",
       "text": [
        " Flax Art & Design 440b26bff964a52070301fe3\n",
        "55306"
       ]
      },
      {
       "output_type": "stream",
       "stream": "stdout",
       "text": [
        " Anjappar Chettinad Indian Restaurant 4abd81adf964a520bb8a20e3\n",
        "55307"
       ]
      },
      {
       "output_type": "stream",
       "stream": "stdout",
       "text": [
        " Sushi Avenue 4a8f5f65f964a520171520e3\n",
        "55308"
       ]
      },
      {
       "output_type": "stream",
       "stream": "stdout",
       "text": [
        " Scott's Seafood Grill & Bar 4a8f689ef964a520321520e3\n",
        "55309"
       ]
      },
      {
       "output_type": "stream",
       "stream": "stdout",
       "text": [
        " Doyle Street Cafe 46918741f964a520b9481fe3\n",
        "55310"
       ]
      },
      {
       "output_type": "stream",
       "stream": "stdout",
       "text": [
        " Baker Street Bistro 42cc7080f964a520e8251fe3\n",
        "55311"
       ]
      },
      {
       "output_type": "stream",
       "stream": "stdout",
       "text": [
        " Sushi Boat Restaurant 4a3009fff964a5200a991fe3\n",
        "55312"
       ]
      },
      {
       "output_type": "stream",
       "stream": "stdout",
       "text": [
        " Kim Son Vietnamese Restaurant 4b070b96f964a52023f622e3\n",
        "55313"
       ]
      },
      {
       "output_type": "stream",
       "stream": "stdout",
       "text": [
        " Sakae Sushi 4ae64edff964a52056a621e3\n",
        "55314"
       ]
      },
      {
       "output_type": "stream",
       "stream": "stdout",
       "text": [
        " The Parlor Bar & Club 4ace9765f964a5205ad120e3\n",
        "55315"
       ]
      },
      {
       "output_type": "stream",
       "stream": "stdout",
       "text": [
        " Marc 49 4a6139f8f964a52020c21fe3\n",
        "55316"
       ]
      },
      {
       "output_type": "stream",
       "stream": "stdout",
       "text": [
        " Thai Stick 45033db4f964a520d8381fe3\n",
        "55317"
       ]
      },
      {
       "output_type": "stream",
       "stream": "stdout",
       "text": [
        " Back Forty Texas BBQ Roadhouse & Saloon 4a4019d4f964a5204ba41fe3\n",
        "55318"
       ]
      },
      {
       "output_type": "stream",
       "stream": "stdout",
       "text": [
        " Naked Lunch 4a8c5c11f964a520c40d20e3\n",
        "55319"
       ]
      },
      {
       "output_type": "stream",
       "stream": "stdout",
       "text": [
        " Philz Coffee 4dd1580eb3adb047f5024231\n",
        "55320"
       ]
      },
      {
       "output_type": "stream",
       "stream": "stdout",
       "text": [
        " Andronico's Community Markets 4a5bed61f964a52002bc1fe3\n",
        "55321"
       ]
      },
      {
       "output_type": "stream",
       "stream": "stdout",
       "text": [
        " Epicenter Cafe 49cfeb47f964a520e35a1fe3\n",
        "55322"
       ]
      },
      {
       "output_type": "stream",
       "stream": "stdout",
       "text": [
        " Sweetheart Candies 4aee1cf7f964a52032d221e3\n",
        "55323"
       ]
      },
      {
       "output_type": "stream",
       "stream": "stdout",
       "text": [
        " Suruki Supermarket 4a8c567ef964a520b30d20e3\n",
        "55324"
       ]
      },
      {
       "output_type": "stream",
       "stream": "stdout",
       "text": [
        " Trader Joe's 4a060428f964a520ad721fe3\n",
        "55325"
       ]
      },
      {
       "output_type": "stream",
       "stream": "stdout",
       "text": [
        " The Melt New Montgomery 4e4566b4d164155c0dd6e52e\n",
        "55326"
       ]
      },
      {
       "output_type": "stream",
       "stream": "stdout",
       "text": [
        " Top Thai 4b0077cef964a520913e22e3\n",
        "55327"
       ]
      },
      {
       "output_type": "stream",
       "stream": "stdout",
       "text": [
        " Breaking Bread 4a81c8edf964a5208ff71fe3\n",
        "55328"
       ]
      },
      {
       "output_type": "stream",
       "stream": "stdout",
       "text": [
        " Neecha Thai 4b37e1d9f964a520f34725e3\n",
        "55329"
       ]
      },
      {
       "output_type": "stream",
       "stream": "stdout",
       "text": [
        " The Bitter End 40f08300f964a5204e0a1fe3\n",
        "55330"
       ]
      },
      {
       "output_type": "stream",
       "stream": "stdout",
       "text": [
        " Baladie Gourmet Cafe 49eb82e8f964a520eb661fe3\n",
        "55331"
       ]
      },
      {
       "output_type": "stream",
       "stream": "stdout",
       "text": [
        " Ristorante Il Porcino 4adcdcc1f964a520056221e3\n",
        "55332"
       ]
      },
      {
       "output_type": "stream",
       "stream": "stdout",
       "text": [
        " Oakland Grill 4a067f2ff964a520fd721fe3\n",
        "55333"
       ]
      },
      {
       "output_type": "stream",
       "stream": "stdout",
       "text": [
        " Club Deluxe 3fd66200f964a52060ed1ee3\n",
        "55334"
       ]
      },
      {
       "output_type": "stream",
       "stream": "stdout",
       "text": [
        " The Sunny Side Caf\u00e9 4a8c3c06f964a520640d20e3\n",
        "55335"
       ]
      },
      {
       "output_type": "stream",
       "stream": "stdout",
       "text": [
        " Pinecrest Diner 4d24b237daa937040cc5c781\n",
        "55336"
       ]
      },
      {
       "output_type": "stream",
       "stream": "stdout",
       "text": [
        " Owl Tree None\n",
        "55337"
       ]
      },
      {
       "output_type": "stream",
       "stream": "stdout",
       "text": [
        " Tong Soon Garden Restaurant 4aecaa89f964a52018ca21e3\n",
        "55338"
       ]
      },
      {
       "output_type": "stream",
       "stream": "stdout",
       "text": [
        " Contraband Coffee Bar 4d13f2ed816af04d6afd37c2\n",
        "55339"
       ]
      },
      {
       "output_type": "stream",
       "stream": "stdout",
       "text": [
        " Club Waziema 4540d065f964a520423c1fe3\n",
        "55340"
       ]
      },
      {
       "output_type": "stream",
       "stream": "stdout",
       "text": [
        " Windy City Chicago Style Pizza & BBQ 4a221025f964a5205b7d1fe3\n",
        "55341"
       ]
      },
      {
       "output_type": "stream",
       "stream": "stdout",
       "text": [
        " Stonestown Galleria None\n",
        "55342"
       ]
      },
      {
       "output_type": "stream",
       "stream": "stdout",
       "text": [
        " King Pin Donuts 4af62c09f964a520e80122e3\n",
        "55343"
       ]
      },
      {
       "output_type": "stream",
       "stream": "stdout",
       "text": [
        " Garibaldi's 4a712f71f964a5202cd91fe3\n",
        "55344"
       ]
      },
      {
       "output_type": "stream",
       "stream": "stdout",
       "text": [
        " Anatolian Kitchen 4cba6a524352a1cd741093f5\n",
        "55345"
       ]
      },
      {
       "output_type": "stream",
       "stream": "stdout",
       "text": [
        " A Sweet Affair 4b3e80b9f964a520179e25e3\n",
        "55346"
       ]
      },
      {
       "output_type": "stream",
       "stream": "stdout",
       "text": [
        " Soup Freaks None\n",
        "55347"
       ]
      },
      {
       "output_type": "stream",
       "stream": "stdout",
       "text": [
        " Koreana Plaza None\n",
        "55348"
       ]
      },
      {
       "output_type": "stream",
       "stream": "stdout",
       "text": [
        " Jane on Fillmore 4d50a1433626a093c29b1cbd\n",
        "55349"
       ]
      },
      {
       "output_type": "stream",
       "stream": "stdout",
       "text": [
        " Miramar Beach Restaurant 4a74fa3af964a52030e01fe3\n",
        "55350"
       ]
      },
      {
       "output_type": "stream",
       "stream": "stdout",
       "text": [
        " Scoma's Of Sausalito 49cf0b37f964a5209d5a1fe3\n",
        "55351"
       ]
      },
      {
       "output_type": "stream",
       "stream": "stdout",
       "text": [
        " 100% Sweet Cafe 4ba5ae38f964a520901b39e3\n",
        "55352"
       ]
      },
      {
       "output_type": "stream",
       "stream": "stdout",
       "text": [
        " Allegro Romano 4a1f4d62f964a5201c7c1fe3\n",
        "55353"
       ]
      },
      {
       "output_type": "stream",
       "stream": "stdout",
       "text": [
        " Elephant Bar Restaurant 4a3c4543f964a5205ea11fe3\n",
        "55354"
       ]
      },
      {
       "output_type": "stream",
       "stream": "stdout",
       "text": [
        " Yanagi Sushi & Grill 4b495839f964a520ef6d26e3\n",
        "55355"
       ]
      },
      {
       "output_type": "stream",
       "stream": "stdout",
       "text": [
        " Hong Kong Bistro 4aaea898f964a520cd6220e3\n",
        "55356"
       ]
      },
      {
       "output_type": "stream",
       "stream": "stdout",
       "text": [
        " MaduSalon 4a1f1787f964a520057c1fe3\n",
        "55357"
       ]
      },
      {
       "output_type": "stream",
       "stream": "stdout",
       "text": [
        " Apple Store 49d11ffaf964a5205d5b1fe3\n",
        "55358"
       ]
      },
      {
       "output_type": "stream",
       "stream": "stdout",
       "text": [
        " Noriega Teriyaki House 4a56c167f964a520c1b51fe3\n",
        "55359"
       ]
      },
      {
       "output_type": "stream",
       "stream": "stdout",
       "text": [
        " P F Chang's China Bistro 48277a1cf964a520b74f1fe3\n",
        "55360"
       ]
      },
      {
       "output_type": "stream",
       "stream": "stdout",
       "text": [
        " Sushi Hunter 4283ee00f964a520b7221fe3\n",
        "55361"
       ]
      },
      {
       "output_type": "stream",
       "stream": "stdout",
       "text": [
        " Perilla 4a64f220f964a52008c71fe3\n",
        "55362"
       ]
      },
      {
       "output_type": "stream",
       "stream": "stdout",
       "text": [
        " Zen Restaurant 4a90a872f964a520fe1820e3\n",
        "55363"
       ]
      },
      {
       "output_type": "stream",
       "stream": "stdout",
       "text": [
        " La Oaxaque\u00f1a 4b2c4865f964a5202cc524e3\n",
        "55364"
       ]
      },
      {
       "output_type": "stream",
       "stream": "stdout",
       "text": [
        " Verde Tea Espresso Bar 4b08c70af964a520201223e3\n",
        "55365"
       ]
      },
      {
       "output_type": "stream",
       "stream": "stdout",
       "text": [
        " Gourmet Haus Staudt Gifts & Cafe 4a29ae24f964a520c0951fe3\n",
        "55366"
       ]
      },
      {
       "output_type": "stream",
       "stream": "stdout",
       "text": [
        " Romano's Macaroni Grill 4a57806ef964a52044b61fe3\n",
        "55367"
       ]
      },
      {
       "output_type": "stream",
       "stream": "stdout",
       "text": [
        " Blackhawk Grille 4b341da2f964a5202c2525e3\n",
        "55368"
       ]
      },
      {
       "output_type": "stream",
       "stream": "stdout",
       "text": [
        " Caffe Sport 4a10d76bf964a52003771fe3\n",
        "55369"
       ]
      },
      {
       "output_type": "stream",
       "stream": "stdout",
       "text": [
        " Urban Curry 4ae9f309f964a520e8b721e3\n",
        "55370"
       ]
      },
      {
       "output_type": "stream",
       "stream": "stdout",
       "text": [
        " Delicious Dim Sum 4aa1b2c8f964a5207a4120e3\n",
        "55371"
       ]
      },
      {
       "output_type": "stream",
       "stream": "stdout",
       "text": [
        " Mayes Oyster House None\n",
        "55372"
       ]
      },
      {
       "output_type": "stream",
       "stream": "stdout",
       "text": [
        " Sensi Luxury Nails & Spa 4a357853f964a520059d1fe3\n",
        "55373"
       ]
      },
      {
       "output_type": "stream",
       "stream": "stdout",
       "text": [
        " Bourbon Steak a Michael Mina Restaurant 4cae95f4c5e6a1cd7d63c6f6\n",
        "55374"
       ]
      },
      {
       "output_type": "stream",
       "stream": "stdout",
       "text": [
        " Little Vietnam Cafe 4a999200f964a520202f20e3\n",
        "55375"
       ]
      },
      {
       "output_type": "stream",
       "stream": "stdout",
       "text": [
        " Burma Cafe 4c880a3a7223b1f7465a28a8\n",
        "55376"
       ]
      },
      {
       "output_type": "stream",
       "stream": "stdout",
       "text": [
        " Tsunami Mission Bay 49cffa7ff964a520ec5a1fe3\n",
        "55377"
       ]
      },
      {
       "output_type": "stream",
       "stream": "stdout",
       "text": [
        " Darwin Cafe 4c4e30871b8e1b8dd9d3c426\n",
        "55378"
       ]
      },
      {
       "output_type": "stream",
       "stream": "stdout",
       "text": [
        " Hot Sauce and Panko 4e33561de4cdf7a42ca5fba5\n",
        "55379"
       ]
      },
      {
       "output_type": "stream",
       "stream": "stdout",
       "text": [
        " Cafe Algiers 4aca4944f964a5203dc120e3\n",
        "55380"
       ]
      },
      {
       "output_type": "stream",
       "stream": "stdout",
       "text": [
        " Rich Table 500088f7d63e64b62bc19e6e\n",
        "55381"
       ]
      },
      {
       "output_type": "stream",
       "stream": "stdout",
       "text": [
        " Alamo Square Seafood Grill 454b5351f964a520b43c1fe3\n",
        "55382"
       ]
      },
      {
       "output_type": "stream",
       "stream": "stdout",
       "text": [
        " Flavors of India 4596b516f964a5206f401fe3\n",
        "55383"
       ]
      },
      {
       "output_type": "stream",
       "stream": "stdout",
       "text": [
        " Kona Club 4a05c14ef964a5206e721fe3\n",
        "55384"
       ]
      },
      {
       "output_type": "stream",
       "stream": "stdout",
       "text": [
        " Forbes Mill Steakhouse 4a7b9334f964a52077eb1fe3\n",
        "55385"
       ]
      },
      {
       "output_type": "stream",
       "stream": "stdout",
       "text": [
        " Cinta Salon 49dd4222f964a520f85f1fe3\n",
        "55386"
       ]
      },
      {
       "output_type": "stream",
       "stream": "stdout",
       "text": [
        " Lucca Ravioli Co. 49e79a69f964a520d7641fe3\n",
        "55387"
       ]
      },
      {
       "output_type": "stream",
       "stream": "stdout",
       "text": [
        " Roger's Deli None\n",
        "55388"
       ]
      },
      {
       "output_type": "stream",
       "stream": "stdout",
       "text": [
        " Sabella & La Torre 4ab137d3f964a520916820e3\n",
        "55389"
       ]
      },
      {
       "output_type": "stream",
       "stream": "stdout",
       "text": [
        " China Village Restaurant 51d35be7498ed50ed1db6cd3\n",
        "55390"
       ]
      },
      {
       "output_type": "stream",
       "stream": "stdout",
       "text": [
        " YakiniQ Cafe 4cfae971d7206ea8caf23b69\n",
        "55391"
       ]
      },
      {
       "output_type": "stream",
       "stream": "stdout",
       "text": [
        " North Beach Pizza 51191d15526259bca1f6c982\n",
        "55392"
       ]
      },
      {
       "output_type": "stream",
       "stream": "stdout",
       "text": [
        " The Royal Exchange 3fd66200f964a52078ed1ee3\n",
        "55393"
       ]
      },
      {
       "output_type": "stream",
       "stream": "stdout",
       "text": [
        " Pizza Antica 4a9c5beff964a520eb3620e3\n",
        "55394"
       ]
      },
      {
       "output_type": "stream",
       "stream": "stdout",
       "text": [
        " Mission Minis 4b48f583f964a520785f26e3\n",
        "55395"
       ]
      },
      {
       "output_type": "stream",
       "stream": "stdout",
       "text": [
        " Caffe La Scala 43261680f964a520b5271fe3\n",
        "55396"
       ]
      },
      {
       "output_type": "stream",
       "stream": "stdout",
       "text": [
        " Moki's Sushi & Pacific Grill 4b8761faf964a520d4bd31e3\n",
        "55397"
       ]
      },
      {
       "output_type": "stream",
       "stream": "stdout",
       "text": [
        " Mexicali Grill 4a9c3d1df964a520883620e3\n",
        "55398"
       ]
      },
      {
       "output_type": "stream",
       "stream": "stdout",
       "text": [
        " Izakaya Restaurant 49ee7e58f964a52062681fe3\n",
        "55399"
       ]
      },
      {
       "output_type": "stream",
       "stream": "stdout",
       "text": [
        " Tapioca Express 4b2fe6f0f964a5203ff224e3\n",
        "55400"
       ]
      },
      {
       "output_type": "stream",
       "stream": "stdout",
       "text": [
        " Tomatina 4b1ac6c2f964a52089f123e3\n",
        "55401"
       ]
      },
      {
       "output_type": "stream",
       "stream": "stdout",
       "text": [
        " Local 123 4a74e12bf964a520d7df1fe3\n",
        "55402"
       ]
      },
      {
       "output_type": "stream",
       "stream": "stdout",
       "text": [
        " Ten Ren Tea 4b00d14af964a520394122e3\n",
        "55403"
       ]
      },
      {
       "output_type": "stream",
       "stream": "stdout",
       "text": [
        " The Blue Light 3fd66200f964a520a0ed1ee3\n",
        "55404"
       ]
      },
      {
       "output_type": "stream",
       "stream": "stdout",
       "text": [
        " Eggettes 4adbb79ff964a520302a21e3\n",
        "55405"
       ]
      },
      {
       "output_type": "stream",
       "stream": "stdout",
       "text": [
        " The Rose & Crown English Food & Ale House 429cfa80f964a520b2241fe3\n",
        "55406"
       ]
      },
      {
       "output_type": "stream",
       "stream": "stdout",
       "text": [
        " El Burrito Express 2 44678fa8f964a52046331fe3\n",
        "55407"
       ]
      },
      {
       "output_type": "stream",
       "stream": "stdout",
       "text": [
        " Marzano None\n",
        "55408"
       ]
      },
      {
       "output_type": "stream",
       "stream": "stdout",
       "text": [
        " Poc-Chuc 49c4813df964a520ca561fe3\n",
        "55409"
       ]
      },
      {
       "output_type": "stream",
       "stream": "stdout",
       "text": [
        " Tao Yuen Pastry 4b12ce7df964a520808e23e3\n",
        "55410"
       ]
      },
      {
       "output_type": "stream",
       "stream": "stdout",
       "text": [
        " Capital Restaurant 4a788bcdf964a520d9e51fe3\n",
        "55411"
       ]
      },
      {
       "output_type": "stream",
       "stream": "stdout",
       "text": [
        " Grindz 4fa4b5c9e4b0ddd4959de80c\n",
        "55412"
       ]
      },
      {
       "output_type": "stream",
       "stream": "stdout",
       "text": [
        " Spice Monkey 4b4d1938f964a520dfca26e3\n",
        "55413"
       ]
      },
      {
       "output_type": "stream",
       "stream": "stdout",
       "text": [
        " Piacere 4abedc49f964a520509020e3\n",
        "55414"
       ]
      },
      {
       "output_type": "stream",
       "stream": "stdout",
       "text": [
        " Restaurant Ducroix 4ae204d2f964a520da8921e3\n",
        "55415"
       ]
      },
      {
       "output_type": "stream",
       "stream": "stdout",
       "text": [
        " Skylark 3fd66200f964a520aeed1ee3\n",
        "55416"
       ]
      },
      {
       "output_type": "stream",
       "stream": "stdout",
       "text": [
        " Pasta Bene 4be32e77d27a20a16e75915b\n",
        "55417"
       ]
      },
      {
       "output_type": "stream",
       "stream": "stdout",
       "text": [
        " Fiesta Del Mar 478dffa7f964a520454d1fe3\n",
        "55418"
       ]
      },
      {
       "output_type": "stream",
       "stream": "stdout",
       "text": [
        " Laszlo None\n",
        "55419"
       ]
      },
      {
       "output_type": "stream",
       "stream": "stdout",
       "text": [
        " Bambino's Ristorante 4a077c92f964a52064731fe3\n",
        "55420"
       ]
      },
      {
       "output_type": "stream",
       "stream": "stdout",
       "text": [
        " Southie 4d3b439e81258cfac5b1af5f\n",
        "55421"
       ]
      },
      {
       "output_type": "stream",
       "stream": "stdout",
       "text": [
        " Cocobang 4a960947f964a520de2520e3\n",
        "55422"
       ]
      },
      {
       "output_type": "stream",
       "stream": "stdout",
       "text": [
        " Arinell Pizza 4a88b0dbf964a520650720e3\n",
        "55423"
       ]
      },
      {
       "output_type": "stream",
       "stream": "stdout",
       "text": [
        " PATRICK EVAN Hair Salon 4b54cbf6f964a520e2cc27e3\n",
        "55424"
       ]
      },
      {
       "output_type": "stream",
       "stream": "stdout",
       "text": [
        " Il Postale 4b1d63b9f964a520d90f24e3\n",
        "55425"
       ]
      },
      {
       "output_type": "stream",
       "stream": "stdout",
       "text": [
        " Yume Sushi 4b3feacaf964a52006b225e3\n",
        "55426"
       ]
      },
      {
       "output_type": "stream",
       "stream": "stdout",
       "text": [
        " Cafe La Tartine 4a57aa39f964a52090b61fe3\n",
        "55427"
       ]
      },
      {
       "output_type": "stream",
       "stream": "stdout",
       "text": [
        " Summer Summer Thai Eatery 4b21c593f964a520404124e3\n",
        "55428"
       ]
      },
      {
       "output_type": "stream",
       "stream": "stdout",
       "text": [
        " YOYO Sushi 4aa450f7f964a5205f4620e3\n",
        "55429"
       ]
      },
      {
       "output_type": "stream",
       "stream": "stdout",
       "text": [
        " Cliff's Variety 49f78dcff964a520b46c1fe3\n",
        "55430"
       ]
      },
      {
       "output_type": "stream",
       "stream": "stdout",
       "text": [
        " Buca di Beppo 4ab5a6fcf964a520c57520e3\n",
        "55431"
       ]
      },
      {
       "output_type": "stream",
       "stream": "stdout",
       "text": [
        " Stanford Shopping Center None\n",
        "55432"
       ]
      },
      {
       "output_type": "stream",
       "stream": "stdout",
       "text": [
        " Ichiro 4a9ed18df964a5204d3b20e3\n",
        "55433"
       ]
      },
      {
       "output_type": "stream",
       "stream": "stdout",
       "text": [
        " Enjoy Vegetarian Restaurant 49f916c7f964a520606d1fe3\n",
        "55434"
       ]
      },
      {
       "output_type": "stream",
       "stream": "stdout",
       "text": [
        " Lucca Delicatessen 4a620c4df964a520e7c21fe3\n",
        "55435"
       ]
      },
      {
       "output_type": "stream",
       "stream": "stdout",
       "text": [
        " Tako Sushi 4aff7c2df964a520013922e3\n",
        "55436"
       ]
      },
      {
       "output_type": "stream",
       "stream": "stdout",
       "text": [
        " Jim's Coffee Shop 3fd66200f964a52092f11ee3\n",
        "55437"
       ]
      },
      {
       "output_type": "stream",
       "stream": "stdout",
       "text": [
        " Bob's Steak and Chop House 43261680f964a520b4271fe3\n",
        "55438"
       ]
      },
      {
       "output_type": "stream",
       "stream": "stdout",
       "text": [
        " Lemongrass Thai Cuisine 45ef0adcf964a520b5431fe3\n",
        "55439"
       ]
      },
      {
       "output_type": "stream",
       "stream": "stdout",
       "text": [
        " Anh Hong Restaurant 4a29a647f964a520b8951fe3\n",
        "55440"
       ]
      },
      {
       "output_type": "stream",
       "stream": "stdout",
       "text": [
        " Spice Kit 4bb61ae2ef159c74856975f7\n",
        "55441"
       ]
      },
      {
       "output_type": "stream",
       "stream": "stdout",
       "text": [
        " Murray Circle 4a33f31df964a5207a9b1fe3\n",
        "55442"
       ]
      },
      {
       "output_type": "stream",
       "stream": "stdout",
       "text": [
        " Lakeshore Cafe None\n",
        "55443"
       ]
      },
      {
       "output_type": "stream",
       "stream": "stdout",
       "text": [
        " Dumpling Kitchen 4b78acfdf964a52063dd2ee3\n",
        "55444"
       ]
      },
      {
       "output_type": "stream",
       "stream": "stdout",
       "text": [
        " Il Fornaio 4b33d576f964a5202f2025e3\n",
        "55445"
       ]
      },
      {
       "output_type": "stream",
       "stream": "stdout",
       "text": [
        " Home Of Chicken & Waffles 4e2b2edfae605c533a354fd5\n",
        "55446"
       ]
      },
      {
       "output_type": "stream",
       "stream": "stdout",
       "text": [
        " Mymy 4cb202c2562d224be4702388\n",
        "55447"
       ]
      },
      {
       "output_type": "stream",
       "stream": "stdout",
       "text": [
        " Leland Tea Company 49e903d6f964a520ba651fe3\n",
        "55448"
       ]
      },
      {
       "output_type": "stream",
       "stream": "stdout",
       "text": [
        " House of Shields None\n",
        "55449"
       ]
      },
      {
       "output_type": "stream",
       "stream": "stdout",
       "text": [
        " Navio at The Ritz Carlton None\n",
        "55450"
       ]
      },
      {
       "output_type": "stream",
       "stream": "stdout",
       "text": [
        " Papito 4da89a38fa8c4175d0be1e75\n",
        "55451"
       ]
      },
      {
       "output_type": "stream",
       "stream": "stdout",
       "text": [
        " Sanraku 41d9dc80f964a520b71e1fe3\n",
        "55452"
       ]
      },
      {
       "output_type": "stream",
       "stream": "stdout",
       "text": [
        " The Sausage Factory 4b4f2a0ef964a520eafb26e3\n",
        "55453"
       ]
      },
      {
       "output_type": "stream",
       "stream": "stdout",
       "text": [
        " Super Duper Burgers 4ea85b365c5cc8e4992384b0\n",
        "55454"
       ]
      },
      {
       "output_type": "stream",
       "stream": "stdout",
       "text": [
        " Cafe Brioche 4a760954f964a52005e21fe3\n",
        "55455"
       ]
      },
      {
       "output_type": "stream",
       "stream": "stdout",
       "text": [
        " Bushido Izakaya Restaurant 4b789dbaf964a52054da2ee3\n",
        "55456"
       ]
      },
      {
       "output_type": "stream",
       "stream": "stdout",
       "text": [
        " The Iron Cactus 4adf610ff964a5200f7a21e3\n",
        "55457"
       ]
      },
      {
       "output_type": "stream",
       "stream": "stdout",
       "text": [
        " Kyoto Sushi 4283ee00f964a52092221fe3\n",
        "55458"
       ]
      },
      {
       "output_type": "stream",
       "stream": "stdout",
       "text": [
        " Antonio's Nut House 40a40c00f964a52014f31ee3\n",
        "55459"
       ]
      },
      {
       "output_type": "stream",
       "stream": "stdout",
       "text": [
        " Yumma's 4a0f9701f964a52078761fe3\n",
        "55460"
       ]
      },
      {
       "output_type": "stream",
       "stream": "stdout",
       "text": [
        " Five Guys Burgers and Fries 4c707082fa49a1cda03fa6e3\n",
        "55461"
       ]
      },
      {
       "output_type": "stream",
       "stream": "stdout",
       "text": [
        " Fat Maddie's Grille 4cdc4a506ad1a09307cff056\n",
        "55462"
       ]
      },
      {
       "output_type": "stream",
       "stream": "stdout",
       "text": [
        " Clarke's Charcoal Broiler 49ee3071f964a52032681fe3\n",
        "55463"
       ]
      },
      {
       "output_type": "stream",
       "stream": "stdout",
       "text": [
        " Lanesplitter Pizza & Pub 45b8bbb8f964a520d2411fe3\n",
        "55464"
       ]
      },
      {
       "output_type": "stream",
       "stream": "stdout",
       "text": [
        " Ephesus 4d41d5c85d01224b42fa5950\n",
        "55465"
       ]
      },
      {
       "output_type": "stream",
       "stream": "stdout",
       "text": [
        " House of Genji 4a42e598f964a5205ea61fe3\n",
        "55466"
       ]
      },
      {
       "output_type": "stream",
       "stream": "stdout",
       "text": [
        " Lupa Trattoria 4ab7e395f964a520597b20e3\n",
        "55467"
       ]
      },
      {
       "output_type": "stream",
       "stream": "stdout",
       "text": [
        " Lark Creek Walnut Creek 4a5ea7def964a520febe1fe3\n",
        "55468"
       ]
      },
      {
       "output_type": "stream",
       "stream": "stdout",
       "text": [
        " Tayyibaat Meat And Grill 4bccd730b6c49c74307e9491\n",
        "55469"
       ]
      },
      {
       "output_type": "stream",
       "stream": "stdout",
       "text": [
        " Jitlada Thai Cuisine 4a9ee86bf964a520b93b20e3\n",
        "55470"
       ]
      },
      {
       "output_type": "stream",
       "stream": "stdout",
       "text": [
        " Pho Dong Restaurant 4a0bb386f964a5200b751fe3\n",
        "55471"
       ]
      },
      {
       "output_type": "stream",
       "stream": "stdout",
       "text": [
        " Elephant & Castle 41ca0a80f964a520991e1fe3\n",
        "55472"
       ]
      },
      {
       "output_type": "stream",
       "stream": "stdout",
       "text": [
        " International Orange Spa None\n",
        "55473"
       ]
      },
      {
       "output_type": "stream",
       "stream": "stdout",
       "text": [
        " Original Pancake House 4abe891df964a5204c8e20e3\n",
        "55474"
       ]
      },
      {
       "output_type": "stream",
       "stream": "stdout",
       "text": [
        " Kilowatt 40870b00f964a5209ef21ee3\n",
        "55475"
       ]
      },
      {
       "output_type": "stream",
       "stream": "stdout",
       "text": [
        " Gum Kuo Restaurant 4b788e20f964a52074d62ee3\n",
        "55476"
       ]
      },
      {
       "output_type": "stream",
       "stream": "stdout",
       "text": [
        " Kang Nam Tofu House 4a6291f6f964a52058c41fe3\n",
        "55477"
       ]
      },
      {
       "output_type": "stream",
       "stream": "stdout",
       "text": [
        " La Palma Mexicatessen 4a63b622f964a520a0c51fe3\n",
        "55478"
       ]
      },
      {
       "output_type": "stream",
       "stream": "stdout",
       "text": [
        " La Milpa 4a467005f964a520d9a81fe3\n",
        "55479"
       ]
      },
      {
       "output_type": "stream",
       "stream": "stdout",
       "text": [
        " House of Sisig 4bee2761a40fc928f127830c\n",
        "55480"
       ]
      },
      {
       "output_type": "stream",
       "stream": "stdout",
       "text": [
        " Nopalito 4f8f447f7716cd1fbf769274\n",
        "55481"
       ]
      },
      {
       "output_type": "stream",
       "stream": "stdout",
       "text": [
        " Shanghai House 49fa3040f964a520d46d1fe3\n",
        "55482"
       ]
      },
      {
       "output_type": "stream",
       "stream": "stdout",
       "text": [
        " Make-Out Room 3fd66200f964a5201df11ee3\n",
        "55483"
       ]
      },
      {
       "output_type": "stream",
       "stream": "stdout",
       "text": [
        " Vietnam Restaurant 4a04a183f964a52013721fe3\n",
        "55484"
       ]
      },
      {
       "output_type": "stream",
       "stream": "stdout",
       "text": [
        " Pandora Karaoke & Bar 4c1dd031b306c928453266b7\n",
        "55485"
       ]
      },
      {
       "output_type": "stream",
       "stream": "stdout",
       "text": [
        " Hong Kong Clay Pot Restaurant 49e4d4fdf964a52058631fe3\n",
        "55486"
       ]
      },
      {
       "output_type": "stream",
       "stream": "stdout",
       "text": [
        " Tokyo Fish Market 4ab537d6f964a520537320e3\n",
        "55487"
       ]
      },
      {
       "output_type": "stream",
       "stream": "stdout",
       "text": [
        " Joy Restaurant 4b182101f964a52069cd23e3\n",
        "55488"
       ]
      },
      {
       "output_type": "stream",
       "stream": "stdout",
       "text": [
        " New Asia Chinese Restaurant 4a077c03f964a52061731fe3\n",
        "55489"
       ]
      },
      {
       "output_type": "stream",
       "stream": "stdout",
       "text": [
        " Mr Pollo None\n",
        "55490"
       ]
      },
      {
       "output_type": "stream",
       "stream": "stdout",
       "text": [
        " Southland Flavor Cafe 439d82ebf964a520032c1fe3\n",
        "55491"
       ]
      },
      {
       "output_type": "stream",
       "stream": "stdout",
       "text": [
        " Ryowa 4afdbb18f964a520502a22e3\n",
        "55492"
       ]
      },
      {
       "output_type": "stream",
       "stream": "stdout",
       "text": [
        " Left Bank Menlo Park Brasserie 43bcd0c7f964a520fd2c1fe3\n",
        "55493"
       ]
      },
      {
       "output_type": "stream",
       "stream": "stdout",
       "text": [
        " Quickly 4a614e49f964a52045c21fe3\n",
        "55494"
       ]
      },
      {
       "output_type": "stream",
       "stream": "stdout",
       "text": [
        " New Gold Medal Restaurant None\n",
        "55495"
       ]
      },
      {
       "output_type": "stream",
       "stream": "stdout",
       "text": [
        " Imperial Spa 4a77af9df964a520fee41fe3\n",
        "55496"
       ]
      },
      {
       "output_type": "stream",
       "stream": "stdout",
       "text": [
        " Modern China Cafe 4b35a96df964a520762e25e3\n",
        "55497"
       ]
      },
      {
       "output_type": "stream",
       "stream": "stdout",
       "text": [
        " Tonic 4283ee00f964a5207a221fe3\n",
        "55498"
       ]
      },
      {
       "output_type": "stream",
       "stream": "stdout",
       "text": [
        " El Mansour 3fd66200f964a520edec1ee3\n",
        "55499"
       ]
      },
      {
       "output_type": "stream",
       "stream": "stdout",
       "text": [
        " Spices! 49d03243f964a5200d5b1fe3\n",
        "55500"
       ]
      },
      {
       "output_type": "stream",
       "stream": "stdout",
       "text": [
        " Mediterranean Delite 4a439637f964a52096a61fe3\n",
        "55501"
       ]
      },
      {
       "output_type": "stream",
       "stream": "stdout",
       "text": [
        " Maykadeh Persian Cuisine 4ab5b7aaf964a520ec7520e3\n",
        "55502"
       ]
      },
      {
       "output_type": "stream",
       "stream": "stdout",
       "text": [
        " Homejoy None\n",
        "55503"
       ]
      },
      {
       "output_type": "stream",
       "stream": "stdout",
       "text": [
        " St Stephen's Green 462d478ff964a520e9451fe3\n",
        "55504"
       ]
      },
      {
       "output_type": "stream",
       "stream": "stdout",
       "text": [
        " Forge Pizza 505d1ec9e4b05434c0c6f4b1\n",
        "55505"
       ]
      },
      {
       "output_type": "stream",
       "stream": "stdout",
       "text": [
        " Dohatsuten 4a9dd312f964a5208e3920e3\n",
        "55506"
       ]
      },
      {
       "output_type": "stream",
       "stream": "stdout",
       "text": [
        " Toomie's Thai Cuisine 4a79d4aaf964a520bce71fe3\n",
        "55507"
       ]
      },
      {
       "output_type": "stream",
       "stream": "stdout",
       "text": [
        " Flavor 4d0aac2246bab60c7a772390\n",
        "55508"
       ]
      },
      {
       "output_type": "stream",
       "stream": "stdout",
       "text": [
        " Whole Foods Market San Mateo 49de836ef964a5205f601fe3\n",
        "55509"
       ]
      },
      {
       "output_type": "stream",
       "stream": "stdout",
       "text": [
        " Boudin Sourdough Bakery & Cafe 4a7b1f0bf964a52013ea1fe3\n",
        "55510"
       ]
      },
      {
       "output_type": "stream",
       "stream": "stdout",
       "text": [
        " TacoBar 4bc0eb692a89ef3b9b70f188\n",
        "55511"
       ]
      },
      {
       "output_type": "stream",
       "stream": "stdout",
       "text": [
        " Izumiya 4391b651f964a5205f2b1fe3\n",
        "55512"
       ]
      },
      {
       "output_type": "stream",
       "stream": "stdout",
       "text": [
        " Thai Spice Restaurant 4a76506af964a520d3e21fe3\n",
        "55513"
       ]
      },
      {
       "output_type": "stream",
       "stream": "stdout",
       "text": [
        " Tuba - Authentic Turkish Restaurant 4b4407a2f964a52074f025e3\n",
        "55514"
       ]
      },
      {
       "output_type": "stream",
       "stream": "stdout",
       "text": [
        " Mr. Green Bubble 4c008ba3ad15a59329288e73\n",
        "55515"
       ]
      },
      {
       "output_type": "stream",
       "stream": "stdout",
       "text": [
        " Alfred's Steakhouse 3fd66200f964a520baec1ee3\n",
        "55516"
       ]
      },
      {
       "output_type": "stream",
       "stream": "stdout",
       "text": [
        " Fiesta Del Mar Too 43027e00f964a5200f271fe3\n",
        "55517"
       ]
      },
      {
       "output_type": "stream",
       "stream": "stdout",
       "text": [
        " Frodo Joe's Petit Cafe 4a837ae6f964a52041fb1fe3\n",
        "55518"
       ]
      },
      {
       "output_type": "stream",
       "stream": "stdout",
       "text": [
        " Trattoria Corso 4ac9523cf964a520a4bf20e3\n",
        "55519"
       ]
      },
      {
       "output_type": "stream",
       "stream": "stdout",
       "text": [
        " Nova Bar & Restaurant 49c9ccddf964a52098581fe3\n",
        "55520"
       ]
      },
      {
       "output_type": "stream",
       "stream": "stdout",
       "text": [
        " Babalou's Mediterranean 4b2b159ef964a52051b424e3\n",
        "55521"
       ]
      },
      {
       "output_type": "stream",
       "stream": "stdout",
       "text": [
        " China Bee 4a9f2ad4f964a520c63c20e3\n",
        "55522"
       ]
      },
      {
       "output_type": "stream",
       "stream": "stdout",
       "text": [
        " North Beach Restaurant 4283ee00f964a5209b221fe3\n",
        "55523"
       ]
      },
      {
       "output_type": "stream",
       "stream": "stdout",
       "text": [
        " La Fusi\u00f3n 4e555696d4c0c50afda6168f\n",
        "55524"
       ]
      },
      {
       "output_type": "stream",
       "stream": "stdout",
       "text": [
        " Cowboys & Angels 4a8f40d3f964a5208d1420e3\n",
        "55525"
       ]
      },
      {
       "output_type": "stream",
       "stream": "stdout",
       "text": [
        " Sahn Maru Korean Bbq 4bd8d57c0115c9b6698b7580\n",
        "55526"
       ]
      },
      {
       "output_type": "stream",
       "stream": "stdout",
       "text": [
        " Trader Vic's Restaurant 4a24a1e2f964a5203c7e1fe3\n",
        "55527"
       ]
      },
      {
       "output_type": "stream",
       "stream": "stdout",
       "text": [
        " Orale Orale 4a68c5b0f964a520fbca1fe3\n",
        "55528"
       ]
      },
      {
       "output_type": "stream",
       "stream": "stdout",
       "text": [
        " Ali Baba's Cave 43d23e2ff964a5200e2e1fe3\n",
        "55529"
       ]
      },
      {
       "output_type": "stream",
       "stream": "stdout",
       "text": [
        " Garaje None\n",
        "55530"
       ]
      },
      {
       "output_type": "stream",
       "stream": "stdout",
       "text": [
        " Mozzarella Di Bufala 4a4d27d0f964a5209aad1fe3\n",
        "55531"
       ]
      },
      {
       "output_type": "stream",
       "stream": "stdout",
       "text": [
        " Coffee to the People 43519800f964a520be281fe3\n",
        "55532"
       ]
      },
      {
       "output_type": "stream",
       "stream": "stdout",
       "text": [
        " Chile Pies & Ice Cream 4baae1f9f964a520f18b3ae3\n",
        "55533"
       ]
      },
      {
       "output_type": "stream",
       "stream": "stdout",
       "text": [
        " Gregoire 4ac178c1f964a520459720e3\n",
        "55534"
       ]
      },
      {
       "output_type": "stream",
       "stream": "stdout",
       "text": [
        " Il Fornaio 4a7a3673f964a520e0e81fe3\n",
        "55535"
       ]
      },
      {
       "output_type": "stream",
       "stream": "stdout",
       "text": [
        " Amnesia None\n",
        "55536"
       ]
      },
      {
       "output_type": "stream",
       "stream": "stdout",
       "text": [
        " Bobby G's Pizzeria 4a4ed4daf964a52024af1fe3\n",
        "55537"
       ]
      },
      {
       "output_type": "stream",
       "stream": "stdout",
       "text": [
        " Sakana Sushi & Grill 4a03be74f964a520df711fe3\n",
        "55538"
       ]
      },
      {
       "output_type": "stream",
       "stream": "stdout",
       "text": [
        " The Page 43eb859cf964a5203a2f1fe3\n",
        "55539"
       ]
      },
      {
       "output_type": "stream",
       "stream": "stdout",
       "text": [
        " Arizmendi Bakery & Pizzeria 4a6ce0bcf964a520e8d11fe3\n",
        "55540"
       ]
      },
      {
       "output_type": "stream",
       "stream": "stdout",
       "text": [
        " Urban Outfitters 44abea42f964a5200a351fe3\n",
        "55541"
       ]
      },
      {
       "output_type": "stream",
       "stream": "stdout",
       "text": [
        " Eastside West Restaurant & Bar 3fd66200f964a520bdec1ee3\n",
        "55542"
       ]
      },
      {
       "output_type": "stream",
       "stream": "stdout",
       "text": [
        " Best of Thai Noodle 4396da6af964a520972b1fe3\n",
        "55543"
       ]
      },
      {
       "output_type": "stream",
       "stream": "stdout",
       "text": [
        " Fly Bar & Restaurant 49f89f56f964a5200b6d1fe3\n",
        "55544"
       ]
      },
      {
       "output_type": "stream",
       "stream": "stdout",
       "text": [
        " Nama Sushi 4ac176d5f964a520419720e3\n",
        "55545"
       ]
      },
      {
       "output_type": "stream",
       "stream": "stdout",
       "text": [
        " King of Thai Noodle Cafe 4b53f6f0f964a520a3af27e3\n",
        "55546"
       ]
      },
      {
       "output_type": "stream",
       "stream": "stdout",
       "text": [
        " Dan Sung Sa 4a98af0af964a520132d20e3\n",
        "55547"
       ]
      },
      {
       "output_type": "stream",
       "stream": "stdout",
       "text": [
        " Jasmine Fine Thai Cuisine 4b045381f964a520545322e3\n",
        "55548"
       ]
      },
      {
       "output_type": "stream",
       "stream": "stdout",
       "text": [
        " Therapy 49d85e70f964a520bd5d1fe3\n",
        "55549"
       ]
      },
      {
       "output_type": "stream",
       "stream": "stdout",
       "text": [
        " Draeger's Market 4a8b0cddf964a520480b20e3\n",
        "55550"
       ]
      },
      {
       "output_type": "stream",
       "stream": "stdout",
       "text": [
        " Ragazza 4c95857cf7cfa1cd0aaebe15\n",
        "55551"
       ]
      },
      {
       "output_type": "stream",
       "stream": "stdout",
       "text": [
        " Everett & Jones Barbeque 4b0d6962f964a520bc4723e3\n",
        "55552"
       ]
      },
      {
       "output_type": "stream",
       "stream": "stdout",
       "text": [
        " Hang Ten Boiler 5116d44de4b0a044871a4de6\n",
        "55553"
       ]
      },
      {
       "output_type": "stream",
       "stream": "stdout",
       "text": [
        " Satsuma Sushi 4a4990bff964a52073ab1fe3\n",
        "55554"
       ]
      },
      {
       "output_type": "stream",
       "stream": "stdout",
       "text": [
        " Mario's Bohemian Cigar Store Cafe 49f264f8f964a520286a1fe3\n",
        "55555"
       ]
      },
      {
       "output_type": "stream",
       "stream": "stdout",
       "text": [
        " Encore Karaoke Lounge 4390dc85f964a520532b1fe3\n",
        "55556"
       ]
      },
      {
       "output_type": "stream",
       "stream": "stdout",
       "text": [
        " Hopscotch None\n",
        "55557"
       ]
      },
      {
       "output_type": "stream",
       "stream": "stdout",
       "text": [
        " U-Lee Restaurant 4b637497f964a520267b2ae3\n",
        "55558"
       ]
      },
      {
       "output_type": "stream",
       "stream": "stdout",
       "text": [
        " John's Ice Cream 4a8a198ff964a520e00920e3\n",
        "55559"
       ]
      },
      {
       "output_type": "stream",
       "stream": "stdout",
       "text": [
        " Suju's Coffee & Tea 4b047f54f964a520a75422e3\n",
        "55560"
       ]
      },
      {
       "output_type": "stream",
       "stream": "stdout",
       "text": [
        " XOX Truffles 4a33fcb1f964a520859b1fe3\n",
        "55561"
       ]
      },
      {
       "output_type": "stream",
       "stream": "stdout",
       "text": [
        " Original Joe's 4f16eb51c2eea9e9912b089a\n",
        "55562"
       ]
      },
      {
       "output_type": "stream",
       "stream": "stdout",
       "text": [
        " Sweet Adeline Bakeshop 4ad0dab6f964a52071da20e3\n",
        "55563"
       ]
      },
      {
       "output_type": "stream",
       "stream": "stdout",
       "text": [
        " Irving Pizza 4a12fb2cf964a520a9771fe3\n",
        "55564"
       ]
      },
      {
       "output_type": "stream",
       "stream": "stdout",
       "text": [
        " Myung Dong Tofu Cabin 4b1eb59ef964a520421e24e3\n",
        "55565"
       ]
      },
      {
       "output_type": "stream",
       "stream": "stdout",
       "text": [
        " Xyclo 4ae4fa03f964a520db9f21e3\n",
        "55566"
       ]
      },
      {
       "output_type": "stream",
       "stream": "stdout",
       "text": [
        " Tai Chi Restaurant 4a04f4fcf964a52042721fe3\n",
        "55567"
       ]
      },
      {
       "output_type": "stream",
       "stream": "stdout",
       "text": [
        " Arabian Nights Restaurant 4eb4c2c7b634a0485fe0b97f\n",
        "55568"
       ]
      },
      {
       "output_type": "stream",
       "stream": "stdout",
       "text": [
        " Iberia Restaurant 4ba59153f964a520021339e3\n",
        "55569"
       ]
      },
      {
       "output_type": "stream",
       "stream": "stdout",
       "text": [
        " 1015 Folsom 3fd66200f964a52075ec1ee3\n",
        "55570"
       ]
      },
      {
       "output_type": "stream",
       "stream": "stdout",
       "text": [
        " Barber Lounge Salon & Spa 49e91cb5f964a520cc651fe3\n",
        "55571"
       ]
      },
      {
       "output_type": "stream",
       "stream": "stdout",
       "text": [
        " Andy's BBQ 4a425306f964a520bea51fe3\n",
        "55572"
       ]
      },
      {
       "output_type": "stream",
       "stream": "stdout",
       "text": [
        " Miyozen Sushi & Roll 45dd7c53f964a52007431fe3\n",
        "55573"
       ]
      },
      {
       "output_type": "stream",
       "stream": "stdout",
       "text": [
        " Jake's Steaks 49d0ed30f964a520425b1fe3\n",
        "55574"
       ]
      },
      {
       "output_type": "stream",
       "stream": "stdout",
       "text": [
        " Los Moles None\n",
        "55575"
       ]
      },
      {
       "output_type": "stream",
       "stream": "stdout",
       "text": [
        " Pho Nam Restaurant 4a88b360f964a5206d0720e3\n",
        "55576"
       ]
      },
      {
       "output_type": "stream",
       "stream": "stdout",
       "text": [
        " Coco Chicken None\n",
        "55577"
       ]
      },
      {
       "output_type": "stream",
       "stream": "stdout",
       "text": [
        " Vanilla Moon Bakery 4a11d6bdf964a5204c771fe3\n",
        "55578"
       ]
      },
      {
       "output_type": "stream",
       "stream": "stdout",
       "text": [
        " Mel's Drive-In None\n",
        "55579"
       ]
      },
      {
       "output_type": "stream",
       "stream": "stdout",
       "text": [
        " Pizza My Heart 45367f64f964a520ac3b1fe3\n",
        "55580"
       ]
      },
      {
       "output_type": "stream",
       "stream": "stdout",
       "text": [
        " Hair Play 51fad99f498e402dd7dffe03\n",
        "55581"
       ]
      },
      {
       "output_type": "stream",
       "stream": "stdout",
       "text": [
        " Wooden Charcoal Korean Village Barbecue House 4ab820faf964a5204d7c20e3\n",
        "55582"
       ]
      },
      {
       "output_type": "stream",
       "stream": "stdout",
       "text": [
        " Crepevine 4a41bca8f964a52090a51fe3\n",
        "55583"
       ]
      },
      {
       "output_type": "stream",
       "stream": "stdout",
       "text": [
        " Rick's Cafe 4a031ad1f964a5208b711fe3\n",
        "55584"
       ]
      },
      {
       "output_type": "stream",
       "stream": "stdout",
       "text": [
        " The Orbit Room 3fd66200f964a5205aed1ee3\n",
        "55585"
       ]
      },
      {
       "output_type": "stream",
       "stream": "stdout",
       "text": [
        " Spices II 471de72ef964a520bb4b1fe3\n",
        "55586"
       ]
      },
      {
       "output_type": "stream",
       "stream": "stdout",
       "text": [
        " Big Mouth Burger 4e8b5f3db8f79e3db90dc2d0\n",
        "55587"
       ]
      },
      {
       "output_type": "stream",
       "stream": "stdout",
       "text": [
        " Beast And The Hare 4cd8e0663ec4b1f728e8c03f\n",
        "55588"
       ]
      },
      {
       "output_type": "stream",
       "stream": "stdout",
       "text": [
        " Chevys Fresh Mex 4a998e16f964a5200b2f20e3\n",
        "55589"
       ]
      },
      {
       "output_type": "stream",
       "stream": "stdout",
       "text": [
        " Grand Tavern 4a4700e9f964a520bca91fe3\n",
        "55590"
       ]
      },
      {
       "output_type": "stream",
       "stream": "stdout",
       "text": [
        " Elephant Bar Restaurant 4a7680a6f964a5201ce31fe3\n",
        "55591"
       ]
      },
      {
       "output_type": "stream",
       "stream": "stdout",
       "text": [
        " Oceanic Restaurant 4b70acf7f964a5200c292de3\n",
        "55592"
       ]
      },
      {
       "output_type": "stream",
       "stream": "stdout",
       "text": [
        " La Mediterranee 42814b00f964a52006221fe3\n",
        "55593"
       ]
      },
      {
       "output_type": "stream",
       "stream": "stdout",
       "text": [
        " Chotto 4ce588922b4e721ecf48352b\n",
        "55594"
       ]
      },
      {
       "output_type": "stream",
       "stream": "stdout",
       "text": [
        " Grand Palace Restaurant 4b3e7d22f964a520e59d25e3\n",
        "55595"
       ]
      },
      {
       "output_type": "stream",
       "stream": "stdout",
       "text": [
        " Taste Buds Indian Food None\n",
        "55596"
       ]
      },
      {
       "output_type": "stream",
       "stream": "stdout",
       "text": [
        " P F Chang's China Bistro 465d736cf964a5203d471fe3\n",
        "55597"
       ]
      },
      {
       "output_type": "stream",
       "stream": "stdout",
       "text": [
        " SomaR Bar None\n",
        "55598"
       ]
      },
      {
       "output_type": "stream",
       "stream": "stdout",
       "text": [
        " South Park Caf\u00e9 4474333bf964a520ac331fe3\n",
        "55599"
       ]
      },
      {
       "output_type": "stream",
       "stream": "stdout",
       "text": [
        " Chipotle Mexican Grill 49cc2f6af964a52050591fe3\n",
        "55600"
       ]
      },
      {
       "output_type": "stream",
       "stream": "stdout",
       "text": [
        " Burritt Room None\n",
        "55601"
       ]
      },
      {
       "output_type": "stream",
       "stream": "stdout",
       "text": [
        " Out the Door 4ac80a3cf964a52051bb20e3\n",
        "55602"
       ]
      },
      {
       "output_type": "stream",
       "stream": "stdout",
       "text": [
        " Blue Line Pizza 502bfae7e4b07813acf9051a\n",
        "55603"
       ]
      },
      {
       "output_type": "stream",
       "stream": "stdout",
       "text": [
        " The Spot Lounge 4a90d20bf964a520911920e3\n",
        "55604"
       ]
      },
      {
       "output_type": "stream",
       "stream": "stdout",
       "text": [
        " New England Lobster Market & Eatery 5046531ee4b09100cac293b4\n",
        "55605"
       ]
      },
      {
       "output_type": "stream",
       "stream": "stdout",
       "text": [
        " The Revolution Cafe 4a75206cf964a5209de01fe3\n",
        "55606"
       ]
      },
      {
       "output_type": "stream",
       "stream": "stdout",
       "text": [
        " Sichuan Fortune House 4ae27529f964a5206c8e21e3\n",
        "55607"
       ]
      },
      {
       "output_type": "stream",
       "stream": "stdout",
       "text": [
        " Chantal Guillon Macarons & Teas 501ed583e4b0d7d70275e7c8\n",
        "55608"
       ]
      },
      {
       "output_type": "stream",
       "stream": "stdout",
       "text": [
        " Delessio Market & Bakery 45ad2ccdf964a52071411fe3\n",
        "55609"
       ]
      },
      {
       "output_type": "stream",
       "stream": "stdout",
       "text": [
        " Eddie's Cafe 446215e4f964a52017331fe3\n",
        "55610"
       ]
      },
      {
       "output_type": "stream",
       "stream": "stdout",
       "text": [
        " Nectar Wine Lounge 435c2400f964a52014291fe3\n",
        "55611"
       ]
      },
      {
       "output_type": "stream",
       "stream": "stdout",
       "text": [
        " B Patisserie None\n",
        "55612"
       ]
      },
      {
       "output_type": "stream",
       "stream": "stdout",
       "text": [
        " Sweetheart Cafe 4b693edaf964a520cd9c2be3\n",
        "55613"
       ]
      },
      {
       "output_type": "stream",
       "stream": "stdout",
       "text": [
        " Cato's Ale House 43c2bbdaf964a5204a2d1fe3\n",
        "55614"
       ]
      },
      {
       "output_type": "stream",
       "stream": "stdout",
       "text": [
        " Cafe Tiramisu 4ae289b9f964a520e78e21e3\n",
        "55615"
       ]
      },
      {
       "output_type": "stream",
       "stream": "stdout",
       "text": [
        " Caffe Trieste 4f32964a19836c91c7e65562\n",
        "55616"
       ]
      },
      {
       "output_type": "stream",
       "stream": "stdout",
       "text": [
        " El Farolito 4a0e123af964a520c2751fe3\n",
        "55617"
       ]
      },
      {
       "output_type": "stream",
       "stream": "stdout",
       "text": [
        " Sweet Tomatoes 4ac94a60f964a52090bf20e3\n",
        "55618"
       ]
      },
      {
       "output_type": "stream",
       "stream": "stdout",
       "text": [
        " La Strada Ristorante Italiano 4f4499a719836ed001952f19\n",
        "55619"
       ]
      },
      {
       "output_type": "stream",
       "stream": "stdout",
       "text": [
        " La Pi\u00f1ata 4b440440f964a5203ff025e3\n",
        "55620"
       ]
      },
      {
       "output_type": "stream",
       "stream": "stdout",
       "text": [
        " Christie's 4a7dcf49f964a520b2ef1fe3\n",
        "55621"
       ]
      },
      {
       "output_type": "stream",
       "stream": "stdout",
       "text": [
        " Kabul Afghan Cuisine 4a59553bf964a52040b91fe3\n",
        "55622"
       ]
      },
      {
       "output_type": "stream",
       "stream": "stdout",
       "text": [
        " Sons & Daughters 4c09b60c340720a11f5b8593\n",
        "55623"
       ]
      },
      {
       "output_type": "stream",
       "stream": "stdout",
       "text": [
        " Masu 4ac55ca9f964a520b6b120e3\n",
        "55624"
       ]
      },
      {
       "output_type": "stream",
       "stream": "stdout",
       "text": [
        " Zen Peninsula 4a8b0224f964a520290b20e3\n",
        "55625"
       ]
      },
      {
       "output_type": "stream",
       "stream": "stdout",
       "text": [
        " Bursa 4a692042f964a520a5cb1fe3\n",
        "55626"
       ]
      },
      {
       "output_type": "stream",
       "stream": "stdout",
       "text": [
        " Duke of Edinburgh 4085b980f964a52085f21ee3\n",
        "55627"
       ]
      },
      {
       "output_type": "stream",
       "stream": "stdout",
       "text": [
        " Vip Oriental 4ab3047af964a520506d20e3\n",
        "55628"
       ]
      },
      {
       "output_type": "stream",
       "stream": "stdout",
       "text": [
        " Bierhaus None\n",
        "55629"
       ]
      },
      {
       "output_type": "stream",
       "stream": "stdout",
       "text": [
        " Pizza Chicago None\n",
        "55630"
       ]
      },
      {
       "output_type": "stream",
       "stream": "stdout",
       "text": [
        " Marin Brewing Company 4a3d9649f964a5207da21fe3\n",
        "55631"
       ]
      },
      {
       "output_type": "stream",
       "stream": "stdout",
       "text": [
        " Stacks 43b85a95f964a520db2c1fe3\n",
        "55632"
       ]
      },
      {
       "output_type": "stream",
       "stream": "stdout",
       "text": [
        " Madera 4a71f2c0f964a520f2d91fe3\n",
        "55633"
       ]
      },
      {
       "output_type": "stream",
       "stream": "stdout",
       "text": [
        " Truong Thanh Restaurant 4bb3a5cc4019a5930d3e38b8\n",
        "55634"
       ]
      },
      {
       "output_type": "stream",
       "stream": "stdout",
       "text": [
        " Shimo 4101a680f964a520660b1fe3\n",
        "55635"
       ]
      },
      {
       "output_type": "stream",
       "stream": "stdout",
       "text": [
        " Roam Artisan Burgers 5036e1e4e4b0c173555542aa\n",
        "55636"
       ]
      },
      {
       "output_type": "stream",
       "stream": "stdout",
       "text": [
        " Serrano's Pizza 46db1a43f964a5207f4a1fe3\n",
        "55637"
       ]
      },
      {
       "output_type": "stream",
       "stream": "stdout",
       "text": [
        " Blondie's Pizza 4a4a60a6f964a520bbab1fe3\n",
        "55638"
       ]
      },
      {
       "output_type": "stream",
       "stream": "stdout",
       "text": [
        " Tender Greens 4db7722d4b223ed35f0fd67b\n",
        "55639"
       ]
      },
      {
       "output_type": "stream",
       "stream": "stdout",
       "text": [
        " Perry's 4a0499aaf964a5200d721fe3\n",
        "55640"
       ]
      },
      {
       "output_type": "stream",
       "stream": "stdout",
       "text": [
        " Sweet Tomatoes 4a3d86cdf964a52066a21fe3\n",
        "55641"
       ]
      },
      {
       "output_type": "stream",
       "stream": "stdout",
       "text": [
        " Moshi Moshi 40870b00f964a520b6f21ee3\n",
        "55642"
       ]
      },
      {
       "output_type": "stream",
       "stream": "stdout",
       "text": [
        " King of Noodles 4b36aa2ff964a5203e3a25e3\n",
        "55643"
       ]
      },
      {
       "output_type": "stream",
       "stream": "stdout",
       "text": [
        " Crouching Tiger Restaurant 4a61583ff964a5205ac21fe3\n",
        "55644"
       ]
      },
      {
       "output_type": "stream",
       "stream": "stdout",
       "text": [
        " Udupi Palace 4b46ba3cf964a520742726e3\n",
        "55645"
       ]
      },
      {
       "output_type": "stream",
       "stream": "stdout",
       "text": [
        " Maneki Sushi 4b5a09b9f964a52047a928e3\n",
        "55646"
       ]
      },
      {
       "output_type": "stream",
       "stream": "stdout",
       "text": [
        " Cafe Grillades 4b21a5ccf964a520833f24e3\n",
        "55647"
       ]
      },
      {
       "output_type": "stream",
       "stream": "stdout",
       "text": [
        " Pete's Tavern 49dd948cf964a5201c601fe3\n",
        "55648"
       ]
      },
      {
       "output_type": "stream",
       "stream": "stdout",
       "text": [
        " Bimbo's 365 Club 3fd66200f964a52053ed1ee3\n",
        "55649"
       ]
      },
      {
       "output_type": "stream",
       "stream": "stdout",
       "text": [
        " Zen Bistro 4a3b053ff964a52082a01fe3\n",
        "55650"
       ]
      },
      {
       "output_type": "stream",
       "stream": "stdout",
       "text": [
        " Majikku Ramen 4aafefeef964a5203f6520e3\n",
        "55651"
       ]
      },
      {
       "output_type": "stream",
       "stream": "stdout",
       "text": [
        " Jasmine Garden 49d183b8f964a5208d5b1fe3\n",
        "55652"
       ]
      },
      {
       "output_type": "stream",
       "stream": "stdout",
       "text": [
        " Cat Club None\n",
        "55653"
       ]
      },
      {
       "output_type": "stream",
       "stream": "stdout",
       "text": [
        " Edo Salon and Gallery 441c3d0ff964a52053311fe3\n",
        "55654"
       ]
      },
      {
       "output_type": "stream",
       "stream": "stdout",
       "text": [
        " Tad's Steakhouse 459ec615f964a520bd401fe3\n",
        "55655"
       ]
      },
      {
       "output_type": "stream",
       "stream": "stdout",
       "text": [
        " Taqueria Guadalajara 4b244110f964a520c76424e3\n",
        "55656"
       ]
      },
      {
       "output_type": "stream",
       "stream": "stdout",
       "text": [
        " Kuya's Asian Cuisine 4b060c3ff964a520f9e722e3\n",
        "55657"
       ]
      },
      {
       "output_type": "stream",
       "stream": "stdout",
       "text": [
        " Terzo 4a59485af964a5202cb91fe3\n",
        "55658"
       ]
      },
      {
       "output_type": "stream",
       "stream": "stdout",
       "text": [
        " The Brixton 4cc4a5f6dba3ef3bd29c0705\n",
        "55659"
       ]
      },
      {
       "output_type": "stream",
       "stream": "stdout",
       "text": [
        " Su's Mongolian BBQ 49fde6edf964a520406f1fe3\n",
        "55660"
       ]
      },
      {
       "output_type": "stream",
       "stream": "stdout",
       "text": [
        " Paragon Restaurant & Bar 4ad3636af964a52016e420e3\n",
        "55661"
       ]
      },
      {
       "output_type": "stream",
       "stream": "stdout",
       "text": [
        " Umi 4a025b81f964a52049711fe3\n",
        "55662"
       ]
      },
      {
       "output_type": "stream",
       "stream": "stdout",
       "text": [
        " Jasmine Tea House 49c2b926f964a5201f561fe3\n",
        "55663"
       ]
      },
      {
       "output_type": "stream",
       "stream": "stdout",
       "text": [
        " La Burrita 4b4bd098f964a52099a826e3\n",
        "55664"
       ]
      },
      {
       "output_type": "stream",
       "stream": "stdout",
       "text": [
        " Yumi Yogurt 4a9756bff964a520692920e3\n",
        "55665"
       ]
      },
      {
       "output_type": "stream",
       "stream": "stdout",
       "text": [
        " Campton Place Restaurant 4bb23718715eef3b89ec84bb\n",
        "55666"
       ]
      },
      {
       "output_type": "stream",
       "stream": "stdout",
       "text": [
        " Cups And Cakes Bakery 4b09a3bdf964a520d11a23e3\n",
        "55667"
       ]
      },
      {
       "output_type": "stream",
       "stream": "stdout",
       "text": [
        " Ajanta Restaurant 4a18f9eff964a520ff791fe3\n",
        "55668"
       ]
      },
      {
       "output_type": "stream",
       "stream": "stdout",
       "text": [
        " Arang Restaurant 4ae7c8f2f964a520a5ad21e3\n",
        "55669"
       ]
      },
      {
       "output_type": "stream",
       "stream": "stdout",
       "text": [
        " Manora's Thai Cuisine 44d0de34f964a52029361fe3\n",
        "55670"
       ]
      },
      {
       "output_type": "stream",
       "stream": "stdout",
       "text": [
        " Rhea's Deli & Market 4a888cbff964a520dc0620e3\n",
        "55671"
       ]
      },
      {
       "output_type": "stream",
       "stream": "stdout",
       "text": [
        " Tadamasa 4c3d2250a97bbe9acd8dfbdd\n",
        "55672"
       ]
      },
      {
       "output_type": "stream",
       "stream": "stdout",
       "text": [
        " House of Dumplings 4b897538f964a520183832e3\n",
        "55673"
       ]
      },
      {
       "output_type": "stream",
       "stream": "stdout",
       "text": [
        " Dino and Santino's Pizza 441135f6f964a520c7301fe3\n",
        "55674"
       ]
      },
      {
       "output_type": "stream",
       "stream": "stdout",
       "text": [
        " Naked Fish 454f46f7f964a520d73c1fe3\n",
        "55675"
       ]
      },
      {
       "output_type": "stream",
       "stream": "stdout",
       "text": [
        " Cinta Aveda Institute 4a57f5aaf964a52025b71fe3\n",
        "55676"
       ]
      },
      {
       "output_type": "stream",
       "stream": "stdout",
       "text": [
        " Samovar Tea Lounge 49c92c24f964a5203a581fe3\n",
        "55677"
       ]
      },
      {
       "output_type": "stream",
       "stream": "stdout",
       "text": [
        " The Habit Burger Grill 4f8c59efe4b0af04c33f309e\n",
        "55678"
       ]
      },
      {
       "output_type": "stream",
       "stream": "stdout",
       "text": [
        " L'Osteria Del Forno 442cff4cf964a520d2311fe3\n",
        "55679"
       ]
      },
      {
       "output_type": "stream",
       "stream": "stdout",
       "text": [
        " Mixt Greens 4a0312fff964a52086711fe3\n",
        "55680"
       ]
      },
      {
       "output_type": "stream",
       "stream": "stdout",
       "text": [
        " Rickshaw Stop None\n",
        "55681"
       ]
      },
      {
       "output_type": "stream",
       "stream": "stdout",
       "text": [
        " La Mission 4d3b8330457cb60cc045e7a4\n",
        "55682"
       ]
      },
      {
       "output_type": "stream",
       "stream": "stdout",
       "text": [
        " Thai House Express 46a24448f964a52029491fe3\n",
        "55683"
       ]
      },
      {
       "output_type": "stream",
       "stream": "stdout",
       "text": [
        " Sakana Bune Japanese Restaurant 4089ae00f964a520c0f21ee3\n",
        "55684"
       ]
      },
      {
       "output_type": "stream",
       "stream": "stdout",
       "text": [
        " Abc Bakery Cafe 4b404911f964a52065b725e3\n",
        "55685"
       ]
      },
      {
       "output_type": "stream",
       "stream": "stdout",
       "text": [
        " Le Zinc 463e0f59f964a52045461fe3\n",
        "55686"
       ]
      },
      {
       "output_type": "stream",
       "stream": "stdout",
       "text": [
        " Eureka Restaurant & Lounge 4a2768fff964a5207e911fe3\n",
        "55687"
       ]
      },
      {
       "output_type": "stream",
       "stream": "stdout",
       "text": [
        " Mings Chinese Cuisine & Bar 49d94471f964a520195e1fe3\n",
        "55688"
       ]
      },
      {
       "output_type": "stream",
       "stream": "stdout",
       "text": [
        " Vung Tau II Restaurant 4b57cdacf964a520df4128e3\n",
        "55689"
       ]
      },
      {
       "output_type": "stream",
       "stream": "stdout",
       "text": [
        " Warakubune Sushi 4a88b5b1f964a520720720e3\n",
        "55690"
       ]
      },
      {
       "output_type": "stream",
       "stream": "stdout",
       "text": [
        " Sloane None\n",
        "55691"
       ]
      },
      {
       "output_type": "stream",
       "stream": "stdout",
       "text": [
        " Home Plate 4a9ec745f964a520263b20e3\n",
        "55692"
       ]
      },
      {
       "output_type": "stream",
       "stream": "stdout",
       "text": [
        " Mojo Bicycle Caf\u00e9 49c29489f964a52004561fe3\n",
        "55693"
       ]
      },
      {
       "output_type": "stream",
       "stream": "stdout",
       "text": [
        " Kells Irish Restaurant & Pub 42829c80f964a5201f221fe3\n",
        "55694"
       ]
      },
      {
       "output_type": "stream",
       "stream": "stdout",
       "text": [
        " Los C\u00e1ntaros Restaurant And Taquer\u00eda 49c5b7a8f964a5201f571fe3\n",
        "55695"
       ]
      },
      {
       "output_type": "stream",
       "stream": "stdout",
       "text": [
        " Bangkok Garden Thai Cuisine None\n",
        "55696"
       ]
      },
      {
       "output_type": "stream",
       "stream": "stdout",
       "text": [
        " Chelokababi Restaurant 4b7e216bf964a520dbe32fe3\n",
        "55697"
       ]
      },
      {
       "output_type": "stream",
       "stream": "stdout",
       "text": [
        " The Dutch Goose 40eb3d00f964a520280a1fe3\n",
        "55698"
       ]
      },
      {
       "output_type": "stream",
       "stream": "stdout",
       "text": [
        " Il Borgo 4a7649b7f964a520c5e21fe3\n",
        "55699"
       ]
      },
      {
       "output_type": "stream",
       "stream": "stdout",
       "text": [
        " Ace Wasabi's Rock 'n' Roll Sushi 3fd66200f964a52054ed1ee3\n",
        "55700"
       ]
      },
      {
       "output_type": "stream",
       "stream": "stdout",
       "text": [
        " Sephora 4ab1481ef964a520e16820e3\n",
        "55701"
       ]
      },
      {
       "output_type": "stream",
       "stream": "stdout",
       "text": [
        " Thai Time Restaurant 43d69045f964a5204e2e1fe3\n",
        "55702"
       ]
      },
      {
       "output_type": "stream",
       "stream": "stdout",
       "text": [
        " Albona Ristorante Istriano 4a980c5af964a5203b2a20e3\n",
        "55703"
       ]
      },
      {
       "output_type": "stream",
       "stream": "stdout",
       "text": [
        " C U Sushi 4a5bea11f964a520febb1fe3\n",
        "55704"
       ]
      },
      {
       "output_type": "stream",
       "stream": "stdout",
       "text": [
        " Pho 84 4a04a257f964a52014721fe3\n",
        "55705"
       ]
      },
      {
       "output_type": "stream",
       "stream": "stdout",
       "text": [
        " Seven Hills 4ce72844678aa09348b8e0ea\n",
        "55706"
       ]
      },
      {
       "output_type": "stream",
       "stream": "stdout",
       "text": [
        " Golden Gate Fortune Cookies 4a9eedbcf964a520ce3b20e3\n",
        "55707"
       ]
      },
      {
       "output_type": "stream",
       "stream": "stdout",
       "text": [
        " The Spinnaker 4a760bf4f964a5200be21fe3\n",
        "55708"
       ]
      },
      {
       "output_type": "stream",
       "stream": "stdout",
       "text": [
        " Eggettes 4b6620b6f964a5203e152be3\n",
        "55709"
       ]
      },
      {
       "output_type": "stream",
       "stream": "stdout",
       "text": [
        " Sliver 50f4ce36e4b0b05d31f7128e\n",
        "55710"
       ]
      },
      {
       "output_type": "stream",
       "stream": "stdout",
       "text": [
        " Tee Off Bar 457c90e3f964a5200c3f1fe3\n",
        "55711"
       ]
      },
      {
       "output_type": "stream",
       "stream": "stdout",
       "text": [
        " Bo's Barbecue & Catering Restaurant 49d67699f964a520d55c1fe3\n",
        "55712"
       ]
      },
      {
       "output_type": "stream",
       "stream": "stdout",
       "text": [
        " Palo Alto Sol 4a7b3558f964a52052ea1fe3\n",
        "55713"
       ]
      },
      {
       "output_type": "stream",
       "stream": "stdout",
       "text": [
        " Darbar Indian Cuisine 45126099f964a5209f391fe3\n",
        "55714"
       ]
      },
      {
       "output_type": "stream",
       "stream": "stdout",
       "text": [
        " King Wah Restaurant 4b2d393bf964a5207bd124e3\n",
        "55715"
       ]
      },
      {
       "output_type": "stream",
       "stream": "stdout",
       "text": [
        " Hanamaru 4ab54969f964a520be7320e3\n",
        "55716"
       ]
      },
      {
       "output_type": "stream",
       "stream": "stdout",
       "text": [
        " Best Buy 49c9953af964a52084581fe3\n",
        "55717"
       ]
      },
      {
       "output_type": "stream",
       "stream": "stdout",
       "text": [
        " San Jalisco 48fdd3d8f964a52055521fe3\n",
        "55718"
       ]
      },
      {
       "output_type": "stream",
       "stream": "stdout",
       "text": [
        " Au Coquelet Cafe Restaurant 4aab5d62f964a520845920e3\n",
        "55719"
       ]
      },
      {
       "output_type": "stream",
       "stream": "stdout",
       "text": [
        " Cam Huong Restaurant 4a6e1523f964a520e0d31fe3\n",
        "55720"
       ]
      },
      {
       "output_type": "stream",
       "stream": "stdout",
       "text": [
        " 500 Club 4085b980f964a52089f21ee3\n",
        "55721"
       ]
      },
      {
       "output_type": "stream",
       "stream": "stdout",
       "text": [
        " Romolo's Cannoli 4ac3ce9bf964a520df9c20e3\n",
        "55722"
       ]
      },
      {
       "output_type": "stream",
       "stream": "stdout",
       "text": [
        " Sweet Orchid 4b413847f964a52089c325e3\n",
        "55723"
       ]
      },
      {
       "output_type": "stream",
       "stream": "stdout",
       "text": [
        " Mokutanya 4e9809689a52e26642f8f6aa\n",
        "55724"
       ]
      },
      {
       "output_type": "stream",
       "stream": "stdout",
       "text": [
        " Cafe Du Nord 3fd66200f964a5201bf11ee3\n",
        "55725"
       ]
      },
      {
       "output_type": "stream",
       "stream": "stdout",
       "text": [
        " Yakitori KOKKO 4b08ac73f964a520931023e3\n",
        "55726"
       ]
      },
      {
       "output_type": "stream",
       "stream": "stdout",
       "text": [
        " Farley's 40ccea80f964a52018011fe3\n",
        "55727"
       ]
      },
      {
       "output_type": "stream",
       "stream": "stdout",
       "text": [
        " Suchada Thai Massage 4a12f0faf964a5209d771fe3\n",
        "55728"
       ]
      },
      {
       "output_type": "stream",
       "stream": "stdout",
       "text": [
        " Corrib Moving & Storage None\n",
        "55729"
       ]
      },
      {
       "output_type": "stream",
       "stream": "stdout",
       "text": [
        " Guerilla Cafe 4a57eb0cf964a52011b71fe3\n",
        "55730"
       ]
      },
      {
       "output_type": "stream",
       "stream": "stdout",
       "text": [
        " Vault 164 4f07d541e4b0882d2280f16a\n",
        "55731"
       ]
      },
      {
       "output_type": "stream",
       "stream": "stdout",
       "text": [
        " Vanessa's Bistro 2 4b7208fff964a520506b2de3\n",
        "55732"
       ]
      },
      {
       "output_type": "stream",
       "stream": "stdout",
       "text": [
        " Deepa the Threading Queen None\n",
        "55733"
       ]
      },
      {
       "output_type": "stream",
       "stream": "stdout",
       "text": [
        " Sala Thai 2 4afe4015f964a520f22e22e3\n",
        "55734"
       ]
      },
      {
       "output_type": "stream",
       "stream": "stdout",
       "text": [
        " Little Star Pizza 4c523b9dd797e21e5e2d5a7d\n",
        "55735"
       ]
      },
      {
       "output_type": "stream",
       "stream": "stdout",
       "text": [
        " The Brazen Head 49cf2129f964a520a15a1fe3\n",
        "55736"
       ]
      },
      {
       "output_type": "stream",
       "stream": "stdout",
       "text": [
        " Bay Wolf 4a2591f1f964a520677e1fe3\n",
        "55737"
       ]
      },
      {
       "output_type": "stream",
       "stream": "stdout",
       "text": [
        " The Bell Tower 42accc80f964a52040251fe3\n",
        "55738"
       ]
      },
      {
       "output_type": "stream",
       "stream": "stdout",
       "text": [
        " Piqueo's 4a2debe9f964a52008981fe3\n",
        "55739"
       ]
      },
      {
       "output_type": "stream",
       "stream": "stdout",
       "text": [
        " Asha Tea House 4f08ebcae4b026656ec7176f\n",
        "55740"
       ]
      },
      {
       "output_type": "stream",
       "stream": "stdout",
       "text": [
        " The Richmond 43f4dde6f964a520a02f1fe3\n",
        "55741"
       ]
      },
      {
       "output_type": "stream",
       "stream": "stdout",
       "text": [
        " Fat Slice Pizza 4af62cbcf964a520ee0122e3\n",
        "55742"
       ]
      },
      {
       "output_type": "stream",
       "stream": "stdout",
       "text": [
        " The Crepe House 44f72fdcf964a5204d381fe3\n",
        "55743"
       ]
      },
      {
       "output_type": "stream",
       "stream": "stdout",
       "text": [
        " Otaez Mexican Restaurant 4b985f19f964a5208e3e35e3\n",
        "55744"
       ]
      },
      {
       "output_type": "stream",
       "stream": "stdout",
       "text": [
        " Mission Pizza 4a20a89df964a520b27c1fe3\n",
        "55745"
       ]
      },
      {
       "output_type": "stream",
       "stream": "stdout",
       "text": [
        " Caf\u00e9 Pro Bono None\n",
        "55746"
       ]
      },
      {
       "output_type": "stream",
       "stream": "stdout",
       "text": [
        " Schmidt's None\n",
        "55747"
       ]
      },
      {
       "output_type": "stream",
       "stream": "stdout",
       "text": [
        " Vertigo Bar 4197f180f964a520131e1fe3\n",
        "55748"
       ]
      },
      {
       "output_type": "stream",
       "stream": "stdout",
       "text": [
        " The Coffee Bean & Tea Leaf 49d929aef964a5200c5e1fe3\n",
        "55749"
       ]
      },
      {
       "output_type": "stream",
       "stream": "stdout",
       "text": [
        " Bangkok Bay Thai Cuisine 4a612853f964a52005c21fe3\n",
        "55750"
       ]
      },
      {
       "output_type": "stream",
       "stream": "stdout",
       "text": [
        " Myconos Restaurant 46002c84f964a52092441fe3\n",
        "55751"
       ]
      },
      {
       "output_type": "stream",
       "stream": "stdout",
       "text": [
        " SoMa StrEat Food Park None\n",
        "55752"
       ]
      },
      {
       "output_type": "stream",
       "stream": "stdout",
       "text": [
        " Ambiance 4b05eb91f964a520d2e522e3\n",
        "55753"
       ]
      },
      {
       "output_type": "stream",
       "stream": "stdout",
       "text": [
        " Lo Coco's Restaurant 4a5a86b7f964a52080ba1fe3\n",
        "55754"
       ]
      },
      {
       "output_type": "stream",
       "stream": "stdout",
       "text": [
        " El Toro Taqueria 49efc205f964a52004691fe3\n",
        "55755"
       ]
      },
      {
       "output_type": "stream",
       "stream": "stdout",
       "text": [
        " La Fiesta Restaurant 4596ba31f964a52070401fe3\n",
        "55756"
       ]
      },
      {
       "output_type": "stream",
       "stream": "stdout",
       "text": [
        " La Boulange de Fillmore 4b37da5ef964a520794725e3\n",
        "55757"
       ]
      },
      {
       "output_type": "stream",
       "stream": "stdout",
       "text": [
        " Blue Mango 4a540529f964a520f6b21fe3\n",
        "55758"
       ]
      },
      {
       "output_type": "stream",
       "stream": "stdout",
       "text": [
        " Ristorante Ideale 40bbc700f964a520a9001fe3\n",
        "55759"
       ]
      },
      {
       "output_type": "stream",
       "stream": "stdout",
       "text": [
        " Chouquet's 49d64d88f964a520b25c1fe3\n",
        "55760"
       ]
      },
      {
       "output_type": "stream",
       "stream": "stdout",
       "text": [
        " Chaat Bhavan 4acf972ff964a520c8d420e3\n",
        "55761"
       ]
      },
      {
       "output_type": "stream",
       "stream": "stdout",
       "text": [
        " Bistro Aix 45058f03f964a52009391fe3\n",
        "55762"
       ]
      },
      {
       "output_type": "stream",
       "stream": "stdout",
       "text": [
        " Shalimar 4b74e703f964a5206df72de3\n",
        "55763"
       ]
      },
      {
       "output_type": "stream",
       "stream": "stdout",
       "text": [
        " Taylor Street Coffee Shop 4a671dbaf964a520edc81fe3\n",
        "55764"
       ]
      },
      {
       "output_type": "stream",
       "stream": "stdout",
       "text": [
        " The Endup 3fd66200f964a520a5ec1ee3\n",
        "55765"
       ]
      },
      {
       "output_type": "stream",
       "stream": "stdout",
       "text": [
        " Gordo Taqueria 459f93a0f964a520c4401fe3\n",
        "55766"
       ]
      },
      {
       "output_type": "stream",
       "stream": "stdout",
       "text": [
        " Vientian Caf\u00e9 4a292a77f964a5205f951fe3\n",
        "55767"
       ]
      },
      {
       "output_type": "stream",
       "stream": "stdout",
       "text": [
        " Noc Noc 3fd66200f964a52058ed1ee3\n",
        "55768"
       ]
      },
      {
       "output_type": "stream",
       "stream": "stdout",
       "text": [
        " ABC Bakery Cafe 4ac3d218f964a520ec9c20e3\n",
        "55769"
       ]
      },
      {
       "output_type": "stream",
       "stream": "stdout",
       "text": [
        " Una Pizza Napoletana 4c8a74b755f9b713e4294add\n",
        "55770"
       ]
      },
      {
       "output_type": "stream",
       "stream": "stdout",
       "text": [
        " Attic 4bf75a57c07c9c7412a1bbef\n",
        "55771"
       ]
      },
      {
       "output_type": "stream",
       "stream": "stdout",
       "text": [
        " Lettuce Restaurant & Catering 4b086143f964a520870a23e3\n",
        "55772"
       ]
      },
      {
       "output_type": "stream",
       "stream": "stdout",
       "text": [
        " Trattoria Pinocchio 4b34248bf964a5207a2525e3\n",
        "55773"
       ]
      },
      {
       "output_type": "stream",
       "stream": "stdout",
       "text": [
        " Burgermeister 43d0a1bdf964a520ee2d1fe3\n",
        "55774"
       ]
      },
      {
       "output_type": "stream",
       "stream": "stdout",
       "text": [
        " Hankook Supermarket 4a5fed3df964a52088c01fe3\n",
        "55775"
       ]
      },
      {
       "output_type": "stream",
       "stream": "stdout",
       "text": [
        " Tia Margarita Mexican Restaurant 49eb6b29f964a520d6661fe3\n",
        "55776"
       ]
      },
      {
       "output_type": "stream",
       "stream": "stdout",
       "text": [
        " Legendary Palace 49c6a6a7f964a5206a571fe3\n",
        "55777"
       ]
      },
      {
       "output_type": "stream",
       "stream": "stdout",
       "text": [
        " Quinn's Lighthouse 429cfa80f964a520ae241fe3\n",
        "55778"
       ]
      },
      {
       "output_type": "stream",
       "stream": "stdout",
       "text": [
        " Lucky Strike 4d86573de83fa143000d8ea1\n",
        "55779"
       ]
      },
      {
       "output_type": "stream",
       "stream": "stdout",
       "text": [
        " En 4a62a855f964a5206dc41fe3\n",
        "55780"
       ]
      },
      {
       "output_type": "stream",
       "stream": "stdout",
       "text": [
        " The Sycamore 4c253819c11dc9b634d82624\n",
        "55781"
       ]
      },
      {
       "output_type": "stream",
       "stream": "stdout",
       "text": [
        " Kalesa Restaurant 4a7791d0f964a520d5e41fe3\n",
        "55782"
       ]
      },
      {
       "output_type": "stream",
       "stream": "stdout",
       "text": [
        " Oriental BBQ Chicken Town 4ac8b776f964a52058bc20e3\n",
        "55783"
       ]
      },
      {
       "output_type": "stream",
       "stream": "stdout",
       "text": [
        " QT Nails 4b203027f964a520752e24e3\n",
        "55784"
       ]
      },
      {
       "output_type": "stream",
       "stream": "stdout",
       "text": [
        " Bittersweet Chocolate Caf\u00e9 4a70a61af964a52013d81fe3\n",
        "55785"
       ]
      },
      {
       "output_type": "stream",
       "stream": "stdout",
       "text": [
        " Pizza And Curry 4b393adef964a520a65825e3\n",
        "55786"
       ]
      },
      {
       "output_type": "stream",
       "stream": "stdout",
       "text": [
        " Thai Noodle 46abf225f964a5206f491fe3\n",
        "55787"
       ]
      },
      {
       "output_type": "stream",
       "stream": "stdout",
       "text": [
        " Curry Village 4b6a4e04f964a5207fd12be3\n",
        "55788"
       ]
      },
      {
       "output_type": "stream",
       "stream": "stdout",
       "text": [
        " Scott's Seafood Grill & Bar 4b5677cef964a520c31128e3\n",
        "55789"
       ]
      },
      {
       "output_type": "stream",
       "stream": "stdout",
       "text": [
        " Ristorante Umbria 452b82caf964a5203b3b1fe3\n",
        "55790"
       ]
      },
      {
       "output_type": "stream",
       "stream": "stdout",
       "text": [
        " Crepes A Go Go 49d5ce61f964a520a45c1fe3\n",
        "55791"
       ]
      },
      {
       "output_type": "stream",
       "stream": "stdout",
       "text": [
        " Sushi Raw 49ea905ef964a52080661fe3\n",
        "55792"
       ]
      },
      {
       "output_type": "stream",
       "stream": "stdout",
       "text": [
        " Hotel Utah Saloon 3fd66200f964a52023f11ee3\n",
        "55793"
       ]
      },
      {
       "output_type": "stream",
       "stream": "stdout",
       "text": [
        " Rotten City Pizza 4a725663f964a520ebda1fe3\n",
        "55794"
       ]
      },
      {
       "output_type": "stream",
       "stream": "stdout",
       "text": [
        " Okoze Sushi 449b0faef964a520a1341fe3\n",
        "55795"
       ]
      },
      {
       "output_type": "stream",
       "stream": "stdout",
       "text": [
        " Comal 4f9f0e5f0039f866d55b6076\n",
        "55796"
       ]
      },
      {
       "output_type": "stream",
       "stream": "stdout",
       "text": [
        " Angel Fish Japanese Restaurant 4b8b5cf0f964a520889d32e3\n",
        "55797"
       ]
      },
      {
       "output_type": "stream",
       "stream": "stdout",
       "text": [
        " Target Masters 4ac11512f964a520bb9520e3\n",
        "55798"
       ]
      },
      {
       "output_type": "stream",
       "stream": "stdout",
       "text": [
        " The Annex at St. Michael's Alley 4bf5f3c094b2a59318bfacee\n",
        "55799"
       ]
      },
      {
       "output_type": "stream",
       "stream": "stdout",
       "text": [
        " Darbar Restaurant 45209ad3f964a520b83a1fe3\n",
        "55800"
       ]
      },
      {
       "output_type": "stream",
       "stream": "stdout",
       "text": [
        " Joshu-Ya Brasserie 4e777d4881dc463907ae9763\n",
        "55801"
       ]
      },
      {
       "output_type": "stream",
       "stream": "stdout",
       "text": [
        " Burmese Kitchen 4aab28ddf964a520275920e3\n",
        "55802"
       ]
      },
      {
       "output_type": "stream",
       "stream": "stdout",
       "text": [
        " Trader Joe's 459ac90cf964a52088401fe3\n",
        "55803"
       ]
      },
      {
       "output_type": "stream",
       "stream": "stdout",
       "text": [
        " Golden Island Cafe 4a7501d4f964a52042e01fe3\n",
        "55804"
       ]
      },
      {
       "output_type": "stream",
       "stream": "stdout",
       "text": [
        " Ramen Shop 50d675d1e4b047bb04184422\n",
        "55805"
       ]
      },
      {
       "output_type": "stream",
       "stream": "stdout",
       "text": [
        " Red Robin Gourmet Burgers 482768e5f964a520a94f1fe3\n",
        "55806"
       ]
      },
      {
       "output_type": "stream",
       "stream": "stdout",
       "text": [
        " La Pi\u00f1ata 4ae25c72f964a520a18d21e3\n",
        "55807"
       ]
      },
      {
       "output_type": "stream",
       "stream": "stdout",
       "text": [
        " Balboa Cafe 427d5680f964a520a6211fe3\n",
        "55808"
       ]
      },
      {
       "output_type": "stream",
       "stream": "stdout",
       "text": [
        " Blue Fin Sushi 4341c600f964a52061281fe3\n",
        "55809"
       ]
      },
      {
       "output_type": "stream",
       "stream": "stdout",
       "text": [
        " Chai Thai Noodles 4a63eb4af964a52002c61fe3\n",
        "55810"
       ]
      },
      {
       "output_type": "stream",
       "stream": "stdout",
       "text": [
        " House of Curries 464792f1f964a5209b461fe3\n",
        "55811"
       ]
      },
      {
       "output_type": "stream",
       "stream": "stdout",
       "text": [
        " Kiss Seafood 46b3377df964a520a3491fe3\n",
        "55812"
       ]
      },
      {
       "output_type": "stream",
       "stream": "stdout",
       "text": [
        " The Prolific Oven 4afcb0d4f964a5201e2522e3\n",
        "55813"
       ]
      },
      {
       "output_type": "stream",
       "stream": "stdout",
       "text": [
        " Sneha 47af148af964a5209a4d1fe3\n",
        "55814"
       ]
      },
      {
       "output_type": "stream",
       "stream": "stdout",
       "text": [
        " Credo None\n",
        "55815"
       ]
      },
      {
       "output_type": "stream",
       "stream": "stdout",
       "text": [
        " Cafe Jacqueline None\n",
        "55816"
       ]
      },
      {
       "output_type": "stream",
       "stream": "stdout",
       "text": [
        " Minako Organic Japanese Restaurant 43f91f9cf964a520ce2f1fe3\n",
        "55817"
       ]
      },
      {
       "output_type": "stream",
       "stream": "stdout",
       "text": [
        " Safeway 44610f81f964a52010331fe3\n",
        "55818"
       ]
      },
      {
       "output_type": "stream",
       "stream": "stdout",
       "text": [
        " Chez TJ 4b0c9f4ef964a520464023e3\n",
        "55819"
       ]
      },
      {
       "output_type": "stream",
       "stream": "stdout",
       "text": [
        " Semo Sushi None\n",
        "55820"
       ]
      },
      {
       "output_type": "stream",
       "stream": "stdout",
       "text": [
        " Velo Rouge Cafe 43c12ef9f964a520392d1fe3\n",
        "55821"
       ]
      },
      {
       "output_type": "stream",
       "stream": "stdout",
       "text": [
        " The Starlight Room 45362874f964a520a13b1fe3\n",
        "55822"
       ]
      },
      {
       "output_type": "stream",
       "stream": "stdout",
       "text": [
        " Yuet Lee 4a87bcf3f964a520e10420e3\n",
        "55823"
       ]
      },
      {
       "output_type": "stream",
       "stream": "stdout",
       "text": [
        " Kotetsu None\n",
        "55824"
       ]
      },
      {
       "output_type": "stream",
       "stream": "stdout",
       "text": [
        " House of Pho 4cdca68dd4ecb1f70de88048\n",
        "55825"
       ]
      },
      {
       "output_type": "stream",
       "stream": "stdout",
       "text": [
        " Focaccia Market & Bakery 4dac8f3c8154abafc2da5a46\n",
        "55826"
       ]
      },
      {
       "output_type": "stream",
       "stream": "stdout",
       "text": [
        " Kappo Nami Nami 4a78f1cdf964a520ace61fe3\n",
        "55827"
       ]
      },
      {
       "output_type": "stream",
       "stream": "stdout",
       "text": [
        " 1515 Restaurant Lounge 4ba0091bf964a5204b5437e3\n",
        "55828"
       ]
      },
      {
       "output_type": "stream",
       "stream": "stdout",
       "text": [
        " Manna 4e0a83f41495b12d82382c71\n",
        "55829"
       ]
      },
      {
       "output_type": "stream",
       "stream": "stdout",
       "text": [
        " Balompie Cafe 49f2b1fcf964a520606a1fe3\n",
        "55830"
       ]
      },
      {
       "output_type": "stream",
       "stream": "stdout",
       "text": [
        " Chenery Park 4d1ff420e56f6ea8e952711d\n",
        "55831"
       ]
      },
      {
       "output_type": "stream",
       "stream": "stdout",
       "text": [
        " Max's Opera Cafe 43e9f2f1f964a520252f1fe3\n",
        "55832"
       ]
      },
      {
       "output_type": "stream",
       "stream": "stdout",
       "text": [
        " Rudy's Can't Fail Cafe 4de842a3c65b72347a0c8e43\n",
        "55833"
       ]
      },
      {
       "output_type": "stream",
       "stream": "stdout",
       "text": [
        " Crepe Temptations 4a788af6f964a520d5e51fe3\n",
        "55834"
       ]
      },
      {
       "output_type": "stream",
       "stream": "stdout",
       "text": [
        " Misoya 4e65135862e13e3bcfc3f04f\n",
        "55835"
       ]
      },
      {
       "output_type": "stream",
       "stream": "stdout",
       "text": [
        " The Saddle Rack 42d1b680f964a52006261fe3\n",
        "55836"
       ]
      },
      {
       "output_type": "stream",
       "stream": "stdout",
       "text": [
        " Cafe des Amis 4c47de2a699476b0989fb321\n",
        "55837"
       ]
      },
      {
       "output_type": "stream",
       "stream": "stdout",
       "text": [
        " Tlaloc 4a028565f964a5205c711fe3\n",
        "55838"
       ]
      },
      {
       "output_type": "stream",
       "stream": "stdout",
       "text": [
        " La Boulange de Cole 49ce7a5ef964a520475a1fe3\n",
        "55839"
       ]
      },
      {
       "output_type": "stream",
       "stream": "stdout",
       "text": [
        " Wingstop 4ad01660f964a5208bd720e3\n",
        "55840"
       ]
      },
      {
       "output_type": "stream",
       "stream": "stdout",
       "text": [
        " Sapporo-Ya Japanese Restaurant 45326705f964a5207d3b1fe3\n",
        "55841"
       ]
      },
      {
       "output_type": "stream",
       "stream": "stdout",
       "text": [
        " Sapore Italiano Restaurant 4aaafb9bf964a520615820e3\n",
        "55842"
       ]
      },
      {
       "output_type": "stream",
       "stream": "stdout",
       "text": [
        " Grand Pu Bah 49c04863f964a5205c551fe3\n",
        "55843"
       ]
      },
      {
       "output_type": "stream",
       "stream": "stdout",
       "text": [
        " Bread And Cocoa 49e6c22df964a52069641fe3\n",
        "55844"
       ]
      },
      {
       "output_type": "stream",
       "stream": "stdout",
       "text": [
        " Stella Alpina Osteria 4aa9d75ff964a520665520e3\n",
        "55845"
       ]
      },
      {
       "output_type": "stream",
       "stream": "stdout",
       "text": [
        " Barney's Gourmet Hamburgers 4aa1830df964a520d14020e3\n",
        "55846"
       ]
      },
      {
       "output_type": "stream",
       "stream": "stdout",
       "text": [
        " Edinburgh Castle Pub 40a2ba80f964a520fcf21ee3\n",
        "55847"
       ]
      },
      {
       "output_type": "stream",
       "stream": "stdout",
       "text": [
        " Turmeric Restaurant 4ad637adf964a520d00521e3\n",
        "55848"
       ]
      },
      {
       "output_type": "stream",
       "stream": "stdout",
       "text": [
        " Buster's 49cc4c38f964a52067591fe3\n",
        "55849"
       ]
      },
      {
       "output_type": "stream",
       "stream": "stdout",
       "text": [
        " Public Market Emeryville None\n",
        "55850"
       ]
      },
      {
       "output_type": "stream",
       "stream": "stdout",
       "text": [
        " Frankie Johnnie & Luigi Too 4d97e847daec224b3d4b3d3e\n",
        "55851"
       ]
      },
      {
       "output_type": "stream",
       "stream": "stdout",
       "text": [
        " Birk's Restaurant 4a285f62f964a5201a951fe3\n",
        "55852"
       ]
      },
      {
       "output_type": "stream",
       "stream": "stdout",
       "text": [
        " ABC Seafood Restaurant 4cd02c816449a0930a03c9cf\n",
        "55853"
       ]
      },
      {
       "output_type": "stream",
       "stream": "stdout",
       "text": [
        " Mel's Drive-In None\n",
        "55854"
       ]
      },
      {
       "output_type": "stream",
       "stream": "stdout",
       "text": [
        " Gordo Taqueria 4a74dc88f964a520cadf1fe3\n",
        "55855"
       ]
      },
      {
       "output_type": "stream",
       "stream": "stdout",
       "text": [
        " Le P'tit Laurent 4a414f7af964a52013a51fe3\n",
        "55856"
       ]
      },
      {
       "output_type": "stream",
       "stream": "stdout",
       "text": [
        " Taqueria Los Coyotes 4a335debf964a520299b1fe3\n",
        "55857"
       ]
      },
      {
       "output_type": "stream",
       "stream": "stdout",
       "text": [
        " Hot Pot Garden 4ef93be5be7bb4784f31abe2\n",
        "'groups'"
       ]
      },
      {
       "output_type": "stream",
       "stream": "stdout",
       "text": [
        "\n",
        "name                         Kiji Japanese Restaurant and Sushi Bar\n",
        "id                kiji-japanese-restaurant-and-sushi-bar-san-fra...\n",
        "postal_code                                                   94110\n",
        "phone                                                   4.15282e+09\n",
        "four_square_id                                                  NaN\n",
        "Name: 41620, dtype: object\n",
        "55859"
       ]
      },
      {
       "output_type": "stream",
       "stream": "stdout",
       "text": [
        " Nubi Yogurt 4a60fa16f964a52098c11fe3\n",
        "55860"
       ]
      },
      {
       "output_type": "stream",
       "stream": "stdout",
       "text": [
        " Silk Nail Salon 4aee20adf964a5205cd221e3\n",
        "55861"
       ]
      },
      {
       "output_type": "stream",
       "stream": "stdout",
       "text": [
        " Thorough Bread & Pastry 49f13784f964a5209f691fe3\n",
        "55862"
       ]
      },
      {
       "output_type": "stream",
       "stream": "stdout",
       "text": [
        " India Clay Oven Restaurant & Bar None\n",
        "55863"
       ]
      },
      {
       "output_type": "stream",
       "stream": "stdout",
       "text": [
        " La Tapatia Mexicatessen 4a8881f5f964a520b00620e3\n",
        "55864"
       ]
      },
      {
       "output_type": "stream",
       "stream": "stdout",
       "text": [
        " Dittmer's Gourmet Meats & Wurst-Haus 4fe77992e4b04d88c6b978b3\n",
        "55865"
       ]
      },
      {
       "output_type": "stream",
       "stream": "stdout",
       "text": [
        " Ichiban Kan 4a774b84f964a52017e41fe3\n",
        "55866"
       ]
      },
      {
       "output_type": "stream",
       "stream": "stdout",
       "text": [
        " Trader Joe's 484a7920f964a5207c501fe3\n",
        "55867"
       ]
      },
      {
       "output_type": "stream",
       "stream": "stdout",
       "text": [
        " Sunflower Potrero Hill 4a8141daf964a520aef61fe3\n",
        "55868"
       ]
      },
      {
       "output_type": "stream",
       "stream": "stdout",
       "text": [
        " La Farine 46917eeef964a520a5481fe3\n",
        "55869"
       ]
      },
      {
       "output_type": "stream",
       "stream": "stdout",
       "text": [
        " New Eritrea Restaurant & Bar 443fddaff964a52039321fe3\n",
        "55870"
       ]
      },
      {
       "output_type": "stream",
       "stream": "stdout",
       "text": [
        " Romano's Macaroni Grill 4b12e069f964a520ea8f23e3\n",
        "55871"
       ]
      },
      {
       "output_type": "stream",
       "stream": "stdout",
       "text": [
        " Saigon City 4b6c84a9f964a52047402ce3\n",
        "55872"
       ]
      },
      {
       "output_type": "stream",
       "stream": "stdout",
       "text": [
        " Freshroll Vietnamese Rolls & Bowls 4fca77a2e4b05d86f26c5ac7\n",
        "55873"
       ]
      },
      {
       "output_type": "stream",
       "stream": "stdout",
       "text": [
        " Fred's Coffee Shop 4a785452f964a52068e51fe3\n",
        "55874"
       ]
      },
      {
       "output_type": "stream",
       "stream": "stdout",
       "text": [
        " Tomatina 4a5a3ec3f964a520fab91fe3\n",
        "55875"
       ]
      },
      {
       "output_type": "stream",
       "stream": "stdout",
       "text": [
        " Boxed Foods Company 4a72094df964a52030da1fe3\n",
        "55876"
       ]
      },
      {
       "output_type": "stream",
       "stream": "stdout",
       "text": [
        " Zaki Kabob House 4ab44834f964a520bc7020e3\n",
        "55877"
       ]
      },
      {
       "output_type": "stream",
       "stream": "stdout",
       "text": [
        " Sugar Lounge 44062411f964a52043301fe3\n",
        "55878"
       ]
      },
      {
       "output_type": "stream",
       "stream": "stdout",
       "text": [
        " Haven 4eb430af991165b761ddd966\n",
        "55879"
       ]
      },
      {
       "output_type": "stream",
       "stream": "stdout",
       "text": [
        " AQ Restaurant & Bar 4ea89f9529c2fa4821733d01\n",
        "55880"
       ]
      },
      {
       "output_type": "stream",
       "stream": "stdout",
       "text": [
        " Barracuda Japanese Restaurant None\n",
        "55881"
       ]
      },
      {
       "output_type": "stream",
       "stream": "stdout",
       "text": [
        " Unicorn 4af9d168f964a5207a1422e3\n",
        "55882"
       ]
      },
      {
       "output_type": "stream",
       "stream": "stdout",
       "text": [
        " Casa Orozco 4a1b47f6f964a520e57a1fe3\n",
        "55883"
       ]
      },
      {
       "output_type": "stream",
       "stream": "stdout",
       "text": [
        " House of Bagels 4a2be6f4f964a520eb961fe3\n",
        "55884"
       ]
      },
      {
       "output_type": "stream",
       "stream": "stdout",
       "text": [
        " Yum Yum Fish 4ae4feb3f964a520f29f21e3\n",
        "55885"
       ]
      },
      {
       "output_type": "stream",
       "stream": "stdout",
       "text": [
        " Sharetea 520eddb9498e6f7fcd113896\n",
        "55886"
       ]
      },
      {
       "output_type": "stream",
       "stream": "stdout",
       "text": [
        " Mazzetti's Bakery 4b637392f964a520d87a2ae3\n",
        "55887"
       ]
      },
      {
       "output_type": "stream",
       "stream": "stdout",
       "text": [
        " Shin Toe Bul Yi 4a0f4909f964a52047761fe3\n",
        "55888"
       ]
      },
      {
       "output_type": "stream",
       "stream": "stdout",
       "text": [
        " Buckhorn Grill 49d27606f964a520ac5b1fe3\n",
        "55889"
       ]
      },
      {
       "output_type": "stream",
       "stream": "stdout",
       "text": [
        " D & A Cafe None\n",
        "55890"
       ]
      },
      {
       "output_type": "stream",
       "stream": "stdout",
       "text": [
        " Buddy's Bites & Brews 4bd0e5f19854d13a96bbf84d\n",
        "55891"
       ]
      },
      {
       "output_type": "stream",
       "stream": "stdout",
       "text": [
        " Vesta 4fe0d427e4b059d64fab1305\n",
        "55892"
       ]
      },
      {
       "output_type": "stream",
       "stream": "stdout",
       "text": [
        " Lucky Penny 49e90442f964a520bb651fe3\n",
        "55893"
       ]
      },
      {
       "output_type": "stream",
       "stream": "stdout",
       "text": [
        " Chaat Paradise 43616a00f964a5203b291fe3\n",
        "55894"
       ]
      },
      {
       "output_type": "stream",
       "stream": "stdout",
       "text": [
        " Ike's Place 4c746508db52b1f7ac1076dc\n",
        "55895"
       ]
      },
      {
       "output_type": "stream",
       "stream": "stdout",
       "text": [
        " Canton Seafood & Dim Sum Restaurant 49ee94a7f964a5206f681fe3\n",
        "55896"
       ]
      },
      {
       "output_type": "stream",
       "stream": "stdout",
       "text": [
        " P F Chang's China Bistro 482777fff964a520b34f1fe3\n",
        "55897"
       ]
      },
      {
       "output_type": "stream",
       "stream": "stdout",
       "text": [
        " Stone Korean Kitchen 4b0b0022f964a5205c2b23e3\n",
        "55898"
       ]
      },
      {
       "output_type": "stream",
       "stream": "stdout",
       "text": [
        " Amici's East Coast Pizzeria 4a42bc48f964a5202ba61fe3\n",
        "55899"
       ]
      },
      {
       "output_type": "stream",
       "stream": "stdout",
       "text": [
        " Nick's Seashore Restaurant 436e9900f964a520e8291fe3\n",
        "55900"
       ]
      },
      {
       "output_type": "stream",
       "stream": "stdout",
       "text": [
        " Shalimar 43b2e0f9f964a520aa2c1fe3\n",
        "55901"
       ]
      },
      {
       "output_type": "stream",
       "stream": "stdout",
       "text": [
        " Derco Fine Jewelers 4a90486df964a520091720e3\n",
        "55902"
       ]
      },
      {
       "output_type": "stream",
       "stream": "stdout",
       "text": [
        " Dessert Republic 49e8ce58f964a52089651fe3\n",
        "55903"
       ]
      },
      {
       "output_type": "stream",
       "stream": "stdout",
       "text": [
        " Sushi Momoyama 4ad2a036f964a5205fe220e3\n",
        "55904"
       ]
      },
      {
       "output_type": "stream",
       "stream": "stdout",
       "text": [
        " Parcel 104 4a8af3b5f964a520fd0a20e3\n",
        "55905"
       ]
      },
      {
       "output_type": "stream",
       "stream": "stdout",
       "text": [
        " Nizario's Pizza 4ac37e19f964a5207e9b20e3\n",
        "55906"
       ]
      },
      {
       "output_type": "stream",
       "stream": "stdout",
       "text": [
        " Satura Cakes 4b415cd7f964a520d9c525e3\n",
        "55907"
       ]
      },
      {
       "output_type": "stream",
       "stream": "stdout",
       "text": [
        " The Claremont Hotel Club & Spa None\n",
        "55908"
       ]
      },
      {
       "output_type": "stream",
       "stream": "stdout",
       "text": [
        " La Sen None\n",
        "55909"
       ]
      },
      {
       "output_type": "stream",
       "stream": "stdout",
       "text": [
        " C\u00e9sar 44ed5170f964a520d6371fe3\n",
        "55910"
       ]
      },
      {
       "output_type": "stream",
       "stream": "stdout",
       "text": [
        " Chow 4aa073cff964a520b13f20e3\n",
        "55911"
       ]
      },
      {
       "output_type": "stream",
       "stream": "stdout",
       "text": [
        " Tselogs 4a0dd0f7f964a5209e751fe3\n",
        "55912"
       ]
      },
      {
       "output_type": "stream",
       "stream": "stdout",
       "text": [
        " Taqueria Vallarta 49cda4adf964a5200a5a1fe3\n",
        "55913"
       ]
      },
      {
       "output_type": "stream",
       "stream": "stdout",
       "text": [
        " Frozo's Frozen Yogurt None\n",
        "55914"
       ]
      },
      {
       "output_type": "stream",
       "stream": "stdout",
       "text": [
        " Dos Pi\u00f1as 40b52f80f964a52061001fe3\n",
        "55915"
       ]
      },
      {
       "output_type": "stream",
       "stream": "stdout",
       "text": [
        " Mo's Grill 4a76580bf964a520dfe21fe3\n",
        "55916"
       ]
      },
      {
       "output_type": "stream",
       "stream": "stdout",
       "text": [
        " Straits Restaurant 4a88f716f964a520c60720e3\n",
        "55917"
       ]
      },
      {
       "output_type": "stream",
       "stream": "stdout",
       "text": [
        " The Hobnob 4a5bd49ef964a520d5bb1fe3\n",
        "55918"
       ]
      },
      {
       "output_type": "stream",
       "stream": "stdout",
       "text": [
        " Fishermen's Grotto 4b5cf6b5f964a520d74c29e3\n",
        "55919"
       ]
      },
      {
       "output_type": "stream",
       "stream": "stdout",
       "text": [
        " Chabaa Thai Cuisine 4b2d347cf964a520f3d024e3\n",
        "55920"
       ]
      },
      {
       "output_type": "stream",
       "stream": "stdout",
       "text": [
        " Marcello's Pizza 432a0b00f964a520d7271fe3\n",
        "55921"
       ]
      },
      {
       "output_type": "stream",
       "stream": "stdout",
       "text": [
        " Mijori Japanese Restaurant 437e6b00f964a520bc2a1fe3\n",
        "55922"
       ]
      },
      {
       "output_type": "stream",
       "stream": "stdout",
       "text": [
        " Ayola 4a947cccf964a520c42120e3\n",
        "55923"
       ]
      },
      {
       "output_type": "stream",
       "stream": "stdout",
       "text": [
        " Chick-Fil-A 4f0a0f81e4b0e8ed3939cf01\n",
        "55924"
       ]
      },
      {
       "output_type": "stream",
       "stream": "stdout",
       "text": [
        " Claim Jumper 46db5c53f964a520824a1fe3\n",
        "55925"
       ]
      },
      {
       "output_type": "stream",
       "stream": "stdout",
       "text": [
        " Pho Wagon 4b2a93cef964a520bbab24e3\n",
        "55926"
       ]
      },
      {
       "output_type": "stream",
       "stream": "stdout",
       "text": [
        " The Creamery None\n",
        "55927"
       ]
      },
      {
       "output_type": "stream",
       "stream": "stdout",
       "text": [
        " Loi's Vietnamese Restaurant 4ade5a6cf964a520447521e3\n",
        "55928"
       ]
      },
      {
       "output_type": "stream",
       "stream": "stdout",
       "text": [
        " Sweet Tomatoes 4a036e4af964a520bc711fe3\n",
        "55929"
       ]
      },
      {
       "output_type": "stream",
       "stream": "stdout",
       "text": [
        " Toy Boat Dessert Caf\u00e9 473b4138f964a5205a4c1fe3\n",
        "55930"
       ]
      },
      {
       "output_type": "stream",
       "stream": "stdout",
       "text": [
        " Harvey's 413e4b80f964a520501c1fe3\n",
        "55931"
       ]
      },
      {
       "output_type": "stream",
       "stream": "stdout",
       "text": [
        " Chambers Eat + Drink None\n",
        "55932"
       ]
      },
      {
       "output_type": "stream",
       "stream": "stdout",
       "text": [
        " Dish N Dash None\n",
        "55933"
       ]
      },
      {
       "output_type": "stream",
       "stream": "stdout",
       "text": [
        " Esin Restaurant & Bar 4b787363f964a5203ccf2ee3\n",
        "55934"
       ]
      },
      {
       "output_type": "stream",
       "stream": "stdout",
       "text": [
        " O-Toro Sushi 4a45ae19f964a52073a81fe3\n",
        "55935"
       ]
      },
      {
       "output_type": "stream",
       "stream": "stdout",
       "text": [
        " Fino Restaurant 4a19721ef964a520197a1fe3\n",
        "55936"
       ]
      },
      {
       "output_type": "stream",
       "stream": "stdout",
       "text": [
        " Dolores Park Cafe 44ca68a6f964a52001361fe3\n",
        "55937"
       ]
      },
      {
       "output_type": "stream",
       "stream": "stdout",
       "text": [
        " La Boulange de Polk 49d915def964a520fc5d1fe3\n",
        "55938"
       ]
      },
      {
       "output_type": "stream",
       "stream": "stdout",
       "text": [
        " Yogurtouille 4a692e3bf964a520b9cb1fe3\n",
        "55939"
       ]
      },
      {
       "output_type": "stream",
       "stream": "stdout",
       "text": [
        " Cha-Ya 4b53a398f964a520c5a527e3\n",
        "55940"
       ]
      },
      {
       "output_type": "stream",
       "stream": "stdout",
       "text": [
        " Ploy II 4b89f389f964a520425832e3\n",
        "55941"
       ]
      },
      {
       "output_type": "stream",
       "stream": "stdout",
       "text": [
        " Fat Wong's Kitchen 4bc7d1f8af07a5936104802d\n",
        "55942"
       ]
      },
      {
       "output_type": "stream",
       "stream": "stdout",
       "text": [
        " Crepes On Cole 3fd66200f964a520f4f01ee3\n",
        "55943"
       ]
      },
      {
       "output_type": "stream",
       "stream": "stdout",
       "text": [
        " City Lights Bookstore 49bc2d06f964a5201d541fe3\n",
        "55944"
       ]
      },
      {
       "output_type": "stream",
       "stream": "stdout",
       "text": [
        " Scolari's 4c51f2fe9d642d7f4e8f6bde\n",
        "55945"
       ]
      },
      {
       "output_type": "stream",
       "stream": "stdout",
       "text": [
        " Public Barber Salon 49fe4d5ff964a520906f1fe3\n",
        "55946"
       ]
      },
      {
       "output_type": "stream",
       "stream": "stdout",
       "text": [
        " Craftsman & Wolves 4fab3157bb3d83ffee63d747\n",
        "55947"
       ]
      },
      {
       "output_type": "stream",
       "stream": "stdout",
       "text": [
        " Rocco's Caf\u00e9 49f7be91f964a520dd6c1fe3\n",
        "55948"
       ]
      },
      {
       "output_type": "stream",
       "stream": "stdout",
       "text": [
        " Paragon 3fd66200f964a5206df11ee3\n",
        "55949"
       ]
      },
      {
       "output_type": "stream",
       "stream": "stdout",
       "text": [
        " Steelhead Brewing Company 422ceb00f964a520e01f1fe3\n",
        "55950"
       ]
      },
      {
       "output_type": "stream",
       "stream": "stdout",
       "text": [
        " Vien Huong Restaurant 4b366b7ef964a520fb3425e3\n",
        "55951"
       ]
      },
      {
       "output_type": "stream",
       "stream": "stdout",
       "text": [
        " Juan's Place 40b52f80f964a52066001fe3\n",
        "55952"
       ]
      },
      {
       "output_type": "stream",
       "stream": "stdout",
       "text": [
        " Luce 4a34632ff964a5202c9c1fe3\n",
        "55953"
       ]
      },
      {
       "output_type": "stream",
       "stream": "stdout",
       "text": [
        " Wayo Sushi 49d6a648f964a520f35c1fe3\n",
        "55954"
       ]
      },
      {
       "output_type": "stream",
       "stream": "stdout",
       "text": [
        " Liverpool LiL's 3fd66200f964a5209dec1ee3\n",
        "55955"
       ]
      },
      {
       "output_type": "stream",
       "stream": "stdout",
       "text": [
        " Cafe Rouge 4a2c3e6df964a5203b971fe3\n",
        "55956"
       ]
      },
      {
       "output_type": "stream",
       "stream": "stdout",
       "text": [
        " Muguboka Restaurant 457c2ffff964a520003f1fe3\n",
        "55957"
       ]
      },
      {
       "output_type": "stream",
       "stream": "stdout",
       "text": [
        " Guaymas Restaurant 4161e400f964a520671d1fe3\n",
        "55958"
       ]
      },
      {
       "output_type": "stream",
       "stream": "stdout",
       "text": [
        " Little Baobab 40d8c800f964a52066011fe3\n",
        "55959"
       ]
      },
      {
       "output_type": "stream",
       "stream": "stdout",
       "text": [
        " Taqueria Las Vegas 4d716467a7fb6ea8772ff8ea\n",
        "55960"
       ]
      },
      {
       "output_type": "stream",
       "stream": "stdout",
       "text": [
        " Layang Layang 4a8eebf7f964a520291320e3\n",
        "55961"
       ]
      },
      {
       "output_type": "stream",
       "stream": "stdout",
       "text": [
        " T\u00edn Vietnamese Cuisine 4af09c87f964a520a1dd21e3\n",
        "55962"
       ]
      },
      {
       "output_type": "stream",
       "stream": "stdout",
       "text": [
        " Elephant Bar Restaurant 4a4ed3d9f964a5201faf1fe3\n",
        "55963"
       ]
      },
      {
       "output_type": "stream",
       "stream": "stdout",
       "text": [
        " Pasi\u00f3n 4c5320aff5f3d13a06e5fbf7\n",
        "55964"
       ]
      },
      {
       "output_type": "stream",
       "stream": "stdout",
       "text": [
        " Pyramid Alehouse 4b450174f964a520000126e3\n",
        "55965"
       ]
      },
      {
       "output_type": "stream",
       "stream": "stdout",
       "text": [
        " Jayakarta Restaurant 4aada8c5f964a5202e6120e3\n",
        "55966"
       ]
      },
      {
       "output_type": "stream",
       "stream": "stdout",
       "text": [
        " Hai Ky Mi Gia 4697a079f964a520e8481fe3\n",
        "55967"
       ]
      },
      {
       "output_type": "stream",
       "stream": "stdout",
       "text": [
        " Banh Mi Ba Le 4bc905dd0687ef3b3a3ad9cc\n",
        "55968"
       ]
      },
      {
       "output_type": "stream",
       "stream": "stdout",
       "text": [
        " Fattoush 4708cd8af964a520664b1fe3\n",
        "55969"
       ]
      },
      {
       "output_type": "stream",
       "stream": "stdout",
       "text": [
        " Falafel STOP 501dbd9be4b0b1c50a0bc3b8\n",
        "55970"
       ]
      },
      {
       "output_type": "stream",
       "stream": "stdout",
       "text": [
        " Star India 45fed293f964a5208e441fe3\n",
        "55971"
       ]
      },
      {
       "output_type": "stream",
       "stream": "stdout",
       "text": [
        " Red Jade 432a0b00f964a520e0271fe3\n",
        "55972"
       ]
      },
      {
       "output_type": "stream",
       "stream": "stdout",
       "text": [
        " The Kezar Pub 3fd66200f964a520a3ed1ee3\n",
        "55973"
       ]
      },
      {
       "output_type": "stream",
       "stream": "stdout",
       "text": [
        " Bocce Cafe 43695300f964a52091291fe3\n",
        "55974"
       ]
      },
      {
       "output_type": "stream",
       "stream": "stdout",
       "text": [
        " Waterfront Pizza 4a6feaadf964a52022d71fe3\n",
        "55975"
       ]
      },
      {
       "output_type": "stream",
       "stream": "stdout",
       "text": [
        " Ino Sushi 4a726692f964a52004db1fe3\n",
        "55976"
       ]
      },
      {
       "output_type": "stream",
       "stream": "stdout",
       "text": [
        " Rave Burger 49e8ce7af964a5208a651fe3\n",
        "55977"
       ]
      },
      {
       "output_type": "stream",
       "stream": "stdout",
       "text": [
        " Specialty's Cafe & Bakery 49cfb671f964a520be5a1fe3\n",
        "55978"
       ]
      },
      {
       "output_type": "stream",
       "stream": "stdout",
       "text": [
        " Phnom Penh House 4ab3eee4f964a5202b6f20e3\n",
        "55979"
       ]
      },
      {
       "output_type": "stream",
       "stream": "stdout",
       "text": [
        " Nama Sushi & Teriyaki 4aff3c1ff964a5203a3622e3\n",
        "55980"
       ]
      },
      {
       "output_type": "stream",
       "stream": "stdout",
       "text": [
        " Super Duper Burgers 5010936ce4b0abd8740f8fb7\n",
        "55981"
       ]
      },
      {
       "output_type": "stream",
       "stream": "stdout",
       "text": [
        " The Kitchen 4a98aab3f964a5200c2d20e3\n",
        "55982"
       ]
      },
      {
       "output_type": "stream",
       "stream": "stdout",
       "text": [
        " Barney's Gourmet Hamburgers 4a7a6839f964a5204ae91fe3\n",
        "55983"
       ]
      },
      {
       "output_type": "stream",
       "stream": "stdout",
       "text": [
        " Street Restaurant 4a58140ef964a52055b71fe3\n",
        "55984"
       ]
      },
      {
       "output_type": "stream",
       "stream": "stdout",
       "text": [
        " Roti Indian Bistro 49fa41c3f964a520e16d1fe3\n",
        "55985"
       ]
      },
      {
       "output_type": "stream",
       "stream": "stdout",
       "text": [
        " The Fish Market 4afe2d94f964a520872e22e3\n",
        "55986"
       ]
      },
      {
       "output_type": "stream",
       "stream": "stdout",
       "text": [
        " Delirium 4085b980f964a52088f21ee3\n",
        "55987"
       ]
      },
      {
       "output_type": "stream",
       "stream": "stdout",
       "text": [
        " Radish 4da9fea6fa8cc7649729bbf4\n",
        "55988"
       ]
      },
      {
       "output_type": "stream",
       "stream": "stdout",
       "text": [
        " Osha Thai 4b57db47f964a520064428e3\n",
        "55989"
       ]
      },
      {
       "output_type": "stream",
       "stream": "stdout",
       "text": [
        " Soi 4 Bangkok Eatery 4aa9b388f964a520f25420e3\n",
        "55990"
       ]
      },
      {
       "output_type": "stream",
       "stream": "stdout",
       "text": [
        " Arlequin Cafe & Food To Go 49eb8289f964a520ea661fe3\n",
        "55991"
       ]
      },
      {
       "output_type": "stream",
       "stream": "stdout",
       "text": [
        " Curbside Cafe 4a2d4a2af964a5209f971fe3\n",
        "55992"
       ]
      },
      {
       "output_type": "stream",
       "stream": "stdout",
       "text": [
        " Barney's Gourmet Hamburgers 45bcbd7bf964a52006421fe3\n",
        "55993"
       ]
      },
      {
       "output_type": "stream",
       "stream": "stdout",
       "text": [
        " Bowl'd Korean Rice Bar 4d63191bc56a6ea8eadf315f\n",
        "55994"
       ]
      },
      {
       "output_type": "stream",
       "stream": "stdout",
       "text": [
        " Dr Teeth & the Electric Mayhem 4e152e32aeb733245ecd6677\n",
        "55995"
       ]
      },
      {
       "output_type": "stream",
       "stream": "stdout",
       "text": [
        " Bottom of the Hill None\n",
        "55996"
       ]
      },
      {
       "output_type": "stream",
       "stream": "stdout",
       "text": [
        " Liguria Bakery 4a4bd09bf964a520c5ac1fe3\n",
        "55997"
       ]
      },
      {
       "output_type": "stream",
       "stream": "stdout",
       "text": [
        " Englander Sports Pub & Restaurant 4b5eb347f964a520509629e3\n",
        "55998"
       ]
      },
      {
       "output_type": "stream",
       "stream": "stdout",
       "text": [
        " A Slice of New York 4d1ce25f09546dcbc76bd638\n",
        "55999"
       ]
      },
      {
       "output_type": "stream",
       "stream": "stdout",
       "text": [
        " Yojimbo 4b230913f964a520785224e3\n",
        "56000"
       ]
      },
      {
       "output_type": "stream",
       "stream": "stdout",
       "text": [
        " Pacific Cafe 3fd66200f964a52001ed1ee3\n",
        "56001"
       ]
      },
      {
       "output_type": "stream",
       "stream": "stdout",
       "text": [
        " Patxi's Pizza 4ad12499f964a5200add20e3\n",
        "56002"
       ]
      },
      {
       "output_type": "stream",
       "stream": "stdout",
       "text": [
        " Old Mandarin Islamic Restaurant 4a59b889f964a52084b91fe3\n",
        "56003"
       ]
      },
      {
       "output_type": "stream",
       "stream": "stdout",
       "text": [
        " Cocoon Urban Day Spa 4ab14069f964a520bb6820e3\n",
        "56004"
       ]
      },
      {
       "output_type": "stream",
       "stream": "stdout",
       "text": [
        " Tart To Tart 4283ee00f964a520f2221fe3\n",
        "56005"
       ]
      },
      {
       "output_type": "stream",
       "stream": "stdout",
       "text": [
        " Show Dogs 4a982b88f964a520c62a20e3\n",
        "56006"
       ]
      },
      {
       "output_type": "stream",
       "stream": "stdout",
       "text": [
        " Modern Thai 4a28906bf964a52030951fe3\n",
        "56007"
       ]
      },
      {
       "output_type": "stream",
       "stream": "stdout",
       "text": [
        " Sumika 4a9603b2f964a520d22520e3\n",
        "56008"
       ]
      },
      {
       "output_type": "stream",
       "stream": "stdout",
       "text": [
        " Pauline's Pizza & Wine Bar 49f94956f964a520766d1fe3\n",
        "56009"
       ]
      },
      {
       "output_type": "stream",
       "stream": "stdout",
       "text": [
        " Blondie's Bar & No Grill 3fd66200f964a5202cf11ee3\n",
        "56010"
       ]
      },
      {
       "output_type": "stream",
       "stream": "stdout",
       "text": [
        " Vicoletto 4a7bbd14f964a520bceb1fe3\n",
        "56011"
       ]
      },
      {
       "output_type": "stream",
       "stream": "stdout",
       "text": [
        " Chang Puak - White Elephant Restaurant 49f623abf964a5200d6c1fe3\n",
        "56012"
       ]
      },
      {
       "output_type": "stream",
       "stream": "stdout",
       "text": [
        " Garden Fresh Vegetarian Restaurant 4aab0aa8f964a520b05820e3\n",
        "56013"
       ]
      },
      {
       "output_type": "stream",
       "stream": "stdout",
       "text": [
        " Bangkok Noodles 49bafc4ef964a520cd531fe3\n",
        "56014"
       ]
      },
      {
       "output_type": "stream",
       "stream": "stdout",
       "text": [
        " Blackbird 4a692f3df964a520bdcb1fe3\n",
        "56015"
       ]
      },
      {
       "output_type": "stream",
       "stream": "stdout",
       "text": [
        " Hot Pot City 4b1e13f3f964a520441724e3\n",
        "56016"
       ]
      },
      {
       "output_type": "stream",
       "stream": "stdout",
       "text": [
        " The Pizza Place On Noriega 4a0f5f06f964a52056761fe3\n",
        "56017"
       ]
      },
      {
       "output_type": "stream",
       "stream": "stdout",
       "text": [
        " Cafe Bastille 3fd66200f964a52079ed1ee3\n",
        "56018"
       ]
      },
      {
       "output_type": "stream",
       "stream": "stdout",
       "text": [
        " Cafe Mason None\n",
        "56019"
       ]
      },
      {
       "output_type": "stream",
       "stream": "stdout",
       "text": [
        " Black Bear Diner 4e236cd4c65b2b5e355b6ccc\n",
        "56020"
       ]
      },
      {
       "output_type": "stream",
       "stream": "stdout",
       "text": [
        " Jeffrey's Hamburgers 4a621866f964a52013c31fe3\n",
        "56021"
       ]
      },
      {
       "output_type": "stream",
       "stream": "stdout",
       "text": [
        " Blue Front Cafe 43f48222f964a5209d2f1fe3\n",
        "56022"
       ]
      },
      {
       "output_type": "stream",
       "stream": "stdout",
       "text": [
        " The Melting Pot 4a04d16ef964a52033721fe3\n",
        "56023"
       ]
      },
      {
       "output_type": "stream",
       "stream": "stdout",
       "text": [
        " Taste In Mediterranean Food 4b3a8c0ef964a520b16925e3\n",
        "56024"
       ]
      },
      {
       "output_type": "stream",
       "stream": "stdout",
       "text": [
        " Sociale 42fd3800f964a520f0261fe3\n",
        "56025"
       ]
      },
      {
       "output_type": "stream",
       "stream": "stdout",
       "text": [
        " University Coffee Cafe 40e35400f964a520e8091fe3\n",
        "56026"
       ]
      },
      {
       "output_type": "stream",
       "stream": "stdout",
       "text": [
        " Crixa Cakes 4aaaa6d0f964a520cc5620e3\n",
        "56027"
       ]
      },
      {
       "output_type": "stream",
       "stream": "stdout",
       "text": [
        " Buon Appetito Restaurant 4b888896f964a520d7fe31e3\n",
        "56028"
       ]
      },
      {
       "output_type": "stream",
       "stream": "stdout",
       "text": [
        " Hakkasan 50b57f55e4b09c0e1e84166a\n",
        "56029"
       ]
      },
      {
       "output_type": "stream",
       "stream": "stdout",
       "text": [
        " Indian Oven None\n",
        "56030"
       ]
      },
      {
       "output_type": "stream",
       "stream": "stdout",
       "text": [
        " Cock-A-Doodle Caf\u00e9 46751f16f964a520d6471fe3\n",
        "56031"
       ]
      },
      {
       "output_type": "stream",
       "stream": "stdout",
       "text": [
        " Platano 4a34504df964a5200f9c1fe3\n",
        "56032"
       ]
      },
      {
       "output_type": "stream",
       "stream": "stdout",
       "text": [
        " Paradiso Restaurant 4b8885bdf964a5200dfe31e3\n",
        "56033"
       ]
      },
      {
       "output_type": "stream",
       "stream": "stdout",
       "text": [
        " Southern Pacific Brewing None\n",
        "56034"
       ]
      },
      {
       "output_type": "stream",
       "stream": "stdout",
       "text": [
        " Rocco's Ristorante & Pizzeria 4a6a02eef964a5205dcc1fe3\n",
        "56035"
       ]
      },
      {
       "output_type": "stream",
       "stream": "stdout",
       "text": [
        " Mayflower Restaurant 42869100f964a5201c231fe3\n",
        "56036"
       ]
      },
      {
       "output_type": "stream",
       "stream": "stdout",
       "text": [
        " Barlata 4c3e7250ca012d7f2a982fbe\n",
        "56037"
       ]
      },
      {
       "output_type": "stream",
       "stream": "stdout",
       "text": [
        " Noe Valley Bakery & Bread Company 4a390f6cf964a520179f1fe3\n",
        "56038"
       ]
      },
      {
       "output_type": "stream",
       "stream": "stdout",
       "text": [
        " Crepevine 45bcbb04f964a52004421fe3\n",
        "56039"
       ]
      },
      {
       "output_type": "stream",
       "stream": "stdout",
       "text": [
        " Osteria Coppa 4c6e03bb4d24b60c43c5d7d8\n",
        "56040"
       ]
      },
      {
       "output_type": "stream",
       "stream": "stdout",
       "text": [
        " Katy's Kreek 4aad3203f964a520f25e20e3\n",
        "56041"
       ]
      },
      {
       "output_type": "stream",
       "stream": "stdout",
       "text": [
        " John's Grill 49c7dba5f964a520c8571fe3\n",
        "56042"
       ]
      },
      {
       "output_type": "stream",
       "stream": "stdout",
       "text": [
        " Poesia 49cbcc2bf964a5201c591fe3\n",
        "56043"
       ]
      },
      {
       "output_type": "stream",
       "stream": "stdout",
       "text": [
        " Daimo 4a76272ff964a52068e21fe3\n",
        "56044"
       ]
      },
      {
       "output_type": "stream",
       "stream": "stdout",
       "text": [
        " Slim's 40c3b000f964a520e6001fe3\n",
        "56045"
       ]
      },
      {
       "output_type": "stream",
       "stream": "stdout",
       "text": [
        " Sodini's Green Valley Restaurant 43a97e8ef964a5207c2c1fe3\n",
        "56046"
       ]
      },
      {
       "output_type": "stream",
       "stream": "stdout",
       "text": [
        " Toto's Pizzeria 4a8f74b3f964a520541520e3\n",
        "56047"
       ]
      },
      {
       "output_type": "stream",
       "stream": "stdout",
       "text": [
        " Nook 4469efecf964a52053331fe3\n",
        "56048"
       ]
      },
      {
       "output_type": "stream",
       "stream": "stdout",
       "text": [
        " Loving Hut 4a1f3e49f964a520147c1fe3\n",
        "56049"
       ]
      },
      {
       "output_type": "stream",
       "stream": "stdout",
       "text": [
        " Punch Line 49f168eef964a520aa691fe3\n",
        "56050"
       ]
      },
      {
       "output_type": "stream",
       "stream": "stdout",
       "text": [
        " The Old Siam 4b6128c3f964a520850b2ae3\n",
        "56051"
       ]
      },
      {
       "output_type": "stream",
       "stream": "stdout",
       "text": [
        " Beach Blanket Babylon 4abee430f964a520709020e3\n",
        "56052"
       ]
      },
      {
       "output_type": "stream",
       "stream": "stdout",
       "text": [
        " A La Turca Restaurant 4a6cc33df964a52091d11fe3\n",
        "56053"
       ]
      },
      {
       "output_type": "stream",
       "stream": "stdout",
       "text": [
        " Faultline Brewing Company 40958b80f964a520e8f21ee3\n",
        "56054"
       ]
      },
      {
       "output_type": "stream",
       "stream": "stdout",
       "text": [
        " Red Robin Gourmet Burgers 4827696af964a520aa4f1fe3\n",
        "56055"
       ]
      },
      {
       "output_type": "stream",
       "stream": "stdout",
       "text": [
        " Caffe Strada 464793ebf964a5209c461fe3\n",
        "56056"
       ]
      },
      {
       "output_type": "stream",
       "stream": "stdout",
       "text": [
        " The Grand None\n",
        "56057"
       ]
      },
      {
       "output_type": "stream",
       "stream": "stdout",
       "text": [
        " H\u00f4tel Biron 43fb0c0ef964a520df2f1fe3\n",
        "56058"
       ]
      },
      {
       "output_type": "stream",
       "stream": "stdout",
       "text": [
        " Donato Enoteca 4b174bf6f964a520a3c423e3\n",
        "56059"
       ]
      },
      {
       "output_type": "stream",
       "stream": "stdout",
       "text": [
        " Daiso Japan 45b4ea85f964a520b4411fe3\n",
        "56060"
       ]
      },
      {
       "output_type": "stream",
       "stream": "stdout",
       "text": [
        " Alice's Restaurant 4a5a6f55f964a52052ba1fe3\n",
        "56061"
       ]
      },
      {
       "output_type": "stream",
       "stream": "stdout",
       "text": [
        " Squat & Gobble Cafe & Crepery 442ebdeff964a520de311fe3\n",
        "56062"
       ]
      },
      {
       "output_type": "stream",
       "stream": "stdout",
       "text": [
        " So Gong Dong Tofu House 4b381724f964a5207a4b25e3\n",
        "56063"
       ]
      },
      {
       "output_type": "stream",
       "stream": "stdout",
       "text": [
        " La Pinata Restaurant 4b275140f964a520d98524e3\n",
        "56064"
       ]
      },
      {
       "output_type": "stream",
       "stream": "stdout",
       "text": [
        " Orphan Andy's 40870b00f964a520abf21ee3\n",
        "56065"
       ]
      },
      {
       "output_type": "stream",
       "stream": "stdout",
       "text": [
        " Coi 49daac09f964a520a25e1fe3\n",
        "56066"
       ]
      },
      {
       "output_type": "stream",
       "stream": "stdout",
       "text": [
        " YakiniQ BBQ 4c3bf1c77d00d13afc563850\n",
        "56067"
       ]
      },
      {
       "output_type": "stream",
       "stream": "stdout",
       "text": [
        " Bloodhound 49c42f96f964a520a6561fe3\n",
        "56068"
       ]
      },
      {
       "output_type": "stream",
       "stream": "stdout",
       "text": [
        " The Fish Market 4a821f2cf964a520adf81fe3\n",
        "56069"
       ]
      },
      {
       "output_type": "stream",
       "stream": "stdout",
       "text": [
        " Gordo Taqueria 4a062117f964a520bb721fe3\n",
        "56070"
       ]
      },
      {
       "output_type": "stream",
       "stream": "stdout",
       "text": [
        " Elixir 50ec77bb19a92ef6c74490a2\n",
        "56071"
       ]
      },
      {
       "output_type": "stream",
       "stream": "stdout",
       "text": [
        " Madras Cafe 4a96e6dcf964a520742720e3\n",
        "56072"
       ]
      },
      {
       "output_type": "stream",
       "stream": "stdout",
       "text": [
        " Bill's Place 3fd66200f964a520d5ec1ee3\n",
        "56073"
       ]
      },
      {
       "output_type": "stream",
       "stream": "stdout",
       "text": [
        " Regalito Rosticeria 4a0e30faf964a520d0751fe3\n",
        "56074"
       ]
      },
      {
       "output_type": "stream",
       "stream": "stdout",
       "text": [
        " SF Badlands 40ca4780f964a52008011fe3\n",
        "56075"
       ]
      },
      {
       "output_type": "stream",
       "stream": "stdout",
       "text": [
        " Pluto's 4293c000f964a5202f241fe3\n",
        "56076"
       ]
      },
      {
       "output_type": "stream",
       "stream": "stdout",
       "text": [
        " The Liberty Cafe 3fd66200f964a5209eec1ee3\n",
        "56077"
       ]
      },
      {
       "output_type": "stream",
       "stream": "stdout",
       "text": [
        " Taqueria Los Pericos 4b033f91f964a520ee4d22e3\n",
        "56078"
       ]
      },
      {
       "output_type": "stream",
       "stream": "stdout",
       "text": [
        " Townhouse Bar & Grill 4a6fd182f964a52007d71fe3\n",
        "56079"
       ]
      },
      {
       "output_type": "stream",
       "stream": "stdout",
       "text": [
        " CREDO Mobile None\n",
        "56080"
       ]
      },
      {
       "output_type": "stream",
       "stream": "stdout",
       "text": [
        " Cam Hung 4ae894f0f964a5209ab021e3\n",
        "56081"
       ]
      },
      {
       "output_type": "stream",
       "stream": "stdout",
       "text": [
        " Bombay Garden 4a48fa0ff964a520e0aa1fe3\n",
        "56082"
       ]
      },
      {
       "output_type": "stream",
       "stream": "stdout",
       "text": [
        " Shiva's Indian Restaurant 4c184c03838020a1b913e461\n",
        "56083"
       ]
      },
      {
       "output_type": "stream",
       "stream": "stdout",
       "text": [
        " Kukje Super Market 4a6df473f964a5206ad31fe3\n",
        "56084"
       ]
      },
      {
       "output_type": "stream",
       "stream": "stdout",
       "text": [
        " Firehouse Grill and Brewery 49e926d5f964a520d2651fe3\n",
        "56085"
       ]
      },
      {
       "output_type": "stream",
       "stream": "stdout",
       "text": [
        " Casanova Lounge 3fd66200f964a5201ef11ee3\n",
        "56086"
       ]
      },
      {
       "output_type": "stream",
       "stream": "stdout",
       "text": [
        " WISH 40a2ba80f964a52004f31ee3\n",
        "56087"
       ]
      },
      {
       "output_type": "stream",
       "stream": "stdout",
       "text": [
        " Nombe 4b21d125f964a520b04124e3\n",
        "56088"
       ]
      },
      {
       "output_type": "stream",
       "stream": "stdout",
       "text": [
        " Sushi Rock 3fd66200f964a520afed1ee3\n",
        "56089"
       ]
      },
      {
       "output_type": "stream",
       "stream": "stdout",
       "text": [
        " Barney's Gourmet Hamburgers 4a2b22ecf964a520a9961fe3\n",
        "56090"
       ]
      },
      {
       "output_type": "stream",
       "stream": "stdout",
       "text": [
        " Lynn & Lu's Escapade Cafe 4a465ab5f964a520bba81fe3\n",
        "56091"
       ]
      },
      {
       "output_type": "stream",
       "stream": "stdout",
       "text": [
        " Little Lucca Sandwich Shop 4a7b26a5f964a52022ea1fe3\n",
        "56092"
       ]
      },
      {
       "output_type": "stream",
       "stream": "stdout",
       "text": [
        " Dinosaurs 4c393e38dfb0e21e2a3ab0a8\n",
        "56093"
       ]
      },
      {
       "output_type": "stream",
       "stream": "stdout",
       "text": [
        " Rok 4aac5c17f964a5209e5d20e3\n",
        "56094"
       ]
      },
      {
       "output_type": "stream",
       "stream": "stdout",
       "text": [
        " Volcano 49f2b815f964a520626a1fe3\n",
        "56095"
       ]
      },
      {
       "output_type": "stream",
       "stream": "stdout",
       "text": [
        " Mama's Royal Cafe 49fca311f964a520c56e1fe3\n",
        "56096"
       ]
      },
      {
       "output_type": "stream",
       "stream": "stdout",
       "text": [
        " FIVE None\n",
        "56097"
       ]
      },
      {
       "output_type": "stream",
       "stream": "stdout",
       "text": [
        " The Chieftain Irish Pub & Restaurant 42717900f964a5206a211fe3\n",
        "56098"
       ]
      },
      {
       "output_type": "stream",
       "stream": "stdout",
       "text": [
        " Steins Beer Garden 51390182e4b0e19609597bb2\n",
        "56099"
       ]
      },
      {
       "output_type": "stream",
       "stream": "stdout",
       "text": [
        " La Boulange de Pine 4a579b5ef964a52074b61fe3\n",
        "56100"
       ]
      },
      {
       "output_type": "stream",
       "stream": "stdout",
       "text": [
        " Benu 4c5502e5f5f3d13a1a7f0afb\n",
        "56101"
       ]
      },
      {
       "output_type": "stream",
       "stream": "stdout",
       "text": [
        " Brick Pig's House 4a81bf72f964a52071f71fe3\n",
        "56102"
       ]
      },
      {
       "output_type": "stream",
       "stream": "stdout",
       "text": [
        " BJ's Restaurant & Brewhouse 4ae28e57f964a520fd8e21e3\n",
        "56103"
       ]
      },
      {
       "output_type": "stream",
       "stream": "stdout",
       "text": [
        " Shalala 4cffe9a0f7b38cfa9f19ccc3\n",
        "56104"
       ]
      },
      {
       "output_type": "stream",
       "stream": "stdout",
       "text": [
        " GS Riverside BBQ 49f358fdf964a5208f6a1fe3\n",
        "56105"
       ]
      },
      {
       "output_type": "stream",
       "stream": "stdout",
       "text": [
        " Beer Revolution 4b318256f964a520300825e3\n",
        "56106"
       ]
      },
      {
       "output_type": "stream",
       "stream": "stdout",
       "text": [
        " China Palace Restaurant 4a6ac2d0f964a520e2cd1fe3\n",
        "56107"
       ]
      },
      {
       "output_type": "stream",
       "stream": "stdout",
       "text": [
        " City Beer Store 45587735f964a520443d1fe3\n",
        "56108"
       ]
      },
      {
       "output_type": "stream",
       "stream": "stdout",
       "text": [
        " Daily Grill 44be789af964a520a4351fe3\n",
        "56109"
       ]
      },
      {
       "output_type": "stream",
       "stream": "stdout",
       "text": [
        " Salang Pass Restaurant 4aff747cf964a520bf3822e3\n",
        "56110"
       ]
      },
      {
       "output_type": "stream",
       "stream": "stdout",
       "text": [
        " Grub 4c63a04aeb82d13aaa6c08d6\n",
        "56111"
       ]
      },
      {
       "output_type": "stream",
       "stream": "stdout",
       "text": [
        " Yancy's Saloon 3fd66200f964a52020f11ee3\n",
        "56112"
       ]
      },
      {
       "output_type": "stream",
       "stream": "stdout",
       "text": [
        " Pasquale's Pizza 3fd66200f964a5202af11ee3\n",
        "56113"
       ]
      },
      {
       "output_type": "stream",
       "stream": "stdout",
       "text": [
        " Ajisen Ramen 4c1d3a5f63750f4746ebb767\n",
        "56114"
       ]
      },
      {
       "output_type": "stream",
       "stream": "stdout",
       "text": [
        " Kunjip Restaurant 4aeb99dbf964a520adc321e3\n",
        "56115"
       ]
      },
      {
       "output_type": "stream",
       "stream": "stdout",
       "text": [
        " Kincaid's 4a7b85e7f964a52049eb1fe3\n",
        "56116"
       ]
      },
      {
       "output_type": "stream",
       "stream": "stdout",
       "text": [
        " King of Thai Noodle House No 2 3fd66200f964a520f9ec1ee3\n",
        "56117"
       ]
      },
      {
       "output_type": "stream",
       "stream": "stdout",
       "text": [
        " Good Noodle Restaurant 49f3872cf964a520b16a1fe3\n",
        "56118"
       ]
      },
      {
       "output_type": "stream",
       "stream": "stdout",
       "text": [
        " Pamplemousse Patisserie Et Cafe 49edee30f964a52003681fe3\n",
        "56119"
       ]
      },
      {
       "output_type": "stream",
       "stream": "stdout",
       "text": [
        " Ajisen Ramen 4c228972fbe5c9b6ed0e9a21\n",
        "56120"
       ]
      },
      {
       "output_type": "stream",
       "stream": "stdout",
       "text": [
        " The Fat Lady 3fd66200f964a520bcec1ee3\n",
        "56121"
       ]
      },
      {
       "output_type": "stream",
       "stream": "stdout",
       "text": [
        " Assab Eritrean Restaurant 47a101e7f964a520764d1fe3\n",
        "56122"
       ]
      },
      {
       "output_type": "stream",
       "stream": "stdout",
       "text": [
        " Paris Baguette 4e7ac120ae60a0e3b07026f4\n",
        "56123"
       ]
      },
      {
       "output_type": "stream",
       "stream": "stdout",
       "text": [
        " Ristorante Milano 42b21280f964a5206f251fe3\n",
        "56124"
       ]
      },
      {
       "output_type": "stream",
       "stream": "stdout",
       "text": [
        " Eric's Restaurant 4ab46c28f964a5202c7120e3\n",
        "56125"
       ]
      },
      {
       "output_type": "stream",
       "stream": "stdout",
       "text": [
        " Taste of the Himalayas 4a725feaf964a520f7da1fe3\n",
        "56126"
       ]
      },
      {
       "output_type": "stream",
       "stream": "stdout",
       "text": [
        " Cafe Divine 44cc9c16f964a52011361fe3\n",
        "56127"
       ]
      },
      {
       "output_type": "stream",
       "stream": "stdout",
       "text": [
        " Jasper's Corner Tap 4e2b2cade4cd3bc166929328\n",
        "56128"
       ]
      },
      {
       "output_type": "stream",
       "stream": "stdout",
       "text": [
        " Fil-Am Cuisine 4adba6f4f964a520c72921e3\n",
        "56129"
       ]
      },
      {
       "output_type": "stream",
       "stream": "stdout",
       "text": [
        " Tomatina 4b15f25af964a520efb523e3\n",
        "56130"
       ]
      },
      {
       "output_type": "stream",
       "stream": "stdout",
       "text": [
        " Martins West Gastropub 4a31abd6f964a5200f9a1fe3\n",
        "56131"
       ]
      },
      {
       "output_type": "stream",
       "stream": "stdout",
       "text": [
        " Parada 22 4bc3a2f974a9a5931edad4f6\n",
        "56132"
       ]
      },
      {
       "output_type": "stream",
       "stream": "stdout",
       "text": [
        " Nara Sushi 44c51d02f964a520d1351fe3\n",
        "56133"
       ]
      },
      {
       "output_type": "stream",
       "stream": "stdout",
       "text": [
        " Hawker Fare 4dc4c080fa76d685cdcfe8fd\n",
        "56134"
       ]
      },
      {
       "output_type": "stream",
       "stream": "stdout",
       "text": [
        " Sushi Time 43d569acf964a520442e1fe3\n",
        "56135"
       ]
      },
      {
       "output_type": "stream",
       "stream": "stdout",
       "text": [
        " Bar Jules 49e4bb5cf964a52020631fe3\n",
        "56136"
       ]
      },
      {
       "output_type": "stream",
       "stream": "stdout",
       "text": [
        " Jillian's 4089ae00f964a520bef21ee3\n",
        "56137"
       ]
      },
      {
       "output_type": "stream",
       "stream": "stdout",
       "text": [
        " Barney's Gourmet Hamburgers 49f4c7e4f964a520526b1fe3\n",
        "56138"
       ]
      },
      {
       "output_type": "stream",
       "stream": "stdout",
       "text": [
        " Pomelo 42210d80f964a520a91f1fe3\n",
        "56139"
       ]
      },
      {
       "output_type": "stream",
       "stream": "stdout",
       "text": [
        " Kara's Cupcakes 4a072900f964a5202e731fe3\n",
        "56140"
       ]
      },
      {
       "output_type": "stream",
       "stream": "stdout",
       "text": [
        " Atlas Cafe 4085b980f964a5208bf21ee3\n",
        "56141"
       ]
      },
      {
       "output_type": "stream",
       "stream": "stdout",
       "text": [
        " The Vine 4ee5040b991194490196c4ae\n",
        "56142"
       ]
      },
      {
       "output_type": "stream",
       "stream": "stdout",
       "text": [
        " Uncle Vito's Pizza 43810e00f964a520e12a1fe3\n",
        "56143"
       ]
      },
      {
       "output_type": "stream",
       "stream": "stdout",
       "text": [
        " Tuk Tuk Thai Cafe 43334580f964a5200f281fe3\n",
        "56144"
       ]
      },
      {
       "output_type": "stream",
       "stream": "stdout",
       "text": [
        " Coriander Gourmet Thai 4a49859ff964a52068ab1fe3\n",
        "56145"
       ]
      },
      {
       "output_type": "stream",
       "stream": "stdout",
       "text": [
        " Brainwash Cafe & Laundromat None\n",
        "56146"
       ]
      },
      {
       "output_type": "stream",
       "stream": "stdout",
       "text": [
        " Helmand Palace 4a73b450f964a5203fdd1fe3\n",
        "56147"
       ]
      },
      {
       "output_type": "stream",
       "stream": "stdout",
       "text": [
        " Miss SaiGon 4a0665bbf964a520f3721fe3\n",
        "56148"
       ]
      },
      {
       "output_type": "stream",
       "stream": "stdout",
       "text": [
        " Pedros Restaurant & Cantina 466bfdecf964a520ae471fe3\n",
        "56149"
       ]
      },
      {
       "output_type": "stream",
       "stream": "stdout",
       "text": [
        " Tomodachi Sushi Bistro 4b32e233f964a5208b1525e3\n",
        "56150"
       ]
      },
      {
       "output_type": "stream",
       "stream": "stdout",
       "text": [
        " Gioia Pizzeria 4a75d345f964a5205de11fe3\n",
        "56151"
       ]
      },
      {
       "output_type": "stream",
       "stream": "stdout",
       "text": [
        " Rose International Market 4a0df9d2f964a520b5751fe3\n",
        "56152"
       ]
      },
      {
       "output_type": "stream",
       "stream": "stdout",
       "text": [
        " Jeremy's 49fc9f92f964a520c06e1fe3\n",
        "56153"
       ]
      },
      {
       "output_type": "stream",
       "stream": "stdout",
       "text": [
        " Dragon Rouge 4a876762f964a5203c0420e3\n",
        "56154"
       ]
      },
      {
       "output_type": "stream",
       "stream": "stdout",
       "text": [
        " Mi Lindo Per\u00fa 4a08e999f964a52025741fe3\n",
        "56155"
       ]
      },
      {
       "output_type": "stream",
       "stream": "stdout",
       "text": [
        " Queen House 4a611dc8f964a520eac11fe3\n",
        "56156"
       ]
      },
      {
       "output_type": "stream",
       "stream": "stdout",
       "text": [
        " Zanze's Cheesecake 4b6cbea9f964a5201d512ce3\n",
        "56157"
       ]
      },
      {
       "output_type": "stream",
       "stream": "stdout",
       "text": [
        " Nation's Giant Hamburgers 4b28b6a5f964a520c99424e3\n",
        "56158"
       ]
      },
      {
       "output_type": "stream",
       "stream": "stdout",
       "text": [
        " Market Broiler 4c5b60fd6147be9aaa9e8c09\n",
        "56159"
       ]
      },
      {
       "output_type": "stream",
       "stream": "stdout",
       "text": [
        " Alana's Cafe 4aa2a63af964a520034220e3\n",
        "56160"
       ]
      },
      {
       "output_type": "stream",
       "stream": "stdout",
       "text": [
        " Flemings Prime Steakhouse & Wine Bar 4b08bc25f964a5209c1123e3\n",
        "56161"
       ]
      },
      {
       "output_type": "stream",
       "stream": "stdout",
       "text": [
        " Squat & Gobble Cafe & Crepery 4a997ee9f964a520a42e20e3\n",
        "56162"
       ]
      },
      {
       "output_type": "stream",
       "stream": "stdout",
       "text": [
        " Sidebar 49f8bd03f964a5201b6d1fe3\n",
        "56163"
       ]
      },
      {
       "output_type": "stream",
       "stream": "stdout",
       "text": [
        " Lion Pub 42926e80f964a52025241fe3\n",
        "56164"
       ]
      },
      {
       "output_type": "stream",
       "stream": "stdout",
       "text": [
        " Joy Luck Palace None\n",
        "56165"
       ]
      },
      {
       "output_type": "stream",
       "stream": "stdout",
       "text": [
        " Rivoli Restaurant 46aa9130f964a52064491fe3\n",
        "56166"
       ]
      },
      {
       "output_type": "stream",
       "stream": "stdout",
       "text": [
        " The View None\n",
        "56167"
       ]
      },
      {
       "output_type": "stream",
       "stream": "stdout",
       "text": [
        " Comstock Saloon None\n",
        "56168"
       ]
      },
      {
       "output_type": "stream",
       "stream": "stdout",
       "text": [
        " Cooking Papa Restaurant 4e39fbf2aeb7ec6702883249\n",
        "56169"
       ]
      },
      {
       "output_type": "stream",
       "stream": "stdout",
       "text": [
        " Annabelle's Bar & Bistro 41c76780f964a520961e1fe3\n",
        "56170"
       ]
      },
      {
       "output_type": "stream",
       "stream": "stdout",
       "text": [
        " The Milk Pail Market 4a2c7b1af964a52069971fe3\n",
        "56171"
       ]
      },
      {
       "output_type": "stream",
       "stream": "stdout",
       "text": [
        " Falafel, Etc. 4af6181bf964a520180122e3\n",
        "56172"
       ]
      },
      {
       "output_type": "stream",
       "stream": "stdout",
       "text": [
        " Three Seasons 445a7fbff964a520e6321fe3\n",
        "56173"
       ]
      },
      {
       "output_type": "stream",
       "stream": "stdout",
       "text": [
        " El Farolito 4a206042f964a520757c1fe3\n",
        "56174"
       ]
      },
      {
       "output_type": "stream",
       "stream": "stdout",
       "text": [
        " Yogurt Park 46521c11f964a520e7461fe3\n",
        "56175"
       ]
      },
      {
       "output_type": "stream",
       "stream": "stdout",
       "text": [
        " Poggio 4a7f3527f964a52045f31fe3\n",
        "56176"
       ]
      },
      {
       "output_type": "stream",
       "stream": "stdout",
       "text": [
        " Z & Y Restaurant 4bf20c757077952137a63e7c\n",
        "56177"
       ]
      },
      {
       "output_type": "stream",
       "stream": "stdout",
       "text": [
        " Bullshead Restaurant 4ad808d5f964a520981021e3\n",
        "56178"
       ]
      },
      {
       "output_type": "stream",
       "stream": "stdout",
       "text": [
        " Zabu Zabu 4a5aab32f964a520bcba1fe3\n",
        "56179"
       ]
      },
      {
       "output_type": "stream",
       "stream": "stdout",
       "text": [
        " Alegrias 49baf390f964a520ca531fe3\n",
        "56180"
       ]
      },
      {
       "output_type": "stream",
       "stream": "stdout",
       "text": [
        " Saravanaa Bhavan 458e49d4f964a52011401fe3\n",
        "56181"
       ]
      },
      {
       "output_type": "stream",
       "stream": "stdout",
       "text": [
        " Hobson's Choice 3fd66200f964a52065ed1ee3\n",
        "56182"
       ]
      },
      {
       "output_type": "stream",
       "stream": "stdout",
       "text": [
        " The Cheese Board 46aa8f98f964a52062491fe3\n",
        "56183"
       ]
      },
      {
       "output_type": "stream",
       "stream": "stdout",
       "text": [
        " H&M None\n",
        "56184"
       ]
      },
      {
       "output_type": "stream",
       "stream": "stdout",
       "text": [
        " Shabu House 4b319ad0f964a5209e0925e3\n",
        "56185"
       ]
      },
      {
       "output_type": "stream",
       "stream": "stdout",
       "text": [
        " Social Kitchen & Brewery 4bcca8390687ef3bc0a6dfcc\n",
        "56186"
       ]
      },
      {
       "output_type": "stream",
       "stream": "stdout",
       "text": [
        " DNA Lounge 3fd66200f964a52029f11ee3\n",
        "56187"
       ]
      },
      {
       "output_type": "stream",
       "stream": "stdout",
       "text": [
        " The Cigar Bar & Grill None\n",
        "56188"
       ]
      },
      {
       "output_type": "stream",
       "stream": "stdout",
       "text": [
        " Radius - San Francisco 4b92905af964a520b30434e3\n",
        "56189"
       ]
      },
      {
       "output_type": "stream",
       "stream": "stdout",
       "text": [
        " Blue Danube Coffee House 43bda7ccf964a5200a2d1fe3\n",
        "56190"
       ]
      },
      {
       "output_type": "stream",
       "stream": "stdout",
       "text": [
        " El Burrito Express 4ab96dc7f964a520587f20e3\n",
        "56191"
       ]
      },
      {
       "output_type": "stream",
       "stream": "stdout",
       "text": [
        " Turtle Tower 49d27124f964a520ab5b1fe3\n",
        "56192"
       ]
      },
      {
       "output_type": "stream",
       "stream": "stdout",
       "text": [
        " Nordstrom Cafe Bistro 4ac907c6f964a52026be20e3\n",
        "56193"
       ]
      },
      {
       "output_type": "stream",
       "stream": "stdout",
       "text": [
        " Eddie Papa's 4ad62824f964a520690521e3\n",
        "56194"
       ]
      },
      {
       "output_type": "stream",
       "stream": "stdout",
       "text": [
        " Blue Barn Gourmet 4a0b8ce1f964a52000751fe3\n",
        "56195"
       ]
      },
      {
       "output_type": "stream",
       "stream": "stdout",
       "text": [
        " Halu 4a865e24f964a520fe0020e3\n",
        "56196"
       ]
      },
      {
       "output_type": "stream",
       "stream": "stdout",
       "text": [
        " Body Manipulations 47f64fadf964a520aa4e1fe3\n",
        "56197"
       ]
      },
      {
       "output_type": "stream",
       "stream": "stdout",
       "text": [
        " Ramen Parlor 4e8767ee2c5bafd664fc1e82\n",
        "56198"
       ]
      },
      {
       "output_type": "stream",
       "stream": "stdout",
       "text": [
        " La Boulange de Hayes 475ab983f964a520d24c1fe3\n",
        "56199"
       ]
      },
      {
       "output_type": "stream",
       "stream": "stdout",
       "text": [
        " Town's End Restaurant & Bakery 46b9027ef964a520ca491fe3\n",
        "56200"
       ]
      },
      {
       "output_type": "stream",
       "stream": "stdout",
       "text": [
        " The Village Pub 43b40d12f964a520b62c1fe3\n",
        "56201"
       ]
      },
      {
       "output_type": "stream",
       "stream": "stdout",
       "text": [
        " Locanda 4db22d538154f5a745d9c093\n",
        "56202"
       ]
      },
      {
       "output_type": "stream",
       "stream": "stdout",
       "text": [
        " Sasa Restaurant 4bca8e73b6c49c74dfdf9091\n",
        "56203"
       ]
      },
      {
       "output_type": "stream",
       "stream": "stdout",
       "text": [
        " B Restaurant & Bar 4b62377ff964a520c53c2ae3\n",
        "56204"
       ]
      },
      {
       "output_type": "stream",
       "stream": "stdout",
       "text": [
        " Pasta Moon 457352c2f964a520873e1fe3\n",
        "56205"
       ]
      },
      {
       "output_type": "stream",
       "stream": "stdout",
       "text": [
        " The Hidden Vine 42926e80f964a52021241fe3\n",
        "56206"
       ]
      },
      {
       "output_type": "stream",
       "stream": "stdout",
       "text": [
        " Cafe Venetia 4a067430f964a520f8721fe3\n",
        "56207"
       ]
      },
      {
       "output_type": "stream",
       "stream": "stdout",
       "text": [
        " Joanie's Caf\u00e9 4a2023f8f964a5204e7c1fe3\n",
        "56208"
       ]
      },
      {
       "output_type": "stream",
       "stream": "stdout",
       "text": [
        " Piperade 4411a710f964a520cc301fe3\n",
        "56209"
       ]
      },
      {
       "output_type": "stream",
       "stream": "stdout",
       "text": [
        " Commis 4a62552cf964a520cac31fe3\n",
        "56210"
       ]
      },
      {
       "output_type": "stream",
       "stream": "stdout",
       "text": [
        " MoMo's 3fd66200f964a520bbec1ee3\n",
        "56211"
       ]
      },
      {
       "output_type": "stream",
       "stream": "stdout",
       "text": [
        " Bar None 42a39200f964a520ec241fe3\n",
        "56212"
       ]
      },
      {
       "output_type": "stream",
       "stream": "stdout",
       "text": [
        " Don Pico's Mexican Bistro & Cevicheria 49f4c403f964a5204d6b1fe3\n",
        "56213"
       ]
      },
      {
       "output_type": "stream",
       "stream": "stdout",
       "text": [
        " Umami Burger 514121e2e4b05feaa46fbdd5\n",
        "56214"
       ]
      },
      {
       "output_type": "stream",
       "stream": "stdout",
       "text": [
        " Taraval Okazu Ya Restaurant 4a750e56f964a5206ae01fe3\n",
        "56215"
       ]
      },
      {
       "output_type": "stream",
       "stream": "stdout",
       "text": [
        " Trouble Coffee Company None\n",
        "56216"
       ]
      },
      {
       "output_type": "stream",
       "stream": "stdout",
       "text": [
        " Devil's Teeth Baking Company 4db0bc8e0437a93f7f7a23e7\n",
        "56217"
       ]
      },
      {
       "output_type": "stream",
       "stream": "stdout",
       "text": [
        " Saffron Indian Bistro 4ae3aeb0f964a5201b9821e3\n",
        "56218"
       ]
      },
      {
       "output_type": "stream",
       "stream": "stdout",
       "text": [
        " Nijiya Market 49c3dfb3f964a52082561fe3\n",
        "56219"
       ]
      },
      {
       "output_type": "stream",
       "stream": "stdout",
       "text": [
        " Ghirardelli Square None\n",
        "56220"
       ]
      },
      {
       "output_type": "stream",
       "stream": "stdout",
       "text": [
        " Aux Delices Vietnamese Restaurant 44d8d38df964a5207b361fe3\n",
        "56221"
       ]
      },
      {
       "output_type": "stream",
       "stream": "stdout",
       "text": [
        " The Phoenix Bar & Irish Gathering House 417ee500f964a520d51d1fe3\n",
        "56222"
       ]
      },
      {
       "output_type": "stream",
       "stream": "stdout",
       "text": [
        " KoJa Kitchen 4eb03861754a67f6629928a8\n",
        "56223"
       ]
      },
      {
       "output_type": "stream",
       "stream": "stdout",
       "text": [
        " Old Jerusalem Restaurant 4a721f10f964a52069da1fe3\n",
        "56224"
       ]
      },
      {
       "output_type": "stream",
       "stream": "stdout",
       "text": [
        " Gerry's Grill and Bar 4b39181af964a5200b5625e3\n",
        "56225"
       ]
      },
      {
       "output_type": "stream",
       "stream": "stdout",
       "text": [
        " Beauty Bar 40870b00f964a52098f21ee3\n",
        "56226"
       ]
      },
      {
       "output_type": "stream",
       "stream": "stdout",
       "text": [
        " St. George Spirits 480b6670f964a5201c4f1fe3\n",
        "56227"
       ]
      },
      {
       "output_type": "stream",
       "stream": "stdout",
       "text": [
        " The Cheesecake Factory 43f8f151f964a520cd2f1fe3\n",
        "56228"
       ]
      },
      {
       "output_type": "stream",
       "stream": "stdout",
       "text": [
        " Rangoon Ruby 4fea8b89e4b043a2b4badf3c\n",
        "56229"
       ]
      },
      {
       "output_type": "stream",
       "stream": "stdout",
       "text": [
        " Golden Lotus Vegetarian Restaurant 49cebb1bf964a520785a1fe3\n",
        "56230"
       ]
      },
      {
       "output_type": "stream",
       "stream": "stdout",
       "text": [
        " Wexler's 4a43b775f964a520b6a61fe3\n",
        "56231"
       ]
      },
      {
       "output_type": "stream",
       "stream": "stdout",
       "text": [
        " Mas Sake 45df6218f964a5201a431fe3\n",
        "56232"
       ]
      },
      {
       "output_type": "stream",
       "stream": "stdout",
       "text": [
        " Fuki Sushi 454b2533f964a520aa3c1fe3\n",
        "56233"
       ]
      },
      {
       "output_type": "stream",
       "stream": "stdout",
       "text": [
        " El Toreador None\n",
        "56234"
       ]
      },
      {
       "output_type": "stream",
       "stream": "stdout",
       "text": [
        " Perilla None\n",
        "56235"
       ]
      },
      {
       "output_type": "stream",
       "stream": "stdout",
       "text": [
        " Lanesplitter Pizza & Pubs 4646f19ef964a52094461fe3\n",
        "56236"
       ]
      },
      {
       "output_type": "stream",
       "stream": "stdout",
       "text": [
        " Habanas Cuban Cuisine 4b8b16b9f964a520569232e3\n",
        "56237"
       ]
      },
      {
       "output_type": "stream",
       "stream": "stdout",
       "text": [
        " Shalizaar 4a973fd5f964a520152920e3\n",
        "56238"
       ]
      },
      {
       "output_type": "stream",
       "stream": "stdout",
       "text": [
        " Whole Foods Market Franklin 46002d20f964a52093441fe3\n",
        "56239"
       ]
      },
      {
       "output_type": "stream",
       "stream": "stdout",
       "text": [
        " Oyaji Restaurant 4ace965df964a52053d120e3\n",
        "56240"
       ]
      },
      {
       "output_type": "stream",
       "stream": "stdout",
       "text": [
        " El Rio 40870b00f964a520a0f21ee3\n",
        "56241"
       ]
      },
      {
       "output_type": "stream",
       "stream": "stdout",
       "text": [
        " Fraiche 4ad7e9dff964a520051021e3\n",
        "56242"
       ]
      },
      {
       "output_type": "stream",
       "stream": "stdout",
       "text": [
        " Tied House Cafe & Brewery 46b8f26bf964a520c7491fe3\n",
        "56243"
       ]
      },
      {
       "output_type": "stream",
       "stream": "stdout",
       "text": [
        " Kowloon Tong Dessert Cafe 49fa6e19f964a520f96d1fe3\n",
        "56244"
       ]
      },
      {
       "output_type": "stream",
       "stream": "stdout",
       "text": [
        " Mediterranean Wraps 4a26dd28f964a520e77e1fe3\n",
        "56245"
       ]
      },
      {
       "output_type": "stream",
       "stream": "stdout",
       "text": [
        " Osteria 4bc76f5e0050b7135db1b83b\n",
        "56246"
       ]
      },
      {
       "output_type": "stream",
       "stream": "stdout",
       "text": [
        " Crossroads Cafe 40f86c00f964a520c30a1fe3\n",
        "56247"
       ]
      },
      {
       "output_type": "stream",
       "stream": "stdout",
       "text": [
        " Merritt Restaurant & Bakery None\n",
        "56248"
       ]
      },
      {
       "output_type": "stream",
       "stream": "stdout",
       "text": [
        " 83 Proof 47d7bd63f964a520254e1fe3\n",
        "56249"
       ]
      },
      {
       "output_type": "stream",
       "stream": "stdout",
       "text": [
        " Citizen's Band 4c3d1e3e933b0f47a414e521\n",
        "56250"
       ]
      },
      {
       "output_type": "stream",
       "stream": "stdout",
       "text": [
        " Domo 49ce86fff964a520515a1fe3\n",
        "56251"
       ]
      },
      {
       "output_type": "stream",
       "stream": "stdout",
       "text": [
        " Maria Maria 4b495255f964a520606d26e3\n",
        "56252"
       ]
      },
      {
       "output_type": "stream",
       "stream": "stdout",
       "text": [
        " Sens Restaurant None\n",
        "56253"
       ]
      },
      {
       "output_type": "stream",
       "stream": "stdout",
       "text": [
        " Dim Sum King 4bb254d2a32876b00f7500fe\n",
        "56254"
       ]
      },
      {
       "output_type": "stream",
       "stream": "stdout",
       "text": [
        " Belly Good Cafe & Crepes 444fa9e8f964a5209c321fe3\n",
        "56255"
       ]
      },
      {
       "output_type": "stream",
       "stream": "stdout",
       "text": [
        " Lush Lounge 4192ab80f964a520011e1fe3\n",
        "56256"
       ]
      },
      {
       "output_type": "stream",
       "stream": "stdout",
       "text": [
        " Rose Pistola 3fd66200f964a5201aed1ee3\n",
        "56257"
       ]
      },
      {
       "output_type": "stream",
       "stream": "stdout",
       "text": [
        " Hollywood Cafe None\n",
        "56258"
       ]
      },
      {
       "output_type": "stream",
       "stream": "stdout",
       "text": [
        " Cafe Chaat 42b21280f964a5206d251fe3\n",
        "56259"
       ]
      },
      {
       "output_type": "stream",
       "stream": "stdout",
       "text": [
        " Sports Basement 4551d7f6f964a520ec3c1fe3\n",
        "56260"
       ]
      },
      {
       "output_type": "stream",
       "stream": "stdout",
       "text": [
        " Big Lantern 44b95d22f964a52083351fe3\n",
        "56261"
       ]
      },
      {
       "output_type": "stream",
       "stream": "stdout",
       "text": [
        " Lee's Sandwiches 4a6f6f5cf964a52029d61fe3\n",
        "56262"
       ]
      },
      {
       "output_type": "stream",
       "stream": "stdout",
       "text": [
        " Sunny Bowl 4a5e4bebf964a52054be1fe3\n",
        "56263"
       ]
      },
      {
       "output_type": "stream",
       "stream": "stdout",
       "text": [
        " Kuletos 43d9e87ff964a520732e1fe3\n",
        "56264"
       ]
      },
      {
       "output_type": "stream",
       "stream": "stdout",
       "text": [
        " Cherry Sushi 4ab6deb5f964a5205b7920e3\n",
        "56265"
       ]
      },
      {
       "output_type": "stream",
       "stream": "stdout",
       "text": [
        " Tucker's Super Creamed Ice Cream 4645bd20f964a5207e461fe3\n",
        "56266"
       ]
      },
      {
       "output_type": "stream",
       "stream": "stdout",
       "text": [
        " Eats None\n",
        "56267"
       ]
      },
      {
       "output_type": "stream",
       "stream": "stdout",
       "text": [
        " Olive 435d7580f964a52016291fe3\n",
        "56268"
       ]
      },
      {
       "output_type": "stream",
       "stream": "stdout",
       "text": [
        " Sugar Butter Flour 49eddb9ff964a520fe671fe3\n",
        "56269"
       ]
      },
      {
       "output_type": "stream",
       "stream": "stdout",
       "text": [
        " Capannina 4a5c0897f964a5202abc1fe3\n",
        "56270"
       ]
      },
      {
       "output_type": "stream",
       "stream": "stdout",
       "text": [
        " Victor's Pizza 43e338dff964a520d92e1fe3\n",
        "56271"
       ]
      },
      {
       "output_type": "stream",
       "stream": "stdout",
       "text": [
        " Bistro Central Parc 4b63a759f964a520ee892ae3\n",
        "56272"
       ]
      },
      {
       "output_type": "stream",
       "stream": "stdout",
       "text": [
        " Wat Mongkolratanaram 4646efb9f964a52093461fe3\n",
        "56273"
       ]
      },
      {
       "output_type": "stream",
       "stream": "stdout",
       "text": [
        " Grand Cafe 4a1f6a4bf964a520297c1fe3\n",
        "56274"
       ]
      },
      {
       "output_type": "stream",
       "stream": "stdout",
       "text": [
        " Toast Eatery 454f45eef964a520d43c1fe3\n",
        "56275"
       ]
      },
      {
       "output_type": "stream",
       "stream": "stdout",
       "text": [
        " Miette 49d3cecef964a520195c1fe3\n",
        "56276"
       ]
      },
      {
       "output_type": "stream",
       "stream": "stdout",
       "text": [
        " Ruth's Chris Steak House 4b33d1fcf964a520db1f25e3\n",
        "56277"
       ]
      },
      {
       "output_type": "stream",
       "stream": "stdout",
       "text": [
        " Puccini & Pinetti 49d04b9cf964a5201b5b1fe3\n",
        "56278"
       ]
      },
      {
       "output_type": "stream",
       "stream": "stdout",
       "text": [
        " Hong Kong Flower Lounge 4b54bab3f964a5204cc927e3\n",
        "56279"
       ]
      },
      {
       "output_type": "stream",
       "stream": "stdout",
       "text": [
        " Bean Bag Cafe 43bc1889f964a520f72c1fe3\n",
        "56280"
       ]
      },
      {
       "output_type": "stream",
       "stream": "stdout",
       "text": [
        " Buckshot Bar and Gameroom 49bc416af964a52021541fe3\n",
        "56281"
       ]
      },
      {
       "output_type": "stream",
       "stream": "stdout",
       "text": [
        " Firenze by Night Ristorante 4ab1c8baf964a520906a20e3\n",
        "56282"
       ]
      },
      {
       "output_type": "stream",
       "stream": "stdout",
       "text": [
        " Bellanico Restaurant & Wine Bar 4a91da18f964a5201a1c20e3\n",
        "56283"
       ]
      },
      {
       "output_type": "stream",
       "stream": "stdout",
       "text": [
        " Shooting Star Cafe 4a723ab5f964a520a9da1fe3\n",
        "56284"
       ]
      },
      {
       "output_type": "stream",
       "stream": "stdout",
       "text": [
        " Craw Station None\n",
        "56285"
       ]
      },
      {
       "output_type": "stream",
       "stream": "stdout",
       "text": [
        " Creola 4bd793220b779c74be9305a0\n",
        "56286"
       ]
      },
      {
       "output_type": "stream",
       "stream": "stdout",
       "text": [
        " Burke Williams Day Spa None\n",
        "56287"
       ]
      },
      {
       "output_type": "stream",
       "stream": "stdout",
       "text": [
        " Cancun Taqueria 46c6f86bf964a520114a1fe3\n",
        "56288"
       ]
      },
      {
       "output_type": "stream",
       "stream": "stdout",
       "text": [
        " Panta Rei Restaurant 4a0e435df964a520dc751fe3\n",
        "56289"
       ]
      },
      {
       "output_type": "stream",
       "stream": "stdout",
       "text": [
        " Contigo 49c6bdfef964a52077571fe3\n",
        "56290"
       ]
      },
      {
       "output_type": "stream",
       "stream": "stdout",
       "text": [
        " Kincaid's 4b103574f964a5205c6b23e3\n",
        "56291"
       ]
      },
      {
       "output_type": "stream",
       "stream": "stdout",
       "text": [
        " Lucky 13 3fd66200f964a5203df11ee3\n",
        "56292"
       ]
      },
      {
       "output_type": "stream",
       "stream": "stdout",
       "text": [
        " Little Sheep Mongolian Hot Pot 4b36b58ff964a520163b25e3\n",
        "56293"
       ]
      },
      {
       "output_type": "stream",
       "stream": "stdout",
       "text": [
        " Flying Fish Bar & Grill 4a3069eaf964a52062991fe3\n",
        "56294"
       ]
      },
      {
       "output_type": "stream",
       "stream": "stdout",
       "text": [
        " Bar Cesar 4a7b71d8f964a5200eeb1fe3\n",
        "56295"
       ]
      },
      {
       "output_type": "stream",
       "stream": "stdout",
       "text": [
        " Ray's Crab Shack 4d8f6a26fa9437049ded19c6\n",
        "56296"
       ]
      },
      {
       "output_type": "stream",
       "stream": "stdout",
       "text": [
        " Benihana 4a7e4593f964a520a8f11fe3\n",
        "56297"
       ]
      },
      {
       "output_type": "stream",
       "stream": "stdout",
       "text": [
        " The Fly Trap 49d17c67f964a5208a5b1fe3\n",
        "56298"
       ]
      },
      {
       "output_type": "stream",
       "stream": "stdout",
       "text": [
        " Mona Lisa Restaurant 463df059f964a52040461fe3\n",
        "56299"
       ]
      },
      {
       "output_type": "stream",
       "stream": "stdout",
       "text": [
        " Tea Station 4aff948ef964a5209a3922e3\n",
        "56300"
       ]
      },
      {
       "output_type": "stream",
       "stream": "stdout",
       "text": [
        " Thaibodia 4b5bc891f964a520fc1529e3\n",
        "56301"
       ]
      },
      {
       "output_type": "stream",
       "stream": "stdout",
       "text": [
        " McCormick & Kuleto's 44d21e78f964a52039361fe3\n",
        "56302"
       ]
      },
      {
       "output_type": "stream",
       "stream": "stdout",
       "text": [
        " Kate's Kitchen 44e36c53f964a5203e371fe3\n",
        "56303"
       ]
      },
      {
       "output_type": "stream",
       "stream": "stdout",
       "text": [
        " Kitchen Story 50ab8755e4b0869279a80872\n",
        "56304"
       ]
      },
      {
       "output_type": "stream",
       "stream": "stdout",
       "text": [
        " Lolinda 50243fd229a61e4b21a26e16\n",
        "56305"
       ]
      },
      {
       "output_type": "stream",
       "stream": "stdout",
       "text": [
        " Dim Sum King 44070bdcf964a52048301fe3\n",
        "56306"
       ]
      },
      {
       "output_type": "stream",
       "stream": "stdout",
       "text": [
        " Pica Pica Maize Kitchen None\n",
        "56307"
       ]
      },
      {
       "output_type": "stream",
       "stream": "stdout",
       "text": [
        " Globe 45141974f964a520d4391fe3\n",
        "56308"
       ]
      },
      {
       "output_type": "stream",
       "stream": "stdout",
       "text": [
        " El Castillito 49c6c22bf964a5207a571fe3\n",
        "56309"
       ]
      },
      {
       "output_type": "stream",
       "stream": "stdout",
       "text": [
        " Icebee 49d7090df964a520195d1fe3\n",
        "56310"
       ]
      },
      {
       "output_type": "stream",
       "stream": "stdout",
       "text": [
        " Taqueria La Cumbre 4533c484f964a5208e3b1fe3\n",
        "56311"
       ]
      },
      {
       "output_type": "stream",
       "stream": "stdout",
       "text": [
        " Pazzia Restaurant & Pizzeria 435ec700f964a52021291fe3\n",
        "56312"
       ]
      },
      {
       "output_type": "stream",
       "stream": "stdout",
       "text": [
        " La Briciola 4a19b692f964a5203b7a1fe3\n",
        "56313"
       ]
      },
      {
       "output_type": "stream",
       "stream": "stdout",
       "text": [
        " Benkyodo Co. 4a22141ff964a5205c7d1fe3\n",
        "56314"
       ]
      },
      {
       "output_type": "stream",
       "stream": "stdout",
       "text": [
        " Olive Garden Italian Restaurant 46d715faf964a5206c4a1fe3\n",
        "56315"
       ]
      },
      {
       "output_type": "stream",
       "stream": "stdout",
       "text": [
        " Costco 43945018f964a5207f2b1fe3\n",
        "56316"
       ]
      },
      {
       "output_type": "stream",
       "stream": "stdout",
       "text": [
        " Rick & Ann's Restaurant 45bcbc2bf964a52005421fe3\n",
        "56317"
       ]
      },
      {
       "output_type": "stream",
       "stream": "stdout",
       "text": [
        " The Yellow Submarine 4a298355f964a5209f951fe3\n",
        "56318"
       ]
      },
      {
       "output_type": "stream",
       "stream": "stdout",
       "text": [
        " Sumiya Yakitori 4f44a63019836ed001958bd8\n",
        "56319"
       ]
      },
      {
       "output_type": "stream",
       "stream": "stdout",
       "text": [
        " Jack's Restaurant and Bar 4c279af7136d20a1733fe761\n",
        "56320"
       ]
      },
      {
       "output_type": "stream",
       "stream": "stdout",
       "text": [
        " Ironside West Coast BBQ 4ab146bff964a520d96820e3\n",
        "56321"
       ]
      },
      {
       "output_type": "stream",
       "stream": "stdout",
       "text": [
        " Garcon 44ca68e1f964a52002361fe3\n",
        "56322"
       ]
      },
      {
       "output_type": "stream",
       "stream": "stdout",
       "text": [
        " Aslam's Rasoi 44e799b6f964a52094371fe3\n",
        "56323"
       ]
      },
      {
       "output_type": "stream",
       "stream": "stdout",
       "text": [
        " Olea 49da2865f964a520575e1fe3\n",
        "56324"
       ]
      },
      {
       "output_type": "stream",
       "stream": "stdout",
       "text": [
        " Fish & Farm 49dba9a1f964a520e65e1fe3\n",
        "56325"
       ]
      },
      {
       "output_type": "stream",
       "stream": "stdout",
       "text": [
        " Vesuvio Cafe 3fd66200f964a52044ed1ee3\n",
        "56326"
       ]
      },
      {
       "output_type": "stream",
       "stream": "stdout",
       "text": [
        " Martuni's 3fd66200f964a5204eed1ee3\n",
        "56327"
       ]
      },
      {
       "output_type": "stream",
       "stream": "stdout",
       "text": [
        " Thai Basil Cuisine 4a876707f964a5203a0420e3\n",
        "56328"
       ]
      },
      {
       "output_type": "stream",
       "stream": "stdout",
       "text": [
        " Isobune Sushi 4b613fe4f964a520120e2ae3\n",
        "56329"
       ]
      },
      {
       "output_type": "stream",
       "stream": "stdout",
       "text": [
        " Rainforest Cafe 49f5e047f964a520c86b1fe3\n",
        "56330"
       ]
      },
      {
       "output_type": "stream",
       "stream": "stdout",
       "text": [
        " Sibby's Cupcakery 4a8b3baef964a520e00b20e3\n",
        "56331"
       ]
      },
      {
       "output_type": "stream",
       "stream": "stdout",
       "text": [
        " Smart Alec's Intelligent Food 4a591ed6f964a520b6b81fe3\n",
        "56332"
       ]
      },
      {
       "output_type": "stream",
       "stream": "stdout",
       "text": [
        " Mighty 40f71a80f964a520af0a1fe3\n",
        "56333"
       ]
      },
      {
       "output_type": "stream",
       "stream": "stdout",
       "text": [
        " Whole Foods Market Oakland 49c6e308f964a52087571fe3\n",
        "56334"
       ]
      },
      {
       "output_type": "stream",
       "stream": "stdout",
       "text": [
        " Hops & Hominy 4ed9a975be7be28336ddc111\n",
        "56335"
       ]
      },
      {
       "output_type": "stream",
       "stream": "stdout",
       "text": [
        " Phil's Sliders None\n",
        "56336"
       ]
      },
      {
       "output_type": "stream",
       "stream": "stdout",
       "text": [
        " Tacolicious 4ec598ffb634b2fd723d8c01\n",
        "56337"
       ]
      },
      {
       "output_type": "stream",
       "stream": "stdout",
       "text": [
        " Hyde Street Seafood House and Raw Bar 3fd66200f964a52090f11ee3\n",
        "56338"
       ]
      },
      {
       "output_type": "stream",
       "stream": "stdout",
       "text": [
        " Taqueria Sinaloa 4a2c1184f964a52018971fe3\n",
        "56339"
       ]
      },
      {
       "output_type": "stream",
       "stream": "stdout",
       "text": [
        " Warfield Theatre 414e1d80f964a520ed1c1fe3\n",
        "56340"
       ]
      },
      {
       "output_type": "stream",
       "stream": "stdout",
       "text": [
        " Asian Pearl Seafood Restaurant None\n",
        "56341"
       ]
      },
      {
       "output_type": "stream",
       "stream": "stdout",
       "text": [
        " The Mint 3fd66200f964a5204bed1ee3\n",
        "56342"
       ]
      },
      {
       "output_type": "stream",
       "stream": "stdout",
       "text": [
        " 54 Mint - Vineria Ristorante 4a41b07ff964a5208aa51fe3\n",
        "56343"
       ]
      },
      {
       "output_type": "stream",
       "stream": "stdout",
       "text": [
        " Korea House 4b53db1bf964a52053ad27e3\n",
        "56344"
       ]
      },
      {
       "output_type": "stream",
       "stream": "stdout",
       "text": [
        " Hemlock Tavern 4161e400f964a520711d1fe3\n",
        "56345"
       ]
      },
      {
       "output_type": "stream",
       "stream": "stdout",
       "text": [
        " Restaurante Do\u00f1a Tomas 4a7622c7f964a52059e21fe3\n",
        "56346"
       ]
      },
      {
       "output_type": "stream",
       "stream": "stdout",
       "text": [
        " Cafe Bunn Mi 4e233347ae6015b212b7dd6e\n",
        "56347"
       ]
      },
      {
       "output_type": "stream",
       "stream": "stdout",
       "text": [
        " Moss Beach Distillery 4a60fb46f964a5209bc11fe3\n",
        "56348"
       ]
      },
      {
       "output_type": "stream",
       "stream": "stdout",
       "text": [
        " Leopold's 4d0549672f96f04d94382254\n",
        "56349"
       ]
      },
      {
       "output_type": "stream",
       "stream": "stdout",
       "text": [
        " Cleo's Brazilian Steakhouse 4bf498abff90c9b6a0805528\n",
        "56350"
       ]
      },
      {
       "output_type": "stream",
       "stream": "stdout",
       "text": [
        " SusieCakes 4c27c151ed0ac9b6ee3a5faa\n",
        "56351"
       ]
      },
      {
       "output_type": "stream",
       "stream": "stdout",
       "text": [
        " Stanfords Walnut Creek 4a95ea20f964a520662520e3\n",
        "56352"
       ]
      },
      {
       "output_type": "stream",
       "stream": "stdout",
       "text": [
        " Sliderbar 4b649e2df964a520a1c22ae3\n",
        "56353"
       ]
      },
      {
       "output_type": "stream",
       "stream": "stdout",
       "text": [
        " Cioppino's 4a63aae2f964a5208bc51fe3\n",
        "56354"
       ]
      },
      {
       "output_type": "stream",
       "stream": "stdout",
       "text": [
        " Borobudur Restaurant 49e67ea9f964a52052641fe3\n",
        "56355"
       ]
      },
      {
       "output_type": "stream",
       "stream": "stdout",
       "text": [
        " Spenger's Fresh Fish Grotto 4bcbaf3a937ca593b423aa92\n",
        "56356"
       ]
      },
      {
       "output_type": "stream",
       "stream": "stdout",
       "text": [
        " Hong Kong East Ocean Seafood Restaurant 4b08710cf964a520f20b23e3\n",
        "56357"
       ]
      },
      {
       "output_type": "stream",
       "stream": "stdout",
       "text": [
        " Gaspare's Pizza House & Italian Restaurant 4a63e6e4f964a520fcc51fe3\n",
        "56358"
       ]
      },
      {
       "output_type": "stream",
       "stream": "stdout",
       "text": [
        " Michael Mina 4cae131abf70236aa86305f9\n",
        "56359"
       ]
      },
      {
       "output_type": "stream",
       "stream": "stdout",
       "text": [
        " Fly Bar 408da280f964a520d7f21ee3\n",
        "56360"
       ]
      },
      {
       "output_type": "stream",
       "stream": "stdout",
       "text": [
        " Caffe Greco 429f9d80f964a520c1241fe3\n",
        "56361"
       ]
      },
      {
       "output_type": "stream",
       "stream": "stdout",
       "text": [
        " Kamakura Japanese Restaurant 4645be7ef964a5207f461fe3\n",
        "56362"
       ]
      },
      {
       "output_type": "stream",
       "stream": "stdout",
       "text": [
        " Troya 49ed2342f964a520cb671fe3\n",
        "56363"
       ]
      },
      {
       "output_type": "stream",
       "stream": "stdout",
       "text": [
        " Le Garage 4a183c93f964a52091791fe3\n",
        "56364"
       ]
      },
      {
       "output_type": "stream",
       "stream": "stdout",
       "text": [
        " Aniki's Sushi 505d29a4e4b00e3799f3cb5f\n",
        "56365"
       ]
      },
      {
       "output_type": "stream",
       "stream": "stdout",
       "text": [
        " Mezzanine None\n",
        "56366"
       ]
      },
      {
       "output_type": "stream",
       "stream": "stdout",
       "text": [
        " The Peasant & The Pear 4a9197fff964a520d51a20e3\n",
        "56367"
       ]
      },
      {
       "output_type": "stream",
       "stream": "stdout",
       "text": [
        " Osha Thai 42683e80f964a52043211fe3\n",
        "56368"
       ]
      },
      {
       "output_type": "stream",
       "stream": "stdout",
       "text": [
        " Oliveto Cafe & Restaurant 469184c1f964a520b4481fe3\n",
        "56369"
       ]
      },
      {
       "output_type": "stream",
       "stream": "stdout",
       "text": [
        " El Camino Mongolian BBQ 4a734d78f964a5200ddc1fe3\n",
        "56370"
       ]
      },
      {
       "output_type": "stream",
       "stream": "stdout",
       "text": [
        " Madrone Art Bar 43598100f964a520f7281fe3\n",
        "56371"
       ]
      },
      {
       "output_type": "stream",
       "stream": "stdout",
       "text": [
        " Playground 45d5f376f964a520cf421fe3\n",
        "56372"
       ]
      },
      {
       "output_type": "stream",
       "stream": "stdout",
       "text": [
        " The Cheesecake Factory 4ac90686f964a5201bbe20e3\n",
        "56373"
       ]
      },
      {
       "output_type": "stream",
       "stream": "stdout",
       "text": [
        " Herbivore 4a2b2909f964a520af961fe3\n",
        "56374"
       ]
      },
      {
       "output_type": "stream",
       "stream": "stdout",
       "text": [
        " Giorgio's Pizzeria 4534010cf964a520923b1fe3\n",
        "56375"
       ]
      },
      {
       "output_type": "stream",
       "stream": "stdout",
       "text": [
        " Bruno's 41ad0980f964a5205c1e1fe3\n",
        "56376"
       ]
      },
      {
       "output_type": "stream",
       "stream": "stdout",
       "text": [
        " Pho Vi Hoa 4a74aa94f964a52019df1fe3\n",
        "56377"
       ]
      },
      {
       "output_type": "stream",
       "stream": "stdout",
       "text": [
        " Golden Star Vietnamese Restaurant 4a8b2acff964a520a00b20e3\n",
        "56378"
       ]
      },
      {
       "output_type": "stream",
       "stream": "stdout",
       "text": [
        " The Ice Cream Bar 4eac41a5dab40d132703fc44\n",
        "56379"
       ]
      },
      {
       "output_type": "stream",
       "stream": "stdout",
       "text": [
        " Saha 49f91406f964a5205b6d1fe3\n",
        "56380"
       ]
      },
      {
       "output_type": "stream",
       "stream": "stdout",
       "text": [
        " Joe's Ice Cream 4a039807f964a520d1711fe3\n",
        "56381"
       ]
      },
      {
       "output_type": "stream",
       "stream": "stdout",
       "text": [
        " The Cellar 43e20176f964a520cd2e1fe3\n",
        "56382"
       ]
      },
      {
       "output_type": "stream",
       "stream": "stdout",
       "text": [
        " Cactus Taqueria 45a163a4f964a520e2401fe3\n",
        "56383"
       ]
      },
      {
       "output_type": "stream",
       "stream": "stdout",
       "text": [
        " Morucci's Si Mangia Bene 4b5b694af964a520f3fb28e3\n",
        "56384"
       ]
      },
      {
       "output_type": "stream",
       "stream": "stdout",
       "text": [
        " Alioto's Restaurant 4ba1187df964a520499737e3\n",
        "56385"
       ]
      },
      {
       "output_type": "stream",
       "stream": "stdout",
       "text": [
        " Ippuku 4c32384409a99c7448850b2a\n",
        "56386"
       ]
      },
      {
       "output_type": "stream",
       "stream": "stdout",
       "text": [
        " Bun Mee 4d91323e033ba35dab886b0d\n",
        "56387"
       ]
      },
      {
       "output_type": "stream",
       "stream": "stdout",
       "text": [
        " Sudachi 4a6aab00f964a520d6cd1fe3\n",
        "56388"
       ]
      },
      {
       "output_type": "stream",
       "stream": "stdout",
       "text": [
        " Caffe Delucchi 4be5b8bf2468c92863700043\n",
        "56389"
       ]
      },
      {
       "output_type": "stream",
       "stream": "stdout",
       "text": [
        " Underdog 49d00adcf964a520f95a1fe3\n",
        "56390"
       ]
      },
      {
       "output_type": "stream",
       "stream": "stdout",
       "text": [
        " Catch 432a0b00f964a520d9271fe3\n",
        "56391"
       ]
      },
      {
       "output_type": "stream",
       "stream": "stdout",
       "text": [
        " Hotei Restaurant 3fd66200f964a52034f11ee3\n",
        "56392"
       ]
      },
      {
       "output_type": "stream",
       "stream": "stdout",
       "text": [
        " Pho Huynh Hiep 3 - Kevin's Noodle House 4a7ddc63f964a520f1ef1fe3\n",
        "56393"
       ]
      },
      {
       "output_type": "stream",
       "stream": "stdout",
       "text": [
        " Milagros 4a735b57f964a52042dc1fe3\n",
        "56394"
       ]
      },
      {
       "output_type": "stream",
       "stream": "stdout",
       "text": [
        " Nordstrom 4b1c59a2f964a5206b0624e3\n",
        "56395"
       ]
      },
      {
       "output_type": "stream",
       "stream": "stdout",
       "text": [
        " Boxing Room 4ce1cb6394c3b60c08a378ea\n",
        "56396"
       ]
      },
      {
       "output_type": "stream",
       "stream": "stdout",
       "text": [
        " Kansai 46662e4ef964a52082471fe3\n",
        "56397"
       ]
      },
      {
       "output_type": "stream",
       "stream": "stdout",
       "text": [
        " La Trappe 49cd10e7f964a520af591fe3\n",
        "56398"
       ]
      },
      {
       "output_type": "stream",
       "stream": "stdout",
       "text": [
        " Chez Panisse Cafe None\n",
        "56399"
       ]
      },
      {
       "output_type": "stream",
       "stream": "stdout",
       "text": [
        " Shabuway Japanese Style Hot Pot 4b2d9b10f964a52075d924e3\n",
        "56400"
       ]
      },
      {
       "output_type": "stream",
       "stream": "stdout",
       "text": [
        " Noodle Theory 46aa9828f964a52068491fe3\n",
        "56401"
       ]
      },
      {
       "output_type": "stream",
       "stream": "stdout",
       "text": [
        " Chloe's Cafe 454f85bff964a520de3c1fe3\n",
        "56402"
       ]
      },
      {
       "output_type": "stream",
       "stream": "stdout",
       "text": [
        " Tunnel Top None\n",
        "56403"
       ]
      },
      {
       "output_type": "stream",
       "stream": "stdout",
       "text": [
        " 85\u00b0C Bakery Cafe None\n",
        "56404"
       ]
      },
      {
       "output_type": "stream",
       "stream": "stdout",
       "text": [
        " Tara's Organic Ice Cream 49fe6217f964a5209d6f1fe3\n",
        "56405"
       ]
      },
      {
       "output_type": "stream",
       "stream": "stdout",
       "text": [
        " Franchino 4a7cd069f964a520bbed1fe3\n",
        "56406"
       ]
      },
      {
       "output_type": "stream",
       "stream": "stdout",
       "text": [
        " Uva Enoteca 48b5de88f964a520b7511fe3\n",
        "56407"
       ]
      },
      {
       "output_type": "stream",
       "stream": "stdout",
       "text": [
        " Rose's Cafe 44f03c85f964a520f2371fe3\n",
        "56408"
       ]
      },
      {
       "output_type": "stream",
       "stream": "stdout",
       "text": [
        " Whole Foods Market SoMa 4a424d0ef964a520b7a51fe3\n",
        "56409"
       ]
      },
      {
       "output_type": "stream",
       "stream": "stdout",
       "text": [
        " Mixt Greens 4a0312fff964a52086711fe3\n",
        "56410"
       ]
      },
      {
       "output_type": "stream",
       "stream": "stdout",
       "text": [
        " Jones 4c53307e4623be9a0a0db5f0\n",
        "56411"
       ]
      },
      {
       "output_type": "stream",
       "stream": "stdout",
       "text": [
        " Masse's Pastries 4ac109bef964a520869520e3\n",
        "56412"
       ]
      },
      {
       "output_type": "stream",
       "stream": "stdout",
       "text": [
        " Izzy's Steakhouse & Chops 3fd66200f964a5202aee1ee3\n",
        "56413"
       ]
      },
      {
       "output_type": "stream",
       "stream": "stdout",
       "text": [
        " Mom's Tofu House 4a774a2af964a52013e41fe3\n",
        "56414"
       ]
      },
      {
       "output_type": "stream",
       "stream": "stdout",
       "text": [
        " Mayfield Bakery & Cafe 49bd5717f964a52069541fe3\n",
        "56415"
       ]
      },
      {
       "output_type": "stream",
       "stream": "stdout",
       "text": [
        " Joe's Crab Shack 49ec9c1df964a5206b671fe3\n",
        "56416"
       ]
      },
      {
       "output_type": "stream",
       "stream": "stdout",
       "text": [
        " Blue Jay Cafe 483fd06bf964a52022501fe3\n",
        "56417"
       ]
      },
      {
       "output_type": "stream",
       "stream": "stdout",
       "text": [
        " Zachary's Chicago Pizza 4afc8320f964a520752322e3\n",
        "56418"
       ]
      },
      {
       "output_type": "stream",
       "stream": "stdout",
       "text": [
        " Tacubaya 49c3ef9ef964a52088561fe3\n",
        "56419"
       ]
      },
      {
       "output_type": "stream",
       "stream": "stdout",
       "text": [
        " The Cheesecake Factory 4abea642f964a520138f20e3\n",
        "56420"
       ]
      },
      {
       "output_type": "stream",
       "stream": "stdout",
       "text": [
        " Nob Hill Cafe 42ae1e00f964a52057251fe3\n",
        "56421"
       ]
      },
      {
       "output_type": "stream",
       "stream": "stdout",
       "text": [
        " Commonwealth 4c5b6860adfdef3b6db0517f\n",
        "56422"
       ]
      },
      {
       "output_type": "stream",
       "stream": "stdout",
       "text": [
        " The Plant Caf\u00e9 Organic 4aa8ad88f964a520b35120e3\n",
        "56423"
       ]
      },
      {
       "output_type": "stream",
       "stream": "stdout",
       "text": [
        " Fantasia Coffee & Tea 4a41acb6f964a52086a51fe3\n",
        "56424"
       ]
      },
      {
       "output_type": "stream",
       "stream": "stdout",
       "text": [
        " Saiwaii Ramen 4c683fdf607ad13a3013a82b\n",
        "56425"
       ]
      },
      {
       "output_type": "stream",
       "stream": "stdout",
       "text": [
        " The Independent 4249ec00f964a5208f201fe3\n",
        "56426"
       ]
      },
      {
       "output_type": "stream",
       "stream": "stdout",
       "text": [
        " Pagolac 44e08850f964a520fc361fe3\n",
        "56427"
       ]
      },
      {
       "output_type": "stream",
       "stream": "stdout",
       "text": [
        " Saturn Cafe 4c421d213735be9ad18319a4\n",
        "56428"
       ]
      },
      {
       "output_type": "stream",
       "stream": "stdout",
       "text": [
        " The Counter 4cb33d631463a1439117b3a9\n",
        "56429"
       ]
      },
      {
       "output_type": "stream",
       "stream": "stdout",
       "text": [
        " The Rockin' Crawfish 4be73379910020a17b2ad514\n",
        "56430"
       ]
      },
      {
       "output_type": "stream",
       "stream": "stdout",
       "text": [
        " Kiki Japanese Restaurant 4400c106f964a52019301fe3\n",
        "56431"
       ]
      },
      {
       "output_type": "stream",
       "stream": "stdout",
       "text": [
        " Redwood Room None\n",
        "56432"
       ]
      },
      {
       "output_type": "stream",
       "stream": "stdout",
       "text": [
        " The Buckeye Roadhouse 4a2b0fb9f964a52094961fe3\n",
        "56433"
       ]
      },
      {
       "output_type": "stream",
       "stream": "stdout",
       "text": [
        " Triple Rock Brewery & Ale House 49c2d976f964a52030561fe3\n",
        "56434"
       ]
      },
      {
       "output_type": "stream",
       "stream": "stdout",
       "text": [
        " Polkers Gourmet Burgers 470a3177f964a520714b1fe3\n",
        "56435"
       ]
      },
      {
       "output_type": "stream",
       "stream": "stdout",
       "text": [
        " Calafia Caf\u00e9 & Market A Go Go 4a984d7ff964a520642b20e3\n",
        "56436"
       ]
      },
      {
       "output_type": "stream",
       "stream": "stdout",
       "text": [
        " Double Dutch None\n",
        "56437"
       ]
      },
      {
       "output_type": "stream",
       "stream": "stdout",
       "text": [
        " Choi's Korean Restaurant 4a51577cf964a520f9b01fe3\n",
        "56438"
       ]
      },
      {
       "output_type": "stream",
       "stream": "stdout",
       "text": [
        " Le Moose Crepe Cafe 4a9f2b9bf964a520ca3c20e3\n",
        "56439"
       ]
      },
      {
       "output_type": "stream",
       "stream": "stdout",
       "text": [
        " Gelato Classico Italian Ice Cream 44fc846ff964a52089381fe3\n",
        "56440"
       ]
      },
      {
       "output_type": "stream",
       "stream": "stdout",
       "text": [
        " Cafe M 4a9ac750f964a520a43220e3\n",
        "56441"
       ]
      },
      {
       "output_type": "stream",
       "stream": "stdout",
       "text": [
        " Bloomingdale's 451c196df964a520813a1fe3\n",
        "56442"
       ]
      },
      {
       "output_type": "stream",
       "stream": "stdout",
       "text": [
        " Shoreline Amphitheatre 40c8f600f964a520fe001fe3\n",
        "56443"
       ]
      },
      {
       "output_type": "stream",
       "stream": "stdout",
       "text": [
        " Sakoon 4abd683bf964a5201d8a20e3\n",
        "56444"
       ]
      },
      {
       "output_type": "stream",
       "stream": "stdout",
       "text": [
        " Savor 42966300f964a52059241fe3\n",
        "56445"
       ]
      },
      {
       "output_type": "stream",
       "stream": "stdout",
       "text": [
        " Chabaa Thai Cuisine 4a653692f964a52072c71fe3\n",
        "56446"
       ]
      },
      {
       "output_type": "stream",
       "stream": "stdout",
       "text": [
        " Cordon Bleu Vietnamese Restaurant 44f9e6a7f964a52071381fe3\n",
        "56447"
       ]
      },
      {
       "output_type": "stream",
       "stream": "stdout",
       "text": [
        " Broadway Prime 4ab98c11f964a520d27f20e3\n",
        "56448"
       ]
      },
      {
       "output_type": "stream",
       "stream": "stdout",
       "text": [
        " Kabul Afghan Cuisine 4b4658d7f964a5203d1e26e3\n",
        "56449"
       ]
      },
      {
       "output_type": "stream",
       "stream": "stdout",
       "text": [
        " Cobb's Comedy Club 429ba900f964a52082241fe3\n",
        "56450"
       ]
      },
      {
       "output_type": "stream",
       "stream": "stdout",
       "text": [
        " Heidi's Pies Restaurant 49f9392af964a5206e6d1fe3\n",
        "56451"
       ]
      },
      {
       "output_type": "stream",
       "stream": "stdout",
       "text": [
        " Osha Thai Restaurant & Bar 46391fe7f964a52018461fe3\n",
        "56452"
       ]
      },
      {
       "output_type": "stream",
       "stream": "stdout",
       "text": [
        " The Olde San Francisco Creamery None\n",
        "56453"
       ]
      },
      {
       "output_type": "stream",
       "stream": "stdout",
       "text": [
        " De Afghanan Kabob House 4b57c5cef964a520554028e3\n",
        "56454"
       ]
      },
      {
       "output_type": "stream",
       "stream": "stdout",
       "text": [
        " John's Snack and Deli 4a68d505f964a52016cb1fe3\n",
        "56455"
       ]
      },
      {
       "output_type": "stream",
       "stream": "stdout",
       "text": [
        " Sports Basement 4a09ef9af964a52070741fe3\n",
        "56456"
       ]
      },
      {
       "output_type": "stream",
       "stream": "stdout",
       "text": [
        " Bristol Farms 4a3960b2f964a520619f1fe3\n",
        "56457"
       ]
      },
      {
       "output_type": "stream",
       "stream": "stdout",
       "text": [
        " Lefty O'Doul's 3fd66200f964a5207aed1ee3\n",
        "56458"
       ]
      },
      {
       "output_type": "stream",
       "stream": "stdout",
       "text": [
        " Tamarindo Antojeria 463ddecef964a5203d461fe3\n",
        "56459"
       ]
      },
      {
       "output_type": "stream",
       "stream": "stdout",
       "text": [
        " Molinari Delicatessen 4a01fbbdf964a5201c711fe3\n",
        "56460"
       ]
      },
      {
       "output_type": "stream",
       "stream": "stdout",
       "text": [
        " Little Madfish 4b340233f964a520d82325e3\n",
        "56461"
       ]
      },
      {
       "output_type": "stream",
       "stream": "stdout",
       "text": [
        " American Cupcake 4bafdcd7f964a52005273ce3\n",
        "56462"
       ]
      },
      {
       "output_type": "stream",
       "stream": "stdout",
       "text": [
        " Pizza Orgasmica 4a94b5b6f964a5205e2220e3\n",
        "56463"
       ]
      },
      {
       "output_type": "stream",
       "stream": "stdout",
       "text": [
        " Gamine 4a306c39f964a52067991fe3\n",
        "56464"
       ]
      },
      {
       "output_type": "stream",
       "stream": "stdout",
       "text": [
        " Bissap Baobab None\n",
        "56465"
       ]
      },
      {
       "output_type": "stream",
       "stream": "stdout",
       "text": [
        " Deli Board 4bb2595c42959c7430b7202c\n",
        "56466"
       ]
      },
      {
       "output_type": "stream",
       "stream": "stdout",
       "text": [
        " Fox Theater - Oakland None\n",
        "56467"
       ]
      },
      {
       "output_type": "stream",
       "stream": "stdout",
       "text": [
        " Loving Cup 4a667916f964a5209ec81fe3\n",
        "56468"
       ]
      },
      {
       "output_type": "stream",
       "stream": "stdout",
       "text": [
        " Japanese Tea Garden None\n",
        "56469"
       ]
      },
      {
       "output_type": "stream",
       "stream": "stdout",
       "text": [
        " Elephant Bar Restaurant 47d868cff964a5202e4e1fe3\n",
        "56470"
       ]
      },
      {
       "output_type": "stream",
       "stream": "stdout",
       "text": [
        " Jersey Joe's Hoagies & Cheesesteaks 49ecf399f964a520b5671fe3\n",
        "56471"
       ]
      },
      {
       "output_type": "stream",
       "stream": "stdout",
       "text": [
        " Ike's Lair 4f1b39b8e4b05c50e269b32c\n",
        "56472"
       ]
      },
      {
       "output_type": "stream",
       "stream": "stdout",
       "text": [
        " Acquerello 3fd66200f964a52013ed1ee3\n",
        "56473"
       ]
      },
      {
       "output_type": "stream",
       "stream": "stdout",
       "text": [
        " Ozumo 4a92eedcf964a520301e20e3\n",
        "56474"
       ]
      },
      {
       "output_type": "stream",
       "stream": "stdout",
       "text": [
        " Local Edition 4f7e77bfe4b0b58904177146\n",
        "56475"
       ]
      },
      {
       "output_type": "stream",
       "stream": "stdout",
       "text": [
        " Goood Frikin Chicken 43b29cc3f964a520a52c1fe3\n",
        "56476"
       ]
      },
      {
       "output_type": "stream",
       "stream": "stdout",
       "text": [
        " Java Beach Cafe 4383b100f964a520fb2a1fe3\n",
        "56477"
       ]
      },
      {
       "output_type": "stream",
       "stream": "stdout",
       "text": [
        " BIN 38 4a18af52f964a520d8791fe3\n",
        "56478"
       ]
      },
      {
       "output_type": "stream",
       "stream": "stdout",
       "text": [
        " The Ramp 44ecd649f964a520d5371fe3\n",
        "56479"
       ]
      },
      {
       "output_type": "stream",
       "stream": "stdout",
       "text": [
        " Swig 4c0203cda8e676b0ebe5c532\n",
        "56480"
       ]
      },
      {
       "output_type": "stream",
       "stream": "stdout",
       "text": [
        " Sundance The Steakhouse 42bdf000f964a520aa251fe3\n",
        "56481"
       ]
      },
      {
       "output_type": "stream",
       "stream": "stdout",
       "text": [
        " The Cheese Steak Shop 4500584ff964a520bd381fe3\n",
        "56482"
       ]
      },
      {
       "output_type": "stream",
       "stream": "stdout",
       "text": [
        " Crepevine 4bb3a32414cfd13a175516ab\n",
        "56483"
       ]
      },
      {
       "output_type": "stream",
       "stream": "stdout",
       "text": [
        " Sanraku 4a4acc3af964a52033ac1fe3\n",
        "56484"
       ]
      },
      {
       "output_type": "stream",
       "stream": "stdout",
       "text": [
        " Good Mong Kok Bakery 4ae332f8f964a520959121e3\n",
        "56485"
       ]
      },
      {
       "output_type": "stream",
       "stream": "stdout",
       "text": [
        " 111 Minna Gallery 3fd66200f964a5207bec1ee3\n",
        "56486"
       ]
      },
      {
       "output_type": "stream",
       "stream": "stdout",
       "text": [
        " Cotogna 4cd0a38e5b5ca35de6317df0\n",
        "56487"
       ]
      },
      {
       "output_type": "stream",
       "stream": "stdout",
       "text": [
        " Aunt Mary's Caf\u00e9 4a1b8fd3f964a520027b1fe3\n",
        "56488"
       ]
      },
      {
       "output_type": "stream",
       "stream": "stdout",
       "text": [
        " Nini's Coffee Shop 49eb83f1f964a520ed661fe3\n",
        "56489"
       ]
      },
      {
       "output_type": "stream",
       "stream": "stdout",
       "text": [
        " Thalassa 40bd1880f964a520b8001fe3\n",
        "56490"
       ]
      },
      {
       "output_type": "stream",
       "stream": "stdout",
       "text": [
        " Taqueria Los Charros 49ee3169f964a52036681fe3\n",
        "56491"
       ]
      },
      {
       "output_type": "stream",
       "stream": "stdout",
       "text": [
        " Le Charm French Bistro 45fda829f964a5207d441fe3\n",
        "56492"
       ]
      },
      {
       "output_type": "stream",
       "stream": "stdout",
       "text": [
        " Apple Store 42cc7080f964a520e9251fe3\n",
        "56493"
       ]
      },
      {
       "output_type": "stream",
       "stream": "stdout",
       "text": [
        " The Albatross Pub 40bd1880f964a520c2001fe3\n",
        "56494"
       ]
      },
      {
       "output_type": "stream",
       "stream": "stdout",
       "text": [
        " Shanghai Dumpling Shop 4a43df62f964a520e6a61fe3\n",
        "56495"
       ]
      },
      {
       "output_type": "stream",
       "stream": "stdout",
       "text": [
        " Chantal Guillon Macarons 49da61f2f964a520815e1fe3\n",
        "56496"
       ]
      },
      {
       "output_type": "stream",
       "stream": "stdout",
       "text": [
        " Swensen's Ice Cream 42b21280f964a5206e251fe3\n",
        "56497"
       ]
      },
      {
       "output_type": "stream",
       "stream": "stdout",
       "text": [
        " Holy Gelato! 49daaa1ff964a520a15e1fe3\n",
        "56498"
       ]
      },
      {
       "output_type": "stream",
       "stream": "stdout",
       "text": [
        " Ananda Fuara 4a0cb0fff964a52056751fe3\n",
        "56499"
       ]
      },
      {
       "output_type": "stream",
       "stream": "stdout",
       "text": [
        " Coffee Bar 47fde9f4f964a520df4e1fe3\n",
        "56500"
       ]
      },
      {
       "output_type": "stream",
       "stream": "stdout",
       "text": [
        " Scratch 4cf985ce20fe3704aa0547f8\n",
        "56501"
       ]
      },
      {
       "output_type": "stream",
       "stream": "stdout",
       "text": [
        " Avatar's Restaurant 44b7dce7f964a5207a351fe3\n",
        "56502"
       ]
      },
      {
       "output_type": "stream",
       "stream": "stdout",
       "text": [
        " La Ciccia 49bed272f964a520e3541fe3\n",
        "56503"
       ]
      },
      {
       "output_type": "stream",
       "stream": "stdout",
       "text": [
        " The Holy Cow 431a3900f964a52070271fe3\n",
        "56504"
       ]
      },
      {
       "output_type": "stream",
       "stream": "stdout",
       "text": [
        " Tsunami 43bc75f6f964a520f92c1fe3\n",
        "56505"
       ]
      },
      {
       "output_type": "stream",
       "stream": "stdout",
       "text": [
        " Favorite Indian Restaurant 4abec8f3f964a520e08f20e3\n",
        "56506"
       ]
      },
      {
       "output_type": "stream",
       "stream": "stdout",
       "text": [
        " Morton's The Steakhouse 42e03700f964a52063261fe3\n",
        "56507"
       ]
      },
      {
       "output_type": "stream",
       "stream": "stdout",
       "text": [
        " Fleming's Prime Steakhouse & Wine Bar 4a7b9270f964a52072eb1fe3\n",
        "56508"
       ]
      },
      {
       "output_type": "stream",
       "stream": "stdout",
       "text": [
        " Flipper's, A Gourmet Hamburger Place 43b6a897f964a520cc2c1fe3\n",
        "56509"
       ]
      },
      {
       "output_type": "stream",
       "stream": "stdout",
       "text": [
        " On the Bridge 49e25488f964a5200b621fe3\n",
        "56510"
       ]
      },
      {
       "output_type": "stream",
       "stream": "stdout",
       "text": [
        " Rogue Ales Public House 43c453c6f964a520582d1fe3\n",
        "56511"
       ]
      },
      {
       "output_type": "stream",
       "stream": "stdout",
       "text": [
        " Moonstar Restaurant 4ad10703f964a5200fdc20e3\n",
        "56512"
       ]
      },
      {
       "output_type": "stream",
       "stream": "stdout",
       "text": [
        " Baker & Banker None\n",
        "56513"
       ]
      },
      {
       "output_type": "stream",
       "stream": "stdout",
       "text": [
        " Shabuway Japanese Style Hot Pot None\n",
        "56514"
       ]
      },
      {
       "output_type": "stream",
       "stream": "stdout",
       "text": [
        " Comcast None\n",
        "56515"
       ]
      },
      {
       "output_type": "stream",
       "stream": "stdout",
       "text": [
        " Chow 4a411f02f964a520cea41fe3\n",
        "56516"
       ]
      },
      {
       "output_type": "stream",
       "stream": "stdout",
       "text": [
        " In-N-Out Burger 457c6a6df964a520093f1fe3\n",
        "56517"
       ]
      },
      {
       "output_type": "stream",
       "stream": "stdout",
       "text": [
        " Hog & Rocks 4c2c116b77cfe21ec298b5f1\n",
        "56518"
       ]
      },
      {
       "output_type": "stream",
       "stream": "stdout",
       "text": [
        " Rosamunde Sausage Grill 4b54afd9f964a52016c727e3\n",
        "56519"
       ]
      },
      {
       "output_type": "stream",
       "stream": "stdout",
       "text": [
        " Westfield San Francisco Centre None\n",
        "56520"
       ]
      },
      {
       "output_type": "stream",
       "stream": "stdout",
       "text": [
        " Fresca 4ad152fdf964a5200dde20e3\n",
        "56521"
       ]
      },
      {
       "output_type": "stream",
       "stream": "stdout",
       "text": [
        " Gelateria Naia 4a46af39f964a5204ba91fe3\n",
        "56522"
       ]
      },
      {
       "output_type": "stream",
       "stream": "stdout",
       "text": [
        " Kokyo Sushi Buffet 4cdefb74df986ea82f51df16\n",
        "56523"
       ]
      },
      {
       "output_type": "stream",
       "stream": "stdout",
       "text": [
        " Red Chili 4b2d6a87f964a52036d624e3\n",
        "56524"
       ]
      },
      {
       "output_type": "stream",
       "stream": "stdout",
       "text": [
        " Presidio Social Club 49e37998f964a52086621fe3\n",
        "56525"
       ]
      },
      {
       "output_type": "stream",
       "stream": "stdout",
       "text": [
        " BJ's Restaurant & Brewhouse 4a7f4769f964a52089f31fe3\n",
        "56526"
       ]
      },
      {
       "output_type": "stream",
       "stream": "stdout",
       "text": [
        " Sprout Cafe 49e6233bf964a5200f641fe3\n",
        "56527"
       ]
      },
      {
       "output_type": "stream",
       "stream": "stdout",
       "text": [
        " Curry Up Now-Indian Street Food None\n",
        "56528"
       ]
      },
      {
       "output_type": "stream",
       "stream": "stdout",
       "text": [
        " King of Thai Noodle House 3fd66200f964a520d7ec1ee3\n",
        "56529"
       ]
      },
      {
       "output_type": "stream",
       "stream": "stdout",
       "text": [
        " Restaurant Lulu 3fd66200f964a52019ed1ee3\n",
        "56530"
       ]
      },
      {
       "output_type": "stream",
       "stream": "stdout",
       "text": [
        " Roxie Food Center 49f796fff964a520c06c1fe3\n",
        "56531"
       ]
      },
      {
       "output_type": "stream",
       "stream": "stdout",
       "text": [
        " Pork Store Cafe Valencia 43a473cdf964a5204a2c1fe3\n",
        "56532"
       ]
      },
      {
       "output_type": "stream",
       "stream": "stdout",
       "text": [
        " Sam's Anchor Cafe 4a5ea15ef964a520edbe1fe3\n",
        "56533"
       ]
      },
      {
       "output_type": "stream",
       "stream": "stdout",
       "text": [
        " East Ocean Seafood Restaurant None\n",
        "56534"
       ]
      },
      {
       "output_type": "stream",
       "stream": "stdout",
       "text": [
        " Ramen Underground 4e498f31b61c6886484fe715\n",
        "56535"
       ]
      },
      {
       "output_type": "stream",
       "stream": "stdout",
       "text": [
        " Cafe Flore 3fd66200f964a5203dee1ee3\n",
        "56536"
       ]
      },
      {
       "output_type": "stream",
       "stream": "stdout",
       "text": [
        " Bella Trattoria 3fd66200f964a520dbec1ee3\n",
        "56537"
       ]
      },
      {
       "output_type": "stream",
       "stream": "stdout",
       "text": [
        " Stella Pastry & Cafe 4a7e1dc4f964a52006f11fe3\n",
        "56538"
       ]
      },
      {
       "output_type": "stream",
       "stream": "stdout",
       "text": [
        " Cantina None\n",
        "56539"
       ]
      },
      {
       "output_type": "stream",
       "stream": "stdout",
       "text": [
        " Fresca 4a5a59b5f964a52033ba1fe3\n",
        "56540"
       ]
      },
      {
       "output_type": "stream",
       "stream": "stdout",
       "text": [
        " Za Gourmet Pizza 42b21280f964a5206c251fe3\n",
        "56541"
       ]
      },
      {
       "output_type": "stream",
       "stream": "stdout",
       "text": [
        " Oasis Grill 4a6f5d0ef964a520fdd51fe3\n",
        "56542"
       ]
      },
      {
       "output_type": "stream",
       "stream": "stdout",
       "text": [
        " Bi-Rite Market 47f64f56f964a520a94e1fe3\n",
        "56543"
       ]
      },
      {
       "output_type": "stream",
       "stream": "stdout",
       "text": [
        " Speisekammer 463de5c9f964a5203f461fe3\n",
        "56544"
       ]
      },
      {
       "output_type": "stream",
       "stream": "stdout",
       "text": [
        " Enssaro 4b04d189f964a520b35622e3\n",
        "56545"
       ]
      },
      {
       "output_type": "stream",
       "stream": "stdout",
       "text": [
        " Zante Pizza & Indian Cuisine 4478eeeef964a520d2331fe3\n",
        "56546"
       ]
      },
      {
       "output_type": "stream",
       "stream": "stdout",
       "text": [
        " Ben Tre Vietnamese Homestyle Cuisine 4a56995df964a52081b51fe3\n",
        "56547"
       ]
      },
      {
       "output_type": "stream",
       "stream": "stdout",
       "text": [
        " Adamson's French Dip 4a70a13bf964a520fed71fe3\n",
        "56548"
       ]
      },
      {
       "output_type": "stream",
       "stream": "stdout",
       "text": [
        " Hunan Homes Restaurant None\n",
        "56549"
       ]
      },
      {
       "output_type": "stream",
       "stream": "stdout",
       "text": [
        " Harry's Bar 43c5a1e7f964a5206d2d1fe3\n",
        "56550"
       ]
      },
      {
       "output_type": "stream",
       "stream": "stdout",
       "text": [
        " Herbivore 43640d00f964a52058291fe3\n",
        "56551"
       ]
      },
      {
       "output_type": "stream",
       "stream": "stdout",
       "text": [
        " Fantasia Coffee & Tea 4acd5501f964a520dfcb20e3\n",
        "56552"
       ]
      },
      {
       "output_type": "stream",
       "stream": "stdout",
       "text": [
        " Vive Sol 4a31d3a9f964a5202d9a1fe3\n",
        "56553"
       ]
      },
      {
       "output_type": "stream",
       "stream": "stdout",
       "text": [
        " B44 4377d380f964a5205b2a1fe3\n",
        "56554"
       ]
      },
      {
       "output_type": "stream",
       "stream": "stdout",
       "text": [
        " Red Crawfish 4a6bb29ff964a520a5cf1fe3\n",
        "56555"
       ]
      },
      {
       "output_type": "stream",
       "stream": "stdout",
       "text": [
        " Stan's Donut Shop 4b0d6183f964a520354723e3\n",
        "56556"
       ]
      },
      {
       "output_type": "stream",
       "stream": "stdout",
       "text": [
        " Park Tavern None\n",
        "56557"
       ]
      },
      {
       "output_type": "stream",
       "stream": "stdout",
       "text": [
        " Primo Patio Cafe 4283ee00f964a520ab221fe3\n",
        "56558"
       ]
      },
      {
       "output_type": "stream",
       "stream": "stdout",
       "text": [
        " Bar Agricole 4b4a4e86f964a5203d8326e3\n",
        "56559"
       ]
      },
      {
       "output_type": "stream",
       "stream": "stdout",
       "text": [
        " Local Kitchen & Wine Merchant 4aa46a42f964a520bd4620e3\n",
        "56560"
       ]
      },
      {
       "output_type": "stream",
       "stream": "stdout",
       "text": [
        " Skool 4c1e9060eac020a10dec49c2\n",
        "56561"
       ]
      },
      {
       "output_type": "stream",
       "stream": "stdout",
       "text": [
        " CREAM 511ff176e4b045d03424e771\n",
        "56562"
       ]
      },
      {
       "output_type": "stream",
       "stream": "stdout",
       "text": [
        " Destino 42893400f964a5205a231fe3\n",
        "56563"
       ]
      },
      {
       "output_type": "stream",
       "stream": "stdout",
       "text": [
        " Honeyberry 4ae3cbc4f964a520fe9821e3\n",
        "56564"
       ]
      },
      {
       "output_type": "stream",
       "stream": "stdout",
       "text": [
        " Creations Dessert House 49e379f4f964a52087621fe3\n",
        "56565"
       ]
      },
      {
       "output_type": "stream",
       "stream": "stdout",
       "text": [
        " Pyramid Brewery & Alehouse 49cd18abf964a520b7591fe3\n",
        "56566"
       ]
      },
      {
       "output_type": "stream",
       "stream": "stdout",
       "text": [
        " Cafe Colucci 4aa030a2f964a520a63e20e3\n",
        "56567"
       ]
      },
      {
       "output_type": "stream",
       "stream": "stdout",
       "text": [
        " Ole's Waffle Shop 4a5a9e6af964a520a9ba1fe3\n",
        "56568"
       ]
      },
      {
       "output_type": "stream",
       "stream": "stdout",
       "text": [
        " 15 Romolo 3fd66200f964a5202bed1ee3\n",
        "56569"
       ]
      },
      {
       "output_type": "stream",
       "stream": "stdout",
       "text": [
        " Lillie Mae's House of Soul Food 4ce6de39b99754819fd1f244\n",
        "56570"
       ]
      },
      {
       "output_type": "stream",
       "stream": "stdout",
       "text": [
        " Cinnaholic 4c40b646d691c9b6c0a08b0a\n",
        "56571"
       ]
      },
      {
       "output_type": "stream",
       "stream": "stdout",
       "text": [
        " House of Thai 49e95478f964a520f1651fe3\n",
        "56572"
       ]
      },
      {
       "output_type": "stream",
       "stream": "stdout",
       "text": [
        " Mifune Restaurant 435c2400f964a52007291fe3\n",
        "56573"
       ]
      },
      {
       "output_type": "stream",
       "stream": "stdout",
       "text": [
        " Giordano Bros 49cc7443f964a5207e591fe3\n",
        "56574"
       ]
      },
      {
       "output_type": "stream",
       "stream": "stdout",
       "text": [
        " La Corneta Taqueria 45052b29f964a520e5381fe3\n",
        "56575"
       ]
      },
      {
       "output_type": "stream",
       "stream": "stdout",
       "text": [
        " MatrixFillmore 412bd680f964a5209f0c1fe3\n",
        "56576"
       ]
      },
      {
       "output_type": "stream",
       "stream": "stdout",
       "text": [
        " Patio Filipino 4b78b6d7f964a5200fdf2ee3\n",
        "56577"
       ]
      },
      {
       "output_type": "stream",
       "stream": "stdout",
       "text": [
        " Tanto Japanese Restaurant 4b32cc85f964a520241425e3\n",
        "56578"
       ]
      },
      {
       "output_type": "stream",
       "stream": "stdout",
       "text": [
        " SGD Tofu House 4b20778cf964a5207d3224e3\n",
        "56579"
       ]
      },
      {
       "output_type": "stream",
       "stream": "stdout",
       "text": [
        " Aperto Restaurant 4880eb2cf964a5202e511fe3\n",
        "56580"
       ]
      },
      {
       "output_type": "stream",
       "stream": "stdout",
       "text": [
        " Reposado 49f66210f964a520376c1fe3\n",
        "56581"
       ]
      },
      {
       "output_type": "stream",
       "stream": "stdout",
       "text": [
        " Brazil Fresh Squeeze Cafe 4a85bea4f964a52022ff1fe3\n",
        "56582"
       ]
      },
      {
       "output_type": "stream",
       "stream": "stdout",
       "text": [
        " Nob Hill Grille 4a203bdaf964a5205d7c1fe3\n",
        "56583"
       ]
      },
      {
       "output_type": "stream",
       "stream": "stdout",
       "text": [
        " Coco500 43dbc1d6f964a520972e1fe3\n",
        "56584"
       ]
      },
      {
       "output_type": "stream",
       "stream": "stdout",
       "text": [
        " Palo Alto Creamery 4a688daaf964a5208bca1fe3\n",
        "56585"
       ]
      },
      {
       "output_type": "stream",
       "stream": "stdout",
       "text": [
        " Dopo 49f4d0e5f964a520586b1fe3\n",
        "56586"
       ]
      },
      {
       "output_type": "stream",
       "stream": "stdout",
       "text": [
        " Super Duper Burgers 4bc38e68abf49521beedc393\n",
        "56587"
       ]
      },
      {
       "output_type": "stream",
       "stream": "stdout",
       "text": [
        " Plouf 3fd66200f964a520a6ed1ee3\n",
        "56588"
       ]
      },
      {
       "output_type": "stream",
       "stream": "stdout",
       "text": [
        " Stacks 49f9fc9df964a520a26d1fe3\n",
        "56589"
       ]
      },
      {
       "output_type": "stream",
       "stream": "stdout",
       "text": [
        " Barracuda Japanese Restaurant 4630f931f964a520f8451fe3\n",
        "56590"
       ]
      },
      {
       "output_type": "stream",
       "stream": "stdout",
       "text": [
        " Art's Cafe 3fd66200f964a52019f11ee3\n",
        "56591"
       ]
      },
      {
       "output_type": "stream",
       "stream": "stdout",
       "text": [
        " Eiji 45e98072f964a5207e431fe3\n",
        "56592"
       ]
      },
      {
       "output_type": "stream",
       "stream": "stdout",
       "text": [
        " Ohgane Korean Restaurant 4a1a4e57f964a520937a1fe3\n",
        "56593"
       ]
      },
      {
       "output_type": "stream",
       "stream": "stdout",
       "text": [
        " Escape From New York Pizza 44786832f964a520ca331fe3\n",
        "56594"
       ]
      },
      {
       "output_type": "stream",
       "stream": "stdout",
       "text": [
        " Copenhagen Bakery & Cafe 4a6caf4df964a52043d11fe3\n",
        "56595"
       ]
      },
      {
       "output_type": "stream",
       "stream": "stdout",
       "text": [
        " Live Sushi Bar 4a445686f964a52077a71fe3\n",
        "56596"
       ]
      },
      {
       "output_type": "stream",
       "stream": "stdout",
       "text": [
        " Chef Chu's 46d371d2f964a5205a4a1fe3\n",
        "56597"
       ]
      },
      {
       "output_type": "stream",
       "stream": "stdout",
       "text": [
        " Walzwerk 43470c00f964a52080281fe3\n",
        "56598"
       ]
      },
      {
       "output_type": "stream",
       "stream": "stdout",
       "text": [
        " Triptych 43b83103f964a520da2c1fe3\n",
        "56599"
       ]
      },
      {
       "output_type": "stream",
       "stream": "stdout",
       "text": [
        " Zarzuela 3fd66200f964a5209ef11ee3\n",
        "56600"
       ]
      },
      {
       "output_type": "stream",
       "stream": "stdout",
       "text": [
        " The Irish Bank Bar & Restaurant 3fd66200f964a52098ed1ee3\n",
        "56601"
       ]
      },
      {
       "output_type": "stream",
       "stream": "stdout",
       "text": [
        " Sugar Cafe None\n",
        "56602"
       ]
      },
      {
       "output_type": "stream",
       "stream": "stdout",
       "text": [
        " Curry Up Now-Indian Street Food None\n",
        "56603"
       ]
      },
      {
       "output_type": "stream",
       "stream": "stdout",
       "text": [
        " Oxenrose Salon 4a077cfdf964a52067731fe3\n",
        "56604"
       ]
      },
      {
       "output_type": "stream",
       "stream": "stdout",
       "text": [
        " Scala's Bistro 3fd66200f964a52091f11ee3\n",
        "56605"
       ]
      },
      {
       "output_type": "stream",
       "stream": "stdout",
       "text": [
        " Kabuki Springs & Spa 44dc7274f964a520aa361fe3\n",
        "56606"
       ]
      },
      {
       "output_type": "stream",
       "stream": "stdout",
       "text": [
        " Press Club 49d2c77af964a520d75b1fe3\n",
        "56607"
       ]
      },
      {
       "output_type": "stream",
       "stream": "stdout",
       "text": [
        " Pluto's 4a1eeee1f964a520eb7b1fe3\n",
        "56608"
       ]
      },
      {
       "output_type": "stream",
       "stream": "stdout",
       "text": [
        " LYFE Kitchen 4dfa3857fa7667368a6e2234\n",
        "56609"
       ]
      },
      {
       "output_type": "stream",
       "stream": "stdout",
       "text": [
        " Fang 4aa463e5f964a520ab4620e3\n",
        "56610"
       ]
      },
      {
       "output_type": "stream",
       "stream": "stdout",
       "text": [
        " Kabuto Restaurant 3fd66200f964a520d0ec1ee3\n",
        "56611"
       ]
      },
      {
       "output_type": "stream",
       "stream": "stdout",
       "text": [
        " City View Restaurant 4abfdac7f964a5209f9220e3\n",
        "56612"
       ]
      },
      {
       "output_type": "stream",
       "stream": "stdout",
       "text": [
        " Godfather's Burger Lounge None\n",
        "56613"
       ]
      },
      {
       "output_type": "stream",
       "stream": "stdout",
       "text": [
        " Forbidden Island Tiki Lounge 45e6b309f964a5204c431fe3\n",
        "56614"
       ]
      },
      {
       "output_type": "stream",
       "stream": "stdout",
       "text": [
        " Ame 43b7e41df964a520d42c1fe3\n",
        "56615"
       ]
      },
      {
       "output_type": "stream",
       "stream": "stdout",
       "text": [
        " Coach Sushi 4a29c05cf964a520cf951fe3\n",
        "56616"
       ]
      },
      {
       "output_type": "stream",
       "stream": "stdout",
       "text": [
        " Sightglass Coffee 4a4b8a43f964a5206fac1fe3\n",
        "56617"
       ]
      },
      {
       "output_type": "stream",
       "stream": "stdout",
       "text": [
        " Sparky's 24 Hour Diner 49bb4a52f964a520e1531fe3\n",
        "56618"
       ]
      },
      {
       "output_type": "stream",
       "stream": "stdout",
       "text": [
        " Boot & Shoe Service 4b1c4e34f964a520c90524e3\n",
        "56619"
       ]
      },
      {
       "output_type": "stream",
       "stream": "stdout",
       "text": [
        " So Gong Dong Tofu House 4a876fe9f964a5205b0420e3\n",
        "56620"
       ]
      },
      {
       "output_type": "stream",
       "stream": "stdout",
       "text": [
        " Baby Blues BBQ 49b5c272f964a520fe521fe3\n",
        "56621"
       ]
      },
      {
       "output_type": "stream",
       "stream": "stdout",
       "text": [
        " Tobang 4a9b3d51f964a520ce3420e3\n",
        "56622"
       ]
      },
      {
       "output_type": "stream",
       "stream": "stdout",
       "text": [
        " Half Moon Bay Brewing Company 43fed255f964a520ff2f1fe3\n",
        "56623"
       ]
      },
      {
       "output_type": "stream",
       "stream": "stdout",
       "text": [
        " Seniore's Pizza 4a88f509f964a520c40720e3\n",
        "56624"
       ]
      },
      {
       "output_type": "stream",
       "stream": "stdout",
       "text": [
        " Philz Coffee 43fb0c99f964a520e02f1fe3\n",
        "56625"
       ]
      },
      {
       "output_type": "stream",
       "stream": "stdout",
       "text": [
        " Trattoria Contadina 3fd66200f964a52026ee1ee3\n",
        "56626"
       ]
      },
      {
       "output_type": "stream",
       "stream": "stdout",
       "text": [
        " Sweet Basil Thai Cuisine 4aefb079f964a520e8d921e3\n",
        "56627"
       ]
      },
      {
       "output_type": "stream",
       "stream": "stdout",
       "text": [
        " Off the Grid: Fort Mason Center None\n",
        "56628"
       ]
      },
      {
       "output_type": "stream",
       "stream": "stdout",
       "text": [
        " Bijou Restaurant & Bar 4a246bdbf964a5201d7e1fe3\n",
        "56629"
       ]
      },
      {
       "output_type": "stream",
       "stream": "stdout",
       "text": [
        " Lovejoy's Tea Room 454f77e0f964a520db3c1fe3\n",
        "56630"
       ]
      },
      {
       "output_type": "stream",
       "stream": "stdout",
       "text": [
        " Maru Ichi 4aea52e0f964a52004bb21e3\n",
        "56631"
       ]
      },
      {
       "output_type": "stream",
       "stream": "stdout",
       "text": [
        " Amarin Thai Cuisine 462b9290f964a520e0451fe3\n",
        "56632"
       ]
      },
      {
       "output_type": "stream",
       "stream": "stdout",
       "text": [
        " Sutro's at The Cliff House 4b81adfbf964a5205cb730e3\n",
        "56633"
       ]
      },
      {
       "output_type": "stream",
       "stream": "stdout",
       "text": [
        " Delarosa 4b0d8fe5f964a5201e4b23e3\n",
        "56634"
       ]
      },
      {
       "output_type": "stream",
       "stream": "stdout",
       "text": [
        " Samovar Tea Lounge 4123ed80f964a520430c1fe3\n",
        "56635"
       ]
      },
      {
       "output_type": "stream",
       "stream": "stdout",
       "text": [
        " Ella's Restaurant 49ca9ac2f964a520c6581fe3\n",
        "56636"
       ]
      },
      {
       "output_type": "stream",
       "stream": "stdout",
       "text": [
        " Lou's Cafe 4bc767fd8b7c9c747d6536cf\n",
        "56637"
       ]
      },
      {
       "output_type": "stream",
       "stream": "stdout",
       "text": [
        " Anchor Oyster Bar 432a0b00f964a520de271fe3\n",
        "56638"
       ]
      },
      {
       "output_type": "stream",
       "stream": "stdout",
       "text": [
        " Izakaya Mai 4a2b43ddf964a520c0961fe3\n",
        "56639"
       ]
      },
      {
       "output_type": "stream",
       "stream": "stdout",
       "text": [
        " Truly Mediterranean 43da737ff964a5207d2e1fe3\n",
        "56640"
       ]
      },
      {
       "output_type": "stream",
       "stream": "stdout",
       "text": [
        " Top of the Mark 4a3ef906f964a5209ba31fe3\n",
        "56641"
       ]
      },
      {
       "output_type": "stream",
       "stream": "stdout",
       "text": [
        " Submarine Center 47bae8a8f964a520d14d1fe3\n",
        "56642"
       ]
      },
      {
       "output_type": "stream",
       "stream": "stdout",
       "text": [
        " Gypsy's Trattoria Italiano 4b01baf7f964a520ec4422e3\n",
        "56643"
       ]
      },
      {
       "output_type": "stream",
       "stream": "stdout",
       "text": [
        " El Metate 48484314f964a52074501fe3\n",
        "56644"
       ]
      },
      {
       "output_type": "stream",
       "stream": "stdout",
       "text": [
        " Bob Sang Korean BBQ & Tofu 4bce7d6729d4b713bcc2a8dc\n",
        "56645"
       ]
      },
      {
       "output_type": "stream",
       "stream": "stdout",
       "text": [
        " Jong Ga House 4acec4fef964a520d8d120e3\n",
        "56646"
       ]
      },
      {
       "output_type": "stream",
       "stream": "stdout",
       "text": [
        " The Counter 4a75f04ef964a520bde11fe3\n",
        "56647"
       ]
      },
      {
       "output_type": "stream",
       "stream": "stdout",
       "text": [
        " Havana 4a9b1fa4f964a5207c3420e3\n",
        "56648"
       ]
      },
      {
       "output_type": "stream",
       "stream": "stdout",
       "text": [
        " Red Rock Coffee Co 450af4f4f964a5204c391fe3\n",
        "56649"
       ]
      },
      {
       "output_type": "stream",
       "stream": "stdout",
       "text": [
        " Los Altos Grill 426d8480f964a5205f211fe3\n",
        "56650"
       ]
      },
      {
       "output_type": "stream",
       "stream": "stdout",
       "text": [
        " Love At First Bite 49ccfcc9f964a520a8591fe3\n",
        "56651"
       ]
      },
      {
       "output_type": "stream",
       "stream": "stdout",
       "text": [
        " State Bird Provisions 4ef52a378231b0d6238dd471\n",
        "56652"
       ]
      },
      {
       "output_type": "stream",
       "stream": "stdout",
       "text": [
        " Han Il Kwan 46c5f703f964a520094a1fe3\n",
        "56653"
       ]
      },
      {
       "output_type": "stream",
       "stream": "stdout",
       "text": [
        " Berkeley Bowl West 4a2c53e1f964a5204d971fe3\n",
        "56654"
       ]
      },
      {
       "output_type": "stream",
       "stream": "stdout",
       "text": [
        " First Crush Restaurant Wine Bar & Lounge 3fd66200f964a5207ced1ee3\n",
        "56655"
       ]
      },
      {
       "output_type": "stream",
       "stream": "stdout",
       "text": [
        " Chez Papa Bistrot None\n",
        "56656"
       ]
      },
      {
       "output_type": "stream",
       "stream": "stdout",
       "text": [
        " Trad'r Sam's 428e7a00f964a520cf231fe3\n",
        "56657"
       ]
      },
      {
       "output_type": "stream",
       "stream": "stdout",
       "text": [
        " Phat Philly 49bac905f964a520a7531fe3\n",
        "56658"
       ]
      },
      {
       "output_type": "stream",
       "stream": "stdout",
       "text": [
        " Hotaru Japanese Restaurant 4a2bd5d5f964a520e3961fe3\n",
        "56659"
       ]
      },
      {
       "output_type": "stream",
       "stream": "stdout",
       "text": [
        " Pizzetta 211 40df5f80f964a52096011fe3\n",
        "56660"
       ]
      },
      {
       "output_type": "stream",
       "stream": "stdout",
       "text": [
        " NightLife at the California Academy of Sciences 49cc413df964a5205a591fe3\n",
        "56661"
       ]
      },
      {
       "output_type": "stream",
       "stream": "stdout",
       "text": [
        " Tani's Kitchen 49fa211df964a520c76d1fe3\n",
        "56662"
       ]
      },
      {
       "output_type": "stream",
       "stream": "stdout",
       "text": [
        " Herbivore 45842eb8f964a520993f1fe3\n",
        "56663"
       ]
      },
      {
       "output_type": "stream",
       "stream": "stdout",
       "text": [
        " King of Thai Noodle House 4a695baaf964a520ebcb1fe3\n",
        "56664"
       ]
      },
      {
       "output_type": "stream",
       "stream": "stdout",
       "text": [
        " Mr Smith's 42926e80f964a52023241fe3\n",
        "56665"
       ]
      },
      {
       "output_type": "stream",
       "stream": "stdout",
       "text": [
        " 'wichcraft 4a5125dcf964a520acb01fe3\n",
        "56666"
       ]
      },
      {
       "output_type": "stream",
       "stream": "stdout",
       "text": [
        " Grubstake 3fd66200f964a5201af11ee3\n",
        "56667"
       ]
      },
      {
       "output_type": "stream",
       "stream": "stdout",
       "text": [
        " BorrowLenses 4c4dc440d667d13ad827619f\n",
        "56668"
       ]
      },
      {
       "output_type": "stream",
       "stream": "stdout",
       "text": [
        " Verde Tea Cafe 4a25980bf964a520707e1fe3\n",
        "56669"
       ]
      },
      {
       "output_type": "stream",
       "stream": "stdout",
       "text": [
        " Philz Coffee 4b9042e9f964a520aa7f33e3\n",
        "56670"
       ]
      },
      {
       "output_type": "stream",
       "stream": "stdout",
       "text": [
        " Frascati 4a0f8354f964a52070761fe3\n",
        "56671"
       ]
      },
      {
       "output_type": "stream",
       "stream": "stdout",
       "text": [
        " District 461604b8f964a52045451fe3\n",
        "56672"
       ]
      },
      {
       "output_type": "stream",
       "stream": "stdout",
       "text": [
        " The Rotunda None\n",
        "56673"
       ]
      },
      {
       "output_type": "stream",
       "stream": "stdout",
       "text": [
        " The Old Pro 4283ee00f964a520c7221fe3\n",
        "56674"
       ]
      },
      {
       "output_type": "stream",
       "stream": "stdout",
       "text": [
        " The Cliff House Bistro 4a05dcf9f964a5208d721fe3\n",
        "56675"
       ]
      },
      {
       "output_type": "stream",
       "stream": "stdout",
       "text": [
        " Cha-Ya 44ccee85f964a52016361fe3\n",
        "56676"
       ]
      },
      {
       "output_type": "stream",
       "stream": "stdout",
       "text": [
        " Fringale 3fd66200f964a5201bed1ee3\n",
        "56677"
       ]
      },
      {
       "output_type": "stream",
       "stream": "stdout",
       "text": [
        " Kennedy's Irish Pub & Curry House 40dcbc80f964a52084011fe3\n",
        "56678"
       ]
      },
      {
       "output_type": "stream",
       "stream": "stdout",
       "text": [
        " Piccino 4a6f9b3af964a52097d61fe3\n",
        "56679"
       ]
      },
      {
       "output_type": "stream",
       "stream": "stdout",
       "text": [
        " Bocadillos 457eebaff964a520443f1fe3\n",
        "56680"
       ]
      },
      {
       "output_type": "stream",
       "stream": "stdout",
       "text": [
        " Venus Restaurant 441692f2f964a52005311fe3\n",
        "56681"
       ]
      },
      {
       "output_type": "stream",
       "stream": "stdout",
       "text": [
        " L'ardoise Bistro 49d30c0ff964a520e85b1fe3\n",
        "56682"
       ]
      },
      {
       "output_type": "stream",
       "stream": "stdout",
       "text": [
        " Amakara 4b33d936f964a520812025e3\n",
        "56683"
       ]
      },
      {
       "output_type": "stream",
       "stream": "stdout",
       "text": [
        " Arinell Pizza 436e9900f964a520e9291fe3\n",
        "56684"
       ]
      },
      {
       "output_type": "stream",
       "stream": "stdout",
       "text": [
        " Arizmendi Bakery 46aa908cf964a52063491fe3\n",
        "56685"
       ]
      },
      {
       "output_type": "stream",
       "stream": "stdout",
       "text": [
        " Sports Basement 45df2c52f964a52016431fe3\n",
        "56686"
       ]
      },
      {
       "output_type": "stream",
       "stream": "stdout",
       "text": [
        " St. Francis Fountain 44733e3ef964a520a6331fe3\n",
        "56687"
       ]
      },
      {
       "output_type": "stream",
       "stream": "stdout",
       "text": [
        " Tataki 49bc5f17f964a52031541fe3\n",
        "56688"
       ]
      },
      {
       "output_type": "stream",
       "stream": "stdout",
       "text": [
        " Kitaro Japanese Restaurant 43a89f9df964a520752c1fe3\n",
        "56689"
       ]
      },
      {
       "output_type": "stream",
       "stream": "stdout",
       "text": [
        " Udupi Palace 49dad092f964a520b25e1fe3\n",
        "56690"
       ]
      },
      {
       "output_type": "stream",
       "stream": "stdout",
       "text": [
        " Vaso Azzurro Ristorante 49f92297f964a520646d1fe3\n",
        "56691"
       ]
      },
      {
       "output_type": "stream",
       "stream": "stdout",
       "text": [
        " The Grove Yerba Buena 4b7ef75cf964a520ee0c30e3\n",
        "56692"
       ]
      },
      {
       "output_type": "stream",
       "stream": "stdout",
       "text": [
        " Snowflake Teahouse None\n",
        "56693"
       ]
      },
      {
       "output_type": "stream",
       "stream": "stdout",
       "text": [
        " Fu Lam Mum 49f0dff6f964a52068691fe3\n",
        "56694"
       ]
      },
      {
       "output_type": "stream",
       "stream": "stdout",
       "text": [
        " Park Chalet Garden Restaurant 43d3ad1df964a520222e1fe3\n",
        "56695"
       ]
      },
      {
       "output_type": "stream",
       "stream": "stdout",
       "text": [
        " Lavash 49b3268cf964a520e1521fe3\n",
        "56696"
       ]
      },
      {
       "output_type": "stream",
       "stream": "stdout",
       "text": [
        " Mel's Drive-In 435ad280f964a52006291fe3\n",
        "56697"
       ]
      },
      {
       "output_type": "stream",
       "stream": "stdout",
       "text": [
        " Puerto Alegre 3fd66200f964a52059ed1ee3\n",
        "56698"
       ]
      },
      {
       "output_type": "stream",
       "stream": "stdout",
       "text": [
        " Alexander's Steakhouse 4beca4ec8bbcc928ca9d8cb1\n",
        "56699"
       ]
      },
      {
       "output_type": "stream",
       "stream": "stdout",
       "text": [
        " Yank Sing 49b5b56af964a520fd521fe3\n",
        "56700"
       ]
      },
      {
       "output_type": "stream",
       "stream": "stdout",
       "text": [
        " Gialina Pizzeria 4a415045f964a52015a51fe3\n",
        "56701"
       ]
      },
      {
       "output_type": "stream",
       "stream": "stdout",
       "text": [
        " Amber India Restaurant 42ab7b00f964a52027251fe3\n",
        "56702"
       ]
      },
      {
       "output_type": "stream",
       "stream": "stdout",
       "text": [
        " Watercourse Way Bathhouse Spa 446f1af3f964a5207c331fe3\n",
        "56703"
       ]
      },
      {
       "output_type": "stream",
       "stream": "stdout",
       "text": [
        " Athena Grill 4b8d7103f964a52010fc32e3\n",
        "56704"
       ]
      },
      {
       "output_type": "stream",
       "stream": "stdout",
       "text": [
        " Polly Ann Ice Cream 49f5fab6f964a520e26b1fe3\n",
        "56705"
       ]
      },
      {
       "output_type": "stream",
       "stream": "stdout",
       "text": [
        " IKEA None\n",
        "56706"
       ]
      },
      {
       "output_type": "stream",
       "stream": "stdout",
       "text": [
        " Banana Island 43c50166f964a5205f2d1fe3\n",
        "56707"
       ]
      },
      {
       "output_type": "stream",
       "stream": "stdout",
       "text": [
        " Boogaloos None\n",
        "56708"
       ]
      },
      {
       "output_type": "stream",
       "stream": "stdout",
       "text": [
        " Shana Thai Restaurant 49dbd89cf964a5201b5f1fe3\n",
        "56709"
       ]
      },
      {
       "output_type": "stream",
       "stream": "stdout",
       "text": [
        " Americano 45603082f964a520973d1fe3\n",
        "56710"
       ]
      },
      {
       "output_type": "stream",
       "stream": "stdout",
       "text": [
        " Yummy Yummy 443fde11f964a5203a321fe3\n",
        "56711"
       ]
      },
      {
       "output_type": "stream",
       "stream": "stdout",
       "text": [
        " Smuggler's Cove 4afe6db4f964a520682f22e3\n",
        "56712"
       ]
      },
      {
       "output_type": "stream",
       "stream": "stdout",
       "text": [
        " Marica Restaurant 4b51489cf964a520bc4927e3\n",
        "56713"
       ]
      },
      {
       "output_type": "stream",
       "stream": "stdout",
       "text": [
        " Brickhouse Cafe 440db456f964a52097301fe3\n",
        "56714"
       ]
      },
      {
       "output_type": "stream",
       "stream": "stdout",
       "text": [
        " Wonderful Dessert & Cafe None\n",
        "56715"
       ]
      },
      {
       "output_type": "stream",
       "stream": "stdout",
       "text": [
        " Beard Papa's None\n",
        "56716"
       ]
      },
      {
       "output_type": "stream",
       "stream": "stdout",
       "text": [
        " Vessel 460c5fe0f964a520fe441fe3\n",
        "56717"
       ]
      },
      {
       "output_type": "stream",
       "stream": "stdout",
       "text": [
        " John Colins None\n",
        "56718"
       ]
      },
      {
       "output_type": "stream",
       "stream": "stdout",
       "text": [
        " La Mediterranee 4647948bf964a5209d461fe3\n",
        "56719"
       ]
      },
      {
       "output_type": "stream",
       "stream": "stdout",
       "text": [
        " Genova Delicatessen 4646ebc8f964a52091461fe3\n",
        "56720"
       ]
      },
      {
       "output_type": "stream",
       "stream": "stdout",
       "text": [
        " Kabab and Curry's 4afdbecff964a520792a22e3\n",
        "56721"
       ]
      },
      {
       "output_type": "stream",
       "stream": "stdout",
       "text": [
        " Buffalo Bill's Brew Pub 4a7cc510f964a52093ed1fe3\n",
        "56722"
       ]
      },
      {
       "output_type": "stream",
       "stream": "stdout",
       "text": [
        " Pluto's 4293c000f964a52030241fe3\n",
        "56723"
       ]
      },
      {
       "output_type": "stream",
       "stream": "stdout",
       "text": [
        " Denica's Real Food Kitchen 4b93edf7f964a5208b5a34e3\n",
        "56724"
       ]
      },
      {
       "output_type": "stream",
       "stream": "stdout",
       "text": [
        " Marco Polo Italian Ice Cream 49ee35c8f964a5203b681fe3\n",
        "56725"
       ]
      },
      {
       "output_type": "stream",
       "stream": "stdout",
       "text": [
        " Twenty Five Lusk 4c72eddd0e23b1f784201fdc\n",
        "56726"
       ]
      },
      {
       "output_type": "stream",
       "stream": "stdout",
       "text": [
        " Barbara's Fish Trap 4a6c8c21f964a520cad01fe3\n",
        "56727"
       ]
      },
      {
       "output_type": "stream",
       "stream": "stdout",
       "text": [
        " Picaro 41e46880f964a520e01e1fe3\n",
        "56728"
       ]
      },
      {
       "output_type": "stream",
       "stream": "stdout",
       "text": [
        " Kara's Cupcakes 4b140da8f964a520829c23e3\n",
        "56729"
       ]
      },
      {
       "output_type": "stream",
       "stream": "stdout",
       "text": [
        " Kasa Indian Eatery 49ecf1def964a520b3671fe3\n",
        "56730"
       ]
      },
      {
       "output_type": "stream",
       "stream": "stdout",
       "text": [
        " The Elite Cafe None\n",
        "56731"
       ]
      },
      {
       "output_type": "stream",
       "stream": "stdout",
       "text": [
        " Pho Huynh Hiep 2 - Kevin's Noodle House 4b1c7936f964a520b70724e3\n",
        "56732"
       ]
      },
      {
       "output_type": "stream",
       "stream": "stdout",
       "text": [
        " Harlot None\n",
        "56733"
       ]
      },
      {
       "output_type": "stream",
       "stream": "stdout",
       "text": [
        " Bisou 4bd48dfd5631c9b62399a230\n",
        "56734"
       ]
      },
      {
       "output_type": "stream",
       "stream": "stdout",
       "text": [
        " Picante 45fa9688f964a52057441fe3\n",
        "56735"
       ]
      },
      {
       "output_type": "stream",
       "stream": "stdout",
       "text": [
        " Gussie's Chicken & Waffles 4a74afc5f964a52033df1fe3\n",
        "56736"
       ]
      },
      {
       "output_type": "stream",
       "stream": "stdout",
       "text": [
        " Saul's Restaurant & Delicatessen 40ff0380f964a520430b1fe3\n",
        "56737"
       ]
      },
      {
       "output_type": "stream",
       "stream": "stdout",
       "text": [
        " Calzone's Pizza Cucina 4f32486619836c91c7c85ff0\n",
        "56738"
       ]
      },
      {
       "output_type": "stream",
       "stream": "stdout",
       "text": [
        " Beard Papa's Cream Puffs 446dcedaf964a5206b331fe3\n",
        "56739"
       ]
      },
      {
       "output_type": "stream",
       "stream": "stdout",
       "text": [
        " Kingfish Restaurant 4ab5b543f964a520e07520e3\n",
        "56740"
       ]
      },
      {
       "output_type": "stream",
       "stream": "stdout",
       "text": [
        " Old Town Sushi 4acb9f6df964a520a9c420e3\n",
        "56741"
       ]
      },
      {
       "output_type": "stream",
       "stream": "stdout",
       "text": [
        " Blondie's Pizza 4a36f570f964a520109e1fe3\n",
        "56742"
       ]
      },
      {
       "output_type": "stream",
       "stream": "stdout",
       "text": [
        " Crustacean Restaurant 4aab1080f964a520c65820e3\n",
        "56743"
       ]
      },
      {
       "output_type": "stream",
       "stream": "stdout",
       "text": [
        " Koo 44a93c68f964a520f9341fe3\n",
        "56744"
       ]
      },
      {
       "output_type": "stream",
       "stream": "stdout",
       "text": [
        " Sushi Zone 4c1f9a12b306c92885ad68b7\n",
        "56745"
       ]
      },
      {
       "output_type": "stream",
       "stream": "stdout",
       "text": [
        " Sushi O Sushi 43768200f964a5204e2a1fe3\n",
        "56746"
       ]
      },
      {
       "output_type": "stream",
       "stream": "stdout",
       "text": [
        " Great China 52afcc5e498e0ad883a9f1bb\n",
        "56747"
       ]
      },
      {
       "output_type": "stream",
       "stream": "stdout",
       "text": [
        " Oren's Hummus Shop 4df7ce8315205e0e3f6b06a4\n",
        "56748"
       ]
      },
      {
       "output_type": "stream",
       "stream": "stdout",
       "text": [
        " Pizza Orgasmica & Brewing Company 437e6b00f964a520be2a1fe3\n",
        "56749"
       ]
      },
      {
       "output_type": "stream",
       "stream": "stdout",
       "text": [
        " Le Cheval 43388b80f964a52030281fe3\n",
        "56750"
       ]
      },
      {
       "output_type": "stream",
       "stream": "stdout",
       "text": [
        " Five Guys Burgers and Fries 4c113e89a9420f47de6b7c51\n",
        "56751"
       ]
      },
      {
       "output_type": "stream",
       "stream": "stdout",
       "text": [
        " Lol\u00f3 49dcd054f964a520a45f1fe3\n",
        "56752"
       ]
      },
      {
       "output_type": "stream",
       "stream": "stdout",
       "text": [
        " Cafe Borrone 44ef7327f964a520ed371fe3\n",
        "56753"
       ]
      },
      {
       "output_type": "stream",
       "stream": "stdout",
       "text": [
        " Mr. and Mrs. Miscellaneous 4bf313f7370e76b0c956bd4a\n",
        "56754"
       ]
      },
      {
       "output_type": "stream",
       "stream": "stdout",
       "text": [
        " Chutney 4ac44acdf964a520949e20e3\n",
        "56755"
       ]
      },
      {
       "output_type": "stream",
       "stream": "stdout",
       "text": [
        " Shalimar Restaurant 49e2a716f964a52048621fe3\n",
        "56756"
       ]
      },
      {
       "output_type": "stream",
       "stream": "stdout",
       "text": [
        " Crepevine 4538e8c4f964a520d33b1fe3\n",
        "56757"
       ]
      },
      {
       "output_type": "stream",
       "stream": "stdout",
       "text": [
        " Wally's Cafe 4a7e4c1df964a520b7f11fe3\n",
        "56758"
       ]
      },
      {
       "output_type": "stream",
       "stream": "stdout",
       "text": [
        " Sweet Maple 4cc0b6dced033704295da923\n",
        "56759"
       ]
      },
      {
       "output_type": "stream",
       "stream": "stdout",
       "text": [
        " Pho Phu Quoc PPQ Beef Noodle House Restaurant 43c8ff1df964a520932d1fe3\n",
        "56760"
       ]
      },
      {
       "output_type": "stream",
       "stream": "stdout",
       "text": [
        " Brothers Restaurant 3fd66200f964a520deec1ee3\n",
        "56761"
       ]
      },
      {
       "output_type": "stream",
       "stream": "stdout",
       "text": [
        " The Codmother Fish and Chips 4db745f6ec8ec02e306c3d40\n",
        "56762"
       ]
      },
      {
       "output_type": "stream",
       "stream": "stdout",
       "text": [
        " Sushi Ran 43c3ad7ef964a520542d1fe3\n",
        "56763"
       ]
      },
      {
       "output_type": "stream",
       "stream": "stdout",
       "text": [
        " Boulevard Cafe 49e9de32f964a52006661fe3\n",
        "56764"
       ]
      },
      {
       "output_type": "stream",
       "stream": "stdout",
       "text": [
        " Tommy's Restaurant 3fd66200f964a520a3ec1ee3\n",
        "56765"
       ]
      },
      {
       "output_type": "stream",
       "stream": "stdout",
       "text": [
        " Akiko's Restaurant 49e7e380f964a52027651fe3\n",
        "56766"
       ]
      },
      {
       "output_type": "stream",
       "stream": "stdout",
       "text": [
        " TrueBurger 4b6c87f5f964a52031412ce3\n",
        "56767"
       ]
      },
      {
       "output_type": "stream",
       "stream": "stdout",
       "text": [
        " Koh Samui & The Monkey 43ecd8f5f964a520472f1fe3\n",
        "56768"
       ]
      },
      {
       "output_type": "stream",
       "stream": "stdout",
       "text": [
        " Shalimar Restaurant 42b21280f964a5206b251fe3\n",
        "56769"
       ]
      },
      {
       "output_type": "stream",
       "stream": "stdout",
       "text": [
        " Farallon 3fd66200f964a52023ed1ee3\n",
        "56770"
       ]
      },
      {
       "output_type": "stream",
       "stream": "stdout",
       "text": [
        " Good Luck Dim Sum 3fd66200f964a520f0ec1ee3\n",
        "56771"
       ]
      },
      {
       "output_type": "stream",
       "stream": "stdout",
       "text": [
        " B Street & Vine 4a0cf910f964a52073751fe3\n",
        "56772"
       ]
      },
      {
       "output_type": "stream",
       "stream": "stdout",
       "text": [
        " Umami 4a0e428cf964a520da751fe3\n",
        "56773"
       ]
      },
      {
       "output_type": "stream",
       "stream": "stdout",
       "text": [
        " Velvet Cantina 43c148e5f964a5203f2d1fe3\n",
        "56774"
       ]
      },
      {
       "output_type": "stream",
       "stream": "stdout",
       "text": [
        " Flora Restaurant & Bar 49e8e0fff964a520a4651fe3\n",
        "56775"
       ]
      },
      {
       "output_type": "stream",
       "stream": "stdout",
       "text": [
        " Chouchou Bistro 40f9bd80f964a520d50a1fe3\n",
        "56776"
       ]
      },
      {
       "output_type": "stream",
       "stream": "stdout",
       "text": [
        " Goat Hill Pizza 413e4b80f964a520521c1fe3\n",
        "56777"
       ]
      },
      {
       "output_type": "stream",
       "stream": "stdout",
       "text": [
        " Manpuku 4a98906bf964a520b82c20e3\n",
        "56778"
       ]
      },
      {
       "output_type": "stream",
       "stream": "stdout",
       "text": [
        " Coupa Caf\u00e9 43616a00f964a52037291fe3\n",
        "56779"
       ]
      },
      {
       "output_type": "stream",
       "stream": "stdout",
       "text": [
        " Ocean Blue Sushi Club 4a2b3514f964a520b7961fe3\n",
        "56780"
       ]
      },
      {
       "output_type": "stream",
       "stream": "stdout",
       "text": [
        " Yoshi's Oakland 459e2e1df964a520b2401fe3\n",
        "56781"
       ]
      },
      {
       "output_type": "stream",
       "stream": "stdout",
       "text": [
        " Delancey Street Restaurant 49ec92dff964a5206a671fe3\n",
        "56782"
       ]
      },
      {
       "output_type": "stream",
       "stream": "stdout",
       "text": [
        " Tea Era 4a61202bf964a520f1c11fe3\n",
        "56783"
       ]
      },
      {
       "output_type": "stream",
       "stream": "stdout",
       "text": [
        " Barbacco 4b47a128f964a520203826e3\n",
        "56784"
       ]
      },
      {
       "output_type": "stream",
       "stream": "stdout",
       "text": [
        " Teacake Bake Shop 4a28526af964a5200e951fe3\n",
        "56785"
       ]
      },
      {
       "output_type": "stream",
       "stream": "stdout",
       "text": [
        " IKEA 445a2c5ff964a520e2321fe3\n",
        "56786"
       ]
      },
      {
       "output_type": "stream",
       "stream": "stdout",
       "text": [
        " Melting Pot 47124c9ff964a520a14b1fe3\n",
        "56787"
       ]
      },
      {
       "output_type": "stream",
       "stream": "stdout",
       "text": [
        " Sauce 42055e00f964a5206d1f1fe3\n",
        "56788"
       ]
      },
      {
       "output_type": "stream",
       "stream": "stdout",
       "text": [
        " Great Eastern Restaurant 4a824219f964a5200cf91fe3\n",
        "56789"
       ]
      },
      {
       "output_type": "stream",
       "stream": "stdout",
       "text": [
        " Slide 451af976f964a520773a1fe3\n",
        "56790"
       ]
      },
      {
       "output_type": "stream",
       "stream": "stdout",
       "text": [
        " Quince 4a3dd25bf964a520b1a21fe3\n",
        "56791"
       ]
      },
      {
       "output_type": "stream",
       "stream": "stdout",
       "text": [
        " Hot Cookie 43efd1ecf964a520712f1fe3\n",
        "56792"
       ]
      },
      {
       "output_type": "stream",
       "stream": "stdout",
       "text": [
        " Pancho Villa Taqueria 45bce3b8f964a5200c421fe3\n",
        "56793"
       ]
      },
      {
       "output_type": "stream",
       "stream": "stdout",
       "text": [
        " \u00c0 C\u00f4t\u00e9 44ec3e24f964a520cf371fe3\n",
        "56794"
       ]
      },
      {
       "output_type": "stream",
       "stream": "stdout",
       "text": [
        " Frances 4b00cb8ef964a520274122e3\n",
        "56795"
       ]
      },
      {
       "output_type": "stream",
       "stream": "stdout",
       "text": [
        " Universal Cafe 40e0b100f964a520e2091fe3\n",
        "56796"
       ]
      },
      {
       "output_type": "stream",
       "stream": "stdout",
       "text": [
        " Just For You Cafe 43dc10aef964a5209a2e1fe3\n",
        "56797"
       ]
      },
      {
       "output_type": "stream",
       "stream": "stdout",
       "text": [
        " Esperpento 49e240bdf964a520ff611fe3\n",
        "56798"
       ]
      },
      {
       "output_type": "stream",
       "stream": "stdout",
       "text": [
        " The Little Chihuahua 49daea87f964a520be5e1fe3\n",
        "56799"
       ]
      },
      {
       "output_type": "stream",
       "stream": "stdout",
       "text": [
        " Cooking Papa Restaurant 4bb415e59af3b713a4ff8b28\n",
        "56800"
       ]
      },
      {
       "output_type": "stream",
       "stream": "stdout",
       "text": [
        " The Fillmore None\n",
        "56801"
       ]
      },
      {
       "output_type": "stream",
       "stream": "stdout",
       "text": [
        " Suzu Noodle House 4a09a350f964a52041741fe3\n",
        "56802"
       ]
      },
      {
       "output_type": "stream",
       "stream": "stdout",
       "text": [
        " Source 4d7944e7ece5a1cd62b9a2a4\n",
        "56803"
       ]
      },
      {
       "output_type": "stream",
       "stream": "stdout",
       "text": [
        " Frjtz 4a5aaa99f964a520baba1fe3\n",
        "56804"
       ]
      },
      {
       "output_type": "stream",
       "stream": "stdout",
       "text": [
        " Butter 410c3280f964a520ba0b1fe3\n",
        "56805"
       ]
      },
      {
       "output_type": "stream",
       "stream": "stdout",
       "text": [
        " Elbo Room 43b6c65cf964a520cf2c1fe3\n",
        "56806"
       ]
      },
      {
       "output_type": "stream",
       "stream": "stdout",
       "text": [
        " Gorilla Barbeque 4a60da12f964a5204bc11fe3\n",
        "56807"
       ]
      },
      {
       "output_type": "stream",
       "stream": "stdout",
       "text": [
        " Amoeba Music 3fd66200f964a52057ed1ee3\n",
        "56808"
       ]
      },
      {
       "output_type": "stream",
       "stream": "stdout",
       "text": [
        " Miller's East Coast Deli 46865b76f964a5203e481fe3\n",
        "56809"
       ]
      },
      {
       "output_type": "stream",
       "stream": "stdout",
       "text": [
        " The Refuge 49f9114bf964a520586d1fe3\n",
        "56810"
       ]
      },
      {
       "output_type": "stream",
       "stream": "stdout",
       "text": [
        " Tacolicious 4b4bf0e8f964a520bdab26e3\n",
        "56811"
       ]
      },
      {
       "output_type": "stream",
       "stream": "stdout",
       "text": [
        " Don Pisto's 51a03e80498e3b4c54eea432\n",
        "56812"
       ]
      },
      {
       "output_type": "stream",
       "stream": "stdout",
       "text": [
        " Caf\u00e9 de la Presse 45f40797f964a520f4431fe3\n",
        "56813"
       ]
      },
      {
       "output_type": "stream",
       "stream": "stdout",
       "text": [
        " Basil Thai Restaurant & Bar 435c2400f964a5200e291fe3\n",
        "56814"
       ]
      },
      {
       "output_type": "stream",
       "stream": "stdout",
       "text": [
        " Honey Honey Cafe & Crepery 49dad117f964a520b65e1fe3\n",
        "56815"
       ]
      },
      {
       "output_type": "stream",
       "stream": "stdout",
       "text": [
        " Trattoria La Siciliana None\n",
        "56816"
       ]
      },
      {
       "output_type": "stream",
       "stream": "stdout",
       "text": [
        " Ton Kiang None\n",
        "56817"
       ]
      },
      {
       "output_type": "stream",
       "stream": "stdout",
       "text": [
        " T-Rex Barbeque Restaurant & Bar 4ad53f28f964a520830221e3\n",
        "56818"
       ]
      },
      {
       "output_type": "stream",
       "stream": "stdout",
       "text": [
        " Amelie 46aca347f964a52075491fe3\n",
        "56819"
       ]
      },
      {
       "output_type": "stream",
       "stream": "stdout",
       "text": [
        " Kaenyama Sushi and Teppanyaki Restaurant 4be60b41910020a1e1e7d314\n",
        "56820"
       ]
      },
      {
       "output_type": "stream",
       "stream": "stdout",
       "text": [
        " Hong Kong Lounge None\n",
        "56821"
       ]
      },
      {
       "output_type": "stream",
       "stream": "stdout",
       "text": [
        " The Tipsy Pig 49dba3b4f964a520e25e1fe3\n",
        "56822"
       ]
      },
      {
       "output_type": "stream",
       "stream": "stdout",
       "text": [
        " Gitane 49baa46af964a5208f531fe3\n",
        "56823"
       ]
      },
      {
       "output_type": "stream",
       "stream": "stdout",
       "text": [
        " Pork Store Cafe 3fd66200f964a52024ee1ee3\n",
        "56824"
       ]
      },
      {
       "output_type": "stream",
       "stream": "stdout",
       "text": [
        " Serpentine 47629427f964a520e54c1fe3\n",
        "56825"
       ]
      },
      {
       "output_type": "stream",
       "stream": "stdout",
       "text": [
        " Paris Baguette 4a62aa1af964a5206fc41fe3\n",
        "56826"
       ]
      },
      {
       "output_type": "stream",
       "stream": "stdout",
       "text": [
        " Coconuts Caribbean Restaurant & Bar None\n",
        "56827"
       ]
      },
      {
       "output_type": "stream",
       "stream": "stdout",
       "text": [
        " One Market Restaurant 44b2a62df964a52042351fe3\n",
        "56828"
       ]
      },
      {
       "output_type": "stream",
       "stream": "stdout",
       "text": [
        " Sala Thai 4b3d7945f964a520a99425e3\n",
        "56829"
       ]
      },
      {
       "output_type": "stream",
       "stream": "stdout",
       "text": [
        " Mamacita 437bc800f964a520792a1fe3\n",
        "56830"
       ]
      },
      {
       "output_type": "stream",
       "stream": "stdout",
       "text": [
        " Muracci's Japanese Curry & Grill 49ba1813f964a52059531fe3\n",
        "56831"
       ]
      },
      {
       "output_type": "stream",
       "stream": "stdout",
       "text": [
        " La M\u00e9diterran\u00e9e 43cc0e7df964a520c92d1fe3\n",
        "56832"
       ]
      },
      {
       "output_type": "stream",
       "stream": "stdout",
       "text": [
        " Lime Tree Southeast Asian Kitchen 471de6f7f964a520ba4b1fe3\n",
        "56833"
       ]
      },
      {
       "output_type": "stream",
       "stream": "stdout",
       "text": [
        " Plow 4c966048f244b1f7b0e6331d\n",
        "56834"
       ]
      },
      {
       "output_type": "stream",
       "stream": "stdout",
       "text": [
        " Toyose 4a73619af964a52050dc1fe3\n",
        "56835"
       ]
      },
      {
       "output_type": "stream",
       "stream": "stdout",
       "text": [
        " Burma Superstar 4b3fcf3cf964a52058af25e3\n",
        "56836"
       ]
      },
      {
       "output_type": "stream",
       "stream": "stdout",
       "text": [
        " Roam Artisan Burgers 4c2176b99390c9b61127c9cd\n",
        "56837"
       ]
      },
      {
       "output_type": "stream",
       "stream": "stdout",
       "text": [
        " Naan N Curry 43bbe413f964a520f22c1fe3\n",
        "56838"
       ]
      },
      {
       "output_type": "stream",
       "stream": "stdout",
       "text": [
        " Bocanova 4a98898cf964a520962c20e3\n",
        "56839"
       ]
      },
      {
       "output_type": "stream",
       "stream": "stdout",
       "text": [
        " The Trappist 4792385cf964a520524d1fe3\n",
        "56840"
       ]
      },
      {
       "output_type": "stream",
       "stream": "stdout",
       "text": [
        " Woodhouse Fish Company 44a4f50ef964a520e7341fe3\n",
        "56841"
       ]
      },
      {
       "output_type": "stream",
       "stream": "stdout",
       "text": [
        " Pizzaiolo 4a1b8f74f964a520ff7a1fe3\n",
        "56842"
       ]
      },
      {
       "output_type": "stream",
       "stream": "stdout",
       "text": [
        " Geta 4a04f6b4f964a52043721fe3\n",
        "56843"
       ]
      },
      {
       "output_type": "stream",
       "stream": "stdout",
       "text": [
        " Va de Vi Bistro & Wine Bar 4ad15593f964a52018de20e3\n",
        "56844"
       ]
      },
      {
       "output_type": "stream",
       "stream": "stdout",
       "text": [
        " Blue Plate 43601880f964a52023291fe3\n",
        "56845"
       ]
      },
      {
       "output_type": "stream",
       "stream": "stdout",
       "text": [
        " Outerlands 4a354111f964a520ad9c1fe3\n",
        "56846"
       ]
      },
      {
       "output_type": "stream",
       "stream": "stdout",
       "text": [
        " Mission Pie 463c010af964a52027461fe3\n",
        "56847"
       ]
      },
      {
       "output_type": "stream",
       "stream": "stdout",
       "text": [
        " Pizzeria Delfina 49fdbacbf964a520236f1fe3\n",
        "56848"
       ]
      },
      {
       "output_type": "stream",
       "stream": "stdout",
       "text": [
        " Sears Fine Food None\n",
        "56849"
       ]
      },
      {
       "output_type": "stream",
       "stream": "stdout",
       "text": [
        " Prospect 4c09054ca1b32d7fb1e296f0\n",
        "56850"
       ]
      },
      {
       "output_type": "stream",
       "stream": "stdout",
       "text": [
        " Little Delhi 4a189db1f964a520d2791fe3\n",
        "56851"
       ]
      },
      {
       "output_type": "stream",
       "stream": "stdout",
       "text": [
        " 1300 on Fillmore 49f2af6df964a5205b6a1fe3\n",
        "56852"
       ]
      },
      {
       "output_type": "stream",
       "stream": "stdout",
       "text": [
        " Sunflower Authentic Vietnamese Restaurant 48490adff964a52079501fe3\n",
        "56853"
       ]
      },
      {
       "output_type": "stream",
       "stream": "stdout",
       "text": [
        " Joy Sushi 4a68bb81f964a520e3ca1fe3\n",
        "56854"
       ]
      },
      {
       "output_type": "stream",
       "stream": "stdout",
       "text": [
        " The Sentinel 49defb9ff964a520b9601fe3\n",
        "56855"
       ]
      },
      {
       "output_type": "stream",
       "stream": "stdout",
       "text": [
        " Saigon Seafood Harbor Restaurant 49fdc149f964a520266f1fe3\n",
        "56856"
       ]
      },
      {
       "output_type": "stream",
       "stream": "stdout",
       "text": [
        " Straits Cafe 49e6cf47f964a52071641fe3\n",
        "56857"
       ]
      },
      {
       "output_type": "stream",
       "stream": "stdout",
       "text": [
        " Philz Coffee 4a844f01f964a5203bfc1fe3\n",
        "56858"
       ]
      },
      {
       "output_type": "stream",
       "stream": "stdout",
       "text": [
        " Buca di Beppo 4a6cbe6cf964a5207ed11fe3\n",
        "56859"
       ]
      },
      {
       "output_type": "stream",
       "stream": "stdout",
       "text": [
        " Fish. None\n",
        "56860"
       ]
      },
      {
       "output_type": "stream",
       "stream": "stdout",
       "text": [
        " BJ's Restaurant & Brewhouse 454f462ff964a520d53c1fe3\n",
        "56861"
       ]
      },
      {
       "output_type": "stream",
       "stream": "stdout",
       "text": [
        " The Grove Fillmore 425c6100f964a520fd201fe3\n",
        "56862"
       ]
      },
      {
       "output_type": "stream",
       "stream": "stdout",
       "text": [
        " Espetus Churrascaria None\n",
        "56863"
       ]
      },
      {
       "output_type": "stream",
       "stream": "stdout",
       "text": [
        " Chop Bar None\n",
        "56864"
       ]
      },
      {
       "output_type": "stream",
       "stream": "stdout",
       "text": [
        " Zushi Puzzle 43ee0337f964a5205b2f1fe3\n",
        "56865"
       ]
      },
      {
       "output_type": "stream",
       "stream": "stdout",
       "text": [
        " The Citrus Club 43695300f964a52084291fe3\n",
        "56866"
       ]
      },
      {
       "output_type": "stream",
       "stream": "stdout",
       "text": [
        " Smoking Pig Bbq 4e4d753ac65be7ec3abbee91\n",
        "56867"
       ]
      },
      {
       "output_type": "stream",
       "stream": "stdout",
       "text": [
        " Starbelly 4a789bbbf964a52004e61fe3\n",
        "56868"
       ]
      },
      {
       "output_type": "stream",
       "stream": "stdout",
       "text": [
        " In-N-Out Burger 43f08afdf964a520752f1fe3\n",
        "56869"
       ]
      },
      {
       "output_type": "stream",
       "stream": "stdout",
       "text": [
        " Everett & Jones Barbeque 4a067eb8f964a520fb721fe3\n",
        "56870"
       ]
      },
      {
       "output_type": "stream",
       "stream": "stdout",
       "text": [
        " Joya 4a3b2217f964a52093a01fe3\n",
        "56871"
       ]
      },
      {
       "output_type": "stream",
       "stream": "stdout",
       "text": [
        " La Folie 49e04b9af964a5204f611fe3\n",
        "56872"
       ]
      },
      {
       "output_type": "stream",
       "stream": "stdout",
       "text": [
        " E' Tutto Qua 4a46a5d9f964a5203da91fe3\n",
        "56873"
       ]
      },
      {
       "output_type": "stream",
       "stream": "stdout",
       "text": [
        " Farina Focaccia & Cucina Italiana 46c21a36f964a520f6491fe3\n",
        "56874"
       ]
      },
      {
       "output_type": "stream",
       "stream": "stdout",
       "text": [
        " La Bodeguita Del Medio 4a43cb01f964a520d2a61fe3\n",
        "56875"
       ]
      },
      {
       "output_type": "stream",
       "stream": "stdout",
       "text": [
        " Anchor & Hope 49d111f5f964a520575b1fe3\n",
        "56876"
       ]
      },
      {
       "output_type": "stream",
       "stream": "stdout",
       "text": [
        " The American Grilled Cheese Kitchen 4bd1e1f1a8b3a593bb9e665f\n",
        "56877"
       ]
      },
      {
       "output_type": "stream",
       "stream": "stdout",
       "text": [
        " Kara's Cupcakes 4ab57ffcf964a520007520e3\n",
        "56878"
       ]
      },
      {
       "output_type": "stream",
       "stream": "stdout",
       "text": [
        " Broken Record 47224f85f964a520cd4b1fe3\n",
        "56879"
       ]
      },
      {
       "output_type": "stream",
       "stream": "stdout",
       "text": [
        " RN74 4bbe7a6f30c99c7471e55311\n",
        "56880"
       ]
      },
      {
       "output_type": "stream",
       "stream": "stdout",
       "text": [
        " Pic\u00e1n 4a23f4edf964a520ed7d1fe3\n",
        "56881"
       ]
      },
      {
       "output_type": "stream",
       "stream": "stdout",
       "text": [
        " Sushirrito 4d361dbd068da090bd0cc782\n",
        "56882"
       ]
      },
      {
       "output_type": "stream",
       "stream": "stdout",
       "text": [
        " Bon Chon Chicken 4cc9cb24d338236adfbca47c\n",
        "56883"
       ]
      },
      {
       "output_type": "stream",
       "stream": "stdout",
       "text": [
        " Kirala Japanese Restaurant 3fd66200f964a52011ed1ee3\n",
        "56884"
       ]
      },
      {
       "output_type": "stream",
       "stream": "stdout",
       "text": [
        " Green Apple Books 42717900f964a52076211fe3\n",
        "56885"
       ]
      },
      {
       "output_type": "stream",
       "stream": "stdout",
       "text": [
        " Philz Coffee 4a622c74f964a52048c31fe3\n",
        "56886"
       ]
      },
      {
       "output_type": "stream",
       "stream": "stdout",
       "text": [
        " MoGo BBQ 4b5e0861f964a520237a29e3\n",
        "56887"
       ]
      },
      {
       "output_type": "stream",
       "stream": "stdout",
       "text": [
        " Schubert's Bakery 4ad6765ef964a5204c0721e3\n",
        "56888"
       ]
      },
      {
       "output_type": "stream",
       "stream": "stdout",
       "text": [
        " Jack's Prime Burgers & Shakes 4a18fcabf964a520017a1fe3\n",
        "56889"
       ]
      },
      {
       "output_type": "stream",
       "stream": "stdout",
       "text": [
        " Stacks 466299c2f964a5206b471fe3\n",
        "56890"
       ]
      },
      {
       "output_type": "stream",
       "stream": "stdout",
       "text": [
        " Farmerbrown's Little Skillet 4a0c561df964a52022751fe3\n",
        "56891"
       ]
      },
      {
       "output_type": "stream",
       "stream": "stdout",
       "text": [
        " Tamarine 4202bb00f964a520621f1fe3\n",
        "56892"
       ]
      },
      {
       "output_type": "stream",
       "stream": "stdout",
       "text": [
        " Papalote Mexican Grill 4426e666f964a520b3311fe3\n",
        "56893"
       ]
      },
      {
       "output_type": "stream",
       "stream": "stdout",
       "text": [
        " Nihon Whisky Lounge 44386771f964a52016321fe3\n",
        "56894"
       ]
      },
      {
       "output_type": "stream",
       "stream": "stdout",
       "text": [
        " Marnee Thai 49bb1b50f964a520d3531fe3\n",
        "56895"
       ]
      },
      {
       "output_type": "stream",
       "stream": "stdout",
       "text": [
        " Ebisu 3fd66200f964a52017ed1ee3\n",
        "56896"
       ]
      },
      {
       "output_type": "stream",
       "stream": "stdout",
       "text": [
        " Tommaso's Ristorante Italiano 49e05c38f964a52052611fe3\n",
        "56897"
       ]
      },
      {
       "output_type": "stream",
       "stream": "stdout",
       "text": [
        " Country Way 4ae34316f964a520859221e3\n",
        "56898"
       ]
      },
      {
       "output_type": "stream",
       "stream": "stdout",
       "text": [
        " Pacific Catch 49d050a3f964a5201c5b1fe3\n",
        "56899"
       ]
      },
      {
       "output_type": "stream",
       "stream": "stdout",
       "text": [
        " Emmy's Spaghetti Shack 42accc80f964a52039251fe3\n",
        "56900"
       ]
      },
      {
       "output_type": "stream",
       "stream": "stdout",
       "text": [
        " SO None\n",
        "56901"
       ]
      },
      {
       "output_type": "stream",
       "stream": "stdout",
       "text": [
        " Little Sheep Mongolian Hot Pot 491dda14f964a5207c521fe3\n",
        "56902"
       ]
      },
      {
       "output_type": "stream",
       "stream": "stdout",
       "text": [
        " Bette's Oceanview Diner 49dcd103f964a520a55f1fe3\n",
        "56903"
       ]
      },
      {
       "output_type": "stream",
       "stream": "stdout",
       "text": [
        " Burma Superstar 49f7e4d7f964a520e96c1fe3\n",
        "56904"
       ]
      },
      {
       "output_type": "stream",
       "stream": "stdout",
       "text": [
        " Marlowe 4b71ed7af964a520b3642de3\n",
        "56905"
       ]
      },
      {
       "output_type": "stream",
       "stream": "stdout",
       "text": [
        " Infusion Lounge 49efbb13f964a520fc681fe3\n",
        "56906"
       ]
      },
      {
       "output_type": "stream",
       "stream": "stdout",
       "text": [
        " Patxi's Pizza 42b9fb80f964a52097251fe3\n",
        "56907"
       ]
      },
      {
       "output_type": "stream",
       "stream": "stdout",
       "text": [
        " Tanpopo 49e8b000f964a5206a651fe3\n",
        "56908"
       ]
      },
      {
       "output_type": "stream",
       "stream": "stdout",
       "text": [
        " Fleur de Lys 4a64f6e0f964a52015c71fe3\n",
        "56909"
       ]
      },
      {
       "output_type": "stream",
       "stream": "stdout",
       "text": [
        " Genki Ramen 4607c995f964a520d6441fe3\n",
        "56910"
       ]
      },
      {
       "output_type": "stream",
       "stream": "stdout",
       "text": [
        " Amber India 4acab395f964a520d8c220e3\n",
        "56911"
       ]
      },
      {
       "output_type": "stream",
       "stream": "stdout",
       "text": [
        " Hard Knox Cafe 49eb6c30f964a520d7661fe3\n",
        "56912"
       ]
      },
      {
       "output_type": "stream",
       "stream": "stdout",
       "text": [
        " Slow Club 40ad4680f964a52037f31ee3\n",
        "56913"
       ]
      },
      {
       "output_type": "stream",
       "stream": "stdout",
       "text": [
        " Rye None\n",
        "56914"
       ]
      },
      {
       "output_type": "stream",
       "stream": "stdout",
       "text": [
        " Nopalito 49be8fe0f964a520b9541fe3\n",
        "56915"
       ]
      },
      {
       "output_type": "stream",
       "stream": "stdout",
       "text": [
        " The Taco Shop At Underdog's 4adb9f2df964a520762921e3\n",
        "56916"
       ]
      },
      {
       "output_type": "stream",
       "stream": "stdout",
       "text": [
        " Firefly 44bb7f29f964a52090351fe3\n",
        "56917"
       ]
      },
      {
       "output_type": "stream",
       "stream": "stdout",
       "text": [
        " Marnee Thai 3fd66200f964a52021ed1ee3\n",
        "56918"
       ]
      },
      {
       "output_type": "stream",
       "stream": "stdout",
       "text": [
        " Woodhouse Fish Co. 4a73b153f964a52035dd1fe3\n",
        "56919"
       ]
      },
      {
       "output_type": "stream",
       "stream": "stdout",
       "text": [
        " Wood Tavern 46aa8a59f964a5205f491fe3\n",
        "56920"
       ]
      },
      {
       "output_type": "stream",
       "stream": "stdout",
       "text": [
        " Jardini\u00e8re 49d3e017f964a5201e5c1fe3\n",
        "56921"
       ]
      },
      {
       "output_type": "stream",
       "stream": "stdout",
       "text": [
        " The Chairman Truck 4f47f890e4b0a69abba168d0\n",
        "56922"
       ]
      },
      {
       "output_type": "stream",
       "stream": "stdout",
       "text": [
        " Bar Tartine 464348def964a5206e461fe3\n",
        "56923"
       ]
      },
      {
       "output_type": "stream",
       "stream": "stdout",
       "text": [
        " Shan Dong Restaurant 4a22d464f964a520927d1fe3\n",
        "56924"
       ]
      },
      {
       "output_type": "stream",
       "stream": "stdout",
       "text": [
        " Champa Garden 49b0cff5f964a520d0521fe3\n",
        "56925"
       ]
      },
      {
       "output_type": "stream",
       "stream": "stdout",
       "text": [
        " Izakaya Sozai None\n",
        "56926"
       ]
      },
      {
       "output_type": "stream",
       "stream": "stdout",
       "text": [
        " Skates On The Bay 4a52b042f964a520eab11fe3\n",
        "56927"
       ]
      },
      {
       "output_type": "stream",
       "stream": "stdout",
       "text": [
        " Buena Vista Cafe 45487bc1f964a520833c1fe3\n",
        "56928"
       ]
      },
      {
       "output_type": "stream",
       "stream": "stdout",
       "text": [
        " Luka's Taproom 42926e80f964a52026241fe3\n",
        "56929"
       ]
      },
      {
       "output_type": "stream",
       "stream": "stdout",
       "text": [
        " Blowfish Sushi 40e0b100f964a520e1091fe3\n",
        "56930"
       ]
      },
      {
       "output_type": "stream",
       "stream": "stdout",
       "text": [
        " B Star Bar 4c0095c6379020a128d1467f\n",
        "56931"
       ]
      },
      {
       "output_type": "stream",
       "stream": "stdout",
       "text": [
        " Pacific Catch 49dd5b31f964a520fe5f1fe3\n",
        "56932"
       ]
      },
      {
       "output_type": "stream",
       "stream": "stdout",
       "text": [
        " Jang Su Jang 4a03953cf964a520cb711fe3\n",
        "56933"
       ]
      },
      {
       "output_type": "stream",
       "stream": "stdout",
       "text": [
        " Supperclub 4330a280f964a520fa271fe3\n",
        "56934"
       ]
      },
      {
       "output_type": "stream",
       "stream": "stdout",
       "text": [
        " Berkeley Bowl 43a47bc4f964a5204b2c1fe3\n",
        "56935"
       ]
      },
      {
       "output_type": "stream",
       "stream": "stdout",
       "text": [
        " Anthony's Cookies 49d81871f964a520a45d1fe3\n",
        "56936"
       ]
      },
      {
       "output_type": "stream",
       "stream": "stdout",
       "text": [
        " Candybar 4831558ff964a520df4f1fe3\n",
        "56937"
       ]
      },
      {
       "output_type": "stream",
       "stream": "stdout",
       "text": [
        " Lers Ros Thai 49dd8602f964a52018601fe3\n",
        "56938"
       ]
      },
      {
       "output_type": "stream",
       "stream": "stdout",
       "text": [
        " Millbrae Pancake House 4b3d1163f964a5203a8d25e3\n",
        "56939"
       ]
      },
      {
       "output_type": "stream",
       "stream": "stdout",
       "text": [
        " Tadich Grill 49f67c43f964a520486c1fe3\n",
        "56940"
       ]
      },
      {
       "output_type": "stream",
       "stream": "stdout",
       "text": [
        " Shabu House 47fbb4e5f964a520d34e1fe3\n",
        "56941"
       ]
      },
      {
       "output_type": "stream",
       "stream": "stdout",
       "text": [
        " Circa 4540820cf964a5203c3c1fe3\n",
        "56942"
       ]
      },
      {
       "output_type": "stream",
       "stream": "stdout",
       "text": [
        " Betelnut 513e805ae4b05b7b6b66ef40\n",
        "56943"
       ]
      },
      {
       "output_type": "stream",
       "stream": "stdout",
       "text": [
        " Val's Burgers 4ae7a233f964a520eeac21e3\n",
        "56944"
       ]
      },
      {
       "output_type": "stream",
       "stream": "stdout",
       "text": [
        " Epic Roasthouse 4884e11ff964a5203e511fe3\n",
        "56945"
       ]
      },
      {
       "output_type": "stream",
       "stream": "stdout",
       "text": [
        " 900 Grayson 49ee31e5f964a52038681fe3\n",
        "56946"
       ]
      },
      {
       "output_type": "stream",
       "stream": "stdout",
       "text": [
        " Memphis Minnie's 42fa9500f964a520e2261fe3\n",
        "56947"
       ]
      },
      {
       "output_type": "stream",
       "stream": "stdout",
       "text": [
        " Sushi Bistro 436d4780f964a520c9291fe3\n",
        "56948"
       ]
      },
      {
       "output_type": "stream",
       "stream": "stdout",
       "text": [
        " Fraiche Yogurt None\n",
        "56949"
       ]
      },
      {
       "output_type": "stream",
       "stream": "stdout",
       "text": [
        " Super Duper Burgers 4ddd32f9d4c082f960d7fe2b\n",
        "56950"
       ]
      },
      {
       "output_type": "stream",
       "stream": "stdout",
       "text": [
        " Satomi Sushi 4ac3c138f964a520ae9c20e3\n",
        "56951"
       ]
      },
      {
       "output_type": "stream",
       "stream": "stdout",
       "text": [
        " La Penca Azul 4c8c456e5e048cfa62aecbcd\n",
        "56952"
       ]
      },
      {
       "output_type": "stream",
       "stream": "stdout",
       "text": [
        " Rickhouse 4a4ac040f964a52026ac1fe3\n",
        "56953"
       ]
      },
      {
       "output_type": "stream",
       "stream": "stdout",
       "text": [
        " Le Colonial 40dcbc80f964a52085011fe3\n",
        "56954"
       ]
      },
      {
       "output_type": "stream",
       "stream": "stdout",
       "text": [
        " Mandalay None\n",
        "56955"
       ]
      },
      {
       "output_type": "stream",
       "stream": "stdout",
       "text": [
        " Mingalaba None\n",
        "56956"
       ]
      },
      {
       "output_type": "stream",
       "stream": "stdout",
       "text": [
        " Yoshi's San Francisco 476c1aa6f964a520fd4c1fe3\n",
        "56957"
       ]
      },
      {
       "output_type": "stream",
       "stream": "stdout",
       "text": [
        " Yamo 45bb98bcf964a520f4411fe3\n",
        "56958"
       ]
      },
      {
       "output_type": "stream",
       "stream": "stdout",
       "text": [
        " Back A Yard Caribbean American Grill 49ea8f19f964a5207d661fe3\n",
        "56959"
       ]
      },
      {
       "output_type": "stream",
       "stream": "stdout",
       "text": [
        " Texas Roadhouse 4a934b53f964a520791f20e3\n",
        "56960"
       ]
      },
      {
       "output_type": "stream",
       "stream": "stdout",
       "text": [
        " My Tofu House 4387a580f964a5200f2b1fe3\n",
        "56961"
       ]
      },
      {
       "output_type": "stream",
       "stream": "stdout",
       "text": [
        " The Bubble Lounge 4d71e84e4ab5224b7633b797\n",
        "56962"
       ]
      },
      {
       "output_type": "stream",
       "stream": "stdout",
       "text": [
        " Spruce 4a64a8f4f964a5206cc61fe3\n",
        "56963"
       ]
      },
      {
       "output_type": "stream",
       "stream": "stdout",
       "text": [
        " BIX 3fd66200f964a5205af11ee3\n",
        "56964"
       ]
      },
      {
       "output_type": "stream",
       "stream": "stdout",
       "text": [
        " 5A5 Steak Lounge 4a011045f964a520d5701fe3\n",
        "56965"
       ]
      },
      {
       "output_type": "stream",
       "stream": "stdout",
       "text": [
        " Philz Coffee 44ce9913f964a52018361fe3\n",
        "56966"
       ]
      },
      {
       "output_type": "stream",
       "stream": "stdout",
       "text": [
        " Rainbow Grocery 4827b8b1f964a520bb4f1fe3\n",
        "56967"
       ]
      },
      {
       "output_type": "stream",
       "stream": "stdout",
       "text": [
        " Souley Vegan None\n",
        "56968"
       ]
      },
      {
       "output_type": "stream",
       "stream": "stdout",
       "text": [
        " Lake Chalet Seafood Bar & Grill 4ae27f53f964a520af8e21e3\n",
        "56969"
       ]
      },
      {
       "output_type": "stream",
       "stream": "stdout",
       "text": [
        " Ramen House Ryowa 44734b40f964a520aa331fe3\n",
        "56970"
       ]
      },
      {
       "output_type": "stream",
       "stream": "stdout",
       "text": [
        " AsiaSF 412fcb00f964a520160d1fe3\n",
        "56971"
       ]
      },
      {
       "output_type": "stream",
       "stream": "stdout",
       "text": [
        " Harris' Restaurant 3fd66200f964a5202cee1ee3\n",
        "56972"
       ]
      },
      {
       "output_type": "stream",
       "stream": "stdout",
       "text": [
        " Town 49f78793f964a520b16c1fe3\n",
        "56973"
       ]
      },
      {
       "output_type": "stream",
       "stream": "stdout",
       "text": [
        " Osha Thai Noodle Cafe None\n",
        "56974"
       ]
      },
      {
       "output_type": "stream",
       "stream": "stdout",
       "text": [
        " Chez Maman 44fc6d0bf964a52085381fe3\n",
        "56975"
       ]
      },
      {
       "output_type": "stream",
       "stream": "stdout",
       "text": [
        " ThirstyBear Brewing Company 40f71a80f964a520ae0a1fe3\n",
        "56976"
       ]
      },
      {
       "output_type": "stream",
       "stream": "stdout",
       "text": [
        " Hillstone 41044980f964a520700b1fe3\n",
        "56977"
       ]
      },
      {
       "output_type": "stream",
       "stream": "stdout",
       "text": [
        " Four Barrel Coffee None\n",
        "56978"
       ]
      },
      {
       "output_type": "stream",
       "stream": "stdout",
       "text": [
        " Sophie's Crepes 444f9d23f964a5209b321fe3\n",
        "56979"
       ]
      },
      {
       "output_type": "stream",
       "stream": "stdout",
       "text": [
        " Tres Tequila Lounge & Mexican Kitchen 4e1bebb781306017a4cd4cb3\n",
        "56980"
       ]
      },
      {
       "output_type": "stream",
       "stream": "stdout",
       "text": [
        " Ruby Skye None\n",
        "56981"
       ]
      },
      {
       "output_type": "stream",
       "stream": "stdout",
       "text": [
        " Kingdom of Dumpling 4a39a40bf964a520a69f1fe3\n",
        "56982"
       ]
      },
      {
       "output_type": "stream",
       "stream": "stdout",
       "text": [
        " Mua 4a18358cf964a5208e791fe3\n",
        "56983"
       ]
      },
      {
       "output_type": "stream",
       "stream": "stdout",
       "text": [
        " Colibri Mexican Bistro 4550e681f964a520e43c1fe3\n",
        "56984"
       ]
      },
      {
       "output_type": "stream",
       "stream": "stdout",
       "text": [
        " Kome Japanese Seafood & Grill Buffet 4b2d94d3f964a52031d924e3\n",
        "56985"
       ]
      },
      {
       "output_type": "stream",
       "stream": "stdout",
       "text": [
        " Bar Crudo 44e37004f964a52042371fe3\n",
        "56986"
       ]
      },
      {
       "output_type": "stream",
       "stream": "stdout",
       "text": [
        " Blue Bottle Coffee Co None\n",
        "56987"
       ]
      },
      {
       "output_type": "stream",
       "stream": "stdout",
       "text": [
        " Q Restaurant and Wine Bar 3fd66200f964a520d1ec1ee3\n",
        "56988"
       ]
      },
      {
       "output_type": "stream",
       "stream": "stdout",
       "text": [
        " Chez Panisse 40de0e00f964a5208e011fe3\n",
        "56989"
       ]
      },
      {
       "output_type": "stream",
       "stream": "stdout",
       "text": [
        " Arizmendi Bakery None\n",
        "56990"
       ]
      },
      {
       "output_type": "stream",
       "stream": "stdout",
       "text": [
        " Sushi Sam's Edomata 4f44a10719836ed001956427\n",
        "56991"
       ]
      },
      {
       "output_type": "stream",
       "stream": "stdout",
       "text": [
        " SPQR 4744d11ff964a520854c1fe3\n",
        "56992"
       ]
      },
      {
       "output_type": "stream",
       "stream": "stdout",
       "text": [
        " Boboquivari's 476a5dc2f964a520fa4c1fe3\n",
        "56993"
       ]
      },
      {
       "output_type": "stream",
       "stream": "stdout",
       "text": [
        " Samovar Tea Lounge 45e86d76f964a5206a431fe3\n",
        "56994"
       ]
      },
      {
       "output_type": "stream",
       "stream": "stdout",
       "text": [
        " Magnolia Pub & Brewery 3fd66200f964a52066ed1ee3\n",
        "56995"
       ]
      },
      {
       "output_type": "stream",
       "stream": "stdout",
       "text": [
        " Oola Restaurant & Bar 417ee500f964a520d71d1fe3\n",
        "56996"
       ]
      },
      {
       "output_type": "stream",
       "stream": "stdout",
       "text": [
        " Tonga Room & Hurricane Bar 3fd66200f964a52031f11ee3\n",
        "56997"
       ]
      },
      {
       "output_type": "stream",
       "stream": "stdout",
       "text": [
        " Tpumps 4df82ec9ae608a367ce91b45\n",
        "56998"
       ]
      },
      {
       "output_type": "stream",
       "stream": "stdout",
       "text": [
        " Evvia Estiatorio 481f5aadf964a520854f1fe3\n",
        "56999"
       ]
      },
      {
       "output_type": "stream",
       "stream": "stdout",
       "text": [
        " Ruth's Chris Steak House 43655e80f964a52060291fe3\n",
        "57000"
       ]
      },
      {
       "output_type": "stream",
       "stream": "stdout",
       "text": [
        " Zachary's Chicago Pizza 4ac6c80ff964a5203db620e3\n",
        "57001"
       ]
      },
      {
       "output_type": "stream",
       "stream": "stdout",
       "text": [
        " Rosamunde Sausage Grill 435ec700f964a5201c291fe3\n",
        "57002"
       ]
      },
      {
       "output_type": "stream",
       "stream": "stdout",
       "text": [
        " Salt House 45602bddf964a520963d1fe3\n",
        "57003"
       ]
      },
      {
       "output_type": "stream",
       "stream": "stdout",
       "text": [
        " Gochi Japanese Fusion Tapas 4a24925df964a520317e1fe3\n",
        "57004"
       ]
      },
      {
       "output_type": "stream",
       "stream": "stdout",
       "text": [
        " The Alembic 452d6647f964a520483b1fe3\n",
        "57005"
       ]
      },
      {
       "output_type": "stream",
       "stream": "stdout",
       "text": [
        " Smitten Ice Cream 4d964291daec224b08b9123e\n",
        "57006"
       ]
      },
      {
       "output_type": "stream",
       "stream": "stdout",
       "text": [
        " Dynamo Donuts and Coffee 49ccf971f964a520a6591fe3\n",
        "57007"
       ]
      },
      {
       "output_type": "stream",
       "stream": "stdout",
       "text": [
        " Patxi's Pizza 43d7e5dff964a5205d2e1fe3\n",
        "57008"
       ]
      },
      {
       "output_type": "stream",
       "stream": "stdout",
       "text": [
        " Toronado 3fd66200f964a5205ded1ee3\n",
        "57009"
       ]
      },
      {
       "output_type": "stream",
       "stream": "stdout",
       "text": [
        " Boudin Sourdough Bakery & Cafe 4ba7f1b9f964a520b8c039e3\n",
        "57010"
       ]
      },
      {
       "output_type": "stream",
       "stream": "stdout",
       "text": [
        " Chaya Brasserie 3fd66200f964a5202fed1ee3\n",
        "57011"
       ]
      },
      {
       "output_type": "stream",
       "stream": "stdout",
       "text": [
        " Pancho Villa Taqueria 43917d6df964a5205c2b1fe3\n",
        "57012"
       ]
      },
      {
       "output_type": "stream",
       "stream": "stdout",
       "text": [
        " Top Dog 4a7414a6f964a520b8dd1fe3\n",
        "57013"
       ]
      },
      {
       "output_type": "stream",
       "stream": "stdout",
       "text": [
        " Vik's Chaat None\n",
        "57014"
       ]
      },
      {
       "output_type": "stream",
       "stream": "stdout",
       "text": [
        " Pepper Lunch USA 4a47e19bf964a5203baa1fe3\n",
        "57015"
       ]
      },
      {
       "output_type": "stream",
       "stream": "stdout",
       "text": [
        " Cafe Claude 40f47780f964a520960a1fe3\n",
        "57016"
       ]
      },
      {
       "output_type": "stream",
       "stream": "stdout",
       "text": [
        " Pampas 485ce823f964a520d2501fe3\n",
        "57017"
       ]
      },
      {
       "output_type": "stream",
       "stream": "stdout",
       "text": [
        " Perbacco 459b7818f964a52089401fe3\n",
        "57018"
       ]
      },
      {
       "output_type": "stream",
       "stream": "stdout",
       "text": [
        " A 16 4587a2b6f964a520c63f1fe3\n",
        "57019"
       ]
      },
      {
       "output_type": "stream",
       "stream": "stdout",
       "text": [
        " Ryoko's Japanese Restaurant & Bar 433c8000f964a52043281fe3\n",
        "57020"
       ]
      },
      {
       "output_type": "stream",
       "stream": "stdout",
       "text": [
        " Delfina 4af303e1f964a520cee921e3\n",
        "57021"
       ]
      },
      {
       "output_type": "stream",
       "stream": "stdout",
       "text": [
        " Blue Bottle Coffee 43d3901ef964a5201f2e1fe3\n",
        "57022"
       ]
      },
      {
       "output_type": "stream",
       "stream": "stdout",
       "text": [
        " Himawari 4a67ccd4f964a52012ca1fe3\n",
        "57023"
       ]
      },
      {
       "output_type": "stream",
       "stream": "stdout",
       "text": [
        " Fresca 42b21280f964a52076251fe3\n",
        "57024"
       ]
      },
      {
       "output_type": "stream",
       "stream": "stdout",
       "text": [
        " Pearl's Deluxe Burgers 49c6844cf964a52054571fe3\n",
        "57025"
       ]
      },
      {
       "output_type": "stream",
       "stream": "stdout",
       "text": [
        " Hard Knox Cafe 46840627f964a5202d481fe3\n",
        "57026"
       ]
      },
      {
       "output_type": "stream",
       "stream": "stdout",
       "text": [
        " Ritual Coffee Roasters None\n",
        "57027"
       ]
      },
      {
       "output_type": "stream",
       "stream": "stdout",
       "text": [
        " Mission Chinese Food 4c325dd83896e21e6d6ee890\n",
        "57028"
       ]
      },
      {
       "output_type": "stream",
       "stream": "stdout",
       "text": [
        " Millennium 453a2ab0f964a520e63b1fe3\n",
        "57029"
       ]
      },
      {
       "output_type": "stream",
       "stream": "stdout",
       "text": [
        " Purple Kow 4e7fd43ebe7b414d61ef63d8\n",
        "57030"
       ]
      },
      {
       "output_type": "stream",
       "stream": "stdout",
       "text": [
        " The Beach Chalet Brewery & Restaurant 43cc06a3f964a520c72d1fe3\n",
        "57031"
       ]
      },
      {
       "output_type": "stream",
       "stream": "stdout",
       "text": [
        " Swan Oyster Depot 44d1ef97f964a52031361fe3\n",
        "57032"
       ]
      },
      {
       "output_type": "stream",
       "stream": "stdout",
       "text": [
        " Umami Burger 4e80db1a49012726b72494ec\n",
        "57033"
       ]
      },
      {
       "output_type": "stream",
       "stream": "stdout",
       "text": [
        " Taqueria Canc\u00fan 43e879cbf964a5200f2f1fe3\n",
        "57034"
       ]
      },
      {
       "output_type": "stream",
       "stream": "stdout",
       "text": [
        " Flour + Water 4a8b6942f964a520660c20e3\n",
        "57035"
       ]
      },
      {
       "output_type": "stream",
       "stream": "stdout",
       "text": [
        " Home of Chicken and Waffles 439abb44f964a520d22b1fe3\n",
        "57036"
       ]
      },
      {
       "output_type": "stream",
       "stream": "stdout",
       "text": [
        " Range 44b7cc5ef964a52076351fe3\n",
        "57037"
       ]
      },
      {
       "output_type": "stream",
       "stream": "stdout",
       "text": [
        " Sotto Mare 4aebaaccf964a52042c421e3\n",
        "57038"
       ]
      },
      {
       "output_type": "stream",
       "stream": "stdout",
       "text": [
        " Cha Cha Cha None\n",
        "57039"
       ]
      },
      {
       "output_type": "stream",
       "stream": "stdout",
       "text": [
        " St. John's Bar & Grill 435ec700f964a52020291fe3\n",
        "57040"
       ]
      },
      {
       "output_type": "stream",
       "stream": "stdout",
       "text": [
        " Isa 437d1980f964a520ae2a1fe3\n",
        "57041"
       ]
      },
      {
       "output_type": "stream",
       "stream": "stdout",
       "text": [
        " Gracias Madre 4b4955ccf964a520b86d26e3\n",
        "57042"
       ]
      },
      {
       "output_type": "stream",
       "stream": "stdout",
       "text": [
        " Xanh Restaurant 4a693c9af964a520d1cb1fe3\n",
        "57043"
       ]
      },
      {
       "output_type": "stream",
       "stream": "stdout",
       "text": [
        " Chow 3fd66200f964a52025f11ee3\n",
        "57044"
       ]
      },
      {
       "output_type": "stream",
       "stream": "stdout",
       "text": [
        " Ozumo 4aebd409f964a520e9c421e3\n",
        "57045"
       ]
      },
      {
       "output_type": "stream",
       "stream": "stdout",
       "text": [
        " Gr\u00e9goire 43ebbf8bf964a5203b2f1fe3\n",
        "57046"
       ]
      },
      {
       "output_type": "stream",
       "stream": "stdout",
       "text": [
        " Bob's Donut & Pastry Shop 44cf44a2f964a52020361fe3\n",
        "57047"
       ]
      },
      {
       "output_type": "stream",
       "stream": "stdout",
       "text": [
        " Rudy's Can't Fail Caf\u00e9 4ada8cf0f964a520702321e3\n",
        "57048"
       ]
      },
      {
       "output_type": "stream",
       "stream": "stdout",
       "text": [
        " Thanh Long 4a90b5b7f964a520361920e3\n",
        "57049"
       ]
      },
      {
       "output_type": "stream",
       "stream": "stdout",
       "text": [
        " Town Hall 4a4d0faaf964a52080ad1fe3\n",
        "57050"
       ]
      },
      {
       "output_type": "stream",
       "stream": "stdout",
       "text": [
        " Little Star Pizza 4537f9daf964a520c73b1fe3\n",
        "57051"
       ]
      },
      {
       "output_type": "stream",
       "stream": "stdout",
       "text": [
        " Palace BBQ Buffet 4bd3923a77b29c74e8399182\n",
        "57052"
       ]
      },
      {
       "output_type": "stream",
       "stream": "stdout",
       "text": [
        " Shanghai Dumpling King 49da8f69f964a520945e1fe3\n",
        "57053"
       ]
      },
      {
       "output_type": "stream",
       "stream": "stdout",
       "text": [
        " Golden Boy Pizza 42814b00f964a520ef211fe3\n",
        "57054"
       ]
      },
      {
       "output_type": "stream",
       "stream": "stdout",
       "text": [
        " The Front Porch 4695204ef964a520dd481fe3\n",
        "57055"
       ]
      },
      {
       "output_type": "stream",
       "stream": "stdout",
       "text": [
        " Banana Leaf Restaurant 45748edaf964a520943e1fe3\n",
        "57056"
       ]
      },
      {
       "output_type": "stream",
       "stream": "stdout",
       "text": [
        " Yank Sing None\n",
        "57057"
       ]
      },
      {
       "output_type": "stream",
       "stream": "stdout",
       "text": [
        " The Monk's Kettle 47d7ba05f964a520234e1fe3\n",
        "57058"
       ]
      },
      {
       "output_type": "stream",
       "stream": "stdout",
       "text": [
        " Old Port Lobster Shack 49f8c8f2f964a5201f6d1fe3\n",
        "57059"
       ]
      },
      {
       "output_type": "stream",
       "stream": "stdout",
       "text": [
        " Aziza 49eac9cef964a52099661fe3\n",
        "57060"
       ]
      },
      {
       "output_type": "stream",
       "stream": "stdout",
       "text": [
        " Sen Dai Sushi 4a62800ef964a5202dc41fe3\n",
        "57061"
       ]
      },
      {
       "output_type": "stream",
       "stream": "stdout",
       "text": [
        " Roy's Restaurant 46c75d2cf964a520194a1fe3\n",
        "57062"
       ]
      },
      {
       "output_type": "stream",
       "stream": "stdout",
       "text": [
        " Little Lucca Sandwich Shop & Deli 4b3cff01f964a520738b25e3\n",
        "57063"
       ]
      },
      {
       "output_type": "stream",
       "stream": "stdout",
       "text": [
        " Burger Bar 4ad4eb13f964a520affc20e3\n",
        "57064"
       ]
      },
      {
       "output_type": "stream",
       "stream": "stdout",
       "text": [
        " Dosa on Valencia 439b6598f964a520e12b1fe3\n",
        "57065"
       ]
      },
      {
       "output_type": "stream",
       "stream": "stdout",
       "text": [
        " Mission Beach Cafe 49d3e0f0f964a520205c1fe3\n",
        "57066"
       ]
      },
      {
       "output_type": "stream",
       "stream": "stdout",
       "text": [
        " Lim\u00f3n Rotisserie 4adc91adf964a520572d21e3\n",
        "57067"
       ]
      },
      {
       "output_type": "stream",
       "stream": "stdout",
       "text": [
        " La Taqueria 455877bff964a520453d1fe3\n",
        "57068"
       ]
      },
      {
       "output_type": "stream",
       "stream": "stdout",
       "text": [
        " 21st Amendment 42af6f80f964a5205e251fe3\n",
        "57069"
       ]
      },
      {
       "output_type": "stream",
       "stream": "stdout",
       "text": [
        " Dosa On Fillmore 4aff8b4af964a520663922e3\n",
        "57070"
       ]
      },
      {
       "output_type": "stream",
       "stream": "stdout",
       "text": [
        " NOLA Restaurant & Bar 4a7688a0f964a52021e31fe3\n",
        "57071"
       ]
      },
      {
       "output_type": "stream",
       "stream": "stdout",
       "text": [
        " CREAM 4d0d9c6e3bbaa1430d373eda\n",
        "57072"
       ]
      },
      {
       "output_type": "stream",
       "stream": "stdout",
       "text": [
        " Papalote Mexican Grill 43b439b6f964a520bc2c1fe3\n",
        "57073"
       ]
      },
      {
       "output_type": "stream",
       "stream": "stdout",
       "text": [
        " Genki Crepes 42829c80f964a52020221fe3\n",
        "57074"
       ]
      },
      {
       "output_type": "stream",
       "stream": "stdout",
       "text": [
        " Pizzeria Delfina 44088735f964a52058301fe3\n",
        "57075"
       ]
      },
      {
       "output_type": "stream",
       "stream": "stdout",
       "text": [
        " The Cheesecake Factory 469019cbf964a5209f481fe3\n",
        "57076"
       ]
      },
      {
       "output_type": "stream",
       "stream": "stdout",
       "text": [
        " Palomino 3fd66200f964a52068f11ee3\n",
        "57077"
       ]
      },
      {
       "output_type": "stream",
       "stream": "stdout",
       "text": [
        " Brown Sugar Kitchen 47c52d5df964a520e94d1fe3\n",
        "57078"
       ]
      },
      {
       "output_type": "stream",
       "stream": "stdout",
       "text": [
        " Osha Thai 43a016cbf964a5201b2c1fe3\n",
        "57079"
       ]
      },
      {
       "output_type": "stream",
       "stream": "stdout",
       "text": [
        " 99 Chicken 4b3a6959f964a520b66625e3\n",
        "57080"
       ]
      },
      {
       "output_type": "stream",
       "stream": "stdout",
       "text": [
        " Sol Food Puerto Rican Cuisine None\n",
        "57081"
       ]
      },
      {
       "output_type": "stream",
       "stream": "stdout",
       "text": [
        " Sam's Chowder House 4a9ac62df964a5209c3220e3\n",
        "57082"
       ]
      },
      {
       "output_type": "stream",
       "stream": "stdout",
       "text": [
        " Santa Ramen 49d05879f964a5201f5b1fe3\n",
        "57083"
       ]
      },
      {
       "output_type": "stream",
       "stream": "stdout",
       "text": [
        " Tommy's Joynt 3fd66200f964a520b7ed1ee3\n",
        "57084"
       ]
      },
      {
       "output_type": "stream",
       "stream": "stdout",
       "text": [
        " Zuni Cafe 435d7580f964a5201a291fe3\n",
        "57085"
       ]
      },
      {
       "output_type": "stream",
       "stream": "stdout",
       "text": [
        " Boulevard 3fd66200f964a52052ed1ee3\n",
        "57086"
       ]
      },
      {
       "output_type": "stream",
       "stream": "stdout",
       "text": [
        " Zero Zero 4c44d4b9dcd61b8df9e67b56\n",
        "57087"
       ]
      },
      {
       "output_type": "stream",
       "stream": "stdout",
       "text": [
        " Koi Palace 45e96fc3f964a5207d431fe3\n",
        "57088"
       ]
      },
      {
       "output_type": "stream",
       "stream": "stdout",
       "text": [
        " Cascal 42d1b680f964a5200c261fe3\n",
        "57089"
       ]
      },
      {
       "output_type": "stream",
       "stream": "stdout",
       "text": [
        " Jupiter 4a6a86cdf964a520b0cd1fe3\n",
        "57090"
       ]
      },
      {
       "output_type": "stream",
       "stream": "stdout",
       "text": [
        " Chapeau! 3fd66200f964a520ccec1ee3\n",
        "57091"
       ]
      },
      {
       "output_type": "stream",
       "stream": "stdout",
       "text": [
        " PPQ Dungeness Island 42ec1480f964a520a1261fe3\n",
        "57092"
       ]
      },
      {
       "output_type": "stream",
       "stream": "stdout",
       "text": [
        " Sprinkles Cupcakes 49f7a66df964a520cc6c1fe3\n",
        "57093"
       ]
      },
      {
       "output_type": "stream",
       "stream": "stdout",
       "text": [
        " Lim\u00f3n Rotisserie 42d1b680f964a52007261fe3\n",
        "57094"
       ]
      },
      {
       "output_type": "stream",
       "stream": "stdout",
       "text": [
        " La Note 4a0f2588f964a5202f761fe3\n",
        "57095"
       ]
      },
      {
       "output_type": "stream",
       "stream": "stdout",
       "text": [
        " House of Nanking 3fd66200f964a520d2ed1ee3\n",
        "57096"
       ]
      },
      {
       "output_type": "stream",
       "stream": "stdout",
       "text": [
        " Tonys Pizza Napoletana 4a469839f964a52029a91fe3\n",
        "57097"
       ]
      },
      {
       "output_type": "stream",
       "stream": "stdout",
       "text": [
        " Luna Park 3fd66200f964a5201cf11ee3\n",
        "57098"
       ]
      },
      {
       "output_type": "stream",
       "stream": "stdout",
       "text": [
        " Golden Gate Bakery 4a2ac0fdf964a52049961fe3\n",
        "57099"
       ]
      },
      {
       "output_type": "stream",
       "stream": "stdout",
       "text": [
        " Tropisue\u00f1o 4a5f8994f964a520d5bf1fe3\n",
        "57100"
       ]
      },
      {
       "output_type": "stream",
       "stream": "stdout",
       "text": [
        " Espetus Churrascaria 43d820b6f964a520612e1fe3\n",
        "57101"
       ]
      },
      {
       "output_type": "stream",
       "stream": "stdout",
       "text": [
        " Park Chow 3fd66200f964a52026f11ee3\n",
        "57102"
       ]
      },
      {
       "output_type": "stream",
       "stream": "stdout",
       "text": [
        " Zeitgeist 3fd66200f964a52041ee1ee3\n",
        "57103"
       ]
      },
      {
       "output_type": "stream",
       "stream": "stdout",
       "text": [
        " Little Star Pizza 433dd180f964a52048281fe3\n",
        "57104"
       ]
      },
      {
       "output_type": "stream",
       "stream": "stdout",
       "text": [
        " Bourbon & Branch 4617e746f964a52051451fe3\n",
        "57105"
       ]
      },
      {
       "output_type": "stream",
       "stream": "stdout",
       "text": [
        " DishDash 4515408bf964a520f6391fe3\n",
        "57106"
       ]
      },
      {
       "output_type": "stream",
       "stream": "stdout",
       "text": [
        " Saigon Sandwich 43eb7d31f964a520392f1fe3\n",
        "57107"
       ]
      },
      {
       "output_type": "stream",
       "stream": "stdout",
       "text": [
        " The Stinking Rose: A Garlic Restaurant 3fd66200f964a520a9ed1ee3\n",
        "57108"
       ]
      },
      {
       "output_type": "stream",
       "stream": "stdout",
       "text": [
        " Ramen Dojo 4bbe2b79061fb713aed7edce\n",
        "57109"
       ]
      },
      {
       "output_type": "stream",
       "stream": "stdout",
       "text": [
        " Wayfare Tavern 4c05a764191f20a11473e314\n",
        "57110"
       ]
      },
      {
       "output_type": "stream",
       "stream": "stdout",
       "text": [
        " Beretta 49a2545cf964a52094521fe3\n",
        "57111"
       ]
      },
      {
       "output_type": "stream",
       "stream": "stdout",
       "text": [
        " Angeline's Louisiana Kitchen 4a6bce66f964a520f9cf1fe3\n",
        "57112"
       ]
      },
      {
       "output_type": "stream",
       "stream": "stdout",
       "text": [
        " Sushi House 4a34549df964a520139c1fe3\n",
        "57113"
       ]
      },
      {
       "output_type": "stream",
       "stream": "stdout",
       "text": [
        " Cha Cha Cha 417c4200f964a520c71d1fe3\n",
        "57114"
       ]
      },
      {
       "output_type": "stream",
       "stream": "stdout",
       "text": [
        " Dottie's True Blue Cafe 4a5a3157f964a520ddb91fe3\n",
        "57115"
       ]
      },
      {
       "output_type": "stream",
       "stream": "stdout",
       "text": [
        " Suppenk\u00fcche 42c5d900f964a520d5251fe3\n",
        "57116"
       ]
      },
      {
       "output_type": "stream",
       "stream": "stdout",
       "text": [
        " Farmerbrown 44f97a46f964a5205e381fe3\n",
        "57117"
       ]
      },
      {
       "output_type": "stream",
       "stream": "stdout",
       "text": [
        " Absinthe Brasserie & Bar 43dc103ef964a520992e1fe3\n",
        "57118"
       ]
      },
      {
       "output_type": "stream",
       "stream": "stdout",
       "text": [
        " Nick's Crispy Tacos 42814b00f964a520eb211fe3\n",
        "57119"
       ]
      },
      {
       "output_type": "stream",
       "stream": "stdout",
       "text": [
        " Zazie 49b094fdf964a520c8521fe3\n",
        "57120"
       ]
      },
      {
       "output_type": "stream",
       "stream": "stdout",
       "text": [
        " Zachary's Chicago Pizza 43917e6ef964a5205d2b1fe3\n",
        "57121"
       ]
      },
      {
       "output_type": "stream",
       "stream": "stdout",
       "text": [
        " Ici Ice Cream 4a357b76f964a5200a9d1fe3\n",
        "57122"
       ]
      },
      {
       "output_type": "stream",
       "stream": "stdout",
       "text": [
        " Mama's on Washington Square 3fd66200f964a520a9ec1ee3\n",
        "57123"
       ]
      },
      {
       "output_type": "stream",
       "stream": "stdout",
       "text": [
        " Humphry Slocombe Ice Cream 49972b39f964a52089521fe3\n",
        "57124"
       ]
      },
      {
       "output_type": "stream",
       "stream": "stdout",
       "text": [
        " R&G Lounge 49efa893f964a520e5681fe3\n",
        "57125"
       ]
      },
      {
       "output_type": "stream",
       "stream": "stdout",
       "text": [
        " Mitchell's Ice Cream 49e22ce6f964a520f9611fe3\n",
        "57126"
       ]
      },
      {
       "output_type": "stream",
       "stream": "stdout",
       "text": [
        " El Farolito 44ff5a91f964a520a5381fe3\n",
        "57127"
       ]
      },
      {
       "output_type": "stream",
       "stream": "stdout",
       "text": [
        " Kokkari Estiatorio 4570691ff964a5205c3e1fe3\n",
        "57128"
       ]
      },
      {
       "output_type": "stream",
       "stream": "stdout",
       "text": [
        " The House 4b0a2fe5f964a520492223e3\n",
        "57129"
       ]
      },
      {
       "output_type": "stream",
       "stream": "stdout",
       "text": [
        " Katana-Ya 44e1e15af964a52023371fe3\n",
        "57130"
       ]
      },
      {
       "output_type": "stream",
       "stream": "stdout",
       "text": [
        " Orenchi Ramen 4b5bd185f964a520f51729e3\n",
        "57131"
       ]
      },
      {
       "output_type": "stream",
       "stream": "stdout",
       "text": [
        " Foreign Cinema 3fd66200f964a520a0ec1ee3\n",
        "57132"
       ]
      },
      {
       "output_type": "stream",
       "stream": "stdout",
       "text": [
        " Cheese Board Pizza 46aa8f98f964a52062491fe3\n",
        "57133"
       ]
      },
      {
       "output_type": "stream",
       "stream": "stdout",
       "text": [
        " Bakesale Betty 46aa8d4df964a52061491fe3\n",
        "57134"
       ]
      },
      {
       "output_type": "stream",
       "stream": "stdout",
       "text": [
        " NOPA 44646408f964a52026331fe3\n",
        "57135"
       ]
      },
      {
       "output_type": "stream",
       "stream": "stdout",
       "text": [
        " Gary Danko 3fd66200f964a52025ee1ee3\n",
        "57136"
       ]
      },
      {
       "output_type": "stream",
       "stream": "stdout",
       "text": [
        " San Tung Chinese Restaurant 4ab0402ff964a520ad6620e3\n",
        "57137"
       ]
      },
      {
       "output_type": "stream",
       "stream": "stdout",
       "text": [
        " House of Prime Rib 42e03700f964a52065261fe3\n",
        "57138"
       ]
      },
      {
       "output_type": "stream",
       "stream": "stdout",
       "text": [
        " Burma Superstar 42cc7080f964a520e7251fe3\n",
        "57139"
       ]
      },
      {
       "output_type": "stream",
       "stream": "stdout",
       "text": [
        " Brenda's French Soul Food 49f356f8f964a5208a6a1fe3\n",
        "57140"
       ]
      },
      {
       "output_type": "stream",
       "stream": "stdout",
       "text": [
        " Tartine Bakery & Cafe 42814b00f964a52002221fe3\n",
        "57141"
       ]
      },
      {
       "output_type": "stream",
       "stream": "stdout",
       "text": [
        " Ike's Place 4da23ee19935a093c9b8b16f\n",
        "57142"
       ]
      },
      {
       "output_type": "stream",
       "stream": "stdout",
       "text": [
        " Bi-Rite Creamery 45eaff58f964a5208e431fe3\n"
       ]
      }
     ],
     "prompt_number": 90
    },
    {
     "cell_type": "code",
     "collapsed": false,
     "input": [
      "print yelp_to_match.head(60000).shape\n",
      "# print done[done.four_square_id.notnull()].shape"
     ],
     "language": "python",
     "metadata": {},
     "outputs": [
      {
       "output_type": "stream",
       "stream": "stdout",
       "text": [
        "(57142, 5)\n"
       ]
      }
     ],
     "prompt_number": 60
    },
    {
     "cell_type": "code",
     "collapsed": false,
     "input": [
      "# yelp_to_match.head(5000)\n",
      "print yelp.head(3)\n",
      "print yelp_to_match.head(3)"
     ],
     "language": "python",
     "metadata": {},
     "outputs": [
      {
       "output_type": "stream",
       "stream": "stdout",
       "text": [
        "   Unnamed: 0                               address  \\\n",
        "0           0               [u'3201 California St']   \n",
        "1           1               [u'565 Buckingham Way']   \n",
        "2           2  [u'1860 El Camino Real', u'Ste 100']   \n",
        "\n",
        "                                          categories           city  \\\n",
        "0  [[u'Banks & Credit Unions', u'banks'], [u'Inve...  San Francisco   \n",
        "1             [[u'Banks & Credit Unions', u'banks']]  San Francisco   \n",
        "2             [[u'Banks & Credit Unions', u'banks']]     Burlingame   \n",
        "\n",
        "                                     display_address  \\\n",
        "0  3201 California St, Laurel Heights, San Franci...   \n",
        "1  565 Buckingham Way, Stonestown, San Francisco,...   \n",
        "2  1860 El Camino Real, Ste 100, Burlingame, CA 9...   \n",
        "\n",
        "                                        id  \\\n",
        "0       sf-fire-credit-union-san-francisco   \n",
        "1     sf-fire-credit-union-san-francisco-2   \n",
        "2  united-health-credit-union-burlingame-2   \n",
        "\n",
        "                                           image_url  \\\n",
        "0  http://s3-media2.ak.yelpcdn.com/bphoto/t31F2Pk...   \n",
        "1  http://s3-media3.ak.yelpcdn.com/bphoto/pskjEfI...   \n",
        "2  http://s3-media2.ak.yelpcdn.com/bphoto/DMHNTcQ...   \n",
        "\n",
        "                         name       phone  postal_code  rating  \\\n",
        "0        SF Fire Credit Union  4156744800        94118     4.5   \n",
        "1        SF Fire Credit Union  4156744800        94132     4.5   \n",
        "2  United Health Credit Union  6502311300        94010     5.0   \n",
        "\n",
        "                                rating_img_url_large  review_count  \\\n",
        "0  http://s3-media4.ak.yelpcdn.com/assets/2/www/i...           184   \n",
        "1  http://s3-media4.ak.yelpcdn.com/assets/2/www/i...            31   \n",
        "2  http://s3-media3.ak.yelpcdn.com/assets/2/www/i...             8   \n",
        "\n",
        "                                                 url  \\\n",
        "0  http://www.yelp.com/biz/sf-fire-credit-union-s...   \n",
        "1  http://www.yelp.com/biz/sf-fire-credit-union-s...   \n",
        "2  http://www.yelp.com/biz/united-health-credit-u...   \n",
        "\n",
        "      complete_lookup_address   latitude   longitude latlng_confidence  \n",
        "0   3201 California St, 94118  37.787171 -122.447225             P1AAA  \n",
        "1   565 Buckingham Way, 94132  37.730150 -122.476210             L1AAA  \n",
        "2  1860 El Camino Real, 94010  37.596147 -122.384672             P1AAA  \n",
        "\n",
        "[3 rows x 18 columns]\n",
        "                        name                              id  postal_code  \\\n",
        "19690  Dublin Lockout & Keys  dublin-lockout-and-keys-dublin        94568   \n",
        "33747     Consolidated Parts  consolidated-parts-santa-clara        95050   \n",
        "51038           Boost Mobile          boost-mobile-hayward-5        94541   \n",
        "\n",
        "            phone            four_square_id  \n",
        "19690  9252351124                       NaN  \n",
        "33747  4087640200  4dd693a21fc7d8d8663d5523  \n",
        "51038  5102005181                       NaN  \n",
        "\n",
        "[3 rows x 5 columns]\n"
       ]
      }
     ],
     "prompt_number": 73
    },
    {
     "cell_type": "code",
     "collapsed": false,
     "input": [
      "# yelp_to_match.to_csv('yelp_to_match.csv')"
     ],
     "language": "python",
     "metadata": {},
     "outputs": [
      {
       "ename": "NameError",
       "evalue": "name 'yelp_to_match' is not defined",
       "output_type": "pyerr",
       "traceback": [
        "\u001b[0;31m---------------------------------------------------------------------------\u001b[0m\n\u001b[0;31mNameError\u001b[0m                                 Traceback (most recent call last)",
        "\u001b[0;32m<ipython-input-2-78989de3499e>\u001b[0m in \u001b[0;36m<module>\u001b[0;34m()\u001b[0m\n\u001b[0;32m----> 1\u001b[0;31m \u001b[0myelp_to_match\u001b[0m\u001b[0;34m.\u001b[0m\u001b[0mto_csv\u001b[0m\u001b[0;34m(\u001b[0m\u001b[0;34m'yelp_to_match.csv'\u001b[0m\u001b[0;34m)\u001b[0m\u001b[0;34m\u001b[0m\u001b[0m\n\u001b[0m",
        "\u001b[0;31mNameError\u001b[0m: name 'yelp_to_match' is not defined"
       ]
      }
     ],
     "prompt_number": 2
    },
    {
     "cell_type": "code",
     "collapsed": false,
     "input": [
      "# matched = yelp_to_match[yelp_to_match.four_square_id.notnull()]\n",
      "# matched.to_csv('matched.csv')\n",
      "matched = pd.read_csv('matched.csv')"
     ],
     "language": "python",
     "metadata": {},
     "outputs": [],
     "prompt_number": 3
    },
    {
     "cell_type": "code",
     "collapsed": false,
     "input": [
      "all_went_next = []\n",
      "already_finished = 0\n",
      "done_count = 0\n",
      "total_count = 0\n",
      "for four_square_from in matched.four_square_id:\n",
      "    done_count+=1\n",
      "    rand_duration = pd.np.random.random() * 1.45\n",
      "    time.sleep(rand_duration)\n",
      "    if done_count < already_finished:\n",
      "        continue\n",
      "    try:\n",
      "        went_next = four_square.find_next_venues(four_square_from)\n",
      "        all_went_next.extend(went_next)\n",
      "        if done_count % 2 == 0:\n",
      "            print done_count, total_count#, four_square_from, len(went_next)\n",
      "        total_count += len(went_next)\n",
      "    except Exception as e:\n",
      "        print e    "
     ],
     "language": "python",
     "metadata": {},
     "outputs": [
      {
       "output_type": "stream",
       "stream": "stdout",
       "text": [
        "1000 0\n",
        "1002"
       ]
      },
      {
       "output_type": "stream",
       "stream": "stdout",
       "text": [
        " 0\n",
        "1004"
       ]
      },
      {
       "output_type": "stream",
       "stream": "stdout",
       "text": [
        " 0\n",
        "1006"
       ]
      },
      {
       "output_type": "stream",
       "stream": "stdout",
       "text": [
        " 5\n",
        "1008"
       ]
      },
      {
       "output_type": "stream",
       "stream": "stdout",
       "text": [
        " 5\n",
        "1010"
       ]
      },
      {
       "output_type": "stream",
       "stream": "stdout",
       "text": [
        " 5\n",
        "1012"
       ]
      },
      {
       "output_type": "stream",
       "stream": "stdout",
       "text": [
        " 5\n",
        "1014"
       ]
      },
      {
       "output_type": "stream",
       "stream": "stdout",
       "text": [
        " 5\n",
        "1016"
       ]
      },
      {
       "output_type": "stream",
       "stream": "stdout",
       "text": [
        " 5\n",
        "1018"
       ]
      },
      {
       "output_type": "stream",
       "stream": "stdout",
       "text": [
        " 5\n",
        "1020"
       ]
      },
      {
       "output_type": "stream",
       "stream": "stdout",
       "text": [
        " 5\n",
        "1022"
       ]
      },
      {
       "output_type": "stream",
       "stream": "stdout",
       "text": [
        " 5\n",
        "1024"
       ]
      },
      {
       "output_type": "stream",
       "stream": "stdout",
       "text": [
        " 5\n",
        "1026"
       ]
      },
      {
       "output_type": "stream",
       "stream": "stdout",
       "text": [
        " 5\n",
        "1028"
       ]
      },
      {
       "output_type": "stream",
       "stream": "stdout",
       "text": [
        " 5\n",
        "1030"
       ]
      },
      {
       "output_type": "stream",
       "stream": "stdout",
       "text": [
        " 5\n",
        "1032"
       ]
      },
      {
       "output_type": "stream",
       "stream": "stdout",
       "text": [
        " 5\n",
        "1034"
       ]
      },
      {
       "output_type": "stream",
       "stream": "stdout",
       "text": [
        " 7\n",
        "1036"
       ]
      },
      {
       "output_type": "stream",
       "stream": "stdout",
       "text": [
        " 12\n",
        "1038"
       ]
      },
      {
       "output_type": "stream",
       "stream": "stdout",
       "text": [
        " 12\n",
        "1040"
       ]
      },
      {
       "output_type": "stream",
       "stream": "stdout",
       "text": [
        " 12\n",
        "1042"
       ]
      },
      {
       "output_type": "stream",
       "stream": "stdout",
       "text": [
        " 12\n",
        "1044"
       ]
      },
      {
       "output_type": "stream",
       "stream": "stdout",
       "text": [
        " 17\n",
        "1046"
       ]
      },
      {
       "output_type": "stream",
       "stream": "stdout",
       "text": [
        " 22\n",
        "1048"
       ]
      },
      {
       "output_type": "stream",
       "stream": "stdout",
       "text": [
        " 22\n",
        "1050"
       ]
      },
      {
       "output_type": "stream",
       "stream": "stdout",
       "text": [
        " 22\n",
        "1052"
       ]
      },
      {
       "output_type": "stream",
       "stream": "stdout",
       "text": [
        " 22\n",
        "1054"
       ]
      },
      {
       "output_type": "stream",
       "stream": "stdout",
       "text": [
        " 22\n",
        "1056"
       ]
      },
      {
       "output_type": "stream",
       "stream": "stdout",
       "text": [
        " 22\n"
       ]
      },
      {
       "ename": "KeyboardInterrupt",
       "evalue": "",
       "output_type": "pyerr",
       "traceback": [
        "\u001b[0;31m---------------------------------------------------------------------------\u001b[0m\n\u001b[0;31mKeyboardInterrupt\u001b[0m                         Traceback (most recent call last)",
        "\u001b[0;32m<ipython-input-37-0a5f3a0491b2>\u001b[0m in \u001b[0;36m<module>\u001b[0;34m()\u001b[0m\n\u001b[1;32m      8\u001b[0m         \u001b[0;32mcontinue\u001b[0m\u001b[0;34m\u001b[0m\u001b[0m\n\u001b[1;32m      9\u001b[0m     \u001b[0;32mtry\u001b[0m\u001b[0;34m:\u001b[0m\u001b[0;34m\u001b[0m\u001b[0m\n\u001b[0;32m---> 10\u001b[0;31m         \u001b[0mwent_next\u001b[0m \u001b[0;34m=\u001b[0m \u001b[0mfour_square\u001b[0m\u001b[0;34m.\u001b[0m\u001b[0mfind_next_venues\u001b[0m\u001b[0;34m(\u001b[0m\u001b[0mfour_square_from\u001b[0m\u001b[0;34m)\u001b[0m\u001b[0;34m\u001b[0m\u001b[0m\n\u001b[0m\u001b[1;32m     11\u001b[0m         \u001b[0mall_went_next\u001b[0m\u001b[0;34m.\u001b[0m\u001b[0mextend\u001b[0m\u001b[0;34m(\u001b[0m\u001b[0mwent_next\u001b[0m\u001b[0;34m)\u001b[0m\u001b[0;34m\u001b[0m\u001b[0m\n\u001b[1;32m     12\u001b[0m         \u001b[0;32mif\u001b[0m \u001b[0mdone_count\u001b[0m \u001b[0;34m%\u001b[0m \u001b[0;36m2\u001b[0m \u001b[0;34m==\u001b[0m \u001b[0;36m0\u001b[0m\u001b[0;34m:\u001b[0m\u001b[0;34m\u001b[0m\u001b[0m\n",
        "\u001b[0;32m/Users/michaelramm/Documents/Aptana Studio 3 Workspace/InsightProject/four_square_api.py\u001b[0m in \u001b[0;36mfind_next_venues\u001b[0;34m(self, from_venue_id)\u001b[0m\n\u001b[1;32m     53\u001b[0m     \u001b[0;32mdef\u001b[0m \u001b[0mfind_next_venues\u001b[0m\u001b[0;34m(\u001b[0m\u001b[0mself\u001b[0m\u001b[0;34m,\u001b[0m \u001b[0mfrom_venue_id\u001b[0m\u001b[0;34m)\u001b[0m\u001b[0;34m:\u001b[0m\u001b[0;34m\u001b[0m\u001b[0m\n\u001b[1;32m     54\u001b[0m         \u001b[0murl\u001b[0m \u001b[0;34m=\u001b[0m \u001b[0mself\u001b[0m\u001b[0;34m.\u001b[0m\u001b[0mnext_venue_url\u001b[0m\u001b[0;34m(\u001b[0m\u001b[0mfrom_venue_id\u001b[0m\u001b[0;34m)\u001b[0m\u001b[0;34m\u001b[0m\u001b[0m\n\u001b[0;32m---> 55\u001b[0;31m         \u001b[0mresponse\u001b[0m \u001b[0;34m=\u001b[0m \u001b[0mrequests\u001b[0m\u001b[0;34m.\u001b[0m\u001b[0mget\u001b[0m\u001b[0;34m(\u001b[0m\u001b[0murl\u001b[0m\u001b[0;34m)\u001b[0m\u001b[0;34m\u001b[0m\u001b[0m\n\u001b[0m\u001b[1;32m     56\u001b[0m         \u001b[0mdata\u001b[0m \u001b[0;34m=\u001b[0m \u001b[0mjson\u001b[0m\u001b[0;34m.\u001b[0m\u001b[0mloads\u001b[0m\u001b[0;34m(\u001b[0m\u001b[0mresponse\u001b[0m\u001b[0;34m.\u001b[0m\u001b[0mtext\u001b[0m\u001b[0;34m)\u001b[0m\u001b[0;34m\u001b[0m\u001b[0m\n\u001b[1;32m     57\u001b[0m         \u001b[0mresponse\u001b[0m \u001b[0;34m=\u001b[0m \u001b[0mdata\u001b[0m\u001b[0;34m[\u001b[0m\u001b[0;34m'response'\u001b[0m\u001b[0;34m]\u001b[0m\u001b[0;34m\u001b[0m\u001b[0m\n",
        "\u001b[0;32m/opt/local/Library/Frameworks/Python.framework/Versions/2.7/lib/python2.7/site-packages/requests/api.pyc\u001b[0m in \u001b[0;36mget\u001b[0;34m(url, **kwargs)\u001b[0m\n\u001b[1;32m     53\u001b[0m \u001b[0;34m\u001b[0m\u001b[0m\n\u001b[1;32m     54\u001b[0m     \u001b[0mkwargs\u001b[0m\u001b[0;34m.\u001b[0m\u001b[0msetdefault\u001b[0m\u001b[0;34m(\u001b[0m\u001b[0;34m'allow_redirects'\u001b[0m\u001b[0;34m,\u001b[0m \u001b[0mTrue\u001b[0m\u001b[0;34m)\u001b[0m\u001b[0;34m\u001b[0m\u001b[0m\n\u001b[0;32m---> 55\u001b[0;31m     \u001b[0;32mreturn\u001b[0m \u001b[0mrequest\u001b[0m\u001b[0;34m(\u001b[0m\u001b[0;34m'get'\u001b[0m\u001b[0;34m,\u001b[0m \u001b[0murl\u001b[0m\u001b[0;34m,\u001b[0m \u001b[0;34m**\u001b[0m\u001b[0mkwargs\u001b[0m\u001b[0;34m)\u001b[0m\u001b[0;34m\u001b[0m\u001b[0m\n\u001b[0m\u001b[1;32m     56\u001b[0m \u001b[0;34m\u001b[0m\u001b[0m\n\u001b[1;32m     57\u001b[0m \u001b[0;34m\u001b[0m\u001b[0m\n",
        "\u001b[0;32m/opt/local/Library/Frameworks/Python.framework/Versions/2.7/lib/python2.7/site-packages/requests/api.pyc\u001b[0m in \u001b[0;36mrequest\u001b[0;34m(method, url, **kwargs)\u001b[0m\n\u001b[1;32m     42\u001b[0m \u001b[0;34m\u001b[0m\u001b[0m\n\u001b[1;32m     43\u001b[0m     \u001b[0msession\u001b[0m \u001b[0;34m=\u001b[0m \u001b[0msessions\u001b[0m\u001b[0;34m.\u001b[0m\u001b[0mSession\u001b[0m\u001b[0;34m(\u001b[0m\u001b[0;34m)\u001b[0m\u001b[0;34m\u001b[0m\u001b[0m\n\u001b[0;32m---> 44\u001b[0;31m     \u001b[0;32mreturn\u001b[0m \u001b[0msession\u001b[0m\u001b[0;34m.\u001b[0m\u001b[0mrequest\u001b[0m\u001b[0;34m(\u001b[0m\u001b[0mmethod\u001b[0m\u001b[0;34m=\u001b[0m\u001b[0mmethod\u001b[0m\u001b[0;34m,\u001b[0m \u001b[0murl\u001b[0m\u001b[0;34m=\u001b[0m\u001b[0murl\u001b[0m\u001b[0;34m,\u001b[0m \u001b[0;34m**\u001b[0m\u001b[0mkwargs\u001b[0m\u001b[0;34m)\u001b[0m\u001b[0;34m\u001b[0m\u001b[0m\n\u001b[0m\u001b[1;32m     45\u001b[0m \u001b[0;34m\u001b[0m\u001b[0m\n\u001b[1;32m     46\u001b[0m \u001b[0;34m\u001b[0m\u001b[0m\n",
        "\u001b[0;32m/opt/local/Library/Frameworks/Python.framework/Versions/2.7/lib/python2.7/site-packages/requests/sessions.pyc\u001b[0m in \u001b[0;36mrequest\u001b[0;34m(self, method, url, params, data, headers, cookies, files, auth, timeout, allow_redirects, proxies, hooks, stream, verify, cert)\u001b[0m\n\u001b[1;32m    381\u001b[0m             \u001b[0;34m'allow_redirects'\u001b[0m\u001b[0;34m:\u001b[0m \u001b[0mallow_redirects\u001b[0m\u001b[0;34m,\u001b[0m\u001b[0;34m\u001b[0m\u001b[0m\n\u001b[1;32m    382\u001b[0m         }\n\u001b[0;32m--> 383\u001b[0;31m         \u001b[0mresp\u001b[0m \u001b[0;34m=\u001b[0m \u001b[0mself\u001b[0m\u001b[0;34m.\u001b[0m\u001b[0msend\u001b[0m\u001b[0;34m(\u001b[0m\u001b[0mprep\u001b[0m\u001b[0;34m,\u001b[0m \u001b[0;34m**\u001b[0m\u001b[0msend_kwargs\u001b[0m\u001b[0;34m)\u001b[0m\u001b[0;34m\u001b[0m\u001b[0m\n\u001b[0m\u001b[1;32m    384\u001b[0m \u001b[0;34m\u001b[0m\u001b[0m\n\u001b[1;32m    385\u001b[0m         \u001b[0;32mreturn\u001b[0m \u001b[0mresp\u001b[0m\u001b[0;34m\u001b[0m\u001b[0m\n",
        "\u001b[0;32m/opt/local/Library/Frameworks/Python.framework/Versions/2.7/lib/python2.7/site-packages/requests/sessions.pyc\u001b[0m in \u001b[0;36msend\u001b[0;34m(self, request, **kwargs)\u001b[0m\n\u001b[1;32m    484\u001b[0m         \u001b[0mstart\u001b[0m \u001b[0;34m=\u001b[0m \u001b[0mdatetime\u001b[0m\u001b[0;34m.\u001b[0m\u001b[0mutcnow\u001b[0m\u001b[0;34m(\u001b[0m\u001b[0;34m)\u001b[0m\u001b[0;34m\u001b[0m\u001b[0m\n\u001b[1;32m    485\u001b[0m         \u001b[0;31m# Send the request\u001b[0m\u001b[0;34m\u001b[0m\u001b[0;34m\u001b[0m\u001b[0m\n\u001b[0;32m--> 486\u001b[0;31m         \u001b[0mr\u001b[0m \u001b[0;34m=\u001b[0m \u001b[0madapter\u001b[0m\u001b[0;34m.\u001b[0m\u001b[0msend\u001b[0m\u001b[0;34m(\u001b[0m\u001b[0mrequest\u001b[0m\u001b[0;34m,\u001b[0m \u001b[0;34m**\u001b[0m\u001b[0mkwargs\u001b[0m\u001b[0;34m)\u001b[0m\u001b[0;34m\u001b[0m\u001b[0m\n\u001b[0m\u001b[1;32m    487\u001b[0m         \u001b[0;31m# Total elapsed time of the request (approximately)\u001b[0m\u001b[0;34m\u001b[0m\u001b[0;34m\u001b[0m\u001b[0m\n\u001b[1;32m    488\u001b[0m         \u001b[0mr\u001b[0m\u001b[0;34m.\u001b[0m\u001b[0melapsed\u001b[0m \u001b[0;34m=\u001b[0m \u001b[0mdatetime\u001b[0m\u001b[0;34m.\u001b[0m\u001b[0mutcnow\u001b[0m\u001b[0;34m(\u001b[0m\u001b[0;34m)\u001b[0m \u001b[0;34m-\u001b[0m \u001b[0mstart\u001b[0m\u001b[0;34m\u001b[0m\u001b[0m\n",
        "\u001b[0;32m/opt/local/Library/Frameworks/Python.framework/Versions/2.7/lib/python2.7/site-packages/requests/adapters.pyc\u001b[0m in \u001b[0;36msend\u001b[0;34m(self, request, stream, timeout, verify, cert, proxies)\u001b[0m\n\u001b[1;32m    328\u001b[0m                     \u001b[0mdecode_content\u001b[0m\u001b[0;34m=\u001b[0m\u001b[0mFalse\u001b[0m\u001b[0;34m,\u001b[0m\u001b[0;34m\u001b[0m\u001b[0m\n\u001b[1;32m    329\u001b[0m                     \u001b[0mretries\u001b[0m\u001b[0;34m=\u001b[0m\u001b[0mself\u001b[0m\u001b[0;34m.\u001b[0m\u001b[0mmax_retries\u001b[0m\u001b[0;34m,\u001b[0m\u001b[0;34m\u001b[0m\u001b[0m\n\u001b[0;32m--> 330\u001b[0;31m                     \u001b[0mtimeout\u001b[0m\u001b[0;34m=\u001b[0m\u001b[0mtimeout\u001b[0m\u001b[0;34m\u001b[0m\u001b[0m\n\u001b[0m\u001b[1;32m    331\u001b[0m                 )\n\u001b[1;32m    332\u001b[0m \u001b[0;34m\u001b[0m\u001b[0m\n",
        "\u001b[0;32m/opt/local/Library/Frameworks/Python.framework/Versions/2.7/lib/python2.7/site-packages/requests/packages/urllib3/connectionpool.pyc\u001b[0m in \u001b[0;36murlopen\u001b[0;34m(self, method, url, body, headers, retries, redirect, assert_same_host, timeout, pool_timeout, release_conn, **response_kw)\u001b[0m\n\u001b[1;32m    478\u001b[0m             httplib_response = self._make_request(conn, method, url,\n\u001b[1;32m    479\u001b[0m                                                   \u001b[0mtimeout\u001b[0m\u001b[0;34m=\u001b[0m\u001b[0mtimeout\u001b[0m\u001b[0;34m,\u001b[0m\u001b[0;34m\u001b[0m\u001b[0m\n\u001b[0;32m--> 480\u001b[0;31m                                                   body=body, headers=headers)\n\u001b[0m\u001b[1;32m    481\u001b[0m \u001b[0;34m\u001b[0m\u001b[0m\n\u001b[1;32m    482\u001b[0m             \u001b[0;31m# If we're going to release the connection in ``finally:``, then\u001b[0m\u001b[0;34m\u001b[0m\u001b[0;34m\u001b[0m\u001b[0m\n",
        "\u001b[0;32m/opt/local/Library/Frameworks/Python.framework/Versions/2.7/lib/python2.7/site-packages/requests/packages/urllib3/connectionpool.pyc\u001b[0m in \u001b[0;36m_make_request\u001b[0;34m(self, conn, method, url, timeout, **httplib_request_kw)\u001b[0m\n\u001b[1;32m    283\u001b[0m             \u001b[0;31m# conn.request() calls httplib.*.request, not the method in\u001b[0m\u001b[0;34m\u001b[0m\u001b[0;34m\u001b[0m\u001b[0m\n\u001b[1;32m    284\u001b[0m             \u001b[0;31m# urllib3.request. It also calls makefile (recv) on the socket.\u001b[0m\u001b[0;34m\u001b[0m\u001b[0;34m\u001b[0m\u001b[0m\n\u001b[0;32m--> 285\u001b[0;31m             \u001b[0mconn\u001b[0m\u001b[0;34m.\u001b[0m\u001b[0mrequest\u001b[0m\u001b[0;34m(\u001b[0m\u001b[0mmethod\u001b[0m\u001b[0;34m,\u001b[0m \u001b[0murl\u001b[0m\u001b[0;34m,\u001b[0m \u001b[0;34m**\u001b[0m\u001b[0mhttplib_request_kw\u001b[0m\u001b[0;34m)\u001b[0m\u001b[0;34m\u001b[0m\u001b[0m\n\u001b[0m\u001b[1;32m    286\u001b[0m         \u001b[0;32mexcept\u001b[0m \u001b[0mSocketTimeout\u001b[0m\u001b[0;34m:\u001b[0m\u001b[0;34m\u001b[0m\u001b[0m\n\u001b[1;32m    287\u001b[0m             raise ConnectTimeoutError(\n",
        "\u001b[0;32m/opt/local/Library/Frameworks/Python.framework/Versions/2.7/lib/python2.7/httplib.pyc\u001b[0m in \u001b[0;36mrequest\u001b[0;34m(self, method, url, body, headers)\u001b[0m\n\u001b[1;32m    993\u001b[0m     \u001b[0;32mdef\u001b[0m \u001b[0mrequest\u001b[0m\u001b[0;34m(\u001b[0m\u001b[0mself\u001b[0m\u001b[0;34m,\u001b[0m \u001b[0mmethod\u001b[0m\u001b[0;34m,\u001b[0m \u001b[0murl\u001b[0m\u001b[0;34m,\u001b[0m \u001b[0mbody\u001b[0m\u001b[0;34m=\u001b[0m\u001b[0mNone\u001b[0m\u001b[0;34m,\u001b[0m \u001b[0mheaders\u001b[0m\u001b[0;34m=\u001b[0m\u001b[0;34m{\u001b[0m\u001b[0;34m}\u001b[0m\u001b[0;34m)\u001b[0m\u001b[0;34m:\u001b[0m\u001b[0;34m\u001b[0m\u001b[0m\n\u001b[1;32m    994\u001b[0m         \u001b[0;34m\"\"\"Send a complete request to the server.\"\"\"\u001b[0m\u001b[0;34m\u001b[0m\u001b[0m\n\u001b[0;32m--> 995\u001b[0;31m         \u001b[0mself\u001b[0m\u001b[0;34m.\u001b[0m\u001b[0m_send_request\u001b[0m\u001b[0;34m(\u001b[0m\u001b[0mmethod\u001b[0m\u001b[0;34m,\u001b[0m \u001b[0murl\u001b[0m\u001b[0;34m,\u001b[0m \u001b[0mbody\u001b[0m\u001b[0;34m,\u001b[0m \u001b[0mheaders\u001b[0m\u001b[0;34m)\u001b[0m\u001b[0;34m\u001b[0m\u001b[0m\n\u001b[0m\u001b[1;32m    996\u001b[0m \u001b[0;34m\u001b[0m\u001b[0m\n\u001b[1;32m    997\u001b[0m     \u001b[0;32mdef\u001b[0m \u001b[0m_set_content_length\u001b[0m\u001b[0;34m(\u001b[0m\u001b[0mself\u001b[0m\u001b[0;34m,\u001b[0m \u001b[0mbody\u001b[0m\u001b[0;34m)\u001b[0m\u001b[0;34m:\u001b[0m\u001b[0;34m\u001b[0m\u001b[0m\n",
        "\u001b[0;32m/opt/local/Library/Frameworks/Python.framework/Versions/2.7/lib/python2.7/httplib.pyc\u001b[0m in \u001b[0;36m_send_request\u001b[0;34m(self, method, url, body, headers)\u001b[0m\n\u001b[1;32m   1027\u001b[0m         \u001b[0;32mfor\u001b[0m \u001b[0mhdr\u001b[0m\u001b[0;34m,\u001b[0m \u001b[0mvalue\u001b[0m \u001b[0;32min\u001b[0m \u001b[0mheaders\u001b[0m\u001b[0;34m.\u001b[0m\u001b[0miteritems\u001b[0m\u001b[0;34m(\u001b[0m\u001b[0;34m)\u001b[0m\u001b[0;34m:\u001b[0m\u001b[0;34m\u001b[0m\u001b[0m\n\u001b[1;32m   1028\u001b[0m             \u001b[0mself\u001b[0m\u001b[0;34m.\u001b[0m\u001b[0mputheader\u001b[0m\u001b[0;34m(\u001b[0m\u001b[0mhdr\u001b[0m\u001b[0;34m,\u001b[0m \u001b[0mvalue\u001b[0m\u001b[0;34m)\u001b[0m\u001b[0;34m\u001b[0m\u001b[0m\n\u001b[0;32m-> 1029\u001b[0;31m         \u001b[0mself\u001b[0m\u001b[0;34m.\u001b[0m\u001b[0mendheaders\u001b[0m\u001b[0;34m(\u001b[0m\u001b[0mbody\u001b[0m\u001b[0;34m)\u001b[0m\u001b[0;34m\u001b[0m\u001b[0m\n\u001b[0m\u001b[1;32m   1030\u001b[0m \u001b[0;34m\u001b[0m\u001b[0m\n\u001b[1;32m   1031\u001b[0m     \u001b[0;32mdef\u001b[0m \u001b[0mgetresponse\u001b[0m\u001b[0;34m(\u001b[0m\u001b[0mself\u001b[0m\u001b[0;34m,\u001b[0m \u001b[0mbuffering\u001b[0m\u001b[0;34m=\u001b[0m\u001b[0mFalse\u001b[0m\u001b[0;34m)\u001b[0m\u001b[0;34m:\u001b[0m\u001b[0;34m\u001b[0m\u001b[0m\n",
        "\u001b[0;32m/opt/local/Library/Frameworks/Python.framework/Versions/2.7/lib/python2.7/httplib.pyc\u001b[0m in \u001b[0;36mendheaders\u001b[0;34m(self, message_body)\u001b[0m\n\u001b[1;32m    989\u001b[0m         \u001b[0;32melse\u001b[0m\u001b[0;34m:\u001b[0m\u001b[0;34m\u001b[0m\u001b[0m\n\u001b[1;32m    990\u001b[0m             \u001b[0;32mraise\u001b[0m \u001b[0mCannotSendHeader\u001b[0m\u001b[0;34m(\u001b[0m\u001b[0;34m)\u001b[0m\u001b[0;34m\u001b[0m\u001b[0m\n\u001b[0;32m--> 991\u001b[0;31m         \u001b[0mself\u001b[0m\u001b[0;34m.\u001b[0m\u001b[0m_send_output\u001b[0m\u001b[0;34m(\u001b[0m\u001b[0mmessage_body\u001b[0m\u001b[0;34m)\u001b[0m\u001b[0;34m\u001b[0m\u001b[0m\n\u001b[0m\u001b[1;32m    992\u001b[0m \u001b[0;34m\u001b[0m\u001b[0m\n\u001b[1;32m    993\u001b[0m     \u001b[0;32mdef\u001b[0m \u001b[0mrequest\u001b[0m\u001b[0;34m(\u001b[0m\u001b[0mself\u001b[0m\u001b[0;34m,\u001b[0m \u001b[0mmethod\u001b[0m\u001b[0;34m,\u001b[0m \u001b[0murl\u001b[0m\u001b[0;34m,\u001b[0m \u001b[0mbody\u001b[0m\u001b[0;34m=\u001b[0m\u001b[0mNone\u001b[0m\u001b[0;34m,\u001b[0m \u001b[0mheaders\u001b[0m\u001b[0;34m=\u001b[0m\u001b[0;34m{\u001b[0m\u001b[0;34m}\u001b[0m\u001b[0;34m)\u001b[0m\u001b[0;34m:\u001b[0m\u001b[0;34m\u001b[0m\u001b[0m\n",
        "\u001b[0;32m/opt/local/Library/Frameworks/Python.framework/Versions/2.7/lib/python2.7/httplib.pyc\u001b[0m in \u001b[0;36m_send_output\u001b[0;34m(self, message_body)\u001b[0m\n\u001b[1;32m    842\u001b[0m             \u001b[0mmsg\u001b[0m \u001b[0;34m+=\u001b[0m \u001b[0mmessage_body\u001b[0m\u001b[0;34m\u001b[0m\u001b[0m\n\u001b[1;32m    843\u001b[0m             \u001b[0mmessage_body\u001b[0m \u001b[0;34m=\u001b[0m \u001b[0mNone\u001b[0m\u001b[0;34m\u001b[0m\u001b[0m\n\u001b[0;32m--> 844\u001b[0;31m         \u001b[0mself\u001b[0m\u001b[0;34m.\u001b[0m\u001b[0msend\u001b[0m\u001b[0;34m(\u001b[0m\u001b[0mmsg\u001b[0m\u001b[0;34m)\u001b[0m\u001b[0;34m\u001b[0m\u001b[0m\n\u001b[0m\u001b[1;32m    845\u001b[0m         \u001b[0;32mif\u001b[0m \u001b[0mmessage_body\u001b[0m \u001b[0;32mis\u001b[0m \u001b[0;32mnot\u001b[0m \u001b[0mNone\u001b[0m\u001b[0;34m:\u001b[0m\u001b[0;34m\u001b[0m\u001b[0m\n\u001b[1;32m    846\u001b[0m             \u001b[0;31m#message_body was not a string (i.e. it is a file) and\u001b[0m\u001b[0;34m\u001b[0m\u001b[0;34m\u001b[0m\u001b[0m\n",
        "\u001b[0;32m/opt/local/Library/Frameworks/Python.framework/Versions/2.7/lib/python2.7/httplib.pyc\u001b[0m in \u001b[0;36msend\u001b[0;34m(self, data)\u001b[0m\n\u001b[1;32m    804\u001b[0m         \u001b[0;32mif\u001b[0m \u001b[0mself\u001b[0m\u001b[0;34m.\u001b[0m\u001b[0msock\u001b[0m \u001b[0;32mis\u001b[0m \u001b[0mNone\u001b[0m\u001b[0;34m:\u001b[0m\u001b[0;34m\u001b[0m\u001b[0m\n\u001b[1;32m    805\u001b[0m             \u001b[0;32mif\u001b[0m \u001b[0mself\u001b[0m\u001b[0;34m.\u001b[0m\u001b[0mauto_open\u001b[0m\u001b[0;34m:\u001b[0m\u001b[0;34m\u001b[0m\u001b[0m\n\u001b[0;32m--> 806\u001b[0;31m                 \u001b[0mself\u001b[0m\u001b[0;34m.\u001b[0m\u001b[0mconnect\u001b[0m\u001b[0;34m(\u001b[0m\u001b[0;34m)\u001b[0m\u001b[0;34m\u001b[0m\u001b[0m\n\u001b[0m\u001b[1;32m    807\u001b[0m             \u001b[0;32melse\u001b[0m\u001b[0;34m:\u001b[0m\u001b[0;34m\u001b[0m\u001b[0m\n\u001b[1;32m    808\u001b[0m                 \u001b[0;32mraise\u001b[0m \u001b[0mNotConnected\u001b[0m\u001b[0;34m(\u001b[0m\u001b[0;34m)\u001b[0m\u001b[0;34m\u001b[0m\u001b[0m\n",
        "\u001b[0;32m/opt/local/Library/Frameworks/Python.framework/Versions/2.7/lib/python2.7/site-packages/requests/packages/urllib3/connection.pyc\u001b[0m in \u001b[0;36mconnect\u001b[0;34m(self)\u001b[0m\n\u001b[1;32m    162\u001b[0m                                     \u001b[0mca_certs\u001b[0m\u001b[0;34m=\u001b[0m\u001b[0mself\u001b[0m\u001b[0;34m.\u001b[0m\u001b[0mca_certs\u001b[0m\u001b[0;34m,\u001b[0m\u001b[0;34m\u001b[0m\u001b[0m\n\u001b[1;32m    163\u001b[0m                                     \u001b[0mserver_hostname\u001b[0m\u001b[0;34m=\u001b[0m\u001b[0mself\u001b[0m\u001b[0;34m.\u001b[0m\u001b[0mhost\u001b[0m\u001b[0;34m,\u001b[0m\u001b[0;34m\u001b[0m\u001b[0m\n\u001b[0;32m--> 164\u001b[0;31m                                     ssl_version=resolved_ssl_version)\n\u001b[0m\u001b[1;32m    165\u001b[0m \u001b[0;34m\u001b[0m\u001b[0m\n\u001b[1;32m    166\u001b[0m         \u001b[0;32mif\u001b[0m \u001b[0mresolved_cert_reqs\u001b[0m \u001b[0;34m!=\u001b[0m \u001b[0mssl\u001b[0m\u001b[0;34m.\u001b[0m\u001b[0mCERT_NONE\u001b[0m\u001b[0;34m:\u001b[0m\u001b[0;34m\u001b[0m\u001b[0m\n",
        "\u001b[0;32m/opt/local/Library/Frameworks/Python.framework/Versions/2.7/lib/python2.7/site-packages/requests/packages/urllib3/util.pyc\u001b[0m in \u001b[0;36mssl_wrap_socket\u001b[0;34m(sock, keyfile, certfile, cert_reqs, ca_certs, server_hostname, ssl_version)\u001b[0m\n\u001b[1;32m    646\u001b[0m         return wrap_socket(sock, keyfile=keyfile, certfile=certfile,\n\u001b[1;32m    647\u001b[0m                            \u001b[0mca_certs\u001b[0m\u001b[0;34m=\u001b[0m\u001b[0mca_certs\u001b[0m\u001b[0;34m,\u001b[0m \u001b[0mcert_reqs\u001b[0m\u001b[0;34m=\u001b[0m\u001b[0mcert_reqs\u001b[0m\u001b[0;34m,\u001b[0m\u001b[0;34m\u001b[0m\u001b[0m\n\u001b[0;32m--> 648\u001b[0;31m                            ssl_version=ssl_version)\n\u001b[0m",
        "\u001b[0;32m/opt/local/Library/Frameworks/Python.framework/Versions/2.7/lib/python2.7/ssl.pyc\u001b[0m in \u001b[0;36mwrap_socket\u001b[0;34m(sock, keyfile, certfile, server_side, cert_reqs, ssl_version, ca_certs, do_handshake_on_connect, suppress_ragged_eofs, ciphers)\u001b[0m\n\u001b[1;32m    390\u001b[0m                      \u001b[0mdo_handshake_on_connect\u001b[0m\u001b[0;34m=\u001b[0m\u001b[0mdo_handshake_on_connect\u001b[0m\u001b[0;34m,\u001b[0m\u001b[0;34m\u001b[0m\u001b[0m\n\u001b[1;32m    391\u001b[0m                      \u001b[0msuppress_ragged_eofs\u001b[0m\u001b[0;34m=\u001b[0m\u001b[0msuppress_ragged_eofs\u001b[0m\u001b[0;34m,\u001b[0m\u001b[0;34m\u001b[0m\u001b[0m\n\u001b[0;32m--> 392\u001b[0;31m                      ciphers=ciphers)\n\u001b[0m\u001b[1;32m    393\u001b[0m \u001b[0;34m\u001b[0m\u001b[0m\n\u001b[1;32m    394\u001b[0m \u001b[0;34m\u001b[0m\u001b[0m\n",
        "\u001b[0;32m/opt/local/Library/Frameworks/Python.framework/Versions/2.7/lib/python2.7/ssl.pyc\u001b[0m in \u001b[0;36m__init__\u001b[0;34m(self, sock, keyfile, certfile, server_side, cert_reqs, ssl_version, ca_certs, do_handshake_on_connect, suppress_ragged_eofs, ciphers)\u001b[0m\n\u001b[1;32m    146\u001b[0m                                         ciphers)\n\u001b[1;32m    147\u001b[0m             \u001b[0;32mif\u001b[0m \u001b[0mdo_handshake_on_connect\u001b[0m\u001b[0;34m:\u001b[0m\u001b[0;34m\u001b[0m\u001b[0m\n\u001b[0;32m--> 148\u001b[0;31m                 \u001b[0mself\u001b[0m\u001b[0;34m.\u001b[0m\u001b[0mdo_handshake\u001b[0m\u001b[0;34m(\u001b[0m\u001b[0;34m)\u001b[0m\u001b[0;34m\u001b[0m\u001b[0m\n\u001b[0m\u001b[1;32m    149\u001b[0m         \u001b[0mself\u001b[0m\u001b[0;34m.\u001b[0m\u001b[0mkeyfile\u001b[0m \u001b[0;34m=\u001b[0m \u001b[0mkeyfile\u001b[0m\u001b[0;34m\u001b[0m\u001b[0m\n\u001b[1;32m    150\u001b[0m         \u001b[0mself\u001b[0m\u001b[0;34m.\u001b[0m\u001b[0mcertfile\u001b[0m \u001b[0;34m=\u001b[0m \u001b[0mcertfile\u001b[0m\u001b[0;34m\u001b[0m\u001b[0m\n",
        "\u001b[0;32m/opt/local/Library/Frameworks/Python.framework/Versions/2.7/lib/python2.7/ssl.pyc\u001b[0m in \u001b[0;36mdo_handshake\u001b[0;34m(self)\u001b[0m\n\u001b[1;32m    308\u001b[0m         \u001b[0;34m\"\"\"Perform a TLS/SSL handshake.\"\"\"\u001b[0m\u001b[0;34m\u001b[0m\u001b[0m\n\u001b[1;32m    309\u001b[0m \u001b[0;34m\u001b[0m\u001b[0m\n\u001b[0;32m--> 310\u001b[0;31m         \u001b[0mself\u001b[0m\u001b[0;34m.\u001b[0m\u001b[0m_sslobj\u001b[0m\u001b[0;34m.\u001b[0m\u001b[0mdo_handshake\u001b[0m\u001b[0;34m(\u001b[0m\u001b[0;34m)\u001b[0m\u001b[0;34m\u001b[0m\u001b[0m\n\u001b[0m\u001b[1;32m    311\u001b[0m \u001b[0;34m\u001b[0m\u001b[0m\n\u001b[1;32m    312\u001b[0m     \u001b[0;32mdef\u001b[0m \u001b[0m_real_connect\u001b[0m\u001b[0;34m(\u001b[0m\u001b[0mself\u001b[0m\u001b[0;34m,\u001b[0m \u001b[0maddr\u001b[0m\u001b[0;34m,\u001b[0m \u001b[0mreturn_errno\u001b[0m\u001b[0;34m)\u001b[0m\u001b[0;34m:\u001b[0m\u001b[0;34m\u001b[0m\u001b[0m\n",
        "\u001b[0;31mKeyboardInterrupt\u001b[0m: "
       ]
      }
     ],
     "prompt_number": 37
    },
    {
     "cell_type": "code",
     "collapsed": false,
     "input": [
      "in_table = 0\n",
      "for form,to,count in all_went_next:\n",
      "    in_table += to in (matched.four_square_id).sum()\n",
      "    print in_table\n",
      "print in_table"
     ],
     "language": "python",
     "metadata": {},
     "outputs": [
      {
       "output_type": "stream",
       "stream": "stdout",
       "text": [
        "1\n",
        "2"
       ]
      },
      {
       "output_type": "stream",
       "stream": "stdout",
       "text": [
        "\n",
        "3"
       ]
      },
      {
       "output_type": "stream",
       "stream": "stdout",
       "text": [
        "\n",
        "4"
       ]
      },
      {
       "output_type": "stream",
       "stream": "stdout",
       "text": [
        "\n",
        "5"
       ]
      },
      {
       "output_type": "stream",
       "stream": "stdout",
       "text": [
        "\n",
        "6"
       ]
      },
      {
       "output_type": "stream",
       "stream": "stdout",
       "text": [
        "\n",
        "7"
       ]
      },
      {
       "output_type": "stream",
       "stream": "stdout",
       "text": [
        "\n",
        "8"
       ]
      },
      {
       "output_type": "stream",
       "stream": "stdout",
       "text": [
        "\n",
        "9"
       ]
      },
      {
       "output_type": "stream",
       "stream": "stdout",
       "text": [
        "\n",
        "9"
       ]
      },
      {
       "output_type": "stream",
       "stream": "stdout",
       "text": [
        "\n",
        "10"
       ]
      },
      {
       "output_type": "stream",
       "stream": "stdout",
       "text": [
        "\n",
        "11"
       ]
      },
      {
       "output_type": "stream",
       "stream": "stdout",
       "text": [
        "\n",
        "12"
       ]
      },
      {
       "output_type": "stream",
       "stream": "stdout",
       "text": [
        "\n",
        "12"
       ]
      },
      {
       "output_type": "stream",
       "stream": "stdout",
       "text": [
        "\n",
        "12"
       ]
      },
      {
       "output_type": "stream",
       "stream": "stdout",
       "text": [
        "\n",
        "13"
       ]
      },
      {
       "output_type": "stream",
       "stream": "stdout",
       "text": [
        "\n",
        "14"
       ]
      },
      {
       "output_type": "stream",
       "stream": "stdout",
       "text": [
        "\n",
        "14"
       ]
      },
      {
       "output_type": "stream",
       "stream": "stdout",
       "text": [
        "\n",
        "15"
       ]
      },
      {
       "output_type": "stream",
       "stream": "stdout",
       "text": [
        "\n"
       ]
      },
      {
       "ename": "KeyboardInterrupt",
       "evalue": "",
       "output_type": "pyerr",
       "traceback": [
        "\u001b[0;31m---------------------------------------------------------------------------\u001b[0m\n\u001b[0;31mKeyboardInterrupt\u001b[0m                         Traceback (most recent call last)",
        "\u001b[0;32m<ipython-input-38-476fe383cd37>\u001b[0m in \u001b[0;36m<module>\u001b[0;34m()\u001b[0m\n\u001b[1;32m      1\u001b[0m \u001b[0min_table\u001b[0m \u001b[0;34m=\u001b[0m \u001b[0;36m0\u001b[0m\u001b[0;34m\u001b[0m\u001b[0m\n\u001b[1;32m      2\u001b[0m \u001b[0;32mfor\u001b[0m \u001b[0mform\u001b[0m\u001b[0;34m,\u001b[0m\u001b[0mto\u001b[0m\u001b[0;34m,\u001b[0m\u001b[0mcount\u001b[0m \u001b[0;32min\u001b[0m \u001b[0mall_went_next\u001b[0m\u001b[0;34m:\u001b[0m\u001b[0;34m\u001b[0m\u001b[0m\n\u001b[0;32m----> 3\u001b[0;31m     \u001b[0min_table\u001b[0m \u001b[0;34m+=\u001b[0m \u001b[0mto\u001b[0m \u001b[0;32min\u001b[0m \u001b[0;34m(\u001b[0m\u001b[0mmatched\u001b[0m\u001b[0;34m.\u001b[0m\u001b[0mfour_square_id\u001b[0m\u001b[0;34m)\u001b[0m\u001b[0;34m.\u001b[0m\u001b[0msum\u001b[0m\u001b[0;34m(\u001b[0m\u001b[0;34m)\u001b[0m\u001b[0;34m\u001b[0m\u001b[0m\n\u001b[0m\u001b[1;32m      4\u001b[0m     \u001b[0;32mprint\u001b[0m \u001b[0min_table\u001b[0m\u001b[0;34m\u001b[0m\u001b[0m\n\u001b[1;32m      5\u001b[0m \u001b[0;32mprint\u001b[0m \u001b[0min_table\u001b[0m\u001b[0;34m\u001b[0m\u001b[0m\n",
        "\u001b[0;32m/opt/local/Library/Frameworks/Python.framework/Versions/2.7/lib/python2.7/site-packages/pandas/core/generic.pyc\u001b[0m in \u001b[0;36mstat_func\u001b[0;34m(self, axis, skipna, level, numeric_only, **kwargs)\u001b[0m\n\u001b[1;32m   3248\u001b[0m                                               skipna=skipna)\n\u001b[1;32m   3249\u001b[0m                 return self._reduce(f, axis=axis,\n\u001b[0;32m-> 3250\u001b[0;31m                                     skipna=skipna, numeric_only=numeric_only)\n\u001b[0m\u001b[1;32m   3251\u001b[0m             \u001b[0mstat_func\u001b[0m\u001b[0;34m.\u001b[0m\u001b[0m__name__\u001b[0m \u001b[0;34m=\u001b[0m \u001b[0mname\u001b[0m\u001b[0;34m\u001b[0m\u001b[0m\n\u001b[1;32m   3252\u001b[0m             \u001b[0;32mreturn\u001b[0m \u001b[0mstat_func\u001b[0m\u001b[0;34m\u001b[0m\u001b[0m\n",
        "\u001b[0;32m/opt/local/Library/Frameworks/Python.framework/Versions/2.7/lib/python2.7/site-packages/pandas/core/series.pyc\u001b[0m in \u001b[0;36m_reduce\u001b[0;34m(self, op, axis, skipna, numeric_only, filter_type, **kwds)\u001b[0m\n\u001b[1;32m   2032\u001b[0m                 filter_type=None, **kwds):\n\u001b[1;32m   2033\u001b[0m         \u001b[0;34m\"\"\" perform a reduction operation \"\"\"\u001b[0m\u001b[0;34m\u001b[0m\u001b[0m\n\u001b[0;32m-> 2034\u001b[0;31m         \u001b[0;32mreturn\u001b[0m \u001b[0mop\u001b[0m\u001b[0;34m(\u001b[0m\u001b[0m_values_from_object\u001b[0m\u001b[0;34m(\u001b[0m\u001b[0mself\u001b[0m\u001b[0;34m)\u001b[0m\u001b[0;34m,\u001b[0m \u001b[0mskipna\u001b[0m\u001b[0;34m=\u001b[0m\u001b[0mskipna\u001b[0m\u001b[0;34m,\u001b[0m \u001b[0;34m**\u001b[0m\u001b[0mkwds\u001b[0m\u001b[0;34m)\u001b[0m\u001b[0;34m\u001b[0m\u001b[0m\n\u001b[0m\u001b[1;32m   2035\u001b[0m \u001b[0;34m\u001b[0m\u001b[0m\n\u001b[1;32m   2036\u001b[0m     \u001b[0;32mdef\u001b[0m \u001b[0m_reindex_indexer\u001b[0m\u001b[0;34m(\u001b[0m\u001b[0mself\u001b[0m\u001b[0;34m,\u001b[0m \u001b[0mnew_index\u001b[0m\u001b[0;34m,\u001b[0m \u001b[0mindexer\u001b[0m\u001b[0;34m,\u001b[0m \u001b[0mcopy\u001b[0m\u001b[0;34m)\u001b[0m\u001b[0;34m:\u001b[0m\u001b[0;34m\u001b[0m\u001b[0m\n",
        "\u001b[0;32m/opt/local/Library/Frameworks/Python.framework/Versions/2.7/lib/python2.7/site-packages/pandas/core/nanops.pyc\u001b[0m in \u001b[0;36m_f\u001b[0;34m(*args, **kwargs)\u001b[0m\n\u001b[1;32m     41\u001b[0m                                 'this dtype'.format(f.__name__.replace('nan',\n\u001b[1;32m     42\u001b[0m                                                                        '')))\n\u001b[0;32m---> 43\u001b[0;31m             \u001b[0;32mreturn\u001b[0m \u001b[0mf\u001b[0m\u001b[0;34m(\u001b[0m\u001b[0;34m*\u001b[0m\u001b[0margs\u001b[0m\u001b[0;34m,\u001b[0m \u001b[0;34m**\u001b[0m\u001b[0mkwargs\u001b[0m\u001b[0;34m)\u001b[0m\u001b[0;34m\u001b[0m\u001b[0m\n\u001b[0m\u001b[1;32m     44\u001b[0m         \u001b[0;32mreturn\u001b[0m \u001b[0m_f\u001b[0m\u001b[0;34m\u001b[0m\u001b[0m\n\u001b[1;32m     45\u001b[0m \u001b[0;34m\u001b[0m\u001b[0m\n",
        "\u001b[0;32m/opt/local/Library/Frameworks/Python.framework/Versions/2.7/lib/python2.7/site-packages/pandas/core/nanops.pyc\u001b[0m in \u001b[0;36mf\u001b[0;34m(values, axis, skipna, **kwds)\u001b[0m\n\u001b[1;32m     84\u001b[0m                         \u001b[0mresult\u001b[0m \u001b[0;34m=\u001b[0m \u001b[0malt\u001b[0m\u001b[0;34m(\u001b[0m\u001b[0mvalues\u001b[0m\u001b[0;34m,\u001b[0m \u001b[0maxis\u001b[0m\u001b[0;34m=\u001b[0m\u001b[0maxis\u001b[0m\u001b[0;34m,\u001b[0m \u001b[0mskipna\u001b[0m\u001b[0;34m=\u001b[0m\u001b[0mskipna\u001b[0m\u001b[0;34m,\u001b[0m \u001b[0;34m**\u001b[0m\u001b[0mkwds\u001b[0m\u001b[0;34m)\u001b[0m\u001b[0;34m\u001b[0m\u001b[0m\n\u001b[1;32m     85\u001b[0m                 \u001b[0;32melse\u001b[0m\u001b[0;34m:\u001b[0m\u001b[0;34m\u001b[0m\u001b[0m\n\u001b[0;32m---> 86\u001b[0;31m                     \u001b[0mresult\u001b[0m \u001b[0;34m=\u001b[0m \u001b[0malt\u001b[0m\u001b[0;34m(\u001b[0m\u001b[0mvalues\u001b[0m\u001b[0;34m,\u001b[0m \u001b[0maxis\u001b[0m\u001b[0;34m=\u001b[0m\u001b[0maxis\u001b[0m\u001b[0;34m,\u001b[0m \u001b[0mskipna\u001b[0m\u001b[0;34m=\u001b[0m\u001b[0mskipna\u001b[0m\u001b[0;34m,\u001b[0m \u001b[0;34m**\u001b[0m\u001b[0mkwds\u001b[0m\u001b[0;34m)\u001b[0m\u001b[0;34m\u001b[0m\u001b[0m\n\u001b[0m\u001b[1;32m     87\u001b[0m             \u001b[0;32mexcept\u001b[0m \u001b[0mException\u001b[0m\u001b[0;34m:\u001b[0m\u001b[0;34m\u001b[0m\u001b[0m\n\u001b[1;32m     88\u001b[0m                 \u001b[0mresult\u001b[0m \u001b[0;34m=\u001b[0m \u001b[0malt\u001b[0m\u001b[0;34m(\u001b[0m\u001b[0mvalues\u001b[0m\u001b[0;34m,\u001b[0m \u001b[0maxis\u001b[0m\u001b[0;34m=\u001b[0m\u001b[0maxis\u001b[0m\u001b[0;34m,\u001b[0m \u001b[0mskipna\u001b[0m\u001b[0;34m=\u001b[0m\u001b[0mskipna\u001b[0m\u001b[0;34m,\u001b[0m \u001b[0;34m**\u001b[0m\u001b[0mkwds\u001b[0m\u001b[0;34m)\u001b[0m\u001b[0;34m\u001b[0m\u001b[0m\n",
        "\u001b[0;32m/opt/local/Library/Frameworks/Python.framework/Versions/2.7/lib/python2.7/site-packages/pandas/core/nanops.pyc\u001b[0m in \u001b[0;36mnansum\u001b[0;34m(values, axis, skipna)\u001b[0m\n\u001b[1;32m    227\u001b[0m \u001b[0;32mdef\u001b[0m \u001b[0mnansum\u001b[0m\u001b[0;34m(\u001b[0m\u001b[0mvalues\u001b[0m\u001b[0;34m,\u001b[0m \u001b[0maxis\u001b[0m\u001b[0;34m=\u001b[0m\u001b[0mNone\u001b[0m\u001b[0;34m,\u001b[0m \u001b[0mskipna\u001b[0m\u001b[0;34m=\u001b[0m\u001b[0mTrue\u001b[0m\u001b[0;34m)\u001b[0m\u001b[0;34m:\u001b[0m\u001b[0;34m\u001b[0m\u001b[0m\n\u001b[1;32m    228\u001b[0m     \u001b[0mvalues\u001b[0m\u001b[0;34m,\u001b[0m \u001b[0mmask\u001b[0m\u001b[0;34m,\u001b[0m \u001b[0mdtype\u001b[0m \u001b[0;34m=\u001b[0m \u001b[0m_get_values\u001b[0m\u001b[0;34m(\u001b[0m\u001b[0mvalues\u001b[0m\u001b[0;34m,\u001b[0m \u001b[0mskipna\u001b[0m\u001b[0;34m,\u001b[0m \u001b[0;36m0\u001b[0m\u001b[0;34m)\u001b[0m\u001b[0;34m\u001b[0m\u001b[0m\n\u001b[0;32m--> 229\u001b[0;31m     \u001b[0mthe_sum\u001b[0m \u001b[0;34m=\u001b[0m \u001b[0mvalues\u001b[0m\u001b[0;34m.\u001b[0m\u001b[0msum\u001b[0m\u001b[0;34m(\u001b[0m\u001b[0maxis\u001b[0m\u001b[0;34m)\u001b[0m\u001b[0;34m\u001b[0m\u001b[0m\n\u001b[0m\u001b[1;32m    230\u001b[0m     \u001b[0mthe_sum\u001b[0m \u001b[0;34m=\u001b[0m \u001b[0m_maybe_null_out\u001b[0m\u001b[0;34m(\u001b[0m\u001b[0mthe_sum\u001b[0m\u001b[0;34m,\u001b[0m \u001b[0maxis\u001b[0m\u001b[0;34m,\u001b[0m \u001b[0mmask\u001b[0m\u001b[0;34m)\u001b[0m\u001b[0;34m\u001b[0m\u001b[0m\n\u001b[1;32m    231\u001b[0m     \u001b[0;32mreturn\u001b[0m \u001b[0mthe_sum\u001b[0m\u001b[0;34m\u001b[0m\u001b[0m\n",
        "\u001b[0;32m/opt/local/Library/Frameworks/Python.framework/Versions/2.7/lib/python2.7/site-packages/numpy/core/_methods.pyc\u001b[0m in \u001b[0;36m_sum\u001b[0;34m(a, axis, dtype, out, keepdims)\u001b[0m\n\u001b[1;32m     23\u001b[0m \u001b[0;32mdef\u001b[0m \u001b[0m_sum\u001b[0m\u001b[0;34m(\u001b[0m\u001b[0ma\u001b[0m\u001b[0;34m,\u001b[0m \u001b[0maxis\u001b[0m\u001b[0;34m=\u001b[0m\u001b[0mNone\u001b[0m\u001b[0;34m,\u001b[0m \u001b[0mdtype\u001b[0m\u001b[0;34m=\u001b[0m\u001b[0mNone\u001b[0m\u001b[0;34m,\u001b[0m \u001b[0mout\u001b[0m\u001b[0;34m=\u001b[0m\u001b[0mNone\u001b[0m\u001b[0;34m,\u001b[0m \u001b[0mkeepdims\u001b[0m\u001b[0;34m=\u001b[0m\u001b[0mFalse\u001b[0m\u001b[0;34m)\u001b[0m\u001b[0;34m:\u001b[0m\u001b[0;34m\u001b[0m\u001b[0m\n\u001b[1;32m     24\u001b[0m     return um.add.reduce(a, axis=axis, dtype=dtype,\n\u001b[0;32m---> 25\u001b[0;31m                             out=out, keepdims=keepdims)\n\u001b[0m\u001b[1;32m     26\u001b[0m \u001b[0;34m\u001b[0m\u001b[0m\n\u001b[1;32m     27\u001b[0m \u001b[0;32mdef\u001b[0m \u001b[0m_prod\u001b[0m\u001b[0;34m(\u001b[0m\u001b[0ma\u001b[0m\u001b[0;34m,\u001b[0m \u001b[0maxis\u001b[0m\u001b[0;34m=\u001b[0m\u001b[0mNone\u001b[0m\u001b[0;34m,\u001b[0m \u001b[0mdtype\u001b[0m\u001b[0;34m=\u001b[0m\u001b[0mNone\u001b[0m\u001b[0;34m,\u001b[0m \u001b[0mout\u001b[0m\u001b[0;34m=\u001b[0m\u001b[0mNone\u001b[0m\u001b[0;34m,\u001b[0m \u001b[0mkeepdims\u001b[0m\u001b[0;34m=\u001b[0m\u001b[0mFalse\u001b[0m\u001b[0;34m)\u001b[0m\u001b[0;34m:\u001b[0m\u001b[0;34m\u001b[0m\u001b[0m\n",
        "\u001b[0;31mKeyboardInterrupt\u001b[0m: "
       ]
      }
     ],
     "prompt_number": 38
    },
    {
     "cell_type": "code",
     "collapsed": false,
     "input": [
      "(matched.four_square_id == '4af70aa2f964a5201d0522e3').sum()"
     ],
     "language": "python",
     "metadata": {},
     "outputs": [
      {
       "metadata": {},
       "output_type": "pyout",
       "prompt_number": 23,
       "text": [
        "1"
       ]
      }
     ],
     "prompt_number": 23
    },
    {
     "cell_type": "code",
     "collapsed": false,
     "input": [],
     "language": "python",
     "metadata": {},
     "outputs": []
    }
   ],
   "metadata": {}
  }
 ]
}