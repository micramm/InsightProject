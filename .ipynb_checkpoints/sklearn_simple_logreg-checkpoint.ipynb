{
 "metadata": {
  "name": "",
  "signature": "sha256:628c40b7bd483323627826763cc5dee17b60bfbf4b00e0259d18ba871b28fabf"
 },
 "nbformat": 3,
 "nbformat_minor": 0,
 "worksheets": [
  {
   "cells": [
    {
     "cell_type": "code",
     "collapsed": false,
     "input": [
      "import sklearn\n",
      "from sklearn.cross_validation import train_test_split\n",
      "from sklearn.linear_model import LogisticRegression\n",
      "import numpy as np"
     ],
     "language": "python",
     "metadata": {},
     "outputs": [],
     "prompt_number": 11
    },
    {
     "cell_type": "code",
     "collapsed": false,
     "input": [
      "x = np.array([[0],[1],[2],[3],[4],[5],[6],[7],[8],[9]])\n",
      "y = np.array([0] * 5 + [1] * 5)"
     ],
     "language": "python",
     "metadata": {},
     "outputs": [],
     "prompt_number": 132
    },
    {
     "cell_type": "code",
     "collapsed": false,
     "input": [
      "print xp, y"
     ],
     "language": "python",
     "metadata": {},
     "outputs": [
      {
       "output_type": "stream",
       "stream": "stdout",
       "text": [
        "[[-1.5666989 ]\n",
        " [-1.21854359]\n",
        " [-0.87038828]\n",
        " [-0.52223297]\n",
        " [-0.17407766]\n",
        " [ 0.17407766]\n",
        " [ 0.52223297]\n",
        " [ 0.87038828]\n",
        " [ 1.21854359]\n",
        " [ 1.5666989 ]] [-1 -1 -1 -1 -1  1  1  1  1  1]\n"
       ]
      }
     ],
     "prompt_number": 126
    },
    {
     "cell_type": "code",
     "collapsed": false,
     "input": [
      "logreg = LogisticRegression(class_weight = 'auto')"
     ],
     "language": "python",
     "metadata": {},
     "outputs": [],
     "prompt_number": 154
    },
    {
     "cell_type": "code",
     "collapsed": false,
     "input": [
      "xp = (x - x.mean())/x.std()\n",
      "xp = np.hstack((xp, xp))\n",
      "print xp\n",
      "# print x.shape\n",
      "# print x.transpose().shape\n",
      "# print y\n",
      "logreg.fit(xp, y)"
     ],
     "language": "python",
     "metadata": {},
     "outputs": [
      {
       "output_type": "stream",
       "stream": "stdout",
       "text": [
        "[[-1.5666989  -1.5666989 ]\n",
        " [-1.21854359 -1.21854359]\n",
        " [-0.87038828 -0.87038828]\n",
        " [-0.52223297 -0.52223297]\n",
        " [-0.17407766 -0.17407766]\n",
        " [ 0.17407766  0.17407766]\n",
        " [ 0.52223297  0.52223297]\n",
        " [ 0.87038828  0.87038828]\n",
        " [ 1.21854359  1.21854359]\n",
        " [ 1.5666989   1.5666989 ]]\n"
       ]
      },
      {
       "metadata": {},
       "output_type": "pyout",
       "prompt_number": 152,
       "text": [
        "LogisticRegression(C=1.0, class_weight={0: 0, 1: 1}, dual=False,\n",
        "          fit_intercept=True, intercept_scaling=1, penalty='l2',\n",
        "          random_state=None, tol=0.0001)"
       ]
      }
     ],
     "prompt_number": 152
    },
    {
     "cell_type": "code",
     "collapsed": false,
     "input": [
      "logreg.score(xp,y)"
     ],
     "language": "python",
     "metadata": {},
     "outputs": [
      {
       "metadata": {},
       "output_type": "pyout",
       "prompt_number": 153,
       "text": [
        "0.80000000000000004"
       ]
      }
     ],
     "prompt_number": 153
    },
    {
     "cell_type": "code",
     "collapsed": false,
     "input": [
      "logreg.predict_proba([1,-1])"
     ],
     "language": "python",
     "metadata": {},
     "outputs": [
      {
       "metadata": {},
       "output_type": "pyout",
       "prompt_number": 144,
       "text": [
        "array([[ 0.5,  0.5]])"
       ]
      }
     ],
     "prompt_number": 144
    },
    {
     "cell_type": "code",
     "collapsed": false,
     "input": [],
     "language": "python",
     "metadata": {},
     "outputs": []
    }
   ],
   "metadata": {}
  }
 ]
}