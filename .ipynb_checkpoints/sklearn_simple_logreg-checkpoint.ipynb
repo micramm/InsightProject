{
 "metadata": {
  "name": "",
  "signature": "sha256:54093dac1db4c8d5cc4cd0c39b252b49d9a4fa32d59afa09d1a7e67cd9eec384"
 },
 "nbformat": 3,
 "nbformat_minor": 0,
 "worksheets": [
  {
   "cells": [
    {
     "cell_type": "code",
     "collapsed": false,
     "input": [
      "import sklearn\n",
      "from sklearn.cross_validation import train_test_split\n",
      "from sklearn.linear_model import LogisticRegression\n",
      "from sklearn.metrics import roc_curve, precision_recall_curve\n",
      "import numpy as np\n",
      "from matplotlib import pyplot as plt\n",
      "%matplotlib inline"
     ],
     "language": "python",
     "metadata": {},
     "outputs": [],
     "prompt_number": 60
    },
    {
     "cell_type": "code",
     "collapsed": false,
     "input": [
      "x = np.array([[0],[1],[2],[3],[4],[5],[6],[7],[8],[9]])\n",
      "y = np.array([0] * 5 + [1] * 5)"
     ],
     "language": "python",
     "metadata": {},
     "outputs": [],
     "prompt_number": 2
    },
    {
     "cell_type": "code",
     "collapsed": false,
     "input": [
      "print x.transpose(), y"
     ],
     "language": "python",
     "metadata": {},
     "outputs": [
      {
       "output_type": "stream",
       "stream": "stdout",
       "text": [
        "[[0 1 2 3 4 5 6 7 8 9]] [0 0 0 0 0 1 1 1 1 1]\n"
       ]
      }
     ],
     "prompt_number": 3
    },
    {
     "cell_type": "code",
     "collapsed": false,
     "input": [
      "logreg = LogisticRegression(class_weight = 'auto')"
     ],
     "language": "python",
     "metadata": {},
     "outputs": [],
     "prompt_number": 4
    },
    {
     "cell_type": "code",
     "collapsed": false,
     "input": [
      "xp = (x - x.mean())/x.std()\n",
      "print xp\n",
      "# print x.shape\n",
      "# print x.transpose().shape\n",
      "# print y\n",
      "logreg.fit(xp, y)"
     ],
     "language": "python",
     "metadata": {},
     "outputs": [
      {
       "output_type": "stream",
       "stream": "stdout",
       "text": [
        "[[-1.5666989 ]\n",
        " [-1.21854359]\n",
        " [-0.87038828]\n",
        " [-0.52223297]\n",
        " [-0.17407766]\n",
        " [ 0.17407766]\n",
        " [ 0.52223297]\n",
        " [ 0.87038828]\n",
        " [ 1.21854359]\n",
        " [ 1.5666989 ]]\n"
       ]
      },
      {
       "metadata": {},
       "output_type": "pyout",
       "prompt_number": 5,
       "text": [
        "LogisticRegression(C=1.0, class_weight='auto', dual=False, fit_intercept=True,\n",
        "          intercept_scaling=1, penalty='l2', random_state=None, tol=0.0001)"
       ]
      }
     ],
     "prompt_number": 5
    },
    {
     "cell_type": "code",
     "collapsed": false,
     "input": [
      "logreg.score(xp,y)"
     ],
     "language": "python",
     "metadata": {},
     "outputs": [
      {
       "metadata": {},
       "output_type": "pyout",
       "prompt_number": 6,
       "text": [
        "1.0"
       ]
      }
     ],
     "prompt_number": 6
    },
    {
     "cell_type": "code",
     "collapsed": false,
     "input": [
      "logreg.predict_proba([0])"
     ],
     "language": "python",
     "metadata": {},
     "outputs": [
      {
       "metadata": {},
       "output_type": "pyout",
       "prompt_number": 7,
       "text": [
        "array([[ 0.5,  0.5]])"
       ]
      }
     ],
     "prompt_number": 7
    },
    {
     "cell_type": "code",
     "collapsed": false,
     "input": [
      "logreg.get_params()"
     ],
     "language": "python",
     "metadata": {},
     "outputs": [
      {
       "metadata": {},
       "output_type": "pyout",
       "prompt_number": 8,
       "text": [
        "{'C': 1.0,\n",
        " 'class_weight': 'auto',\n",
        " 'dual': False,\n",
        " 'fit_intercept': True,\n",
        " 'intercept_scaling': 1,\n",
        " 'penalty': 'l2',\n",
        " 'random_state': None,\n",
        " 'tol': 0.0001}"
       ]
      }
     ],
     "prompt_number": 8
    },
    {
     "cell_type": "code",
     "collapsed": false,
     "input": [
      "x_test = np.linspace(-5,5,20)\n",
      "y_test = np.sign(x_test)\n",
      "print x_test, y_test\n",
      "x_test = x_test.reshape(-1,1) #make in the form [[-5],[-4.9],...]\n",
      "probs = logreg.predict_proba(x_test)\n",
      "probs = probs[:,1] #positive cases (labeled 1)\n",
      "plt.plot(x_test, probs)"
     ],
     "language": "python",
     "metadata": {},
     "outputs": [
      {
       "output_type": "stream",
       "stream": "stdout",
       "text": [
        "[-5.         -4.47368421 -3.94736842 -3.42105263 -2.89473684 -2.36842105\n",
        " -1.84210526 -1.31578947 -0.78947368 -0.26315789  0.26315789  0.78947368\n",
        "  1.31578947  1.84210526  2.36842105  2.89473684  3.42105263  3.94736842\n",
        "  4.47368421  5.        ] [-1. -1. -1. -1. -1. -1. -1. -1. -1. -1.  1.  1.  1.  1.  1.  1.  1.  1.\n",
        "  1.  1.]\n"
       ]
      },
      {
       "metadata": {},
       "output_type": "pyout",
       "prompt_number": 42,
       "text": [
        "[<matplotlib.lines.Line2D at 0x11322b990>]"
       ]
      },
      {
       "metadata": {},
       "output_type": "display_data",
       "png": "[encoded data removed]",
       "text": [
        "<matplotlib.figure.Figure at 0x113144410>"
       ]
      }
     ],
     "prompt_number": 42
    },
    {
     "cell_type": "code",
     "collapsed": false,
     "input": [
      "#look at coefficients, how they get computed\n",
      "print logreg.coef_\n",
      "print logreg.intercept_\n",
      "logreg.decision_function(2)"
     ],
     "language": "python",
     "metadata": {},
     "outputs": [
      {
       "output_type": "stream",
       "stream": "stdout",
       "text": [
        "[[ 1.48152159]]\n",
        "[ 0.]\n"
       ]
      },
      {
       "metadata": {},
       "output_type": "pyout",
       "prompt_number": 39,
       "text": [
        "array([ 2.96304319])"
       ]
      }
     ],
     "prompt_number": 39
    },
    {
     "cell_type": "code",
     "collapsed": false,
     "input": [
      "#plotting ROC curve\n",
      "fpr, tpr, thresholds = roc_curve(y_test, probs)\n",
      "plt.plot(fpr, tpr, '*--', label ='ROC Curve')\n",
      "plt.xlim(-.1,1.1)\n",
      "plt.ylim(-.1,1.1)\n",
      "plt.xlabel('False Positive Rate')\n",
      "plt.ylabel('True Positrive Rate')\n",
      "plt.legend(loc=\"best\")"
     ],
     "language": "python",
     "metadata": {},
     "outputs": [
      {
       "metadata": {},
       "output_type": "pyout",
       "prompt_number": 73,
       "text": [
        "<matplotlib.legend.Legend at 0x113267110>"
       ]
      },
      {
       "metadata": {},
       "output_type": "display_data",
       "png": "[encoded data removed]",
       "text": [
        "<matplotlib.figure.Figure at 0x10dd7b9d0>"
       ]
      }
     ],
     "prompt_number": 73
    },
    {
     "cell_type": "code",
     "collapsed": false,
     "input": [
      "#plot precision / recall curve\n",
      "precision, recall, thresholds = precision_recall_curve(y_test, probs)\n",
      "plt.plot(recall, precision, '*--',label='Precision-Recall curve')\n",
      "plt.xlabel('Recall')\n",
      "plt.ylabel('Precision')\n",
      "plt.legend(loc=\"best\")\n",
      "plt.xlim(-.1,1.1)\n",
      "plt.ylim(-.1,1.1)"
     ],
     "language": "python",
     "metadata": {},
     "outputs": [
      {
       "metadata": {},
       "output_type": "pyout",
       "prompt_number": 72,
       "text": [
        "(-0.1, 1.1)"
       ]
      },
      {
       "metadata": {},
       "output_type": "display_data",
       "png": "[encoded data removed]",
       "text": [
        "<matplotlib.figure.Figure at 0x11326f850>"
       ]
      }
     ],
     "prompt_number": 72
    },
    {
     "cell_type": "code",
     "collapsed": false,
     "input": [],
     "language": "python",
     "metadata": {},
     "outputs": []
    }
   ],
   "metadata": {}
  }
 ]
}