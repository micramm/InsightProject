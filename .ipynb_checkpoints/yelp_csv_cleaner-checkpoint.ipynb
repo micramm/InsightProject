{
 "metadata": {
  "name": "",
  "signature": "sha256:bb0581258a39578a041ea7f3c3ab4208203663912517e81536c675ed6aca854b"
 },
 "nbformat": 3,
 "nbformat_minor": 0,
 "worksheets": [
  {
   "cells": [
    {
     "cell_type": "code",
     "collapsed": false,
     "input": [
      "import numpy as np\n",
      "%matplotlib inline\n",
      "from matplotlib import pyplot as plt\n",
      "import re"
     ],
     "language": "python",
     "metadata": {},
     "outputs": [],
     "prompt_number": 2
    },
    {
     "cell_type": "code",
     "collapsed": false,
     "input": [
      "import pandas as pd\n",
      "df = pd.DataFrame.from_csv('yelp_data/yelp_raw.csv', index_col = False)"
     ],
     "language": "python",
     "metadata": {},
     "outputs": [],
     "prompt_number": 3
    },
    {
     "cell_type": "code",
     "collapsed": false,
     "input": [
      "'''Drop repeated elements'''\n",
      "df = df.drop_duplicates('id')"
     ],
     "language": "python",
     "metadata": {},
     "outputs": [],
     "prompt_number": 4
    },
    {
     "cell_type": "code",
     "collapsed": false,
     "input": [
      "print df.columns"
     ],
     "language": "python",
     "metadata": {},
     "outputs": [
      {
       "output_type": "stream",
       "stream": "stdout",
       "text": [
        "Index([u'address', u'categories', u'city', u'country_code', u'cross_streets', u'deals', u'display_address', u'display_phone', u'gift_certificates', u'id', u'image_url', u'is_claimed', u'is_closed', u'menu_date_updated', u'menu_provider', u'mobile_url', u'name', u'neighborhoods', u'phone', u'postal_code', u'rating', u'rating_img_url', u'rating_img_url_large', u'rating_img_url_small', u'review_count', u'snippet_image_url', u'snippet_text', u'state_code', u'url'], dtype='object')\n"
       ]
      }
     ],
     "prompt_number": 5
    },
    {
     "cell_type": "code",
     "collapsed": false,
     "input": [
      "'''Remove non-US listings as these were picked because of incorrect latitude / longitude information'''\n",
      "#example: http://www.yelp.com/map/subaru-sushi-xpress-madrid\n",
      "#also gets rid of the column\n",
      "df = df[(df.country_code == 'US')]\n",
      "df = df.drop('country_code', 1)\n",
      "print df.columns"
     ],
     "language": "python",
     "metadata": {},
     "outputs": [
      {
       "output_type": "stream",
       "stream": "stdout",
       "text": [
        "Index([u'address', u'categories', u'city', u'cross_streets', u'deals', u'display_address', u'display_phone', u'gift_certificates', u'id', u'image_url', u'is_claimed', u'is_closed', u'menu_date_updated', u'menu_provider', u'mobile_url', u'name', u'neighborhoods', u'phone', u'postal_code', u'rating', u'rating_img_url', u'rating_img_url_large', u'rating_img_url_small', u'review_count', u'snippet_image_url', u'snippet_text', u'state_code', u'url'], dtype='object')\n"
       ]
      }
     ],
     "prompt_number": 6
    },
    {
     "cell_type": "code",
     "collapsed": false,
     "input": [
      "'''Removing non-CA listings, same issues as above'''\n",
      "#http://www.yelp.com/biz/kelley-premeaux-tattoo-austin-4\n",
      "#http://www.yelp.com/biz/shawntays-creative-nail-boutique-baltimore-2\n",
      "#http://www.yelp.com/biz/gourmet2yourdoor-baltimore-2\n",
      "#http://www.yelp.com/biz/precision-plus-plumbing-philadelphia\n",
      "#http://www.yelp.com/biz/boston-baby-nurse-boston-2\n",
      "#http://www.yelp.com/biz/cinderellas-cleaning-richmond\n",
      "#http://www.yelp.com/biz/ai-kah-garden-lake-milton\n",
      "#http://www.yelp.com/biz/sam-adatos-drums-eugene\n",
      "df = df[(df.state_code == 'CA')]\n",
      "df = df.drop('state_code', 1)\n",
      "print df.columns"
     ],
     "language": "python",
     "metadata": {},
     "outputs": [
      {
       "output_type": "stream",
       "stream": "stdout",
       "text": [
        "Index([u'address', u'categories', u'city', u'cross_streets', u'deals', u'display_address', u'display_phone', u'gift_certificates', u'id', u'image_url', u'is_claimed', u'is_closed', u'menu_date_updated', u'menu_provider', u'mobile_url', u'name', u'neighborhoods', u'phone', u'postal_code', u'rating', u'rating_img_url', u'rating_img_url_large', u'rating_img_url_small', u'review_count', u'snippet_image_url', u'snippet_text', u'url'], dtype='object')\n"
       ]
      }
     ],
     "prompt_number": 7
    },
    {
     "cell_type": "code",
     "collapsed": false,
     "input": [
      "'''Drop entries without a postal code, these have malformed addresses'''\n",
      "df = df[df.postal_code.notnull()]"
     ],
     "language": "python",
     "metadata": {},
     "outputs": [],
     "prompt_number": 8
    },
    {
     "cell_type": "code",
     "collapsed": false,
     "input": [
      "'''Removing obviously incorrect postal codes'''\n",
      "df = df[np.logical_and(df.postal_code >= 94000, df.postal_code <= 96000)]"
     ],
     "language": "python",
     "metadata": {},
     "outputs": [],
     "prompt_number": 9
    },
    {
     "cell_type": "code",
     "collapsed": false,
     "input": [
      "#drop is closed as they are all false\n",
      "#drop menu_date_updated' as it's not useful\n",
      "#drop menu provider as it's not useful\n",
      "#drop mobile url as we don't need it\n",
      "#don't need display phone, or is_claimed, or snipper information\n",
      "df = df.drop(['is_closed','menu_date_updated','menu_provider','mobile_url','display_phone', 'is_claimed', 'snippet_image_url','snippet_text'], 1)\n",
      "print df.columns"
     ],
     "language": "python",
     "metadata": {},
     "outputs": [
      {
       "output_type": "stream",
       "stream": "stdout",
       "text": [
        "Index([u'address', u'categories', u'city', u'cross_streets', u'deals', u'display_address', u'gift_certificates', u'id', u'image_url', u'name', u'neighborhoods', u'phone', u'postal_code', u'rating', u'rating_img_url', u'rating_img_url_large', u'rating_img_url_small', u'review_count', u'url'], dtype='object')\n"
       ]
      }
     ],
     "prompt_number": 10
    },
    {
     "cell_type": "code",
     "collapsed": false,
     "input": [
      "df.review_count.hist(bins = np.linspace(0,500, 20))\n",
      "plt.show()"
     ],
     "language": "python",
     "metadata": {},
     "outputs": [
      {
       "metadata": {},
       "output_type": "display_data",
       "png": "[encoded data removed]",
       "text": [
        "<matplotlib.figure.Figure at 0x1179c6c90>"
       ]
      }
     ],
     "prompt_number": 11
    },
    {
     "cell_type": "code",
     "collapsed": false,
     "input": [
      "#only keeping the large image url, don't need neighborhoods\n",
      "df = df.drop(['rating_img_url','rating_img_url_small','neighborhoods','gift_certificates','cross_streets','deals'], 1)"
     ],
     "language": "python",
     "metadata": {},
     "outputs": [],
     "prompt_number": 12
    },
    {
     "cell_type": "code",
     "collapsed": false,
     "input": [
      "#drop entries with no address:\n",
      "df = df[df.address != '[]']"
     ],
     "language": "python",
     "metadata": {},
     "outputs": [],
     "prompt_number": 13
    },
    {
     "cell_type": "code",
     "collapsed": false,
     "input": [
      "_digits = re.compile('\\d')\n",
      "def contains_digits(d):\n",
      "    return bool(_digits.search(d))\n",
      "\n",
      "def lookupable_adddress(x):\n",
      "    '''\n",
      "    takes the 'address' entry and tries to format it so it can be looked up with mapquest API\n",
      "    '''\n",
      "    try:\n",
      "        l = eval(x)\n",
      "    except Exception as e:\n",
      "        print e\n",
      "        return np.nan\n",
      "    else:\n",
      "        if len(l) == 1:\n",
      "            return l[0]\n",
      "        #first entry left to right to contain digits is the street address\n",
      "        else:\n",
      "            for entry in l:\n",
      "                if contains_digits(entry):\n",
      "                    return entry\n",
      "        return np.nan\n",
      "    \n",
      "\n",
      "df['lookup_address'] = df.address.apply(lookupable_adddress)\n",
      "#drop bad lookup addresses\n",
      "df = df[df.lookup_address.notnull()]"
     ],
     "language": "python",
     "metadata": {},
     "outputs": [],
     "prompt_number": 14
    },
    {
     "cell_type": "code",
     "collapsed": false,
     "input": [
      "def add_postal(row):\n",
      "    try:\n",
      "        result = '{0}, {1:n}'.format(row.lookup_address, row.postal_code)\n",
      "    except UnicodeEncodeError as e:\n",
      "        #there are a few cases with accents in the name\n",
      "        return np.nan\n",
      "    else:\n",
      "        return result\n",
      "\n",
      "df['complete_lookup_address'] = df.apply(add_postal, axis = 1)\n",
      "df = df.drop('lookup_address', 1)"
     ],
     "language": "python",
     "metadata": {},
     "outputs": [],
     "prompt_number": 15
    },
    {
     "cell_type": "code",
     "collapsed": false,
     "input": [
      "df[df.name == 'California Pizza Kitchen'].complete_lookup_address"
     ],
     "language": "python",
     "metadata": {},
     "outputs": [
      {
       "metadata": {},
       "output_type": "pyout",
       "prompt_number": 16,
       "text": [
        "51937        1328 Stoneridge Mall Road, 94588\n",
        "56581                  53 Third Street, 94103\n",
        "57305     347 Corte Madera Town Center, 94925\n",
        "58115    100 Hillsdale Shopping Center, 94403\n",
        "58366                      5614 Bay St, 94608\n",
        "60737                     1 Airport Dr, 94621\n",
        "61231            136 Stanford Shopping, 94304\n",
        "61449                531 Cowper Street, 94301\n",
        "63172                1120 Broadway Plz, 94596\n",
        "Name: complete_lookup_address, dtype: object"
       ]
      }
     ],
     "prompt_number": 16
    },
    {
     "cell_type": "code",
     "collapsed": false,
     "input": [
      "all_categories = set()\n",
      "def list_categories(r):\n",
      "    try:\n",
      "        l = eval(r)\n",
      "    except Exception as e:\n",
      "        print r\n",
      "        print e\n",
      "    else:\n",
      "        for full_name,short_name in l:\n",
      "            all_categories.add(short_name)\n",
      "\n",
      "#drop where categories are nan\n",
      "df = df[df.categories.notnull()]\n",
      "df.categories.apply(list_categories)\n",
      "print all_categories"
     ],
     "language": "python",
     "metadata": {},
     "outputs": [
      {
       "output_type": "stream",
       "stream": "stdout",
       "text": [
        "set([u'dog_parks', u'irrigation', u'chinese', u'hats', u'desserts', u'menscloth', u'waterdelivery', u'vet', u'beautysvc', u'painters', u'golfequipment', u'stationery', u'fooddeliveryservices', u'personalassistants', u'naturopathic', u'propane', u'ethnicmarkets', u'vegan', u'careercounseling', u'metalfabricators', u'ramen', u'framing', u'recreation', u'musicvenues', u'mattresses', u'hairstylists', u'watch_repair', u'religiousschools', u'convenience', u'casinos', u'lifecoach', u'realestateagents', u'privatetutors', u'tours', u'fashion', u'boatcharters', u'wedding_planning', u'healthmarkets', u'tea', u'mediterranean', u'japanese', u'tires', u'collegeuniv', u'electricians', u'newamerican', u'vapeshops', u'cupcakes', u'drugstores', u'specialed', u'investing', u'paddleboarding', u'bootcamps', u'firstaidclasses', u'dimsum', u'churches', u'bodyshops', u'animalshelters', u'screen_printing_tshirt_printing', u'artclasses', u'summer_camps', u'handyman', u'french', u'junkremovalandhauling', u'translationservices', u'active', u'carpetinstallation', u'horsebackriding', u'bakeries', u'hearingaidproviders', u'luggage', u'vegetarian', u'vietnamese', u'piercing', u'museums', u'diyfood', u'laboratorytesting', u'advertising', u'cookingclasses', u'bookstores', u'boatdealers', u'hookah_bars', u'opticians', u'massage', u'limos', u'hiking', u'ethiopian', u'autorepair', u'meats', u'appliances', u'toys', u'festivals', u'hotels', u'donuts', u'yelpevents', u'selfstorage', u'divebars', u'cocktailbars', u'farmersmarket', u'creperies', u'markets', u'tex-mex', u'pest_control', u'belgian', u'homewindowtinting', u'dentists', u'adultentertainment', u'chocolate', u'adult', u'rehabilitation_center', u'vinyl_records', u'karaoke', u'massage_therapy', u'salad', u'seafoodmarkets', u'pressurewashers', u'soup', u'videographers', u'graphicdesign', u'lactationservices', u'barbers', u'pawn', u'doorsales', u'galleries', u'cantonese', u'buddhist_temples', u'travelservices', u'chiropractors', u'securitysystems', u'csa', u'gun_ranges', u'outlet_stores', u'localservices', u'accessories', u'meditationcenters', u'publicservicesgovt', u'wigs', u'pizza', u'rv_dealers', u'tattoo', u'brasseries', u'southern', u'paintball', u'lighting', u'trophyshops', u'medicalsupplies', u'gardeners', u'hotelstravel', u'nonprofit', u'climbing', u'surfing', u'pianobars', u'tapas', u'greek', u'burmese', u'itservices', u'african', u'banks', u'tutoring', u'bartenders', u'musicvideo', u'mexican', u'shoes', u'eventphotography', u'austrian', u'vocation', u'djs', u'recyclingcenter', u'fireplace', u'bagels', u'ticketsales', u'surgeons', u'financialadvising', u'bikerentals', u'masonry_concrete', u'jewelryrepair', u'officeequipment', u'acupuncture', u'soulfood', u'structuralengineers', u'distilleries', u'argentine', u'childcloth', u'physicians', u'coffee', u'general_litigation', u'food', u'auto', u'carrental', u'psychic_astrology', u'szechuan', u'personal_shopping', u'martialarts', u'sportsbars', u'hotdogs', u'irish_pubs', u'petservices', u'legalservices', u'lingerie', u'fitness', u'copyshops', u'damagerestoration', u'glassandmirrors', u'brewingsupplies', u'formalwear', u'menshair', u'persian', u'jazzandblues', u'insurance', u'fishnchips', u'modern_european', u'puertorican', u'orthopedists', u'asianfusion', u'stadiumsarenas', u'health', u'afghani', u'electronics', u'preschools', u'isps', u'religiousorgs', u'steak', u'computers', u'swimmingpools', u'british', u'hypnosis', u'musicians', u'hair_extensions', u'cheese', u'landscapearchitects', u'homeservices', u'oncologist', u'auto_detailing', u'pet_sitting', u'healthtrainers', u'spanish', u'hometheatreinstallation', u'gourmet', u'divorce', u'antiques', u'tattooremoval', u'boating', u'partyequipmentrentals', u'eventservices', u'pakistani', u'surfshop', u'popupshops', u'privateinvestigation', u'makeupartists', u'giftshops', u'familydr', u'freediving', u'thai', u'flowers', u'grocery', u'solarinstallation', u'scandinavian', u'vehicleshipping', u'drywall', u'scuba', u'realestate', u'medcenters', u'drycleaninglaundry', u'musicalinstrumentsandteachers', u'delis', u'televisionserviceproviders', u'tanning', u'halal', u'car_dealers', u'sportsmed', u'rugs', u'university_housing', u'salvadoran', u'reflexology', u'datarecovery', u'parks', u'skatingrinks', u'sportswear', u'korean', u'massmedia', u'pretzels', u'videofilmproductions', u'architects', u'accountants', u'plumbing', u'notaries', u'photographystores', u'archery', u'personalchefs', u'amusementparks', u'servicestations', u'seafood', u'gutterservices', u'driving_schools', u'obgyn', u'professional', u'guesthouses', u'sessionphotography', u'golf', u'cookingschools', u'german', u'truck_rental', u'moroccan', u'bikes', u'cambodian', u'senegalese', u'singaporean', u'wholesale_stores', u'windshieldinstallrepair', u'windowsinstallation', u'firewood', u'autoglass', u'sportsteams', u'arabian', u'radiostations', u'raw_food', u'blinds', u'comedyclubs', u'magicians', u'hungarian', u'beer_and_wine', u'fleamarkets', u'bedbreakfast', u'televisionstations', u'paydayloans', u'motorcyclinggear', u'home_organization', u'healthretreats', u'commercialrealestate', u'leather', u'malaysian', u'funeralservices', u'couriers', u'cosmeticdentists', u'fertility', u'swimminglessons', u'restaurants', u'bars', u'thrift_stores', u'eyelashservice', u'taiwanese', u'poolhalls', u'realestatelawyers', u'parking', u'screenprinting', u'localflavor', u'shoppingcenters', u'mountainbiking', u'swimwear', u'libraries', u'icecream', u'pets', u'colombian', u'liceservices', u'cajun', u'latin', u'homedecor', u'mags', u'boatrepair', u'basketballcourts', u'tanningbeds', u'diners', u'gastropubs', u'auctionhouses', u'motorcyclerepair', u'movers', u'bubbletea', u'cafes', u'garage_door_services', u'kosher', u'juicebars', u'golfshops', u'himalayan', u'carwash', u'bike_repair_maintenance', u'armenian', u'specialtyschools', u'leisure_centers', u'venues', u'autopartssupplies', u'homecleaning', u'uniforms', u'arcades', u'petstore', u'basque', u'partysupplies', u'immigrationlawyers', u'telecommunications', u'roofing', u'arts', u'financialservices', u'buffets', u'kiteboarding', u'web_design', u'bbq', u'postoffices', u'shopping', u'cosmeticsurgeons', u'cheesesteaks', u'doulas', u'catering', u'videoandgames', u'wine_bars', u'pediatricians', u'electronicsrepair', u'midwives', u'turkish', u'lebanese', u'homeappliancerepair', u'homestaging', u'language_schools', u'buildingsupplies', u'breakfast_brunch', u'indpak', u'massage_schools', u'childcare', u'criminaldefense', u'bespoke', u'mongolian', u'treeservices', u'playgrounds', u'smog_check_stations', u'sushi', u'indonesian', u'hardware', u'hobbyshops', u'estateplanning', u'c_and_mh', u'hottubandpool', u'weightlosscenters', u'vintage', u'landmarks', u'shoerepair', u'butcher', u'kitchenandbath', u'mobilephones', u'spraytanning', u'laser_hair_removal', u'publicrelations', u'educationservices', u'mortgagebrokers', u'lawyers', u'poolservice', u'pubs', u'photographers', u'contractors', u'knittingsupplies', u'dogwalkers', u'laserlasikeyes', u'fabricstores', u'discountstore', u'theater', u'rafting', u'adultedu', u'burgers', u'taxservices', u'herbsandspices', u'shipping_centers', u'shavedice', u'hotdog', u'talentagencies', u'danceclubs', u'nannys', u'mobilephonerepair', u'signmaking', u'skincare', u'firedepartments', u'tcm', u'maternity', u'fishing', u'polish', u'permanentmakeup', u'hotpot', u'flooring', u'eventplanning', u'reiki', u'cprclasses', u'cosmetics', u'printmedia', u'bridal', u'chimneysweeps', u'sandwiches', u'nutritionists', u'shanghainese', u'optometrists', u'bowling', u'catalan', u'officecleaning', u'cabinetry', u'retirement_homes', u'mini_golf', u'movietheaters', u'furniture', u'elementaryschools', u'locksmiths', u'gyms', u'candy', u'badminton', u'wineries', u'bailbondsmen', u'italian', u'portuguese', u'gardening', u'apartments', u'czech', u'artsandcrafts', u'homeandgarden', u'hair', u'sharedofficespaces', u'laotian', u'dermatology', u'diving', u'cosmetology_schools', u'transport', u'blowoutservices', u'pilates', u'dancestudio', u'jewelry', u'food_court', u'embroideryandcrochet', u'fondue', u'home_inspectors', u'guns_and_ammo', u'tobaccoshops', u'comfortfood', u'motorcycledealers', u'employmentagencies', u'physicaltherapy', u'deptstores', u'marketing', u'sportgoods', u'realestatesvcs', u'costumes', u'gluten_free', u'lounges', u'social_clubs', u'womenscloth', u'beaches', u'filipino', u'medicalspa', u'tapasmallplates', u'mideastern', u'amateursportsteams', u'baby_gear', u'sports_clubs', u'artschools', u'carpet_cleaning', u'synagogues', u'highschools', u'propertymgmt', u'cannabis_clinics', u'sewingalterations', u'comicbooks', u'hospice', u'insulationinstallation', u'cafeteria', u'bankruptcy', u'tennis', u'stereo_installation', u'towing', u'brazilian', u'spas', u'venezuelan', u'internalmed', u'vacation_rentals', u'media', u'tradamerican', u'goldbuyers', u'hawaiian', u'fireworks', u'cuban', u'landscaping', u'russian', u'artsupplies', u'outdoorgear', u'plus_size_fashion', u'florists', u'poolcleaners', u'breweries', u'internetcafe', u'nightlife', u'irish', u'opthamalogists', u'hvac', u'peruvian', u'southafrican', u'watches', u'falafel', u'occupationaltherapy', u'hairremoval', u'rolfing', u'education', u'hospitals', u'foodstands', u'culturalcenter', u'yoga', u'interiordesign', u'reupholstery', u'chicken_wings', u'gaybars', u'carpeting', u'daycamps', u'fencesgates', u'windowwashing', u'football', u'utilities', u'homehealthcare', u'champagne_bars', u'caribbean', u'othersalons', u'recording_studios', u'gelato', u'dance_schools', u'streetvendors', u'waxing', u'foodtrucks'])\n"
       ]
      }
     ],
     "prompt_number": 17
    },
    {
     "cell_type": "code",
     "collapsed": false,
     "input": [
      "len(all_categories)"
     ],
     "language": "python",
     "metadata": {},
     "outputs": [
      {
       "metadata": {},
       "output_type": "pyout",
       "prompt_number": 18,
       "text": [
        "615"
       ]
      }
     ],
     "prompt_number": 18
    },
    {
     "cell_type": "code",
     "collapsed": false,
     "input": [
      "df.complete_lookup_address"
     ],
     "language": "python",
     "metadata": {},
     "outputs": [
      {
       "metadata": {},
       "output_type": "pyout",
       "prompt_number": 19,
       "text": [
        "0        3201 California St, 94118\n",
        "1        565 Buckingham Way, 94132\n",
        "2       1860 El Camino Real, 94010\n",
        "3         209 Broadway Ave., 94030\n",
        "4         241 California St, 94111\n",
        "5         311 California St, 94104\n",
        "6               101 Pine St, 94111\n",
        "7             405 Howard St, 94105\n",
        "8     321 Gellert Boulevard, 94015\n",
        "9        701 Sacramento St., 94108\n",
        "10          4669 Mission St, 94112\n",
        "11            557 Castro St, 94114\n",
        "12       490 El Camino Real, 94002\n",
        "13            460 Sutter St, 94108\n",
        "14          1405 Noriega St, 94122\n",
        "...\n",
        "79260           900 Andersen Drive, 94901\n",
        "79261         75 Bellam Blvd Ste C, 94901\n",
        "79262               75 Bellam Blvd, 94901\n",
        "79263    2201 Larkspur Landing Cir, 94977\n",
        "79265              28 Bellam Blvd., 94901\n",
        "79266    2229 Larkspur Landing Cir, 94939\n",
        "79267      863 East Francisco Blvd, 94901\n",
        "79269               75 Bellam Blvd, 94901\n",
        "79270              4027 Noriega St, 94122\n",
        "79271               75 Bellam Blvd, 94901\n",
        "79272                 45 Vivian St, 94901\n",
        "79273               75 Bellam Blvd, 94901\n",
        "79274    2009 Larkspur Landing Cir, 94939\n",
        "79275    2413 Larkspur Landing Cir, 94939\n",
        "79276                  138 Gary Pl, 94901\n",
        "Name: complete_lookup_address, Length: 66328, dtype: object"
       ]
      }
     ],
     "prompt_number": 19
    },
    {
     "cell_type": "code",
     "collapsed": false,
     "input": [
      "'''Export df for location lookup'''\n",
      "# filename = 'location_frame_1.txt'\n",
      "# #create a reduced dataframe with only the needed fields\n",
      "# locationdf = df[['id','complete_lookup_address']]\n",
      "# #add columns we'll need:\n",
      "# locationdf['latitude'] = np.nan\n",
      "# locationdf['longitude'] = np.nan\n",
      "# locationdf['latlng_confidence'] = np.nan\n",
      "# pd.to_pickle(locationdf, filename)"
     ],
     "language": "python",
     "metadata": {},
     "outputs": [
      {
       "metadata": {},
       "output_type": "pyout",
       "prompt_number": 20,
       "text": [
        "'Export df for location lookup'"
       ]
      }
     ],
     "prompt_number": 20
    },
    {
     "cell_type": "code",
     "collapsed": false,
     "input": [],
     "language": "python",
     "metadata": {},
     "outputs": [],
     "prompt_number": 21
    }
   ],
   "metadata": {}
  }
 ]
}