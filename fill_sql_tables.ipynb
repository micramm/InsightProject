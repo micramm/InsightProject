{
 "metadata": {
  "name": "",
  "signature": "sha256:233c53fa9c26ed62a99005034f4ab8aea4fd2b8603c2b796d3996b5a7e926f17"
 },
 "nbformat": 3,
 "nbformat_minor": 0,
 "worksheets": [
  {
   "cells": [
    {
     "cell_type": "code",
     "collapsed": false,
     "input": [
      "import pymysql\n",
      "import pandas as pd\n",
      "from access_keys import access_keys"
     ],
     "language": "python",
     "metadata": {},
     "outputs": [],
     "prompt_number": 1
    },
    {
     "cell_type": "code",
     "collapsed": false,
     "input": [
      "conn = pymysql.connect(host='localhost', user='root', passwd = access_keys.amazon_rds_password)\n",
      "# conn = pymysql.connect(host='insight.clzrh9aax7lr.us-east-1.rds.amazonaws.com', user='michaelramm', passwd = access_keys.amazon_rds_password)"
     ],
     "language": "python",
     "metadata": {},
     "outputs": [],
     "prompt_number": 2
    },
    {
     "cell_type": "code",
     "collapsed": false,
     "input": [
      "print conn.host\n",
      "cursor = conn.cursor()\n",
      "cursor.execute(\"\"\"USE Insight;\"\"\")\n",
      "# resp = cursor.execute(\"\"\"SHOW tables;\"\"\")\n",
      "# cursor.execute(\"\"\"SELECT * FROM recipes ORDER BY recipe_id\"\"\")\n",
      "# print cursor.fetchall()"
     ],
     "language": "python",
     "metadata": {},
     "outputs": [
      {
       "output_type": "stream",
       "stream": "stdout",
       "text": [
        "localhost\n"
       ]
      },
      {
       "metadata": {},
       "output_type": "pyout",
       "prompt_number": 3,
       "text": [
        "0"
       ]
      }
     ],
     "prompt_number": 3
    },
    {
     "cell_type": "code",
     "collapsed": false,
     "input": [
      "# cursor.execute(\"\"\"DESCRIBE recipes;\"\"\")\n",
      "# print cursor.fetchall()"
     ],
     "language": "python",
     "metadata": {},
     "outputs": [],
     "prompt_number": 74
    },
    {
     "cell_type": "code",
     "collapsed": false,
     "input": [
      "def is_among_tables(cursor, table_name):\n",
      "    \"\"\"returns if a given table already exists in the database\"\"\"\n",
      "    cursor.execute(\"\"\"SHOW TABLES;\"\"\")\n",
      "    in_table = False\n",
      "    for entry in cursor.fetchall():\n",
      "        if table_name in entry[0]:\n",
      "            in_table = True\n",
      "    return in_table\n",
      "\n",
      "print is_among_tables(cursor, 'recipes_test_table')"
     ],
     "language": "python",
     "metadata": {},
     "outputs": [
      {
       "output_type": "stream",
       "stream": "stdout",
       "text": [
        "False\n"
       ]
      }
     ],
     "prompt_number": 4
    },
    {
     "cell_type": "code",
     "collapsed": false,
     "input": [
      "yelp = pd.read_csv('yelp.csv')\n",
      "# print yelp.columns\n",
      "cats = pd.read_csv('categories.csv')\n",
      "# print cats.columns\n",
      "next_records = pd.read_csv('generated_matches.csv')\n",
      "print next_records.columns"
     ],
     "language": "python",
     "metadata": {},
     "outputs": [
      {
       "output_type": "stream",
       "stream": "stdout",
       "text": [
        "Index([u'Unnamed: 0', u'from_id', u'to_id', u'prob'], dtype='object')\n"
       ]
      }
     ],
     "prompt_number": 5
    },
    {
     "cell_type": "code",
     "collapsed": false,
     "input": [
      "def find_length(x):\n",
      "    try:\n",
      "        return len(x)\n",
      "    except Exception as e:\n",
      "        print x, e\n",
      "        return 0\n",
      "\n",
      "def list_category_length():\n",
      "    for name in ['id','short_category','full_category']:\n",
      "        print cats[name].apply(find_length).max()\n",
      "\n",
      "# list_category_length()\n",
      "# yelp.image_url.apply(find_length).max()\n",
      "# print yelp.url.apply(find_length).max()\n",
      "# yelp.longitude"
     ],
     "language": "python",
     "metadata": {},
     "outputs": [],
     "prompt_number": 6
    },
    {
     "cell_type": "code",
     "collapsed": false,
     "input": [
      "#create a new table for yelp\n",
      "table_name = 'yelp'\n",
      "\n",
      "#if already exists, delete it first\n",
      "if is_among_tables(cursor, table_name):\n",
      "    cursor.execute(\"\"\"DROP TABLE {}\"\"\".format(table_name))\n",
      "\n",
      "cursor.execute(\"\"\"CREATE TABLE {} (\n",
      "                  `id` VARCHAR(255) NOT NULL,\n",
      "                  `name` VARCHAR(255),\n",
      "                  `display_address` VARCHAR(255),\n",
      "                  `image_url` VARCHAR(255),\n",
      "                  `phone` BIGINT,\n",
      "                  `rating` DECIMAL(2,1),\n",
      "                  `rating_image_url_large` VARCHAR(255),\n",
      "                  `url` VARCHAR(255),\n",
      "                  `latitude` DECIMAL(9,6),\n",
      "                  `longitude` DECIMAL(9,6),\n",
      "                  PRIMARY KEY (`id`),\n",
      "                  KEY `name` (`name`))\"\"\".format(table_name))"
     ],
     "language": "python",
     "metadata": {},
     "outputs": [
      {
       "output_type": "stream",
       "stream": "stderr",
       "text": [
        "ERROR: An unexpected error occurred while tokenizing input\n",
        "The following traceback may be corrupted or invalid\n",
        "The error message is: ('EOF in multi-line string', (1, 38))\n",
        "\n"
       ]
      },
      {
       "ename": "InternalError",
       "evalue": "(1813, u\"Tablespace for table '`insight`.`yelp`' exists. Please DISCARD the tablespace before IMPORT.\")",
       "output_type": "pyerr",
       "traceback": [
        "\u001b[0;31m---------------------------------------------------------------------------\u001b[0m\n\u001b[0;31mInternalError\u001b[0m                             Traceback (most recent call last)",
        "\u001b[0;32m<ipython-input-7-785b14331287>\u001b[0m in \u001b[0;36m<module>\u001b[0;34m()\u001b[0m\n\u001b[1;32m     18\u001b[0m                   \u001b[0;34m`\u001b[0m\u001b[0mlongitude\u001b[0m\u001b[0;34m`\u001b[0m \u001b[0mDECIMAL\u001b[0m\u001b[0;34m(\u001b[0m\u001b[0;36m9\u001b[0m\u001b[0;34m,\u001b[0m\u001b[0;36m6\u001b[0m\u001b[0;34m)\u001b[0m\u001b[0;34m,\u001b[0m\u001b[0;34m\u001b[0m\u001b[0m\n\u001b[1;32m     19\u001b[0m                   \u001b[0mPRIMARY\u001b[0m \u001b[0mKEY\u001b[0m \u001b[0;34m(\u001b[0m\u001b[0;34m`\u001b[0m\u001b[0mid\u001b[0m\u001b[0;34m`\u001b[0m\u001b[0;34m)\u001b[0m\u001b[0;34m,\u001b[0m\u001b[0;34m\u001b[0m\u001b[0m\n\u001b[0;32m---> 20\u001b[0;31m                   KEY `name` (`name`))\"\"\".format(table_name))\n\u001b[0m",
        "\u001b[0;32m/opt/local/Library/Frameworks/Python.framework/Versions/2.7/lib/python2.7/site-packages/pymysql/cursors.pyc\u001b[0m in \u001b[0;36mexecute\u001b[0;34m(self, query, args)\u001b[0m\n\u001b[1;32m    130\u001b[0m             \u001b[0mquery\u001b[0m \u001b[0;34m=\u001b[0m \u001b[0mquery\u001b[0m \u001b[0;34m%\u001b[0m \u001b[0mself\u001b[0m\u001b[0;34m.\u001b[0m\u001b[0m_escape_args\u001b[0m\u001b[0;34m(\u001b[0m\u001b[0margs\u001b[0m\u001b[0;34m,\u001b[0m \u001b[0mconn\u001b[0m\u001b[0;34m)\u001b[0m\u001b[0;34m\u001b[0m\u001b[0m\n\u001b[1;32m    131\u001b[0m \u001b[0;34m\u001b[0m\u001b[0m\n\u001b[0;32m--> 132\u001b[0;31m         \u001b[0mresult\u001b[0m \u001b[0;34m=\u001b[0m \u001b[0mself\u001b[0m\u001b[0;34m.\u001b[0m\u001b[0m_query\u001b[0m\u001b[0;34m(\u001b[0m\u001b[0mquery\u001b[0m\u001b[0;34m)\u001b[0m\u001b[0;34m\u001b[0m\u001b[0m\n\u001b[0m\u001b[1;32m    133\u001b[0m         \u001b[0mself\u001b[0m\u001b[0;34m.\u001b[0m\u001b[0m_executed\u001b[0m \u001b[0;34m=\u001b[0m \u001b[0mquery\u001b[0m\u001b[0;34m\u001b[0m\u001b[0m\n\u001b[1;32m    134\u001b[0m         \u001b[0;32mreturn\u001b[0m \u001b[0mresult\u001b[0m\u001b[0;34m\u001b[0m\u001b[0m\n",
        "\u001b[0;32m/opt/local/Library/Frameworks/Python.framework/Versions/2.7/lib/python2.7/site-packages/pymysql/cursors.pyc\u001b[0m in \u001b[0;36m_query\u001b[0;34m(self, q)\u001b[0m\n\u001b[1;32m    269\u001b[0m         \u001b[0mconn\u001b[0m \u001b[0;34m=\u001b[0m \u001b[0mself\u001b[0m\u001b[0;34m.\u001b[0m\u001b[0m_get_db\u001b[0m\u001b[0;34m(\u001b[0m\u001b[0;34m)\u001b[0m\u001b[0;34m\u001b[0m\u001b[0m\n\u001b[1;32m    270\u001b[0m         \u001b[0mself\u001b[0m\u001b[0;34m.\u001b[0m\u001b[0m_last_executed\u001b[0m \u001b[0;34m=\u001b[0m \u001b[0mq\u001b[0m\u001b[0;34m\u001b[0m\u001b[0m\n\u001b[0;32m--> 271\u001b[0;31m         \u001b[0mconn\u001b[0m\u001b[0;34m.\u001b[0m\u001b[0mquery\u001b[0m\u001b[0;34m(\u001b[0m\u001b[0mq\u001b[0m\u001b[0;34m)\u001b[0m\u001b[0;34m\u001b[0m\u001b[0m\n\u001b[0m\u001b[1;32m    272\u001b[0m         \u001b[0mself\u001b[0m\u001b[0;34m.\u001b[0m\u001b[0m_do_get_result\u001b[0m\u001b[0;34m(\u001b[0m\u001b[0;34m)\u001b[0m\u001b[0;34m\u001b[0m\u001b[0m\n\u001b[1;32m    273\u001b[0m         \u001b[0;32mreturn\u001b[0m \u001b[0mself\u001b[0m\u001b[0;34m.\u001b[0m\u001b[0mrowcount\u001b[0m\u001b[0;34m\u001b[0m\u001b[0m\n",
        "\u001b[0;32m/opt/local/Library/Frameworks/Python.framework/Versions/2.7/lib/python2.7/site-packages/pymysql/connections.pyc\u001b[0m in \u001b[0;36mquery\u001b[0;34m(self, sql, unbuffered)\u001b[0m\n\u001b[1;32m    724\u001b[0m             \u001b[0msql\u001b[0m \u001b[0;34m=\u001b[0m \u001b[0msql\u001b[0m\u001b[0;34m.\u001b[0m\u001b[0mencode\u001b[0m\u001b[0;34m(\u001b[0m\u001b[0mself\u001b[0m\u001b[0;34m.\u001b[0m\u001b[0mencoding\u001b[0m\u001b[0;34m)\u001b[0m\u001b[0;34m\u001b[0m\u001b[0m\n\u001b[1;32m    725\u001b[0m         \u001b[0mself\u001b[0m\u001b[0;34m.\u001b[0m\u001b[0m_execute_command\u001b[0m\u001b[0;34m(\u001b[0m\u001b[0mCOM_QUERY\u001b[0m\u001b[0;34m,\u001b[0m \u001b[0msql\u001b[0m\u001b[0;34m)\u001b[0m\u001b[0;34m\u001b[0m\u001b[0m\n\u001b[0;32m--> 726\u001b[0;31m         \u001b[0mself\u001b[0m\u001b[0;34m.\u001b[0m\u001b[0m_affected_rows\u001b[0m \u001b[0;34m=\u001b[0m \u001b[0mself\u001b[0m\u001b[0;34m.\u001b[0m\u001b[0m_read_query_result\u001b[0m\u001b[0;34m(\u001b[0m\u001b[0munbuffered\u001b[0m\u001b[0;34m=\u001b[0m\u001b[0munbuffered\u001b[0m\u001b[0;34m)\u001b[0m\u001b[0;34m\u001b[0m\u001b[0m\n\u001b[0m\u001b[1;32m    727\u001b[0m         \u001b[0;32mreturn\u001b[0m \u001b[0mself\u001b[0m\u001b[0;34m.\u001b[0m\u001b[0m_affected_rows\u001b[0m\u001b[0;34m\u001b[0m\u001b[0m\n\u001b[1;32m    728\u001b[0m \u001b[0;34m\u001b[0m\u001b[0m\n",
        "\u001b[0;32m/opt/local/Library/Frameworks/Python.framework/Versions/2.7/lib/python2.7/site-packages/pymysql/connections.pyc\u001b[0m in \u001b[0;36m_read_query_result\u001b[0;34m(self, unbuffered)\u001b[0m\n\u001b[1;32m    859\u001b[0m         \u001b[0;32melse\u001b[0m\u001b[0;34m:\u001b[0m\u001b[0;34m\u001b[0m\u001b[0m\n\u001b[1;32m    860\u001b[0m             \u001b[0mresult\u001b[0m \u001b[0;34m=\u001b[0m \u001b[0mMySQLResult\u001b[0m\u001b[0;34m(\u001b[0m\u001b[0mself\u001b[0m\u001b[0;34m)\u001b[0m\u001b[0;34m\u001b[0m\u001b[0m\n\u001b[0;32m--> 861\u001b[0;31m             \u001b[0mresult\u001b[0m\u001b[0;34m.\u001b[0m\u001b[0mread\u001b[0m\u001b[0;34m(\u001b[0m\u001b[0;34m)\u001b[0m\u001b[0;34m\u001b[0m\u001b[0m\n\u001b[0m\u001b[1;32m    862\u001b[0m         \u001b[0mself\u001b[0m\u001b[0;34m.\u001b[0m\u001b[0m_result\u001b[0m \u001b[0;34m=\u001b[0m \u001b[0mresult\u001b[0m\u001b[0;34m\u001b[0m\u001b[0m\n\u001b[1;32m    863\u001b[0m         \u001b[0;32mif\u001b[0m \u001b[0mresult\u001b[0m\u001b[0;34m.\u001b[0m\u001b[0mserver_status\u001b[0m \u001b[0;32mis\u001b[0m \u001b[0;32mnot\u001b[0m \u001b[0mNone\u001b[0m\u001b[0;34m:\u001b[0m\u001b[0;34m\u001b[0m\u001b[0m\n",
        "\u001b[0;32m/opt/local/Library/Frameworks/Python.framework/Versions/2.7/lib/python2.7/site-packages/pymysql/connections.pyc\u001b[0m in \u001b[0;36mread\u001b[0;34m(self)\u001b[0m\n\u001b[1;32m   1062\u001b[0m     \u001b[0;32mdef\u001b[0m \u001b[0mread\u001b[0m\u001b[0;34m(\u001b[0m\u001b[0mself\u001b[0m\u001b[0;34m)\u001b[0m\u001b[0;34m:\u001b[0m\u001b[0;34m\u001b[0m\u001b[0m\n\u001b[1;32m   1063\u001b[0m         \u001b[0;32mtry\u001b[0m\u001b[0;34m:\u001b[0m\u001b[0;34m\u001b[0m\u001b[0m\n\u001b[0;32m-> 1064\u001b[0;31m             \u001b[0mfirst_packet\u001b[0m \u001b[0;34m=\u001b[0m \u001b[0mself\u001b[0m\u001b[0;34m.\u001b[0m\u001b[0mconnection\u001b[0m\u001b[0;34m.\u001b[0m\u001b[0m_read_packet\u001b[0m\u001b[0;34m(\u001b[0m\u001b[0;34m)\u001b[0m\u001b[0;34m\u001b[0m\u001b[0m\n\u001b[0m\u001b[1;32m   1065\u001b[0m \u001b[0;34m\u001b[0m\u001b[0m\n\u001b[1;32m   1066\u001b[0m             \u001b[0;31m# TODO: use classes for different packet types?\u001b[0m\u001b[0;34m\u001b[0m\u001b[0;34m\u001b[0m\u001b[0m\n",
        "\u001b[0;32m/opt/local/Library/Frameworks/Python.framework/Versions/2.7/lib/python2.7/site-packages/pymysql/connections.pyc\u001b[0m in \u001b[0;36m_read_packet\u001b[0;34m(self, packet_type)\u001b[0m\n\u001b[1;32m    824\u001b[0m         \"\"\"\n\u001b[1;32m    825\u001b[0m         \u001b[0mpacket\u001b[0m \u001b[0;34m=\u001b[0m \u001b[0mpacket_type\u001b[0m\u001b[0;34m(\u001b[0m\u001b[0mself\u001b[0m\u001b[0;34m)\u001b[0m\u001b[0;34m\u001b[0m\u001b[0m\n\u001b[0;32m--> 826\u001b[0;31m         \u001b[0mpacket\u001b[0m\u001b[0;34m.\u001b[0m\u001b[0mcheck_error\u001b[0m\u001b[0;34m(\u001b[0m\u001b[0;34m)\u001b[0m\u001b[0;34m\u001b[0m\u001b[0m\n\u001b[0m\u001b[1;32m    827\u001b[0m         \u001b[0;32mreturn\u001b[0m \u001b[0mpacket\u001b[0m\u001b[0;34m\u001b[0m\u001b[0m\n\u001b[1;32m    828\u001b[0m \u001b[0;34m\u001b[0m\u001b[0m\n",
        "\u001b[0;32m/opt/local/Library/Frameworks/Python.framework/Versions/2.7/lib/python2.7/site-packages/pymysql/connections.pyc\u001b[0m in \u001b[0;36mcheck_error\u001b[0;34m(self)\u001b[0m\n\u001b[1;32m    368\u001b[0m             \u001b[0merrno\u001b[0m \u001b[0;34m=\u001b[0m \u001b[0munpack_uint16\u001b[0m\u001b[0;34m(\u001b[0m\u001b[0mself\u001b[0m\u001b[0;34m.\u001b[0m\u001b[0mread\u001b[0m\u001b[0;34m(\u001b[0m\u001b[0;36m2\u001b[0m\u001b[0;34m)\u001b[0m\u001b[0;34m)\u001b[0m\u001b[0;34m\u001b[0m\u001b[0m\n\u001b[1;32m    369\u001b[0m             \u001b[0;32mif\u001b[0m \u001b[0mDEBUG\u001b[0m\u001b[0;34m:\u001b[0m \u001b[0;32mprint\u001b[0m\u001b[0;34m(\u001b[0m\u001b[0;34m\"errno =\"\u001b[0m\u001b[0;34m,\u001b[0m \u001b[0merrno\u001b[0m\u001b[0;34m)\u001b[0m\u001b[0;34m\u001b[0m\u001b[0m\n\u001b[0;32m--> 370\u001b[0;31m             \u001b[0mraise_mysql_exception\u001b[0m\u001b[0;34m(\u001b[0m\u001b[0mself\u001b[0m\u001b[0;34m.\u001b[0m\u001b[0m_data\u001b[0m\u001b[0;34m)\u001b[0m\u001b[0;34m\u001b[0m\u001b[0m\n\u001b[0m\u001b[1;32m    371\u001b[0m \u001b[0;34m\u001b[0m\u001b[0m\n\u001b[1;32m    372\u001b[0m     \u001b[0;32mdef\u001b[0m \u001b[0mdump\u001b[0m\u001b[0;34m(\u001b[0m\u001b[0mself\u001b[0m\u001b[0;34m)\u001b[0m\u001b[0;34m:\u001b[0m\u001b[0;34m\u001b[0m\u001b[0m\n",
        "\u001b[0;32m/opt/local/Library/Frameworks/Python.framework/Versions/2.7/lib/python2.7/site-packages/pymysql/err.pyc\u001b[0m in \u001b[0;36mraise_mysql_exception\u001b[0;34m(data)\u001b[0m\n\u001b[1;32m    114\u001b[0m \u001b[0;32mdef\u001b[0m \u001b[0mraise_mysql_exception\u001b[0m\u001b[0;34m(\u001b[0m\u001b[0mdata\u001b[0m\u001b[0;34m)\u001b[0m\u001b[0;34m:\u001b[0m\u001b[0;34m\u001b[0m\u001b[0m\n\u001b[1;32m    115\u001b[0m     \u001b[0merrinfo\u001b[0m \u001b[0;34m=\u001b[0m \u001b[0m_get_error_info\u001b[0m\u001b[0;34m(\u001b[0m\u001b[0mdata\u001b[0m\u001b[0;34m)\u001b[0m\u001b[0;34m\u001b[0m\u001b[0m\n\u001b[0;32m--> 116\u001b[0;31m     \u001b[0m_check_mysql_exception\u001b[0m\u001b[0;34m(\u001b[0m\u001b[0merrinfo\u001b[0m\u001b[0;34m)\u001b[0m\u001b[0;34m\u001b[0m\u001b[0m\n\u001b[0m",
        "\u001b[0;32m/opt/local/Library/Frameworks/Python.framework/Versions/2.7/lib/python2.7/site-packages/pymysql/err.pyc\u001b[0m in \u001b[0;36m_check_mysql_exception\u001b[0;34m(errinfo)\u001b[0m\n\u001b[1;32m    110\u001b[0m \u001b[0;34m\u001b[0m\u001b[0m\n\u001b[1;32m    111\u001b[0m     \u001b[0;31m# couldn't find the right error number\u001b[0m\u001b[0;34m\u001b[0m\u001b[0;34m\u001b[0m\u001b[0m\n\u001b[0;32m--> 112\u001b[0;31m     \u001b[0;32mraise\u001b[0m \u001b[0mInternalError\u001b[0m\u001b[0;34m(\u001b[0m\u001b[0merrno\u001b[0m\u001b[0;34m,\u001b[0m \u001b[0merrorvalue\u001b[0m\u001b[0;34m)\u001b[0m\u001b[0;34m\u001b[0m\u001b[0m\n\u001b[0m\u001b[1;32m    113\u001b[0m \u001b[0;34m\u001b[0m\u001b[0m\n\u001b[1;32m    114\u001b[0m \u001b[0;32mdef\u001b[0m \u001b[0mraise_mysql_exception\u001b[0m\u001b[0;34m(\u001b[0m\u001b[0mdata\u001b[0m\u001b[0;34m)\u001b[0m\u001b[0;34m:\u001b[0m\u001b[0;34m\u001b[0m\u001b[0m\n",
        "\u001b[0;31mInternalError\u001b[0m: (1813, u\"Tablespace for table '`insight`.`yelp`' exists. Please DISCARD the tablespace before IMPORT.\")"
       ]
      }
     ],
     "prompt_number": 7
    },
    {
     "cell_type": "code",
     "collapsed": false,
     "input": [
      "#loop over rows to insert data into the yelp table\n",
      "insert_sql = \"\"\"INSERT INTO yelp(id, name, display_address, image_url, phone, rating, rating_image_url_large, url, latitude, longitude) \n",
      "                VALUES (%s, %s, %s, %s, %s , %s, %s, %s, %s, %s)\"\"\"\n",
      "total_rows = yelp.shape[0]\n",
      "for row_number in range(total_rows):\n",
      "    if row_number % 1000 == 0:\n",
      "        print row_number\n",
      "    row = yelp.irow(row_number)\n",
      "    try:\n",
      "        phone = int(row['phone'])\n",
      "    except Exception:\n",
      "        phone = None\n",
      "    image_url = row['image_url']\n",
      "    if image_url is pd.np.nan:\n",
      "        image_url = None\n",
      "    t = (row['id'], row['name'], row['display_address'], image_url, phone, float(row['rating']), row['rating_img_url_large'], row['url'], float(row['latitude']), float(row['longitude']))\n",
      "    try:\n",
      "        cursor.execute(insert_sql, t)\n",
      "    except Exception as e:\n",
      "        print e\n",
      "        print t\n",
      "        break\n",
      "conn.commit()"
     ],
     "language": "python",
     "metadata": {},
     "outputs": [
      {
       "output_type": "stream",
       "stream": "stdout",
       "text": [
        "0\n",
        "1000"
       ]
      },
      {
       "output_type": "stream",
       "stream": "stdout",
       "text": [
        "\n",
        "2000"
       ]
      },
      {
       "output_type": "stream",
       "stream": "stdout",
       "text": [
        "\n",
        "3000"
       ]
      },
      {
       "output_type": "stream",
       "stream": "stdout",
       "text": [
        "\n",
        "4000"
       ]
      },
      {
       "output_type": "stream",
       "stream": "stdout",
       "text": [
        "\n",
        "5000"
       ]
      },
      {
       "output_type": "stream",
       "stream": "stdout",
       "text": [
        "\n",
        "6000"
       ]
      },
      {
       "output_type": "stream",
       "stream": "stdout",
       "text": [
        "\n",
        "7000"
       ]
      },
      {
       "output_type": "stream",
       "stream": "stdout",
       "text": [
        "\n",
        "8000"
       ]
      },
      {
       "output_type": "stream",
       "stream": "stdout",
       "text": [
        "\n",
        "9000"
       ]
      },
      {
       "output_type": "stream",
       "stream": "stdout",
       "text": [
        "\n",
        "10000"
       ]
      },
      {
       "output_type": "stream",
       "stream": "stdout",
       "text": [
        "\n",
        "11000"
       ]
      },
      {
       "output_type": "stream",
       "stream": "stdout",
       "text": [
        "\n",
        "12000"
       ]
      },
      {
       "output_type": "stream",
       "stream": "stdout",
       "text": [
        "\n",
        "13000"
       ]
      },
      {
       "output_type": "stream",
       "stream": "stdout",
       "text": [
        "\n",
        "14000"
       ]
      },
      {
       "output_type": "stream",
       "stream": "stdout",
       "text": [
        "\n",
        "15000"
       ]
      },
      {
       "output_type": "stream",
       "stream": "stdout",
       "text": [
        "\n",
        "16000"
       ]
      },
      {
       "output_type": "stream",
       "stream": "stdout",
       "text": [
        "\n",
        "17000"
       ]
      },
      {
       "output_type": "stream",
       "stream": "stdout",
       "text": [
        "\n",
        "18000"
       ]
      },
      {
       "output_type": "stream",
       "stream": "stdout",
       "text": [
        "\n",
        "19000"
       ]
      },
      {
       "output_type": "stream",
       "stream": "stdout",
       "text": [
        "\n",
        "20000"
       ]
      },
      {
       "output_type": "stream",
       "stream": "stdout",
       "text": [
        "\n",
        "21000"
       ]
      },
      {
       "output_type": "stream",
       "stream": "stdout",
       "text": [
        "\n",
        "22000"
       ]
      },
      {
       "output_type": "stream",
       "stream": "stdout",
       "text": [
        "\n",
        "23000"
       ]
      },
      {
       "output_type": "stream",
       "stream": "stdout",
       "text": [
        "\n",
        "24000"
       ]
      },
      {
       "output_type": "stream",
       "stream": "stdout",
       "text": [
        "\n",
        "25000"
       ]
      },
      {
       "output_type": "stream",
       "stream": "stdout",
       "text": [
        "\n",
        "26000"
       ]
      },
      {
       "output_type": "stream",
       "stream": "stdout",
       "text": [
        "\n",
        "27000"
       ]
      },
      {
       "output_type": "stream",
       "stream": "stdout",
       "text": [
        "\n",
        "28000"
       ]
      },
      {
       "output_type": "stream",
       "stream": "stdout",
       "text": [
        "\n",
        "29000"
       ]
      },
      {
       "output_type": "stream",
       "stream": "stdout",
       "text": [
        "\n",
        "30000"
       ]
      },
      {
       "output_type": "stream",
       "stream": "stdout",
       "text": [
        "\n",
        "31000"
       ]
      },
      {
       "output_type": "stream",
       "stream": "stdout",
       "text": [
        "\n",
        "32000"
       ]
      },
      {
       "output_type": "stream",
       "stream": "stdout",
       "text": [
        "\n",
        "33000"
       ]
      },
      {
       "output_type": "stream",
       "stream": "stdout",
       "text": [
        "\n",
        "34000"
       ]
      },
      {
       "output_type": "stream",
       "stream": "stdout",
       "text": [
        "\n",
        "35000"
       ]
      },
      {
       "output_type": "stream",
       "stream": "stdout",
       "text": [
        "\n",
        "36000"
       ]
      },
      {
       "output_type": "stream",
       "stream": "stdout",
       "text": [
        "\n",
        "37000"
       ]
      },
      {
       "output_type": "stream",
       "stream": "stdout",
       "text": [
        "\n",
        "38000"
       ]
      },
      {
       "output_type": "stream",
       "stream": "stdout",
       "text": [
        "\n",
        "39000"
       ]
      },
      {
       "output_type": "stream",
       "stream": "stdout",
       "text": [
        "\n",
        "40000"
       ]
      },
      {
       "output_type": "stream",
       "stream": "stdout",
       "text": [
        "\n",
        "41000"
       ]
      },
      {
       "output_type": "stream",
       "stream": "stdout",
       "text": [
        "\n",
        "42000"
       ]
      },
      {
       "output_type": "stream",
       "stream": "stdout",
       "text": [
        "\n",
        "43000"
       ]
      },
      {
       "output_type": "stream",
       "stream": "stdout",
       "text": [
        "\n",
        "44000"
       ]
      },
      {
       "output_type": "stream",
       "stream": "stdout",
       "text": [
        "\n",
        "45000"
       ]
      },
      {
       "output_type": "stream",
       "stream": "stdout",
       "text": [
        "\n",
        "46000"
       ]
      },
      {
       "output_type": "stream",
       "stream": "stdout",
       "text": [
        "\n",
        "47000"
       ]
      },
      {
       "output_type": "stream",
       "stream": "stdout",
       "text": [
        "\n",
        "48000"
       ]
      },
      {
       "output_type": "stream",
       "stream": "stdout",
       "text": [
        "\n",
        "49000"
       ]
      },
      {
       "output_type": "stream",
       "stream": "stdout",
       "text": [
        "\n",
        "50000"
       ]
      },
      {
       "output_type": "stream",
       "stream": "stdout",
       "text": [
        "\n",
        "51000"
       ]
      },
      {
       "output_type": "stream",
       "stream": "stdout",
       "text": [
        "\n",
        "52000"
       ]
      },
      {
       "output_type": "stream",
       "stream": "stdout",
       "text": [
        "\n",
        "53000"
       ]
      },
      {
       "output_type": "stream",
       "stream": "stdout",
       "text": [
        "\n",
        "54000"
       ]
      },
      {
       "output_type": "stream",
       "stream": "stdout",
       "text": [
        "\n",
        "55000"
       ]
      },
      {
       "output_type": "stream",
       "stream": "stdout",
       "text": [
        "\n",
        "56000"
       ]
      },
      {
       "output_type": "stream",
       "stream": "stdout",
       "text": [
        "\n",
        "57000"
       ]
      },
      {
       "output_type": "stream",
       "stream": "stdout",
       "text": [
        "\n",
        "58000"
       ]
      },
      {
       "output_type": "stream",
       "stream": "stdout",
       "text": [
        "\n",
        "59000"
       ]
      },
      {
       "output_type": "stream",
       "stream": "stdout",
       "text": [
        "\n"
       ]
      }
     ],
     "prompt_number": 9
    },
    {
     "cell_type": "code",
     "collapsed": true,
     "input": [
      "#create a new table for categories\n",
      "table_name = 'categories'\n",
      "\n",
      "#if already exists, delete it first\n",
      "if is_among_tables(cursor, table_name):\n",
      "    cursor.execute(\"\"\"DROP TABLE {}\"\"\".format(table_name))\n",
      "\n",
      "cursor.execute(\"\"\"CREATE TABLE {} (\n",
      "                  `id` VARCHAR(255) NOT NULL,\n",
      "                  `short_category` VARCHAR(255),\n",
      "                  `full_category` VARCHAR(255),\n",
      "                  PRIMARY KEY (`id`, `short_category`),\n",
      "                  KEY `short_category` (`short_category`),\n",
      "                  KEY `full_category` (`full_category`))\"\"\".format(table_name))"
     ],
     "language": "python",
     "metadata": {},
     "outputs": [
      {
       "metadata": {},
       "output_type": "pyout",
       "prompt_number": 36,
       "text": [
        "0"
       ]
      }
     ],
     "prompt_number": 36
    },
    {
     "cell_type": "code",
     "collapsed": false,
     "input": [
      "insert_sql = \"\"\"INSERT INTO categories(id, short_category, full_category)\n",
      "                VALUES (%s, %s, %s)\"\"\"\n",
      "\n",
      "total_rows = cats.shape[0]\n",
      "for row_number in range(total_rows):\n",
      "    if row_number % 5000 == 0:\n",
      "        print row_number\n",
      "    row = cats.irow(row_number)\n",
      "    t = (row['id'], row['short_category'], row['full_category'])\n",
      "    try:\n",
      "        cursor.execute(insert_sql, t)\n",
      "    except Exception as e:\n",
      "        print t\n",
      "        raise e\n",
      "        \n",
      "conn.commit()"
     ],
     "language": "python",
     "metadata": {},
     "outputs": [
      {
       "output_type": "stream",
       "stream": "stdout",
       "text": [
        "0\n",
        "5000"
       ]
      },
      {
       "output_type": "stream",
       "stream": "stdout",
       "text": [
        "\n",
        "10000"
       ]
      },
      {
       "output_type": "stream",
       "stream": "stdout",
       "text": [
        "\n",
        "15000"
       ]
      },
      {
       "output_type": "stream",
       "stream": "stdout",
       "text": [
        "\n",
        "20000"
       ]
      },
      {
       "output_type": "stream",
       "stream": "stdout",
       "text": [
        "\n",
        "25000"
       ]
      },
      {
       "output_type": "stream",
       "stream": "stdout",
       "text": [
        "\n",
        "30000"
       ]
      },
      {
       "output_type": "stream",
       "stream": "stdout",
       "text": [
        "\n",
        "35000"
       ]
      },
      {
       "output_type": "stream",
       "stream": "stdout",
       "text": [
        "\n",
        "40000"
       ]
      },
      {
       "output_type": "stream",
       "stream": "stdout",
       "text": [
        "\n",
        "45000"
       ]
      },
      {
       "output_type": "stream",
       "stream": "stdout",
       "text": [
        "\n",
        "50000"
       ]
      },
      {
       "output_type": "stream",
       "stream": "stdout",
       "text": [
        "\n",
        "55000"
       ]
      },
      {
       "output_type": "stream",
       "stream": "stdout",
       "text": [
        "\n",
        "60000"
       ]
      },
      {
       "output_type": "stream",
       "stream": "stdout",
       "text": [
        "\n",
        "65000"
       ]
      },
      {
       "output_type": "stream",
       "stream": "stdout",
       "text": [
        "\n",
        "70000"
       ]
      },
      {
       "output_type": "stream",
       "stream": "stdout",
       "text": [
        "\n",
        "75000"
       ]
      },
      {
       "output_type": "stream",
       "stream": "stdout",
       "text": [
        "\n",
        "80000"
       ]
      },
      {
       "output_type": "stream",
       "stream": "stdout",
       "text": [
        "\n",
        "85000"
       ]
      },
      {
       "output_type": "stream",
       "stream": "stdout",
       "text": [
        "\n"
       ]
      }
     ],
     "prompt_number": 11
    },
    {
     "cell_type": "code",
     "collapsed": false,
     "input": [
      "'''Loading matching'''\n",
      "#create a new table for yelp\n",
      "table_name = 'next_dest'\n",
      "\n",
      "#if already exists, delete it first\n",
      "if is_among_tables(cursor, table_name):\n",
      "    cursor.execute(\"\"\"DROP TABLE {}\"\"\".format(table_name))\n",
      "\n",
      "cursor.execute(\"\"\"CREATE TABLE {} (\n",
      "                  `from_id` VARCHAR(255) NOT NULL,\n",
      "                  `to_id` VARCHAR(255),\n",
      "                  `prob` DOUBLE(7,6),\n",
      "                  PRIMARY KEY (`from_id`,`to_id`))\"\"\".format(table_name))"
     ],
     "language": "python",
     "metadata": {},
     "outputs": [
      {
       "metadata": {},
       "output_type": "pyout",
       "prompt_number": 9,
       "text": [
        "0"
       ]
      }
     ],
     "prompt_number": 9
    },
    {
     "cell_type": "code",
     "collapsed": false,
     "input": [
      "next_records = next_records[['from_id','to_id','prob']]\n",
      "next_records = next_records.drop_duplicates()\n",
      "\n",
      "insert_sql = \"\"\"INSERT INTO next_dest(from_id, to_id, prob)\n",
      "                VALUES (%s, %s, %s)\"\"\"\n",
      "\n",
      "total_rows = next_records.shape[0]\n",
      "for row_number in range(total_rows):\n",
      "    if row_number % 5000 == 0:\n",
      "        print row_number\n",
      "    row = next_records.irow(row_number)\n",
      "    t = (row['from_id'], row['to_id'], float(row['prob']))\n",
      "    try:\n",
      "        cursor.execute(insert_sql, t)\n",
      "    except Exception as e:\n",
      "        print e\n",
      "        print t\n",
      "        \n",
      "conn.commit()"
     ],
     "language": "python",
     "metadata": {},
     "outputs": [
      {
       "output_type": "stream",
       "stream": "stdout",
       "text": [
        "0\n",
        "(1062, u\"Duplicate entry 'sf-fire-credit-union-san-francisco-spruce-san-francisco' for key 'PRIMARY'\")\n",
        "('sf-fire-credit-union-san-francisco', 'spruce-san-francisco', 0.9995256075615694)\n",
        "(1062, u\"Duplicate entry 'sf-fire-credit-union-san-francisco-2-kome-japanese-seafood-and-g' for key 'PRIMARY'\")\n",
        "('sf-fire-credit-union-san-francisco-2', 'kome-japanese-seafood-and-grill-buffet-daly-city', 0.998781875819854)\n",
        "(1062, u\"Duplicate entry 'united-health-credit-union-burlingame-2-millbrae-pancake-house-m' for key 'PRIMARY'\")\n",
        "('united-health-credit-union-burlingame-2', 'millbrae-pancake-house-millbrae', 0.9979011310245604)\n",
        "(1062, u\"Duplicate entry 'provident-credit-union-millbrae-millbrae-pancake-house-millbrae' for key 'PRIMARY'\")\n",
        "('provident-credit-union-millbrae', 'millbrae-pancake-house-millbrae', 0.9989518826317608)\n",
        "(1062, u\"Duplicate entry 'redwood-credit-union-san-francisco-2-blue-bottle-coffee-co-san-f' for key 'PRIMARY'\")\n",
        "('redwood-credit-union-san-francisco-2', 'blue-bottle-coffee-co-san-francisco-7', 0.9998578908546536)\n",
        "(1062, u\"Duplicate entry 'san-francisco-federal-credit-union-san-francisco-4-blue-bottle-c' for key 'PRIMARY'\")\n",
        "('san-francisco-federal-credit-union-san-francisco-4', 'blue-bottle-coffee-co-san-francisco-7', 0.999865205385754)\n",
        "(1062, u\"Duplicate entry 'first-republic-bank-san-francisco-19-blue-bottle-coffee-co-san-f' for key 'PRIMARY'\")\n",
        "('first-republic-bank-san-francisco-19', 'blue-bottle-coffee-co-san-francisco-7', 0.9998810621519928)\n",
        "(1062, u\"Duplicate entry 'new-resource-bank-san-francisco-blue-bottle-coffee-co-san-franci' for key 'PRIMARY'\")\n",
        "('new-resource-bank-san-francisco', 'blue-bottle-coffee-co-san-francisco-7', 0.9998584930130334)\n",
        "(1062, u\"Duplicate entry 'provident-credit-union-san-francisco-blue-bottle-coffee-co-san-f' for key 'PRIMARY'\")\n",
        "('provident-credit-union-san-francisco', 'blue-bottle-coffee-co-san-francisco-7', 0.9999011977357684)\n",
        "(1062, u\"Duplicate entry 'chase-san-francisco-73-ritual-coffee-roasters-san-francisco' for key 'PRIMARY'\")\n",
        "('chase-san-francisco-73', 'ritual-coffee-roasters-san-francisco', 0.9992677154900494)\n",
        "5000"
       ]
      },
      {
       "output_type": "stream",
       "stream": "stdout",
       "text": [
        "\n",
        "10000"
       ]
      },
      {
       "output_type": "stream",
       "stream": "stdout",
       "text": [
        "\n",
        "15000"
       ]
      },
      {
       "output_type": "stream",
       "stream": "stdout",
       "text": [
        "\n",
        "20000"
       ]
      },
      {
       "output_type": "stream",
       "stream": "stdout",
       "text": [
        "\n",
        "25000"
       ]
      },
      {
       "output_type": "stream",
       "stream": "stdout",
       "text": [
        "\n",
        "30000"
       ]
      },
      {
       "output_type": "stream",
       "stream": "stdout",
       "text": [
        "\n",
        "35000"
       ]
      },
      {
       "output_type": "stream",
       "stream": "stdout",
       "text": [
        "\n",
        "40000"
       ]
      },
      {
       "output_type": "stream",
       "stream": "stdout",
       "text": [
        "\n",
        "45000"
       ]
      },
      {
       "output_type": "stream",
       "stream": "stdout",
       "text": [
        "\n",
        "50000"
       ]
      },
      {
       "output_type": "stream",
       "stream": "stdout",
       "text": [
        "\n",
        "55000"
       ]
      },
      {
       "output_type": "stream",
       "stream": "stdout",
       "text": [
        "\n"
       ]
      }
     ],
     "prompt_number": 14
    },
    {
     "cell_type": "code",
     "collapsed": false,
     "input": [
      "next_records"
     ],
     "language": "python",
     "metadata": {},
     "outputs": [
      {
       "html": [
        "<div style=\"max-height:1000px;max-width:1500px;overflow:auto;\">\n",
        "<table border=\"1\" class=\"dataframe\">\n",
        "  <thead>\n",
        "    <tr style=\"text-align: right;\">\n",
        "      <th></th>\n",
        "      <th>from_id</th>\n",
        "      <th>to_id</th>\n",
        "    </tr>\n",
        "  </thead>\n",
        "  <tbody>\n",
        "    <tr>\n",
        "      <th>0 </th>\n",
        "      <td>                sf-fire-credit-union-san-francisco</td>\n",
        "      <td>                              spruce-san-francisco</td>\n",
        "    </tr>\n",
        "    <tr>\n",
        "      <th>1 </th>\n",
        "      <td>              sf-fire-credit-union-san-francisco-2</td>\n",
        "      <td>  kome-japanese-seafood-and-grill-buffet-daly-city</td>\n",
        "    </tr>\n",
        "    <tr>\n",
        "      <th>2 </th>\n",
        "      <td>           united-health-credit-union-burlingame-2</td>\n",
        "      <td>                   millbrae-pancake-house-millbrae</td>\n",
        "    </tr>\n",
        "    <tr>\n",
        "      <th>3 </th>\n",
        "      <td>                   provident-credit-union-millbrae</td>\n",
        "      <td>                   millbrae-pancake-house-millbrae</td>\n",
        "    </tr>\n",
        "    <tr>\n",
        "      <th>4 </th>\n",
        "      <td>              redwood-credit-union-san-francisco-2</td>\n",
        "      <td>             blue-bottle-coffee-co-san-francisco-7</td>\n",
        "    </tr>\n",
        "    <tr>\n",
        "      <th>5 </th>\n",
        "      <td> san-francisco-federal-credit-union-san-francis...</td>\n",
        "      <td>             blue-bottle-coffee-co-san-francisco-7</td>\n",
        "    </tr>\n",
        "    <tr>\n",
        "      <th>6 </th>\n",
        "      <td>              first-republic-bank-san-francisco-19</td>\n",
        "      <td>             blue-bottle-coffee-co-san-francisco-7</td>\n",
        "    </tr>\n",
        "    <tr>\n",
        "      <th>7 </th>\n",
        "      <td>                   new-resource-bank-san-francisco</td>\n",
        "      <td>             blue-bottle-coffee-co-san-francisco-7</td>\n",
        "    </tr>\n",
        "    <tr>\n",
        "      <th>8 </th>\n",
        "      <td>              provident-credit-union-san-francisco</td>\n",
        "      <td>             blue-bottle-coffee-co-san-francisco-7</td>\n",
        "    </tr>\n",
        "    <tr>\n",
        "      <th>9 </th>\n",
        "      <td>                            chase-san-francisco-73</td>\n",
        "      <td>              ritual-coffee-roasters-san-francisco</td>\n",
        "    </tr>\n",
        "    <tr>\n",
        "      <th>10</th>\n",
        "      <td>                 wells-fargo-bank-san-francisco-47</td>\n",
        "      <td>              ritual-coffee-roasters-san-francisco</td>\n",
        "    </tr>\n",
        "    <tr>\n",
        "      <th>11</th>\n",
        "      <td>                  provident-credit-union-belmont-2</td>\n",
        "      <td>        jacks-prime-burgers-and-shakes-san-mateo-3</td>\n",
        "    </tr>\n",
        "    <tr>\n",
        "      <th>12</th>\n",
        "      <td>                 wells-fargo-bank-san-francisco-27</td>\n",
        "      <td>             blue-bottle-coffee-co-san-francisco-7</td>\n",
        "    </tr>\n",
        "    <tr>\n",
        "      <th>13</th>\n",
        "      <td>              patelco-credit-union-san-francisco-4</td>\n",
        "      <td>                        purple-kow-san-francisco-2</td>\n",
        "    </tr>\n",
        "    <tr>\n",
        "      <th>14</th>\n",
        "      <td>                            chase-san-francisco-84</td>\n",
        "      <td>                                 isa-san-francisco</td>\n",
        "    </tr>\n",
        "    <tr>\n",
        "      <th>15</th>\n",
        "      <td>                            chase-san-francisco-95</td>\n",
        "      <td>             blue-bottle-coffee-co-san-francisco-7</td>\n",
        "    </tr>\n",
        "    <tr>\n",
        "      <th>16</th>\n",
        "      <td>                redwood-credit-union-san-francisco</td>\n",
        "      <td>                blue-bottle-coffee-san-francisco-8</td>\n",
        "    </tr>\n",
        "    <tr>\n",
        "      <th>17</th>\n",
        "      <td>                 wells-fargo-bank-san-francisco-57</td>\n",
        "      <td>             blue-bottle-coffee-co-san-francisco-7</td>\n",
        "    </tr>\n",
        "    <tr>\n",
        "      <th>18</th>\n",
        "      <td>                 wells-fargo-bank-san-francisco-33</td>\n",
        "      <td>                         the-alembic-san-francisco</td>\n",
        "    </tr>\n",
        "    <tr>\n",
        "      <th>19</th>\n",
        "      <td>                            chase-san-francisco-12</td>\n",
        "      <td>                        purple-kow-san-francisco-2</td>\n",
        "    </tr>\n",
        "    <tr>\n",
        "      <th>20</th>\n",
        "      <td>                 wells-fargo-bank-san-francisco-49</td>\n",
        "      <td>  kome-japanese-seafood-and-grill-buffet-daly-city</td>\n",
        "    </tr>\n",
        "    <tr>\n",
        "      <th>21</th>\n",
        "      <td>                 wells-fargo-bank-san-francisco-34</td>\n",
        "      <td>                           park-chow-san-francisco</td>\n",
        "    </tr>\n",
        "    <tr>\n",
        "      <th>22</th>\n",
        "      <td>               bank-of-america-atm-san-francisco-4</td>\n",
        "      <td>             blue-bottle-coffee-co-san-francisco-7</td>\n",
        "    </tr>\n",
        "    <tr>\n",
        "      <th>23</th>\n",
        "      <td>              wells-fargo-bank-south-san-francisco</td>\n",
        "      <td> little-lucca-sandwich-shop-and-deli-south-san-...</td>\n",
        "    </tr>\n",
        "    <tr>\n",
        "      <th>24</th>\n",
        "      <td>              patelco-credit-union-san-francisco-3</td>\n",
        "      <td>             blue-bottle-coffee-co-san-francisco-7</td>\n",
        "    </tr>\n",
        "    <tr>\n",
        "      <th>25</th>\n",
        "      <td>                             us-bank-san-francisco</td>\n",
        "      <td>              ritual-coffee-roasters-san-francisco</td>\n",
        "    </tr>\n",
        "    <tr>\n",
        "      <th>26</th>\n",
        "      <td>                 wells-fargo-bank-san-francisco-38</td>\n",
        "      <td> the-stinking-rose-a-garlic-restaurant-san-fran...</td>\n",
        "    </tr>\n",
        "    <tr>\n",
        "      <th>27</th>\n",
        "      <td>                            chase-san-francisco-81</td>\n",
        "      <td>                  four-barrel-coffee-san-francisco</td>\n",
        "    </tr>\n",
        "    <tr>\n",
        "      <th>28</th>\n",
        "      <td>                             comerica-bank-oakland</td>\n",
        "      <td>               home-of-chicken-and-waffles-oakland</td>\n",
        "    </tr>\n",
        "    <tr>\n",
        "      <th>29</th>\n",
        "      <td>                                  chase-oakland-20</td>\n",
        "      <td>                            berkeley-bowl-berkeley</td>\n",
        "    </tr>\n",
        "    <tr>\n",
        "      <th>30</th>\n",
        "      <td>                            chase-san-francisco-59</td>\n",
        "      <td>             blue-bottle-coffee-co-san-francisco-7</td>\n",
        "    </tr>\n",
        "    <tr>\n",
        "      <th>31</th>\n",
        "      <td>                 wells-fargo-bank-san-francisco-59</td>\n",
        "      <td>                  four-barrel-coffee-san-francisco</td>\n",
        "    </tr>\n",
        "    <tr>\n",
        "      <th>32</th>\n",
        "      <td>                 wells-fargo-bank-san-francisco-36</td>\n",
        "      <td>                blue-bottle-coffee-san-francisco-8</td>\n",
        "    </tr>\n",
        "    <tr>\n",
        "      <th>33</th>\n",
        "      <td>                         citibank-san-francisco-13</td>\n",
        "      <td>             blue-bottle-coffee-co-san-francisco-7</td>\n",
        "    </tr>\n",
        "    <tr>\n",
        "      <th>34</th>\n",
        "      <td>      community-trust-credit-union-san-francisco-6</td>\n",
        "      <td>              ritual-coffee-roasters-san-francisco</td>\n",
        "    </tr>\n",
        "    <tr>\n",
        "      <th>35</th>\n",
        "      <td>                            chase-san-francisco-71</td>\n",
        "      <td>             blue-bottle-coffee-co-san-francisco-7</td>\n",
        "    </tr>\n",
        "    <tr>\n",
        "      <th>36</th>\n",
        "      <td>           financial-benefits-credit-union-alameda</td>\n",
        "      <td>               home-of-chicken-and-waffles-oakland</td>\n",
        "    </tr>\n",
        "    <tr>\n",
        "      <th>37</th>\n",
        "      <td>                            chase-san-francisco-76</td>\n",
        "      <td> boudin-sourdough-bakery-and-cafe-san-francisco-17</td>\n",
        "    </tr>\n",
        "    <tr>\n",
        "      <th>38</th>\n",
        "      <td>                 wells-fargo-bank-san-francisco-54</td>\n",
        "      <td>             blue-bottle-coffee-co-san-francisco-7</td>\n",
        "    </tr>\n",
        "    <tr>\n",
        "      <th>39</th>\n",
        "      <td>                    patelco-credit-union-oakland-3</td>\n",
        "      <td>               home-of-chicken-and-waffles-oakland</td>\n",
        "    </tr>\n",
        "    <tr>\n",
        "      <th>40</th>\n",
        "      <td> bpi-express-remittance-corporation-south-san-f...</td>\n",
        "      <td>                              koi-palace-daly-city</td>\n",
        "    </tr>\n",
        "    <tr>\n",
        "      <th>41</th>\n",
        "      <td>                                 chase-daly-city-5</td>\n",
        "      <td>  kome-japanese-seafood-and-grill-buffet-daly-city</td>\n",
        "    </tr>\n",
        "    <tr>\n",
        "      <th>42</th>\n",
        "      <td>                            chase-san-francisco-68</td>\n",
        "      <td>              ritual-coffee-roasters-san-francisco</td>\n",
        "    </tr>\n",
        "    <tr>\n",
        "      <th>43</th>\n",
        "      <td>                 wells-fargo-bank-san-francisco-32</td>\n",
        "      <td>                        purple-kow-san-francisco-2</td>\n",
        "    </tr>\n",
        "    <tr>\n",
        "      <th>44</th>\n",
        "      <td>                                 chase-san-mateo-6</td>\n",
        "      <td>                                  tpumps-san-mateo</td>\n",
        "    </tr>\n",
        "    <tr>\n",
        "      <th>45</th>\n",
        "      <td>                                 citibank-millbrae</td>\n",
        "      <td>                   millbrae-pancake-house-millbrae</td>\n",
        "    </tr>\n",
        "    <tr>\n",
        "      <th>46</th>\n",
        "      <td>                 wells-fargo-bank-san-francisco-63</td>\n",
        "      <td>              ritual-coffee-roasters-san-francisco</td>\n",
        "    </tr>\n",
        "    <tr>\n",
        "      <th>47</th>\n",
        "      <td>                    alliant-credit-union-san-mateo</td>\n",
        "      <td>                                  tpumps-san-mateo</td>\n",
        "    </tr>\n",
        "    <tr>\n",
        "      <th>48</th>\n",
        "      <td>                   bank-of-america-san-francisco-8</td>\n",
        "      <td>             blue-bottle-coffee-co-san-francisco-7</td>\n",
        "    </tr>\n",
        "    <tr>\n",
        "      <th>49</th>\n",
        "      <td>                         bank-of-america-oakland-2</td>\n",
        "      <td>         lake-chalet-seafood-bar-and-grill-oakland</td>\n",
        "    </tr>\n",
        "    <tr>\n",
        "      <th>50</th>\n",
        "      <td>                         citibank-san-francisco-18</td>\n",
        "      <td>                  house-of-prime-rib-san-francisco</td>\n",
        "    </tr>\n",
        "    <tr>\n",
        "      <th>51</th>\n",
        "      <td>                  bank-of-america-san-francisco-22</td>\n",
        "      <td>           q-restaurant-and-wine-bar-san-francisco</td>\n",
        "    </tr>\n",
        "    <tr>\n",
        "      <th>52</th>\n",
        "      <td>                        wells-fargo-bank-san-mateo</td>\n",
        "      <td>                                  tpumps-san-mateo</td>\n",
        "    </tr>\n",
        "    <tr>\n",
        "      <th>53</th>\n",
        "      <td>                               the-golden1-oakland</td>\n",
        "      <td>               home-of-chicken-and-waffles-oakland</td>\n",
        "    </tr>\n",
        "    <tr>\n",
        "      <th>54</th>\n",
        "      <td>                  san-mateo-credit-union-san-mateo</td>\n",
        "      <td>                                  tpumps-san-mateo</td>\n",
        "    </tr>\n",
        "    <tr>\n",
        "      <th>55</th>\n",
        "      <td>                            chase-san-francisco-69</td>\n",
        "      <td>                     rainbow-grocery-san-francisco</td>\n",
        "    </tr>\n",
        "    <tr>\n",
        "      <th>56</th>\n",
        "      <td>                 wells-fargo-bank-san-francisco-26</td>\n",
        "      <td>                        purple-kow-san-francisco-2</td>\n",
        "    </tr>\n",
        "    <tr>\n",
        "      <th>57</th>\n",
        "      <td>                          citibank-f-s-b-san-mateo</td>\n",
        "      <td>                           santa-ramen-san-mateo-2</td>\n",
        "    </tr>\n",
        "    <tr>\n",
        "      <th>58</th>\n",
        "      <td>                  bank-of-america-san-francisco-33</td>\n",
        "      <td>                blue-bottle-coffee-san-francisco-8</td>\n",
        "    </tr>\n",
        "    <tr>\n",
        "      <th>59</th>\n",
        "      <td>                 wells-fargo-bank-san-francisco-30</td>\n",
        "      <td>                                 isa-san-francisco</td>\n",
        "    </tr>\n",
        "    <tr>\n",
        "      <th></th>\n",
        "      <td>...</td>\n",
        "      <td>...</td>\n",
        "    </tr>\n",
        "  </tbody>\n",
        "</table>\n",
        "<p>59311 rows \u00d7 2 columns</p>\n",
        "</div>"
       ],
       "metadata": {},
       "output_type": "pyout",
       "prompt_number": 17,
       "text": [
        "                                              from_id  \\\n",
        "0                  sf-fire-credit-union-san-francisco   \n",
        "1                sf-fire-credit-union-san-francisco-2   \n",
        "2             united-health-credit-union-burlingame-2   \n",
        "3                     provident-credit-union-millbrae   \n",
        "4                redwood-credit-union-san-francisco-2   \n",
        "5   san-francisco-federal-credit-union-san-francis...   \n",
        "6                first-republic-bank-san-francisco-19   \n",
        "7                     new-resource-bank-san-francisco   \n",
        "8                provident-credit-union-san-francisco   \n",
        "9                              chase-san-francisco-73   \n",
        "10                  wells-fargo-bank-san-francisco-47   \n",
        "11                   provident-credit-union-belmont-2   \n",
        "12                  wells-fargo-bank-san-francisco-27   \n",
        "13               patelco-credit-union-san-francisco-4   \n",
        "14                             chase-san-francisco-84   \n",
        "15                             chase-san-francisco-95   \n",
        "16                 redwood-credit-union-san-francisco   \n",
        "17                  wells-fargo-bank-san-francisco-57   \n",
        "18                  wells-fargo-bank-san-francisco-33   \n",
        "19                             chase-san-francisco-12   \n",
        "20                  wells-fargo-bank-san-francisco-49   \n",
        "21                  wells-fargo-bank-san-francisco-34   \n",
        "22                bank-of-america-atm-san-francisco-4   \n",
        "23               wells-fargo-bank-south-san-francisco   \n",
        "24               patelco-credit-union-san-francisco-3   \n",
        "25                              us-bank-san-francisco   \n",
        "26                  wells-fargo-bank-san-francisco-38   \n",
        "27                             chase-san-francisco-81   \n",
        "28                              comerica-bank-oakland   \n",
        "29                                   chase-oakland-20   \n",
        "30                             chase-san-francisco-59   \n",
        "31                  wells-fargo-bank-san-francisco-59   \n",
        "32                  wells-fargo-bank-san-francisco-36   \n",
        "33                          citibank-san-francisco-13   \n",
        "34       community-trust-credit-union-san-francisco-6   \n",
        "35                             chase-san-francisco-71   \n",
        "36            financial-benefits-credit-union-alameda   \n",
        "37                             chase-san-francisco-76   \n",
        "38                  wells-fargo-bank-san-francisco-54   \n",
        "39                     patelco-credit-union-oakland-3   \n",
        "40  bpi-express-remittance-corporation-south-san-f...   \n",
        "41                                  chase-daly-city-5   \n",
        "42                             chase-san-francisco-68   \n",
        "43                  wells-fargo-bank-san-francisco-32   \n",
        "44                                  chase-san-mateo-6   \n",
        "45                                  citibank-millbrae   \n",
        "46                  wells-fargo-bank-san-francisco-63   \n",
        "47                     alliant-credit-union-san-mateo   \n",
        "48                    bank-of-america-san-francisco-8   \n",
        "49                          bank-of-america-oakland-2   \n",
        "50                          citibank-san-francisco-18   \n",
        "51                   bank-of-america-san-francisco-22   \n",
        "52                         wells-fargo-bank-san-mateo   \n",
        "53                                the-golden1-oakland   \n",
        "54                   san-mateo-credit-union-san-mateo   \n",
        "55                             chase-san-francisco-69   \n",
        "56                  wells-fargo-bank-san-francisco-26   \n",
        "57                           citibank-f-s-b-san-mateo   \n",
        "58                   bank-of-america-san-francisco-33   \n",
        "59                  wells-fargo-bank-san-francisco-30   \n",
        "                                                  ...   \n",
        "\n",
        "                                                to_id  \n",
        "0                                spruce-san-francisco  \n",
        "1    kome-japanese-seafood-and-grill-buffet-daly-city  \n",
        "2                     millbrae-pancake-house-millbrae  \n",
        "3                     millbrae-pancake-house-millbrae  \n",
        "4               blue-bottle-coffee-co-san-francisco-7  \n",
        "5               blue-bottle-coffee-co-san-francisco-7  \n",
        "6               blue-bottle-coffee-co-san-francisco-7  \n",
        "7               blue-bottle-coffee-co-san-francisco-7  \n",
        "8               blue-bottle-coffee-co-san-francisco-7  \n",
        "9                ritual-coffee-roasters-san-francisco  \n",
        "10               ritual-coffee-roasters-san-francisco  \n",
        "11         jacks-prime-burgers-and-shakes-san-mateo-3  \n",
        "12              blue-bottle-coffee-co-san-francisco-7  \n",
        "13                         purple-kow-san-francisco-2  \n",
        "14                                  isa-san-francisco  \n",
        "15              blue-bottle-coffee-co-san-francisco-7  \n",
        "16                 blue-bottle-coffee-san-francisco-8  \n",
        "17              blue-bottle-coffee-co-san-francisco-7  \n",
        "18                          the-alembic-san-francisco  \n",
        "19                         purple-kow-san-francisco-2  \n",
        "20   kome-japanese-seafood-and-grill-buffet-daly-city  \n",
        "21                            park-chow-san-francisco  \n",
        "22              blue-bottle-coffee-co-san-francisco-7  \n",
        "23  little-lucca-sandwich-shop-and-deli-south-san-...  \n",
        "24              blue-bottle-coffee-co-san-francisco-7  \n",
        "25               ritual-coffee-roasters-san-francisco  \n",
        "26  the-stinking-rose-a-garlic-restaurant-san-fran...  \n",
        "27                   four-barrel-coffee-san-francisco  \n",
        "28                home-of-chicken-and-waffles-oakland  \n",
        "29                             berkeley-bowl-berkeley  \n",
        "30              blue-bottle-coffee-co-san-francisco-7  \n",
        "31                   four-barrel-coffee-san-francisco  \n",
        "32                 blue-bottle-coffee-san-francisco-8  \n",
        "33              blue-bottle-coffee-co-san-francisco-7  \n",
        "34               ritual-coffee-roasters-san-francisco  \n",
        "35              blue-bottle-coffee-co-san-francisco-7  \n",
        "36                home-of-chicken-and-waffles-oakland  \n",
        "37  boudin-sourdough-bakery-and-cafe-san-francisco-17  \n",
        "38              blue-bottle-coffee-co-san-francisco-7  \n",
        "39                home-of-chicken-and-waffles-oakland  \n",
        "40                               koi-palace-daly-city  \n",
        "41   kome-japanese-seafood-and-grill-buffet-daly-city  \n",
        "42               ritual-coffee-roasters-san-francisco  \n",
        "43                         purple-kow-san-francisco-2  \n",
        "44                                   tpumps-san-mateo  \n",
        "45                    millbrae-pancake-house-millbrae  \n",
        "46               ritual-coffee-roasters-san-francisco  \n",
        "47                                   tpumps-san-mateo  \n",
        "48              blue-bottle-coffee-co-san-francisco-7  \n",
        "49          lake-chalet-seafood-bar-and-grill-oakland  \n",
        "50                   house-of-prime-rib-san-francisco  \n",
        "51            q-restaurant-and-wine-bar-san-francisco  \n",
        "52                                   tpumps-san-mateo  \n",
        "53                home-of-chicken-and-waffles-oakland  \n",
        "54                                   tpumps-san-mateo  \n",
        "55                      rainbow-grocery-san-francisco  \n",
        "56                         purple-kow-san-francisco-2  \n",
        "57                            santa-ramen-san-mateo-2  \n",
        "58                 blue-bottle-coffee-san-francisco-8  \n",
        "59                                  isa-san-francisco  \n",
        "                                                  ...  \n",
        "\n",
        "[59311 rows x 2 columns]"
       ]
      }
     ],
     "prompt_number": 17
    },
    {
     "cell_type": "code",
     "collapsed": false,
     "input": [],
     "language": "python",
     "metadata": {},
     "outputs": []
    }
   ],
   "metadata": {}
  }
 ]
}