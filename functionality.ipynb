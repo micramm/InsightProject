{
 "metadata": {
  "name": "",
  "signature": "sha256:1625844726bc1d56e7a54840044d0f7bef4e5313d0ebb7748763353f5e71e707"
 },
 "nbformat": 3,
 "nbformat_minor": 0,
 "worksheets": [
  {
   "cells": [
    {
     "cell_type": "code",
     "collapsed": false,
     "input": [
      "import pymysql\n",
      "import pandas as pd\n",
      "from access_keys import access_keys"
     ],
     "language": "python",
     "metadata": {},
     "outputs": [],
     "prompt_number": 119
    },
    {
     "cell_type": "code",
     "collapsed": false,
     "input": [
      "conn = pymysql.connect(host='localhost', user='root')\n",
      "# conn = pymysql.connect(host='insight.clzrh9aax7lr.us-east-1.rds.amazonaws.com', user='michaelramm', passwd = access_keys.amazon_rds_password)\n",
      "cursor = conn.cursor()\n",
      "cursor.execute(\"\"\"USE Insight;\"\"\")"
     ],
     "language": "python",
     "metadata": {},
     "outputs": [
      {
       "metadata": {},
       "output_type": "pyout",
       "prompt_number": 120,
       "text": [
        "0"
       ]
      }
     ],
     "prompt_number": 120
    },
    {
     "cell_type": "code",
     "collapsed": false,
     "input": [
      "def query_close_locations(latitde, longitude):\n",
      "    \"\"\"\n",
      "    returns the query to create the filtered_yelp table with locations close to the provided coordinates\n",
      "    \"\"\"\n",
      "    return \"\"\"\n",
      "    CREATE OR REPLACE VIEW filtered_yelp AS\n",
      "    SELECT *, SQRT(POW((latitude - {0}),2) + POW((longitude - {1}),2)) as distance\n",
      "    FROM yelp\n",
      "    WHERE rating >= 3.5\n",
      "    \"\"\".format(latitde, longitude)"
     ],
     "language": "python",
     "metadata": {},
     "outputs": [],
     "prompt_number": 154
    },
    {
     "cell_type": "code",
     "collapsed": false,
     "input": [
      "def query_match_category(category):\n",
      "    return \"\"\"\n",
      "    CREATE OR REPLACE VIEW cats AS\n",
      "    SELECT id, short_category\n",
      "    FROM categories\n",
      "    WHERE short_category = '{}'\n",
      "    \"\"\".format(category)"
     ],
     "language": "python",
     "metadata": {},
     "outputs": [],
     "prompt_number": 215
    },
    {
     "cell_type": "code",
     "collapsed": false,
     "input": [
      "query_get = \"\"\"\n",
      "SELECT cats.id as id, short_category, display_address, image_url, phone, rating, rating_image_url_large, url, latitude, longitude \n",
      "FROM cats\n",
      "JOIN filtered_yelp\n",
      "ON cats.id = filtered_yelp.id\n",
      "ORDER BY distance\n",
      "LIMIT 6\n",
      "\"\"\"\n",
      "results = []\n",
      "start_loc = 37.524968\n",
      "start_long = -122.2508315\n",
      "cursor.execute(query_close_locations(start_loc, start_long))\n",
      "for category in ['cafes','drugstores','grocery','icecream']:\n",
      "    cursor.execute(query_match_category(category))\n",
      "    cursor.execute(query_get)\n",
      "    results.append(cursor.fetchall())"
     ],
     "language": "python",
     "metadata": {},
     "outputs": [],
     "prompt_number": 240
    },
    {
     "cell_type": "code",
     "collapsed": false,
     "input": [
      "for x in results[1]: print x[-2], x[-1]"
     ],
     "language": "python",
     "metadata": {},
     "outputs": [
      {
       "output_type": "stream",
       "stream": "stdout",
       "text": [
        "37.524105 -122.252680\n",
        "37.519722 -122.275186\n",
        "37.545468 -122.272053\n",
        "37.529040 -122.289248\n",
        "37.561070 -122.274370\n",
        "37.568597 -122.266075\n"
       ]
      }
     ],
     "prompt_number": 248
    },
    {
     "cell_type": "code",
     "collapsed": false,
     "input": [],
     "language": "python",
     "metadata": {},
     "outputs": []
    }
   ],
   "metadata": {}
  }
 ]
}