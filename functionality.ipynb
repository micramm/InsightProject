{
 "metadata": {
  "name": "",
  "signature": "sha256:d294c528351964aa35d395c1573b2075cb201bf45d6fe2d78abb5b90cdd415d3"
 },
 "nbformat": 3,
 "nbformat_minor": 0,
 "worksheets": [
  {
   "cells": [
    {
     "cell_type": "code",
     "collapsed": false,
     "input": [
      "import pymysql\n",
      "import pandas as pd\n",
      "from access_keys import access_keys"
     ],
     "language": "python",
     "metadata": {},
     "outputs": [],
     "prompt_number": 119
    },
    {
     "cell_type": "code",
     "collapsed": false,
     "input": [
      "conn = pymysql.connect(host='localhost', user='root')\n",
      "# conn = pymysql.connect(host='insight.clzrh9aax7lr.us-east-1.rds.amazonaws.com', user='michaelramm', passwd = access_keys.amazon_rds_password)\n",
      "cursor = conn.cursor()\n",
      "cursor.execute(\"\"\"USE Insight;\"\"\")"
     ],
     "language": "python",
     "metadata": {},
     "outputs": [
      {
       "metadata": {},
       "output_type": "pyout",
       "prompt_number": 120,
       "text": [
        "0"
       ]
      }
     ],
     "prompt_number": 120
    },
    {
     "cell_type": "code",
     "collapsed": false,
     "input": [
      "def query_close_locations(latitde, longitude):\n",
      "    \"\"\"\n",
      "    returns the query to create the filtered_yelp table with locations close to the provided coordinates\n",
      "    \"\"\"\n",
      "    return \"\"\"\n",
      "    CREATE OR REPLACE VIEW filtered_yelp AS\n",
      "    SELECT *, SQRT(POW((latitude - {0}),2) + POW((longitude - {1}),2)) as distance\n",
      "    FROM yelp\n",
      "    WHERE rating >= 3.5\n",
      "    \"\"\".format(latitde, longitude)"
     ],
     "language": "python",
     "metadata": {},
     "outputs": [],
     "prompt_number": 154
    },
    {
     "cell_type": "code",
     "collapsed": false,
     "input": [
      "def query_match_category(category):\n",
      "    return \"\"\"\n",
      "    CREATE OR REPLACE VIEW cats AS\n",
      "    SELECT id, short_category\n",
      "    FROM categories\n",
      "    WHERE short_category = '{}'\n",
      "    \"\"\".format(category)"
     ],
     "language": "python",
     "metadata": {},
     "outputs": [],
     "prompt_number": 215
    },
    {
     "cell_type": "code",
     "collapsed": false,
     "input": [
      "query_get = \"\"\"\n",
      "SELECT cats.id as id, short_category, display_address, image_url, phone, rating, rating_image_url_large, url, distance\n",
      "FROM cats\n",
      "JOIN filtered_yelp\n",
      "ON cats.id = filtered_yelp.id\n",
      "ORDER BY distance\n",
      "LIMIT 6\n",
      "\"\"\"\n",
      "results = []\n",
      "cursor.execute(query_close_locations(37.89, -122.40))\n",
      "for category in ['cafes','drugstores','grocery','icecream']:\n",
      "    cursor.execute(query_match_category(category))\n",
      "    cursor.execute(query_get)\n",
      "    results.append(cursor.fetchall())"
     ],
     "language": "python",
     "metadata": {},
     "outputs": [],
     "prompt_number": 232
    }
   ],
   "metadata": {}
  }
 ]
}