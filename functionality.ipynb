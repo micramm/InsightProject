{
 "metadata": {
  "name": "",
  "signature": "sha256:2fde45330c60fd2bc579f32f4eec7cb1cd7bb4b50239e1b2f691fd290df7fff6"
 },
 "nbformat": 3,
 "nbformat_minor": 0,
 "worksheets": [
  {
   "cells": [
    {
     "cell_type": "code",
     "collapsed": false,
     "input": [
      "import pymysql\n",
      "import pandas as pd\n",
      "from access_keys import access_keys\n",
      "import mapquest_api\n",
      "mapquest = mapquest_api.mapquest_api()\n",
      "import numpy as np\n",
      "import path_finder\n",
      "finder = path_finder.path_finder()"
     ],
     "language": "python",
     "metadata": {},
     "outputs": [],
     "prompt_number": 325
    },
    {
     "cell_type": "code",
     "collapsed": false,
     "input": [
      "conn = pymysql.connect(host='localhost', user='root')\n",
      "# conn = pymysql.connect(host='insight.clzrh9aax7lr.us-east-1.rds.amazonaws.com', user='michaelramm', passwd = access_keys.amazon_rds_password)\n",
      "cursor = conn.cursor()\n",
      "cursor.execute(\"\"\"USE Insight;\"\"\")"
     ],
     "language": "python",
     "metadata": {},
     "outputs": [
      {
       "metadata": {},
       "output_type": "pyout",
       "prompt_number": 332,
       "text": [
        "0"
       ]
      }
     ],
     "prompt_number": 332
    },
    {
     "cell_type": "code",
     "collapsed": false,
     "input": [
      "def query_close_locations(latitde, longitude):\n",
      "    \"\"\"\n",
      "    returns the query to create the filtered_yelp table with locations close to the provided coordinates\n",
      "    \"\"\"\n",
      "    return \"\"\"\n",
      "    CREATE OR REPLACE VIEW filtered_yelp AS\n",
      "    SELECT *, SQRT(POW((latitude - {0}),2) + POW((longitude - {1}),2)) as distance\n",
      "    FROM yelp\n",
      "    WHERE rating >= 3.5\n",
      "    \"\"\".format(latitde, longitude)"
     ],
     "language": "python",
     "metadata": {},
     "outputs": [],
     "prompt_number": 333
    },
    {
     "cell_type": "code",
     "collapsed": false,
     "input": [
      "def query_match_category(category):\n",
      "    return \"\"\"\n",
      "    CREATE OR REPLACE VIEW cats AS\n",
      "    SELECT id, short_category\n",
      "    FROM categories\n",
      "    WHERE short_category = '{}'\n",
      "    \"\"\".format(category)"
     ],
     "language": "python",
     "metadata": {},
     "outputs": [],
     "prompt_number": 334
    },
    {
     "cell_type": "code",
     "collapsed": false,
     "input": [
      "query_get = \"\"\"\n",
      "SELECT cats.id as id, short_category, display_address, image_url, phone, rating, rating_image_url_large, url, latitude, longitude \n",
      "FROM cats\n",
      "JOIN filtered_yelp\n",
      "ON cats.id = filtered_yelp.id\n",
      "ORDER BY distance\n",
      "LIMIT 6\n",
      "\"\"\"\n",
      "results = []\n",
      "common_groups = []\n",
      "start_loc = 37.524968\n",
      "start_long = -122.2508315\n",
      "cursor.execute(query_close_locations(start_loc, start_long))\n",
      "for category in ['cafes','drugstores','grocery','icecream']:\n",
      "    cursor.execute(query_match_category(category))\n",
      "    cursor.execute(query_get)\n",
      "    initial_length = len(results)\n",
      "    results.extend(cursor.fetchall())\n",
      "    final_length = len(results)\n",
      "    common_groups.append((initial_length + 1, final_length + 1))\n",
      "\n",
      "print common_groups"
     ],
     "language": "python",
     "metadata": {},
     "outputs": [
      {
       "output_type": "stream",
       "stream": "stdout",
       "text": [
        "[(1, 7), (7, 13), (13, 19), (19, 25)]\n"
       ]
      }
     ],
     "prompt_number": 335
    },
    {
     "cell_type": "code",
     "collapsed": false,
     "input": [
      "coordinates = ['{0},{1}'.format(start_loc, start_long)]\n",
      "coordinates.extend('{0},{1}'.format(res[-2],res[-1]) for res in results)"
     ],
     "language": "python",
     "metadata": {},
     "outputs": [],
     "prompt_number": 320
    },
    {
     "cell_type": "code",
     "collapsed": false,
     "input": [
      "distances = mapquest.get_all_to_all_matrix(coordinates)\n",
      "distances = np.array(distances)"
     ],
     "language": "python",
     "metadata": {},
     "outputs": [],
     "prompt_number": 312
    },
    {
     "cell_type": "code",
     "collapsed": false,
     "input": [
      "common_groups = [range(*group) for group in common_groups]\n",
      "print common_groups"
     ],
     "language": "python",
     "metadata": {},
     "outputs": [
      {
       "output_type": "stream",
       "stream": "stdout",
       "text": [
        "[[1, 2, 3, 4, 5, 6], [7, 8, 9, 10, 11, 12], [13, 14, 15, 16, 17, 18], [19, 20, 21, 22, 23, 24]]\n"
       ]
      }
     ],
     "prompt_number": 313
    },
    {
     "cell_type": "code",
     "collapsed": false,
     "input": [
      "finder.get_fastest_path(distances, common_groups, start = 0, stop = 0)"
     ],
     "language": "python",
     "metadata": {},
     "outputs": [
      {
       "metadata": {},
       "output_type": "pyout",
       "prompt_number": 314,
       "text": [
        "(4.165, (7, 13, 19, 1))"
       ]
      }
     ],
     "prompt_number": 314
    },
    {
     "cell_type": "code",
     "collapsed": false,
     "input": [
      "start_loc = 37.524968\n",
      "start_long = -122.2508315\n",
      "cursor.execute(query_close_locations(start_loc , start_long))"
     ],
     "language": "python",
     "metadata": {},
     "outputs": [
      {
       "metadata": {},
       "output_type": "pyout",
       "prompt_number": 338,
       "text": [
        "0"
       ]
      }
     ],
     "prompt_number": 338
    },
    {
     "cell_type": "code",
     "collapsed": false,
     "input": [],
     "language": "python",
     "metadata": {},
     "outputs": []
    }
   ],
   "metadata": {}
  }
 ]
}