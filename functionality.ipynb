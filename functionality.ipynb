{
 "metadata": {
  "name": "",
  "signature": "sha256:7b1e8547edbad649e6ae55cfd4a31c67272bfb57caeb189a67c4bb2ff6e27d9a"
 },
 "nbformat": 3,
 "nbformat_minor": 0,
 "worksheets": [
  {
   "cells": [
    {
     "cell_type": "code",
     "collapsed": false,
     "input": [
      "import pymysql\n",
      "import pandas as pd\n",
      "from access_keys import access_keys\n",
      "import mapquest_api\n",
      "mapquest = mapquest_api.mapquest_api()\n",
      "import numpy as np"
     ],
     "language": "python",
     "metadata": {},
     "outputs": [],
     "prompt_number": 276
    },
    {
     "cell_type": "code",
     "collapsed": false,
     "input": [
      "conn = pymysql.connect(host='localhost', user='root')\n",
      "# conn = pymysql.connect(host='insight.clzrh9aax7lr.us-east-1.rds.amazonaws.com', user='michaelramm', passwd = access_keys.amazon_rds_password)\n",
      "cursor = conn.cursor()\n",
      "cursor.execute(\"\"\"USE Insight;\"\"\")"
     ],
     "language": "python",
     "metadata": {},
     "outputs": [
      {
       "metadata": {},
       "output_type": "pyout",
       "prompt_number": 120,
       "text": [
        "0"
       ]
      }
     ],
     "prompt_number": 120
    },
    {
     "cell_type": "code",
     "collapsed": false,
     "input": [
      "def query_close_locations(latitde, longitude):\n",
      "    \"\"\"\n",
      "    returns the query to create the filtered_yelp table with locations close to the provided coordinates\n",
      "    \"\"\"\n",
      "    return \"\"\"\n",
      "    CREATE OR REPLACE VIEW filtered_yelp AS\n",
      "    SELECT *, SQRT(POW((latitude - {0}),2) + POW((longitude - {1}),2)) as distance\n",
      "    FROM yelp\n",
      "    WHERE rating >= 3.5\n",
      "    \"\"\".format(latitde, longitude)"
     ],
     "language": "python",
     "metadata": {},
     "outputs": [],
     "prompt_number": 154
    },
    {
     "cell_type": "code",
     "collapsed": false,
     "input": [
      "def query_match_category(category):\n",
      "    return \"\"\"\n",
      "    CREATE OR REPLACE VIEW cats AS\n",
      "    SELECT id, short_category\n",
      "    FROM categories\n",
      "    WHERE short_category = '{}'\n",
      "    \"\"\".format(category)"
     ],
     "language": "python",
     "metadata": {},
     "outputs": [],
     "prompt_number": 215
    },
    {
     "cell_type": "code",
     "collapsed": false,
     "input": [
      "query_get = \"\"\"\n",
      "SELECT cats.id as id, short_category, display_address, image_url, phone, rating, rating_image_url_large, url, latitude, longitude \n",
      "FROM cats\n",
      "JOIN filtered_yelp\n",
      "ON cats.id = filtered_yelp.id\n",
      "ORDER BY distance\n",
      "LIMIT 6\n",
      "\"\"\"\n",
      "results = []\n",
      "start_loc = 37.524968\n",
      "start_long = -122.2508315\n",
      "cursor.execute(query_close_locations(start_loc, start_long))\n",
      "for category in ['cafes','drugstores','grocery','icecream']:\n",
      "    cursor.execute(query_match_category(category))\n",
      "    cursor.execute(query_get)\n",
      "    results.extend(cursor.fetchall())"
     ],
     "language": "python",
     "metadata": {},
     "outputs": [],
     "prompt_number": 260
    },
    {
     "cell_type": "code",
     "collapsed": false,
     "input": [
      "coordinates = ['{0},{1}'.format(res[-2],res[-1]) for res in results]"
     ],
     "language": "python",
     "metadata": {},
     "outputs": [],
     "prompt_number": 268
    },
    {
     "cell_type": "code",
     "collapsed": false,
     "input": [
      "distances = mapquest.get_all_to_all_matrix(coordinates)"
     ],
     "language": "python",
     "metadata": {},
     "outputs": [],
     "prompt_number": 272
    },
    {
     "cell_type": "code",
     "collapsed": false,
     "input": [
      "print distances"
     ],
     "language": "python",
     "metadata": {},
     "outputs": [
      {
       "output_type": "stream",
       "stream": "stdout",
       "text": [
        "[[0, 2.488, 6.552, 3.343, 5.488, 5.127, 0.672, 2.224, 5.115, 3.437, 5.43, 5.345, 0.672, 1.726, 1.41, 1.246, 1.547, 1.655, 1.33, 1.604, 2.059, 2.454, 4.775, 2.417], [2.616, 0, 7.994, 0.851, 6.929, 6.569, 2.582, 2.47, 6.557, 3.682, 6.872, 6.786, 2.582, 1.629, 1.656, 1.28, 0.957, 0.85, 1.33, 0.9, 2.323, 2.522, 6.216, 0.149], [6.383, 8.005, 0, 8.726, 5.082, 4.088, 7.236, 5.611, 2.567, 5.032, 2.117, 1.207, 7.236, 6.933, 6.927, 6.763, 7.064, 7.171, 6.846, 7.12, 5.67, 5.663, 2.806, 7.933], [3.539, 0.853, 8.792, 0, 7.728, 7.368, 3.504, 3.126, 7.355, 4.339, 7.671, 7.585, 3.504, 2.356, 2.312, 2.148, 1.823, 1.715, 1.987, 1.766, 3.037, 3.178, 7.015, 0.893], [3.664, 5.286, 4.182, 6.007, 0, 0.753, 4.518, 2.893, 2.745, 2.037, 2.725, 2.975, 4.518, 4.214, 4.208, 4.044, 4.345, 4.453, 4.128, 4.402, 2.951, 2.944, 2.405, 5.214], [4.036, 5.658, 4.263, 6.379, 0.742, 0, 4.889, 3.264, 2.663, 2.313, 2.354, 3.056, 4.889, 4.586, 4.58, 4.416, 4.717, 4.824, 4.499, 4.773, 3.323, 3.316, 2.797, 5.586], [0.783, 2.602, 6.263, 3.456, 5.199, 4.838, 0, 2.098, 4.826, 3.186, 5.141, 5.056, 0.01, 1.84, 1.524, 1.36, 1.661, 1.768, 1.443, 1.717, 2.157, 2.15, 4.486, 2.53], [1.948, 2.392, 5.84, 3.126, 3.308, 3.315, 2.327, 0, 4.404, 1.437, 4.719, 4.633, 2.327, 1.374, 0.911, 1.135, 1.436, 1.544, 1.219, 1.493, 0.461, 0.052, 4.063, 2.321], [4.666, 6.288, 2.247, 7.01, 3.705, 2.371, 5.52, 3.895, 0, 3.315, 1.898, 1.898, 5.52, 5.216, 5.21, 5.046, 5.347, 5.455, 5.13, 5.404, 3.953, 3.947, 0.673, 6.217], [2.671, 3.45, 4.863, 5.027, 2.198, 2.205, 3.537, 1.057, 3.427, 0, 3.863, 3.656, 3.537, 2.432, 1.969, 2.193, 2.494, 2.601, 2.276, 2.55, 1.226, 1.109, 3.086, 3.378], [4.594, 6.216, 2.263, 6.937, 3.434, 2.061, 5.448, 3.823, 1.637, 3.243, 0, 1.056, 5.448, 5.144, 5.138, 4.974, 5.275, 5.383, 5.058, 5.332, 3.881, 3.874, 1.735, 6.144], [5.175, 6.797, 1.207, 7.518, 3.875, 2.88, 6.029, 4.404, 2.218, 3.824, 0.909, 0, 6.029, 5.725, 5.719, 5.555, 5.856, 5.964, 5.639, 5.913, 4.462, 4.455, 2.316, 6.726], [0.783, 2.602, 6.263, 3.456, 5.199, 4.838, 0.01, 2.098, 4.826, 3.186, 5.141, 5.056, 0, 1.84, 1.524, 1.36, 1.661, 1.768, 1.443, 1.717, 2.157, 2.15, 4.486, 2.53], [0.987, 1.68, 6.364, 2.548, 5.3, 4.94, 0.953, 1.475, 4.927, 2.688, 5.243, 5.157, 0.953, 0, 0.593, 0.43, 0.731, 0.838, 0.513, 0.787, 1.303, 1.527, 4.587, 1.609], [1.736, 1.767, 6.43, 2.5, 3.897, 3.904, 1.701, 0.814, 4.993, 2.027, 5.308, 5.222, 1.701, 0.749, 0, 0.51, 0.811, 0.918, 0.593, 0.867, 0.751, 0.866, 4.652, 1.695], [1.374, 1.28, 6.752, 2.139, 5.687, 5.327, 1.34, 1.158, 5.315, 2.37, 5.63, 5.544, 1.34, 0.387, 0.344, 0, 0.322, 0.43, 0.232, 0.379, 1.081, 1.209, 4.974, 1.333], [1.675, 0.957, 7.053, 1.815, 5.988, 5.628, 1.641, 1.452, 5.616, 2.664, 5.931, 5.845, 1.641, 0.688, 0.638, 0.322, 0, 0.107, 0.533, 0.057, 1.382, 1.504, 5.275, 1.01], [1.783, 0.85, 7.16, 1.708, 6.096, 5.735, 1.748, 1.559, 5.723, 2.772, 6.038, 5.953, 1.748, 0.796, 0.745, 0.43, 0.107, 0, 0.64, 0.051, 1.489, 1.611, 5.383, 0.903], [1.513, 1.177, 6.89, 2.042, 5.826, 5.465, 1.478, 1.296, 5.453, 2.509, 5.768, 5.683, 1.478, 0.526, 0.482, 0.16, 0.22, 0.327, 0, 0.277, 1.219, 1.348, 5.113, 1.236], [1.732, 0.9, 7.109, 1.759, 6.045, 5.684, 1.697, 1.509, 5.672, 2.721, 5.987, 5.902, 1.697, 0.745, 0.695, 0.379, 0.057, 0.051, 0.589, 0, 1.438, 1.56, 5.332, 0.954], [1.796, 2.322, 5.688, 3.807, 3.251, 4.263, 2.152, 0.293, 4.251, 1.381, 4.566, 4.481, 2.152, 1.199, 1.244, 1.08, 1.381, 1.489, 1.173, 1.438, 0, 0.345, 3.911, 2.25], [1.897, 2.341, 5.789, 3.074, 3.256, 3.263, 2.275, 0.173, 4.352, 1.386, 4.667, 4.581, 2.275, 1.323, 0.86, 1.084, 1.385, 1.492, 1.167, 1.441, 0.409, 0, 4.011, 2.269], [4.655, 6.277, 2.235, 6.998, 3.693, 2.36, 5.508, 3.883, 0.329, 3.304, 1.887, 1.886, 5.508, 5.205, 5.198, 5.035, 5.336, 5.443, 5.118, 5.392, 3.942, 3.935, 0, 6.205], [2.752, 0.136, 8.979, 0.805, 7.914, 7.554, 2.718, 2.716, 7.542, 3.929, 7.857, 7.771, 2.718, 1.765, 1.902, 1.415, 1.093, 0.985, 1.577, 1.036, 2.458, 2.768, 7.201, 0]]\n"
       ]
      }
     ],
     "prompt_number": 279
    },
    {
     "cell_type": "code",
     "collapsed": false,
     "input": [],
     "language": "python",
     "metadata": {},
     "outputs": []
    }
   ],
   "metadata": {}
  }
 ]
}